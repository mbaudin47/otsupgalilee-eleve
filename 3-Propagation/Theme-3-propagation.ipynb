{
 "cells": [
  {
   "cell_type": "markdown",
   "metadata": {},
   "source": [
    "# Thème 3 - propagation des incertitudes\n",
    "\n",
    "## Introduction\n",
    "\n",
    "L'objectif de cette séquence est de réaliser la propagation des incertitudes depuis les entrées vers les sorties. Dans la méthodologie générique de traitement des incertitudes, c'est l'étape C.\n",
    "\n",
    "## Vue d'ensemble\n",
    "\n",
    "- Rappels de cours -  Estimer la tendance centrale : Estimer-tendance-centrale-Cours.ipynb\n",
    "- Exercice - Estimer la tendance centrale dans le cas de la poutre en flexion : Tendance-centrale-cantilever-beam.ipynb\n",
    "- Rappels de cours : Estimer-probabilité-Cours.ipynb\n",
    "- Exercice - Estimer une probabilité de dépassement de seuil dans le cas de la poutre en flexion : Probabilité-cantilever-beam.ipynb\n",
    "- Devoir à la maison : 2-Quantification/Exercice-convolution-axial-stressed-beam.ipynb"
   ]
  }
 ],
 "metadata": {
  "kernelspec": {
   "display_name": "Python 3",
   "language": "python",
   "name": "python3"
  },
  "language_info": {
   "codemirror_mode": {
    "name": "ipython",
    "version": 3
   },
   "file_extension": ".py",
   "mimetype": "text/x-python",
   "name": "python",
   "nbconvert_exporter": "python",
   "pygments_lexer": "ipython3",
   "version": "3.8.6"
  }
 },
 "nbformat": 4,
 "nbformat_minor": 2
}
