{
 "cells": [
  {
   "cell_type": "markdown",
   "metadata": {},
   "source": [
    "# Estimer une probabilité de dépassement de seuil - Application au cas de la poutre en flexion\n"
   ]
  },
  {
   "cell_type": "markdown",
   "metadata": {},
   "source": [
    "## Déviation  verticale d'une poutre encastrée\n",
    "\n",
    "We consider a cantilever beam defined by its Young’s modulus $E$, its length $L$ and its section modulus $I$. One end is built in a wall and we apply a concentrated bending load $F$ at the other end of the beam, resulting in a vertical deviation $Y$.\n",
    "\n",
    "<img src=\"poutre.png\" width=\"200\">\n",
    "\n",
    "**Figure 1.** Vertical deviation $Y$ of the cantilever beam of length $L$.\n",
    "\n",
    "**Inputs:**\n",
    "\n",
    "* $E$ : Young modulus (Pa)\n",
    "* $F$ : Loading (N),\n",
    "* $L$ : Length of beam (cm),\n",
    "* $I$ : Moment of inertia (cm^4).\n",
    "\n",
    "|Variable|  Distribution|\n",
    "| ------------- |-------------|\n",
    "|E| Beta(alpha = 0.9, beta = 2.2, a = $2.5\\times 10^7$, $b = 5\\times 10^7$) |\n",
    "|F| Lognormal($\\mu_F=3 \\times 10^4$, $\\sigma_F=9\\times 10^3$, shift=$15\\times 10^3$)|\n",
    "|L| Uniform(min=250.0, max= 260.0)|\n",
    "|I| Beta(alpha = 2.5, beta = 1.5, a = 310, b = 450)|\n",
    "\n",
    "**Table 1.** Marginal distributions of the variables E, F, L and I.\n",
    "\n",
    "In the previous table $\\mu_F = \\mathbb{E}[F]$ and $\\sigma_F=\\sqrt{\\operatorname{Var}(F)}$ are the mean and the standard deviation of $F$.\n",
    "\n",
    "The input variables are supposed to be independent.\n",
    "\n",
    "**Output**\n",
    "\n",
    "The vertical displacement at free end of the cantilever beam is:\n",
    "$$\n",
    "Y  = \\dfrac{F\\, L^3}{3 \\, E \\, I}\n",
    "$$\n",
    "\n",
    "**Quantity of interest**\n",
    "\n",
    "It is considered that failure occurs when the beam deviation is greater than 30 cm:\n",
    "$$\n",
    "Y \\geq 30 \\textrm{ (cm)}\n",
    "$$\n",
    "We are interested in the probability:\n",
    "$$\n",
    "p_f = \\mathbb{P}(Y\\geq 30).\n",
    "$$\n",
    "\n",
    "**Reference value**\n",
    "\n",
    "With a Monte-Carlo sample size equal to 7 120 000, we get:\n",
    "$$\n",
    "\\widehat{p}_f = 0.005590.\n",
    "$$\n",
    "The 95% confidence interval of the probability of failure is:\n",
    "$$\n",
    "\\mathbb{P}([0.005536,0.005645]\\ni p_f)=0.95.\n",
    "$$"
   ]
  },
  {
   "cell_type": "markdown",
   "metadata": {},
   "source": [
    "# Model definition"
   ]
  },
  {
   "cell_type": "code",
   "execution_count": 1,
   "metadata": {},
   "outputs": [],
   "source": [
    "import openturns as ot\n",
    "import openturns.viewer as otv\n",
    "import numpy as np\n",
    "import math"
   ]
  },
  {
   "cell_type": "code",
   "execution_count": 2,
   "metadata": {},
   "outputs": [],
   "source": [
    "dist_E = ot.Beta(0.9, 2.2, 2.8e7, 4.8e7)\n",
    "dist_E.setDescription([\"E\"])\n",
    "F_para = ot.LogNormalMuSigma(3.0e4, 9.0e3, 15.0e3)  # in N\n",
    "dist_F = ot.ParametrizedDistribution(F_para)\n",
    "dist_F.setDescription([\"F\"])\n",
    "dist_L = ot.Uniform(250.0, 260.0)  # in cm\n",
    "dist_L.setDescription([\"L\"])\n",
    "dist_I = ot.Beta(2.5, 1.5, 310.0, 450.0)  # in cm^4\n",
    "dist_I.setDescription([\"I\"])\n",
    "\n",
    "X = ot.JointDistribution([dist_E, dist_F, dist_L, dist_I])"
   ]
  },
  {
   "cell_type": "code",
   "execution_count": 3,
   "metadata": {},
   "outputs": [],
   "source": [
    "g = ot.SymbolicFunction([\"E\", \"F\", \"L\", \"I\"], [\"F * L^3 /  (3 * E * I)\"])\n",
    "g.setOutputDescription([\"Y (cm)\"])"
   ]
  },
  {
   "cell_type": "markdown",
   "metadata": {},
   "source": [
    "Pour pouvoir exploiter au mieux les simulations, nous équipons la fonction d'un méchanisme d'historique."
   ]
  },
  {
   "cell_type": "code",
   "execution_count": 4,
   "metadata": {},
   "outputs": [],
   "source": [
    "g = ot.MemoizeFunction(g)"
   ]
  },
  {
   "cell_type": "markdown",
   "metadata": {},
   "source": [
    "Enfin, nous définissons le vecteur aléatoire de sortie."
   ]
  },
  {
   "cell_type": "code",
   "execution_count": 5,
   "metadata": {},
   "outputs": [],
   "source": [
    "XRV = ot.RandomVector(X)\n",
    "Y = ot.CompositeRandomVector(g, XRV)\n",
    "Y.setDescription([\"Y (cm)\"])"
   ]
  },
  {
   "cell_type": "markdown",
   "metadata": {},
   "source": [
    "## Par Monte-Carlo simple avec un budget fixé\n",
    "\n",
    "La manière la plus simple de faire une telle étude consiste à fixer le nombre de simulations à l'avance. En d'autres termes, on fixe $n$ et on génère un échantillon de la variable de sortie $Y$ de taille $n$. C'est la méthode « classique »."
   ]
  },
  {
   "cell_type": "code",
   "execution_count": 6,
   "metadata": {
    "scrolled": false
   },
   "outputs": [
    {
     "data": {
      "image/png": "[encoded data removed]",
      "text/plain": [
       "<Figure size 400x300 with 1 Axes>"
      ]
     },
     "metadata": {},
     "output_type": "display_data"
    }
   ],
   "source": [
    "n = 10000\n",
    "Ysample = Y.getSample(n)\n",
    "\n",
    "graph = ot.HistogramFactory().build(Ysample).drawPDF()\n",
    "graph.setXTitle(\"Y (cm)\")\n",
    "graph.setLegends([\"\"])\n",
    "view = otv.View(graph, figure_kw={\"figsize\": (4.0, 3.0)})"
   ]
  },
  {
   "cell_type": "markdown",
   "metadata": {},
   "source": [
    "La probabilité recherchée peut être calculée en évaluant la fonction de répartition complémentaire de l'échantillon car $\\mathbb{P}(Y> 30) = 1 - \\mathbb{P}(Y\\leq 30)$."
   ]
  },
  {
   "cell_type": "code",
   "execution_count": 7,
   "metadata": {},
   "outputs": [
    {
     "data": {
      "text/plain": [
       "0.0068"
      ]
     },
     "execution_count": 7,
     "metadata": {},
     "output_type": "execute_result"
    }
   ],
   "source": [
    "pf_hat = Ysample.computeEmpiricalCDF([30.0], True)\n",
    "pf_hat"
   ]
  },
  {
   "cell_type": "markdown",
   "metadata": {},
   "source": [
    "On peut calculer l'écart-type de la loi gaussienne asymptotique associée à l'estimateur empirique."
   ]
  },
  {
   "cell_type": "code",
   "execution_count": 8,
   "metadata": {},
   "outputs": [
    {
     "data": {
      "text/plain": [
       "0.0008218126307133518"
      ]
     },
     "execution_count": 8,
     "metadata": {},
     "output_type": "execute_result"
    }
   ],
   "source": [
    "alpha = 0.05\n",
    "\n",
    "sigmapf = math.sqrt(pf_hat * (1.0 - pf_hat) / n)\n",
    "sigmapf"
   ]
  },
  {
   "cell_type": "markdown",
   "metadata": {},
   "source": [
    "On peut ensuite définir la loi gaussienne en utilisant la classe `Normal`."
   ]
  },
  {
   "cell_type": "code",
   "execution_count": 9,
   "metadata": {},
   "outputs": [
    {
     "data": {
      "text/html": [
       "Normal\n",
       "<ul>\n",
       "  <li>name=Normal</li>\n",
       "  <li>dimension=1</li>\n",
       "  <li>weight=1</li>\n",
       "  <li>range=]-inf (0.000512617), (0.0130874) +inf[</li>\n",
       "  <li>description=[X0]</li>\n",
       "  <li>isParallel=true</li>\n",
       "  <li>isCopula=false</li>\n",
       "</ul>\n"
      ],
      "text/plain": [
       "class=Normal name=Normal dimension=1 mean=class=Point name=Unnamed dimension=1 values=[0.0068] sigma=class=Point name=Unnamed dimension=1 values=[0.000821813] correlationMatrix=class=CorrelationMatrix dimension=1 implementation=class=MatrixImplementation name=Unnamed rows=1 columns=1 values=[1]"
      ]
     },
     "execution_count": 9,
     "metadata": {},
     "output_type": "execute_result"
    }
   ],
   "source": [
    "pf_dist = ot.Normal(pf_hat, sigmapf)\n",
    "pf_dist"
   ]
  },
  {
   "cell_type": "markdown",
   "metadata": {},
   "source": [
    "La variable `bounds` est un `Interval`. Pour récupérer ses bornes, on peut utiliser `getLowerBound` et `getUpperBound`."
   ]
  },
  {
   "cell_type": "code",
   "execution_count": 10,
   "metadata": {},
   "outputs": [
    {
     "name": "stdout",
     "output_type": "stream",
     "text": [
      "95.00% confidence interval = [0.005189,0.008411]\n"
     ]
    }
   ],
   "source": [
    "bounds = pf_dist.computeBilateralConfidenceInterval(1.0 - alpha)\n",
    "lb = bounds.getLowerBound()[0]\n",
    "up = bounds.getUpperBound()[0]\n",
    "print(\"%.2f%% confidence interval = [%f,%f]\" % ((1.0 - alpha) * 100, lb, up))"
   ]
  },
  {
   "cell_type": "code",
   "execution_count": 11,
   "metadata": {},
   "outputs": [
    {
     "data": {
      "image/png": "[encoded data removed]",
      "text/plain": [
       "<Figure size 400x300 with 1 Axes>"
      ]
     },
     "metadata": {},
     "output_type": "display_data"
    }
   ],
   "source": [
    "graph = pf_dist.drawPDF()\n",
    "graph.setXTitle(\"Pf estimate\")\n",
    "graph.setTitle(\"Asymptotic Pf estimate\")\n",
    "graph.setLegends([\"\"])\n",
    "view = otv.View(graph, figure_kw={\"figsize\": (4.0, 3.0)})"
   ]
  },
  {
   "cell_type": "markdown",
   "metadata": {},
   "source": [
    "## Par Monte-Carlo avec un algorithme itératif\n",
    "\n",
    "La classe `ProbabilitySimulationAlgorithm` permet de calculer une probabilité avec une précision fixée par l'utilisateur en utilisant la taille d'échantillon $n$ la plus petite possible. C'est la méthode « moderne ».\n",
    "\n",
    "Il y a deux boucles imbriquées : la boucle externe sur `maximumOuterSampling` et la boucle interne sur `blockSize`.\n",
    "L'implémentation suivante empêcherait toute parallélisation car les évaluations de la fonction `g` sont faites une par une :\n",
    "```python\n",
    "for i in range(maximumOuterSampling):\n",
    "    for j in range(blockSize):\n",
    "        sample = Y.getSample(1)\n",
    "```\n",
    "L'implémentation suivante permet la parallélisation car on peut évaluer plusieurs points à la fois à l'intérieur d'un bloc :\n",
    "```python\n",
    "for i in range(maximumOuterSampling):\n",
    "    sample = Y.getSample(blockSize)\n",
    "```\n",
    "En effet, la méthode `getSample()` est parallèle si la fonction `g` est elle-même parallèle. "
   ]
  },
  {
   "cell_type": "code",
   "execution_count": 12,
   "metadata": {},
   "outputs": [],
   "source": [
    "myEvent = ot.ThresholdEvent(Y, ot.Greater(), 30.0)\n",
    "\n",
    "blocksize = 1000\n",
    "experiment = ot.MonteCarloExperiment()\n",
    "myAlgo = ot.ProbabilitySimulationAlgorithm(myEvent, experiment)\n",
    "myAlgo.setMaximumOuterSampling(10000)\n",
    "myAlgo.setBlockSize(blocksize)\n",
    "myAlgo.setMaximumCoefficientOfVariation(0.01)\n",
    "\n",
    "myAlgo.run()\n",
    "\n",
    "result = myAlgo.getResult()"
   ]
  },
  {
   "cell_type": "markdown",
   "metadata": {},
   "source": [
    "La méthode `getOuterSampling` permet d'obtenir le nombre d'itérations dans la boucle externe. "
   ]
  },
  {
   "cell_type": "code",
   "execution_count": 13,
   "metadata": {},
   "outputs": [
    {
     "data": {
      "text/plain": [
       "1781"
      ]
     },
     "execution_count": 13,
     "metadata": {},
     "output_type": "execute_result"
    }
   ],
   "source": [
    "outersampling = result.getOuterSampling()\n",
    "outersampling"
   ]
  },
  {
   "cell_type": "code",
   "execution_count": 14,
   "metadata": {},
   "outputs": [
    {
     "data": {
      "text/plain": [
       "1781000"
      ]
     },
     "execution_count": 14,
     "metadata": {},
     "output_type": "execute_result"
    }
   ],
   "source": [
    "funccalls = blocksize * outersampling\n",
    "funccalls"
   ]
  },
  {
   "cell_type": "code",
   "execution_count": 15,
   "metadata": {},
   "outputs": [
    {
     "data": {
      "text/plain": [
       "0.005589556428972444"
      ]
     },
     "execution_count": 15,
     "metadata": {},
     "output_type": "execute_result"
    }
   ],
   "source": [
    "pf_hat = result.getProbabilityEstimate()\n",
    "pf_hat"
   ]
  },
  {
   "cell_type": "markdown",
   "metadata": {},
   "source": [
    "La longueur de l'intervalle de confiance permet de déterminer les bornes de l'intervalle.\n",
    "\n",
    "![](pf_length.png)"
   ]
  },
  {
   "cell_type": "code",
   "execution_count": 16,
   "metadata": {
    "scrolled": true
   },
   "outputs": [
    {
     "name": "stdout",
     "output_type": "stream",
     "text": [
      "95.00% confidence interval = [0.005480,0.005699]\n"
     ]
    }
   ],
   "source": [
    "alpha = 0.05\n",
    "\n",
    "pflen = result.getConfidenceLength(1.0 - alpha)\n",
    "print(\n",
    "    \"%.2f%% confidence interval = [%f,%f]\"\n",
    "    % ((1.0 - alpha) * 100, pf_hat - pflen / 2.0, pf_hat + pflen / 2.0)\n",
    ")"
   ]
  },
  {
   "cell_type": "markdown",
   "metadata": {},
   "source": [
    "La méthode `getProbabilityDistribution()` retourne la distribution de l'estimateur de $p_f$."
   ]
  },
  {
   "cell_type": "code",
   "execution_count": 17,
   "metadata": {},
   "outputs": [
    {
     "data": {
      "text/html": [
       "Normal\n",
       "<ul>\n",
       "  <li>name=Normal</li>\n",
       "  <li>dimension=1</li>\n",
       "  <li>weight=1</li>\n",
       "  <li>range=]-inf (0.00516194), (0.00601717) +inf[</li>\n",
       "  <li>description=[X0]</li>\n",
       "  <li>isParallel=true</li>\n",
       "  <li>isCopula=false</li>\n",
       "</ul>\n"
      ],
      "text/plain": [
       "class=Normal name=Normal dimension=1 mean=class=Point name=Unnamed dimension=1 values=[0.00558956] sigma=class=Point name=Unnamed dimension=1 values=[5.58929e-05] correlationMatrix=class=CorrelationMatrix dimension=1 implementation=class=MatrixImplementation name=Unnamed rows=1 columns=1 values=[1]"
      ]
     },
     "execution_count": 17,
     "metadata": {},
     "output_type": "execute_result"
    }
   ],
   "source": [
    "probability_estimate = result.getProbabilityDistribution()\n",
    "probability_estimate"
   ]
  },
  {
   "cell_type": "markdown",
   "metadata": {},
   "source": [
    "On peut en déduire un intervalle de confiance de niveau $1 - \\alpha$. "
   ]
  },
  {
   "cell_type": "code",
   "execution_count": 18,
   "metadata": {},
   "outputs": [
    {
     "name": "stdout",
     "output_type": "stream",
     "text": [
      "95.00% confidence interval:\n",
      "[0.00548001, 0.0056991]\n"
     ]
    }
   ],
   "source": [
    "interval = probability_estimate.computeBilateralConfidenceInterval(1.0 - alpha)\n",
    "print(\"%.2f%% confidence interval:\" % (100.0 * (1.0 - alpha)))\n",
    "print(interval)"
   ]
  },
  {
   "cell_type": "code",
   "execution_count": 19,
   "metadata": {},
   "outputs": [
    {
     "data": {
      "image/png": "[encoded data removed]",
      "text/plain": [
       "<Figure size 400x300 with 1 Axes>"
      ]
     },
     "metadata": {},
     "output_type": "display_data"
    }
   ],
   "source": [
    "graph = myAlgo.drawProbabilityConvergence()\n",
    "graph.setLogScale(ot.GraphImplementation.LOGX)\n",
    "view = otv.View(graph, figure_kw={\"figsize\": (4.0, 3.0)})"
   ]
  },
  {
   "cell_type": "markdown",
   "metadata": {},
   "source": [
    "## Synthèse\n",
    "\n",
    "La table suivante présente les résultats. \n",
    "\n",
    "| Méthode | $\\hat{p}_f$ | $n$ |\n",
    "|---------|-------------|-----|\n",
    "| Monte-Carlo simple   | [0.004050, 0.006950] | 10000 |\n",
    "| Monte-Carlo itératif | [0.005507, 0.005727] | 1773000 |\n",
    "\n",
    "On observe que 10 000 calculs ne sont pas suffisants pour obtenir un chiffre significatif, même si on obtient l'ordre de grandeur de la probabilité. Ce n'est que avec plus d'un millions de simulations que l'on obtient 1 chiffre significatifs. \n",
    "\n",
    "Il y a plusieurs méthodes pour améliorer la situation, en particulier la méthode FORM-SORM, combinée avec le tirage d'importance. "
   ]
  },
  {
   "cell_type": "markdown",
   "metadata": {},
   "source": [
    "## Exercice 1 : sensibilité aux paramètres\n",
    " \n",
    " L'objectif de cet exercice est d'utiliser la classe `ProbabilitySimulationAlgorithm`, de comprendre ses paramètres et interpréter ses résutlats.\n",
    " - Créer une fonction `calculePF` qui prend en argument le seuil `threshold` et le coefficient de variation `coeffofvar`. Dans le corps de la fonction, utiliser la classe `ProbabilitySimulationAlgorithm` et calculer, puis afficher :\n",
    "   - l'estimation probabilité de dépassement de seuil $\\widhat{p}_f$, \n",
    "   - l'intervalle de confiance à 95% et \n",
    "   - le nombre d'appels à la fonction $g$.\n",
    "   \n",
    "Pour vous aider, vous pouvez vous inspirer du squelette suivant, dans lequel vous remplacerez les sections *TODO* par du code Python valide.\n",
    "\n",
    "```python\n",
    "def calculePF(threshold, coeffofvar):\n",
    "    print(\"Seuil = %f, C.V. = %f\" % (threshold, coeffofvar))\n",
    "    myEvent = ot.ThresholdEvent(TODO)\n",
    "    experiment = ot.MonteCarloExperiment()\n",
    "    myAlgo = ot.ProbabilitySimulationAlgorithm(TODO)\n",
    "    myAlgo.setMaximumOuterSampling(TODO)\n",
    "    myAlgo.setBlockSize(TODO)\n",
    "    myAlgo.setMaximumCoefficientOfVariation(TODO)\n",
    "    myAlgo.run()\n",
    "    result = TODO\n",
    "    pf_hat = TODO\n",
    "    alpha = TODO\n",
    "    pflen = result.TODO\n",
    "    outersampling = result.TODO\n",
    "    funccalls = TODO\n",
    "    print(\n",
    "        \"    Outersampling = %d, Nb. function G calls = %d\" % (outersampling, funccalls)\n",
    "    )\n",
    "    print(\"    Pf = %f\" % (pf_hat))\n",
    "    print(\n",
    "        \"    %.2f%% confidence interval = [%f,%f]\"\n",
    "        % ((1 - alpha) * 100, pf_hat - pflen / 2, pf_hat + pflen / 2)\n",
    "    )\n",
    "    return None\n",
    "```\n",
    "\n",
    " - Pour les valeurs du seuil égales à 10, 20 et 30 cm et un coefficient de variation égal à 0.01, utiliser la fonction `calculePF`. Pour interpréter vos résultats, présentez-les dans une table. Qu'observez-vous ? Expliquer le sens physique du résultat. \n",
    " - On considère un seuil égal à s=30 cm. Configurer le coefficient de variation à 0.1, 0.05 et 0.01 et calculer le nombre d'appel à la fonction $g$. Pour interpréter vos résultats, présentez-les dans une table. Qu'observez-vous ? Expliquer pourquoi ce résultat est en lien avec le fonctionnement de l'algorithme."
   ]
  },
  {
   "cell_type": "markdown",
   "metadata": {},
   "source": [
    "## Exercice 2 : probabilité en fonction du seuil\n",
    "\n",
    "L'objectif de cet exercice est d'observer l'évolution de la probabilité lorsque le seuil augmente. Pour cela, on utilise un échantillon de taille fixé. \n",
    "- Créer la variable `Ysample` contenant un échantillon de $Y$ de taille 100000. \n",
    "- Créer la variable `thresholdarray` contenant 10 valeurs de $s$ entre 20 et 50. \n",
    "- Pour chaque valeur de seuil $s$, calculer \n",
    "  - la probabilité de dépassement de seuil,\n",
    "  - la borne inférieure de l'intervalle de confiance,\n",
    "  - la borne supérieure de l'intervalle de confiance.\n",
    "\n",
    "Pour vous aider, vous pouvez vous inspirer du squelette suivante, dans lequel vous remplacerez les sections *TODO* par du code Python valide.\n",
    "\n",
    "```python\n",
    "alpha = 0.05\n",
    "nbthresholds = 10\n",
    "thresholdarray = ot.Sample(np.linspace(20.0, 50.0, nbthresholds), 1)\n",
    "pfarray = ot.Sample(nbthresholds, 1)\n",
    "lbarray = ot.Sample(nbthresholds, 1)\n",
    "ubarray = ot.Sample(nbthresholds, 1)\n",
    "for i in range(nbthresholds):\n",
    "    s = thresholdarray[i, 0]\n",
    "    pf_hat = TODO\n",
    "    pfarray[i, 0] = pf_hat\n",
    "    sigmapf = TODO\n",
    "    pf_dist = TODO\n",
    "    bounds = pf_dist.computeBilateralConfidenceInterval(1 - alpha)\n",
    "    lbarray[i, 0] = bounds.getLowerBound()[0]\n",
    "    ubarray[i, 0] = bounds.getUpperBound()[0]\n",
    "    print(\"s=%f, pf=%f in [%f,%f]\" % (s, pf_hat, lbarray[i, 0], ubarray[i, 0]))\n",
    "```\n",
    "\n",
    "- Créer un graphique réprésentant en abscisse le seuil $s$, et en ordonnée la probabilité de dépassement de seuil et ses bornes inférieures et supérieures.\n",
    "  - Utiliser la méthode `setLogScale` pour dessiner l'axe des ordonnées en échelle logarithmique.\n",
    "  - Qu'observez-vous ? Expliquer-le sur le plan physique et sur le plan probabiliste.\n",
    "- On s'intéresse au coefficient de variation :\n",
    "$$\n",
    "\\operatorname{CV}(\\widehat{p}_f) \n",
    "= \\frac{\\sqrt{\\operatorname{Var}(\\widehat{p}_f)}}{\\left|\\mathbb{E}[\\widehat{p}_f]\\right|}\n",
    "= \\sqrt{\\frac{1 - p_f}{n p_f}}\n",
    "$$\n",
    "si $p_f > 0$ et son estimation :\n",
    "$$\n",
    "\\widehat{\\operatorname{CV}}(\\widehat{p}_f) = \\frac{\\hat{\\sigma}_{p_f}}{\\hat{p}_f}\n",
    "= \\sqrt{\\frac{1 - \\widehat{p}_f}{n \\widehat{p}_f}}\n",
    "$$\n",
    "si $\\hat{p}_f > 0$. \n",
    "Le coefficient de variation représente la précision relative d'estimation de la probabilité $p_f$. \n",
    "  - Pour chaque valeur de seuil $s$, calculer le coefficient de variation approché. Qu'observez-vous ? Pourquoi ?\n",
    "\n",
    "Pour vous aider, vous pouvez vous inspirer du squelette suivante, dans lequel vous remplacerez les sections *TODO* par du code Python valide.\n",
    "\n",
    "```python\n",
    "for i in range(nbthresholds):\n",
    "    s = thresholdarray[i, 0]\n",
    "    pf_hat = TODO\n",
    "    pfarray[i, 0] = pf_hat\n",
    "    sigmapf = TODO\n",
    "    cv = TODO\n",
    "    print(\"s=%f, pf=%f, C.V.=%f\" % (s, pf_hat, cv))\n",
    "```"
   ]
  }
 ],
 "metadata": {
  "kernelspec": {
   "display_name": "Python 3 (ipykernel)",
   "language": "python",
   "name": "python3"
  },
  "language_info": {
   "codemirror_mode": {
    "name": "ipython",
    "version": 3
   },
   "file_extension": ".py",
   "mimetype": "text/x-python",
   "name": "python",
   "nbconvert_exporter": "python",
   "pygments_lexer": "ipython3",
   "version": "3.13.1"
  }
 },
 "nbformat": 4,
 "nbformat_minor": 2
}
