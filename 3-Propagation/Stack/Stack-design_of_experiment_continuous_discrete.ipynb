{
 "cells": [
  {
   "cell_type": "markdown",
   "metadata": {},
   "source": [
    "# Create a design of experiments with discrete and continuous variables\n",
    "\n",
    "Reference:\n",
    "* https://stackoverflow.com/questions/59289822/continuous-and-discrete-variables-with-openturns/59293951#59293951"
   ]
  },
  {
   "cell_type": "markdown",
   "metadata": {},
   "source": [
    "In this example we present a method to create a design of experiments when one (or several) of the marginals are discrete."
   ]
  },
  {
   "cell_type": "code",
   "execution_count": 1,
   "metadata": {},
   "outputs": [],
   "source": [
    "import openturns as ot"
   ]
  },
  {
   "cell_type": "markdown",
   "metadata": {},
   "source": [
    "Create the first marginal. This marginal is discrete with a `UserDefined` distribution."
   ]
  },
  {
   "cell_type": "code",
   "execution_count": 2,
   "metadata": {},
   "outputs": [
    {
     "data": {
      "text/html": [
       "<TABLE><TR><TD></TD><TH>v0</TH></TR>\n",
       "<TR><TH>0</TH><TD>-2</TD></TR>\n",
       "<TR><TH>1</TH><TD>-1</TD></TR>\n",
       "<TR><TH>2</TH><TD>1</TD></TR>\n",
       "<TR><TH>3</TH><TD>2</TD></TR>\n",
       "</TABLE>"
      ],
      "text/plain": [
       "class=Sample name=Unnamed implementation=class=SampleImplementation name=Unnamed size=4 dimension=1 data=[[-2],[-1],[1],[2]]"
      ]
     },
     "execution_count": 2,
     "metadata": {},
     "output_type": "execute_result"
    }
   ],
   "source": [
    "sample = ot.Sample([[x] for x in [-2.0, -1.0, 1.0, 2.0]])\n",
    "sample"
   ]
  },
  {
   "cell_type": "code",
   "execution_count": 3,
   "metadata": {},
   "outputs": [],
   "source": [
    "X0 = ot.UserDefined(sample)"
   ]
  },
  {
   "cell_type": "markdown",
   "metadata": {},
   "source": [
    "Create a second marginal. This marginal is gaussian."
   ]
  },
  {
   "cell_type": "code",
   "execution_count": 4,
   "metadata": {},
   "outputs": [],
   "source": [
    "X1 = ot.Normal()"
   ]
  },
  {
   "cell_type": "markdown",
   "metadata": {},
   "source": [
    "Create the multivariate distribution from its marginals and an independent copula."
   ]
  },
  {
   "cell_type": "code",
   "execution_count": 5,
   "metadata": {},
   "outputs": [],
   "source": [
    "distribution = ot.ComposedDistribution([X0, X1])"
   ]
  },
  {
   "cell_type": "markdown",
   "metadata": {},
   "source": [
    "Create the design."
   ]
  },
  {
   "cell_type": "code",
   "execution_count": 6,
   "metadata": {},
   "outputs": [],
   "source": [
    "size = 100\n",
    "experiment = ot.MonteCarloExperiment(distribution, size)\n",
    "sample = experiment.generate()"
   ]
  },
  {
   "cell_type": "markdown",
   "metadata": {},
   "source": [
    "Plot the design."
   ]
  },
  {
   "cell_type": "code",
   "execution_count": 7,
   "metadata": {},
   "outputs": [
    {
     "data": {
      "image/png": "[encoded data removed]",
      "text/plain": [
       "class=Graph name=MonteCarloExperiment implementation=class=GraphImplementation name=MonteCarloExperiment title=MonteCarloExperiment xTitle=x0 yTitle=x1 axes=ON grid=ON legendposition= legendFontSize=1 drawables=[class=Drawable name=Unnamed implementation=class=Cloud name=Unnamed derived from class=DrawableImplementation name=Unnamed legend= data=class=Sample name=ComposedDistribution implementation=class=SampleImplementation name=ComposedDistribution size=100 dimension=2 description=[v0,X0] data=[[-2,0.00413162],[-2,2.6562],[-1,0.270297],[2,0.449078],[-2,1.32742],[1,0.546244],[-1,0.30214],[-2,-0.60771],[-1,0.0909411],[-2,-0.865828],[-1,1.19839],[2,-0.0361958],[-2,-0.980263],[-2,-1.00308],[-2,-0.250602],[-2,-0.204413],[2,-1.1613],[2,-1.10178],[1,-0.792623],[2,-1.45138],[-1,0.098328],[-1,-0.735837],[2,1.48025],[1,0.719079],[2,-1.80012],[1,-0.520973],[1,-0.0252317],[2,0.899794],[-2,0.257652],[2,-0.59333],[2,0.245849],[-2,-0.487845],[-2,0.23423],[-2,0.682265],[-1,-0.29389],[2,0.860012],[2,-2.68674],[-2,1.51149],[1,1.02765],[-1,-1.23384],[-1,0.127792],[-1,0.945496],[-1,1.02385],[-1,-0.069534],[-2,0.477728],[1,0.545467],[2,-0.56378],[-1,-0.617868],[2,-0.445931],[-1,-0.564637],[-2,-2.01027],[-1,0.0328794],[-1,2.51464],[-1,-0.901581],[-1,-1.51696],[-1,-1.29938],[-2,0.230372],[-1,-3.09737],[2,0.01323],[-1,-1.25743],[-2,1.02776],[1,-0.766431],[-1,0.217512],[2,1.04533],[2,0.331569],[-2,-0.488205],[2,-0.465482],[-2,0.332084],[2,-0.167726],[2,3.01263],[-2,0.94204],[-1,0.61189],[-2,0.611715],[1,-1.5375],[-1,-2.4067],[2,0.662936],[1,-0.65616],[1,-0.751611],[-1,0.438177],[2,-0.455335],[-2,1.86038],[-2,0.219721],[-2,1.72546],[2,-0.543405],[2,-0.736749],[-2,-0.508206],[1,-2.25867],[-2,-0.5964],[-2,-0.31468],[-1,-1.78274],[2,-0.684734],[-1,0.0611157],[-2,0.87372],[-1,-1.46295],[2,-0.318786],[1,1.26314],[-2,-0.426726],[2,-1.89234],[1,-0.514391],[-1,0.647229]] color=blue fillStyle=solid lineStyle=solid pointStyle=fsquare lineWidth=1]"
      ]
     },
     "execution_count": 7,
     "metadata": {},
     "output_type": "execute_result"
    }
   ],
   "source": [
    "graph = ot.Graph(\"MonteCarloExperiment\", \"x0\", \"x1\", True, \"\")\n",
    "cloud = ot.Cloud(sample, \"blue\", \"fsquare\", \"\")\n",
    "graph.add(cloud)\n",
    "graph"
   ]
  },
  {
   "cell_type": "markdown",
   "metadata": {},
   "source": [
    "In fact, any other type of design of experiments can be generated. The following example shows a LHS experiment."
   ]
  },
  {
   "cell_type": "code",
   "execution_count": 8,
   "metadata": {},
   "outputs": [],
   "source": [
    "size = 100\n",
    "alwaysShuffle = True\n",
    "randomShift = True\n",
    "experiment = ot.LHSExperiment(distribution, size, alwaysShuffle, randomShift)\n",
    "sample = experiment.generate()"
   ]
  },
  {
   "cell_type": "code",
   "execution_count": 9,
   "metadata": {},
   "outputs": [
    {
     "data": {
      "image/png": "[encoded data removed]",
      "text/plain": [
       "class=Graph name=LHSExperiment implementation=class=GraphImplementation name=LHSExperiment title=LHSExperiment xTitle=x0 yTitle=x1 axes=ON grid=ON legendposition= legendFontSize=1 drawables=[class=Drawable name=Unnamed implementation=class=Cloud name=Unnamed derived from class=DrawableImplementation name=Unnamed legend= data=class=Sample name=Unnamed implementation=class=SampleImplementation name=Unnamed size=100 dimension=2 description=[v0,X0] data=[[-2,-0.144538],[-2,1.64684],[-1,0.858947],[1,0.432335],[1,0.0192448],[1,-1.79546],[1,-0.151671],[1,2.76631],[-2,-0.102719],[1,1.11333],[2,0.733422],[-2,-1.91152],[-2,-0.0476581],[2,-0.763789],[-2,1.19289],[2,0.354632],[-2,0.280359],[1,-0.532477],[1,-0.385362],[-1,1.01351],[1,-0.223299],[-2,0.785818],[-1,0.162757],[-2,-0.931728],[2,-1.42655],[-2,-0.436668],[1,-1.10313],[-1,0.220441],[1,-0.240703],[2,-1.01459],[1,-1.38302],[1,-1.21767],[-2,-0.460092],[1,-1.27976],[1,-0.885904],[2,-2.26494],[2,0.235766],[1,0.0255401],[-2,0.672287],[1,-0.0563505],[2,-0.682073],[1,-0.284564],[-1,0.106995],[-2,2.27718],[2,0.989895],[-1,1.15629],[-2,1.8733],[2,-0.0939797],[-1,1.28079],[-2,-0.376741],[-2,-1.05097],[2,0.326082],[-2,0.886154],[1,1.28172],[-2,1.5561],[1,-1.3317],[-2,-0.0208517],[-2,0.146488],[-1,-0.265896],[-1,-0.500241],[1,0.185144],[2,-0.6578],[-1,2.02226],[2,0.83133],[2,-0.356116],[-2,0.363158],[-2,-0.469253],[-1,1.41854],[2,-1.13798],[-1,0.770154],[2,-0.729431],[2,-0.634263],[2,0.266101],[-2,0.939142],[1,-0.838944],[-2,-0.985592],[2,-0.20121],[-1,-0.851032],[-1,-0.601432],[-1,1.06248],[2,-0.312884],[2,0.555072],[2,0.531389],[-1,0.620669],[-2,0.398444],[-1,0.604487],[1,0.488432],[1,1.53299],[1,-1.53573],[-1,-1.58077],[-1,0.705901],[-1,-1.69308],[-1,1.38549],[-1,0.0771083],[-1,0.517319],[2,-0.773623],[-1,0.0590901],[2,-2.68632],[2,0.460697],[-1,-0.554135]] color=blue fillStyle=solid lineStyle=solid pointStyle=fsquare lineWidth=1]"
      ]
     },
     "execution_count": 9,
     "metadata": {},
     "output_type": "execute_result"
    }
   ],
   "source": [
    "graph = ot.Graph(\"LHSExperiment\", \"x0\", \"x1\", True, \"\")\n",
    "cloud = ot.Cloud(sample, \"blue\", \"fsquare\", \"\")\n",
    "graph.add(cloud)\n",
    "graph"
   ]
  }
 ],
 "metadata": {
  "kernelspec": {
   "display_name": "Python 3",
   "language": "python",
   "name": "python3"
  },
  "language_info": {
   "codemirror_mode": {
    "name": "ipython",
    "version": 3
   },
   "file_extension": ".py",
   "mimetype": "text/x-python",
   "name": "python",
   "nbconvert_exporter": "python",
   "pygments_lexer": "ipython3",
   "version": "3.8.6"
  }
 },
 "nbformat": 4,
 "nbformat_minor": 1
}
