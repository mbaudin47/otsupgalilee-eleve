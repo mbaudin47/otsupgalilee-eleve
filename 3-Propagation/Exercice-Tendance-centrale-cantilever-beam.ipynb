{
 "cells": [
  {
   "cell_type": "markdown",
   "metadata": {},
   "source": [
    "# Estimer la tendance centrale sur le cas de la poutre en flexion\n"
   ]
  },
  {
   "cell_type": "markdown",
   "metadata": {},
   "source": [
    "## Déviation  verticale d'une poutre encastrée\n",
    "\n",
    "We consider a cantilever beam defined by its Young’s modulus $E$, its length $L$ and its section modulus $I$. One end is built in a wall and we apply a concentrated bending load $F$ at the other end of the beam, resulting in a vertical deviation $Y$.\n",
    "\n",
    "<img src=\"poutre.png\" width=\"200\">\n",
    "\n",
    "**Inputs**\n",
    "\n",
    "* $E$ : Young modulus (Pa)\n",
    "* $F$ : Loading (N),\n",
    "* $L$ : Length of beam (cm),\n",
    "* $I$ : Moment of inertia (cm^4).\n",
    "\n",
    "|Variable|  Distribution|\n",
    "| ------------- |-------------|\n",
    "|E| Beta(alpha = 0.9, beta = 2.2, a = $2.5\\times 10^7$, $b = 5\\times 10^7$) |\n",
    "|F| Lognormal($\\mu_F=3 \\times 10^4$, $\\sigma_F=9\\times 10^3$, shift=$15\\times 10^3$)|\n",
    "|L| Uniform(min=250.0, max= 260.0)|\n",
    "|I| Beta(alpha = 2.5, beta = 1.5, a = 310, b = 450)|\n",
    "\n",
    "In the previous table $\\mu_F = \\mathbb{E}(F)$ and $\\sigma_F = \\sqrt{\\mathbb{V}(F)}$ are the mean and the standard deviation of $F$.\n",
    "\n",
    "The input variables are supposed to be independent.\n",
    "\n",
    "**Output**\n",
    "\n",
    "The vertical displacement at free end of the cantilever beam is:\n",
    "$$\n",
    "Y  = \\dfrac{F\\, L^3}{3 \\, E \\, I}\n",
    "$$\n",
    "\n",
    "**Quantity of interest**\n",
    "\n",
    "We want to estimate the expectation $\\mu_Y = \\mathbb{E}(Y)$ and the standard deviation $\\sqrt{\\mathbb{V}(F)}$.\n",
    "\n",
    "**Reference value**\n",
    "\n",
    "With a Monte-Carlo sample size equal to 459 000, we get:\n",
    "$$\n",
    "\\bar{y}_{459\\;000} = 12.62.\n",
    "$$\n",
    "The 95% confidence interval is \n",
    "$$\n",
    "\\mathbb{P}([12.61, 12.64]\\ni \\mu_Y) = 0.95.\n",
    "$$\n",
    "\n",
    "## Réferences\n",
    "\n",
    "- Martelli, Alex, Anna Ravenscroft, and David Ascher. Python cookbook. \" O'Reilly Media, Inc.\", 2005."
   ]
  },
  {
   "cell_type": "markdown",
   "metadata": {},
   "source": [
    "## Définition du modèle"
   ]
  },
  {
   "cell_type": "code",
   "execution_count": 1,
   "metadata": {},
   "outputs": [],
   "source": [
    "import openturns as ot\n",
    "import openturns.viewer as otv\n",
    "import numpy as np"
   ]
  },
  {
   "cell_type": "markdown",
   "metadata": {},
   "source": [
    "On commence par définir les lois marginales."
   ]
  },
  {
   "cell_type": "code",
   "execution_count": 2,
   "metadata": {},
   "outputs": [],
   "source": [
    "dist_E = ot.Beta(0.9, 2.2, 2.8e7, 4.8e7)\n",
    "dist_E.setDescription([\"E\"])\n",
    "F_para = ot.LogNormalMuSigma(3.0e4, 9.0e3, 15.0e3)  # in N\n",
    "dist_F = ot.ParametrizedDistribution(F_para)\n",
    "dist_F.setDescription([\"F\"])\n",
    "dist_L = ot.Uniform(250.0, 260.0)  # in cm\n",
    "dist_L.setDescription([\"L\"])\n",
    "dist_I = ot.Beta(2.5, 1.5, 310.0, 450.0)  # in cm^4\n",
    "dist_I.setDescription([\"I\"])"
   ]
  },
  {
   "cell_type": "markdown",
   "metadata": {},
   "source": [
    "Les variables sont indépendantes, de telle sorte que l'on a pas besoin de spécifier une copule."
   ]
  },
  {
   "cell_type": "code",
   "execution_count": 3,
   "metadata": {},
   "outputs": [],
   "source": [
    "distcoll = [dist_E, dist_F, dist_L, dist_I]\n",
    "X = ot.ComposedDistribution(distcoll)"
   ]
  },
  {
   "cell_type": "markdown",
   "metadata": {},
   "source": [
    "Puis on définit le modèle."
   ]
  },
  {
   "cell_type": "code",
   "execution_count": 4,
   "metadata": {},
   "outputs": [],
   "source": [
    "g = ot.SymbolicFunction([\"E\", \"F\", \"L\", \"I\"], [\"F* L^3 /  (3 * E * I)\"])\n",
    "g.setOutputDescription([\"Y (cm)\"])"
   ]
  },
  {
   "cell_type": "markdown",
   "metadata": {},
   "source": [
    "Pour pouvoir exploiter au mieux les simulations, nous équipons la fonction d'un méchanisme d'historique. Il s'agit d'un système de mémoire cache qui permet à la fonction `g` d'améliorer la performance. Lorsque la fonction est appelée une première fois avec un point $x$ en entrée alors la fonction évalue la sortie `y = g(x)`, puis enregistre le couple `(x,y)` en mémoire. Si la fonction `g` est évaluée une seconde fois avec le même point `x`, alors la valeur `y` correspondante est retournée sans nécessairement évaluer la fonction `g`. Plus de détails sur ce type de mécanismes sont présentés dans (Martelli, 2005) page 656."
   ]
  },
  {
   "cell_type": "code",
   "execution_count": 5,
   "metadata": {},
   "outputs": [],
   "source": [
    "g = ot.MemoizeFunction(g)"
   ]
  },
  {
   "cell_type": "markdown",
   "metadata": {},
   "source": [
    "Enfin, nous définissons le vecteur aléatoire de sortie."
   ]
  },
  {
   "cell_type": "code",
   "execution_count": 6,
   "metadata": {},
   "outputs": [],
   "source": [
    "XRV = ot.RandomVector(X)\n",
    "Y = ot.CompositeRandomVector(g, XRV)\n",
    "Y.setDescription([\"Y (cm)\"])"
   ]
  },
  {
   "cell_type": "markdown",
   "metadata": {},
   "source": [
    "## Par développement de Taylor"
   ]
  },
  {
   "cell_type": "markdown",
   "metadata": {},
   "source": [
    "La classe `TaylorExpansionMoments` permet de réaliser le développement de Taylor. "
   ]
  },
  {
   "cell_type": "code",
   "execution_count": 7,
   "metadata": {},
   "outputs": [],
   "source": [
    "taylor = ot.TaylorExpansionMoments(Y)"
   ]
  },
  {
   "cell_type": "markdown",
   "metadata": {},
   "source": [
    "La moyenne $\\mathbb{E}(Y)$ peut être estimée à l'ordre 1 avec `getMeanFirstOrder` ou bien à l'ordre 2 (c'est à dire en tenant compte des dérivées secondes) avec `getMeanSecondOrder`."
   ]
  },
  {
   "cell_type": "code",
   "execution_count": 8,
   "metadata": {},
   "outputs": [
    {
     "data": {
      "text/plain": [
       "12.339109534783237"
      ]
     },
     "execution_count": 8,
     "metadata": {},
     "output_type": "execute_result"
    }
   ],
   "source": [
    "taylor.getMeanFirstOrder()[0]"
   ]
  },
  {
   "cell_type": "code",
   "execution_count": 9,
   "metadata": {},
   "outputs": [
    {
     "data": {
      "text/plain": [
       "12.63262216382261"
      ]
     },
     "execution_count": 9,
     "metadata": {},
     "output_type": "execute_result"
    }
   ],
   "source": [
    "taylor.getMeanSecondOrder()[0]"
   ]
  },
  {
   "cell_type": "markdown",
   "metadata": {},
   "source": [
    "La variance peut être calculée à l'ordre 1 uniquement."
   ]
  },
  {
   "cell_type": "code",
   "execution_count": 10,
   "metadata": {},
   "outputs": [
    {
     "data": {
      "text/plain": [
       "17.441552823530664"
      ]
     },
     "execution_count": 10,
     "metadata": {},
     "output_type": "execute_result"
    }
   ],
   "source": [
    "taylor.getCovariance()[0, 0]"
   ]
  },
  {
   "cell_type": "markdown",
   "metadata": {},
   "source": [
    "L'écart-type de la sortie peut être calculé en évaluant la racine carrée."
   ]
  },
  {
   "cell_type": "code",
   "execution_count": 11,
   "metadata": {},
   "outputs": [
    {
     "data": {
      "text/plain": [
       "4.176308516325232"
      ]
     },
     "execution_count": 11,
     "metadata": {},
     "output_type": "execute_result"
    }
   ],
   "source": [
    "np.sqrt(taylor.getCovariance()[0, 0])"
   ]
  },
  {
   "cell_type": "markdown",
   "metadata": {},
   "source": [
    "Les facteurs d'importance $\\eta_i$ peuvent être obtenus avec la méthode `getImportanceFactors` ou dessinés avec la méthode `drawImportanceFactors`."
   ]
  },
  {
   "cell_type": "code",
   "execution_count": 12,
   "metadata": {},
   "outputs": [
    {
     "data": {
      "text/html": [
       "<p>[E : 0.153533, F : 0.785641, L : 0.0100685, I : 0.050758]</p>"
      ],
      "text/plain": [
       "class=PointWithDescription name=Unnamed dimension=4 description=[E,F,L,I] values=[0.153533,0.785641,0.0100685,0.050758]"
      ]
     },
     "execution_count": 12,
     "metadata": {},
     "output_type": "execute_result"
    }
   ],
   "source": [
    "importancefactors = taylor.getImportanceFactors()\n",
    "importancefactors"
   ]
  },
  {
   "cell_type": "code",
   "execution_count": 13,
   "metadata": {},
   "outputs": [
    {
     "data": {
      "image/png": "[encoded data removed]",
      "text/plain": [
       "<Figure size 288x216 with 1 Axes>"
      ]
     },
     "metadata": {},
     "output_type": "display_data"
    }
   ],
   "source": [
    "graph = taylor.drawImportanceFactors()\n",
    "view = otv.View(graph, figure_kw={\"figsize\": (4.0, 3.0)})"
   ]
  },
  {
   "cell_type": "markdown",
   "metadata": {},
   "source": [
    "On observe que la variabilité de la sortie $Y$ est principalement sensible à la variabilité de $F$ et, de manière moins importante par la variabilité de $E$. La variable $L$ pourrait être remplacée par une constante sans changer la variance de la sortie.\n",
    "\n",
    "Une mise en garde s'impose au sujet des facteurs d'importance obtenus par la méthode `getImportanceFactors()` : la dépendance éventuelle dans le vecteur aléatoire en entrée est ignorée. "
   ]
  },
  {
   "cell_type": "markdown",
   "metadata": {},
   "source": [
    "## Par Monte-Carlo simple avec un budget fixé"
   ]
  },
  {
   "cell_type": "markdown",
   "metadata": {},
   "source": [
    "La manière la plus simple de faire une étude consiste à fixer le nombre de simulations à l'avance. En d'autres termes, on fixe $n$ et on génère un échantillon de la variable de sortie $Y$ de taille $n$. C'est la méthode \"traditionnelle\"."
   ]
  },
  {
   "cell_type": "code",
   "execution_count": 14,
   "metadata": {},
   "outputs": [],
   "source": [
    "n = 10000\n",
    "\n",
    "Ysample = Y.getSample(n)"
   ]
  },
  {
   "cell_type": "markdown",
   "metadata": {},
   "source": [
    "La manière la plus simple d'observer la variabilité de la sortie consiste à tracer l'histogramme empirique."
   ]
  },
  {
   "cell_type": "code",
   "execution_count": 15,
   "metadata": {},
   "outputs": [
    {
     "data": {
      "image/png": "[encoded data removed]",
      "text/plain": [
       "<Figure size 288x216 with 1 Axes>"
      ]
     },
     "metadata": {
      "needs_background": "light"
     },
     "output_type": "display_data"
    }
   ],
   "source": [
    "graph = ot.HistogramFactory().build(Ysample).drawPDF()\n",
    "graph.setTitle(\"Monte-Carlo, n=%d\" % (n))\n",
    "graph.setXTitle(\"Y (cm)\")\n",
    "graph.setLegends([\"\"])\n",
    "view = otv.View(graph, figure_kw={\"figsize\": (4.0, 3.0)})"
   ]
  },
  {
   "cell_type": "markdown",
   "metadata": {},
   "source": [
    "Les méthodes associées à l'échantillon permettent de d'estimer la moyenne, la variance et l'écart-type."
   ]
  },
  {
   "cell_type": "code",
   "execution_count": 16,
   "metadata": {},
   "outputs": [
    {
     "data": {
      "text/plain": [
       "12.621487871354088"
      ]
     },
     "execution_count": 16,
     "metadata": {},
     "output_type": "execute_result"
    }
   ],
   "source": [
    "Ysample.computeMean()[0]"
   ]
  },
  {
   "cell_type": "code",
   "execution_count": 17,
   "metadata": {},
   "outputs": [
    {
     "data": {
      "text/plain": [
       "18.674969862361277"
      ]
     },
     "execution_count": 17,
     "metadata": {},
     "output_type": "execute_result"
    }
   ],
   "source": [
    "Ysample.computeVariance()[0]"
   ]
  },
  {
   "cell_type": "code",
   "execution_count": 18,
   "metadata": {},
   "outputs": [
    {
     "data": {
      "text/plain": [
       "4.321454600289268"
      ]
     },
     "execution_count": 18,
     "metadata": {},
     "output_type": "execute_result"
    }
   ],
   "source": [
    "Ysample.computeStandardDeviation()[0]"
   ]
  },
  {
   "cell_type": "code",
   "execution_count": 19,
   "metadata": {},
   "outputs": [
    {
     "name": "stdout",
     "output_type": "stream",
     "text": [
      "Quantile at  0.025 = 7.053091418087279\n",
      "Quantile at  0.975 = 23.7309488638493\n",
      "The interval containing 95.00 % of the population Y is [7.0531, 23.7309]\n"
     ]
    }
   ],
   "source": [
    "alpha = 0.05\n",
    "y_quantile_025p = Ysample.computeQuantilePerComponent(alpha / 2.0)[0]\n",
    "print(\"Quantile at \", alpha / 2.0, \"=\", y_quantile_025p)\n",
    "y_quantile_975p = Ysample.computeQuantilePerComponent(1.0 - alpha / 2.0)[0]\n",
    "print(\"Quantile at \", 1.0 - alpha / 2.0, \"=\", y_quantile_975p)\n",
    "print(\n",
    "    \"The interval containing %.2f %%\" % (100.0 * (1.0 - alpha)),\n",
    "    \"of the population Y is [%.4f, %.4f]\" % (y_quantile_025p, y_quantile_975p),\n",
    ")"
   ]
  },
  {
   "cell_type": "markdown",
   "metadata": {},
   "source": [
    "## Par Monte-Carlo simple avec un algorithme itératif\n",
    "\n",
    "La méthode la plus performante consiste à utiliser la plus petite taille de l'échantillon possible assurant une précision déterminée. Pour cela, le plan d'expériences augmente de manière incrémentale, en mettant à jour la moyenne empirique. Pour améliorer la performance, les simulations sont réalisées avec une taille de bloc fixée par l'utilisateur. Lorsqu'on souhaite estimer la moyenne, c'est la méthode \"moderne\".\n",
    "\n",
    "\n",
    "Il y a deux boucles imbriquées : la boucle externe de taille `maximumOuterSampling` et la boucle interne de taille `blockSize`.\n",
    "L'implémentation suivante empêcherait toute parallélisation car les évaluations de la fonction `g` sont réalisées une par une :\n",
    "```\n",
    "for i in range(maximumOuterSampling):\n",
    "    for j in range(blockSize):\n",
    "        sample = Y.getSample(1)\n",
    "```\n",
    "L'implémentation suivante permet la parallélisation car on peut évaluer plusieurs points à la fois à l'intérieur d'un bloc :\n",
    "```\n",
    "for i in range(maximumOuterSampling):\n",
    "    sample = Y.getSample(blockSize)\n",
    "```\n",
    "En effet, la méthode `getSample()` est parallèle si la fonction `g` est elle-même parallèle. \n",
    "\n",
    "La loi de la moyenne empirique de la sortie $Y=g(X)$ est asymptotiquement gaussienne :\n",
    "$$\n",
    "\\overline{Y_n} \\xrightarrow{d} \\mathcal{N}\\left(\\mu, \\frac{\\sigma^2}{n}\\right)\n",
    "$$\n",
    "\n",
    "quand $n\\rightarrow \\infty$, où $\\mu = \\mathbb{E}(Y)$ et $\\sigma^2 = \\mathbb{V}(Y)$.\n",
    "\n",
    "Par conséquent, le coefficient de variation asymptotique de l'estimateur $\\overline{Y_n}$ est :\n",
    "$$\n",
    "CV\\left(\\overline{Y}\\right) = \\frac{\\sqrt{\\mathbb{V}\\left(\\overline{Y}\\right)}}{\\left|\\mathbb{E}\\left(\\overline{Y}\\right)\\right|} = \\frac{\\sigma/\\sqrt{n}}{|\\mu|}.\n",
    "$$\n",
    "\n",
    "On l'estime par:\n",
    "$$\n",
    "\\widehat{CV}\\left(\\overline{Y}\\right) = \\frac{\\hat{\\sigma}/\\sqrt{n}}{\\left|\\overline{y}_n\\right|}.\n",
    "$$\n"
   ]
  },
  {
   "cell_type": "code",
   "execution_count": 20,
   "metadata": {},
   "outputs": [
    {
     "name": "stdout",
     "output_type": "stream",
     "text": [
      "Number of iterations = 118\n"
     ]
    }
   ],
   "source": [
    "g.clearHistory()\n",
    "\n",
    "algo = ot.ExpectationSimulationAlgorithm(Y)\n",
    "algo.setMaximumOuterSampling(1000)\n",
    "algo.setBlockSize(10)\n",
    "algo.setMaximumCoefficientOfVariation(0.01)\n",
    "\n",
    "algo.run()\n",
    "\n",
    "result = algo.getResult()\n",
    "\n",
    "outerSampleSize = result.getOuterSampling()\n",
    "print(\"Number of iterations = %d\" % (outerSampleSize))"
   ]
  },
  {
   "cell_type": "code",
   "execution_count": 21,
   "metadata": {},
   "outputs": [
    {
     "name": "stdout",
     "output_type": "stream",
     "text": [
      "Mean = 12.730356 \n",
      "Number of calls to G = 1180\n",
      "Coef. of var.=0.009962\n"
     ]
    }
   ],
   "source": [
    "expectation = result.getExpectationEstimate()\n",
    "print(\"Mean = %f \" % expectation[0])\n",
    "blocksize = result.getBlockSize()\n",
    "sampleSize = outerSampleSize * blocksize\n",
    "print(\"Number of calls to G = %d\" % (sampleSize))\n",
    "cv = result.getCoefficientOfVariation()[0]\n",
    "print(\"Coef. of var.=%.6f\" % (cv))"
   ]
  },
  {
   "cell_type": "markdown",
   "metadata": {},
   "source": [
    "The estimate of the mean has a known asymptotical gaussian distribution, which can be retrieved with the `getExpectationDistribution` method. "
   ]
  },
  {
   "cell_type": "code",
   "execution_count": 22,
   "metadata": {
    "scrolled": true
   },
   "outputs": [
    {
     "name": "stdout",
     "output_type": "stream",
     "text": [
      "Normal(mu = 12.7304, sigma = 0.126824)\n"
     ]
    },
    {
     "data": {
      "image/png": "[encoded data removed]",
      "text/plain": [
       "<Figure size 288x216 with 1 Axes>"
      ]
     },
     "metadata": {
      "needs_background": "light"
     },
     "output_type": "display_data"
    }
   ],
   "source": [
    "sample_mean_distribution = result.getExpectationDistribution()\n",
    "sample_mean_distribution.setDescription([\"Estimation de la moyenne de Y\"])\n",
    "print(sample_mean_distribution)\n",
    "graph = sample_mean_distribution.drawPDF()\n",
    "view = otv.View(graph, figure_kw={\"figsize\": (4.0, 3.0)})"
   ]
  },
  {
   "cell_type": "code",
   "execution_count": 23,
   "metadata": {},
   "outputs": [
    {
     "name": "stdout",
     "output_type": "stream",
     "text": [
      "The probability that the interval [12.4818, 12.9789] contains the true mean is equal to 95.00\n"
     ]
    }
   ],
   "source": [
    "sample_mean_CI = sample_mean_distribution.computeBilateralConfidenceInterval(\n",
    "    1.0 - alpha\n",
    ")\n",
    "print(\n",
    "    \"The probability that the interval %s\" % (sample_mean_CI),\n",
    "    \"contains the true mean is equal to %.2f\" % (100.0 * (1.0 - alpha)),\n",
    ")"
   ]
  },
  {
   "cell_type": "code",
   "execution_count": 24,
   "metadata": {},
   "outputs": [
    {
     "name": "stdout",
     "output_type": "stream",
     "text": [
      "Variance = 18.9955\n",
      "StDev = 4.3584\n"
     ]
    }
   ],
   "source": [
    "Ysample = g.getOutputHistory()\n",
    "sampleSize = Ysample.getSize()\n",
    "sample_variance = Ysample.computeVariance()[0]\n",
    "print(\"Variance = %.4f\" % (sample_variance))\n",
    "sample_sd = np.sqrt(sample_variance)\n",
    "print(\"StDev = %.4f\" % (sample_sd))"
   ]
  },
  {
   "cell_type": "code",
   "execution_count": 25,
   "metadata": {
    "scrolled": true
   },
   "outputs": [
    {
     "data": {
      "image/png": "[encoded data removed]",
      "text/plain": [
       "<Figure size 288x216 with 1 Axes>"
      ]
     },
     "metadata": {
      "needs_background": "light"
     },
     "output_type": "display_data"
    }
   ],
   "source": [
    "graph = ot.HistogramFactory().build(Ysample).drawPDF()\n",
    "graph.setTitle(\"Monte-Carlo, n=%d\" % (sampleSize))\n",
    "graph.setXTitle(\"Y (cm)\")\n",
    "graph.setLegends([\"\"])\n",
    "view = otv.View(graph, figure_kw={\"figsize\": (4.0, 3.0)})"
   ]
  },
  {
   "cell_type": "code",
   "execution_count": 26,
   "metadata": {},
   "outputs": [
    {
     "data": {
      "image/png": "[encoded data removed]",
      "text/plain": [
       "<Figure size 288x216 with 1 Axes>"
      ]
     },
     "metadata": {
      "needs_background": "light"
     },
     "output_type": "display_data"
    }
   ],
   "source": [
    "graph = algo.drawExpectationConvergence()\n",
    "graph.setLogScale(ot.GraphImplementation.LOGX)\n",
    "view = otv.View(graph, figure_kw={\"figsize\": (4.0, 3.0)})"
   ]
  },
  {
   "cell_type": "markdown",
   "metadata": {},
   "source": [
    "## Synthèse des résultats\n",
    "\n",
    "**Population** : 95% de la population dans [7.053, 23.73].\n",
    "\n",
    "**Moyenne, écart-type**\n",
    "\n",
    "L'intervalle de confiance à 95% de $\\mathbb{E}(Y)$ est [12.5, 13.0].\n",
    "\n",
    "| Méthode | Moyenne | Ecart-type |\n",
    "|--|--|--|\n",
    "| Taylor, 1er ordre | 12.33 | 4.176 |\n",
    "| Taylor, 2ème ordre | 12.63 | - |\n",
    "| Monte-Carlo simple, n=10000 | 12.62 | 4.321 |\n",
    "| Monte-Carlo itératif, n=1180 | 12.73 | 4.358 |\n",
    "\n",
    "On observe qu'il y n'y a pas beaucoup de différence pour l'estimation de la moyenne entre le développement de Taylor au premier et au second ordre. En effet, la moyenne passe de 12.33 à 12.63. Cela montre que le modèle n'est pas exactement localement linéaire, mais que la non-linéarité n'est pas très importante. En d'autres termes, la contribution de la dérivée seconde à l'estimation de la moyenne n'est pas très significatif, sans être toutefois négligeable. \n",
    "\n",
    "On observe que seulement 1180 simulations ont étées nécessaire par la méthode de Monte-Carlo itérative pour obtenir un coefficient de variation inférieur au seuil. Cela montre qu'utiliser 10 000 simulations dans la simulation de Monte-Carlo simple n'était pas forcément nécessaire. \n",
    "\n",
    "On observe que les 4 estimations de la moyenne sont cohérentes. Cela montre que le comportement localement linéaire utilisé par le développement de Taylor est une approximation satisfaisante du comportement global du modèle $g$ sur son domaine d'entrée $\\mathcal{X}$. Le modèle n'est toutefois pas exactement linéaire : on observe que l'estimation de la moyenne à l'ordre 1 est égale à 12.33, alors que l'intervalle de confiance à 95% de l'espérance $\\mathbb{E}(Y)$ est égal à [12.48, 12.98]. Puisque cet intervalle ne contient pas 12.33, cela montre que le modèle n'est pas strictement linéaire. Le modèle n'est toutefois pas très non-linéaire, puisque la différence entre le développement de Taylor à l'ordre 1 et l'estimation Monte-Carlo n'est pas très importante. "
   ]
  },
  {
   "cell_type": "markdown",
   "metadata": {},
   "source": [
    "## Exercice 1 : vérifications du développement de Taylor\n",
    "\n",
    "L'objectif de cet exercice est de vérifier que les méthodes de la librairie coïncident avec les formules que nous avons présenté précédemment pour l'estimation de moments par développement de Taylor.\n",
    "- Utiliser la méthode `getMean` de la variable `X` pour créer la variable `muX` contenant le point moyen $\\mu$ du vecteur aléatoire en entrée.\n",
    "- Evaluer le modèle `g` au point `muX` et comparer avec la valeur de retour de la méthode `getMeanFirstOrder`.\n",
    "- Utiliser la méthode `gradient` de la fonction `g` pour créer la variable `gradient` contenant la valeur du gradient de la fonction $g$ au point `muX`. \n",
    "- Utiliser la méthode `getCovariance` de la variable `X` pour créer la variable `covX` contenant la matrice de covariance diagonale du vecteur aléatoire en entrée. \n",
    "- Avec une boucle `for`, calculer la variance de la sortie `Y` en utilisant le développement de Taylor à l'ordre 1.\n",
    "Pour cela, vous pourrez vous aider du squelette suivant, dans lequel vous remplacerez les sections *TODO* par du code Python valide.\n",
    "```\n",
    "dim = len(distcoll)\n",
    "v = 0.\n",
    "for i in range(dim):\n",
    "    v = v+TODO\n",
    "```\n",
    "\n",
    "- Comparer le résultat précédent avec la valeur de retour de la méthode `getCovariance`."
   ]
  },
  {
   "cell_type": "markdown",
   "metadata": {},
   "source": [
    "## Exercice 2 : loi de la moyenne empirique\n",
    "\n",
    "L'objectif de cet exercice est de vérifier la loi gaussienne de la moyenne empirique indiquée par le T.C.L.. Pour cela, nous considérons un échantillon Monte-Carlo simple de taille $n=100$. Cette faible taille d'échantillon est associée à une variabilité relativement importante de l'estimateur de la moyenne empirique. Puis nous allons réaliser $r$ estimations de la moyenne empirique. Nous allons ensuite comparer la distribution théorique et la distribution empirique. \n",
    "- Créer la variable `n=100`. \n",
    "- Générer un échantillon `Ysample` de taille `n` de la variable de sortie `Y`. Créer la variable `sigma` contenant l'écart-type empirique de cet échantillon. \n",
    "- Créer la variable `r=1000`. \n",
    "- Créer la variable `meanSample` de type `Sample` de taille `r` en dimension 1.\n",
    "- Avec une boucle `for` sur l'indice `k`, répéter l'expérience suivante `r` fois. \n",
    "  - Générer un échantillon `Ysample` de taille `n` de la variable de sortie `Y`.\n",
    "  - Stocker dans `meanSample[k,0]` la moyenne empirique de `Ysample`.\n",
    "Pour cela, vous pourrez vous inspirer du squelette suivant, dans lequel vous remplacer les sections *TODO* par du code Python valide.\n",
    "\n",
    "```\n",
    "r = 1000\n",
    "meanSample = ot.Sample(r,1)\n",
    "for k in range(r):\n",
    "    Ysample = TODO\n",
    "    meanSample[k,0] = Ysample.TODO\n",
    "```\n",
    "\n",
    "- Calculer `mu` la moyenne empirique de l'échantillon `meanSample`. \n",
    "- Créer la variable `M` de loi gaussienne de moyenne `mu` et d'écart-type `sigma/sqrt(n)`. \n",
    "- Dessiner l'histogramme empirique de l'échantillon `meanSample`. Dans le même graphique, dessiner la PDF de `M`.\n",
    "\n",
    "- Optionnel : Utiliser la taille d'échantillon `n=400`. Quel est l'impact sur la distribution de la moyenne empirique ?"
   ]
  },
  {
   "cell_type": "markdown",
   "metadata": {},
   "source": [
    "## Exercice 3 : fixer une variable\n",
    "\n",
    "On observe que le facteur d'importance associé à la variable $L$ est égal à 0.0100. Cela implique que, si on fixe cette variable à sa valeur moyenne, alors la variance va être peu modifiée. L'objectif de cet exercice est de le vérifier expérimentalement.\n",
    "- Créer la variable `Lmean` contenant la valeur moyenne de la variable `dist_L` associée à $L$ grâce à la méthode `getMean`. \n",
    "- Créer la variable `L_fixed` contenant une distribution de type `Dirac` de paramètre `Lmean`. \n",
    "- Créer la distribution `Xfixed` associée au vecteur aléatoire dont la marginale $L$ est fixée. \n",
    "- Créer la variable `Yfixed` contenant le vecteur aléatoire de sortie associé. \n",
    "- Calculer la moyenne et la variance prédites par le développement de Taylor à l'ordre 1. \n",
    "- Comparer ces résultats avec les résultats du modèle précédent. \n",
    "- La perte de variance correspond-elle à la valeur du facteur d'importance ? Pourquoi ?"
   ]
  },
  {
   "cell_type": "markdown",
   "metadata": {},
   "source": [
    "## Exercice 4 : développement de Taylor avec dépendance\n",
    "\n",
    "On suppose que le problème est associé à une structure de dépendance gaussienne. Le coefficient de corrélation de Spearman (sur les rangs) est entre la longueur $L$ et le moment d'inertie $I$ est égal à \n",
    "$$\n",
    "\\rho_{rg}(L,I) = -0.2.\n",
    "$$\n",
    "L'objectif de cet exercice est d'observer comment cette dépendance peut affecter les moments estimés par développement de Taylor.\n",
    "\n",
    "- Définir la copule associée à cette nouvelle structure de dépendance. Pour cela, créer la matrice de corrélation sur les rangs `smatrix` avec la classe `CorrelationMatrix`. \n",
    "- Créer la variable `matrix` contenant la matrice de corrélation de Pearson calculée grâce à la fonction `GetCorrelationFromSpearmanCorrelation` et de la matrice `smatrix`.\n",
    "- Créer la variable `copula` contenant la copule gaussienne grâce à la classe `NormalCopula`.\n",
    "- Créer la variable `Xgauss` contenant le vecteur aléatoire en entrée du modèle, puis le vecteur aléatoire de sortie correspondant `Ygauss`.\n",
    "- Utiliser la classe `TaylorExpansionMoments` pour calculer la moyenne, l'écart-type et les facteurs d'importance de la sortie `Y`.\n",
    "- Comparer les résultats numériques avec ceux sans dépendance. Comment expliquer les différences ?"
   ]
  }
 ],
 "metadata": {
  "kernelspec": {
   "display_name": "Python 3 (ipykernel)",
   "language": "python",
   "name": "python3"
  },
  "language_info": {
   "codemirror_mode": {
    "name": "ipython",
    "version": 3
   },
   "file_extension": ".py",
   "mimetype": "text/x-python",
   "name": "python",
   "nbconvert_exporter": "python",
   "pygments_lexer": "ipython3",
   "version": "3.10.0"
  }
 },
 "nbformat": 4,
 "nbformat_minor": 2
}
