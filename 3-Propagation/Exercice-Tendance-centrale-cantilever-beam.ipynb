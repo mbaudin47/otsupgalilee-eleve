{
 "cells": [
  {
   "cell_type": "markdown",
   "metadata": {},
   "source": [
    "# Estimer la tendance centrale sur le cas de la poutre en flexion\n"
   ]
  },
  {
   "cell_type": "markdown",
   "metadata": {},
   "source": [
    "## Déviation  verticale d'une poutre encastrée\n",
    "\n",
    "We consider a cantilever beam defined by its Young’s modulus $E$, its length $L$ and its section modulus $I$. One end is built in a wall and we apply a concentrated bending load $F$ at the other end of the beam, resulting in a vertical deviation $Y$.\n",
    "\n",
    "<img src=\"poutre.png\" width=\"200\">\n",
    "\n",
    "__Inputs__:  $\\left\\{ E, F, L, I \\right\\} $\n",
    "* $E$ : Young modulus (Pa)\n",
    "* $F$ : Loading (N),\n",
    "* $L$ : Length of beam (cm),\n",
    "* $I$ : Moment of inertia (cm^4).\n",
    "\n",
    "|Variable|  Distribution|\n",
    "| ------------- |-------------|\n",
    "|E| Beta(alpha = 0.9, beta = 2.2, a = $2.5\\times 10^7$, $b = 5\\times 10^7$) |\n",
    "|F| Lognormal($\\mu_F=3 \\times 10^4$, $\\sigma_F=9\\times 10^3$, shift=$15\\times 10^3$)|\n",
    "|L| Uniform(min=250.0, max= 260.0)|\n",
    "|I| Beta(alpha = 2.5, beta = 1.5, a = 310, b = 450)|\n",
    "\n",
    "In the previous table $\\mu_F=E(F)$ and $\\sigma_F=\\sqrt{V(F)}$ are the mean and the standard deviation of $F$.\n",
    "\n",
    "The input variables are supposed to be independent.\n",
    "\n",
    "__Output__:\n",
    "\n",
    "The vertical displacement at free end of the cantilever beam is:\n",
    "$$\n",
    "Y  = \\dfrac{F\\, L^3}{3 \\, E \\, I}\n",
    "$$"
   ]
  },
  {
   "cell_type": "markdown",
   "metadata": {},
   "source": [
    "## Définition du modèle"
   ]
  },
  {
   "cell_type": "code",
   "execution_count": 1,
   "metadata": {},
   "outputs": [],
   "source": [
    "import openturns as ot\n",
    "import numpy as np"
   ]
  },
  {
   "cell_type": "markdown",
   "metadata": {},
   "source": [
    "On commence par définir les lois marginales."
   ]
  },
  {
   "cell_type": "code",
   "execution_count": 2,
   "metadata": {},
   "outputs": [],
   "source": [
    "dist_E = ot.Beta(0.9, 2.2, 2.8e7, 4.8e7)\n",
    "dist_E.setDescription([\"E\"])\n",
    "F_para = ot.LogNormalMuSigma(3.0e4, 9.0e3, 15.0e3)  # in N\n",
    "dist_F = ot.ParametrizedDistribution(F_para)\n",
    "dist_F.setDescription([\"F\"])\n",
    "dist_L = ot.Uniform(250.0, 260.0)  # in cm\n",
    "dist_L.setDescription([\"L\"])\n",
    "dist_I = ot.Beta(2.5, 1.5, 310.0, 450.0)  # in cm^4\n",
    "dist_I.setDescription([\"I\"])"
   ]
  },
  {
   "cell_type": "markdown",
   "metadata": {},
   "source": [
    "Les variables sont indépendantes, de telle sorte que l'on a pas besoin de spécifier une copule."
   ]
  },
  {
   "cell_type": "code",
   "execution_count": 3,
   "metadata": {},
   "outputs": [],
   "source": [
    "distcoll = [dist_E, dist_F, dist_L, dist_I]\n",
    "X = ot.ComposedDistribution(distcoll)"
   ]
  },
  {
   "cell_type": "markdown",
   "metadata": {},
   "source": [
    "Puis on définit le modèle."
   ]
  },
  {
   "cell_type": "code",
   "execution_count": 4,
   "metadata": {},
   "outputs": [],
   "source": [
    "g = ot.SymbolicFunction([\"E\", \"F\", \"L\", \"I\"], [\"F* L^3 /  (3 * E * I)\"])\n",
    "g.setOutputDescription([\"Y (cm)\"])"
   ]
  },
  {
   "cell_type": "markdown",
   "metadata": {},
   "source": [
    "Pour pouvoir exploiter au mieux les simulations, nous équipons la fonction d'un méchanisme d'historique."
   ]
  },
  {
   "cell_type": "code",
   "execution_count": 5,
   "metadata": {},
   "outputs": [],
   "source": [
    "g = ot.MemoizeFunction(g)"
   ]
  },
  {
   "cell_type": "markdown",
   "metadata": {},
   "source": [
    "Enfin, nous définissons le vecteur aléatoire de sortie."
   ]
  },
  {
   "cell_type": "code",
   "execution_count": 6,
   "metadata": {},
   "outputs": [],
   "source": [
    "XRV = ot.RandomVector(X)\n",
    "Y = ot.CompositeRandomVector(g, XRV)\n",
    "Y.setDescription([\"Y (cm)\"])"
   ]
  },
  {
   "cell_type": "markdown",
   "metadata": {},
   "source": [
    "## Par développement de Taylor"
   ]
  },
  {
   "cell_type": "markdown",
   "metadata": {},
   "source": [
    "La classe `TaylorExpansionMoments` permet de réaliser le développement de Taylor. "
   ]
  },
  {
   "cell_type": "code",
   "execution_count": 7,
   "metadata": {},
   "outputs": [],
   "source": [
    "taylor = ot.TaylorExpansionMoments(Y)"
   ]
  },
  {
   "cell_type": "markdown",
   "metadata": {},
   "source": [
    "La moyenne $E(Y)$ peut être estimée à l'ordre 1 avec `getMeanFirstOrder` ou bien à l'ordre 2 (c'est à dire en tenant compte des dérivées secondes) avec `getMeanSecondOrder`."
   ]
  },
  {
   "cell_type": "code",
   "execution_count": 8,
   "metadata": {},
   "outputs": [
    {
     "data": {
      "text/plain": [
       "12.339109534783237"
      ]
     },
     "execution_count": 8,
     "metadata": {},
     "output_type": "execute_result"
    }
   ],
   "source": [
    "taylor.getMeanFirstOrder()[0]"
   ]
  },
  {
   "cell_type": "code",
   "execution_count": 9,
   "metadata": {},
   "outputs": [
    {
     "data": {
      "text/plain": [
       "12.63262216382261"
      ]
     },
     "execution_count": 9,
     "metadata": {},
     "output_type": "execute_result"
    }
   ],
   "source": [
    "taylor.getMeanSecondOrder()[0]"
   ]
  },
  {
   "cell_type": "markdown",
   "metadata": {},
   "source": [
    "La variance peut être calculée à l'ordre 1 uniquement."
   ]
  },
  {
   "cell_type": "code",
   "execution_count": 10,
   "metadata": {},
   "outputs": [
    {
     "data": {
      "text/plain": [
       "17.441552823530664"
      ]
     },
     "execution_count": 10,
     "metadata": {},
     "output_type": "execute_result"
    }
   ],
   "source": [
    "taylor.getCovariance()[0, 0]"
   ]
  },
  {
   "cell_type": "markdown",
   "metadata": {},
   "source": [
    "L'écart-type de la sortie peut être calculé en évaluant la racine carrée."
   ]
  },
  {
   "cell_type": "code",
   "execution_count": 11,
   "metadata": {},
   "outputs": [
    {
     "data": {
      "text/plain": [
       "4.176308516325232"
      ]
     },
     "execution_count": 11,
     "metadata": {},
     "output_type": "execute_result"
    }
   ],
   "source": [
    "np.sqrt(taylor.getCovariance()[0, 0])"
   ]
  },
  {
   "cell_type": "markdown",
   "metadata": {},
   "source": [
    "Les facteurs d'importance $\\eta_i$ peuvent être obtenus avec la méthode `getImportanceFactors` ou dessinés avec la méthode `drawImportanceFactors`."
   ]
  },
  {
   "cell_type": "code",
   "execution_count": 12,
   "metadata": {},
   "outputs": [
    {
     "data": {
      "text/html": [
       "<p>[E : 0.153533, F : 0.785641, L : 0.0100685, I : 0.050758]</p>"
      ],
      "text/plain": [
       "class=PointWithDescription name=Unnamed dimension=4 description=[E,F,L,I] values=[0.153533,0.785641,0.0100685,0.050758]"
      ]
     },
     "execution_count": 12,
     "metadata": {},
     "output_type": "execute_result"
    }
   ],
   "source": [
    "importancefactors = taylor.getImportanceFactors()\n",
    "importancefactors"
   ]
  },
  {
   "cell_type": "code",
   "execution_count": 13,
   "metadata": {},
   "outputs": [
    {
     "data": {
      "image/png": "[encoded data removed]",
      "text/plain": [
       "class=Graph name=Unnamed implementation=class=GraphImplementation name=Unnamed title=Importance Factors from Taylor expansions - Y (cm) xTitle= yTitle= axes=OFF grid=OFF legendposition= legendFontSize=1 drawables=[class=Drawable name=Unnamed implementation=class=Pie name=Unnamed labels=[E : 15.4%,F : 78.6%,L : 1.0%,I : 5.1%] radius=1 center=class=Point name=Unnamed dimension=2 values=[0,0] color palette=[#1f77b4,#ff7f0e,#2ca02c,#d62728] derived from class=DrawableImplementation name=Unnamed legend= data=class=Sample name=Unnamed implementation=class=SampleImplementation name=Unnamed size=4 dimension=1 data=[[0.153533],[0.785641],[0.0100685],[0.050758]] color=blue fillStyle=solid lineStyle=solid pointStyle=plus lineWidth=1]"
      ]
     },
     "execution_count": 13,
     "metadata": {},
     "output_type": "execute_result"
    }
   ],
   "source": [
    "taylor.drawImportanceFactors()"
   ]
  },
  {
   "cell_type": "markdown",
   "metadata": {},
   "source": [
    "On observe que la variabilité de la sortie $Y$ est principalement sensible à la variabilité de $F$ et, de manière moins importante par la variabilité de $E$. La variable $L$ pourrait être remplacée par une constante sans changer la variance de la sortie."
   ]
  },
  {
   "cell_type": "markdown",
   "metadata": {},
   "source": [
    "Une mise en garde s'impose au sujet des facteurs d'importance obtenus par la méthode `getImportanceFactors` : la dépendance éventuelle dans le vecteur aléatoire en entrée est ignorée. "
   ]
  },
  {
   "cell_type": "markdown",
   "metadata": {},
   "source": [
    "## Par Monte-Carlo simple avec un budget fixé"
   ]
  },
  {
   "cell_type": "markdown",
   "metadata": {},
   "source": [
    "La manière la plus simple de faire une étude consiste à fixer le nombre de simulations à l'avance. En d'autres termes, on fixe $n$ et on génère un échantillon de la variable de sortie $Y$ de taille $n$. C'est la méthode \"traditionnelle\"."
   ]
  },
  {
   "cell_type": "code",
   "execution_count": 14,
   "metadata": {},
   "outputs": [],
   "source": [
    "n = 10000"
   ]
  },
  {
   "cell_type": "code",
   "execution_count": 15,
   "metadata": {},
   "outputs": [],
   "source": [
    "Ysample = Y.getSample(n)"
   ]
  },
  {
   "cell_type": "markdown",
   "metadata": {},
   "source": [
    "La manière la plus simple d'observer la variabilité de la sortie consiste à tracer l'histogramme empirique."
   ]
  },
  {
   "cell_type": "code",
   "execution_count": 16,
   "metadata": {},
   "outputs": [
    {
     "data": {
      "image/png": "[encoded data removed]",
      "text/plain": [
       "class=Graph name=Y (cm) PDF implementation=class=GraphImplementation name=Y (cm) PDF title=Monte-Carlo, n=10000 xTitle=Y (cm) yTitle=PDF axes=ON grid=ON legendposition=topright legendFontSize=1 drawables=[class=Drawable name=Unnamed implementation=class=Curve name=Unnamed derived from class=DrawableImplementation name=Unnamed legend= data=class=Sample name=Unnamed implementation=class=SampleImplementation name=Unnamed size=376 dimension=2 data=[[5.15843,0],[5.43996,0],[5.43996,0],[5.43996,0.00639377],[6.003,0.00639377],[6.003,0],[6.003,0],[6.003,0.0138532],[6.56605,0.0138532],[6.56605,0],[6.56605,0],[6.56605,0.0293048],[7.1291,0.0293048],[7.1291,0],[7.1291,0],[7.1291,0.0470652],[7.69215,0.0470652],[7.69215,0],[7.69215,0],[7.69215,0.0756596],[8.2552,0.0756596],[8.2552,0],[8.2552,0],[8.2552,0.0875591],[8.81825,0.0875591],[8.81825,0],[8.81825,0],[8.81825,0.117397],[9.38129,0.117397],[9.38129,0],[9.38129,0],[9.38129,0.124678],[9.94434,0.124678],[9.94434,0],[9.94434,0],[9.94434,0.12237],[10.5074,0.12237],[10.5074,0],[10.5074,0],[10.5074,0.129829],[11.0704,0.129829],[11.0704,0],[11.0704,0],[11.0704,0.126632],[11.6335,0.126632],[11.6335,0],[11.6335,0],[11.6335,0.106563],[12.1965,0.106563],[12.1965,0],[12.1965,0],[12.1965,0.0994586],[12.7596,0.0994586],[12.7596,0],[12.7596,0],[12.7596,0.0861383],[13.3226,0.0861383],[13.3226,0],[13.3226,0],[13.3226,0.0850726],[13.8857,0.0850726],[13.8857,0],[13.8857,0],[13.8857,0.0724627],[14.4487,0.0724627],[14.4487,0],[14.4487,0],[14.4487,0.0639377],[15.0118,0.0639377],[15.0118,0],[15.0118,0],[15.0118,0.0507949],[15.5748,0.0507949],[15.5748,0],[15.5748,0],[15.5748,0.0420923],[16.1379,0.0420923],[16.1379,0],[16.1379,0],[16.1379,0.0380074],[16.7009,0.0380074],[16.7009,0],[16.7009,0],[16.7009,0.0348105],[17.264,0.0348105],[17.264,0],[17.264,0],[17.264,0.0310808],[17.827,0.0310808],[17.827,0],[17.827,0],[17.827,0.024687],[18.3901,0.024687],[18.3901,0],[18.3901,0],[18.3901,0.0222006],[18.9531,0.0222006],[18.9531,0],[18.9531,0],[18.9531,0.0181157],[19.5162,0.0181157],[19.5162,0],[19.5162,0],[19.5162,0.0168724],[20.0792,0.0168724],[20.0792,0],[20.0792,0],[20.0792,0.0103011],[20.6423,0.0103011],[20.6423,0],[20.6423,0],[20.6423,0.0117219],[21.2053,0.0117219],[21.2053,0],[21.2053,0],[21.2053,0.0115443],[21.7684,0.0115443],[21.7684,0],[21.7684,0],[21.7684,0.00834742],[22.3314,0.00834742],[22.3314,0],[22.3314,0],[22.3314,0.00781461],[22.8945,0.00781461],[22.8945,0],[22.8945,0],[22.8945,0.00550574],[23.4575,0.00550574],[23.4575,0],[23.4575,0],[23.4575,0.00710419],[24.0205,0.00710419],[24.0205,0],[24.0205,0],[24.0205,0.00408491],[24.5836,0.00408491],[24.5836,0],[24.5836,0],[24.5836,0.00355209],[25.1466,0.00355209],[25.1466,0],[25.1466,0],[25.1466,0.00301928],[25.7097,0.00301928],[25.7097,0],[25.7097,0],[25.7097,0.00408491],[26.2727,0.00408491],[26.2727,0],[26.2727,0],[26.2727,0.00301928],[26.8358,0.00301928],[26.8358,0],[26.8358,0],[26.8358,0.00213126],[27.3988,0.00213126],[27.3988,0],[27.3988,0],[27.3988,0.00355209],[27.9619,0.00355209],[27.9619,0],[27.9619,0],[27.9619,0.00319688],[28.5249,0.00319688],[28.5249,0],[28.5249,0],[28.5249,0.00142084],[29.088,0.00142084],[29.088,0],[29.088,0],[29.088,0.00177605],[29.651,0.00177605],[29.651,0],[29.651,0],[29.651,0.00142084],[30.2141,0.00142084],[30.2141,0],[30.2141,0],[30.2141,0.00159844],[30.7771,0.00159844],[30.7771,0],[30.7771,0],[30.7771,0.000888023],[31.3402,0.000888023],[31.3402,0],[31.3402,0],[31.3402,0.000888023],[31.9032,0.000888023],[31.9032,0],[31.9032,0],[31.9032,0.000177605],[32.4663,0.000177605],[32.4663,0],[32.4663,0],[32.4663,0.000888023],[33.0293,0.000888023],[33.0293,0],[33.0293,0],[33.0293,0.000177605],[33.5924,0.000177605],[33.5924,0],[33.5924,0],[33.5924,0.000355209],[34.1554,0.000355209],[34.1554,0],[34.1554,0],[34.1554,0.00106563],[34.7185,0.00106563],[34.7185,0],[34.7185,0],[34.7185,0.000177605],[35.2815,0.000177605],[35.2815,0],[35.2815,0],[35.2815,0.000532814],[35.8446,0.000532814],[35.8446,0],[35.8446,0],[35.8446,0.000532814],[36.4076,0.000532814],[36.4076,0],[36.4076,0],[36.4076,0.000355209],[36.9707,0.000355209],[36.9707,0],[36.9707,0],[36.9707,0],[37.5337,0],[37.5337,0],[37.5337,0],[37.5337,0],[38.0968,0],[38.0968,0],[38.0968,0],[38.0968,0.000177605],[38.6598,0.000177605],[38.6598,0],[38.6598,0],[38.6598,0.000355209],[39.2229,0.000355209],[39.2229,0],[39.2229,0],[39.2229,0.000177605],[39.7859,0.000177605],[39.7859,0],[39.7859,0],[39.7859,0],[40.3489,0],[40.3489,0],[40.3489,0],[40.3489,0],[40.912,0],[40.912,0],[40.912,0],[40.912,0.000177605],[41.475,0.000177605],[41.475,0],[41.475,0],[41.475,0],[42.0381,0],[42.0381,0],[42.0381,0],[42.0381,0.000177605],[42.6011,0.000177605],[42.6011,0],[42.6011,0],[42.6011,0],[43.1642,0],[43.1642,0],[43.1642,0],[43.1642,0],[43.7272,0],[43.7272,0],[43.7272,0],[43.7272,0.000177605],[44.2903,0.000177605],[44.2903,0],[44.2903,0],[44.2903,0],[44.8533,0],[44.8533,0],[44.8533,0],[44.8533,0],[45.4164,0],[45.4164,0],[45.4164,0],[45.4164,0],[45.9794,0],[45.9794,0],[45.9794,0],[45.9794,0],[46.5425,0],[46.5425,0],[46.5425,0],[46.5425,0],[47.1055,0],[47.1055,0],[47.1055,0],[47.1055,0.000177605],[47.6686,0.000177605],[47.6686,0],[47.6686,0],[47.6686,0],[48.2316,0],[48.2316,0],[48.2316,0],[48.2316,0],[48.7947,0],[48.7947,0],[48.7947,0],[48.7947,0.000177605],[49.3577,0.000177605],[49.3577,0],[49.3577,0],[49.3577,0],[49.9208,0],[49.9208,0],[49.9208,0],[49.9208,0],[50.4838,0],[50.4838,0],[50.4838,0],[50.4838,0],[51.0469,0],[51.0469,0],[51.0469,0],[51.0469,0],[51.6099,0],[51.6099,0],[51.6099,0],[51.6099,0],[52.173,0],[52.173,0],[52.173,0],[52.173,0],[52.736,0],[52.736,0],[52.736,0],[52.736,0],[53.2991,0],[53.2991,0],[53.2991,0],[53.2991,0],[53.8621,0],[53.8621,0],[53.8621,0],[53.8621,0],[54.4252,0],[54.4252,0],[54.4252,0],[54.4252,0],[54.9882,0],[54.9882,0],[54.9882,0],[54.9882,0],[55.5512,0],[55.5512,0],[55.5512,0],[55.5512,0],[56.1143,0],[56.1143,0],[56.1143,0],[56.1143,0],[56.6773,0],[56.6773,0],[56.6773,0],[56.6773,0],[57.2404,0],[57.2404,0],[57.2404,0],[57.2404,0.000177605],[57.8034,0.000177605],[57.8034,0],[57.8034,0],[58.085,0]] color=red fillStyle=solid lineStyle=solid pointStyle=none lineWidth=2]"
      ]
     },
     "execution_count": 16,
     "metadata": {},
     "output_type": "execute_result"
    }
   ],
   "source": [
    "graph = ot.HistogramFactory().build(Ysample).drawPDF()\n",
    "graph.setTitle(\"Monte-Carlo, n=%d\" % (n))\n",
    "graph.setXTitle(\"Y (cm)\")\n",
    "graph.setLegends([\"\"])\n",
    "graph"
   ]
  },
  {
   "cell_type": "markdown",
   "metadata": {},
   "source": [
    "Les méthodes associées à l'échantillon permettent de d'estimer la moyenne et la variance."
   ]
  },
  {
   "cell_type": "code",
   "execution_count": 17,
   "metadata": {},
   "outputs": [
    {
     "data": {
      "text/plain": [
       "12.62148787135405"
      ]
     },
     "execution_count": 17,
     "metadata": {},
     "output_type": "execute_result"
    }
   ],
   "source": [
    "Ysample.computeMean()[0]"
   ]
  },
  {
   "cell_type": "code",
   "execution_count": 18,
   "metadata": {},
   "outputs": [
    {
     "data": {
      "text/plain": [
       "18.674969862358726"
      ]
     },
     "execution_count": 18,
     "metadata": {},
     "output_type": "execute_result"
    }
   ],
   "source": [
    "Ysample.computeVariance()[0]"
   ]
  },
  {
   "cell_type": "code",
   "execution_count": 19,
   "metadata": {},
   "outputs": [
    {
     "data": {
      "text/plain": [
       "4.321454600288972"
      ]
     },
     "execution_count": 19,
     "metadata": {},
     "output_type": "execute_result"
    }
   ],
   "source": [
    "Ysample.computeStandardDeviationPerComponent()[0]"
   ]
  },
  {
   "cell_type": "markdown",
   "metadata": {},
   "source": [
    "## Par Monte-Carlo simple avec un algorithme itératif\n",
    "\n",
    "La méthode la plus performante consiste à utiliser la plus petite taille de l'échantillon possible assurant une précision déterminée. Pour cela, le plan d'expériences augmente de manière incrémentale, en mettant à jour la moyenne empirique. Pour améliorer la performance, les simulations sont réalisées avec une taille de bloc fixée par l'utilisateur. Lorsqu'on souhaite estimer la moyenne, c'est la méthode \"moderne\".\n",
    "\n",
    "\n",
    "Il y a deux boucles imbriquées : la boucle externe de taille `maximumOuterSampling` et la boucle interne de taille `blockSize`.\n",
    "L'implémentation suivante empêcherait toute parallélisation car les évaluations de la fonction `g` sont réalisées une par une :\n",
    "```\n",
    "for i in range(maximumOuterSampling):\n",
    "    for j in range(blockSize):\n",
    "        sample = Y.getSample(1)\n",
    "```\n",
    "L'implémentation suivante permet la parallélisation car on peut évaluer plusieurs points à la fois à l'intérieur d'un bloc :\n",
    "```\n",
    "for i in range(maximumOuterSampling):\n",
    "    sample = Y.getSample(blockSize)\n",
    "```\n",
    "En effet, la méthode `getSample()` est parallèle si la fonction `g` est elle-même parallèle. \n",
    "\n",
    "La loi de la moyenne empirique de la sortie $Y=g(X)$ est:\n",
    "$$\n",
    "\\overline{Y_n} \\xrightarrow{d} \\mathcal{N}\\left(\\mu, \\frac{\\sigma^2}{n}\\right)\n",
    "$$\n",
    "\n",
    "quand $n\\rightarrow \\infty$, où $\\mu = E(Y)$ et $\\sigma^2 = V(Y)$.\n",
    "\n",
    "Par conséquent, le coefficient de variation asymptotique de l'estimateur $\\overline{Y_n}$ est :\n",
    "$$\n",
    "CV\\left(\\overline{Y}\\right) = \\frac{\\sqrt{V\\left(\\overline{Y}\\right)}}{E\\left(\\overline{Y}\\right)} = \\frac{\\sigma/\\sqrt{n}}{|\\mu|}.\n",
    "$$\n",
    "\n",
    "On l'estime par:\n",
    "$$\n",
    "\\widehat{CV}\\left(\\overline{Y}\\right) = \\frac{\\hat{\\sigma}/\\sqrt{n}}{\\left|\\overline{Y}_n\\right|}.\n",
    "$$\n"
   ]
  },
  {
   "cell_type": "code",
   "execution_count": 20,
   "metadata": {},
   "outputs": [],
   "source": [
    "g.clearHistory()"
   ]
  },
  {
   "cell_type": "code",
   "execution_count": 21,
   "metadata": {},
   "outputs": [],
   "source": [
    "algo = ot.ExpectationSimulationAlgorithm(Y)\n",
    "algo.setMaximumOuterSampling(1000)\n",
    "algo.setBlockSize(10)\n",
    "algo.setMaximumCoefficientOfVariation(0.01)"
   ]
  },
  {
   "cell_type": "code",
   "execution_count": 22,
   "metadata": {},
   "outputs": [],
   "source": [
    "algo.run()"
   ]
  },
  {
   "cell_type": "code",
   "execution_count": 23,
   "metadata": {},
   "outputs": [],
   "source": [
    "result = algo.getResult()"
   ]
  },
  {
   "cell_type": "code",
   "execution_count": 24,
   "metadata": {},
   "outputs": [
    {
     "name": "stdout",
     "output_type": "stream",
     "text": [
      "Number of iterations = 118\n"
     ]
    }
   ],
   "source": [
    "outerSampleSize = result.getOuterSampling()\n",
    "print(\"Number of iterations = %d\" % (outerSampleSize))"
   ]
  },
  {
   "cell_type": "code",
   "execution_count": 25,
   "metadata": {},
   "outputs": [
    {
     "name": "stdout",
     "output_type": "stream",
     "text": [
      "Mean = 12.730356 \n",
      "Number of calls to G = 1180\n",
      "Coef. of var.=0.009962\n"
     ]
    }
   ],
   "source": [
    "expectation = result.getExpectationEstimate()\n",
    "print(\"Mean = %f \" % expectation[0])\n",
    "blocksize = result.getBlockSize()\n",
    "sampleSize = outerSampleSize * blocksize\n",
    "print(\"Number of calls to G = %d\" % (sampleSize))\n",
    "cv = result.getCoefficientOfVariation()[0]\n",
    "print(\"Coef. of var.=%.6f\" % (cv))"
   ]
  },
  {
   "cell_type": "markdown",
   "metadata": {},
   "source": [
    "The estimate of the mean has a known asymptotical gaussian distribution, which can be retrieved with the `getExpectationDistribution` method. "
   ]
  },
  {
   "cell_type": "code",
   "execution_count": 26,
   "metadata": {
    "scrolled": true
   },
   "outputs": [
    {
     "name": "stdout",
     "output_type": "stream",
     "text": [
      "Normal(mu = 12.7304, sigma = 0.126824)\n"
     ]
    },
    {
     "data": {
      "image/png": "[encoded data removed]",
      "text/plain": [
       "class=Graph name=pdf as a function of Estimation de la moyenne de Y implementation=class=GraphImplementation name=pdf as a function of Estimation de la moyenne de Y title= xTitle=Estimation de la moyenne de Y yTitle=PDF axes=ON grid=ON legendposition=topright legendFontSize=1 drawables=[class=Drawable name=Unnamed implementation=class=Curve name=Unnamed derived from class=DrawableImplementation name=Unnamed legend=Estimation de la moyenne de Y PDF data=class=Sample name=Unnamed implementation=class=SampleImplementation name=Unnamed size=129 dimension=2 data=[[12.2572,0.0029832],[12.2646,0.00370181],[12.2719,0.00457793],[12.2793,0.0056422],[12.2867,0.0069303],[12.2941,0.00848358],[12.3015,0.0103498],[12.3089,0.0125836],[12.3163,0.0152477],[12.3237,0.0184131],[12.3311,0.0221602],[12.3385,0.0265794],[12.3459,0.0317716],[12.3533,0.0378493],[12.3607,0.0449366],[12.3681,0.05317],[12.3755,0.0626984],[12.3829,0.0736836],[12.3902,0.0862996],[12.3976,0.100733],[12.405,0.117181],[12.4124,0.135852],[12.4198,0.156964],[12.4272,0.180742],[12.4346,0.207415],[12.442,0.237217],[12.4494,0.27038],[12.4568,0.307134],[12.4642,0.3477],[12.4716,0.392289],[12.479,0.441094],[12.4864,0.494288],[12.4938,0.552017],[12.5012,0.614398],[12.5085,0.681507],[12.5159,0.753381],[12.5233,0.83001],[12.5307,0.91133],[12.5381,0.997223],[12.5455,1.08751],[12.5529,1.18194],[12.5603,1.28022],[12.5677,1.38196],[12.5751,1.48673],[12.5825,1.59401],[12.5899,1.70324],[12.5973,1.81378],[12.6047,1.92493],[12.6121,2.03597],[12.6195,2.1461],[12.6268,2.25451],[12.6342,2.36037],[12.6416,2.46281],[12.649,2.56098],[12.6564,2.65403],[12.6638,2.74112],[12.6712,2.82147],[12.6786,2.89431],[12.686,2.95897],[12.6934,3.0148],[12.7008,3.06127],[12.7082,3.0979],[12.7156,3.12433],[12.723,3.1403],[12.7304,3.14564],[12.7378,3.1403],[12.7451,3.12433],[12.7525,3.0979],[12.7599,3.06127],[12.7673,3.0148],[12.7747,2.95897],[12.7821,2.89431],[12.7895,2.82147],[12.7969,2.74112],[12.8043,2.65403],[12.8117,2.56098],[12.8191,2.46281],[12.8265,2.36037],[12.8339,2.25451],[12.8413,2.1461],[12.8487,2.03597],[12.856,1.92493],[12.8634,1.81378],[12.8708,1.70324],[12.8782,1.59401],[12.8856,1.48673],[12.893,1.38196],[12.9004,1.28022],[12.9078,1.18194],[12.9152,1.08751],[12.9226,0.997223],[12.93,0.91133],[12.9374,0.83001],[12.9448,0.753381],[12.9522,0.681507],[12.9596,0.614398],[12.967,0.552017],[12.9743,0.494288],[12.9817,0.441094],[12.9891,0.392289],[12.9965,0.3477],[13.0039,0.307134],[13.0113,0.27038],[13.0187,0.237217],[13.0261,0.207415],[13.0335,0.180742],[13.0409,0.156964],[13.0483,0.135852],[13.0557,0.117181],[13.0631,0.100733],[13.0705,0.0862996],[13.0779,0.0736836],[13.0853,0.0626984],[13.0926,0.05317],[13.1,0.0449366],[13.1074,0.0378493],[13.1148,0.0317716],[13.1222,0.0265794],[13.1296,0.0221602],[13.137,0.0184131],[13.1444,0.0152477],[13.1518,0.0125836],[13.1592,0.0103498],[13.1666,0.00848358],[13.174,0.0069303],[13.1814,0.0056422],[13.1888,0.00457793],[13.1962,0.00370181],[13.2036,0.0029832]] color=red fillStyle=solid lineStyle=solid pointStyle=none lineWidth=2]"
      ]
     },
     "execution_count": 26,
     "metadata": {},
     "output_type": "execute_result"
    }
   ],
   "source": [
    "expectationDistribution = result.getExpectationDistribution()\n",
    "expectationDistribution.setDescription([\"Estimation de la moyenne de Y\"])\n",
    "print(expectationDistribution)\n",
    "expectationDistribution.drawPDF()"
   ]
  },
  {
   "cell_type": "code",
   "execution_count": 27,
   "metadata": {},
   "outputs": [
    {
     "name": "stdout",
     "output_type": "stream",
     "text": [
      "Variance = 18.9955\n"
     ]
    }
   ],
   "source": [
    "Ysample = g.getOutputHistory()\n",
    "sampleSize = Ysample.getSize()\n",
    "print(\"Variance = %.4f\" % (Ysample.computeVariance()[0]))"
   ]
  },
  {
   "cell_type": "code",
   "execution_count": 28,
   "metadata": {
    "scrolled": true
   },
   "outputs": [
    {
     "data": {
      "image/png": "[encoded data removed]",
      "text/plain": [
       "class=Graph name=v0 PDF implementation=class=GraphImplementation name=v0 PDF title=Monte-Carlo, n=1180 xTitle=Y (cm) yTitle=PDF axes=ON grid=ON legendposition=topright legendFontSize=1 drawables=[class=Drawable name=Unnamed implementation=class=Curve name=Unnamed derived from class=DrawableImplementation name=Unnamed legend= data=class=Sample name=Unnamed implementation=class=SampleImplementation name=Unnamed size=124 dimension=2 data=[[4.80609,0],[5.36848,0],[5.36848,0],[5.36848,0.00828779],[6.49327,0.00828779],[6.49327,0],[6.49327,0],[6.49327,0.0399321],[7.61806,0.0399321],[7.61806,0],[7.61806,0],[7.61806,0.069316],[8.74286,0.069316],[8.74286,0],[8.74286,0],[8.74286,0.118289],[9.86765,0.118289],[9.86765,0],[9.86765,0],[9.86765,0.121303],[10.9924,0.121303],[10.9924,0],[10.9924,0],[10.9924,0.110002],[12.1172,0.110002],[12.1172,0],[12.1172,0],[12.1172,0.104727],[13.242,0.104727],[13.242,0],[13.242,0],[13.242,0.0889054],[14.3668,0.0889054],[14.3668,0],[14.3668,0],[14.3668,0.0565076],[15.4916,0.0565076],[15.4916,0],[15.4916,0],[15.4916,0.0444527],[16.6164,0.0444527],[16.6164,0],[16.6164,0],[16.6164,0.0308908],[17.7412,0.0308908],[17.7412,0],[17.7412,0],[17.7412,0.0226031],[18.866,0.0226031],[18.866,0],[18.866,0],[18.866,0.0195893],[19.9908,0.0195893],[19.9908,0],[19.9908,0],[19.9908,0.012055],[21.1156,0.012055],[21.1156,0],[21.1156,0],[21.1156,0.0128084],[22.2404,0.0128084],[22.2404,0],[22.2404,0],[22.2404,0.00602748],[23.3651,0.00602748],[23.3651,0],[23.3651,0],[23.3651,0.00376718],[24.4899,0.00376718],[24.4899,0],[24.4899,0],[24.4899,0.00452061],[25.6147,0.00452061],[25.6147,0],[25.6147,0],[25.6147,0.00226031],[26.7395,0.00226031],[26.7395,0],[26.7395,0],[26.7395,0.00376718],[27.8643,0.00376718],[27.8643,0],[27.8643,0],[27.8643,0],[28.9891,0],[28.9891,0],[28.9891,0],[28.9891,0.00226031],[30.1139,0.00226031],[30.1139,0],[30.1139,0],[30.1139,0],[31.2387,0],[31.2387,0],[31.2387,0],[31.2387,0.00150687],[32.3635,0.00150687],[32.3635,0],[32.3635,0],[32.3635,0.00150687],[33.4883,0.00150687],[33.4883,0],[33.4883,0],[33.4883,0.000753435],[34.6131,0.000753435],[34.6131,0],[34.6131,0],[34.6131,0.000753435],[35.7379,0.000753435],[35.7379,0],[35.7379,0],[35.7379,0],[36.8626,0],[36.8626,0],[36.8626,0],[36.8626,0.00150687],[37.9874,0.00150687],[37.9874,0],[37.9874,0],[37.9874,0.000753435],[39.1122,0.000753435],[39.1122,0],[39.1122,0],[39.6746,0]] color=red fillStyle=solid lineStyle=solid pointStyle=none lineWidth=2]"
      ]
     },
     "execution_count": 28,
     "metadata": {},
     "output_type": "execute_result"
    }
   ],
   "source": [
    "graph = ot.HistogramFactory().build(Ysample).drawPDF()\n",
    "graph.setTitle(\"Monte-Carlo, n=%d\" % (sampleSize))\n",
    "graph.setXTitle(\"Y (cm)\")\n",
    "graph.setLegends([\"\"])\n",
    "graph"
   ]
  },
  {
   "cell_type": "markdown",
   "metadata": {},
   "source": [
    "## Synthèse des résultats\n",
    "\n",
    "| Méthode | Moyenne | Variance |\n",
    "|--|--|--|\n",
    "| Taylor, 1er ordre | 12.33 | 17.44 |\n",
    "| Taylor, 2ème ordre | 12.63 | - |\n",
    "| Monte-Carlo simple, n=10000 | 12.62 | 18.67 |\n",
    "| Monte-Carlo itératif, n=1180 | 12.73 | 19.05 |\n"
   ]
  },
  {
   "cell_type": "markdown",
   "metadata": {},
   "source": [
    "## Exercice 1 : vérifications du développement de Taylor\n",
    "\n",
    "L'objectif de cet exercice est de vérifier que les méthodes de la librairie coïncident avec les formules que nous avons présenté précédemment pour l'estimation de moments par développement de Taylor.\n",
    "- Utiliser la méthode `getMean` de la variable `X` pour créer la variable `muX` contenant le point moyen $\\mu$ du vecteur aléatoire en entrée.\n",
    "- Evaluer le modèle `g` au point `muX` et comparer avec la valeur de retour de la méthode `getMeanFirstOrder`.\n",
    "- Utiliser la méthode `gradient` de la fonction `g` pour créer la variable `gradient` contenant la valeur du gradient de la fonction $g$ au point `muX`. \n",
    "- Utiliser la méthode `getCovariance` de la variable `X` pour créer la variable `covX` contenant la matrice de covariance diagonale du vecteur aléatoire en entrée. \n",
    "- Avec une boucle `for`, calculer la variance de la sortie `Y` en utilisant le développement de Taylor à l'ordre 1.\n",
    "Pour cela, vous pourrez vous aider du squelette suivant, dans lequel vous remplacerez les sections *TODO* par du code Python valide.\n",
    "```\n",
    "dim = len(distcoll)\n",
    "v = 0.\n",
    "for i in range(dim):\n",
    "    v = v+TODO\n",
    "```\n",
    "\n",
    "- Comparer le résultat précédent avec la valeur de retour de la méthode `getCovariance`."
   ]
  },
  {
   "cell_type": "markdown",
   "metadata": {},
   "source": [
    "## Exercice 2 : loi de la moyenne empirique\n",
    "\n",
    "L'objectif de cet exercice est de vérifier la loi gaussienne de la moyenne empirique indiquée par le T.C.L.. Pour cela, nous considérons un échantillon Monte-Carlo simple de taille $n=100$. Cette faible taille d'échantillon est associée à une variabilité relativement importante de l'estimateur de la moyenne empirique. Puis nous allons réaliser $r$ estimations de la moyenne empirique. Nous allons ensuite comparer la distribution théorique et la distribution empirique. \n",
    "- Créer la variable `n=100`. \n",
    "- Générer un échantillon `Ysample` de taille `n` de la variable de sortie `Y`. Créer la variable `sigma` contenant l'écart-type empirique de cet échantillon. \n",
    "- Créer la variable `r=1000`. \n",
    "- Créer la variable `meanSample` de type `Sample` de taille `r` en dimension 1.\n",
    "- Avec une boucle `for` sur l'indice `k`, répéter l'expérience suivante `r` fois. \n",
    "  - Générer un échantillon `Ysample` de taille `n` de la variable de sortie `Y`.\n",
    "  - Stocker dans `meanSample[k,0]` la moyenne empirique de `Ysample`.\n",
    "Pour cela, vous pourrez vous inspirer du squelette suivant, dans lequel vous remplacer les sections *TODO* par du code Python valide.\n",
    "\n",
    "```\n",
    "r = 1000\n",
    "meanSample = ot.Sample(r,1)\n",
    "for k in range(r):\n",
    "    Ysample = TODO\n",
    "    meanSample[k,0] = Ysample.TODO\n",
    "```\n",
    "\n",
    "- Calculer `mu` la moyenne empirique de l'échantillon `meanSample`. \n",
    "- Créer la variable `M` de loi gaussienne de moyenne `mu` et d'écart-type `sigma/sqrt(n)`. \n",
    "- Dessiner l'histogramme empirique de l'échantillon `meanSample`. Dans le même graphique, dessiner la PDF de `M`.\n",
    "\n",
    "- Optionnel : Utiliser la taille d'échantillon `n=400`. Quel est l'impact sur la distribution de la moyenne empirique ?"
   ]
  },
  {
   "cell_type": "markdown",
   "metadata": {},
   "source": [
    "## Exercice 3 : fixer une variable\n",
    "\n",
    "On observe que le facteur d'importance associé à la variable $L$ est égal à 0.0100. Cela implique que, si on fixe cette variable à sa valeur moyenne, alors la variance va être peu modifiée. L'objectif de cet exercice est de le vérifier expérimentalement.\n",
    "- Créer la variable `Lmean` contenant la valeur moyenne de la variable `dist_L` associée à $L$ grâce à la méthode `getMean`. \n",
    "- Créer la variable `L_fixed` contenant une distribution de type `Dirac` de paramètre `Lmean`. \n",
    "- Créer la distribution `Xfixed` associée au vecteur aléatoire dont la marginale $L$ est fixée. \n",
    "- Créer la variable `Yfixed` contenant le vecteur aléatoire de sortie associé. \n",
    "- Calculer la moyenne et la variance prédites par le développement de Taylor à l'ordre 1. \n",
    "- Comparer ces résultats avec les résultats du modèle précédent. \n",
    "- La perte de variance correspond-elle à la valeur du facteur d'importance ? Pourquoi ?"
   ]
  },
  {
   "cell_type": "markdown",
   "metadata": {},
   "source": [
    "## Exercice 4 : développement de Taylor avec dépendance\n",
    "\n",
    "On suppose que le problème est associé à une structure de dépendance gaussienne. Le coefficient de corrélation de Spearman (sur les rangs) est entre la longueur $L$ et le moment d'inertie $I$ est égal à \n",
    "$$\n",
    "\\rho_{rg}(L,I) = -0.2.\n",
    "$$\n",
    "L'objectif de cet exercice est d'observer comment cette dépendance peut affecter les moments estimés par développement de Taylor.\n",
    "\n",
    "- Définir la copule associée à cette nouvelle structure de dépendance. Pour cela, créer la matrice de corrélation sur les rangs `smatrix` avec la classe `CorrelationMatrix`. \n",
    "- Créer la variable `matrix` contenant la matrice de corrélation de Pearson calculée grâce à la fonction `GetCorrelationFromSpearmanCorrelation` et de la matrice `smatrix`.\n",
    "- Créer la variable `copula` contenant la copule gaussienne grâce à la classe `NormalCopula`.\n",
    "- Créer la variable `Xgauss` contenant le vecteur aléatoire en entrée du modèle, puis le vecteur aléatoire de sortie correspondant `Ygauss`.\n",
    "- Utiliser la classe `TaylorExpansionMoments` pour calculer la moyenne, l'écart-type et les facteurs d'importance de la sortie `Y`.\n",
    "- Comparer les résultats numériques avec ceux sans dépendance. Comment expliquer les différences ?"
   ]
  }
 ],
 "metadata": {
  "kernelspec": {
   "display_name": "Python 3",
   "language": "python",
   "name": "python3"
  },
  "language_info": {
   "codemirror_mode": {
    "name": "ipython",
    "version": 3
   },
   "file_extension": ".py",
   "mimetype": "text/x-python",
   "name": "python",
   "nbconvert_exporter": "python",
   "pygments_lexer": "ipython3",
   "version": "3.8.6"
  }
 },
 "nbformat": 4,
 "nbformat_minor": 2
}
