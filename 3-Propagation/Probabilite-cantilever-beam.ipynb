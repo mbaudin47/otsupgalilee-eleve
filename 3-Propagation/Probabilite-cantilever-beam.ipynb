{
 "cells": [
  {
   "cell_type": "markdown",
   "metadata": {},
   "source": [
    "# Estimer une probabilité de dépassement de seuil - Application au cas de la poutre en flexion\n"
   ]
  },
  {
   "cell_type": "markdown",
   "metadata": {},
   "source": [
    "## Déviation  verticale d'une poutre encastrée\n",
    "\n",
    "We consider a cantilever beam defined by its Young’s modulus $E$, its length $L$ and its section modulus $I$. One end is built in a wall and we apply a concentrated bending load $F$ at the other end of the beam, resulting in a vertical deviation $Y$.\n",
    "\n",
    "<img src=\"poutre.png\" width=\"200\">\n",
    "\n",
    "__Inputs__:  $\\left\\{ E, F, L, I \\right\\}$\n",
    "* $E$ : Young modulus (Pa)\n",
    "* $F$ : Loading (N),\n",
    "* $L$ : Length of beam (cm),\n",
    "* $I$ : Moment of inertia (cm^4).\n",
    "\n",
    "|Variable|  Distribution|\n",
    "| ------------- |-------------|\n",
    "|E| Beta(alpha = 0.9, beta = 2.2, a = $2.5\\times 10^7$, $b = 5\\times 10^7$) |\n",
    "|F| Lognormal($\\mu_F=3 \\times 10^4$, $\\sigma_F=9\\times 10^3$, shift=$15\\times 10^3$)|\n",
    "|L| Uniform(min=250.0, max= 260.0)|\n",
    "|I| Beta(alpha = 2.5, beta = 1.5, a = 310, b = 450)|\n",
    "\n",
    "In the previous table $\\mu_F=E(F)$ and $\\sigma_F=\\sqrt{V(F)}$ are the mean and the standard deviation of $F$.\n",
    "\n",
    "The input variables are supposed to be independent.\n",
    "\n",
    "__Output__:\n",
    "\n",
    "The vertical displacement at free end of the cantilever beam is:\n",
    "$$\n",
    "Y  = \\dfrac{F\\, L^3}{3 \\, E \\, I}\n",
    "$$\n",
    "It is considered that failure occurs when the beam deviation is greater than 30 cm:\n",
    "$$\n",
    "Y \\geq 30 \\textrm{ (cm)}\n",
    "$$\n",
    "With a Monte-Carlo sample size equal to 7 120 000, we get:\n",
    "$$\n",
    "P(Y\\geq 30) = 0.005590.\n",
    "$$\n",
    "The 95% confidence interval is \n",
    "$$\n",
    "P([0.005536,0.005645]\\ni P_f)=0.95.\n",
    "$$"
   ]
  },
  {
   "cell_type": "markdown",
   "metadata": {},
   "source": [
    "# Model definition"
   ]
  },
  {
   "cell_type": "code",
   "execution_count": 1,
   "metadata": {},
   "outputs": [],
   "source": [
    "import openturns as ot\n",
    "import numpy as np"
   ]
  },
  {
   "cell_type": "code",
   "execution_count": 2,
   "metadata": {},
   "outputs": [],
   "source": [
    "dist_E = ot.Beta(0.9, 2.2, 2.8e7, 4.8e7)\n",
    "dist_E.setDescription([\"E\"])\n",
    "F_para = ot.LogNormalMuSigma(3.0e4, 9.0e3, 15.0e3) # in N\n",
    "dist_F = ot.ParametrizedDistribution(F_para)\n",
    "dist_F.setDescription([\"F\"])\n",
    "dist_L = ot.Uniform(250.0, 260.0) # in cm\n",
    "dist_L.setDescription([\"L\"])\n",
    "dist_I = ot.Beta(2.5, 1.5, 310.0, 450.0) # in cm^4\n",
    "dist_I.setDescription([\"I\"])\n",
    "\n",
    "X = ot.ComposedDistribution([dist_E, dist_F, dist_L, dist_I])"
   ]
  },
  {
   "cell_type": "code",
   "execution_count": 3,
   "metadata": {},
   "outputs": [],
   "source": [
    "g = ot.SymbolicFunction( [\"E\",\"F\",\"L\",\"I\"],[\"F* L^3 /  (3 * E * I)\"])\n",
    "g.setOutputDescription([\"Y (cm)\"])"
   ]
  },
  {
   "cell_type": "markdown",
   "metadata": {},
   "source": [
    "Pour pouvoir exploiter au mieux les simulations, nous équipons la fonction d'un méchanisme d'historique."
   ]
  },
  {
   "cell_type": "code",
   "execution_count": 4,
   "metadata": {},
   "outputs": [],
   "source": [
    "g = ot.MemoizeFunction(g)"
   ]
  },
  {
   "cell_type": "markdown",
   "metadata": {},
   "source": [
    "Enfin, nous définissons le vecteur aléatoire de sortie."
   ]
  },
  {
   "cell_type": "code",
   "execution_count": 5,
   "metadata": {},
   "outputs": [],
   "source": [
    "XRV = ot.RandomVector(X)\n",
    "Y = ot.CompositeRandomVector(g, XRV)\n",
    "Y.setDescription(['Y (cm)'])"
   ]
  },
  {
   "cell_type": "markdown",
   "metadata": {},
   "source": [
    "## Par Monte-Carlo simple avec un budget fixé\n",
    "\n",
    "La manière la plus simple de faire une telle étude consiste à fixer le nombre de simulations à l'avance. En d'autres termes, on fixe $n$ et on génère un échantillon de la variable de sortie $Y$ de taille $n$. C'est la méthode \"traditionnelle\"."
   ]
  },
  {
   "cell_type": "code",
   "execution_count": 6,
   "metadata": {},
   "outputs": [],
   "source": [
    "n = 10000"
   ]
  },
  {
   "cell_type": "code",
   "execution_count": 7,
   "metadata": {},
   "outputs": [],
   "source": [
    "Ysample = Y.getSample(n)"
   ]
  },
  {
   "cell_type": "code",
   "execution_count": 8,
   "metadata": {
    "scrolled": false
   },
   "outputs": [
    {
     "data": {
      "image/png": "[encoded data removed]",
      "text/plain": [
       "class=Graph name=Y (cm) PDF implementation=class=GraphImplementation name=Y (cm) PDF title=Y (cm) PDF xTitle=Y (cm) yTitle=PDF axes=ON grid=ON legendposition=topright legendFontSize=1 drawables=[class=Drawable name=Unnamed implementation=class=Curve name=Unnamed derived from class=DrawableImplementation name=Unnamed legend= data=class=Sample name=Unnamed implementation=class=SampleImplementation name=Unnamed size=376 dimension=2 data=[[5.15843,0],[5.43996,0],[5.43996,0],[5.43996,0.00639377],[6.003,0.00639377],[6.003,0],[6.003,0],[6.003,0.0138532],[6.56605,0.0138532],[6.56605,0],[6.56605,0],[6.56605,0.0293048],[7.1291,0.0293048],[7.1291,0],[7.1291,0],[7.1291,0.0470652],[7.69215,0.0470652],[7.69215,0],[7.69215,0],[7.69215,0.0756596],[8.2552,0.0756596],[8.2552,0],[8.2552,0],[8.2552,0.0875591],[8.81825,0.0875591],[8.81825,0],[8.81825,0],[8.81825,0.117397],[9.38129,0.117397],[9.38129,0],[9.38129,0],[9.38129,0.124678],[9.94434,0.124678],[9.94434,0],[9.94434,0],[9.94434,0.12237],[10.5074,0.12237],[10.5074,0],[10.5074,0],[10.5074,0.129829],[11.0704,0.129829],[11.0704,0],[11.0704,0],[11.0704,0.126632],[11.6335,0.126632],[11.6335,0],[11.6335,0],[11.6335,0.106563],[12.1965,0.106563],[12.1965,0],[12.1965,0],[12.1965,0.0994586],[12.7596,0.0994586],[12.7596,0],[12.7596,0],[12.7596,0.0861383],[13.3226,0.0861383],[13.3226,0],[13.3226,0],[13.3226,0.0850726],[13.8857,0.0850726],[13.8857,0],[13.8857,0],[13.8857,0.0724627],[14.4487,0.0724627],[14.4487,0],[14.4487,0],[14.4487,0.0639377],[15.0118,0.0639377],[15.0118,0],[15.0118,0],[15.0118,0.0507949],[15.5748,0.0507949],[15.5748,0],[15.5748,0],[15.5748,0.0420923],[16.1379,0.0420923],[16.1379,0],[16.1379,0],[16.1379,0.0380074],[16.7009,0.0380074],[16.7009,0],[16.7009,0],[16.7009,0.0348105],[17.264,0.0348105],[17.264,0],[17.264,0],[17.264,0.0310808],[17.827,0.0310808],[17.827,0],[17.827,0],[17.827,0.024687],[18.3901,0.024687],[18.3901,0],[18.3901,0],[18.3901,0.0222006],[18.9531,0.0222006],[18.9531,0],[18.9531,0],[18.9531,0.0181157],[19.5162,0.0181157],[19.5162,0],[19.5162,0],[19.5162,0.0168724],[20.0792,0.0168724],[20.0792,0],[20.0792,0],[20.0792,0.0103011],[20.6423,0.0103011],[20.6423,0],[20.6423,0],[20.6423,0.0117219],[21.2053,0.0117219],[21.2053,0],[21.2053,0],[21.2053,0.0115443],[21.7684,0.0115443],[21.7684,0],[21.7684,0],[21.7684,0.00834742],[22.3314,0.00834742],[22.3314,0],[22.3314,0],[22.3314,0.00781461],[22.8945,0.00781461],[22.8945,0],[22.8945,0],[22.8945,0.00550574],[23.4575,0.00550574],[23.4575,0],[23.4575,0],[23.4575,0.00710419],[24.0205,0.00710419],[24.0205,0],[24.0205,0],[24.0205,0.00408491],[24.5836,0.00408491],[24.5836,0],[24.5836,0],[24.5836,0.00355209],[25.1466,0.00355209],[25.1466,0],[25.1466,0],[25.1466,0.00301928],[25.7097,0.00301928],[25.7097,0],[25.7097,0],[25.7097,0.00408491],[26.2727,0.00408491],[26.2727,0],[26.2727,0],[26.2727,0.00301928],[26.8358,0.00301928],[26.8358,0],[26.8358,0],[26.8358,0.00213126],[27.3988,0.00213126],[27.3988,0],[27.3988,0],[27.3988,0.00355209],[27.9619,0.00355209],[27.9619,0],[27.9619,0],[27.9619,0.00319688],[28.5249,0.00319688],[28.5249,0],[28.5249,0],[28.5249,0.00142084],[29.088,0.00142084],[29.088,0],[29.088,0],[29.088,0.00177605],[29.651,0.00177605],[29.651,0],[29.651,0],[29.651,0.00142084],[30.2141,0.00142084],[30.2141,0],[30.2141,0],[30.2141,0.00159844],[30.7771,0.00159844],[30.7771,0],[30.7771,0],[30.7771,0.000888023],[31.3402,0.000888023],[31.3402,0],[31.3402,0],[31.3402,0.000888023],[31.9032,0.000888023],[31.9032,0],[31.9032,0],[31.9032,0.000177605],[32.4663,0.000177605],[32.4663,0],[32.4663,0],[32.4663,0.000888023],[33.0293,0.000888023],[33.0293,0],[33.0293,0],[33.0293,0.000177605],[33.5924,0.000177605],[33.5924,0],[33.5924,0],[33.5924,0.000355209],[34.1554,0.000355209],[34.1554,0],[34.1554,0],[34.1554,0.00106563],[34.7185,0.00106563],[34.7185,0],[34.7185,0],[34.7185,0.000177605],[35.2815,0.000177605],[35.2815,0],[35.2815,0],[35.2815,0.000532814],[35.8446,0.000532814],[35.8446,0],[35.8446,0],[35.8446,0.000532814],[36.4076,0.000532814],[36.4076,0],[36.4076,0],[36.4076,0.000355209],[36.9707,0.000355209],[36.9707,0],[36.9707,0],[36.9707,0],[37.5337,0],[37.5337,0],[37.5337,0],[37.5337,0],[38.0968,0],[38.0968,0],[38.0968,0],[38.0968,0.000177605],[38.6598,0.000177605],[38.6598,0],[38.6598,0],[38.6598,0.000355209],[39.2229,0.000355209],[39.2229,0],[39.2229,0],[39.2229,0.000177605],[39.7859,0.000177605],[39.7859,0],[39.7859,0],[39.7859,0],[40.3489,0],[40.3489,0],[40.3489,0],[40.3489,0],[40.912,0],[40.912,0],[40.912,0],[40.912,0.000177605],[41.475,0.000177605],[41.475,0],[41.475,0],[41.475,0],[42.0381,0],[42.0381,0],[42.0381,0],[42.0381,0.000177605],[42.6011,0.000177605],[42.6011,0],[42.6011,0],[42.6011,0],[43.1642,0],[43.1642,0],[43.1642,0],[43.1642,0],[43.7272,0],[43.7272,0],[43.7272,0],[43.7272,0.000177605],[44.2903,0.000177605],[44.2903,0],[44.2903,0],[44.2903,0],[44.8533,0],[44.8533,0],[44.8533,0],[44.8533,0],[45.4164,0],[45.4164,0],[45.4164,0],[45.4164,0],[45.9794,0],[45.9794,0],[45.9794,0],[45.9794,0],[46.5425,0],[46.5425,0],[46.5425,0],[46.5425,0],[47.1055,0],[47.1055,0],[47.1055,0],[47.1055,0.000177605],[47.6686,0.000177605],[47.6686,0],[47.6686,0],[47.6686,0],[48.2316,0],[48.2316,0],[48.2316,0],[48.2316,0],[48.7947,0],[48.7947,0],[48.7947,0],[48.7947,0.000177605],[49.3577,0.000177605],[49.3577,0],[49.3577,0],[49.3577,0],[49.9208,0],[49.9208,0],[49.9208,0],[49.9208,0],[50.4838,0],[50.4838,0],[50.4838,0],[50.4838,0],[51.0469,0],[51.0469,0],[51.0469,0],[51.0469,0],[51.6099,0],[51.6099,0],[51.6099,0],[51.6099,0],[52.173,0],[52.173,0],[52.173,0],[52.173,0],[52.736,0],[52.736,0],[52.736,0],[52.736,0],[53.2991,0],[53.2991,0],[53.2991,0],[53.2991,0],[53.8621,0],[53.8621,0],[53.8621,0],[53.8621,0],[54.4252,0],[54.4252,0],[54.4252,0],[54.4252,0],[54.9882,0],[54.9882,0],[54.9882,0],[54.9882,0],[55.5512,0],[55.5512,0],[55.5512,0],[55.5512,0],[56.1143,0],[56.1143,0],[56.1143,0],[56.1143,0],[56.6773,0],[56.6773,0],[56.6773,0],[56.6773,0],[57.2404,0],[57.2404,0],[57.2404,0],[57.2404,0.000177605],[57.8034,0.000177605],[57.8034,0],[57.8034,0],[58.085,0]] color=red fillStyle=solid lineStyle=solid pointStyle=none lineWidth=2]"
      ]
     },
     "execution_count": 8,
     "metadata": {},
     "output_type": "execute_result"
    }
   ],
   "source": [
    "graph = ot.HistogramFactory().build(Ysample).drawPDF()\n",
    "graph.setXTitle(\"Y (cm)\")\n",
    "graph.setLegends([\"\"])\n",
    "graph"
   ]
  },
  {
   "cell_type": "markdown",
   "metadata": {},
   "source": [
    "La probabilité recherchée peut être calculée en évaluant la fonction de répartition complémentaire de l'échantillon."
   ]
  },
  {
   "cell_type": "code",
   "execution_count": 9,
   "metadata": {},
   "outputs": [
    {
     "data": {
      "text/plain": [
       "0.0055"
      ]
     },
     "execution_count": 9,
     "metadata": {},
     "output_type": "execute_result"
    }
   ],
   "source": [
    "pf = Ysample.computeEmpiricalCDF([30.],True)\n",
    "pf"
   ]
  },
  {
   "cell_type": "code",
   "execution_count": 10,
   "metadata": {},
   "outputs": [],
   "source": [
    "alpha = 0.05"
   ]
  },
  {
   "cell_type": "code",
   "execution_count": 11,
   "metadata": {},
   "outputs": [
    {
     "data": {
      "text/plain": [
       "0.0007395775821372629"
      ]
     },
     "execution_count": 11,
     "metadata": {},
     "output_type": "execute_result"
    }
   ],
   "source": [
    "sigmapf = np.sqrt(pf*(1-pf)/n)\n",
    "sigmapf"
   ]
  },
  {
   "cell_type": "code",
   "execution_count": 12,
   "metadata": {},
   "outputs": [
    {
     "data": {
      "text/html": [
       "<p>Normal(mu = 0.0055, sigma = 0.000739578)</p>"
      ],
      "text/plain": [
       "class=Normal name=Normal dimension=1 mean=class=Point name=Unnamed dimension=1 values=[0.0055] sigma=class=Point name=Unnamed dimension=1 values=[0.000739578] correlationMatrix=class=CorrelationMatrix dimension=1 implementation=class=MatrixImplementation name=Unnamed rows=1 columns=1 values=[1]"
      ]
     },
     "execution_count": 12,
     "metadata": {},
     "output_type": "execute_result"
    }
   ],
   "source": [
    "pf_dist = ot.Normal(pf,sigmapf)\n",
    "pf_dist"
   ]
  },
  {
   "cell_type": "code",
   "execution_count": 13,
   "metadata": {},
   "outputs": [
    {
     "name": "stdout",
     "output_type": "stream",
     "text": [
      "95.00% confidence interval = [0.004050,0.006950]\n"
     ]
    }
   ],
   "source": [
    "bounds = pf_dist.computeBilateralConfidenceInterval(1-alpha)\n",
    "lb = bounds.getLowerBound()[0]\n",
    "up = bounds.getUpperBound()[0]\n",
    "print(\"%.2f%% confidence interval = [%f,%f]\" % ((1-alpha)*100,lb,up))"
   ]
  },
  {
   "cell_type": "code",
   "execution_count": 14,
   "metadata": {},
   "outputs": [
    {
     "data": {
      "image/png": "[encoded data removed]",
      "text/plain": [
       "class=Graph name=pdf as a function of X0 implementation=class=GraphImplementation name=pdf as a function of X0 title=Pf estimate xTitle=Pf estimate yTitle=PDF axes=ON grid=ON legendposition=topright legendFontSize=1 drawables=[class=Drawable name=Unnamed implementation=class=Curve name=Unnamed derived from class=DrawableImplementation name=Unnamed legend= data=class=Sample name=Unnamed implementation=class=SampleImplementation name=Unnamed size=129 dimension=2 data=[[0.00274052,0.511563],[0.00278363,0.63479],[0.00282675,0.785029],[0.00286987,0.967532],[0.00291299,1.18842],[0.0029561,1.45477],[0.00299922,1.77479],[0.00304234,2.15785],[0.00308545,2.61469],[0.00312857,3.1575],[0.00317169,3.80006],[0.0032148,4.55786],[0.00325792,5.44823],[0.00330104,6.49044],[0.00334415,7.70578],[0.00338727,9.11765],[0.00343039,10.7516],[0.00347351,12.6354],[0.00351662,14.7988],[0.00355974,17.2738],[0.00360286,20.0943],[0.00364597,23.2961],[0.00368909,26.9164],[0.00373221,30.9938],[0.00377532,35.5677],[0.00381844,40.6782],[0.00386156,46.3651],[0.00390467,52.6677],[0.00394779,59.6241],[0.00399091,67.2702],[0.00403402,75.6393],[0.00407714,84.7611],[0.00412026,94.6606],[0.00416338,105.358],[0.00420649,116.866],[0.00424961,129.191],[0.00429273,142.331],[0.00433584,156.276],[0.00437896,171.005],[0.00442208,186.487],[0.00446519,202.681],[0.00450831,219.534],[0.00455143,236.981],[0.00459454,254.946],[0.00463766,273.344],[0.00468078,292.074],[0.0047239,311.028],[0.00476701,330.089],[0.00481013,349.13],[0.00485325,368.016],[0.00489636,386.607],[0.00493948,404.759],[0.0049826,422.326],[0.00502571,439.16],[0.00506883,455.116],[0.00511195,470.051],[0.00515506,483.829],[0.00519818,496.32],[0.0052413,507.407],[0.00528442,516.982],[0.00532753,524.95],[0.00537065,531.232],[0.00541377,535.765],[0.00545688,538.503],[0.0055,539.419],[0.00554312,538.503],[0.00558623,535.765],[0.00562935,531.232],[0.00567247,524.95],[0.00571558,516.982],[0.0057587,507.407],[0.00580182,496.32],[0.00584494,483.829],[0.00588805,470.051],[0.00593117,455.116],[0.00597429,439.16],[0.0060174,422.326],[0.00606052,404.759],[0.00610364,386.607],[0.00614675,368.016],[0.00618987,349.13],[0.00623299,330.089],[0.0062761,311.028],[0.00631922,292.074],[0.00636234,273.344],[0.00640546,254.946],[0.00644857,236.981],[0.00649169,219.534],[0.00653481,202.681],[0.00657792,186.487],[0.00662104,171.005],[0.00666416,156.276],[0.00670727,142.331],[0.00675039,129.191],[0.00679351,116.866],[0.00683662,105.358],[0.00687974,94.6606],[0.00692286,84.7611],[0.00696598,75.6393],[0.00700909,67.2702],[0.00705221,59.6241],[0.00709533,52.6677],[0.00713844,46.3651],[0.00718156,40.6782],[0.00722468,35.5677],[0.00726779,30.9938],[0.00731091,26.9164],[0.00735403,23.2961],[0.00739714,20.0943],[0.00744026,17.2738],[0.00748338,14.7988],[0.00752649,12.6354],[0.00756961,10.7516],[0.00761273,9.11765],[0.00765585,7.70578],[0.00769896,6.49044],[0.00774208,5.44823],[0.0077852,4.55786],[0.00782831,3.80006],[0.00787143,3.1575],[0.00791455,2.61469],[0.00795766,2.15785],[0.00800078,1.77479],[0.0080439,1.45477],[0.00808701,1.18842],[0.00813013,0.967532],[0.00817325,0.785029],[0.00821637,0.63479],[0.00825948,0.511563]] color=red fillStyle=solid lineStyle=solid pointStyle=none lineWidth=2]"
      ]
     },
     "execution_count": 14,
     "metadata": {},
     "output_type": "execute_result"
    }
   ],
   "source": [
    "graph = pf_dist.drawPDF()\n",
    "graph.setXTitle(\"Pf estimate\")\n",
    "graph.setTitle(\"Pf estimate\")\n",
    "graph.setLegends([\"\"])\n",
    "graph"
   ]
  },
  {
   "cell_type": "markdown",
   "metadata": {},
   "source": [
    "## Par Monte-Carlo avec un algorithme itératif\n",
    "\n",
    "La classe `ProbabilitySimulationAlgorithm` permet de calculer une probabilité avec une précision fixée par l'utilisateur en utilisant la taille d'échantillon $n$ la plus petite possible."
   ]
  },
  {
   "cell_type": "code",
   "execution_count": 15,
   "metadata": {},
   "outputs": [],
   "source": [
    "myEvent = ot.ThresholdEvent(Y, ot.Greater(), 30.0)"
   ]
  },
  {
   "cell_type": "code",
   "execution_count": 16,
   "metadata": {},
   "outputs": [],
   "source": [
    "blocksize = 1000\n",
    "experiment = ot.MonteCarloExperiment()\n",
    "myAlgo = ot.ProbabilitySimulationAlgorithm(myEvent, experiment)\n",
    "myAlgo.setMaximumOuterSampling(10000)\n",
    "myAlgo.setBlockSize(blocksize)\n",
    "myAlgo.setMaximumCoefficientOfVariation(0.01)"
   ]
  },
  {
   "cell_type": "code",
   "execution_count": 17,
   "metadata": {},
   "outputs": [],
   "source": [
    "myAlgo.run()"
   ]
  },
  {
   "cell_type": "code",
   "execution_count": 18,
   "metadata": {},
   "outputs": [],
   "source": [
    "result = myAlgo.getResult()"
   ]
  },
  {
   "cell_type": "code",
   "execution_count": 19,
   "metadata": {},
   "outputs": [
    {
     "data": {
      "text/plain": [
       "1773"
      ]
     },
     "execution_count": 19,
     "metadata": {},
     "output_type": "execute_result"
    }
   ],
   "source": [
    "outersampling = result.getOuterSampling()\n",
    "outersampling"
   ]
  },
  {
   "cell_type": "code",
   "execution_count": 20,
   "metadata": {},
   "outputs": [
    {
     "data": {
      "text/plain": [
       "1773000"
      ]
     },
     "execution_count": 20,
     "metadata": {},
     "output_type": "execute_result"
    }
   ],
   "source": [
    "funccalls = blocksize * outersampling\n",
    "funccalls"
   ]
  },
  {
   "cell_type": "code",
   "execution_count": 21,
   "metadata": {},
   "outputs": [
    {
     "data": {
      "text/plain": [
       "0.005617033276931718"
      ]
     },
     "execution_count": 21,
     "metadata": {},
     "output_type": "execute_result"
    }
   ],
   "source": [
    "pf = result.getProbabilityEstimate()\n",
    "pf"
   ]
  },
  {
   "cell_type": "code",
   "execution_count": 22,
   "metadata": {},
   "outputs": [],
   "source": [
    "alpha = 0.05"
   ]
  },
  {
   "cell_type": "code",
   "execution_count": 23,
   "metadata": {
    "scrolled": true
   },
   "outputs": [
    {
     "name": "stdout",
     "output_type": "stream",
     "text": [
      "95.00% confidence interval = [0.005507,0.005727]\n"
     ]
    }
   ],
   "source": [
    "pflen = result.getConfidenceLength(1-alpha)\n",
    "print(\"%.2f%% confidence interval = [%f,%f]\" % ((1-alpha)*100,pf-pflen/2,pf+pflen/2))"
   ]
  },
  {
   "cell_type": "markdown",
   "metadata": {},
   "source": [
    "Note. Dans OT 1.12, on ne peut pas obtenir la distribution de l'estimateur de pf. Ce bug a été corrigé dans https://github.com/openturns/openturns/issues/1035 et la méthode `getProbabilityDistribution` sera disponible dans OT 1.13."
   ]
  },
  {
   "cell_type": "markdown",
   "metadata": {},
   "source": [
    "## Exercice 1 : sensibilité aux paramètres\n",
    " \n",
    " L'objectif de cet exercice est d'utiliser la classe `ProbabilitySimulationAlgorithm`, de comprendre ses paramètres et interpréter ses résutlats.\n",
    " - Créer une fonction `calculePF` qui prend en argument le seuil `threshold` et le coefficient de variation `coeffofvar`. Dans le corps de la fonction, utiliser la classe `ProbabilitySimulationAlgorithm` et calculer, puis afficher :\n",
    "   - la probabilité de dépassement de seuil $p_f$, \n",
    "   - l'intervalle de confiance à 95% et \n",
    "   - le nombre d'appels à la fonction $g$.\n",
    "   \n",
    "Pour vous aider, vous pouvez vous inspirer du squelette suivant, dans lequel vous remplacerez les sections *TODO* par du code Python valide.\n",
    "\n",
    "```\n",
    "def calculePF(threshold,coeffofvar):\n",
    "    print(\"Seuil = %f, C.V. = %f\" % (threshold,coeffofvar))\n",
    "    myEvent = ot.ThresholdEvent(TODO)\n",
    "    experiment = ot.MonteCarloExperiment()\n",
    "    myAlgo = ot.ProbabilitySimulationAlgorithm(TODO)\n",
    "    myAlgo.setMaximumOuterSampling(TODO)\n",
    "    myAlgo.setBlockSize(TODO)\n",
    "    myAlgo.setMaximumCoefficientOfVariation(TODO)\n",
    "    myAlgo.run()\n",
    "    result = TODO\n",
    "    pf = TODO\n",
    "    alpha = TODO\n",
    "    pflen = result.TODO\n",
    "    outersampling = result.TODO\n",
    "    funccalls = TODO\n",
    "    print(\"    Outersampling = %d, Nb. function G calls = %d\" % (outersampling,funccalls))\n",
    "    print(\"    Pf = %f\" % (pf))\n",
    "    print(\"    %.2f%% confidence interval = [%f,%f]\" % ((1-alpha)*100,pf-pflen/2,pf+pflen/2))\n",
    "    return None\n",
    "```\n",
    "\n",
    " - Pour les valeurs du seuil égales à 10, 20 et 30 cm et un coefficient de variation égal à 0.01, utiliser la fonction fonction `calculePF`. Pour interpréter vos résultats, présentez-les dans une table. Qu'observez-vous ? Expliquer le sens physique du résultat. \n",
    " - On considère un seuil égal à s=30 cm. Configurer le coefficient de variation à 0.1, 0.05 et 0.01 et calculer le nombre d'appel à la fonction $g$. Pour interpréter vos résultats, présentez-les dans une table. Qu'observez-vous ? Expliquer pourquoi ce résultat est en lien avec le fonctionnement de l'algorithme."
   ]
  },
  {
   "cell_type": "markdown",
   "metadata": {},
   "source": [
    "## Exercice 2 : probabilité en fonction du seuil\n",
    "\n",
    "L'objectif de cet exercice est d'observer l'évolution de la probabilité lorsque le seuil augmente. Pour cela, on utilise un échantillon de taille fixé. \n",
    "- Créer la variable `Ysample` contenant un échantillon de $Y$ de taille 100000. \n",
    "- Créer la variable `thresholdarray` contenant 10 valeurs de $s$ entre 20 et 50. \n",
    "- Pour chaque valeur de seuil $s$, calculer \n",
    "  - la probabilité de dépassement de seuil,\n",
    "  - la borne inférieure de l'intervalle de confiance,\n",
    "  - la borne supérieure de l'intervalle de confiance.\n",
    "\n",
    "Pour vous aider, vous pouvez vous inspirer du squelette suivante, dans lequel vous remplacerez les sections *TODO* par du code Python valide.\n",
    "\n",
    "```\n",
    "alpha = 0.05\n",
    "nbthresholds = 10\n",
    "thresholdarray = ot.Sample(np.linspace(20.,50.,nbthresholds),1)\n",
    "pfarray = ot.Sample(nbthresholds,1)\n",
    "lbarray = ot.Sample(nbthresholds,1)\n",
    "ubarray = ot.Sample(nbthresholds,1)\n",
    "for i in range(nbthresholds):\n",
    "    s = thresholdarray[i,0]\n",
    "    pf = TODO\n",
    "    pfarray[i,0] = pf\n",
    "    sigmapf = TODO\n",
    "    pf_dist = TODO\n",
    "    bounds = pf_dist.computeBilateralConfidenceInterval(1-alpha)\n",
    "    lbarray[i,0] = bounds.getLowerBound()[0]\n",
    "    ubarray[i,0] = bounds.getUpperBound()[0]\n",
    "    print(\"s=%f, pf=%f in [%f,%f]\" % (s,pf,lbarray[i,0],ubarray[i,0]))\n",
    "```\n",
    "\n",
    "- Créer un graphique réprésentant en abscisse le seuil $s$, et en ordonnée la probabilité de dépassement de seuil et ses bornes inférieures et supérieures.\n",
    "  - Utiliser la méthode `setLogScale` pour dessiner l'axe des ordonnées en échelle logarithmique.\n",
    "  - Qu'observez-vous ? Expliquer-le sur le plan physique et sur le plan probabiliste.\n",
    "- On s'intéresse au coefficient de variation :\n",
    "$$\n",
    "CV = \\frac{\\sigma_{p_f}}{p_f}\n",
    "$$\n",
    "si $p_f>0$ et son approximation :\n",
    "$$\n",
    "\\widetilde{CV} = \\frac{\\tilde{\\sigma}_{p_f}}{\\tilde{p_f}}\n",
    "$$\n",
    "si $\\tilde{p_f}>0$. \n",
    "Le coefficient de variation représente la précision relative d'estimation de la probabilité $p_f$. \n",
    "  - Pour chaque valeur de seuil $s$, calculer le coefficient de variation approché. Qu'observez-vous ? Pourquoi ?\n",
    "\n",
    "Pour vous aider, vous pouvez vous inspirer du squelette suivante, dans lequel vous remplacerez les sections *TODO* par du code Python valide.\n",
    "\n",
    "```\n",
    "for i in range(nbthresholds):\n",
    "    s = thresholdarray[i,0]\n",
    "    pf = TODO\n",
    "    pfarray[i,0] = pf\n",
    "    sigmapf = TODO\n",
    "    cv = TODO\n",
    "    print(\"s=%f, pf=%f, C.V.=%f\" % (s,pf,cv))\n",
    "```"
   ]
  },
  {
   "cell_type": "code",
   "execution_count": null,
   "metadata": {},
   "outputs": [],
   "source": []
  }
 ],
 "metadata": {
  "kernelspec": {
   "display_name": "Python 3",
   "language": "python",
   "name": "python3"
  },
  "language_info": {
   "codemirror_mode": {
    "name": "ipython",
    "version": 3
   },
   "file_extension": ".py",
   "mimetype": "text/x-python",
   "name": "python",
   "nbconvert_exporter": "python",
   "pygments_lexer": "ipython3",
   "version": "3.7.5rc1"
  }
 },
 "nbformat": 4,
 "nbformat_minor": 2
}
