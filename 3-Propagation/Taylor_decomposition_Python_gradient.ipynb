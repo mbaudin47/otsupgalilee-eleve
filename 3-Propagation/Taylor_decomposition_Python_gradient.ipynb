{
 "cells": [
  {
   "cell_type": "markdown",
   "metadata": {},
   "source": [
    "# Estimate importance factors on a Python function\n",
    "\n",
    "Reference : https://stackoverflow.com/questions/59096111/how-to-estimate-the-taylor-decomposition-variance-from-a-python-function-with-us"
   ]
  },
  {
   "cell_type": "markdown",
   "metadata": {},
   "source": [
    "## Definition of the model"
   ]
  },
  {
   "cell_type": "code",
   "execution_count": 1,
   "metadata": {},
   "outputs": [],
   "source": [
    "import openturns as ot"
   ]
  },
  {
   "cell_type": "code",
   "execution_count": 2,
   "metadata": {},
   "outputs": [],
   "source": [
    "def mySimulator(x):\n",
    "    y0 = 1.0 - x[0] * x[1]\n",
    "    y = [y0]\n",
    "    xstr = [x[i] for i in range(2)]\n",
    "    print(\"mySimulator, X=\",xstr,\", Y=\",y)\n",
    "    return y"
   ]
  },
  {
   "cell_type": "code",
   "execution_count": 3,
   "metadata": {},
   "outputs": [],
   "source": [
    "g = ot.PythonFunction(2,1,mySimulator)"
   ]
  },
  {
   "cell_type": "code",
   "execution_count": 4,
   "metadata": {},
   "outputs": [],
   "source": [
    "devilFactor = 6.e-12 # I'm a bad guy..."
   ]
  },
  {
   "cell_type": "code",
   "execution_count": 5,
   "metadata": {},
   "outputs": [],
   "source": [
    "distX0 = ot.Normal(1.0*devilFactor,3.0*devilFactor)\n",
    "distX1 = ot.Normal(2.0*devilFactor,4.0*devilFactor)"
   ]
  },
  {
   "cell_type": "code",
   "execution_count": 6,
   "metadata": {
    "scrolled": true
   },
   "outputs": [
    {
     "data": {
      "text/html": [
       "<p>ComposedDistribution(Normal(mu = 6e-12, sigma = 1.8e-11), Normal(mu = 1.2e-11, sigma = 2.4e-11), IndependentCopula(dimension = 2))</p>"
      ],
      "text/plain": [
       "class=ComposedDistribution name=ComposedDistribution dimension=2 copula=class=IndependentCopula name=IndependentCopula dimension=2 marginal[0]=class=Normal name=Normal dimension=1 mean=class=Point name=Unnamed dimension=1 values=[6e-12] sigma=class=Point name=Unnamed dimension=1 values=[1.8e-11] correlationMatrix=class=CorrelationMatrix dimension=1 implementation=class=MatrixImplementation name=Unnamed rows=1 columns=1 values=[1] marginal[1]=class=Normal name=Normal dimension=1 mean=class=Point name=Unnamed dimension=1 values=[1.2e-11] sigma=class=Point name=Unnamed dimension=1 values=[2.4e-11] correlationMatrix=class=CorrelationMatrix dimension=1 implementation=class=MatrixImplementation name=Unnamed rows=1 columns=1 values=[1]"
      ]
     },
     "execution_count": 6,
     "metadata": {},
     "output_type": "execute_result"
    }
   ],
   "source": [
    "X = ot.ComposedDistribution([distX0,distX1])\n",
    "X"
   ]
  },
  {
   "cell_type": "code",
   "execution_count": 7,
   "metadata": {},
   "outputs": [
    {
     "data": {
      "text/html": [
       "<p>[6e-12,1.2e-11]</p>"
      ],
      "text/plain": [
       "class=Point name=Unnamed dimension=2 values=[6e-12,1.2e-11]"
      ]
     },
     "execution_count": 7,
     "metadata": {},
     "output_type": "execute_result"
    }
   ],
   "source": [
    "xpoint = X.getMean()\n",
    "xpoint"
   ]
  },
  {
   "cell_type": "code",
   "execution_count": 8,
   "metadata": {},
   "outputs": [
    {
     "name": "stdout",
     "output_type": "stream",
     "text": [
      "mySimulator, X= [6e-12, 1.2e-11] , Y= [1.0]\n"
     ]
    },
    {
     "data": {
      "text/html": [
       "<p>[1]</p>"
      ],
      "text/plain": [
       "class=Point name=Unnamed dimension=1 values=[1]"
      ]
     },
     "execution_count": 8,
     "metadata": {},
     "output_type": "execute_result"
    }
   ],
   "source": [
    "g(xpoint)"
   ]
  },
  {
   "cell_type": "code",
   "execution_count": 9,
   "metadata": {},
   "outputs": [],
   "source": [
    "XRV = ot.RandomVector(X)\n",
    "Y = ot.CompositeRandomVector(g, XRV)"
   ]
  },
  {
   "cell_type": "markdown",
   "metadata": {},
   "source": [
    "## Taylor expansion with finite difference gradient"
   ]
  },
  {
   "cell_type": "code",
   "execution_count": 10,
   "metadata": {},
   "outputs": [],
   "source": [
    "taylor = ot.TaylorExpansionMoments(Y)"
   ]
  },
  {
   "cell_type": "code",
   "execution_count": 11,
   "metadata": {},
   "outputs": [
    {
     "name": "stdout",
     "output_type": "stream",
     "text": [
      "mySimulator, X= [6e-12, 1.2e-11] , Y= [1.0]\n"
     ]
    },
    {
     "data": {
      "text/plain": [
       "1.0"
      ]
     },
     "execution_count": 11,
     "metadata": {},
     "output_type": "execute_result"
    }
   ],
   "source": [
    "taylor.getMeanFirstOrder()[0]"
   ]
  },
  {
   "cell_type": "code",
   "execution_count": 12,
   "metadata": {},
   "outputs": [
    {
     "name": "stdout",
     "output_type": "stream",
     "text": [
      "mySimulator, X= [6e-12, 1.2e-11] , Y= [1.0]\n",
      "mySimulator, X= [0.00010000000600000001, 0.00010000001200000001] , Y= [0.9999999899999982]\n",
      "mySimulator, X= [-9.9999994e-05, 0.00010000001200000001] , Y= [1.0000000100000006]\n",
      "mySimulator, X= [-9.9999994e-05, -9.9999988e-05] , Y= [0.9999999900000018]\n",
      "mySimulator, X= [0.00010000000600000001, -9.9999988e-05] , Y= [1.0000000099999995]\n",
      "mySimulator, X= [0.000200000006, 1.2e-11] , Y= [0.9999999999999976]\n",
      "mySimulator, X= [-0.000199999994, 1.2e-11] , Y= [1.0000000000000024]\n",
      "mySimulator, X= [6e-12, 0.00020000001200000002] , Y= [0.9999999999999988]\n",
      "mySimulator, X= [6e-12, -0.000199999988] , Y= [1.000000000000001]\n"
     ]
    },
    {
     "data": {
      "text/plain": [
       "1.0"
      ]
     },
     "execution_count": 12,
     "metadata": {},
     "output_type": "execute_result"
    }
   ],
   "source": [
    "taylor.getMeanSecondOrder()[0]"
   ]
  },
  {
   "cell_type": "code",
   "execution_count": 13,
   "metadata": {},
   "outputs": [],
   "source": [
    "sqrt = ot.SymbolicFunction([\"x\"],[\"sqrt(x)\"])"
   ]
  },
  {
   "cell_type": "code",
   "execution_count": 14,
   "metadata": {},
   "outputs": [
    {
     "name": "stdout",
     "output_type": "stream",
     "text": [
      "mySimulator, X= [1.0000006e-05, 1.2e-11] , Y= [0.9999999999999999]\n",
      "mySimulator, X= [-9.999994000000001e-06, 1.2e-11] , Y= [1.0000000000000002]\n",
      "mySimulator, X= [6e-12, 1.0000012e-05] , Y= [0.9999999999999999]\n",
      "mySimulator, X= [6e-12, -9.999988000000001e-06] , Y= [1.0]\n"
     ]
    },
    {
     "data": {
      "text/html": [
       "<p>[3.28033e-22]</p>"
      ],
      "text/plain": [
       "class=Point name=Unnamed dimension=1 values=[3.28033e-22]"
      ]
     },
     "execution_count": 14,
     "metadata": {},
     "output_type": "execute_result"
    }
   ],
   "source": [
    "sigmaApproximate = sqrt([taylor.getCovariance()[0,0]])\n",
    "sigmaApproximate"
   ]
  },
  {
   "cell_type": "markdown",
   "metadata": {},
   "source": [
    "## How the gradient is computed"
   ]
  },
  {
   "cell_type": "code",
   "execution_count": 15,
   "metadata": {},
   "outputs": [
    {
     "data": {
      "text/html": [
       "<p>[6e-12,1.2e-11]</p>"
      ],
      "text/plain": [
       "class=Point name=Unnamed dimension=2 values=[6e-12,1.2e-11]"
      ]
     },
     "execution_count": 15,
     "metadata": {},
     "output_type": "execute_result"
    }
   ],
   "source": [
    "xpoint = X.getMean()\n",
    "xpoint"
   ]
  },
  {
   "cell_type": "code",
   "execution_count": 16,
   "metadata": {},
   "outputs": [
    {
     "name": "stdout",
     "output_type": "stream",
     "text": [
      "mySimulator, X= [1.0000006e-05, 1.2e-11] , Y= [0.9999999999999999]\n",
      "mySimulator, X= [-9.999994000000001e-06, 1.2e-11] , Y= [1.0000000000000002]\n",
      "mySimulator, X= [6e-12, 1.0000012e-05] , Y= [0.9999999999999999]\n",
      "mySimulator, X= [6e-12, -9.999988000000001e-06] , Y= [1.0]\n"
     ]
    }
   ],
   "source": [
    "gradientFiniteDifference = g.gradient(xpoint)"
   ]
  },
  {
   "cell_type": "code",
   "execution_count": 17,
   "metadata": {},
   "outputs": [
    {
     "name": "stdout",
     "output_type": "stream",
     "text": [
      "DY/DX0=-1.66533453693773e-11\n",
      "DY/DX1=-5.55111512312578e-12\n"
     ]
    }
   ],
   "source": [
    "for i in range(X.getDimension()):\n",
    "    print(\"DY/DX%d=%.15g\" % (i,gradientFiniteDifference[i,0]))"
   ]
  },
  {
   "cell_type": "code",
   "execution_count": 18,
   "metadata": {},
   "outputs": [
    {
     "data": {
      "text/plain": [
       "openturns.typ.Matrix"
      ]
     },
     "execution_count": 18,
     "metadata": {},
     "output_type": "execute_result"
    }
   ],
   "source": [
    "type(gradientFiniteDifference)"
   ]
  },
  {
   "cell_type": "markdown",
   "metadata": {},
   "source": [
    "## If the gradient is known"
   ]
  },
  {
   "cell_type": "code",
   "execution_count": 19,
   "metadata": {},
   "outputs": [],
   "source": [
    "def myGradient(x):\n",
    "    dy0dx0 = -x[1]\n",
    "    dy0dx1 = -x[0]\n",
    "    gradient = ot.Matrix([[dy0dx0],[dy0dx1]])\n",
    "    print(\"gradient=\",gradient.transpose())\n",
    "    return gradient"
   ]
  },
  {
   "cell_type": "code",
   "execution_count": 20,
   "metadata": {},
   "outputs": [
    {
     "name": "stdout",
     "output_type": "stream",
     "text": [
      "gradient= [[     -1.2e-11 -6e-12       ]]\n"
     ]
    },
    {
     "data": {
      "text/html": [
       "<p>[[     -1.2e-11 -6e-12       ]]</p>"
      ],
      "text/plain": [
       "class=Matrix implementation=class=MatrixImplementation name=Unnamed rows=1 columns=2 values=[-1.2e-11,-6e-12]"
      ]
     },
     "execution_count": 20,
     "metadata": {},
     "output_type": "execute_result"
    }
   ],
   "source": [
    "myGradient(xpoint).transpose()"
   ]
  },
  {
   "cell_type": "code",
   "execution_count": 21,
   "metadata": {},
   "outputs": [],
   "source": [
    "gaccurate = ot.PythonFunction(2,1,mySimulator,gradient=myGradient)"
   ]
  },
  {
   "cell_type": "code",
   "execution_count": 22,
   "metadata": {},
   "outputs": [
    {
     "name": "stdout",
     "output_type": "stream",
     "text": [
      "gradient= [[     -1.2e-11 -6e-12       ]]\n"
     ]
    },
    {
     "data": {
      "text/html": [
       "<p>[[     -1.2e-11 -6e-12       ]]</p>"
      ],
      "text/plain": [
       "class=Matrix implementation=class=MatrixImplementation name=Unnamed rows=1 columns=2 values=[-1.2e-11,-6e-12]"
      ]
     },
     "execution_count": 22,
     "metadata": {},
     "output_type": "execute_result"
    }
   ],
   "source": [
    "gradientexact = gaccurate.gradient(xpoint)\n",
    "gradientexact.transpose()"
   ]
  },
  {
   "cell_type": "code",
   "execution_count": 23,
   "metadata": {},
   "outputs": [
    {
     "name": "stdout",
     "output_type": "stream",
     "text": [
      "DY/DX0=-1.2e-11\n",
      "DY/DX1=-6e-12\n"
     ]
    }
   ],
   "source": [
    "for i in range(X.getDimension()):\n",
    "    print(\"DY/DX%d=%.15g\" % (i,gradientexact[i,0]))"
   ]
  },
  {
   "cell_type": "markdown",
   "metadata": {},
   "source": [
    "## Gradient accuracy by finite difference"
   ]
  },
  {
   "cell_type": "code",
   "execution_count": 24,
   "metadata": {},
   "outputs": [],
   "source": [
    "lre = ot.SymbolicFunction([\"exact\",\"computed\"],[\"floor(-log2(abs(exact-computed)/abs(exact)))\"])"
   ]
  },
  {
   "cell_type": "code",
   "execution_count": 25,
   "metadata": {},
   "outputs": [
    {
     "name": "stdout",
     "output_type": "stream",
     "text": [
      "DY/DX 0 , bits= 1.0\n",
      "DY/DX 1 , bits= 3.0\n"
     ]
    }
   ],
   "source": [
    "if True:\n",
    "    for i in range(X.getDimension()):\n",
    "        digits = lre([gradientFiniteDifference[i,0],gradientexact[i,0]])\n",
    "        print(\"DY/DX\",i,\", bits=\",digits[0])"
   ]
  },
  {
   "cell_type": "markdown",
   "metadata": {},
   "source": [
    "## Taylor decomposition with known gradient"
   ]
  },
  {
   "cell_type": "code",
   "execution_count": 26,
   "metadata": {},
   "outputs": [],
   "source": [
    "XRV = ot.RandomVector(X)\n",
    "Yaccurate = ot.CompositeRandomVector(gaccurate, XRV)"
   ]
  },
  {
   "cell_type": "code",
   "execution_count": 27,
   "metadata": {},
   "outputs": [],
   "source": [
    "tayloraccurate = ot.TaylorExpansionMoments(Yaccurate)"
   ]
  },
  {
   "cell_type": "code",
   "execution_count": 28,
   "metadata": {},
   "outputs": [
    {
     "name": "stdout",
     "output_type": "stream",
     "text": [
      "gradient= [[     -1.2e-11 -6e-12       ]]\n"
     ]
    },
    {
     "data": {
      "text/html": [
       "<p>[2.596e-22]</p>"
      ],
      "text/plain": [
       "class=Point name=Unnamed dimension=1 values=[2.596e-22]"
      ]
     },
     "execution_count": 28,
     "metadata": {},
     "output_type": "execute_result"
    }
   ],
   "source": [
    "sigmaExact = sqrt([tayloraccurate.getCovariance()[0,0]])\n",
    "sigmaExact"
   ]
  },
  {
   "cell_type": "code",
   "execution_count": 29,
   "metadata": {},
   "outputs": [
    {
     "data": {
      "text/html": [
       "<p>[3.28033e-22]</p>"
      ],
      "text/plain": [
       "class=Point name=Unnamed dimension=1 values=[3.28033e-22]"
      ]
     },
     "execution_count": 29,
     "metadata": {},
     "output_type": "execute_result"
    }
   ],
   "source": [
    "sigmaApproximate"
   ]
  }
 ],
 "metadata": {
  "kernelspec": {
   "display_name": "Python 3",
   "language": "python",
   "name": "python3"
  },
  "language_info": {
   "codemirror_mode": {
    "name": "ipython",
    "version": 3
   },
   "file_extension": ".py",
   "mimetype": "text/x-python",
   "name": "python",
   "nbconvert_exporter": "python",
   "pygments_lexer": "ipython3",
   "version": "3.7.4"
  }
 },
 "nbformat": 4,
 "nbformat_minor": 2
}
