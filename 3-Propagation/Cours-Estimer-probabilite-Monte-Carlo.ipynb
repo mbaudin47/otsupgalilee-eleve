{
 "cells": [
  {
   "cell_type": "markdown",
   "metadata": {
    "slideshow": {
     "slide_type": "slide"
    }
   },
   "source": [
    "# Estimer une probabilité de dépassement de seuil par Monte-Carlo simple\n",
    "\n",
    "## Introduction\n",
    "\n",
    "Soit $X = (X_1,..., X_p)\\in\\mathbb{R}^p$ le vecteur aléatoire d’entrée. On note $f$ la densité de probabilité de la variable $X$. \n",
    "\n",
    "Soit $g$ une fonction de $\\mathbb{R}^p$ vers $\\mathbb{R}$. On considère la variable aléatoire :\n",
    "\n",
    "$$\n",
    "Y = g(X).\n",
    "$$\n",
    "\n",
    "Soit $s\\in\\mathbb{R}$ un seuil donné. Nous souhaitons estimer la probabilité :\n",
    "\n",
    "$$\n",
    "p_f = P(Y > s).\n",
    "$$"
   ]
  },
  {
   "cell_type": "markdown",
   "metadata": {
    "slideshow": {
     "slide_type": "slide"
    }
   },
   "source": [
    "Cette probabilité peut se calculer comme l'espérance d'une fonction indicatrice. \n",
    "En effet, soit $\\mathbb{1}_{g(X)>s}$ la fonction indicatrice définie par :\n",
    "\n",
    "\\begin{align*}\n",
    "\\mathbb{1}_{g(X)>s}(x)\n",
    "= \\left\\{\n",
    "\\begin{array}{l}\n",
    "1, \\textrm{ si } g(x)>s, \\\\\n",
    "0, \\textrm{ sinon}.\n",
    "\\end{array}\n",
    "\\right.\n",
    "\\end{align*}\n",
    "\n",
    "Alors, la probabilité $p_f$ est l'espérance de la fonction indicatrice :\n",
    "\n",
    "$$\n",
    "p_f = E\\left(\\mathbb{1}_{g(X)>s}(X)\\right) = \\int_{\\mathbb{R}^p} \\mathbb{1}_{g(X)>s}(x) f(x) dx.\n",
    "$$\n",
    "\n",
    "On peut utiliser une méthode d'intégration numérique pour estimer cette intégrale, ou la méthode de Monte-Carlo simple que nous allons présenter plus en détail. \n",
    "Si la probabilité recherchée est faible, cela peut nécessiter des méthodes spécifiques comme par exemple les méthodes FORM-SORM."
   ]
  },
  {
   "cell_type": "markdown",
   "metadata": {
    "slideshow": {
     "slide_type": "slide"
    }
   },
   "source": [
    "## Estimer une probabilité avec la méthode de Monte-Carlo simple\n",
    "\n",
    "Soit $n$ un entier représentant la taille de l'échantillon. \n",
    "Soient $y^{(1)},...,y^{(n)}$ des réalisations indépendantes \n",
    "de la variable $Y$, pour $j=1,2,...,n$. \n",
    "\n",
    "Soit $Z_j$ la variable dont les réalisations sont \n",
    "\n",
    "$$\n",
    "z^{(j)}=\n",
    "\\left\\{\n",
    "\\begin{array}{l}\n",
    "1\\textrm{ si } y^{(j)}>s\\\\\n",
    "0\\textrm{ sinon.}\n",
    "\\end{array}\n",
    "\\right.\n",
    "$$\n",
    "\n",
    "La variable $Z^{(j)}$ est une variable de Bernoulli de paramètre $p_f$. \n",
    "Par conséquent, son espérance est $p_f$ et sa variance est $p_f(1-p_f)$.\n",
    "\n",
    "Soit $b_n$ la variable définie par:\n",
    "\n",
    "$$\n",
    "b_n=z^{(1)}+...+z^{(n)}.\n",
    "$$"
   ]
  },
  {
   "cell_type": "markdown",
   "metadata": {
    "slideshow": {
     "slide_type": "slide"
    }
   },
   "source": [
    "La probabilité de dépassement $p_f$ est estimée par\n",
    "\n",
    "$$\n",
    "\\tilde{p}_f=\\frac{b_n}{n}.\n",
    "$$\n",
    "\n",
    "La variable \n",
    "\n",
    "$$\n",
    "B_n = Z^{(1)}+\\ldots+Z^{(n)}\n",
    "$$ \n",
    "\n",
    "est une variable binomiale de paramètres $p_f$ et $n$. \n",
    "Par conséquent, son espérance est $np_f$ et sa variance est $np_f(1-p_f)$. \n",
    "L'espérance de la variable \n",
    "\n",
    "$$\n",
    "\\tilde{p}_f=\\frac{B_n}{n}\n",
    "$$\n",
    "\n",
    "est donc $p_f$ et sa variance est $p_f(1-p_f)/n$. "
   ]
  },
  {
   "cell_type": "markdown",
   "metadata": {
    "slideshow": {
     "slide_type": "slide"
    }
   },
   "source": [
    "## Précision d'estimation\n",
    "\n",
    "Dans le contexte de l'estimation d'une probabilité de dépassement de seuil $p_f$, il est pratique de pouvoir estimer la précision *relative* d'estimation de $p_f$. C'est particulièrement vrai lorsqu'on s'intéresse aux faibles valeurs de probabilité. \n",
    "\n",
    "Soit $\\sigma_{p_f}^2$ la variance de l'estimateur de la probabilité de dépassement :\n",
    "\n",
    "$$\n",
    "\\sigma_{p_f} = \\sqrt{\\frac{p_f(1-p_f)}{n}}.\n",
    "$$\n",
    "\n",
    "Le coefficient de variation est :\n",
    "\n",
    "$$\n",
    "CV_{p_f} = \\frac{\\sigma_{p_f}}{p_f}, \n",
    "$$\n",
    "\n",
    "si $p_f>0$. \n",
    "\n",
    "Puisque, en pratique, nous ne connaissons pas $p_f$ mais seulement son estimation $\\tilde{p}_f$, on substitue $p_f$ par $\\tilde{p}_f$ dans les expressions précédentes. Cela  mène à des estimations approchées, mais satisfaisantes lorsque $n$ est suffisamment grand. "
   ]
  },
  {
   "cell_type": "markdown",
   "metadata": {
    "slideshow": {
     "slide_type": "slide"
    }
   },
   "source": [
    "Supposons que $p_f>0$. \n",
    "Alors,  \n",
    "\n",
    "\\begin{align*}\n",
    "CV \n",
    "&= \\frac{1}{p_f} \\sqrt{\\frac{p_f(1-p_f)}{n}} \\\\\n",
    "&= \\sqrt{\\frac{1-p_f}{p_f n}}.\n",
    "\\end{align*}\n",
    "\n",
    "Si le seuil $s$ augmente, alors $p_f\\rightarrow 0$. \n",
    "\n",
    "Cela implique $1-p_f\\rightarrow 1$ et par conséquent :\n",
    "\n",
    "\\begin{align*}\n",
    "CV \n",
    "&\\rightarrow \\sqrt{\\frac{1}{p_f n}},\n",
    "\\end{align*}\n",
    "\n",
    "quand $p_f\\rightarrow 0$.\n",
    "On observe que le coefficient de variation tend vers l'infini si $n$ est fixé. De manière plus intuitive, si la probabilité $p_f$ est divisée par 4, alors le coefficient de variation est multiplié par 2."
   ]
  },
  {
   "cell_type": "markdown",
   "metadata": {
    "slideshow": {
     "slide_type": "slide"
    }
   },
   "source": [
    "Inversons la relation précédente. On obtient :\n",
    "\n",
    "$$\n",
    "n \\approx \\frac{1}{p_f CV^2},\n",
    "$$\n",
    "\n",
    "si $p_f \\approx 0$. \n",
    "\n",
    "Par exemple, si on souhaite une probabilité égale à $p_f = 10^{-m}$ avec un coefficient de variation égal à $CV=0.1$, alors il faut environ \n",
    "\n",
    "$$\n",
    "n \\approx \\frac{1}{10^{-2} 10^{-m}} = 10^{m+2}\n",
    "$$\n",
    "\n",
    "simulations, si $p_f \\approx 0$.\n",
    "\n",
    "Une valeur fréquemment utilisée est $CV_{p_f} = 0.01$, ce qui correspond approximativement à une erreur relative de 1% sur la probabilité $p_f$. Cela correspond approximativement à 2 chiffres significatifs sur $p_f$, ce qui est faible mais nécessite souvent une taille d'échantillon assez grande. Par exemple, si on souhaite estimer une probabilité $p_f$ proche de 0.5, une taille d'échantillon de l'ordre de n=10000 est nécessaire."
   ]
  },
  {
   "cell_type": "markdown",
   "metadata": {
    "slideshow": {
     "slide_type": "slide"
    }
   },
   "source": [
    "## Loi de l'estimateur\n",
    "\n",
    "Nous avons déjà vu que l'estimateur de la probabilité suit une loi binomiale. Nous allons voir que cette loi converge vers la loi gaussienne lorsque la taille de l'échantillon tend vers l'infini. \n",
    "\n",
    "En effet, le théorème limite central implique que la variable aléatoire $\\tilde{p}_f$ converge en distribution vers la loi gaussienne. \n",
    "Plus précisément :\n",
    "\n",
    "$$\n",
    "\\sqrt{n}(\\tilde{p}_f - p_f) \\xrightarrow{d} \\mathcal{N}(0,p_f(1-p_f)).\n",
    "$$"
   ]
  },
  {
   "cell_type": "markdown",
   "metadata": {
    "slideshow": {
     "slide_type": "slide"
    }
   },
   "source": [
    "Par conséquent,\n",
    "\n",
    "$$\n",
    "\\tilde{p}_f - p_f \\xrightarrow{d} \\mathcal{N}\\left(0,\\frac{p_f(1-p_f)}{n}\\right)\n",
    "$$\n",
    "\n",
    "ce qui implique :\n",
    "\n",
    "$$\n",
    "\\tilde{p}_f \\xrightarrow{d} \\mathcal{N}\\left(p_f,\\frac{p_f(1-p_f)}{n}\\right).\n",
    "$$\n",
    "\n",
    "Par conséquent :\n",
    "\n",
    "$$\n",
    "\\tilde{p}_f \\xrightarrow{d} \\mathcal{N}\\left(p_f,\\sigma_{p_f}^2\\right).\n",
    "$$"
   ]
  },
  {
   "cell_type": "markdown",
   "metadata": {
    "slideshow": {
     "slide_type": "slide"
    }
   },
   "source": [
    "## Intervalle de confiance de la probabilité\n",
    "\n",
    "On peut exprimer directement un intervalle de confiance pour \n",
    "la variable aléatoire $\\tilde{p}_f$, puisqu'elle suit la loi binomiale. \n",
    "La tradition consiste à l'exprimer en fonction d'une loi normale standard. \n",
    "En effet, le T.C.L. implique :\n",
    "\n",
    "$$\n",
    "\\frac{\\tilde{p}_f - p_f}{\\sigma_{p_f}} \\xrightarrow{d} \\mathcal{N}(0,1).\n",
    "$$\n",
    "\n",
    "Soit $\\alpha\\in[0,1/2]$ un niveau de confiance. \n",
    "Soit $q$ le quantile d'ordre $1-\\alpha/2$ de la loi normale standard :\n",
    "\n",
    "$$\n",
    "q=\\Phi^{-1}(1-\\alpha/2),\n",
    "$$\n",
    "\n",
    "où $\\Phi$ est la fonction de répartition de la loi gaussienne \n",
    "de moyenne nulle et d'écart-type unité. \n",
    "Par exemple, si $\\alpha=0.05$, alors $\\alpha/2=0.025$ ce qui implique $q=1.960$. "
   ]
  },
  {
   "cell_type": "markdown",
   "metadata": {
    "slideshow": {
     "slide_type": "slide"
    }
   },
   "source": [
    "Puisque la distribution de la variable $(\\tilde{p}_f - p_f)/\\sigma_{p_f}$ converge vers la loi normale standard, cela implique \n",
    "\n",
    "$$\n",
    "P\\left(\\frac{\\tilde{p}_f - p_f}{\\sigma_{p_f}} \\in [-q,q]\\right) \\rightarrow 1-\\alpha.\n",
    "$$\n",
    "\n",
    "Par conséquent, \n",
    "\n",
    "$$\n",
    "P\\left(\\tilde{p}_f \\in \\left[p_f-q \\sigma_{p_f} ,p_f+q \\sigma_{p_f} \\right]\\right) \\rightarrow 1-\\alpha.\n",
    "$$\n",
    "\n",
    "Le problème de l'intervalle de confiance précédent est que la probabilité $p_f$ est inconnue, \n",
    "de telle sorte que l'écart-type $\\sigma_{p_f}$ dans l'expression précédente \n",
    "ne peut être calculé directement. \n",
    "Pour obtenir un intervalle de confiance approché, on substitue $p_f$ par $\\tilde{p}_f$. "
   ]
  },
  {
   "cell_type": "markdown",
   "metadata": {
    "slideshow": {
     "slide_type": "slide"
    }
   },
   "source": [
    "Soit $\\tilde{\\sigma}_{p_f}^2$ la variance approchée de l'estimateur de la probabilité de dépassement :\n",
    "\n",
    "$$\n",
    "\\tilde{\\sigma}_{p_f} = \\sqrt{\\frac{\\tilde{p}_f(1-\\tilde{p}_f)}{n}}.\n",
    "$$\n",
    "\n",
    "Cela implique :\n",
    "\n",
    "$$\n",
    "P\\left(\\tilde{p}_f \\in \\left[p_f- q \\tilde{\\sigma}_{p_f},p_f+q \\tilde{\\sigma}_{p_f}\\right]\\right) \\xrightarrow{\\tilde{\\,}} 1-\\alpha.\n",
    "$$"
   ]
  }
 ],
 "metadata": {
  "celltoolbar": "Slideshow",
  "kernelspec": {
   "display_name": "Python 3",
   "language": "python",
   "name": "python3"
  },
  "language_info": {
   "codemirror_mode": {
    "name": "ipython",
    "version": 3
   },
   "file_extension": ".py",
   "mimetype": "text/x-python",
   "name": "python",
   "nbconvert_exporter": "python",
   "pygments_lexer": "ipython3",
   "version": "3.8.3"
  }
 },
 "nbformat": 4,
 "nbformat_minor": 2
}
