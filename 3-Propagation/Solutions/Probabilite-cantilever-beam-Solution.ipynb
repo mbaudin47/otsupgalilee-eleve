{
 "cells": [
  {
   "cell_type": "markdown",
   "metadata": {},
   "source": [
    "# Estimer une probabilité de dépassement de seuil - Application au cas de la poutre en flexion\n"
   ]
  },
  {
   "cell_type": "markdown",
   "metadata": {},
   "source": [
    "## Déviation  verticale d'une poutre encastrée\n",
    "\n",
    "We consider a cantilever beam defined by its Young’s modulus $E$, its length $L$ and its section modulus $I$. One end is built in a wall and we apply a concentrated bending load $F$ at the other end of the beam, resulting in a vertical deviation $Y$.\n",
    "\n",
    "<img src=\"poutre.png\" width=\"200\">\n",
    "\n",
    "__Inputs__:  $\\left\\{ E, F, L, I \\right\\}$\n",
    "* $E$ : Young modulus (Pa)\n",
    "* $F$ : Loading (N),\n",
    "* $L$ : Length of beam (cm),\n",
    "* $I$ : Moment of inertia (cm^4).\n",
    "\n",
    "|Variable|  Distribution|\n",
    "| ------------- |-------------|\n",
    "|E|  Beta(r = 0.9, t = 3.5, a = $2.5\\times 10^7$, $b = 5\\times 10^7$) |\n",
    "|F| Lognormal($\\mu_F=3 \\times 10^4$, $\\sigma_F=9\\times 10^3$, shift=$15\\times 10^3$)|\n",
    "|L|Uniform(min=250.0, max= 260.0)|\n",
    "|I| Beta(r = 2.5, t = 4.0, a = 310, b = 450)|\n",
    "\n",
    "In the previous table $\\mu_F=E(F)$ and $\\sigma_F=\\sqrt{V(F)}$ are the mean and the standard deviation of $F$.\n",
    "\n",
    "The input variables are supposed to be independent.\n",
    "\n",
    "__Output__:\n",
    "\n",
    "The vertical displacement at free end of the cantilever beam is:\n",
    "$$\n",
    "Y  = \\dfrac{F\\, L^3}{3 \\, E \\, I}\n",
    "$$\n",
    "It is considered that failure occurs when the beam deviation is greater than 30 cm:\n",
    "$$\n",
    "Y \\geq 30 \\textrm{ (cm)}\n",
    "$$\n",
    "With a Monte-Carlo sample size equal to 7 120 000, we get:\n",
    "$$\n",
    "P(Y\\geq 30) = 0.005590.\n",
    "$$\n",
    "The 95% confidence interval is \n",
    "$$\n",
    "P([0.005536,0.005645]\\ni P_f)=0.95.\n",
    "$$"
   ]
  },
  {
   "cell_type": "markdown",
   "metadata": {},
   "source": [
    "# Model definition"
   ]
  },
  {
   "cell_type": "code",
   "execution_count": 1,
   "metadata": {},
   "outputs": [],
   "source": [
    "import openturns as ot\n",
    "import numpy as np"
   ]
  },
  {
   "cell_type": "code",
   "execution_count": 2,
   "metadata": {},
   "outputs": [],
   "source": [
    "dist_E = ot.Beta(0.9, 3.1, 2.8e7, 4.8e7)\n",
    "dist_E.setDescription([\"E\"])\n",
    "F_para = ot.LogNormalMuSigma(3.0e4, 9.0e3, 15.0e3) # in N\n",
    "dist_F = ot.ParametrizedDistribution(F_para)\n",
    "dist_F.setDescription([\"F\"])\n",
    "dist_L = ot.Uniform(250., 260.) # in cm\n",
    "dist_L.setDescription([\"L\"])\n",
    "dist_I = ot.Beta(2.5, 4, 310., 450.) # in cm^4\n",
    "dist_I.setDescription([\"I\"])\n",
    "\n",
    "X = ot.ComposedDistribution([dist_E, dist_F, dist_L, dist_I])"
   ]
  },
  {
   "cell_type": "code",
   "execution_count": 3,
   "metadata": {},
   "outputs": [],
   "source": [
    "g = ot.SymbolicFunction( [\"E\",\"F\",\"L\",\"I\"],[\"F* L^3 /  (3 * E * I)\"])\n",
    "g.setOutputDescription([\"Y (cm)\"])"
   ]
  },
  {
   "cell_type": "markdown",
   "metadata": {},
   "source": [
    "Pour pouvoir exploiter au mieux les simulations, nous équipons la fonction d'un méchanisme d'historique."
   ]
  },
  {
   "cell_type": "code",
   "execution_count": 4,
   "metadata": {},
   "outputs": [],
   "source": [
    "g = ot.MemoizeFunction(g)"
   ]
  },
  {
   "cell_type": "markdown",
   "metadata": {},
   "source": [
    "Enfin, nous définissons le vecteur aléatoire de sortie."
   ]
  },
  {
   "cell_type": "code",
   "execution_count": 5,
   "metadata": {},
   "outputs": [],
   "source": [
    "XRV = ot.RandomVector(X)\n",
    "Y = ot.CompositeRandomVector(g, XRV)\n",
    "Y.setDescription(['Y (cm)'])"
   ]
  },
  {
   "cell_type": "markdown",
   "metadata": {},
   "source": [
    "## Par Monte-Carlo simple avec un budget fixé\n",
    "\n",
    "La manière la plus simple de faire une telle étude consiste à fixer le nombre de simulations à l'avance. En d'autres termes, on fixe $n$ et on génère un échantillon de la variable de sortie $Y$ de taille $n$. C'est la méthode \"traditionnelle\"."
   ]
  },
  {
   "cell_type": "code",
   "execution_count": 6,
   "metadata": {},
   "outputs": [],
   "source": [
    "n = 10000"
   ]
  },
  {
   "cell_type": "code",
   "execution_count": 7,
   "metadata": {},
   "outputs": [],
   "source": [
    "Ysample = Y.getSample(n)"
   ]
  },
  {
   "cell_type": "code",
   "execution_count": 8,
   "metadata": {
    "scrolled": false
   },
   "outputs": [
    {
     "data": {
      "image/png": "[encoded data removed]",
      "text/plain": [
       "class=Graph name=Y (cm) PDF implementation=class=GraphImplementation name=Y (cm) PDF title=Y (cm) PDF xTitle=Y (cm) yTitle=PDF axes=ON grid=ON legendposition=topright legendFontSize=1 drawables=[class=Drawable name=Unnamed implementation=class=Curve name=Unnamed derived from class=DrawableImplementation name=Unnamed legend= data=class=Sample name=Unnamed implementation=class=SampleImplementation name=Unnamed size=348 dimension=2 data=[[4.90976,0],[5.2211,0],[5.2211,0],[5.2211,0.000321188],[5.84379,0.000321188],[5.84379,0],[5.84379,0],[5.84379,0.000963565],[6.46647,0.000963565],[6.46647,0],[6.46647,0],[6.46647,0.00658436],[7.08916,0.00658436],[7.08916,0],[7.08916,0],[7.08916,0.0144535],[7.71185,0.0144535],[7.71185,0],[7.71185,0],[7.71185,0.0244103],[8.33454,0.0244103],[8.33454,0],[8.33454,0],[8.33454,0.0441634],[8.95722,0.0441634],[8.95722,0],[8.95722,0],[8.95722,0.0735522],[9.57991,0.0735522],[9.57991,0],[9.57991,0],[9.57991,0.0907357],[10.2026,0.0907357],[10.2026,0],[10.2026,0],[10.2026,0.111452],[10.8253,0.111452],[10.8253,0],[10.8253,0],[10.8253,0.105832],[11.448,0.105832],[11.448,0],[11.448,0],[11.448,0.124461],[12.0707,0.124461],[12.0707,0],[12.0707,0],[12.0707,0.115788],[12.6933,0.115788],[12.6933,0],[12.6933,0],[12.6933,0.114664],[13.316,0.114664],[13.316,0],[13.316,0],[13.316,0.0905751],[13.9387,0.0905751],[13.9387,0],[13.9387,0],[13.9387,0.0881662],[14.5614,0.0881662],[14.5614,0],[14.5614,0],[14.5614,0.0814213],[15.1841,0.0814213],[15.1841,0],[15.1841,0],[15.1841,0.0640771],[15.8068,0.0640771],[15.8068,0],[15.8068,0],[15.8068,0.0648801],[16.4295,0.0648801],[16.4295,0],[16.4295,0],[16.4295,0.0537991],[17.0522,0.0537991],[17.0522,0],[17.0522,0],[17.0522,0.0526749],[17.6748,0.0526749],[17.6748,0],[17.6748,0],[17.6748,0.0390244],[18.2975,0.0390244],[18.2975,0],[18.2975,0],[18.2975,0.0335642],[18.9202,0.0335642],[18.9202,0],[18.9202,0],[18.9202,0.028104],[19.5429,0.028104],[19.5429,0],[19.5429,0],[19.5429,0.0240891],[20.1656,0.0240891],[20.1656,0],[20.1656,0],[20.1656,0.0211984],[20.7883,0.0211984],[20.7883,0],[20.7883,0],[20.7883,0.0183077],[21.411,0.0183077],[21.411,0],[21.411,0],[21.411,0.0157382],[22.0337,0.0157382],[22.0337,0],[22.0337,0],[22.0337,0.0107598],[22.6563,0.0107598],[22.6563,0],[22.6563,0],[22.6563,0.0128475],[23.279,0.0128475],[23.279,0],[23.279,0],[23.279,0.0122052],[23.9017,0.0122052],[23.9017,0],[23.9017,0],[23.9017,0.00658436],[24.5244,0.00658436],[24.5244,0],[24.5244,0],[24.5244,0.00851149],[25.1471,0.00851149],[25.1471,0],[25.1471,0],[25.1471,0.00626317],[25.7698,0.00626317],[25.7698,0],[25.7698,0],[25.7698,0.00610258],[26.3925,0.00610258],[26.3925,0],[26.3925,0],[26.3925,0.00513902],[27.0152,0.00513902],[27.0152,0],[27.0152,0],[27.0152,0.00481783],[27.6378,0.00481783],[27.6378,0],[27.6378,0],[27.6378,0.00256951],[28.2605,0.00256951],[28.2605,0],[28.2605,0],[28.2605,0.0028907],[28.8832,0.0028907],[28.8832,0],[28.8832,0],[28.8832,0.00240891],[29.5059,0.00240891],[29.5059,0],[29.5059,0],[29.5059,0.00321188],[30.1286,0.00321188],[30.1286,0],[30.1286,0],[30.1286,0.00176654],[30.7513,0.00176654],[30.7513,0],[30.7513,0],[30.7513,0.00240891],[31.374,0.00240891],[31.374,0],[31.374,0],[31.374,0.00112416],[31.9967,0.00112416],[31.9967,0],[31.9967,0],[31.9967,0.00160594],[32.6193,0.00160594],[32.6193,0],[32.6193,0],[32.6193,0.00144535],[33.242,0.00144535],[33.242,0],[33.242,0],[33.242,0.00112416],[33.8647,0.00112416],[33.8647,0],[33.8647,0],[33.8647,0.000642377],[34.4874,0.000642377],[34.4874,0],[34.4874,0],[34.4874,0.000963565],[35.1101,0.000963565],[35.1101,0],[35.1101,0],[35.1101,0.000963565],[35.7328,0.000963565],[35.7328,0],[35.7328,0],[35.7328,0.000802971],[36.3555,0.000802971],[36.3555,0],[36.3555,0],[36.3555,0.000802971],[36.9782,0.000802971],[36.9782,0],[36.9782,0],[36.9782,0.00112416],[37.6008,0.00112416],[37.6008,0],[37.6008,0],[37.6008,0.000642377],[38.2235,0.000642377],[38.2235,0],[38.2235,0],[38.2235,0.000481783],[38.8462,0.000481783],[38.8462,0],[38.8462,0],[38.8462,0.000160594],[39.4689,0.000160594],[39.4689,0],[39.4689,0],[39.4689,0.000160594],[40.0916,0.000160594],[40.0916,0],[40.0916,0],[40.0916,0.000160594],[40.7143,0.000160594],[40.7143,0],[40.7143,0],[40.7143,0],[41.337,0],[41.337,0],[41.337,0],[41.337,0.000642377],[41.9597,0.000642377],[41.9597,0],[41.9597,0],[41.9597,0],[42.5823,0],[42.5823,0],[42.5823,0],[42.5823,0],[43.205,0],[43.205,0],[43.205,0],[43.205,0.000160594],[43.8277,0.000160594],[43.8277,0],[43.8277,0],[43.8277,0.000481783],[44.4504,0.000481783],[44.4504,0],[44.4504,0],[44.4504,0.000160594],[45.0731,0.000160594],[45.0731,0],[45.0731,0],[45.0731,0.000160594],[45.6958,0.000160594],[45.6958,0],[45.6958,0],[45.6958,0.000160594],[46.3185,0.000160594],[46.3185,0],[46.3185,0],[46.3185,0],[46.9412,0],[46.9412,0],[46.9412,0],[46.9412,0],[47.5638,0],[47.5638,0],[47.5638,0],[47.5638,0],[48.1865,0],[48.1865,0],[48.1865,0],[48.1865,0.000160594],[48.8092,0.000160594],[48.8092,0],[48.8092,0],[48.8092,0],[49.4319,0],[49.4319,0],[49.4319,0],[49.4319,0],[50.0546,0],[50.0546,0],[50.0546,0],[50.0546,0],[50.6773,0],[50.6773,0],[50.6773,0],[50.6773,0],[51.3,0],[51.3,0],[51.3,0],[51.3,0],[51.9227,0],[51.9227,0],[51.9227,0],[51.9227,0],[52.5453,0],[52.5453,0],[52.5453,0],[52.5453,0.000160594],[53.168,0.000160594],[53.168,0],[53.168,0],[53.168,0],[53.7907,0],[53.7907,0],[53.7907,0],[53.7907,0],[54.4134,0],[54.4134,0],[54.4134,0],[54.4134,0],[55.0361,0],[55.0361,0],[55.0361,0],[55.0361,0],[55.6588,0],[55.6588,0],[55.6588,0],[55.6588,0],[56.2815,0],[56.2815,0],[56.2815,0],[56.2815,0],[56.9042,0],[56.9042,0],[56.9042,0],[56.9042,0],[57.5268,0],[57.5268,0],[57.5268,0],[57.5268,0],[58.1495,0],[58.1495,0],[58.1495,0],[58.1495,0.000160594],[58.7722,0.000160594],[58.7722,0],[58.7722,0],[59.0836,0]] color=red fillStyle=solid lineStyle=solid pointStyle=none lineWidth=2]"
      ]
     },
     "execution_count": 8,
     "metadata": {},
     "output_type": "execute_result"
    }
   ],
   "source": [
    "graph = ot.HistogramFactory().build(Ysample).drawPDF()\n",
    "graph.setXTitle(\"Y (cm)\")\n",
    "graph.setLegends([\"\"])\n",
    "graph"
   ]
  },
  {
   "cell_type": "markdown",
   "metadata": {},
   "source": [
    "La probabilité recherchée peut être calculée en évaluant la fonction de répartition complémentaire de l'échantillon."
   ]
  },
  {
   "cell_type": "code",
   "execution_count": 9,
   "metadata": {},
   "outputs": [
    {
     "data": {
      "text/plain": [
       "0.0121"
      ]
     },
     "execution_count": 9,
     "metadata": {},
     "output_type": "execute_result"
    }
   ],
   "source": [
    "pf = Ysample.computeEmpiricalCDF([30.],True)\n",
    "pf"
   ]
  },
  {
   "cell_type": "code",
   "execution_count": 10,
   "metadata": {},
   "outputs": [],
   "source": [
    "alpha = 0.05"
   ]
  },
  {
   "cell_type": "code",
   "execution_count": 11,
   "metadata": {},
   "outputs": [
    {
     "data": {
      "text/plain": [
       "0.001093324745901235"
      ]
     },
     "execution_count": 11,
     "metadata": {},
     "output_type": "execute_result"
    }
   ],
   "source": [
    "sigmapf = np.sqrt(pf*(1-pf)/n)\n",
    "sigmapf"
   ]
  },
  {
   "cell_type": "code",
   "execution_count": 12,
   "metadata": {},
   "outputs": [
    {
     "data": {
      "text/html": [
       "<p>Normal(mu = 0.0121, sigma = 0.00109332)</p>"
      ],
      "text/plain": [
       "class=Normal name=Normal dimension=1 mean=class=Point name=Unnamed dimension=1 values=[0.0121] sigma=class=Point name=Unnamed dimension=1 values=[0.00109332] correlationMatrix=class=CorrelationMatrix dimension=1 implementation=class=MatrixImplementation name=Unnamed rows=1 columns=1 values=[1]"
      ]
     },
     "execution_count": 12,
     "metadata": {},
     "output_type": "execute_result"
    }
   ],
   "source": [
    "pf_dist = ot.Normal(pf,sigmapf)\n",
    "pf_dist"
   ]
  },
  {
   "cell_type": "code",
   "execution_count": 13,
   "metadata": {},
   "outputs": [
    {
     "name": "stdout",
     "output_type": "stream",
     "text": [
      "95.00% confidence interval = [0.009957,0.014243]\n"
     ]
    }
   ],
   "source": [
    "bounds = pf_dist.computeBilateralConfidenceInterval(1-alpha)\n",
    "lb = bounds.getLowerBound()[0]\n",
    "up = bounds.getUpperBound()[0]\n",
    "print(\"%.2f%% confidence interval = [%f,%f]\" % ((1-alpha)*100,lb,up))"
   ]
  },
  {
   "cell_type": "code",
   "execution_count": 14,
   "metadata": {},
   "outputs": [
    {
     "data": {
      "image/png": "[encoded data removed]",
      "text/plain": [
       "class=Graph name=pdf as a function of X0 implementation=class=GraphImplementation name=pdf as a function of X0 title=Pf estimate xTitle=Pf estimate yTitle=PDF axes=ON grid=ON legendposition=topright legendFontSize=1 drawables=[class=Drawable name=Unnamed implementation=class=Curve name=Unnamed derived from class=DrawableImplementation name=Unnamed legend= data=class=Sample name=Unnamed implementation=class=SampleImplementation name=Unnamed size=129 dimension=2 data=[[0.00802063,0.346046],[0.00808437,0.429403],[0.00814811,0.531032],[0.00821185,0.654485],[0.00827559,0.803902],[0.00833933,0.98408],[0.00840307,1.20055],[0.00846681,1.45968],[0.00853055,1.7687],[0.00859429,2.13589],[0.00865803,2.57054],[0.00872177,3.08316],[0.00878551,3.68545],[0.00884925,4.39045],[0.00891299,5.21256],[0.00897673,6.16762],[0.00904047,7.2729],[0.00910421,8.54716],[0.00916795,10.0106],[0.00923169,11.6848],[0.00929543,13.5928],[0.00935917,15.7586],[0.00942291,18.2076],[0.00948665,20.9657],[0.00955039,24.0597],[0.00961413,27.5167],[0.00967787,31.3636],[0.00974161,35.627],[0.00980535,40.3326],[0.00986909,45.5048],[0.00993283,51.1661],[0.00999657,57.3365],[0.0100603,64.033],[0.0101241,71.269],[0.0101878,79.0536],[0.0102515,87.3909],[0.0103153,96.2797],[0.010379,105.713],[0.0104428,115.676],[0.0105065,126.149],[0.0105702,137.103],[0.010634,148.503],[0.0106977,160.305],[0.0107615,172.458],[0.0108252,184.903],[0.0108889,197.573],[0.0109527,210.395],[0.0110164,223.288],[0.0110802,236.168],[0.0111439,248.944],[0.0112076,261.52],[0.0112714,273.799],[0.0113351,285.682],[0.0113989,297.069],[0.0114626,307.862],[0.0115263,317.965],[0.0115901,327.285],[0.0116538,335.735],[0.0117176,343.235],[0.0117813,349.711],[0.011845,355.101],[0.0119088,359.351],[0.0119725,362.417],[0.0120363,364.27],[0.0121,364.889],[0.0121637,364.27],[0.0122275,362.417],[0.0122912,359.351],[0.012355,355.101],[0.0124187,349.711],[0.0124824,343.235],[0.0125462,335.735],[0.0126099,327.285],[0.0126737,317.965],[0.0127374,307.862],[0.0128011,297.069],[0.0128649,285.682],[0.0129286,273.799],[0.0129924,261.52],[0.0130561,248.944],[0.0131198,236.168],[0.0131836,223.288],[0.0132473,210.395],[0.0133111,197.573],[0.0133748,184.903],[0.0134385,172.458],[0.0135023,160.305],[0.013566,148.503],[0.0136298,137.103],[0.0136935,126.149],[0.0137572,115.676],[0.013821,105.713],[0.0138847,96.2797],[0.0139485,87.3909],[0.0140122,79.0536],[0.0140759,71.269],[0.0141397,64.033],[0.0142034,57.3365],[0.0142672,51.1661],[0.0143309,45.5048],[0.0143946,40.3326],[0.0144584,35.627],[0.0145221,31.3636],[0.0145859,27.5167],[0.0146496,24.0597],[0.0147133,20.9657],[0.0147771,18.2076],[0.0148408,15.7586],[0.0149046,13.5928],[0.0149683,11.6848],[0.015032,10.0106],[0.0150958,8.54716],[0.0151595,7.2729],[0.0152233,6.16762],[0.015287,5.21256],[0.0153507,4.39045],[0.0154145,3.68545],[0.0154782,3.08316],[0.015542,2.57054],[0.0156057,2.13589],[0.0156694,1.7687],[0.0157332,1.45968],[0.0157969,1.20055],[0.0158607,0.98408],[0.0159244,0.803902],[0.0159881,0.654485],[0.0160519,0.531032],[0.0161156,0.429403],[0.0161794,0.346046]] color=red fillStyle=solid lineStyle=solid pointStyle=none lineWidth=2]"
      ]
     },
     "execution_count": 14,
     "metadata": {},
     "output_type": "execute_result"
    }
   ],
   "source": [
    "graph = pf_dist.drawPDF()\n",
    "graph.setXTitle(\"Pf estimate\")\n",
    "graph.setTitle(\"Pf estimate\")\n",
    "graph.setLegends([\"\"])\n",
    "graph"
   ]
  },
  {
   "cell_type": "markdown",
   "metadata": {},
   "source": [
    "## Par Monte-Carlo avec un algorithme itératif\n",
    "\n",
    "La classe `ProbabilitySimulationAlgorithm` permet de calculer une probabilité avec une précision fixée par l'utilisateur en utilisant la taille d'échantillon $n$ la plus petite possible."
   ]
  },
  {
   "cell_type": "code",
   "execution_count": 15,
   "metadata": {},
   "outputs": [],
   "source": [
    "myEvent = ot.Event(Y, ot.Greater(), 30.0)"
   ]
  },
  {
   "cell_type": "code",
   "execution_count": 16,
   "metadata": {},
   "outputs": [],
   "source": [
    "blocksize = 1000\n",
    "experiment = ot.MonteCarloExperiment()\n",
    "myAlgo = ot.ProbabilitySimulationAlgorithm(myEvent, experiment)\n",
    "myAlgo.setMaximumOuterSampling(10000)\n",
    "myAlgo.setBlockSize(blocksize)\n",
    "myAlgo.setMaximumCoefficientOfVariation(0.01)"
   ]
  },
  {
   "cell_type": "code",
   "execution_count": 17,
   "metadata": {},
   "outputs": [],
   "source": [
    "myAlgo.run()"
   ]
  },
  {
   "cell_type": "code",
   "execution_count": 18,
   "metadata": {},
   "outputs": [],
   "source": [
    "result = myAlgo.getResult()"
   ]
  },
  {
   "cell_type": "code",
   "execution_count": 19,
   "metadata": {},
   "outputs": [
    {
     "data": {
      "text/plain": [
       "907"
      ]
     },
     "execution_count": 19,
     "metadata": {},
     "output_type": "execute_result"
    }
   ],
   "source": [
    "outersampling = result.getOuterSampling()\n",
    "outersampling"
   ]
  },
  {
   "cell_type": "code",
   "execution_count": 20,
   "metadata": {},
   "outputs": [
    {
     "data": {
      "text/plain": [
       "907000"
      ]
     },
     "execution_count": 20,
     "metadata": {},
     "output_type": "execute_result"
    }
   ],
   "source": [
    "funccalls = blocksize * outersampling\n",
    "funccalls"
   ]
  },
  {
   "cell_type": "code",
   "execution_count": 21,
   "metadata": {},
   "outputs": [
    {
     "data": {
      "text/plain": [
       "0.010918412348401263"
      ]
     },
     "execution_count": 21,
     "metadata": {},
     "output_type": "execute_result"
    }
   ],
   "source": [
    "pf = result.getProbabilityEstimate()\n",
    "pf"
   ]
  },
  {
   "cell_type": "code",
   "execution_count": 22,
   "metadata": {},
   "outputs": [],
   "source": [
    "alpha = 0.05"
   ]
  },
  {
   "cell_type": "code",
   "execution_count": 23,
   "metadata": {
    "scrolled": true
   },
   "outputs": [
    {
     "name": "stdout",
     "output_type": "stream",
     "text": [
      "95.00% confidence interval = [0.010704,0.011132]\n"
     ]
    }
   ],
   "source": [
    "pflen = result.getConfidenceLength(1-alpha)\n",
    "print(\"%.2f%% confidence interval = [%f,%f]\" % ((1-alpha)*100,pf-pflen/2,pf+pflen/2))"
   ]
  },
  {
   "cell_type": "markdown",
   "metadata": {},
   "source": [
    "## Exercice 1 : sensibilité aux paramètres\n",
    " \n",
    " L'objectif de cet exercice est d'utiliser la classe `ProbabilitySimulationAlgorithm`, de comprendre ses paramètres et interpréter ses résutlats.\n",
    " - Créer une fonction `calculePF` qui prend en argument le seuil `threshold` et le coefficient de variation `coeffofvar`. Dans le corps de la fonction, utiliser la classe `ProbabilitySimulationAlgorithm` et calculer, puis afficher :\n",
    "   - la probabilité de dépassement de seuil $p_f$, \n",
    "   - l'intervalle de confiance à 95% et \n",
    "   - le nombre d'appels à la fonction $g$.\n",
    "   \n",
    "Pour vous aider, vous pouvez vous inspirer du squelette suivant, dans lequel vous remplacerez les sections *TODO* par du code Python valide.\n",
    "\n",
    "```\n",
    "def calculePF(threshold,coeffofvar):\n",
    "    print(\"Seuil = %f, C.V. = %f\" % (threshold,coeffofvar))\n",
    "    myEvent = ot.Event(TODO)\n",
    "    experiment = ot.MonteCarloExperiment()\n",
    "    myAlgo = ot.ProbabilitySimulationAlgorithm(TODO)\n",
    "    myAlgo.setMaximumOuterSampling(TODO)\n",
    "    myAlgo.setBlockSize(TODO)\n",
    "    myAlgo.setMaximumCoefficientOfVariation(TODO)\n",
    "    myAlgo.run()\n",
    "    result = TODO\n",
    "    pf = TODO\n",
    "    alpha = TODO\n",
    "    pflen = result.TODO\n",
    "    outersampling = result.TODO\n",
    "    funccalls = TODO\n",
    "    print(\"    Outersampling = %d, Nb. function G calls = %d\" % (outersampling,funccalls))\n",
    "    print(\"    Pf = %f\" % (pf))\n",
    "    print(\"    %.2f%% confidence interval = [%f,%f]\" % ((1-alpha)*100,pf-pflen/2,pf+pflen/2))\n",
    "    return None\n",
    "```\n",
    "\n",
    " - Pour les valeurs du seuil égales à 10, 20 et 30 cm et CV=0.01, utiliser la fonction fonction `calculePF`. Pour interpréter vos résultats, présentez-les dans une table. Qu'observez-vous ? Expliquer le sens physique du résultat. \n",
    " - On considère un seuil égal à s=30 cm. Configurer le coefficient de variation à 0.1, 0.05 et 0.01 et calculer le nombre d'appel à la fonction $g$. Pour interpréter vos résultats, présentez-les dans une table. Qu'observez-vous ? Expliquer pourquoi ce résultat est en lien avec le fonctionnement de l'algorithme."
   ]
  },
  {
   "cell_type": "markdown",
   "metadata": {},
   "source": [
    "## Solution de l'exercice 1 : sensibilité aux paramètres"
   ]
  },
  {
   "cell_type": "code",
   "execution_count": 24,
   "metadata": {},
   "outputs": [],
   "source": [
    "def calculePF(threshold,coeffofvar):\n",
    "    print(\"Seuil = %f, C.V. = %f\" % (threshold,coeffofvar))\n",
    "    myEvent = ot.Event(Y, ot.Greater(), threshold)\n",
    "    experiment = ot.MonteCarloExperiment()\n",
    "    myAlgo = ot.ProbabilitySimulationAlgorithm(myEvent, experiment)\n",
    "    myAlgo.setMaximumOuterSampling(10000)\n",
    "    blocksize = 1000\n",
    "    myAlgo.setBlockSize(blocksize)\n",
    "    myAlgo.setMaximumCoefficientOfVariation(coeffofvar)\n",
    "    myAlgo.run()\n",
    "    result = myAlgo.getResult()\n",
    "    pf = result.getProbabilityEstimate()\n",
    "    alpha = 0.05\n",
    "    pflen = result.getConfidenceLength(1-alpha)\n",
    "    outersampling = result.getOuterSampling()\n",
    "    funccalls = blocksize * outersampling\n",
    "    print(\"    Outersampling = %d, Nb. function G calls = %d\" % (outersampling,funccalls))\n",
    "    print(\"    Pf = %f\" % (pf))\n",
    "    print(\"    %.2f%% confidence interval = [%f,%f]\" % ((1-alpha)*100,pf-pflen/2,pf+pflen/2))\n",
    "    return None"
   ]
  },
  {
   "cell_type": "code",
   "execution_count": 25,
   "metadata": {},
   "outputs": [
    {
     "name": "stdout",
     "output_type": "stream",
     "text": [
      "Seuil = 10.000000, C.V. = 0.010000\n",
      "    Outersampling = 2, Nb. function G calls = 2000\n",
      "    Pf = 0.854000\n",
      "    95.00% confidence interval = [0.838517,0.869483]\n",
      "Seuil = 20.000000, C.V. = 0.010000\n",
      "    Outersampling = 87, Nb. function G calls = 87000\n",
      "    Pf = 0.103575\n",
      "    95.00% confidence interval = [0.101549,0.105600]\n",
      "Seuil = 30.000000, C.V. = 0.010000\n",
      "    Outersampling = 889, Nb. function G calls = 889000\n",
      "    Pf = 0.011139\n",
      "    95.00% confidence interval = [0.010921,0.011358]\n"
     ]
    }
   ],
   "source": [
    "calculePF(10,0.01)\n",
    "calculePF(20,0.01)\n",
    "calculePF(30,0.01)"
   ]
  },
  {
   "cell_type": "markdown",
   "metadata": {},
   "source": [
    "La table suivante présente les résultats que l'on obtient avec CV=0.01 et différentes valeurs du seuil $s$. \n",
    "\n",
    "| s (cm) | CV | $p_f$ | I.C. à 95% | Nb. appels à g |\n",
    "|---|---|---|---|---|\n",
    "| 10 (cm) | 0.01 | 0.717800 | [0.7053,0.7303] | 5000 |\n",
    "| 20 (cm) | 0.01 | 0.058210 | [0.05707,0.05935] | 162000 |\n",
    "| 30 (cm) | 0.01 | 0.005519 | [0.005411,0.005628] | 1804000 |\n",
    "\n",
    "On observe que, lorsque le seuil augmente, \n",
    "- la probabilité diminue, \n",
    "- le nombre d'appels à la fonction $g$ augmente.\n",
    "\n",
    "Le fait que la probabilité diminue lorsque le seuil augmente est cohérent avec la queue droite de la distribution de la déviation $Y$, avec de rares grandes déviations. \n",
    "\n",
    "Le fait que le nombre d'appels à $g$ augmente lorsque le seuil augmente est une conséquence de l'algorithme utilisé par `ProbabilitySimulationAlgorithm`, dans lequel nous avons fixé le coefficient de variation à 0.01. Ainsi, puisque la probabilité est de plus en plus proche de zéro, l'algorithme est contraint d'augmenter la taille de l'échantillon pour atteindre le coefficient de variation imposé."
   ]
  },
  {
   "cell_type": "code",
   "execution_count": 26,
   "metadata": {},
   "outputs": [
    {
     "name": "stdout",
     "output_type": "stream",
     "text": [
      "Seuil = 30.000000, C.V. = 0.100000\n",
      "    Outersampling = 9, Nb. function G calls = 9000\n",
      "    Pf = 0.011444\n",
      "    95.00% confidence interval = [0.009246,0.013643]\n",
      "Seuil = 30.000000, C.V. = 0.050000\n",
      "    Outersampling = 38, Nb. function G calls = 38000\n",
      "    Pf = 0.010526\n",
      "    95.00% confidence interval = [0.009500,0.011553]\n",
      "Seuil = 30.000000, C.V. = 0.010000\n",
      "    Outersampling = 904, Nb. function G calls = 904000\n",
      "    Pf = 0.010963\n",
      "    95.00% confidence interval = [0.010749,0.011178]\n"
     ]
    }
   ],
   "source": [
    "calculePF(30,0.1)\n",
    "calculePF(30,0.05)\n",
    "calculePF(30,0.01)"
   ]
  },
  {
   "cell_type": "markdown",
   "metadata": {},
   "source": [
    "La table suivante présente les résultats que l'on obtient avec s=30 et différentes valeurs du coefficient de variation. \n",
    "\n",
    "| s (cm) | CV | $p_f$ | I.C. à 95% | Nb. appels à g |\n",
    "|---|---|---|---|---|\n",
    "| 30 (cm) | 0.1 | 0.005632 | [0.004567,0.006696] | 19000 |\n",
    "| 30 (cm) | 0.05 | 0.005556 | [0.005012,0.006099] | 72000 |\n",
    "| 30 (cm) | 0.01 | 0.005657 | [0.005546,0.005768] | 1760000 |\n",
    "\n",
    "On observe que, lorsque le coefficient de variation diminue, le nombre d'appels à $g$ augmente considérablement. On observe également que la largeur de l'intervalle de confiance diminue. \n",
    "\n",
    "Cela est cohérent avec le résultat que nous avons présenté et qui montre que le nombre d'appels à $g$ dépend de l'inverse du carré de CV. C'est la raison pour laquelle, même si $CV=0.01$ semble un minimum acceptable, on se contente souvent de $CV=0.1$."
   ]
  },
  {
   "cell_type": "markdown",
   "metadata": {},
   "source": [
    "## Exercice 2 : probabilité en fonction du seuil\n",
    "\n",
    "L'objectif de cet exercice est d'observer l'évolution de la probabilité lorsque le seuil augmente. Pour cela, on utilise un échantillon de taille fixé. \n",
    "- Créer la variable `Ysample` contenant un échantillon de $Y$ de taille 100000. \n",
    "- Créer la variable `thresholdarray` contenant 10 valeurs de $s$ entre 20 et 50. \n",
    "- Pour chaque valeur de seuil $s$, calculer \n",
    "  - la probabilité de dépassement de seuil,\n",
    "  - la borne inférieure de l'intervalle de confiance,\n",
    "  - la borne supérieure de l'intervalle de confiance.\n",
    "\n",
    "Pour vous aider, vous pouvez vous inspirer du squelette suivante, dans lequel vous remplacerez les sections *TODO* par du code Python valide.\n",
    "\n",
    "```\n",
    "alpha = 0.05\n",
    "nbthresholds = 10\n",
    "thresholdarray = ot.Sample(np.linspace(20.,50.,nbthresholds),1)\n",
    "pfarray = ot.Sample(nbthresholds,1)\n",
    "lbarray = ot.Sample(nbthresholds,1)\n",
    "ubarray = ot.Sample(nbthresholds,1)\n",
    "for i in range(nbthresholds):\n",
    "    s = thresholdarray[i,0]\n",
    "    pf = TODO\n",
    "    pfarray[i,0] = pf\n",
    "    sigmapf = TODO\n",
    "    pf_dist = TODO\n",
    "    bounds = pf_dist.computeBilateralConfidenceInterval(1-alpha)\n",
    "    lbarray[i,0] = bounds.getLowerBound()[0]\n",
    "    ubarray[i,0] = bounds.getUpperBound()[0]\n",
    "    print(\"s=%f, pf=%f in [%f,%f]\" % (s,pf,lbarray[i,0],ubarray[i,0]))\n",
    "```\n",
    "\n",
    "- Créer un graphique réprésentant en abscisse le seuil $s$, et en ordonnée la probabilité de dépassement de seuil et ses bornes inférieures et supérieures.\n",
    "  - Utiliser la méthode `setLogScale` pour dessiner l'axe des ordonnées en échelle logarithmique.\n",
    "  - Qu'observez-vous ? Expliquer-le sur le plan physique et sur le plan probabiliste.\n",
    "- On s'intéresse au coefficient de variation :\n",
    "$$\n",
    "CV = \\frac{\\sigma_{p_f}}{p_f}\n",
    "$$\n",
    "si $p_f>0$ et son approximation :\n",
    "$$\n",
    "\\widetilde{CV} = \\frac{\\tilde{\\sigma}_{p_f}}{\\tilde{p_f}}\n",
    "$$\n",
    "si $\\tilde{p_f}>0$. \n",
    "Le coefficient de variation représente la précision relative d'estimation de la probabilité $p_f$. \n",
    "  - Pour chaque valeur de seuil $s$, calculer le coefficient de variation approché. Qu'observez-vous ? Pourquoi ?\n",
    "\n",
    "Pour vous aider, vous pouvez vous inspirer du squelette suivante, dans lequel vous remplacerez les sections *TODO* par du code Python valide.\n",
    "\n",
    "```\n",
    "for i in range(nbthresholds):\n",
    "    s = thresholdarray[i,0]\n",
    "    pf = TODO\n",
    "    pfarray[i,0] = pf\n",
    "    sigmapf = TODO\n",
    "    cv = TODO\n",
    "    print(\"s=%f, pf=%f, C.V.=%f\" % (s,pf,cv))\n",
    "```"
   ]
  },
  {
   "cell_type": "markdown",
   "metadata": {},
   "source": [
    "## Solution de l'exercice 2 : probabilité en fonction du seuil"
   ]
  },
  {
   "cell_type": "code",
   "execution_count": 27,
   "metadata": {},
   "outputs": [],
   "source": [
    "n = 100000\n",
    "Ysample = Y.getSample(n)"
   ]
  },
  {
   "cell_type": "code",
   "execution_count": 28,
   "metadata": {},
   "outputs": [
    {
     "name": "stdout",
     "output_type": "stream",
     "text": [
      "s=20.000000, pf=0.101820 in [0.099946,0.103694]\n",
      "s=23.333333, pf=0.046550 in [0.045244,0.047856]\n",
      "s=26.666667, pf=0.021960 in [0.021052,0.022868]\n",
      "s=30.000000, pf=0.010580 in [0.009946,0.011214]\n",
      "s=33.333333, pf=0.005480 in [0.005022,0.005938]\n",
      "s=36.666667, pf=0.002930 in [0.002595,0.003265]\n",
      "s=40.000000, pf=0.001650 in [0.001398,0.001902]\n",
      "s=43.333333, pf=0.000890 in [0.000705,0.001075]\n",
      "s=46.666667, pf=0.000500 in [0.000361,0.000639]\n",
      "s=50.000000, pf=0.000320 in [0.000209,0.000431]\n"
     ]
    }
   ],
   "source": [
    "alpha = 0.05\n",
    "nbthresholds = 10\n",
    "thresholdarray = ot.Sample(np.linspace(20.,50.,nbthresholds),1)\n",
    "pfarray = ot.Sample(nbthresholds,1)\n",
    "lbarray = ot.Sample(nbthresholds,1)\n",
    "ubarray = ot.Sample(nbthresholds,1)\n",
    "for i in range(nbthresholds):\n",
    "    s = thresholdarray[i,0]\n",
    "    pf = Ysample.computeEmpiricalCDF([s],True)\n",
    "    pfarray[i,0] = pf\n",
    "    sigmapf = np.sqrt(pf*(1-pf)/n)\n",
    "    pf_dist = ot.Normal(pf,sigmapf)\n",
    "    bounds = pf_dist.computeBilateralConfidenceInterval(1-alpha)\n",
    "    lbarray[i,0] = bounds.getLowerBound()[0]\n",
    "    ubarray[i,0] = bounds.getUpperBound()[0]\n",
    "    print(\"s=%f, pf=%f in [%f,%f]\" % (s,pf,lbarray[i,0],ubarray[i,0]))"
   ]
  },
  {
   "cell_type": "code",
   "execution_count": 29,
   "metadata": {},
   "outputs": [
    {
     "data": {
      "image/png": "[encoded data removed]",
      "text/plain": [
       "class=Graph name=Probability of failure n=100000 implementation=class=GraphImplementation name=Probability of failure n=100000 title=Probability of failure n=100000 xTitle=Threshold yTitle=Pf axes=ON grid=ON legendposition=topright legendFontSize=1 drawables=[class=Drawable name=Pf implementation=class=Curve name=Pf derived from class=DrawableImplementation name=Pf legend=Pf data=class=Sample name=Unnamed implementation=class=SampleImplementation name=Unnamed size=10 dimension=2 data=[[20,0.10182],[23.3333,0.04655],[26.6667,0.02196],[30,0.01058],[33.3333,0.00548],[36.6667,0.00293],[40,0.00165],[43.3333,0.00089],[46.6667,0.0005],[50,0.00032]] color=blue fillStyle=solid lineStyle=solid pointStyle=none lineWidth=1,class=Drawable name=Lower implementation=class=Curve name=Lower derived from class=DrawableImplementation name=Lower legend=95% Lower bound data=class=Sample name=Unnamed implementation=class=SampleImplementation name=Unnamed size=10 dimension=2 data=[[20,0.0999457],[23.3333,0.0452443],[26.6667,0.0210517],[30,0.00994587],[33.3333,0.00502244],[36.6667,0.002595],[40,0.00139845],[43.3333,0.00070518],[46.6667,0.000361444],[50,0.000209145]] color=green fillStyle=solid lineStyle=solid pointStyle=none lineWidth=1,class=Drawable name=Upper implementation=class=Curve name=Upper derived from class=DrawableImplementation name=Upper legend=95% Upper bound data=class=Sample name=Unnamed implementation=class=SampleImplementation name=Unnamed size=10 dimension=2 data=[[20,0.103694],[23.3333,0.0478557],[26.6667,0.0228683],[30,0.0112141],[33.3333,0.00593756],[36.6667,0.003265],[40,0.00190155],[43.3333,0.00107482],[46.6667,0.000638556],[50,0.000430855]] color=green fillStyle=solid lineStyle=solid pointStyle=none lineWidth=1]"
      ]
     },
     "execution_count": 29,
     "metadata": {},
     "output_type": "execute_result"
    }
   ],
   "source": [
    "myGraph = ot.Graph('Probability of failure n=%d' % (n), 'Threshold', 'Pf', True, 'topright')\n",
    "myPfCurve = ot.Curve(thresholdarray,pfarray, 'Pf')\n",
    "myLBCurve = ot.Curve(thresholdarray,lbarray, 'Lower')\n",
    "myLBCurve.setColor(\"green\")\n",
    "myUBCurve = ot.Curve(thresholdarray,ubarray, 'Upper')\n",
    "myUBCurve.setColor(\"green\")\n",
    "myGraph.add(myPfCurve)\n",
    "myGraph.add(myLBCurve)\n",
    "myGraph.add(myUBCurve)\n",
    "myGraph.setLegends([\"Pf\",\"95% Lower bound\",\"95% Upper bound\"])\n",
    "myGraph.setLogScale(ot.GraphImplementation.LOGY)\n",
    "myGraph"
   ]
  },
  {
   "cell_type": "markdown",
   "metadata": {},
   "source": [
    "On observe que, lorsque le seuil $s$ augmente, alors la probabilité $p_f$ diminue. Cela montre que l'évènement recherché est de plus en plus rare. C'est physiquement cohérent, puisque les grandes déviations verticales sont moins fréquentes. C'est cohérent avec la distribution des déviations verticales, qui sont moins fréquentes lorsque la déviation augmente. "
   ]
  },
  {
   "cell_type": "code",
   "execution_count": 30,
   "metadata": {},
   "outputs": [
    {
     "name": "stdout",
     "output_type": "stream",
     "text": [
      "s=20.000000, pf=0.101820, C.V.=0.009392\n",
      "s=23.333333, pf=0.046550, C.V.=0.014312\n",
      "s=26.666667, pf=0.021960, C.V.=0.021104\n",
      "s=30.000000, pf=0.010580, C.V.=0.030581\n",
      "s=33.333333, pf=0.005480, C.V.=0.042601\n",
      "s=36.666667, pf=0.002930, C.V.=0.058335\n",
      "s=40.000000, pf=0.001650, C.V.=0.077786\n",
      "s=43.333333, pf=0.000890, C.V.=0.105953\n",
      "s=46.666667, pf=0.000500, C.V.=0.141386\n",
      "s=50.000000, pf=0.000320, C.V.=0.176748\n"
     ]
    }
   ],
   "source": [
    "for i in range(nbthresholds):\n",
    "    s = thresholdarray[i,0]\n",
    "    pf = Ysample.computeEmpiricalCDF([s],True)\n",
    "    pfarray[i,0] = pf\n",
    "    sigmapf = np.sqrt(pf*(1-pf)/n)\n",
    "    cv = sigmapf/pf\n",
    "    print(\"s=%f, pf=%f, C.V.=%f\" % (s,pf,cv))"
   ]
  },
  {
   "cell_type": "markdown",
   "metadata": {},
   "source": [
    "On observe que le coefficient de variation augmente lorsque la probabilité se rapproche de zéro. Cela est cohérent avec le calcul théorique qui indique $CV \\approx \\sqrt{\\frac{1}{p_f n}}$ quand $p_f\\approx 0$."
   ]
  }
 ],
 "metadata": {
  "kernelspec": {
   "display_name": "Python 3",
   "language": "python",
   "name": "python3"
  },
  "language_info": {
   "codemirror_mode": {
    "name": "ipython",
    "version": 3
   },
   "file_extension": ".py",
   "mimetype": "text/x-python",
   "name": "python",
   "nbconvert_exporter": "python",
   "pygments_lexer": "ipython3",
   "version": "3.7.4"
  }
 },
 "nbformat": 4,
 "nbformat_minor": 2
}
