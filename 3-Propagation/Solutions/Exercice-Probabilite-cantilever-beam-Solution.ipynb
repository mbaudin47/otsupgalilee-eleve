{
 "cells": [
  {
   "cell_type": "markdown",
   "metadata": {},
   "source": [
    "# Estimer une probabilité de dépassement de seuil - Application au cas de la poutre en flexion\n"
   ]
  },
  {
   "cell_type": "markdown",
   "metadata": {},
   "source": [
    "# Model definition"
   ]
  },
  {
   "cell_type": "code",
   "execution_count": 1,
   "metadata": {},
   "outputs": [],
   "source": [
    "import openturns as ot\n",
    "import openturns.viewer as otv\n",
    "import numpy as np"
   ]
  },
  {
   "cell_type": "code",
   "execution_count": 2,
   "metadata": {},
   "outputs": [],
   "source": [
    "dist_E = ot.Beta(0.9, 2.2, 2.8e7, 4.8e7)\n",
    "dist_E.setDescription([\"E\"])\n",
    "F_para = ot.LogNormalMuSigma(3.0e4, 9.0e3, 15.0e3)  # in N\n",
    "dist_F = ot.ParametrizedDistribution(F_para)\n",
    "dist_F.setDescription([\"F\"])\n",
    "dist_L = ot.Uniform(250.0, 260.0)  # in cm\n",
    "dist_L.setDescription([\"L\"])\n",
    "dist_I = ot.Beta(2.5, 1.5, 310.0, 450.0)  # in cm^4\n",
    "dist_I.setDescription([\"I\"])\n",
    "\n",
    "X = ot.ComposedDistribution([dist_E, dist_F, dist_L, dist_I])"
   ]
  },
  {
   "cell_type": "code",
   "execution_count": 3,
   "metadata": {},
   "outputs": [],
   "source": [
    "g = ot.SymbolicFunction([\"E\", \"F\", \"L\", \"I\"], [\"F* L^3 /  (3 * E * I)\"])\n",
    "g.setOutputDescription([\"Y (cm)\"])"
   ]
  },
  {
   "cell_type": "markdown",
   "metadata": {},
   "source": [
    "Pour pouvoir exploiter au mieux les simulations, nous équipons la fonction d'un méchanisme d'historique."
   ]
  },
  {
   "cell_type": "code",
   "execution_count": 4,
   "metadata": {},
   "outputs": [],
   "source": [
    "g = ot.MemoizeFunction(g)"
   ]
  },
  {
   "cell_type": "markdown",
   "metadata": {},
   "source": [
    "Enfin, nous définissons le vecteur aléatoire de sortie."
   ]
  },
  {
   "cell_type": "code",
   "execution_count": 5,
   "metadata": {},
   "outputs": [],
   "source": [
    "XRV = ot.RandomVector(X)\n",
    "Y = ot.CompositeRandomVector(g, XRV)\n",
    "Y.setDescription([\"Y (cm)\"])"
   ]
  },
  {
   "cell_type": "markdown",
   "metadata": {},
   "source": [
    "## Par Monte-Carlo simple avec un budget fixé\n",
    "\n",
    "La manière la plus simple de faire une telle étude consiste à fixer le nombre de simulations à l'avance. En d'autres termes, on fixe $n$ et on génère un échantillon de la variable de sortie $Y$ de taille $n$. C'est la méthode \"traditionnelle\"."
   ]
  },
  {
   "cell_type": "code",
   "execution_count": 6,
   "metadata": {
    "scrolled": false
   },
   "outputs": [
    {
     "data": {
      "image/png": "[encoded data removed]",
      "text/plain": [
       "<Figure size 288x216 with 1 Axes>"
      ]
     },
     "metadata": {
      "needs_background": "light"
     },
     "output_type": "display_data"
    }
   ],
   "source": [
    "n = 10000\n",
    "\n",
    "Ysample = Y.getSample(n)\n",
    "\n",
    "graph = ot.HistogramFactory().build(Ysample).drawPDF()\n",
    "graph.setXTitle(\"Y (cm)\")\n",
    "graph.setLegends([\"\"])\n",
    "view = otv.View(graph, figure_kw={\"figsize\": (4.0, 3.0)})"
   ]
  },
  {
   "cell_type": "markdown",
   "metadata": {},
   "source": [
    "La probabilité recherchée peut être calculée en évaluant la fonction de répartition complémentaire de l'échantillon."
   ]
  },
  {
   "cell_type": "code",
   "execution_count": 7,
   "metadata": {},
   "outputs": [
    {
     "data": {
      "text/plain": [
       "0.0055"
      ]
     },
     "execution_count": 7,
     "metadata": {},
     "output_type": "execute_result"
    }
   ],
   "source": [
    "pf = Ysample.computeEmpiricalCDF([30.0], True)\n",
    "pf"
   ]
  },
  {
   "cell_type": "code",
   "execution_count": 8,
   "metadata": {},
   "outputs": [
    {
     "data": {
      "text/plain": [
       "0.0007395775821372629"
      ]
     },
     "execution_count": 8,
     "metadata": {},
     "output_type": "execute_result"
    }
   ],
   "source": [
    "alpha = 0.05\n",
    "\n",
    "sigmapf = np.sqrt(pf * (1 - pf) / n)\n",
    "sigmapf"
   ]
  },
  {
   "cell_type": "code",
   "execution_count": 9,
   "metadata": {},
   "outputs": [
    {
     "data": {
      "text/html": [
       "<p>Normal(mu = 0.0055, sigma = 0.000739578)</p>"
      ],
      "text/plain": [
       "class=Normal name=Normal dimension=1 mean=class=Point name=Unnamed dimension=1 values=[0.0055] sigma=class=Point name=Unnamed dimension=1 values=[0.000739578] correlationMatrix=class=CorrelationMatrix dimension=1 implementation=class=MatrixImplementation name=Unnamed rows=1 columns=1 values=[1]"
      ]
     },
     "execution_count": 9,
     "metadata": {},
     "output_type": "execute_result"
    }
   ],
   "source": [
    "pf_dist = ot.Normal(pf, sigmapf)\n",
    "pf_dist"
   ]
  },
  {
   "cell_type": "code",
   "execution_count": 10,
   "metadata": {},
   "outputs": [
    {
     "name": "stdout",
     "output_type": "stream",
     "text": [
      "95.00% confidence interval = [0.004050,0.006950]\n"
     ]
    }
   ],
   "source": [
    "bounds = pf_dist.computeBilateralConfidenceInterval(1 - alpha)\n",
    "lb = bounds.getLowerBound()[0]\n",
    "up = bounds.getUpperBound()[0]\n",
    "print(\"%.2f%% confidence interval = [%f,%f]\" % ((1 - alpha) * 100, lb, up))"
   ]
  },
  {
   "cell_type": "code",
   "execution_count": 11,
   "metadata": {},
   "outputs": [
    {
     "data": {
      "image/png": "[encoded data removed]",
      "text/plain": [
       "<Figure size 288x216 with 1 Axes>"
      ]
     },
     "metadata": {
      "needs_background": "light"
     },
     "output_type": "display_data"
    }
   ],
   "source": [
    "graph = pf_dist.drawPDF()\n",
    "graph.setXTitle(\"Pf estimate\")\n",
    "graph.setTitle(\"Pf estimate\")\n",
    "graph.setLegends([\"\"])\n",
    "view = otv.View(graph, figure_kw={\"figsize\": (4.0, 3.0)})"
   ]
  },
  {
   "cell_type": "markdown",
   "metadata": {},
   "source": [
    "## Par Monte-Carlo avec un algorithme itératif\n",
    "\n",
    "La classe `ProbabilitySimulationAlgorithm` permet de calculer une probabilité avec une précision fixée par l'utilisateur en utilisant la taille d'échantillon $n$ la plus petite possible."
   ]
  },
  {
   "cell_type": "code",
   "execution_count": 12,
   "metadata": {},
   "outputs": [],
   "source": [
    "myEvent = ot.ThresholdEvent(Y, ot.Greater(), 30.0)"
   ]
  },
  {
   "cell_type": "code",
   "execution_count": 13,
   "metadata": {},
   "outputs": [
    {
     "data": {
      "text/plain": [
       "1773"
      ]
     },
     "execution_count": 13,
     "metadata": {},
     "output_type": "execute_result"
    }
   ],
   "source": [
    "blocksize = 1000\n",
    "experiment = ot.MonteCarloExperiment()\n",
    "myAlgo = ot.ProbabilitySimulationAlgorithm(myEvent, experiment)\n",
    "myAlgo.setMaximumOuterSampling(10000)\n",
    "myAlgo.setBlockSize(blocksize)\n",
    "myAlgo.setMaximumCoefficientOfVariation(0.01)\n",
    "\n",
    "myAlgo.run()\n",
    "\n",
    "result = myAlgo.getResult()\n",
    "\n",
    "outersampling = result.getOuterSampling()\n",
    "outersampling"
   ]
  },
  {
   "cell_type": "code",
   "execution_count": 14,
   "metadata": {},
   "outputs": [
    {
     "data": {
      "text/plain": [
       "1773000"
      ]
     },
     "execution_count": 14,
     "metadata": {},
     "output_type": "execute_result"
    }
   ],
   "source": [
    "funccalls = blocksize * outersampling\n",
    "funccalls"
   ]
  },
  {
   "cell_type": "code",
   "execution_count": 15,
   "metadata": {},
   "outputs": [
    {
     "data": {
      "text/plain": [
       "0.005617033276931718"
      ]
     },
     "execution_count": 15,
     "metadata": {},
     "output_type": "execute_result"
    }
   ],
   "source": [
    "pf = result.getProbabilityEstimate()\n",
    "pf"
   ]
  },
  {
   "cell_type": "code",
   "execution_count": 16,
   "metadata": {},
   "outputs": [
    {
     "data": {
      "text/html": [
       "<p>Normal(mu = 0.00561703, sigma = 5.61556e-05)</p>"
      ],
      "text/plain": [
       "class=Normal name=Normal dimension=1 mean=class=Point name=Unnamed dimension=1 values=[0.00561703] sigma=class=Point name=Unnamed dimension=1 values=[5.61556e-05] correlationMatrix=class=CorrelationMatrix dimension=1 implementation=class=MatrixImplementation name=Unnamed rows=1 columns=1 values=[1]"
      ]
     },
     "execution_count": 16,
     "metadata": {},
     "output_type": "execute_result"
    }
   ],
   "source": [
    "probability_estimate = result.getProbabilityDistribution()\n",
    "probability_estimate"
   ]
  },
  {
   "cell_type": "code",
   "execution_count": 17,
   "metadata": {
    "scrolled": true
   },
   "outputs": [
    {
     "name": "stdout",
     "output_type": "stream",
     "text": [
      "95.00% confidence interval:\n",
      "[0.00550697, 0.0057271]\n"
     ]
    }
   ],
   "source": [
    "alpha = 0.05\n",
    "\n",
    "interval = probability_estimate.computeBilateralConfidenceInterval(1.0 - alpha)\n",
    "print(\"%.2f%% confidence interval:\" % (100.0 * (1.0 - alpha)))\n",
    "print(interval)"
   ]
  },
  {
   "cell_type": "code",
   "execution_count": 18,
   "metadata": {},
   "outputs": [
    {
     "data": {
      "image/png": "[encoded data removed]",
      "text/plain": [
       "<Figure size 288x216 with 1 Axes>"
      ]
     },
     "metadata": {
      "needs_background": "light"
     },
     "output_type": "display_data"
    }
   ],
   "source": [
    "graph = myAlgo.drawProbabilityConvergence()\n",
    "graph.setLogScale(ot.GraphImplementation.LOGX)\n",
    "view = otv.View(graph, figure_kw={\"figsize\": (4.0, 3.0)})"
   ]
  },
  {
   "cell_type": "markdown",
   "metadata": {},
   "source": [
    "## Exercice 1 : sensibilité aux paramètres\n",
    " \n",
    " L'objectif de cet exercice est d'utiliser la classe `ProbabilitySimulationAlgorithm`, de comprendre ses paramètres et interpréter ses résutlats.\n",
    " - Créer une fonction `calculePF` qui prend en argument le seuil `threshold` et le coefficient de variation `coeffofvar`. Dans le corps de la fonction, utiliser la classe `ProbabilitySimulationAlgorithm` et calculer, puis afficher :\n",
    "   - la probabilité de dépassement de seuil $p_f$, \n",
    "   - l'intervalle de confiance à 95% et \n",
    "   - le nombre d'appels à la fonction $g$.\n",
    "   \n",
    "Pour vous aider, vous pouvez vous inspirer du squelette suivant, dans lequel vous remplacerez les sections *TODO* par du code Python valide.\n",
    "\n",
    "```\n",
    "def calculePF(threshold, coeffofvar):\n",
    "    print(\"Seuil = %f, C.V. = %f\" % (threshold, coeffofvar))\n",
    "    myEvent = ot.ThresholdEvent(TODO)\n",
    "    experiment = ot.MonteCarloExperiment()\n",
    "    myAlgo = ot.ProbabilitySimulationAlgorithm(TODO)\n",
    "    myAlgo.setMaximumOuterSampling(TODO)\n",
    "    myAlgo.setBlockSize(TODO)\n",
    "    myAlgo.setMaximumCoefficientOfVariation(TODO)\n",
    "    myAlgo.run()\n",
    "    result = TODO\n",
    "    pf = TODO\n",
    "    alpha = TODO\n",
    "    pflen = result.TODO\n",
    "    outersampling = result.TODO\n",
    "    funccalls = TODO\n",
    "    print(\n",
    "        \"    Outersampling = %d, Nb. function G calls = %d\" % (outersampling, funccalls)\n",
    "    )\n",
    "    print(\"    Pf = %f\" % (pf))\n",
    "    print(\n",
    "        \"    %.2f%% confidence interval = [%f,%f]\"\n",
    "        % ((1 - alpha) * 100, pf - pflen / 2, pf + pflen / 2)\n",
    "    )\n",
    "    return None\n",
    "```\n",
    "\n",
    " - Pour les valeurs du seuil égales à 10, 20 et 30 cm et CV=0.01, utiliser la fonction fonction `calculePF`. Pour interpréter vos résultats, présentez-les dans une table. Qu'observez-vous ? Expliquer le sens physique du résultat. \n",
    " - On considère un seuil égal à s=30 cm. Configurer le coefficient de variation à 0.1, 0.05 et 0.01 et calculer le nombre d'appel à la fonction $g$. Pour interpréter vos résultats, présentez-les dans une table. Qu'observez-vous ? Expliquer pourquoi ce résultat est en lien avec le fonctionnement de l'algorithme."
   ]
  },
  {
   "cell_type": "markdown",
   "metadata": {},
   "source": [
    "## Solution de l'exercice 1 : sensibilité aux paramètres"
   ]
  },
  {
   "cell_type": "code",
   "execution_count": 19,
   "metadata": {},
   "outputs": [],
   "source": [
    "def calculePF(threshold, coeffofvar):\n",
    "    print(\"Seuil = %f, C.V. = %f\" % (threshold, coeffofvar))\n",
    "    myEvent = ot.ThresholdEvent(Y, ot.Greater(), threshold)\n",
    "    experiment = ot.MonteCarloExperiment()\n",
    "    myAlgo = ot.ProbabilitySimulationAlgorithm(myEvent, experiment)\n",
    "    myAlgo.setMaximumOuterSampling(10000)\n",
    "    blocksize = 1000\n",
    "    myAlgo.setBlockSize(blocksize)\n",
    "    myAlgo.setMaximumCoefficientOfVariation(coeffofvar)\n",
    "    myAlgo.run()\n",
    "    result = myAlgo.getResult()\n",
    "    pf = result.getProbabilityEstimate()\n",
    "    alpha = 0.05\n",
    "    pflen = result.getConfidenceLength(1.0 - alpha)\n",
    "    outersampling = result.getOuterSampling()\n",
    "    funccalls = blocksize * outersampling\n",
    "    print(\n",
    "        \"    Outersampling = %d, Nb. function G calls = %d\" % (outersampling, funccalls)\n",
    "    )\n",
    "    print(\"    Pf = %f\" % (pf))\n",
    "    print(\n",
    "        \"    %.2f%% confidence interval = [%f,%f]\"\n",
    "        % ((1 - alpha) * 100, pf - pflen / 2.0, pf + pflen / 2.0)\n",
    "    )\n",
    "    return None"
   ]
  },
  {
   "cell_type": "code",
   "execution_count": 20,
   "metadata": {},
   "outputs": [
    {
     "name": "stdout",
     "output_type": "stream",
     "text": [
      "Seuil = 10.000000, C.V. = 0.010000\n",
      "    Outersampling = 4, Nb. function G calls = 4000\n",
      "    Pf = 0.715750\n",
      "    95.00% confidence interval = [0.701765,0.729735]\n",
      "Seuil = 20.000000, C.V. = 0.010000\n",
      "    Outersampling = 161, Nb. function G calls = 161000\n",
      "    Pf = 0.058826\n",
      "    95.00% confidence interval = [0.057676,0.059976]\n",
      "Seuil = 30.000000, C.V. = 0.010000\n",
      "    Outersampling = 1770, Nb. function G calls = 1770000\n",
      "    Pf = 0.005624\n",
      "    95.00% confidence interval = [0.005514,0.005735]\n"
     ]
    }
   ],
   "source": [
    "calculePF(10, 0.01)\n",
    "calculePF(20, 0.01)\n",
    "calculePF(30, 0.01)"
   ]
  },
  {
   "cell_type": "markdown",
   "metadata": {},
   "source": [
    "La table suivante présente les résultats que l'on obtient avec CV=0.01 et différentes valeurs du seuil $s$. \n",
    "\n",
    "| s (cm) | CV | $p_f$ | I.C. à 95% | Nb. appels à g |\n",
    "|---|---|---|---|---|\n",
    "| 10 (cm) | 0.01 | 0.717800 | [0.7053,0.7303] | 5000 |\n",
    "| 20 (cm) | 0.01 | 0.058210 | [0.05707,0.05935] | 162000 |\n",
    "| 30 (cm) | 0.01 | 0.005519 | [0.005411,0.005628] | 1804000 |\n",
    "\n",
    "On observe que, lorsque le seuil augmente, \n",
    "- la probabilité diminue, \n",
    "- le nombre d'appels à la fonction $g$ augmente.\n",
    "\n",
    "Le fait que la probabilité diminue lorsque le seuil augmente est cohérent avec la queue droite de la distribution de la déviation $Y$, avec de rares grandes déviations. \n",
    "\n",
    "Le fait que le nombre d'appels à $g$ augmente lorsque le seuil augmente est une conséquence de l'algorithme utilisé par `ProbabilitySimulationAlgorithm`, dans lequel nous avons fixé le coefficient de variation à 0.01. Ainsi, puisque la probabilité est de plus en plus proche de zéro, l'algorithme est contraint d'augmenter la taille de l'échantillon pour atteindre le coefficient de variation imposé."
   ]
  },
  {
   "cell_type": "code",
   "execution_count": 21,
   "metadata": {},
   "outputs": [
    {
     "name": "stdout",
     "output_type": "stream",
     "text": [
      "Seuil = 30.000000, C.V. = 0.100000\n",
      "    Outersampling = 19, Nb. function G calls = 19000\n",
      "    Pf = 0.005263\n",
      "    95.00% confidence interval = [0.004234,0.006293]\n",
      "Seuil = 30.000000, C.V. = 0.050000\n",
      "    Outersampling = 71, Nb. function G calls = 71000\n",
      "    Pf = 0.005648\n",
      "    95.00% confidence interval = [0.005096,0.006199]\n",
      "Seuil = 30.000000, C.V. = 0.010000\n",
      "    Outersampling = 1767, Nb. function G calls = 1767000\n",
      "    Pf = 0.005637\n",
      "    95.00% confidence interval = [0.005527,0.005748]\n"
     ]
    }
   ],
   "source": [
    "calculePF(30, 0.1)\n",
    "calculePF(30, 0.05)\n",
    "calculePF(30, 0.01)"
   ]
  },
  {
   "cell_type": "markdown",
   "metadata": {},
   "source": [
    "La table suivante présente les résultats que l'on obtient avec s=30 et différentes valeurs du coefficient de variation. \n",
    "\n",
    "| s (cm) | CV | $p_f$ | I.C. à 95% | Nb. appels à g |\n",
    "|---|---|---|---|---|\n",
    "| 30 (cm) | 0.1 | 0.005632 | [0.004567,0.006696] | 19000 |\n",
    "| 30 (cm) | 0.05 | 0.005556 | [0.005012,0.006099] | 72000 |\n",
    "| 30 (cm) | 0.01 | 0.005657 | [0.005546,0.005768] | 1760000 |\n",
    "\n",
    "On observe que, lorsque le coefficient de variation diminue, le nombre d'appels à $g$ augmente considérablement. On observe également que la largeur de l'intervalle de confiance diminue. \n",
    "\n",
    "Cela est cohérent avec le résultat que nous avons présenté et qui montre que le nombre d'appels à $g$ dépend de l'inverse du carré de CV. C'est la raison pour laquelle, même si $CV=0.01$ semble un minimum acceptable, on se contente souvent de $CV=0.1$."
   ]
  },
  {
   "cell_type": "markdown",
   "metadata": {},
   "source": [
    "## Exercice 2 : probabilité en fonction du seuil\n",
    "\n",
    "L'objectif de cet exercice est d'observer l'évolution de la probabilité lorsque le seuil augmente. Pour cela, on utilise un échantillon de taille fixé. \n",
    "- Créer la variable `Ysample` contenant un échantillon de $Y$ de taille 100000. \n",
    "- Créer la variable `thresholdarray` contenant 10 valeurs de $s$ entre 20 et 50. \n",
    "- Pour chaque valeur de seuil $s$, calculer \n",
    "  - la probabilité de dépassement de seuil,\n",
    "  - la borne inférieure de l'intervalle de confiance,\n",
    "  - la borne supérieure de l'intervalle de confiance.\n",
    "\n",
    "Pour vous aider, vous pouvez vous inspirer du squelette suivante, dans lequel vous remplacerez les sections *TODO* par du code Python valide.\n",
    "\n",
    "```\n",
    "alpha = 0.05\n",
    "nbthresholds = 10\n",
    "thresholdarray = ot.Sample([[x] for x in np.linspace(20.0, 50.0, nbthresholds)])\n",
    "pfarray = ot.Sample(nbthresholds, 1)\n",
    "lbarray = ot.Sample(nbthresholds, 1)\n",
    "ubarray = ot.Sample(nbthresholds, 1)\n",
    "for i in range(nbthresholds):\n",
    "    s = thresholdarray[i, 0]\n",
    "    pf = TODO\n",
    "    pfarray[i, 0] = pf\n",
    "    sigmapf = TODO\n",
    "    pf_dist = TODO\n",
    "    bounds = pf_dist.computeBilateralConfidenceInterval(1 - alpha)\n",
    "    lbarray[i, 0] = bounds.getLowerBound()[0]\n",
    "    ubarray[i, 0] = bounds.getUpperBound()[0]\n",
    "    print(\"s=%f, pf=%f in [%f,%f]\" % (s, pf, lbarray[i, 0], ubarray[i, 0]))\n",
    "```\n",
    "\n",
    "- Créer un graphique réprésentant en abscisse le seuil $s$, et en ordonnée la probabilité de dépassement de seuil et ses bornes inférieures et supérieures.\n",
    "  - Utiliser la méthode `setLogScale` pour dessiner l'axe des ordonnées en échelle logarithmique.\n",
    "  - Qu'observez-vous ? Expliquer-le sur le plan physique et sur le plan probabiliste.\n",
    "- On s'intéresse au coefficient de variation :\n",
    "$$\n",
    "CV = \\frac{\\sigma_{p_f}}{p_f}\n",
    "$$\n",
    "si $p_f>0$ et son approximation :\n",
    "$$\n",
    "\\widetilde{CV} = \\frac{\\tilde{\\sigma}_{p_f}}{\\tilde{p_f}}\n",
    "$$\n",
    "si $\\tilde{p_f}>0$. \n",
    "Le coefficient de variation représente la précision relative d'estimation de la probabilité $p_f$. \n",
    "  - Pour chaque valeur de seuil $s$, calculer le coefficient de variation approché. Qu'observez-vous ? Pourquoi ?\n",
    "\n",
    "Pour vous aider, vous pouvez vous inspirer du squelette suivante, dans lequel vous remplacerez les sections *TODO* par du code Python valide.\n",
    "\n",
    "```\n",
    "for i in range(nbthresholds):\n",
    "    s = thresholdarray[i,0]\n",
    "    pf = TODO\n",
    "    pfarray[i,0] = pf\n",
    "    sigmapf = TODO\n",
    "    cv = TODO\n",
    "    print(\"s=%f, pf=%f, C.V.=%f\" % (s,pf,cv))\n",
    "```"
   ]
  },
  {
   "cell_type": "markdown",
   "metadata": {},
   "source": [
    "## Solution de l'exercice 2 : probabilité en fonction du seuil"
   ]
  },
  {
   "cell_type": "code",
   "execution_count": 22,
   "metadata": {},
   "outputs": [
    {
     "name": "stdout",
     "output_type": "stream",
     "text": [
      "s=20.000000, pf=0.059330 in [0.057866,0.060794]\n",
      "s=23.333333, pf=0.025170 in [0.024199,0.026141]\n",
      "s=26.666667, pf=0.011970 in [0.011296,0.012644]\n",
      "s=30.000000, pf=0.005730 in [0.005262,0.006198]\n",
      "s=33.333333, pf=0.002880 in [0.002548,0.003212]\n",
      "s=36.666667, pf=0.001420 in [0.001187,0.001653]\n",
      "s=40.000000, pf=0.000720 in [0.000554,0.000886]\n",
      "s=43.333333, pf=0.000420 in [0.000293,0.000547]\n",
      "s=46.666667, pf=0.000260 in [0.000160,0.000360]\n",
      "s=50.000000, pf=0.000140 in [0.000067,0.000213]\n"
     ]
    }
   ],
   "source": [
    "n = 100000\n",
    "Ysample = Y.getSample(n)\n",
    "\n",
    "alpha = 0.05\n",
    "nbthresholds = 10\n",
    "thresholdarray = ot.Sample([[x] for x in np.linspace(20.0, 50.0, nbthresholds)])\n",
    "pfarray = ot.Sample(nbthresholds, 1)\n",
    "lbarray = ot.Sample(nbthresholds, 1)\n",
    "ubarray = ot.Sample(nbthresholds, 1)\n",
    "for i in range(nbthresholds):\n",
    "    s = thresholdarray[i, 0]\n",
    "    pf = Ysample.computeEmpiricalCDF([s], True)\n",
    "    pfarray[i, 0] = pf\n",
    "    # Le code suivant est équivalent à l'appel à getConfidenceLength()\n",
    "    sigmapf = np.sqrt(pf * (1.0 - pf) / n)\n",
    "    pf_dist = ot.Normal(pf, sigmapf)\n",
    "    bounds = pf_dist.computeBilateralConfidenceInterval(1.0 - alpha)\n",
    "    lbarray[i, 0] = bounds.getLowerBound()[0]\n",
    "    ubarray[i, 0] = bounds.getUpperBound()[0]\n",
    "    print(\"s=%f, pf=%f in [%f,%f]\" % (s, pf, lbarray[i, 0], ubarray[i, 0]))"
   ]
  },
  {
   "cell_type": "code",
   "execution_count": 23,
   "metadata": {},
   "outputs": [
    {
     "data": {
      "image/png": "[encoded data removed]",
      "text/plain": [
       "class=Graph name=Probability of failure n=100000 implementation=class=GraphImplementation name=Probability of failure n=100000 title=Probability of failure n=100000 xTitle=Threshold yTitle=Pf axes=ON grid=ON legendposition=topright legendFontSize=1 drawables=[class=Drawable name=Pf implementation=class=Curve name=Pf derived from class=DrawableImplementation name=Pf legend=Pf data=class=Sample name=Unnamed implementation=class=SampleImplementation name=Unnamed size=10 dimension=2 data=[[20,0.05933],[23.3333,0.02517],[26.6667,0.01197],[30,0.00573],[33.3333,0.00288],[36.6667,0.00142],[40,0.00072],[43.3333,0.00042],[46.6667,0.00026],[50,0.00014]] color=blue fillStyle=solid lineStyle=solid pointStyle=none lineWidth=1,class=Drawable name=95% Lower bound implementation=class=Curve name=95% Lower bound derived from class=DrawableImplementation name=95% Lower bound legend=95% Lower bound data=class=Sample name=Unnamed implementation=class=SampleImplementation name=Unnamed size=10 dimension=2 data=[[20,0.0578658],[23.3333,0.0241991],[26.6667,0.011296],[30,0.00526218],[33.3333,0.00254786],[36.6667,0.00118661],[40,0.000553751],[43.3333,0.000293006],[46.6667,0.000160074],[50,6.667e-05]] color=green fillStyle=solid lineStyle=solid pointStyle=none lineWidth=1,class=Drawable name=95% Upper bound implementation=class=Curve name=95% Upper bound derived from class=DrawableImplementation name=95% Upper bound legend=95% Upper bound data=class=Sample name=Unnamed implementation=class=SampleImplementation name=Unnamed size=10 dimension=2 data=[[20,0.0607942],[23.3333,0.0261409],[26.6667,0.012644],[30,0.00619782],[33.3333,0.00321214],[36.6667,0.00165339],[40,0.000886249],[43.3333,0.000546994],[46.6667,0.000359926],[50,0.00021333]] color=green fillStyle=solid lineStyle=solid pointStyle=none lineWidth=1]"
      ]
     },
     "execution_count": 23,
     "metadata": {},
     "output_type": "execute_result"
    }
   ],
   "source": [
    "myGraph = ot.Graph(\n",
    "    \"Probability of failure n=%d\" % (n), \"Threshold\", \"Pf\", True, \"topright\"\n",
    ")\n",
    "myPfCurve = ot.Curve(thresholdarray, pfarray, \"Pf\")\n",
    "myLBCurve = ot.Curve(thresholdarray, lbarray, \"95% Lower bound\")\n",
    "myLBCurve.setColor(\"green\")\n",
    "myUBCurve = ot.Curve(thresholdarray, ubarray, \"95% Upper bound\")\n",
    "myUBCurve.setColor(\"green\")\n",
    "myGraph.add(myPfCurve)\n",
    "myGraph.add(myLBCurve)\n",
    "myGraph.add(myUBCurve)\n",
    "myGraph.setLogScale(ot.GraphImplementation.LOGY)\n",
    "myGraph"
   ]
  },
  {
   "cell_type": "markdown",
   "metadata": {},
   "source": [
    "On observe que, lorsque le seuil $s$ augmente, alors la probabilité $p_f$ diminue. Cela montre que l'évènement recherché est de plus en plus rare. C'est physiquement cohérent, puisque les grandes déviations verticales sont moins fréquentes. C'est cohérent avec la distribution des déviations verticales, qui sont moins fréquentes lorsque la déviation augmente. "
   ]
  },
  {
   "cell_type": "code",
   "execution_count": 24,
   "metadata": {},
   "outputs": [
    {
     "name": "stdout",
     "output_type": "stream",
     "text": [
      "s=20.000000, pf=0.059330, C.V.=0.012592\n",
      "s=23.333333, pf=0.025170, C.V.=0.019680\n",
      "s=26.666667, pf=0.011970, C.V.=0.028730\n",
      "s=30.000000, pf=0.005730, C.V.=0.041656\n",
      "s=33.333333, pf=0.002880, C.V.=0.058841\n",
      "s=36.666667, pf=0.001420, C.V.=0.083859\n",
      "s=40.000000, pf=0.000720, C.V.=0.117809\n",
      "s=43.333333, pf=0.000420, C.V.=0.154271\n",
      "s=46.666667, pf=0.000260, C.V.=0.196091\n",
      "s=50.000000, pf=0.000140, C.V.=0.267243\n"
     ]
    }
   ],
   "source": [
    "for i in range(nbthresholds):\n",
    "    s = thresholdarray[i, 0]\n",
    "    pf = Ysample.computeEmpiricalCDF([s], True)\n",
    "    pfarray[i, 0] = pf\n",
    "    sigmapf = np.sqrt(pf * (1.0 - pf) / n)\n",
    "    cv = sigmapf / pf\n",
    "    print(\"s=%f, pf=%f, C.V.=%f\" % (s, pf, cv))"
   ]
  },
  {
   "cell_type": "markdown",
   "metadata": {},
   "source": [
    "On observe que le coefficient de variation augmente lorsque la probabilité se rapproche de zéro. Cela est cohérent avec le calcul théorique qui indique $\\operatorname{CV} \\approx \\sqrt{\\frac{1}{p_f n}}$ quand $p_f\\approx 0$."
   ]
  }
 ],
 "metadata": {
  "kernelspec": {
   "display_name": "Python 3 (ipykernel)",
   "language": "python",
   "name": "python3"
  },
  "language_info": {
   "codemirror_mode": {
    "name": "ipython",
    "version": 3
   },
   "file_extension": ".py",
   "mimetype": "text/x-python",
   "name": "python",
   "nbconvert_exporter": "python",
   "pygments_lexer": "ipython3",
   "version": "3.10.0"
  }
 },
 "nbformat": 4,
 "nbformat_minor": 2
}
