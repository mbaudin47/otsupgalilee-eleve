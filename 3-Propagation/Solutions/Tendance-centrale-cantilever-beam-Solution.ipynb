{
 "cells": [
  {
   "cell_type": "markdown",
   "metadata": {},
   "source": [
    "# Estimer la tendance centrale sur le cas de la poutre en flexion\n"
   ]
  },
  {
   "cell_type": "markdown",
   "metadata": {},
   "source": [
    "## Déviation  verticale d'une poutre encastrée\n",
    "\n",
    "We consider a cantilever beam defined by its Young’s modulus $E$, its length $L$ and its section modulus $I$. One end is built in a wall and we apply a concentrated bending load $F$ at the other end of the beam, resulting in a vertical deviation $Y$.\n",
    "\n",
    "<img src=\"poutre.png\" width=\"200\">\n",
    "\n",
    "__Inputs__:  $\\left\\{ E, F, L, I \\right\\} $\n",
    "* $E$ : Young modulus (Pa)\n",
    "* $F$ : Loading (N),\n",
    "* $L$ : Length of beam (cm),\n",
    "* $I$ : Moment of inertia (cm^4).\n",
    "\n",
    "|Variable|  Distribution|\n",
    "| ------------- |-------------|\n",
    "|E|  Beta(r = 0.9, t = 3.5, a = $2.5\\times 10^7$, $b = 5\\times 10^7$) |\n",
    "|F| Lognormal($\\mu_F=3 \\times 10^4$, $\\sigma_F=9\\times 10^3$, shift=$15\\times 10^3$)|\n",
    "|L|Uniform(min=250.0, max= 260.0)|\n",
    "|I| Beta(r = 2.5, t = 4.0, a = 310, b = 450)|\n",
    "\n",
    "In the previous table $\\mu_F=E(F)$ and $\\sigma_F=\\sqrt{V(F)}$ are the mean and the standard deviation of $F$.\n",
    "\n",
    "The input variables are supposed to be independent.\n",
    "\n",
    "__Output__:\n",
    "\n",
    "The vertical displacement at free end of the cantilever beam is:\n",
    "$$\n",
    "Y  = \\dfrac{F\\, L^3}{3 \\, E \\, I}\n",
    "$$"
   ]
  },
  {
   "cell_type": "markdown",
   "metadata": {},
   "source": [
    "## Définition du modèle"
   ]
  },
  {
   "cell_type": "code",
   "execution_count": 1,
   "metadata": {},
   "outputs": [],
   "source": [
    "import openturns as ot\n",
    "import numpy as np"
   ]
  },
  {
   "cell_type": "markdown",
   "metadata": {},
   "source": [
    "On commence par définir les lois marginales."
   ]
  },
  {
   "cell_type": "code",
   "execution_count": 2,
   "metadata": {},
   "outputs": [],
   "source": [
    "dist_E = ot.Beta(0.9, 3.1, 2.8e7, 4.8e7)\n",
    "dist_E.setDescription([\"E\"])\n",
    "F_para = ot.LogNormalMuSigma(3.0e4, 9.0e3, 15.0e3) # in N\n",
    "dist_F = ot.ParametrizedDistribution(F_para)\n",
    "dist_F.setDescription([\"F\"])\n",
    "dist_L = ot.Uniform(250., 260.) # in cm\n",
    "dist_L.setDescription([\"L\"])\n",
    "dist_I = ot.Beta(2.5, 4, 310., 450.) # in cm^4\n",
    "dist_I.setDescription([\"I\"])"
   ]
  },
  {
   "cell_type": "markdown",
   "metadata": {},
   "source": [
    "Les variables sont indépendantes, de telle sorte que l'on a pas besoin de spécifier une copule."
   ]
  },
  {
   "cell_type": "code",
   "execution_count": 3,
   "metadata": {},
   "outputs": [],
   "source": [
    "distcoll = [dist_E, dist_F, dist_L, dist_I]\n",
    "X = ot.ComposedDistribution(distcoll)"
   ]
  },
  {
   "cell_type": "markdown",
   "metadata": {},
   "source": [
    "Puis on définit le modèle."
   ]
  },
  {
   "cell_type": "code",
   "execution_count": 4,
   "metadata": {},
   "outputs": [],
   "source": [
    "g = ot.SymbolicFunction( [\"E\",\"F\",\"L\",\"I\"],[\"F* L^3 /  (3 * E * I)\"])\n",
    "g.setOutputDescription([\"Y (cm)\"])"
   ]
  },
  {
   "cell_type": "markdown",
   "metadata": {},
   "source": [
    "Pour pouvoir exploiter au mieux les simulations, nous équipons la fonction d'un méchanisme d'historique."
   ]
  },
  {
   "cell_type": "code",
   "execution_count": 5,
   "metadata": {},
   "outputs": [],
   "source": [
    "g = ot.MemoizeFunction(g)"
   ]
  },
  {
   "cell_type": "markdown",
   "metadata": {},
   "source": [
    "Enfin, nous définissons le vecteur aléatoire de sortie."
   ]
  },
  {
   "cell_type": "code",
   "execution_count": 6,
   "metadata": {},
   "outputs": [],
   "source": [
    "XRV = ot.RandomVector(X)\n",
    "Y = ot.RandomVector(g, XRV)\n",
    "Y.setDescription(['Y (cm)'])"
   ]
  },
  {
   "cell_type": "markdown",
   "metadata": {},
   "source": [
    "## Par développement de Taylor"
   ]
  },
  {
   "cell_type": "markdown",
   "metadata": {},
   "source": [
    "La classe `TaylorExpansionMoments` permet de réaliser le développement de Taylor. "
   ]
  },
  {
   "cell_type": "code",
   "execution_count": 7,
   "metadata": {},
   "outputs": [],
   "source": [
    "taylor = ot.TaylorExpansionMoments(Y)"
   ]
  },
  {
   "cell_type": "markdown",
   "metadata": {},
   "source": [
    "La moyenne $E(Y)$ peut être estimée à l'ordre 1 avec `getMeanFirstOrder` ou bien à l'ordre 2 (c'est à dire en tenant compte des dérivées secondes) avec `getMeanSecondOrder`."
   ]
  },
  {
   "cell_type": "code",
   "execution_count": 8,
   "metadata": {},
   "outputs": [
    {
     "data": {
      "text/plain": [
       "12.339109534783237"
      ]
     },
     "execution_count": 8,
     "metadata": {},
     "output_type": "execute_result"
    }
   ],
   "source": [
    "taylor.getMeanFirstOrder()[0]"
   ]
  },
  {
   "cell_type": "code",
   "execution_count": 9,
   "metadata": {},
   "outputs": [
    {
     "data": {
      "text/plain": [
       "12.63262216382261"
      ]
     },
     "execution_count": 9,
     "metadata": {},
     "output_type": "execute_result"
    }
   ],
   "source": [
    "taylor.getMeanSecondOrder()[0]"
   ]
  },
  {
   "cell_type": "markdown",
   "metadata": {},
   "source": [
    "La variance peut être calculée à l'ordre 1 uniquement."
   ]
  },
  {
   "cell_type": "code",
   "execution_count": 10,
   "metadata": {},
   "outputs": [
    {
     "data": {
      "text/plain": [
       "17.44155282353067"
      ]
     },
     "execution_count": 10,
     "metadata": {},
     "output_type": "execute_result"
    }
   ],
   "source": [
    "taylor.getCovariance()[0,0]"
   ]
  },
  {
   "cell_type": "markdown",
   "metadata": {},
   "source": [
    "L'écart-type de la sortie peut être calculé en évaluant la racine carrée."
   ]
  },
  {
   "cell_type": "code",
   "execution_count": 11,
   "metadata": {},
   "outputs": [
    {
     "data": {
      "text/plain": [
       "4.176308516325233"
      ]
     },
     "execution_count": 11,
     "metadata": {},
     "output_type": "execute_result"
    }
   ],
   "source": [
    "np.sqrt(taylor.getCovariance()[0,0])"
   ]
  },
  {
   "cell_type": "markdown",
   "metadata": {},
   "source": [
    "Les facteurs d'importance $\\eta_i$ peuvent être obtenus avec la méthode `getImportanceFactors` ou dessinés avec la méthode `drawImportanceFactors`."
   ]
  },
  {
   "cell_type": "code",
   "execution_count": 12,
   "metadata": {},
   "outputs": [
    {
     "data": {
      "text/html": [
       "<p>[E : 0.153533, F : 0.785641, L : 0.0100685, I : 0.050758]</p>"
      ],
      "text/plain": [
       "class=PointWithDescription name=Unnamed dimension=4 description=[E,F,L,I] values=[0.153533,0.785641,0.0100685,0.050758]"
      ]
     },
     "execution_count": 12,
     "metadata": {},
     "output_type": "execute_result"
    }
   ],
   "source": [
    "importancefactors = taylor.getImportanceFactors()\n",
    "importancefactors"
   ]
  },
  {
   "cell_type": "code",
   "execution_count": 13,
   "metadata": {},
   "outputs": [
    {
     "data": {
      "image/png": "[encoded data removed]",
      "text/plain": [
       "class=Graph name=Unnamed implementation=class=GraphImplementation name=Unnamed title=Importance Factors from Taylor expansions - Y (cm) xTitle= yTitle= axes=OFF grid=OFF legendposition= legendFontSize=1 drawables=[class=Drawable name=Unnamed implementation=class=Pie name=Unnamed labels=[E : 15.4%,F : 78.6%,L : 1.0%,I : 5.1%] radius=1 center=class=Point name=Unnamed dimension=2 values=[0,0] color palette=[#ff0000,#ccff00,#00ff66,#0066ff] derived from class=DrawableImplementation name=Unnamed legend= data=class=Sample name=Unnamed implementation=class=SampleImplementation name=Unnamed size=4 dimension=1 data=[[0.153533],[0.785641],[0.0100685],[0.050758]] color=blue fillStyle=solid lineStyle=solid pointStyle=plus lineWidth=1]"
      ]
     },
     "execution_count": 13,
     "metadata": {},
     "output_type": "execute_result"
    }
   ],
   "source": [
    "taylor.drawImportanceFactors()"
   ]
  },
  {
   "cell_type": "markdown",
   "metadata": {},
   "source": [
    "On observe que la variabilité de la sortie $Y$ est principalement sensible à la variabilité de $F$ et, de manière moins importante par la variabilité de $E$. La variable $L$ pourrait être remplacée par une constante sans changer la variance de la sortie."
   ]
  },
  {
   "cell_type": "markdown",
   "metadata": {},
   "source": [
    "Une mise en garde s'impose au sujet des facteurs d'importance obtenus par la méthode `getImportanceFactors` : la dépendance éventuelle dans le vecteur aléatoire en entrée est ignorée. "
   ]
  },
  {
   "cell_type": "markdown",
   "metadata": {},
   "source": [
    "## Par Monte-Carlo simple avec un budget fixé"
   ]
  },
  {
   "cell_type": "markdown",
   "metadata": {},
   "source": [
    "La manière la plus simple de faire une étude consiste à fixer le nombre de simulations à l'avance. En d'autres termes, on fixe $n$ et on génère un échantillon de la variable de sortie $Y$ de taille $n$. C'est la méthode \"traditionnelle\"."
   ]
  },
  {
   "cell_type": "code",
   "execution_count": 14,
   "metadata": {},
   "outputs": [],
   "source": [
    "n = 10000"
   ]
  },
  {
   "cell_type": "code",
   "execution_count": 15,
   "metadata": {},
   "outputs": [],
   "source": [
    "Ysample = Y.getSample(n)"
   ]
  },
  {
   "cell_type": "markdown",
   "metadata": {},
   "source": [
    "La manière la plus simple d'observer la variabilité de la sortie consiste à tracer l'histogramme empirique."
   ]
  },
  {
   "cell_type": "code",
   "execution_count": 16,
   "metadata": {},
   "outputs": [
    {
     "data": {
      "image/png": "[encoded data removed]",
      "text/plain": [
       "class=Graph name=sample histogram implementation=class=GraphImplementation name=sample histogram title=Monte-Carlo, n=10000 xTitle=Y (cm) yTitle=frequency axes=ON grid=ON legendposition=topright legendFontSize=1 drawables=[class=Drawable name=Unnamed implementation=class=Curve name=Unnamed derived from class=DrawableImplementation name=Unnamed legend= data=class=Sample name=Unnamed implementation=class=SampleImplementation name=Unnamed size=376 dimension=2 data=[[5.15843,0],[5.43996,0],[5.43996,0],[5.43996,0.00639377],[6.003,0.00639377],[6.003,0],[6.003,0],[6.003,0.0138532],[6.56605,0.0138532],[6.56605,0],[6.56605,0],[6.56605,0.0293048],[7.1291,0.0293048],[7.1291,0],[7.1291,0],[7.1291,0.0470652],[7.69215,0.0470652],[7.69215,0],[7.69215,0],[7.69215,0.0756596],[8.2552,0.0756596],[8.2552,0],[8.2552,0],[8.2552,0.0875591],[8.81825,0.0875591],[8.81825,0],[8.81825,0],[8.81825,0.117397],[9.38129,0.117397],[9.38129,0],[9.38129,0],[9.38129,0.124678],[9.94434,0.124678],[9.94434,0],[9.94434,0],[9.94434,0.12237],[10.5074,0.12237],[10.5074,0],[10.5074,0],[10.5074,0.129829],[11.0704,0.129829],[11.0704,0],[11.0704,0],[11.0704,0.126632],[11.6335,0.126632],[11.6335,0],[11.6335,0],[11.6335,0.106563],[12.1965,0.106563],[12.1965,0],[12.1965,0],[12.1965,0.0994586],[12.7596,0.0994586],[12.7596,0],[12.7596,0],[12.7596,0.0861383],[13.3226,0.0861383],[13.3226,0],[13.3226,0],[13.3226,0.0850726],[13.8857,0.0850726],[13.8857,0],[13.8857,0],[13.8857,0.0724627],[14.4487,0.0724627],[14.4487,0],[14.4487,0],[14.4487,0.0639377],[15.0118,0.0639377],[15.0118,0],[15.0118,0],[15.0118,0.0507949],[15.5748,0.0507949],[15.5748,0],[15.5748,0],[15.5748,0.0420923],[16.1379,0.0420923],[16.1379,0],[16.1379,0],[16.1379,0.0380074],[16.7009,0.0380074],[16.7009,0],[16.7009,0],[16.7009,0.0348105],[17.264,0.0348105],[17.264,0],[17.264,0],[17.264,0.0310808],[17.827,0.0310808],[17.827,0],[17.827,0],[17.827,0.024687],[18.3901,0.024687],[18.3901,0],[18.3901,0],[18.3901,0.0222006],[18.9531,0.0222006],[18.9531,0],[18.9531,0],[18.9531,0.0181157],[19.5162,0.0181157],[19.5162,0],[19.5162,0],[19.5162,0.0168724],[20.0792,0.0168724],[20.0792,0],[20.0792,0],[20.0792,0.0103011],[20.6423,0.0103011],[20.6423,0],[20.6423,0],[20.6423,0.0117219],[21.2053,0.0117219],[21.2053,0],[21.2053,0],[21.2053,0.0115443],[21.7684,0.0115443],[21.7684,0],[21.7684,0],[21.7684,0.00834742],[22.3314,0.00834742],[22.3314,0],[22.3314,0],[22.3314,0.00781461],[22.8945,0.00781461],[22.8945,0],[22.8945,0],[22.8945,0.00550574],[23.4575,0.00550574],[23.4575,0],[23.4575,0],[23.4575,0.00710419],[24.0205,0.00710419],[24.0205,0],[24.0205,0],[24.0205,0.00408491],[24.5836,0.00408491],[24.5836,0],[24.5836,0],[24.5836,0.00355209],[25.1466,0.00355209],[25.1466,0],[25.1466,0],[25.1466,0.00301928],[25.7097,0.00301928],[25.7097,0],[25.7097,0],[25.7097,0.00408491],[26.2727,0.00408491],[26.2727,0],[26.2727,0],[26.2727,0.00301928],[26.8358,0.00301928],[26.8358,0],[26.8358,0],[26.8358,0.00213126],[27.3988,0.00213126],[27.3988,0],[27.3988,0],[27.3988,0.00355209],[27.9619,0.00355209],[27.9619,0],[27.9619,0],[27.9619,0.00319688],[28.5249,0.00319688],[28.5249,0],[28.5249,0],[28.5249,0.00142084],[29.088,0.00142084],[29.088,0],[29.088,0],[29.088,0.00177605],[29.651,0.00177605],[29.651,0],[29.651,0],[29.651,0.00142084],[30.2141,0.00142084],[30.2141,0],[30.2141,0],[30.2141,0.00159844],[30.7771,0.00159844],[30.7771,0],[30.7771,0],[30.7771,0.000888023],[31.3402,0.000888023],[31.3402,0],[31.3402,0],[31.3402,0.000888023],[31.9032,0.000888023],[31.9032,0],[31.9032,0],[31.9032,0.000177605],[32.4663,0.000177605],[32.4663,0],[32.4663,0],[32.4663,0.000888023],[33.0293,0.000888023],[33.0293,0],[33.0293,0],[33.0293,0.000177605],[33.5924,0.000177605],[33.5924,0],[33.5924,0],[33.5924,0.000355209],[34.1554,0.000355209],[34.1554,0],[34.1554,0],[34.1554,0.00106563],[34.7185,0.00106563],[34.7185,0],[34.7185,0],[34.7185,0.000177605],[35.2815,0.000177605],[35.2815,0],[35.2815,0],[35.2815,0.000532814],[35.8446,0.000532814],[35.8446,0],[35.8446,0],[35.8446,0.000532814],[36.4076,0.000532814],[36.4076,0],[36.4076,0],[36.4076,0.000355209],[36.9707,0.000355209],[36.9707,0],[36.9707,0],[36.9707,0],[37.5337,0],[37.5337,0],[37.5337,0],[37.5337,0],[38.0968,0],[38.0968,0],[38.0968,0],[38.0968,0.000177605],[38.6598,0.000177605],[38.6598,0],[38.6598,0],[38.6598,0.000355209],[39.2229,0.000355209],[39.2229,0],[39.2229,0],[39.2229,0.000177605],[39.7859,0.000177605],[39.7859,0],[39.7859,0],[39.7859,0],[40.3489,0],[40.3489,0],[40.3489,0],[40.3489,0],[40.912,0],[40.912,0],[40.912,0],[40.912,0.000177605],[41.475,0.000177605],[41.475,0],[41.475,0],[41.475,0],[42.0381,0],[42.0381,0],[42.0381,0],[42.0381,0.000177605],[42.6011,0.000177605],[42.6011,0],[42.6011,0],[42.6011,0],[43.1642,0],[43.1642,0],[43.1642,0],[43.1642,0],[43.7272,0],[43.7272,0],[43.7272,0],[43.7272,0.000177605],[44.2903,0.000177605],[44.2903,0],[44.2903,0],[44.2903,0],[44.8533,0],[44.8533,0],[44.8533,0],[44.8533,0],[45.4164,0],[45.4164,0],[45.4164,0],[45.4164,0],[45.9794,0],[45.9794,0],[45.9794,0],[45.9794,0],[46.5425,0],[46.5425,0],[46.5425,0],[46.5425,0],[47.1055,0],[47.1055,0],[47.1055,0],[47.1055,0.000177605],[47.6686,0.000177605],[47.6686,0],[47.6686,0],[47.6686,0],[48.2316,0],[48.2316,0],[48.2316,0],[48.2316,0],[48.7947,0],[48.7947,0],[48.7947,0],[48.7947,0.000177605],[49.3577,0.000177605],[49.3577,0],[49.3577,0],[49.3577,0],[49.9208,0],[49.9208,0],[49.9208,0],[49.9208,0],[50.4838,0],[50.4838,0],[50.4838,0],[50.4838,0],[51.0469,0],[51.0469,0],[51.0469,0],[51.0469,0],[51.6099,0],[51.6099,0],[51.6099,0],[51.6099,0],[52.173,0],[52.173,0],[52.173,0],[52.173,0],[52.736,0],[52.736,0],[52.736,0],[52.736,0],[53.2991,0],[53.2991,0],[53.2991,0],[53.2991,0],[53.8621,0],[53.8621,0],[53.8621,0],[53.8621,0],[54.4252,0],[54.4252,0],[54.4252,0],[54.4252,0],[54.9882,0],[54.9882,0],[54.9882,0],[54.9882,0],[55.5512,0],[55.5512,0],[55.5512,0],[55.5512,0],[56.1143,0],[56.1143,0],[56.1143,0],[56.1143,0],[56.6773,0],[56.6773,0],[56.6773,0],[56.6773,0],[57.2404,0],[57.2404,0],[57.2404,0],[57.2404,0.000177605],[57.8034,0.000177605],[57.8034,0],[57.8034,0],[58.085,0]] color=red fillStyle=solid lineStyle=solid pointStyle=none lineWidth=2]"
      ]
     },
     "execution_count": 16,
     "metadata": {},
     "output_type": "execute_result"
    }
   ],
   "source": [
    "graph = ot.HistogramFactory().build(Ysample).drawPDF()\n",
    "graph.setTitle(\"Monte-Carlo, n=%d\" % (n))\n",
    "graph.setXTitle(\"Y (cm)\")\n",
    "graph.setLegends([\"\"])\n",
    "graph"
   ]
  },
  {
   "cell_type": "markdown",
   "metadata": {},
   "source": [
    "Les méthodes associées à l'échantillon permettent de d'estimer la moyenne et la variance."
   ]
  },
  {
   "cell_type": "code",
   "execution_count": 17,
   "metadata": {},
   "outputs": [
    {
     "data": {
      "text/plain": [
       "12.62148787135405"
      ]
     },
     "execution_count": 17,
     "metadata": {},
     "output_type": "execute_result"
    }
   ],
   "source": [
    "Ysample.computeMean()[0]"
   ]
  },
  {
   "cell_type": "code",
   "execution_count": 18,
   "metadata": {},
   "outputs": [
    {
     "data": {
      "text/plain": [
       "18.674969862358726"
      ]
     },
     "execution_count": 18,
     "metadata": {},
     "output_type": "execute_result"
    }
   ],
   "source": [
    "Ysample.computeVariance()[0]"
   ]
  },
  {
   "cell_type": "code",
   "execution_count": 19,
   "metadata": {},
   "outputs": [
    {
     "data": {
      "text/plain": [
       "4.321454600288972"
      ]
     },
     "execution_count": 19,
     "metadata": {},
     "output_type": "execute_result"
    }
   ],
   "source": [
    "Ysample.computeStandardDeviationPerComponent()[0]"
   ]
  },
  {
   "cell_type": "markdown",
   "metadata": {},
   "source": [
    "## Par Monte-Carlo simple avec un algorithme itératif\n",
    "\n",
    "La méthode la plus performante consiste à utiliser la plus petite taille de l'échantillon possible assurant une précision déterminée. Pour cela, le plan d'expériences augmente de manière incrémentale, en mettant à jour la moyenne empirique. Pour améliorer la performance, les simulations sont réalisées avec une taille de bloc fixée par l'utilisateur. Lorsqu'on souhaite estimer la moyenne, c'est la méthode \"moderne\"."
   ]
  },
  {
   "cell_type": "code",
   "execution_count": 20,
   "metadata": {},
   "outputs": [],
   "source": [
    "g.clearHistory()"
   ]
  },
  {
   "cell_type": "code",
   "execution_count": 21,
   "metadata": {},
   "outputs": [],
   "source": [
    "algo = ot.ExpectationSimulationAlgorithm(Y)\n",
    "algo.setMaximumOuterSampling(1000)\n",
    "algo.setBlockSize(10)\n",
    "algo.setMaximumCoefficientOfVariation(0.01)"
   ]
  },
  {
   "cell_type": "code",
   "execution_count": 22,
   "metadata": {},
   "outputs": [],
   "source": [
    "algo.run()"
   ]
  },
  {
   "cell_type": "code",
   "execution_count": 23,
   "metadata": {},
   "outputs": [],
   "source": [
    "result = algo.getResult()"
   ]
  },
  {
   "cell_type": "code",
   "execution_count": 24,
   "metadata": {},
   "outputs": [
    {
     "name": "stdout",
     "output_type": "stream",
     "text": [
      "Number of iterations = 118\n"
     ]
    }
   ],
   "source": [
    "outerSampleSize = result.getOuterSampling()\n",
    "print(\"Number of iterations = %d\" % (outerSampleSize))"
   ]
  },
  {
   "cell_type": "code",
   "execution_count": 25,
   "metadata": {},
   "outputs": [
    {
     "name": "stdout",
     "output_type": "stream",
     "text": [
      "Mean = 12.730356 \n",
      "Number of calls to G = 1180\n",
      "Coef. of var.=0.009962\n"
     ]
    }
   ],
   "source": [
    "expectation = result.getExpectationEstimate()\n",
    "print(\"Mean = %f \" % expectation[0])\n",
    "blocksize = result.getBlockSize()\n",
    "sampleSize = outerSampleSize * blocksize\n",
    "print(\"Number of calls to G = %d\" % (sampleSize))\n",
    "cv = result.getCoefficientOfVariation()[0]\n",
    "print(\"Coef. of var.=%.6f\" % (cv))"
   ]
  },
  {
   "cell_type": "markdown",
   "metadata": {},
   "source": [
    "The estimate of the mean has a known asymptotical gaussian distribution, which can be retrieved with the `getExpectationDistribution` method. "
   ]
  },
  {
   "cell_type": "code",
   "execution_count": 26,
   "metadata": {
    "scrolled": true
   },
   "outputs": [
    {
     "name": "stdout",
     "output_type": "stream",
     "text": [
      "Normal(mu = 12.7304, sigma = 0.126824)\n"
     ]
    },
    {
     "data": {
      "image/png": "[encoded data removed]",
      "text/plain": [
       "class=Graph name=Estimation de la moyenne de Y PDF implementation=class=GraphImplementation name=Estimation de la moyenne de Y PDF title=Estimation de la moyenne de Y PDF xTitle=Estimation de la moyenne de Y yTitle=PDF axes=ON grid=ON legendposition=topright legendFontSize=1 drawables=[class=Drawable name=Unnamed implementation=class=Curve name=Unnamed derived from class=DrawableImplementation name=Unnamed legend=Estimation de la moyenne de Y PDF data=class=Sample name=Unnamed implementation=class=SampleImplementation name=Unnamed size=129 dimension=2 data=[[12.2572,0.0029832],[12.2646,0.00370181],[12.2719,0.00457793],[12.2793,0.0056422],[12.2867,0.0069303],[12.2941,0.00848358],[12.3015,0.0103498],[12.3089,0.0125836],[12.3163,0.0152477],[12.3237,0.0184131],[12.3311,0.0221602],[12.3385,0.0265794],[12.3459,0.0317716],[12.3533,0.0378493],[12.3607,0.0449366],[12.3681,0.05317],[12.3755,0.0626984],[12.3829,0.0736836],[12.3902,0.0862996],[12.3976,0.100733],[12.405,0.117181],[12.4124,0.135852],[12.4198,0.156964],[12.4272,0.180742],[12.4346,0.207415],[12.442,0.237217],[12.4494,0.27038],[12.4568,0.307134],[12.4642,0.3477],[12.4716,0.392289],[12.479,0.441094],[12.4864,0.494288],[12.4938,0.552017],[12.5012,0.614398],[12.5085,0.681507],[12.5159,0.753381],[12.5233,0.83001],[12.5307,0.91133],[12.5381,0.997223],[12.5455,1.08751],[12.5529,1.18194],[12.5603,1.28022],[12.5677,1.38196],[12.5751,1.48673],[12.5825,1.59401],[12.5899,1.70324],[12.5973,1.81378],[12.6047,1.92493],[12.6121,2.03597],[12.6195,2.1461],[12.6268,2.25451],[12.6342,2.36037],[12.6416,2.46281],[12.649,2.56098],[12.6564,2.65403],[12.6638,2.74112],[12.6712,2.82147],[12.6786,2.89431],[12.686,2.95897],[12.6934,3.0148],[12.7008,3.06127],[12.7082,3.0979],[12.7156,3.12433],[12.723,3.1403],[12.7304,3.14564],[12.7378,3.1403],[12.7451,3.12433],[12.7525,3.0979],[12.7599,3.06127],[12.7673,3.0148],[12.7747,2.95897],[12.7821,2.89431],[12.7895,2.82147],[12.7969,2.74112],[12.8043,2.65403],[12.8117,2.56098],[12.8191,2.46281],[12.8265,2.36037],[12.8339,2.25451],[12.8413,2.1461],[12.8487,2.03597],[12.856,1.92493],[12.8634,1.81378],[12.8708,1.70324],[12.8782,1.59401],[12.8856,1.48673],[12.893,1.38196],[12.9004,1.28022],[12.9078,1.18194],[12.9152,1.08751],[12.9226,0.997223],[12.93,0.91133],[12.9374,0.83001],[12.9448,0.753381],[12.9522,0.681507],[12.9596,0.614398],[12.967,0.552017],[12.9743,0.494288],[12.9817,0.441094],[12.9891,0.392289],[12.9965,0.3477],[13.0039,0.307134],[13.0113,0.27038],[13.0187,0.237217],[13.0261,0.207415],[13.0335,0.180742],[13.0409,0.156964],[13.0483,0.135852],[13.0557,0.117181],[13.0631,0.100733],[13.0705,0.0862996],[13.0779,0.0736836],[13.0853,0.0626984],[13.0926,0.05317],[13.1,0.0449366],[13.1074,0.0378493],[13.1148,0.0317716],[13.1222,0.0265794],[13.1296,0.0221602],[13.137,0.0184131],[13.1444,0.0152477],[13.1518,0.0125836],[13.1592,0.0103498],[13.1666,0.00848358],[13.174,0.0069303],[13.1814,0.0056422],[13.1888,0.00457793],[13.1962,0.00370181],[13.2036,0.0029832]] color=red fillStyle=solid lineStyle=solid pointStyle=none lineWidth=2]"
      ]
     },
     "execution_count": 26,
     "metadata": {},
     "output_type": "execute_result"
    }
   ],
   "source": [
    "expectationDistribution = result.getExpectationDistribution()\n",
    "expectationDistribution.setDescription([\"Estimation de la moyenne de Y\"])\n",
    "print(expectationDistribution)\n",
    "expectationDistribution.drawPDF()"
   ]
  },
  {
   "cell_type": "code",
   "execution_count": 27,
   "metadata": {},
   "outputs": [
    {
     "name": "stdout",
     "output_type": "stream",
     "text": [
      "Variance = 18.9955\n"
     ]
    }
   ],
   "source": [
    "Ysample = g.getOutputHistory()\n",
    "sampleSize = Ysample.getSize()\n",
    "print(\"Variance = %.4f\" % (Ysample.computeVariance()[0]))"
   ]
  },
  {
   "cell_type": "code",
   "execution_count": 28,
   "metadata": {
    "scrolled": true
   },
   "outputs": [
    {
     "data": {
      "image/png": "[encoded data removed]",
      "text/plain": [
       "class=Graph name=sample histogram implementation=class=GraphImplementation name=sample histogram title=Monte-Carlo, n=1180 xTitle=Y (cm) yTitle=frequency axes=ON grid=ON legendposition=topright legendFontSize=1 drawables=[class=Drawable name=Unnamed implementation=class=Curve name=Unnamed derived from class=DrawableImplementation name=Unnamed legend= data=class=Sample name=Unnamed implementation=class=SampleImplementation name=Unnamed size=124 dimension=2 data=[[4.80609,0],[5.36848,0],[5.36848,0],[5.36848,0.00828779],[6.49327,0.00828779],[6.49327,0],[6.49327,0],[6.49327,0.0399321],[7.61806,0.0399321],[7.61806,0],[7.61806,0],[7.61806,0.069316],[8.74286,0.069316],[8.74286,0],[8.74286,0],[8.74286,0.118289],[9.86765,0.118289],[9.86765,0],[9.86765,0],[9.86765,0.121303],[10.9924,0.121303],[10.9924,0],[10.9924,0],[10.9924,0.110002],[12.1172,0.110002],[12.1172,0],[12.1172,0],[12.1172,0.104727],[13.242,0.104727],[13.242,0],[13.242,0],[13.242,0.0889054],[14.3668,0.0889054],[14.3668,0],[14.3668,0],[14.3668,0.0565076],[15.4916,0.0565076],[15.4916,0],[15.4916,0],[15.4916,0.0444527],[16.6164,0.0444527],[16.6164,0],[16.6164,0],[16.6164,0.0308908],[17.7412,0.0308908],[17.7412,0],[17.7412,0],[17.7412,0.0226031],[18.866,0.0226031],[18.866,0],[18.866,0],[18.866,0.0195893],[19.9908,0.0195893],[19.9908,0],[19.9908,0],[19.9908,0.012055],[21.1156,0.012055],[21.1156,0],[21.1156,0],[21.1156,0.0128084],[22.2404,0.0128084],[22.2404,0],[22.2404,0],[22.2404,0.00602748],[23.3651,0.00602748],[23.3651,0],[23.3651,0],[23.3651,0.00376718],[24.4899,0.00376718],[24.4899,0],[24.4899,0],[24.4899,0.00452061],[25.6147,0.00452061],[25.6147,0],[25.6147,0],[25.6147,0.00226031],[26.7395,0.00226031],[26.7395,0],[26.7395,0],[26.7395,0.00376718],[27.8643,0.00376718],[27.8643,0],[27.8643,0],[27.8643,0],[28.9891,0],[28.9891,0],[28.9891,0],[28.9891,0.00226031],[30.1139,0.00226031],[30.1139,0],[30.1139,0],[30.1139,0],[31.2387,0],[31.2387,0],[31.2387,0],[31.2387,0.00150687],[32.3635,0.00150687],[32.3635,0],[32.3635,0],[32.3635,0.00150687],[33.4883,0.00150687],[33.4883,0],[33.4883,0],[33.4883,0.000753435],[34.6131,0.000753435],[34.6131,0],[34.6131,0],[34.6131,0.000753435],[35.7379,0.000753435],[35.7379,0],[35.7379,0],[35.7379,0],[36.8626,0],[36.8626,0],[36.8626,0],[36.8626,0.00150687],[37.9874,0.00150687],[37.9874,0],[37.9874,0],[37.9874,0.000753435],[39.1122,0.000753435],[39.1122,0],[39.1122,0],[39.6746,0]] color=red fillStyle=solid lineStyle=solid pointStyle=none lineWidth=2]"
      ]
     },
     "execution_count": 28,
     "metadata": {},
     "output_type": "execute_result"
    }
   ],
   "source": [
    "graph = ot.HistogramFactory().build(Ysample).drawPDF()\n",
    "graph.setTitle(\"Monte-Carlo, n=%d\" % (sampleSize))\n",
    "graph.setXTitle(\"Y (cm)\")\n",
    "graph.setLegends([\"\"])\n",
    "graph"
   ]
  },
  {
   "cell_type": "markdown",
   "metadata": {},
   "source": [
    "## Synthèse des résultats\n",
    "\n",
    "| Méthode | Moyenne | Variance |\n",
    "|--|--|--|\n",
    "| Taylor, 1er ordre | 12.33 | 17.44 |\n",
    "| Taylor, 2ème ordre | 12.63 | - |\n",
    "| Monte-Carlo simple, n=10000 | 12.62 | 18.67 |\n",
    "| Monte-Carlo itératif, n=1180 | 12.73 | 19.05 |\n"
   ]
  },
  {
   "cell_type": "markdown",
   "metadata": {},
   "source": [
    "## Exercice 1 : vérifications du développement de Taylor\n",
    "\n",
    "L'objectif de cet exercice est de vérifier que les méthodes de la librairie coïncident avec les formules que nous avons présenté précédemment pour l'estimation de moments par développement de Taylor.\n",
    "- Utiliser la méthode `getMean` de la variable `X` pour créer la variable `muX` contenant le point moyen $\\mu$ du vecteur aléatoire en entrée.\n",
    "- Evaluer le modèle `g` au point `muX` et comparer avec la valeur de retour de la méthode `getMeanFirstOrder`.\n",
    "- Utiliser la méthode `gradient` de la fonction `g` pour créer la variable `gradient` contenant la valeur du gradient de la fonction $g$ au point `muX`. \n",
    "- Utiliser la méthode `getCovariance` de la variable `X` pour créer la variable `covX` contenant la matrice de covariance diagonale du vecteur aléatoire en entrée. \n",
    "- Avec une boucle `for`, calculer la variance de la sortie `Y` en utilisant le développement de Taylor à l'ordre 1.\n",
    "Pour cela, vous pourrez vous aider du squelette suivant, dans lequel vous remplacerez les sections *TODO* par du code Python valide.\n",
    "```\n",
    "dim = len(distcoll)\n",
    "v = 0.\n",
    "for i in range(dim):\n",
    "    v = v+TODO\n",
    "```\n",
    "\n",
    "- Comparer le résultat précédent avec la valeur de retour de la méthode `getCovariance`."
   ]
  },
  {
   "cell_type": "markdown",
   "metadata": {},
   "source": [
    "## Solution de l'exercice 1 : vérifications du développement de Taylor"
   ]
  },
  {
   "cell_type": "code",
   "execution_count": 29,
   "metadata": {},
   "outputs": [
    {
     "data": {
      "text/html": [
       "<p>[3.38065e+07,30000,255,397.5]</p>"
      ],
      "text/plain": [
       "class=Point name=Unnamed dimension=4 values=[3.38065e+07,30000,255,397.5]"
      ]
     },
     "execution_count": 29,
     "metadata": {},
     "output_type": "execute_result"
    }
   ],
   "source": [
    "muX = X.getMean()\n",
    "muX"
   ]
  },
  {
   "cell_type": "code",
   "execution_count": 30,
   "metadata": {},
   "outputs": [
    {
     "data": {
      "text/plain": [
       "12.339109534783237"
      ]
     },
     "execution_count": 30,
     "metadata": {},
     "output_type": "execute_result"
    }
   ],
   "source": [
    "muY = g(muX)\n",
    "muY[0]"
   ]
  },
  {
   "cell_type": "code",
   "execution_count": 31,
   "metadata": {},
   "outputs": [
    {
     "data": {
      "text/plain": [
       "12.339109534783237"
      ]
     },
     "execution_count": 31,
     "metadata": {},
     "output_type": "execute_result"
    }
   ],
   "source": [
    "taylor = ot.TaylorExpansionMoments(Y)\n",
    "taylor.getMeanFirstOrder()[0]"
   ]
  },
  {
   "cell_type": "markdown",
   "metadata": {},
   "source": [
    "On observe que la valeur de `muY` coïncide exactement avec $g(\\mu)$."
   ]
  },
  {
   "cell_type": "code",
   "execution_count": 32,
   "metadata": {
    "scrolled": true
   },
   "outputs": [
    {
     "data": {
      "text/html": [
       "<p>[[ -3.64992e-07 ]<br>\n",
       " [  0.000411303 ]<br>\n",
       " [  0.145166    ]<br>\n",
       " [ -0.0310418   ]]</p>"
      ],
      "text/plain": [
       "class=Matrix implementation=class=MatrixImplementation name=Unnamed rows=4 columns=1 values=[-3.64992e-07,0.000411303,0.145166,-0.0310418]"
      ]
     },
     "execution_count": 32,
     "metadata": {},
     "output_type": "execute_result"
    }
   ],
   "source": [
    "gradient = g.gradient(muX)\n",
    "gradient"
   ]
  },
  {
   "cell_type": "code",
   "execution_count": 33,
   "metadata": {},
   "outputs": [
    {
     "data": {
      "text/html": [
       "<p>[[   2.0101e+13   0            0            0          ]<br>\n",
       " [   0            8.1e+07      0            0          ]<br>\n",
       " [   0            0            8.33333      0          ]<br>\n",
       " [   0            0            0          918.75       ]]</p>"
      ],
      "text/plain": [
       "class=CovarianceMatrix dimension=4 implementation=class=MatrixImplementation name=Unnamed rows=4 columns=4 values=[2.0101e+13,0,0,0,0,8.1e+07,0,0,0,0,8.33333,0,0,0,0,918.75]"
      ]
     },
     "execution_count": 33,
     "metadata": {},
     "output_type": "execute_result"
    }
   ],
   "source": [
    "covX = X.getCovariance()\n",
    "covX"
   ]
  },
  {
   "cell_type": "code",
   "execution_count": 34,
   "metadata": {},
   "outputs": [
    {
     "data": {
      "text/plain": [
       "17.44155282353067"
      ]
     },
     "execution_count": 34,
     "metadata": {},
     "output_type": "execute_result"
    }
   ],
   "source": [
    "dim = len(distcoll)\n",
    "v = 0.\n",
    "for i in range(dim):\n",
    "    v = v+gradient[i,0]**2 * covX[i,i]\n",
    "v"
   ]
  },
  {
   "cell_type": "code",
   "execution_count": 35,
   "metadata": {
    "scrolled": true
   },
   "outputs": [
    {
     "data": {
      "text/plain": [
       "17.44155282353067"
      ]
     },
     "execution_count": 35,
     "metadata": {},
     "output_type": "execute_result"
    }
   ],
   "source": [
    "taylor.getCovariance()[0,0]"
   ]
  },
  {
   "cell_type": "markdown",
   "metadata": {},
   "source": [
    "## Exercice 2 : loi de la moyenne empirique\n",
    "\n",
    "L'objectif de cet exercice est de vérifier la loi gaussienne de la moyenne empirique indiquée par le T.C.L.. Pour cela, nous considérons un échantillon Monte-Carlo simple de taille $n=100$. Cette faible taille d'échantillon est associée à une variabilité relativement importante de l'estimateur de la moyenne empirique. Puis nous allons réaliser $r$ estimations de la moyenne empirique. Nous allons ensuite comparer la distribution théorique et la distribution empirique. \n",
    "- Créer la variable `n=100`. \n",
    "- Générer un échantillon `Ysample` de taille `n` de la variable de sortie `Y`. Créer la variable `sigma` contenant l'écart-type empirique de cet échantillon. \n",
    "- Créer la variable `r=100`. \n",
    "- Créer la variable `meanSample` de type `Sample` de taille `r` en dimension 1.\n",
    "- Avec une boucle `for` sur l'indice `k`, répéter l'expérience suivante `r` fois. \n",
    "  - Générer un échantillon `Ysample` de taille `n` de la variable de sortie `Y`.\n",
    "  - Stocker dans `meanSample[k,0]` la moyenne empirique de `Ysample`.\n",
    "Pour cela, vous pourrez vous inspirer du squelette suivant, dans lequel vous remplacer les sections *TODO* par du code Python valide.\n",
    "\n",
    "```\n",
    "r = 1000\n",
    "meanSample = ot.Sample(r,1)\n",
    "for k in range(r):\n",
    "    Ysample = TODO\n",
    "    meanSample[k,0] = Ysample.TODO\n",
    "```\n",
    "\n",
    "- Calculer `mu` la moyenne empirique de l'échantillon `meanSample`. \n",
    "- Créer la variable `M` de loi gaussienne de moyenne `mu` et d'écart-type `sigma/sqrt(n)`. \n",
    "- Dessiner l'histogramme empirique de l'échantillon `meanSample`. Dans le même graphique, dessiner la PDF de `M`.\n",
    "\n",
    "- Optionnel : Utiliser la taille d'échantillon `n=400`. Quel est l'impact sur la distribution de la moyenne empirique ?"
   ]
  },
  {
   "cell_type": "markdown",
   "metadata": {},
   "source": [
    "## Solution de l'exercice 2 : loi de la moyenne empirique\n"
   ]
  },
  {
   "cell_type": "code",
   "execution_count": 36,
   "metadata": {},
   "outputs": [
    {
     "data": {
      "text/plain": [
       "5.244036168768003"
      ]
     },
     "execution_count": 36,
     "metadata": {},
     "output_type": "execute_result"
    }
   ],
   "source": [
    "n = 100\n",
    "Ysample = Y.getSample(n)\n",
    "sigma = Ysample.computeStandardDeviationPerComponent()[0]\n",
    "sigma"
   ]
  },
  {
   "cell_type": "code",
   "execution_count": 37,
   "metadata": {},
   "outputs": [],
   "source": [
    "r = 1000\n",
    "meanSample = ot.Sample(r,1)\n",
    "for k in range(r):\n",
    "    Ysample = Y.getSample(n)\n",
    "    meanSample[k,0] = Ysample.computeMean()[0]"
   ]
  },
  {
   "cell_type": "markdown",
   "metadata": {},
   "source": [
    "Nous pourrions utiliser pour `mu` la moyenne empirique de l'échantillon `Ysample`. Si nous le faisons, nous obtenons une distribution gaussienne centrée sur l'estimation à l'itération `j`. En conséquence, l'histogramme empirique des moyennes empiriques se trouve décalé par rapport à la loi gaussienne centrée sur une seule estimation. Dans le but de pouvoir comparer les variances de l'histogramme et de la loi gaussienne de manière graphique, il est plus commode d'utiliser pour `mu` la moyenne empirique de l'échantillon `meanSample`."
   ]
  },
  {
   "cell_type": "code",
   "execution_count": 38,
   "metadata": {},
   "outputs": [
    {
     "data": {
      "text/plain": [
       "12.605146792900548"
      ]
     },
     "execution_count": 38,
     "metadata": {},
     "output_type": "execute_result"
    }
   ],
   "source": [
    "mu = meanSample.computeMean()[0]\n",
    "mu"
   ]
  },
  {
   "cell_type": "code",
   "execution_count": 39,
   "metadata": {},
   "outputs": [
    {
     "data": {
      "text/html": [
       "<p>Normal(mu = 12.6051, sigma = 0.524404)</p>"
      ],
      "text/plain": [
       "class=Normal name=Normal dimension=1 mean=class=Point name=Unnamed dimension=1 values=[12.6051] sigma=class=Point name=Unnamed dimension=1 values=[0.524404] correlationMatrix=class=CorrelationMatrix dimension=1 implementation=class=MatrixImplementation name=Unnamed rows=1 columns=1 values=[1]"
      ]
     },
     "execution_count": 39,
     "metadata": {},
     "output_type": "execute_result"
    }
   ],
   "source": [
    "M = ot.Normal(mu,sigma/np.sqrt(n))\n",
    "M"
   ]
  },
  {
   "cell_type": "code",
   "execution_count": 40,
   "metadata": {},
   "outputs": [
    {
     "data": {
      "image/png": "[encoded data removed]",
      "text/plain": [
       "class=Graph name=sample histogram implementation=class=GraphImplementation name=sample histogram title=Monte-Carlo mean sample, n=100 xTitle=Sample Mean(Y) yTitle=frequency axes=ON grid=ON legendposition=topright legendFontSize=1 drawables=[class=Drawable name=Unnamed implementation=class=Curve name=Unnamed derived from class=DrawableImplementation name=Unnamed legend= data=class=Sample name=Unnamed implementation=class=SampleImplementation name=Unnamed size=80 dimension=2 data=[[11.2882,0],[11.3568,0],[11.3568,0],[11.3568,0.0218661],[11.494,0.0218661],[11.494,0],[11.494,0],[11.494,0.0145774],[11.6312,0.0145774],[11.6312,0],[11.6312,0],[11.6312,0.174929],[11.7684,0.174929],[11.7684,0],[11.7684,0],[11.7684,0.0947533],[11.9056,0.0947533],[11.9056,0],[11.9056,0],[11.9056,0.298837],[12.0428,0.298837],[12.0428,0],[12.0428,0],[12.0428,0.546654],[12.18,0.546654],[12.18,0],[12.18,0],[12.18,0.634118],[12.3172,0.634118],[12.3172,0],[12.3172,0],[12.3172,0.823625],[12.4544,0.823625],[12.4544,0],[12.4544,0],[12.4544,1.15162],[12.5916,1.15162],[12.5916,0],[12.5916,0],[12.5916,0.79447],[12.7288,0.79447],[12.7288,0],[12.7288,0],[12.7288,0.79447],[12.866,0.79447],[12.866,0],[12.866,0],[12.866,0.655984],[13.0032,0.655984],[13.0032,0],[13.0032,0],[13.0032,0.524788],[13.1404,0.524788],[13.1404,0],[13.1404,0],[13.1404,0.327992],[13.2776,0.327992],[13.2776,0],[13.2776,0],[13.2776,0.196795],[13.4148,0.196795],[13.4148,0],[13.4148,0],[13.4148,0.109331],[13.552,0.109331],[13.552,0],[13.552,0],[13.552,0.0583097],[13.6892,0.0583097],[13.6892,0],[13.6892,0],[13.6892,0.0437323],[13.8264,0.0437323],[13.8264,0],[13.8264,0],[13.8264,0.0218661],[13.9636,0.0218661],[13.9636,0],[13.9636,0],[14.0322,0]] color=red fillStyle=solid lineStyle=solid pointStyle=none lineWidth=2,class=Drawable name=Unnamed implementation=class=Curve name=Unnamed derived from class=DrawableImplementation name=Unnamed legend=N(12.61,0.52) data=class=Sample name=Unnamed implementation=class=SampleImplementation name=Unnamed size=129 dimension=2 data=[[10.6485,0.000721468],[10.6791,0.000895258],[10.7097,0.00110714],[10.7402,0.00136453],[10.7708,0.00167605],[10.8014,0.0020517],[10.8319,0.00250302],[10.8625,0.00304327],[10.8931,0.00368756],[10.9237,0.00445309],[10.9542,0.00535931],[10.9848,0.00642805],[11.0154,0.00768376],[11.046,0.00915361],[11.0765,0.0108676],[11.1071,0.0128588],[11.1377,0.0151632],[11.1682,0.0178199],[11.1988,0.020871],[11.2294,0.0243616],[11.26,0.0283395],[11.2905,0.032855],[11.3211,0.0379608],[11.3517,0.0437112],[11.3823,0.0501619],[11.4128,0.0573693],[11.4434,0.0653897],[11.474,0.0742784],[11.5045,0.0840891],[11.5351,0.0948726],[11.5657,0.106676],[11.5963,0.11954],[11.6268,0.133502],[11.6574,0.148588],[11.688,0.164818],[11.7185,0.1822],[11.7491,0.200733],[11.7797,0.220399],[11.8103,0.241172],[11.8408,0.263007],[11.8714,0.285845],[11.902,0.309613],[11.9326,0.334219],[11.9631,0.359556],[11.9937,0.385502],[12.0243,0.411918],[12.0548,0.43865],[12.0854,0.465532],[12.116,0.492385],[12.1466,0.519021],[12.1771,0.54524],[12.2077,0.570841],[12.2383,0.595616],[12.2689,0.619357],[12.2994,0.64186],[12.33,0.662923],[12.3606,0.682354],[12.3911,0.699971],[12.4217,0.715607],[12.4523,0.72911],[12.4829,0.740348],[12.5134,0.749207],[12.544,0.7556],[12.5746,0.759463],[12.6051,0.760754],[12.6357,0.759463],[12.6663,0.7556],[12.6969,0.749207],[12.7274,0.740348],[12.758,0.72911],[12.7886,0.715607],[12.8192,0.699971],[12.8497,0.682354],[12.8803,0.662923],[12.9109,0.64186],[12.9414,0.619357],[12.972,0.595616],[13.0026,0.570841],[13.0332,0.54524],[13.0637,0.519021],[13.0943,0.492385],[13.1249,0.465532],[13.1555,0.43865],[13.186,0.411918],[13.2166,0.385502],[13.2472,0.359556],[13.2777,0.334219],[13.3083,0.309613],[13.3389,0.285845],[13.3695,0.263007],[13.4,0.241172],[13.4306,0.220399],[13.4612,0.200733],[13.4917,0.1822],[13.5223,0.164818],[13.5529,0.148588],[13.5835,0.133502],[13.614,0.11954],[13.6446,0.106676],[13.6752,0.0948726],[13.7058,0.0840891],[13.7363,0.0742784],[13.7669,0.0653897],[13.7975,0.0573693],[13.828,0.0501619],[13.8586,0.0437112],[13.8892,0.0379608],[13.9198,0.032855],[13.9503,0.0283395],[13.9809,0.0243616],[14.0115,0.020871],[14.042,0.0178199],[14.0726,0.0151632],[14.1032,0.0128588],[14.1338,0.0108676],[14.1643,0.00915361],[14.1949,0.00768376],[14.2255,0.00642805],[14.2561,0.00535931],[14.2866,0.00445309],[14.3172,0.00368756],[14.3478,0.00304327],[14.3783,0.00250302],[14.4089,0.0020517],[14.4395,0.00167605],[14.4701,0.00136453],[14.5006,0.00110714],[14.5312,0.000895258],[14.5618,0.000721468]] color=blue fillStyle=solid lineStyle=solid pointStyle=none lineWidth=2]"
      ]
     },
     "execution_count": 40,
     "metadata": {},
     "output_type": "execute_result"
    }
   ],
   "source": [
    "graph = ot.HistogramFactory().build(meanSample).drawPDF()\n",
    "graph.setTitle(\"Monte-Carlo mean sample, n=%d\" % (n))\n",
    "graph.setXTitle(\"Sample Mean(Y)\")\n",
    "graph.setLegends([\"\"])\n",
    "gausspdf = M.drawPDF()\n",
    "gausspdf.setColors([\"blue\"])\n",
    "gausspdf.setLegends([\"N(%.2f,%.2f)\" % (mu,sigma/np.sqrt(n))])\n",
    "graph.add(gausspdf)\n",
    "graph"
   ]
  },
  {
   "cell_type": "markdown",
   "metadata": {},
   "source": [
    "On observe que la distribution empirique de la moyenne empirique est proche de la distribution gaussienne.\n",
    "\n",
    "Pour observer l'influence du paramètre $n$, on définit une fonction qui génère un échantillon de moyennes empiriques et retourne cet échantillon, ainsi que la loi gaussienne associée."
   ]
  },
  {
   "cell_type": "code",
   "execution_count": 41,
   "metadata": {},
   "outputs": [],
   "source": [
    "def resampleMean(n,r):\n",
    "    meanSample = ot.Sample(r,1)\n",
    "    for k in range(r):\n",
    "        Ysample = Y.getSample(n)\n",
    "        meanSample[k,0] = Ysample.computeMean()[0]\n",
    "    return meanSample"
   ]
  },
  {
   "cell_type": "code",
   "execution_count": 42,
   "metadata": {},
   "outputs": [],
   "source": [
    "meanSample100 = resampleMean(100,r)\n",
    "meanSample400 = resampleMean(400,r)"
   ]
  },
  {
   "cell_type": "code",
   "execution_count": 43,
   "metadata": {},
   "outputs": [
    {
     "data": {
      "image/png": "[encoded data removed]",
      "text/plain": [
       "class=Graph name=sample histogram implementation=class=GraphImplementation name=sample histogram title= xTitle=Y Sample Mean yTitle=frequency axes=ON grid=ON legendposition=topright legendFontSize=1 drawables=[class=Drawable name=Unnamed implementation=class=Curve name=Unnamed derived from class=DrawableImplementation name=Unnamed legend=n=100 data=class=Sample name=Unnamed implementation=class=SampleImplementation name=Unnamed size=92 dimension=2 data=[[10.8783,0],[10.953,0],[10.953,0],[10.953,0.00669794],[11.1023,0.00669794],[11.1023,0],[11.1023,0],[11.1023,0],[11.2516,0],[11.2516,0],[11.2516,0],[11.2516,0],[11.4009,0],[11.4009,0],[11.4009,0],[11.4009,0.0200938],[11.5502,0.0200938],[11.5502,0],[11.5502,0],[11.5502,0.0334897],[11.6995,0.0334897],[11.6995,0],[11.6995,0],[11.6995,0.154053],[11.8488,0.154053],[11.8488,0],[11.8488,0],[11.8488,0.254522],[11.9981,0.254522],[11.9981,0],[11.9981,0],[11.9981,0.38848],[12.1474,0.38848],[12.1474,0],[12.1474,0],[12.1474,0.689887],[12.2967,0.689887],[12.2967,0],[12.2967,0],[12.2967,0.81045],[12.446,0.81045],[12.446,0],[12.446,0],[12.446,0.931013],[12.5953,0.931013],[12.5953,0],[12.5953,0],[12.5953,0.857336],[12.7446,0.857336],[12.7446,0],[12.7446,0],[12.7446,0.730075],[12.8939,0.730075],[12.8939,0],[12.8939,0],[12.8939,0.756867],[13.0432,0.756867],[13.0432,0],[13.0432,0],[13.0432,0.482251],[13.1925,0.482251],[13.1925,0],[13.1925,0],[13.1925,0.301407],[13.3418,0.301407],[13.3418,0],[13.3418,0],[13.3418,0.140657],[13.4911,0.140657],[13.4911,0],[13.4911,0],[13.4911,0.0602814],[13.6404,0.0602814],[13.6404,0],[13.6404,0],[13.6404,0.0267917],[13.7897,0.0267917],[13.7897,0],[13.7897,0],[13.7897,0.0267917],[13.939,0.0267917],[13.939,0],[13.939,0],[13.939,0.0133959],[14.0883,0.0133959],[14.0883,0],[14.0883,0],[14.0883,0.0133959],[14.2376,0.0133959],[14.2376,0],[14.2376,0],[14.3122,0]] color=red fillStyle=solid lineStyle=solid pointStyle=none lineWidth=2,class=Drawable name=Unnamed implementation=class=Curve name=Unnamed derived from class=DrawableImplementation name=Unnamed legend=n=400 data=class=Sample name=Unnamed implementation=class=SampleImplementation name=Unnamed size=84 dimension=2 data=[[11.874,0],[11.9116,0],[11.9116,0],[11.9116,0.0399138],[11.9867,0.0399138],[11.9867,0],[11.9867,0],[11.9867,0],[12.0619,0],[12.0619,0],[12.0619,0],[12.0619,0.0798276],[12.1371,0.0798276],[12.1371,0],[12.1371,0],[12.1371,0.199569],[12.2122,0.199569],[12.2122,0],[12.2122,0],[12.2122,0.505575],[12.2874,0.505575],[12.2874,0],[12.2874,0],[12.2874,0.851494],[12.3625,0.851494],[12.3625,0],[12.3625,0],[12.3625,1.13089],[12.4377,1.13089],[12.4377,0],[12.4377,0],[12.4377,1.30385],[12.5129,1.30385],[12.5129,0],[12.5129,0],[12.5129,1.98238],[12.588,1.98238],[12.588,0],[12.588,0],[12.588,1.49011],[12.6632,1.49011],[12.6632,0],[12.6632,0],[12.6632,1.64977],[12.7384,1.64977],[12.7384,0],[12.7384,0],[12.7384,1.60986],[12.8135,1.60986],[12.8135,0],[12.8135,0],[12.8135,0.98454],[12.8887,0.98454],[12.8887,0],[12.8887,0],[12.8887,0.705144],[12.9638,0.705144],[12.9638,0],[12.9638,0],[12.9638,0.385833],[13.039,0.385833],[13.039,0],[13.039,0],[13.039,0.17296],[13.1142,0.17296],[13.1142,0],[13.1142,0],[13.1142,0.106437],[13.1893,0.106437],[13.1893,0],[13.1893,0],[13.1893,0.0532184],[13.2645,0.0532184],[13.2645,0],[13.2645,0],[13.2645,0.0133046],[13.3396,0.0133046],[13.3396,0],[13.3396,0],[13.3396,0.0399138],[13.4148,0.0399138],[13.4148,0],[13.4148,0],[13.4524,0]] color=blue fillStyle=solid lineStyle=solid pointStyle=none lineWidth=2]"
      ]
     },
     "execution_count": 43,
     "metadata": {},
     "output_type": "execute_result"
    }
   ],
   "source": [
    "graph = ot.HistogramFactory().build(meanSample100).drawPDF()\n",
    "graph.setTitle(\"\")\n",
    "graph.setXTitle(\"Y Sample Mean\")\n",
    "graph.setColors([\"red\"])\n",
    "graph.setLegends([\"n=100\"])\n",
    "graph400 = ot.HistogramFactory().build(meanSample400).drawPDF()\n",
    "graph400.setColors([\"blue\"])\n",
    "graph400.setLegends([\"n=400\"])\n",
    "graph.add(graph400)\n",
    "graph"
   ]
  },
  {
   "cell_type": "markdown",
   "metadata": {},
   "source": [
    "On observe que la distribution de la moyenne empirique est plus resserrée avec $n=400$. C'est le résultat attendu, puisque la variance de l'estimateur de la moyenne empirique est divisé par 4 lorsqu'on passe d'un échantillon de taille $n=100$ à un échantillon de taille $n=400$."
   ]
  },
  {
   "cell_type": "markdown",
   "metadata": {},
   "source": [
    "## Exercice 3 : fixer une variable\n",
    "\n",
    "On observe que le facteur d'importance associé à la variable $L$ est égal à 0.0100. Cela implique que, si on fixe cette variable à sa valeur moyenne, alors la variance va être peu modifiée. L'objectif de cet exercice est de le vérifier expérimentalement.\n",
    "- Créer la variable `Lmean` contenant la valeur moyenne de la variable `dist_L` associée à $L$ grâce à la méthode `getMean`. \n",
    "- Créer la variable `L_fixed` contenant une distribution de type `Dirac` de paramètre `Lmean`. \n",
    "- Créer la distribution `Xfixed` associée au vecteur aléatoire dont la marginale $L$ est fixée. \n",
    "- Créer la variable `Yfixed` contenant le vecteur aléatoire de sortie associé. \n",
    "- Calculer la moyenne et la variance prédites par le développement de Taylor à l'ordre 1. \n",
    "- Comparer ces résultats avec les résultats du modèle précédent. \n",
    "- La perte de variance correspond-elle à la valeur du facteur d'importance ? Pourquoi ?"
   ]
  },
  {
   "cell_type": "markdown",
   "metadata": {},
   "source": [
    "## Solution de l'exercice 3 : fixer une variable\n",
    "\n",
    "Pour fixer la variable $L$ à sa valeur moyenne, nous utilisons la méthode `getMean`."
   ]
  },
  {
   "cell_type": "code",
   "execution_count": 44,
   "metadata": {
    "scrolled": true
   },
   "outputs": [
    {
     "data": {
      "text/plain": [
       "255.0"
      ]
     },
     "execution_count": 44,
     "metadata": {},
     "output_type": "execute_result"
    }
   ],
   "source": [
    "Lmean = dist_L.getMean()[0]\n",
    "Lmean"
   ]
  },
  {
   "cell_type": "markdown",
   "metadata": {},
   "source": [
    "La distribution de Dirac est une distribution qui permet de fixer une variable à une valeur constante, puisque sa densité de probabilité est infinie en un point, et nulle ailleurs."
   ]
  },
  {
   "cell_type": "code",
   "execution_count": 45,
   "metadata": {},
   "outputs": [],
   "source": [
    "L_fixed = ot.Dirac(Lmean)\n",
    "distcollfixed = [dist_E, dist_F, L_fixed, dist_I]\n",
    "Xfixed = ot.ComposedDistribution(distcollfixed)"
   ]
  },
  {
   "cell_type": "code",
   "execution_count": 46,
   "metadata": {},
   "outputs": [],
   "source": [
    "XRVfixed = ot.RandomVector(Xfixed)\n",
    "Yfixed = ot.RandomVector(g, XRVfixed)"
   ]
  },
  {
   "cell_type": "code",
   "execution_count": 47,
   "metadata": {},
   "outputs": [],
   "source": [
    "taylorfixed = ot.TaylorExpansionMoments(Yfixed)"
   ]
  },
  {
   "cell_type": "code",
   "execution_count": 48,
   "metadata": {},
   "outputs": [
    {
     "data": {
      "text/plain": [
       "12.339109534783237"
      ]
     },
     "execution_count": 48,
     "metadata": {},
     "output_type": "execute_result"
    }
   ],
   "source": [
    "taylorfixed.getMeanFirstOrder()[0]"
   ]
  },
  {
   "cell_type": "code",
   "execution_count": 49,
   "metadata": {},
   "outputs": [
    {
     "data": {
      "text/plain": [
       "17.2870162731062"
      ]
     },
     "execution_count": 49,
     "metadata": {},
     "output_type": "execute_result"
    }
   ],
   "source": [
    "taylorfixed.getCovariance()[0,0]"
   ]
  },
  {
   "cell_type": "markdown",
   "metadata": {},
   "source": [
    "La table suivante compare le développement de Taylor lorsque L suit la loi uniforme et lorsque L est fixé à sa valeur moyenne. On observe que la moyenne est inchangée, ce qui est le résultat attendu puisque la moyenne estimée par le développement de Taylor ne dépend pas de la variance du vecteur d'entrée. On observe que la variance a été un peu réduite. \n",
    "\n",
    "| Méthode | Moyenne | Variance |\n",
    "|--|--|--|\n",
    "| Taylor, 1er ordre (E,F,L,I) | 12.33 | 17.44 |\n",
    "| Taylor, 1er ordre (E,F,muL,I) | 12.33 | 17.28 |\n",
    "\n",
    "Le calcul suivant évalue la perte de variance entre le modèle inconditionnel et le modèle conditionné. "
   ]
  },
  {
   "cell_type": "code",
   "execution_count": 50,
   "metadata": {},
   "outputs": [
    {
     "data": {
      "text/plain": [
       "0.15453655042447068"
      ]
     },
     "execution_count": 50,
     "metadata": {},
     "output_type": "execute_result"
    }
   ],
   "source": [
    "taylor.getCovariance()[0,0] - taylorfixed.getCovariance()[0,0]"
   ]
  },
  {
   "cell_type": "markdown",
   "metadata": {},
   "source": [
    "Le calcul suivant évalue la perte de variance prédite par le facteur d'importance de la variable $L$. On observe que la perte de variance est supérieure à celle prédite. Cet écart est dû au fait que le modèle $g$ n'est pas parfaitement linéaire dans notre cas particulier, de telle sorte que les dérivées secondes ont une influence significative. Toutefois, le résultat reste pertinent, dans la mesure où le décalage reste modéré. "
   ]
  },
  {
   "cell_type": "code",
   "execution_count": 51,
   "metadata": {},
   "outputs": [
    {
     "data": {
      "text/plain": [
       "0.17560971639144013"
      ]
     },
     "execution_count": 51,
     "metadata": {},
     "output_type": "execute_result"
    }
   ],
   "source": [
    "importancefactors[2] * taylor.getCovariance()[0,0]"
   ]
  },
  {
   "cell_type": "markdown",
   "metadata": {},
   "source": [
    "## Exercice 4 : développement de Taylor avec dépendance\n",
    "\n",
    "On suppose que le problème est associé à une structure de dépendance gaussienne. Le coefficient de corrélation de Spearman (sur les rangs) est entre la longueur $L$ et le moment d'inertie $I$ est égal à \n",
    "$$\n",
    "\\rho_{rg}(L,I) = -0.2.\n",
    "$$\n",
    "L'objectif de cet exercice est d'observer comment cette dépendance peut affecter les moments estimés par développement de Taylor.\n",
    "\n",
    "- Définir la copule associée à cette nouvelle structure de dépendance. Pour cela, créer la matrice de corrélation sur les rangs `smatrix` avec la classe `CorrelationMatrix`. \n",
    "- Créer la variable `matrix` contenant la matrice de corrélation de Pearson calculée grâce à la fonction `GetCorrelationFromSpearmanCorrelation` et de la matrice `smatrix`.\n",
    "- Créer la variable `copula` contenant la copule gaussienne grâce à la classe `NormalCopula`.\n",
    "- Créer la variable `Xgauss` contenant le vecteur aléatoire en entrée du modèle, puis le vecteur aléatoire de sortie correspondant `Ygauss`.\n",
    "- Utiliser la classe `TaylorExpansionMoments` pour calculer la moyenne, l'écart-type et les facteurs d'importance de la sortie `Y`.\n",
    "- Comparer les résultats numériques avec ceux sans dépendance. Comment expliquer les différences ?"
   ]
  },
  {
   "cell_type": "markdown",
   "metadata": {},
   "source": [
    "## Solution de l'exercice 4 : développement de Taylor avec dépendance"
   ]
  },
  {
   "cell_type": "code",
   "execution_count": 52,
   "metadata": {},
   "outputs": [
    {
     "data": {
      "text/html": [
       "<p>[[  1    0    0    0   ]<br>\n",
       " [  0    1    0    0   ]<br>\n",
       " [  0    0    1   -0.2 ]<br>\n",
       " [  0    0   -0.2  1   ]]</p>"
      ],
      "text/plain": [
       "class=CorrelationMatrix dimension=4 implementation=class=MatrixImplementation name=Unnamed rows=4 columns=4 values=[1,0,0,0,0,1,0,0,0,0,1,-0.2,0,0,-0.2,1]"
      ]
     },
     "execution_count": 52,
     "metadata": {},
     "output_type": "execute_result"
    }
   ],
   "source": [
    "dim = len(distcoll)\n",
    "smatrix = ot.CorrelationMatrix(dim)\n",
    "smatrix[2, 3] = -0.2\n",
    "smatrix"
   ]
  },
  {
   "cell_type": "code",
   "execution_count": 53,
   "metadata": {},
   "outputs": [
    {
     "data": {
      "text/html": [
       "<p>[[  1         0         0         0        ]<br>\n",
       " [  0         1         0         0        ]<br>\n",
       " [  0         0         1        -0.209057 ]<br>\n",
       " [  0         0        -0.209057  1        ]]</p>"
      ],
      "text/plain": [
       "class=CorrelationMatrix dimension=4 implementation=class=MatrixImplementation name=Unnamed rows=4 columns=4 values=[1,0,0,0,0,1,0,0,0,0,1,-0.209057,0,0,-0.209057,1]"
      ]
     },
     "execution_count": 53,
     "metadata": {},
     "output_type": "execute_result"
    }
   ],
   "source": [
    "matrix = ot.NormalCopula.GetCorrelationFromSpearmanCorrelation(smatrix)\n",
    "matrix"
   ]
  },
  {
   "cell_type": "code",
   "execution_count": 54,
   "metadata": {},
   "outputs": [
    {
     "data": {
      "text/html": [
       "<p>NormalCopula(R = [[  1         0         0         0        ]<br>\n",
       " [  0         1         0         0        ]<br>\n",
       " [  0         0         1        -0.209057 ]<br>\n",
       " [  0         0        -0.209057  1        ]])</p>"
      ],
      "text/plain": [
       "class=NormalCopula name=NormalCopula dimension=4 correlation=class=CorrelationMatrix dimension=4 implementation=class=MatrixImplementation name=Unnamed rows=4 columns=4 values=[1,0,0,0,0,1,0,0,0,0,1,-0.209057,0,0,-0.209057,1]"
      ]
     },
     "execution_count": 54,
     "metadata": {},
     "output_type": "execute_result"
    }
   ],
   "source": [
    "copula = ot.NormalCopula(matrix)\n",
    "copula"
   ]
  },
  {
   "cell_type": "code",
   "execution_count": 55,
   "metadata": {},
   "outputs": [],
   "source": [
    "Xgauss = ot.ComposedDistribution(distcoll,copula)\n",
    "XRVgauss = ot.RandomVector(Xgauss)\n",
    "Ygauss = ot.RandomVector(g, XRVgauss)\n",
    "Ygauss.setDescription(['Y, gaussien (cm)'])"
   ]
  },
  {
   "cell_type": "code",
   "execution_count": 56,
   "metadata": {},
   "outputs": [
    {
     "name": "stdout",
     "output_type": "stream",
     "text": [
      "Taylor, Mean, First : 12.3391\n",
      "Taylor, Mean, Second : 12.6390\n",
      "Taylor, Variance : 17.5997\n",
      "Taylor, St.Dev : 4.1952\n"
     ]
    }
   ],
   "source": [
    "taylor = ot.TaylorExpansionMoments(Ygauss)\n",
    "print(\"Taylor, Mean, First : %.4f\" % (taylor.getMeanFirstOrder()[0]))\n",
    "print(\"Taylor, Mean, Second : %.4f\" % (taylor.getMeanSecondOrder()[0]))\n",
    "print(\"Taylor, Variance : %.4f\" % (taylor.getCovariance()[0,0]))\n",
    "print(\"Taylor, St.Dev : %.4f\" % (np.sqrt(taylor.getCovariance()[0,0])))"
   ]
  },
  {
   "cell_type": "code",
   "execution_count": 57,
   "metadata": {},
   "outputs": [
    {
     "data": {
      "text/html": [
       "<p>[E : 0.152153, F : 0.778582, L : 0.0144704, I : 0.0547944]</p>"
      ],
      "text/plain": [
       "class=PointWithDescription name=Unnamed dimension=4 description=[E,F,L,I] values=[0.152153,0.778582,0.0144704,0.0547944]"
      ]
     },
     "execution_count": 57,
     "metadata": {},
     "output_type": "execute_result"
    }
   ],
   "source": [
    "taylor.getImportanceFactors()"
   ]
  },
  {
   "cell_type": "markdown",
   "metadata": {},
   "source": [
    "La table suivante permet de comparer les résultats numériques sans et avec dépendance.\n",
    "\n",
    "| Moment | Sans dépendance | Avec dépendance |\n",
    "|--|--|--|\n",
    "| Moyenne, 1er ordre | 12.34 | 12.34 |\n",
    "| Moyenne, 2nd ordre | 12.63 | 12.64 |\n",
    "|Variance|17.44|17.60|\n",
    "|Ecart-type|4.176|4.195|\n",
    "|$\\eta_E$|0.1535|0.1535|\n",
    "|$\\eta_F$|0.7856|0.7856|\n",
    "|$\\eta_L$|0.0100|0.0100|\n",
    "|$\\eta_I$|0.0508|0.0508|\n",
    "\n",
    "Les différences apparaissent dans les estimateurs suivants :\n",
    "- l'estimation de la moyenne au second ordre, car la dépendance intervient en combinaison avec la matrice Hessienne,\n",
    "- la variance, car la dépendance intervient en combinaison avec les dérivées premières.\n",
    "- l'écart-type, car il dépend de la variance.\n",
    "\n",
    "Les résultats suivants sont identiques :\n",
    "- la moyenne au premier ordre, car elle ne dépend que de la fonction $g$ au point $\\mu$,\n",
    "- les facteurs d'importance, car ils ne prennent pas en compte la dépendance.\n"
   ]
  }
 ],
 "metadata": {
  "kernelspec": {
   "display_name": "Python 3",
   "language": "python",
   "name": "python3"
  },
  "language_info": {
   "codemirror_mode": {
    "name": "ipython",
    "version": 3
   },
   "file_extension": ".py",
   "mimetype": "text/x-python",
   "name": "python",
   "nbconvert_exporter": "python",
   "pygments_lexer": "ipython3",
   "version": "3.7.5rc1"
  }
 },
 "nbformat": 4,
 "nbformat_minor": 2
}
