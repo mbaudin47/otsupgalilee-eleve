{
 "cells": [
  {
   "cell_type": "markdown",
   "metadata": {},
   "source": [
    "# Estimer la tendance centrale sur le cas de la poutre en flexion\n"
   ]
  },
  {
   "cell_type": "code",
   "execution_count": 1,
   "metadata": {},
   "outputs": [],
   "source": [
    "import openturns as ot\n",
    "import openturns.viewer as otv\n",
    "import numpy as np"
   ]
  },
  {
   "cell_type": "code",
   "execution_count": 2,
   "metadata": {},
   "outputs": [],
   "source": [
    "dist_E = ot.Beta(0.9, 2.2, 2.8e7, 4.8e7)\n",
    "dist_E.setDescription([\"E\"])\n",
    "F_para = ot.LogNormalMuSigma(3.0e4, 9.0e3, 15.0e3)  # in N\n",
    "dist_F = ot.ParametrizedDistribution(F_para)\n",
    "dist_F.setDescription([\"F\"])\n",
    "dist_L = ot.Uniform(250.0, 260.0)  # in cm\n",
    "dist_L.setDescription([\"L\"])\n",
    "dist_I = ot.Beta(2.5, 1.5, 310.0, 450.0)  # in cm^4\n",
    "dist_I.setDescription([\"I\"])"
   ]
  },
  {
   "cell_type": "code",
   "execution_count": 3,
   "metadata": {},
   "outputs": [],
   "source": [
    "distcoll = [dist_E, dist_F, dist_L, dist_I]\n",
    "X = ot.ComposedDistribution(distcoll)"
   ]
  },
  {
   "cell_type": "code",
   "execution_count": 4,
   "metadata": {},
   "outputs": [],
   "source": [
    "g = ot.SymbolicFunction([\"E\", \"F\", \"L\", \"I\"], [\"F* L^3 /  (3 * E * I)\"])\n",
    "g.setOutputDescription([\"Y (cm)\"])"
   ]
  },
  {
   "cell_type": "code",
   "execution_count": 5,
   "metadata": {},
   "outputs": [],
   "source": [
    "g = ot.MemoizeFunction(g)"
   ]
  },
  {
   "cell_type": "code",
   "execution_count": 6,
   "metadata": {},
   "outputs": [],
   "source": [
    "XRV = ot.RandomVector(X)\n",
    "Y = ot.CompositeRandomVector(g, XRV)\n",
    "Y.setDescription([\"Y (cm)\"])"
   ]
  },
  {
   "cell_type": "markdown",
   "metadata": {},
   "source": [
    "## Par développement de Taylor"
   ]
  },
  {
   "cell_type": "code",
   "execution_count": 7,
   "metadata": {},
   "outputs": [],
   "source": [
    "taylor = ot.TaylorExpansionMoments(Y)"
   ]
  },
  {
   "cell_type": "code",
   "execution_count": 8,
   "metadata": {},
   "outputs": [
    {
     "data": {
      "text/plain": [
       "12.339109534783237"
      ]
     },
     "execution_count": 8,
     "metadata": {},
     "output_type": "execute_result"
    }
   ],
   "source": [
    "taylor.getMeanFirstOrder()[0]"
   ]
  },
  {
   "cell_type": "code",
   "execution_count": 9,
   "metadata": {},
   "outputs": [
    {
     "data": {
      "text/plain": [
       "12.63262216382261"
      ]
     },
     "execution_count": 9,
     "metadata": {},
     "output_type": "execute_result"
    }
   ],
   "source": [
    "taylor.getMeanSecondOrder()[0]"
   ]
  },
  {
   "cell_type": "code",
   "execution_count": 10,
   "metadata": {},
   "outputs": [
    {
     "data": {
      "text/plain": [
       "17.441552823530664"
      ]
     },
     "execution_count": 10,
     "metadata": {},
     "output_type": "execute_result"
    }
   ],
   "source": [
    "taylor.getCovariance()[0, 0]"
   ]
  },
  {
   "cell_type": "code",
   "execution_count": 11,
   "metadata": {},
   "outputs": [
    {
     "data": {
      "text/plain": [
       "4.176308516325232"
      ]
     },
     "execution_count": 11,
     "metadata": {},
     "output_type": "execute_result"
    }
   ],
   "source": [
    "np.sqrt(taylor.getCovariance()[0, 0])"
   ]
  },
  {
   "cell_type": "code",
   "execution_count": 12,
   "metadata": {},
   "outputs": [
    {
     "data": {
      "text/html": [
       "<p>[E : 0.153533, F : 0.785641, L : 0.0100685, I : 0.050758]</p>"
      ],
      "text/plain": [
       "class=PointWithDescription name=Unnamed dimension=4 description=[E,F,L,I] values=[0.153533,0.785641,0.0100685,0.050758]"
      ]
     },
     "execution_count": 12,
     "metadata": {},
     "output_type": "execute_result"
    }
   ],
   "source": [
    "importancefactors = taylor.getImportanceFactors()\n",
    "importancefactors"
   ]
  },
  {
   "cell_type": "code",
   "execution_count": 13,
   "metadata": {},
   "outputs": [
    {
     "data": {
      "image/png": "[encoded data removed]",
      "text/plain": [
       "<Figure size 288x216 with 1 Axes>"
      ]
     },
     "metadata": {},
     "output_type": "display_data"
    }
   ],
   "source": [
    "graph = taylor.drawImportanceFactors()\n",
    "view = otv.View(graph, figure_kw={\"figsize\": (4.0, 3.0)})"
   ]
  },
  {
   "cell_type": "markdown",
   "metadata": {},
   "source": [
    "## Par Monte-Carlo simple avec un budget fixé"
   ]
  },
  {
   "cell_type": "code",
   "execution_count": 14,
   "metadata": {},
   "outputs": [
    {
     "data": {
      "image/png": "[encoded data removed]",
      "text/plain": [
       "<Figure size 288x216 with 1 Axes>"
      ]
     },
     "metadata": {
      "needs_background": "light"
     },
     "output_type": "display_data"
    }
   ],
   "source": [
    "n = 10000\n",
    "\n",
    "Ysample = Y.getSample(n)\n",
    "\n",
    "graph = ot.HistogramFactory().build(Ysample).drawPDF()\n",
    "graph.setTitle(\"Monte-Carlo, n=%d\" % (n))\n",
    "graph.setXTitle(\"Y (cm)\")\n",
    "graph.setLegends([\"\"])\n",
    "view = otv.View(graph, figure_kw={\"figsize\": (4.0, 3.0)})"
   ]
  },
  {
   "cell_type": "code",
   "execution_count": 15,
   "metadata": {},
   "outputs": [
    {
     "data": {
      "text/plain": [
       "12.621487871354088"
      ]
     },
     "execution_count": 15,
     "metadata": {},
     "output_type": "execute_result"
    }
   ],
   "source": [
    "Ysample.computeMean()[0]"
   ]
  },
  {
   "cell_type": "code",
   "execution_count": 16,
   "metadata": {},
   "outputs": [
    {
     "data": {
      "text/plain": [
       "18.674969862361277"
      ]
     },
     "execution_count": 16,
     "metadata": {},
     "output_type": "execute_result"
    }
   ],
   "source": [
    "Ysample.computeVariance()[0]"
   ]
  },
  {
   "cell_type": "code",
   "execution_count": 17,
   "metadata": {},
   "outputs": [
    {
     "data": {
      "text/plain": [
       "4.321454600289268"
      ]
     },
     "execution_count": 17,
     "metadata": {},
     "output_type": "execute_result"
    }
   ],
   "source": [
    "Ysample.computeStandardDeviation()[0]"
   ]
  },
  {
   "cell_type": "markdown",
   "metadata": {},
   "source": [
    "## Par Monte-Carlo simple avec un algorithme itératif\n"
   ]
  },
  {
   "cell_type": "code",
   "execution_count": 18,
   "metadata": {},
   "outputs": [],
   "source": [
    "g.clearHistory()"
   ]
  },
  {
   "cell_type": "code",
   "execution_count": 19,
   "metadata": {},
   "outputs": [],
   "source": [
    "algo = ot.ExpectationSimulationAlgorithm(Y)\n",
    "algo.setMaximumOuterSampling(1000)\n",
    "algo.setBlockSize(10)\n",
    "algo.setMaximumCoefficientOfVariation(0.01)\n",
    "\n",
    "algo.run()\n",
    "\n",
    "result = algo.getResult()"
   ]
  },
  {
   "cell_type": "code",
   "execution_count": 20,
   "metadata": {},
   "outputs": [
    {
     "name": "stdout",
     "output_type": "stream",
     "text": [
      "Number of iterations = 118\n"
     ]
    }
   ],
   "source": [
    "outerSampleSize = result.getOuterSampling()\n",
    "print(\"Number of iterations = %d\" % (outerSampleSize))"
   ]
  },
  {
   "cell_type": "code",
   "execution_count": 21,
   "metadata": {},
   "outputs": [
    {
     "name": "stdout",
     "output_type": "stream",
     "text": [
      "Mean = 12.730356 \n",
      "Number of calls to G = 1180\n",
      "Coef. of var.=0.009962\n"
     ]
    }
   ],
   "source": [
    "expectation = result.getExpectationEstimate()\n",
    "print(\"Mean = %f \" % expectation[0])\n",
    "blocksize = result.getBlockSize()\n",
    "sampleSize = outerSampleSize * blocksize\n",
    "print(\"Number of calls to G = %d\" % (sampleSize))\n",
    "cv = result.getCoefficientOfVariation()[0]\n",
    "print(\"Coef. of var.=%.6f\" % (cv))"
   ]
  },
  {
   "cell_type": "code",
   "execution_count": 22,
   "metadata": {
    "scrolled": true
   },
   "outputs": [
    {
     "name": "stdout",
     "output_type": "stream",
     "text": [
      "Normal(mu = 12.7304, sigma = 0.126824)\n"
     ]
    },
    {
     "data": {
      "image/png": "[encoded data removed]",
      "text/plain": [
       "<Figure size 288x216 with 1 Axes>"
      ]
     },
     "metadata": {
      "needs_background": "light"
     },
     "output_type": "display_data"
    }
   ],
   "source": [
    "expectationDistribution = result.getExpectationDistribution()\n",
    "expectationDistribution.setDescription([\"Estimation de la moyenne de Y\"])\n",
    "print(expectationDistribution)\n",
    "graph = expectationDistribution.drawPDF()\n",
    "view = otv.View(graph, figure_kw={\"figsize\": (4.0, 3.0)})"
   ]
  },
  {
   "cell_type": "code",
   "execution_count": 23,
   "metadata": {},
   "outputs": [
    {
     "name": "stdout",
     "output_type": "stream",
     "text": [
      "Variance = 18.9955\n"
     ]
    }
   ],
   "source": [
    "Ysample = g.getOutputHistory()\n",
    "sampleSize = Ysample.getSize()\n",
    "print(\"Variance = %.4f\" % (Ysample.computeVariance()[0]))"
   ]
  },
  {
   "cell_type": "code",
   "execution_count": 24,
   "metadata": {
    "scrolled": true
   },
   "outputs": [
    {
     "data": {
      "image/png": "[encoded data removed]",
      "text/plain": [
       "<Figure size 288x216 with 1 Axes>"
      ]
     },
     "metadata": {
      "needs_background": "light"
     },
     "output_type": "display_data"
    }
   ],
   "source": [
    "graph = ot.HistogramFactory().build(Ysample).drawPDF()\n",
    "graph.setTitle(\"Monte-Carlo, n=%d\" % (sampleSize))\n",
    "graph.setXTitle(\"Y (cm)\")\n",
    "graph.setLegends([\"\"])\n",
    "view = otv.View(graph, figure_kw={\"figsize\": (4.0, 3.0)})"
   ]
  },
  {
   "cell_type": "markdown",
   "metadata": {},
   "source": [
    "## Exercice 1 : vérifications du développement de Taylor\n",
    "\n",
    "L'objectif de cet exercice est de vérifier que les méthodes de la librairie coïncident avec les formules que nous avons présenté précédemment pour l'estimation de moments par développement de Taylor.\n",
    "- Utiliser la méthode `getMean` de la variable `X` pour créer la variable `muX` contenant le point moyen $\\mu$ du vecteur aléatoire en entrée.\n",
    "- Evaluer le modèle `g` au point `muX` et comparer avec la valeur de retour de la méthode `getMeanFirstOrder`.\n",
    "- Utiliser la méthode `gradient` de la fonction `g` pour créer la variable `gradient` contenant la valeur du gradient de la fonction $g$ au point `muX`. \n",
    "- Utiliser la méthode `getCovariance` de la variable `X` pour créer la variable `covX` contenant la matrice de covariance diagonale du vecteur aléatoire en entrée. \n",
    "- Avec une boucle `for`, calculer la variance de la sortie `Y` en utilisant le développement de Taylor à l'ordre 1.\n",
    "Pour cela, vous pourrez vous aider du squelette suivant, dans lequel vous remplacerez les sections *TODO* par du code Python valide.\n",
    "```\n",
    "dim = len(distcoll)\n",
    "v = 0.\n",
    "for i in range(dim):\n",
    "    v = v+TODO\n",
    "```\n",
    "\n",
    "- Comparer le résultat précédent avec la valeur de retour de la méthode `getCovariance`."
   ]
  },
  {
   "cell_type": "markdown",
   "metadata": {},
   "source": [
    "## Solution de l'exercice 1 : vérifications du développement de Taylor"
   ]
  },
  {
   "cell_type": "code",
   "execution_count": 25,
   "metadata": {},
   "outputs": [
    {
     "data": {
      "text/html": [
       "<p>[3.38065e+07,30000,255,397.5]</p>"
      ],
      "text/plain": [
       "class=Point name=Unnamed dimension=4 values=[3.38065e+07,30000,255,397.5]"
      ]
     },
     "execution_count": 25,
     "metadata": {},
     "output_type": "execute_result"
    }
   ],
   "source": [
    "muX = X.getMean()\n",
    "muX"
   ]
  },
  {
   "cell_type": "code",
   "execution_count": 26,
   "metadata": {},
   "outputs": [
    {
     "data": {
      "text/plain": [
       "12.339109534783237"
      ]
     },
     "execution_count": 26,
     "metadata": {},
     "output_type": "execute_result"
    }
   ],
   "source": [
    "muY = g(muX)\n",
    "muY[0]"
   ]
  },
  {
   "cell_type": "code",
   "execution_count": 27,
   "metadata": {},
   "outputs": [
    {
     "data": {
      "text/plain": [
       "12.339109534783237"
      ]
     },
     "execution_count": 27,
     "metadata": {},
     "output_type": "execute_result"
    }
   ],
   "source": [
    "taylor = ot.TaylorExpansionMoments(Y)\n",
    "taylor.getMeanFirstOrder()[0]"
   ]
  },
  {
   "cell_type": "markdown",
   "metadata": {},
   "source": [
    "On observe que la valeur de `muY` coïncide exactement avec $g(\\mu)$."
   ]
  },
  {
   "cell_type": "code",
   "execution_count": 28,
   "metadata": {
    "scrolled": true
   },
   "outputs": [
    {
     "data": {
      "text/html": [
       "<p>[[ -3.64992e-07 ]<br>\n",
       " [  0.000411303 ]<br>\n",
       " [  0.145166    ]<br>\n",
       " [ -0.0310418   ]]</p>"
      ],
      "text/plain": [
       "class=Matrix implementation=class=MatrixImplementation name=Unnamed rows=4 columns=1 values=[-3.64992e-07,0.000411303,0.145166,-0.0310418]"
      ]
     },
     "execution_count": 28,
     "metadata": {},
     "output_type": "execute_result"
    }
   ],
   "source": [
    "gradient = g.gradient(muX)\n",
    "gradient"
   ]
  },
  {
   "cell_type": "code",
   "execution_count": 29,
   "metadata": {},
   "outputs": [
    {
     "data": {
      "text/html": [
       "<p>[[   2.0101e+13   0            0            0          ]<br>\n",
       " [   0            8.1e+07      0            0          ]<br>\n",
       " [   0            0            8.33333      0          ]<br>\n",
       " [   0            0            0          918.75       ]]</p>"
      ],
      "text/plain": [
       "class=CovarianceMatrix dimension=4 implementation=class=MatrixImplementation name=Unnamed rows=4 columns=4 values=[2.0101e+13,0,0,0,0,8.1e+07,0,0,0,0,8.33333,0,0,0,0,918.75]"
      ]
     },
     "execution_count": 29,
     "metadata": {},
     "output_type": "execute_result"
    }
   ],
   "source": [
    "covX = X.getCovariance()\n",
    "covX"
   ]
  },
  {
   "cell_type": "code",
   "execution_count": 30,
   "metadata": {},
   "outputs": [
    {
     "data": {
      "text/plain": [
       "17.441552823530664"
      ]
     },
     "execution_count": 30,
     "metadata": {},
     "output_type": "execute_result"
    }
   ],
   "source": [
    "dim = len(distcoll)\n",
    "v = 0.0\n",
    "for i in range(dim):\n",
    "    v = v + gradient[i, 0] ** 2 * covX[i, i]\n",
    "v"
   ]
  },
  {
   "cell_type": "code",
   "execution_count": 31,
   "metadata": {
    "scrolled": true
   },
   "outputs": [
    {
     "data": {
      "text/plain": [
       "17.441552823530664"
      ]
     },
     "execution_count": 31,
     "metadata": {},
     "output_type": "execute_result"
    }
   ],
   "source": [
    "taylor.getCovariance()[0, 0]"
   ]
  },
  {
   "cell_type": "markdown",
   "metadata": {},
   "source": [
    "## Exercice 2 : loi de la moyenne empirique\n",
    "\n",
    "L'objectif de cet exercice est de vérifier la loi gaussienne de la moyenne empirique indiquée par le T.C.L.. Pour cela, nous considérons un échantillon Monte-Carlo simple de taille $n=100$. Cette faible taille d'échantillon est associée à une variabilité relativement importante de l'estimateur de la moyenne empirique. Puis nous allons réaliser $r$ estimations de la moyenne empirique. Nous allons ensuite comparer la distribution théorique et la distribution empirique. \n",
    "- Créer la variable `n=100`. \n",
    "- Générer un échantillon `Ysample` de taille `n` de la variable de sortie `Y`. Créer la variable `sigma` contenant l'écart-type empirique de cet échantillon. \n",
    "- Créer la variable `r=100`. \n",
    "- Créer la variable `meanSample` de type `Sample` de taille `r` en dimension 1.\n",
    "- Avec une boucle `for` sur l'indice `k`, répéter l'expérience suivante `r` fois. \n",
    "  - Générer un échantillon `Ysample` de taille `n` de la variable de sortie `Y`.\n",
    "  - Stocker dans `meanSample[k,0]` la moyenne empirique de `Ysample`.\n",
    "Pour cela, vous pourrez vous inspirer du squelette suivant, dans lequel vous remplacer les sections *TODO* par du code Python valide.\n",
    "\n",
    "```\n",
    "r = 1000\n",
    "meanSample = ot.Sample(r,1)\n",
    "for k in range(r):\n",
    "    Ysample = TODO\n",
    "    meanSample[k,0] = Ysample.TODO\n",
    "```\n",
    "\n",
    "- Calculer `mu` la moyenne empirique de l'échantillon `meanSample`. \n",
    "- Créer la variable `M` de loi gaussienne de moyenne `mu` et d'écart-type `sigma/sqrt(n)`. \n",
    "- Dessiner l'histogramme empirique de l'échantillon `meanSample`. Dans le même graphique, dessiner la PDF de `M`.\n",
    "\n",
    "- Optionnel : Utiliser la taille d'échantillon `n=400`. Quel est l'impact sur la distribution de la moyenne empirique ?"
   ]
  },
  {
   "cell_type": "markdown",
   "metadata": {},
   "source": [
    "## Solution de l'exercice 2 : loi de la moyenne empirique\n"
   ]
  },
  {
   "cell_type": "code",
   "execution_count": 32,
   "metadata": {},
   "outputs": [
    {
     "data": {
      "text/plain": [
       "5.244036168768047"
      ]
     },
     "execution_count": 32,
     "metadata": {},
     "output_type": "execute_result"
    }
   ],
   "source": [
    "n = 100\n",
    "Ysample = Y.getSample(n)\n",
    "sigma = Ysample.computeStandardDeviation()[0]\n",
    "sigma"
   ]
  },
  {
   "cell_type": "code",
   "execution_count": 33,
   "metadata": {},
   "outputs": [],
   "source": [
    "r = 1000\n",
    "meanSample = ot.Sample(r, 1)\n",
    "for k in range(r):\n",
    "    Ysample = Y.getSample(n)\n",
    "    meanSample[k, 0] = Ysample.computeMean()[0]"
   ]
  },
  {
   "cell_type": "markdown",
   "metadata": {},
   "source": [
    "Nous pourrions utiliser pour `mu` la moyenne empirique de l'échantillon `Ysample`. Si nous le faisons, nous obtenons une distribution gaussienne centrée sur l'estimation à l'itération `k`. En conséquence, l'histogramme empirique des moyennes empiriques se trouve décalé par rapport à la loi gaussienne centrée sur une seule estimation. Dans le but de pouvoir comparer les variances de l'histogramme et de la loi gaussienne de manière graphique, il est plus commode d'utiliser pour `mu` la moyenne empirique de l'échantillon `meanSample`."
   ]
  },
  {
   "cell_type": "code",
   "execution_count": 34,
   "metadata": {},
   "outputs": [
    {
     "data": {
      "text/plain": [
       "12.605146792900547"
      ]
     },
     "execution_count": 34,
     "metadata": {},
     "output_type": "execute_result"
    }
   ],
   "source": [
    "mu = meanSample.computeMean()[0]\n",
    "mu"
   ]
  },
  {
   "cell_type": "code",
   "execution_count": 35,
   "metadata": {},
   "outputs": [
    {
     "data": {
      "text/html": [
       "<p>Normal(mu = 12.6051, sigma = 0.524404)</p>"
      ],
      "text/plain": [
       "class=Normal name=Normal dimension=1 mean=class=Point name=Unnamed dimension=1 values=[12.6051] sigma=class=Point name=Unnamed dimension=1 values=[0.524404] correlationMatrix=class=CorrelationMatrix dimension=1 implementation=class=MatrixImplementation name=Unnamed rows=1 columns=1 values=[1]"
      ]
     },
     "execution_count": 35,
     "metadata": {},
     "output_type": "execute_result"
    }
   ],
   "source": [
    "M = ot.Normal(mu, sigma / np.sqrt(n))\n",
    "M"
   ]
  },
  {
   "cell_type": "code",
   "execution_count": 36,
   "metadata": {},
   "outputs": [
    {
     "data": {
      "image/png": "[encoded data removed]",
      "text/plain": [
       "<Figure size 288x216 with 1 Axes>"
      ]
     },
     "metadata": {
      "needs_background": "light"
     },
     "output_type": "display_data"
    }
   ],
   "source": [
    "graph = ot.HistogramFactory().build(meanSample).drawPDF()\n",
    "graph.setTitle(\"Monte-Carlo mean sample, n=%d\" % (n))\n",
    "graph.setXTitle(\"Sample Mean(Y)\")\n",
    "graph.setLegends([\"\"])\n",
    "gausspdf = M.drawPDF()\n",
    "gausspdf.setColors([\"blue\"])\n",
    "gausspdf.setLegends([\"N(%.2f,%.2f)\" % (mu, sigma / np.sqrt(n))])\n",
    "graph.add(gausspdf)\n",
    "view = otv.View(graph, figure_kw={\"figsize\": (4.0, 3.0)})"
   ]
  },
  {
   "cell_type": "markdown",
   "metadata": {},
   "source": [
    "On observe que la distribution empirique de la moyenne empirique est proche de la distribution gaussienne.\n",
    "\n",
    "Pour observer l'influence du paramètre $n$, on définit une fonction qui génère un échantillon de moyennes empiriques et retourne cet échantillon, ainsi que la loi gaussienne associée."
   ]
  },
  {
   "cell_type": "code",
   "execution_count": 37,
   "metadata": {},
   "outputs": [],
   "source": [
    "def resampleMean(n, r):\n",
    "    meanSample = ot.Sample(r, 1)\n",
    "    for k in range(r):\n",
    "        Ysample = Y.getSample(n)\n",
    "        meanSample[k, 0] = Ysample.computeMean()[0]\n",
    "    return meanSample"
   ]
  },
  {
   "cell_type": "code",
   "execution_count": 38,
   "metadata": {},
   "outputs": [],
   "source": [
    "meanSample100 = resampleMean(100, r)\n",
    "meanSample400 = resampleMean(400, r)"
   ]
  },
  {
   "cell_type": "code",
   "execution_count": 39,
   "metadata": {},
   "outputs": [
    {
     "data": {
      "image/png": "[encoded data removed]",
      "text/plain": [
       "<Figure size 288x216 with 1 Axes>"
      ]
     },
     "metadata": {
      "needs_background": "light"
     },
     "output_type": "display_data"
    }
   ],
   "source": [
    "graph = ot.HistogramFactory().build(meanSample100).drawPDF()\n",
    "graph.setTitle(\"\")\n",
    "graph.setXTitle(\"Y Sample Mean\")\n",
    "graph.setColors([\"red\"])\n",
    "graph.setLegends([\"n=100\"])\n",
    "graph400 = ot.HistogramFactory().build(meanSample400).drawPDF()\n",
    "graph400.setColors([\"blue\"])\n",
    "graph400.setLegends([\"n=400\"])\n",
    "graph.add(graph400)\n",
    "view = otv.View(graph, figure_kw={\"figsize\": (4.0, 3.0)})"
   ]
  },
  {
   "cell_type": "markdown",
   "metadata": {},
   "source": [
    "On observe que la distribution de la moyenne empirique est plus resserrée avec $n=400$. C'est le résultat attendu, puisque la variance de l'estimateur de la moyenne empirique est divisé par 4 lorsqu'on passe d'un échantillon de taille $n=100$ à un échantillon de taille $n=400$."
   ]
  },
  {
   "cell_type": "markdown",
   "metadata": {},
   "source": [
    "## Exercice 3 : fixer une variable\n",
    "\n",
    "On observe que le facteur d'importance associé à la variable $L$ est égal à 0.0100. Cela implique que, si on fixe cette variable à sa valeur moyenne, alors la variance va être peu modifiée. L'objectif de cet exercice est de le vérifier expérimentalement.\n",
    "- Créer la variable `Lmean` contenant la valeur moyenne de la variable `dist_L` associée à $L$ grâce à la méthode `getMean`. \n",
    "- Créer la variable `L_fixed` contenant une distribution de type `Dirac` de paramètre `Lmean`. \n",
    "- Créer la distribution `Xfixed` associée au vecteur aléatoire dont la marginale $L$ est fixée. \n",
    "- Créer la variable `Yfixed` contenant le vecteur aléatoire de sortie associé. \n",
    "- Calculer la moyenne et la variance prédites par le développement de Taylor à l'ordre 1. \n",
    "- Comparer ces résultats avec les résultats du modèle précédent. \n",
    "- La perte de variance correspond-elle à la valeur du facteur d'importance ? Pourquoi ?"
   ]
  },
  {
   "cell_type": "markdown",
   "metadata": {},
   "source": [
    "## Solution de l'exercice 3 : fixer une variable\n",
    "\n",
    "Pour fixer la variable $L$ à sa valeur moyenne, nous utilisons la méthode `getMean`."
   ]
  },
  {
   "cell_type": "code",
   "execution_count": 40,
   "metadata": {
    "scrolled": true
   },
   "outputs": [
    {
     "data": {
      "text/plain": [
       "255.0"
      ]
     },
     "execution_count": 40,
     "metadata": {},
     "output_type": "execute_result"
    }
   ],
   "source": [
    "Lmean = dist_L.getMean()[0]\n",
    "Lmean"
   ]
  },
  {
   "cell_type": "markdown",
   "metadata": {},
   "source": [
    "La distribution de Dirac est une distribution qui permet de fixer une variable à une valeur constante, puisque sa densité de probabilité est infinie en un point, et nulle ailleurs."
   ]
  },
  {
   "cell_type": "code",
   "execution_count": 41,
   "metadata": {},
   "outputs": [],
   "source": [
    "L_fixed = ot.Dirac(Lmean)\n",
    "distcollfixed = [dist_E, dist_F, L_fixed, dist_I]\n",
    "Xfixed = ot.ComposedDistribution(distcollfixed)\n",
    "\n",
    "XRVfixed = ot.RandomVector(Xfixed)\n",
    "Yfixed = ot.CompositeRandomVector(g, XRVfixed)\n",
    "\n",
    "taylorfixed = ot.TaylorExpansionMoments(Yfixed)"
   ]
  },
  {
   "cell_type": "code",
   "execution_count": 42,
   "metadata": {},
   "outputs": [
    {
     "data": {
      "text/plain": [
       "12.339109534783237"
      ]
     },
     "execution_count": 42,
     "metadata": {},
     "output_type": "execute_result"
    }
   ],
   "source": [
    "taylorfixed.getMeanFirstOrder()[0]"
   ]
  },
  {
   "cell_type": "code",
   "execution_count": 43,
   "metadata": {},
   "outputs": [
    {
     "data": {
      "text/plain": [
       "17.265943107139222"
      ]
     },
     "execution_count": 43,
     "metadata": {},
     "output_type": "execute_result"
    }
   ],
   "source": [
    "taylorfixed.getCovariance()[0, 0]"
   ]
  },
  {
   "cell_type": "markdown",
   "metadata": {},
   "source": [
    "La table suivante compare le développement de Taylor lorsque L suit la loi uniforme et lorsque L est fixé à sa valeur moyenne. On observe que la moyenne est inchangée, ce qui est le résultat attendu puisque la moyenne estimée par le développement de Taylor ne dépend pas de la variance du vecteur d'entrée. On observe que la variance a été un peu réduite. \n",
    "\n",
    "| Méthode | Moyenne | Variance |\n",
    "|--|--|--|\n",
    "| Taylor, 1er ordre (E,F,L,I) | 12.33 | 17.44 |\n",
    "| Taylor, 1er ordre (E,F,muL,I) | 12.33 | 17.28 |\n",
    "\n",
    "Le calcul suivant évalue la perte de variance entre le modèle inconditionnel et le modèle conditionné. "
   ]
  },
  {
   "cell_type": "code",
   "execution_count": 44,
   "metadata": {},
   "outputs": [
    {
     "data": {
      "text/plain": [
       "0.17560971639144185"
      ]
     },
     "execution_count": 44,
     "metadata": {},
     "output_type": "execute_result"
    }
   ],
   "source": [
    "taylor.getCovariance()[0, 0] - taylorfixed.getCovariance()[0, 0]"
   ]
  },
  {
   "cell_type": "markdown",
   "metadata": {},
   "source": [
    "Le calcul suivant évalue la perte de variance prédite par le facteur d'importance de la variable $L$. On observe que la perte de variance est supérieure à celle prédite. Cet écart est dû au fait que le modèle $g$ n'est pas parfaitement linéaire dans notre cas particulier, de telle sorte que les dérivées secondes ont une influence significative. Toutefois, le résultat reste pertinent, dans la mesure où le décalage reste modéré. "
   ]
  },
  {
   "cell_type": "code",
   "execution_count": 45,
   "metadata": {},
   "outputs": [
    {
     "data": {
      "text/plain": [
       "0.1756097163914402"
      ]
     },
     "execution_count": 45,
     "metadata": {},
     "output_type": "execute_result"
    }
   ],
   "source": [
    "importancefactors[2] * taylor.getCovariance()[0, 0]"
   ]
  },
  {
   "cell_type": "markdown",
   "metadata": {},
   "source": [
    "## Exercice 4 : développement de Taylor avec dépendance\n",
    "\n",
    "On suppose que le problème est associé à une structure de dépendance gaussienne. Le coefficient de corrélation de Spearman (sur les rangs) est entre la longueur $L$ et le moment d'inertie $I$ est égal à \n",
    "$$\n",
    "\\rho_{rg}(L,I) = -0.2.\n",
    "$$\n",
    "L'objectif de cet exercice est d'observer comment cette dépendance peut affecter les moments estimés par développement de Taylor.\n",
    "\n",
    "- Définir la copule associée à cette nouvelle structure de dépendance. Pour cela, créer la matrice de corrélation sur les rangs `smatrix` avec la classe `CorrelationMatrix`. \n",
    "- Créer la variable `matrix` contenant la matrice de corrélation de Pearson calculée grâce à la fonction `GetCorrelationFromSpearmanCorrelation` et de la matrice `smatrix`.\n",
    "- Créer la variable `copula` contenant la copule gaussienne grâce à la classe `NormalCopula`.\n",
    "- Créer la variable `Xgauss` contenant le vecteur aléatoire en entrée du modèle, puis le vecteur aléatoire de sortie correspondant `Ygauss`.\n",
    "- Utiliser la classe `TaylorExpansionMoments` pour calculer la moyenne, l'écart-type et les facteurs d'importance de la sortie `Y`.\n",
    "- Comparer les résultats numériques avec ceux sans dépendance. Comment expliquer les différences ?"
   ]
  },
  {
   "cell_type": "markdown",
   "metadata": {},
   "source": [
    "## Solution de l'exercice 4 : développement de Taylor avec dépendance"
   ]
  },
  {
   "cell_type": "code",
   "execution_count": 46,
   "metadata": {},
   "outputs": [
    {
     "data": {
      "text/html": [
       "<p>[[  1    0    0    0   ]<br>\n",
       " [  0    1    0    0   ]<br>\n",
       " [  0    0    1   -0.2 ]<br>\n",
       " [  0    0   -0.2  1   ]]</p>"
      ],
      "text/plain": [
       "class=CorrelationMatrix dimension=4 implementation=class=MatrixImplementation name=Unnamed rows=4 columns=4 values=[1,0,0,0,0,1,0,0,0,0,1,-0.2,0,0,-0.2,1]"
      ]
     },
     "execution_count": 46,
     "metadata": {},
     "output_type": "execute_result"
    }
   ],
   "source": [
    "dim = len(distcoll)\n",
    "smatrix = ot.CorrelationMatrix(dim)\n",
    "smatrix[2, 3] = -0.2\n",
    "smatrix"
   ]
  },
  {
   "cell_type": "code",
   "execution_count": 47,
   "metadata": {},
   "outputs": [
    {
     "data": {
      "text/html": [
       "<p>[[  1         0         0         0        ]<br>\n",
       " [  0         1         0         0        ]<br>\n",
       " [  0         0         1        -0.209057 ]<br>\n",
       " [  0         0        -0.209057  1        ]]</p>"
      ],
      "text/plain": [
       "class=CorrelationMatrix dimension=4 implementation=class=MatrixImplementation name=Unnamed rows=4 columns=4 values=[1,0,0,0,0,1,0,0,0,0,1,-0.209057,0,0,-0.209057,1]"
      ]
     },
     "execution_count": 47,
     "metadata": {},
     "output_type": "execute_result"
    }
   ],
   "source": [
    "matrix = ot.NormalCopula.GetCorrelationFromSpearmanCorrelation(smatrix)\n",
    "matrix"
   ]
  },
  {
   "cell_type": "code",
   "execution_count": 48,
   "metadata": {},
   "outputs": [
    {
     "data": {
      "text/html": [
       "<p>NormalCopula(R = [[  1         0         0         0        ]<br>\n",
       " [  0         1         0         0        ]<br>\n",
       " [  0         0         1        -0.209057 ]<br>\n",
       " [  0         0        -0.209057  1        ]])</p>"
      ],
      "text/plain": [
       "class=NormalCopula name=NormalCopula dimension=4 correlation=class=CorrelationMatrix dimension=4 implementation=class=MatrixImplementation name=Unnamed rows=4 columns=4 values=[1,0,0,0,0,1,0,0,0,0,1,-0.209057,0,0,-0.209057,1]"
      ]
     },
     "execution_count": 48,
     "metadata": {},
     "output_type": "execute_result"
    }
   ],
   "source": [
    "copula = ot.NormalCopula(matrix)\n",
    "copula"
   ]
  },
  {
   "cell_type": "code",
   "execution_count": 49,
   "metadata": {},
   "outputs": [],
   "source": [
    "Xgauss = ot.ComposedDistribution(distcoll, copula)\n",
    "XRVgauss = ot.RandomVector(Xgauss)\n",
    "Ygauss = ot.CompositeRandomVector(g, XRVgauss)\n",
    "Ygauss.setDescription([\"Y, gaussien (cm)\"])"
   ]
  },
  {
   "cell_type": "code",
   "execution_count": 50,
   "metadata": {},
   "outputs": [
    {
     "name": "stdout",
     "output_type": "stream",
     "text": [
      "Taylor, Mean, First : 12.3391\n",
      "Taylor, Mean, Second : 12.6390\n",
      "Taylor, Variance : 17.5997\n",
      "Taylor, St.Dev : 4.1952\n"
     ]
    }
   ],
   "source": [
    "taylor = ot.TaylorExpansionMoments(Ygauss)\n",
    "print(\"Taylor, Mean, First : %.4f\" % (taylor.getMeanFirstOrder()[0]))\n",
    "print(\"Taylor, Mean, Second : %.4f\" % (taylor.getMeanSecondOrder()[0]))\n",
    "print(\"Taylor, Variance : %.4f\" % (taylor.getCovariance()[0, 0]))\n",
    "print(\"Taylor, St.Dev : %.4f\" % (np.sqrt(taylor.getCovariance()[0, 0])))"
   ]
  },
  {
   "cell_type": "code",
   "execution_count": 51,
   "metadata": {},
   "outputs": [
    {
     "data": {
      "text/html": [
       "<p>[E : 0.152153, F : 0.778582, L : 0.0144704, I : 0.0547944]</p>"
      ],
      "text/plain": [
       "class=PointWithDescription name=Unnamed dimension=4 description=[E,F,L,I] values=[0.152153,0.778582,0.0144704,0.0547944]"
      ]
     },
     "execution_count": 51,
     "metadata": {},
     "output_type": "execute_result"
    }
   ],
   "source": [
    "taylor.getImportanceFactors()"
   ]
  },
  {
   "cell_type": "markdown",
   "metadata": {},
   "source": [
    "La table suivante permet de comparer les résultats numériques sans et avec dépendance.\n",
    "\n",
    "| Moment | Sans dépendance | Avec dépendance |\n",
    "|--|--|--|\n",
    "| Moyenne, 1er ordre | 12.34 | 12.34 |\n",
    "| Moyenne, 2nd ordre | 12.63 | 12.64 |\n",
    "|Variance|17.44|17.60|\n",
    "|Ecart-type|4.176|4.195|\n",
    "|$\\eta_E$|0.1535|0.1535|\n",
    "|$\\eta_F$|0.7856|0.7856|\n",
    "|$\\eta_L$|0.0100|0.0100|\n",
    "|$\\eta_I$|0.0508|0.0508|\n",
    "\n",
    "Les différences apparaissent dans les estimateurs suivants :\n",
    "- l'estimation de la moyenne au second ordre, car la dépendance intervient en combinaison avec la matrice Hessienne,\n",
    "- la variance, car la dépendance intervient en combinaison avec les dérivées premières.\n",
    "- l'écart-type, car il dépend de la variance.\n",
    "\n",
    "Les résultats suivants sont identiques :\n",
    "- la moyenne au premier ordre, car elle ne dépend que de la fonction $g$ au point $\\mu$,\n",
    "- les facteurs d'importance, car ils ne prennent pas en compte la dépendance.\n"
   ]
  },
  {
   "cell_type": "markdown",
   "metadata": {},
   "source": [
    "## Annexe : calcul de la valeur de référence"
   ]
  },
  {
   "cell_type": "code",
   "execution_count": 52,
   "metadata": {},
   "outputs": [
    {
     "name": "stdout",
     "output_type": "stream",
     "text": [
      "Number of iterations = 100\n",
      "Mean = 12.607727 \n",
      "Number of calls to G = 100000\n",
      "Coef. of var. = 0.001082\n",
      "The probability that the interval [12.581, 12.6345] contains the true mean is equal to 95.00\n"
     ]
    }
   ],
   "source": [
    "algo = ot.ExpectationSimulationAlgorithm(Y)\n",
    "# maximum_outer_sampling = 4000 # For real simulations\n",
    "maximum_outer_sampling = 100\n",
    "algo.setMaximumOuterSampling(maximum_outer_sampling)\n",
    "algo.setBlockSize(1000)\n",
    "algo.setMaximumCoefficientOfVariation(0.0005)\n",
    "\n",
    "algo.run()\n",
    "\n",
    "result = algo.getResult()\n",
    "\n",
    "outerSampleSize = result.getOuterSampling()\n",
    "print(\"Number of iterations = %d\" % (outerSampleSize))\n",
    "\n",
    "expectation = result.getExpectationEstimate()\n",
    "print(\"Mean = %f \" % expectation[0])\n",
    "blocksize = result.getBlockSize()\n",
    "sampleSize = outerSampleSize * blocksize\n",
    "print(\"Number of calls to G = %d\" % (sampleSize))\n",
    "cv = result.getCoefficientOfVariation()[0]\n",
    "print(\"Coef. of var. = %.6f\" % (cv))\n",
    "sample_mean_distribution = result.getExpectationDistribution()\n",
    "alpha = 0.05\n",
    "sample_mean_CI = sample_mean_distribution.computeBilateralConfidenceInterval(\n",
    "    1.0 - alpha\n",
    ")\n",
    "print(\n",
    "    \"The probability that the interval %s\" % (sample_mean_CI),\n",
    "    \"contains the true mean is equal to %.2f\" % (100.0 * (1.0 - alpha)),\n",
    ")"
   ]
  },
  {
   "cell_type": "code",
   "execution_count": null,
   "metadata": {},
   "outputs": [],
   "source": []
  }
 ],
 "metadata": {
  "kernelspec": {
   "display_name": "Python 3 (ipykernel)",
   "language": "python",
   "name": "python3"
  },
  "language_info": {
   "codemirror_mode": {
    "name": "ipython",
    "version": 3
   },
   "file_extension": ".py",
   "mimetype": "text/x-python",
   "name": "python",
   "nbconvert_exporter": "python",
   "pygments_lexer": "ipython3",
   "version": "3.9.0"
  }
 },
 "nbformat": 4,
 "nbformat_minor": 2
}
