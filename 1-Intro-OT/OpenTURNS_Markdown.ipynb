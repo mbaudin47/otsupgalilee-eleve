{
 "cells": [
  {
   "cell_type": "markdown",
   "metadata": {},
   "source": [
    "# Using Markdown with OpenTURNS\n",
    "\n",
    "In this example, we use the Markdown format to pretty-print\n",
    "results from an uncertainty quantification study.\n",
    "We first show how the Markdown function from the IPython module\n",
    "works.\n",
    "Then we show how this can be used within a uncertainty quantification\n",
    "study."
   ]
  },
  {
   "cell_type": "markdown",
   "metadata": {},
   "source": [
    "## References\n",
    "\n",
    "- https://github.com/openturns/openturns/pull/2415"
   ]
  },
  {
   "cell_type": "code",
   "execution_count": 15,
   "metadata": {},
   "outputs": [],
   "source": [
    "from IPython.display import Markdown, HTML\n",
    "import openturns as ot\n",
    "from openturns.usecases import stressed_beam"
   ]
  },
  {
   "cell_type": "code",
   "execution_count": 16,
   "metadata": {},
   "outputs": [
    {
     "data": {
      "text/markdown": [
       "- item\n",
       "- item\n",
       "\n",
       "| Index | Value |\n",
       "|-------|-------|\n",
       "|     0 |     1 |\n",
       "|     1 |     2 |\n",
       "|     2 |     3 |\n",
       "|     3 |     4 |\n",
       "|     4 |     5 |\n",
       "\n"
      ],
      "text/plain": [
       "<IPython.core.display.Markdown object>"
      ]
     },
     "execution_count": 16,
     "metadata": {},
     "output_type": "execute_result"
    }
   ],
   "source": [
    "markdown = \"\"\n",
    "# Itemized list\n",
    "markdown += \"- item\\n\"\n",
    "markdown += \"- item\\n\"\n",
    "markdown += \"\\n\"\n",
    "# Table\n",
    "markdown += \"| Index | Value |\\n\"\n",
    "markdown += \"|-------|-------|\\n\"\n",
    "n = 5\n",
    "for i in range(n):\n",
    "    markdown += \"| %5s | %5s |\\n\" % (i, 1 + i)\n",
    "markdown += \"\\n\"\n",
    "Markdown(markdown)"
   ]
  },
  {
   "cell_type": "markdown",
   "metadata": {},
   "source": [
    "## Format a reliability study\n",
    "\n",
    "In this section, we format the results of a reliability study.\n",
    "Before doing this, we must see that the library already provides\n",
    "pretty-print features which can be accessed through various\n",
    "objects.\n",
    "The most simple pretty-print feature is given by the\n",
    "`Sample`.\n"
   ]
  },
  {
   "cell_type": "code",
   "execution_count": 17,
   "metadata": {},
   "outputs": [
    {
     "data": {
      "text/html": [
       "<table>\n",
       "  <tr><td></td><th>v0</th><th>v1</th><th>v2</th></tr>\n",
       "  <tr><th>0</th><td>0</td><td>0</td><td>0</td></tr>\n",
       "  <tr><th>1</th><td>0</td><td>0</td><td>0</td></tr>\n",
       "  <tr><th>2</th><td>0</td><td>0</td><td>0</td></tr>\n",
       "  <tr><th>3</th><td>0</td><td>0</td><td>0</td></tr>\n",
       "  <tr><th>4</th><td>0</td><td>0</td><td>0</td></tr>\n",
       "</table>"
      ],
      "text/plain": [
       "class=Sample name=Unnamed implementation=class=SampleImplementation name=Unnamed size=5 dimension=3 data=[[0,0,0],[0,0,0],[0,0,0],[0,0,0],[0,0,0]]"
      ]
     },
     "execution_count": 17,
     "metadata": {},
     "output_type": "execute_result"
    }
   ],
   "source": [
    "data = ot.Sample(5, 3)\n",
    "data"
   ]
  },
  {
   "cell_type": "markdown",
   "metadata": {},
   "source": [
    "\n",
    "This can be convenient to format any result that can be\n",
    "stored within a `Sample`, i.e. any data set that\n",
    "has the shape of an array of floats.\n",
    "There are, however, situations where this framework is not\n",
    "general enough.\n",
    "For example, we may want to print strings, integers,\n",
    "lists of strings or list of integers (e.g. :class:`~openturns.Indices`)\n",
    "and these data types cannot be stored in a `Sample`.\n",
    "In the next example, we want to print an interval: this cannot\n",
    "be done easily using the `Sample` class.\n",
    "We could, of course, print the lower and upper bounds\n",
    "into two different columns of the array, but this is less\n",
    "straightforward to understand as an interval.\n",
    "\n",
    "The next function performs a reliability study based on the\n",
    "stressed beam.\n",
    "Given the number of outer loops, the maximum coefficient of variation\n",
    "and the block size, the function returns the result of the probability\n",
    "simulation algorithm.\n",
    "The function uses a Monte-Carlo experiment.\n",
    "\n"
   ]
  },
  {
   "cell_type": "code",
   "execution_count": 18,
   "metadata": {},
   "outputs": [],
   "source": [
    "def computeReliabilityResult(maximumOuterSamplingSize, maximumCoV, blockSize=1):\n",
    "    sm = stressed_beam.AxialStressedBeam()\n",
    "    limitStateFunction = sm.model\n",
    "    inputRandomVector = ot.RandomVector(sm.distribution)\n",
    "    outputRandomVector = ot.CompositeRandomVector(limitStateFunction, inputRandomVector)\n",
    "    myEvent = ot.ThresholdEvent(outputRandomVector, ot.Less(), 0.0)\n",
    "    experiment = ot.MonteCarloExperiment()\n",
    "    algoMC = ot.ProbabilitySimulationAlgorithm(myEvent, experiment)\n",
    "    algoMC.setMaximumOuterSampling(maximumOuterSamplingSize)\n",
    "    algoMC.setBlockSize(blockSize)\n",
    "    algoMC.setMaximumCoefficientOfVariation(maximumCoV)\n",
    "    algoMC.run()\n",
    "    psaResult = algoMC.getResult()\n",
    "    return psaResult"
   ]
  },
  {
   "cell_type": "markdown",
   "metadata": {},
   "source": [
    "Use the function.\n"
   ]
  },
  {
   "cell_type": "code",
   "execution_count": 19,
   "metadata": {},
   "outputs": [
    {
     "data": {
      "text/html": [
       "<p>probabilityEstimate=3.000000e-02 varianceEstimate=2.910000e-04 standard deviation=1.71e-02 coefficient of variation=5.69e-01 confidenceLength(0.95)=6.69e-02 outerSampling=100 blockSize=1</p>"
      ],
      "text/plain": [
       "probabilityEstimate=3.000000e-02 varianceEstimate=2.910000e-04 standard deviation=1.71e-02 coefficient of variation=5.69e-01 confidenceLength(0.95)=6.69e-02 outerSampling=100 blockSize=1"
      ]
     },
     "execution_count": 19,
     "metadata": {},
     "output_type": "execute_result"
    }
   ],
   "source": [
    "maximumOuterSamplingSize = 100\n",
    "maximumCoV = 0.0\n",
    "psaResult = computeReliabilityResult(maximumOuterSamplingSize, maximumCoV)\n",
    "psaResult"
   ]
  },
  {
   "cell_type": "markdown",
   "metadata": {},
   "source": [
    "We increase the sample size and compute the\n",
    "probability estimate and the corresponding confidence interval.\n",
    "The output of this algorithm is a `markdown` string which contains\n",
    "the results inside a Markdown table."
   ]
  },
  {
   "cell_type": "code",
   "execution_count": 20,
   "metadata": {},
   "outputs": [
    {
     "name": "stdout",
     "output_type": "stream",
     "text": [
      "| n | Pf | 95%  C.I. |\n",
      "|---|----|--------------|\n",
      "|     4 | 0.000e+00 | [ 0.000e+00,  0.000e+00] |\n",
      "|     8 | 0.000e+00 | [ 0.000e+00,  0.000e+00] |\n",
      "|    16 | 0.000e+00 | [ 0.000e+00,  0.000e+00] |\n",
      "|    32 | 9.375e-02 | [-7.241e-03,  1.947e-01] |\n",
      "|    64 | 4.687e-02 | [-4.910e-03,  9.866e-02] |\n",
      "|   128 | 7.812e-03 | [-7.440e-03,  2.306e-02] |\n",
      "|   256 | 3.125e-02 | [ 9.936e-03,  5.256e-02] |\n",
      "|   512 | 2.734e-02 | [ 1.322e-02,  4.147e-02] |\n",
      "|  1024 | 2.930e-02 | [ 1.897e-02,  3.963e-02] |\n",
      "|  2048 | 2.832e-02 | [ 2.114e-02,  3.550e-02] |\n",
      "\n"
     ]
    }
   ],
   "source": [
    "sampleSizeList = []\n",
    "numberOfRepetitions = 10\n",
    "sampleSizeFactor = 2\n",
    "alpha = 0.05\n",
    "maximumOuterSamplingSize = 2\n",
    "markdown = \"\"\n",
    "markdown += \"| n | Pf | %.0f%%  C.I. |\\n\" % (100 * (1.0 - alpha))\n",
    "markdown += \"|---|----|--------------|\\n\"\n",
    "for i in range(numberOfRepetitions):\n",
    "    maximumOuterSamplingSize *= sampleSizeFactor\n",
    "    psaResult = computeReliabilityResult(maximumOuterSamplingSize, maximumCoV)\n",
    "    probability = psaResult.getProbabilityEstimate()\n",
    "    pflen = psaResult.getConfidenceLength(1 - alpha)\n",
    "    pfLower = probability - pflen / 2\n",
    "    pfUpper = probability + pflen / 2\n",
    "    markdown += \"| %5d | %.3e | [%10.3e, %10.3e] |\\n\" % (\n",
    "        maximumOuterSamplingSize,\n",
    "        probability,\n",
    "        pfLower,\n",
    "        pfUpper,\n",
    "    )\n",
    "print(markdown)"
   ]
  },
  {
   "cell_type": "code",
   "execution_count": 21,
   "metadata": {},
   "outputs": [
    {
     "data": {
      "text/markdown": [
       "| n | Pf | 95%  C.I. |\n",
       "|---|----|--------------|\n",
       "|     4 | 0.000e+00 | [ 0.000e+00,  0.000e+00] |\n",
       "|     8 | 0.000e+00 | [ 0.000e+00,  0.000e+00] |\n",
       "|    16 | 0.000e+00 | [ 0.000e+00,  0.000e+00] |\n",
       "|    32 | 9.375e-02 | [-7.241e-03,  1.947e-01] |\n",
       "|    64 | 4.687e-02 | [-4.910e-03,  9.866e-02] |\n",
       "|   128 | 7.812e-03 | [-7.440e-03,  2.306e-02] |\n",
       "|   256 | 3.125e-02 | [ 9.936e-03,  5.256e-02] |\n",
       "|   512 | 2.734e-02 | [ 1.322e-02,  4.147e-02] |\n",
       "|  1024 | 2.930e-02 | [ 1.897e-02,  3.963e-02] |\n",
       "|  2048 | 2.832e-02 | [ 2.114e-02,  3.550e-02] |\n"
      ],
      "text/plain": [
       "<IPython.core.display.Markdown object>"
      ]
     },
     "execution_count": 21,
     "metadata": {},
     "output_type": "execute_result"
    }
   ],
   "source": [
    "# %%\n",
    "# Pretty-print\n",
    "Markdown(markdown)"
   ]
  },
  {
   "cell_type": "code",
   "execution_count": 22,
   "metadata": {},
   "outputs": [
    {
     "name": "stdout",
     "output_type": "stream",
     "text": [
      "<table>\n",
      "  <tr>\n",
      "    <th> n </th>\n",
      "    <th> Pf </th>\n",
      "    <th> 95%  C.I. </th>\n",
      "  </tr>\n",
      "  <tr>\n",
      "    <td> 4 </td>\n",
      "    <td> 0.000e+00 </td>\n",
      "    <td> [ 0.000e+00,  0.000e+00] </td>\n",
      "  <tr>\n",
      "  <tr>\n",
      "    <td> 8 </td>\n",
      "    <td> 0.000e+00 </td>\n",
      "    <td> [ 0.000e+00,  0.000e+00] </td>\n",
      "  <tr>\n",
      "  <tr>\n",
      "    <td> 16 </td>\n",
      "    <td> 0.000e+00 </td>\n",
      "    <td> [ 0.000e+00,  0.000e+00] </td>\n",
      "  <tr>\n",
      "  <tr>\n",
      "    <td> 32 </td>\n",
      "    <td> 3.125e-02 </td>\n",
      "    <td> [-2.903e-02,  9.153e-02] </td>\n",
      "  <tr>\n",
      "  <tr>\n",
      "    <td> 64 </td>\n",
      "    <td> 3.125e-02 </td>\n",
      "    <td> [-1.138e-02,  7.388e-02] </td>\n",
      "  <tr>\n",
      "  <tr>\n",
      "    <td> 128 </td>\n",
      "    <td> 3.125e-02 </td>\n",
      "    <td> [ 1.108e-03,  6.139e-02] </td>\n",
      "  <tr>\n",
      "  <tr>\n",
      "    <td> 256 </td>\n",
      "    <td> 4.297e-02 </td>\n",
      "    <td> [ 1.813e-02,  6.781e-02] </td>\n",
      "  <tr>\n",
      "  <tr>\n",
      "    <td> 512 </td>\n",
      "    <td> 9.766e-03 </td>\n",
      "    <td> [ 1.248e-03,  1.828e-02] </td>\n",
      "  <tr>\n",
      "  <tr>\n",
      "    <td> 1024 </td>\n",
      "    <td> 1.562e-02 </td>\n",
      "    <td> [ 8.029e-03,  2.322e-02] </td>\n",
      "  <tr>\n",
      "  <tr>\n",
      "    <td> 2048 </td>\n",
      "    <td> 2.588e-02 </td>\n",
      "    <td> [ 1.900e-02,  3.276e-02] </td>\n",
      "  <tr>\n",
      "</table>\n",
      "\n"
     ]
    }
   ],
   "source": [
    "# %%\n",
    "# HTML\n",
    "sampleSizeList = []\n",
    "numberOfRepetitions = 10\n",
    "sampleSizeFactor = 2\n",
    "alpha = 0.05\n",
    "maximumOuterSamplingSize = 2\n",
    "html = \"<table>\\n\"\n",
    "html += \"  <tr>\\n\"\n",
    "html += \"    <th> n </th>\\n\"\n",
    "html += \"    <th> Pf </th>\\n\"\n",
    "html += \"    <th> %.0f%%  C.I. </th>\\n\" % (100 * (1.0 - alpha))\n",
    "html += \"  </tr>\\n\"\n",
    "for i in range(numberOfRepetitions):\n",
    "    maximumOuterSamplingSize *= sampleSizeFactor\n",
    "    psaResult = computeReliabilityResult(maximumOuterSamplingSize, maximumCoV)\n",
    "    probability = psaResult.getProbabilityEstimate()\n",
    "    pflen = psaResult.getConfidenceLength(1 - alpha)\n",
    "    pfLower = probability - pflen / 2\n",
    "    pfUpper = probability + pflen / 2\n",
    "    html += \"  <tr>\\n\"\n",
    "    html += f\"    <td> {maximumOuterSamplingSize} </td>\\n\"\n",
    "    html += f\"    <td> {probability:.3e} </td>\\n\"\n",
    "    html += f\"    <td> [{pfLower:10.3e}, {pfUpper:10.3e}] </td>\\n\"\n",
    "    html += \"  <tr>\\n\"\n",
    "html += \"</table>\\n\"\n",
    "print(html)"
   ]
  },
  {
   "cell_type": "code",
   "execution_count": 23,
   "metadata": {},
   "outputs": [
    {
     "data": {
      "text/html": [
       "<table>\n",
       "  <tr>\n",
       "    <th> n </th>\n",
       "    <th> Pf </th>\n",
       "    <th> 95%  C.I. </th>\n",
       "  </tr>\n",
       "  <tr>\n",
       "    <td> 4 </td>\n",
       "    <td> 0.000e+00 </td>\n",
       "    <td> [ 0.000e+00,  0.000e+00] </td>\n",
       "  <tr>\n",
       "  <tr>\n",
       "    <td> 8 </td>\n",
       "    <td> 0.000e+00 </td>\n",
       "    <td> [ 0.000e+00,  0.000e+00] </td>\n",
       "  <tr>\n",
       "  <tr>\n",
       "    <td> 16 </td>\n",
       "    <td> 0.000e+00 </td>\n",
       "    <td> [ 0.000e+00,  0.000e+00] </td>\n",
       "  <tr>\n",
       "  <tr>\n",
       "    <td> 32 </td>\n",
       "    <td> 3.125e-02 </td>\n",
       "    <td> [-2.903e-02,  9.153e-02] </td>\n",
       "  <tr>\n",
       "  <tr>\n",
       "    <td> 64 </td>\n",
       "    <td> 3.125e-02 </td>\n",
       "    <td> [-1.138e-02,  7.388e-02] </td>\n",
       "  <tr>\n",
       "  <tr>\n",
       "    <td> 128 </td>\n",
       "    <td> 3.125e-02 </td>\n",
       "    <td> [ 1.108e-03,  6.139e-02] </td>\n",
       "  <tr>\n",
       "  <tr>\n",
       "    <td> 256 </td>\n",
       "    <td> 4.297e-02 </td>\n",
       "    <td> [ 1.813e-02,  6.781e-02] </td>\n",
       "  <tr>\n",
       "  <tr>\n",
       "    <td> 512 </td>\n",
       "    <td> 9.766e-03 </td>\n",
       "    <td> [ 1.248e-03,  1.828e-02] </td>\n",
       "  <tr>\n",
       "  <tr>\n",
       "    <td> 1024 </td>\n",
       "    <td> 1.562e-02 </td>\n",
       "    <td> [ 8.029e-03,  2.322e-02] </td>\n",
       "  <tr>\n",
       "  <tr>\n",
       "    <td> 2048 </td>\n",
       "    <td> 2.588e-02 </td>\n",
       "    <td> [ 1.900e-02,  3.276e-02] </td>\n",
       "  <tr>\n",
       "</table>\n"
      ],
      "text/plain": [
       "<IPython.core.display.HTML object>"
      ]
     },
     "execution_count": 23,
     "metadata": {},
     "output_type": "execute_result"
    }
   ],
   "source": [
    "# %%\n",
    "# Pretty-print\n",
    "HTML(html)"
   ]
  },
  {
   "cell_type": "code",
   "execution_count": null,
   "metadata": {},
   "outputs": [],
   "source": []
  }
 ],
 "metadata": {
  "kernelspec": {
   "display_name": "otsupgalilee2023",
   "language": "python",
   "name": "python3"
  },
  "language_info": {
   "codemirror_mode": {
    "name": "ipython",
    "version": 3
   },
   "file_extension": ".py",
   "mimetype": "text/x-python",
   "name": "python",
   "nbconvert_exporter": "python",
   "pygments_lexer": "ipython3",
   "version": "3.11.0"
  },
  "orig_nbformat": 4
 },
 "nbformat": 4,
 "nbformat_minor": 2
}
