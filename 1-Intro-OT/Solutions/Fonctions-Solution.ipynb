{
 "cells": [
  {
   "cell_type": "markdown",
   "metadata": {},
   "source": [
    "# Fonction Python et symbolique"
   ]
  },
  {
   "cell_type": "code",
   "execution_count": 1,
   "metadata": {},
   "outputs": [],
   "source": [
    "import openturns as ot"
   ]
  },
  {
   "cell_type": "markdown",
   "metadata": {},
   "source": [
    "### Exercice 1 : une fonction avec 4 entrées\n",
    "\n",
    "On considère un nouveau modèle, avec une nouvelle variable de sortie\n",
    "Y3 et une nouvelle variable d’entrée X4 :\n",
    "$$\n",
    "\\begin{eqnarray}\n",
    "Y_1 &=& X_1 + X_2 + X_3 \\\\\n",
    "Y_2 &=& X_1 - X_2 X_3 \\\\\n",
    "Y_3 &=& 2 X_1 + 3 X_2 + 4 X_4\n",
    "\\end{eqnarray}\n",
    "$$\n",
    "\n",
    "**Questions**\n",
    "* Modifier la fonction Python pour simuler le nouveau modèle.\n",
    "* Ajouter une nouvelle variable X4 de loi normale standard dans le modèle probabiliste.\n",
    "* Estimer la moyenne de la sortie par Monte-Carlo simple."
   ]
  },
  {
   "cell_type": "markdown",
   "metadata": {},
   "source": [
    "### Solution de l'exercice 1 :  une fonction avec 4 entrées\n"
   ]
  },
  {
   "cell_type": "code",
   "execution_count": 2,
   "metadata": {
    "scrolled": true
   },
   "outputs": [],
   "source": [
    "def mySimulator(x):\n",
    "    y0=x[0]+x[1]+x[2]\n",
    "    y1=x[0]-x[1]*x[2]\n",
    "    y2=2*x[0]+3*x[1]+4*x[3]\n",
    "    y=[y0,y1,y2]\n",
    "    return y"
   ]
  },
  {
   "cell_type": "code",
   "execution_count": 3,
   "metadata": {},
   "outputs": [],
   "source": [
    "myfunction = ot.PythonFunction(4,3,mySimulator)\n",
    "# Create the marginal distributions\n",
    "X0 = ot.Normal(0.,1.)\n",
    "X1 = ot.Normal(0.,1.)\n",
    "X2 = ot.Normal(0.,1.)\n",
    "X3 = ot.Normal(0.,1.)\n",
    "# Create the input probability distribution\n",
    "inputDistribution = ot.ComposedDistribution((X0,X1,X2,X3))\n",
    "# Create the input random vector\n",
    "inputRandomVector = ot.RandomVector(inputDistribution)\n",
    "# Create the output variable of interest\n",
    "outputVariableOfInterest =  ot.CompositeRandomVector(myfunction, inputRandomVector)"
   ]
  },
  {
   "cell_type": "code",
   "execution_count": 4,
   "metadata": {},
   "outputs": [
    {
     "data": {
      "text/html": [
       "<p>[-0.0166778,-0.0123527,-0.0277928]</p>"
      ],
      "text/plain": [
       "class=Point name=Unnamed dimension=3 values=[-0.0166778,-0.0123527,-0.0277928]"
      ]
     },
     "execution_count": 4,
     "metadata": {},
     "output_type": "execute_result"
    }
   ],
   "source": [
    "# Probabilistic Study: central dispersion\n",
    "montecarlosize = 10000\n",
    "# Start the simulations\n",
    "outputSample = outputVariableOfInterest.getSample(montecarlosize)\n",
    "# Get the empirical mean and standard deviations\n",
    "outputSample.computeMean()"
   ]
  },
  {
   "cell_type": "markdown",
   "metadata": {},
   "source": [
    "### Exercice 2 : gradient d'une fonction Python\n",
    "\n",
    "OT peut calculer la dérivée approchée d’une fonction Python par différences finies. On peut paramétrer la formule de différence utilisée, ainsi que le pas de différenciation de cette formule. De plus, lorsque la matrice Jacobienne est implémentée dans une fonction Python, on peut transmettre cette fonction à OpenTURNS pour qu'il l'utilise.\n",
    "\n",
    "**Questions**\n",
    "* Définir la fonction `myfunction` comme dans le sujet, c'est à dire avec 3 entrées et 2 sorties.\n",
    "* Utiliser la méthode `gradient` de l’objet `myfunction` pour évaluer le\n",
    "gradient G'(x) au point d’entrée X = (1, 2, 3).\n",
    "* Utiliser la méthode `hessian` de l’objet `myfunction` pour évaluer la\n",
    "matrice Hessienne de G.\n",
    "\n",
    "* Utiliser les instructions suivantes pour configurer un gradient calculé\n",
    "par une formule de différences finies décentrée, avec un pas h = 10−2.\n",
    "\n",
    "```\n",
    "myfunctionImpl = myfunction.getEvaluation()\n",
    "h = 1.e -2\n",
    "myGradient = ot.NonCenteredFiniteDifferenceGradient(h, myfunctionImpl)\n",
    "myfunction.setGradient ( myGradient )\n",
    "```\n",
    "\n",
    "* Evaluer à nouveau le gradient avec la méthode gradient et comparer avec le résultat précédent.\n",
    "* On peut transmettre à OT une fonction Python qui évalue le gradient. Pour cela on peut utiliser la séquence d'appel :\n",
    "```\n",
    "myfunction = ot.PythonFunction(nbInputs, nbOutputs, mySimulator, gradient=mySimulatorGradient)\n",
    "```\n",
    "où `mySimulatorGradient` est une fonction Python qui évalue le gradient.\n",
    "Calculez à la main des dérivées partielles de la fonction G associée à l'exemple fil rouge. \n",
    "Puis définissez la fonction `mySimulatorGradient` qui évalue la matrice Jacobienne. Puisqu'il y a trois variables d'entrée, la liste renvoyée par mySimulatorGradient doit contenir trois éléments. Chaque élément doit contenir une sous-liste de taille 2 contenant les dérivées de chaque sortie. Enfin, construisez la fonction associée avec l'option `gradient`. "
   ]
  },
  {
   "cell_type": "markdown",
   "metadata": {},
   "source": [
    "### Solution de l'exercice 2 : gradient d'une fonction Python"
   ]
  },
  {
   "cell_type": "code",
   "execution_count": 5,
   "metadata": {},
   "outputs": [
    {
     "name": "stdout",
     "output_type": "stream",
     "text": [
      "type(d)= <class 'openturns.typ.Matrix'>\n",
      "Gradient par DF=\n",
      "[[  1  1 ]\n",
      " [  1 -3 ]\n",
      " [  1 -2 ]]\n",
      "type(dd)= <class 'openturns.typ.SymmetricTensor'>\n",
      "Hessienne=\n",
      "sheet #0\n",
      "[[  0            2.22045e-08  0           ]\n",
      " [  2.22045e-08  0            2.22045e-08 ]\n",
      " [  0            2.22045e-08  0           ]]\n",
      "sheet #1\n",
      "[[  0            0            0           ]\n",
      " [  0            0           -1           ]\n",
      " [  0           -1            0           ]]\n",
      "Gradient par DF non centrée=\n",
      "[[  1  1 ]\n",
      " [  1 -3 ]\n",
      " [  1 -2 ]]\n",
      "d - Exact =\n",
      "[[  1  1 ]\n",
      " [  1 -3 ]\n",
      " [  1 -2 ]]\n"
     ]
    }
   ],
   "source": [
    "def mySimulator(x):\n",
    "    y0=x[0]+x[1]+x[2]\n",
    "    y1=x[0]-x[1]*x[2]\n",
    "    y=[y0,y1]\n",
    "    return y\n",
    "\n",
    "inputDim = 3\n",
    "outputDim = 2\n",
    "myfunction = ot.PythonFunction(inputDim,outputDim,mySimulator)\n",
    "\n",
    "# Evaluer le gradient \n",
    "d=myfunction.gradient([1,2,3])\n",
    "print(\"type(d)=\",type(d)) # OT Matrix\n",
    "print(\"Gradient par DF=\")\n",
    "print(d)\n",
    "\n",
    "# Evaluer la hessienne\n",
    "dd=myfunction.hessian([1,2,3])\n",
    "print(\"type(dd)=\",type(dd)) # OT SymmetricTensor\n",
    "print(\"Hessienne=\")\n",
    "print(dd)\n",
    "\n",
    "# Configurer la formule de différences finies du gradient\n",
    "myfunctionImpl=myfunction.getEvaluation()\n",
    "myGradient = ot.NonCenteredFiniteDifferenceGradient(1.e-2,myfunctionImpl)\n",
    "myfunction.setGradient(myGradient)\n",
    "\n",
    "d=myfunction.gradient([1,2,3])\n",
    "print(\"Gradient par DF non centrée=\")\n",
    "print(d)\n",
    "\n",
    "# Configurer le gradient avec une fonction Python\n",
    "def mySimulatorGradient(x):\n",
    "    dyx0=[1.,1.]\n",
    "    dyx1=[1.,-x[2]]\n",
    "    dyx2=[1.,-x[1]]\n",
    "    y=[dyx0,dyx1,dyx2]\n",
    "    return y\n",
    "\n",
    "myfunction = ot.PythonFunction(3, 2, mySimulator, gradient=mySimulatorGradient)\n",
    "d=myfunction.gradient([1,2,3])\n",
    "print(\"d - Exact =\")\n",
    "print(d)"
   ]
  },
  {
   "cell_type": "markdown",
   "metadata": {},
   "source": [
    "### Exercice 3 : gestion de l'historique d'une fonction Python\n",
    "\n",
    "**Questions**\n",
    "* Observer le changement de la valeur de retour de `isHistoryEnabled`\n",
    "* Quelles sont les méthodes qui permettent de récupérer les historiques des entrées et des sorties ?\n",
    "* Comment avoir le nombre d’appels à la fonction ?\n",
    "* Utiliser la méthode `clearHistory` et vérifier que l'historique est vide après cet appel."
   ]
  },
  {
   "cell_type": "markdown",
   "metadata": {},
   "source": [
    "### Solution de l'exercice 3 : gestion de l'historique d'une fonction Python"
   ]
  },
  {
   "cell_type": "code",
   "execution_count": 6,
   "metadata": {
    "scrolled": true
   },
   "outputs": [
    {
     "name": "stdout",
     "output_type": "stream",
     "text": [
      "inputs\n",
      " 0 : [  1.09671     0.0519288   0.986608   ]\n",
      " 1 : [  0.482945   -0.769778    0.163746   ]\n",
      " 2 : [ -1.45047    -1.2523      1.0915     ]\n",
      " 3 : [  0.0964844   1.51156    -0.66498    ]\n",
      " 4 : [  0.762276   -1.14365     0.271192   ]\n",
      " 5 : [ -0.875386   -0.188975   -0.0047933  ]\n",
      " 6 : [  0.753207   -1.01182    -0.170364   ]\n",
      " 7 : [ -1.62312    -0.386589   -0.572422   ]\n",
      " 8 : [ -0.451058    0.399015   -0.735141   ]\n",
      " 9 : [ -0.87281     2.50848    -1.04574    ]\n",
      "10 : [  2.06075     0.442079    0.821644   ]\n",
      "11 : [  0.0711821   2.22299     1.83813    ]\n",
      "12 : [ -1.5925     -0.329925    0.398789   ]\n",
      "13 : [ -0.296501   -0.954536   -0.619029   ]\n",
      "14 : [  0.00985945 -0.958055   -0.0859105  ]\n",
      "15 : [ -0.383314   -0.642792   -0.469882   ]\n",
      "16 : [  0.190781    1.03291     0.93799    ]\n",
      "17 : [ -0.760095   -0.940847    0.24978    ]\n",
      "18 : [  0.351863    0.487823   -0.167711   ]\n",
      "19 : [ -0.891095    1.76734    -1.1513     ]\n",
      "outputs\n",
      " 0 : [  2.13524    1.04547   ]\n",
      " 1 : [ -0.123087   0.608993  ]\n",
      " 2 : [ -1.61126   -0.0835855 ]\n",
      " 3 : [  0.943065   1.10164   ]\n",
      " 4 : [ -0.110185   1.07243   ]\n",
      " 5 : [ -1.06916   -0.876292  ]\n",
      " 6 : [ -0.428976   0.580829  ]\n",
      " 7 : [ -2.58213   -1.84441   ]\n",
      " 8 : [ -0.787184  -0.157726  ]\n",
      " 9 : [  0.589928   1.7504    ]\n",
      "10 : [  3.32447    1.69751   ]\n",
      "11 : [  4.13231   -4.01497   ]\n",
      "12 : [ -1.52364   -1.46093   ]\n",
      "13 : [ -1.87007   -0.887386  ]\n",
      "14 : [ -1.03411   -0.0724475 ]\n",
      "15 : [ -1.49599   -0.68535   ]\n",
      "16 : [  2.16169   -0.778081  ]\n",
      "17 : [ -1.45116   -0.52509   ]\n",
      "18 : [  0.671974   0.433676  ]\n",
      "19 : [ -0.275056   1.14364   ]\n",
      "nGEvals = 20\n",
      "After clearHistory:\n"
     ]
    },
    {
     "data": {
      "text/html": [
       "<TABLE><TR><TD></TD><TH>v0</TH><TH>v1</TH></TR>\n",
       "</TABLE>"
      ],
      "text/plain": [
       "class=Sample name=Unnamed implementation=class=SampleImplementation name=Unnamed size=0 dimension=2 data=[]"
      ]
     },
     "execution_count": 6,
     "metadata": {},
     "output_type": "execute_result"
    }
   ],
   "source": [
    "def mySimulator(x):\n",
    "    y0=x[0]+x[1]+x[2]\n",
    "    y1=x[0]-x[1]*x[2]\n",
    "    y=[y0,y1]\n",
    "    return y\n",
    "\n",
    "myfunction = ot.PythonFunction(3,2,mySimulator)\n",
    "myfunction = ot.MemoizeFunction(myfunction)\n",
    "\n",
    "# Create the marginal distributions\n",
    "X0 = ot.Normal(0.,1.)\n",
    "X1 = ot.Normal(0.,1.)\n",
    "X2 = ot.Normal(0.,1.)\n",
    "\n",
    "# Create the input probability distribution\n",
    "inputDistribution = ot.ComposedDistribution((X0,X1,X2))\n",
    "# Create the input random vector\n",
    "inputRandomVector = ot.RandomVector(inputDistribution)\n",
    "# Create the output variable of interest\n",
    "outputVariableOfInterest =  ot.CompositeRandomVector(myfunction, inputRandomVector)\n",
    "# Probabilistic Study: central dispersion\n",
    "montecarlosize = 20\n",
    "outputSample = outputVariableOfInterest.getSample(montecarlosize)\n",
    "\n",
    "# Get the history\n",
    "inputs = myfunction.getInputHistory()\n",
    "print(\"inputs\")\n",
    "print(inputs)\n",
    "outputs = myfunction.getOutputHistory()\n",
    "print(\"outputs\")\n",
    "print(outputs)\n",
    "# Nombre d'appels à la fonction G\n",
    "nGEvals = inputs.getSize()\n",
    "print(\"nGEvals = %d\" % (nGEvals))\n",
    "\n",
    "# Clear the history\n",
    "myfunction.clearHistory()\n",
    "\n",
    "# See how the history is now empty\n",
    "print(\"After clearHistory:\")\n",
    "myfunction.getOutputHistory()"
   ]
  },
  {
   "cell_type": "markdown",
   "metadata": {},
   "source": [
    "### Exercice 4 : fonction symbolique avec 4 entrées\n",
    "\n",
    "On considère le modèle :\n",
    "$$\n",
    "\\begin{eqnarray}\n",
    "Y_1 &=& X_1 + X_2 + X_3 \\\\\n",
    "Y_2 &=& X_1 - X_2 X_3 \\\\\n",
    "Y_3 &=& 2 X_1 + 3 X_2 + 4 X_4\n",
    "\\end{eqnarray}\n",
    "$$\n",
    "\n",
    "**Questions**\n",
    "* Créer une fonction symbolique pour créer ce nouveau modèle.\n",
    "* Evaluer la sortie du modèle au point $X=(1,2,3,4)^T$.\n",
    "* Estimer la moyenne de la sortie par Monte-Carlo simple."
   ]
  },
  {
   "cell_type": "markdown",
   "metadata": {},
   "source": [
    "### Solution de l'exercice 4 : fonction symbolique avec 4 entrées"
   ]
  },
  {
   "cell_type": "code",
   "execution_count": 7,
   "metadata": {},
   "outputs": [
    {
     "data": {
      "text/html": [
       "<p>[6,-5,24]</p>"
      ],
      "text/plain": [
       "class=Point name=Unnamed dimension=3 values=[6,-5,24]"
      ]
     },
     "execution_count": 7,
     "metadata": {},
     "output_type": "execute_result"
    }
   ],
   "source": [
    "myfunctionSymbolic4 = ot.SymbolicFunction((\"x0\",\"x1\",\"x2\",\"x3\"),(\"x0+x1+x2\",\"x0-x1*x2\",\"2*x0+3*x1+4*x3\"))\n",
    "X=ot.Point([1,2,3,4])\n",
    "Y=myfunctionSymbolic4(X)\n",
    "Y"
   ]
  },
  {
   "cell_type": "code",
   "execution_count": 8,
   "metadata": {},
   "outputs": [
    {
     "name": "stdout",
     "output_type": "stream",
     "text": [
      "[-0.00501945,0.00440618,0.0636051]\n"
     ]
    }
   ],
   "source": [
    "X1 = ot.Normal(0.,1.)\n",
    "X2 = ot.Normal(0.,1.)\n",
    "X3 = ot.Normal(0.,1.)\n",
    "X4 = ot.Normal(0.,1.)\n",
    "inputDistribution = ot.ComposedDistribution((X1,X2,X3,X4))\n",
    "inputRandomVector = ot.RandomVector(inputDistribution)\n",
    "outputVect =  ot.CompositeRandomVector(myfunctionSymbolic4, inputRandomVector)\n",
    "montecarlosize = 10000\n",
    "outputSample = outputVect.getSample(montecarlosize)\n",
    "empiricalMean = outputSample.computeMean()\n",
    "print(empiricalMean)"
   ]
  },
  {
   "cell_type": "markdown",
   "metadata": {},
   "source": [
    "### Exercice 5 : fonction symbolique avec paramètres\n",
    "\n",
    "On considère le modèle \n",
    "$$\n",
    "\\begin{eqnarray}\n",
    "Y_1 &=& a X_1 + b X_2 \\\\\n",
    "Y_2 &=& c X_1 + d X_2\n",
    "\\end{eqnarray}\n",
    "$$\n",
    "où a, b, c, d sont des paramètres :\n",
    "```\n",
    "a = 12\n",
    "b = 23\n",
    "c = -34\n",
    "d = 45\n",
    "```\n",
    "\n",
    "**Questions**\n",
    "* Créer une fonction symbolique pour créer ce nouveau modèle en utilisant la fonction `str`.\n",
    "* Evaluer la sortie du modèle au point $X=(1,2,3,4)^T$.\n",
    "\n",
    "Note : la classe `ParametricFunction` est plus adaptée pour cela."
   ]
  },
  {
   "cell_type": "markdown",
   "metadata": {},
   "source": [
    "### Solution de l'exercice 5 : fonction symbolique avec paramètres"
   ]
  },
  {
   "cell_type": "code",
   "execution_count": 9,
   "metadata": {},
   "outputs": [
    {
     "name": "stdout",
     "output_type": "stream",
     "text": [
      "12*x0+23*x1\n",
      "-34*x0+45*x1\n"
     ]
    }
   ],
   "source": [
    "a = 12\n",
    "b = 23\n",
    "c = -34\n",
    "d = 45\n",
    "y1str = str(a)+\"*x0+\"+str(b)+\"*x1\"\n",
    "print(y1str)\n",
    "y2str = str(c)+\"*x0+\"+str(d)+\"*x1\"\n",
    "print(y2str)"
   ]
  },
  {
   "cell_type": "code",
   "execution_count": 10,
   "metadata": {},
   "outputs": [
    {
     "data": {
      "text/html": [
       "<p>[58,56]</p>"
      ],
      "text/plain": [
       "class=Point name=Unnamed dimension=2 values=[58,56]"
      ]
     },
     "execution_count": 10,
     "metadata": {},
     "output_type": "execute_result"
    }
   ],
   "source": [
    "myfunctionABCD = ot.SymbolicFunction((\"x0\",\"x1\"),(y1str,y2str))\n",
    "X=ot.Point([1,2])\n",
    "Y=myfunctionABCD(X)\n",
    "Y"
   ]
  },
  {
   "cell_type": "markdown",
   "metadata": {},
   "source": [
    "### Exercice 6 : gradient d'une fonction symbolique\n",
    "\n",
    "On souhaite vérifier que OT peut calculer la dérivée formelle d’une\n",
    "fonction symbolique. \n",
    "\n",
    "**Questions**\n",
    "* Définir la fonction `myfunctionSymbolic` comme dans l’exemple fil rouge.\n",
    "* Créer la variable `myGradient` contenant la dérivée exacte de la fonction. Pour cela, utiliser la méthode `getGradient` de l’objet\n",
    "`myfunctionSymbolic`. \n",
    "\n",
    "* Qu’est-ce qui s’affiche quand on utilise l’instruction suivante ?\n",
    "\n",
    "`\n",
    "print(myGradient)\n",
    "`\n",
    "\n",
    "* On souhaite évaluer le gradient au point d’entrée suivant :\n",
    "`\n",
    "X = (1, 2, 3)\n",
    "`\n",
    "Utiliser la méthode `gradient` de l’objet `myGradient` pour évaluer G'(x)."
   ]
  },
  {
   "cell_type": "markdown",
   "metadata": {},
   "source": [
    "### Solution de l'exercice 6 : gradient d'une fonction symbolique"
   ]
  },
  {
   "cell_type": "code",
   "execution_count": 11,
   "metadata": {
    "scrolled": true
   },
   "outputs": [
    {
     "name": "stdout",
     "output_type": "stream",
     "text": [
      "[x0,x1,x2]->[x0+x1+x2,x0-x1*x2]\n",
      "\n",
      "| d(y0) / d(x0) = 1\n",
      "| d(y0) / d(x1) = 1\n",
      "| d(y0) / d(x2) = 1\n",
      "| d(y1) / d(x0) = 1\n",
      "| d(y1) / d(x1) = -1*x2\n",
      "| d(y1) / d(x2) = -1*x1\n",
      "\n"
     ]
    },
    {
     "data": {
      "text/html": [
       "<p>[[  1  1 ]<br>\n",
       " [  1 -3 ]<br>\n",
       " [  1 -2 ]]</p>"
      ],
      "text/plain": [
       "class=Matrix implementation=class=MatrixImplementation name=Unnamed rows=3 columns=2 values=[1,1,1,1,-3,-2]"
      ]
     },
     "execution_count": 11,
     "metadata": {},
     "output_type": "execute_result"
    }
   ],
   "source": [
    "myfunction = ot.SymbolicFunction(\n",
    "    (\"x0\",\"x1\",\"x2\"),\n",
    "    (\"x0+x1+x2\",\"x0-x1*x2\"))\n",
    "print(myfunction)\n",
    "#\n",
    "myGradient=myfunction.getGradient()\n",
    "print(myGradient)\n",
    "# \n",
    "myGradient.gradient([1.,2.,3.])"
   ]
  },
  {
   "cell_type": "markdown",
   "metadata": {},
   "source": [
    "### Exercice 7 : gestion des variables intermédiaires dans une fonction symbolique\n",
    "\n",
    "On peut définir une fonction symbolique dont l'évaluation est fondée sur des valeurs intermédiaires. Ainsi, la sortie n'est pas seulement une fonction explicite des entrées : on peut définir des résultats intermédiaires et les réutiliser dans une ou plusieurs sorties de la fonction. \n",
    "\n",
    "Pour cela, il faut utiliser la séquence d'appel suivante :\n",
    "```\n",
    "myFunction = ot.SymbolicFunction(inputs, outputs, formula)\n",
    "```\n",
    "où `outputs` est une chaîne de caractères contenant l'expression à évaluer. \n",
    "\n",
    "Pour composer cette chaîne de caractère, on peut définir plusieurs expressions, séparées par le caractère \";\". De plus, les variables intermédiaires doivent être précédées du mot-clé \"`var`\". \n",
    "\n",
    "Par exemple, dans le cas du modèle dont les entrées sont $X_1$ et $X_2$ et les sorties sont $Y_1$ et $Y_2$ :\n",
    "$$\n",
    "\\begin{eqnarray}\n",
    "T &=& X_1 X_2 \\\\\n",
    "Y_1 &=& X_1 + T \\\\\n",
    "Y_2 &=& X_2 - 3T\n",
    "\\end{eqnarray}\n",
    "$$\n",
    "on peut utiliser l'instruction suivante :"
   ]
  },
  {
   "cell_type": "code",
   "execution_count": 12,
   "metadata": {
    "scrolled": true
   },
   "outputs": [
    {
     "data": {
      "text/html": [
       "<p>[3,-4]</p>"
      ],
      "text/plain": [
       "class=Point name=Unnamed dimension=2 values=[3,-4]"
      ]
     },
     "execution_count": 12,
     "metadata": {},
     "output_type": "execute_result"
    }
   ],
   "source": [
    "inputs = ['X1', 'X2'] \n",
    "outputs = ['Y1', 'Y2']\n",
    "formula = 'var T := X1*X2; Y1 := X1+T; Y2 := X2-3*T'\n",
    "myFunction = ot.SymbolicFunction(inputs, outputs, formula)\n",
    "myFunction([1.,2.])"
   ]
  },
  {
   "cell_type": "markdown",
   "metadata": {},
   "source": [
    "Définir le modèle dont les entrées sont $X_1$ et $X_2$ et les sorties sont $Y_1$ et $Y_2$ :\n",
    "$$\n",
    "\\begin{eqnarray}\n",
    "S &=& X_1 + X_2 \\\\\n",
    "T &=& X_1 X_2 \\\\\n",
    "Y_1 &=& S + T \\\\\n",
    "Y_2 &=& ST\n",
    "\\end{eqnarray}\n",
    "$$"
   ]
  },
  {
   "cell_type": "markdown",
   "metadata": {},
   "source": [
    "### Solution de l'exercice 7 : gestion des variables intermédiaires dans une fonction symbolique"
   ]
  },
  {
   "cell_type": "code",
   "execution_count": 13,
   "metadata": {
    "scrolled": true
   },
   "outputs": [
    {
     "data": {
      "text/html": [
       "<p>[5,6]</p>"
      ],
      "text/plain": [
       "class=Point name=Unnamed dimension=2 values=[5,6]"
      ]
     },
     "execution_count": 13,
     "metadata": {},
     "output_type": "execute_result"
    }
   ],
   "source": [
    "inputs = ['X1', 'X2'] \n",
    "outputs = ['Y1', 'Y2']\n",
    "formula = 'var S := X1+X2; var T := X1*X2; Y1 := S + T; Y2 := S * T'\n",
    "myFunction = ot.SymbolicFunction(inputs, outputs, formula)\n",
    "myFunction([1.,2.])"
   ]
  },
  {
   "cell_type": "markdown",
   "metadata": {},
   "source": [
    "## Exercice 8 : configurer le nombre de cpus\n",
    "\n",
    "L'option `n_cpus` de la classe `PythonFunction` permet de configurer le nombre de processeurs. L'implémentation est fondée sur le module `multiprocessing`. Dans cet exercice, on cherche à observer l'effet de cette option sur la performance du calcul.\n",
    "\n",
    "Pour observer un changement dans la performance nous nous plaçons dans la situation suivante :\n",
    "- la fonction possède un grand nombre de variables d'entrées,\n",
    "- la fonction est coûteuse.\n",
    "\n",
    "Dans ce but, nous définissons la fonction suivante."
   ]
  },
  {
   "cell_type": "code",
   "execution_count": 14,
   "metadata": {},
   "outputs": [],
   "source": [
    "import math\n",
    "\n",
    "dim = 100\n",
    "\n",
    "def myHighDimSimulator(x):\n",
    "    y0=0.\n",
    "    y1=1.\n",
    "    for i in range(dim):\n",
    "        y0=y0+math.exp(x[i])\n",
    "        y1=y1*math.exp(x[i])\n",
    "    y=[y0,y1]\n",
    "    return y\n",
    "\n",
    "inputHighDimDistribution = ot.ComposedDistribution([ot.Normal()]*dim)\n",
    "inputHighDimRandomVector = ot.RandomVector(inputHighDimDistribution)"
   ]
  },
  {
   "cell_type": "markdown",
   "metadata": {},
   "source": [
    "- Utiliser le module `time` pour mesurer la performance de la fonction sans l'option `n_cpus`. Pour observer une durée de simulation significative, augmentez la taille du plan d'expériences ou le nombre de dimensions.\n",
    "- De même avec l'option `n_cpus`.\n",
    "- Quelle différence constatez-vous ?"
   ]
  },
  {
   "cell_type": "markdown",
   "metadata": {},
   "source": [
    "## Solution de l'exercice 8 : configurer le nombre de cpus"
   ]
  },
  {
   "cell_type": "code",
   "execution_count": 15,
   "metadata": {},
   "outputs": [
    {
     "name": "stdout",
     "output_type": "stream",
     "text": [
      "Elapsed = 0.00 (s)\n",
      "Elapsed = 0.11 (s)\n"
     ]
    }
   ],
   "source": [
    "import time\n",
    "\n",
    "def benchMyPythonFunction(inputRandomVector,mypyfunction,sampleSize,label):\n",
    "    t0 = time.time()\n",
    "    outputVect =  ot.CompositeRandomVector(mypyfunction, inputRandomVector)\n",
    "    outputSample = outputVect.getSample(sampleSize)\n",
    "    t1 = time.time()\n",
    "    print(\"Elapsed = %.2f (s)\" % (t1-t0))\n",
    "\n",
    "sampleSize = 100\n",
    "#\n",
    "myPyFunction1 = ot.PythonFunction (dim ,2 , myHighDimSimulator )\n",
    "benchMyPythonFunction(inputHighDimRandomVector,myPyFunction1,sampleSize, \"Without n_cpus\")\n",
    "#\n",
    "myPyFunction2 = ot.PythonFunction (dim ,2 , myHighDimSimulator, n_cpus=8 )\n",
    "benchMyPythonFunction(inputHighDimRandomVector,myPyFunction2,sampleSize, \"With n_cpus\")\n"
   ]
  }
 ],
 "metadata": {
  "kernelspec": {
   "display_name": "Python 3",
   "language": "python",
   "name": "python3"
  },
  "language_info": {
   "codemirror_mode": {
    "name": "ipython",
    "version": 3
   },
   "file_extension": ".py",
   "mimetype": "text/x-python",
   "name": "python",
   "nbconvert_exporter": "python",
   "pygments_lexer": "ipython3",
   "version": "3.7.4"
  }
 },
 "nbformat": 4,
 "nbformat_minor": 2
}
