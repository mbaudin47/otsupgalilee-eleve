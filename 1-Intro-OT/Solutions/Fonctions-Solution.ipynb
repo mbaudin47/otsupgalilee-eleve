{
 "cells": [
  {
   "cell_type": "markdown",
   "metadata": {},
   "source": [
    "# Fonction Python et symbolique"
   ]
  },
  {
   "cell_type": "code",
   "execution_count": 1,
   "metadata": {},
   "outputs": [],
   "source": [
    "import openturns as ot\n",
    "import math\n",
    "import time"
   ]
  },
  {
   "cell_type": "markdown",
   "metadata": {},
   "source": [
    "### Solution de l'exercice 1 :  une fonction avec 4 entrées\n"
   ]
  },
  {
   "cell_type": "code",
   "execution_count": 2,
   "metadata": {},
   "outputs": [
    {
     "data": {
      "text/html": [
       "<p>[-0.0166778,-0.0123527,-0.0277928]</p>"
      ],
      "text/plain": [
       "class=Point name=Unnamed dimension=3 values=[-0.0166778,-0.0123527,-0.0277928]"
      ]
     },
     "execution_count": 2,
     "metadata": {},
     "output_type": "execute_result"
    }
   ],
   "source": [
    "def mySimulator(x):\n",
    "    y0 = x[0] + x[1] + x[2]\n",
    "    y1 = x[0] - x[1] * x[2]\n",
    "    y2 = 2 * x[0] + 3 * x[1] + 4 * x[3]\n",
    "    y = [y0, y1, y2]\n",
    "    return y\n",
    "\n",
    "\n",
    "myfunction = ot.PythonFunction(4, 3, mySimulator)\n",
    "# Create the marginal distributions\n",
    "X0 = ot.Normal(0.0, 1.0)\n",
    "X1 = ot.Normal(0.0, 1.0)\n",
    "X2 = ot.Normal(0.0, 1.0)\n",
    "X3 = ot.Normal(0.0, 1.0)\n",
    "# Create the input probability distribution\n",
    "inputDistribution = ot.ComposedDistribution((X0, X1, X2, X3))\n",
    "# Create the input random vector\n",
    "inputRandomVector = ot.RandomVector(inputDistribution)\n",
    "# Create the output variable of interest\n",
    "outputVariableOfInterest = ot.CompositeRandomVector(myfunction, inputRandomVector)\n",
    "\n",
    "# Probabilistic Study: central dispersion\n",
    "montecarlosize = 10000\n",
    "# Start the simulations\n",
    "outputSample = outputVariableOfInterest.getSample(montecarlosize)\n",
    "# Get the empirical mean and standard deviations\n",
    "outputSample.computeMean()"
   ]
  },
  {
   "cell_type": "markdown",
   "metadata": {},
   "source": [
    "### Solution de l'exercice 2 : gradient d'une fonction Python"
   ]
  },
  {
   "cell_type": "code",
   "execution_count": 3,
   "metadata": {},
   "outputs": [],
   "source": [
    "def mySimulator(x):\n",
    "    y0 = x[0] + x[1] + x[2]\n",
    "    y1 = x[0] - x[1] * x[2]\n",
    "    y = [y0, y1]\n",
    "    return y\n",
    "\n",
    "\n",
    "inputDim = 3\n",
    "outputDim = 2\n",
    "myfunction = ot.PythonFunction(inputDim, outputDim, mySimulator)"
   ]
  },
  {
   "cell_type": "markdown",
   "metadata": {},
   "source": [
    "Evaluer le gradient."
   ]
  },
  {
   "cell_type": "code",
   "execution_count": 4,
   "metadata": {},
   "outputs": [
    {
     "name": "stdout",
     "output_type": "stream",
     "text": [
      "type(d)= <class 'openturns.typ.Matrix'>\n",
      "Gradient par DF=\n"
     ]
    },
    {
     "data": {
      "text/html": [
       "<p>[[  1  1 ]<br>\n",
       " [  1 -3 ]<br>\n",
       " [  1 -2 ]]</p>"
      ],
      "text/plain": [
       "class=Matrix implementation=class=MatrixImplementation name=Unnamed rows=3 columns=2 values=[1,1,1,1,-3,-2]"
      ]
     },
     "execution_count": 4,
     "metadata": {},
     "output_type": "execute_result"
    }
   ],
   "source": [
    "d = myfunction.gradient([1.0, 2.0, 3.0])\n",
    "print(\"type(d)=\", type(d))  # OT Matrix\n",
    "print(\"Gradient par DF=\")\n",
    "d"
   ]
  },
  {
   "cell_type": "markdown",
   "metadata": {},
   "source": [
    "Evaluer la hessienne."
   ]
  },
  {
   "cell_type": "code",
   "execution_count": 5,
   "metadata": {},
   "outputs": [
    {
     "name": "stdout",
     "output_type": "stream",
     "text": [
      "type(dd)= <class 'openturns.typ.SymmetricTensor'>\n",
      "Hessienne=\n"
     ]
    },
    {
     "name": "stderr",
     "output_type": "stream",
     "text": [
      "\u001b[34m\u001b[1mWRN - You are using a default implementation for the hessian. Be careful, your computation can be severely wrong!\u001b[0m\n"
     ]
    },
    {
     "data": {
      "text/html": [
       "<p>sheet #0<br>\n",
       "[[  0            2.22045e-08  0           ]<br>\n",
       " [  2.22045e-08  0            2.22045e-08 ]<br>\n",
       " [  0            2.22045e-08  0           ]]<br>\n",
       "sheet #1<br>\n",
       "[[  0            0            0           ]<br>\n",
       " [  0            0           -1           ]<br>\n",
       " [  0           -1            0           ]]</p>"
      ],
      "text/plain": [
       "class=SymmetricTensor implementation=class=TensorImplementation name=Unnamed rows=3 columns=3 sheets=2 values=[0,2.22045e-08,0,0,0,2.22045e-08,0,0,0,0,0,0,0,0,-1,0,0,0]"
      ]
     },
     "execution_count": 5,
     "metadata": {},
     "output_type": "execute_result"
    }
   ],
   "source": [
    "dd = myfunction.hessian([1.0, 2.0, 3.0])\n",
    "print(\"type(dd)=\", type(dd))  # OT SymmetricTensor\n",
    "print(\"Hessienne=\")\n",
    "dd"
   ]
  },
  {
   "cell_type": "markdown",
   "metadata": {},
   "source": [
    "Configurer la formule de différences finies du gradient. "
   ]
  },
  {
   "cell_type": "code",
   "execution_count": 6,
   "metadata": {},
   "outputs": [
    {
     "name": "stdout",
     "output_type": "stream",
     "text": [
      "Gradient par DF non centrée=\n"
     ]
    },
    {
     "data": {
      "text/html": [
       "<p>[[  1  1 ]<br>\n",
       " [  1 -3 ]<br>\n",
       " [  1 -2 ]]</p>"
      ],
      "text/plain": [
       "class=Matrix implementation=class=MatrixImplementation name=Unnamed rows=3 columns=2 values=[1,1,1,1,-3,-2]"
      ]
     },
     "execution_count": 6,
     "metadata": {},
     "output_type": "execute_result"
    }
   ],
   "source": [
    "myfunctionImpl = myfunction.getEvaluation()\n",
    "myGradient = ot.NonCenteredFiniteDifferenceGradient(1.0e-2, myfunctionImpl)\n",
    "myfunction.setGradient(myGradient)\n",
    "\n",
    "d = myfunction.gradient([1, 2, 3])\n",
    "print(\"Gradient par DF non centrée=\")\n",
    "d"
   ]
  },
  {
   "cell_type": "markdown",
   "metadata": {},
   "source": [
    "Configurer le gradient avec une fonction Python. "
   ]
  },
  {
   "cell_type": "code",
   "execution_count": 7,
   "metadata": {},
   "outputs": [
    {
     "name": "stdout",
     "output_type": "stream",
     "text": [
      "d - Exact =\n"
     ]
    },
    {
     "data": {
      "text/html": [
       "<p>[[  1  1 ]<br>\n",
       " [  1 -3 ]<br>\n",
       " [  1 -2 ]]</p>"
      ],
      "text/plain": [
       "class=Matrix implementation=class=MatrixImplementation name=Unnamed rows=3 columns=2 values=[1,1,1,1,-3,-2]"
      ]
     },
     "execution_count": 7,
     "metadata": {},
     "output_type": "execute_result"
    }
   ],
   "source": [
    "def mySimulatorGradient(x):\n",
    "    dyx0 = [1.0, 1.0]\n",
    "    dyx1 = [1.0, -x[2]]\n",
    "    dyx2 = [1.0, -x[1]]\n",
    "    y = [dyx0, dyx1, dyx2]\n",
    "    return y\n",
    "\n",
    "\n",
    "myfunction = ot.PythonFunction(3, 2, mySimulator, gradient=mySimulatorGradient)\n",
    "d = myfunction.gradient([1.0, 2.0, 3.0])\n",
    "print(\"d - Exact =\")\n",
    "d"
   ]
  },
  {
   "cell_type": "markdown",
   "metadata": {},
   "source": [
    "### Solution de l'exercice 3 : gestion de l'historique d'une fonction Python"
   ]
  },
  {
   "cell_type": "code",
   "execution_count": 8,
   "metadata": {},
   "outputs": [
    {
     "name": "stdout",
     "output_type": "stream",
     "text": [
      "inputs\n",
      " 0 : [  1.09671     0.0519288   0.986608   ]\n",
      " 1 : [  0.482945   -0.769778    0.163746   ]\n",
      " 2 : [ -1.45047    -1.2523      1.0915     ]\n",
      " 3 : [  0.0964844   1.51156    -0.66498    ]\n",
      " 4 : [  0.762276   -1.14365     0.271192   ]\n",
      " 5 : [ -0.875386   -0.188975   -0.0047933  ]\n",
      " 6 : [  0.753207   -1.01182    -0.170364   ]\n",
      " 7 : [ -1.62312    -0.386589   -0.572422   ]\n",
      " 8 : [ -0.451058    0.399015   -0.735141   ]\n",
      " 9 : [ -0.87281     2.50848    -1.04574    ]\n",
      "10 : [  2.06075     0.442079    0.821644   ]\n",
      "11 : [  0.0711821   2.22299     1.83813    ]\n",
      "12 : [ -1.5925     -0.329925    0.398789   ]\n",
      "13 : [ -0.296501   -0.954536   -0.619029   ]\n",
      "14 : [  0.00985945 -0.958055   -0.0859105  ]\n",
      "15 : [ -0.383314   -0.642792   -0.469882   ]\n",
      "16 : [  0.190781    1.03291     0.93799    ]\n",
      "17 : [ -0.760095   -0.940847    0.24978    ]\n",
      "18 : [  0.351863    0.487823   -0.167711   ]\n",
      "19 : [ -0.891095    1.76734    -1.1513     ]\n",
      "outputs\n",
      " 0 : [  2.13524    1.04547   ]\n",
      " 1 : [ -0.123087   0.608993  ]\n",
      " 2 : [ -1.61126   -0.0835855 ]\n",
      " 3 : [  0.943065   1.10164   ]\n",
      " 4 : [ -0.110185   1.07243   ]\n",
      " 5 : [ -1.06916   -0.876292  ]\n",
      " 6 : [ -0.428976   0.580829  ]\n",
      " 7 : [ -2.58213   -1.84441   ]\n",
      " 8 : [ -0.787184  -0.157726  ]\n",
      " 9 : [  0.589928   1.7504    ]\n",
      "10 : [  3.32447    1.69751   ]\n",
      "11 : [  4.13231   -4.01497   ]\n",
      "12 : [ -1.52364   -1.46093   ]\n",
      "13 : [ -1.87007   -0.887386  ]\n",
      "14 : [ -1.03411   -0.0724475 ]\n",
      "15 : [ -1.49599   -0.68535   ]\n",
      "16 : [  2.16169   -0.778081  ]\n",
      "17 : [ -1.45116   -0.52509   ]\n",
      "18 : [  0.671974   0.433676  ]\n",
      "19 : [ -0.275056   1.14364   ]\n",
      "nGEvals = 20\n"
     ]
    }
   ],
   "source": [
    "def mySimulator(x):\n",
    "    y0 = x[0] + x[1] + x[2]\n",
    "    y1 = x[0] - x[1] * x[2]\n",
    "    y = [y0, y1]\n",
    "    return y\n",
    "\n",
    "\n",
    "myfunction = ot.PythonFunction(3, 2, mySimulator)\n",
    "myfunction = ot.MemoizeFunction(myfunction)\n",
    "\n",
    "# Create the marginal distributions\n",
    "X0 = ot.Normal(0.0, 1.0)\n",
    "X1 = ot.Normal(0.0, 1.0)\n",
    "X2 = ot.Normal(0.0, 1.0)\n",
    "\n",
    "# Create the input probability distribution\n",
    "inputDistribution = ot.ComposedDistribution((X0, X1, X2))\n",
    "# Create the input random vector\n",
    "inputRandomVector = ot.RandomVector(inputDistribution)\n",
    "# Create the output variable of interest\n",
    "outputVariableOfInterest = ot.CompositeRandomVector(myfunction, inputRandomVector)\n",
    "# Probabilistic Study: central dispersion\n",
    "montecarlosize = 20\n",
    "outputSample = outputVariableOfInterest.getSample(montecarlosize)\n",
    "\n",
    "# Get the history\n",
    "inputs = myfunction.getInputHistory()\n",
    "print(\"inputs\")\n",
    "print(inputs)\n",
    "outputs = myfunction.getOutputHistory()\n",
    "print(\"outputs\")\n",
    "print(outputs)\n",
    "# Nombre d'appels à la fonction G\n",
    "nGEvals = inputs.getSize()\n",
    "print(\"nGEvals = %d\" % (nGEvals))"
   ]
  },
  {
   "cell_type": "code",
   "execution_count": 9,
   "metadata": {},
   "outputs": [
    {
     "name": "stdout",
     "output_type": "stream",
     "text": [
      "After clearHistory:\n"
     ]
    },
    {
     "data": {
      "text/html": [
       "<TABLE><TR><TD></TD><TH>v0</TH><TH>v1</TH></TR>\n",
       "</TABLE>"
      ],
      "text/plain": [
       "class=Sample name=Unnamed implementation=class=SampleImplementation name=Unnamed size=0 dimension=2 data=[]"
      ]
     },
     "execution_count": 9,
     "metadata": {},
     "output_type": "execute_result"
    }
   ],
   "source": [
    "# Clear the history\n",
    "myfunction.clearHistory()\n",
    "\n",
    "# See how the history is now empty\n",
    "print(\"After clearHistory:\")\n",
    "myfunction.getOutputHistory()"
   ]
  },
  {
   "cell_type": "markdown",
   "metadata": {},
   "source": [
    "### Solution de l'exercice 4 : fonction symbolique avec 4 entrées"
   ]
  },
  {
   "cell_type": "code",
   "execution_count": 10,
   "metadata": {},
   "outputs": [
    {
     "data": {
      "text/html": [
       "<p>[6,-5,24]</p>"
      ],
      "text/plain": [
       "class=Point name=Unnamed dimension=3 values=[6,-5,24]"
      ]
     },
     "execution_count": 10,
     "metadata": {},
     "output_type": "execute_result"
    }
   ],
   "source": [
    "myfunctionSymbolic4 = ot.SymbolicFunction(\n",
    "    (\"x0\", \"x1\", \"x2\", \"x3\"),\n",
    "    (\"x0 + x1 + x2\", \"x0 - x1 * x2\", \"2 * x0 + 3 * x1 + 4 * x3\"),\n",
    ")\n",
    "X = ot.Point([1, 2, 3, 4])\n",
    "Y = myfunctionSymbolic4(X)\n",
    "Y"
   ]
  },
  {
   "cell_type": "code",
   "execution_count": 11,
   "metadata": {},
   "outputs": [
    {
     "name": "stdout",
     "output_type": "stream",
     "text": [
      "[-0.00501945,0.00440618,0.0636051]\n"
     ]
    }
   ],
   "source": [
    "X1 = ot.Normal(0.0, 1.0)\n",
    "X2 = ot.Normal(0.0, 1.0)\n",
    "X3 = ot.Normal(0.0, 1.0)\n",
    "X4 = ot.Normal(0.0, 1.0)\n",
    "inputDistribution = ot.ComposedDistribution((X1, X2, X3, X4))\n",
    "inputRandomVector = ot.RandomVector(inputDistribution)\n",
    "outputVect = ot.CompositeRandomVector(myfunctionSymbolic4, inputRandomVector)\n",
    "montecarlosize = 10000\n",
    "outputSample = outputVect.getSample(montecarlosize)\n",
    "empiricalMean = outputSample.computeMean()\n",
    "print(empiricalMean)"
   ]
  },
  {
   "cell_type": "markdown",
   "metadata": {},
   "source": [
    "### Solution de l'exercice 5 : fonction symbolique avec paramètres"
   ]
  },
  {
   "cell_type": "code",
   "execution_count": 12,
   "metadata": {},
   "outputs": [
    {
     "name": "stdout",
     "output_type": "stream",
     "text": [
      "[58,56]\n"
     ]
    }
   ],
   "source": [
    "function = ot.SymbolicFunction(\n",
    "    (\"x0\", \"x1\", \"a\", \"b\", \"c\", \"d\"), (\"a * x0 + b * x1\", \"c * x0 + d * x1\")\n",
    ")\n",
    "\n",
    "x0 = 1.0\n",
    "x1 = 2.0\n",
    "a = 12.0\n",
    "b = 23.0\n",
    "c = -34.0\n",
    "d = 45.0\n",
    "X = [x0, x1, a, b, c, d]\n",
    "print(function(X))"
   ]
  },
  {
   "cell_type": "code",
   "execution_count": 13,
   "metadata": {},
   "outputs": [
    {
     "data": {
      "text/html": [
       "<p>[58,56]</p>"
      ],
      "text/plain": [
       "class=Point name=Unnamed dimension=2 values=[58,56]"
      ]
     },
     "execution_count": 13,
     "metadata": {},
     "output_type": "execute_result"
    }
   ],
   "source": [
    "indices = [2, 3, 4, 5]\n",
    "referencePoint = [a, b, c, d]\n",
    "g = ot.ParametricFunction(function, indices, referencePoint)\n",
    "\n",
    "X = ot.Point([x0, x1])\n",
    "Y = g(X)\n",
    "Y"
   ]
  },
  {
   "cell_type": "markdown",
   "metadata": {},
   "source": [
    "### Solution de l'exercice 6 : gradient d'une fonction symbolique"
   ]
  },
  {
   "cell_type": "code",
   "execution_count": 14,
   "metadata": {
    "scrolled": true
   },
   "outputs": [
    {
     "name": "stdout",
     "output_type": "stream",
     "text": [
      "[x0,x1,x2]->[x0 + x1 + x2,x0 - x1 * x2]\n",
      "\n",
      "| d(y0) / d(x0) = 1\n",
      "| d(y0) / d(x1) = 1\n",
      "| d(y0) / d(x2) = 1\n",
      "| d(y1) / d(x0) = 1\n",
      "| d(y1) / d(x1) = -1*x2\n",
      "| d(y1) / d(x2) = -1*x1\n",
      "\n"
     ]
    },
    {
     "data": {
      "text/html": [
       "<p>[[  1  1 ]<br>\n",
       " [  1 -3 ]<br>\n",
       " [  1 -2 ]]</p>"
      ],
      "text/plain": [
       "class=Matrix implementation=class=MatrixImplementation name=Unnamed rows=3 columns=2 values=[1,1,1,1,-3,-2]"
      ]
     },
     "execution_count": 14,
     "metadata": {},
     "output_type": "execute_result"
    }
   ],
   "source": [
    "myfunction = ot.SymbolicFunction((\"x0\", \"x1\", \"x2\"), (\"x0 + x1 + x2\", \"x0 - x1 * x2\"))\n",
    "print(myfunction)\n",
    "#\n",
    "myGradient = myfunction.getGradient()\n",
    "print(myGradient)\n",
    "#\n",
    "myGradient.gradient([1.0, 2.0, 3.0])"
   ]
  },
  {
   "cell_type": "markdown",
   "metadata": {},
   "source": [
    "## Exercice 7 : gestion des variables intermédiaires dans une fonction symbolique"
   ]
  },
  {
   "cell_type": "code",
   "execution_count": 15,
   "metadata": {
    "scrolled": true
   },
   "outputs": [
    {
     "data": {
      "text/html": [
       "<p>[3,-4]</p>"
      ],
      "text/plain": [
       "class=Point name=Unnamed dimension=2 values=[3,-4]"
      ]
     },
     "execution_count": 15,
     "metadata": {},
     "output_type": "execute_result"
    }
   ],
   "source": [
    "inputs = [\"X1\", \"X2\"]\n",
    "outputs = [\"Y1\", \"Y2\"]\n",
    "formula = \"var T := X1 * X2; Y1 := X1 + T; Y2 := X2 - 3 * T\"\n",
    "myFunction = ot.SymbolicFunction(inputs, outputs, formula)\n",
    "myFunction([1.0, 2.0])"
   ]
  },
  {
   "cell_type": "markdown",
   "metadata": {},
   "source": [
    "### Solution de l'exercice 7 : gestion des variables intermédiaires dans une fonction symbolique"
   ]
  },
  {
   "cell_type": "code",
   "execution_count": 16,
   "metadata": {
    "scrolled": true
   },
   "outputs": [
    {
     "data": {
      "text/html": [
       "<p>[5,6]</p>"
      ],
      "text/plain": [
       "class=Point name=Unnamed dimension=2 values=[5,6]"
      ]
     },
     "execution_count": 16,
     "metadata": {},
     "output_type": "execute_result"
    }
   ],
   "source": [
    "inputs = [\"X1\", \"X2\"]\n",
    "outputs = [\"Y1\", \"Y2\"]\n",
    "formula = \"var S := X1 + X2; var T := X1 * X2; Y1 := S + T; Y2 := S * T\"\n",
    "myFunction = ot.SymbolicFunction(inputs, outputs, formula)\n",
    "myFunction([1.0, 2.0])"
   ]
  },
  {
   "cell_type": "markdown",
   "metadata": {},
   "source": [
    "## Exercice 8 : configurer le nombre de cpus\n",
    "\n"
   ]
  },
  {
   "cell_type": "code",
   "execution_count": 17,
   "metadata": {},
   "outputs": [],
   "source": [
    "def myHighDimSimulator(x):\n",
    "    xPoint = ot.Point(x)\n",
    "    dim = xPoint.getDimension()\n",
    "    y0 = 0.0\n",
    "    y1 = 1.0\n",
    "    for i in range(dim):\n",
    "        y0 = y0 + math.exp(x[i])\n",
    "        y1 = y1 * math.exp(x[i])\n",
    "    y = [y0, y1]\n",
    "    return y\n",
    "\n",
    "\n",
    "dim = 100\n",
    "inputHighDimDistribution = ot.ComposedDistribution([ot.Normal()] * dim)\n",
    "inputHighDimRandomVector = ot.RandomVector(inputHighDimDistribution)"
   ]
  },
  {
   "cell_type": "markdown",
   "metadata": {},
   "source": [
    "- Utiliser le module `time` pour mesurer la performance de la fonction sans l'option `n_cpus`. Pour observer une durée de simulation significative, augmentez la taille du plan d'expériences ou le nombre de dimensions.\n",
    "- De même avec l'option `n_cpus`.\n",
    "- Quelle différence constatez-vous ?"
   ]
  },
  {
   "cell_type": "markdown",
   "metadata": {},
   "source": [
    "## Solution de l'exercice 8 : configurer le nombre de cpus"
   ]
  },
  {
   "cell_type": "code",
   "execution_count": 18,
   "metadata": {},
   "outputs": [
    {
     "name": "stdout",
     "output_type": "stream",
     "text": [
      "Elapsed = 0.00 (s)\n"
     ]
    }
   ],
   "source": [
    "def benchMyPythonFunction(inputRandomVector, mypyfunction, sampleSize, label):\n",
    "    t0 = time.time()\n",
    "    outputVect = ot.CompositeRandomVector(mypyfunction, inputRandomVector)\n",
    "    outputSample = outputVect.getSample(sampleSize)\n",
    "    t1 = time.time()\n",
    "    print(\"Elapsed = %.2f (s)\" % (t1 - t0))\n",
    "\n",
    "sampleSize = 100\n",
    "\n",
    "myPyFunction1 = ot.PythonFunction(dim, 2, myHighDimSimulator)\n",
    "benchMyPythonFunction(\n",
    "    inputHighDimRandomVector, myPyFunction1, sampleSize, \"Without n_cpus\"\n",
    ")"
   ]
  },
  {
   "cell_type": "code",
   "execution_count": 19,
   "metadata": {},
   "outputs": [
    {
     "name": "stdout",
     "output_type": "stream",
     "text": [
      "Elapsed = 0.08 (s)\n"
     ]
    }
   ],
   "source": [
    "myPyFunction2 = ot.PythonFunction(dim, 2, myHighDimSimulator, n_cpus=8)\n",
    "benchMyPythonFunction(\n",
    "    inputHighDimRandomVector, myPyFunction2, sampleSize, \"With n_cpus\"\n",
    ")"
   ]
  }
 ],
 "metadata": {
  "kernelspec": {
   "display_name": "Python 3 (ipykernel)",
   "language": "python",
   "name": "python3"
  },
  "language_info": {
   "codemirror_mode": {
    "name": "ipython",
    "version": 3
   },
   "file_extension": ".py",
   "mimetype": "text/x-python",
   "name": "python",
   "nbconvert_exporter": "python",
   "pygments_lexer": "ipython3",
   "version": "3.10.0"
  }
 },
 "nbformat": 4,
 "nbformat_minor": 2
}
