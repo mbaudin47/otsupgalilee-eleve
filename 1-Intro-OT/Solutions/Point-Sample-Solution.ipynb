{
 "cells": [
  {
   "cell_type": "markdown",
   "metadata": {},
   "source": [
    "# Point, Sample - Solution des exercices\n",
    "\n",
    "Michaël Baudin"
   ]
  },
  {
   "cell_type": "markdown",
   "metadata": {},
   "source": [
    "## Résumé\n",
    "\n",
    "Dans cette page, nous présentons les classes `Point` et `Sample`, deux classes de base dans OpenTURNS. Nous présentons les concepts implémentés par ces classes, ainsi que la manière de créer et utiliser de tels objets. Nous montrons comment extraire une ligne ou une colonne avec l'opérateur de slicing. Nous montrons les interactions avec les types Python ainsi qu'avec le module Numpy."
   ]
  },
  {
   "cell_type": "markdown",
   "metadata": {},
   "source": [
    "## Références\n",
    "\n",
    "http://openturns.github.io/openturns/master/user_manual/_generated/openturns.Point.html\n",
    "\n",
    "http://openturns.github.io/openturns/master/user_manual/_generated/openturns.Sample.html"
   ]
  },
  {
   "cell_type": "markdown",
   "metadata": {},
   "source": [
    "## Exercice 1 : point et norme 1\n",
    "Créer la variable X contenant un `Point` en dimension 12 contenant les\n",
    "valeurs numériques suivantes : 0., 1., ..., 11. \n",
    "* Utiliser la méthode `norm` pour calculer la norme Euclidienne de X. \n",
    "* Comment calculer la norme 1 de X ?"
   ]
  },
  {
   "cell_type": "markdown",
   "metadata": {},
   "source": [
    "## Solution de l'exercice 1 : point et norme 1"
   ]
  },
  {
   "cell_type": "code",
   "execution_count": 1,
   "metadata": {},
   "outputs": [
    {
     "data": {
      "text/html": [
       "<p>[0,1,2,3,4,5,6,7,8,9,10,11]#12</p>"
      ],
      "text/plain": [
       "class=Point name=Unnamed dimension=12 values=[0,1,2,3,4,5,6,7,8,9,10,11]"
      ]
     },
     "execution_count": 1,
     "metadata": {},
     "output_type": "execute_result"
    }
   ],
   "source": [
    "import openturns as ot\n",
    "x = ot.Point(range(12))\n",
    "x"
   ]
  },
  {
   "cell_type": "code",
   "execution_count": 2,
   "metadata": {},
   "outputs": [
    {
     "data": {
      "text/plain": [
       "66.0"
      ]
     },
     "execution_count": 2,
     "metadata": {},
     "output_type": "execute_result"
    }
   ],
   "source": [
    "x.norm1()"
   ]
  },
  {
   "cell_type": "markdown",
   "metadata": {},
   "source": [
    "## Exercice 2 : moyenne et minimum\n",
    "Créer la variable X contenant un Sample correspondant à l’échantillon\n",
    "en dimension 2 suivant :\n",
    "$$\n",
    "X=\n",
    "\\begin{pmatrix}\n",
    "0 & 1 \\\\\n",
    "2 & 3 \\\\\n",
    "4 & 5\n",
    "\\end{pmatrix}\n",
    "$$\n",
    "* Utiliser la méthode `computeMean` pour calculer la moyenne empirique.\n",
    "* Utiliser la méthode `getMin` pour calculer le minimum."
   ]
  },
  {
   "cell_type": "markdown",
   "metadata": {},
   "source": [
    "## Solution de l'exercice 2 : moyenne et minimum"
   ]
  },
  {
   "cell_type": "code",
   "execution_count": 3,
   "metadata": {},
   "outputs": [
    {
     "data": {
      "text/html": [
       "<TABLE><TR><TD></TD><TH>v0</TH><TH>v1</TH></TR>\n",
       "<TR><TD>0</TD><TD>0.0</TD><TD>1.0</TD></TR>\n",
       "<TR><TD>1</TD><TD>2.0</TD><TD>3.0</TD></TR>\n",
       "<TR><TD>2</TD><TD>4.0</TD><TD>5.0</TD></TR>\n",
       "</TABLE>"
      ],
      "text/plain": [
       "class=Sample name=Unnamed implementation=class=SampleImplementation name=Unnamed size=3 dimension=2 data=[[0,1],[2,3],[4,5]]"
      ]
     },
     "execution_count": 3,
     "metadata": {},
     "output_type": "execute_result"
    }
   ],
   "source": [
    "x = ot.Sample(range(6),2)\n",
    "x"
   ]
  },
  {
   "cell_type": "code",
   "execution_count": 4,
   "metadata": {},
   "outputs": [
    {
     "data": {
      "text/html": [
       "<p>[2,3]</p>"
      ],
      "text/plain": [
       "class=Point name=Unnamed dimension=2 values=[2,3]"
      ]
     },
     "execution_count": 4,
     "metadata": {},
     "output_type": "execute_result"
    }
   ],
   "source": [
    "x.computeMean()"
   ]
  },
  {
   "cell_type": "code",
   "execution_count": 5,
   "metadata": {},
   "outputs": [
    {
     "data": {
      "text/html": [
       "<p>[0,1]</p>"
      ],
      "text/plain": [
       "class=Point name=Unnamed dimension=2 values=[0,1]"
      ]
     },
     "execution_count": 5,
     "metadata": {},
     "output_type": "execute_result"
    }
   ],
   "source": [
    "x.getMin()"
   ]
  },
  {
   "cell_type": "markdown",
   "metadata": {},
   "source": [
    "## Exercice 3 : différents échantillons\n",
    "\n",
    "Quel est le résultat des instructions suivantes ?\n",
    "\n",
    "`\n",
    "u= np.linspace (0 ,1 ,10)\n",
    "ot.Sample(u ,2)\n",
    "ot.Sample (u ,3)\n",
    "ot.Sample (u ,12)\n",
    "`"
   ]
  },
  {
   "cell_type": "markdown",
   "metadata": {},
   "source": [
    "## Solution de l'exercice 3 : différents échantillons"
   ]
  },
  {
   "cell_type": "code",
   "execution_count": 6,
   "metadata": {},
   "outputs": [
    {
     "data": {
      "text/plain": [
       "array([0.        , 0.11111111, 0.22222222, 0.33333333, 0.44444444,\n",
       "       0.55555556, 0.66666667, 0.77777778, 0.88888889, 1.        ])"
      ]
     },
     "execution_count": 6,
     "metadata": {},
     "output_type": "execute_result"
    }
   ],
   "source": [
    "import numpy as np\n",
    "u= np.linspace (0 ,1 ,10)\n",
    "u"
   ]
  },
  {
   "cell_type": "markdown",
   "metadata": {},
   "source": [
    "L'instruction suivante créée un échantillon de taille 5 en dimension 2."
   ]
  },
  {
   "cell_type": "code",
   "execution_count": 7,
   "metadata": {
    "scrolled": true
   },
   "outputs": [
    {
     "data": {
      "text/html": [
       "<TABLE><TR><TD></TD><TH>v0</TH><TH>v1</TH></TR>\n",
       "<TR><TD>0</TD><TD>0.0</TD><TD>0.1111111111111111</TD></TR>\n",
       "<TR><TD>1</TD><TD>0.2222222222222222</TD><TD>0.3333333333333333</TD></TR>\n",
       "<TR><TD>2</TD><TD>0.4444444444444444</TD><TD>0.5555555555555556</TD></TR>\n",
       "<TR><TD>3</TD><TD>0.6666666666666666</TD><TD>0.7777777777777777</TD></TR>\n",
       "<TR><TD>4</TD><TD>0.8888888888888888</TD><TD>1.0</TD></TR>\n",
       "</TABLE>"
      ],
      "text/plain": [
       "class=Sample name=Unnamed implementation=class=SampleImplementation name=Unnamed size=5 dimension=2 data=[[0,0.111111],[0.222222,0.333333],[0.444444,0.555556],[0.666667,0.777778],[0.888889,1]]"
      ]
     },
     "execution_count": 7,
     "metadata": {},
     "output_type": "execute_result"
    }
   ],
   "source": [
    "ot.Sample(u ,2)"
   ]
  },
  {
   "cell_type": "markdown",
   "metadata": {},
   "source": [
    "L'instruction suivante créée un échantillon de taille 4 en dimension 3. Puisque 4*3=12 et que `u` ne contient que 10 valeurs, OpenTURNS complète avec des zéros."
   ]
  },
  {
   "cell_type": "code",
   "execution_count": 8,
   "metadata": {
    "scrolled": true
   },
   "outputs": [
    {
     "data": {
      "text/html": [
       "<TABLE><TR><TD></TD><TH>v0</TH><TH>v1</TH><TH>v2</TH></TR>\n",
       "<TR><TD>0</TD><TD>0.0</TD><TD>0.1111111111111111</TD><TD>0.2222222222222222</TD></TR>\n",
       "<TR><TD>1</TD><TD>0.3333333333333333</TD><TD>0.4444444444444444</TD><TD>0.5555555555555556</TD></TR>\n",
       "<TR><TD>2</TD><TD>0.6666666666666666</TD><TD>0.7777777777777777</TD><TD>0.8888888888888888</TD></TR>\n",
       "<TR><TD>3</TD><TD>1.0</TD><TD>0.0</TD><TD>0.0</TD></TR>\n",
       "</TABLE>"
      ],
      "text/plain": [
       "class=Sample name=Unnamed implementation=class=SampleImplementation name=Unnamed size=4 dimension=3 data=[[0,0.111111,0.222222],[0.333333,0.444444,0.555556],[0.666667,0.777778,0.888889],[1,0,0]]"
      ]
     },
     "execution_count": 8,
     "metadata": {},
     "output_type": "execute_result"
    }
   ],
   "source": [
    "ot.Sample (u ,3)"
   ]
  },
  {
   "cell_type": "markdown",
   "metadata": {},
   "source": [
    "L'instruction suivante créée un échantillon de taille 1 en dimension 12. De même que précédemment, OpenTURNS complète la fin du tableau avec des zéros."
   ]
  },
  {
   "cell_type": "code",
   "execution_count": 9,
   "metadata": {},
   "outputs": [
    {
     "data": {
      "text/html": [
       "<TABLE><TR><TD></TD><TH>v0</TH><TH>v1</TH><TH>v2</TH><TH>v3</TH><TH>v4</TH><TH>v5</TH><TH>v6</TH><TH>v7</TH><TH>v8</TH><TH>v9</TH><TH>v10</TH><TH>v11</TH></TR>\n",
       "<TR><TD>0</TD><TD>0.0</TD><TD>0.1111111111111111</TD><TD>0.2222222222222222</TD><TD>0.3333333333333333</TD><TD>0.4444444444444444</TD><TD>0.5555555555555556</TD><TD>0.6666666666666666</TD><TD>0.7777777777777777</TD><TD>0.8888888888888888</TD><TD>1.0</TD><TD>0.0</TD><TD>0.0</TD></TR>\n",
       "</TABLE>"
      ],
      "text/plain": [
       "class=Sample name=Unnamed implementation=class=SampleImplementation name=Unnamed size=1 dimension=12 data=[[0,0.111111,0.222222,0.333333,0.444444,0.555556,0.666667,0.777778,0.888889,1,0,0]]"
      ]
     },
     "execution_count": 9,
     "metadata": {},
     "output_type": "execute_result"
    }
   ],
   "source": [
    "ot.Sample (u ,12)"
   ]
  },
  {
   "cell_type": "markdown",
   "metadata": {},
   "source": [
    "## Exercice 4 : un pythonisme\n",
    "\n",
    "Experimentez le pythonisme suivant, qui permet d’extrait les quatre\n",
    "champs d’un `Point` en une seule ligne :\n",
    "\n",
    "`\n",
    "X= ot.Point ([12 ,1.680 ,3.1416 ,2.7183])\n",
    "[ apotres, golden, pi, euler ]=X\n",
    "`\n",
    "\n",
    "* Afficher les valeurs de `apotres`, `golden`, `pi` et `euler` et vérifier les valeurs. \n",
    "* Que se passe-t-il si on ajoute une dimension dans le `Point` ?"
   ]
  },
  {
   "cell_type": "markdown",
   "metadata": {},
   "source": [
    "## Solution de l'exercice 4 : un pythonisme"
   ]
  },
  {
   "cell_type": "markdown",
   "metadata": {},
   "source": [
    "L'instruction suivante permet d'extraire les 4 composantes de `X` en une seule instruction."
   ]
  },
  {
   "cell_type": "code",
   "execution_count": 10,
   "metadata": {},
   "outputs": [],
   "source": [
    "X= ot.Point ([12 ,1.680 ,3.1416 ,2.7183])\n",
    "[ apotres, golden ,pi , euler ]=X"
   ]
  },
  {
   "cell_type": "code",
   "execution_count": 11,
   "metadata": {},
   "outputs": [
    {
     "data": {
      "text/plain": [
       "12.0"
      ]
     },
     "execution_count": 11,
     "metadata": {},
     "output_type": "execute_result"
    }
   ],
   "source": [
    "apotres"
   ]
  },
  {
   "cell_type": "code",
   "execution_count": 12,
   "metadata": {},
   "outputs": [
    {
     "data": {
      "text/plain": [
       "1.68"
      ]
     },
     "execution_count": 12,
     "metadata": {},
     "output_type": "execute_result"
    }
   ],
   "source": [
    "golden"
   ]
  },
  {
   "cell_type": "code",
   "execution_count": 13,
   "metadata": {},
   "outputs": [
    {
     "data": {
      "text/plain": [
       "3.1416"
      ]
     },
     "execution_count": 13,
     "metadata": {},
     "output_type": "execute_result"
    }
   ],
   "source": [
    "pi"
   ]
  },
  {
   "cell_type": "code",
   "execution_count": 14,
   "metadata": {
    "scrolled": true
   },
   "outputs": [
    {
     "data": {
      "text/plain": [
       "2.7183"
      ]
     },
     "execution_count": 14,
     "metadata": {},
     "output_type": "execute_result"
    }
   ],
   "source": [
    "euler"
   ]
  },
  {
   "cell_type": "markdown",
   "metadata": {},
   "source": [
    "Lorsqu'on ajoute une dimension dans le Point, il faut ajouter une composante."
   ]
  },
  {
   "cell_type": "code",
   "execution_count": 15,
   "metadata": {},
   "outputs": [],
   "source": [
    "X= ot.Point ([12 ,1.680 ,3.1416 ,2.7183, 1234.])\n",
    "[ apotres, golden, pi, euler, toto ]=X"
   ]
  },
  {
   "cell_type": "markdown",
   "metadata": {},
   "source": [
    "## Exercice 5 : matrice de corrélation\n",
    "\n",
    "Créer la `CorrelationMatrix` correspondant à la matrice de\n",
    "corrélation suivante :\n",
    "$$\n",
    "A=\n",
    "\\begin{pmatrix}\n",
    "1   & 0.1 \\\\\n",
    "0.1 & 1\n",
    "\\end{pmatrix}\n",
    "$$\n",
    "de deux manières différentes : \n",
    "* à partir d’une liste Python, \n",
    "* à partir  d’un array Numpy."
   ]
  },
  {
   "cell_type": "markdown",
   "metadata": {},
   "source": [
    "## Solution de l'exercice 5 : matrice de corrélation"
   ]
  },
  {
   "cell_type": "code",
   "execution_count": 16,
   "metadata": {},
   "outputs": [
    {
     "data": {
      "text/html": [
       "<p>[[ 1   0.1 ]<br>\n",
       " [ 0.1 1   ]]</p>"
      ],
      "text/plain": [
       "class=CorrelationMatrix dimension=2 implementation=class=MatrixImplementation name=Unnamed rows=2 columns=2 values=[1,0.1,0.1,1]"
      ]
     },
     "execution_count": 16,
     "metadata": {},
     "output_type": "execute_result"
    }
   ],
   "source": [
    "R = ot.CorrelationMatrix([[1.,0.1],[0.1,1.]])\n",
    "R"
   ]
  },
  {
   "cell_type": "code",
   "execution_count": 17,
   "metadata": {},
   "outputs": [
    {
     "data": {
      "text/html": [
       "<p>[[ 1   0.1 ]<br>\n",
       " [ 0.1 1   ]]</p>"
      ],
      "text/plain": [
       "class=CorrelationMatrix dimension=2 implementation=class=MatrixImplementation name=Unnamed rows=2 columns=2 values=[1,0.1,0.1,1]"
      ]
     },
     "execution_count": 17,
     "metadata": {},
     "output_type": "execute_result"
    }
   ],
   "source": [
    "R = ot.CorrelationMatrix(np.array([[1.,0.1],[0.1,1.]]))\n",
    "R"
   ]
  },
  {
   "cell_type": "markdown",
   "metadata": {},
   "source": [
    "## Exercice 6 : split\n",
    "\n",
    "La méthode `split` de la classe `Sample` permet de découper un échantillon en deux parties. Par exemple, dans le contexte de la validation d'un méta-modèle, on découpe un échantillon en deux sous-échantillon :\n",
    "* un sous-échantillon d'apprentissage,\n",
    "* un sous-échantillon de validation.\n",
    "\n",
    "L'objectif de cet exercice est de faire des essais avec cette méthode. \n",
    "* Créer la variable `data` contenant un échantillon de taille 5 issu d'une loi gaussienne en dimension 2.\n",
    "* Utiliser la méthode `split` pour créer la variable `reste` contenant un sous-échantillon de taille 2. \n",
    "* Observer le contenu de la variable `data`."
   ]
  },
  {
   "cell_type": "markdown",
   "metadata": {},
   "source": [
    "## Solution de l'exercice 6 : split"
   ]
  },
  {
   "cell_type": "code",
   "execution_count": 18,
   "metadata": {},
   "outputs": [
    {
     "data": {
      "text/html": [
       "<TABLE><TR><TD></TD><TH>X0</TH><TH>X1</TH></TR>\n",
       "<TR><TD>0</TD><TD>0.6082016512187646</TD><TD>-1.2661731022166567</TD></TR>\n",
       "<TR><TD>1</TD><TD>-0.43826561996041397</TD><TD>1.2054782008285756</TD></TR>\n",
       "<TR><TD>2</TD><TD>-2.1813852346165143</TD><TD>0.3500420865302907</TD></TR>\n",
       "<TR><TD>3</TD><TD>-0.3550070491856397</TD><TD>1.437249310140903</TD></TR>\n",
       "<TR><TD>4</TD><TD>0.8106679824694837</TD><TD>0.79315601145977</TD></TR>\n",
       "</TABLE>"
      ],
      "text/plain": [
       "class=Sample name=Normal implementation=class=SampleImplementation name=Normal size=5 dimension=2 description=[X0,X1] data=[[0.608202,-1.26617],[-0.438266,1.20548],[-2.18139,0.350042],[-0.355007,1.43725],[0.810668,0.793156]]"
      ]
     },
     "execution_count": 18,
     "metadata": {},
     "output_type": "execute_result"
    }
   ],
   "source": [
    "data = ot.Normal(2).getSample(5)\n",
    "data"
   ]
  },
  {
   "cell_type": "markdown",
   "metadata": {},
   "source": [
    "Ici, on décide de générer un sous-échantillon contenant 2 réalisations :"
   ]
  },
  {
   "cell_type": "code",
   "execution_count": 19,
   "metadata": {},
   "outputs": [
    {
     "data": {
      "text/html": [
       "<TABLE><TR><TD></TD><TH>X0</TH><TH>X1</TH></TR>\n",
       "<TR><TD>0</TD><TD>0.6082016512187646</TD><TD>-1.2661731022166567</TD></TR>\n",
       "<TR><TD>1</TD><TD>-0.43826561996041397</TD><TD>1.2054782008285756</TD></TR>\n",
       "</TABLE>"
      ],
      "text/plain": [
       "class=Sample name=Normal implementation=class=SampleImplementation name=Normal size=2 dimension=2 description=[X0,X1] data=[[0.608202,-1.26617],[-0.438266,1.20548]]"
      ]
     },
     "execution_count": 19,
     "metadata": {},
     "output_type": "execute_result"
    }
   ],
   "source": [
    "reste = data.split(2)\n",
    "data"
   ]
  },
  {
   "cell_type": "markdown",
   "metadata": {},
   "source": [
    "Dans `reste`, il y a donc 5 - 2 = 3 réalisations :"
   ]
  },
  {
   "cell_type": "code",
   "execution_count": 20,
   "metadata": {
    "scrolled": false
   },
   "outputs": [
    {
     "data": {
      "text/html": [
       "<TABLE><TR><TD></TD><TH>X0</TH><TH>X1</TH></TR>\n",
       "<TR><TD>0</TD><TD>-2.1813852346165143</TD><TD>0.3500420865302907</TD></TR>\n",
       "<TR><TD>1</TD><TD>-0.3550070491856397</TD><TD>1.437249310140903</TD></TR>\n",
       "<TR><TD>2</TD><TD>0.8106679824694837</TD><TD>0.79315601145977</TD></TR>\n",
       "</TABLE>"
      ],
      "text/plain": [
       "class=Sample name=Unnamed implementation=class=SampleImplementation name=Unnamed size=3 dimension=2 description=[X0,X1] data=[[-2.18139,0.350042],[-0.355007,1.43725],[0.810668,0.793156]]"
      ]
     },
     "execution_count": 20,
     "metadata": {},
     "output_type": "execute_result"
    }
   ],
   "source": [
    "reste"
   ]
  },
  {
   "cell_type": "markdown",
   "metadata": {},
   "source": [
    "## Exercice 7 : types\n",
    "\n",
    "Lorsqu'on utilise par exemple la classe `Normal`, les méthodes associées peuvent renvoyer des `Sample`, des `Point` ou des `float` en fonction des cas. Il faut donc être capable de faire cohabiter ces objets. \n",
    "\n",
    "* Utiliser l'instruction suivante pour calculer la moyenne d'une variable gaussienne avec les paramètres par défaut :\n",
    "```\n",
    "moyenne = ot.Normal().getMean()\n",
    "```\n",
    "* Quel est le type de la variable `moyenne` ?\n",
    "* Extraire la première composante de `moyenne` : quel est son type ?\n",
    "* Créer un échantillon de 5 réalisations en dimension 3 d'une variable gaussienne centrée-réduite avec l'instruction :\n",
    "```\n",
    "X = ot.Normal(3).getSample(5)\n",
    "```\n",
    "* Quel est le type de `X` ?"
   ]
  },
  {
   "cell_type": "markdown",
   "metadata": {},
   "source": [
    "## Solution de l'exercice 7 : types\n",
    "\n",
    "La variable `moyenne` est un `Point`, dont la première composante est un `float`, qui vaut zéro."
   ]
  },
  {
   "cell_type": "code",
   "execution_count": 21,
   "metadata": {},
   "outputs": [
    {
     "data": {
      "text/html": [
       "<p>[0]</p>"
      ],
      "text/plain": [
       "class=Point name=Unnamed dimension=1 values=[0]"
      ]
     },
     "execution_count": 21,
     "metadata": {},
     "output_type": "execute_result"
    }
   ],
   "source": [
    "moyenne = ot.Normal().getMean()\n",
    "moyenne"
   ]
  },
  {
   "cell_type": "code",
   "execution_count": 22,
   "metadata": {},
   "outputs": [
    {
     "data": {
      "text/plain": [
       "openturns.typ.Point"
      ]
     },
     "execution_count": 22,
     "metadata": {},
     "output_type": "execute_result"
    }
   ],
   "source": [
    "type(moyenne)"
   ]
  },
  {
   "cell_type": "code",
   "execution_count": 23,
   "metadata": {},
   "outputs": [
    {
     "data": {
      "text/plain": [
       "0.0"
      ]
     },
     "execution_count": 23,
     "metadata": {},
     "output_type": "execute_result"
    }
   ],
   "source": [
    "moyenneZero = moyenne [0]\n",
    "moyenneZero"
   ]
  },
  {
   "cell_type": "code",
   "execution_count": 24,
   "metadata": {},
   "outputs": [
    {
     "data": {
      "text/plain": [
       "float"
      ]
     },
     "execution_count": 24,
     "metadata": {},
     "output_type": "execute_result"
    }
   ],
   "source": [
    "type(moyenneZero)"
   ]
  },
  {
   "cell_type": "markdown",
   "metadata": {},
   "source": [
    "Dans l'exemple suivant, on créée un échantillon de 5 réalisations en dimension 3 d'une variable gaussienne centrée-réduite. "
   ]
  },
  {
   "cell_type": "code",
   "execution_count": 25,
   "metadata": {
    "scrolled": false
   },
   "outputs": [
    {
     "data": {
      "text/html": [
       "<TABLE><TR><TD></TD><TH>X0</TH><TH>X1</TH><TH>X2</TH></TR>\n",
       "<TR><TD>0</TD><TD>-0.4705255986325704</TD><TD>0.26101793529769673</TD><TD>-2.2900619818700854</TD></TR>\n",
       "<TR><TD>1</TD><TD>-1.2828852904549808</TD><TD>-1.311781115463341</TD><TD>-0.09078382658049489</TD></TR>\n",
       "<TR><TD>2</TD><TD>0.9957932259165571</TD><TD>-0.13945281896393122</TD><TD>-0.5602056000378475</TD></TR>\n",
       "<TR><TD>3</TD><TD>0.4454896972990519</TD><TD>0.32292503034661274</TD><TD>0.44578529818450985</TD></TR>\n",
       "<TR><TD>4</TD><TD>-1.0380765948630941</TD><TD>-0.8567122780208447</TD><TD>0.4736169171884015</TD></TR>\n",
       "</TABLE>"
      ],
      "text/plain": [
       "class=Sample name=Normal implementation=class=SampleImplementation name=Normal size=5 dimension=3 description=[X0,X1,X2] data=[[-0.470526,0.261018,-2.29006],[-1.28289,-1.31178,-0.0907838],[0.995793,-0.139453,-0.560206],[0.44549,0.322925,0.445785],[-1.03808,-0.856712,0.473617]]"
      ]
     },
     "execution_count": 25,
     "metadata": {},
     "output_type": "execute_result"
    }
   ],
   "source": [
    "X = ot.Normal(3).getSample(5)\n",
    "X"
   ]
  },
  {
   "cell_type": "code",
   "execution_count": 26,
   "metadata": {},
   "outputs": [
    {
     "data": {
      "text/plain": [
       "openturns.typ.Sample"
      ]
     },
     "execution_count": 26,
     "metadata": {},
     "output_type": "execute_result"
    }
   ],
   "source": [
    "type(X)"
   ]
  }
 ],
 "metadata": {
  "kernelspec": {
   "display_name": "Python 3",
   "language": "python",
   "name": "python3"
  },
  "language_info": {
   "codemirror_mode": {
    "name": "ipython",
    "version": 3
   },
   "file_extension": ".py",
   "mimetype": "text/x-python",
   "name": "python",
   "nbconvert_exporter": "python",
   "pygments_lexer": "ipython3",
   "version": "3.7.1"
  }
 },
 "nbformat": 4,
 "nbformat_minor": 2
}
