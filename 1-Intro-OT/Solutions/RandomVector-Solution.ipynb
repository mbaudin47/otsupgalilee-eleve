{
 "cells": [
  {
   "cell_type": "markdown",
   "metadata": {},
   "source": [
    "# RandomVector"
   ]
  },
  {
   "cell_type": "markdown",
   "metadata": {},
   "source": [
    "## Résumé\n",
    "\n",
    "Dans ce segment, nous présentons la classe `RandomVector`. Nous présentons en particulier le lien et les différences avec la classe `ComposedDistribution`. "
   ]
  },
  {
   "cell_type": "code",
   "execution_count": 1,
   "metadata": {},
   "outputs": [],
   "source": [
    "import openturns as ot"
   ]
  },
  {
   "cell_type": "markdown",
   "metadata": {},
   "source": [
    "## Solution de l'exercice 1 : : une fonction à trois entrées"
   ]
  },
  {
   "cell_type": "code",
   "execution_count": 2,
   "metadata": {},
   "outputs": [],
   "source": [
    "inputDistribution = ot.ComposedDistribution([ot.Normal()] * 3)\n",
    "inputRandomVector = ot.RandomVector(inputDistribution)\n",
    "mySymbolicSimulator = ot.SymbolicFunction(\n",
    "    [\"X1\", \"X2\", \"X3\"], [\"X1 + X2 + X3\", \"X1 - X2 * X3\"]\n",
    ")\n",
    "outputRandomVector = ot.CompositeRandomVector(mySymbolicSimulator, inputRandomVector)"
   ]
  },
  {
   "cell_type": "markdown",
   "metadata": {},
   "source": [
    "## Solution de l'exercice 2 : quatre conversions"
   ]
  },
  {
   "cell_type": "markdown",
   "metadata": {},
   "source": [
    "1. On peut toujours convertir un `RandomVector` en `RandomVector` : facile."
   ]
  },
  {
   "cell_type": "code",
   "execution_count": 3,
   "metadata": {},
   "outputs": [
    {
     "name": "stdout",
     "output_type": "stream",
     "text": [
      "class=RandomVector implementation=class=UsualRandomVector distribution=class=ComposedDistribution name=ComposedDistribution dimension=3 copula=class=IndependentCopula name=IndependentCopula dimension=3 marginal[0]=class=Normal name=Normal dimension=1 mean=class=Point name=Unnamed dimension=1 values=[0] sigma=class=Point name=Unnamed dimension=1 values=[1] correlationMatrix=class=CorrelationMatrix dimension=1 implementation=class=MatrixImplementation name=Unnamed rows=1 columns=1 values=[1] marginal[1]=class=Normal name=Normal dimension=1 mean=class=Point name=Unnamed dimension=1 values=[0] sigma=class=Point name=Unnamed dimension=1 values=[1] correlationMatrix=class=CorrelationMatrix dimension=1 implementation=class=MatrixImplementation name=Unnamed rows=1 columns=1 values=[1] marginal[2]=class=Normal name=Normal dimension=1 mean=class=Point name=Unnamed dimension=1 values=[0] sigma=class=Point name=Unnamed dimension=1 values=[1] correlationMatrix=class=CorrelationMatrix dimension=1 implementation=class=MatrixImplementation name=Unnamed rows=1 columns=1 values=[1]\n"
     ]
    }
   ],
   "source": [
    "print(ot.RandomVector(inputRandomVector))"
   ]
  },
  {
   "cell_type": "markdown",
   "metadata": {},
   "source": [
    "2. On peut toujours convertir une `Distribution` en `Distribution` : bien sûr."
   ]
  },
  {
   "cell_type": "code",
   "execution_count": 4,
   "metadata": {},
   "outputs": [
    {
     "name": "stdout",
     "output_type": "stream",
     "text": [
      "ComposedDistribution(Normal(mu = 0, sigma = 1), Normal(mu = 0, sigma = 1), Normal(mu = 0, sigma = 1), IndependentCopula(dimension = 3))\n"
     ]
    }
   ],
   "source": [
    "print(ot.Distribution(inputDistribution))"
   ]
  },
  {
   "cell_type": "markdown",
   "metadata": {},
   "source": [
    "3. On peut toujours convertir une `Distribution` en `RandomVector` : puisque la distribution est connue, cette conversion ne pose aucun problème."
   ]
  },
  {
   "cell_type": "code",
   "execution_count": 5,
   "metadata": {},
   "outputs": [
    {
     "name": "stdout",
     "output_type": "stream",
     "text": [
      "class=RandomVector implementation=class=UsualRandomVector distribution=class=ComposedDistribution name=ComposedDistribution dimension=3 copula=class=IndependentCopula name=IndependentCopula dimension=3 marginal[0]=class=Normal name=Normal dimension=1 mean=class=Point name=Unnamed dimension=1 values=[0] sigma=class=Point name=Unnamed dimension=1 values=[1] correlationMatrix=class=CorrelationMatrix dimension=1 implementation=class=MatrixImplementation name=Unnamed rows=1 columns=1 values=[1] marginal[1]=class=Normal name=Normal dimension=1 mean=class=Point name=Unnamed dimension=1 values=[0] sigma=class=Point name=Unnamed dimension=1 values=[1] correlationMatrix=class=CorrelationMatrix dimension=1 implementation=class=MatrixImplementation name=Unnamed rows=1 columns=1 values=[1] marginal[2]=class=Normal name=Normal dimension=1 mean=class=Point name=Unnamed dimension=1 values=[0] sigma=class=Point name=Unnamed dimension=1 values=[1] correlationMatrix=class=CorrelationMatrix dimension=1 implementation=class=MatrixImplementation name=Unnamed rows=1 columns=1 values=[1]\n"
     ]
    }
   ],
   "source": [
    "print(ot.RandomVector(inputDistribution))"
   ]
  },
  {
   "cell_type": "markdown",
   "metadata": {},
   "source": [
    "4. On ne peut pas convertir un `RandomVector` en `Distribution`."
   ]
  },
  {
   "cell_type": "code",
   "execution_count": 7,
   "metadata": {},
   "outputs": [],
   "source": [
    "# Décommenter la ligne ci-dessous (génère une exception)\n",
    "# ot.Distribution(inputRandomVector)"
   ]
  },
  {
   "cell_type": "markdown",
   "metadata": {},
   "source": [
    "En effet, la distribution n'est pas connue dans le vecteur aléatoire `inputRandomVector` : il est donc impossible de créer la `ComposedDistribution`. "
   ]
  },
  {
   "cell_type": "markdown",
   "metadata": {},
   "source": [
    "## Exercice 3 : composition de RandomVector\n"
   ]
  },
  {
   "cell_type": "code",
   "execution_count": 7,
   "metadata": {},
   "outputs": [],
   "source": [
    "def mySimulator2(x):\n",
    "    y0 = x[0] + x[1]\n",
    "    y1 = x[1] * x[2]\n",
    "    y = [y0, y1]\n",
    "    return y"
   ]
  },
  {
   "cell_type": "markdown",
   "metadata": {},
   "source": [
    "## Solution de l'exercice 3 : composition de RandomVector\n",
    "\n",
    "On peut composer deux `RandomVector`. "
   ]
  },
  {
   "cell_type": "code",
   "execution_count": 8,
   "metadata": {},
   "outputs": [],
   "source": [
    "def mySimulator(x):\n",
    "    y0 = x[0] + x[1] + x[2]\n",
    "    y1 = x[0] - x[1] * x[2]\n",
    "    y = [y0, y1]\n",
    "    return y"
   ]
  },
  {
   "cell_type": "code",
   "execution_count": 9,
   "metadata": {},
   "outputs": [
    {
     "data": {
      "text/html": [
       "<TABLE><TR><TD></TD><TH>y0</TH><TH>y1</TH></TR>\n",
       "<TR><TH>0</TH><TD>0.4877181</TD><TD>0.7729054</TD></TR>\n",
       "<TR><TH>1</TH><TD>-1.360162</TD><TD>-1.17351</TD></TR>\n",
       "<TR><TH>2</TH><TD>-1.291078</TD><TD>2.853124</TD></TR>\n",
       "<TR><TH>3</TH><TD>0.7332609</TD><TD>2.245472</TD></TR>\n",
       "<TR><TH>4</TH><TD>-2.70001</TD><TD>-1.140938</TD></TR>\n",
       "</TABLE>"
      ],
      "text/plain": [
       "class=Sample name=Unnamed implementation=class=SampleImplementation name=Unnamed size=5 dimension=2 description=[y0,y1] data=[[0.487718,0.772905],[-1.36016,-1.17351],[-1.29108,2.85312],[0.733261,2.24547],[-2.70001,-1.14094]]"
      ]
     },
     "execution_count": 9,
     "metadata": {},
     "output_type": "execute_result"
    }
   ],
   "source": [
    "X0 = ot.Normal(0.0, 1.0)\n",
    "X1 = ot.Normal(0.0, 1.0)\n",
    "X2 = ot.Normal(0.0, 1.0)\n",
    "inputDistribution = ot.ComposedDistribution((X0, X1, X2))\n",
    "inputRandomVector = ot.RandomVector(inputDistribution)\n",
    "myWrapper = ot.PythonFunction(3, 2, mySimulator)\n",
    "outputRandomVector = ot.CompositeRandomVector(myWrapper, inputRandomVector)\n",
    "outputRandomVector.getSample(5)"
   ]
  },
  {
   "cell_type": "code",
   "execution_count": 10,
   "metadata": {},
   "outputs": [],
   "source": [
    "def mySimulator2(x):\n",
    "    y0 = x[0] + x[1]\n",
    "    y1 = x[1] ** 2\n",
    "    y = [y0, y1]\n",
    "    return y"
   ]
  },
  {
   "cell_type": "code",
   "execution_count": 11,
   "metadata": {},
   "outputs": [
    {
     "data": {
      "text/html": [
       "<TABLE><TR><TD></TD><TH>y0</TH><TH>y1</TH></TR>\n",
       "<TR><TH>0</TH><TD>0.056386</TD><TD>0.002525813</TD></TR>\n",
       "<TR><TH>1</TH><TD>2.632133</TD><TD>0.7041498</TD></TR>\n",
       "<TR><TH>2</TH><TD>2.315601</TD><TD>2.926741</TD></TR>\n",
       "<TR><TH>3</TH><TD>-1.846769</TD><TD>0.2500581</TD></TR>\n",
       "<TR><TH>4</TH><TD>0.9532982</TD><TD>0.665135</TD></TR>\n",
       "</TABLE>"
      ],
      "text/plain": [
       "class=Sample name=Unnamed implementation=class=SampleImplementation name=Unnamed size=5 dimension=2 description=[y0,y1] data=[[0.056386,0.00252581],[2.63213,0.70415],[2.3156,2.92674],[-1.84677,0.250058],[0.953298,0.665135]]"
      ]
     },
     "execution_count": 11,
     "metadata": {},
     "output_type": "execute_result"
    }
   ],
   "source": [
    "myWrapper2 = ot.PythonFunction(2, 2, mySimulator2)\n",
    "outputRandomVector2 = ot.CompositeRandomVector(myWrapper2, outputRandomVector)\n",
    "outputRandomVector2.getSample(5)"
   ]
  },
  {
   "cell_type": "markdown",
   "metadata": {},
   "source": [
    "Alternative : composer les deux fonctions, puis créer le `RandomVector`. "
   ]
  },
  {
   "cell_type": "code",
   "execution_count": 12,
   "metadata": {},
   "outputs": [
    {
     "data": {
      "text/html": [
       "<TABLE><TR><TD></TD><TH>y0</TH><TH>y1</TH></TR>\n",
       "<TR><TH>0</TH><TD>-0.4404945</TD><TD>1.279209</TD></TR>\n",
       "<TR><TH>1</TH><TD>0.1337234</TD><TD>0.01404474</TD></TR>\n",
       "<TR><TH>2</TH><TD>-4.019236</TD><TD>3.256824</TD></TR>\n",
       "<TR><TH>3</TH><TD>0.9952752</TD><TD>0.6518744</TD></TR>\n",
       "<TR><TH>4</TH><TD>3.216163</TD><TD>1.665288</TD></TR>\n",
       "</TABLE>"
      ],
      "text/plain": [
       "class=Sample name=Unnamed implementation=class=SampleImplementation name=Unnamed size=5 dimension=2 description=[y0,y1] data=[[-0.440495,1.27921],[0.133723,0.0140447],[-4.01924,3.25682],[0.995275,0.651874],[3.21616,1.66529]]"
      ]
     },
     "execution_count": 12,
     "metadata": {},
     "output_type": "execute_result"
    }
   ],
   "source": [
    "myWrapper3 = ot.ComposedFunction(myWrapper2, myWrapper)\n",
    "outputRandomVector3 = ot.CompositeRandomVector(myWrapper3, inputRandomVector)\n",
    "outputRandomVector3.getSample(5)"
   ]
  },
  {
   "cell_type": "code",
   "execution_count": null,
   "metadata": {},
   "outputs": [],
   "source": [
    "def myCompositeAMoi(x):\n",
    "    y = myWrapper(x)\n",
    "    y2 = myWrapper2(y)\n",
    "    return y2"
   ]
  },
  {
   "cell_type": "markdown",
   "metadata": {},
   "source": [
    "## Solution de l'exercice 4 :  la classe CompositeDistribution"
   ]
  },
  {
   "cell_type": "code",
   "execution_count": 13,
   "metadata": {},
   "outputs": [
    {
     "data": {
      "image/png": "[encoded data removed]",
      "text/plain": [
       "class=Graph name=pdf as a function of X0 implementation=class=GraphImplementation name=pdf as a function of X0 title= xTitle=X0 yTitle=PDF axes=ON grid=ON legendposition=topright legendFontSize=1 drawables=[class=Drawable name=Unnamed implementation=class=Curve name=Unnamed derived from class=DrawableImplementation name=Unnamed legend=X0 PDF data=class=Sample name=Unnamed implementation=class=SampleImplementation name=Unnamed size=129 dimension=2 data=[[-9.12,0],[-8.88375,0],[-8.6475,0],[-8.41125,0],[-8.175,0],[-7.93875,0],[-7.7025,0],[-7.46625,0],[-7.23,0],[-6.99375,0],[-6.7575,0],[-6.52125,0],[-6.285,0],[-6.04875,0],[-5.8125,0],[-5.57625,0],[-5.34,0],[-5.10375,0],[-4.8675,0],[-4.63125,0],[-4.395,0],[-4.15875,0],[-3.9225,0],[-3.68625,0],[-3.45,0],[-3.21375,0],[-2.9775,0],[-2.74125,0],[-2.505,0],[-2.26875,0],[-2.0325,0],[-1.79625,0],[-1.56,0],[-1.32375,0],[-1.0875,0],[-0.85125,0],[-0.615,0],[-0.37875,0],[-0.1425,0],[0.09375,0.0833333],[0.33,0.0833333],[0.56625,0.0833333],[0.8025,0.0833333],[1.03875,0.0833333],[1.275,0.0833333],[1.51125,0.0833333],[1.7475,0.0833333],[1.98375,0.0833333],[2.22,0.0833333],[2.45625,0.0833333],[2.6925,0.0833333],[2.92875,0.0833333],[3.165,0.0833333],[3.40125,0.0833333],[3.6375,0.0833333],[3.87375,0.0833333],[4.11,0.0833333],[4.34625,0.0833333],[4.5825,0.0833333],[4.81875,0.0833333],[5.055,0.0833333],[5.29125,0.0833333],[5.5275,0.0833333],[5.76375,0.0833333],[6,0.0833333],[6.23625,0.0833333],[6.4725,0.0833333],[6.70875,0.0833333],[6.945,0.0833333],[7.18125,0.0833333],[7.4175,0.0833333],[7.65375,0.0833333],[7.89,0.0833333],[8.12625,0.0833333],[8.3625,0.0833333],[8.59875,0.0833333],[8.835,0.0833333],[9.07125,0.0833333],[9.3075,0.0833333],[9.54375,0.0833333],[9.78,0.0833333],[10.0162,0.0833333],[10.2525,0.0833333],[10.4887,0.0833333],[10.725,0.0833333],[10.9612,0.0833333],[11.1975,0.0833333],[11.4337,0.0833333],[11.67,0.0833333],[11.9062,0.0833333],[12.1425,0],[12.3788,0],[12.615,0],[12.8513,0],[13.0875,0],[13.3238,0],[13.56,0],[13.7962,0],[14.0325,0],[14.2687,0],[14.505,0],[14.7412,0],[14.9775,0],[15.2137,0],[15.45,0],[15.6862,0],[15.9225,0],[16.1587,0],[16.395,0],[16.6312,0],[16.8675,0],[17.1037,0],[17.34,0],[17.5762,0],[17.8125,0],[18.0487,0],[18.285,0],[18.5212,0],[18.7575,0],[18.9937,0],[19.23,0],[19.4662,0],[19.7025,0],[19.9387,0],[20.175,0],[20.4112,0],[20.6475,0],[20.8837,0],[21.12,0]] color=red fillStyle=solid lineStyle=solid pointStyle=none lineWidth=2]"
      ]
     },
     "execution_count": 13,
     "metadata": {},
     "output_type": "execute_result"
    }
   ],
   "source": [
    "distributionX = ot.Uniform(0, 12)\n",
    "distributionX.drawPDF()"
   ]
  },
  {
   "cell_type": "code",
   "execution_count": 14,
   "metadata": {},
   "outputs": [
    {
     "data": {
      "image/png": "[encoded data removed]",
      "text/plain": [
       "class=Graph name=y0 as a function of X1 implementation=class=GraphImplementation name=y0 as a function of X1 title=y0 as a function of X1 xTitle=X1 yTitle=y0 axes=ON grid=ON legendposition= legendFontSize=1 drawables=[class=Drawable name=Unnamed implementation=class=Curve name=Unnamed derived from class=DrawableImplementation name=Unnamed legend= data=class=Sample name=Unnamed implementation=class=SampleImplementation name=Unnamed size=100 dimension=2 data=[[0,1],[0.121212,1.01469],[0.242424,1.05877],[0.363636,1.13223],[0.484848,1.23508],[0.606061,1.36731],[0.727273,1.52893],[0.848485,1.71993],[0.969697,1.94031],[1.09091,2.19008],[1.21212,2.46924],[1.33333,2.77778],[1.45455,3.1157],[1.57576,3.48301],[1.69697,3.87971],[1.81818,4.30579],[1.93939,4.76125],[2.06061,5.2461],[2.18182,5.76033],[2.30303,6.30395],[2.42424,6.87695],[2.54545,7.47934],[2.66667,8.11111],[2.78788,8.77227],[2.90909,9.46281],[3.0303,10.1827],[3.15152,10.932],[3.27273,11.7107],[3.39394,12.5188],[3.51515,13.3563],[3.63636,14.2231],[3.75758,15.1194],[3.87879,16.045],[4,17],[4.12121,17.9844],[4.24242,18.9982],[4.36364,20.0413],[4.48485,21.1139],[4.60606,22.2158],[4.72727,23.3471],[4.84848,24.5078],[4.9697,25.6979],[5.09091,26.9174],[5.21212,28.1662],[5.33333,29.4444],[5.45455,30.7521],[5.57576,32.0891],[5.69697,33.4555],[5.81818,34.8512],[5.93939,36.2764],[6.06061,37.7309],[6.18182,39.2149],[6.30303,40.7282],[6.42424,42.2709],[6.54545,43.843],[6.66667,45.4444],[6.78788,47.0753],[6.90909,48.7355],[7.0303,50.4252],[7.15152,52.1442],[7.27273,53.8926],[7.39394,55.6703],[7.51515,57.4775],[7.63636,59.314],[7.75758,61.18],[7.87879,63.0753],[8,65],[8.12121,66.9541],[8.24242,68.9376],[8.36364,70.9504],[8.48485,72.9927],[8.60606,75.0643],[8.72727,77.1653],[8.84848,79.2957],[8.9697,81.4555],[9.09091,83.6446],[9.21212,85.8632],[9.33333,88.1111],[9.45455,90.3884],[9.57576,92.6951],[9.69697,95.0312],[9.81818,97.3967],[9.93939,99.7916],[10.0606,102.216],[10.1818,104.669],[10.303,107.152],[10.4242,109.665],[10.5455,112.207],[10.6667,114.778],[10.7879,117.378],[10.9091,120.008],[11.0303,122.668],[11.1515,125.356],[11.2727,128.074],[11.3939,130.822],[11.5152,133.599],[11.6364,136.405],[11.7576,139.241],[11.8788,142.106],[12,145]] color=blue fillStyle=solid lineStyle=solid pointStyle=none lineWidth=1]"
      ]
     },
     "execution_count": 14,
     "metadata": {},
     "output_type": "execute_result"
    }
   ],
   "source": [
    "maFonc = ot.SymbolicFunction([\"X1\"], [\"1 + X1 ^ 2\"])\n",
    "maFonc.draw(0, 12, 100)"
   ]
  },
  {
   "cell_type": "code",
   "execution_count": 15,
   "metadata": {},
   "outputs": [],
   "source": [
    "outputDistEx4 = ot.CompositeDistribution(maFonc, distributionX)"
   ]
  },
  {
   "cell_type": "markdown",
   "metadata": {},
   "source": [
    "Dessine la distribution de $Y$."
   ]
  },
  {
   "cell_type": "code",
   "execution_count": 16,
   "metadata": {},
   "outputs": [
    {
     "data": {
      "image/png": "[encoded data removed]",
      "text/plain": [
       "class=Graph name=pdf as a function of X0 implementation=class=GraphImplementation name=pdf as a function of X0 title= xTitle=X0 yTitle=PDF axes=ON grid=ON legendposition=topright legendFontSize=1 drawables=[class=Drawable name=Unnamed implementation=class=Curve name=Unnamed derived from class=DrawableImplementation name=Unnamed legend=X0 PDF data=class=Sample name=Unnamed implementation=class=SampleImplementation name=Unnamed size=129 dimension=2 data=[[-126.8,0],[-123.965,0],[-121.13,0],[-118.295,0],[-115.46,0],[-112.625,0],[-109.79,0],[-106.955,0],[-104.12,0],[-101.285,0],[-98.45,0],[-95.615,0],[-92.78,0],[-89.945,0],[-87.11,0],[-84.275,0],[-81.44,0],[-78.605,0],[-75.77,0],[-72.935,0],[-70.1,0],[-67.265,0],[-64.43,0],[-61.595,0],[-58.76,0],[-55.925,0],[-53.09,0],[-50.255,0],[-47.42,0],[-44.585,0],[-41.75,0],[-38.915,0],[-36.08,0],[-33.245,0],[-30.41,0],[-27.575,0],[-24.74,0],[-21.905,0],[-19.07,0],[-16.235,0],[-13.4,0],[-10.565,0],[-7.73,0],[-4.895,0],[-2.06,0],[0.775,0],[3.61,0.025791],[6.445,0.0178562],[9.28,0.0144802],[12.115,0.0124978],[14.95,0.0111558],[17.785,0.0101702],[20.62,0.00940674],[23.455,0.0087929],[26.29,0.00828542],[29.125,0.00785674],[31.96,0.00748839],[34.795,0.00716741],[37.63,0.00688447],[40.465,0.00663258],[43.3,0.00640647],[46.135,0.006202],[48.97,0.00601595],[51.805,0.00584569],[54.64,0.00568911],[57.475,0.00554448],[60.31,0.00541034],[63.145,0.00528549],[65.98,0.00516891],[68.815,0.00505971],[71.65,0.00495716],[74.485,0.00486059],[77.32,0.00476946],[80.155,0.00468327],[82.99,0.00460159],[85.825,0.00452404],[88.66,0.00445029],[91.495,0.00438002],[94.33,0.00431299],[97.165,0.00424894],[100,0.00418766],[102.835,0.00412896],[105.67,0.00407266],[108.505,0.0040186],[111.34,0.00396664],[114.175,0.00391664],[117.01,0.00386849],[119.845,0.00382207],[122.68,0.00377728],[125.515,0.00373403],[128.35,0.00369223],[131.185,0.00365181],[134.02,0.00361269],[136.855,0.00357479],[139.69,0.00353807],[142.525,0.00350245],[145.36,0],[148.195,0],[151.03,0],[153.865,0],[156.7,0],[159.535,0],[162.37,0],[165.205,0],[168.04,0],[170.875,0],[173.71,0],[176.545,0],[179.38,0],[182.215,0],[185.05,0],[187.885,0],[190.72,0],[193.555,0],[196.39,0],[199.225,0],[202.06,0],[204.895,0],[207.73,0],[210.565,0],[213.4,0],[216.235,0],[219.07,0],[221.905,0],[224.74,0],[227.575,0],[230.41,0],[233.245,0],[236.08,0]] color=red fillStyle=solid lineStyle=solid pointStyle=none lineWidth=2]"
      ]
     },
     "execution_count": 16,
     "metadata": {},
     "output_type": "execute_result"
    }
   ],
   "source": [
    "outputDistEx4.drawPDF()"
   ]
  }
 ],
 "metadata": {
  "kernelspec": {
   "display_name": "Python 3 (ipykernel)",
   "language": "python",
   "name": "python3"
  },
  "language_info": {
   "codemirror_mode": {
    "name": "ipython",
    "version": 3
   },
   "file_extension": ".py",
   "mimetype": "text/x-python",
   "name": "python",
   "nbconvert_exporter": "python",
   "pygments_lexer": "ipython3",
   "version": "3.11.0"
  }
 },
 "nbformat": 4,
 "nbformat_minor": 2
}
