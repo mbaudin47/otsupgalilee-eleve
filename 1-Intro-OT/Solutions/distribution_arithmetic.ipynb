{
 "cells": [
  {
   "cell_type": "markdown",
   "metadata": {},
   "source": [
    "# Arithmetic and functions of distributions\n",
    "\n",
    "In this Notebook, we want to explore more details on the arithmetic of distributions."
   ]
  }
 ],
 "metadata": {
  "kernelspec": {
   "display_name": "otsupgalilee2023",
   "language": "python",
   "name": "python3"
  },
  "language_info": {
   "name": "python",
   "version": "3.11.0"
  },
  "orig_nbformat": 4
 },
 "nbformat": 4,
 "nbformat_minor": 2
}
