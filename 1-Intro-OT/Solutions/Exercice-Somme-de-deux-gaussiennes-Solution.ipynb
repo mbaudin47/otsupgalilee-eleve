{
 "cells": [
  {
   "cell_type": "markdown",
   "metadata": {
    "hideCode": false,
    "hidePrompt": false,
    "slideshow": {
     "slide_type": "slide"
    }
   },
   "source": [
    "# Somme de deux variables gaussiennes"
   ]
  },
  {
   "cell_type": "markdown",
   "metadata": {},
   "source": [
    "## Solution"
   ]
  },
  {
   "cell_type": "code",
   "execution_count": 1,
   "metadata": {
    "hideCode": false,
    "hidePrompt": false,
    "slideshow": {
     "slide_type": "subslide"
    }
   },
   "outputs": [],
   "source": [
    "import openturns as ot"
   ]
  },
  {
   "cell_type": "code",
   "execution_count": 2,
   "metadata": {
    "hideCode": false,
    "hidePrompt": false,
    "slideshow": {
     "slide_type": "subslide"
    }
   },
   "outputs": [],
   "source": [
    "d1 = ot.Normal(-5, 3)\n",
    "d2 = ot.Normal(5, 3)\n",
    "dist = ot.ComposedDistribution([d1, d2])\n",
    "inRV = ot.RandomVector(dist)"
   ]
  },
  {
   "cell_type": "markdown",
   "metadata": {},
   "source": [
    "We can solve the problem using a `PythonFunction`."
   ]
  },
  {
   "cell_type": "code",
   "execution_count": 3,
   "metadata": {},
   "outputs": [],
   "source": [
    "def g(x):\n",
    "    y = [x[0] + x[1]]\n",
    "    return y"
   ]
  },
  {
   "cell_type": "code",
   "execution_count": 4,
   "metadata": {},
   "outputs": [],
   "source": [
    "h = ot.PythonFunction(2, 1, g)\n",
    "outRV = ot.CompositeRandomVector(h, inRV)"
   ]
  },
  {
   "cell_type": "markdown",
   "metadata": {},
   "source": [
    "Another option is to use a `SymbolicFunction`."
   ]
  },
  {
   "cell_type": "code",
   "execution_count": 5,
   "metadata": {},
   "outputs": [],
   "source": [
    "inputs = ['x', 'y'] \n",
    "formula = ['x+y']\n",
    "g = ot.SymbolicFunction(inputs, formula)"
   ]
  },
  {
   "cell_type": "code",
   "execution_count": 6,
   "metadata": {},
   "outputs": [],
   "source": [
    "outRV = ot.CompositeRandomVector(g, inRV)"
   ]
  },
  {
   "cell_type": "code",
   "execution_count": 7,
   "metadata": {
    "slideshow": {
     "slide_type": "subslide"
    }
   },
   "outputs": [
    {
     "name": "stdout",
     "output_type": "stream",
     "text": [
      "N= 100\n",
      "Mean= [-0.237793]\n",
      "std= [4.39938]\n",
      "quantile of level 0.05 = -7.366265\n",
      "quantile of level 0.50 = -0.316641\n",
      "quantile of level 0.95 = 7.463649\n",
      "N= 1000\n",
      "Mean= [-0.109334]\n",
      "std= [4.23358]\n",
      "quantile of level 0.05 = -7.228896\n",
      "quantile of level 0.50 = -0.177534\n",
      "quantile of level 0.95 = 7.037153\n",
      "N= 10000\n",
      "Mean= [-0.01454]\n",
      "std= [4.23622]\n",
      "quantile of level 0.05 = -6.841447\n",
      "quantile of level 0.50 = -0.055519\n",
      "quantile of level 0.95 = 6.916933\n"
     ]
    }
   ],
   "source": [
    "for N in [100, 1000, 10000]:\n",
    "    x = outRV.getSample(N)\n",
    "    print(\"N=\",N)\n",
    "    print(\"Mean=\", x.computeMean())\n",
    "    print(\"std=\", x.computeStandardDeviationPerComponent())\n",
    "    for a in [0.05, 0.50, 0.95]:\n",
    "        print(\"quantile of level %1.2f = %1.6f\"%(a, x.computeQuantile(a)[0]))"
   ]
  },
  {
   "cell_type": "markdown",
   "metadata": {
    "hideCode": false,
    "hidePrompt": false,
    "slideshow": {
     "slide_type": "subslide"
    }
   },
   "source": [
    "Using the `+` operator:"
   ]
  },
  {
   "cell_type": "code",
   "execution_count": 8,
   "metadata": {
    "hideCode": false,
    "hidePrompt": false,
    "slideshow": {
     "slide_type": "subslide"
    }
   },
   "outputs": [
    {
     "name": "stdout",
     "output_type": "stream",
     "text": [
      "Normal(mu = 0, sigma = 4.24264)\n"
     ]
    }
   ],
   "source": [
    "rv = d1 + d2\n",
    "print(rv)"
   ]
  },
  {
   "cell_type": "markdown",
   "metadata": {
    "slideshow": {
     "slide_type": "subslide"
    }
   },
   "source": [
    "Get the mean:"
   ]
  },
  {
   "cell_type": "code",
   "execution_count": 9,
   "metadata": {
    "slideshow": {
     "slide_type": "fragment"
    }
   },
   "outputs": [
    {
     "data": {
      "text/html": [
       "<p>[0]</p>"
      ],
      "text/plain": [
       "class=Point name=Unnamed dimension=1 values=[0]"
      ]
     },
     "execution_count": 9,
     "metadata": {},
     "output_type": "execute_result"
    }
   ],
   "source": [
    "rv.getMean()"
   ]
  },
  {
   "cell_type": "markdown",
   "metadata": {
    "slideshow": {
     "slide_type": "subslide"
    }
   },
   "source": [
    "Get the standard deviation :"
   ]
  },
  {
   "cell_type": "code",
   "execution_count": 10,
   "metadata": {
    "slideshow": {
     "slide_type": "fragment"
    }
   },
   "outputs": [
    {
     "data": {
      "text/html": [
       "<p>[4.24264]</p>"
      ],
      "text/plain": [
       "class=Point name=Unnamed dimension=1 values=[4.24264]"
      ]
     },
     "execution_count": 10,
     "metadata": {},
     "output_type": "execute_result"
    }
   ],
   "source": [
    "rv.getStandardDeviation()"
   ]
  },
  {
   "cell_type": "markdown",
   "metadata": {
    "slideshow": {
     "slide_type": "subslide"
    }
   },
   "source": [
    "Compute the quantiles of level $\\alpha$=`0.05,0.50,0.95` :"
   ]
  },
  {
   "cell_type": "code",
   "execution_count": 11,
   "metadata": {
    "slideshow": {
     "slide_type": "fragment"
    }
   },
   "outputs": [
    {
     "name": "stdout",
     "output_type": "stream",
     "text": [
      "[-6.978522922060043, 0.0, 6.978522922060039]\n"
     ]
    }
   ],
   "source": [
    "q = [rv.computeQuantile(a)[0] for a in [0.05, 0.50, 0.95]]\n",
    "print(q)"
   ]
  },
  {
   "cell_type": "markdown",
   "metadata": {
    "hideCode": false,
    "hidePrompt": false,
    "slideshow": {
     "slide_type": "subslide"
    }
   },
   "source": [
    "With the `+` operator, the exact PDF is known."
   ]
  },
  {
   "cell_type": "code",
   "execution_count": 12,
   "metadata": {
    "hideCode": false,
    "hidePrompt": false,
    "slideshow": {
     "slide_type": "fragment"
    }
   },
   "outputs": [
    {
     "data": {
      "image/png": "[encoded data removed]",
      "text/plain": [
       "class=Graph name=pdf as a function of X0 implementation=class=GraphImplementation name=pdf as a function of X0 title= xTitle=X0 yTitle=PDF axes=ON grid=ON legendposition=topright legendFontSize=1 drawables=[class=Drawable name=Unnamed implementation=class=Curve name=Unnamed derived from class=DrawableImplementation name=Unnamed legend=X0 PDF data=class=Sample name=Unnamed implementation=class=SampleImplementation name=Unnamed size=129 dimension=2 data=[[-15.83,8.91756e-05],[-15.5826,0.000110657],[-15.3353,0.000136846],[-15.0879,0.00016866],[-14.8406,0.000207165],[-14.5933,0.000253596],[-14.3459,0.000309381],[-14.0986,0.000376157],[-13.8512,0.000455794],[-13.6039,0.000550416],[-13.3565,0.000662427],[-13.1092,0.000794527],[-12.8619,0.000949737],[-12.6145,0.00113141],[-12.3672,0.00134327],[-12.1198,0.00158939],[-11.8725,0.00187422],[-11.6251,0.0022026],[-11.3778,0.00257972],[-11.1304,0.00301117],[-10.8831,0.00350285],[-10.6358,0.00406098],[-10.3884,0.00469207],[-10.1411,0.00540284],[-9.89373,0.00620017],[-9.64639,0.00709103],[-9.39905,0.00808237],[-9.1517,0.00918104],[-8.90436,0.0103937],[-8.65702,0.0117265],[-8.40967,0.0131855],[-8.16233,0.0147756],[-7.91499,0.0165013],[-7.66764,0.018366],[-7.4203,0.020372],[-7.17296,0.0225205],[-6.92561,0.0248112],[-6.67827,0.0272421],[-6.43093,0.0298096],[-6.18358,0.0325085],[-5.93624,0.0353314],[-5.6889,0.0382691],[-5.44155,0.0413105],[-5.19421,0.0444423],[-4.94687,0.0476493],[-4.69952,0.0509143],[-4.45218,0.0542185],[-4.20484,0.0575412],[-3.95749,0.0608604],[-3.71015,0.0641526],[-3.46281,0.0673934],[-3.21546,0.0705577],[-2.96812,0.0736199],[-2.72078,0.0765545],[-2.47343,0.0793358],[-2.22609,0.0819393],[-1.97875,0.0843411],[-1.7314,0.0865186],[-1.48406,0.0884513],[-1.23672,0.0901203],[-0.989373,0.0915093],[-0.74203,0.0926044],[-0.494687,0.0933946],[-0.247343,0.0938719],[0,0.0940316],[0.247343,0.0938719],[0.494687,0.0933946],[0.74203,0.0926044],[0.989373,0.0915093],[1.23672,0.0901203],[1.48406,0.0884513],[1.7314,0.0865186],[1.97875,0.0843411],[2.22609,0.0819393],[2.47343,0.0793358],[2.72078,0.0765545],[2.96812,0.0736199],[3.21546,0.0705577],[3.46281,0.0673934],[3.71015,0.0641526],[3.95749,0.0608604],[4.20484,0.0575412],[4.45218,0.0542185],[4.69952,0.0509143],[4.94687,0.0476493],[5.19421,0.0444423],[5.44155,0.0413105],[5.6889,0.0382691],[5.93624,0.0353314],[6.18358,0.0325085],[6.43093,0.0298096],[6.67827,0.0272421],[6.92561,0.0248112],[7.17296,0.0225205],[7.4203,0.020372],[7.66764,0.018366],[7.91499,0.0165013],[8.16233,0.0147756],[8.40967,0.0131855],[8.65702,0.0117265],[8.90436,0.0103937],[9.1517,0.00918104],[9.39905,0.00808237],[9.64639,0.00709103],[9.89373,0.00620017],[10.1411,0.00540284],[10.3884,0.00469207],[10.6358,0.00406098],[10.8831,0.00350285],[11.1304,0.00301117],[11.3778,0.00257972],[11.6251,0.0022026],[11.8725,0.00187422],[12.1198,0.00158939],[12.3672,0.00134327],[12.6145,0.00113141],[12.8619,0.000949737],[13.1092,0.000794527],[13.3565,0.000662427],[13.6039,0.000550416],[13.8512,0.000455794],[14.0986,0.000376157],[14.3459,0.000309381],[14.5933,0.000253596],[14.8406,0.000207165],[15.0879,0.00016866],[15.3353,0.000136846],[15.5826,0.000110657],[15.83,8.91756e-05]] color=red fillStyle=solid lineStyle=solid pointStyle=none lineWidth=2]"
      ]
     },
     "execution_count": 12,
     "metadata": {},
     "output_type": "execute_result"
    }
   ],
   "source": [
    "rv.drawPDF()"
   ]
  },
  {
   "cell_type": "markdown",
   "metadata": {},
   "source": [
    "Obviously, the \"+\" operator provides exact results while using a Python or symbolic function provides only Monte-Carlo estimates."
   ]
  }
 ],
 "metadata": {
  "hide_code_all_hidden": false,
  "kernelspec": {
   "display_name": "Python 3",
   "language": "python",
   "name": "python3"
  },
  "language_info": {
   "codemirror_mode": {
    "name": "ipython",
    "version": 3
   },
   "file_extension": ".py",
   "mimetype": "text/x-python",
   "name": "python",
   "nbconvert_exporter": "python",
   "pygments_lexer": "ipython3",
   "version": "3.7.4"
  }
 },
 "nbformat": 4,
 "nbformat_minor": 1
}
