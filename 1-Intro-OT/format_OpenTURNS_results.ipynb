{
 "cells": [
  {
   "cell_type": "markdown",
   "metadata": {},
   "source": [
    "# Formatting OpenTURNS results\n",
    "\n",
    "In this example, we pretty-print results from an uncertainty quantification study. We first show how the `tabulate` module works. Then we show how this can be used within a uncertainty quantification study."
   ]
  },
  {
   "cell_type": "markdown",
   "metadata": {},
   "source": [
    "## References\n",
    "\n",
    "- https://github.com/openturns/openturns/pull/2415"
   ]
  },
  {
   "cell_type": "code",
   "execution_count": 1,
   "metadata": {},
   "outputs": [],
   "source": [
    "import tabulate\n",
    "import openturns as ot\n",
    "from openturns.usecases import stressed_beam"
   ]
  },
  {
   "cell_type": "markdown",
   "metadata": {},
   "source": [
    "## Use the tabulate function\n",
    "\n",
    "In a UQ study, we often have the results in a table. Most of the times, this can be conveniently formatted using the built-in pretty-print from the `Sample` class."
   ]
  },
  {
   "cell_type": "code",
   "execution_count": 2,
   "metadata": {},
   "outputs": [
    {
     "data": {
      "text/html": [
       "<table>\n",
       "  <tr><td></td><th>Index</th><th>Value</th></tr>\n",
       "  <tr><th>0</th><td>0</td><td>1</td></tr>\n",
       "  <tr><th>1</th><td>1</td><td>2</td></tr>\n",
       "  <tr><th>2</th><td>2</td><td>3</td></tr>\n",
       "  <tr><th>3</th><td>3</td><td>4</td></tr>\n",
       "  <tr><th>4</th><td>4</td><td>5</td></tr>\n",
       "</table>"
      ],
      "text/plain": [
       "class=Sample name=Unnamed implementation=class=SampleImplementation name=Unnamed size=5 dimension=2 description=[Index,Value] data=[[0,1],[1,2],[2,3],[3,4],[4,5]]"
      ]
     },
     "execution_count": 2,
     "metadata": {},
     "output_type": "execute_result"
    }
   ],
   "source": [
    "# Table\n",
    "data = []\n",
    "n = 5\n",
    "for i in range(n):\n",
    "    data.append((i, 1 + i))\n",
    "\n",
    "sample = ot.Sample(data)\n",
    "sample.setDescription([\"Index\", \"Value\"])\n",
    "sample\n"
   ]
  },
  {
   "cell_type": "markdown",
   "metadata": {},
   "source": [
    "This can be convenient to format any result that can be stored within a `ot.Sample`, i.e. any data set that has the shape of an array of floats. There are, however, situations where this framework is not general enough. For example, we may want to print strings, integers,\n",
    "lists of strings or list of integers (e.g. `ot.Indices`) and these data types cannot be stored in a `ot.Sample`. In the next example, we want to print an interval: this cannot be done easily using the `ot.Sample` class. We could, of course, print the lower and upper bounds into two different columns of the array, but this is less straightforward to understand as an interval.\n"
   ]
  },
  {
   "cell_type": "markdown",
   "metadata": {},
   "source": [
    "## Format data with the tabulate function\n",
    "\n",
    "The `tabulate` function can be used to format any table."
   ]
  },
  {
   "cell_type": "code",
   "execution_count": 3,
   "metadata": {},
   "outputs": [
    {
     "data": {
      "text/html": [
       "<table>\n",
       "<thead>\n",
       "<tr><th style=\"text-align: right;\">  Index</th><th style=\"text-align: right;\">  Value</th></tr>\n",
       "</thead>\n",
       "<tbody>\n",
       "<tr><td style=\"text-align: right;\">      0</td><td style=\"text-align: right;\">      1</td></tr>\n",
       "<tr><td style=\"text-align: right;\">      1</td><td style=\"text-align: right;\">      2</td></tr>\n",
       "<tr><td style=\"text-align: right;\">      2</td><td style=\"text-align: right;\">      3</td></tr>\n",
       "<tr><td style=\"text-align: right;\">      3</td><td style=\"text-align: right;\">      4</td></tr>\n",
       "<tr><td style=\"text-align: right;\">      4</td><td style=\"text-align: right;\">      5</td></tr>\n",
       "</tbody>\n",
       "</table>"
      ],
      "text/plain": [
       "'<table>\\n<thead>\\n<tr><th style=\"text-align: right;\">  Index</th><th style=\"text-align: right;\">  Value</th></tr>\\n</thead>\\n<tbody>\\n<tr><td style=\"text-align: right;\">      0</td><td style=\"text-align: right;\">      1</td></tr>\\n<tr><td style=\"text-align: right;\">      1</td><td style=\"text-align: right;\">      2</td></tr>\\n<tr><td style=\"text-align: right;\">      2</td><td style=\"text-align: right;\">      3</td></tr>\\n<tr><td style=\"text-align: right;\">      3</td><td style=\"text-align: right;\">      4</td></tr>\\n<tr><td style=\"text-align: right;\">      4</td><td style=\"text-align: right;\">      5</td></tr>\\n</tbody>\\n</table>'"
      ]
     },
     "execution_count": 3,
     "metadata": {},
     "output_type": "execute_result"
    }
   ],
   "source": [
    "tabulate.tabulate(data, tablefmt=\"html\", headers=[\"Index\", \"Value\"])"
   ]
  },
  {
   "cell_type": "markdown",
   "metadata": {},
   "source": [
    "## Format a reliability study\n",
    "\n",
    "In this section, we format the results of a reliability study. The next function performs a reliability study based on the\n",
    "stressed beam. Given the number of outer loops, the maximum coefficient of variation and the block size, the function returns the result of the probability simulation algorithm. The function uses a Monte-Carlo experiment."
   ]
  },
  {
   "cell_type": "code",
   "execution_count": 4,
   "metadata": {},
   "outputs": [],
   "source": [
    "def computeReliabilityResult(maximumOuterSamplingSize, maximumCoV, blockSize=1):\n",
    "    sm = stressed_beam.AxialStressedBeam()\n",
    "    limitStateFunction = sm.model\n",
    "    inputRandomVector = ot.RandomVector(sm.distribution)\n",
    "    outputRandomVector = ot.CompositeRandomVector(limitStateFunction, inputRandomVector)\n",
    "    myEvent = ot.ThresholdEvent(outputRandomVector, ot.Less(), 0.0)\n",
    "    experiment = ot.MonteCarloExperiment()\n",
    "    algoMC = ot.ProbabilitySimulationAlgorithm(myEvent, experiment)\n",
    "    algoMC.setMaximumOuterSampling(maximumOuterSamplingSize)\n",
    "    algoMC.setBlockSize(blockSize)\n",
    "    algoMC.setMaximumCoefficientOfVariation(maximumCoV)\n",
    "    algoMC.run()\n",
    "    psaResult = algoMC.getResult()\n",
    "    return psaResult"
   ]
  },
  {
   "cell_type": "markdown",
   "metadata": {},
   "source": [
    "Use the function.\n"
   ]
  },
  {
   "cell_type": "code",
   "execution_count": 5,
   "metadata": {},
   "outputs": [
    {
     "data": {
      "text/html": [
       "probabilityEstimate=2.000000e-02 varianceEstimate=1.960000e-04 standard deviation=1.40e-02 coefficient of variation=7.00e-01 confidenceLength(0.95)=5.49e-02 outerSampling=100 blockSize=1"
      ],
      "text/plain": [
       "probabilityEstimate=2.000000e-02 varianceEstimate=1.960000e-04 standard deviation=1.40e-02 coefficient of variation=7.00e-01 confidenceLength(0.95)=5.49e-02 outerSampling=100 blockSize=1"
      ]
     },
     "execution_count": 5,
     "metadata": {},
     "output_type": "execute_result"
    }
   ],
   "source": [
    "maximumOuterSamplingSize = 100\n",
    "maximumCoV = 0.0\n",
    "psaResult = computeReliabilityResult(maximumOuterSamplingSize, maximumCoV)\n",
    "psaResult"
   ]
  },
  {
   "cell_type": "markdown",
   "metadata": {},
   "source": [
    "We increase the sample size and compute the\n",
    "probability estimate and the corresponding confidence interval.\n",
    "The output of this algorithm is a `markdown` string which contains\n",
    "the results inside a Markdown table."
   ]
  },
  {
   "cell_type": "code",
   "execution_count": 6,
   "metadata": {},
   "outputs": [
    {
     "data": {
      "text/html": [
       "<table>\n",
       "<thead>\n",
       "<tr><th style=\"text-align: right;\">   n</th><th style=\"text-align: right;\">       Pf</th><th>95%  C.I.            </th></tr>\n",
       "</thead>\n",
       "<tbody>\n",
       "<tr><td style=\"text-align: right;\">   4</td><td style=\"text-align: right;\">0        </td><td>0.000e+00, 0.000e+00 </td></tr>\n",
       "<tr><td style=\"text-align: right;\">   8</td><td style=\"text-align: right;\">0.125    </td><td>-1.042e-01, 3.542e-01</td></tr>\n",
       "<tr><td style=\"text-align: right;\">  16</td><td style=\"text-align: right;\">0.0625   </td><td>-5.611e-02, 1.811e-01</td></tr>\n",
       "<tr><td style=\"text-align: right;\">  32</td><td style=\"text-align: right;\">0.09375  </td><td>-7.241e-03, 1.947e-01</td></tr>\n",
       "<tr><td style=\"text-align: right;\">  64</td><td style=\"text-align: right;\">0.015625 </td><td>-1.476e-02, 4.601e-02</td></tr>\n",
       "<tr><td style=\"text-align: right;\"> 128</td><td style=\"text-align: right;\">0.03125  </td><td>1.108e-03, 6.139e-02 </td></tr>\n",
       "<tr><td style=\"text-align: right;\"> 256</td><td style=\"text-align: right;\">0.0273437</td><td>7.366e-03, 4.732e-02 </td></tr>\n",
       "<tr><td style=\"text-align: right;\"> 512</td><td style=\"text-align: right;\">0.0292969</td><td>1.469e-02, 4.390e-02 </td></tr>\n",
       "<tr><td style=\"text-align: right;\">1024</td><td style=\"text-align: right;\">0.0273437</td><td>1.736e-02, 3.733e-02 </td></tr>\n",
       "<tr><td style=\"text-align: right;\">2048</td><td style=\"text-align: right;\">0.0297852</td><td>2.242e-02, 3.715e-02 </td></tr>\n",
       "</tbody>\n",
       "</table>"
      ],
      "text/plain": [
       "'<table>\\n<thead>\\n<tr><th style=\"text-align: right;\">   n</th><th style=\"text-align: right;\">       Pf</th><th>95%  C.I.            </th></tr>\\n</thead>\\n<tbody>\\n<tr><td style=\"text-align: right;\">   4</td><td style=\"text-align: right;\">0        </td><td>0.000e+00, 0.000e+00 </td></tr>\\n<tr><td style=\"text-align: right;\">   8</td><td style=\"text-align: right;\">0.125    </td><td>-1.042e-01, 3.542e-01</td></tr>\\n<tr><td style=\"text-align: right;\">  16</td><td style=\"text-align: right;\">0.0625   </td><td>-5.611e-02, 1.811e-01</td></tr>\\n<tr><td style=\"text-align: right;\">  32</td><td style=\"text-align: right;\">0.09375  </td><td>-7.241e-03, 1.947e-01</td></tr>\\n<tr><td style=\"text-align: right;\">  64</td><td style=\"text-align: right;\">0.015625 </td><td>-1.476e-02, 4.601e-02</td></tr>\\n<tr><td style=\"text-align: right;\"> 128</td><td style=\"text-align: right;\">0.03125  </td><td>1.108e-03, 6.139e-02 </td></tr>\\n<tr><td style=\"text-align: right;\"> 256</td><td style=\"text-align: right;\">0.0273437</td><td>7.366e-03, 4.732e-02 </td></tr>\\n<tr><td style=\"text-align: right;\"> 512</td><td style=\"text-align: right;\">0.0292969</td><td>1.469e-02, 4.390e-02 </td></tr>\\n<tr><td style=\"text-align: right;\">1024</td><td style=\"text-align: right;\">0.0273437</td><td>1.736e-02, 3.733e-02 </td></tr>\\n<tr><td style=\"text-align: right;\">2048</td><td style=\"text-align: right;\">0.0297852</td><td>2.242e-02, 3.715e-02 </td></tr>\\n</tbody>\\n</table>'"
      ]
     },
     "execution_count": 6,
     "metadata": {},
     "output_type": "execute_result"
    }
   ],
   "source": [
    "sampleSizeList = []\n",
    "numberOfRepetitions = 10\n",
    "sampleSizeFactor = 2\n",
    "alpha = 0.05\n",
    "maximumOuterSamplingSize = 2\n",
    "data = []\n",
    "for i in range(numberOfRepetitions):\n",
    "    maximumOuterSamplingSize *= sampleSizeFactor\n",
    "    psaResult = computeReliabilityResult(maximumOuterSamplingSize, maximumCoV)\n",
    "    probability = psaResult.getProbabilityEstimate()\n",
    "    pflen = psaResult.getConfidenceLength(1 - alpha)\n",
    "    pfLower = probability - pflen / 2\n",
    "    pfUpper = probability + pflen / 2\n",
    "    data.append(\n",
    "        (\n",
    "            maximumOuterSamplingSize,\n",
    "            probability,\n",
    "            f\"{pfLower:.3e}, {pfUpper:.3e}\",\n",
    "        )\n",
    "    )\n",
    "tabulate.tabulate(\n",
    "    data,\n",
    "    tablefmt=\"html\",\n",
    "    headers=[\"n\", \"Pf\", \"95%  C.I.\"],\n",
    ")"
   ]
  },
  {
   "cell_type": "code",
   "execution_count": null,
   "metadata": {},
   "outputs": [],
   "source": []
  }
 ],
 "metadata": {
  "kernelspec": {
   "display_name": "otsupgalilee2023",
   "language": "python",
   "name": "python3"
  },
  "language_info": {
   "codemirror_mode": {
    "name": "ipython",
    "version": 3
   },
   "file_extension": ".py",
   "mimetype": "text/x-python",
   "name": "python",
   "nbconvert_exporter": "python",
   "pygments_lexer": "ipython3",
   "version": "3.13.0"
  },
  "orig_nbformat": 4
 },
 "nbformat": 4,
 "nbformat_minor": 2
}
