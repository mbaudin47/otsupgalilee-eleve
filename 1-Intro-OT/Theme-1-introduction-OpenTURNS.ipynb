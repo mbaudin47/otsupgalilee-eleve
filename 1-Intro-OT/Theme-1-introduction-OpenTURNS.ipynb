{
 "cells": [
  {
   "cell_type": "markdown",
   "metadata": {},
   "source": [
    "# Thème 1 : introduction à OpenTURNS\n",
    "\n",
    "## Introduction\n",
    "\n",
    "L'objectif de cette séquence est de réaliser une introduction à OpenTURNS, à la méthodologie générique de traitement des incertitudes et aux classes de base dans le logiciel.\n",
    "\n",
    "## Vue d'ensemble\n",
    "\n",
    "Cours : introduction au Python, à OpenTURNS, à la méthodologie\n",
    "* Méthodologie ABC\n",
    "* Le projet OpenTURNS : Le projet OpenTURNS.ipynb\n",
    "* Les objets Point, Sample : Point et Sample.ipynb\n",
    "* Lois univariées, multivariées : Distributions.ipynb\n",
    "* Fonctions Python, symbolique : Fonctions.ipynb\n",
    "* La classe RandomVector : RandomVector.ipynb\n",
    "* Exercice à la maison : somme de deux gaussiennes : Exercice-Somme-de-deux-gaussiennes.ipynb\n",
    "\n",
    "## La méthodologie ABC\n",
    "\n",
    "<img src=\"./MethodologieIncertitude-FR.png\">\n"
   ]
  }
 ],
 "metadata": {
  "kernelspec": {
   "display_name": "Python 3 (ipykernel)",
   "language": "python",
   "name": "python3"
  },
  "language_info": {
   "codemirror_mode": {
    "name": "ipython",
    "version": 3
   },
   "file_extension": ".py",
   "mimetype": "text/x-python",
   "name": "python",
   "nbconvert_exporter": "python",
   "pygments_lexer": "ipython3",
   "version": "3.9.0"
  }
 },
 "nbformat": 4,
 "nbformat_minor": 2
}
