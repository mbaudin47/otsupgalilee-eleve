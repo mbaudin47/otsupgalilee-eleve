{
 "cells": [
  {
   "cell_type": "markdown",
   "metadata": {},
   "source": [
    "# Fonction Python et symbolique"
   ]
  },
  {
   "cell_type": "markdown",
   "metadata": {},
   "source": [
    "## Résumé\n",
    "\n",
    "Dans cette page, nous présentons comment définir des fonctions Python et symbolique."
   ]
  },
  {
   "cell_type": "markdown",
   "metadata": {},
   "source": [
    "## Références\n",
    "\n",
    "* User Manual, Functions : http://openturns.github.io/openturns/master/user_manual/functions.html\n",
    "* Examples, Functional modeling : http://openturns.github.io/openturns/master/examples/functional_modeling/functional_modeling.html\n",
    "\n",
    "* http://openturns.github.io/openturns/master/user_manual/_generated/openturns.MemoizeFunction.html\n",
    "* Sur ExprTk : OpenTURNS Users’ Day #11, Friday, the 15 th, June 2018, Denis Barbier, http://trac.openturns.org/blog/OpenTURNS_Users_Day_11"
   ]
  },
  {
   "cell_type": "markdown",
   "metadata": {},
   "source": [
    "## Exemple\n",
    "\n",
    "Pour chaque fonction, nous illustrons la connexion avec l’exemple suivant :\n",
    "* 3 entrées, de loi normale standard, indépendantes\n",
    "* 2 sorties\n",
    "* Formule symbolique\n",
    "\n",
    "La formule symbolique est donnée par :\n",
    "$$\n",
    "\\begin{eqnarray}\n",
    "Y_1 &=& X_1 + X_2 + X_3 \\\\\n",
    "Y_2 &=& X_1 - X_2 X_3\n",
    "\\end{eqnarray}\n",
    "$$\n",
    "\n",
    "Les résultats exacts sont les suivants.\n",
    "\n",
    "| Variable | Espérance | Ecart-type |\n",
    "|-|-|-|\n",
    "| $Y_1$ | 0 | 1.732 |\n",
    "| $Y_2$ | 0 | 1.415 |\n"
   ]
  },
  {
   "cell_type": "code",
   "execution_count": 1,
   "metadata": {},
   "outputs": [
    {
     "ename": "ModuleNotFoundError",
     "evalue": "No module named 'openturns'",
     "output_type": "error",
     "traceback": [
      "\u001b[0;31m---------------------------------------------------------------------------\u001b[0m",
      "\u001b[0;31mModuleNotFoundError\u001b[0m                       Traceback (most recent call last)",
      "\u001b[0;32m<ipython-input-1-ead47573a588>\u001b[0m in \u001b[0;36m<module>\u001b[0;34m()\u001b[0m\n\u001b[0;32m----> 1\u001b[0;31m \u001b[0;32mimport\u001b[0m \u001b[0mopenturns\u001b[0m \u001b[0;32mas\u001b[0m \u001b[0mot\u001b[0m\u001b[0;34m\u001b[0m\u001b[0;34m\u001b[0m\u001b[0m\n\u001b[0m\u001b[1;32m      2\u001b[0m \u001b[0mX0\u001b[0m \u001b[0;34m=\u001b[0m \u001b[0mot\u001b[0m\u001b[0;34m.\u001b[0m\u001b[0mNormal\u001b[0m\u001b[0;34m(\u001b[0m\u001b[0;36m0.\u001b[0m\u001b[0;34m,\u001b[0m\u001b[0;36m1.\u001b[0m\u001b[0;34m)\u001b[0m\u001b[0;34m\u001b[0m\u001b[0;34m\u001b[0m\u001b[0m\n\u001b[1;32m      3\u001b[0m \u001b[0mX1\u001b[0m \u001b[0;34m=\u001b[0m \u001b[0mot\u001b[0m\u001b[0;34m.\u001b[0m\u001b[0mNormal\u001b[0m\u001b[0;34m(\u001b[0m\u001b[0;36m0.\u001b[0m\u001b[0;34m,\u001b[0m\u001b[0;36m1.\u001b[0m\u001b[0;34m)\u001b[0m\u001b[0;34m\u001b[0m\u001b[0;34m\u001b[0m\u001b[0m\n\u001b[1;32m      4\u001b[0m \u001b[0mX2\u001b[0m \u001b[0;34m=\u001b[0m \u001b[0mot\u001b[0m\u001b[0;34m.\u001b[0m\u001b[0mNormal\u001b[0m\u001b[0;34m(\u001b[0m\u001b[0;36m0.\u001b[0m\u001b[0;34m,\u001b[0m\u001b[0;36m1.\u001b[0m\u001b[0;34m)\u001b[0m\u001b[0;34m\u001b[0m\u001b[0;34m\u001b[0m\u001b[0m\n\u001b[1;32m      5\u001b[0m \u001b[0minputDistribution\u001b[0m \u001b[0;34m=\u001b[0m \u001b[0mot\u001b[0m\u001b[0;34m.\u001b[0m\u001b[0mComposedDistribution\u001b[0m\u001b[0;34m(\u001b[0m\u001b[0;34m(\u001b[0m\u001b[0mX0\u001b[0m\u001b[0;34m,\u001b[0m\u001b[0mX1\u001b[0m\u001b[0;34m,\u001b[0m\u001b[0mX2\u001b[0m\u001b[0;34m)\u001b[0m\u001b[0;34m)\u001b[0m\u001b[0;34m\u001b[0m\u001b[0;34m\u001b[0m\u001b[0m\n",
      "\u001b[0;31mModuleNotFoundError\u001b[0m: No module named 'openturns'"
     ]
    }
   ],
   "source": [
    "import openturns as ot\n",
    "X0 = ot.Normal(0.,1.)\n",
    "X1 = ot.Normal(0.,1.)\n",
    "X2 = ot.Normal(0.,1.)\n",
    "inputDistribution = ot.ComposedDistribution((X0,X1,X2))\n",
    "inputRandomVector = ot.RandomVector(inputDistribution)"
   ]
  },
  {
   "cell_type": "markdown",
   "metadata": {},
   "source": [
    "## PythonFunction : constructeur\n",
    "\n",
    "La classe `PythonFunction` permet de créer une fonction OpenTURNS en utilisant une fonction Python créée avec l'opérateur `def`. \n",
    "\n",
    "Le constructeur de la classe PythonFunction est\n",
    "\n",
    "`PythonFunction ( nbInputs , nbOutputs , myPythonFunc )`\n",
    "\n",
    "où\n",
    "* `nbInputs` : nombre de variables d’entrées,\n",
    "* `nbOutputs` : nombre de variables de sorties,\n",
    "* `myPythonFunc` : une fonction Python."
   ]
  },
  {
   "cell_type": "markdown",
   "metadata": {},
   "source": [
    "Le simulateur `mySimulator` a la séquence d'appel `y=mySimulator(x)` où\n",
    "* `x` : l’entrée du simulateur, un vecteur de taille `nbInputs`,\n",
    "* `y` : la sortie du simulateur, un vecteur de taille `nbOutputs`."
   ]
  },
  {
   "cell_type": "code",
   "execution_count": null,
   "metadata": {},
   "outputs": [],
   "source": [
    "def mySimulator(x):\n",
    "    y0=x[0]+x[1]+x[2]\n",
    "    y1=x[0]-x[1]*x[2]\n",
    "    y=[y0,y1]\n",
    "    return y"
   ]
  },
  {
   "cell_type": "markdown",
   "metadata": {},
   "source": [
    "## Exemple d'utilisation de la PythonFunction\n",
    "\n",
    "Dans l'exemple suivant, on estime la moyenne par Monte-Carlo simple sur la base de 10000 expériences."
   ]
  },
  {
   "cell_type": "code",
   "execution_count": null,
   "metadata": {},
   "outputs": [],
   "source": [
    "myfunction = ot.PythonFunction (3 ,2 , mySimulator )\n",
    "outputVect =  ot.RandomVector(myfunction, inputRandomVector)\n",
    "montecarlosize = 10000\n",
    "outputSample = outputVect.getSample(montecarlosize)\n",
    "empiricalMean = outputSample.computeMean()\n",
    "print(empiricalMean)\n",
    "empiricalSd = outputSample.computeStandardDeviationPerComponent()\n",
    "print(empiricalSd)"
   ]
  },
  {
   "cell_type": "markdown",
   "metadata": {},
   "source": [
    "## Quel type pour x, pour y ?\n",
    "\n",
    "| Type | Entrée X | Sortie Y |\n",
    "|--|--|--|\n",
    "|list (Python) | - | ✓ |\n",
    "|tuple (Python) | - | ✓ |\n",
    "|array (NumPy) | - | ✓ |\n",
    "|Point (OpenTURNS) | ✓ | ✓ |\n"
   ]
  },
  {
   "cell_type": "markdown",
   "metadata": {},
   "source": [
    "## PythonFunction : objectifs, avantages, inconvénients\n",
    "\n",
    "Les objectifs de la classe `PythonFunction` sont :\n",
    "\n",
    "* Simplicité de mise en oeuvre.\n",
    "* Fonction directement en Python : possibilité d’utiliser tous les modules Python pour réaliser le calcul, ou la connexion.\n",
    "\n",
    "Avantages :\n",
    "\n",
    "* Utile si le simulateur est disponible en Python.\n",
    "* Possibilité de vectorisation avec l’option `func_sample`.\n",
    "\n",
    "Inconvénients :\n",
    "\n",
    "* Pas multithread."
   ]
  },
  {
   "cell_type": "markdown",
   "metadata": {},
   "source": [
    "## PythonFunction vectorisée : objectifs, avantages, inconvénients\n",
    "\n",
    "La classe PythonFunction possède une option `func_sample` :\n",
    "\n",
    "* Idée : améliorer la performance en vectorisant les opérations.\n",
    "* Principe : évaluer toutes les sorties en fonction de toutes les entrées en un seul appel à la fonction, sans boucle `for`.\n",
    "* Implémentation : l’entrée et la sortie sont des matrices (et non plus des vecteurs).\n",
    "\n",
    "Avantages :\n",
    "\n",
    "* Amélioration de la performance.\n",
    "\n",
    "Inconvénients :\n",
    "\n",
    "* Nécessite de vectoriser le calcul."
   ]
  },
  {
   "cell_type": "markdown",
   "metadata": {},
   "source": [
    "## Prototype\n",
    "\n",
    "```\n",
    "def mySimulator (x):\n",
    "    [...]\n",
    "    return y\n",
    "myfunction=PythonFunction(nbInputs, nbOutputs, func_sample=mySimulator)\n",
    "```\n",
    "\n",
    "où\n",
    "* x : l’entrée du simulateur, un `Sample` de taille `nbExperiments` (`getSize`), de dimension `nbInputs` (`getDimension`),\n",
    "* y : la sortie du simulateur\n",
    "  * un `array` : `nbExperiments` lignes et `nbOutputs` colonnes\n",
    "  * un `Sample` : taille `nbExperiments` et dimension `nbOutputs`"
   ]
  },
  {
   "cell_type": "markdown",
   "metadata": {},
   "source": [
    "## PythonFunction vectorisée : exemple avec Numpy\n"
   ]
  },
  {
   "cell_type": "code",
   "execution_count": null,
   "metadata": {},
   "outputs": [],
   "source": [
    "import numpy as np\n",
    "def mySimulatorVect (x):\n",
    "    # Conversion Sample > Array Numpy\n",
    "    x= np.array (x)\n",
    "    x0=x[: ,0] # Extraction de la colonne 0\n",
    "    x1=x[: ,1]\n",
    "    x2=x[: ,2]\n",
    "    y0=x0+x1+x2\n",
    "    y1=x0-x1*x2\n",
    "    # Empilement de deux lignes\n",
    "    y= np.vstack ((y0 ,y1 ))\n",
    "    y=y.transpose ()\n",
    "    return y\n",
    "myfunctionVect = ot.PythonFunction (3 ,2 , func_sample = mySimulatorVect )"
   ]
  },
  {
   "cell_type": "code",
   "execution_count": null,
   "metadata": {},
   "outputs": [],
   "source": [
    "outputVect =  ot.RandomVector(myfunctionVect, inputRandomVector)\n",
    "montecarlosize = 10000\n",
    "outputSample = outputVect.getSample(montecarlosize)\n",
    "\n",
    "empiricalMean = outputSample.computeMean()\n",
    "print(empiricalMean)\n",
    "empiricalSd = outputSample.computeStandardDeviationPerComponent()\n",
    "print(empiricalSd)"
   ]
  },
  {
   "cell_type": "markdown",
   "metadata": {},
   "source": [
    "## MemoizeFunction pour gérer l'historique\n",
    "\n",
    "La classe `MemoizeFunction` définit un mécanisme d’historique des appels à G.\n",
    "\n",
    "| Méthodes | Fonction |\n",
    "|-|-|\n",
    "| `enableHistory()` | active l’historique (défaut : activé) |\n",
    "| `disableHistory()` | désactive l’historique |\n",
    "| `isHistoryEnabled()` | vrai si l’historique est actif |\n",
    "| `clearHistory()` | vide l’historique |\n",
    "| `getInputHistory()` | un `Sample`, historique des entrées X |\n",
    "| `getOutputHistory()` | un `Sample`, historique des sorties Y |"
   ]
  },
  {
   "cell_type": "code",
   "execution_count": null,
   "metadata": {},
   "outputs": [],
   "source": [
    "myfunction = ot.PythonFunction (3 ,2 , mySimulator )\n",
    "myfunction = ot.MemoizeFunction(myfunction)"
   ]
  },
  {
   "cell_type": "code",
   "execution_count": null,
   "metadata": {},
   "outputs": [],
   "source": [
    "outputVariableOfInterest =  ot.RandomVector(myfunction, inputRandomVector)\n",
    "montecarlosize = 10\n",
    "outputSample = outputVariableOfInterest.getSample(montecarlosize)"
   ]
  },
  {
   "cell_type": "markdown",
   "metadata": {},
   "source": [
    "Récupère l'historique en entrée."
   ]
  },
  {
   "cell_type": "code",
   "execution_count": null,
   "metadata": {},
   "outputs": [],
   "source": [
    "inputs = myfunction.getInputHistory()\n",
    "inputs"
   ]
  },
  {
   "cell_type": "markdown",
   "metadata": {},
   "source": [
    "## Fonction symbolique\n",
    "\n",
    "La classe `SymbolicFunction` peut créer des fonctions symboliques :\n",
    "\n",
    "* Idée : utiliser une fonction symbolique simple.\n",
    "* Principe : fournir une chaîne de caractère définissant le calcul.\n",
    "\n",
    "Avantages :\n",
    "\n",
    "* Amélioration de la performance.\n",
    "* Calcul automatique du gradient exact, de la Hessienne exacte\n",
    "\n",
    "Inconvénients :\n",
    "\n",
    "* Nécessite une formule mathématique simple, typiquement une seule ligne (mais cette limitation peut être levée avec ExprTk)"
   ]
  },
  {
   "cell_type": "markdown",
   "metadata": {},
   "source": [
    "## Fonction symbolique : prototype\n",
    "\n",
    "Prototype :\n",
    "\n",
    "`\n",
    "myfunction = SymbolicFunction (liste_des_entrees ,liste_des_formules )\n",
    "`\n",
    "\n",
    "où\n",
    "* `liste_des_entrees` : une liste de `nbInputs` chaînes de caractères, le nom des variables d’entrées\n",
    "* `liste_des_formules` : une liste de `nbOutputs` chaînes de caractères, les formules de calcul."
   ]
  },
  {
   "cell_type": "code",
   "execution_count": null,
   "metadata": {},
   "outputs": [],
   "source": [
    "import openturns as ot\n",
    "X0 = ot.Normal(0.,1.)\n",
    "X1 = ot.Normal(0.,1.)\n",
    "X2 = ot.Normal(0.,1.)\n",
    "inputDistribution = ot.ComposedDistribution((X0,X1,X2))\n",
    "inputRandomVector = ot.RandomVector(inputDistribution)"
   ]
  },
  {
   "cell_type": "code",
   "execution_count": null,
   "metadata": {},
   "outputs": [],
   "source": [
    "myfunction = ot.SymbolicFunction((\"x0\",\"x1\",\"x2\"),(\"x0+x1+x2\",\"x0-x1*x2\"))\n",
    "myfunction = ot.MemoizeFunction(myfunction)"
   ]
  },
  {
   "cell_type": "code",
   "execution_count": null,
   "metadata": {},
   "outputs": [],
   "source": [
    "outputVect =  ot.RandomVector(myfunction, inputRandomVector)\n",
    "montecarlosize = 10000\n",
    "outputSample = outputVect.getSample(montecarlosize)\n",
    "empiricalMean = outputSample.computeMean()\n",
    "print(empiricalMean)"
   ]
  },
  {
   "cell_type": "code",
   "execution_count": null,
   "metadata": {
    "scrolled": true
   },
   "outputs": [],
   "source": [
    "outputs = myfunction.getOutputHistory()\n",
    "outputs[1:10,:]"
   ]
  },
  {
   "cell_type": "markdown",
   "metadata": {},
   "source": [
    "##  Exercices"
   ]
  },
  {
   "cell_type": "markdown",
   "metadata": {},
   "source": [
    "### Exercice 1 : une fonction avec 4 entrées\n",
    "\n",
    "On considère un nouveau modèle, avec une nouvelle variable de sortie\n",
    "Y3 et une nouvelle variable d’entrée X4 :\n",
    "$$\n",
    "\\begin{eqnarray}\n",
    "Y_1 &=& X_1 + X_2 + X_3 \\\\\n",
    "Y_2 &=& X_1 - X_2 X_3 \\\\\n",
    "Y_3 &=& 2 X_1 + 3 X_2 + 4 X_4\n",
    "\\end{eqnarray}\n",
    "$$\n",
    "\n",
    "**Questions**\n",
    "* Modifier la fonction Python pour simuler le nouveau modèle.\n",
    "* Ajouter une nouvelle variable X4 de loi normale standard dans le modèle probabiliste.\n",
    "* Estimer la moyenne de la sortie par Monte-Carlo simple."
   ]
  },
  {
   "cell_type": "markdown",
   "metadata": {},
   "source": [
    "### Exercice 2 : gradient d'une fonction Python\n",
    "\n",
    "OT peut calculer la dérivée approchée d’une fonction Python par différences finies. On peut paramétrer la formule de différence utilisée, ainsi que le pas de différenciation de cette formule. De plus, lorsque la matrice Jacobienne est implémentée dans une fonction Python, on peut transmettre cette fonction à OpenTURNS pour qu'il l'utilise.\n",
    "\n",
    "**Questions**\n",
    "* Définir la fonction `myfunction` comme dans le sujet, c'est à dire avec 3 entrées et 2 sorties.\n",
    "* Utiliser la méthode `gradient` de l’objet `myfunction` pour évaluer le\n",
    "gradient G'(x) au point d’entrée X = (1, 2, 3).\n",
    "* Utiliser la méthode `hessian` de l’objet `myfunction` pour évaluer la\n",
    "matrice Hessienne de G.\n",
    "\n",
    "* Utiliser les instructions suivantes pour configurer un gradient calculé\n",
    "par une formule de différences finies décentrée, avec un pas h = 10−2.\n",
    "\n",
    "```\n",
    "functionImpl = myfunction.getEvaluation()\n",
    "h = 1.e -2\n",
    "myGradient = ot.NonCenteredFiniteDifferenceGradient(h, functionImpl)\n",
    "myfunction.setGradient ( myGradient )\n",
    "```\n",
    "\n",
    "* Evaluer à nouveau le gradient avec la méthode gradient et comparer avec le résultat précédent.\n",
    "* On peut transmettre à OT une fonction Python qui évalue le gradient. Pour cela on peut utiliser la séquence d'appel :\n",
    "```\n",
    "myfunction = ot.PythonFunction(nbInputs, nbOutputs, mySimulator, gradient=mySimulatorGradient)\n",
    "```\n",
    "où `mySimulatorGradient` est une fonction Python qui évalue le gradient.\n",
    "Calculez à la main des dérivées partielles de la fonction G associée à l'exemple fil rouge. \n",
    "Puis définissez la fonction `mySimulatorGradient` qui évalue la matrice Jacobienne. Puisqu'il y a trois variables d'entrée, la liste renvoyée par mySimulatorGradient doit contenir trois éléments. Chaque élément doit contenir une sous-liste de taille 2 contenant les dérivées de chaque sortie. Enfin, construisez la fonction associée avec l'option `gradient`. "
   ]
  },
  {
   "cell_type": "markdown",
   "metadata": {},
   "source": [
    "### Exercice 3 : gestion de l'historique d'une fonction Python\n",
    "\n",
    "**Questions**\n",
    "* Observer le changement de la valeur de retour de `isHistoryEnabled`\n",
    "* Quelles sont les méthodes qui permettent de récupérer les historiques des entrées et des sorties ?\n",
    "* Comment avoir le nombre d’appels à la fonction ?\n",
    "* Utiliser la méthode `clearHistory` et vérifier que l'historique est vide après cet appel."
   ]
  },
  {
   "cell_type": "markdown",
   "metadata": {},
   "source": [
    "### Exercice 4 : fonction symbolique avec 4 entrées\n",
    "\n",
    "On considère le modèle :\n",
    "$$\n",
    "\\begin{eqnarray}\n",
    "Y_1 &=& X_1 + X_2 + X_3 \\\\\n",
    "Y_2 &=& X_1 - X_2 X_3 \\\\\n",
    "Y_3 &=& 2 X_1 + 3 X_2 + 4 X_4\n",
    "\\end{eqnarray}\n",
    "$$\n",
    "\n",
    "**Questions**\n",
    "* Créer une fonction symbolique pour créer ce nouveau modèle.\n",
    "* Evaluer la sortie du modèle au point $X=(1,2,3,4)^T$.\n",
    "* Estimer la moyenne de la sortie par Monte-Carlo simple."
   ]
  },
  {
   "cell_type": "markdown",
   "metadata": {},
   "source": [
    "### Exercice 5 : fonction symbolique avec paramètres\n",
    "\n",
    "On considère le modèle \n",
    "$$\n",
    "\\begin{eqnarray}\n",
    "Y_1 &=& a X_1 + b X_2 \\\\\n",
    "Y_2 &=& c X_1 + d X_2\n",
    "\\end{eqnarray}\n",
    "$$\n",
    "où a, b, c, d sont des paramètres :\n",
    "```\n",
    "a = 12\n",
    "b = 23\n",
    "c = -34\n",
    "d = 45\n",
    "```\n",
    "\n",
    "**Questions**\n",
    "* Créer une fonction symbolique pour créer ce nouveau modèle en utilisant la fonction `str`.\n",
    "* Evaluer la sortie du modèle au point $X=(1,2,3,4)^T$.\n",
    "\n",
    "Note : la classe `ParametricFunction` est plus adaptée pour cela."
   ]
  },
  {
   "cell_type": "markdown",
   "metadata": {},
   "source": [
    "### Exercice 6 : gradient d'une fonction symbolique\n",
    "\n",
    "On souhaite vérifier que OT peut calculer la dérivée formelle d’une\n",
    "fonction symbolique. \n",
    "\n",
    "**Questions**\n",
    "* Définir la fonction `myfunctionSymbolic` comme dans l’exemple fil rouge.\n",
    "* Créer la variable `myGradient` contenant la dérivée exacte de la fonction. Pour cela, utiliser la méthode `getGradient` de l’objet\n",
    "`myfunctionSymbolic`. \n",
    "\n",
    "* Qu’est-ce qui s’affiche quand on utilise l’instruction suivante ?\n",
    "\n",
    "`\n",
    "print(myGradient)\n",
    "`\n",
    "\n",
    "* On souhaite évaluer le gradient au point d’entrée suivant :\n",
    "`\n",
    "X = (1, 2, 3)\n",
    "`\n",
    "Utiliser la méthode `gradient` de l’objet `myGradient` pour évaluer G'(x)."
   ]
  },
  {
   "cell_type": "markdown",
   "metadata": {},
   "source": [
    "### Exercice 7 : gestion des variables intermédiaires dans une fonction symbolique\n",
    "\n",
    "On peut définir une fonction symbolique dont l'évaluation est fondée sur des valeurs intermédiaires. Ainsi, la sortie n'est pas seulement une fonction explicite des entrées : on peut définir des résultats intermédiaires et les réutiliser dans une ou plusieurs sorties de la fonction. \n",
    "\n",
    "Pour cela, il faut utiliser la séquence d'appel suivante :\n",
    "```\n",
    "myFunction = ot.SymbolicFunction(inputs, outputs, formula)\n",
    "```\n",
    "où `outputs` est une chaîne de caractères contenant l'expression à évaluer. \n",
    "\n",
    "Pour composer cette chaîne de caractère, on peut définir plusieurs expressions, séparées par le caractère \";\". De plus, les variables intermédiaires doivent être précédées du mot-clé \"`var`\". \n",
    "\n",
    "Par exemple, dans le cas du modèle dont les entrées sont $X_1$ et $X_2$ et les sorties sont $Y_1$ et $Y_2$ :\n",
    "$$\n",
    "\\begin{eqnarray}\n",
    "T &=& X_1 X_2 \\\\\n",
    "Y_1 &=& X_1 + T \\\\\n",
    "Y_2 &=& X_2 - 3T\n",
    "\\end{eqnarray}\n",
    "$$\n",
    "on peut utiliser l'instruction suivante :"
   ]
  },
  {
   "cell_type": "code",
   "execution_count": null,
   "metadata": {
    "scrolled": true
   },
   "outputs": [],
   "source": [
    "inputs = ['X1', 'X2'] \n",
    "outputs = ['Y1', 'Y2']\n",
    "formula = 'var T := X1*X2; Y1 := X1+T; Y2 := X2-3*T'\n",
    "myFunction = ot.SymbolicFunction(inputs, outputs, formula)\n",
    "myFunction([1.,2.])"
   ]
  },
  {
   "cell_type": "markdown",
   "metadata": {},
   "source": [
    "Définir le modèle dont les entrées sont $X_1$ et $X_2$ et les sorties sont $Y_1$ et $Y_2$ :\n",
    "$$\n",
    "\\begin{eqnarray}\n",
    "S &=& X_1 + X_2 \\\\\n",
    "T &=& X_1 X_2 \\\\\n",
    "Y_1 &=& S + T \\\\\n",
    "Y_2 &=& ST\n",
    "\\end{eqnarray}\n",
    "$$"
   ]
  },
  {
   "cell_type": "markdown",
   "metadata": {},
   "source": [
    "## Exercice 8 : configurer le nombre de cpus\n",
    "\n",
    "L'option `n_cpus` de la classe `PythonFunction` permet de configurer le nombre de processeurs. L'implémentation est fondée sur le module `multiprocessing`. Dans cet exercice, on cherche à observer l'effet de cette option sur la performance du calcul.\n",
    "\n",
    "Pour observer un changement dans la performance nous nous plaçons dans la situation suivante :\n",
    "- la fonction possède un grand nombre de variables d'entrées,\n",
    "- la fonction est coûteuse.\n",
    "\n",
    "Dans ce but, nous définissons la fonction suivante."
   ]
  },
  {
   "cell_type": "code",
   "execution_count": null,
   "metadata": {},
   "outputs": [],
   "source": [
    "import math\n",
    "\n",
    "dim = 100\n",
    "\n",
    "def myHighDimSimulator(x):\n",
    "    y0=0.\n",
    "    y1=1.\n",
    "    for i in range(dim):\n",
    "        y0=y0+math.exp(x[i])\n",
    "        y1=y1*math.exp(x[i])\n",
    "    y=[y0,y1]\n",
    "    return y\n",
    "\n",
    "inputHighDimDistribution = ot.ComposedDistribution([ot.Normal()]*dim)\n",
    "inputHighDimRandomVector = ot.RandomVector(inputHighDimDistribution)"
   ]
  },
  {
   "cell_type": "markdown",
   "metadata": {},
   "source": [
    "- Utiliser le module `time` pour mesurer la performance de la fonction sans l'option `n_cpus`. Pour observer une durée de simulation significative, augmentez la taille du plan d'expériences ou le nombre de dimensions.\n",
    "- De même avec l'option `n_cpus`.\n",
    "- Quelle différence constatez-vous ?"
   ]
  }
 ],
 "metadata": {
  "kernelspec": {
   "display_name": "Python 3",
   "language": "python",
   "name": "python3"
  },
  "language_info": {
   "codemirror_mode": {
    "name": "ipython",
    "version": 3
   },
   "file_extension": ".py",
   "mimetype": "text/x-python",
   "name": "python",
   "nbconvert_exporter": "python",
   "pygments_lexer": "ipython3",
   "version": "3.7.5rc1"
  }
 },
 "nbformat": 4,
 "nbformat_minor": 2
}
