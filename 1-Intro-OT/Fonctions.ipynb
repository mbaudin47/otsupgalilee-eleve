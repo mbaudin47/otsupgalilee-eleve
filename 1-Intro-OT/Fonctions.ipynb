{
 "cells": [
  {
   "cell_type": "markdown",
   "metadata": {
    "slideshow": {
     "slide_type": "slide"
    }
   },
   "source": [
    "# Fonction Python et symbolique"
   ]
  },
  {
   "cell_type": "markdown",
   "metadata": {},
   "source": [
    "## Résumé\n",
    "\n",
    "Dans cette page, nous présentons comment définir des fonctions Python et symbolique."
   ]
  },
  {
   "cell_type": "markdown",
   "metadata": {
    "slideshow": {
     "slide_type": "slide"
    }
   },
   "source": [
    "## Références\n",
    "\n",
    "* User Manual, Functions : http://openturns.github.io/openturns/master/user_manual/functions.html\n",
    "* Examples, Functional modeling : http://openturns.github.io/openturns/master/examples/functional_modeling/functional_modeling.html\n",
    "\n",
    "* http://openturns.github.io/openturns/master/user_manual/_generated/openturns.MemoizeFunction.html\n",
    "* Sur ExprTk : OpenTURNS Users’ Day #11, Friday, the 15 th, June 2018, Denis Barbier, http://trac.openturns.org/blog/OpenTURNS_Users_Day_11"
   ]
  },
  {
   "cell_type": "markdown",
   "metadata": {
    "slideshow": {
     "slide_type": "slide"
    }
   },
   "source": [
    "## Exemple\n",
    "\n",
    "Pour chaque fonction, nous illustrons la connexion avec l’exemple suivant :\n",
    "* 3 entrées, de loi normale standard, indépendantes\n",
    "* 2 sorties\n",
    "* formule symbolique\n",
    "\n",
    "La formule symbolique est donnée par :\n",
    "$$\n",
    "\\begin{eqnarray}\n",
    "Y_1 &=& X_1 + X_2 + X_3 \\\\\n",
    "Y_2 &=& X_1 - X_2 X_3\n",
    "\\end{eqnarray}\n",
    "$$\n",
    "\n",
    "Les résultats exacts sont les suivants.\n",
    "\n",
    "| Variable | Espérance | Ecart-type |\n",
    "|-|-|-|\n",
    "| $Y_1$ | 0 | 1.732 |\n",
    "| $Y_2$ | 0 | 1.415 |\n"
   ]
  },
  {
   "cell_type": "code",
   "execution_count": 1,
   "metadata": {
    "slideshow": {
     "slide_type": "slide"
    }
   },
   "outputs": [],
   "source": [
    "import openturns as ot\n",
    "X0 = ot.Normal(0.0, 1.0)\n",
    "X1 = ot.Normal(0.0, 1.0)\n",
    "X2 = ot.Normal(0.0, 1.0)\n",
    "inputDistribution = ot.ComposedDistribution((X0,X1,X2))\n",
    "inputRandomVector = ot.RandomVector(inputDistribution)"
   ]
  },
  {
   "cell_type": "markdown",
   "metadata": {
    "slideshow": {
     "slide_type": "slide"
    }
   },
   "source": [
    "## PythonFunction : constructeur\n",
    "\n",
    "La classe `PythonFunction` permet de créer une fonction OpenTURNS en utilisant une fonction Python crée avec l'opérateur `def`. \n",
    "\n",
    "Le constructeur de la classe PythonFunction est\n",
    "\n",
    "`PythonFunction ( nbInputs , nbOutputs , myPythonFunc )`\n",
    "\n",
    "où\n",
    "* `nbInputs` : nombre de variables d’entrées,\n",
    "* `nbOutputs` : nombre de variables de sorties,\n",
    "* `myPythonFunc` : une fonction Python."
   ]
  },
  {
   "cell_type": "markdown",
   "metadata": {},
   "source": [
    "Le simulateur `mySimulator` a la séquence d'appel `y=mySimulator(x)` où\n",
    "* `x` : l’entrée du simulateur, un vecteur de taille `nbInputs`,\n",
    "* `y` : la sortie du simulateur, un vecteur de taille `nbOutputs`."
   ]
  },
  {
   "cell_type": "markdown",
   "metadata": {
    "slideshow": {
     "slide_type": "slide"
    }
   },
   "source": [
    "## Exemple d'utilisation de la PythonFunction\n",
    "\n",
    "Dans l'exemple suivant, on estime la moyenne par Monte-Carlo simple sur la base de 10000 expériences."
   ]
  },
  {
   "cell_type": "code",
   "execution_count": 2,
   "metadata": {},
   "outputs": [],
   "source": [
    "def mySimulator(x):\n",
    "    y0 = x[0] + x[1] + x[2]\n",
    "    y1 = x[0] - x[1] * x[2]\n",
    "    y = [y0, y1]\n",
    "    return y"
   ]
  },
  {
   "cell_type": "code",
   "execution_count": 3,
   "metadata": {},
   "outputs": [
    {
     "name": "stdout",
     "output_type": "stream",
     "text": [
      "[-0.0166778,-0.0123527]\n",
      "[1.73359,1.39888]\n"
     ]
    }
   ],
   "source": [
    "myfunction = ot.PythonFunction (3, 2, mySimulator )\n",
    "outputVect =  ot.CompositeRandomVector(myfunction, inputRandomVector)\n",
    "montecarlosize = 10000\n",
    "outputSample = outputVect.getSample(montecarlosize)\n",
    "empiricalMean = outputSample.computeMean()\n",
    "print(empiricalMean)\n",
    "empiricalSd = outputSample.computeStandardDeviationPerComponent()\n",
    "print(empiricalSd)"
   ]
  },
  {
   "cell_type": "markdown",
   "metadata": {
    "slideshow": {
     "slide_type": "slide"
    }
   },
   "source": [
    "## Quel type pour x, pour y ?\n",
    "\n",
    "| Type | Entrée X | Sortie Y |\n",
    "|--|--|--|\n",
    "|Point (OpenTURNS) | ✓ | ✓ |\n",
    "|list (Python) | - | ✓ |\n",
    "|tuple (Python) | - | ✓ |\n",
    "|array (NumPy) | - | ✓ |"
   ]
  },
  {
   "cell_type": "markdown",
   "metadata": {
    "slideshow": {
     "slide_type": "slide"
    }
   },
   "source": [
    "## PythonFunction : objectifs, avantages, inconvénients\n",
    "\n",
    "Les objectifs de la classe `PythonFunction` sont :\n",
    "\n",
    "* Simplicité de mise en oeuvre.\n",
    "* Fonction directement en Python : possibilité d’utiliser tous les modules Python pour réaliser le calcul, ou la connexion.\n",
    "\n",
    "Avantages :\n",
    "\n",
    "* Utile si le simulateur est disponible en Python.\n",
    "* Possibilité de vectorisation avec l’option `func_sample`.\n",
    "\n",
    "Inconvénients :\n",
    "\n",
    "* Pas multithread."
   ]
  },
  {
   "cell_type": "markdown",
   "metadata": {
    "slideshow": {
     "slide_type": "slide"
    }
   },
   "source": [
    "## PythonFunction vectorisée : objectifs, avantages, inconvénients\n",
    "\n",
    "La classe PythonFunction possède une option `func_sample` :\n",
    "\n",
    "* Idée : améliorer la performance en vectorisant les opérations.\n",
    "* Principe : évaluer toutes les sorties en fonction de toutes les entrées en un seul appel à la fonction, sans boucle `for`.\n",
    "* Implémentation : l’entrée et la sortie sont des matrices (et non plus des vecteurs).\n",
    "\n",
    "Avantages :\n",
    "\n",
    "* Amélioration de la performance.\n",
    "\n",
    "Inconvénients :\n",
    "\n",
    "* Nécessite de vectoriser le calcul."
   ]
  },
  {
   "cell_type": "markdown",
   "metadata": {
    "slideshow": {
     "slide_type": "slide"
    }
   },
   "source": [
    "## Prototype\n",
    "\n",
    "```\n",
    "def mySimulator (x):\n",
    "    [...]\n",
    "    return y\n",
    "myfunction=PythonFunction(nbInputs, nbOutputs, func_sample=mySimulator)\n",
    "```\n",
    "\n",
    "où\n",
    "* x : l’entrée du simulateur, un `Sample` de taille `nbExperiments` (`getSize`), de dimension `nbInputs` (`getDimension`),\n",
    "* y : la sortie du simulateur\n",
    "  * un `array` : `nbExperiments` lignes et `nbOutputs` colonnes\n",
    "  * un `Sample` : taille `nbExperiments` et dimension `nbOutputs`"
   ]
  },
  {
   "cell_type": "markdown",
   "metadata": {
    "slideshow": {
     "slide_type": "slide"
    }
   },
   "source": [
    "## PythonFunction vectorisée : exemple avec Numpy\n"
   ]
  },
  {
   "cell_type": "code",
   "execution_count": 4,
   "metadata": {},
   "outputs": [],
   "source": [
    "import numpy as np\n",
    "def mySimulatorVect (x):\n",
    "    # Conversion Sample > Array Numpy\n",
    "    x = np.array (x)\n",
    "    x0 = x[:, 0] # Extraction de la colonne 0\n",
    "    x1 = x[:, 1]\n",
    "    x2 = x[:, 2]\n",
    "    y0 = x0 + x1 + x2\n",
    "    y1 = x0 - x1 * x2\n",
    "    # Empilement de deux lignes\n",
    "    y = np.vstack ((y0, y1 ))\n",
    "    y = y.transpose ()\n",
    "    return y\n",
    "myfunctionVect = ot.PythonFunction(3, 2, \\\n",
    "                                   func_sample = mySimulatorVect )"
   ]
  },
  {
   "cell_type": "code",
   "execution_count": 5,
   "metadata": {
    "slideshow": {
     "slide_type": "slide"
    }
   },
   "outputs": [
    {
     "name": "stdout",
     "output_type": "stream",
     "text": [
      "[-0.00077008,-0.0165189]\n",
      "[1.74231,1.40859]\n"
     ]
    }
   ],
   "source": [
    "outputVect =  ot.CompositeRandomVector(myfunctionVect, inputRandomVector)\n",
    "montecarlosize = 10000\n",
    "outputSample = outputVect.getSample(montecarlosize)\n",
    "empiricalMean = outputSample.computeMean()\n",
    "print(empiricalMean)\n",
    "empiricalSd = outputSample.computeStandardDeviationPerComponent()\n",
    "print(empiricalSd)"
   ]
  },
  {
   "cell_type": "markdown",
   "metadata": {
    "slideshow": {
     "slide_type": "slide"
    }
   },
   "source": [
    "## MemoizeFunction pour gérer l'historique\n",
    "\n",
    "La classe `MemoizeFunction` définit un mécanisme d’historique des appels à G.\n",
    "\n",
    "| Méthodes | Fonction |\n",
    "|-|-|\n",
    "| `enableHistory()` | active l’historique (défaut : activé) |\n",
    "| `disableHistory()` | désactive l’historique |\n",
    "| `isHistoryEnabled()` | vrai si l’historique est actif |\n",
    "| `clearHistory()` | vide l’historique |\n",
    "| `getInputHistory()` | un `Sample`, historique des entrées X |\n",
    "| `getOutputHistory()` | un `Sample`, historique des sorties Y |"
   ]
  },
  {
   "cell_type": "code",
   "execution_count": 6,
   "metadata": {},
   "outputs": [],
   "source": [
    "myfunction = ot.PythonFunction (3, 2, mySimulator )\n",
    "myfunction = ot.MemoizeFunction(myfunction)"
   ]
  },
  {
   "cell_type": "code",
   "execution_count": 7,
   "metadata": {
    "slideshow": {
     "slide_type": "-"
    }
   },
   "outputs": [],
   "source": [
    "outputVariableOfInterest = ot.CompositeRandomVector(myfunction, inputRandomVector)\n",
    "montecarlosize = 10\n",
    "outputSample = outputVariableOfInterest.getSample(montecarlosize)"
   ]
  },
  {
   "cell_type": "markdown",
   "metadata": {
    "slideshow": {
     "slide_type": "slide"
    }
   },
   "source": [
    "Récupère l'historique en entrée."
   ]
  },
  {
   "cell_type": "code",
   "execution_count": 8,
   "metadata": {},
   "outputs": [
    {
     "data": {
      "text/html": [
       "<TABLE><TR><TD></TD><TH>v0</TH><TH>v1</TH><TH>v2</TH></TR>\n",
       "<TR><TD>0</TD><TD>-0.3426049407409974</TD><TD>-0.689636966867791</TD><TD>1.2430871864340118</TD></TR>\n",
       "<TR><TD>1</TD><TD>-2.1386534433938884</TD><TD>-1.4635227971736484</TD><TD>1.1026255045622082</TD></TR>\n",
       "<TR><TD>2</TD><TD>-0.6212716527604203</TD><TD>0.05683584819327807</TD><TD>-1.0104143995758796</TD></TR>\n",
       "<TR><TD>3</TD><TD>0.14094582372870545</TD><TD>0.5532786246426022</TD><TD>0.6904336896063326</TD></TR>\n",
       "<TR><TD>4</TD><TD>0.3056622172571174</TD><TD>-1.1365049525644593</TD><TD>1.692226509358007</TD></TR>\n",
       "<TR><TD>5</TD><TD>-1.5187990569006284</TD><TD>0.9695327429694076</TD><TD>-1.7656395366104742</TD></TR>\n",
       "<TR><TD>6</TD><TD>1.8603263783642712</TD><TD>1.2148796338903316</TD><TD>0.812872250567669</TD></TR>\n",
       "<TR><TD>7</TD><TD>0.32770564349706716</TD><TD>-0.6888171650020032</TD><TD>-2.011791373087136</TD></TR>\n",
       "<TR><TD>8</TD><TD>-0.39528325564911987</TD><TD>1.841280936503913</TD><TD>-1.3685050979414375</TD></TR>\n",
       "<TR><TD>9</TD><TD>0.45610178231733167</TD><TD>-0.1313743068548495</TD><TD>0.572819632121423</TD></TR>\n",
       "</TABLE>"
      ],
      "text/plain": [
       "class=Sample name=Unnamed implementation=class=SampleImplementation name=Unnamed size=10 dimension=3 data=[[-0.342605,-0.689637,1.24309],[-2.13865,-1.46352,1.10263],[-0.621272,0.0568358,-1.01041],[0.140946,0.553279,0.690434],[0.305662,-1.1365,1.69223],[-1.5188,0.969533,-1.76564],[1.86033,1.21488,0.812872],[0.327706,-0.688817,-2.01179],[-0.395283,1.84128,-1.36851],[0.456102,-0.131374,0.57282]]"
      ]
     },
     "execution_count": 8,
     "metadata": {},
     "output_type": "execute_result"
    }
   ],
   "source": [
    "inputs = myfunction.getInputHistory()\n",
    "inputs"
   ]
  },
  {
   "cell_type": "markdown",
   "metadata": {
    "slideshow": {
     "slide_type": "slide"
    }
   },
   "source": [
    "## Fonction symbolique\n",
    "\n",
    "La classe `SymbolicFunction` peut créer des fonctions symboliques :\n",
    "\n",
    "* Idée : utiliser une fonction symbolique simple.\n",
    "* Principe : fournir une chaîne de caractère définissant le calcul.\n",
    "\n",
    "Avantages :\n",
    "\n",
    "* Amélioration de la performance.\n",
    "* Calcul automatique du gradient exact, de la Hessienne exacte\n",
    "\n",
    "Inconvénients :\n",
    "\n",
    "* Nécessite une formule mathématique simple, typiquement une seule ligne (mais cette limitation peut être levée avec ExprTk)"
   ]
  },
  {
   "cell_type": "markdown",
   "metadata": {
    "slideshow": {
     "slide_type": "slide"
    }
   },
   "source": [
    "## Fonction symbolique : prototype\n",
    "\n",
    "Prototype :\n",
    "\n",
    "`\n",
    "myfunction = SymbolicFunction(liste_des_entrees ,liste_des_formules )\n",
    "`\n",
    "\n",
    "où\n",
    "* `liste_des_entrees` : une liste de `nbInputs` chaînes de caractères, le nom des variables d’entrées\n",
    "* `liste_des_formules` : une liste de `nbOutputs` chaînes de caractères, les formules de calcul."
   ]
  },
  {
   "cell_type": "code",
   "execution_count": 9,
   "metadata": {},
   "outputs": [],
   "source": [
    "import openturns as ot\n",
    "X0 = ot.Normal(0.0, 1.0)\n",
    "X1 = ot.Normal(0.0, 1.0)\n",
    "X2 = ot.Normal(0.0, 1.0)\n",
    "inputDistribution = ot.ComposedDistribution((X0,X1,X2))\n",
    "inputRandomVector = ot.RandomVector(inputDistribution)"
   ]
  },
  {
   "cell_type": "code",
   "execution_count": 10,
   "metadata": {},
   "outputs": [],
   "source": [
    "myfunction = ot.SymbolicFunction((\"x0\",\"x1\",\"x2\"), \n",
    "                                 (\"x0 + x1 + x2\",\"x0 - x1 * x2\"))\n",
    "myfunction = ot.MemoizeFunction(myfunction)"
   ]
  },
  {
   "cell_type": "code",
   "execution_count": 11,
   "metadata": {
    "slideshow": {
     "slide_type": "slide"
    }
   },
   "outputs": [
    {
     "name": "stdout",
     "output_type": "stream",
     "text": [
      "[-0.000337898,-0.00609942]\n"
     ]
    }
   ],
   "source": [
    "outputVect =  ot.CompositeRandomVector(myfunction, inputRandomVector)\n",
    "montecarlosize = 10000\n",
    "outputSample = outputVect.getSample(montecarlosize)\n",
    "empiricalMean = outputSample.computeMean()\n",
    "print(empiricalMean)"
   ]
  },
  {
   "cell_type": "code",
   "execution_count": 12,
   "metadata": {
    "scrolled": true
   },
   "outputs": [
    {
     "data": {
      "text/html": [
       "<TABLE><TR><TD></TD><TH>v0</TH><TH>v1</TH></TR>\n",
       "<TR><TD>0</TD><TD>-0.08508063375538205</TD><TD>0.8974875617601064</TD></TR>\n",
       "<TR><TD>1</TD><TD>0.835068449085645</TD><TD>0.6082917234676658</TD></TR>\n",
       "<TR><TD>2</TD><TD>-1.5331063675958376</TD><TD>-0.3603107009663977</TD></TR>\n",
       "<TR><TD>3</TD><TD>0.3294989655386499</TD><TD>-0.5302618334408122</TD></TR>\n",
       "<TR><TD>4</TD><TD>1.6977751892527135</TD><TD>0.09262297601997455</TD></TR>\n",
       "<TR><TD>5</TD><TD>1.0671706780737071</TD><TD>-0.7204318270150004</TD></TR>\n",
       "<TR><TD>6</TD><TD>-0.3294656311476475</TD><TD>-0.043150705383642796</TD></TR>\n",
       "<TR><TD>7</TD><TD>-1.4948567574549438</TD><TD>-0.45129933759593865</TD></TR>\n",
       "<TR><TD>8</TD><TD>1.094295564406751</TD><TD>1.9061369435653874</TD></TR>\n",
       "<TR><TD>9</TD><TD>0.32610650078173403</TD><TD>0.14681166047125288</TD></TR>\n",
       "</TABLE>"
      ],
      "text/plain": [
       "class=Sample name=Unnamed implementation=class=SampleImplementation name=Unnamed size=10 dimension=2 description=[v0,v1] data=[[-0.0850806,0.897488],[0.835068,0.608292],[-1.53311,-0.360311],[0.329499,-0.530262],[1.69778,0.092623],[1.06717,-0.720432],[-0.329466,-0.0431507],[-1.49486,-0.451299],[1.0943,1.90614],[0.326107,0.146812]]"
      ]
     },
     "execution_count": 12,
     "metadata": {},
     "output_type": "execute_result"
    }
   ],
   "source": [
    "outputs = myfunction.getOutputHistory()\n",
    "outputs[0:10,:]"
   ]
  },
  {
   "cell_type": "markdown",
   "metadata": {
    "slideshow": {
     "slide_type": "slide"
    }
   },
   "source": [
    "##  Exercices"
   ]
  },
  {
   "cell_type": "markdown",
   "metadata": {},
   "source": [
    "### Exercice 1 : une fonction avec 4 entrées\n",
    "\n",
    "On considère un nouveau modèle, avec une nouvelle variable de sortie\n",
    "Y3 et une nouvelle variable d’entrée X4 :\n",
    "$$\n",
    "\\begin{eqnarray}\n",
    "Y_1 &=& X_1 + X_2 + X_3 \\\\\n",
    "Y_2 &=& X_1 - X_2 X_3 \\\\\n",
    "Y_3 &=& 2 X_1 + 3 X_2 + 4 X_4\n",
    "\\end{eqnarray}\n",
    "$$\n",
    "\n",
    "**Questions**\n",
    "* Modifier la fonction Python pour simuler le nouveau modèle.\n",
    "* Ajouter une nouvelle variable X4 de loi normale standard dans le modèle probabiliste.\n",
    "* Estimer la moyenne de la sortie par Monte-Carlo simple."
   ]
  },
  {
   "cell_type": "markdown",
   "metadata": {
    "slideshow": {
     "slide_type": "slide"
    }
   },
   "source": [
    "### Exercice 2 : gradient d'une fonction Python\n",
    "\n",
    "OT peut calculer la dérivée approchée d’une fonction Python par différences finies. On peut paramétrer la formule de différence utilisée, ainsi que le pas de différenciation de cette formule. De plus, lorsque la matrice Jacobienne est implémentée dans une fonction Python, on peut transmettre cette fonction à OpenTURNS pour qu'il l'utilise.\n",
    "\n",
    "**Questions**\n",
    "* Définir la fonction `myfunction` comme dans le sujet, c'est à dire avec 3 entrées et 2 sorties.\n",
    "* Utiliser la méthode `gradient` de l’objet `myfunction` pour évaluer le\n",
    "gradient G'(x) au point d’entrée X = (1, 2, 3).\n",
    "* Utiliser la méthode `hessian` de l’objet `myfunction` pour évaluer la\n",
    "matrice Hessienne de G.\n",
    "\n",
    "* Utiliser les instructions suivantes pour configurer un gradient calculé\n",
    "par une formule de différences finies décentrée, avec un pas h = 10−2.\n",
    "\n",
    "```\n",
    "functionImpl = myfunction.getEvaluation()\n",
    "h = 1.e -2\n",
    "myGradient = ot.NonCenteredFiniteDifferenceGradient(h, functionImpl)\n",
    "myfunction.setGradient ( myGradient )\n",
    "```\n",
    "\n",
    "* Evaluer à nouveau le gradient avec la méthode gradient et comparer avec le résultat précédent.\n",
    "* On peut transmettre à OT une fonction Python qui évalue le gradient. Pour cela on peut utiliser la séquence d'appel :\n",
    "```\n",
    "myfunction = ot.PythonFunction(nbInputs, nbOutputs, mySimulator, gradient=mySimulatorGradient)\n",
    "```\n",
    "où `mySimulatorGradient` est une fonction Python qui évalue le gradient.\n",
    "Calculez à la main des dérivées partielles de la fonction G associée à l'exemple fil rouge. \n",
    "Puis définissez la fonction `mySimulatorGradient` qui évalue la matrice Jacobienne. Puisqu'il y a trois variables d'entrée, la liste renvoyée par mySimulatorGradient doit contenir trois éléments. Chaque élément doit contenir une sous-liste de taille 2 contenant les dérivées de chaque sortie. Enfin, construisez la fonction associée avec l'option `gradient`. "
   ]
  },
  {
   "cell_type": "markdown",
   "metadata": {
    "slideshow": {
     "slide_type": "slide"
    }
   },
   "source": [
    "### Exercice 3 : gestion de l'historique d'une fonction Python\n",
    "\n",
    "**Questions**\n",
    "* Observer le changement de la valeur de retour de `isHistoryEnabled`\n",
    "* Quelles sont les méthodes qui permettent de récupérer les historiques des entrées et des sorties ?\n",
    "* Comment avoir le nombre d’appels à la fonction ?\n",
    "* Utiliser la méthode `clearHistory` et vérifier que l'historique est vide après cet appel."
   ]
  },
  {
   "cell_type": "markdown",
   "metadata": {
    "slideshow": {
     "slide_type": "slide"
    }
   },
   "source": [
    "### Exercice 4 : fonction symbolique avec 4 entrées\n",
    "\n",
    "On considère le modèle :\n",
    "$$\n",
    "\\begin{eqnarray}\n",
    "Y_1 &=& X_1 + X_2 + X_3 \\\\\n",
    "Y_2 &=& X_1 - X_2 X_3 \\\\\n",
    "Y_3 &=& 2 X_1 + 3 X_2 + 4 X_4\n",
    "\\end{eqnarray}\n",
    "$$\n",
    "\n",
    "**Questions**\n",
    "* Créer une fonction symbolique pour créer ce nouveau modèle.\n",
    "* Evaluer la sortie du modèle au point $X=(1,2,3,4)^T$.\n",
    "* Estimer la moyenne de la sortie par Monte-Carlo simple."
   ]
  },
  {
   "cell_type": "markdown",
   "metadata": {
    "slideshow": {
     "slide_type": "slide"
    }
   },
   "source": [
    "### Exercice 5 : fonction symbolique avec paramètres\n",
    "\n",
    "On considère le modèle \n",
    "$$\n",
    "\\begin{eqnarray}\n",
    "Y_1 &=& a X_1 + b X_2 \\\\\n",
    "Y_2 &=& c X_1 + d X_2\n",
    "\\end{eqnarray}\n",
    "$$\n",
    "où a, b, c, d sont des paramètres :\n",
    "```\n",
    "a = 12\n",
    "b = 23\n",
    "c = -34\n",
    "d = 45\n",
    "```\n",
    "\n",
    "**Questions**\n",
    "* Créer une fonction symbolique pour créer ce modèle en fonction des entrées $a$, $b$, $c$, $d$, $X_1$, $X_2$.\n",
    "* Utiliser la classe `ParametricFunction` pour définir une fonction prenant en entrée $X_1$ et $X_2$ et dont les paramètres sont $a$, $b$, $c$, $d$. \n",
    "* Evaluer la sortie du modèle au point $X=(1,2)^T$."
   ]
  },
  {
   "cell_type": "markdown",
   "metadata": {
    "slideshow": {
     "slide_type": "slide"
    }
   },
   "source": [
    "### Exercice 6 : gradient d'une fonction symbolique\n",
    "\n",
    "On souhaite vérifier que OT peut calculer la dérivée formelle d’une\n",
    "fonction symbolique. \n",
    "\n",
    "**Questions**\n",
    "* Définir la fonction `myfunctionSymbolic` comme dans l’exemple fil rouge.\n",
    "* Créer la variable `myGradient` contenant la dérivée exacte de la fonction. Pour cela, utiliser la méthode `getGradient` de l’objet\n",
    "`myfunctionSymbolic`. \n",
    "\n",
    "* Qu’est-ce qui s’affiche quand on utilise l’instruction suivante ?\n",
    "\n",
    "`\n",
    "print(myGradient)\n",
    "`\n",
    "\n",
    "* On souhaite évaluer le gradient au point d’entrée suivant :\n",
    "`\n",
    "X = (1, 2, 3)\n",
    "`\n",
    "Utiliser la méthode `gradient` de l’objet `myGradient` pour évaluer G'(x)."
   ]
  },
  {
   "cell_type": "markdown",
   "metadata": {
    "slideshow": {
     "slide_type": "slide"
    }
   },
   "source": [
    "### Exercice 7 : gestion des variables intermédiaires dans une fonction symbolique\n",
    "\n",
    "On peut définir une fonction symbolique dont l'évaluation est fondée sur des valeurs intermédiaires. Ainsi, la sortie n'est pas seulement une fonction explicite des entrées : on peut définir des résultats intermédiaires et les réutiliser dans une ou plusieurs sorties de la fonction. \n",
    "\n",
    "Pour cela, il faut utiliser la séquence d'appel suivante :\n",
    "```\n",
    "myFunction = ot.SymbolicFunction(inputs, outputs, formula)\n",
    "```\n",
    "où `outputs` est une chaîne de caractères contenant l'expression à évaluer. \n",
    "\n",
    "Pour composer cette chaîne de caractère, on peut définir plusieurs expressions, séparées par le caractère \";\". De plus, les variables intermédiaires doivent être précédées du mot-clé \"`var`\". \n",
    "\n",
    "Par exemple, dans le cas du modèle dont les entrées sont $X_1$ et $X_2$ et les sorties sont $Y_1$ et $Y_2$ :\n",
    "$$\n",
    "\\begin{eqnarray}\n",
    "T &=& X_1 X_2 \\\\\n",
    "Y_1 &=& X_1 + T \\\\\n",
    "Y_2 &=& X_2 - 3T\n",
    "\\end{eqnarray}\n",
    "$$\n",
    "on peut utiliser l'instruction suivante :"
   ]
  },
  {
   "cell_type": "code",
   "execution_count": 13,
   "metadata": {
    "scrolled": true,
    "slideshow": {
     "slide_type": "slide"
    }
   },
   "outputs": [
    {
     "data": {
      "text/html": [
       "<p>[3,-4]</p>"
      ],
      "text/plain": [
       "class=Point name=Unnamed dimension=2 values=[3,-4]"
      ]
     },
     "execution_count": 13,
     "metadata": {},
     "output_type": "execute_result"
    }
   ],
   "source": [
    "inputs = ['X1', 'X2'] \n",
    "outputs = ['Y1', 'Y2']\n",
    "formula = 'var T := X1 * X2; Y1 := X1 + T; Y2 := X2 - 3 * T'\n",
    "myFunction = ot.SymbolicFunction(inputs, outputs, formula)\n",
    "myFunction([1.,2.])"
   ]
  },
  {
   "cell_type": "markdown",
   "metadata": {},
   "source": [
    "Définir le modèle dont les entrées sont $X_1$ et $X_2$ et les sorties sont $Y_1$ et $Y_2$ :\n",
    "$$\n",
    "\\begin{eqnarray}\n",
    "S &=& X_1 + X_2 \\\\\n",
    "T &=& X_1 X_2 \\\\\n",
    "Y_1 &=& S + T \\\\\n",
    "Y_2 &=& ST\n",
    "\\end{eqnarray}\n",
    "$$"
   ]
  },
  {
   "cell_type": "markdown",
   "metadata": {
    "slideshow": {
     "slide_type": "slide"
    }
   },
   "source": [
    "## Exercice 8 : configurer le nombre de cpus\n",
    "\n",
    "L'option `n_cpus` de la classe `PythonFunction` permet de configurer le nombre de processeurs. L'implémentation est fondée sur le module `multiprocessing`. Dans cet exercice, on cherche à observer l'effet de cette option sur la performance du calcul.\n",
    "\n",
    "Pour observer un changement dans la performance nous nous plaçons dans la situation suivante :\n",
    "- la fonction possède un grand nombre de variables d'entrées,\n",
    "- la fonction est coûteuse.\n",
    "\n",
    "Dans ce but, nous définissons la fonction suivante."
   ]
  },
  {
   "cell_type": "code",
   "execution_count": 14,
   "metadata": {},
   "outputs": [],
   "source": [
    "import math\n",
    "def myHighDimSimulator(x):\n",
    "    dim = ot.Point(x).getDimension()\n",
    "    y0 = 0.0\n",
    "    y1 = 1.0\n",
    "    for i in range(dim):\n",
    "        y0 = y0 + math.exp(x[i])\n",
    "        y1 = y1 * math.exp(x[i])\n",
    "    y=[y0,y1]\n",
    "    return y"
   ]
  },
  {
   "cell_type": "markdown",
   "metadata": {},
   "source": [
    "- Utiliser le module `time` pour mesurer la performance de la fonction sans l'option `n_cpus`. Pour observer une durée de simulation significative, augmentez la taille du plan d'expériences ou le nombre de dimensions.\n",
    "- De même avec l'option `n_cpus`.\n",
    "- Quelle différence constatez-vous ?"
   ]
  }
 ],
 "metadata": {
  "celltoolbar": "Diaporama",
  "kernelspec": {
   "display_name": "Python 3",
   "language": "python",
   "name": "python3"
  },
  "language_info": {
   "codemirror_mode": {
    "name": "ipython",
    "version": 3
   },
   "file_extension": ".py",
   "mimetype": "text/x-python",
   "name": "python",
   "nbconvert_exporter": "python",
   "pygments_lexer": "ipython3",
   "version": "3.7.4"
  }
 },
 "nbformat": 4,
 "nbformat_minor": 2
}
