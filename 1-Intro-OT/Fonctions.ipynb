{
 "cells": [
  {
   "cell_type": "markdown",
   "metadata": {},
   "source": [
    "# Fonction Python et symbolique\n",
    "\n",
    "## Résumé\n",
    "\n",
    "Dans cette page, nous présentons comment définir des fonctions Python et symbolique.\n",
    "\n",
    "[Pour voir ce Jupyter Notebook, nous conseillons NBViewer.](https://nbviewer.org/github/mbaudin47/otsupgalilee-eleve/blob/master/1-Intro-OT/Fonctions.ipynb)"
   ]
  },
  {
   "cell_type": "markdown",
   "metadata": {
    "slideshow": {
     "slide_type": "slide"
    }
   },
   "source": [
    "## Références\n",
    "\n",
    "* User Manual, Functions : http://openturns.github.io/openturns/master/user_manual/functions.html\n",
    "* Examples, Functional modeling : http://openturns.github.io/openturns/master/examples/functional_modeling/functional_modeling.html\n",
    "\n",
    "* http://openturns.github.io/openturns/master/user_manual/_generated/openturns.MemoizeFunction.html\n",
    "* Sur ExprTk : OpenTURNS Users’ Day #11, Friday, the 15 th, June 2018, Denis Barbier, http://trac.openturns.org/blog/OpenTURNS_Users_Day_11"
   ]
  },
  {
   "cell_type": "markdown",
   "metadata": {
    "slideshow": {
     "slide_type": "slide"
    }
   },
   "source": [
    "## Exemple\n",
    "\n",
    "Pour chaque fonction, nous illustrons la connexion avec l’exemple suivant :\n",
    "* 3 entrées, de loi normale standard, indépendantes\n",
    "* 2 sorties\n",
    "* formule symbolique\n",
    "\n",
    "La formule symbolique est donnée par :\n",
    "$$\n",
    "\\begin{aligned}\n",
    "Y_1 & = X_1 + X_2 + X_3 \\\\\n",
    "Y_2 & = X_1 - X_2 X_3\n",
    "\\end{aligned}\n",
    "$$\n",
    "\n",
    "Les résultats exacts sont les suivants.\n",
    "\n",
    "| Variable | Espérance | Ecart-type |\n",
    "|-|-|-|\n",
    "| $Y_1$ | 0 | 1.732 |\n",
    "| $Y_2$ | 0 | 1.415 |\n"
   ]
  },
  {
   "cell_type": "code",
   "execution_count": 18,
   "metadata": {
    "slideshow": {
     "slide_type": "slide"
    }
   },
   "outputs": [],
   "source": [
    "import openturns as ot\n",
    "import math\n",
    "import numpy as np"
   ]
  },
  {
   "cell_type": "code",
   "execution_count": 19,
   "metadata": {
    "slideshow": {
     "slide_type": "-"
    }
   },
   "outputs": [],
   "source": [
    "X0 = ot.Normal(0.0, 1.0)\n",
    "X1 = ot.Normal(0.0, 1.0)\n",
    "X2 = ot.Normal(0.0, 1.0)\n",
    "inputDistribution = ot.JointDistribution((X0, X1, X2))\n",
    "inputRandomVector = ot.RandomVector(inputDistribution)"
   ]
  },
  {
   "cell_type": "markdown",
   "metadata": {
    "slideshow": {
     "slide_type": "slide"
    }
   },
   "source": [
    "## PythonFunction : constructeur\n",
    "\n",
    "La classe `PythonFunction` permet de créer une fonction OpenTURNS en utilisant une fonction Python crée avec l'opérateur `def`. \n",
    "\n",
    "Le constructeur de la classe PythonFunction est\n",
    "\n",
    "`PythonFunction(nbInputs, nbOutputs, myPythonFunc)`\n",
    "\n",
    "où\n",
    "* `nbInputs` : nombre de variables d’entrées,\n",
    "* `nbOutputs` : nombre de variables de sorties,\n",
    "* `myPythonFunc` : une fonction Python."
   ]
  },
  {
   "cell_type": "markdown",
   "metadata": {},
   "source": [
    "Le simulateur `mySimulator` a la séquence d'appel `y=mySimulator(x)` où\n",
    "* `x` : l’entrée du simulateur, un vecteur de dimension `nbInputs`,\n",
    "* `y` : la sortie du simulateur, un vecteur de dimension `nbOutputs`."
   ]
  },
  {
   "cell_type": "markdown",
   "metadata": {
    "slideshow": {
     "slide_type": "slide"
    }
   },
   "source": [
    "## Exemple d'utilisation de la PythonFunction\n",
    "\n",
    "Dans l'exemple suivant, on estime la moyenne par Monte-Carlo simple sur la base de 10000 expériences."
   ]
  },
  {
   "cell_type": "code",
   "execution_count": 20,
   "metadata": {},
   "outputs": [],
   "source": [
    "def mySimulator(x):\n",
    "    y0 = x[0] + x[1] + x[2]\n",
    "    y1 = x[0] - x[1] * x[2]\n",
    "    y = [y0, y1]\n",
    "    return y"
   ]
  },
  {
   "cell_type": "code",
   "execution_count": 21,
   "metadata": {},
   "outputs": [
    {
     "name": "stdout",
     "output_type": "stream",
     "text": [
      "[0.0206241,0.0302726]\n",
      "[1.73744,1.44249]\n"
     ]
    }
   ],
   "source": [
    "myfunction = ot.PythonFunction(3, 2, mySimulator)\n",
    "outputVect = ot.CompositeRandomVector(myfunction, inputRandomVector)\n",
    "montecarlosize = 10000\n",
    "outputSample = outputVect.getSample(montecarlosize)\n",
    "empiricalMean = outputSample.computeMean()\n",
    "print(empiricalMean)\n",
    "empiricalSd = outputSample.computeStandardDeviation()\n",
    "print(empiricalSd)"
   ]
  },
  {
   "cell_type": "markdown",
   "metadata": {
    "slideshow": {
     "slide_type": "slide"
    }
   },
   "source": [
    "## Quel type pour x, pour y ?\n",
    "\n",
    "| Type | Entrée X | Sortie Y |\n",
    "|--|--|--|\n",
    "|Point (OpenTURNS) | ✓ | ✓ |\n",
    "|list (Python) | - | ✓ |\n",
    "|tuple (Python) | - | ✓ |\n",
    "|array (NumPy) | - | ✓ |"
   ]
  },
  {
   "cell_type": "markdown",
   "metadata": {
    "slideshow": {
     "slide_type": "slide"
    }
   },
   "source": [
    "## PythonFunction : objectifs, avantages, inconvénients\n",
    "\n",
    "Les objectifs de la classe `PythonFunction` sont :\n",
    "\n",
    "* Simplicité de mise en oeuvre.\n",
    "* Fonction directement en Python : possibilité d’utiliser tous les modules Python pour réaliser le calcul, ou la connexion.\n",
    "\n",
    "Avantages :\n",
    "\n",
    "* Utile si le simulateur est disponible en Python.\n",
    "* Possibilité de vectorisation avec l’option `func_sample`.\n",
    "* Peut être parallélisé sur plusieurs processeurs avec l'option `n_cpus` (voir l'exercice 8).\n",
    "\n",
    "Inconvénients :\n",
    "\n",
    "* Pas de calcul exact des dérivées."
   ]
  },
  {
   "cell_type": "markdown",
   "metadata": {
    "slideshow": {
     "slide_type": "slide"
    }
   },
   "source": [
    "## PythonFunction vectorisée : objectifs, avantages, inconvénients\n",
    "\n",
    "La classe PythonFunction possède une option `func_sample` :\n",
    "\n",
    "* Idée : améliorer la performance en vectorisant les opérations.\n",
    "* Principe : évaluer toutes les sorties en fonction de toutes les entrées en un seul appel à la fonction, sans boucle `for`.\n",
    "* Implémentation : l’entrée et la sortie sont des tableaux (et non plus des vecteurs).\n",
    "\n",
    "Avantages :\n",
    "\n",
    "* Amélioration de la performance.\n",
    "\n",
    "Inconvénients :\n",
    "\n",
    "* Nécessite de vectoriser le calcul."
   ]
  },
  {
   "cell_type": "markdown",
   "metadata": {
    "slideshow": {
     "slide_type": "slide"
    }
   },
   "source": [
    "## Prototype\n",
    "\n",
    "```\n",
    "def mySimulator (x):\n",
    "    [...]\n",
    "    return y\n",
    "myfunction=PythonFunction(nbInputs, nbOutputs, func_sample=mySimulator)\n",
    "```\n",
    "\n",
    "où\n",
    "* x : l’entrée du simulateur, un `Sample` de taille `nbExperiments` (`getSize()`), de dimension `nbInputs` (`getDimension()`),\n",
    "* y : la sortie du simulateur\n",
    "  * un `array` : `nbExperiments` lignes et `nbOutputs` colonnes,\n",
    "  * un `Sample` : taille `nbExperiments` et dimension `nbOutputs`"
   ]
  },
  {
   "cell_type": "markdown",
   "metadata": {
    "slideshow": {
     "slide_type": "slide"
    }
   },
   "source": [
    "## PythonFunction vectorisée : exemple avec Numpy\n"
   ]
  },
  {
   "cell_type": "code",
   "execution_count": 22,
   "metadata": {},
   "outputs": [],
   "source": [
    "def mySimulatorVect(x):\n",
    "    # Conversion Sample > Array Numpy\n",
    "    x = np.array(x)\n",
    "    x0 = x[:, 0]  # Extraction de la colonne 0\n",
    "    x1 = x[:, 1]\n",
    "    x2 = x[:, 2]\n",
    "    y0 = x0 + x1 + x2\n",
    "    y1 = x0 - x1 * x2\n",
    "    # Empilement de deux lignes\n",
    "    y = np.vstack((y0, y1))\n",
    "    y = y.transpose()\n",
    "    return y\n",
    "\n",
    "\n",
    "myfunctionVect = ot.PythonFunction(3, 2, func_sample=mySimulatorVect)"
   ]
  },
  {
   "cell_type": "code",
   "execution_count": 23,
   "metadata": {
    "slideshow": {
     "slide_type": "slide"
    }
   },
   "outputs": [
    {
     "name": "stdout",
     "output_type": "stream",
     "text": [
      "[0.00966796,-0.000719967]\n",
      "[1.71035,1.41768]\n"
     ]
    }
   ],
   "source": [
    "outputVect = ot.CompositeRandomVector(myfunctionVect, inputRandomVector)\n",
    "montecarlosize = 10000\n",
    "outputSample = outputVect.getSample(montecarlosize)\n",
    "empiricalMean = outputSample.computeMean()\n",
    "print(empiricalMean)\n",
    "empiricalSd = outputSample.computeStandardDeviation()\n",
    "print(empiricalSd)"
   ]
  },
  {
   "cell_type": "markdown",
   "metadata": {
    "slideshow": {
     "slide_type": "slide"
    }
   },
   "source": [
    "## MemoizeFunction pour gérer l'historique\n",
    "\n",
    "La classe `MemoizeFunction` définit un mécanisme d’historique des appels au modèle physique g.\n",
    "\n",
    "| Méthodes | Fonction |\n",
    "|-|-|\n",
    "| `enableHistory()` | active l’historique (défaut : activé) |\n",
    "| `disableHistory()` | désactive l’historique |\n",
    "| `isHistoryEnabled()` | vrai si l’historique est actif |\n",
    "| `clearHistory()` | vide l’historique |\n",
    "| `getInputHistory()` | un `Sample`, historique des entrées X |\n",
    "| `getOutputHistory()` | un `Sample`, historique des sorties Y |"
   ]
  },
  {
   "cell_type": "code",
   "execution_count": 24,
   "metadata": {},
   "outputs": [],
   "source": [
    "myfunction = ot.PythonFunction(3, 2, mySimulator)\n",
    "myfunction = ot.MemoizeFunction(myfunction)"
   ]
  },
  {
   "cell_type": "code",
   "execution_count": 25,
   "metadata": {
    "slideshow": {
     "slide_type": "-"
    }
   },
   "outputs": [],
   "source": [
    "outputVariableOfInterest = ot.CompositeRandomVector(myfunction, inputRandomVector)\n",
    "montecarlosize = 10\n",
    "outputSample = outputVariableOfInterest.getSample(montecarlosize)"
   ]
  },
  {
   "cell_type": "markdown",
   "metadata": {
    "slideshow": {
     "slide_type": "slide"
    }
   },
   "source": [
    "Récupère l'historique en entrée."
   ]
  },
  {
   "cell_type": "code",
   "execution_count": 26,
   "metadata": {},
   "outputs": [
    {
     "data": {
      "text/html": [
       "<table>\n",
       "  <tr><td></td><th>v0</th><th>v1</th><th>v2</th></tr>\n",
       "  <tr><th>0</th><td>0.3079865</td><td>0.4949963</td><td>-0.687555</td></tr>\n",
       "  <tr><th>1</th><td>-1.258934</td><td>1.03876</td><td>0.3680188</td></tr>\n",
       "  <tr><th>2</th><td>-0.6060818</td><td>0.2494701</td><td>-0.06460159</td></tr>\n",
       "  <tr><th>3</th><td>0.09842737</td><td>0.8692891</td><td>-0.8501301</td></tr>\n",
       "  <tr><th>4</th><td>1.213624</td><td>0.3783573</td><td>-0.3768163</td></tr>\n",
       "  <tr><th>5</th><td>2.07422</td><td>-0.3073393</td><td>3.006378</td></tr>\n",
       "  <tr><th>6</th><td>0.5886822</td><td>-1.754373</td><td>-1.684374</td></tr>\n",
       "  <tr><th>7</th><td>-2.760232</td><td>0.5550791</td><td>0.1478219</td></tr>\n",
       "  <tr><th>8</th><td>-0.3665925</td><td>0.9504032</td><td>-0.7658515</td></tr>\n",
       "  <tr><th>9</th><td>0.4212921</td><td>0.5637809</td><td>-0.1548954</td></tr>\n",
       "</table>"
      ],
      "text/plain": [
       "class=Sample name=Unnamed implementation=class=SampleImplementation name=Unnamed size=10 dimension=3 data=[[0.307987,0.494996,-0.687555],[-1.25893,1.03876,0.368019],[-0.606082,0.24947,-0.0646016],[0.0984274,0.869289,-0.85013],[1.21362,0.378357,-0.376816],[2.07422,-0.307339,3.00638],[0.588682,-1.75437,-1.68437],[-2.76023,0.555079,0.147822],[-0.366593,0.950403,-0.765852],[0.421292,0.563781,-0.154895]]"
      ]
     },
     "execution_count": 26,
     "metadata": {},
     "output_type": "execute_result"
    }
   ],
   "source": [
    "inputs = myfunction.getInputHistory()\n",
    "inputs"
   ]
  },
  {
   "cell_type": "markdown",
   "metadata": {
    "slideshow": {
     "slide_type": "slide"
    }
   },
   "source": [
    "## Fonction symbolique\n",
    "\n",
    "La classe `SymbolicFunction` peut créer des fonctions symboliques :\n",
    "\n",
    "* Idée : utiliser une fonction symbolique simple.\n",
    "* Principe : fournir une chaîne de caractère définissant le calcul.\n",
    "\n",
    "Avantages :\n",
    "\n",
    "* Amélioration de la performance.\n",
    "* Calcul automatique du gradient exact, de la Hessienne exacte à condition de ne pas utiliser le mot-clé \"var\" (voir ci-dessous).\n",
    "\n",
    "Inconvénients :\n",
    "\n",
    "* Nécessite une formule mathématique « plutôt simple », typiquement une seule ligne (mais cette limitation peut être levée avec ExprTk)."
   ]
  },
  {
   "cell_type": "markdown",
   "metadata": {
    "slideshow": {
     "slide_type": "slide"
    }
   },
   "source": [
    "## Fonction symbolique : prototype\n",
    "\n",
    "Prototype :\n",
    "\n",
    "`\n",
    "myfunction = SymbolicFunction(liste_des_entrees, liste_des_formules)\n",
    "`\n",
    "\n",
    "où\n",
    "* `liste_des_entrees` : une liste de `nbInputs` chaînes de caractères, le nom des variables d’entrées,\n",
    "* `liste_des_formules` : une liste de `nbOutputs` chaînes de caractères, les formules de calcul."
   ]
  },
  {
   "cell_type": "code",
   "execution_count": 27,
   "metadata": {},
   "outputs": [],
   "source": [
    "X0 = ot.Normal(0.0, 1.0)\n",
    "X1 = ot.Normal(0.0, 1.0)\n",
    "X2 = ot.Normal(0.0, 1.0)\n",
    "inputDistribution = ot.JointDistribution((X0, X1, X2))\n",
    "inputRandomVector = ot.RandomVector(inputDistribution)"
   ]
  },
  {
   "cell_type": "code",
   "execution_count": 28,
   "metadata": {},
   "outputs": [],
   "source": [
    "myfunction = ot.SymbolicFunction((\"x0\", \"x1\", \"x2\"), (\"x0 + x1 + x2\", \"x0 - x1 * x2\"))\n",
    "myfunction = ot.MemoizeFunction(myfunction)"
   ]
  },
  {
   "cell_type": "code",
   "execution_count": 29,
   "metadata": {
    "slideshow": {
     "slide_type": "slide"
    }
   },
   "outputs": [
    {
     "name": "stdout",
     "output_type": "stream",
     "text": [
      "[0.00460956,0.00104255]\n"
     ]
    }
   ],
   "source": [
    "outputVect = ot.CompositeRandomVector(myfunction, inputRandomVector)\n",
    "montecarlosize = 10000\n",
    "outputSample = outputVect.getSample(montecarlosize)\n",
    "empiricalMean = outputSample.computeMean()\n",
    "print(empiricalMean)"
   ]
  },
  {
   "cell_type": "code",
   "execution_count": 30,
   "metadata": {
    "scrolled": true
   },
   "outputs": [
    {
     "data": {
      "text/html": [
       "<table>\n",
       "  <tr><td></td><th>v0</th><th>v1</th></tr>\n",
       "  <tr><th>0</th><td>3.165353</td><td>2.218725</td></tr>\n",
       "  <tr><th>1</th><td>-0.7005909</td><td>-0.02573643</td></tr>\n",
       "  <tr><th>2</th><td>-4.153307</td><td>-3.357686</td></tr>\n",
       "  <tr><th>3</th><td>-0.2306412</td><td>0.9486571</td></tr>\n",
       "  <tr><th>4</th><td>0.8187494</td><td>-0.2584433</td></tr>\n",
       "  <tr><th>5</th><td>0.1428619</td><td>-0.92146</td></tr>\n",
       "  <tr><th>6</th><td>1.684335</td><td>3.689495</td></tr>\n",
       "  <tr><th>7</th><td>0.336908</td><td>-0.3782241</td></tr>\n",
       "  <tr><th>8</th><td>-0.3209834</td><td>-1.401937</td></tr>\n",
       "  <tr><th>9</th><td>0.3585474</td><td>-0.5265555</td></tr>\n",
       "</table>"
      ],
      "text/plain": [
       "class=Sample name=Unnamed implementation=class=SampleImplementation name=Unnamed size=10 dimension=2 description=[v0,v1] data=[[3.16535,2.21873],[-0.700591,-0.0257364],[-4.15331,-3.35769],[-0.230641,0.948657],[0.818749,-0.258443],[0.142862,-0.92146],[1.68433,3.68949],[0.336908,-0.378224],[-0.320983,-1.40194],[0.358547,-0.526556]]"
      ]
     },
     "execution_count": 30,
     "metadata": {},
     "output_type": "execute_result"
    }
   ],
   "source": [
    "outputs = myfunction.getOutputHistory()\n",
    "outputs[0:10, :]"
   ]
  },
  {
   "cell_type": "markdown",
   "metadata": {},
   "source": [
    "## Gradient d'une fonction symbolique\n",
    "\n",
    "Avec la librairie ExprTk, on peut obtenir le gradient exact d'une fonction symbolique sous certaines conditions.\n",
    "\n",
    "- Si la formule symbolique n'utilise pas le mot-clé \"var\", alors le gradient est exact.\n",
    "- Sinon, alors le gradient est fondé sur une formule de différences finies.\n"
   ]
  },
  {
   "cell_type": "code",
   "execution_count": 31,
   "metadata": {},
   "outputs": [
    {
     "name": "stdout",
     "output_type": "stream",
     "text": [
      "\n",
      "| d(y0) / d(Q) = 0\n",
      "| d(y0) / d(Ks) = 0\n",
      "| d(y0) / d(Zv) = (-1)/(L)\n",
      "| d(y0) / d(Zm) = (1)/(L)\n",
      "| d(y0) / d(Hd) = 0\n",
      "| d(y0) / d(Zb) = 0\n",
      "| d(y0) / d(L) = (-(((Zm)+(-1*Zv))/(L^2)))\n",
      "| d(y0) / d(B) = 0\n",
      "\n"
     ]
    }
   ],
   "source": [
    "# Sans Var\n",
    "inputs = [\"Q\", \"Ks\", \"Zv\", \"Zm\", \"Hd\", \"Zb\", \"L\", \"B\"]\n",
    "outputs = [\"(Zm - Zv) / L\"]\n",
    "myFunction = ot.SymbolicFunction(inputs, outputs)\n",
    "\n",
    "# Exact\n",
    "myGradient = myFunction.getGradient()\n",
    "print(myGradient)"
   ]
  },
  {
   "cell_type": "code",
   "execution_count": 32,
   "metadata": {},
   "outputs": [
    {
     "name": "stdout",
     "output_type": "stream",
     "text": [
      "No analytical gradient available. Try using finite difference instead.\n"
     ]
    }
   ],
   "source": [
    "# Avec Var\n",
    "inputs = [\"Q\", \"Ks\", \"Zv\", \"Zm\", \"Hd\", \"Zb\", \"L\", \"B\"]\n",
    "outputs = [\"H\", \"S\"]\n",
    "formula = \"var alpha := (Zm - Zv)/L;\"\n",
    "formula += \"H := (Q / (Ks * B * sqrt(alpha)))^(3.0 / 5.0);\"\n",
    "formula += \"var Zc := H + Zv;\"\n",
    "formula += \"var Zd := Zb + Hd;\"\n",
    "formula += \"S := Zc - Zd\"\n",
    "myFunction = ot.SymbolicFunction(inputs, outputs, formula)\n",
    "\n",
    "# Différences finies\n",
    "myGradient = myFunction.getGradient()\n",
    "print(myGradient)"
   ]
  },
  {
   "cell_type": "markdown",
   "metadata": {
    "slideshow": {
     "slide_type": "slide"
    }
   },
   "source": [
    "##  Exercices"
   ]
  },
  {
   "cell_type": "markdown",
   "metadata": {},
   "source": [
    "### Exercice 1 : une fonction avec 4 entrées\n",
    "\n",
    "On considère un nouveau modèle, avec une nouvelle variable de sortie\n",
    "Y3 et une nouvelle variable d’entrée X4 :\n",
    "$$\n",
    "\\begin{aligned}\n",
    "Y_1 &=& X_1 + X_2 + X_3 \\\\\n",
    "Y_2 &=& X_1 - X_2 X_3 \\\\\n",
    "Y_3 &=& 2 X_1 + 3 X_2 + 4 X_4\n",
    "\\end{aligned}\n",
    "$$\n",
    "\n",
    "**Questions**\n",
    "* Modifier la fonction Python pour simuler le nouveau modèle.\n",
    "* Ajouter une nouvelle variable X4 de loi normale standard dans le modèle probabiliste.\n",
    "* Estimer la moyenne de la sortie par Monte-Carlo simple."
   ]
  },
  {
   "cell_type": "markdown",
   "metadata": {
    "slideshow": {
     "slide_type": "slide"
    }
   },
   "source": [
    "### Exercice 2 : gradient d'une fonction Python\n",
    "\n",
    "OT peut calculer la dérivée approchée d’une fonction Python par différences finies. On peut paramétrer la formule de différence utilisée, ainsi que le pas de différentiation de cette formule. De plus, lorsque la matrice Jacobienne est implémentée dans une fonction Python, on peut transmettre cette fonction à OpenTURNS pour qu'il l'utilise.\n",
    "\n",
    "**Questions**\n",
    "* Définir la fonction `myfunction` comme dans le sujet, c'est à dire avec 3 entrées et 2 sorties.\n",
    "* Utiliser la méthode `gradient` de l’objet `myfunction` pour évaluer le gradient G'(x) au point d’entrée X = (1, 2, 3).\n",
    "* Utiliser la méthode `hessian` de l’objet `myfunction` pour évaluer la matrice Hessienne de G.\n",
    "\n",
    "* Utiliser les instructions suivantes pour configurer un gradient calculé par une formule de différences finies décentrée, avec un pas $h = 10^{−2}$.\n",
    "\n",
    "```python\n",
    "functionImpl = myfunction.getEvaluation()\n",
    "h = 1.e-2\n",
    "myGradient = ot.NonCenteredFiniteDifferenceGradient(h, functionImpl)\n",
    "myfunction.setGradient(myGradient)\n",
    "```\n",
    "\n",
    "* Evaluer à nouveau le gradient avec la méthode gradient et comparer avec le résultat précédent.\n",
    "* On peut transmettre à OT une fonction Python qui évalue le gradient. Pour cela on peut utiliser la séquence d'appel :\n",
    "```python\n",
    "myfunction = ot.PythonFunction(nbInputs, nbOutputs, mySimulator, gradient=mySimulatorGradient)\n",
    "```\n",
    "où `mySimulatorGradient` est une fonction Python qui évalue le gradient.\n",
    "\n",
    "Calculez à la main des dérivées partielles de la fonction G associée à l'exemple fil rouge. \n",
    "Puis définissez la fonction `mySimulatorGradient` qui évalue la matrice Jacobienne. Puisqu'il y a trois variables d'entrée, la liste renvoyée par `mySimulatorGradient` doit contenir trois éléments. Chaque élément doit contenir une sous-liste de taille 2 contenant les dérivées de chaque sortie. Enfin, construisez la fonction associée avec l'option `gradient`. "
   ]
  },
  {
   "cell_type": "markdown",
   "metadata": {
    "slideshow": {
     "slide_type": "slide"
    }
   },
   "source": [
    "### Exercice 3 : gestion de l'historique d'une fonction Python\n",
    "\n",
    "**Questions**\n",
    "* Observer le changement de la valeur de retour de `isHistoryEnabled`\n",
    "* Quelles sont les méthodes qui permettent de récupérer les historiques des entrées et des sorties ?\n",
    "* Comment avoir le nombre d’appels à la fonction ?\n",
    "* Utiliser la méthode `clearHistory` et vérifier que l'historique est vide après cet appel."
   ]
  },
  {
   "cell_type": "markdown",
   "metadata": {
    "slideshow": {
     "slide_type": "slide"
    }
   },
   "source": [
    "### Exercice 4 : fonction symbolique avec 4 entrées\n",
    "\n",
    "On considère le modèle :\n",
    "$$\n",
    "\\begin{aligned}\n",
    "Y_1 &= X_1 + X_2 + X_3 \\\\\n",
    "Y_2 &= X_1 - X_2 X_3 \\\\\n",
    "Y_3 &= 2 X_1 + 3 X_2 + 4 X_4\n",
    "\\end{aligned}\n",
    "$$\n",
    "\n",
    "**Questions**\n",
    "* Créer une fonction symbolique pour créer ce nouveau modèle.\n",
    "* Evaluer la sortie du modèle au point $X=(1,2,3,4)^T$.\n",
    "* Estimer la moyenne de la sortie par Monte-Carlo simple."
   ]
  },
  {
   "cell_type": "markdown",
   "metadata": {
    "slideshow": {
     "slide_type": "slide"
    }
   },
   "source": [
    "### Exercice 5 : fonction symbolique avec paramètres\n",
    "\n",
    "On considère le modèle \n",
    "$$\n",
    "\\begin{aligned}\n",
    "Y_1 &=& a X_1 + b X_2 \\\\\n",
    "Y_2 &=& c X_1 + d X_2\n",
    "\\end{aligned}\n",
    "$$\n",
    "où a, b, c, d sont des paramètres :\n",
    "```\n",
    "a = 12\n",
    "b = 23\n",
    "c = -34\n",
    "d = 45\n",
    "```\n",
    "\n",
    "**Questions**\n",
    "* Créer une fonction symbolique pour créer ce modèle en fonction des entrées $a$, $b$, $c$, $d$, $X_1$, $X_2$.\n",
    "* Utiliser la classe `ParametricFunction` pour définir une fonction prenant en entrée $X_1$ et $X_2$ et dont les paramètres sont $a$, $b$, $c$, $d$. \n",
    "* Evaluer la sortie du modèle au point $X=(1,2)^T$."
   ]
  },
  {
   "cell_type": "markdown",
   "metadata": {
    "slideshow": {
     "slide_type": "slide"
    }
   },
   "source": [
    "### Exercice 6 : gradient d'une fonction symbolique\n",
    "\n",
    "On souhaite vérifier que OT peut calculer la dérivée formelle d’une\n",
    "fonction symbolique. \n",
    "\n",
    "**Questions**\n",
    "* Définir la fonction `myfunctionSymbolic` comme dans l’exemple fil rouge.\n",
    "* Créer la variable `myGradient` contenant la dérivée exacte de la fonction. Pour cela, utiliser la méthode `getGradient` de l’objet\n",
    "`myfunctionSymbolic`. \n",
    "\n",
    "* Qu’est-ce qui s’affiche quand on utilise l’instruction suivante ?\n",
    "\n",
    "`\n",
    "print(myGradient)\n",
    "`\n",
    "\n",
    "* On souhaite évaluer le gradient au point d’entrée suivant :\n",
    "`\n",
    "X = (1, 2, 3)\n",
    "`\n",
    "Utiliser la méthode `gradient` de l’objet `myGradient` pour évaluer G'(x)."
   ]
  },
  {
   "cell_type": "markdown",
   "metadata": {
    "slideshow": {
     "slide_type": "slide"
    }
   },
   "source": [
    "### Exercice 7 : gestion des variables intermédiaires dans une fonction symbolique\n",
    "\n",
    "On peut définir une fonction symbolique dont l'évaluation est fondée sur des valeurs intermédiaires. Ainsi, la sortie n'est pas seulement une fonction explicite des entrées : on peut définir des résultats intermédiaires et les réutiliser dans une ou plusieurs sorties de la fonction. \n",
    "\n",
    "Pour cela, il faut utiliser la séquence d'appel suivante :\n",
    "```python\n",
    "myFunction = ot.SymbolicFunction(inputs, outputs, formula)\n",
    "```\n",
    "où `outputs` est une chaîne de caractères contenant l'expression à évaluer. \n",
    "\n",
    "Pour composer cette chaîne de caractère, on peut définir plusieurs expressions, séparées par le caractère \";\". De plus, les variables intermédiaires doivent être précédées du mot-clé \"`var`\". \n",
    "\n",
    "Par exemple, dans le cas du modèle dont les entrées sont $X_1$ et $X_2$ et les sorties sont $Y_1$ et $Y_2$ :\n",
    "\n",
    "$$\n",
    "\\begin{aligned}\n",
    "T   &= X_1 X_2 \\\\\n",
    "Y_1 &= X_1 + T \\\\\n",
    "Y_2 &= X_2 - 3T\n",
    "\\end{aligned}\n",
    "$$\n",
    "\n",
    "on peut utiliser l'instruction suivante :"
   ]
  },
  {
   "cell_type": "code",
   "execution_count": 33,
   "metadata": {
    "scrolled": true,
    "slideshow": {
     "slide_type": "slide"
    }
   },
   "outputs": [
    {
     "data": {
      "text/html": [
       "class=Point name=Unnamed dimension=2 values=[3,-4]"
      ],
      "text/plain": [
       "class=Point name=Unnamed dimension=2 values=[3,-4]"
      ]
     },
     "execution_count": 33,
     "metadata": {},
     "output_type": "execute_result"
    }
   ],
   "source": [
    "inputs = [\"X1\", \"X2\"]\n",
    "outputs = [\"Y1\", \"Y2\"]\n",
    "formula = \"var T := X1 * X2; Y1 := X1 + T; Y2 := X2 - 3 * T\"\n",
    "myFunction = ot.SymbolicFunction(inputs, outputs, formula)\n",
    "myFunction([1.0, 2.0])"
   ]
  },
  {
   "cell_type": "markdown",
   "metadata": {},
   "source": [
    "Définir le modèle dont les entrées sont $X_1$ et $X_2$ et les sorties sont $Y_1$ et $Y_2$ :\n",
    "$$\n",
    "\\begin{aligned}\n",
    "S   &= X_1 + X_2 \\\\\n",
    "T   &= X_1 X_2 \\\\\n",
    "Y_1 &= S + T \\\\\n",
    "Y_2 &= ST\n",
    "\\end{aligned}\n",
    "$$"
   ]
  },
  {
   "cell_type": "markdown",
   "metadata": {
    "slideshow": {
     "slide_type": "slide"
    }
   },
   "source": [
    "## Exercice 8 : configurer le nombre de cpus\n",
    "\n",
    "L'option `n_cpus` de la classe `PythonFunction` permet de configurer le nombre de processeurs. L'implémentation est fondée sur le module `multiprocessing`. Dans cet exercice, on cherche à observer l'effet de cette option sur la performance du calcul.\n",
    "\n",
    "Pour observer un changement dans la performance nous nous plaçons dans la situation suivante :\n",
    "- la fonction possède un grand nombre de variables d'entrées,\n",
    "- la fonction est coûteuse.\n",
    "\n",
    "Dans ce but, nous définissons la fonction suivante."
   ]
  },
  {
   "cell_type": "code",
   "execution_count": 34,
   "metadata": {},
   "outputs": [],
   "source": [
    "def myHighDimSimulator(x):\n",
    "    dim = ot.Point(x).getDimension()\n",
    "    y0 = 0.0\n",
    "    y1 = 1.0\n",
    "    for i in range(dim):\n",
    "        y0 = y0 + math.exp(x[i])\n",
    "        y1 = y1 * math.exp(x[i])\n",
    "    y = [y0, y1]\n",
    "    return y"
   ]
  },
  {
   "cell_type": "markdown",
   "metadata": {},
   "source": [
    "- Utiliser le module `time` pour mesurer la performance de la fonction sans l'option `n_cpus`. Pour observer une durée de simulation significative, augmentez la taille du plan d'expériences ou le nombre de dimensions.\n",
    "- De même avec l'option `n_cpus`.\n",
    "- Quelle différence constatez-vous ?"
   ]
  }
 ],
 "metadata": {
  "celltoolbar": "Diaporama",
  "kernelspec": {
   "display_name": "Python 3 (ipykernel)",
   "language": "python",
   "name": "python3"
  },
  "language_info": {
   "codemirror_mode": {
    "name": "ipython",
    "version": 3
   },
   "file_extension": ".py",
   "mimetype": "text/x-python",
   "name": "python",
   "nbconvert_exporter": "python",
   "pygments_lexer": "ipython3",
   "version": "3.13.0"
  }
 },
 "nbformat": 4,
 "nbformat_minor": 2
}
