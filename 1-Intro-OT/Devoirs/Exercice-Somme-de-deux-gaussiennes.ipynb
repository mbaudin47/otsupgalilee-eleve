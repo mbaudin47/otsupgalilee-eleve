{
 "cells": [
  {
   "cell_type": "markdown",
   "metadata": {
    "hideCode": false,
    "hidePrompt": false,
    "slideshow": {
     "slide_type": "slide"
    }
   },
   "source": [
    "# Somme de deux variables gaussiennes"
   ]
  },
  {
   "cell_type": "markdown",
   "metadata": {
    "hideCode": false,
    "hidePrompt": false,
    "slideshow": {
     "slide_type": "subslide"
    }
   },
   "source": [
    "- Create the `Normal` distribution $X$ with parameters $\\mu=-5,\\sigma=3$\n",
    "- Create the `Normal` distribution $Y$ with parameters $\\mu=5,\\sigma=3$\n",
    "- Create the multivariate `Distribution` with marginals $X$ and $Y$ and independent copula\n",
    "- Create the `RandomVector` input random vector `inRV` defined with the distribution\n",
    "- Define the symbolic function `f` such that \n",
    "$$\n",
    "f(x,y)=x+y\n",
    "$$\n",
    "- Create the `RandomVector` output random vector `outRV` as composition of `f` and `inRV`\n",
    "- Create three sample with sizes `N=100,1000,10000` of the output random vector `outRV`.\n",
    "- For each sample, compute :\n",
    "\n",
    "  - The mean,\n",
    "  - The standard deviation,\n",
    "  - The quantiles of level $\\alpha$=`0.05,0.50,0.95`. \n",
    "\n",
    "- Now instead of the `Function` and random vectors, use the `+` operator to define the variable `Z=X+Y`.\n",
    "\n",
    "- From this distribution `Z`, compute :\n",
    "  - The mean,\n",
    "  - The standard deviation,\n",
    "  - The quantiles of level $\\alpha$=`0.05,0.50,0.95`. \n",
    "- Compare the two results: which one is more accurate?"
   ]
  }
 ],
 "metadata": {
  "hide_code_all_hidden": false,
  "kernelspec": {
   "display_name": "Python 3",
   "language": "python",
   "name": "python3"
  },
  "language_info": {
   "codemirror_mode": {
    "name": "ipython",
    "version": 3
   },
   "file_extension": ".py",
   "mimetype": "text/x-python",
   "name": "python",
   "nbconvert_exporter": "python",
   "pygments_lexer": "ipython3",
   "version": "3.8.6"
  }
 },
 "nbformat": 4,
 "nbformat_minor": 1
}
