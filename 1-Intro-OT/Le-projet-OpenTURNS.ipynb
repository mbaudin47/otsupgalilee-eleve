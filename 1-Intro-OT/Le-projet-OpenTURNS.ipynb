{
 "cells": [
  {
   "cell_type": "markdown",
   "metadata": {},
   "source": [
    "# Le projet OpenTURNS\n",
    "\n",
    "## Vue d'ensemble\n",
    "\n",
    "- http://openturns.org/\n",
    "- Linux, Windows\n",
    "- Première diffusion : 2007\n",
    "- 5 développeurs à temps plein\n",
    "- Utilisateurs : ~ 1000, principalement en France (10900 téléchargement Conda en 2016-2017)\n",
    "- Taille du projet (2018) : 720 classes, plus de 6000 services, ~200k sloc\n",
    "\n",
    "## Consortium\n",
    "\n",
    "<img src=\"./Logo-EDF.png\"  style=\"width:200px\">\n",
    "<img src=\"./Logo-Airbus.png\"  style=\"width:200px\">\n",
    "<img src=\"./Logo-Phimeca.png\"  style=\"width:200px\">\n",
    "<img src=\"./Logo-Imacs.png\"  style=\"width:200px\">\n",
    "<img src=\"./logo-ONERA.jpg\"  style=\"width:200px\">\n",
    "\n",
    "## Fonctionnalités\n",
    "\n",
    "<img src=\"./OT-overview.PNG\"  style=\"width:400px\">\n",
    "\n",
    "- Multivariate probabilistic modeling including dependence\n",
    "- Numerical tools dedicated to the treatment of uncertainties\n",
    "- Generic coupling to any type of physical model\n",
    "- Open source, LGPL licensed, C++/Python library\n",
    "\n",
    "## Fonctionnalités\n",
    "\n",
    "- http://openturns.org/\n",
    "- Data analysis\n",
    "- Probabilistic modeling\n",
    "- Meta modeling\n",
    "- Reliability, sensitivity\n",
    "- Functional modeling\n",
    "- Numerical methods\n",
    "\n",
    "## Documentation\n",
    "\n",
    "- Documentation : http://openturns.github.io/openturns/latest/index.html\n",
    "- Exemple : http://openturns.github.io/openturns/latest/user_manual/_generated/openturns.Normal.html\n",
    "- Installation : http://openturns.github.io/openturns/latest/install.html\n",
    "\n",
    "## Références\n",
    "- Michaël Baudin, Anne Dutfoy, Bertrand Iooss, and Anne-Laure Popelin.  OpenTURNS: An Industrial Software for Uncertainty Quantification in Simulation, Handbook of Uncertainty Quantification, pages 1-38. Springer International Publishing, 2016\n",
    "- The OpenTURNS uncertainty quantification Python module, Michaël Baudin, Julien Schueller, EuroScipy 2017, Erlangen, Germany\n",
    " - https://github.com/openturns/openturns.github.io/blob/master/presentation/master/euroscipy-2017.pdf\n",
    " - https://www.youtube.com/watch?v=mxRhgEAypzE"
   ]
  }
 ],
 "metadata": {
  "kernelspec": {
   "display_name": "Python 3",
   "language": "python",
   "name": "python3"
  },
  "language_info": {
   "codemirror_mode": {
    "name": "ipython",
    "version": 3
   },
   "file_extension": ".py",
   "mimetype": "text/x-python",
   "name": "python",
   "nbconvert_exporter": "python",
   "pygments_lexer": "ipython3",
   "version": "3.7.0"
  }
 },
 "nbformat": 4,
 "nbformat_minor": 2
}
