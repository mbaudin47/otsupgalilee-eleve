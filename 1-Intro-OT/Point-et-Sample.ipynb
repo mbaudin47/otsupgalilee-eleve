{
 "cells": [
  {
   "cell_type": "markdown",
   "metadata": {},
   "source": [
    "# Point, Sample\n",
    "\n",
    "Michaël Baudin"
   ]
  },
  {
   "cell_type": "markdown",
   "metadata": {},
   "source": [
    "## Résumé\n",
    "\n",
    "Dans cette page, nous présentons les classes `Point` et `Sample`, deux classes de base dans OpenTURNS. Nous présentons les concepts implémentés par ces classes, ainsi que la manière de créer et utiliser de tels objets. Nous montrons comment extraire une ligne ou une colonne avec l'opérateur de slicing. Nous montrons les interactions avec les types Python ainsi qu'avec le module Numpy."
   ]
  },
  {
   "cell_type": "markdown",
   "metadata": {},
   "source": [
    "## Références\n",
    "\n",
    "http://openturns.github.io/openturns/master/user_manual/_generated/openturns.Point.html\n",
    "\n",
    "http://openturns.github.io/openturns/master/user_manual/_generated/openturns.Sample.html"
   ]
  },
  {
   "cell_type": "markdown",
   "metadata": {},
   "source": [
    "## Introduction\n",
    "\n",
    "Deux types de données incontournables avec OpenTURNS sont :\n",
    "* `Point` : un point de dimension D ($\\in \\mathbb{R}^D$) ;\n",
    "* `Sample` : un échantillon de N points de dimension D.\n",
    "\n",
    "Objectifs de cette séquence :\n",
    "* extraire et insérer des valeurs,\n",
    "* interactions avec l’environnement Python."
   ]
  },
  {
   "cell_type": "code",
   "execution_count": 1,
   "metadata": {},
   "outputs": [],
   "source": [
    "import openturns as ot"
   ]
  },
  {
   "cell_type": "markdown",
   "metadata": {},
   "source": [
    "## Point\n",
    "\n",
    "Nous allons voir comment \n",
    "* créer un point de $\\mathbb{R}^3$, \n",
    "* accéder à ses composantes,\n",
    "* modifier ses composantes.\n",
    "\n",
    "Les points sont remplis par des zéros par défaut. "
   ]
  },
  {
   "cell_type": "code",
   "execution_count": 2,
   "metadata": {},
   "outputs": [
    {
     "data": {
      "text/html": [
       "<p>[0,0,0]</p>"
      ],
      "text/plain": [
       "class=Point name=Unnamed dimension=3 values=[0,0,0]"
      ]
     },
     "execution_count": 2,
     "metadata": {},
     "output_type": "execute_result"
    }
   ],
   "source": [
    "p = ot.Point(3)\n",
    "p"
   ]
  },
  {
   "cell_type": "markdown",
   "metadata": {},
   "source": [
    "Accéder à la seconde composante (d'indice 1).\n",
    "\n",
    "Note : La numérotation des composantes commence à 0 en Python."
   ]
  },
  {
   "cell_type": "code",
   "execution_count": 3,
   "metadata": {},
   "outputs": [
    {
     "data": {
      "text/plain": [
       "0.0"
      ]
     },
     "execution_count": 3,
     "metadata": {},
     "output_type": "execute_result"
    }
   ],
   "source": [
    "p[1]"
   ]
  },
  {
   "cell_type": "markdown",
   "metadata": {},
   "source": [
    "Modifier la seconde composante."
   ]
  },
  {
   "cell_type": "code",
   "execution_count": 4,
   "metadata": {},
   "outputs": [
    {
     "data": {
      "text/html": [
       "<p>[0,2,0]</p>"
      ],
      "text/plain": [
       "class=Point name=Unnamed dimension=3 values=[0,2,0]"
      ]
     },
     "execution_count": 4,
     "metadata": {},
     "output_type": "execute_result"
    }
   ],
   "source": [
    "p[1] = 2\n",
    "p"
   ]
  },
  {
   "cell_type": "code",
   "execution_count": 5,
   "metadata": {},
   "outputs": [
    {
     "data": {
      "text/plain": [
       "3"
      ]
     },
     "execution_count": 5,
     "metadata": {},
     "output_type": "execute_result"
    }
   ],
   "source": [
    "p.getDimension ()"
   ]
  },
  {
   "cell_type": "markdown",
   "metadata": {},
   "source": [
    "## Sample\n",
    "\n",
    "Il s’agit d’un échantillon de N points de $\\mathbb{R}^D$.\n",
    "* D est la dimension de l’échantillon.\n",
    "* N est sa taille (en anglais \"*size*\").\n",
    "\n",
    "Un `Sample` peut donc être vu comme une matrice (à N lignes et D colonnes plutôt que D lignes et N colonnes en général par les statisticiens).\n",
    "\n",
    "*Remarque.* Il existe aussi un objet `ProcessSample` (échantillon de champs, typiquement des fonctions de l’espace ou du temps)."
   ]
  },
  {
   "cell_type": "markdown",
   "metadata": {},
   "source": [
    "Créer et manipuler un Sample (N=5, D=3)."
   ]
  },
  {
   "cell_type": "code",
   "execution_count": 6,
   "metadata": {},
   "outputs": [
    {
     "data": {
      "text/html": [
       "<TABLE><TR><TD></TD><TH>v0</TH><TH>v1</TH><TH>v2</TH></TR>\n",
       "<TR><TD>0</TD><TD>0.0</TD><TD>0.0</TD><TD>0.0</TD></TR>\n",
       "<TR><TD>1</TD><TD>0.0</TD><TD>0.0</TD><TD>0.0</TD></TR>\n",
       "<TR><TD>2</TD><TD>0.0</TD><TD>0.0</TD><TD>0.0</TD></TR>\n",
       "<TR><TD>3</TD><TD>0.0</TD><TD>0.0</TD><TD>0.0</TD></TR>\n",
       "<TR><TD>4</TD><TD>0.0</TD><TD>0.0</TD><TD>0.0</TD></TR>\n",
       "</TABLE>"
      ],
      "text/plain": [
       "class=Sample name=Unnamed implementation=class=SampleImplementation name=Unnamed size=5 dimension=3 data=[[0,0,0],[0,0,0],[0,0,0],[0,0,0],[0,0,0]]"
      ]
     },
     "execution_count": 6,
     "metadata": {},
     "output_type": "execute_result"
    }
   ],
   "source": [
    "data = ot.Sample(5, 3)\n",
    "data"
   ]
  },
  {
   "cell_type": "code",
   "execution_count": 7,
   "metadata": {},
   "outputs": [
    {
     "data": {
      "text/plain": [
       "5"
      ]
     },
     "execution_count": 7,
     "metadata": {},
     "output_type": "execute_result"
    }
   ],
   "source": [
    "data.getSize()"
   ]
  },
  {
   "cell_type": "code",
   "execution_count": 8,
   "metadata": {},
   "outputs": [
    {
     "data": {
      "text/plain": [
       "3"
      ]
     },
     "execution_count": 8,
     "metadata": {},
     "output_type": "execute_result"
    }
   ],
   "source": [
    "data.getDimension()"
   ]
  },
  {
   "cell_type": "markdown",
   "metadata": {},
   "source": [
    "Modifier un Sample."
   ]
  },
  {
   "cell_type": "code",
   "execution_count": 9,
   "metadata": {},
   "outputs": [
    {
     "data": {
      "text/html": [
       "<TABLE><TR><TD></TD><TH>v0</TH><TH>v1</TH><TH>v2</TH></TR>\n",
       "<TR><TD>0</TD><TD>0.0</TD><TD>0.0</TD><TD>0.0</TD></TR>\n",
       "<TR><TD>1</TD><TD>0.0</TD><TD>0.0</TD><TD>0.0</TD></TR>\n",
       "<TR><TD>2</TD><TD>0.0</TD><TD>0.0</TD><TD>0.0</TD></TR>\n",
       "<TR><TD>3</TD><TD>0.0</TD><TD>0.0</TD><TD>32.0</TD></TR>\n",
       "<TR><TD>4</TD><TD>0.0</TD><TD>0.0</TD><TD>0.0</TD></TR>\n",
       "</TABLE>"
      ],
      "text/plain": [
       "class=Sample name=Unnamed implementation=class=SampleImplementation name=Unnamed size=5 dimension=3 data=[[0,0,0],[0,0,0],[0,0,0],[0,0,32],[0,0,0]]"
      ]
     },
     "execution_count": 9,
     "metadata": {},
     "output_type": "execute_result"
    }
   ],
   "source": [
    "data [3, 2] = 32\n",
    "data"
   ]
  },
  {
   "cell_type": "markdown",
   "metadata": {},
   "source": [
    "## Sample : extraire une ligne ou une colonne\n",
    "\n",
    "* Comme avec les tableaux Numpy, extraire une ligne ou une colonne : opérateur de slicing `:`.\n",
    "* En Python, le *slicing* est l’acte d’extraire une partie d’un tableau en une seule instruction.\n",
    "* Objectif : éviter les boucles `for` par vectorisation pour améliorer la performance et la lisibilité"
   ]
  },
  {
   "cell_type": "code",
   "execution_count": 10,
   "metadata": {},
   "outputs": [
    {
     "data": {
      "text/html": [
       "<p>[0,0,32]</p>"
      ],
      "text/plain": [
       "class=Point name=Unnamed dimension=3 values=[0,0,32]"
      ]
     },
     "execution_count": 10,
     "metadata": {},
     "output_type": "execute_result"
    }
   ],
   "source": [
    "ligne = data [3, :]\n",
    "ligne"
   ]
  },
  {
   "cell_type": "code",
   "execution_count": 11,
   "metadata": {
    "scrolled": true
   },
   "outputs": [
    {
     "data": {
      "text/plain": [
       "openturns.typ.Point"
      ]
     },
     "execution_count": 11,
     "metadata": {},
     "output_type": "execute_result"
    }
   ],
   "source": [
    "type(ligne)"
   ]
  },
  {
   "cell_type": "code",
   "execution_count": 12,
   "metadata": {},
   "outputs": [
    {
     "data": {
      "text/html": [
       "<TABLE><TR><TD></TD><TH>v2</TH></TR>\n",
       "<TR><TD>0</TD><TD>0.0</TD></TR>\n",
       "<TR><TD>1</TD><TD>0.0</TD></TR>\n",
       "<TR><TD>2</TD><TD>0.0</TD></TR>\n",
       "<TR><TD>3</TD><TD>32.0</TD></TR>\n",
       "<TR><TD>4</TD><TD>0.0</TD></TR>\n",
       "</TABLE>"
      ],
      "text/plain": [
       "class=Sample name=Unnamed implementation=class=SampleImplementation name=Unnamed size=5 dimension=1 description=[v2] data=[[0],[0],[0],[32],[0]]"
      ]
     },
     "execution_count": 12,
     "metadata": {},
     "output_type": "execute_result"
    }
   ],
   "source": [
    "colonne = data [:, 2]\n",
    "colonne"
   ]
  },
  {
   "cell_type": "code",
   "execution_count": 13,
   "metadata": {},
   "outputs": [
    {
     "data": {
      "text/plain": [
       "openturns.typ.Sample"
      ]
     },
     "execution_count": 13,
     "metadata": {},
     "output_type": "execute_result"
    }
   ],
   "source": [
    "type(colonne)"
   ]
  },
  {
   "cell_type": "markdown",
   "metadata": {},
   "source": [
    "On observe que \n",
    "* la `ligne` est de type `Point`\n",
    "* la `colonne` est de type `Sample`\n",
    "\n",
    "C'est cohérent : dans un `Sample` en dimension D, une ligne est bien un `Point` en dimension D."
   ]
  },
  {
   "cell_type": "markdown",
   "metadata": {},
   "source": [
    "Extraire plusieurs colonnes dans un nouveau `Sample`."
   ]
  },
  {
   "cell_type": "code",
   "execution_count": 14,
   "metadata": {},
   "outputs": [
    {
     "data": {
      "text/html": [
       "<TABLE><TR><TD></TD><TH>v0</TH><TH>v1</TH></TR>\n",
       "<TR><TD>0</TD><TD>0.0</TD><TD>0.0</TD></TR>\n",
       "<TR><TD>1</TD><TD>0.0</TD><TD>0.0</TD></TR>\n",
       "<TR><TD>2</TD><TD>0.0</TD><TD>0.0</TD></TR>\n",
       "<TR><TD>3</TD><TD>0.0</TD><TD>32.0</TD></TR>\n",
       "<TR><TD>4</TD><TD>0.0</TD><TD>0.0</TD></TR>\n",
       "</TABLE>"
      ],
      "text/plain": [
       "class=Sample name=Unnamed implementation=class=SampleImplementation name=Unnamed size=5 dimension=2 data=[[0,0],[0,0],[0,0],[0,32],[0,0]]"
      ]
     },
     "execution_count": 14,
     "metadata": {},
     "output_type": "execute_result"
    }
   ],
   "source": [
    "data.getMarginal([0, 2])"
   ]
  },
  {
   "cell_type": "markdown",
   "metadata": {},
   "source": [
    "## Créer des Points ou Samples à partir d’une liste Python\n",
    "\n",
    "Créer un `Point` à partir d’une liste"
   ]
  },
  {
   "cell_type": "code",
   "execution_count": 15,
   "metadata": {},
   "outputs": [
    {
     "data": {
      "text/html": [
       "<p>[2,3]</p>"
      ],
      "text/plain": [
       "class=Point name=Unnamed dimension=2 values=[2,3]"
      ]
     },
     "execution_count": 15,
     "metadata": {},
     "output_type": "execute_result"
    }
   ],
   "source": [
    "p1 = ot.Point([2, 3])\n",
    "p1"
   ]
  },
  {
   "cell_type": "code",
   "execution_count": 16,
   "metadata": {},
   "outputs": [
    {
     "data": {
      "text/html": [
       "<p>[0,1]</p>"
      ],
      "text/plain": [
       "class=Point name=Unnamed dimension=2 values=[0,1]"
      ]
     },
     "execution_count": 16,
     "metadata": {},
     "output_type": "execute_result"
    }
   ],
   "source": [
    "p2 = ot.Point(range(2))\n",
    "p2"
   ]
  },
  {
   "cell_type": "markdown",
   "metadata": {},
   "source": [
    "Un *Pythonisme* utile : la *list comprehension*. Elle permet de créer une liste en réalisant une boucle `for`. Cette construction est souvent utilisée dans la documentation d'OpenTURNS, dans le but d'obtenir des exemples concis."
   ]
  },
  {
   "cell_type": "code",
   "execution_count": 17,
   "metadata": {},
   "outputs": [
    {
     "data": {
      "text/html": [
       "<p>[4,9]</p>"
      ],
      "text/plain": [
       "class=Point name=Unnamed dimension=2 values=[4,9]"
      ]
     },
     "execution_count": 17,
     "metadata": {},
     "output_type": "execute_result"
    }
   ],
   "source": [
    "p3 = ot.Point([i*i for i in p1 ])\n",
    "p3"
   ]
  },
  {
   "cell_type": "markdown",
   "metadata": {},
   "source": [
    "Un *Pythonisme* utile : la répétition avec l'opérateur `*`."
   ]
  },
  {
   "cell_type": "code",
   "execution_count": 18,
   "metadata": {},
   "outputs": [
    {
     "data": {
      "text/plain": [
       "[5, 5, 5]"
      ]
     },
     "execution_count": 18,
     "metadata": {},
     "output_type": "execute_result"
    }
   ],
   "source": [
    "p4 = [5] * 3\n",
    "p4"
   ]
  },
  {
   "cell_type": "markdown",
   "metadata": {},
   "source": [
    "Créer un `Sample` à partir d’une liste de `Point`s."
   ]
  },
  {
   "cell_type": "code",
   "execution_count": 19,
   "metadata": {},
   "outputs": [
    {
     "data": {
      "text/html": [
       "<TABLE><TR><TD></TD><TH>v0</TH><TH>v1</TH></TR>\n",
       "<TR><TD>0</TD><TD>2.0</TD><TD>3.0</TD></TR>\n",
       "<TR><TD>1</TD><TD>0.0</TD><TD>1.0</TD></TR>\n",
       "<TR><TD>2</TD><TD>4.0</TD><TD>9.0</TD></TR>\n",
       "</TABLE>"
      ],
      "text/plain": [
       "class=Sample name=Unnamed implementation=class=SampleImplementation name=Unnamed size=3 dimension=2 data=[[2,3],[0,1],[4,9]]"
      ]
     },
     "execution_count": 19,
     "metadata": {},
     "output_type": "execute_result"
    }
   ],
   "source": [
    "data = ot.Sample([p1, p2, p3 ])\n",
    "data"
   ]
  },
  {
   "cell_type": "markdown",
   "metadata": {},
   "source": [
    "Créer un `Sample` à partir d'un `Point`, répété trois fois."
   ]
  },
  {
   "cell_type": "code",
   "execution_count": 20,
   "metadata": {},
   "outputs": [
    {
     "data": {
      "text/html": [
       "<TABLE><TR><TD></TD><TH>v0</TH><TH>v1</TH><TH>v2</TH></TR>\n",
       "<TR><TD>0</TD><TD>5.0</TD><TD>5.0</TD><TD>5.0</TD></TR>\n",
       "<TR><TD>1</TD><TD>5.0</TD><TD>5.0</TD><TD>5.0</TD></TR>\n",
       "<TR><TD>2</TD><TD>5.0</TD><TD>5.0</TD><TD>5.0</TD></TR>\n",
       "</TABLE>"
      ],
      "text/plain": [
       "class=Sample name=Unnamed implementation=class=SampleImplementation name=Unnamed size=3 dimension=3 data=[[5,5,5],[5,5,5],[5,5,5]]"
      ]
     },
     "execution_count": 20,
     "metadata": {},
     "output_type": "execute_result"
    }
   ],
   "source": [
    "data = ot.Sample([p4] * 3)\n",
    "data"
   ]
  },
  {
   "cell_type": "markdown",
   "metadata": {},
   "source": [
    "Créer un `Sample` à partir d’une liste (imbriquée)."
   ]
  },
  {
   "cell_type": "code",
   "execution_count": 21,
   "metadata": {},
   "outputs": [
    {
     "data": {
      "text/html": [
       "<TABLE><TR><TD></TD><TH>v0</TH><TH>v1</TH></TR>\n",
       "<TR><TD>0</TD><TD>0.0</TD><TD>1.0</TD></TR>\n",
       "<TR><TD>1</TD><TD>2.0</TD><TD>3.0</TD></TR>\n",
       "<TR><TD>2</TD><TD>4.0</TD><TD>5.0</TD></TR>\n",
       "</TABLE>"
      ],
      "text/plain": [
       "class=Sample name=Unnamed implementation=class=SampleImplementation name=Unnamed size=3 dimension=2 data=[[0,1],[2,3],[4,5]]"
      ]
     },
     "execution_count": 21,
     "metadata": {},
     "output_type": "execute_result"
    }
   ],
   "source": [
    "data = ot.Sample([[0, 1], [2, 3], [4, 5]])\n",
    "data"
   ]
  },
  {
   "cell_type": "markdown",
   "metadata": {},
   "source": [
    "## Interactions avec Numpy\n",
    "\n",
    "* Les classes Python extérieures à OpenTURNS ne connaissent pas les classes OpenTURNS. \n",
    "* C'est pourquoi il est utile de savoir convertir vers des types Python plus classiques, en particulier les tableaux (arrays) de Numpy."
   ]
  },
  {
   "cell_type": "markdown",
   "metadata": {},
   "source": [
    "Créer un `Sample`, puis le convertir en `array` Numpy 2D."
   ]
  },
  {
   "cell_type": "code",
   "execution_count": 22,
   "metadata": {},
   "outputs": [
    {
     "data": {
      "text/plain": [
       "array([[0., 0., 0.],\n",
       "       [0., 0., 0.],\n",
       "       [0., 0., 0.],\n",
       "       [0., 0., 0.],\n",
       "       [0., 0., 0.]])"
      ]
     },
     "execution_count": 22,
     "metadata": {},
     "output_type": "execute_result"
    }
   ],
   "source": [
    "X = ot.Sample(5, 3)\n",
    "import numpy as np\n",
    "Xarray = np.array(X)\n",
    "Xarray"
   ]
  },
  {
   "cell_type": "code",
   "execution_count": 23,
   "metadata": {},
   "outputs": [
    {
     "data": {
      "text/plain": [
       "numpy.ndarray"
      ]
     },
     "execution_count": 23,
     "metadata": {},
     "output_type": "execute_result"
    }
   ],
   "source": [
    "type(Xarray)"
   ]
  },
  {
   "cell_type": "markdown",
   "metadata": {},
   "source": [
    "Dans l’autre sens : créer un `array` Numpy, puis le convertir en `Sample`."
   ]
  },
  {
   "cell_type": "code",
   "execution_count": 24,
   "metadata": {},
   "outputs": [
    {
     "data": {
      "text/html": [
       "<TABLE><TR><TD></TD><TH>v0</TH><TH>v1</TH><TH>v2</TH></TR>\n",
       "<TR><TD>0</TD><TD>3.14</TD><TD>3.14</TD><TD>3.14</TD></TR>\n",
       "<TR><TD>1</TD><TD>3.14</TD><TD>3.14</TD><TD>3.14</TD></TR>\n",
       "<TR><TD>2</TD><TD>3.14</TD><TD>3.14</TD><TD>3.14</TD></TR>\n",
       "<TR><TD>3</TD><TD>3.14</TD><TD>3.14</TD><TD>3.14</TD></TR>\n",
       "<TR><TD>4</TD><TD>3.14</TD><TD>3.14</TD><TD>3.14</TD></TR>\n",
       "</TABLE>"
      ],
      "text/plain": [
       "class=Sample name=Unnamed implementation=class=SampleImplementation name=Unnamed size=5 dimension=3 data=[[3.14,3.14,3.14],[3.14,3.14,3.14],[3.14,3.14,3.14],[3.14,3.14,3.14],[3.14,3.14,3.14]]"
      ]
     },
     "execution_count": 24,
     "metadata": {},
     "output_type": "execute_result"
    }
   ],
   "source": [
    "Xarray = 3.14 * np.ones((5, 3))\n",
    "X = ot.Sample(Xarray )\n",
    "X"
   ]
  },
  {
   "cell_type": "code",
   "execution_count": 25,
   "metadata": {},
   "outputs": [
    {
     "data": {
      "text/plain": [
       "5"
      ]
     },
     "execution_count": 25,
     "metadata": {},
     "output_type": "execute_result"
    }
   ],
   "source": [
    "X.getSize()"
   ]
  },
  {
   "cell_type": "code",
   "execution_count": 26,
   "metadata": {},
   "outputs": [
    {
     "data": {
      "text/plain": [
       "3"
      ]
     },
     "execution_count": 26,
     "metadata": {},
     "output_type": "execute_result"
    }
   ],
   "source": [
    "X.getDimension()"
   ]
  },
  {
   "cell_type": "markdown",
   "metadata": {},
   "source": [
    "Créer un `Sample` à partir de 5 valeurs est ambigüe. En effet, est-ce :\n",
    "* un échantillon de taille 5 en dimension 1 ou\n",
    "* un échantillon de taille 1 en dimension 5 ?\n",
    "\n",
    "Pour retirer l'ambiguïté, on utilise le second argument du constructeur de `Sample`, qui permet de spécifier la dimension."
   ]
  },
  {
   "cell_type": "code",
   "execution_count": 27,
   "metadata": {},
   "outputs": [
    {
     "data": {
      "text/plain": [
       "array([0.  , 0.25, 0.5 , 0.75, 1.  ])"
      ]
     },
     "execution_count": 27,
     "metadata": {},
     "output_type": "execute_result"
    }
   ],
   "source": [
    "u = np.linspace(0, 1, 5)\n",
    "u"
   ]
  },
  {
   "cell_type": "markdown",
   "metadata": {},
   "source": [
    "Choix A : on créée un `Sample` de taille 5 en dimension 1."
   ]
  },
  {
   "cell_type": "code",
   "execution_count": 28,
   "metadata": {},
   "outputs": [
    {
     "data": {
      "text/html": [
       "<TABLE><TR><TD></TD><TH>v0</TH></TR>\n",
       "<TR><TD>0</TD><TD>0.0</TD></TR>\n",
       "<TR><TD>1</TD><TD>0.25</TD></TR>\n",
       "<TR><TD>2</TD><TD>0.5</TD></TR>\n",
       "<TR><TD>3</TD><TD>0.75</TD></TR>\n",
       "<TR><TD>4</TD><TD>1.0</TD></TR>\n",
       "</TABLE>"
      ],
      "text/plain": [
       "class=Sample name=Unnamed implementation=class=SampleImplementation name=Unnamed size=5 dimension=1 data=[[0],[0.25],[0.5],[0.75],[1]]"
      ]
     },
     "execution_count": 28,
     "metadata": {},
     "output_type": "execute_result"
    }
   ],
   "source": [
    "X = ot.Sample(u, 1)\n",
    "X"
   ]
  },
  {
   "cell_type": "markdown",
   "metadata": {},
   "source": [
    "Choix B : on créée un `Sample` de taille 1 en dimension 5."
   ]
  },
  {
   "cell_type": "code",
   "execution_count": 29,
   "metadata": {},
   "outputs": [
    {
     "data": {
      "text/html": [
       "<TABLE><TR><TD></TD><TH>v0</TH><TH>v1</TH><TH>v2</TH><TH>v3</TH><TH>v4</TH></TR>\n",
       "<TR><TD>0</TD><TD>0.0</TD><TD>0.25</TD><TD>0.5</TD><TD>0.75</TD><TD>1.0</TD></TR>\n",
       "</TABLE>"
      ],
      "text/plain": [
       "class=Sample name=Unnamed implementation=class=SampleImplementation name=Unnamed size=1 dimension=5 data=[[0,0.25,0.5,0.75,1]]"
      ]
     },
     "execution_count": 29,
     "metadata": {},
     "output_type": "execute_result"
    }
   ],
   "source": [
    "X= ot.Sample(u, 5)\n",
    "X"
   ]
  },
  {
   "cell_type": "markdown",
   "metadata": {},
   "source": [
    "Si on ne spécifie rien, OpenTURNS ne peut pas se déterminer et une exception est générée :\n",
    "```\n",
    "---------------------------------------------------------------------------\n",
    "TypeError                                 Traceback (most recent call last)\n",
    "<ipython-input-48-8c4ed687c6a9> in <module>()\n",
    "      1 # Génère une exception attendue\n",
    "----> 2 X = ot.Sample (u)\n",
    "[...]\n",
    "TypeError: InvalidArgumentException : Invalid array dimension: 1\n",
    "```"
   ]
  },
  {
   "cell_type": "code",
   "execution_count": 30,
   "metadata": {},
   "outputs": [],
   "source": [
    "# Génère une exception attendue\n",
    "# X = ot.Sample(u)"
   ]
  },
  {
   "cell_type": "markdown",
   "metadata": {},
   "source": [
    "## Point/Sample : exercices\n",
    "\n",
    "### Exercice 1 : point et norme 1\n",
    "Créer la variable X contenant un `Point` en dimension 12 contenant les\n",
    "valeurs numériques suivantes : 0., 1., ..., 11. \n",
    "* Utiliser la méthode `norm` pour calculer la norme Euclidienne de X. \n",
    "* Comment calculer la norme 1 de X ?\n",
    "\n",
    "### Exercice 2 : moyenne et minimum\n",
    "Créer la variable X contenant un Sample correspondant à l’échantillon\n",
    "en dimension 2 suivant :\n",
    "$$\n",
    "X=\n",
    "\\begin{pmatrix}\n",
    "0 & 1 \\\\\n",
    "2 & 3 \\\\\n",
    "4 & 5\n",
    "\\end{pmatrix}\n",
    "$$\n",
    "* Utiliser la méthode `computeMean` pour calculer la moyenne empirique.\n",
    "* Utiliser la méthode `getMin` pour calculer le minimum.\n",
    "\n",
    "### Exercice 3 : différents échantillons\n",
    "\n",
    "Quel est le résultat des instructions suivantes ?\n",
    "\n",
    "`\n",
    "u= np.linspace(0, 1, 10)\n",
    "ot.Sample(u, 2)\n",
    "ot.Sample(u, 3)\n",
    "ot.Sample(u, 12)\n",
    "`\n",
    "\n",
    "### Exercice 4 : un pythonisme\n",
    "\n",
    "Experimentez le pythonisme suivant, qui permet d’extraire les quatre\n",
    "champs d’un `Point` en une seule ligne :\n",
    "\n",
    "`\n",
    "X= ot.Point([12, 1.680, 3.1416, 2.718])\n",
    "[ apotres, golden, pi, euler ]=X\n",
    "`\n",
    "\n",
    "* Afficher les valeurs de `apotres`, `golden`, `pi` et `euler` et vérifier les valeurs. \n",
    "* Que se passe-t-il si on ajoute une dimension dans le `Point` ?\n",
    "\n",
    "### Exercice 5 : matrice de corrélation\n",
    "\n",
    "Créer la `CorrelationMatrix` correspondant à la matrice de\n",
    "corrélation suivante :\n",
    "$$\n",
    "A=\n",
    "\\begin{pmatrix}\n",
    "1   & 0.1 \\\\\n",
    "0.1 & 1\n",
    "\\end{pmatrix}\n",
    "$$\n",
    "de deux manières différentes : \n",
    "* à partir d’une liste Python, \n",
    "* à partir  d’un array Numpy.\n",
    "\n",
    "### Exercice 6 : split\n",
    "\n",
    "La méthode `split` de la classe `Sample` permet de découper un échantillon en deux parties. Par exemple, dans le contexte de la validation d'un méta-modèle, on découpe un échantillon en deux sous-échantillon :\n",
    "* un sous-échantillon d'apprentissage,\n",
    "* un sous-échantillon de validation.\n",
    "\n",
    "L'objectif de cet exercice est de faire des essais avec cette méthode. \n",
    "* Créer la variable `data` contenant un échantillon de taille 5 issu d'une loi gaussienne en dimension 2.\n",
    "* Utiliser la méthode `split` pour créer la variable `reste` contenant un sous-échantillon de taille 2. \n",
    "* Observer le contenu de la variable `data`.\n",
    "\n",
    "### Exercice 7 : types\n",
    "\n",
    "Lorsqu'on utilise par exemple la classe `Normal`, les méthodes associées peuvent renvoyer des `Sample`, des `Point` ou des `float` en fonction des cas. Il faut donc être capable de faire cohabiter ces objets. \n",
    "\n",
    "* Utiliser l'instruction suivante pour calculer la moyenne d'une variable gaussienne avec les paramètres par défaut :\n",
    "```\n",
    "moyenne = ot.Normal().getMean()\n",
    "```\n",
    "* Quel est le type de la variable `moyenne` ?\n",
    "* Extraire la première composante de `moyenne` : quel est son type ?\n",
    "* Créer un échantillon de 5 réalisations en dimension 3 d'une variable gaussienne centrée-réduite avec l'instruction :\n",
    "```\n",
    "X = ot.Normal(3).getSample(5)\n",
    "```\n",
    "* Quel est le type de `X` ?"
   ]
  }
 ],
 "metadata": {
  "kernelspec": {
   "display_name": "Python 3",
   "language": "python",
   "name": "python3"
  },
  "language_info": {
   "codemirror_mode": {
    "name": "ipython",
    "version": 3
   },
   "file_extension": ".py",
   "mimetype": "text/x-python",
   "name": "python",
   "nbconvert_exporter": "python",
   "pygments_lexer": "ipython3",
   "version": "3.7.4"
  }
 },
 "nbformat": 4,
 "nbformat_minor": 2
}
