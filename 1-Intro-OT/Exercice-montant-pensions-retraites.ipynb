{
 "cells": [
  {
   "cell_type": "markdown",
   "metadata": {},
   "source": [
    "# Exercice : simulation de pensions de retraites\n",
    "\n",
    "Le graphique suivant présente la distriution de la pension brute totale des retraités de droit direct d'un régime de base en 2016.\n",
    "\n",
    "<img src=\"./distribution-pensions-retraites.jpg\">\n",
    "\n",
    "Références\n",
    "* https://drees.solidarites-sante.gouv.fr\n",
    "\n",
    "## Questions\n",
    "\n",
    "* Créer une distribution `dH` de type `Histogram` qui représente la distribution des pensions des hommes. \n",
    "* Faire de même pour la distribution des pensions des femmes `dF` et de l'ensemble `dE`.\n",
    "* Calculer la moyenne de chacune de ces trois distributions. \n",
    "* Calculer l'intervalle contenant 95% pour chacune de ces trois distributions.\n",
    "* Simuler un échantillon de taille 100 pour chacune de ces distributions. \n",
    "* Calculer la moyenne de ces trois échantillons et comparer avec la valeur exacte précédente."
   ]
  }
 ],
 "metadata": {
  "kernelspec": {
   "display_name": "Python 3",
   "language": "python",
   "name": "python3"
  },
  "language_info": {
   "codemirror_mode": {
    "name": "ipython",
    "version": 3
   },
   "file_extension": ".py",
   "mimetype": "text/x-python",
   "name": "python",
   "nbconvert_exporter": "python",
   "pygments_lexer": "ipython3",
   "version": "3.7.4"
  }
 },
 "nbformat": 4,
 "nbformat_minor": 2
}
