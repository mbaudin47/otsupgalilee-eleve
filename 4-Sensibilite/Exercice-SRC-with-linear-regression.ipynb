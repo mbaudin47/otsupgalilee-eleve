{
 "cells": [
  {
   "cell_type": "markdown",
   "id": "58b8b155",
   "metadata": {},
   "source": [
    "# Compute confidence interval of importance factors indices using linear regression\n",
    "\n",
    "This example shows how to compute confidence bounds of importance factors using the properties of linear regression methods. First, we compute importance factors indices and draw them. Then we compute confidence bounds using methods from linear regression, and draw them.\n",
    "\n",
    "We assume that the inputs $X_1, ..., X_p$ are independent. \n",
    "\n",
    "We consider the linear regression model:\n",
    "$$\n",
    "Y = \\beta_0 + \\sum_{i = 1}^p \\beta_i X_i + \\epsilon.\n",
    "$$\n",
    "where $\\epsilon \\sim \\mathcal{N}(0,\\sigma^2)$ is the noise and $\\beta_0, \\beta_1, ..., \\beta_p$ are parameters.\n",
    "\n",
    "We are interested in the importance factors :\n",
    "$$\n",
    "\\eta_i = \\frac{\\beta_i^2 \\mathbb{V}(X_i)}{\\mathbb{V}(Y)}\n",
    "$$\n",
    "for $i = 1, ..., p$. \n",
    "\n",
    "Notice that the previous equation is slightly different from the equation presented in (Borgonovo, 2017) page 131 where the importance factors are defined as squared SRC indices. More precisely, the SRC indices are:\n",
    "$$\n",
    "SRC_i = \\frac{\\beta_i \\sqrt{\\mathbb{V}(X_i)}}{\\sqrt{\\sum_{i = 1}^p \\beta_i^2 \\mathbb{V}(X_i)}}.\n",
    "$$\n",
    "The squared SRC indices are:\n",
    "$$\n",
    "SRC_i^2 = \\frac{\\beta_i^2 \\mathbb{V}(X_i)}{\\sum_{i = 1}^p \\beta_i^2 \\mathbb{V}(X_i)}.\n",
    "$$\n",
    "The difference between $\\eta_i$ and $SRC_i^2$ is the variance of the noise $\\mathbb{V}(\\epsilon) = \\sigma_\\epsilon^2$. Hence, the sum of squared SRC indices is equal to 1, while the previous importance factors are not. More precisely,\n",
    "$$\n",
    "\\sum_{i = 1}^p SRC_i^2 = 1.\n",
    "$$\n",
    "but:\n",
    "$$\n",
    "\\sum_{i = 1}^p \\eta_i + \\frac{\\sigma_\\epsilon^2}{\\mathbb{V}(Y)} = 1.\n",
    "$$\n",
    "\n",
    "We are estimate these importance factors using the estimator :\n",
    "$$\n",
    "\\hat{\\eta}_i = \\frac{\\hat{\\beta}_i^2 \\mathbb{V}(X_i)}{\\hat{\\sigma}_Y^2}\n",
    "$$\n",
    "for $i = 1, ..., p$ where $\\hat{\\sigma}_Y^2$ is the estimate of the variance of the output. In the previous equation, the coefficients $\\hat{\\beta}_i$ are computed using linear regression.\n",
    "\n",
    "The goal of this script is to compute the confidence intervals for the linear regression importance factors. To do this, we want to define the joint distribution of the random vector \n",
    "$$\n",
    "\\boldsymbol{\\eta} = (\\eta_1, ..., \\eta_p)^T.\n",
    "$$\n",
    "\n",
    "We want here to avoid bootstrap, which is presented in [another example](https://github.com/mbaudin47/otsupgalilee-eleve/blob/master/4-Sensibilite/Exercice_SRC_with_bootstrap.ipynb). Indeed, one of the limits of bootstrap is its computational cost: if implemented naively, a bootstrap sample with size $b$ requires $b$ resolutions of a least squares linear system. Moreover, assuming that the hypotheses of linear regression are satisfied, the bootstrap sample does not provide the exact distribution but only an approximation of it. In other words, it does not make full use of the properties of linear regression. \n",
    "\n",
    "The building block of this example is the distribution of $\\boldsymbol{\\beta}$, which is computed from the properties of linear regression. We consider several methods to compute the confidence interval for $\\boldsymbol{\\eta}$.\n",
    "- The first method uses the arithmetic of distribution in order to compute the distribution of $\\boldsymbol{\\eta}$ using the distribution of $\\boldsymbol{\\beta}$. The distribution of $\\boldsymbol{\\eta}$ is computed using the squared normal distribution based on the distribution of the vector of parameters $\\boldsymbol{\\beta}$.\n",
    "- The second method creates a sample of $\\boldsymbol{\\eta}$ by sampling in the distribution of $\\boldsymbol{\\beta}$. Then the script uses kernel smoothing to estimate the distribution of $\\boldsymbol{\\eta}$ from a sample of it.\n",
    "\n",
    "## References\n",
    "- Borgonovo, E. (2017). Sensitivity analysis. An Introduction for the Management Scientist. International Series in Operations Research and Management Science. Cham, Switzerland: Springer."
   ]
  },
  {
   "cell_type": "code",
   "execution_count": 1,
   "id": "819e602e",
   "metadata": {},
   "outputs": [],
   "source": [
    "import openturns as ot\n",
    "import openturns.viewer as otv\n",
    "from math import sqrt\n",
    "import pylab as pl"
   ]
  },
  {
   "cell_type": "markdown",
   "id": "c18130b9",
   "metadata": {},
   "source": [
    "We consider the flooding model. The next cell defines the function g."
   ]
  },
  {
   "cell_type": "code",
   "execution_count": 2,
   "id": "c9ac8737",
   "metadata": {},
   "outputs": [],
   "source": [
    "def functionCrue8vars(X):\n",
    "    Q, Ks, Zv, Zm, Hd, Zb, L, B = X\n",
    "    Zd = Zb + Hd\n",
    "    alpha = (Zm - Zv) / L\n",
    "    H = (Q / (Ks * B * sqrt(alpha))) ** (3.0 / 5.0)\n",
    "    Zc = H + Zv\n",
    "    S = Zc - Zd\n",
    "    return [S]\n",
    "\n",
    "\n",
    "g = ot.PythonFunction(8, 1, functionCrue8vars)\n",
    "g.setDescription([\"Q\", \"Ks\", \"Zv\", \"Zm\", \"Hd\", \"Zb\", \"L\", \"B\", \"S\"])\n",
    "\n",
    "Hd = 8.0\n",
    "Zb = 55.5\n",
    "L = 5000.0\n",
    "B = 300.0\n",
    "X = [Hd, Zb, L, B]\n",
    "g_parametric = ot.ParametricFunction(g, [4, 5, 6, 7], X)"
   ]
  },
  {
   "cell_type": "markdown",
   "id": "042ad57f",
   "metadata": {},
   "source": [
    "Then we define the random vector. "
   ]
  },
  {
   "cell_type": "code",
   "execution_count": 3,
   "id": "705695c7",
   "metadata": {},
   "outputs": [],
   "source": [
    "Q = ot.Gumbel(558.0, 1013.0)\n",
    "otLOW = ot.TruncatedDistribution.LOWER\n",
    "Q = ot.TruncatedDistribution(Q, 0.0, otLOW)\n",
    "Ks = ot.Normal(30.0, 7.5)\n",
    "Ks = ot.TruncatedDistribution(Ks, 0.0, otLOW)\n",
    "Zv = ot.Uniform(49.0, 51.0)\n",
    "Zm = ot.Uniform(54.0, 56.0)\n",
    "\n",
    "X = ot.ComposedDistribution([Q, Ks, Zv, Zm])"
   ]
  },
  {
   "cell_type": "markdown",
   "id": "ea720aa6",
   "metadata": {},
   "source": [
    "We produce a pair of input and output sample."
   ]
  },
  {
   "cell_type": "code",
   "execution_count": 4,
   "id": "c867ba74",
   "metadata": {},
   "outputs": [
    {
     "name": "stdout",
     "output_type": "stream",
     "text": [
      "[0.5493,0.144127,0.287074,0.011542]\n"
     ]
    }
   ],
   "source": [
    "sampleSize = 100\n",
    "ot.RandomGenerator.SetSeed(2)\n",
    "sampleX = X.getSample(sampleSize)\n",
    "sampleY = g_parametric(sampleX)\n",
    "\n",
    "importance_factors = ot.CorrelationAnalysis.SRC(sampleX, sampleY)\n",
    "print(importance_factors)"
   ]
  },
  {
   "cell_type": "markdown",
   "id": "bfd599f0",
   "metadata": {},
   "source": [
    "Let us check the sum of the importance factors."
   ]
  },
  {
   "cell_type": "code",
   "execution_count": 5,
   "id": "5fd862bb",
   "metadata": {},
   "outputs": [
    {
     "data": {
      "text/plain": [
       "0.9920421621132021"
      ]
     },
     "execution_count": 5,
     "metadata": {},
     "output_type": "execute_result"
    }
   ],
   "source": [
    "sum(importance_factors)"
   ]
  },
  {
   "cell_type": "markdown",
   "id": "dd2729dc",
   "metadata": {},
   "source": [
    "This shows that some part of the variance has been lost because of the linear regression. \n",
    "\n",
    "The part of variance that is not predicted by the linear model is:"
   ]
  },
  {
   "cell_type": "code",
   "execution_count": 6,
   "id": "43335cfd",
   "metadata": {},
   "outputs": [
    {
     "data": {
      "text/plain": [
       "0.007957837886797936"
      ]
     },
     "execution_count": 6,
     "metadata": {},
     "output_type": "execute_result"
    }
   ],
   "source": [
    "1.0 - sum(importance_factors)"
   ]
  },
  {
   "cell_type": "code",
   "execution_count": 7,
   "id": "ec7423aa",
   "metadata": {},
   "outputs": [
    {
     "name": "stderr",
     "output_type": "stream",
     "text": [
      "/home/devel/miniconda3/envs/otsupgalilee/lib/python3.9/site-packages/numpy/core/getlimits.py:499: UserWarning: The value of the smallest subnormal for <class 'numpy.float64'> type is zero.\n",
      "  setattr(self, word, getattr(machar, word).flat[0])\n",
      "/home/devel/miniconda3/envs/otsupgalilee/lib/python3.9/site-packages/numpy/core/getlimits.py:89: UserWarning: The value of the smallest subnormal for <class 'numpy.float64'> type is zero.\n",
      "  return self._float_to_str(self.smallest_subnormal)\n"
     ]
    },
    {
     "data": {
      "image/png": "[encoded data removed]",
      "text/plain": [
       "<Figure size 288x216 with 1 Axes>"
      ]
     },
     "metadata": {
      "needs_background": "light"
     },
     "output_type": "display_data"
    }
   ],
   "source": [
    "input_names = g_parametric.getInputDescription()\n",
    "graph = ot.SobolIndicesAlgorithm.DrawCorrelationCoefficients(\n",
    "    importance_factors, input_names, \"Importance factors\"\n",
    ")\n",
    "graph.setYTitle(\"Importance factors\")\n",
    "view = otv.View(graph, figure_kw={\"figsize\": (4.0, 3.0)})\n",
    "_ = pl.ylim(top=0.1 + max(importance_factors))"
   ]
  },
  {
   "cell_type": "code",
   "execution_count": 8,
   "id": "0355fb90",
   "metadata": {},
   "outputs": [
    {
     "data": {
      "text/html": [
       "<p>class=LinearEvaluation name=Unnamed center=[0,0,0,0] constant=[-57.1067] linear=[[  0.00114627 ]<br>\n",
       " [ -0.051336   ]<br>\n",
       " [  1.14387    ]<br>\n",
       " [ -0.200476   ]]</p>"
      ],
      "text/plain": [
       "class=Function name=Unnamed implementation=class=FunctionImplementation name=Unnamed description=[x0,x1,x2,x3,y0] evaluationImplementation=class=LinearEvaluation name=Unnamed center=class=Point name=Unnamed dimension=4 values=[0,0,0,0] constant=class=Point name=Unnamed dimension=1 values=[-57.1067] linear=class=Matrix implementation=class=MatrixImplementation name=Unnamed rows=4 columns=1 values=[0.00114627,-0.051336,1.14387,-0.200476] gradientImplementation=class=ConstantGradient name=Unnamed constant=class=Matrix implementation=class=MatrixImplementation name=Unnamed rows=4 columns=1 values=[0.00114627,-0.051336,1.14387,-0.200476] hessianImplementation=class=ConstantHessian name=Unnamed constant=class=SymmetricTensor implementation=class=TensorImplementation name=Unnamed rows=4 columns=4 sheets=1 values=[0,0,0,0,0,0,0,0,0,0,0,0,0,0,0,0]"
      ]
     },
     "execution_count": 8,
     "metadata": {},
     "output_type": "execute_result"
    }
   ],
   "source": [
    "myLeastSquares = ot.LinearLeastSquares(sampleX, sampleY)\n",
    "myLeastSquares.run()\n",
    "responseSurface = myLeastSquares.getMetaModel()\n",
    "responseSurface"
   ]
  },
  {
   "cell_type": "code",
   "execution_count": 9,
   "id": "bb4fabc9",
   "metadata": {},
   "outputs": [],
   "source": [
    "def define_linear_basis(dimension):\n",
    "    \"\"\"\n",
    "    Compute a basis suitable for linear regression.\n",
    "    \n",
    "    This basis corresponds to the linear regression model:\n",
    "    \n",
    "    Y = beta[0] + beta[1] * X_1 + ... + beta[p] * X_p\n",
    "   \n",
    "    where p is the dimension.\n",
    "    The first item of this basis corresponds to the intercept, i.e. \n",
    "    the function is constant and equal to 1.\n",
    "    The remaining items are identity function, returning the corresponding \n",
    "    input variable.\n",
    "    \n",
    "    Parameters\n",
    "    ----------\n",
    "    dimension : int\n",
    "        The number of dimensions of the input variable X.\n",
    "    \n",
    "    Returns\n",
    "    -------\n",
    "    basis : ot.Basis(1 + dimension)\n",
    "        The functional basis.\n",
    "    \"\"\"\n",
    "    list_of_inputs = [\"x%d\" % (i) for i in range(dimension)]\n",
    "    # The intercept\n",
    "    basis_list = []\n",
    "    constant_function = ot.SymbolicFunction(list_of_inputs, [\"1\"])\n",
    "    basis_list.append(constant_function)\n",
    "    # The remaining functions\n",
    "    for i in range(dimension):\n",
    "        identity_function = ot.SymbolicFunction(list_of_inputs, [\"x%d\" % (i)])\n",
    "        basis_list.append(identity_function)\n",
    "    basis = ot.Basis(basis_list)\n",
    "    return basis"
   ]
  },
  {
   "cell_type": "code",
   "execution_count": 10,
   "id": "b72f6ceb",
   "metadata": {},
   "outputs": [],
   "source": [
    "def compute_least_squares_residual_variance(sampleX, sampleY):\n",
    "    \"\"\"\n",
    "    Compute the variance of the residuals\n",
    "    \n",
    "    Parameters\n",
    "    ----------\n",
    "    sampleX : ot.Sample(size, input_dimension)\n",
    "        The input sample.\n",
    "    sampleY : ot.Sample(size, 1)\n",
    "        The output sample.\n",
    "    \n",
    "    Returns\n",
    "    -------\n",
    "    sigma2_hat : float\n",
    "        The variance of the residuals\n",
    "    \"\"\"\n",
    "    input_dimension = sampleX.getDimension()\n",
    "    basis = define_linear_basis(input_dimension)\n",
    "    design_proxy = ot.DesignProxy(sampleX, basis)\n",
    "    n_parameters = len(basis)\n",
    "    indices = list(range(n_parameters))\n",
    "    design_matrix = design_proxy.computeDesign(indices)\n",
    "    myLeastSquares = ot.LinearLeastSquares(sampleX, sampleY)\n",
    "    myLeastSquares.run()\n",
    "    responseSurface = myLeastSquares.getMetaModel()\n",
    "    predicted_outputs = responseSurface(sampleX)\n",
    "    residuals_sample = sampleY - predicted_outputs\n",
    "    residuals_sample.setDescription([\"Residuals\"])\n",
    "    residuals_point = residuals_sample.asPoint()\n",
    "    sample_size = sampleX.getSize()\n",
    "    sigma2_hat = residuals_point.normSquare() / (sample_size - n_parameters)\n",
    "    return sigma2_hat"
   ]
  },
  {
   "cell_type": "code",
   "execution_count": 11,
   "id": "c08b3dbd",
   "metadata": {},
   "outputs": [],
   "source": [
    "def compute_least_squares_parameter_distribution(sampleX, sampleY):\n",
    "    \"\"\"\n",
    "    Compute the gaussian distribution of the beta parameter.\n",
    "    \n",
    "    This distribution is valid under the hypothesis that the linear \n",
    "    least squares problem has a gaussian residual distribution.\n",
    "    \n",
    "    Parameters\n",
    "    ----------\n",
    "    sampleX : ot.Sample(size, input_dimension)\n",
    "        The input sample.\n",
    "    sampleY : ot.Sample(size, 1)\n",
    "        The output sample.\n",
    "    \n",
    "    Returns\n",
    "    -------\n",
    "    distribution_betahat : ot.Normal()\n",
    "        The gaussian distribution of beta_hat.\n",
    "    \"\"\"\n",
    "    input_dimension = sampleX.getDimension()\n",
    "    basis = define_linear_basis(input_dimension)\n",
    "    design_proxy = ot.DesignProxy(sampleX, basis)\n",
    "    n_parameters = len(basis)\n",
    "    indices = list(range(n_parameters))\n",
    "    design_matrix = design_proxy.computeDesign(indices)\n",
    "    myLeastSquares = ot.LinearLeastSquares(sampleX, sampleY)\n",
    "    myLeastSquares.run()\n",
    "    responseSurface = myLeastSquares.getMetaModel()\n",
    "    predicted_outputs = responseSurface(sampleX)\n",
    "    residuals_sample = sampleY - predicted_outputs\n",
    "    residuals_sample.setDescription([\"Residuals\"])\n",
    "    residuals_point = residuals_sample.asPoint()\n",
    "    sample_size = sampleX.getSize()\n",
    "    sigma2_hat = residuals_point.normSquare() / (sample_size - n_parameters)\n",
    "    lsq_method = ot.QRMethod(design_proxy, indices)\n",
    "    observation_point = sampleY.asPoint()\n",
    "    beta_hat = lsq_method.solve(observation_point)\n",
    "    inverse_gram = lsq_method.getGramInverse()\n",
    "    covariance_matrix = ot.CovarianceMatrix(sigma2_hat * inverse_gram)\n",
    "    distribution_betahat = ot.Normal(beta_hat, covariance_matrix)\n",
    "    description = [r\"$\\beta_%d$\" % (i) for i in range(n_parameters)]\n",
    "    distribution_betahat.setDescription(description)\n",
    "    return distribution_betahat"
   ]
  },
  {
   "cell_type": "code",
   "execution_count": 12,
   "id": "db07c91c",
   "metadata": {},
   "outputs": [
    {
     "name": "stdout",
     "output_type": "stream",
     "text": [
      "hat(Beta) =  [-57.1067,0.00114627,-0.051336,1.14387,-0.200476]\n"
     ]
    }
   ],
   "source": [
    "distribution_betahat = compute_least_squares_parameter_distribution(sampleX, sampleY)\n",
    "beta_hat = distribution_betahat.getMean()\n",
    "print(\"hat(Beta) = \", beta_hat)"
   ]
  },
  {
   "cell_type": "code",
   "execution_count": 13,
   "id": "675d93b0",
   "metadata": {},
   "outputs": [
    {
     "name": "stdout",
     "output_type": "stream",
     "text": [
      "[-64.3651, -49.8483]\n",
      "[0.00106337, 0.00122917]\n",
      "[-0.0585595, -0.0441125]\n",
      "[1.02802, 1.25972]\n",
      "[-0.30185, -0.0991026]\n"
     ]
    }
   ],
   "source": [
    "# Compute quantiles\n",
    "alpha = 0.05\n",
    "dimension = sampleX.getDimension()\n",
    "beta_lower_bound = ot.Point(1 + dimension)\n",
    "beta_upper_bound = ot.Point(1 + dimension)\n",
    "# We include the distribution of the intercept\n",
    "for i in range(1 + dimension):\n",
    "    marginal_beta_distribution = distribution_betahat.getMarginal(i)\n",
    "    marginal_beta_bounds = marginal_beta_distribution.computeBilateralConfidenceInterval(\n",
    "        1.0 - alpha\n",
    "    )\n",
    "    beta_lower_bound[i] = marginal_beta_bounds.getLowerBound()[0]\n",
    "    beta_upper_bound[i] = marginal_beta_bounds.getUpperBound()[0]\n",
    "beta_bounds = ot.Interval(beta_lower_bound, beta_upper_bound)\n",
    "print(beta_bounds)"
   ]
  },
  {
   "cell_type": "code",
   "execution_count": 14,
   "id": "bb47efa6",
   "metadata": {},
   "outputs": [
    {
     "name": "stdout",
     "output_type": "stream",
     "text": [
      "variance_Y = 1.247\n"
     ]
    }
   ],
   "source": [
    "variance_Y = sampleY.computeCovariance()[0, 0]\n",
    "print(\"variance_Y = %.3f\" % (variance_Y))"
   ]
  },
  {
   "cell_type": "markdown",
   "id": "86c99c01",
   "metadata": {},
   "source": [
    "In the next cell, we compute the importance factors using the linear regression. We are interested only in the coefficients $\\hat{\\beta}_1, ..., \\hat{\\beta}_p$ and not in $\\hat{\\beta}_0$, which is why we have to use a shift of +1 in the indices. "
   ]
  },
  {
   "cell_type": "code",
   "execution_count": 15,
   "id": "164c56cf",
   "metadata": {},
   "outputs": [
    {
     "name": "stdout",
     "output_type": "stream",
     "text": [
      "[0.536471,0.118859,0.349888,0.0107474]\n"
     ]
    }
   ],
   "source": [
    "importance_factors = ot.Point(dimension)\n",
    "for i in range(dimension):\n",
    "    marginal_input_distribution = X.getMarginal(i)\n",
    "    variance_X_i = marginal_input_distribution.getCovariance()[0, 0]\n",
    "    # We shift beta, because we do not consider the intercept here.\n",
    "    importance_factors[i] = beta_hat[1 + i] ** 2 * variance_X_i / variance_Y\n",
    "print(importance_factors)"
   ]
  },
  {
   "cell_type": "markdown",
   "id": "dd7879b2",
   "metadata": {},
   "source": [
    "## Confidence bounds from distribution"
   ]
  },
  {
   "cell_type": "markdown",
   "id": "b9ab0ae6",
   "metadata": {},
   "source": [
    "Given the distribution of $\\boldsymbol{\\eta}$, the following function computes marginal bounds of level $1 - \\alpha$ of the confidence interval."
   ]
  },
  {
   "cell_type": "code",
   "execution_count": 16,
   "id": "176faf32",
   "metadata": {},
   "outputs": [],
   "source": [
    "def compute_bounds_from_eta_distribution(eta_distribution, alpha = 0.05):\n",
    "    \"\"\"\n",
    "    Compute marginal confidence intervals for eta_i given its distribution\n",
    "    \n",
    "    Parameters\n",
    "    ----------\n",
    "    eta_distribution : ot.Distribution(dimension)\n",
    "        The joint distribution of the random vector eta.\n",
    "    \n",
    "    Returns\n",
    "    -------\n",
    "    bounds : ot.Interval(dimension)\n",
    "        The level 1 - alpha confidence bounds.\n",
    "    \"\"\"\n",
    "    dimension = eta_distribution.getDimension()\n",
    "    importance_factors_lower_bound = ot.Point(dimension)\n",
    "    importance_factors_upper_bound = ot.Point(dimension)\n",
    "    for i in range(dimension):\n",
    "        eta_i_distribution = eta_distribution.getMarginal(i)\n",
    "        marginal_bounds = eta_i_distribution.computeBilateralConfidenceInterval(1.0 - alpha)\n",
    "        importance_factors_lower_bound[i] = marginal_bounds.getLowerBound()[0]\n",
    "        importance_factors_upper_bound[i] = marginal_bounds.getUpperBound()[0]\n",
    "    importance_factors_bounds = ot.Interval(\n",
    "        importance_factors_lower_bound, importance_factors_upper_bound\n",
    "    )\n",
    "    return importance_factors_bounds"
   ]
  },
  {
   "cell_type": "markdown",
   "id": "d18accb2",
   "metadata": {},
   "source": [
    "Once the bounds are computed, the following function plots them."
   ]
  },
  {
   "cell_type": "code",
   "execution_count": 17,
   "id": "42d0f8a8",
   "metadata": {},
   "outputs": [],
   "source": [
    "def plot_importance_factors_with_bounds(\n",
    "    importance_factors, input_names, alpha, importance_bounds\n",
    "):\n",
    "    \"\"\"\n",
    "    Plot importance factors indices with confidence bounds of level 1 - alpha\n",
    "    \n",
    "    Parameters\n",
    "    ----------\n",
    "    importance_factors : ot.Point(dimension)\n",
    "        The importance factors.\n",
    "    input_names : list(str)\n",
    "        The names of the input variables.\n",
    "    alpha : float, in [0, 1]\n",
    "        The complementary confidence level.\n",
    "    importance_bounds : ot.Interval(dimension)\n",
    "        The lower and upper bounds of the importance factors\n",
    "    \n",
    "    Returns\n",
    "    -------\n",
    "    graph : ot.Graph\n",
    "        The importance factors indices with lower and upper 1-alpha confidence intervals.\n",
    "    \"\"\"\n",
    "    dim = importance_factors.getDimension()\n",
    "    lowerBounds = importance_bounds.getLowerBound()\n",
    "    upperBounds = importance_bounds.getUpperBound()\n",
    "    palette = ot.Drawable().BuildDefaultPalette(2)\n",
    "    graph = ot.SobolIndicesAlgorithm.DrawCorrelationCoefficients(\n",
    "        importance_factors, input_names, \"Importance factors\"\n",
    "    )\n",
    "    graph.setColors([palette[0], \"black\"])\n",
    "    graph.setYTitle(\"Importance factors\")\n",
    "    title = \"Importance factors with bounds at %.2f %%\" % ((1 - alpha) * 100)\n",
    "\n",
    "    graph.setTitle(title)\n",
    "    # Add confidence bounds\n",
    "    for i in range(dim):\n",
    "        curve = ot.Curve([1 + i, 1 + i], [lowerBounds[i], upperBounds[i]])\n",
    "        curve.setLineWidth(2.0)\n",
    "        curve.setColor(palette[1])\n",
    "        graph.add(curve)\n",
    "    return graph"
   ]
  },
  {
   "cell_type": "markdown",
   "id": "9f8c6c49",
   "metadata": {},
   "source": [
    "The goal of the remaining of the script is to compute the distribution of $\\boldsymbol{\\eta}$. "
   ]
  },
  {
   "cell_type": "markdown",
   "id": "1de46058",
   "metadata": {},
   "source": [
    "## Using distribution arithmetic"
   ]
  },
  {
   "cell_type": "markdown",
   "id": "14481297",
   "metadata": {},
   "source": [
    "We observe that parts of the estimator \n",
    "$$\n",
    "\\hat{\\eta}_i = \\frac{\\hat{\\beta}_i^2 \\mathbb{V}(X_i)}{\\hat{\\sigma}_Y^2}\n",
    "$$\n",
    "for $i = 1, ..., p$ have a known distribution. Indeed, the marginal distribution of $\\hat{\\beta}_i$ is known, using properties of the linear regression model.\n",
    "\n",
    "We recognize that if $\\hat{\\beta}_i \\sim \\mathcal{N}\\left(\\mu_{\\hat{\\beta}_i}, \\sigma_{\\hat{\\beta}_i}^2\\right)$, then $\\hat{\\beta}_i^2$ has a [noncentral chi-squared distribution with one degree of freedom](https://en.wikipedia.org/wiki/Noncentral_chi-squared_distribution). More precisely, the random variable $\\frac{\\hat{\\beta}_i}{\\sigma_{\\hat{\\beta}_i}}$ is $\\mathcal{N}(\\mu_{\\hat{\\beta}_i}, 1)$, which implies that $\\left(\\frac{\\hat{\\beta}_i}{\\sigma_{\\hat{\\beta}_i}}\\right)^2$ has a noncentral chi-squared distribution with a non centrality parameter $\\lambda = \\left(\\frac{\\mu_{\\hat{\\beta}_i}}{\\sigma_{\\hat{\\beta}_i}}\\right)^2$. \n",
    "\n",
    "The variable $\\hat{\\beta}_i^2$ is a chi-squared distribution if $\\mu_{\\hat{\\beta}_i} = 0$ and $\\sigma_{\\hat{\\beta}_i}^2 = 1$. This is unlikely to happen, since we consider a coefficient $\\hat{\\beta}$ which mean is not necessarily zero and variance is not necessarily equal to 1. \n",
    "\n",
    "In the first of this study, we consider that $\\hat{\\sigma}_Y^2$ is a constant. In the second part, we consider that $\\hat{\\sigma}_Y^2$ is, indeed, random."
   ]
  },
  {
   "cell_type": "markdown",
   "id": "cf77a5bb",
   "metadata": {},
   "source": [
    "In the next cel, we create a list with the list of distributions of $Z_1, ..., Z_p$. "
   ]
  },
  {
   "cell_type": "code",
   "execution_count": 18,
   "id": "4c70efda",
   "metadata": {},
   "outputs": [
    {
     "name": "stdout",
     "output_type": "stream",
     "text": [
      "RandomMixture(508950 * SquaredNormal(mu = 0.00114627, sigma = 4.22961e-05))\n",
      "RandomMixture(56.2199 * SquaredNormal(mu = -0.051336, sigma = 0.00368553))\n",
      "RandomMixture(0.333333 * SquaredNormal(mu = 1.14387, sigma = 0.0591088))\n",
      "RandomMixture(0.333333 * SquaredNormal(mu = -0.200476, sigma = 0.0517222))\n"
     ]
    }
   ],
   "source": [
    "Z_distribution_list = []\n",
    "for i in range(dimension):\n",
    "    marginal_input_distribution = X.getMarginal(i)\n",
    "    variance_X_i = marginal_input_distribution.getCovariance()[0, 0]\n",
    "    marginal_beta_distribution = distribution_betahat.getMarginal(1 + i)\n",
    "    # Use the arithmetic of distributions\n",
    "    Z_i_distribution = marginal_beta_distribution ** 2 * variance_X_i\n",
    "    print(Z_i_distribution)\n",
    "    Z_distribution_list.append(Z_i_distribution)"
   ]
  },
  {
   "cell_type": "markdown",
   "id": "92381259",
   "metadata": {},
   "source": [
    "We see that the product of a constant and a `SquaredNormal` is not simplified into a `SquaredNormal`. This is a simplification that could be done by the software. "
   ]
  },
  {
   "cell_type": "markdown",
   "id": "9bd9f586",
   "metadata": {},
   "source": [
    "### Assuming that the variance of the output is constant\n",
    "\n",
    "In the first part, we assume that $\\hat{\\sigma}_Y^2$ is a constant that is, we neglect its variability. The only random variable which remains is $\\hat{\\beta}_i^2$, for $i = 1, ..., p$."
   ]
  },
  {
   "cell_type": "code",
   "execution_count": 19,
   "id": "e0580c51",
   "metadata": {},
   "outputs": [],
   "source": [
    "eta_distribution_list = []\n",
    "for i in range(dimension):\n",
    "    Z_i_distribution = Z_distribution_list[i]\n",
    "    eta_i_distribution = Z_i_distribution / variance_Y\n",
    "    eta_distribution_list.append(eta_i_distribution)\n",
    "eta_distribution = ot.ComposedDistribution(eta_distribution_list)"
   ]
  },
  {
   "cell_type": "code",
   "execution_count": 20,
   "id": "23b29b1f",
   "metadata": {},
   "outputs": [
    {
     "name": "stdout",
     "output_type": "stream",
     "text": [
      "[0.461682, 0.616873]\n",
      "[0.0180567, 0.0180567]\n",
      "[0.282603, 0.42435]\n",
      "[0.00262631, 0.0152954]\n"
     ]
    }
   ],
   "source": [
    "importance_factors_bounds = compute_bounds_from_eta_distribution(eta_distribution)\n",
    "print(importance_factors_bounds)"
   ]
  },
  {
   "cell_type": "code",
   "execution_count": 21,
   "id": "2f3a4948",
   "metadata": {},
   "outputs": [
    {
     "data": {
      "image/png": "[encoded data removed]",
      "text/plain": [
       "<Figure size 288x216 with 1 Axes>"
      ]
     },
     "metadata": {
      "needs_background": "light"
     },
     "output_type": "display_data"
    }
   ],
   "source": [
    "graph = plot_importance_factors_with_bounds(\n",
    "    importance_factors, input_names, alpha, importance_factors_bounds\n",
    ")\n",
    "view = otv.View(graph, figure_kw={\"figsize\": (4.0, 3.0)})\n",
    "_ = pl.ylim(top=0.1 + max(importance_factors_bounds.getUpperBound()))"
   ]
  },
  {
   "cell_type": "markdown",
   "id": "7b5092eb",
   "metadata": {},
   "source": [
    "We see that the confidence intervals are correctly centered on the estimate, which is a direct consequence of the method. We notice that the confidence interval for $K_s$ seems to be too small."
   ]
  },
  {
   "cell_type": "markdown",
   "id": "9c317ccb",
   "metadata": {},
   "source": [
    "### Taking into accout for the randomness of the variance of the output\n",
    "\n",
    "The distribution of $\\hat{\\sigma}_Y^2$ is a little more complicated to compute. We known that :\n",
    "$$\n",
    "\\textrm{V}(Y) = \\beta_1^2 \\mathbb{V}(X_1) + ... + \\beta_p^2 \\mathbb{V}(X_p) + \\mathbb{V}(\\epsilon).\n",
    "$$\n",
    "Hence,\n",
    "$$\n",
    "\\hat{\\sigma}_Y^2 = \\hat{\\beta}_1^2 \\mathbb{V}(X_1) + ... + \\hat{\\beta}_p^2 \\mathbb{V}(X_p) + \\hat{\\sigma}_\\epsilon^2.\n",
    "$$\n",
    "The distribution of $\\hat{\\beta}_1^2 \\mathbb{V}(X_1) + ... + \\hat{\\beta}_p^2 \\mathbb{V}(X_p)$ is a sum of squared gaussian random variables. The distribution of $\\hat{\\sigma}_\\epsilon^2$ is less easy to compute. \n",
    "\n",
    "We may compute the distribution of $\\hat{\\beta}_i^2$ using the arithmetic of distributions, which leads to a `SquaredNormal` distribution. \n",
    "\n",
    "Let:\n",
    "$$\n",
    "Z_i = \\hat{\\beta}_i^2 \\mathbb{V}(X_i)\n",
    "$$\n",
    "for $i = 1, ..., p$.\n",
    "Therefore, we are interested in the distribution of :\n",
    "$$\n",
    "\\hat{\\eta}_i = \\frac{Z_i}{Z_1 + ... + Z_p + \\hat{\\sigma}_\\epsilon^2}.\n",
    "$$\n",
    "We notice that the variables $Z_i$ and $Z_1 + ... + Z_p$ are not independent. \n",
    "\n",
    "In the following calculation, we make the approximation :\n",
    "$$\n",
    "\\hat{\\eta}_i \\approx \\frac{Z_i}{Z_1 + ... + Z_p}\n",
    "$$\n",
    "i.e. we assume that the distribution of $\\hat{\\sigma}_\\epsilon^2$ can be neglected. This tends to reduce the variability of the importance factors and may lead to smaller confidence intervals. \n",
    "\n",
    "Furthermore, we assume that the random variables $Z_1, ..., Z_p$ are independent. This must increase the variability of the ratio and may lead to larger confidence intervals. \n"
   ]
  },
  {
   "cell_type": "markdown",
   "id": "057cec55",
   "metadata": {},
   "source": [
    "Finally, we compute the confidence bound, using again the arithmetic of distributions in order to define the ratio $\\frac{Z_i}{Z_1 + ... + Z_p}$. We finally create a random vector with independent marginals, with the `ComposedDistribution` class. "
   ]
  },
  {
   "cell_type": "markdown",
   "id": "5ea17cf2",
   "metadata": {},
   "source": [
    "We create the random variable associated with the variable $Z_1 + ... + Z_p$, using the arithmetic of distributions. "
   ]
  },
  {
   "cell_type": "code",
   "execution_count": 22,
   "id": "410e806b",
   "metadata": {},
   "outputs": [
    {
     "data": {
      "text/html": [
       "<p>RandomMixture(508950 * SquaredNormal(mu = 0.00114627, sigma = 4.22961e-05) + 56.2199 * SquaredNormal(mu = -0.051336, sigma = 0.00368553) + 0.333333 * SquaredNormal(mu = 1.14387, sigma = 0.0591088) + 0.333333 * SquaredNormal(mu = -0.200476, sigma = 0.0517222))</p>"
      ],
      "text/plain": [
       "class=RandomMixture name=RandomMixture distribution collection=[class=SquaredNormal name=SquaredNormal mu=0.00114627 sigma=4.22961e-05,class=SquaredNormal name=SquaredNormal mu=-0.051336 sigma=0.00368553,class=SquaredNormal name=SquaredNormal mu=1.14387 sigma=0.0591088,class=SquaredNormal name=SquaredNormal mu=-0.200476 sigma=0.0517222] weights =class=Matrix implementation=class=MatrixImplementation name=Unnamed rows=1 columns=4 values=[508950,56.2199,0.333333,0.333333] constant=class=Point name=Unnamed dimension=1 values=[0]"
      ]
     },
     "execution_count": 22,
     "metadata": {},
     "output_type": "execute_result"
    }
   ],
   "source": [
    "variance_Y_distribution = Z_distribution_list[0]\n",
    "for i in range(1, dimension):\n",
    "    variance_Y_distribution += Z_distribution_list[i]\n",
    "variance_Y_distribution"
   ]
  },
  {
   "cell_type": "code",
   "execution_count": 23,
   "id": "741f2052",
   "metadata": {},
   "outputs": [],
   "source": [
    "eta_distribution_list = []\n",
    "for i in range(dimension):\n",
    "    eta_i_distribution = Z_distribution_list[i] / variance_Y_distribution\n",
    "    eta_distribution_list.append(eta_i_distribution)\n",
    "eta_distribution = ot.ComposedDistribution(eta_distribution_list)"
   ]
  },
  {
   "cell_type": "code",
   "execution_count": 24,
   "id": "7e391fb2",
   "metadata": {},
   "outputs": [
    {
     "name": "stdout",
     "output_type": "stream",
     "text": [
      "[0.438491, 0.63023]\n",
      "[0.0335622, 0.0335622]\n",
      "[0.270839, 0.429653]\n",
      "[0.00257199, 0.0284298]\n"
     ]
    }
   ],
   "source": [
    "importance_factors_bounds = compute_bounds_from_eta_distribution(eta_distribution)\n",
    "print(importance_factors_bounds)"
   ]
  },
  {
   "cell_type": "code",
   "execution_count": 25,
   "id": "9c2a3be7",
   "metadata": {},
   "outputs": [
    {
     "data": {
      "image/png": "[encoded data removed]",
      "text/plain": [
       "<Figure size 288x216 with 1 Axes>"
      ]
     },
     "metadata": {
      "needs_background": "light"
     },
     "output_type": "display_data"
    }
   ],
   "source": [
    "graph = plot_importance_factors_with_bounds(\n",
    "    importance_factors, input_names, alpha, importance_factors_bounds\n",
    ")\n",
    "view = otv.View(graph, figure_kw={\"figsize\": (4.0, 3.0)})\n",
    "_ = pl.ylim(top=0.1 + max(importance_factors_bounds.getUpperBound()))"
   ]
  },
  {
   "cell_type": "markdown",
   "id": "09114128",
   "metadata": {},
   "source": [
    "We notice that the bounds are different from than what we may expect. The confidence bound for the variable $K_s$ is very small. This might be the consequence of the fact that we have lost some of the variance considering that $\\hat{\\sigma}_Y^2$ is not random.\n",
    "\n",
    "The confidence bounds for some variables do not contain the estimator, especially for $Q$. This might be because we considered the numerator independent from the denominator in the distribution of $\\eta_Q$. \n"
   ]
  },
  {
   "cell_type": "markdown",
   "id": "b6cec180",
   "metadata": {},
   "source": [
    "## Using sampling\n",
    "\n",
    "It is possible to approximate the distribution of $\\hat{\\boldsymbol{\\eta}} = \\left( \\hat{\\eta}_1, ..., \\hat{\\eta}_p \\right)$ by sampling in the distribution of the vector $\\hat{\\boldsymbol{\\beta}}$, neglecting the variability of $\\hat{\\sigma}^2$. This allows to manage the dependency in the random vector $\\hat{ \\boldsymbol{\\beta}}$ and, furthermore, in the numerator and the denominator of $\\hat{\\eta}_i$. \n",
    "\n",
    "Let $\\boldsymbol{h} : \\mathbb{R}^p \\rightarrow \\mathbb{R}^p$ the function defined by:\n",
    "$$\n",
    "\\hat{\\boldsymbol{\\eta}} = \\boldsymbol{h} \\left( \\hat{\\boldsymbol{\\beta}} \\right)\n",
    "$$\n",
    "that is :\n",
    "$$\n",
    "h_i \\left( \\hat{\\beta}_i \\right) = \\frac{\\hat{\\beta}_i^2 \\mathbb{V}(X_i)}{\\sum_{i = 1}^p \\hat{\\beta}_i^2 \\mathbb{V}(X_i) + \\hat{\\sigma}_i^2}\n",
    "$$\n",
    "for any $\\hat{\\beta}_i \\in \\mathbb{R}$ and $i = 1, ..., p$. \n",
    "\n",
    "In order to implement it, we use a `PythonFunction` which provides an easy way to compute the importance factors. Then we create the `CompositeRandomVector` associated with $\\hat{\\boldsymbol{\\eta}}$, which provides an efficient way to simulate observations from this random vector."
   ]
  },
  {
   "cell_type": "code",
   "execution_count": 26,
   "id": "0d9d02d2",
   "metadata": {},
   "outputs": [
    {
     "name": "stdout",
     "output_type": "stream",
     "text": [
      "sigma2_hat 0.09048666564621259\n"
     ]
    }
   ],
   "source": [
    "sigma2_hat = compute_least_squares_residual_variance(sampleX, sampleY)\n",
    "print(\"sigma2_hat\", sigma2_hat)"
   ]
  },
  {
   "cell_type": "code",
   "execution_count": 27,
   "id": "f811b6b3",
   "metadata": {},
   "outputs": [],
   "source": [
    "def importance_factor(beta):\n",
    "    # Take beta[1], ..., beta[p] and return eta[1], ..., eta[p],\n",
    "    # except that the indices begin at 0.\n",
    "    # Compute denominator\n",
    "    variance_Y = 0.0\n",
    "    for i in range(dimension):\n",
    "        marginal_input_distribution = X.getMarginal(i)\n",
    "        variance_X_i = marginal_input_distribution.getCovariance()[0, 0]\n",
    "        variance_Y += beta[i] ** 2 * variance_X_i\n",
    "    # Adds the variance of the residuals\n",
    "    variance_Y += sigma2_hat\n",
    "    # Compute importance factor\n",
    "    factor = ot.Point(dimension)\n",
    "    for i in range(dimension):\n",
    "        marginal_input_distribution = X.getMarginal(i)\n",
    "        variance_X_i = marginal_input_distribution.getCovariance()[0, 0]\n",
    "        numerator = beta[i] ** 2 * variance_X_i\n",
    "        factor[i] = numerator / variance_Y\n",
    "    return factor\n",
    "h_function_eta = ot.PythonFunction(dimension, dimension, importance_factor)"
   ]
  },
  {
   "cell_type": "markdown",
   "id": "5c4e6e39",
   "metadata": {},
   "source": [
    "In order to check the function, we get the mean vector $\\left(\\bar{\\hat{\\beta}}_1, ..., \\bar{\\hat{\\beta}}_p\\right)$ and evaluate the corresponding output $\\left( \\bar{\\hat{\\eta}}_1, ..., \\bar{\\hat{\\eta}}_p \\right)^T$. Using a Taylor expansion of $\\boldsymbol{h}$ in the neighbourhood of $\\hat{\\boldsymbol{\\beta}}$, this is equal to $\\mathbb{E}\\left( \\boldsymbol{\\hat{\\eta}} \\right)$ if the function $\\boldsymbol{h}$ is linear. "
   ]
  },
  {
   "cell_type": "code",
   "execution_count": 28,
   "id": "9991b89f",
   "metadata": {},
   "outputs": [
    {
     "name": "stdout",
     "output_type": "stream",
     "text": [
      "eta_mean =  [0.492828,0.109189,0.321424,0.00987304]\n"
     ]
    }
   ],
   "source": [
    "distribution_beta = distribution_betahat.getMarginal(range(1, 1 + dimension))\n",
    "mean_beta = distribution_beta.getMean()\n",
    "eta_mean = h_function_eta(mean_beta)\n",
    "print(\"eta_mean = \", eta_mean)"
   ]
  },
  {
   "cell_type": "code",
   "execution_count": 29,
   "id": "8e73779b",
   "metadata": {},
   "outputs": [
    {
     "data": {
      "text/plain": [
       "0.9333145749305876"
      ]
     },
     "execution_count": 29,
     "metadata": {},
     "output_type": "execute_result"
    }
   ],
   "source": [
    "sum(eta_mean)"
   ]
  },
  {
   "cell_type": "code",
   "execution_count": 30,
   "id": "cf5e02f5",
   "metadata": {},
   "outputs": [
    {
     "data": {
      "text/html": [
       "<TABLE><TR><TD></TD><TH>y0</TH><TH>y1</TH><TH>y2</TH><TH>y3</TH></TR>\n",
       "<TR><TH>0</TH><TD>0.4889481</TD><TD>0.105797</TD><TD>0.317975</TD><TD>0.0212124</TD></TR>\n",
       "<TR><TH>1</TH><TD>0.4951697</TD><TD>0.100991</TD><TD>0.3212721</TD><TD>0.01993798</TD></TR>\n",
       "<TR><TH>2</TH><TD>0.4849696</TD><TD>0.109334</TD><TD>0.3298402</TD><TD>0.009643792</TD></TR>\n",
       "<TR><TH>3</TH><TD>0.5061003</TD><TD>0.1112668</TD><TD>0.2997927</TD><TD>0.01453183</TD></TR>\n",
       "<TR><TH>4</TH><TD>0.4908239</TD><TD>0.1258572</TD><TD>0.3156555</TD><TD>0.005285241</TD></TR>\n",
       "</TABLE>"
      ],
      "text/plain": [
       "class=Sample name=Unnamed implementation=class=SampleImplementation name=Unnamed size=5 dimension=4 description=[y0,y1,y2,y3] data=[[0.488948,0.105797,0.317975,0.0212124],[0.49517,0.100991,0.321272,0.019938],[0.48497,0.109334,0.32984,0.00964379],[0.5061,0.111267,0.299793,0.0145318],[0.490824,0.125857,0.315656,0.00528524]]"
      ]
     },
     "execution_count": 30,
     "metadata": {},
     "output_type": "execute_result"
    }
   ],
   "source": [
    "beta_random_vector = ot.RandomVector(distribution_beta)\n",
    "eta_random_vector = ot.CompositeRandomVector(h_function_eta, beta_random_vector)\n",
    "\n",
    "sample_size = 100\n",
    "eta_sample = eta_random_vector.getSample(sample_size)\n",
    "eta_sample[:5]"
   ]
  },
  {
   "cell_type": "code",
   "execution_count": 31,
   "id": "35317bc8",
   "metadata": {},
   "outputs": [],
   "source": [
    "eta_distribution = ot.KernelSmoothing().build(eta_sample)"
   ]
  },
  {
   "cell_type": "code",
   "execution_count": 32,
   "id": "b56843a1",
   "metadata": {},
   "outputs": [
    {
     "name": "stdout",
     "output_type": "stream",
     "text": [
      "[0.445991, 0.544065]\n",
      "[0.0725541, 0.143889]\n",
      "[0.263286, 0.369778]\n",
      "[-0.000421587, 0.0240295]\n"
     ]
    }
   ],
   "source": [
    "importance_factors_bounds = compute_bounds_from_eta_distribution(eta_distribution)\n",
    "print(importance_factors_bounds)"
   ]
  },
  {
   "cell_type": "code",
   "execution_count": 33,
   "id": "b97914f7",
   "metadata": {},
   "outputs": [
    {
     "data": {
      "image/png": "[encoded data removed]",
      "text/plain": [
       "<Figure size 288x216 with 1 Axes>"
      ]
     },
     "metadata": {
      "needs_background": "light"
     },
     "output_type": "display_data"
    }
   ],
   "source": [
    "graph = plot_importance_factors_with_bounds(\n",
    "    importance_factors, input_names, alpha, importance_factors_bounds\n",
    ")\n",
    "graph.setTitle(\"Importance factors with bounds at %.2f %%, n=%d\" % ((1 - alpha) * 100, sampleSize))\n",
    "view = otv.View(graph, figure_kw={\"figsize\": (4.0, 3.0)})\n",
    "_ = pl.ylim(top=0.1 + max(importance_factors_bounds.getUpperBound()))\n",
    "pl.savefig(\"Exercice_SRC_with_LLSQ_and_KDE.pdf\", bbox_inches=\"tight\")"
   ]
  },
  {
   "cell_type": "markdown",
   "id": "88a302b5",
   "metadata": {},
   "source": [
    "We see that the confidence bounds are consistent with the estimators, although there is a slight discrepancy for the variable $Q$. The confidence interval for $K_s$ is now nonzero, which is more satisfactory than with the previous methods."
   ]
  },
  {
   "cell_type": "markdown",
   "id": "57251ecc",
   "metadata": {},
   "source": [
    "## Conclusion\n",
    "\n",
    "One of the ways to explore this topic further would be to use the delta-method to estimate the asymptotic distribution of $\\eta_i$. This might be interesting because we generally estimate these coefficients using relatively large sample sizes, typically with $n > 100$. Hence, the asymptotic assumption might be valid in this case."
   ]
  },
  {
   "cell_type": "code",
   "execution_count": null,
   "id": "30777c0f",
   "metadata": {},
   "outputs": [],
   "source": []
  }
 ],
 "metadata": {
  "kernelspec": {
   "display_name": "Python 3 (ipykernel)",
   "language": "python",
   "name": "python3"
  },
  "language_info": {
   "codemirror_mode": {
    "name": "ipython",
    "version": 3
   },
   "file_extension": ".py",
   "mimetype": "text/x-python",
   "name": "python",
   "nbconvert_exporter": "python",
   "pygments_lexer": "ipython3",
   "version": "3.10.0"
  }
 },
 "nbformat": 4,
 "nbformat_minor": 5
}
