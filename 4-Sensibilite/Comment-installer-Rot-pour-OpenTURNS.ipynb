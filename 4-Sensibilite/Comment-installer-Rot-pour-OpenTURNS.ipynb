{
 "cells": [
  {
   "cell_type": "markdown",
   "metadata": {},
   "source": [
    "# Comment installer Rot pour OpenTURNS\n"
   ]
  },
  {
   "cell_type": "markdown",
   "metadata": {},
   "source": [
    "La classe LinearModelFactory() requiert une installation fonctionnelle de R.\n",
    "- Installer R\n",
    "```\n",
    "conda install r\n",
    "```\n",
    "- Télécharger \n",
    "\n",
    "https://github.com/openturns/openturns/blob/1.12/utils/rot_1.4.6.tar.gz\n",
    "\n",
    "- Exécuter l'instruction :\n",
    "\n",
    "```\n",
    "R CMD INSTALL rot_1.4.6.tar.gz\n",
    "```\n",
    "Voici le résultat sur un poste Windows :\n",
    "```\n",
    "(base) C:\\Documents>R CMD INSTALL rot_1.4.6.tar.gz\n",
    "In R CMD INSTALL\n",
    "* installing to library 'C:/Users/MyName/AppData/Local/Continuum/anaconda3-5-3/Lib/R/library'\n",
    "* installing *source* package 'rot' ...\n",
    "** R\n",
    "** byte-compile and prepare package for lazy loading\n",
    "** help\n",
    "*** installing help indices\n",
    "  converting help for package 'rot'\n",
    "    finding HTML links ... fini\n",
    "    computeLinearModel                      html\n",
    "    computeResidualLm                       html\n",
    "    computeTestChiSquaredGeometric          html\n",
    "    computeTestChiSquaredPoisson            html\n",
    "    computeTestChiSquaredUserDefined        html\n",
    "    computeTestPartialPearson               html\n",
    "    computeTestPartialRegression            html\n",
    "    computeTestPartialSpearman              html\n",
    "    computeTestPearson                      html\n",
    "    computeTestRegression                   html\n",
    "    computeTestSpearman                     html\n",
    "    computeTestTwoSampleChiSquared          html\n",
    "    computeTestTwoSamplePearson             html\n",
    "    computeTestTwoSampleSmirnov             html\n",
    "    computeTestTwoSampleSpearman            html\n",
    "    predictValuesLm                         html\n",
    "    testLmAdjustedRSquare                   html\n",
    "    testLmFisher                            html\n",
    "    testLmResidualMean                      html\n",
    "    testLmRsquared                          html\n",
    "** building package indices\n",
    "** testing if installed package can be loaded\n",
    "* DONE (rot)\n",
    "```\n"
   ]
  },
  {
   "cell_type": "markdown",
   "metadata": {},
   "source": [
    "Configurer le ResourceMap pour indiquer le chemin."
   ]
  },
  {
   "cell_type": "code",
   "execution_count": 1,
   "metadata": {},
   "outputs": [],
   "source": [
    "import openturns as ot"
   ]
  },
  {
   "cell_type": "code",
   "execution_count": 2,
   "metadata": {},
   "outputs": [],
   "source": [
    "ot.ResourceMap.SetAsString('R-executable-command','C:\\\\Users\\\\c61372\\\\AppData\\\\Local\\\\Continuum\\\\anaconda3-5-3\\\\Lib\\\\R\\\\bin\\\\R.exe')"
   ]
  },
  {
   "cell_type": "markdown",
   "metadata": {},
   "source": [
    "Tester."
   ]
  },
  {
   "cell_type": "code",
   "execution_count": 3,
   "metadata": {},
   "outputs": [
    {
     "name": "stdout",
     "output_type": "stream",
     "text": [
      "class=TestResult name=Unnamed type=BreuschPagan binaryQualityMeasure=true p-value threshold=0.05 p-value=0.700772 statistic=0.14767 description=[]\n"
     ]
    }
   ],
   "source": [
    "import openturns as ot\n",
    "ot.RandomGenerator.SetSeed(0)\n",
    "distribution = ot.Normal()\n",
    "sample = distribution.getSample(30)\n",
    "func = ot.SymbolicFunction('x', '2 * x + 1')\n",
    "firstSample = sample\n",
    "secondSample = func(sample) + ot.Normal().getSample(30)\n",
    "test_result = ot.LinearModelTest.LinearModelBreuschPagan(firstSample, secondSample)\n",
    "print(test_result)"
   ]
  },
  {
   "cell_type": "markdown",
   "metadata": {},
   "source": [
    "D'après :\n",
    "\n",
    "https://github.com/openturns/openturns/commits/master/utils\n",
    "\n",
    "La dépendance à R n'existe plus depuis Février 2019, c'est à dire depuis OpenTURNS 1.13."
   ]
  }
 ],
 "metadata": {
  "kernelspec": {
   "display_name": "Python 3",
   "language": "python",
   "name": "python3"
  },
  "language_info": {
   "codemirror_mode": {
    "name": "ipython",
    "version": 3
   },
   "file_extension": ".py",
   "mimetype": "text/x-python",
   "name": "python",
   "nbconvert_exporter": "python",
   "pygments_lexer": "ipython3",
   "version": "3.7.3"
  }
 },
 "nbformat": 4,
 "nbformat_minor": 2
}
