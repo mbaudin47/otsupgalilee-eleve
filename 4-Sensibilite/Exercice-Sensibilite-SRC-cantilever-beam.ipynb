{
 "cells": [
  {
   "cell_type": "markdown",
   "metadata": {},
   "source": [
    "# Analyse de sensibilité globale par régression - application au cas de la déviation verticale de la poutre\n"
   ]
  },
  {
   "cell_type": "markdown",
   "metadata": {},
   "source": [
    "## Déviation  verticale d'une poutre encastrée\n",
    "\n",
    "We consider a cantilever beam defined by its Young’s modulus $E$, its length $L$ and its section modulus $I$. One end is built in a wall and we apply a concentrated bending load $F$ at the other end of the beam, resulting in a vertical deviation $Y$.\n",
    "\n",
    "<img src=\"poutre.png\" width=\"200\">\n",
    "\n",
    "**Figure 1.** Vertical deviation $Y$ of the cantilever beam of length $L$.\n",
    "\n",
    "__Inputs__:\n",
    "\n",
    "* $E$ : Young modulus (Pa)\n",
    "* $F$ : Loading (N),\n",
    "* $L$ : Length of beam (cm),\n",
    "* $I$ : Moment of inertia (cm^4).\n",
    "\n",
    "| Variable |  Distribution |\n",
    "|----------|---------------|\n",
    "|E| Beta(alpha = 0.9, beta = 2.2, $a = 2.5\\times 10^7$, $b = 5\\times 10^7$) |\n",
    "|F| Lognormal($\\mu_F = 3 \\times 10^4$, $\\sigma_F = 9\\times 10^3$, shift = $15\\times 10^3$)|\n",
    "|L| Uniform(min=250.0, max= 260.0)|\n",
    "|I| Beta(alpha = 2.5, beta = 1.5, a = 310, b = 450)|\n",
    "\n",
    "**Table 1.** Marginal distributions of the variables E, F, L and I.\n",
    "\n",
    "In the previous table $\\mu_F=\\mathbb{E}[F]$ and $\\sigma_F=\\sqrt{\\operatorname{Var}(F)}$ are the mean and the standard deviation of $F$. The input variables are supposed to be independent.\n",
    "\n",
    "__Output__:\n",
    "\n",
    "The vertical displacement at free end of the cantilever beam is:\n",
    "$$\n",
    "Y  = \\dfrac{F\\, L^3}{3 \\, E \\, I}\n",
    "$$\n"
   ]
  },
  {
   "cell_type": "markdown",
   "metadata": {},
   "source": [
    "## On the SRC indices\n",
    "\n",
    "Consider a linear model:\n",
    "$$\n",
    "Y = g(X) + \\epsilon = \\beta_0 + \\sum_{i=1,2,\\ldots,p} \\beta_i X_i + \\epsilon\n",
    "$$\n",
    "where $\\beta_i$ are real parameters, for $i=1,2,\\ldots,p$ and $\\epsilon \\sim \\mathcal{N}\\left(0, \\sigma^2\\right)$. \n",
    "Furthermore, we assume that the inputs $(X_1, ..., X_p)$ are independent. \n",
    "The importance factors of the linear model are : \n",
    "$$\n",
    "\\eta_i = \\frac{\\beta_i^2 \\operatorname{Var}(X_i)}{\\operatorname{Var}(Y)} \\in [0,1]\n",
    "$$\n",
    "for $i=1,2,\\ldots,p$.\n",
    "\n",
    "The standardized regression coefficients are: \n",
    "$$\n",
    "\\textrm{SRC}_i = \\frac{\\beta_i \\sqrt{\\operatorname{Var}(X_i)}}{\\sqrt{\\sum_{i = 1}^p \\beta_i^2 \\operatorname{Var}(X_i)}} \\in \\mathbb{R}\n",
    "$$\n",
    "for $i=1,2,\\ldots,p$.\n",
    "\n",
    "The importance factors are equal to the squared SRC _if there is no noise_ i.e. if the agreement between the linear model and the data is perfect. In general, an importance factor is lower or equal to the corresponding squared SRC indice since $\\operatorname{Var}(\\epsilon) \\geq 0$: the sum of the squared SRC is equal to one, which is not necessarily the case for the importance factors.\n",
    "\n",
    "## SRC importance factors in OpenTURNS\n",
    "\n",
    "The `ot.CorrelationAnalysis.SRC` function was a misnomer, as mentioned in the following issue:\n",
    "\n",
    "https://github.com/openturns/openturns/issues/1753\n",
    "\n",
    "In OpenTURNS v<=1.19,\n",
    "\n",
    "- `ot.CorrelationAnalysis.SignedSRC` returns the SRC coefficients,\n",
    "- `ot.CorrelationAnalysis.SRC` returns the importance factors. \n",
    "\n",
    "## Références\n",
    "\n",
    "- https://github.com/openturns/openturns/pull/904\n",
    "- http://openturns.github.io/openturns/latest/theory/data_analysis/pearson_coefficient.html"
   ]
  },
  {
   "cell_type": "markdown",
   "metadata": {},
   "source": [
    "# Model definition"
   ]
  },
  {
   "cell_type": "code",
   "execution_count": 1,
   "metadata": {},
   "outputs": [],
   "source": [
    "import openturns as ot\n",
    "import openturns.viewer as otv\n",
    "import math"
   ]
  },
  {
   "cell_type": "code",
   "execution_count": 2,
   "metadata": {},
   "outputs": [
    {
     "data": {
      "text/plain": [
       "'1.24'"
      ]
     },
     "execution_count": 2,
     "metadata": {},
     "output_type": "execute_result"
    }
   ],
   "source": [
    "ot.__version__"
   ]
  },
  {
   "cell_type": "code",
   "execution_count": 3,
   "metadata": {},
   "outputs": [],
   "source": [
    "dist_E = ot.Beta(0.9, 2.2, 2.8e7, 4.8e7)\n",
    "dist_E.setDescription([\"E\"])\n",
    "F_para = ot.LogNormalMuSigma(3.0e4, 9.0e3, 15.0e3)  # in N\n",
    "dist_F = ot.ParametrizedDistribution(F_para)\n",
    "dist_F.setDescription([\"F\"])\n",
    "dist_L = ot.Uniform(250.0, 260.0)  # in cm\n",
    "dist_L.setDescription([\"L\"])\n",
    "dist_I = ot.Beta(2.5, 1.5, 310.0, 450.0)  # in cm^4\n",
    "dist_I.setDescription([\"I\"])\n",
    "\n",
    "X = ot.JointDistribution([dist_E, dist_F, dist_L, dist_I])\n",
    "\n",
    "g = ot.SymbolicFunction([\"E\", \"F\", \"L\", \"I\"], [\"F * L^3 /  (3 * E * I)\"])\n",
    "g.setOutputDescription([\"Y (cm)\"])"
   ]
  },
  {
   "cell_type": "markdown",
   "metadata": {},
   "source": [
    "Pour pouvoir exploiter au mieux les simulations, nous équipons la fonction d'un méchanisme d'historique."
   ]
  },
  {
   "cell_type": "code",
   "execution_count": 4,
   "metadata": {},
   "outputs": [],
   "source": [
    "g = ot.MemoizeFunction(g)"
   ]
  },
  {
   "cell_type": "markdown",
   "metadata": {},
   "source": [
    "Enfin, nous définissons le vecteur aléatoire de sortie."
   ]
  },
  {
   "cell_type": "code",
   "execution_count": 5,
   "metadata": {},
   "outputs": [],
   "source": [
    "XRV = ot.RandomVector(X)\n",
    "Y = ot.CompositeRandomVector(g, XRV)\n",
    "Y.setDescription([\"Y (cm)\"])"
   ]
  },
  {
   "cell_type": "markdown",
   "metadata": {},
   "source": [
    "## Régression linéaire avec LinearLeastSquares\n",
    "\n",
    "Nous allons utiliser la classe `LinearLeastSquares` pour créer la régression linéaire. Puis nous allons valider ce métamodèle avec `MetaModelValidation`. C'est une étape préparatoire essentielle pour valider la qualité du modèle linéaire. Puis nous allons estimer les facteurs d'importance. \n",
    "\n",
    "On commence par créer un plan d'expériences de type Monte-Carlo simple. "
   ]
  },
  {
   "cell_type": "code",
   "execution_count": 6,
   "metadata": {},
   "outputs": [],
   "source": [
    "n = 1000\n",
    "sampleX = X.getSample(n)\n",
    "sampleY = g(sampleX)\n",
    "\n",
    "myLeastSquares = ot.LinearLeastSquares(sampleX, sampleY)"
   ]
  },
  {
   "cell_type": "markdown",
   "metadata": {},
   "source": [
    "La méthode `run` permet d'estimer les coefficients du modèle. "
   ]
  },
  {
   "cell_type": "code",
   "execution_count": 7,
   "metadata": {},
   "outputs": [
    {
     "data": {
      "text/html": [
       "<ul>\n",
       "  <li> Input dimension = 4  </li>\n",
       "  <li> Input description = [x0,x1,x2,x3]  </li>\n",
       "  <li> Output dimension = 1  </li>\n",
       "  <li> Output description = [y0]  </li>\n",
       "  <li> Parameter = []  </li>\n",
       "</ul>\n"
      ],
      "text/plain": [
       "class=Function name=Unnamed implementation=class=FunctionImplementation name=Unnamed description=[x0,x1,x2,x3,y0] evaluationImplementation=class=LinearEvaluation name=Unnamed center=class=Point name=Unnamed dimension=4 values=[0,0,0,0] constant=class=Point name=Unnamed dimension=1 values=[0.000367778] linear=class=Matrix implementation=class=MatrixImplementation name=Unnamed rows=4 columns=1 values=[-3.42462e-07,0.000412573,0.0981488,-0.0332083] gradientImplementation=class=ConstantGradient name=Unnamed constant=class=Matrix implementation=class=MatrixImplementation name=Unnamed rows=4 columns=1 values=[-3.42462e-07,0.000412573,0.0981488,-0.0332083] hessianImplementation=class=ConstantHessian name=Unnamed constant=class=SymmetricTensor implementation=class=TensorImplementation name=Unnamed rows=4 columns=4 sheets=1 values=[0,0,0,0,0,0,0,0,0,0,0,0,0,0,0,0]"
      ]
     },
     "execution_count": 7,
     "metadata": {},
     "output_type": "execute_result"
    }
   ],
   "source": [
    "myLeastSquares.run()\n",
    "responseSurface = myLeastSquares.getMetaModel()\n",
    "responseSurface"
   ]
  },
  {
   "cell_type": "markdown",
   "metadata": {},
   "source": [
    "La variable `responseSurface` est une instance de la classe `LinearEvaluation`, associée à une constante et une partie linéaire. "
   ]
  },
  {
   "cell_type": "code",
   "execution_count": 8,
   "metadata": {},
   "outputs": [],
   "source": [
    "val = ot.MetaModelValidation(sampleY, responseSurface(sampleX))"
   ]
  },
  {
   "cell_type": "markdown",
   "metadata": {},
   "source": [
    "Puisque nous utilisons le même plan d'expériences pour l'apprentissage et la validation, nous obtenons le coefficient R2 (si nous avions utilisé un plan différent pour la validation, ce coefficient se nommerait Q2). "
   ]
  },
  {
   "cell_type": "code",
   "execution_count": 9,
   "metadata": {},
   "outputs": [
    {
     "data": {
      "text/plain": [
       "0.9778846452464051"
      ]
     },
     "execution_count": 9,
     "metadata": {},
     "output_type": "execute_result"
    }
   ],
   "source": [
    "r2 = val.computeR2Score()[0]\n",
    "r2"
   ]
  },
  {
   "cell_type": "code",
   "execution_count": 10,
   "metadata": {},
   "outputs": [
    {
     "data": {
      "image/png": "[encoded data removed]",
      "text/plain": [
       "<Figure size 400x300 with 1 Axes>"
      ]
     },
     "metadata": {},
     "output_type": "display_data"
    }
   ],
   "source": [
    "graph = val.drawValidation()\n",
    "graph.setTitle(\"n=%d, R2=%.2f%%\" % (n, r2 * 100))\n",
    "view = otv.View(graph, figure_kw={\"figsize\": (4.0, 3.0)})"
   ]
  },
  {
   "cell_type": "markdown",
   "metadata": {},
   "source": [
    "On observe que le modèle de régression linéaire est de bonne qualité, puisque le R2 est supérieur à 95%. On pourrait compléter l'analyse en utilisant un second plan pour la validation, mais il s'avère que cela n'est pas nécessaire dans notre cas particulier. \n",
    "\n",
    "Une hypothèse importance de la régression linéaire par moindres carrés est que la distribution des résidus doit être gaussienne. Pour le vérifier, nous résolvons le problème de moindres carrés avec `LinearLeastSquares` et calculons l'échantillon des résidus. \n",
    "Pour estimer $\\sigma$, on considère le résidu :\n",
    "$$\n",
    "r_i = y_i - \\tilde{g}(x_i)\n",
    "$$\n",
    "pour $i = 1, ..., n$. \n",
    "Nous estimons l'écart-type $\\sigma$ du bruit grâce à l'estimateur non biaisé :\n",
    "$$\n",
    "\\hat{\\sigma} = \\sqrt{\\frac{1}{n - n_p} \\sum_{j = 1}^n r_i^2}.\n",
    "$$\n",
    "où $n$ est la taille de l'échantillon, $n_p = 1 + p$ est le nombre de paramètres du modèle de régression linéaire, $y_i$ est la ième observation de la sortie et $\\tilde{g}(x_i)$ est la prédiction par le modèle de régression linéaire. \n"
   ]
  },
  {
   "cell_type": "code",
   "execution_count": 11,
   "metadata": {},
   "outputs": [
    {
     "name": "stdout",
     "output_type": "stream",
     "text": [
      "hat(sigma) = 0.6381\n"
     ]
    },
    {
     "data": {
      "image/png": "[encoded data removed]",
      "text/plain": [
       "<Figure size 400x300 with 1 Axes>"
      ]
     },
     "metadata": {},
     "output_type": "display_data"
    }
   ],
   "source": [
    "myLeastSquares = ot.LinearLeastSquares(sampleX, sampleY)\n",
    "myLeastSquares.run()\n",
    "responseSurface = myLeastSquares.getMetaModel()\n",
    "predicted_outputs = responseSurface(sampleX)\n",
    "residuals_sample = sampleY - predicted_outputs\n",
    "residuals_sample.setDescription([\"Residuals\"])\n",
    "sample_size = sampleX.getSize()\n",
    "input_dimension = sampleX.getDimension()\n",
    "n_parameters = 1 + input_dimension\n",
    "residuals_point = residuals_sample.asPoint()\n",
    "sigma_hat = math.sqrt(residuals_point.normSquare() / (sample_size - n_parameters))\n",
    "print(\"hat(sigma) = %.4f\" % (sigma_hat))\n",
    "noise_estimated = ot.Normal(0.0, sigma_hat)\n",
    "\n",
    "graph = ot.KernelSmoothing().build(residuals_sample).drawPDF()\n",
    "graph.setLegends([\"KDE\"])\n",
    "curve = noise_estimated.drawPDF()\n",
    "curve.setLegends([\"Gaussian\"])\n",
    "graph.add(curve)\n",
    "number_of_graphs = len(graph.getDrawables())\n",
    "graph.setColors(ot.Drawable().BuildDefaultPalette(number_of_graphs))\n",
    "graph.setLegendPosition(\"topright\")\n",
    "view = otv.View(graph, figure_kw={\"figsize\": (4.0, 3.0)})"
   ]
  },
  {
   "cell_type": "markdown",
   "metadata": {},
   "source": [
    "On observe que la loi gaussienne est assez proche de la loi des résidus issue de l'estimation par lissage à noyau. L'écart entre les deux lois est probablement dû au fait que le modèle n'est pas exactement linéaire, sans en être toutefois très éloigné.\n",
    "\n",
    "La loi des résidus n'est pas gaussienne car l'écart-type est trop grand. La cause de cela est que certains résidus sont trop grands en valeur absolue. En fait, on ne pouvait pas nécessairement attendre que cette propriété soit vérifiée. Pour qu'elle le soit, il faudrait que le modèle de poutre encastrée soit un modèle exactement linéaire et que la loi des résidus soit gaussienne. Ici, l'erreur dépend du vecteur $\\boldsymbol{x}$ en entrée, ce qui brise l'hypothèse sur les résidus du modèle de régression linéaire. La conséquence de cela est qu'on ne peut pas exploiter, en toute rigueur, les résultats issus de la théorie de la régression linéaire. Par exemple, la loi des coefficients n'est pas nécessairement exactement gaussienne.\n",
    "\n",
    "Puisque les hypothèses du modèle linéaire sont approximativement satisfaites, nous pouvons estimer les facteurs d'importance issus de la régression linéaire."
   ]
  },
  {
   "cell_type": "code",
   "execution_count": 12,
   "metadata": {},
   "outputs": [
    {
     "data": {
      "text/html": [
       "class=Point name=Unnamed dimension=4 values=[0.138209,0.793874,0.00883377,0.0521553]"
      ],
      "text/plain": [
       "class=Point name=Unnamed dimension=4 values=[0.138209,0.793874,0.00883377,0.0521553]"
      ]
     },
     "execution_count": 12,
     "metadata": {},
     "output_type": "execute_result"
    }
   ],
   "source": [
    "importance_factors = ot.CorrelationAnalysis(sampleX, sampleY).computeSquaredSRC()\n",
    "importance_factors"
   ]
  },
  {
   "cell_type": "markdown",
   "metadata": {},
   "source": [
    "On observe que la somme des facteurs d'importance retournée par `computeSquaredSRC` n'est pas égale à 1. "
   ]
  },
  {
   "cell_type": "code",
   "execution_count": 13,
   "metadata": {},
   "outputs": [
    {
     "data": {
      "text/plain": [
       "0.9930722218508767"
      ]
     },
     "execution_count": 13,
     "metadata": {},
     "output_type": "execute_result"
    }
   ],
   "source": [
    "importance_factors.norm1()"
   ]
  },
  {
   "cell_type": "markdown",
   "metadata": {},
   "source": [
    "Cet écart est attendu car il est associé d'une part au fait que le modèle n'est pas parfaitement linéaire et d'autre part à l'erreur d'estimation des indices par la méthode d'échantillonnage. En d'autres termes, la méthode `computeSquaredSRC()` retourne les facteurs d'importance. Pour obtenir les indices SRC carrés, on peut utiliser l'attribut `normalize` de la méthode, dont la valeur par défaut est égale à `False`."
   ]
  },
  {
   "cell_type": "code",
   "execution_count": 14,
   "metadata": {},
   "outputs": [
    {
     "data": {
      "text/html": [
       "class=Point name=Unnamed dimension=4 values=[0.139173,0.799412,0.0088954,0.0525192]"
      ],
      "text/plain": [
       "class=Point name=Unnamed dimension=4 values=[0.139173,0.799412,0.0088954,0.0525192]"
      ]
     },
     "execution_count": 14,
     "metadata": {},
     "output_type": "execute_result"
    }
   ],
   "source": [
    "squared_SRC_indices = ot.CorrelationAnalysis(sampleX, sampleY).computeSquaredSRC(True)\n",
    "squared_SRC_indices"
   ]
  },
  {
   "cell_type": "code",
   "execution_count": 15,
   "metadata": {},
   "outputs": [
    {
     "data": {
      "text/plain": [
       "1.0"
      ]
     },
     "execution_count": 15,
     "metadata": {},
     "output_type": "execute_result"
    }
   ],
   "source": [
    "squared_SRC_indices.norm1()"
   ]
  },
  {
   "cell_type": "markdown",
   "metadata": {},
   "source": [
    "Dans notre cas, le modèle linéaire s'ajuste très bien et il n'y a pas beaucoup d'écart entre les deux indices.\n"
   ]
  },
  {
   "cell_type": "markdown",
   "metadata": {},
   "source": [
    "\n",
    "On peut utiliser la méthode statique `DrawCorrelationCoefficients` pour dessiner les facteurs d'importance."
   ]
  },
  {
   "cell_type": "code",
   "execution_count": 14,
   "metadata": {},
   "outputs": [
    {
     "data": {
      "image/png": "[encoded data removed]",
      "text/plain": [
       "<Figure size 400x300 with 1 Axes>"
      ]
     },
     "metadata": {},
     "output_type": "display_data"
    }
   ],
   "source": [
    "input_names = g.getInputDescription()\n",
    "graph = ot.SobolIndicesAlgorithm.DrawCorrelationCoefficients(\n",
    "    importance_factors, input_names, \"Importance factors\"\n",
    ")\n",
    "graph.setYTitle(\"Importance factors\")\n",
    "view = otv.View(graph, figure_kw={\"figsize\": (4.0, 3.0)})"
   ]
  },
  {
   "cell_type": "markdown",
   "metadata": {},
   "source": [
    "Nous pouvons comparer les résultats que nous avions obtenu par la méthode du développement de Taylor. \n",
    "\n",
    "| Méthode | E | F | L | I |\n",
    "|---|---|---|---|---|\n",
    "| Taylor | 0.1535 | 0.7856 | 0.0101 | 0.0508 |\n",
    "| Regression | 0.1307 | 0.8117 | 0.0105 | 0.0470 |\n",
    "\n",
    "**Table 1.** Indices de sensibilité linéaires du modèle de poutre encastrée : facteurs d'importance de Taylor et indices SRC carrés.\n",
    "\n",
    "On peut remarquer que, dans ce cas particulier, les deux méthodes donnent des résultats très similaires. En effet, \n",
    "- la méthode fondée sur le développement de Taylor fait l'hypothèse locale d'un comportement linéaire au voisinage du point moyen $E(X)$,\n",
    "- la méthode fondée sur la regression linéaire fait l'hypothèse globale d'un comportement linéaire sur le domaine du vecteur aléatoire $X$.\n",
    "\n",
    "Puisque, dans notre application, la combinaison particulière des lois marginales et de la fonction $g$ mènent à un comportement approximativement linéaire, les deux méthodes produisent des résultats similaires."
   ]
  },
  {
   "cell_type": "markdown",
   "metadata": {},
   "source": [
    "## Exercice 1 : analyse graphique sur le cas poutre\n",
    "\n",
    "L'objectif de cet exercice est d'observer l'évolution de Y en fonction de chaque marginale $X_i$. \n",
    "\n",
    "**Questions.**\n",
    "\n",
    "- Pour `i = 0, ..., 3`, utiliser la classe `Cloud` pour dessiner l'échantillon de points avec `sampleX[:,i]` en abscisse et `sampleY` en ordonnées.\n",
    "- Observez le graphique. Quelle variable d'entrée $X_i$ semble avoir le plus d'impact sur la variabilité de la variable de sortie $Y$ ?\n",
    "- Quelle variable d'entrée semble n'avoir aucun impact sur la variabilité de $Y$ ?\n",
    "- De manière alternative, utiliser `VisualTest.DrawPairsXY` et observez le résultat."
   ]
  },
  {
   "cell_type": "markdown",
   "metadata": {},
   "source": [
    "## Exercice 2 : le coefficient de corrélation de Pearson\n",
    "\n",
    "En complément des indices SRC carrés, on utilise parfois les coefficients de corrélation de Pearson pour estimer la sensibilité :\n",
    "$$\n",
    "\\operatorname{Corr}(Y,X_i) = \\frac{\\operatorname{Cov}(Y,X_i)}{\\sqrt{\\operatorname{Var}(Y)}\\sqrt{\\operatorname{Var}(X_i)}}\n",
    "$$\n",
    "pour $i=1,2,\\ldots,p$.\n",
    "En effet, ces coefficients permettent non seulement de quantifier la sensibilité, mais également d'obtenir le sens de variation de la sortie relativement à un changement dans chaque entrée. \n",
    "On utilise dans ce cas l'estimateur :\n",
    "$$\n",
    "\\rho(Y,X_i) = \\frac{\\sum_{j=1}^n \\left(y^{(j)} - \\overline{y}\\right)\\left(x^{(j)}_i - \\overline{x}_i\\right)}{\\sqrt{\\sum_{j=1}^n \\left(y^{(j)} - \\overline{y}\\right)^2}\\sqrt{\\sum_{j=1}^n \\left(x^{(j)}_i - \\overline{x_i}\\right)^2}}\n",
    "$$\n",
    "pour $i=1,2,\\ldots,p$, où :\n",
    "$$\n",
    "\\overline{y} = \\frac{1}{n} \\sum_{j=1}^n y^{(j)}\n",
    "$$\n",
    "et\n",
    "$$\n",
    "\\overline{x}_i = \\frac{1}{n} \\sum_{j=1}^n x^{(j)}_i\n",
    "$$\n",
    "\n",
    "Pour hiérarchiser les variables d'entrée selon ce critère, c'est la valeur absolue du coefficient de Pearson dont on tient compte. L'objectif de cet exercice est de calculer les coefficients de corrélation linéaire de Pearson pour estimer la sensibilité de la sortie.\n",
    "\n",
    "**Questions.**\n",
    "\n",
    "- Créer la variable `sampleXY` contenant un `Sample` de taille $n$ et de dimension 5. Remplir les 4 premières colonnes avec `sampleX` et la dernière colonne par `sampleY`.\n",
    "- Utiliser la méthode `computePearsonCorrelation` pour estimer les coefficients de corrélation de Pearson. Quelle hiérarchisation se dégage de ce critère ?\n",
    "- Calculer les carrés de ces coefficients ; qu'observez-vous ?\n",
    "- Calculer la somme de ces carrés ; qu'observez-vous ?"
   ]
  },
  {
   "cell_type": "markdown",
   "metadata": {},
   "source": [
    "## Exercice 3 : application à une fonction jouet\n",
    "\n",
    "On considère la fonction $g$ définie par :\n",
    "$$\n",
    "g(X_1,X_2,X_3) = X_1 (X_2 - X_1) + X_3\n",
    "$$\n",
    "pour tout $X_1,X_2,X_3\\in\\mathbb{R}$. \n",
    "Les trois variables d'entrée sont supposées indépendante et suivre les lois gaussiennes spécifiées dans le tableau suivant.\n",
    "\n",
    "| Variable | Distribution |\n",
    "|---|---|\n",
    "| $X_1$ | Normale($\\mu_1=0.1$, $\\sigma_1 = 1$) |\n",
    "| $X_2$ | Normale($\\mu_2=1$, $\\sigma_2 = 2$) |\n",
    "| $X_3$ | Normale($\\mu_3=2$, $\\sigma_3 = 0.2$) |\n",
    "\n",
    "**Table 2.** Modèle probabiliste d'un modèle jouet.\n",
    "\n",
    "\n",
    "**Questions.**\n",
    "\n",
    "- Pour cette fonction, calculer les coefficients d'un modèle de régression linéaire au sens des moindres carrés.\n",
    "- Ce modèle de régression est-il de bonne qualité ?\n",
    "- Quels sont les indices SRC carrés de ce modèle ?"
   ]
  },
  {
   "cell_type": "markdown",
   "metadata": {},
   "source": [
    "## Exercice 4 : modèle de poutre avec distributions élargies\n",
    "\n",
    "On considère le cas de la déviation verticale de la poutre encastrée, dans lequel on modifie les paramètres des distributions marginales de $E$ et $F$. Les paramètres modifiés sont présentés dans la table ci-dessous.\n",
    "\n",
    "|Variable|  Distribution|\n",
    "| ------------- |-------------|\n",
    "|E| Beta(alpha = 0.9, beta = 2.2, a = $1.0\\times 10^7$, $b = 10.0\\times 10^7$) |\n",
    "|F| Lognormal($\\mu_F=3 \\times 10^4$, $\\sigma_F=20\\times 10^3$, shift=$15\\times 10^3$)|\n",
    "|L| Uniform(min=250.0, max= 260.0)|\n",
    "|I| Beta(alpha = 2.5, beta = 1.5, a = 310, b = 450)|\n",
    "\n",
    "**Table 3.** Un modèle probabiliste pour les lois marginales des variables E, F, L et I, avec un support étendu.\n",
    "\n",
    "**Questions.**\n",
    "\n",
    "- Calculer les paramètres du modèle de régression linéaire pour ce nouveau modèle. \n",
    "- Calculer le coefficient de prédictivité $R^2$. Comment a-t-il évolué par rapport à la situation précédente ? Pourquoi ? Que conclure ?"
   ]
  },
  {
   "cell_type": "markdown",
   "metadata": {},
   "source": [
    "## Exercice 5 : Intervalle de confiance des indices SRC carrés\n",
    "\n",
    "On considère le modèle de poutre initial. Déterminer un intervalle de confiance à 95% des indices SRC carrés.\n",
    "\n",
    "Pour cela, on peut procéder par _bootstrap_, c'est-à-dire par une méthode de ré-échantillonnage avec remise. Pour générer deux échantillons _bootstrap_ cohérents, on pourra utiliser le code suivant :\n",
    "\n",
    "```python\n",
    "indices = ot.BootstrapExperiment.GenerateSelection(sample_size, sample_size)\n",
    "sampleX_bootstrap, sampleY_bootstrap = sampleX[indices], sampleY[indices]\n",
    "```"
   ]
  },
  {
   "cell_type": "markdown",
   "metadata": {},
   "source": [
    "## Exercice 6 : Validation du modèle de régression linéaire\n",
    "\n",
    "Un statisticien scrupuleux se pose des questions sur la validation du modèle de régression linéaire. Premièrement, il indique que le coefficient $R^2$ peut être trompeur, car le plan d'expériences d'apprentissage a été utilisé. Dans ce cas, il peut arriver que le $R^2$ puisse être plus favorable qu'on ne s'y attend. Une alternative consisterait à évaluer le coefficient $R^2$ corrigé. Deuxièmement, il indique que la validation graphique de la distribution des résidus est discutable. En effet, la comparaison entre la densité de probabilité gaussienne et la densité de probabilité de la distribution des résidus estimée par lissage à noyau est plutôt qualitative. Pour répondre à ces interrogations, nous proposons les questions suivantes.\n",
    "\n",
    "**Questions**\n",
    "\n",
    "- Si besoin, définir le modèle probabiliste correspondant au modèle initial et non pas le modèle élargi défini dans l'exercice 4.\n",
    "- Générer un échantillon de validation indépendant de l'échantillon d'apprentissage. Utiliser une taille égale à 1000 pour l'échantillon de validation. Utiliser la classe `MetamodelValidation` et estimer le coefficient $Q^2$. Que peut-on conclure ?\n",
    "- Utiliser la fonction `DrawQQplot()` et dessiner le QQ-plot permettant de vérifier que la distribution des résidus est gaussienne."
   ]
  },
  {
   "cell_type": "code",
   "execution_count": null,
   "metadata": {},
   "outputs": [],
   "source": []
  }
 ],
 "metadata": {
  "kernelspec": {
   "display_name": "Python 3 (ipykernel)",
   "language": "python",
   "name": "python3"
  },
  "language_info": {
   "codemirror_mode": {
    "name": "ipython",
    "version": 3
   },
   "file_extension": ".py",
   "mimetype": "text/x-python",
   "name": "python",
   "nbconvert_exporter": "python",
   "pygments_lexer": "ipython3",
   "version": "3.13.1"
  }
 },
 "nbformat": 4,
 "nbformat_minor": 4
}
