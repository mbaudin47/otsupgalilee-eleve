{
 "cells": [
  {
   "cell_type": "markdown",
   "metadata": {},
   "source": [
    "# Analyse de sensibilité globale par regression - application au cas de la déviation verticale de la poutre\n"
   ]
  },
  {
   "cell_type": "markdown",
   "metadata": {},
   "source": [
    "## Déviation  verticale d'une poutre encastrée\n",
    "\n",
    "We consider a cantilever beam defined by its Young’s modulus $E$, its length $L$ and its section modulus $I$. One end is built in a wall and we apply a concentrated bending load $F$ at the other end of the beam, resulting in a vertical deviation $Y$.\n",
    "\n",
    "<img src=\"poutre.png\" width=\"200\">\n",
    "\n",
    "__Inputs__:  $\\left\\{ E, F, L, I \\right\\}$\n",
    "\n",
    "* $E$ : Young modulus (Pa)\n",
    "* $F$ : Loading (N),\n",
    "* $L$ : Length of beam (cm),\n",
    "* $I$ : Moment of inertia (cm^4).\n",
    "\n",
    "| Variable |  Distribution |\n",
    "|----------|---------------|\n",
    "|E| Beta(alpha = 0.9, beta = 2.2, $a = 2.5\\times 10^7$, $b = 5\\times 10^7$) |\n",
    "|F| Lognormal($\\mu_F = 3 \\times 10^4$, $\\sigma_F = 9\\times 10^3$, shift = $15\\times 10^3$)|\n",
    "|L| Uniform(min=250.0, max= 260.0)|\n",
    "|I| Beta(alpha = 2.5, beta = 1.5, a = 310, b = 450)|\n",
    "\n",
    "In the previous table $\\mu_F=E(F)$ and $\\sigma_F=\\sqrt{V(F)}$ are the mean and the standard deviation of $F$.\n",
    "\n",
    "The input variables are supposed to be independent.\n",
    "\n",
    "__Output__:\n",
    "\n",
    "The vertical displacement at free end of the cantilever beam is:\n",
    "$$\n",
    "Y  = \\dfrac{F\\, L^3}{3 \\, E \\, I}\n",
    "$$\n",
    "\n",
    "## On the SRC function\n",
    "\n",
    "The `ot.CorrelationAnalysis.SRC` function is a misnomer, as mentioned in the following issue:\n",
    "\n",
    "https://github.com/openturns/openturns/issues/1753\n",
    "\n",
    "Consider a linear model:\n",
    "$$\n",
    "Y = g(X) = \\beta_0 + \\sum_{i=1,2,\\ldots,p} \\beta_i X_i,\n",
    "$$\n",
    "where $\\beta_i$ are real parameters, for $i=1,2,\\ldots,p$.\n",
    "The importance factor of a linear model is : \n",
    "$$\n",
    "\\eta_i = \\frac{\\beta_i^2 \\mathbb{V}(X_i)}{\\mathbb{V}(Y)},\n",
    "$$\n",
    "for $i=1,2,\\ldots,p$.\n",
    "\n",
    "The standardized regression coefficient is \n",
    "$$\n",
    "\\textrm{SRC}_i = \\frac{\\beta_i \\sqrt{\\mathbb{V}(X_i)}}{\\sqrt{\\mathbb{V}(Y)}},\n",
    "$$\n",
    "for $i=1,2,\\ldots,p$.\n",
    "\n",
    "The importance factors are the squared SRC. \n",
    "\n",
    "In OpenTURNS v<=1.18,\n",
    "\n",
    "- `ot.CorrelationAnalysis_SignedSRC` returns the SRC coefficients,\n",
    "- `ot.CorrelationAnalysis.SRC` returns the importance factors. \n",
    "\n",
    "## Références\n",
    "\n",
    "- https://github.com/openturns/openturns/pull/904\n",
    "- http://openturns.github.io/openturns/latest/theory/data_analysis/pearson_coefficient.html"
   ]
  },
  {
   "cell_type": "markdown",
   "metadata": {},
   "source": [
    "# Model definition"
   ]
  },
  {
   "cell_type": "code",
   "execution_count": 1,
   "metadata": {},
   "outputs": [],
   "source": [
    "import openturns as ot\n",
    "import openturns.viewer as otv\n",
    "import numpy as np"
   ]
  },
  {
   "cell_type": "code",
   "execution_count": 2,
   "metadata": {},
   "outputs": [],
   "source": [
    "dist_E = ot.Beta(0.9, 2.2, 2.8e7, 4.8e7)\n",
    "dist_E.setDescription([\"E\"])\n",
    "F_para = ot.LogNormalMuSigma(3.0e4, 9.0e3, 15.0e3)  # in N\n",
    "dist_F = ot.ParametrizedDistribution(F_para)\n",
    "dist_F.setDescription([\"F\"])\n",
    "dist_L = ot.Uniform(250.0, 260.0)  # in cm\n",
    "dist_L.setDescription([\"L\"])\n",
    "dist_I = ot.Beta(2.5, 1.5, 310.0, 450.0)  # in cm^4\n",
    "dist_I.setDescription([\"I\"])\n",
    "\n",
    "X = ot.ComposedDistribution([dist_E, dist_F, dist_L, dist_I])"
   ]
  },
  {
   "cell_type": "code",
   "execution_count": 3,
   "metadata": {},
   "outputs": [],
   "source": [
    "g = ot.SymbolicFunction([\"E\", \"F\", \"L\", \"I\"], [\"F * L^3 /  (3 * E * I)\"])\n",
    "g.setOutputDescription([\"Y (cm)\"])"
   ]
  },
  {
   "cell_type": "markdown",
   "metadata": {},
   "source": [
    "Pour pouvoir exploiter au mieux les simulations, nous équipons la fonction d'un méchanisme d'historique."
   ]
  },
  {
   "cell_type": "code",
   "execution_count": 4,
   "metadata": {},
   "outputs": [],
   "source": [
    "g = ot.MemoizeFunction(g)"
   ]
  },
  {
   "cell_type": "markdown",
   "metadata": {},
   "source": [
    "Enfin, nous définissons le vecteur aléatoire de sortie."
   ]
  },
  {
   "cell_type": "code",
   "execution_count": 5,
   "metadata": {},
   "outputs": [],
   "source": [
    "XRV = ot.RandomVector(X)\n",
    "Y = ot.CompositeRandomVector(g, XRV)\n",
    "Y.setDescription([\"Y (cm)\"])"
   ]
  },
  {
   "cell_type": "markdown",
   "metadata": {},
   "source": [
    "## Régression linéaire avec LinearLeastSquares\n",
    "\n",
    "Nous allons utiliser la classe `LinearLeastSquares` pour créer la régression linéaire. Puis nous allons valider ce métamodèle avec `MetaModelValidation`. C'est une étape préparatoire essentielle pour valider la qualité du modèle linéaire. Puis nous allons estimer les indices SRC. \n",
    "\n",
    "On commence par créer un plan d'expériences de type Monte-Carlo simple. "
   ]
  },
  {
   "cell_type": "code",
   "execution_count": 6,
   "metadata": {},
   "outputs": [],
   "source": [
    "n = 1000\n",
    "sampleX = X.getSample(n)\n",
    "sampleY = g(sampleX)"
   ]
  },
  {
   "cell_type": "code",
   "execution_count": 7,
   "metadata": {},
   "outputs": [],
   "source": [
    "myLeastSquares = ot.LinearLeastSquares(sampleX, sampleY)"
   ]
  },
  {
   "cell_type": "markdown",
   "metadata": {},
   "source": [
    "La méthode `run` permet d'estimer les coefficients du modèle. "
   ]
  },
  {
   "cell_type": "code",
   "execution_count": 8,
   "metadata": {},
   "outputs": [
    {
     "data": {
      "text/html": [
       "<p>class=LinearEvaluation name=Unnamed center=[0,0,0,0] constant=[0.000371894] linear=[[ -3.53343e-07 ]<br>\n",
       " [  0.000422248 ]<br>\n",
       " [  0.0985606   ]<br>\n",
       " [ -0.0331838   ]]</p>"
      ],
      "text/plain": [
       "class=Function name=Unnamed implementation=class=FunctionImplementation name=Unnamed description=[x0,x1,x2,x3,y0] evaluationImplementation=class=LinearEvaluation name=Unnamed center=class=Point name=Unnamed dimension=4 values=[0,0,0,0] constant=class=Point name=Unnamed dimension=1 values=[0.000371894] linear=class=Matrix implementation=class=MatrixImplementation name=Unnamed rows=4 columns=1 values=[-3.53343e-07,0.000422248,0.0985606,-0.0331838] gradientImplementation=class=ConstantGradient name=Unnamed constant=class=Matrix implementation=class=MatrixImplementation name=Unnamed rows=4 columns=1 values=[-3.53343e-07,0.000422248,0.0985606,-0.0331838] hessianImplementation=class=ConstantHessian name=Unnamed constant=class=SymmetricTensor implementation=class=TensorImplementation name=Unnamed rows=4 columns=4 sheets=1 values=[0,0,0,0,0,0,0,0,0,0,0,0,0,0,0,0]"
      ]
     },
     "execution_count": 8,
     "metadata": {},
     "output_type": "execute_result"
    }
   ],
   "source": [
    "myLeastSquares.run()\n",
    "responseSurface = myLeastSquares.getMetaModel()\n",
    "responseSurface"
   ]
  },
  {
   "cell_type": "markdown",
   "metadata": {},
   "source": [
    "La variable `responseSurface` est une instance de la classe `LinearEvaluation`, associée à une constante et une partie linéaire. "
   ]
  },
  {
   "cell_type": "code",
   "execution_count": 9,
   "metadata": {},
   "outputs": [],
   "source": [
    "val = ot.MetaModelValidation(sampleX, sampleY, responseSurface)"
   ]
  },
  {
   "cell_type": "markdown",
   "metadata": {},
   "source": [
    "Puisque nous utilisons le même plan d'expériences pour l'apprentissage et la validation, nous obtenons le coefficient R2 (si nous avions utilisé un plan différent pour la validation, ce coefficient se nommerait Q2). "
   ]
  },
  {
   "cell_type": "code",
   "execution_count": 10,
   "metadata": {},
   "outputs": [
    {
     "data": {
      "text/plain": [
       "0.9761937158394096"
      ]
     },
     "execution_count": 10,
     "metadata": {},
     "output_type": "execute_result"
    }
   ],
   "source": [
    "r2 = val.computePredictivityFactor()[0]\n",
    "r2"
   ]
  },
  {
   "cell_type": "code",
   "execution_count": 11,
   "metadata": {},
   "outputs": [
    {
     "data": {
      "image/png": "[encoded data removed]",
      "text/plain": [
       "<Figure size 288x216 with 1 Axes>"
      ]
     },
     "metadata": {
      "needs_background": "light"
     },
     "output_type": "display_data"
    }
   ],
   "source": [
    "graph = val.drawValidation()\n",
    "graph.setTitle(\"n=%d, R2=%.2f%%\" % (n, r2 * 100))\n",
    "view = otv.View(graph, figure_kw={\"figsize\": (4.0, 3.0)})"
   ]
  },
  {
   "cell_type": "markdown",
   "metadata": {},
   "source": [
    "On observe que le modèle de régression linéaire est de bonne qualité, puisque le R2 est supérieur à 95%. \n",
    "\n",
    "On pourrait compléter l'analyse en utilisant un second plan pour la validation, mais il s'avère que cela n'est pas nécessaire dans notre cas particulier. "
   ]
  },
  {
   "cell_type": "code",
   "execution_count": 12,
   "metadata": {},
   "outputs": [
    {
     "data": {
      "text/html": [
       "<p>[0.122931,0.763083,0.00990243,0.0441961]</p>"
      ],
      "text/plain": [
       "class=Point name=Unnamed dimension=4 values=[0.122931,0.763083,0.00990243,0.0441961]"
      ]
     },
     "execution_count": 12,
     "metadata": {},
     "output_type": "execute_result"
    }
   ],
   "source": [
    "SRCindices = ot.CorrelationAnalysis.SRC(sampleX, sampleY)\n",
    "SRCindices"
   ]
  },
  {
   "cell_type": "markdown",
   "metadata": {},
   "source": [
    "On observe que la somme des indices SRC retournée par `SRC` n'est pas égale à 1. "
   ]
  },
  {
   "cell_type": "code",
   "execution_count": 13,
   "metadata": {},
   "outputs": [
    {
     "data": {
      "text/plain": [
       "0.9401120609934014"
      ]
     },
     "execution_count": 13,
     "metadata": {},
     "output_type": "execute_result"
    }
   ],
   "source": [
    "SRCindices.norm1()"
   ]
  },
  {
   "cell_type": "markdown",
   "metadata": {},
   "source": [
    "Cet écart est attendu car il est associé d'une part au fait que le modèle n'est pas parfaitement linéaire et d'autre part à l'erreur d'estimation des indices par la méthode d'échantillonnage."
   ]
  },
  {
   "cell_type": "code",
   "execution_count": 14,
   "metadata": {},
   "outputs": [
    {
     "data": {
      "image/png": "[encoded data removed]",
      "text/plain": [
       "<Figure size 288x216 with 1 Axes>"
      ]
     },
     "metadata": {
      "needs_background": "light"
     },
     "output_type": "display_data"
    }
   ],
   "source": [
    "input_names = g.getInputDescription()\n",
    "graph = ot.SobolIndicesAlgorithm.DrawCorrelationCoefficients(\n",
    "    SRCindices, input_names, \"SRC coefficients\"\n",
    ")\n",
    "graph.setYTitle(\"SRC indice\")\n",
    "view = otv.View(graph, figure_kw={\"figsize\": (4.0, 3.0)})"
   ]
  },
  {
   "cell_type": "markdown",
   "metadata": {},
   "source": [
    "Nous pouvons comparer les résultats que nous avions obtenu par la méthode du développement de Taylor. \n",
    "\n",
    "| Méthode | E | F | L | I |\n",
    "|---|---|---|---|---|\n",
    "| Taylor | 0.1535 | 0.7856 | 0.0101 | 0.0508 |\n",
    "| Regression | 0.1307 | 0.8117 | 0.0105 | 0.0470 |\n",
    "\n",
    "On peut remarquer que, dans ce cas particulier, les deux méthodes donnent des résultats très similaires. En effet, \n",
    "- la méthode fondée sur le développement de Taylor fait l'hypothèse locale d'un comportement linéaire au voisinage du point moyen $E(X)$,\n",
    "- la méthode fondée sur la regression linéaire fait l'hypothèse globale d'un comportement linéaire sur le domaine du vecteur aléatoire $X$.\n",
    "\n",
    "Puisque, dans notre application, la combinaison particulière des lois marginales et de la fonction $g$ mènent à un comportement approximativement linéaire, les deux méthodes produisent des résultats similaires."
   ]
  },
  {
   "cell_type": "markdown",
   "metadata": {},
   "source": [
    "## Exercice 1 : analyse graphique sur le cas poutre\n",
    "\n",
    "L'objectif de cet exercice est d'observer l'évolution de Y en fonction de chaque marginale $X_i$. \n",
    "\n",
    "- Pour `i=0,...,3`, utiliser la classe `Cloud` pour dessiner l'échantillon de points avec `sampleX[:,i]` en abscisse et `sampleY` en ordonnées.\n",
    "- Observez le graphique. Quelle variable d'entrée $X_i$ semble avoir le plus d'impact sur la variabilité de la variable de sortie $Y$ ? Quelle variable d'entrée semble n'avoir aucun impact sur la variabilité de $Y$ ?"
   ]
  },
  {
   "cell_type": "markdown",
   "metadata": {},
   "source": [
    "## Exercice 2 : le coefficient de corrélation de Pearson\n",
    "\n",
    "En complément des indices SRC, on utilise parfois les coefficients de corrélation de Pearson pour estimer la sensibilité :\n",
    "$$\n",
    "Corr(Y,X_i) = \\frac{Cov(Y,X_i)}{\\sqrt{V(Y)}\\sqrt{V(X_i)}}\n",
    "$$\n",
    "pour $i=1,2,\\ldots,p$.\n",
    "En effet, ces coefficients permettent non seulement de quantifier la sensibilité, mais également d'obtenir le sens de variation de la sortie relativement à un changement dans chaque entrée. \n",
    "On utilise dans ce cas l'estimateur :\n",
    "$$\n",
    "\\rho(Y,X_i) = \\frac{\\sum_{j=1}^n \\left(y^{(j)}-\\bar{y}\\right)\\left(x^{(j)}_i-\\bar{x}_i\\right)}{\\sqrt{\\sum_{j=1}^n \\left(y^{(j)}-\\bar{y}\\right)^2}\\sqrt{\\sum_{j=1}^n \\left(x^{(j)}_i-\\bar{x_i}\\right)^2}}\n",
    "$$\n",
    "pour $i=1,2,\\ldots,p$, où :\n",
    "$$\n",
    "\\bar{x}_i = \\frac{1}{n} \\sum_{j=1}^n x^{(j)}_i.\n",
    "$$\n",
    "Pour hiérarchiser les variables d'entrée selon ce critère, c'est la valeur absolue du coefficient de Pearson dont on tient compte. \n",
    "\n",
    "L'objectif de cet exercice est de calculer les coefficients de corrélation linéaire de Pearson pour estimer la sensibilité de la sortie.\n",
    "- Créer la variable `sampleXY` contenant un `Sample` de taille $n$ et de dimension 5. Remplir les 4 premières colonnes avec `sampleX` et la dernière colonne par `sampleY`.\n",
    "- Utiliser la méthode `computePearsonCorrelation` pour estimer les coefficients de corrélation de Pearson. Quelle hiérarchisation se dégage de ce critère ?\n",
    "- Calculer les carrés de ces coefficients ; qu'observez-vous ?\n",
    "- Calculer la somme de ces carrés ; qu'observez-vous ?"
   ]
  },
  {
   "cell_type": "markdown",
   "metadata": {},
   "source": [
    "## Exercice 3 : application à une fonction jouet\n",
    "\n",
    "On considère la fonction $g$ définie par :\n",
    "$$\n",
    "g(X_1,X_2,X_3) = X_1 (X_2-X_1)+X_3\n",
    "$$\n",
    "pour tout $X_1,X_2,X_3\\in\\mathbb{R}$. \n",
    "Les trois variables d'entrée sont supposées indépendante et suivre les lois gaussiennes spécifiées dans le tableau suivant.\n",
    "\n",
    "| Variable | Distribution |\n",
    "|---|---|\n",
    "| $X_1$ | Normale($\\mu_1=0.1$,$\\sigma_1 = 1$) |\n",
    "| $X_2$ | Normale($\\mu_2=1$,$\\sigma_2 = 2$) |\n",
    "| $X_3$ | Normale($\\mu_3=2$,$\\sigma_3 = 0.2$) |\n",
    "\n",
    "*Questions*\n",
    "- Pour cette fonction, calculers les coefficients d'un modèle de régression linéaire au sens des moindres carrés.\n",
    "- Ce modèle de régression est-il de bonne qualité ?\n",
    "- Quels sont les indices SRC de ce modèle ?"
   ]
  },
  {
   "cell_type": "markdown",
   "metadata": {},
   "source": [
    "## Exercice 4 : modèle de poutre avec distributions élargies\n",
    "\n",
    "On considère le cas de la déviation verticale de la poutre encastrée, dans lequel on modifie les paramètres des distributions marginales de $E$ et $F$. Les paramètres modifiés sont présentés dans la table ci-dessous.\n",
    "\n",
    "|Variable|  Distribution|\n",
    "| ------------- |-------------|\n",
    "|E| Beta(alpha = 0.9, beta = 2.2, a = $1.0\\times 10^7$, $b = 10.0\\times 10^7$) |\n",
    "|F| Lognormal($\\mu_F=3 \\times 10^4$, $\\sigma_F=20\\times 10^3$, shift=$15\\times 10^3$)|\n",
    "|L| Uniform(min=250.0, max= 260.0)|\n",
    "|I| Beta(alpha = 2.5, beta = 1.5, a = 310, b = 450)|\n",
    "\n",
    "- Calculer les paramètres du modèle de régression linéaire pour ce nouveau modèle. \n",
    "- Calculer le coefficient de prédictivité $R^2$. Comment a-t-il évolué par rapport à la situation précédente ? Pourquoi ? Que conclure ?"
   ]
  },
  {
   "cell_type": "markdown",
   "metadata": {},
   "source": [
    "## Exercice 5 : Intervalle de confiance des indices SRC\n",
    "\n",
    "On considère le modèle de poutre initial. Déterminer un intervalle de confiance à 95% des indices SRC.\n",
    "\n",
    "Pour cela, on peut procéder par bootstrap. Pour générer deux échantillons bootstrap cohérents, on pourra utiliser le code suivant :\n",
    "\n",
    "```\n",
    "indices = ot.BootstrapExperiment.GenerateSelection(sample_size, sample_size)\n",
    "sampleX_bootstrap, sampleY_bootstrap = sampleX[indices], sampleY[indices]\n",
    "```"
   ]
  }
 ],
 "metadata": {
  "kernelspec": {
   "display_name": "Python 3 (ipykernel)",
   "language": "python",
   "name": "python3"
  },
  "language_info": {
   "codemirror_mode": {
    "name": "ipython",
    "version": 3
   },
   "file_extension": ".py",
   "mimetype": "text/x-python",
   "name": "python",
   "nbconvert_exporter": "python",
   "pygments_lexer": "ipython3",
   "version": "3.9.0"
  }
 },
 "nbformat": 4,
 "nbformat_minor": 2
}
