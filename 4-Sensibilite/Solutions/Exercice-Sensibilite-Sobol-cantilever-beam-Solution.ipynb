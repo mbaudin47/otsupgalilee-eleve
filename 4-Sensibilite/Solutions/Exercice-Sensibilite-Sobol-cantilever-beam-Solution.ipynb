{
 "cells": [
  {
   "cell_type": "markdown",
   "metadata": {},
   "source": [
    "# Analyse de sensibilité globale avec les indices de Sobol' - application au cas de la déviation verticale de la poutre\n"
   ]
  },
  {
   "cell_type": "markdown",
   "metadata": {},
   "source": [
    "# Model definition"
   ]
  },
  {
   "cell_type": "code",
   "execution_count": 1,
   "metadata": {},
   "outputs": [],
   "source": [
    "import openturns as ot\n",
    "import numpy as np\n",
    "import openturns.viewer as otv\n",
    "\n",
    "ot.Log.Show(ot.Log.NONE)\n",
    "\n",
    "ot.RandomGenerator.SetSeed(1976)\n",
    "\n",
    "dist_E = ot.Beta(0.9, 2.2, 2.8e7, 4.8e7)\n",
    "dist_E.setDescription([\"E\"])\n",
    "F_para = ot.LogNormalMuSigma(3.0e4, 9.0e3, 15.0e3)  # in N\n",
    "dist_F = ot.ParametrizedDistribution(F_para)\n",
    "dist_F.setDescription([\"F\"])\n",
    "dist_L = ot.Uniform(250.0, 260.0)  # in cm\n",
    "dist_L.setDescription([\"L\"])\n",
    "dist_I = ot.Beta(2.5, 1.5, 310.0, 450.0)  # in cm^4\n",
    "dist_I.setDescription([\"I\"])\n",
    "\n",
    "X = ot.ComposedDistribution([dist_E, dist_F, dist_L, dist_I])\n",
    "\n",
    "g = ot.SymbolicFunction([\"E\", \"F\", \"L\", \"I\"], [\"F* L^3 /  (3 * E * I)\"])\n",
    "g.setOutputDescription([\"Y (cm)\"])"
   ]
  },
  {
   "cell_type": "markdown",
   "metadata": {},
   "source": [
    "Pour pouvoir exploiter au mieux les simulations, nous équipons la fonction d'un méchanisme d'historique."
   ]
  },
  {
   "cell_type": "code",
   "execution_count": 2,
   "metadata": {},
   "outputs": [],
   "source": [
    "g = ot.MemoizeFunction(g)"
   ]
  },
  {
   "cell_type": "markdown",
   "metadata": {},
   "source": [
    "Enfin, nous définissons le vecteur aléatoire de sortie."
   ]
  },
  {
   "cell_type": "code",
   "execution_count": 3,
   "metadata": {},
   "outputs": [],
   "source": [
    "XRV = ot.RandomVector(X)\n",
    "Y = ot.CompositeRandomVector(g, XRV)\n",
    "Y.setDescription([\"Y (cm)\"])"
   ]
  },
  {
   "cell_type": "markdown",
   "metadata": {},
   "source": [
    "## Estimer les indices de Sobol' avec un budget fixé"
   ]
  },
  {
   "cell_type": "markdown",
   "metadata": {},
   "source": [
    "Le composant d'estimation des indices de Sobol' est équipé d'un système qui permet d'évaluer la fonction en dehors d'OpenTURNS. Pour l'utiliser, on créée un type de plans d'expériences spécial en utilisant la classe `SobolIndicesExperiment`. La méthode `generate` permet de créer le plan d'expériences associé à une taille fixée par l'utilisateur. "
   ]
  },
  {
   "cell_type": "code",
   "execution_count": 4,
   "metadata": {},
   "outputs": [],
   "source": [
    "size = 500\n",
    "computeSecondOrder = False\n",
    "sie = ot.SobolIndicesExperiment(X, size, computeSecondOrder)\n",
    "inputDesign = sie.generate()"
   ]
  },
  {
   "cell_type": "markdown",
   "metadata": {},
   "source": [
    "La taille `size` est la taille du plan Monte-Carlo de base, utilisé pour obtenir un estimateur. Or 10 estimations sont requises dans ce cas particulier :\n",
    "- une estimation de la moyenne de Y c'est à dire $E(Y)$ et une estimation de la variance de Y c'est à dire $V(Y)$\n",
    "- une estimation des quatre indices du premier ordre $S_E$, $S_F$, $S_L$, $S_I$,\n",
    "- une estimation des quatre indices totaux $T_E$, $T_F$, $T_L$, $T_I$.\n",
    "\n",
    "Pour estimer ces quantités, la méthode pick-freeze requiert \n",
    "* un plan d'expériences de type \"A\",\n",
    "* un plan d'expériences de type \"B\",\n",
    "* des plans d'expériences de type \"E\" dont le nombre est égal à la dimension du vecteur d'entrée.\n",
    "\n",
    "Il y a donc ici 4 plans d'expériences de type \"E\".\n",
    "\n",
    "C'est pour cette raison que la taille du plan d'expérience permettant d'estimer toutes les quantités requises est égal à (1+1+4) * 500 = 3000."
   ]
  },
  {
   "cell_type": "code",
   "execution_count": 5,
   "metadata": {},
   "outputs": [
    {
     "data": {
      "text/plain": [
       "3000"
      ]
     },
     "execution_count": 5,
     "metadata": {},
     "output_type": "execute_result"
    }
   ],
   "source": [
    "inputDesign.getSize()"
   ]
  },
  {
   "cell_type": "code",
   "execution_count": 6,
   "metadata": {},
   "outputs": [],
   "source": [
    "outputDesign = g(inputDesign)"
   ]
  },
  {
   "cell_type": "markdown",
   "metadata": {},
   "source": [
    "La librairie dispose de quatre estimateurs des indices de Sobol'. Ici, nous proposons d'utiliser l'estimateur de Saltelli. "
   ]
  },
  {
   "cell_type": "code",
   "execution_count": 7,
   "metadata": {},
   "outputs": [],
   "source": [
    "sensitivityAnalysis = ot.SaltelliSensitivityAlgorithm(inputDesign, outputDesign, size)"
   ]
  },
  {
   "cell_type": "markdown",
   "metadata": {},
   "source": [
    "On souhaite obtenir la distribution asymptotique."
   ]
  },
  {
   "cell_type": "code",
   "execution_count": 8,
   "metadata": {},
   "outputs": [],
   "source": [
    "sensitivityAnalysis.setUseAsymptoticDistribution(True)"
   ]
  },
  {
   "cell_type": "markdown",
   "metadata": {},
   "source": [
    "Les méthodes `getFirstOrderIndices` et `getTotalOrderIndices` permettent de récupérer les indices du premier ordre et totaux."
   ]
  },
  {
   "cell_type": "code",
   "execution_count": 9,
   "metadata": {},
   "outputs": [
    {
     "data": {
      "text/html": [
       "<p>[0.083941,0.840896,-0.0533601,0.00705359]</p>"
      ],
      "text/plain": [
       "class=Point name=Unnamed dimension=4 values=[0.083941,0.840896,-0.0533601,0.00705359]"
      ]
     },
     "execution_count": 9,
     "metadata": {},
     "output_type": "execute_result"
    }
   ],
   "source": [
    "firstOrderIndices = sensitivityAnalysis.getFirstOrderIndices()\n",
    "firstOrderIndices"
   ]
  },
  {
   "cell_type": "code",
   "execution_count": 10,
   "metadata": {},
   "outputs": [
    {
     "data": {
      "text/html": [
       "<p>[0.189603,0.809747,0.00271188,0.0870348]</p>"
      ],
      "text/plain": [
       "class=Point name=Unnamed dimension=4 values=[0.189603,0.809747,0.00271188,0.0870348]"
      ]
     },
     "execution_count": 10,
     "metadata": {},
     "output_type": "execute_result"
    }
   ],
   "source": [
    "totalOrderIndices = sensitivityAnalysis.getTotalOrderIndices()\n",
    "totalOrderIndices"
   ]
  },
  {
   "cell_type": "markdown",
   "metadata": {},
   "source": [
    "La méthode `draw` propose une méthode de dessin des indices de Sobol' qui permet d'observer à la fois les indices du premier ordre, les indices totaux et les intervalles de confiance."
   ]
  },
  {
   "cell_type": "code",
   "execution_count": 11,
   "metadata": {
    "scrolled": true
   },
   "outputs": [
    {
     "data": {
      "image/png": "[encoded data removed]",
      "text/plain": [
       "<Figure size 288x216 with 1 Axes>"
      ]
     },
     "metadata": {
      "needs_background": "light"
     },
     "output_type": "display_data"
    }
   ],
   "source": [
    "graph = sensitivityAnalysis.draw()\n",
    "view = otv.View(graph, figure_kw={\"figsize\": (4.0, 3.0)})"
   ]
  },
  {
   "cell_type": "markdown",
   "metadata": {},
   "source": [
    "Considérons en particulier la variable F. On observe que l'estimation de l'indice de sensibilité du premier ordre est légèrement supérieur à l'estimation de l'indice total. On sait que les valeurs exactes sont toujours de telle sorte que l'indice total est supérieur ou égal à l'indice du premier ordre. C'est donc à cause de l'erreur d'estimation que l'on obtient un ordre inverse. C'est la marque que \n",
    "- la taille de l'échantillon n'est pas suffisamment grande,\n",
    "- ou l'indice du premier ordre est égal à l'indice total car il n'y a pas d'interaction.\n",
    "\n",
    "Dans ce cas particulier, on observe que l'intervalle de confiance à 95% indique que l'estimation de l'indice du premier ordre de F est particulièrement large, approximativement entre 0.6 et 1.1. Dans ce cas particulier, il est pertinent d'augmenter la taille de l'échantillon."
   ]
  },
  {
   "cell_type": "markdown",
   "metadata": {},
   "source": [
    "La méthode `DrawSobolIndices` permet de réaliser un graphique similaire lorsque les indices sont déjà disponibles."
   ]
  },
  {
   "cell_type": "code",
   "execution_count": 12,
   "metadata": {
    "scrolled": true
   },
   "outputs": [
    {
     "data": {
      "image/png": "[encoded data removed]",
      "text/plain": [
       "<Figure size 288x216 with 1 Axes>"
      ]
     },
     "metadata": {
      "needs_background": "light"
     },
     "output_type": "display_data"
    }
   ],
   "source": [
    "inputDescription = X.getDescription()\n",
    "graph = ot.SaltelliSensitivityAlgorithm.DrawSobolIndices(\n",
    "    inputDescription, firstOrderIndices, totalOrderIndices\n",
    ")\n",
    "view = otv.View(graph, figure_kw={\"figsize\": (4.0, 3.0)})"
   ]
  },
  {
   "cell_type": "markdown",
   "metadata": {},
   "source": [
    "La méthode `getFirstOrderIndicesDistribution` retourne la distribution des indices de Sobol'. Elle peut être de deux types différents.\n",
    "- Par défaut, la distribution des indices de Sobol' est estimée par bootstrap. Dans ce cas, la valeur de retour de `getFirstOrderIndicesDistribution` est de type `KernelMixture`, c'est à dire fondée sur une méthode d'estimation à noyau.\n",
    "- Si on utilise la méthode `setUseAsymptoticDistribution`, alors on peut obtenir la distribution asymptotique fondée sur la delta méthode. Dans ce cas, la valeur de retour de `getFirstOrderIndicesDistribution` est de type `Normal`."
   ]
  },
  {
   "cell_type": "code",
   "execution_count": 13,
   "metadata": {},
   "outputs": [
    {
     "data": {
      "text/html": [
       "<p>Normal(mu = [0.083941,0.840896,-0.0533601,0.00705359], sigma = [0.0461918,0.149686,0.0540539,0.0517245], R = [[ 1 0 0 0 ]<br>\n",
       " [ 0 1 0 0 ]<br>\n",
       " [ 0 0 1 0 ]<br>\n",
       " [ 0 0 0 1 ]])</p>"
      ],
      "text/plain": [
       "class=Normal name=Normal dimension=4 mean=class=Point name=Unnamed dimension=4 values=[0.083941,0.840896,-0.0533601,0.00705359] sigma=class=Point name=Unnamed dimension=4 values=[0.0461918,0.149686,0.0540539,0.0517245] correlationMatrix=class=CorrelationMatrix dimension=4 implementation=class=MatrixImplementation name=Unnamed rows=4 columns=4 values=[1,0,0,0,0,1,0,0,0,0,1,0,0,0,0,1]"
      ]
     },
     "execution_count": 13,
     "metadata": {},
     "output_type": "execute_result"
    }
   ],
   "source": [
    "fo_dist = sensitivityAnalysis.getFirstOrderIndicesDistribution()\n",
    "fo_dist"
   ]
  },
  {
   "cell_type": "code",
   "execution_count": 14,
   "metadata": {},
   "outputs": [
    {
     "data": {
      "image/png": "[encoded data removed]",
      "text/plain": [
       "<Figure size 288x216 with 1 Axes>"
      ]
     },
     "metadata": {
      "needs_background": "light"
     },
     "output_type": "display_data"
    }
   ],
   "source": [
    "fo_SX0 = fo_dist.getMarginal(0)\n",
    "graph = fo_SX0.drawPDF()\n",
    "graph.setXTitle(\"S\" + inputDescription[0])\n",
    "graph.setTitle(\"First order Sobol' indice\")\n",
    "graph.setLegends([\"\"])\n",
    "view = otv.View(graph, figure_kw={\"figsize\": (4.0, 3.0)})"
   ]
  },
  {
   "cell_type": "markdown",
   "metadata": {},
   "source": [
    "## Estimer les indices de Sobol' avec un algorithme incrémental\n",
    "\n",
    "La classe `SobolSimulationAlgorithm` permet d'estimer les indices de Sobol' à l'aide d'un algorithme incrémental. L'objectif principal de cette classe est de pouvoir configurer la précision d'estimation de l'indice de Sobol' à l'aide d'un intervalle de confiance dont le niveau de confiance `alpha` et la largeur `epsilon` sont fixés par l'utilisateur. Ainsi, les simulations sont réalisées par bloc, ce qui garantit à la fois une performance maximale sur les supercalculateurs et un nombre minimal de blocs évalués. "
   ]
  },
  {
   "cell_type": "code",
   "execution_count": 15,
   "metadata": {},
   "outputs": [
    {
     "name": "stdout",
     "output_type": "stream",
     "text": [
      "First order = [0.161264,0.897391,0.0109408,0.0723322]\n",
      "Total order = [0.143647,0.806234,0.00990204,0.0612972]\n"
     ]
    }
   ],
   "source": [
    "alpha = 0.05  # i.e. 95% confidence interval\n",
    "epsilon = 0.2  # Confidence interval length\n",
    "blocksize = 50  # size of Sobol experiment at each iteration\n",
    "batchsize = 16  # number of points evaluated simultaneously\n",
    "maximumOuterSampling = 500  # number of outer iterations of the algorithm\n",
    "\n",
    "estimator = ot.SaltelliSensitivityAlgorithm()\n",
    "estimator.setUseAsymptoticDistribution(True)\n",
    "algo = ot.SobolSimulationAlgorithm(X, g, estimator)\n",
    "algo.setMaximumOuterSampling(maximumOuterSampling)  # number of iterations\n",
    "algo.setBlockSize(blocksize)\n",
    "algo.setBatchSize(batchsize)\n",
    "algo.setIndexQuantileLevel(alpha)  # alpha\n",
    "algo.setIndexQuantileEpsilon(epsilon)  # epsilon\n",
    "algo.run()\n",
    "\n",
    "result = algo.getResult()\n",
    "fo = result.getFirstOrderIndicesEstimate()\n",
    "to = result.getTotalOrderIndicesEstimate()\n",
    "print(\"First order = %s\" % (str(fo)))\n",
    "print(\"Total order = %s\" % (str(to)))"
   ]
  },
  {
   "cell_type": "code",
   "execution_count": 16,
   "metadata": {},
   "outputs": [
    {
     "name": "stdout",
     "output_type": "stream",
     "text": [
      "outerSampling =  210\n"
     ]
    }
   ],
   "source": [
    "outerSampling = result.getOuterSampling()\n",
    "print(\"outerSampling = \", outerSampling)\n",
    "if outerSampling == maximumOuterSampling:\n",
    "    print(\"Attention : le nombre maximum d'itérations externes est atteint!\")"
   ]
  },
  {
   "cell_type": "code",
   "execution_count": 17,
   "metadata": {},
   "outputs": [
    {
     "data": {
      "image/png": "[encoded data removed]",
      "text/plain": [
       "<Figure size 288x216 with 1 Axes>"
      ]
     },
     "metadata": {
      "needs_background": "light"
     },
     "output_type": "display_data"
    }
   ],
   "source": [
    "graph = result.draw()\n",
    "view = otv.View(graph, figure_kw={\"figsize\": (4.0, 3.0)})"
   ]
  },
  {
   "cell_type": "code",
   "execution_count": 18,
   "metadata": {},
   "outputs": [
    {
     "data": {
      "image/png": "[encoded data removed]",
      "text/plain": [
       "class=Graph name=pdf as a function of E implementation=class=GraphImplementation name=pdf as a function of E title=S0 xTitle=S0 yTitle=PDF axes=ON grid=ON legendposition=topright legendFontSize=1 drawables=[class=Drawable name=Unnamed implementation=class=Curve name=Unnamed derived from class=DrawableImplementation name=Unnamed legend=E PDF data=class=Sample name=Unnamed implementation=class=SampleImplementation name=Unnamed size=129 dimension=2 data=[[0.101387,0.0235758],[0.102323,0.0292549],[0.103258,0.0361788],[0.104194,0.0445896],[0.105129,0.0547693],[0.106065,0.0670446],[0.107,0.0817928],[0.107936,0.0994467],[0.108872,0.120501],[0.109807,0.145516],[0.110743,0.175129],[0.111678,0.210053],[0.112614,0.251087],[0.11355,0.299118],[0.114485,0.355128],[0.115421,0.420196],[0.116356,0.495498],[0.117292,0.582312],[0.118227,0.682015],[0.119163,0.796078],[0.120099,0.926066],[0.121034,1.07362],[0.12197,1.24047],[0.122905,1.42838],[0.123841,1.63917],[0.124776,1.87469],[0.125712,2.13678],[0.126648,2.42724],[0.127583,2.74783],[0.128519,3.10021],[0.129454,3.48591],[0.13039,3.90629],[0.131325,4.36252],[0.132261,4.85551],[0.133197,5.38586],[0.134132,5.95388],[0.135068,6.55946],[0.136003,7.20213],[0.136939,7.88092],[0.137875,8.59443],[0.13881,9.34074],[0.139746,10.1174],[0.140681,10.9215],[0.141617,11.7494],[0.142552,12.5973],[0.143488,13.4605],[0.144424,14.334],[0.145359,15.2125],[0.146295,16.09],[0.14723,16.9603],[0.148166,17.8171],[0.149101,18.6537],[0.150037,19.4633],[0.150973,20.2391],[0.151908,20.9744],[0.152844,21.6627],[0.153779,22.2977],[0.154715,22.8734],[0.15565,23.3843],[0.156586,23.8256],[0.157522,24.1928],[0.158457,24.4823],[0.159393,24.6912],[0.160328,24.8174],[0.161264,24.8596],[0.1622,24.8174],[0.163135,24.6912],[0.164071,24.4823],[0.165006,24.1928],[0.165942,23.8256],[0.166877,23.3843],[0.167813,22.8734],[0.168749,22.2977],[0.169684,21.6627],[0.17062,20.9744],[0.171555,20.2391],[0.172491,19.4633],[0.173426,18.6537],[0.174362,17.8171],[0.175298,16.9603],[0.176233,16.09],[0.177169,15.2125],[0.178104,14.334],[0.17904,13.4605],[0.179975,12.5973],[0.180911,11.7494],[0.181847,10.9215],[0.182782,10.1174],[0.183718,9.34074],[0.184653,8.59443],[0.185589,7.88092],[0.186525,7.20213],[0.18746,6.55946],[0.188396,5.95388],[0.189331,5.38586],[0.190267,4.85551],[0.191202,4.36252],[0.192138,3.90629],[0.193074,3.48591],[0.194009,3.10021],[0.194945,2.74783],[0.19588,2.42724],[0.196816,2.13678],[0.197751,1.87469],[0.198687,1.63917],[0.199623,1.42838],[0.200558,1.24047],[0.201494,1.07362],[0.202429,0.926066],[0.203365,0.796078],[0.2043,0.682015],[0.205236,0.582312],[0.206172,0.495498],[0.207107,0.420196],[0.208043,0.355128],[0.208978,0.299118],[0.209914,0.251087],[0.210849,0.210053],[0.211785,0.175129],[0.212721,0.145516],[0.213656,0.120501],[0.214592,0.0994467],[0.215527,0.0817928],[0.216463,0.0670446],[0.217399,0.0547693],[0.218334,0.0445896],[0.21927,0.0361788],[0.220205,0.0292549],[0.221141,0.0235758]] color=red fillStyle=solid lineStyle=solid pointStyle=none lineWidth=2]"
      ]
     },
     "execution_count": 18,
     "metadata": {},
     "output_type": "execute_result"
    }
   ],
   "source": [
    "dist_fo = result.getFirstOrderIndicesDistribution()\n",
    "dist_fo_i = dist_fo.getMarginal(0)\n",
    "graph = dist_fo_i.drawPDF()\n",
    "graph.setTitle(\"S0\")\n",
    "graph.setXTitle(\"S0\")\n",
    "graph"
   ]
  },
  {
   "cell_type": "markdown",
   "metadata": {},
   "source": [
    "## Synthèse\n",
    "\n",
    "La table suivant résume les résultats.\n",
    "\n",
    "| Variable | Premier ordre, I.C. à 95 % | Total, I.C. à 95 % |\n",
    "|--|--|--|\n",
    "| $E$ | [0.11,0.19] | [0.12,0.17] |\n",
    "| $F$ | [0.77,1.03] | [0.79,0.85] |\n",
    "| $L$ | [-0.03,0.04] | [0.00,0.02] |\n",
    "| $I$ | [0.03,0.10] | [0.04,0.08] |\n",
    "\n",
    "Voici les conclusions que l'on peut tirer.\n",
    "\n",
    "- La variable $F$ est la variable qui contribue le plus à la variabilité de la sortie, à hauteur de 70 à 80%.\n",
    "- La variable $E$ est la seconde variable qui contribue le plus à la variabilité de la sortie, à hauteur de 10 à 20%.\n",
    "- Les deux autres variables $L$ et $I$ contribuent à moins de 10 % de la variabilité de la sortie : elles pourrait être remplacées par des constantes (surtout la variable $L$), sans que la variabilité de la sortie $Y$ ne soit beaucoup modifiée.\n",
    "- Sur la base des calculs, on peut indiquer que les interactions, si elles existent, ne contribuent pas beaucoup à la variabilité de la sortie. "
   ]
  },
  {
   "cell_type": "markdown",
   "metadata": {},
   "source": [
    "## Exercice 1 : fonction produit\n",
    "\n",
    "On considère la fonction :\n",
    "\n",
    "$$\n",
    "g(X_1,X_2)=X_1 X_2\n",
    "$$\n",
    "\n",
    "pour tout $X_1,X_2\\in\\mathbb{R}$. \n",
    "\n",
    "On suppose que les variables sont indépendantes et suivent les lois suivantes.\n",
    "\n",
    "| Variable | Distribution |\n",
    "|--|--|\n",
    "| $X_1$ | Normal($\\mu=0$, $\\sigma=10$) |\n",
    "| $X_2$ | Uniforme($a=-1$, $b=1$) |\n",
    "\n",
    "La cellule suivante définit le modèle."
   ]
  },
  {
   "cell_type": "code",
   "execution_count": 19,
   "metadata": {},
   "outputs": [],
   "source": [
    "g = ot.SymbolicFunction([\"X1\", \"X2\"], [\"X1 * X2\"])\n",
    "X1 = ot.Normal(0.0, 10.0)\n",
    "X2 = ot.Uniform(-1.0, 1.0)\n",
    "X = ot.ComposedDistribution([X1, X2])\n",
    "inputDescription = [\"X1\", \"X2\"]\n",
    "X.setDescription(inputDescription)"
   ]
  },
  {
   "cell_type": "markdown",
   "metadata": {},
   "source": [
    "*Questions*\n",
    "\n",
    "- Estimer les indices SRC. Pour cela, utiliser la classe `CorrelationAnalysis_SRC`. \n",
    "- Pour valider vos résultats, utiliser la fonction `CorrelationAnalysis_PearsonCorrelation`. Par exemple, pour estimer l'indice SRC de la i-ème  variable, on utilise l'instruction suivante\n",
    "```\n",
    "ot.CorrelationAnalysis_PearsonCorrelation(sampleY,sampleX[:,i])[0]\n",
    "```\n",
    "Comparer vos résultats : qu'observez-vous ?"
   ]
  },
  {
   "cell_type": "markdown",
   "metadata": {},
   "source": [
    "- Estimer les indices de Sobol' avec la classe `SaltelliSensitivityAlgorithm`. Qu'observez-vous ? Comment expliquer ce résultat ?"
   ]
  },
  {
   "cell_type": "markdown",
   "metadata": {},
   "source": [
    "## Solution de l'exercice 1 : fonction produit"
   ]
  },
  {
   "cell_type": "code",
   "execution_count": 20,
   "metadata": {
    "scrolled": true
   },
   "outputs": [
    {
     "data": {
      "image/png": "[encoded data removed]",
      "text/plain": [
       "<Figure size 360x360 with 3 Axes>"
      ]
     },
     "metadata": {
      "needs_background": "light"
     },
     "output_type": "display_data"
    }
   ],
   "source": [
    "n = 10000\n",
    "sampleX = X.getSample(n)\n",
    "sampleY = g(sampleX)\n",
    "\n",
    "data = ot.Sample(n, 3)\n",
    "data[:, 0:2] = sampleX\n",
    "data[:, 2] = sampleY\n",
    "data.setDescription([\"X1\", \"X2\", \"Y\"])\n",
    "graph = ot.VisualTest.DrawPairs(data)\n",
    "view = otv.View(graph, figure_kw={\"figsize\": (5.0, 5.0)})"
   ]
  },
  {
   "cell_type": "code",
   "execution_count": 21,
   "metadata": {},
   "outputs": [
    {
     "data": {
      "image/png": "[encoded data removed]",
      "text/plain": [
       "<Figure size 288x216 with 1 Axes>"
      ]
     },
     "metadata": {
      "needs_background": "light"
     },
     "output_type": "display_data"
    }
   ],
   "source": [
    "SRCindices = ot.CorrelationAnalysis.SRC(sampleX, sampleY)\n",
    "input_names = g.getInputDescription()\n",
    "title = \"SRC indices\"\n",
    "graph = ot.SobolIndicesAlgorithm.DrawCorrelationCoefficients(SRCindices, input_names, title)\n",
    "view = otv.View(graph, figure_kw={\"figsize\": (4.0, 3.0)})"
   ]
  },
  {
   "cell_type": "markdown",
   "metadata": {},
   "source": [
    "Pour valider notre résultat, nous utilisons la fonction `CorrelationAnalysis_PearsonCorrelation` qui calcule le coefficient de corrélation linéaire. "
   ]
  },
  {
   "cell_type": "code",
   "execution_count": 22,
   "metadata": {},
   "outputs": [
    {
     "data": {
      "image/png": "[encoded data removed]",
      "text/plain": [
       "<Figure size 288x216 with 1 Axes>"
      ]
     },
     "metadata": {
      "needs_background": "light"
     },
     "output_type": "display_data"
    }
   ],
   "source": [
    "SRCindices = ot.Point(2)\n",
    "SRCindices[0] = (\n",
    "    ot.CorrelationAnalysis.PearsonCorrelation(sampleY, sampleX[:, 0])[0] ** 2\n",
    ")\n",
    "SRCindices[1] = (\n",
    "    ot.CorrelationAnalysis.PearsonCorrelation(sampleY, sampleX[:, 1])[0] ** 2\n",
    ")\n",
    "title = \"SRC Indices (from Pearson)\"\n",
    "graph = ot.SobolIndicesAlgorithm.DrawCorrelationCoefficients(SRCindices, input_names, title)\n",
    "view = otv.View(graph, figure_kw={\"figsize\": (4.0, 3.0)})"
   ]
  },
  {
   "cell_type": "markdown",
   "metadata": {},
   "source": [
    "On observe que les résultats sont identiques. Il s'avère que ce modèle est associé à une somme des coefficients SRC carrés qui est égale à 5% seulement. Cela implique que 95% de la variance de la sortie n'est pas expliquée par le modèle linéaire, qui est donc ici une très mauvaise approximation de la fonction $g$. Les indices SRC carrés ne peuvent donc pas être utilisés dans ce cas.\n",
    "\n",
    "Pour obtenir des résultats valables, on utilise alors les indices de Sobol'."
   ]
  },
  {
   "cell_type": "code",
   "execution_count": 23,
   "metadata": {
    "scrolled": true
   },
   "outputs": [
    {
     "data": {
      "image/png": "[encoded data removed]",
      "text/plain": [
       "<Figure size 288x216 with 1 Axes>"
      ]
     },
     "metadata": {
      "needs_background": "light"
     },
     "output_type": "display_data"
    }
   ],
   "source": [
    "size = 10000\n",
    "sie = ot.SobolIndicesExperiment(X, size, True)\n",
    "inputDesign = sie.generate()\n",
    "outputDesign = g(inputDesign)\n",
    "sensitivityAnalysis = ot.SaltelliSensitivityAlgorithm(inputDesign, outputDesign, size)\n",
    "graph = sensitivityAnalysis.draw()\n",
    "graph.setLegendPosition(\"center\")\n",
    "view = otv.View(graph, figure_kw={\"figsize\": (4.0, 3.0)})"
   ]
  },
  {
   "cell_type": "markdown",
   "metadata": {},
   "source": [
    "On observe que les indices du premier ordre sont tous les deux proches de 0 et que les indices totaux sont tous les deux proches de 1. Pour valider ce résultat, nous réalisons un calcul théorique."
   ]
  },
  {
   "cell_type": "markdown",
   "metadata": {},
   "source": [
    "Pour $i=1,2$, notons $\\mu_i = \\mathbb{E}(X_i)$ l'espérance et $\\sigma_i^2 = \\operatorname{Var}(X_i)$ la variance. \n",
    "\n",
    "Notons $f_i$ la densité de probabilité de la variable $X_i$ pour $i=1,2$ et $f_{1,2}$ la densité de probabilité \n",
    "du vecteur aléatoire $(X_1,X_2)$. Puisque les variable $X_1$ et $X_2$ sont indépendantes, la densité de probabilité du vecteur aléatoire $(X_1,X_2)$ est le produit des lois marginales :\n",
    "\n",
    "$$\n",
    "f_{1,2}(x_1,x_2) = f_1(x_1)f_2(x_2)\n",
    "$$\n",
    "\n",
    "pour tout $x_1,x_2\\in\\mathbb{R}$.\n",
    "\n",
    "On en déduit que l'espérance de $Y$ est égale au produit des espérances de $X_1$ et $X_2$. \n",
    "En effet, \n",
    "\n",
    "\\begin{align*}\n",
    "\\mathbb{E}(Y) \n",
    "&= \\mathbb{E}(X_1 X_2) \\\\\n",
    "&= \\int_{\\mathbb{R}^2} x_1 x_2 f_{1,2}(x_1,x_2) dx_1 dx_2 \\\\\n",
    "&= \\int_{\\mathbb{R}^2} x_1 x_2 f_1(x_1)f_2(x_2) dx_1 dx_2 \\\\\n",
    "&= \\left(\\int_{\\mathbb{R}} x_1 f_1(x_1) dx_1\\right) \\left(\\int_{\\mathbb{R}} f_2(x_2) dx_2 \\right) \\\\\n",
    "&= \\mathbb{E}(X_1) \\mathbb{E}(X_2) \\\\\n",
    "&= \\mu_1 \\mu_2\n",
    "\\end{align*}\n",
    "\n",
    "La variance de $Y$ est :\n",
    "\n",
    "\\begin{align*}\n",
    "\\operatorname{Var}(Y) \n",
    "&= \\mathbb{E}\\left(Y^2\\right) - \\mathbb{E}(Y)^2 \\\\\n",
    "&= \\mathbb{E}\\left[(X_1 X_2)^2\\right] - \\mathbb{E}(Y)^2 \\\\\n",
    "&= \\mathbb{E}\\left(X_1^2\\right) \\mathbb{E}\\left(X_2^2\\right) - \\mathbb{E}(Y)^2 \\quad \\textrm{ (par indépendance)}.\n",
    "\\end{align*}\n",
    "\n",
    "Or, pour $i=1,2$, on a :\n",
    "\n",
    "$$\n",
    "\\mathbb{E}(X_i^2) = \\operatorname{Var}(X_i) + \\mathbb{E}(X_i)^2 = \\sigma_i^2 + \\mu_i^2.\n",
    "$$\n",
    "\n",
    "Par conséquent, \n",
    "\n",
    "\\begin{align*}\n",
    "\\operatorname{Var}(Y) \n",
    "&= \\left(\\sigma_1^2 + \\mu_1^2\\right) \\left(\\sigma_2^2 + \\mu_2^2\\right) - \\mu_1^2 \\mu_2^2 \\\\\n",
    "&= \\sigma_1^2 \\sigma_2^2 + \\sigma_1^2 \\mu_2^2 + \\sigma_2^2 \\mu_1^2.\n",
    "\\end{align*}\n",
    "\n",
    "L'indice de Sobol' du premier ordre de $X_1$ est :\n",
    "\n",
    "\\begin{align*}\n",
    "S_1\n",
    "&= \\frac{\\operatorname{Var}[\\mathbb{E}(Y|X_1)]}{\\operatorname{Var}(Y)} \\\\\n",
    "&= \\frac{\\operatorname{Var}[X_1 \\mathbb{E}(X_2)]}{\\operatorname{Var}(Y)} \\\\\n",
    "&= \\frac{\\operatorname{Var}(X_1 \\mu_2)}{\\operatorname{Var}(Y)} \\\\\n",
    "&= \\frac{\\mu_2^2 \\operatorname{Var}(X_1)}{\\operatorname{Var}(Y)} \\\\\n",
    "&= \\frac{\\mu_2^2 \\sigma_1^2}{\\operatorname{Var}(Y)}.\n",
    "\\end{align*}\n",
    "\n",
    "De même, \n",
    "\n",
    "\\begin{align*}\n",
    "S_2\n",
    "&= \\frac{\\mu_1^2 \\sigma_2^2}{\\operatorname{Var}(Y)}.\n",
    "\\end{align*}\n",
    "\n",
    "Etant donnée la variance totale $\\operatorname{Var}(Y)$, l'indice du second ordre $S_{1,2}$ est égal à \n",
    "\n",
    "\\begin{align*}\n",
    "S_{1,2} \n",
    "&= 1 - S_1 - S_2 \\\\\n",
    "&= \\frac{\\operatorname{Var}(Y) - S_1 \\operatorname{Var}(Y) - S_2 V(Y)}{\\operatorname{Var}(Y)} \\\\\n",
    "&= \\frac{\\sigma_1^2 \\sigma_2^2 + \\sigma_1^2 \\mu_2^2 + \\sigma_2^2 \\mu_1^2 - \\mu_2^2 \\sigma_1^2 - \\mu_1^2 \\sigma_2^2}{V(Y)} \\\\\n",
    "&= \\frac{\\sigma_1^2 \\sigma_2^2}{\\operatorname{Var}(Y)}.\n",
    "\\end{align*}\n",
    "\n",
    "L'indice SRC carré de $X_1$ est égal à la corrélation entre $Y$ et $X_1$. \n",
    "Par définition, la covariance est égale à :\n",
    "\n",
    "\\begin{align*}\n",
    "\\operatorname{Cov}(Y,X_1)\n",
    "&= \\mathbb{E}[(Y - \\mathbb{E}(Y))(X_1-E(X_1))] \\\\\n",
    "&= \\mathbb{E}(Y X_1) - \\mathbb{E}(Y) \\mathbb{E}(X_1) \\\\\n",
    "&= \\mathbb{E}(X_1^2 X_2) - \\mu_1 \\mu_2 \\mu_1 \\\\\n",
    "&= \\mathbb{E}(X_1^2) \\mathbb{E}(X_2) - \\mu_1^2 \\mu_2 \\quad \\textrm{ (par indépendance)} \\\\\n",
    "&= (\\sigma_1^2 + \\mu_1^2) \\mu_2 - \\mu_1^2 \\mu_2 \\\\\n",
    "&= \\sigma_1^2 \\mu_2.\n",
    "\\end{align*}\n",
    "\n",
    "De même, \n",
    "\n",
    "\\begin{align*}\n",
    "\\operatorname{Cov}(Y,X_2)\n",
    "&= \\mathbb{E}[(Y-E(Y))(X_2-E(X_2))] \\\\\n",
    "&= \\mathbb{E}(Y X_2) - \\mathbb{E}(Y) \\mathbb{E}(X_2) \\\\\n",
    "&= \\mathbb{E}(X_1 X_2^2) - \\mu_1 \\mu_2 \\mu_2 \\\\\n",
    "&= \\mathbb{E}(X_1) \\mathbb{E}(X_2^2) - \\mu_1 \\mu_2^2 \\quad \\textrm{ (par indépendance)} \\\\\n",
    "&= \\mu_1 (\\sigma_2^2 + \\mu_2^2) - \\mu_1 \\mu_2^2 \\\\\n",
    "&= \\mu_1 \\sigma_2^2 .\n",
    "\\end{align*}\n",
    "\n",
    "Par conséquent,\n",
    "\n",
    "\\begin{align*}\n",
    "\\operatorname{SRC}_1\n",
    "&= \\operatorname{Corr}(Y,X_1) \\\\\n",
    "&= \\frac{\\operatorname{Cov}(Y,X_1)}{\\sqrt{\\operatorname{Var}(Y)}\\sqrt{\\operatorname{Var}(X_1)}} \\\\\n",
    "&= \\frac{\\sigma_1^2 \\mu_2}{\\sqrt{\\operatorname{Var}(Y)}\\sigma_1} \\\\\n",
    "&= \\frac{\\sigma_1 \\mu_2}{\\sqrt{\\operatorname{Var}(Y)}}\n",
    "\\end{align*}\n",
    "\n",
    "et :\n",
    "\n",
    "\\begin{align*}\n",
    "\\operatorname{SRC}_2\n",
    "&= \\operatorname{Corr}(Y,X_2) \\\\\n",
    "&= \\frac{\\operatorname{Cov}(Y,X_2)}{\\sqrt{\\operatorname{Var}(Y)}\\sqrt{\\operatorname{Var}(X_2)}} \\\\\n",
    "&= \\frac{\\mu_1 \\sigma_2^2}{\\sqrt{\\operatorname{Var}(Y)}\\sigma_2} \\\\\n",
    "&= \\frac{\\mu_1 \\sigma_2}{\\sqrt{\\operatorname{Var}(Y)}}.\n",
    "\\end{align*}"
   ]
  },
  {
   "cell_type": "markdown",
   "metadata": {},
   "source": [
    "Les équations précédentes mènent au code suivant."
   ]
  },
  {
   "cell_type": "code",
   "execution_count": 24,
   "metadata": {},
   "outputs": [
    {
     "name": "stdout",
     "output_type": "stream",
     "text": [
      "E(Y)=0.000000\n",
      "V(Y)=33.333333\n",
      "S1=0.000000, T1 = 1.000000, SRC1 = 0.000000\n",
      "S2=0.000000, T2 = 1.000000, SRC2 = 0.000000\n"
     ]
    }
   ],
   "source": [
    "mu1 = X1.getMean()[0]\n",
    "mu2 = X2.getMean()[0]\n",
    "sigma1 = X1.getStandardDeviation()[0]\n",
    "sigma2 = X2.getStandardDeviation()[0]\n",
    "EY = mu1 * mu2\n",
    "VY = sigma1 ** 2 * sigma2 ** 2 + sigma1 ** 2 * mu2 ** 2 + sigma2 ** 2 * mu1 ** 2\n",
    "S1 = sigma1 ** 2 * mu2 ** 2 / VY\n",
    "S2 = mu1 ** 2 * sigma2 ** 2 / VY\n",
    "S12 = sigma1 ** 2 * sigma2 ** 2 / VY\n",
    "T1 = S1 + S12\n",
    "T2 = S2 + S12\n",
    "SRC1 = sigma1 * mu2 / np.sqrt(VY)\n",
    "SRC2 = mu1 * sigma2 / np.sqrt(VY)\n",
    "print(\"E(Y)=%f\" % (EY))\n",
    "print(\"V(Y)=%f\" % (VY))\n",
    "print(\"S1=%f, T1 = %f, SRC1 = %f\" % (S1, T1, SRC1))\n",
    "print(\"S2=%f, T2 = %f, SRC2 = %f\" % (S2, T2, SRC2))"
   ]
  },
  {
   "cell_type": "markdown",
   "metadata": {},
   "source": [
    "On observe que les indices SRC sont égaux à zéro. On observe également que les indices du premier ordre sont égaux à zéro tandis que les indices totaux sont égaux à 1. Cela implique que la variabilité de la sortie est dûe exclusivement à l'interaction entre X1 et X2. C'est une conclusion cohérente avec la structure de la fonction produit. "
   ]
  },
  {
   "cell_type": "markdown",
   "metadata": {},
   "source": [
    "## Exercice 2 : fonction Ishigami\n",
    "\n",
    "On considère la fonction \n",
    "\n",
    "$$\n",
    "g(X_1,X_2,X_3) = \\sin(X_1)+a \\sin (X_2)^2 + b X_3^4 \\sin(X_1)\n",
    "$$\n",
    "\n",
    "pour tout $X_1,X_2,X_3\\in[-\\pi,\\pi]$ où $a=7$ et $b=0.1$. \n",
    "On suppose que les variables sont indépendantes et suivent la loi uniforme entre $-\\pi$ et $\\pi$.\n",
    "\n",
    "La cellule suivante définit le modèle."
   ]
  },
  {
   "cell_type": "code",
   "execution_count": 25,
   "metadata": {},
   "outputs": [],
   "source": [
    "input_names = [\"X1\", \"X2\", \"X3\"]\n",
    "g = ot.SymbolicFunction(input_names, [\"sin(X1)+7*sin(X2)^2+0.1*X3^4*sin(X1)\"])\n",
    "X = ot.ComposedDistribution([ot.Uniform(-np.pi, np.pi)] * 3)\n",
    "X.setDescription(input_names)"
   ]
  },
  {
   "cell_type": "markdown",
   "metadata": {},
   "source": [
    "*Questions*\n",
    "\n",
    "- Estimer les indices SRC carrés avec la classe `CorrelationAnalysis_SRC`\n",
    "- Estimer les indices SRC carrés avec la classe `CorrelationAnalysis_PearsonCorrelation`. \n",
    "- Estimer les indices de Sobol'. \n",
    "- Qu'observez-vous ?"
   ]
  },
  {
   "cell_type": "markdown",
   "metadata": {},
   "source": [
    "## Solution de l'exercice 2 : fonction Ishigami"
   ]
  },
  {
   "cell_type": "code",
   "execution_count": 27,
   "metadata": {},
   "outputs": [
    {
     "data": {
      "image/png": "[encoded data removed]",
      "text/plain": [
       "<Figure size 288x216 with 1 Axes>"
      ]
     },
     "metadata": {
      "needs_background": "light"
     },
     "output_type": "display_data"
    }
   ],
   "source": [
    "n = 10000\n",
    "sampleX = X.getSample(n)\n",
    "sampleY = g(sampleX)\n",
    "\n",
    "SRCindices = ot.CorrelationAnalysis.SRC(sampleX, sampleY)\n",
    "input_names = g.getInputDescription()\n",
    "title = \"SRC indices\"\n",
    "graph = ot.SobolIndicesAlgorithm.DrawCorrelationCoefficients(SRCindices, input_names, title)\n",
    "view = otv.View(graph, figure_kw={\"figsize\": (4.0, 3.0)})"
   ]
  },
  {
   "cell_type": "code",
   "execution_count": 28,
   "metadata": {},
   "outputs": [
    {
     "data": {
      "image/png": "[encoded data removed]",
      "text/plain": [
       "<Figure size 288x216 with 1 Axes>"
      ]
     },
     "metadata": {
      "needs_background": "light"
     },
     "output_type": "display_data"
    }
   ],
   "source": [
    "SRCindices = ot.Point(3)\n",
    "SRCindices[0] = (\n",
    "    ot.CorrelationAnalysis.PearsonCorrelation(sampleY, sampleX[:, 0])[0] ** 2\n",
    ")\n",
    "SRCindices[1] = (\n",
    "    ot.CorrelationAnalysis.PearsonCorrelation(sampleY, sampleX[:, 1])[0] ** 2\n",
    ")\n",
    "SRCindices[2] = (\n",
    "    ot.CorrelationAnalysis.PearsonCorrelation(sampleY, sampleX[:, 2])[0] ** 2\n",
    ")\n",
    "title = \"SRC Indices (from Pearson)\"\n",
    "graph = ot.SobolIndicesAlgorithm.DrawCorrelationCoefficients(SRCindices, input_names, title)\n",
    "view = otv.View(graph, figure_kw={\"figsize\": (4.0, 3.0)})"
   ]
  },
  {
   "cell_type": "code",
   "execution_count": 29,
   "metadata": {},
   "outputs": [
    {
     "data": {
      "image/png": "[encoded data removed]",
      "text/plain": [
       "<Figure size 288x216 with 1 Axes>"
      ]
     },
     "metadata": {
      "needs_background": "light"
     },
     "output_type": "display_data"
    }
   ],
   "source": [
    "size = 10000\n",
    "sie = ot.SobolIndicesExperiment(X, size, True)\n",
    "inputDesign = sie.generate()\n",
    "outputDesign = g(inputDesign)\n",
    "sensitivityAnalysis = ot.SaltelliSensitivityAlgorithm(inputDesign, outputDesign, size)\n",
    "graph = sensitivityAnalysis.draw()\n",
    "view = otv.View(graph, figure_kw={\"figsize\": (4.0, 3.0)})"
   ]
  },
  {
   "cell_type": "markdown",
   "metadata": {},
   "source": [
    "- On observe que la variable $X_1$, avec un indice de Sobol' total proche de 0.6, est la variable qui possède le plus d'impact par elle même ou par ses interactions. En effet, sont indice du premier ordre est proche de 0.3, ce qui implique que les interactions entre $X_1$ et les autres variables comptent pour approximativement 30% de la variance totale. \n",
    "- La variable $X_2$ possède un indice du premier ordre proche de l'indice total, ce qui implique qu'elle n'interagit pas avec les autres variables. Son indice total est approximativement égal à 0.4. \n",
    "- La variable $X_3$ possède un indice du premier ordre proche de zéro. Elle a un impact sur la variabilité de la sortie uniquement via ses interactions avec les autres variables. "
   ]
  },
  {
   "cell_type": "markdown",
   "metadata": {},
   "source": [
    "## Exercice 3 : variabilité de l'estimateur\n",
    "\n",
    "On considère le cas de la déviation verticale de la poutre encastrée.\n",
    "\n",
    "Avec une méthode Monte-Carlo et l'estimateur de Saltelli, on souhaite observer la variabilité de l'estimateur des indices du premier ordre. Pour cela, nous allons répéter l'estimation des indices du premier ordre $r$ fois, avec $r=100$. Dans chaque expérience, nous allons estimer les indices du premier ordre avec un plan d'expériences de taille $n$, avec $n=500$.\n",
    "\n",
    "- Créer la variable `r=100`. \n",
    "- Créer la variable `sampleS` contenant un `Sample` de taille `r` et de dimension 4. Cette variable est destinée à contenir l'échantillon des estimations des indices du premier ordre.\n",
    "- Créer la variable `n=500`.\n",
    "- Créer une boucle `for` de 0 à `r-1`. Pour chaque élément `j` de la boucle, estimer les indices du premier ordre et stocker le résultat dans `sampleS[j,:]`.\n",
    "- Dessiner l'histogramme empirique de l'indice de Sobol' du premier ordre pour la variable $E$\n",
    "- Dessiner la loi gaussienne asymptotique issue de la méthode `getFirstOrderIndicesDistribution`. Est-ce que les deux distributions sont comparables ?"
   ]
  },
  {
   "cell_type": "markdown",
   "metadata": {},
   "source": [
    "## Solution de l'exercice 3 : variabilité de l'estimateur\n"
   ]
  },
  {
   "cell_type": "code",
   "execution_count": 30,
   "metadata": {},
   "outputs": [],
   "source": [
    "dist_E = ot.Beta(0.9, 2.2, 2.8e7, 4.8e7)\n",
    "dist_E.setDescription([\"E\"])\n",
    "F_para = ot.LogNormalMuSigma(3.0e4, 9.0e3, 15.0e3)  # in N\n",
    "dist_F = ot.ParametrizedDistribution(F_para)\n",
    "dist_F.setDescription([\"F\"])\n",
    "dist_L = ot.Uniform(250.0, 260.0)  # in cm\n",
    "dist_L.setDescription([\"L\"])\n",
    "dist_I = ot.Beta(2.5, 1.5, 310.0, 450.0)  # in cm^4\n",
    "dist_I.setDescription([\"I\"])\n",
    "\n",
    "X = ot.ComposedDistribution([dist_E, dist_F, dist_L, dist_I])\n",
    "\n",
    "g = ot.SymbolicFunction([\"E\", \"F\", \"L\", \"I\"], [\"F* L^3 /  (3 * E * I)\"])\n",
    "g.setOutputDescription([\"Y (cm)\"])\n",
    "\n",
    "r = 100\n",
    "sampleS = ot.Sample(r, 4)\n",
    "n = 500\n",
    "for j in range(r):\n",
    "    sie = ot.SobolIndicesExperiment(X, n, True)\n",
    "    inputDesign = sie.generate()\n",
    "    outputDesign = g(inputDesign)\n",
    "    sensitivityAnalysis = ot.SaltelliSensitivityAlgorithm(inputDesign, outputDesign, n)\n",
    "    sampleS[j, :] = sensitivityAnalysis.getFirstOrderIndices()"
   ]
  },
  {
   "cell_type": "markdown",
   "metadata": {},
   "source": [
    "Pour dessiner la distribution asymptotique, nous créons la variable `mu` contenant la moyenne empirique de la i-ème colonne de `sampleS`. En effet, si l'on dessiner la distribution asymptotique sans modification de la moyenne, alors la gaussienne est centrée sur l'estimation associée à une seule expérience, et non pas sur le centre de l'histogramme. Cette situation est tout à fait normale. Toutefois, nous cherchons surtout à comparer la variance asymptotique et la variance empirique. C'est pour cette raison que, pouvoir comparer les deux distributions, nous décalons le centre de la gaussienne pour le mettre au centre de l'histogramme."
   ]
  },
  {
   "cell_type": "code",
   "execution_count": 31,
   "metadata": {},
   "outputs": [
    {
     "data": {
      "image/png": "[encoded data removed]",
      "text/plain": [
       "<Figure size 288x216 with 1 Axes>"
      ]
     },
     "metadata": {
      "needs_background": "light"
     },
     "output_type": "display_data"
    }
   ],
   "source": [
    "inputdesc = X.getDescription()\n",
    "i = 0\n",
    "histo = ot.HistogramFactory().build(sampleS[:, i]).drawPDF()\n",
    "histo.setLegends([\"Data\"])\n",
    "histo.setTitle(\"\")\n",
    "S = sensitivityAnalysis.getFirstOrderIndicesDistribution()\n",
    "S1 = S.getMarginal(i)\n",
    "mu = sampleS.computeMean()[i]\n",
    "sigma = S1.getStandardDeviation()[i]\n",
    "S1_shifted = ot.Normal(mu, sigma)\n",
    "graphPDF = S1_shifted.drawPDF()\n",
    "graphPDF.setColors([\"blue\"])\n",
    "graphPDF.setLegends([\"Normal\"])\n",
    "histo.setXTitle(\"S%s\" % (inputdesc[i]))\n",
    "histo.add(graphPDF)\n",
    "view = otv.View(histo, figure_kw={\"figsize\": (4.0, 3.0)})"
   ]
  },
  {
   "cell_type": "markdown",
   "metadata": {},
   "source": [
    "## Exercice 4 : estimation avec un algorithme\n",
    "\n",
    "On considère le cas de la déviation verticale de la poutre encastrée. On souhaite mettre en oeuvre la méthode \"pick-freeze\" pour estimer les indices de sensibilité. \n",
    "\n",
    "- Utiliser une méthode Monte-Carlo, l'estimateur de Saltelli et une boucle `for` pour estimer les indices de Sobol' du premier ordre et les indices totaux.\n",
    "Pour cela, on utilisera les deux fonctions `sumOfProduct` et `centeredG`suivantes.\n",
    "- Utiliser l'estimateur de Martinez pour les indices du premier ordre et les indices totaux. Qu'observez-vous sur le plan du code ?\n",
    "- Comparez les résultats produits par les deux méthodes : qu'observez-vous ?"
   ]
  },
  {
   "cell_type": "code",
   "execution_count": 32,
   "metadata": {},
   "outputs": [],
   "source": [
    "def sumOfProduct(sampleA, sampleB):\n",
    "    \"\"\"\n",
    "    Computes the centered dot product of two 1D-samples.\n",
    "\n",
    "    Parameters\n",
    "    ----------\n",
    "    sampleA : ot.Sample(size, 1)\n",
    "        A sample.\n",
    "    sampleB : ot.Sample(size, 1)\n",
    "        A sample.\n",
    "\n",
    "    Returns\n",
    "    -------\n",
    "    y : float\n",
    "        The dot product of sampleA and sampleB.\n",
    "\n",
    "    \"\"\"\n",
    "    return sampleA.asPoint().dot(sampleB.asPoint())\n"
   ]
  },
  {
   "cell_type": "markdown",
   "metadata": {},
   "source": [
    "## Solution de l'exercice 4 : estimation avec un algorithme"
   ]
  },
  {
   "cell_type": "code",
   "execution_count": 33,
   "metadata": {},
   "outputs": [],
   "source": [
    "dist_E = ot.Beta(0.9, 2.2, 2.8e7, 4.8e7)\n",
    "dist_E.setDescription([\"E\"])\n",
    "F_para = ot.LogNormalMuSigma(3.0e4, 9.0e3, 15.0e3)  # in N\n",
    "dist_F = ot.ParametrizedDistribution(F_para)\n",
    "dist_F.setDescription([\"F\"])\n",
    "dist_L = ot.Uniform(250.0, 260.0)  # in cm\n",
    "dist_L.setDescription([\"L\"])\n",
    "dist_I = ot.Beta(2.5, 1.5, 310.0, 450.0)  # in cm^4\n",
    "dist_I.setDescription([\"I\"])\n",
    "\n",
    "X = ot.ComposedDistribution([dist_E, dist_F, dist_L, dist_I])\n",
    "\n",
    "g = ot.SymbolicFunction([\"E\", \"F\", \"L\", \"I\"], [\"F* L^3 /  (3 * E * I)\"])\n",
    "g.setOutputDescription([\"Y (cm)\"])"
   ]
  },
  {
   "cell_type": "markdown",
   "metadata": {},
   "source": [
    "Génère un premier plan d'expériences de taille `n`."
   ]
  },
  {
   "cell_type": "code",
   "execution_count": 34,
   "metadata": {},
   "outputs": [],
   "source": [
    "n = 10000\n",
    "XA = X.getSample(n)\n",
    "YA = g(XA)"
   ]
  },
  {
   "cell_type": "markdown",
   "metadata": {},
   "source": [
    "Génère un second plan."
   ]
  },
  {
   "cell_type": "code",
   "execution_count": 35,
   "metadata": {},
   "outputs": [],
   "source": [
    "XB = X.getSample(n)\n",
    "YB = g(XB)"
   ]
  },
  {
   "cell_type": "markdown",
   "metadata": {},
   "source": [
    "Centre les échantillons de sortie. "
   ]
  },
  {
   "cell_type": "code",
   "execution_count": 36,
   "metadata": {},
   "outputs": [],
   "source": [
    "center = 0.5 * (YA.computeMean()[0] + YB.computeMean()[0])\n",
    "YA -= center\n",
    "YB -= center"
   ]
  },
  {
   "cell_type": "markdown",
   "metadata": {},
   "source": [
    "Estime les indices du premier ordre et totaux."
   ]
  },
  {
   "cell_type": "code",
   "execution_count": 37,
   "metadata": {},
   "outputs": [
    {
     "name": "stdout",
     "output_type": "stream",
     "text": [
      "[0.124408,0.790884,-0.00354808,0.0429527]\n",
      "[0.158612,0.803171,0.0127045,0.0730365]\n"
     ]
    }
   ],
   "source": [
    "dim = X.getDimension()\n",
    "\n",
    "S = ot.Point(dim)\n",
    "T = ot.Point(dim)\n",
    "sumOfSquaresOfG = sumOfProduct(YA, YA)\n",
    "for i in range(dim):\n",
    "    XEi = ot.Sample(XA)\n",
    "    XEi[:, i] = XB[:, i]\n",
    "    YEi = g(XEi)\n",
    "    YEi -= center\n",
    "    S[i] = sumOfProduct(YB, YEi) / sumOfSquaresOfG\n",
    "    T[i] = 1.0 - sumOfProduct(YA, YEi) / sumOfSquaresOfG\n",
    "print(S)\n",
    "print(T)"
   ]
  },
  {
   "cell_type": "markdown",
   "metadata": {},
   "source": [
    "Pour référence, voici les indices que nous avions obtenu avec `SaltelliSensitivityAlgorithm` :\n",
    "\n",
    "- firstOrderIndices : [0.083937,0.840892,-0.0533628,0.00707767]\n",
    "- totalOrderIndices : [0.189607,0.809751,0.00271451,0.0870107]\n",
    "\n",
    "Avec l'algorithme incrémental :\n",
    "\n",
    "- X0, S in [0.1118,0.1886], ST in [0.1151,0.1652]\n",
    "- X1, S in [0.7675,1.0307], ST in [0.7860,0.8536]\n",
    "- X2, S in [-0.0262,0.0429], ST in [0.0038,0.0175]\n",
    "- X3, S in [0.0282,0.0993], ST in [0.0401,0.0765]"
   ]
  },
  {
   "cell_type": "markdown",
   "metadata": {},
   "source": [
    "La cellule suivante utilise la méthode de Martinez pour l'estimation des indices de sensibilité. On observe que la méthode de Martinez centre les sorties de la fonction $g$, grâce à l'utilisation du coefficient de corrélation de Pearson. Il n'y a pas besoin de centrer les échantillons, car le coefficient de Pearson est centré par définition."
   ]
  },
  {
   "cell_type": "code",
   "execution_count": 38,
   "metadata": {},
   "outputs": [
    {
     "name": "stdout",
     "output_type": "stream",
     "text": [
      "[0.134655,0.779841,0.00711549,0.0492801]\n",
      "[0.150708,0.799988,0.0109632,0.0610512]\n"
     ]
    }
   ],
   "source": [
    "dim = X.getDimension()\n",
    "XA = X.getSample(n)\n",
    "XB = X.getSample(n)\n",
    "YA = g(XA)\n",
    "YB = g(XB)\n",
    "S = ot.Point(dim)\n",
    "T = ot.Point(dim)\n",
    "for i in range(dim):\n",
    "    XEi = ot.Sample(XA)\n",
    "    XEi[:, i] = XB[:, i]\n",
    "    YEi = g(XEi)\n",
    "    S[i] = ot.CorrelationAnalysis.PearsonCorrelation(YB, YEi)[0]\n",
    "    T[i] = 1.0 - ot.CorrelationAnalysis.PearsonCorrelation(YA, YEi)[0]\n",
    "print(S)\n",
    "print(T)"
   ]
  },
  {
   "cell_type": "markdown",
   "metadata": {},
   "source": [
    "## Exercice 5 : utilisation d'une séquence de Sobol' pour estimer les indices de Sobol'\n",
    "\n",
    "Utiliser un plan d'expériences de type séquence à faible discrépance pour estimer les indices de sensibilité. Pour cela, on utilisera la séquence de Sobol'. \n",
    "\n",
    "Pour clarifier l'algorithme, on définira la fonction `martinezSobolIndices` qui utilisera l'estimateur de Martinez pour estimer les indices de Sobol'. Sa séquence d'appel devra être :\n",
    "```\n",
    "S, T = martinezSobolIndices(XA,XB)\n",
    "```\n",
    "\n",
    "Nous proposons d'utiliser cette fonction de telle sorte que `XA` e `XB` sont issus d'une séquence à faible discrépance de taille n en dimension $2p$. Puis, on découpera ce plan d'expériences en deux plans d'expériences de dimension $p$. La séquence de Sobol' peut être générée grâce aux classes `SobolSequence` et `LowDiscrepancyExperiment`. \n"
   ]
  },
  {
   "cell_type": "markdown",
   "metadata": {},
   "source": [
    "## Solution de l'exercice 5 : utilisation d'une séquence à faible discrépance"
   ]
  },
  {
   "cell_type": "code",
   "execution_count": 39,
   "metadata": {},
   "outputs": [
    {
     "name": "stdout",
     "output_type": "stream",
     "text": [
      "[0.125876,0.78873,0.0119571,0.060953]\n",
      "[0.138102,0.802688,0.010874,0.0610107]\n"
     ]
    }
   ],
   "source": [
    "def martinezSobolIndices(XA, XB):\n",
    "    dim = X.getDimension()\n",
    "    YA = g(XA)\n",
    "    YB = g(XB)\n",
    "    S = ot.Point(dim)\n",
    "    T = ot.Point(dim)\n",
    "    for i in range(dim):\n",
    "        XEi = ot.Sample(XA)\n",
    "        XEi[:, i] = XB[:, i]\n",
    "        YEi = g(XEi)\n",
    "        S[i] = ot.CorrelationAnalysis.PearsonCorrelation(YB, YEi)[0]\n",
    "        T[i] = 1.0 - ot.CorrelationAnalysis.PearsonCorrelation(YA, YEi)[0]\n",
    "    return S, T\n",
    "\n",
    "XA = X.getSample(n)\n",
    "XB = X.getSample(n)\n",
    "S, T = martinezSobolIndices(XA, XB)\n",
    "print(S)\n",
    "print(T)"
   ]
  },
  {
   "cell_type": "code",
   "execution_count": 40,
   "metadata": {},
   "outputs": [
    {
     "data": {
      "text/plain": [
       "[class=Beta name=Beta dimension=1 alpha=0.9 beta=2.2 a=2.8e+07 b=4.8e+07,\n",
       " class=ParametrizedDistribution parameters=class=LogNormalMuSigma name=Unnamed mu=30000 sigma=9000 gamma=15000 distribution=class=LogNormal name=LogNormal dimension=1 muLog=9.46206 sigmaLog=0.554513 gamma=15000,\n",
       " class=Uniform name=Uniform dimension=1 a=250 b=260,\n",
       " class=Beta name=Beta dimension=1 alpha=2.5 beta=1.5 a=310 b=450]"
      ]
     },
     "execution_count": 40,
     "metadata": {},
     "output_type": "execute_result"
    }
   ],
   "source": [
    "dim = X.getDimension()\n",
    "distcoll = [X.getMarginal(i) for i in range(dim)]\n",
    "distcoll"
   ]
  },
  {
   "cell_type": "code",
   "execution_count": 41,
   "metadata": {},
   "outputs": [
    {
     "name": "stdout",
     "output_type": "stream",
     "text": [
      "[0.125876,0.78873,0.0119571,0.060953]\n",
      "[0.138102,0.802688,0.010874,0.0610107]\n"
     ]
    }
   ],
   "source": [
    "twiceDistribution = ot.ComposedDistribution(distcoll * 2)\n",
    "sequence = ot.SobolSequence(2 * dim)\n",
    "experiment = ot.LowDiscrepancyExperiment(sequence, twiceDistribution, n)\n",
    "\n",
    "fullDesign = experiment.generate()\n",
    "# Split the A and B designs\n",
    "A = fullDesign[:, 0:dim]\n",
    "B = fullDesign[:, dim : 2 * dim]\n",
    "\n",
    "S, T = martinezSobolIndices(XA, XB)\n",
    "print(S)\n",
    "print(T)"
   ]
  },
  {
   "cell_type": "code",
   "execution_count": null,
   "metadata": {},
   "outputs": [],
   "source": []
  }
 ],
 "metadata": {
  "kernelspec": {
   "display_name": "Python 3 (ipykernel)",
   "language": "python",
   "name": "python3"
  },
  "language_info": {
   "codemirror_mode": {
    "name": "ipython",
    "version": 3
   },
   "file_extension": ".py",
   "mimetype": "text/x-python",
   "name": "python",
   "nbconvert_exporter": "python",
   "pygments_lexer": "ipython3",
   "version": "3.10.0"
  }
 },
 "nbformat": 4,
 "nbformat_minor": 2
}
