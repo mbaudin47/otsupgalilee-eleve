{
 "cells": [
  {
   "cell_type": "markdown",
   "metadata": {},
   "source": [
    "# Analyse de sensibilité globale par regression - application au cas de la déviation verticale de la poutre\n"
   ]
  },
  {
   "cell_type": "markdown",
   "metadata": {},
   "source": [
    "# Model definition"
   ]
  },
  {
   "cell_type": "code",
   "execution_count": 1,
   "metadata": {},
   "outputs": [],
   "source": [
    "import openturns as ot\n",
    "import numpy as np\n",
    "import pylab as pl\n",
    "import openturns.viewer as otv"
   ]
  },
  {
   "cell_type": "code",
   "execution_count": 2,
   "metadata": {},
   "outputs": [],
   "source": [
    "dist_E = ot.Beta(0.9, 2.2, 2.8e7, 4.8e7)\n",
    "dist_E.setDescription([\"E\"])\n",
    "F_para = ot.LogNormalMuSigma(3.0e4, 9.0e3, 15.0e3)  # in N\n",
    "dist_F = ot.ParametrizedDistribution(F_para)\n",
    "dist_F.setDescription([\"F\"])\n",
    "dist_L = ot.Uniform(250.0, 260.0)  # in cm\n",
    "dist_L.setDescription([\"L\"])\n",
    "dist_I = ot.Beta(2.5, 1.5, 310.0, 450.0)  # in cm^4\n",
    "dist_I.setDescription([\"I\"])\n",
    "\n",
    "X = ot.ComposedDistribution([dist_E, dist_F, dist_L, dist_I])\n",
    "\n",
    "g = ot.SymbolicFunction([\"E\", \"F\", \"L\", \"I\"], [\"F* L^3 /  (3 * E * I)\"])\n",
    "g.setOutputDescription([\"Y (cm)\"])"
   ]
  },
  {
   "cell_type": "markdown",
   "metadata": {},
   "source": [
    "Pour pouvoir exploiter au mieux les simulations, nous équipons la fonction d'un méchanisme d'historique."
   ]
  },
  {
   "cell_type": "code",
   "execution_count": 3,
   "metadata": {},
   "outputs": [],
   "source": [
    "g = ot.MemoizeFunction(g)"
   ]
  },
  {
   "cell_type": "markdown",
   "metadata": {},
   "source": [
    "Enfin, nous définissons le vecteur aléatoire de sortie."
   ]
  },
  {
   "cell_type": "code",
   "execution_count": 4,
   "metadata": {},
   "outputs": [],
   "source": [
    "XRV = ot.RandomVector(X)\n",
    "Y = ot.CompositeRandomVector(g, XRV)\n",
    "Y.setDescription([\"Y (cm)\"])"
   ]
  },
  {
   "cell_type": "markdown",
   "metadata": {},
   "source": [
    "## Régression linéaire avec LinearLeastSquares"
   ]
  },
  {
   "cell_type": "code",
   "execution_count": 5,
   "metadata": {},
   "outputs": [
    {
     "data": {
      "text/html": [
       "<p>class=LinearEvaluation name=Unnamed center=[0,0,0,0] constant=[0.000371894] linear=[[ -3.53343e-07 ]<br>\n",
       " [  0.000422248 ]<br>\n",
       " [  0.0985606   ]<br>\n",
       " [ -0.0331838   ]]</p>"
      ],
      "text/plain": [
       "class=Function name=Unnamed implementation=class=FunctionImplementation name=Unnamed description=[x0,x1,x2,x3,y0] evaluationImplementation=class=LinearEvaluation name=Unnamed center=class=Point name=Unnamed dimension=4 values=[0,0,0,0] constant=class=Point name=Unnamed dimension=1 values=[0.000371894] linear=class=Matrix implementation=class=MatrixImplementation name=Unnamed rows=4 columns=1 values=[-3.53343e-07,0.000422248,0.0985606,-0.0331838] gradientImplementation=class=ConstantGradient name=Unnamed constant=class=Matrix implementation=class=MatrixImplementation name=Unnamed rows=4 columns=1 values=[-3.53343e-07,0.000422248,0.0985606,-0.0331838] hessianImplementation=class=ConstantHessian name=Unnamed constant=class=SymmetricTensor implementation=class=TensorImplementation name=Unnamed rows=4 columns=4 sheets=1 values=[0,0,0,0,0,0,0,0,0,0,0,0,0,0,0,0]"
      ]
     },
     "execution_count": 5,
     "metadata": {},
     "output_type": "execute_result"
    }
   ],
   "source": [
    "n = 1000\n",
    "sampleX = X.getSample(n)\n",
    "sampleY = g(sampleX)\n",
    "\n",
    "myLeastSquares = ot.LinearLeastSquares(sampleX, sampleY)\n",
    "\n",
    "myLeastSquares.run()\n",
    "responseSurface = myLeastSquares.getMetaModel()\n",
    "responseSurface"
   ]
  },
  {
   "cell_type": "code",
   "execution_count": 6,
   "metadata": {},
   "outputs": [],
   "source": [
    "val = ot.MetaModelValidation(sampleX, sampleY, responseSurface)"
   ]
  },
  {
   "cell_type": "markdown",
   "metadata": {},
   "source": [
    "Puisque nous utilisons le même plan d'expériences pour l'apprentissage et la validation, nous obtenons le coefficient R2 (si nous avions utilisé un plan différent pour la validation, ce coefficient se nommerait Q2). "
   ]
  },
  {
   "cell_type": "code",
   "execution_count": 7,
   "metadata": {},
   "outputs": [
    {
     "data": {
      "text/plain": [
       "0.9761937158394096"
      ]
     },
     "execution_count": 7,
     "metadata": {},
     "output_type": "execute_result"
    }
   ],
   "source": [
    "r2 = val.computePredictivityFactor()[0]\n",
    "r2"
   ]
  },
  {
   "cell_type": "code",
   "execution_count": 8,
   "metadata": {},
   "outputs": [
    {
     "data": {
      "image/png": "[encoded data removed]",
      "text/plain": [
       "<Figure size 288x216 with 1 Axes>"
      ]
     },
     "metadata": {
      "needs_background": "light"
     },
     "output_type": "display_data"
    }
   ],
   "source": [
    "graph = val.drawValidation()\n",
    "graph.setTitle(\"n=%d, R2=%.2f%%\" % (n, r2 * 100))\n",
    "view = otv.View(graph, figure_kw={\"figsize\": (4.0, 3.0)})"
   ]
  },
  {
   "cell_type": "markdown",
   "metadata": {},
   "source": [
    "On pourrait compléter l'analyse en utilisant un second plan pour la validation, mais il s'avère que cela n'est pas nécessaire dans notre cas particulier. "
   ]
  },
  {
   "cell_type": "code",
   "execution_count": 9,
   "metadata": {},
   "outputs": [
    {
     "name": "stdout",
     "output_type": "stream",
     "text": [
      "hat(sigma) = 0.7215\n"
     ]
    },
    {
     "data": {
      "image/png": "[encoded data removed]",
      "text/plain": [
       "<Figure size 288x216 with 1 Axes>"
      ]
     },
     "metadata": {
      "needs_background": "light"
     },
     "output_type": "display_data"
    }
   ],
   "source": [
    "myLeastSquares = ot.LinearLeastSquares(sampleX, sampleY)\n",
    "myLeastSquares.run()\n",
    "responseSurface = myLeastSquares.getMetaModel()\n",
    "predicted_outputs = responseSurface(sampleX)\n",
    "residuals_sample = sampleY - predicted_outputs\n",
    "residuals_sample.setDescription([\"Residuals\"])\n",
    "sample_size = sampleX.getSize()\n",
    "input_dimension = sampleX.getDimension()\n",
    "n_parameters = 1 + input_dimension\n",
    "residuals_point = residuals_sample.asPoint()\n",
    "sigma_hat = np.sqrt(residuals_point.normSquare() / (sample_size - n_parameters))\n",
    "print(\"hat(sigma) = %.4f\" % (sigma_hat))\n",
    "noise_estimated = ot.Normal(0.0, sigma_hat)\n",
    "\n",
    "graph = ot.KernelSmoothing().build(residuals_sample).drawPDF()\n",
    "graph.setLegends([\"KDE\"])\n",
    "curve = noise_estimated.drawPDF()\n",
    "curve.setLegends([\"Gaussian\"])\n",
    "graph.add(curve)\n",
    "number_of_graphs = len(graph.getDrawables())\n",
    "graph.setColors(ot.Drawable().BuildDefaultPalette(number_of_graphs))\n",
    "graph.setLegendPosition(\"topright\")\n",
    "view = otv.View(graph, figure_kw={\"figsize\": (4.0, 3.0)})"
   ]
  },
  {
   "cell_type": "code",
   "execution_count": 10,
   "metadata": {},
   "outputs": [
    {
     "data": {
      "text/html": [
       "<p>[0.122931,0.763083,0.00990243,0.0441961]</p>"
      ],
      "text/plain": [
       "class=Point name=Unnamed dimension=4 values=[0.122931,0.763083,0.00990243,0.0441961]"
      ]
     },
     "execution_count": 10,
     "metadata": {},
     "output_type": "execute_result"
    }
   ],
   "source": [
    "importance_factors = ot.CorrelationAnalysis.SRC(sampleX, sampleY)\n",
    "importance_factors"
   ]
  },
  {
   "cell_type": "markdown",
   "metadata": {},
   "source": [
    "On observe que la somme des indices SRC carrés retournée par `SRC` n'est pas égale à 1. "
   ]
  },
  {
   "cell_type": "code",
   "execution_count": 11,
   "metadata": {},
   "outputs": [
    {
     "data": {
      "text/plain": [
       "0.9401120609934014"
      ]
     },
     "execution_count": 11,
     "metadata": {},
     "output_type": "execute_result"
    }
   ],
   "source": [
    "importance_factors.norm1()"
   ]
  },
  {
   "cell_type": "markdown",
   "metadata": {},
   "source": [
    "Cet écart est attendu car il est associé à l'erreur d'estimation des indices par la méthode d'échantillonnage."
   ]
  },
  {
   "cell_type": "code",
   "execution_count": 12,
   "metadata": {},
   "outputs": [
    {
     "data": {
      "image/png": "[encoded data removed]",
      "text/plain": [
       "<Figure size 288x216 with 1 Axes>"
      ]
     },
     "metadata": {
      "needs_background": "light"
     },
     "output_type": "display_data"
    }
   ],
   "source": [
    "input_names = g.getInputDescription()\n",
    "graph = ot.SobolIndicesAlgorithm.DrawCorrelationCoefficients(\n",
    "    importance_factors, input_names, \"Squared SRC coefficients\"\n",
    ")\n",
    "view = otv.View(graph, figure_kw={\"figsize\": (4.0, 3.0)})"
   ]
  },
  {
   "cell_type": "markdown",
   "metadata": {},
   "source": [
    "Nous pouvons comparer les résultats que nous avions obtenu par la méthode du développement de Taylor. \n",
    "\n",
    "| Méthode | E | F | L | I |\n",
    "|---|---|---|---|---|\n",
    "| Taylor | 0.1535 | 0.7856 | 0.0101 | 0.0508 |\n",
    "| Regression | 0.1307 | 0.8117 | 0.0105 | 0.0470 |\n",
    "\n",
    "On peut remarquer que, dans ce cas particulier, les deux méthodes donnent des résultats très similaires. En effet, \n",
    "- la méthode fondée sur le développement de Taylor fait l'hypothèse locale d'un comportement linéaire au voisinage du point moyen $E(X)$,\n",
    "- la méthode fondée sur la regression linéaire fait l'hypothèse globale d'un comportement linéaire sur le domaine du vecteur aléatoire $X$.\n",
    "\n",
    "Puisque, dans notre application, la combinaison particulière des lois marginales et de la fonction $g$ mènent à un comportement approximativement linéaire, les deux méthodes produisent des résultats similaires."
   ]
  },
  {
   "cell_type": "markdown",
   "metadata": {},
   "source": [
    "## Exercice 1 : analyse graphique sur le cas poutre\n",
    "\n",
    "L'objectif de cet exercice est d'observer l'évolution de Y en fonction de chaque marginale $X_i$. \n",
    "\n",
    "- Pour `i=0,...,3`, utiliser la classe `Cloud` pour dessiner l'échantillon de points avec `sampleX[:,i]` en abscisse et `sampleY` en ordonnées.\n",
    "- Observez le graphique. Quelle variable d'entrée $X_i$ semble avoir le plus d'impact sur la variabilité de la variable de sortie $Y$ ? Quelle variable d'entrée semble n'avoir aucun impact sur la variabilité de $Y$ ?"
   ]
  },
  {
   "cell_type": "markdown",
   "metadata": {},
   "source": [
    "## Solution de l'exercice 1"
   ]
  },
  {
   "cell_type": "code",
   "execution_count": 13,
   "metadata": {},
   "outputs": [
    {
     "data": {
      "image/png": "[encoded data removed]",
      "text/plain": [
       "<Figure size 864x216 with 4 Axes>"
      ]
     },
     "metadata": {
      "needs_background": "light"
     },
     "output_type": "display_data"
    }
   ],
   "source": [
    "dimX = X.getDimension()\n",
    "inputdescr = sampleX.getDescription()\n",
    "\n",
    "grid = ot.GridLayout(1, dimX)\n",
    "for i in range(dimX):\n",
    "    graph = ot.Graph(\"\", inputdescr[i], \"Y\", True, \"\")\n",
    "    cloud = ot.Cloud(sampleX[:, i], sampleY)\n",
    "    graph.add(cloud)\n",
    "    grid.setGraph(0, i, graph)\n",
    "view = otv.View(grid, figure_kw={\"figsize\": (12.0, 3.0)})\n",
    "pl.subplots_adjust(wspace=0.3)"
   ]
  },
  {
   "cell_type": "markdown",
   "metadata": {},
   "source": [
    "On observe que la dépendance entre Y et F est très forte : \n",
    "- les faibles valeurs de F (proches de $0.2\\times 10^5$) mènent à une variable Y dont la distribution est entre 0 et 10,\n",
    "- les fortes valeurs de F (proche de $0.8\\times 10^5$) mènent à une variable Y dont la distribution est entre 20 et 40.\n",
    "\n",
    "On observe au contraire que la variabilité de Y semble indépendante de L. "
   ]
  },
  {
   "cell_type": "markdown",
   "metadata": {},
   "source": [
    "## Solution de l'exercice 2 : le coefficient de corrélation de Pearson"
   ]
  },
  {
   "cell_type": "code",
   "execution_count": 14,
   "metadata": {},
   "outputs": [
    {
     "name": "stdout",
     "output_type": "stream",
     "text": [
      "5x5\n",
      "[[  1         -0.014625  -0.0356988  0.0344079 -0.374176  ]\n",
      " [ -0.014625   1          0.0352995 -0.0379832  0.890172  ]\n",
      " [ -0.0356988  0.0352995  1         -0.0247714  0.148071  ]\n",
      " [  0.0344079 -0.0379832 -0.0247714  1         -0.257938  ]\n",
      " [ -0.374176   0.890172   0.148071  -0.257938   1         ]]\n"
     ]
    }
   ],
   "source": [
    "sampleXY = ot.Sample(n, 5)\n",
    "sampleXY[:, 0:4] = sampleX\n",
    "sampleXY[:, 4] = sampleY\n",
    "\n",
    "rho = sampleXY.computePearsonCorrelation()\n",
    "print(rho)"
   ]
  },
  {
   "cell_type": "markdown",
   "metadata": {},
   "source": [
    "La dernière ligne de la matrice contient les coefficients qui relient chaque entrée à la sortie. \n",
    "- On observe que le plus fort coefficient est égal à 0.89 est celui associé à F, avec un coefficient positif. Le fait que le coefficient est positif est tout à fait évident dans le nuage de points (Y,F) précédent. \n",
    "- On observe que le second fort coefficient est égal à -0.33 est celui associé à E, avec un coefficient positif. Le fait que le coefficient est négatif n'est pas si évident dans le nuage de points (Y,E) précédent. \n",
    "- Les variables E et I ont des coefficients de corrélation proches et ont dont des effets comparables sur la sortie. \n",
    "- Avec un coefficient de corrélation linéaire égal à 0.14, la variable L semble n'avoir aucun impact sur la variabilité de la sortie."
   ]
  },
  {
   "cell_type": "code",
   "execution_count": 15,
   "metadata": {},
   "outputs": [
    {
     "name": "stdout",
     "output_type": "stream",
     "text": [
      "rho(Y,E) = -0.3742\n",
      "rho(Y,F) = 0.8902\n",
      "rho(Y,L) = 0.1481\n",
      "rho(Y,I) = -0.2579\n"
     ]
    }
   ],
   "source": [
    "for i in range(4):\n",
    "    print(\"rho(Y,%s) = %.4f\" % (inputdescr[i], rho[4, i]))"
   ]
  },
  {
   "cell_type": "markdown",
   "metadata": {},
   "source": [
    "On calcule le carré des coefficients de Pearson. "
   ]
  },
  {
   "cell_type": "code",
   "execution_count": 16,
   "metadata": {},
   "outputs": [
    {
     "data": {
      "text/html": [
       "<p>[0.140008,0.792406,0.021925,0.0665318]</p>"
      ],
      "text/plain": [
       "class=Point name=Unnamed dimension=4 values=[0.140008,0.792406,0.021925,0.0665318]"
      ]
     },
     "execution_count": 16,
     "metadata": {},
     "output_type": "execute_result"
    }
   ],
   "source": [
    "squaredPearsonIndices = ot.Point([rho[4, i] ** 2 for i in range(4)])\n",
    "squaredPearsonIndices"
   ]
  },
  {
   "cell_type": "markdown",
   "metadata": {},
   "source": [
    "On compare ensuite avec les coefficients SRC carrés. "
   ]
  },
  {
   "cell_type": "code",
   "execution_count": 17,
   "metadata": {},
   "outputs": [
    {
     "data": {
      "text/html": [
       "<p>[0.122931,0.763083,0.00990243,0.0441961]</p>"
      ],
      "text/plain": [
       "class=Point name=Unnamed dimension=4 values=[0.122931,0.763083,0.00990243,0.0441961]"
      ]
     },
     "execution_count": 17,
     "metadata": {},
     "output_type": "execute_result"
    }
   ],
   "source": [
    "importance_factors"
   ]
  },
  {
   "cell_type": "markdown",
   "metadata": {},
   "source": [
    "On observe que les carrés des coefficients sont très proches des facteurs d'importance. Ils seraient égaux si la taille de l'échantillon était infinie. \n",
    "\n",
    "En effet, d'un côté l'estimateur du facteur d'importance est :\n",
    "\n",
    "$$\n",
    "\\widehat{\\eta}_i = \\frac{\\hat{\\beta}_i^2 \\hat{s}_{x_i}^2}{\\hat{s}_y^2}\n",
    "$$\n",
    "\n",
    "pour $i=1,\\ldots, p$ où $\\hat{\\beta}_i$ est l'estimateur des moindres carrés linéaires, $\\hat{s}_{x_i}^2$ est l'estimateur non biaisé de la variance de l'entrée $x_i$ \n",
    "et $\\hat{s}_y^2$ est l'estimateur non biaisé de la variance de la sortie $y$ :\n",
    "\n",
    "$$\n",
    "\\hat{s}_{x_i}^2 = \\frac{1}{n - 1} \\sum_{i=1}^p \\left( x_i^{(j)} - \\bar{x}_i \\right)^2, \\qquad\n",
    "\\hat{s}_y^2 = \\frac{1}{n - 1} \\sum_{i=1}^p \\left( y^{(j)} - \\bar{y} \\right)^2.\n",
    "$$\n",
    "\n",
    "D'un autre côté, le carré du coefficient de corrélation est :\n",
    "\n",
    "$$\n",
    "r(Y,X_i)^2 = \\frac{\\left( \\frac{1}{n - 1} \\sum_{j=1}^n \\left(y^{(j)}-\\bar{y}\\right)\\left(x^{(j)}_i-\\bar{x}_i\\right)\\right)^2}{\\hat{s}_y^2 \\hat{s}_{x_i}^2}\n",
    "$$\n",
    "\n",
    "pour $i=1,2,\\ldots,p$."
   ]
  },
  {
   "cell_type": "markdown",
   "metadata": {},
   "source": [
    "On observe que la somme de ces carrés n'est pas exactement égale à 1. C'est un résultat attendu, car la somme des carrés des coefficients de Pearson est une variable aléatoire de moyenne égale à 1. Elle fluctue donc de part et d'autre de cette valeur. "
   ]
  },
  {
   "cell_type": "code",
   "execution_count": 18,
   "metadata": {},
   "outputs": [
    {
     "name": "stdout",
     "output_type": "stream",
     "text": [
      "[[ 1        0.988026 ]\n",
      " [ 0.988026 1        ]]\n"
     ]
    }
   ],
   "source": [
    "y_hat = responseSurface(sampleX)\n",
    "sampleYY_hat = ot.Sample(n, 2)\n",
    "sampleYY_hat[:, 0] = sampleY\n",
    "sampleYY_hat[:, 1] = y_hat\n",
    "\n",
    "rho = sampleYY_hat.computePearsonCorrelation()\n",
    "print(rho)"
   ]
  },
  {
   "cell_type": "code",
   "execution_count": 19,
   "metadata": {},
   "outputs": [
    {
     "data": {
      "text/plain": [
       "(0.9761953634072805, 0.9761937158394096)"
      ]
     },
     "execution_count": 19,
     "metadata": {},
     "output_type": "execute_result"
    }
   ],
   "source": [
    "rho[0, 1] ** 2, r2"
   ]
  },
  {
   "cell_type": "code",
   "execution_count": 20,
   "metadata": {},
   "outputs": [
    {
     "data": {
      "text/plain": [
       "0.9761937158394096"
      ]
     },
     "execution_count": 20,
     "metadata": {},
     "output_type": "execute_result"
    }
   ],
   "source": [
    "residual = sampleY - y_hat\n",
    "SSR = residual.computeRawMoment(2)[0]\n",
    "SST = sampleY.computeCenteredMoment(2)[0]\n",
    "1.0 - SSR / SST"
   ]
  },
  {
   "cell_type": "markdown",
   "metadata": {},
   "source": [
    "## Solution de l'exercice 3 : application à une fonction jouet"
   ]
  },
  {
   "cell_type": "code",
   "execution_count": 21,
   "metadata": {},
   "outputs": [],
   "source": [
    "g = ot.SymbolicFunction([\"X1\", \"X2\", \"X3\"], [\"X1 * (X2 - X1) + X3\"])\n",
    "X1 = ot.Normal(0.1, 1)\n",
    "X2 = ot.Normal(1, 2)\n",
    "X3 = ot.Normal(2, 0.2)\n",
    "X = ot.ComposedDistribution([X1, X2, X3])\n",
    "n = 1000\n",
    "sampleX = X.getSample(n)\n",
    "sampleY = g(sampleX)"
   ]
  },
  {
   "cell_type": "code",
   "execution_count": 22,
   "metadata": {},
   "outputs": [
    {
     "data": {
      "text/plain": [
       "0.11015923977510089"
      ]
     },
     "execution_count": 22,
     "metadata": {},
     "output_type": "execute_result"
    }
   ],
   "source": [
    "myLeastSquares = ot.LinearLeastSquares(sampleX, sampleY)\n",
    "myLeastSquares.run()\n",
    "responseSurface = myLeastSquares.getMetaModel()\n",
    "val = ot.MetaModelValidation(sampleX, sampleY, responseSurface)\n",
    "q2 = val.computePredictivityFactor()[0]\n",
    "q2"
   ]
  },
  {
   "cell_type": "code",
   "execution_count": 23,
   "metadata": {},
   "outputs": [
    {
     "data": {
      "image/png": "[encoded data removed]",
      "text/plain": [
       "<Figure size 288x216 with 1 Axes>"
      ]
     },
     "metadata": {
      "needs_background": "light"
     },
     "output_type": "display_data"
    }
   ],
   "source": [
    "graph = val.drawValidation()\n",
    "graph.setTitle(\"n=%d, Q2=%.2f%%\" % (n, q2 * 100))\n",
    "view = otv.View(graph, figure_kw={\"figsize\": (4.0, 3.0)})"
   ]
  },
  {
   "cell_type": "markdown",
   "metadata": {},
   "source": [
    "On observe que le métamodèle est de mauvaise qualité. D'une part, le coefficient de prédictivité Q2 est égal à 15%, ce qui est médiocre. D'autre part, le graphique montre que les prédictions du métamodèle sont généralement éloignées du modèle. La cause de ces mauvaises prédictions est que le modèle n'est pas linéaire en fonction des variables d'entrée, ce que le métamodèle ignore. "
   ]
  },
  {
   "cell_type": "markdown",
   "metadata": {},
   "source": [
    "## Exercice 4 : modèle de poutre avec distributions élargies\n",
    "\n",
    "On considère le cas de la déviation verticale de la poutre encastrée, dans lequel on modifie les paramètres des distributions marginales de $E$ et $F$. Les paramètres modifiés sont présentés dans la table ci-dessous.\n",
    "\n",
    "|Variable|  Distribution|\n",
    "| ------------- |-------------|\n",
    "|E| Beta(alpha = 0.9, beta = 2.2, a = $1.0\\times 10^7$, $b = 10.0\\times 10^7$) |\n",
    "|F| Lognormal($\\mu_F=3 \\times 10^4$, $\\sigma_F=20\\times 10^3$, shift=$15\\times 10^3$)|\n",
    "|L| Uniform(min=250.0, max= 260.0)|\n",
    "|I| Beta(alpha = 2.5, beta = 1.5, a = 310, b = 450)|\n",
    "\n",
    "- Calculer les paramètres du modèle de régression linéaire pour ce nouveau modèle. \n",
    "- Calculer le coefficient de prédictivité $R^2$. Comment a-t-il évolué par rapport à la situation précédente ? Pourquoi ? Que conclure ?"
   ]
  },
  {
   "cell_type": "markdown",
   "metadata": {},
   "source": [
    "## Solution de l'exercice 4 : modèle de poutre avec distributions élargies"
   ]
  },
  {
   "cell_type": "code",
   "execution_count": 24,
   "metadata": {},
   "outputs": [
    {
     "data": {
      "text/plain": [
       "0.7239926686612792"
      ]
     },
     "execution_count": 24,
     "metadata": {},
     "output_type": "execute_result"
    }
   ],
   "source": [
    "dist_E = ot.Beta(0.9, 2.2, 1.0e7, 10.0e7)\n",
    "dist_E.setDescription([\"E\"])\n",
    "F_para = ot.LogNormalMuSigma(3.0e4, 20.0e3, 15.0e3)  # in N\n",
    "dist_F = ot.ParametrizedDistribution(F_para)\n",
    "dist_F.setDescription([\"F\"])\n",
    "X = ot.ComposedDistribution([dist_E, dist_F, dist_L, dist_I])\n",
    "\n",
    "g = ot.SymbolicFunction([\"E\", \"F\", \"L\", \"I\"], [\"F* L^3 /  (3 * E * I)\"])\n",
    "g.setOutputDescription([\"Y (cm)\"])\n",
    "\n",
    "n = 1000\n",
    "sampleX = X.getSample(n)\n",
    "sampleY = g(sampleX)\n",
    "\n",
    "myLeastSquares = ot.LinearLeastSquares(sampleX, sampleY)\n",
    "myLeastSquares.run()\n",
    "responseSurface = myLeastSquares.getMetaModel()\n",
    "val = ot.MetaModelValidation(sampleX, sampleY, responseSurface)\n",
    "q2 = val.computePredictivityFactor()[0]\n",
    "q2"
   ]
  },
  {
   "cell_type": "markdown",
   "metadata": {},
   "source": [
    "On observe que le coefficient de prédictivité est beaucoup moins proche de 1. Une valeur aussi basse indique que le modèle est non-linéaire. La cause de ce changement est l'élargissement du domaine de variation des variables d'entrée, qui prennent plus fréquemment des valeurs éloignées des valeurs centrales. Cela implique un comportement plus éloigné du comportement local que le gradient évalué au point central prédit. En conséquence, on ne peut pas utiliser les indices SRC pour le nouveau modèle."
   ]
  },
  {
   "cell_type": "markdown",
   "metadata": {},
   "source": [
    "## Solution de l'exercice 5 : Distribution des indices SRC par bootstrap"
   ]
  },
  {
   "cell_type": "code",
   "execution_count": 25,
   "metadata": {},
   "outputs": [
    {
     "data": {
      "text/html": [
       "<p>[0.121332,0.778404,0.00970799,0.0481119]</p>"
      ],
      "text/plain": [
       "class=Point name=Unnamed dimension=4 values=[0.121332,0.778404,0.00970799,0.0481119]"
      ]
     },
     "execution_count": 25,
     "metadata": {},
     "output_type": "execute_result"
    }
   ],
   "source": [
    "dist_E = ot.Beta(0.9, 2.2, 2.8e7, 4.8e7)\n",
    "dist_E.setDescription([\"E\"])\n",
    "F_para = ot.LogNormalMuSigma(3.0e4, 9.0e3, 15.0e3)  # in N\n",
    "dist_F = ot.ParametrizedDistribution(F_para)\n",
    "dist_F.setDescription([\"F\"])\n",
    "dist_L = ot.Uniform(250.0, 260.0)  # in cm\n",
    "dist_L.setDescription([\"L\"])\n",
    "dist_I = ot.Beta(2.5, 1.5, 310.0, 450.0)  # in cm^4\n",
    "dist_I.setDescription([\"I\"])\n",
    "\n",
    "X = ot.ComposedDistribution([dist_E, dist_F, dist_L, dist_I])\n",
    "\n",
    "g = ot.SymbolicFunction([\"E\", \"F\", \"L\", \"I\"], [\"F* L^3 /  (3 * E * I)\"])\n",
    "g.setOutputDescription([\"Y (cm)\"])\n",
    "\n",
    "g = ot.MemoizeFunction(g)\n",
    "\n",
    "XRV = ot.RandomVector(X)\n",
    "Y = ot.CompositeRandomVector(g, XRV)\n",
    "Y.setDescription([\"Y (cm)\"])\n",
    "\n",
    "sample_size = 100\n",
    "dimensionX = X.getDimension()\n",
    "sampleX = X.getSample(n)\n",
    "sampleY = g(sampleX)\n",
    "squaredSRCindices = ot.CorrelationAnalysis.SRC(sampleX, sampleY)\n",
    "squaredSRCindices"
   ]
  },
  {
   "cell_type": "code",
   "execution_count": 26,
   "metadata": {},
   "outputs": [],
   "source": [
    "bootstrap_size = 500\n",
    "squaredSRC_bootstrap = ot.Sample(bootstrap_size, dimensionX)\n",
    "for i in range(bootstrap_size):\n",
    "    indices = ot.BootstrapExperiment.GenerateSelection(sample_size, sample_size)\n",
    "    sampleX_bootstrap, sampleY_bootstrap = sampleX[indices], sampleY[indices]\n",
    "    squaredSRC_bootstrap[i, :] = ot.CorrelationAnalysis.SRC(\n",
    "        sampleX_bootstrap, sampleY_bootstrap\n",
    "    )\n",
    "\n",
    "# Compute bootstrap quantiles\n",
    "alpha = 0.05\n",
    "squaredSRClow = squaredSRC_bootstrap.computeQuantilePerComponent(alpha / 2.0)\n",
    "squaredSRCup = squaredSRC_bootstrap.computeQuantilePerComponent(1.0 - alpha / 2.0)\n",
    "squaredSRCBounds = ot.Interval(squaredSRClow, squaredSRCup)"
   ]
  },
  {
   "cell_type": "code",
   "execution_count": 27,
   "metadata": {},
   "outputs": [
    {
     "data": {
      "image/png": "[encoded data removed]",
      "text/plain": [
       "<Figure size 288x216 with 1 Axes>"
      ]
     },
     "metadata": {
      "needs_background": "light"
     },
     "output_type": "display_data"
    }
   ],
   "source": [
    "def plotSquaredSRCIndicesWithConfidenceIntervals(\n",
    "    squaredSRCindices, input_names, alpha, squaredSRCBounds\n",
    "):\n",
    "    \"\"\"Plot SRC indices with confidence bounds\"\"\"\n",
    "    dim = squaredSRCindices.getDimension()\n",
    "    lowerBounds = squaredSRCBounds.getLowerBound()\n",
    "    upperBounds = squaredSRCBounds.getUpperBound()\n",
    "    title = \"Squared SRC indices, Bounds at %.2f %%\" % ((1.0 - alpha) * 100)\n",
    "    # Create graph\n",
    "    graph = ot.SobolIndicesAlgorithm.DrawCorrelationCoefficients(\n",
    "        squaredSRCindices, input_names, title\n",
    "    )\n",
    "    # Add confidence bounds\n",
    "    for i in range(dim):\n",
    "        curve = ot.Curve([1 + i, 1 + i], [lowerBounds[i], upperBounds[i]])\n",
    "        graph.add(curve)\n",
    "    return graph\n",
    "\n",
    "\n",
    "graph = plotSquaredSRCIndicesWithConfidenceIntervals(\n",
    "    squaredSRCindices, input_names, alpha, squaredSRCBounds\n",
    ")\n",
    "view = otv.View(graph, figure_kw={\"figsize\": (4.0, 3.0)})"
   ]
  },
  {
   "cell_type": "markdown",
   "metadata": {},
   "source": [
    "## Solution de l'exercice 6 : Validation du modèle de régression linéaire"
   ]
  },
  {
   "cell_type": "code",
   "execution_count": 28,
   "metadata": {},
   "outputs": [
    {
     "name": "stdout",
     "output_type": "stream",
     "text": [
      "R2 = 0.9748\n",
      "Q2 = 0.9761\n"
     ]
    }
   ],
   "source": [
    "dist_E = ot.Beta(0.9, 2.2, 2.8e7, 4.8e7)\n",
    "dist_E.setDescription([\"E\"])\n",
    "F_para = ot.LogNormalMuSigma(3.0e4, 9.0e3, 15.0e3)  # in N\n",
    "dist_F = ot.ParametrizedDistribution(F_para)\n",
    "dist_F.setDescription([\"F\"])\n",
    "dist_L = ot.Uniform(250.0, 260.0)  # in cm\n",
    "dist_L.setDescription([\"L\"])\n",
    "dist_I = ot.Beta(2.5, 1.5, 310.0, 450.0)  # in cm^4\n",
    "dist_I.setDescription([\"I\"])\n",
    "\n",
    "X = ot.ComposedDistribution([dist_E, dist_F, dist_L, dist_I])\n",
    "\n",
    "g = ot.SymbolicFunction([\"E\", \"F\", \"L\", \"I\"], [\"F* L^3 /  (3 * E * I)\"])\n",
    "g.setOutputDescription([\"Y (cm)\"])\n",
    "\n",
    "# 1. Train\n",
    "sample_size_train = 1000\n",
    "sampleX_train = X.getSample(sample_size_train)\n",
    "sampleY_train = g(sampleX_train)\n",
    "\n",
    "myLeastSquares = ot.LinearLeastSquares(sampleX_train, sampleY_train)\n",
    "myLeastSquares.run()\n",
    "responseSurface = myLeastSquares.getMetaModel()\n",
    "val = ot.MetaModelValidation(sampleX, sampleY, responseSurface)\n",
    "r2 = val.computePredictivityFactor()[0]\n",
    "print(\"R2 = %.4f\" % (r2))\n",
    "\n",
    "# 2. Test\n",
    "sample_size_test = 1000\n",
    "sampleX_test = X.getSample(sample_size_test)\n",
    "sampleY_test = g(sampleX_test)\n",
    "\n",
    "val = ot.MetaModelValidation(sampleX_test, sampleY_test, responseSurface)\n",
    "q2 = val.computePredictivityFactor()[0]\n",
    "print(\"Q2 = %.4f\" % (q2))"
   ]
  },
  {
   "cell_type": "markdown",
   "metadata": {},
   "source": [
    "On observe peu de différence entre les coefficients $R^2$ et $Q^2$. On peut par conséquent être rassuré sur la qualité du métamodèle. La cause de cette faible différence est due au fait que l'on estime seulement $p + 1 = 5$ coefficients avec un plan d'expériences d'apprentissage de taille $n_{train} = 1000$. Par conséquent, on dispose d'une quantité relativement grande d'observations et le sur-apprentissage n'est pas un problème ici."
   ]
  },
  {
   "cell_type": "code",
   "execution_count": 29,
   "metadata": {},
   "outputs": [
    {
     "name": "stdout",
     "output_type": "stream",
     "text": [
      "hat(sigma) = 0.6936\n"
     ]
    }
   ],
   "source": [
    "predicted_outputs = responseSurface(sampleX)\n",
    "residuals_sample = sampleY - predicted_outputs\n",
    "residuals_sample.setDescription([\"Residuals\"])\n",
    "sample_size = sampleX.getSize()\n",
    "input_dimension = sampleX.getDimension()\n",
    "n_parameters = 1 + input_dimension\n",
    "residuals_point = residuals_sample.asPoint()\n",
    "sigma_hat = np.sqrt(residuals_point.normSquare() / (sample_size - n_parameters))\n",
    "print(\"hat(sigma) = %.4f\" % (sigma_hat))\n",
    "noise_estimated = ot.Normal(0.0, sigma_hat)"
   ]
  },
  {
   "cell_type": "code",
   "execution_count": 30,
   "metadata": {},
   "outputs": [
    {
     "data": {
      "image/png": "[encoded data removed]",
      "text/plain": [
       "<Figure size 288x216 with 1 Axes>"
      ]
     },
     "metadata": {
      "needs_background": "light"
     },
     "output_type": "display_data"
    }
   ],
   "source": [
    "QQ_plot = ot.VisualTest.DrawQQplot(residuals_sample, noise_estimated)\n",
    "view = otv.View(QQ_plot, figure_kw={\"figsize\": (4.0, 3.0)})"
   ]
  },
  {
   "cell_type": "code",
   "execution_count": 31,
   "metadata": {},
   "outputs": [
    {
     "data": {
      "image/png": "[encoded data removed]",
      "text/plain": [
       "<Figure size 288x216 with 1 Axes>"
      ]
     },
     "metadata": {
      "needs_background": "light"
     },
     "output_type": "display_data"
    }
   ],
   "source": [
    "def computeTrainTestResiduals(sample_size_train, sample_size_test):\n",
    "    sampleX_train = X.getSample(sample_size_train)\n",
    "    sampleY_train = g(sampleX_train)\n",
    "\n",
    "    myLeastSquares = ot.LinearLeastSquares(sampleX_train, sampleY_train)\n",
    "    myLeastSquares.run()\n",
    "    responseSurface = myLeastSquares.getMetaModel()\n",
    "    val = ot.MetaModelValidation(sampleX_train, sampleY_train, responseSurface)\n",
    "    residualsDistributionTrain = val.getResidualDistribution()\n",
    "\n",
    "    # 2. Test\n",
    "    sampleX_test = X.getSample(sample_size_test)\n",
    "    sampleY_test = g(sampleX_test)\n",
    "\n",
    "    val = ot.MetaModelValidation(sampleX_test, sampleY_test, responseSurface)\n",
    "    residualsDistributionTest = val.getResidualDistribution()\n",
    "    return residualsDistributionTrain, residualsDistributionTest\n",
    "\n",
    "\n",
    "sample_size_train = 8\n",
    "sample_size_test = 1000\n",
    "residualsDistributionTrain, residualsDistributionTest = computeTrainTestResiduals(\n",
    "    sample_size_train, sample_size_test\n",
    ")\n",
    "graph = residualsDistributionTrain.drawPDF()\n",
    "graph.setLegends([\"Train\"])\n",
    "curve = residualsDistributionTest.drawPDF()\n",
    "curve.setLegends([\"Test\"])\n",
    "graph.add(curve)\n",
    "graph.setColors(ot.Drawable_BuildDefaultPalette(2))\n",
    "graph.setTitle(\"n_train = %d, n_test = %d\" % (sample_size_train, sample_size_test))\n",
    "view = otv.View(graph, figure_kw={\"figsize\": (4.0, 3.0)})"
   ]
  },
  {
   "cell_type": "markdown",
   "metadata": {},
   "source": [
    "Lorsque la taille de l'échantillon d'apprentissage est voisine du nombre de paramètres, alors le sur-apprentissage devient visible. Dans ce cas, la distribution des résidus issus de l'échantillon d'apprentissage est beaucoup plus resserrée que la distribution des résidus du métamodèle sur l'échantillon de test. "
   ]
  },
  {
   "cell_type": "code",
   "execution_count": null,
   "metadata": {},
   "outputs": [],
   "source": []
  }
 ],
 "metadata": {
  "kernelspec": {
   "display_name": "Python 3 (ipykernel)",
   "language": "python",
   "name": "python3"
  },
  "language_info": {
   "codemirror_mode": {
    "name": "ipython",
    "version": 3
   },
   "file_extension": ".py",
   "mimetype": "text/x-python",
   "name": "python",
   "nbconvert_exporter": "python",
   "pygments_lexer": "ipython3",
   "version": "3.10.0"
  }
 },
 "nbformat": 4,
 "nbformat_minor": 2
}
