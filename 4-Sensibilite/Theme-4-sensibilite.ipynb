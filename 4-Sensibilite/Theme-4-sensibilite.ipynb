{
 "cells": [
  {
   "cell_type": "markdown",
   "metadata": {},
   "source": [
    "# Thème 4 - analyse de sensibilité\n",
    "\n",
    "## Introduction\n",
    "\n",
    "L'objectif de cette séquence est de réaliser l'analyse de sensibilité, c'est à dire la hiérachisation des variables d'entrée en fonction de leur impact sur la variabilité de la sortie. Dans la méthodologie générique de traitement des incertitudes, c'est l'étape C'.\n",
    "\n",
    "## Vue d'ensemble\n",
    "\n",
    "- Rappels de cours sur l'analyse de sensibilité d'un modèle linéaire : `Cours-Sensibilité-lineaire.ipynb`\n",
    "- Exercice : `Exercice-Sensibilité-SRC-cantilever-beam.ipynb`\n",
    "- Rappels de cours sur l'analyse de sensibilité d'un modèle non-linéaire : `Cours-Sensibilite-nonlineaire.ipynb`\n",
    "- Exercice : `Exercice-Sensibilité-Sobol-cantilever-beam.ipynb`\n",
    "\n",
    "## Devoir maison\n",
    "\n",
    "- Devoir maison : `Devoir-Sensibilite-axial-stressed-beam.ipynb`"
   ]
  }
 ],
 "metadata": {
  "kernelspec": {
   "display_name": "Python 3",
   "language": "python",
   "name": "python3"
  },
  "language_info": {
   "codemirror_mode": {
    "name": "ipython",
    "version": 3
   },
   "file_extension": ".py",
   "mimetype": "text/x-python",
   "name": "python",
   "nbconvert_exporter": "python",
   "pygments_lexer": "ipython3",
   "version": "3.8.3"
  }
 },
 "nbformat": 4,
 "nbformat_minor": 2
}
