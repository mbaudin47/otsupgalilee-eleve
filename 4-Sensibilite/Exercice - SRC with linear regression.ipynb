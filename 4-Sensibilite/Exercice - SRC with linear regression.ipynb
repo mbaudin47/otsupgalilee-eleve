{
 "cells": [
  {
   "cell_type": "markdown",
   "id": "58b8b155",
   "metadata": {},
   "source": [
    "# Compute confidence interval of importance factors indices using linear regression\n",
    "\n",
    "This examples shows how to compute confidence bounds of importance factors using the properties of linear regression methods. First, we compute importance factors indices and draw them. Then we compute confidence bounds using methods from linear regression, and draw them.\n",
    "\n",
    "The bounds are computed using the squared normal distribution is is based on the distribution of the vector of parameters."
   ]
  },
  {
   "cell_type": "code",
   "execution_count": 1,
   "id": "819e602e",
   "metadata": {},
   "outputs": [],
   "source": [
    "import openturns as ot\n",
    "import openturns.viewer as otv\n",
    "from math import sqrt\n",
    "import pylab as pl"
   ]
  },
  {
   "cell_type": "markdown",
   "id": "c18130b9",
   "metadata": {},
   "source": [
    "We define the function g."
   ]
  },
  {
   "cell_type": "code",
   "execution_count": 2,
   "id": "c9ac8737",
   "metadata": {},
   "outputs": [],
   "source": [
    "def functionCrue8vars(X):\n",
    "    Q, Ks, Zv, Zm, Hd, Zb, L, B = X\n",
    "    Zd = Zb + Hd\n",
    "    alpha = (Zm - Zv) / L\n",
    "    H = (Q / (Ks * B * sqrt(alpha))) ** (3.0 / 5.0)\n",
    "    Zc = H + Zv\n",
    "    S = Zc - Zd\n",
    "    return [S]\n",
    "\n",
    "\n",
    "g = ot.PythonFunction(8, 1, functionCrue8vars)\n",
    "g.setDescription([\"Q\", \"Ks\", \"Zv\", \"Zm\", \"Hd\", \"Zb\", \"L\", \"B\", \"S\"])\n",
    "\n",
    "Hd = 8.0\n",
    "Zb = 55.5\n",
    "L = 5000.0\n",
    "B = 300.0\n",
    "X = [Hd, Zb, L, B]\n",
    "g_parametric = ot.ParametricFunction(g, [4, 5, 6, 7], X)"
   ]
  },
  {
   "cell_type": "markdown",
   "id": "042ad57f",
   "metadata": {},
   "source": [
    "Then we define the random vector. "
   ]
  },
  {
   "cell_type": "code",
   "execution_count": 3,
   "id": "705695c7",
   "metadata": {},
   "outputs": [],
   "source": [
    "Q = ot.Gumbel(558.0, 1013.0)\n",
    "otLOW = ot.TruncatedDistribution.LOWER\n",
    "Q = ot.TruncatedDistribution(Q, 0, otLOW)\n",
    "Ks = ot.Normal(30.0, 7.5)\n",
    "Ks = ot.TruncatedDistribution(Ks, 0, otLOW)\n",
    "Zv = ot.Uniform(49.0, 51.0)\n",
    "Zm = ot.Uniform(54.0, 56.0)\n",
    "\n",
    "X = ot.ComposedDistribution([Q, Ks, Zv, Zm])"
   ]
  },
  {
   "cell_type": "markdown",
   "id": "ea720aa6",
   "metadata": {},
   "source": [
    "We produce a pair of input and output sample."
   ]
  },
  {
   "cell_type": "code",
   "execution_count": 4,
   "id": "c867ba74",
   "metadata": {},
   "outputs": [
    {
     "name": "stdout",
     "output_type": "stream",
     "text": [
      "[0.378122,0.159565,0.180492,0.00565251]\n"
     ]
    }
   ],
   "source": [
    "sampleSize = 100\n",
    "sampleX = X.getSample(sampleSize)\n",
    "sampleY = g_parametric(sampleX)\n",
    "\n",
    "importance_factors = ot.CorrelationAnalysis.SRC(sampleX, sampleY)\n",
    "print(importance_factors)"
   ]
  },
  {
   "cell_type": "code",
   "execution_count": 5,
   "id": "ec7423aa",
   "metadata": {},
   "outputs": [
    {
     "data": {
      "image/png": "[encoded data removed]",
      "text/plain": [
       "<Figure size 288x216 with 1 Axes>"
      ]
     },
     "metadata": {
      "needs_background": "light"
     },
     "output_type": "display_data"
    }
   ],
   "source": [
    "input_names = g_parametric.getInputDescription()\n",
    "graph = ot.SobolIndicesAlgorithm.DrawCorrelationCoefficients(\n",
    "    importance_factors, input_names, \"Importance factors\"\n",
    ")\n",
    "graph.setYTitle(\"Importance factors\")\n",
    "view = otv.View(graph, figure_kw={\"figsize\": (4.0, 3.0)})\n",
    "_ = pl.ylim(top=0.1 + max(importance_factors))"
   ]
  },
  {
   "cell_type": "code",
   "execution_count": 6,
   "id": "28e71ae8",
   "metadata": {},
   "outputs": [
    {
     "data": {
      "text/html": [
       "<p>class=LinearEvaluation name=Unnamed center=[0,0,0,0] constant=[-51.7738] linear=[[  0.00113853 ]<br>\n",
       " [ -0.0669253  ]<br>\n",
       " [  1.01919    ]<br>\n",
       " [ -0.17428    ]]</p>"
      ],
      "text/plain": [
       "class=Function name=Unnamed implementation=class=FunctionImplementation name=Unnamed description=[x0,x1,x2,x3,y0] evaluationImplementation=class=LinearEvaluation name=Unnamed center=class=Point name=Unnamed dimension=4 values=[0,0,0,0] constant=class=Point name=Unnamed dimension=1 values=[-51.7738] linear=class=Matrix implementation=class=MatrixImplementation name=Unnamed rows=4 columns=1 values=[0.00113853,-0.0669253,1.01919,-0.17428] gradientImplementation=class=ConstantGradient name=Unnamed constant=class=Matrix implementation=class=MatrixImplementation name=Unnamed rows=4 columns=1 values=[0.00113853,-0.0669253,1.01919,-0.17428] hessianImplementation=class=ConstantHessian name=Unnamed constant=class=SymmetricTensor implementation=class=TensorImplementation name=Unnamed rows=4 columns=4 sheets=1 values=[0,0,0,0,0,0,0,0,0,0,0,0,0,0,0,0]"
      ]
     },
     "execution_count": 6,
     "metadata": {},
     "output_type": "execute_result"
    }
   ],
   "source": [
    "myLeastSquares = ot.LinearLeastSquares(sampleX, sampleY)\n",
    "myLeastSquares.run()\n",
    "responseSurface = myLeastSquares.getMetaModel()\n",
    "responseSurface"
   ]
  },
  {
   "cell_type": "code",
   "execution_count": 7,
   "id": "5beec4b0",
   "metadata": {},
   "outputs": [],
   "source": [
    "def define_linear_basis(dimension):\n",
    "    \"\"\"\n",
    "    Compute a basis suitable for linear regression.\n",
    "    \n",
    "    This basis corresponds to the linear regression model:\n",
    "    \n",
    "    Y = beta[0] + beta[1] * X_1 + ... + beta[p] * X_p\n",
    "   \n",
    "    where p is the dimension.\n",
    "    The first item of this basis corresponds to the intercept, i.e. \n",
    "    the function is constant and equal to 1.\n",
    "    The remaining items are identity function, returning the corresponding \n",
    "    input variable.\n",
    "    \n",
    "    Parameters\n",
    "    ----------\n",
    "    dimension : int\n",
    "        The number of dimensions of the input variable X.\n",
    "    \n",
    "    Returns\n",
    "    -------\n",
    "    basis : ot.Basis(1 + dimension)\n",
    "        The functional basis.\n",
    "    \"\"\"\n",
    "    list_of_inputs = [\"x%d\" % (i) for i in range(dimension)]\n",
    "    # The intercept\n",
    "    basis_list = []\n",
    "    constant_function = ot.SymbolicFunction(list_of_inputs, [\"1\"])\n",
    "    basis_list.append(constant_function)\n",
    "    # The remaining functions\n",
    "    for i in range(dimension):\n",
    "        identity_function = ot.SymbolicFunction(list_of_inputs, [\"x%d\" % (i)])\n",
    "        basis_list.append(identity_function)\n",
    "    basis = ot.Basis(basis_list)\n",
    "    return basis"
   ]
  },
  {
   "cell_type": "code",
   "execution_count": 8,
   "id": "a9c05053",
   "metadata": {},
   "outputs": [],
   "source": [
    "def compute_least_squares_parameter_distribution(sampleX, sampleY):\n",
    "    \"\"\"\n",
    "    Compute the gaussian distribution of the beta parameter.\n",
    "    \n",
    "    This distribution is valid under the hypothesis that the linear \n",
    "    least squares problem has a gaussian residual distribution.\n",
    "    \n",
    "    Parameters\n",
    "    ----------\n",
    "    sampleX : ot.Sample(size, input_dimension)\n",
    "        The input sample.\n",
    "    sampleY : ot.Sample(size, 1)\n",
    "        The output sample.\n",
    "    \n",
    "    Returns\n",
    "    -------\n",
    "    distribution_betahat : ot.Normal()\n",
    "        The gaussian distribution of beta_hat.\n",
    "    \"\"\"\n",
    "    input_dimension = sampleX.getDimension()\n",
    "    basis = define_linear_basis(input_dimension)\n",
    "    design_proxy = ot.DesignProxy(sampleX, basis)\n",
    "    n_parameters = len(basis)\n",
    "    indices = list(range(n_parameters))\n",
    "    design_matrix = design_proxy.computeDesign(indices)\n",
    "    myLeastSquares = ot.LinearLeastSquares(sampleX, sampleY)\n",
    "    myLeastSquares.run()\n",
    "    responseSurface = myLeastSquares.getMetaModel()\n",
    "    predicted_outputs = responseSurface(sampleX)\n",
    "    residuals_sample = sampleY - predicted_outputs\n",
    "    residuals_sample.setDescription([\"Residuals\"])\n",
    "    residuals_point = residuals_sample.asPoint()\n",
    "    sample_size = sampleX.getSize()\n",
    "    sigma2_hat = residuals_point.normSquare() / (sample_size - n_parameters)\n",
    "    lsq_method = ot.QRMethod(design_proxy, indices)\n",
    "    observation_point = sampleY.asPoint()\n",
    "    beta_hat = lsq_method.solve(observation_point)\n",
    "    inverse_gram = lsq_method.getGramInverse()\n",
    "    covariance_matrix = ot.CovarianceMatrix(sigma2_hat * inverse_gram)\n",
    "    distribution_betahat = ot.Normal(beta_hat, covariance_matrix)\n",
    "    description = [r\"$\\beta_%d$\" % (i) for i in range(n_parameters)]\n",
    "    distribution_betahat.setDescription(description)\n",
    "    return distribution_betahat"
   ]
  },
  {
   "cell_type": "code",
   "execution_count": 9,
   "id": "0ee9047f",
   "metadata": {},
   "outputs": [
    {
     "name": "stdout",
     "output_type": "stream",
     "text": [
      "hat(Beta) =  [-51.7738,0.00113853,-0.0669253,1.01919,-0.17428]\n"
     ]
    }
   ],
   "source": [
    "distribution_betahat = compute_least_squares_parameter_distribution(sampleX, sampleY)\n",
    "beta_hat = distribution_betahat.getMean()\n",
    "print(\"hat(Beta) = \", beta_hat)"
   ]
  },
  {
   "cell_type": "code",
   "execution_count": 10,
   "id": "675d93b0",
   "metadata": {},
   "outputs": [
    {
     "name": "stdout",
     "output_type": "stream",
     "text": [
      "[-60.812, -42.7356]\n",
      "[0.00103796, 0.0012391]\n",
      "[-0.0758696, -0.0579811]\n",
      "[0.896351, 1.14204]\n",
      "[-0.291698, -0.0568613]\n"
     ]
    }
   ],
   "source": [
    "# Compute quantiles\n",
    "alpha = 0.05\n",
    "dimension = sampleX.getDimension()\n",
    "beta_lower_bound = ot.Point(1 + dimension)\n",
    "beta_upper_bound = ot.Point(1 + dimension)\n",
    "# We include the distribution of the intercept\n",
    "for i in range(1 + dimension):\n",
    "    marginal_beta_distribution = distribution_betahat.getMarginal(i)\n",
    "    marginal_beta_bounds = marginal_beta_distribution.computeBilateralConfidenceInterval(\n",
    "        1.0 - alpha\n",
    "    )\n",
    "    beta_lower_bound[i] = marginal_beta_bounds.getLowerBound()[0]\n",
    "    beta_upper_bound[i] = marginal_beta_bounds.getUpperBound()[0]\n",
    "beta_bounds = ot.Interval(beta_lower_bound, beta_upper_bound)\n",
    "print(beta_bounds)"
   ]
  },
  {
   "cell_type": "code",
   "execution_count": 11,
   "id": "03b5615a",
   "metadata": {},
   "outputs": [
    {
     "name": "stdout",
     "output_type": "stream",
     "text": [
      "variance_Y = 1.880\n"
     ]
    }
   ],
   "source": [
    "variance_Y = sampleY.computeCovariance()[0, 0]\n",
    "print(\"variance_Y = %.3f\" % (variance_Y))"
   ]
  },
  {
   "cell_type": "markdown",
   "id": "75e6892d",
   "metadata": {},
   "source": [
    "We are interested in the importance factors :\n",
    "$$\n",
    "\\eta_i = \\frac{\\beta_i^2 \\mathbb{V}(X_i)}{\\mathbb{V}(Y)}\n",
    "$$\n",
    "for $i = 1, ..., p$. \n",
    "\n",
    "We are estimate these importance factors using the estimator :\n",
    "$$\n",
    "\\hat{\\eta}_i = \\frac{\\hat{\\beta}_i^2 \\mathbb{V}(X_i)}{\\hat{\\sigma}_Y^2}\n",
    "$$\n",
    "for $i = 1, ..., p$ where $\\hat{\\sigma}_Y^2$ is the estimate of the variance of the output. \n",
    "\n",
    "In the next cell, we compute the importance factors using the linear regression. We are interested only in the coefficients $\\hat{\\beta}_1, ..., \\hat{\\beta}_p$ and not in $\\hat{\\beta}_0$, which is why we have to use a shift of +1 in the indices. "
   ]
  },
  {
   "cell_type": "code",
   "execution_count": 12,
   "id": "7d980966",
   "metadata": {},
   "outputs": [
    {
     "name": "stdout",
     "output_type": "stream",
     "text": [
      "[0.350857,0.133918,0.184145,0.00538444]\n"
     ]
    }
   ],
   "source": [
    "importance_factors = ot.Point(dimension)\n",
    "for i in range(dimension):\n",
    "    marginal_input_distribution = X.getMarginal(i)\n",
    "    variance_X_i = marginal_input_distribution.getCovariance()[0, 0]\n",
    "    # We shift beta, because we do not consider the intercept here.\n",
    "    importance_factors[i] = beta_hat[1 + i] ** 2 * variance_X_i / variance_Y\n",
    "print(importance_factors)"
   ]
  },
  {
   "cell_type": "markdown",
   "id": "12001c4e",
   "metadata": {},
   "source": [
    "We observe that parts of the estimator \n",
    "$$\n",
    "\\hat{\\eta}_i = \\frac{\\hat{\\beta}_i^2 \\mathbb{V}(X_i)}{\\hat{\\sigma}_Y^2}\n",
    "$$\n",
    "for $i = 1, ..., p$ have a known distribution. Indeed, the marginal distribution of $\\hat{\\beta}_i$ is known, using properties of the linear regression model.\n",
    "\n",
    "We recognize that if $\\hat{\\beta}_i \\sim \\mathcal{N}\\left(\\mu_{\\hat{\\beta}_i}, \\sigma_{\\hat{\\beta}_i}^2\\right)$, then $\\hat{\\beta}_i^2$ has a [noncentral chi-squared distribution with one degree of freedom](https://en.wikipedia.org/wiki/Noncentral_chi-squared_distribution). More precisely, the random variable $\\frac{\\hat{\\beta}_i}{\\sigma_{\\hat{\\beta}_i}}$ is $\\mathcal{N}(\\mu_{\\hat{\\beta}_i}, 1)$, which implies that $\\left(\\frac{\\hat{\\beta}_i}{\\sigma_{\\hat{\\beta}_i}}\\right)^2$ has a noncentral chi-squared distribution with a non centrality parameter $\\lambda = \\left(\\frac{\\mu_{\\hat{\\beta}_i}}{\\sigma_{\\hat{\\beta}_i}}\\right)^2$. \n",
    "\n",
    "The variable $\\hat{\\beta}_i^2$ is a chi-squared distribution if $\\mu_{\\hat{\\beta}_i} = 0$ and $\\sigma_{\\hat{\\beta}_i}^2 = 1$. This is unlikely to happen, since we consider a coefficient $\\hat{\\beta}$ which mean is not necessarily zero and variance is not necessarily equal to 1. \n",
    "\n",
    "The distribution of $\\hat{\\sigma}_Y^2$ is a little more complicated to compute. We known that :\n",
    "$$\n",
    "\\textrm{V}(Y) = \\beta_1^2 \\mathbb{V}(X_1) + ... + \\beta_p^2 \\mathbb{V}(X_p) + \\mathbb{V}(\\epsilon).\n",
    "$$\n",
    "Hence,\n",
    "$$\n",
    "\\hat{\\sigma}_Y^2 = \\hat{\\beta}_1^2 \\mathbb{V}(X_1) + ... + \\hat{\\beta}_p^2 \\mathbb{V}(X_p) + \\hat{\\sigma}_\\epsilon^2.\n",
    "$$\n",
    "The distribution of $\\hat{\\beta}_1^2 \\mathbb{V}(X_1) + ... + \\hat{\\beta}_p^2 \\mathbb{V}(X_p)$ is a sum of squared gaussian random variables. The distribution of $\\hat{\\sigma}_\\epsilon^2$ is less easy to compute. \n",
    "\n",
    "We may compute the distribution of $\\hat{\\beta}_i^2$ using the arithmetic of distributions, which leads to a `SquaredNormal` distribution. \n",
    "\n",
    "Let:\n",
    "$$\n",
    "Z_i = \\hat{\\beta}_i^2 \\mathbb{V}(X_i)\n",
    "$$\n",
    "for $i = 1, ..., p$.\n",
    "Therefore, we are interested in the distribution of :\n",
    "$$\n",
    "\\hat{\\eta}_i = \\frac{Z_i}{Z_1 + ... + Z_p + \\hat{\\sigma}_\\epsilon^2}.\n",
    "$$\n",
    "We notice that the variables $Z_i$ and $Z_1 + ... + Z_p$ are not independent. \n",
    "\n",
    "In the following calculation, we make the approximation :\n",
    "$$\n",
    "\\hat{\\eta}_i \\approx \\frac{Z_i}{Z_1 + ... + Z_p}\n",
    "$$\n",
    "i.e. we assume that the distribution of $\\hat{\\sigma}_\\epsilon^2$ can be neglected. This tends to reduce the variability of the importance factors and may lead to smaller confidence intervals. \n",
    "\n",
    "Furthermore, we assume that the random variables $Z_1, ..., Z_p$ are independent. This must increase the variability of the ratio and may lead to larger confidence intervals. \n",
    "\n",
    "In the next cel, we create a list with the list of distributions of $Z_1, ..., Z_p$. "
   ]
  },
  {
   "cell_type": "code",
   "execution_count": 13,
   "id": "ec68e159",
   "metadata": {},
   "outputs": [
    {
     "name": "stdout",
     "output_type": "stream",
     "text": [
      "RandomMixture(508950 * SquaredNormal(mu = 0.00113853, sigma = 5.13115e-05))\n",
      "RandomMixture(56.2199 * SquaredNormal(mu = -0.0669253, sigma = 0.00456347))\n",
      "RandomMixture(0.333333 * SquaredNormal(mu = 1.01919, sigma = 0.0626759))\n",
      "RandomMixture(0.333333 * SquaredNormal(mu = -0.17428, sigma = 0.0599084))\n"
     ]
    }
   ],
   "source": [
    "Z_distribution_list = []\n",
    "for i in range(dimension):\n",
    "    marginal_input_distribution = X.getMarginal(i)\n",
    "    variance_X_i = marginal_input_distribution.getCovariance()[0, 0]\n",
    "    marginal_beta_distribution = distribution_betahat.getMarginal(1 + i)\n",
    "    # Use the arithmetic of distributions\n",
    "    Z_i_distribution = marginal_beta_distribution ** 2 * variance_X_i\n",
    "    print(Z_i_distribution)\n",
    "    Z_distribution_list.append(Z_i_distribution)"
   ]
  },
  {
   "cell_type": "markdown",
   "id": "71e71415",
   "metadata": {},
   "source": [
    "We see that the product of a constant and a `SquaredNormal` is not simplified into a `SquaredNormal`. This is a simplification that could be done by the software. \n",
    "\n",
    "Then we create the random variable associated with the variable $Z_1 + ... + Z_p$, using the arithmetic of distributions. "
   ]
  },
  {
   "cell_type": "code",
   "execution_count": 14,
   "id": "14f752b6",
   "metadata": {},
   "outputs": [
    {
     "data": {
      "text/html": [
       "<p>RandomMixture(508950 * SquaredNormal(mu = 0.00113853, sigma = 5.13115e-05) + 56.2199 * SquaredNormal(mu = -0.0669253, sigma = 0.00456347) + 0.333333 * SquaredNormal(mu = 1.01919, sigma = 0.0626759) + 0.333333 * SquaredNormal(mu = -0.17428, sigma = 0.0599084))</p>"
      ],
      "text/plain": [
       "class=RandomMixture name=RandomMixture distribution collection=[class=SquaredNormal name=SquaredNormal mu=0.00113853 sigma=5.13115e-05,class=SquaredNormal name=SquaredNormal mu=-0.0669253 sigma=0.00456347,class=SquaredNormal name=SquaredNormal mu=1.01919 sigma=0.0626759,class=SquaredNormal name=SquaredNormal mu=-0.17428 sigma=0.0599084] weights =class=Matrix implementation=class=MatrixImplementation name=Unnamed rows=1 columns=4 values=[508950,56.2199,0.333333,0.333333] constant=class=Point name=Unnamed dimension=1 values=[0]"
      ]
     },
     "execution_count": 14,
     "metadata": {},
     "output_type": "execute_result"
    }
   ],
   "source": [
    "variance_Y_distribution = Z_distribution_list[0]\n",
    "for i in range(1, dimension):\n",
    "    variance_Y_distribution += Z_distribution_list[i]\n",
    "variance_Y_distribution"
   ]
  },
  {
   "cell_type": "markdown",
   "id": "163852f1",
   "metadata": {},
   "source": [
    "Finally, we compute the confidence bound, using again the arithmetic of distributions in order to define the ratio $\\frac{Z_i}{Z_1 + ... + Z_p}$. We finally create a random vector with independent marginals, with the `ComposedDistribution` class. "
   ]
  },
  {
   "cell_type": "code",
   "execution_count": 15,
   "id": "839b4218",
   "metadata": {},
   "outputs": [],
   "source": [
    "eta_i_distribution_list = []\n",
    "for i in range(dimension):\n",
    "    eta_i_distribution = Z_distribution_list[i] / variance_Y_distribution\n",
    "    eta_i_distribution_list.append(eta_i_distribution)\n",
    "eta_distribution = ot.ComposedDistribution(eta_i_distribution_list)"
   ]
  },
  {
   "cell_type": "code",
   "execution_count": 16,
   "id": "0ff74f47",
   "metadata": {},
   "outputs": [
    {
     "name": "stdout",
     "output_type": "stream",
     "text": [
      "[0.415953, 0.64203]\n",
      "[0.0763505, 0.0763505]\n",
      "[0.205061, 0.353892]\n",
      "[0.000847672, 0.0225222]\n"
     ]
    }
   ],
   "source": [
    "importance_factors_lower_bound = ot.Point(dimension)\n",
    "importance_factors_upper_bound = ot.Point(dimension)\n",
    "for i in range(dimension):\n",
    "    eta_i_distribution = eta_distribution.getMarginal(i)\n",
    "    marginal_bounds = eta_i_distribution.computeBilateralConfidenceInterval(1.0 - alpha)\n",
    "    importance_factors_lower_bound[i] = marginal_bounds.getLowerBound()[0]\n",
    "    importance_factors_upper_bound[i] = marginal_bounds.getUpperBound()[0]\n",
    "importance_factors_bounds = ot.Interval(\n",
    "    importance_factors_lower_bound, importance_factors_upper_bound\n",
    ")\n",
    "print(importance_factors_bounds)"
   ]
  },
  {
   "cell_type": "code",
   "execution_count": 17,
   "id": "f9ab86cd",
   "metadata": {},
   "outputs": [],
   "source": [
    "def plot_importance_factors_with_bounds(\n",
    "    importance_factors, input_names, alpha, importance_bounds\n",
    "):\n",
    "    \"\"\"\n",
    "    Plot importance factors indices with confidence bounds of level 1 - alpha\n",
    "    \n",
    "    Parameters\n",
    "    ----------\n",
    "    importance_factors : ot.Point(dimension)\n",
    "        The importance factors.\n",
    "    input_names : list(str)\n",
    "        The names of the input variables.\n",
    "    alpha : float, in [0, 1]\n",
    "        The complementary confidence level.\n",
    "    importance_bounds : ot.Interval(dimension)\n",
    "        The lower and upper bounds of the importance factors\n",
    "    \n",
    "    Returns\n",
    "    -------\n",
    "    graph : ot.Graph\n",
    "        The importance factors indices with lower and upper 1-alpha confidence intervals.\n",
    "    \"\"\"\n",
    "    dim = importance_factors.getDimension()\n",
    "    lowerBounds = importance_bounds.getLowerBound()\n",
    "    upperBounds = importance_bounds.getUpperBound()\n",
    "    graph = ot.SobolIndicesAlgorithm.DrawCorrelationCoefficients(\n",
    "        importance_factors, input_names, \"Importance factors\"\n",
    "    )\n",
    "    graph.setYTitle(\"Importance factors\")\n",
    "    title = \"Importance factors with bounds at %.2f %%\" % ((1 - alpha) * 100)\n",
    "\n",
    "    graph.setTitle(title)\n",
    "    # Add confidence bounds\n",
    "    for i in range(dim):\n",
    "        curve = ot.Curve([1 + i, 1 + i], [lowerBounds[i], upperBounds[i]])\n",
    "        graph.add(curve)\n",
    "    return graph"
   ]
  },
  {
   "cell_type": "code",
   "execution_count": 19,
   "id": "9c2a3be7",
   "metadata": {},
   "outputs": [
    {
     "data": {
      "image/png": "[encoded data removed]",
      "text/plain": [
       "<Figure size 288x216 with 1 Axes>"
      ]
     },
     "metadata": {
      "needs_background": "light"
     },
     "output_type": "display_data"
    }
   ],
   "source": [
    "graph = plot_importance_factors_with_bounds(\n",
    "    importance_factors, input_names, alpha, importance_factors_bounds\n",
    ")\n",
    "view = otv.View(graph, figure_kw={\"figsize\": (4.0, 3.0)})\n",
    "_ = pl.ylim(top=0.3 + max(importance_factors))"
   ]
  },
  {
   "cell_type": "markdown",
   "id": "5fc0116b",
   "metadata": {},
   "source": [
    "We notice that the bounds are different from than what we may expect. The confidence bound for the variable $K_s$ is very small. This might be the consequence of the fact that we have lost some of the variance considering that $\\hat{\\sigma}_Y^2$ is not random.\n",
    "\n",
    "The confidence bounds for some variables do not contain the estimator, especially for $Q$. This might be because we considered the numerator independent from the denominator in the distribution of $\\eta_Q$. \n",
    "\n",
    "One of the ways to explore this topic further would be to use the delta-method to estimate the asymptotic distribution of $\\eta_i$. This might be interesting because we generally estimate these coefficients using relatively large sample sizes, typically with $n > 100$. Hence, the asymptotic assumption might be valid in this case."
   ]
  },
  {
   "cell_type": "code",
   "execution_count": null,
   "id": "f61fa7c0",
   "metadata": {},
   "outputs": [],
   "source": []
  }
 ],
 "metadata": {
  "kernelspec": {
   "display_name": "Python 3 (ipykernel)",
   "language": "python",
   "name": "python3"
  },
  "language_info": {
   "codemirror_mode": {
    "name": "ipython",
    "version": 3
   },
   "file_extension": ".py",
   "mimetype": "text/x-python",
   "name": "python",
   "nbconvert_exporter": "python",
   "pygments_lexer": "ipython3",
   "version": "3.9.0"
  }
 },
 "nbformat": 4,
 "nbformat_minor": 5
}
