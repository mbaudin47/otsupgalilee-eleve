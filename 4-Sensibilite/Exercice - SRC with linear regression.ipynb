{
 "cells": [
  {
   "cell_type": "markdown",
   "id": "58b8b155",
   "metadata": {},
   "source": [
    "# Compute confidence interval of SRC indices using linear regression\n",
    "\n",
    "This examples shows how to compute SRC indices confidence bounds with linear regression methods. First, we compute SRC indices and draw them. Then we compute confidence bounds using methods from linear regression, and draw them.\n"
   ]
  },
  {
   "cell_type": "code",
   "execution_count": 1,
   "id": "819e602e",
   "metadata": {},
   "outputs": [],
   "source": [
    "import openturns as ot\n",
    "import openturns.viewer as otv\n",
    "from math import sqrt\n",
    "import pylab as pl"
   ]
  },
  {
   "cell_type": "markdown",
   "id": "c18130b9",
   "metadata": {},
   "source": [
    "We define the function g."
   ]
  },
  {
   "cell_type": "code",
   "execution_count": 2,
   "id": "c9ac8737",
   "metadata": {},
   "outputs": [],
   "source": [
    "def functionCrue8vars(X):\n",
    "    Q, Ks, Zv, Zm, Hd, Zb, L, B = X\n",
    "    Zd = Zb + Hd\n",
    "    alpha = (Zm - Zv) / L\n",
    "    H = (Q / (Ks * B * sqrt(alpha))) ** (3.0 / 5.0)\n",
    "    Zc = H + Zv\n",
    "    S = Zc - Zd\n",
    "    return [S]\n",
    "\n",
    "\n",
    "g = ot.PythonFunction(8, 1, functionCrue8vars)\n",
    "g.setDescription([\"Q\", \"Ks\", \"Zv\", \"Zm\", \"Hd\", \"Zb\", \"L\", \"B\", \"S\"])\n",
    "\n",
    "Hd = 8.0\n",
    "Zb = 55.5\n",
    "L = 5000.0\n",
    "B = 300.0\n",
    "X = [Hd, Zb, L, B]\n",
    "g_parametric = ot.ParametricFunction(g, [4, 5, 6, 7], X)"
   ]
  },
  {
   "cell_type": "markdown",
   "id": "042ad57f",
   "metadata": {},
   "source": [
    "Then we define the random vector. "
   ]
  },
  {
   "cell_type": "code",
   "execution_count": 3,
   "id": "705695c7",
   "metadata": {},
   "outputs": [],
   "source": [
    "Q = ot.Gumbel(558.0, 1013.0)\n",
    "otLOW = ot.TruncatedDistribution.LOWER\n",
    "Q = ot.TruncatedDistribution(Q, 0, otLOW)\n",
    "Ks = ot.Normal(30.0, 7.5)\n",
    "Ks = ot.TruncatedDistribution(Ks, 0, otLOW)\n",
    "Zv = ot.Uniform(49.0, 51.0)\n",
    "Zm = ot.Uniform(54.0, 56.0)\n",
    "\n",
    "X = ot.ComposedDistribution([Q, Ks, Zv, Zm])"
   ]
  },
  {
   "cell_type": "markdown",
   "id": "ea720aa6",
   "metadata": {},
   "source": [
    "We produce a pair of input and output sample."
   ]
  },
  {
   "cell_type": "code",
   "execution_count": 4,
   "id": "c867ba74",
   "metadata": {},
   "outputs": [
    {
     "name": "stdout",
     "output_type": "stream",
     "text": [
      "[0.378122,0.159565,0.180492,0.00565251]\n"
     ]
    }
   ],
   "source": [
    "sampleSize = 100\n",
    "sampleX = X.getSample(sampleSize)\n",
    "sampleY = g_parametric(sampleX)\n",
    "\n",
    "importance_factors = ot.CorrelationAnalysis.SRC(sampleX, sampleY)\n",
    "print(importance_factors)"
   ]
  },
  {
   "cell_type": "code",
   "execution_count": 5,
   "id": "ec7423aa",
   "metadata": {},
   "outputs": [
    {
     "data": {
      "image/png": "[encoded data removed]",
      "text/plain": [
       "<Figure size 288x216 with 1 Axes>"
      ]
     },
     "metadata": {
      "needs_background": "light"
     },
     "output_type": "display_data"
    }
   ],
   "source": [
    "input_names = g_parametric.getInputDescription()\n",
    "graph = ot.SobolIndicesAlgorithm.DrawCorrelationCoefficients(\n",
    "    importance_factors, input_names, \"Importance factors\"\n",
    ")\n",
    "graph.setYTitle(\"Importance factors\")\n",
    "view = otv.View(graph, figure_kw={\"figsize\": (4.0, 3.0)})\n",
    "_ = pl.ylim(top = 0.1 + max(importance_factors))"
   ]
  },
  {
   "cell_type": "code",
   "execution_count": 6,
   "id": "f2153675",
   "metadata": {},
   "outputs": [
    {
     "data": {
      "text/html": [
       "<p>class=LinearEvaluation name=Unnamed center=[0,0,0,0] constant=[-51.7738] linear=[[  0.00113853 ]<br>\n",
       " [ -0.0669253  ]<br>\n",
       " [  1.01919    ]<br>\n",
       " [ -0.17428    ]]</p>"
      ],
      "text/plain": [
       "class=Function name=Unnamed implementation=class=FunctionImplementation name=Unnamed description=[x0,x1,x2,x3,y0] evaluationImplementation=class=LinearEvaluation name=Unnamed center=class=Point name=Unnamed dimension=4 values=[0,0,0,0] constant=class=Point name=Unnamed dimension=1 values=[-51.7738] linear=class=Matrix implementation=class=MatrixImplementation name=Unnamed rows=4 columns=1 values=[0.00113853,-0.0669253,1.01919,-0.17428] gradientImplementation=class=ConstantGradient name=Unnamed constant=class=Matrix implementation=class=MatrixImplementation name=Unnamed rows=4 columns=1 values=[0.00113853,-0.0669253,1.01919,-0.17428] hessianImplementation=class=ConstantHessian name=Unnamed constant=class=SymmetricTensor implementation=class=TensorImplementation name=Unnamed rows=4 columns=4 sheets=1 values=[0,0,0,0,0,0,0,0,0,0,0,0,0,0,0,0]"
      ]
     },
     "execution_count": 6,
     "metadata": {},
     "output_type": "execute_result"
    }
   ],
   "source": [
    "myLeastSquares = ot.LinearLeastSquares(sampleX, sampleY)\n",
    "myLeastSquares.run()\n",
    "responseSurface = myLeastSquares.getMetaModel()\n",
    "responseSurface"
   ]
  },
  {
   "cell_type": "code",
   "execution_count": 7,
   "id": "e029f48f",
   "metadata": {},
   "outputs": [],
   "source": [
    "def define_linear_basis(dimension):\n",
    "    \"\"\"\n",
    "    Compute a basis suitable for linear regression.\n",
    "    \n",
    "    This basis corresponds to the linear regression model:\n",
    "    \n",
    "    Y = beta[0] + beta[1] * X_1 + ... + beta[p] * X_p\n",
    "   \n",
    "    where p is the dimension.\n",
    "    The first item of this basis corresponds to the intercept, i.e. \n",
    "    the function is constant and equal to 1.\n",
    "    The remaining items are identity function, returning the corresponding \n",
    "    input variable.\n",
    "    \n",
    "    Parameters\n",
    "    ----------\n",
    "    dimension : int\n",
    "        The number of dimensions of the input variable X.\n",
    "    \n",
    "    Returns\n",
    "    -------\n",
    "    basis : ot.Basis(1 + dimension)\n",
    "        The functional basis.\n",
    "    \"\"\"\n",
    "    list_of_inputs = [\"x%d\" % (i) for i in range(dimension)]\n",
    "    # The intercept\n",
    "    basis_list = []\n",
    "    constant_function = ot.SymbolicFunction(list_of_inputs, [\"1\"])\n",
    "    basis_list.append(constant_function)\n",
    "    # The remaining functions\n",
    "    for i in range(dimension):\n",
    "        identity_function = ot.SymbolicFunction(list_of_inputs, [\"x%d\" % (i)])\n",
    "        basis_list.append(identity_function)\n",
    "    basis = ot.Basis(basis_list)\n",
    "    return basis"
   ]
  },
  {
   "cell_type": "code",
   "execution_count": 8,
   "id": "113f5d76",
   "metadata": {},
   "outputs": [],
   "source": [
    "def compute_least_squares_parameter_distribution(sampleX, sampleY):\n",
    "    \"\"\"\n",
    "    Compute the gaussian distribution of the beta parameter.\n",
    "    \n",
    "    This distribution is valid under the hypothesis that the linear \n",
    "    least squares problem has a gaussian residual distribution.\n",
    "    \n",
    "    Parameters\n",
    "    ----------\n",
    "    sampleX : ot.Sample(size, input_dimension)\n",
    "        The input sample.\n",
    "    sampleY : ot.Sample(size, 1)\n",
    "        The output sample.\n",
    "    \n",
    "    Returns\n",
    "    -------\n",
    "    distribution_betahat : ot.Normal()\n",
    "        The gaussian distribution of beta_hat.\n",
    "    \"\"\"\n",
    "    input_dimension = sampleX.getDimension()\n",
    "    basis = define_linear_basis(input_dimension)\n",
    "    design_proxy = ot.DesignProxy(sampleX , basis)\n",
    "    n_parameters = len(basis)\n",
    "    indices = list(range(n_parameters))\n",
    "    design_matrix = design_proxy.computeDesign(indices)\n",
    "    myLeastSquares = ot.LinearLeastSquares(sampleX, sampleY)\n",
    "    myLeastSquares.run()\n",
    "    responseSurface = myLeastSquares.getMetaModel()\n",
    "    predicted_outputs = responseSurface(sampleX)\n",
    "    residuals_sample = sampleY - predicted_outputs\n",
    "    residuals_sample.setDescription([\"Residuals\"])\n",
    "    residuals_point = residuals_sample.asPoint()\n",
    "    sample_size = sampleX.getSize()\n",
    "    sigma2_hat = residuals_point.normSquare() / (sample_size - n_parameters)\n",
    "    lsq_method = ot.QRMethod(design_proxy , indices)\n",
    "    observation_point = sampleY.asPoint()\n",
    "    beta_hat = lsq_method.solve(observation_point)\n",
    "    inverse_gram = lsq_method.getGramInverse()\n",
    "    covariance_matrix = ot.CovarianceMatrix(sigma2_hat * inverse_gram)\n",
    "    distribution_betahat = ot.Normal(beta_hat , covariance_matrix)\n",
    "    description = [r\"$\\beta_%d$\" % (i) for i in range(n_parameters)]\n",
    "    distribution_betahat.setDescription(description)\n",
    "    return distribution_betahat"
   ]
  },
  {
   "cell_type": "code",
   "execution_count": 9,
   "id": "92d143bb",
   "metadata": {},
   "outputs": [
    {
     "name": "stdout",
     "output_type": "stream",
     "text": [
      "hat(Beta) =  [-51.7738,0.00113853,-0.0669253,1.01919,-0.17428]\n"
     ]
    }
   ],
   "source": [
    "distribution_betahat = compute_least_squares_parameter_distribution(sampleX, sampleY)\n",
    "beta_hat = distribution_betahat.getMean()\n",
    "print(\"hat(Beta) = \", beta_hat)"
   ]
  },
  {
   "cell_type": "code",
   "execution_count": 10,
   "id": "675d93b0",
   "metadata": {},
   "outputs": [
    {
     "name": "stdout",
     "output_type": "stream",
     "text": [
      "[-60.812, -42.7356]\n",
      "[0.00103796, 0.0012391]\n",
      "[-0.0758696, -0.0579811]\n",
      "[0.896351, 1.14204]\n",
      "[-0.291698, -0.0568613]\n"
     ]
    }
   ],
   "source": [
    "# Compute quantiles\n",
    "alpha = 0.05\n",
    "dimension = sampleX.getDimension()\n",
    "beta_lower_bound = ot.Point(1 + dimension)\n",
    "beta_upper_bound = ot.Point(1 + dimension)\n",
    "# We include the distribution of the intercept\n",
    "for i in range(1 + dimension):\n",
    "    marginal_beta_distribution = distribution_betahat.getMarginal(i)\n",
    "    marginal_beta_bounds = marginal_beta_distribution.computeBilateralConfidenceInterval(1.0 - alpha)\n",
    "    beta_lower_bound[i] = marginal_beta_bounds.getLowerBound()[0]\n",
    "    beta_upper_bound[i] = marginal_beta_bounds.getUpperBound()[0]\n",
    "beta_bounds = ot.Interval(beta_lower_bound, beta_upper_bound)\n",
    "print(beta_bounds)"
   ]
  },
  {
   "cell_type": "code",
   "execution_count": 11,
   "id": "af4dc136",
   "metadata": {},
   "outputs": [
    {
     "name": "stdout",
     "output_type": "stream",
     "text": [
      "variance_Y = 1.880\n"
     ]
    }
   ],
   "source": [
    "variance_Y = sampleY.computeCovariance()[0, 0]\n",
    "print(\"variance_Y = %.3f\" % (variance_Y))"
   ]
  },
  {
   "cell_type": "markdown",
   "id": "b0b42067",
   "metadata": {},
   "source": [
    "We are interested in the importance factors :\n",
    "$$\n",
    "\\eta_i = \\frac{\\beta_i^2 \\mathbb{V}(X_i)}{\\mathbb{V}(Y)}\n",
    "$$\n",
    "for $i = 1, ..., p$. \n",
    "\n",
    "In the next cell, we compute the importance factors using the linear regression. We are interested only in the coefficients $\\hat{\\beta}_1, ..., \\hat{\\beta}_p$ and not in $\\hat{\\beta}_0$, which is why we have to use a shift of +1 in the indices. "
   ]
  },
  {
   "cell_type": "code",
   "execution_count": 12,
   "id": "fbf4b7cb",
   "metadata": {},
   "outputs": [
    {
     "name": "stdout",
     "output_type": "stream",
     "text": [
      "[0.350857,0.133918,0.184145,0.00538444]\n"
     ]
    }
   ],
   "source": [
    "importance_factors = ot.Point(dimension)\n",
    "for i in range(dimension):\n",
    "    marginal_input_distribution = X.getMarginal(i)\n",
    "    variance_X_i = marginal_input_distribution.getCovariance()[0, 0]\n",
    "    # We shift beta, because we do not consider the intercept here.\n",
    "    importance_factors[i] = beta_hat[1 + i] ** 2 * variance_X_i / variance_Y\n",
    "print(importance_factors)"
   ]
  },
  {
   "cell_type": "markdown",
   "id": "f5272160",
   "metadata": {},
   "source": [
    "In order to compute confidence bounds of the importance factors, we recognize that if $Z \\sim \\mathcal{N}(\\mu, \\sigma^2)$, then $Z^2$ has a [noncentral chi-squared distribution with one degree of freedom](https://en.wikipedia.org/wiki/Noncentral_chi-squared_distribution). More precisely, the random variable $\\frac{Z}{\\sigma}$ is $\\mathcal{N}(\\mu, 1)$, which implies that $\\left(\\frac{Z}{\\sigma}\\right)^2$ has a noncentral chi-squared distribution with a non centrality parameter $\\lambda = \\left(\\frac{\\mu}{\\sigma}\\right)^2$. \n",
    "\n",
    "The variable $Z^2$ is a chi-squared distribution if $\\mu = 0$ and $\\sigma^2 = 1$. The chi-squared case is unlikely to happen, since we consider a coefficient $\\hat{\\beta}$ which mean is not necessarily zero and variance is not necessarily equal to 1. \n",
    "\n",
    "In the following cell, we compute the bounds using the arithmetic of distributions, which leads to a `SquaredNormal` distribution. "
   ]
  },
  {
   "cell_type": "code",
   "execution_count": 13,
   "id": "08134858",
   "metadata": {},
   "outputs": [
    {
     "name": "stdout",
     "output_type": "stream",
     "text": [
      "[0.291611, 0.415579]\n",
      "[0.0236689, 0.0236689]\n",
      "[0.142431, 0.23121]\n",
      "[0.000574341, 0.0150839]\n"
     ]
    }
   ],
   "source": [
    "importance_factors_lower_bound = ot.Point(dimension)\n",
    "importance_factors_upper_bound = ot.Point(dimension)\n",
    "for i in range(dimension):\n",
    "    marginal_input_distribution = X.getMarginal(i)\n",
    "    variance_X_i = marginal_input_distribution.getCovariance()[0, 0]\n",
    "    marginal_beta_distribution = distribution_betahat.getMarginal(1 + i)\n",
    "    # Use the arithmetic of distributions\n",
    "    squared_beta = marginal_beta_distribution ** 2  \n",
    "    marginal_bounds = squared_beta.computeBilateralConfidenceInterval(1.0 - alpha)\n",
    "    squared_beta_lower_bound = marginal_bounds.getLowerBound()[0]\n",
    "    squared_beta_upper_bound = marginal_bounds.getUpperBound()[0]\n",
    "    importance_factors_lower_bound[i] = squared_beta_lower_bound * variance_X_i / variance_Y\n",
    "    importance_factors_upper_bound[i] = squared_beta_upper_bound * variance_X_i / variance_Y\n",
    "importance_factors_bounds = ot.Interval(importance_factors_lower_bound, importance_factors_upper_bound)\n",
    "print(importance_factors_bounds)"
   ]
  },
  {
   "cell_type": "code",
   "execution_count": 14,
   "id": "c2b35799",
   "metadata": {},
   "outputs": [],
   "source": [
    "def plot_importance_factors_with_bounds(\n",
    "    importance_factors, input_names, alpha, importance_bounds\n",
    "):\n",
    "    \"\"\"\n",
    "    Plot importance factors indices with confidence bounds of level 1 - alpha\n",
    "    \n",
    "    Parameters\n",
    "    ----------\n",
    "    importance_factors : ot.Point(dimension)\n",
    "        The importance factors.\n",
    "    input_names : list(str)\n",
    "        The names of the input variables.\n",
    "    alpha : float, in [0, 1]\n",
    "        The complementary confidence level.\n",
    "    importance_bounds : ot.Interval(dimension)\n",
    "        The lower and upper bounds of the importance factors\n",
    "    \n",
    "    Returns\n",
    "    -------\n",
    "    graph : ot.Graph\n",
    "        The importance factors indices with lower and upper 1-alpha confidence intervals.\n",
    "    \"\"\"\n",
    "    dim = importance_factors.getDimension()\n",
    "    lowerBounds = importance_bounds.getLowerBound()\n",
    "    upperBounds = importance_bounds.getUpperBound()\n",
    "    graph = ot.SobolIndicesAlgorithm.DrawCorrelationCoefficients(\n",
    "        importance_factors, input_names, \"Importance factors\"\n",
    "    )\n",
    "    graph.setYTitle(\"Importance factors\")\n",
    "    title = \"Importance factors with bounds at %.2f %%\" % ((1 - alpha) * 100)\n",
    "\n",
    "    graph.setTitle(title)\n",
    "    # Add confidence bounds\n",
    "    for i in range(dim):\n",
    "        curve = ot.Curve([1 + i, 1 + i], [lowerBounds[i], upperBounds[i]])\n",
    "        graph.add(curve)\n",
    "    return graph"
   ]
  },
  {
   "cell_type": "code",
   "execution_count": 15,
   "id": "9c2a3be7",
   "metadata": {},
   "outputs": [
    {
     "data": {
      "image/png": "[encoded data removed]",
      "text/plain": [
       "<Figure size 288x216 with 1 Axes>"
      ]
     },
     "metadata": {
      "needs_background": "light"
     },
     "output_type": "display_data"
    }
   ],
   "source": [
    "graph = plot_importance_factors_with_bounds(importance_factors, input_names, alpha, importance_factors_bounds)\n",
    "view = otv.View(graph, figure_kw={\"figsize\": (4.0, 3.0)})\n",
    "_ = pl.ylim(top = 0.2 + max(importance_factors))"
   ]
  },
  {
   "cell_type": "code",
   "execution_count": null,
   "id": "888abc71",
   "metadata": {},
   "outputs": [],
   "source": []
  }
 ],
 "metadata": {
  "kernelspec": {
   "display_name": "Python 3 (ipykernel)",
   "language": "python",
   "name": "python3"
  },
  "language_info": {
   "codemirror_mode": {
    "name": "ipython",
    "version": 3
   },
   "file_extension": ".py",
   "mimetype": "text/x-python",
   "name": "python",
   "nbconvert_exporter": "python",
   "pygments_lexer": "ipython3",
   "version": "3.9.0"
  }
 },
 "nbformat": 4,
 "nbformat_minor": 5
}
