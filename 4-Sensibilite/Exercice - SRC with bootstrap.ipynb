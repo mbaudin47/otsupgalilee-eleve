{
 "cells": [
  {
   "cell_type": "markdown",
   "id": "f190638e",
   "metadata": {},
   "source": [
    "This examples shows how to compute SRC indices confidence bounds with bootstrap. First compute SRC indices and draw them.\n",
    "Then compute confidence bounds and draw them."
   ]
  },
  {
   "cell_type": "code",
   "execution_count": 1,
   "id": "66f39f41",
   "metadata": {},
   "outputs": [],
   "source": [
    "import openturns as ot\n",
    "import openturns.viewer as otv\n",
    "from math import sqrt\n",
    "import pylab as pl"
   ]
  },
  {
   "cell_type": "markdown",
   "id": "7cd1a6b8",
   "metadata": {},
   "source": [
    "We define the function g."
   ]
  },
  {
   "cell_type": "code",
   "execution_count": 2,
   "id": "ba15d2e3",
   "metadata": {},
   "outputs": [],
   "source": [
    "def functionCrue8vars(X):\n",
    "    Q, Ks, Zv, Zm, Hd, Zb, L, B = X\n",
    "    Zd = Zb + Hd\n",
    "    alpha = (Zm - Zv) / L\n",
    "    H = (Q / (Ks * B * sqrt(alpha))) ** (3.0 / 5.0)\n",
    "    Zc = H + Zv\n",
    "    S = Zc - Zd\n",
    "    return [S]\n",
    "\n",
    "\n",
    "g = ot.PythonFunction(8, 1, functionCrue8vars)\n",
    "g.setDescription([\"Q\", \"Ks\", \"Zv\", \"Zm\", \"Hd\", \"Zb\", \"L\", \"B\", \"S\"])\n",
    "\n",
    "Hd = 8.0\n",
    "Zb = 55.5\n",
    "L = 5000.0\n",
    "B = 300.0\n",
    "X = [Hd, Zb, L, B]\n",
    "g_parametric = ot.ParametricFunction(g, [4, 5, 6, 7], X)"
   ]
  },
  {
   "cell_type": "markdown",
   "id": "7f25dd3b",
   "metadata": {},
   "source": [
    "Then we define the random vector. "
   ]
  },
  {
   "cell_type": "code",
   "execution_count": 3,
   "id": "5a527bca",
   "metadata": {},
   "outputs": [],
   "source": [
    "Q = ot.Gumbel(558.0, 1013.0)\n",
    "otLOW = ot.TruncatedDistribution.LOWER\n",
    "Q = ot.TruncatedDistribution(Q, 0, otLOW)\n",
    "Ks = ot.Normal(30.0, 7.5)\n",
    "Ks = ot.TruncatedDistribution(Ks, 0, otLOW)\n",
    "Zv = ot.Uniform(49.0, 51.0)\n",
    "Zm = ot.Uniform(54.0, 56.0)\n",
    "\n",
    "X = ot.ComposedDistribution([Q, Ks, Zv, Zm])"
   ]
  },
  {
   "cell_type": "markdown",
   "id": "65907394",
   "metadata": {},
   "source": [
    "We produce a pair of input and output sample."
   ]
  },
  {
   "cell_type": "code",
   "execution_count": 4,
   "id": "2076e1f2",
   "metadata": {},
   "outputs": [
    {
     "name": "stdout",
     "output_type": "stream",
     "text": [
      "[0.378122,0.159565,0.180492,0.00565251]\n"
     ]
    }
   ],
   "source": [
    "sampleSize = 100\n",
    "sampleX = X.getSample(sampleSize)\n",
    "sampleY = g_parametric(sampleX)\n",
    "\n",
    "SRCindices = ot.CorrelationAnalysis.SRC(sampleX, sampleY)\n",
    "print(SRCindices)"
   ]
  },
  {
   "cell_type": "code",
   "execution_count": 5,
   "id": "e91dd58b",
   "metadata": {},
   "outputs": [
    {
     "data": {
      "image/png": "[encoded data removed]",
      "text/plain": [
       "<Figure size 288x216 with 1 Axes>"
      ]
     },
     "metadata": {
      "needs_background": "light"
     },
     "output_type": "display_data"
    }
   ],
   "source": [
    "input_names = g_parametric.getInputDescription()\n",
    "graph = ot.SobolIndicesAlgorithm.DrawCorrelationCoefficients(\n",
    "    SRCindices, input_names, \"SRC coefficients\"\n",
    ")\n",
    "graph.setYTitle(\"SRC indices\")\n",
    "view = otv.View(graph, figure_kw={\"figsize\": (4.0, 3.0)})\n",
    "_ = pl.ylim(top = 0.1 + max(SRCindices))"
   ]
  },
  {
   "cell_type": "code",
   "execution_count": 6,
   "id": "652fc77a",
   "metadata": {},
   "outputs": [
    {
     "name": "stdout",
     "output_type": "stream",
     "text": [
      "[0.279526, 0.471558]\n",
      "[0.0933866, 0.292377]\n",
      "[0.117489, 0.27868]\n",
      "[0.00126018, 0.0141868]\n"
     ]
    }
   ],
   "source": [
    "# Create a sample with (X,Y)\n",
    "dim = sampleX.getDimension()\n",
    "fullSample = ot.Sample(sampleSize, dim + 1)\n",
    "fullSample[:, 0:dim] = sampleX\n",
    "fullSample[:, dim] = sampleY\n",
    "\n",
    "# Create SRC bootstrap sample\n",
    "bootstrapSize = 100\n",
    "SRCBS = ot.Sample(bootstrapSize, dim)\n",
    "bootstrap = ot.BootstrapExperiment(fullSample)\n",
    "for i in range(bootstrapSize):\n",
    "    fullSampleBS = bootstrap.generate()\n",
    "    sampleXBS = fullSampleBS[:, 0:dim]\n",
    "    sampleYBS = fullSampleBS[:, dim]\n",
    "    SRCBS[i, :] = ot.CorrelationAnalysis.SRC(sampleXBS, sampleYBS)\n",
    "\n",
    "# Compute bootstrap quantiles\n",
    "alpha = 0.05\n",
    "SRClow = SRCBS.computeQuantilePerComponent(alpha / 2)\n",
    "SRCup = SRCBS.computeQuantilePerComponent(1 - alpha / 2)\n",
    "SRCBounds = ot.Interval(SRClow, SRCup)\n",
    "print(SRCBounds)"
   ]
  },
  {
   "cell_type": "code",
   "execution_count": 7,
   "id": "cf339605",
   "metadata": {},
   "outputs": [
    {
     "data": {
      "image/png": "[encoded data removed]",
      "text/plain": [
       "<Figure size 288x216 with 1 Axes>"
      ]
     },
     "metadata": {
      "needs_background": "light"
     },
     "output_type": "display_data"
    }
   ],
   "source": [
    "def plotSRCIndicesWithConfidenceIntervals(SRCindices, input_names, alpha, SRCBounds):\n",
    "    \"\"\"\n",
    "    Plot SRC indices with confidence bounds of level 1 - alpha\n",
    "    \n",
    "    Parameters\n",
    "    ----------\n",
    "    SRCindices : ot.Point(dimension)\n",
    "        The SRC indices.\n",
    "    input_names : list(str)\n",
    "        The names of the input variables.\n",
    "    alpha : float, in [0, 1]\n",
    "        The complementary confidence level.\n",
    "    SRCBounds : ot.Interval(dimension)\n",
    "        The lower and upper bounds of the SRC indices\n",
    "    \n",
    "    Returns\n",
    "    -------\n",
    "    graph : ot.Graph\n",
    "        The SRC indices with lower and upper 1-alpha confidence intervals.\n",
    "    \"\"\"\n",
    "    dim = SRCindices.getDimension()\n",
    "    lowerBounds = SRCBounds.getLowerBound()\n",
    "    upperBounds = SRCBounds.getUpperBound()\n",
    "    graph = ot.SobolIndicesAlgorithm.DrawCorrelationCoefficients(\n",
    "        SRCindices, input_names, \"SRC coefficients\"\n",
    "    )\n",
    "    title = \"SRC indices, Bounds at %.2f %%\" % ((1 - alpha) * 100)\n",
    "\n",
    "    graph.setTitle(title)\n",
    "    # Add confidence bounds\n",
    "    for i in range(dim):\n",
    "        curve = ot.Curve([1 + i, 1 + i], [lowerBounds[i], upperBounds[i]])\n",
    "        graph.add(curve)\n",
    "    return graph\n",
    "\n",
    "\n",
    "graph = plotSRCIndicesWithConfidenceIntervals(SRCindices, input_names, alpha, SRCBounds)\n",
    "view = otv.View(graph, figure_kw={\"figsize\": (4.0, 3.0)})\n",
    "_ = pl.ylim(top = 0.2 + max(SRCindices))"
   ]
  },
  {
   "cell_type": "code",
   "execution_count": null,
   "id": "cefbb4ea",
   "metadata": {},
   "outputs": [],
   "source": []
  }
 ],
 "metadata": {
  "kernelspec": {
   "display_name": "Python 3 (ipykernel)",
   "language": "python",
   "name": "python3"
  },
  "language_info": {
   "codemirror_mode": {
    "name": "ipython",
    "version": 3
   },
   "file_extension": ".py",
   "mimetype": "text/x-python",
   "name": "python",
   "nbconvert_exporter": "python",
   "pygments_lexer": "ipython3",
   "version": "3.9.0"
  }
 },
 "nbformat": 4,
 "nbformat_minor": 5
}
