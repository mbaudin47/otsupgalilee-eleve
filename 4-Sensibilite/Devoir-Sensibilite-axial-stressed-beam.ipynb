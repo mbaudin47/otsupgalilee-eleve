{
 "cells": [
  {
   "cell_type": "markdown",
   "metadata": {},
   "source": [
    "# Exercice : Analyse de sensibilité du modèle de poutre encastrée"
   ]
  },
  {
   "cell_type": "markdown",
   "metadata": {},
   "source": [
    "## Application : poutre sollicitée en traction\n",
    "\n",
    "On considère le modèle de la poutre sollicitée en traction par une force F. \n",
    "\n",
    "<img src=\"axial-stressed-beam.png\" width=\"250\">\n",
    "\n",
    "On suppose que le modèle est constitué de deux variables aléatoires :\n",
    "\n",
    "- $R$, la résistance,\n",
    "- $S$, la contrainte associée à la force $F$.\n",
    "\n",
    "Soit $X$ la variable aléatoire $X=(R,S)$. \n",
    "On considère la fonction $g$ définie par :\n",
    "\n",
    "$$\n",
    "Y = g(X) = R - S.\n",
    "$$\n",
    " \n",
    "On considère les distributions suivantes :\n",
    "\n",
    "| Variable | Distribution |\n",
    "|--|--|\n",
    "| R | Uniform($\\min=a_R, \\max=b_R$) [Pa] |\n",
    "| S | Normal($\\mu_S, \\sigma_S$) [Pa] |\n",
    "\n",
    "On fait l'hypothèse que les variables $R$ et $S$ sont indépendantes. \n",
    "\n",
    "Les paramètres des distributions de $R$ et $S$ sont :\n",
    "\n",
    "$$\n",
    "a_R = 2.627\\times 10^6\\textrm{ (Pa)}, \\qquad b_R = 3.392\\times 10^6\\textrm{ (Pa)},\n",
    "$$\n",
    "\n",
    "et : \n",
    "\n",
    "$$\n",
    "\\mu_S = 2.546 \\times 10^6\\textrm{ (Pa)}, \\qquad \\sigma_S = 0.09549 \\times 10^6\\textrm{ (Pa)}.\n",
    "$$"
   ]
  },
  {
   "cell_type": "markdown",
   "metadata": {},
   "source": [
    "*Questions*\n",
    "\n",
    "- Utiliser la classe `Uniform` et créer la variable `R` de loi Uniforme($\\min=2.627\\times 10^6$, $\\max=3.392\\times 10^6$). Dessiner la PDF de `R`.\n",
    "- Utiliser la classe `Normal` et créer la variable `S` de loi $\\mathcal{N}(\\mu_S=2.546\\times 10^6, \\sigma_S=0.09549\\times 10^6)$. Dessiner la PDF de `S`.\n",
    "- Utiliser la classe `SymbolicFunction` pour définir la fonction `g`. \n",
    "- Utiliser la classe `LinearLeastSquares` pour définir un modèle de régression linéaire. Quelle est la qualité du métamodèle linéaire ? Pourquoi ?\n",
    "- Estimer les indices SRC de la fonction `g` avec la classe `CorrelationAnalysis_SRC`. Qu'observez-vous ?\n",
    "- Estimer les indices de Sobol' de la fonction `g` avec la classe `SobolSimulationAlgorithm`. Qu'observez-vous ?\n",
    "- Pourriez-vous améliorer la précision d'estimation des indices de sensibilité dans ce cas particulier ?"
   ]
  }
 ],
 "metadata": {
  "kernelspec": {
   "display_name": "Python 3",
   "language": "python",
   "name": "python3"
  },
  "language_info": {
   "codemirror_mode": {
    "name": "ipython",
    "version": 3
   },
   "file_extension": ".py",
   "mimetype": "text/x-python",
   "name": "python",
   "nbconvert_exporter": "python",
   "pygments_lexer": "ipython3",
   "version": "3.8.3"
  }
 },
 "nbformat": 4,
 "nbformat_minor": 2
}
