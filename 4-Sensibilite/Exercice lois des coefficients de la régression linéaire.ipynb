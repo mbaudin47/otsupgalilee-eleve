{
 "cells": [
  {
   "cell_type": "markdown",
   "id": "299a4643",
   "metadata": {},
   "source": [
    "# Loi des coefficients de la régression linéaire\n",
    "\n",
    "Le but de cet exemple est de montrer comment calculer la loi des coefficients de la régression linéaire par moindres carrés. On fait l'hypothèse que les résidus suivent la loi gaussienne. Nous calculons les paramètres de la loi gaussienne des paramètres, c'est à dire la moyenne et la matrice de covariance. \n",
    "\n",
    "**Hypothèses** _(Hypothèses du modèle de regression linéaire)_\n",
    "On considère le modèle :\n",
    "$$\n",
    "\\boldsymbol{Y} = X \\boldsymbol{\\beta} + \\boldsymbol{\\epsilon}\n",
    "$$\n",
    "où $\\boldsymbol{Y}$ est le vecteur aléatoire de dimension $n$ représentant les observations, $X$ \n",
    "est la matrice de conception de taille $n\\times p$, $\\boldsymbol{\\beta}$ est le vecteur de \n",
    "dimension $p$ représentant les paramètres et $\\boldsymbol{\\epsilon}$ est un vecteur aléatoire \n",
    "de dimension $n$. \n",
    "\n",
    "La définition suivante introduit le problème des moindres carrés linéaires. \n",
    "\n",
    "**Définition** _(Moindres carrés linéaires)_\n",
    "Soit $\\boldsymbol{Y}$ une réalisation du vecteur aléatoire $\\boldsymbol{Y}$. \n",
    "La méthode des moindres carrés non linéaires consiste à rechercher \n",
    "$\\hat{\\boldsymbol{\\beta}}$ tel que : \n",
    "$$\n",
    "\\hat{\\boldsymbol{\\beta}}\n",
    "\\in \\textrm{argmin}_{\\boldsymbol{\\beta}\\in\\mathbb{R}^p} \\frac{1}{2} \\| \\boldsymbol{Y} - X \\boldsymbol{\\beta} \\|_2^2.\n",
    "$$\n",
    "\n",
    "Le théorème suivant présente la solution du problème des moindres carrés linéaires. \n",
    "\n",
    "**Théorème** _(Solution des équations normales)_\n",
    "L'estimateur des moindres carrés $\\hat{\\boldsymbol{\\beta}}$ est solution des équations \n",
    "normales :\n",
    "$$\n",
    "X^T X \\hat{\\boldsymbol{\\beta}} = X^T \\boldsymbol{Y}.\n",
    "$$\n",
    "Si $X$ est de rang plein, alors :\n",
    "$$\n",
    "\\hat{\\boldsymbol{\\beta}} = \\left(X^T X\\right)^{-1} X^T \\boldsymbol{Y}.\n",
    "$$\n",
    "Dans ce cas, le vecteur des prédictions est :\n",
    "$$\n",
    "\\hat{\\boldsymbol{Y}} = X \\hat{\\boldsymbol{\\beta}}.\n",
    "$$\n",
    "\n",
    "La démonstration est fondée sur le fait que, si $X$ est de rang plein, \n",
    "alors la matrice $X^T X$ est inversible. \n",
    "\n",
    "Nous nous intéressons aux prédictions du modèle de régression. \n",
    "Nous avons vu comment évaluer le vecteur des prédictions $\\hat{\\boldsymbol{Y}}$ en fonction \n",
    "du vecteur de l'estimateur des paramètres $\\hat{\\boldsymbol{\\beta}}$. \n",
    "Le théorème suivant présente une expression du vecteur des prédictions $\\hat{\\boldsymbol{Y}}$ \n",
    "en fonction du vecteur des observations $\\boldsymbol{Y}$. \n",
    "\n",
    "**Théorème** _(Prédictions)_\n",
    "Le vecteur des prédictions du modèle de régression linéaires est :\n",
    "$$\n",
    "\\hat{\\boldsymbol{Y}} = P \\boldsymbol{Y}\n",
    "$$\n",
    "où $P$ est la matrice de projection, de taille $n\\times n$ :\n",
    "$$\n",
    "P = X \\left(X^T X\\right)^{-1} X^T.\n",
    "$$\n",
    "\n",
    "Dans le but d'estimer l'erreur de prédiction, nous introduisons le vecteur \n",
    "des différences entre les prédictions et les observations. \n",
    "\n",
    "**Définition** _(Résidus)_\n",
    "Le vecteur des résidus est :\n",
    "$$\n",
    "\\boldsymbol{r} = \\boldsymbol{Y} - \\hat{\\boldsymbol{Y}}.\n",
    "$$\n",
    "\n",
    "Par conséquent,\n",
    "$$\n",
    "\\boldsymbol{r} = (I - P) \\boldsymbol{Y}\n",
    "$$\n",
    "où $I$ est la matrice identité.\n",
    "\n",
    "Pour obtenir les résultats qui vont suivrent, nous aurons besoin \n",
    "de l'hypothèse suivante sur le vecteur des résidus.\n",
    "\n",
    "**Hypothèses** _(Espérance et covariance du résidu)_\n",
    "On fait l'hypothèse que \n",
    "$$\n",
    "\\mathbb{E}\\left(\\boldsymbol{\\epsilon}\\right) = \\boldsymbol{0}\n",
    "$$\n",
    "et\n",
    "$$\n",
    "\\boldsymbol{Cov}(\\boldsymbol{\\epsilon}) = \\sigma^2 I,\n",
    "$$\n",
    "où $\\sigma > 0$ est un réel.\n",
    "\n",
    "Les hypothèses précédentes spécifie l'espérance et la covariance du vecteur \n",
    "des résidus. \n",
    "Ces hypothèses ne sont pas nécessairement associées à une distribution gaussienne. \n",
    "Toutefois, comme nous allons le voir dans la section suivante, beaucoup plus \n",
    "d'informations peuvent être obtenues si la loi des résidus est gaussienne. \n",
    "\n",
    "Nous présentons les principales propriétés du modèle \n",
    "de régression linéaire. \n",
    "En particulier, nous présentons la loi du vecteur des paramètres et la \n",
    "loi du vecteur des résidus. \n",
    "\n",
    "Le théorème suivant présente l'espérance et la covariance de la prédiction du \n",
    "modèle de régression linéaire. \n",
    "\n",
    "**Théorème** _(Espérance et covariance du modèle de régression)_\n",
    "L'espérance de $\\boldsymbol{Y}$ est \n",
    "$$\n",
    "\\mathbb{E}(\\boldsymbol{Y}) = X \\boldsymbol{\\beta}\n",
    "$$\n",
    "et sa covariance est :\n",
    "$$\n",
    "\\boldsymbol{Cov}(\\boldsymbol{Y}) = \\sigma^2 I.\n",
    "$$\n",
    "\n",
    "Si, de plus, $\\boldsymbol{\\epsilon} \\sim \\mathcal{N}\\left(\\boldsymbol{0}, \\sigma^2 I\\right)$, alors :\n",
    "$$\n",
    "\\boldsymbol{Y} \\sim \\mathcal{N}\\left(X\\boldsymbol{\\beta}, \\sigma^2 I\\right).\n",
    "$$\n",
    "\n",
    "Le théorème suivant présente l'espérance et la covariance du vecteur \n",
    "des paramètres. \n",
    "\n",
    "**Théorème** _(Espérance et covariance du vecteur des paramètres)_\n",
    "L'espérance de $\\hat{\\boldsymbol{\\beta}}$ est :\n",
    "$$\n",
    "\\mathbb{E}\\left(\\hat{\\boldsymbol{\\beta}}\\right) = \\boldsymbol{\\beta}\n",
    "$$\n",
    "et sa covariance est :\n",
    "$$\n",
    "\\boldsymbol{Cov}\\left(\\hat{\\boldsymbol{\\beta}}\\right) = \\left(X^T X\\right)^{-1} \\sigma^2.\n",
    "$$\n",
    "\n",
    "Si, de plus, $\\boldsymbol{\\epsilon} \\sim \\mathcal{N}(\\boldsymbol{0}, \\sigma^2 I)$, alors :\n",
    "$$\n",
    "\\hat{\\boldsymbol{\\beta}} \\sim \\mathcal{N}\\left(\\boldsymbol{\\beta}, \\left(X^T X\\right)^{-1} \\sigma^2\\right).\n",
    "$$\n",
    "\n",
    "## Références\n",
    "- Nicholas H Bingham and John M Fry. Regression : Linear models in statistics. Springer Science & Business Media, 2010."
   ]
  },
  {
   "cell_type": "markdown",
   "id": "6932caf0",
   "metadata": {},
   "source": [
    "## Create a least squares problem"
   ]
  },
  {
   "cell_type": "code",
   "execution_count": 1,
   "id": "078ef0b1",
   "metadata": {},
   "outputs": [],
   "source": [
    "import openturns as ot\n",
    "import openturns.viewer as otv\n",
    "from math import sqrt\n",
    "import pylab as pl"
   ]
  },
  {
   "cell_type": "code",
   "execution_count": 2,
   "id": "ecf94dca",
   "metadata": {},
   "outputs": [],
   "source": [
    "g_function = ot.SymbolicFunction([\"x1\", \"x2\", \"x3\"], [\"1.0 + 2.0 * x1 - 3.0 * x2 + 4.0 * x3\"])"
   ]
  },
  {
   "cell_type": "code",
   "execution_count": 3,
   "id": "d25522d6",
   "metadata": {},
   "outputs": [
    {
     "name": "stdout",
     "output_type": "stream",
     "text": [
      "ComposedDistribution(Normal(mu = 0, sigma = 1), Normal(mu = 0, sigma = 1), Normal(mu = 0, sigma = 1), IndependentCopula(dimension = 3))\n"
     ]
    }
   ],
   "source": [
    "dist_x1 = ot.Normal(0.0, 1.0)\n",
    "dist_x2 = ot.Normal(0.0, 1.0)\n",
    "dist_x3 = ot.Normal(0.0, 1.0)\n",
    "distribution = ot.ComposedDistribution([dist_x1, dist_x2, dist_x3])\n",
    "print(distribution)"
   ]
  },
  {
   "cell_type": "code",
   "execution_count": 4,
   "id": "494c9da1",
   "metadata": {},
   "outputs": [
    {
     "data": {
      "text/html": [
       "<TABLE><TR><TD></TD><TH>y0</TH></TR>\n",
       "<TR><TH>0</TH><TD>4.91968</TD></TR>\n",
       "<TR><TH>1</TH><TD>-0.5322588</TD></TR>\n",
       "<TR><TH>2</TH><TD>2.841348</TD></TR>\n",
       "<TR><TH>3</TH><TD>3.832763</TD></TR>\n",
       "<TR><TH>4</TH><TD>2.467041</TD></TR>\n",
       "</TABLE>"
      ],
      "text/plain": [
       "class=Sample name=Unnamed implementation=class=SampleImplementation name=Unnamed size=5 dimension=1 description=[y0] data=[[4.91968],[-0.532259],[2.84135],[3.83276],[2.46704]]"
      ]
     },
     "execution_count": 4,
     "metadata": {},
     "output_type": "execute_result"
    }
   ],
   "source": [
    "sample_size = 10\n",
    "input_sample = distribution.getSample(sample_size)\n",
    "output_sample = g_function(input_sample)\n",
    "output_sample[:5]"
   ]
  },
  {
   "cell_type": "code",
   "execution_count": 5,
   "id": "a07ae2e8",
   "metadata": {},
   "outputs": [
    {
     "data": {
      "text/html": [
       "<TABLE><TR><TD></TD><TH>y0</TH></TR>\n",
       "<TR><TH>0</TH><TD>4.198147</TD></TR>\n",
       "<TR><TH>1</TH><TD>-0.7734823</TD></TR>\n",
       "<TR><TH>2</TH><TD>1.053384</TD></TR>\n",
       "<TR><TH>3</TH><TD>4.234123</TD></TR>\n",
       "<TR><TH>4</TH><TD>3.834866</TD></TR>\n",
       "</TABLE>"
      ],
      "text/plain": [
       "class=Sample name=Unnamed implementation=class=SampleImplementation name=Unnamed size=5 dimension=1 description=[y0] data=[[4.19815],[-0.773482],[1.05338],[4.23412],[3.83487]]"
      ]
     },
     "execution_count": 5,
     "metadata": {},
     "output_type": "execute_result"
    }
   ],
   "source": [
    "dist_epsilon = ot.Normal(0.0, 1.0)\n",
    "epsilon_sample = dist_epsilon.getSample(sample_size)\n",
    "observation_sample = output_sample + epsilon_sample\n",
    "observation_sample[:5]"
   ]
  },
  {
   "cell_type": "markdown",
   "id": "b14f6703",
   "metadata": {},
   "source": [
    "## Solve the least squares problem"
   ]
  },
  {
   "cell_type": "code",
   "execution_count": 6,
   "id": "81fca3c8",
   "metadata": {},
   "outputs": [
    {
     "data": {
      "text/html": [
       "<p>class=LinearEvaluation name=Unnamed center=[0,0,0] constant=[1.33725] linear=[[  1.8452  ]<br>\n",
       " [ -2.61505 ]<br>\n",
       " [  4.07332 ]]</p>"
      ],
      "text/plain": [
       "class=Function name=Unnamed implementation=class=FunctionImplementation name=Unnamed description=[x0,x1,x2,y0] evaluationImplementation=class=LinearEvaluation name=Unnamed center=class=Point name=Unnamed dimension=3 values=[0,0,0] constant=class=Point name=Unnamed dimension=1 values=[1.33725] linear=class=Matrix implementation=class=MatrixImplementation name=Unnamed rows=3 columns=1 values=[1.8452,-2.61505,4.07332] gradientImplementation=class=ConstantGradient name=Unnamed constant=class=Matrix implementation=class=MatrixImplementation name=Unnamed rows=3 columns=1 values=[1.8452,-2.61505,4.07332] hessianImplementation=class=ConstantHessian name=Unnamed constant=class=SymmetricTensor implementation=class=TensorImplementation name=Unnamed rows=3 columns=3 sheets=1 values=[0,0,0,0,0,0,0,0,0]"
      ]
     },
     "execution_count": 6,
     "metadata": {},
     "output_type": "execute_result"
    }
   ],
   "source": [
    "myLeastSquares = ot.LinearLeastSquares(input_sample, observation_sample)\n",
    "myLeastSquares.run()\n",
    "responseSurface = myLeastSquares.getMetaModel()\n",
    "responseSurface"
   ]
  },
  {
   "cell_type": "code",
   "execution_count": 7,
   "id": "5323cda8",
   "metadata": {},
   "outputs": [
    {
     "data": {
      "text/html": [
       "<TABLE><TR><TD></TD><TH>Residuals</TH></TR>\n",
       "<TR><TH>0</TH><TD>-0.8071794</TD></TR>\n",
       "<TR><TH>1</TH><TD>-0.9076376</TD></TR>\n",
       "<TR><TH>2</TH><TD>-1.23538</TD></TR>\n",
       "<TR><TH>3</TH><TD>0.8073781</TD></TR>\n",
       "<TR><TH>4</TH><TD>1.163154</TD></TR>\n",
       "</TABLE>"
      ],
      "text/plain": [
       "class=Sample name=Unnamed implementation=class=SampleImplementation name=Unnamed size=5 dimension=1 description=[Residuals] data=[[-0.807179],[-0.907638],[-1.23538],[0.807378],[1.16315]]"
      ]
     },
     "execution_count": 7,
     "metadata": {},
     "output_type": "execute_result"
    }
   ],
   "source": [
    "predicted_outputs = responseSurface(input_sample)\n",
    "residuals_sample = observation_sample - predicted_outputs\n",
    "residuals_sample.setDescription([\"Residuals\"])\n",
    "residuals_sample[:5]"
   ]
  },
  {
   "cell_type": "code",
   "execution_count": 8,
   "id": "1d2ffbb8",
   "metadata": {},
   "outputs": [
    {
     "data": {
      "image/png": "[encoded data removed]",
      "text/plain": [
       "<Figure size 288x216 with 1 Axes>"
      ]
     },
     "metadata": {
      "needs_background": "light"
     },
     "output_type": "display_data"
    }
   ],
   "source": [
    "graph = ot.KernelSmoothing().build(residuals_sample).drawPDF()\n",
    "graph.setLegends([\"\"])\n",
    "view = otv.View(graph, figure_kw={\"figsize\": (4.0, 3.0)})"
   ]
  },
  {
   "cell_type": "markdown",
   "id": "0c3d6383",
   "metadata": {},
   "source": [
    "## Compute the distribution of the coefficients"
   ]
  },
  {
   "cell_type": "code",
   "execution_count": null,
   "id": "318e682d",
   "metadata": {},
   "outputs": [],
   "source": []
  }
 ],
 "metadata": {
  "kernelspec": {
   "display_name": "Python 3 (ipykernel)",
   "language": "python",
   "name": "python3"
  },
  "language_info": {
   "codemirror_mode": {
    "name": "ipython",
    "version": 3
   },
   "file_extension": ".py",
   "mimetype": "text/x-python",
   "name": "python",
   "nbconvert_exporter": "python",
   "pygments_lexer": "ipython3",
   "version": "3.9.0"
  }
 },
 "nbformat": 4,
 "nbformat_minor": 5
}
