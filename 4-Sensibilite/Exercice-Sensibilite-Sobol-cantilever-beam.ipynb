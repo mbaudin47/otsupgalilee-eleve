{
 "cells": [
  {
   "cell_type": "markdown",
   "metadata": {},
   "source": [
    "# Analyse de sensibilité globale avec les indices de Sobol' - application au cas de la déviation verticale de la poutre\n",
    "\n",
    "## Références\n",
    "- http://openturns.github.io/openturns/master/user_manual/_generated/openturns.SaltelliSensitivityAlgorithm.html\n",
    "- http://openturns.github.io/openturns/master/user_manual/_generated/openturns.SobolIndicesAlgorithm.html"
   ]
  },
  {
   "cell_type": "markdown",
   "metadata": {},
   "source": [
    "## Déviation  verticale d'une poutre encastrée\n",
    "\n",
    "We consider a cantilever beam defined by its Young’s modulus $E$, its length $L$ and its section modulus $I$. One end is built in a wall and we apply a concentrated bending load $F$ at the other end of the beam, resulting in a vertical deviation $Y$.\n",
    "\n",
    "<img src=\"poutre.png\" width=\"200\">\n",
    "\n",
    "__Inputs__:  $\\left\\{ E, F, L, I \\right\\}$\n",
    "\n",
    "* $E$ : Young modulus (Pa)\n",
    "* $F$ : Loading (N),\n",
    "* $L$ : Length of beam (cm),\n",
    "* $I$ : Moment of inertia (cm^4).\n",
    "\n",
    "|Variable|  Distribution|\n",
    "| ------------- |-------------|\n",
    "|E| Beta(alpha = 0.9, beta = 2.2, a = $2.5\\times 10^7$, $b = 5\\times 10^7$) |\n",
    "|F| Lognormal($\\mu_F=3 \\times 10^4$, $\\sigma_F=9\\times 10^3$, shift=$15\\times 10^3$)|\n",
    "|L| Uniform(min=250.0, max= 260.0)|\n",
    "|I| Beta(alpha = 2.5, beta = 1.5, a = 310, b = 450)|\n",
    "\n",
    "In the previous table $\\mu_F=E(F)$ and $\\sigma_F=\\sqrt{V(F)}$ are the mean and the standard deviation of $F$.\n",
    "\n",
    "The input variables are supposed to be independent.\n",
    "\n",
    "__Output__:\n",
    "\n",
    "The vertical displacement at free end of the cantilever beam is:\n",
    "\n",
    "$$\n",
    "Y  = \\dfrac{F\\, L^3}{3 \\, E \\, I}\n",
    "$$"
   ]
  },
  {
   "cell_type": "markdown",
   "metadata": {},
   "source": [
    "# Model definition"
   ]
  },
  {
   "cell_type": "code",
   "execution_count": 1,
   "metadata": {},
   "outputs": [],
   "source": [
    "import openturns as ot\n",
    "import openturns.viewer as otv\n",
    "import numpy as np\n",
    "import pylab as pl"
   ]
  },
  {
   "cell_type": "code",
   "execution_count": 2,
   "metadata": {},
   "outputs": [],
   "source": [
    "ot.RandomGenerator.SetSeed(1976)\n",
    "\n",
    "dist_E = ot.Beta(0.9, 2.2, 2.8e7, 4.8e7)\n",
    "dist_E.setDescription([\"E\"])\n",
    "F_para = ot.LogNormalMuSigma(3.0e4, 9.0e3, 15.0e3)  # in N\n",
    "dist_F = ot.ParametrizedDistribution(F_para)\n",
    "dist_F.setDescription([\"F\"])\n",
    "dist_L = ot.Uniform(250.0, 260.0)  # in cm\n",
    "dist_L.setDescription([\"L\"])\n",
    "dist_I = ot.Beta(2.5, 1.5, 310.0, 450.0)  # in cm^4\n",
    "dist_I.setDescription([\"I\"])\n",
    "\n",
    "X = ot.ComposedDistribution([dist_E, dist_F, dist_L, dist_I])\n",
    "\n",
    "g = ot.SymbolicFunction([\"E\", \"F\", \"L\", \"I\"], [\"F* L^3 /  (3 * E * I)\"])\n",
    "g.setOutputDescription([\"Y (cm)\"])"
   ]
  },
  {
   "cell_type": "markdown",
   "metadata": {},
   "source": [
    "Pour pouvoir exploiter au mieux les simulations, nous équipons la fonction d'un méchanisme d'historique."
   ]
  },
  {
   "cell_type": "code",
   "execution_count": 3,
   "metadata": {},
   "outputs": [],
   "source": [
    "g = ot.MemoizeFunction(g)"
   ]
  },
  {
   "cell_type": "markdown",
   "metadata": {},
   "source": [
    "Enfin, nous définissons le vecteur aléatoire de sortie."
   ]
  },
  {
   "cell_type": "code",
   "execution_count": 4,
   "metadata": {},
   "outputs": [],
   "source": [
    "XRV = ot.RandomVector(X)\n",
    "Y = ot.CompositeRandomVector(g, XRV)\n",
    "Y.setDescription([\"Y (cm)\"])"
   ]
  },
  {
   "cell_type": "markdown",
   "metadata": {},
   "source": [
    "## Estimer les indices de Sobol' avec un budget fixé"
   ]
  },
  {
   "cell_type": "markdown",
   "metadata": {},
   "source": [
    "Le composant d'estimation des indices de Sobol' est équipé d'un système qui permet d'évaluer la fonction en dehors d'OpenTURNS. Pour l'utiliser, on créée un type de plans d'expériences spécial en utilisant la classe `SobolIndicesExperiment`. La méthode `generate` permet de créer le plan d'expériences associé à une taille fixée par l'utilisateur. "
   ]
  },
  {
   "cell_type": "code",
   "execution_count": 5,
   "metadata": {},
   "outputs": [],
   "source": [
    "size = 500\n",
    "computeSecondOrder = False\n",
    "sie = ot.SobolIndicesExperiment(X, size, computeSecondOrder)\n",
    "inputDesign = sie.generate()"
   ]
  },
  {
   "cell_type": "markdown",
   "metadata": {},
   "source": [
    "La taille `size` est la taille du plan Monte-Carlo de base, utilisé pour obtenir un estimateur. Or 10 estimations sont requises dans ce cas particulier :\n",
    "\n",
    "- une estimation de la moyenne de Y c'est à dire $E(Y)$ et une estimation de la variance de Y c'est à dire $V(Y)$\n",
    "- une estimation des quatre indices du premier ordre $S_E$, $S_F$, $S_L$, $S_I$,\n",
    "- une estimation des quatre indices totaux $T_E$, $T_F$, $T_L$, $T_I$.\n",
    "\n",
    "Pour estimer ces quantités, la méthode pick-freeze requiert \n",
    "\n",
    "* un plan d'expériences de type \"A\",\n",
    "* un plan d'expériences de type \"B\",\n",
    "* des plans d'expériences de type \"E\" dont le nombre est égal à la dimension du vecteur d'entrée.\n",
    "\n",
    "Il y a donc ici 4 plans d'expériences de type \"E\".\n",
    "\n",
    "C'est pour cette raison que la taille du plan d'expérience permettant d'estimer toutes les quantités requises est égal à (1+1+4) * 500 = 3000."
   ]
  },
  {
   "cell_type": "code",
   "execution_count": 6,
   "metadata": {},
   "outputs": [
    {
     "data": {
      "text/plain": [
       "3000"
      ]
     },
     "execution_count": 6,
     "metadata": {},
     "output_type": "execute_result"
    }
   ],
   "source": [
    "inputDesign.getSize()"
   ]
  },
  {
   "cell_type": "code",
   "execution_count": 7,
   "metadata": {},
   "outputs": [],
   "source": [
    "outputDesign = g(inputDesign)"
   ]
  },
  {
   "cell_type": "markdown",
   "metadata": {},
   "source": [
    "La librairie dispose de quatre estimateurs des indices de Sobol'. Ici, nous proposons d'utiliser l'estimateur de Saltelli. "
   ]
  },
  {
   "cell_type": "code",
   "execution_count": 8,
   "metadata": {},
   "outputs": [],
   "source": [
    "sensitivityAnalysis = ot.SaltelliSensitivityAlgorithm(inputDesign, outputDesign, size)"
   ]
  },
  {
   "cell_type": "markdown",
   "metadata": {},
   "source": [
    "On souhaite obtenir la distribution asymptotique."
   ]
  },
  {
   "cell_type": "code",
   "execution_count": 9,
   "metadata": {},
   "outputs": [],
   "source": [
    "sensitivityAnalysis.setUseAsymptoticDistribution(True)"
   ]
  },
  {
   "cell_type": "markdown",
   "metadata": {},
   "source": [
    "Les méthodes `getFirstOrderIndices` et `getTotalOrderIndices` permettent de récupérer les indices du premier ordre et totaux."
   ]
  },
  {
   "cell_type": "code",
   "execution_count": 10,
   "metadata": {},
   "outputs": [
    {
     "name": "stdout",
     "output_type": "stream",
     "text": [
      "First order: [0.083941,0.840896,-0.0533601,0.00705359]\n"
     ]
    }
   ],
   "source": [
    "firstOrderIndices = sensitivityAnalysis.getFirstOrderIndices()\n",
    "print(\"First order:\", firstOrderIndices)"
   ]
  },
  {
   "cell_type": "code",
   "execution_count": 11,
   "metadata": {},
   "outputs": [
    {
     "name": "stdout",
     "output_type": "stream",
     "text": [
      "Total order: [0.189603,0.809747,0.00271188,0.0870348]\n"
     ]
    }
   ],
   "source": [
    "totalOrderIndices = sensitivityAnalysis.getTotalOrderIndices()\n",
    "print(\"Total order:\", totalOrderIndices)"
   ]
  },
  {
   "cell_type": "markdown",
   "metadata": {},
   "source": [
    "La méthode `draw` propose une méthode de dessin des indices de Sobol' qui permet d'observer à la fois les indices du premier ordre, les indices totaux et les intervalles de confiance."
   ]
  },
  {
   "cell_type": "code",
   "execution_count": 12,
   "metadata": {
    "scrolled": true
   },
   "outputs": [
    {
     "data": {
      "image/png": "[encoded data removed]",
      "text/plain": [
       "<Figure size 288x216 with 1 Axes>"
      ]
     },
     "metadata": {
      "needs_background": "light"
     },
     "output_type": "display_data"
    }
   ],
   "source": [
    "graph = sensitivityAnalysis.draw()\n",
    "view = otv.View(graph, figure_kw={\"figsize\": (4.0, 3.0)})"
   ]
  },
  {
   "cell_type": "markdown",
   "metadata": {},
   "source": [
    "Considérons en particulier la variable F. On observe que l'estimation de l'indice de sensibilité du premier ordre est légèrement supérieur à l'estimation de l'indice total. On sait que les valeurs exactes sont toujours de telle sorte que l'indice total est supérieur ou égal à l'indice du premier ordre. C'est donc à cause de l'erreur d'estimation que l'on obtient un ordre inverse. C'est la marque que \n",
    "\n",
    "- la taille de l'échantillon n'est pas suffisamment grande,\n",
    "- ou l'indice du premier ordre est égal à l'indice total car il n'y a pas d'interaction.\n",
    "\n",
    "Dans ce cas particulier, on observe que l'intervalle de confiance à 95% indique que l'estimation de l'indice du premier ordre de F est particulièrement large, approximativement entre 0.6 et 1.1. Dans ce cas particulier, il est pertinent d'augmenter la taille de l'échantillon."
   ]
  },
  {
   "cell_type": "markdown",
   "metadata": {},
   "source": [
    "La méthode `DrawSobolIndices` permet de réaliser un graphique similaire lorsque les indices sont déjà disponibles."
   ]
  },
  {
   "cell_type": "code",
   "execution_count": 13,
   "metadata": {
    "scrolled": true
   },
   "outputs": [
    {
     "data": {
      "image/png": "[encoded data removed]",
      "text/plain": [
       "<Figure size 288x216 with 1 Axes>"
      ]
     },
     "metadata": {
      "needs_background": "light"
     },
     "output_type": "display_data"
    }
   ],
   "source": [
    "inputDescription = X.getDescription()\n",
    "graph = ot.SaltelliSensitivityAlgorithm.DrawSobolIndices(\n",
    "    inputDescription, firstOrderIndices, totalOrderIndices\n",
    ")\n",
    "view = otv.View(graph, figure_kw={\"figsize\": (4.0, 3.0)})"
   ]
  },
  {
   "cell_type": "markdown",
   "metadata": {},
   "source": [
    "La méthode `getFirstOrderIndicesDistribution` retourne la distribution des indices de Sobol'. Elle peut être de deux types différents.\n",
    "\n",
    "- Par défaut, la distribution des indices de Sobol' est estimée par bootstrap. Dans ce cas, la valeur de retour de `getFirstOrderIndicesDistribution` est de type `KernelMixture`, c'est à dire fondée sur une méthode d'estimation à noyau.\n",
    "- Si on utilise la méthode `setUseAsymptoticDistribution`, alors on peut obtenir la distribution asymptotique fondée sur la delta méthode. Dans ce cas, la valeur de retour de `getFirstOrderIndicesDistribution` est de type `Normal`."
   ]
  },
  {
   "cell_type": "code",
   "execution_count": 14,
   "metadata": {},
   "outputs": [
    {
     "data": {
      "text/html": [
       "<p>Normal(mu = [0.083941,0.840896,-0.0533601,0.00705359], sigma = [0.0461918,0.149686,0.0540539,0.0517245], R = [[ 1 0 0 0 ]<br>\n",
       " [ 0 1 0 0 ]<br>\n",
       " [ 0 0 1 0 ]<br>\n",
       " [ 0 0 0 1 ]])</p>"
      ],
      "text/plain": [
       "class=Normal name=Normal dimension=4 mean=class=Point name=Unnamed dimension=4 values=[0.083941,0.840896,-0.0533601,0.00705359] sigma=class=Point name=Unnamed dimension=4 values=[0.0461918,0.149686,0.0540539,0.0517245] correlationMatrix=class=CorrelationMatrix dimension=4 implementation=class=MatrixImplementation name=Unnamed rows=4 columns=4 values=[1,0,0,0,0,1,0,0,0,0,1,0,0,0,0,1]"
      ]
     },
     "execution_count": 14,
     "metadata": {},
     "output_type": "execute_result"
    }
   ],
   "source": [
    "fo_dist = sensitivityAnalysis.getFirstOrderIndicesDistribution()\n",
    "fo_dist"
   ]
  },
  {
   "cell_type": "code",
   "execution_count": 15,
   "metadata": {},
   "outputs": [
    {
     "data": {
      "image/png": "[encoded data removed]",
      "text/plain": [
       "<Figure size 288x216 with 1 Axes>"
      ]
     },
     "metadata": {
      "needs_background": "light"
     },
     "output_type": "display_data"
    }
   ],
   "source": [
    "fo_SX0 = fo_dist.getMarginal(0)\n",
    "graph = fo_SX0.drawPDF()\n",
    "graph.setXTitle(r\"$S_{\" + inputDescription[0] + \"}$\")\n",
    "graph.setTitle(\"First order Sobol' indice\")\n",
    "graph.setLegends([\"\"])\n",
    "view = otv.View(graph, figure_kw={\"figsize\": (4.0, 3.0)})"
   ]
  },
  {
   "cell_type": "markdown",
   "metadata": {},
   "source": [
    "## Estimer les indices de Sobol' avec un algorithme incrémental\n",
    "\n",
    "La classe `SobolSimulationAlgorithm` permet d'estimer les indices de Sobol' à l'aide d'un algorithme incrémental. L'objectif principal de cette classe est de pouvoir configurer la précision d'estimation de l'indice de Sobol' à l'aide d'un intervalle de confiance dont le niveau de confiance `alpha` et la largeur `epsilon` sont fixés par l'utilisateur. Ainsi, les simulations sont réalisées par bloc, ce qui garantit à la fois une performance maximale sur les supercalculateurs et un nombre minimal de blocs évalués. "
   ]
  },
  {
   "cell_type": "code",
   "execution_count": 16,
   "metadata": {},
   "outputs": [
    {
     "name": "stdout",
     "output_type": "stream",
     "text": [
      "First order = [0.161264,0.897391,0.0109408,0.0723322]\n",
      "Total order = [0.143647,0.806234,0.00990204,0.0612972]\n"
     ]
    }
   ],
   "source": [
    "alpha = 0.05  # i.e. 95% confidence interval\n",
    "epsilon = 0.2  # Confidence interval length\n",
    "blocksize = 50  # size of Sobol experiment at each iteration\n",
    "batchsize = 16  # number of points evaluated simultaneously\n",
    "maximumOuterSampling = 400  # number of outer iterations of the algorithm\n",
    "\n",
    "estimator = ot.SaltelliSensitivityAlgorithm()\n",
    "estimator.setUseAsymptoticDistribution(True)\n",
    "algo = ot.SobolSimulationAlgorithm(X, g, estimator)\n",
    "algo.setMaximumOuterSampling(maximumOuterSampling)  # number of iterations\n",
    "algo.setBlockSize(blocksize)\n",
    "algo.setBatchSize(batchsize)\n",
    "algo.setIndexQuantileLevel(alpha)  # alpha\n",
    "algo.setIndexQuantileEpsilon(epsilon)  # epsilon\n",
    "algo.run()\n",
    "\n",
    "result = algo.getResult()\n",
    "fo = result.getFirstOrderIndicesEstimate()\n",
    "to = result.getTotalOrderIndicesEstimate()\n",
    "print(\"First order = %s\" % (str(fo)))\n",
    "print(\"Total order = %s\" % (str(to)))"
   ]
  },
  {
   "cell_type": "code",
   "execution_count": 17,
   "metadata": {},
   "outputs": [
    {
     "name": "stdout",
     "output_type": "stream",
     "text": [
      "outerSampling =  210\n"
     ]
    }
   ],
   "source": [
    "outerSampling = result.getOuterSampling()\n",
    "print(\"outerSampling = \", outerSampling)\n",
    "if outerSampling == maximumOuterSampling:\n",
    "    print(\"Attention : le nombre maximum d'itérations externes est atteint!\")"
   ]
  },
  {
   "cell_type": "code",
   "execution_count": 18,
   "metadata": {},
   "outputs": [
    {
     "data": {
      "image/png": "[encoded data removed]",
      "text/plain": [
       "<Figure size 288x216 with 1 Axes>"
      ]
     },
     "metadata": {
      "needs_background": "light"
     },
     "output_type": "display_data"
    }
   ],
   "source": [
    "graph = result.draw()\n",
    "view = otv.View(graph, figure_kw={\"figsize\": (4.0, 3.0)})"
   ]
  },
  {
   "cell_type": "code",
   "execution_count": 19,
   "metadata": {},
   "outputs": [
    {
     "data": {
      "image/png": "[encoded data removed]",
      "text/plain": [
       "<Figure size 288x216 with 1 Axes>"
      ]
     },
     "metadata": {
      "needs_background": "light"
     },
     "output_type": "display_data"
    }
   ],
   "source": [
    "dist_fo = result.getFirstOrderIndicesDistribution()\n",
    "dist_fo_i = dist_fo.getMarginal(0)\n",
    "graph = dist_fo_i.drawPDF()\n",
    "graph.setTitle(r\"$S_E$\")\n",
    "graph.setXTitle(r\"$S_E$\")\n",
    "view = otv.View(graph, figure_kw={\"figsize\": (4.0, 3.0)})"
   ]
  },
  {
   "cell_type": "markdown",
   "metadata": {},
   "source": [
    "## Synthèse\n",
    "\n",
    "La table suivant résume les résultats.\n",
    "\n",
    "| Variable | Premier ordre, I.C. à 95 % | Total, I.C. à 95 % |\n",
    "|--|--|--|\n",
    "| $E$ | [0.11,0.19] | [0.12,0.17] |\n",
    "| $F$ | [0.77,1.03] | [0.79,0.85] |\n",
    "| $L$ | [-0.03,0.04] | [0.00,0.02] |\n",
    "| $I$ | [0.03,0.10] | [0.04,0.08] |\n",
    "\n",
    "Voici les conclusions que l'on peut tirer.\n",
    "\n",
    "- La variable $F$ est la variable qui contribue le plus à la variabilité de la sortie, à hauteur de 70 à 80%.\n",
    "- La variable $E$ est la seconde variable qui contribue le plus à la variabilité de la sortie, à hauteur de 10 à 20%.\n",
    "- Les deux autres variables $L$ et $I$ contribuent à moins de 10 % de la variabilité de la sortie : elles pourrait être remplacées par des constantes (surtout la variable $L$), sans que la variabilité de la sortie $Y$ ne soit beaucoup modifiée.\n",
    "- Sur la base des calculs, on peut indiquer que les interactions, si elles existent, ne contribuent pas beaucoup à la variabilité de la sortie. "
   ]
  },
  {
   "cell_type": "markdown",
   "metadata": {},
   "source": [
    "## Exercice 1 : fonction produit\n",
    "\n",
    "On considère la fonction :\n",
    "$$\n",
    "g(X_1,X_2)=X_1 X_2\n",
    "$$\n",
    "pour tout $X_1,X_2\\in\\mathbb{R}$. \n",
    "On suppose que les variables sont indépendantes et suivent les lois suivantes.\n",
    "\n",
    "| Variable | Distribution |\n",
    "|--|--|\n",
    "| $X_1$ | Normal($\\mu=0$, $\\sigma=10$) |\n",
    "| $X_2$ | Uniforme($a=-1$, $b=1$) |\n",
    "\n",
    "La cellule suivante définit le modèle."
   ]
  },
  {
   "cell_type": "code",
   "execution_count": 20,
   "metadata": {},
   "outputs": [],
   "source": [
    "g = ot.SymbolicFunction([\"X1\", \"X2\"], [\"X1 * X2\"])\n",
    "X1 = ot.Normal(0.0, 10.0)\n",
    "X2 = ot.Uniform(-1.0, 1.0)\n",
    "X = ot.ComposedDistribution([X1, X2])\n",
    "inputDescription = [\"X1\", \"X2\"]\n",
    "X.setDescription(inputDescription)"
   ]
  },
  {
   "cell_type": "markdown",
   "metadata": {},
   "source": [
    "*Questions*\n",
    "\n",
    "- Estimer les indices SRC. Pour cela, utiliser la classe `CorrelationAnalysis().computeSquaredSRC()`. \n",
    "- Pour valider vos résultats, utiliser la fonction `CorrelationAnalysis_PearsonCorrelation`. Par exemple, pour estimer l'indice SRC de la i-ème  variable, on utilise l'instruction suivante\n",
    "```\n",
    "ot.CorrelationAnalysis_PearsonCorrelation(sampleY,sampleX[:,i])[0]\n",
    "```\n",
    "Comparer vos résultats : qu'observez-vous ?\n",
    "\n",
    "- Estimer les indices de Sobol' avec la classe `SaltelliSensitivityAlgorithm`. Qu'observez-vous ? Comment expliquer ce résultat ?"
   ]
  },
  {
   "cell_type": "markdown",
   "metadata": {},
   "source": [
    "## Exercice 2 : fonction Ishigami\n",
    "\n",
    "On considère la fonction \n",
    "\n",
    "$$\n",
    "g(X_1,X_2,X_3) = \\sin(X_1)+a \\sin (X_2)^2 + b X_3^4 \\sin(X_1)\n",
    "$$\n",
    "\n",
    "pour tout $X_1,X_2,X_3\\in[-\\pi,\\pi]$ où $a=7$ et $b=0.1$. \n",
    "On suppose que les variables sont indépendantes et suivent la loi uniforme entre $-\\pi$ et $\\pi$.\n",
    "\n",
    "La cellule suivante définit le modèle."
   ]
  },
  {
   "cell_type": "code",
   "execution_count": 21,
   "metadata": {},
   "outputs": [],
   "source": [
    "input_names = [\"X1\", \"X2\", \"X3\"]\n",
    "g = ot.SymbolicFunction(\n",
    "    input_names, [\"sin(X1) + 7.0 * sin(X2)^2 + 0.1 * X3^4 * sin(X1)\"]\n",
    ")\n",
    "X = ot.ComposedDistribution([ot.Uniform(-np.pi, np.pi)] * 3)\n",
    "X.setDescription(input_names)"
   ]
  },
  {
   "cell_type": "markdown",
   "metadata": {},
   "source": [
    "*Questions*\n",
    "\n",
    "- Estimer les indices SRC carrés avec la classe `CorrelationAnalysis().computeSquaredSRC()`\n",
    "- Estimer les indices SRC carrés avec la classe `CorrelationAnalysis_PearsonCorrelation`. \n",
    "- Estimer les indices de Sobol'. \n",
    "- Qu'observez-vous ?"
   ]
  },
  {
   "cell_type": "markdown",
   "metadata": {},
   "source": [
    "## Exercice 3 : variabilité de l'estimateur\n",
    "\n",
    "On considère le cas de la déviation verticale de la poutre encastrée.\n",
    "\n",
    "Avec une méthode Monte-Carlo et l'estimateur de Saltelli, on souhaite observer la variabilité de l'estimateur des indices du premier ordre. Pour cela, nous allons répéter l'estimation des indices du premier ordre $r$ fois, avec $r=100$. Dans chaque expérience, nous allons estimer les indices du premier ordre avec un plan d'expériences de taille $n$, avec $n=500$.\n",
    "\n",
    "*Questions*\n",
    "\n",
    "- Créer la variable `r=100`. \n",
    "- Créer la variable `sampleS` contenant un `Sample` de taille `r` et de dimension 4. Cette variable est destinée à contenir l'échantillon des estimations des indices du premier ordre.\n",
    "- Créer la variable `n=500`.\n",
    "- Créer une boucle `for` de 0 à `r-1`. Pour chaque élément `j` de la boucle, estimer les indices du premier ordre et stocker le résultat dans `sampleS[j,:]`.\n",
    "- Dessiner l'histogramme empirique de l'indice de Sobol' du premier ordre pour la variable $E$\n",
    "- Dessiner la loi gaussienne asymptotique issue de la méthode `getFirstOrderIndicesDistribution`. Est-ce que les deux distributions sont comparables ?"
   ]
  },
  {
   "cell_type": "markdown",
   "metadata": {},
   "source": [
    "## Exercice 4 : estimation avec un algorithme\n",
    "\n",
    "On considère le cas de la déviation verticale de la poutre encastrée. On souhaite mettre en oeuvre la méthode \"pick-freeze\" pour estimer les indices de sensibilité. \n",
    "\n",
    "*Questions*\n",
    "\n",
    "- Utiliser une méthode Monte-Carlo, l'estimateur de Saltelli et une boucle `for` pour estimer les indices de Sobol' du premier ordre et les indices totaux. Pour d'autres estimateurs, on peut les deux fonctions `sumOfProduct` et `centeredG` suivantes, mais ce n'est pas nécessaire pour l'estimateur de Martinez.\n",
    "- Utiliser l'estimateur de Martinez pour les indices du premier ordre et les indices totaux. Qu'observez-vous sur le plan du code ?\n",
    "- Comparez les résultats produits par les deux méthodes : qu'observez-vous ?"
   ]
  },
  {
   "cell_type": "code",
   "execution_count": 23,
   "metadata": {},
   "outputs": [],
   "source": [
    "def sampleDotProduct(sampleA, sampleB):\n",
    "    \"\"\"\n",
    "    Computes the dot product of two 1D-samples.\n",
    "\n",
    "    Parameters\n",
    "    ----------\n",
    "    sampleA : ot.Sample(size, 1)\n",
    "        A sample.\n",
    "    sampleB : ot.Sample(size, 1)\n",
    "        A sample.\n",
    "\n",
    "    Returns\n",
    "    -------\n",
    "    y : float\n",
    "        The dot product of sampleA and sampleB.\n",
    "\n",
    "    \"\"\"\n",
    "    sampleA_point = sampleA.asPoint()\n",
    "    sampleB_point = sampleB.asPoint()\n",
    "    y = sampleA_point.dot(sampleB_point)\n",
    "    return y\n",
    "\n",
    "\n",
    "def centeredG(sampleX, g):\n",
    "    \"\"\"\n",
    "    Calcule la sortie de g, centrée par sa moyenne empirique.\n",
    "\n",
    "    Parameters\n",
    "    ----------\n",
    "    sampleX : ot.Sample(size, inputDimension)\n",
    "        A sample.\n",
    "    g : ot.Function\n",
    "        A function\n",
    "\n",
    "    Returns\n",
    "    -------\n",
    "    centeredSampleY : ot.Sample(size, 1)\n",
    "        The sample y - c where y = g(sampleX) and c is the sample mean of y.\n",
    "\n",
    "    \"\"\"\n",
    "    sampleY = g(sampleX)\n",
    "    EY = sampleY.computeMean()[0]\n",
    "    centeredSampleY = sampleY - EY\n",
    "    return centeredSampleY"
   ]
  },
  {
   "cell_type": "markdown",
   "metadata": {},
   "source": [
    "## Exercice 5 : utilisation d'une séquence de Sobol' pour estimer les indices de Sobol'\n",
    "\n",
    "Utiliser un plan d'expériences de type séquence à faible discrépance pour estimer les indices de sensibilité. Pour cela, on utilisera la séquence de Sobol'. \n",
    "\n",
    "Pour clarifier l'algorithme, on définira la fonction `martinezSobolIndices` qui utilisera l'estimateur de Martinez pour estimer les indices de Sobol'. Sa séquence d'appel devra être :\n",
    "```\n",
    "S, T = martinezSobolIndices(XA,XB)\n",
    "```\n",
    "\n",
    "Nous proposons d'utiliser cette fonction de telle sorte que `XA` e `XB` sont issus d'une séquence à faible discrépance de taille n en dimension $2p$. Puis, on découpera ce plan d'expériences en deux plans d'expériences de dimension $p$. La séquence de Sobol' peut être générée grâce aux classes `SobolSequence` et `LowDiscrepancyExperiment`. \n"
   ]
  }
 ],
 "metadata": {
  "kernelspec": {
   "display_name": "Python 3 (ipykernel)",
   "language": "python",
   "name": "python3"
  },
  "language_info": {
   "codemirror_mode": {
    "name": "ipython",
    "version": 3
   },
   "file_extension": ".py",
   "mimetype": "text/x-python",
   "name": "python",
   "nbconvert_exporter": "python",
   "pygments_lexer": "ipython3",
   "version": "3.10.0"
  }
 },
 "nbformat": 4,
 "nbformat_minor": 2
}
