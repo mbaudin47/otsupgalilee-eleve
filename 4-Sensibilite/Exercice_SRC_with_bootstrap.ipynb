{
 "cells": [
  {
   "cell_type": "markdown",
   "id": "58b8b155",
   "metadata": {},
   "source": [
    "# Compute confidence interval of SRC indices using bootstrap\n",
    "\n",
    "This examples shows how to compute SRC indices confidence bounds with bootstrap. First, we compute SRC indices and draw them. Then we compute bootstrap confidence bounds using the `BootstrapExperiment` class and draw them.\n",
    "\n",
    "This example has been suggested as an evolution of OpenTURNS at:\n",
    "https://github.com/openturns/openturns/issues/1056"
   ]
  },
  {
   "cell_type": "code",
   "execution_count": 1,
   "id": "819e602e",
   "metadata": {},
   "outputs": [],
   "source": [
    "import openturns as ot\n",
    "import openturns.viewer as otv\n",
    "from math import sqrt\n",
    "import pylab as pl"
   ]
  },
  {
   "cell_type": "markdown",
   "id": "c18130b9",
   "metadata": {},
   "source": [
    "We define the function g."
   ]
  },
  {
   "cell_type": "code",
   "execution_count": 2,
   "id": "c9ac8737",
   "metadata": {},
   "outputs": [],
   "source": [
    "def functionCrue8vars(X):\n",
    "    Q, Ks, Zv, Zm, Hd, Zb, L, B = X\n",
    "    Zd = Zb + Hd\n",
    "    alpha = (Zm - Zv) / L\n",
    "    H = (Q / (Ks * B * sqrt(alpha))) ** (3.0 / 5.0)\n",
    "    Zc = H + Zv\n",
    "    S = Zc - Zd\n",
    "    return [S]\n",
    "\n",
    "\n",
    "g = ot.PythonFunction(8, 1, functionCrue8vars)\n",
    "g.setDescription([\"Q\", \"Ks\", \"Zv\", \"Zm\", \"Hd\", \"Zb\", \"L\", \"B\", \"S\"])\n",
    "\n",
    "Hd = 8.0\n",
    "Zb = 55.5\n",
    "L = 5000.0\n",
    "B = 300.0\n",
    "X = [Hd, Zb, L, B]\n",
    "g_parametric = ot.ParametricFunction(g, [4, 5, 6, 7], X)"
   ]
  },
  {
   "cell_type": "markdown",
   "id": "042ad57f",
   "metadata": {},
   "source": [
    "Then we define the random vector. "
   ]
  },
  {
   "cell_type": "code",
   "execution_count": 3,
   "id": "705695c7",
   "metadata": {},
   "outputs": [],
   "source": [
    "Q = ot.Gumbel(558.0, 1013.0)\n",
    "otLOW = ot.TruncatedDistribution.LOWER\n",
    "Q = ot.TruncatedDistribution(Q, 0, otLOW)\n",
    "Ks = ot.Normal(30.0, 7.5)\n",
    "Ks = ot.TruncatedDistribution(Ks, 0, otLOW)\n",
    "Zv = ot.Uniform(49.0, 51.0)\n",
    "Zm = ot.Uniform(54.0, 56.0)\n",
    "\n",
    "X = ot.ComposedDistribution([Q, Ks, Zv, Zm])"
   ]
  },
  {
   "cell_type": "markdown",
   "id": "ea720aa6",
   "metadata": {},
   "source": [
    "We produce a pair of input and output sample."
   ]
  },
  {
   "cell_type": "code",
   "execution_count": 4,
   "id": "c867ba74",
   "metadata": {},
   "outputs": [
    {
     "name": "stdout",
     "output_type": "stream",
     "text": [
      "[0.378122,0.159565,0.180492,0.00565251]\n"
     ]
    }
   ],
   "source": [
    "sampleSize = 100\n",
    "sampleX = X.getSample(sampleSize)\n",
    "sampleY = g_parametric(sampleX)\n",
    "\n",
    "importance_factors = ot.CorrelationAnalysis.SRC(sampleX, sampleY)\n",
    "print(importance_factors)"
   ]
  },
  {
   "cell_type": "code",
   "execution_count": 5,
   "id": "ec7423aa",
   "metadata": {},
   "outputs": [
    {
     "name": "stderr",
     "output_type": "stream",
     "text": [
      "/home/devel/miniconda3/envs/otsupgalilee/lib/python3.9/site-packages/numpy/core/getlimits.py:499: UserWarning: The value of the smallest subnormal for <class 'numpy.float64'> type is zero.\n",
      "  setattr(self, word, getattr(machar, word).flat[0])\n",
      "/home/devel/miniconda3/envs/otsupgalilee/lib/python3.9/site-packages/numpy/core/getlimits.py:89: UserWarning: The value of the smallest subnormal for <class 'numpy.float64'> type is zero.\n",
      "  return self._float_to_str(self.smallest_subnormal)\n"
     ]
    },
    {
     "data": {
      "image/png": "[encoded data removed]",
      "text/plain": [
       "<Figure size 288x216 with 1 Axes>"
      ]
     },
     "metadata": {
      "needs_background": "light"
     },
     "output_type": "display_data"
    }
   ],
   "source": [
    "input_names = g_parametric.getInputDescription()\n",
    "graph = ot.SobolIndicesAlgorithm.DrawCorrelationCoefficients(\n",
    "    importance_factors, input_names, \"Importance factors\"\n",
    ")\n",
    "graph.setYTitle(\"Importance factors\")\n",
    "view = otv.View(graph, figure_kw={\"figsize\": (4.0, 3.0)})\n",
    "_ = pl.ylim(top = 0.1 + max(importance_factors))"
   ]
  },
  {
   "cell_type": "markdown",
   "id": "67884fae",
   "metadata": {},
   "source": [
    "We now compute bootstrap confidence intervals for the importance factors. This is done with the `BootstrapExperiment` class. "
   ]
  },
  {
   "cell_type": "code",
   "execution_count": 6,
   "id": "675d93b0",
   "metadata": {},
   "outputs": [
    {
     "name": "stdout",
     "output_type": "stream",
     "text": [
      "[0.279526, 0.471558]\n",
      "[0.0933866, 0.292377]\n",
      "[0.117489, 0.27868]\n",
      "[0.00126018, 0.0141868]\n"
     ]
    }
   ],
   "source": [
    "# Create a sample with (X,Y)\n",
    "dim = sampleX.getDimension()\n",
    "fullSample = ot.Sample(sampleSize, dim + 1)\n",
    "fullSample[:, 0:dim] = sampleX\n",
    "fullSample[:, dim] = sampleY\n",
    "\n",
    "# Create SRC bootstrap sample\n",
    "bootstrapSize = 100\n",
    "importance_factors_bootstrap = ot.Sample(bootstrapSize, dim)\n",
    "bootstrap = ot.BootstrapExperiment(fullSample)\n",
    "for i in range(bootstrapSize):\n",
    "    fullSample_boostrap = bootstrap.generate()\n",
    "    sampleX_boostrap = fullSample_boostrap[:, 0:dim]\n",
    "    sampleY_boostrap = fullSample_boostrap[:, dim]\n",
    "    importance_factors_bootstrap[i, :] = ot.CorrelationAnalysis.SRC(sampleX_boostrap, sampleY_boostrap)\n",
    "\n",
    "# Compute bootstrap quantiles\n",
    "alpha = 0.05\n",
    "importance_factors_lower_bound = importance_factors_bootstrap.computeQuantilePerComponent(alpha / 2.0)\n",
    "importance_factors_upper_bound = importance_factors_bootstrap.computeQuantilePerComponent(1.0 - alpha / 2.0)\n",
    "importance_factors_bounds = ot.Interval(importance_factors_lower_bound, importance_factors_upper_bound)\n",
    "print(importance_factors_bounds)"
   ]
  },
  {
   "cell_type": "code",
   "execution_count": 16,
   "id": "52866810",
   "metadata": {},
   "outputs": [],
   "source": [
    "def plot_importance_factors_with_bounds(\n",
    "    importance_factors, input_names, alpha, importance_bounds\n",
    "):\n",
    "    \"\"\"\n",
    "    Plot importance factors indices with confidence bounds of level 1 - alpha\n",
    "    \n",
    "    Parameters\n",
    "    ----------\n",
    "    importance_factors : ot.Point(dimension)\n",
    "        The importance factors.\n",
    "    input_names : list(str)\n",
    "        The names of the input variables.\n",
    "    alpha : float, in [0, 1]\n",
    "        The complementary confidence level.\n",
    "    importance_bounds : ot.Interval(dimension)\n",
    "        The lower and upper bounds of the importance factors\n",
    "    \n",
    "    Returns\n",
    "    -------\n",
    "    graph : ot.Graph\n",
    "        The importance factors indices with lower and upper 1-alpha confidence intervals.\n",
    "    \"\"\"\n",
    "    dim = importance_factors.getDimension()\n",
    "    lowerBounds = importance_bounds.getLowerBound()\n",
    "    upperBounds = importance_bounds.getUpperBound()\n",
    "    palette = ot.Drawable().BuildDefaultPalette(2)\n",
    "    graph = ot.SobolIndicesAlgorithm.DrawCorrelationCoefficients(\n",
    "        importance_factors, input_names, \"Importance factors\"\n",
    "    )\n",
    "    graph.setColors([palette[0], \"black\"])\n",
    "    graph.setYTitle(\"Importance factors\")\n",
    "    title = \"Importance factors with bounds at %.2f %%\" % ((1 - alpha) * 100)\n",
    "\n",
    "    graph.setTitle(title)\n",
    "    # Add confidence bounds\n",
    "    for i in range(dim):\n",
    "        curve = ot.Curve([1 + i, 1 + i], [lowerBounds[i], upperBounds[i]])\n",
    "        curve.setLineWidth(2.0)\n",
    "        curve.setColor(palette[1])\n",
    "        graph.add(curve)\n",
    "    return graph"
   ]
  },
  {
   "cell_type": "code",
   "execution_count": 17,
   "id": "9c2a3be7",
   "metadata": {},
   "outputs": [
    {
     "data": {
      "image/png": "[encoded data removed]",
      "text/plain": [
       "<Figure size 288x216 with 1 Axes>"
      ]
     },
     "metadata": {
      "needs_background": "light"
     },
     "output_type": "display_data"
    }
   ],
   "source": [
    "graph = plot_importance_factors_with_bounds(importance_factors, input_names, alpha, importance_factors_bounds)\n",
    "graph.setTitle(\"Importance factors with bounds at %.2f %%, n=%d\" % ((1 - alpha) * 100, sampleSize))\n",
    "view = otv.View(graph, figure_kw={\"figsize\": (4.0, 3.0)})\n",
    "_ = pl.ylim(top = 0.2 + max(importance_factors))\n",
    "pl.savefig(\"Exercice_SRC_with_bootstrap.pdf\", bbox_inches=\"tight\")"
   ]
  },
  {
   "cell_type": "markdown",
   "id": "5317ebc6",
   "metadata": {},
   "source": [
    "We see that the variable $Q$ must be significant, because the lower bound of the confidence interval does not cross the X axis. Furthermore, its bounds are significantly greater than the bounds of the other variables (although perhaps less significantly for the $K_s$ variable). Hence, it must be recognized that $Q$ is the most important variable in this model, according to the linear regression model. \n",
    "\n",
    "We see that the variable $Z_m$ has a importance factor close to zero, taking into account the confidence bounds (which are very small in this case). Hence, the variable $Z_m$ could be replaced by a constant without reducing much the variance of the output. \n",
    "\n",
    "The variables $K_s$ and $Z_v$ are somewhat in-between these two extreme situations. We cannot state that one of them is of greater importance than the other, because the confidence bounds are of comparable magnitude. Looking uniquely at the importance factors, we may wrongly conclude that $Z_v$ has a greater impact than $K_s$ because the estimate of the importance factor for $Z_v$ is strictly greater than the estimate for $K_s$. But taking into account for the variability of the estimators, this conclusion has not foundation, since confidence limits are comparable. In order to distinguish between the impact of these two variables, a larger sample size is needed."
   ]
  },
  {
   "cell_type": "code",
   "execution_count": null,
   "id": "df26a76c",
   "metadata": {},
   "outputs": [],
   "source": []
  }
 ],
 "metadata": {
  "kernelspec": {
   "display_name": "Python 3 (ipykernel)",
   "language": "python",
   "name": "python3"
  },
  "language_info": {
   "codemirror_mode": {
    "name": "ipython",
    "version": 3
   },
   "file_extension": ".py",
   "mimetype": "text/x-python",
   "name": "python",
   "nbconvert_exporter": "python",
   "pygments_lexer": "ipython3",
   "version": "3.9.0"
  }
 },
 "nbformat": 4,
 "nbformat_minor": 5
}
