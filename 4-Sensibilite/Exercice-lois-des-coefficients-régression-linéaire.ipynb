{
 "cells": [
  {
   "cell_type": "markdown",
   "id": "d9b8549b",
   "metadata": {},
   "source": [
    "# Loi des coefficients de la régression linéaire\n",
    "\n",
    "Le but de cet exemple est de montrer comment calculer la loi des coefficients de la régression linéaire par moindres carrés. On fait l'hypothèse que les résidus suivent la loi gaussienne. Nous calculons les paramètres de la loi gaussienne des paramètres, c'est à dire la moyenne et la matrice de covariance. \n",
    "\n",
    "Un des objectifs de cet exemple est de montrer comment utiliser la classe `DesignProxy` sur un exemple relativement simple. Dans la seconde partie de cet exemple, nous montrons comment utiliser cette classe dans le contexte d'une méthode de sélection de modèle.\n",
    "\n",
    "## Propriétés de la régression linéaire\n",
    "\n",
    "**Hypothèses** _(Hypothèses du modèle de regression linéaire)_\n",
    "On considère le modèle :\n",
    "$$\n",
    "\\boldsymbol{Y} = X \\boldsymbol{\\beta} + \\boldsymbol{\\epsilon}\n",
    "$$\n",
    "où $\\boldsymbol{Y}$ est le vecteur aléatoire de dimension $n$ représentant les observations, $X$ \n",
    "est la matrice de conception de taille $n\\times p$, $\\boldsymbol{\\beta}$ est le vecteur de \n",
    "dimension $p$ représentant les paramètres et $\\boldsymbol{\\epsilon}$ est un vecteur aléatoire \n",
    "de dimension $n$. \n",
    "\n",
    "La définition suivante introduit le problème des moindres carrés linéaires. \n",
    "\n",
    "**Définition** _(Moindres carrés linéaires)_\n",
    "Soit $\\boldsymbol{Y}$ une réalisation du vecteur aléatoire $\\boldsymbol{Y}$. \n",
    "La méthode des moindres carrés non linéaires consiste à rechercher \n",
    "$\\widehat{\\boldsymbol{\\beta}}$ tel que : \n",
    "$$\n",
    "\\widehat{\\boldsymbol{\\beta}}\n",
    "\\in \\textrm{argmin}_{\\boldsymbol{\\beta}\\in\\mathbb{R}^p} \\frac{1}{2} \\| \\boldsymbol{Y} - X \\boldsymbol{\\beta} \\|_2^2.\n",
    "$$\n",
    "\n",
    "Le théorème suivant présente la solution du problème des moindres carrés linéaires. \n",
    "\n",
    "**Théorème** _(Solution des équations normales)_\n",
    "L'estimateur des moindres carrés $\\hat{\\boldsymbol{\\beta}}$ est solution des équations \n",
    "normales :\n",
    "$$\n",
    "X^T X \\widehat{\\boldsymbol{\\beta}} = X^T \\boldsymbol{Y}.\n",
    "$$\n",
    "Si $X$ est de rang plein, alors :\n",
    "$$\n",
    "\\widehat{\\boldsymbol{\\beta}} = \\left(X^T X\\right)^{-1} X^T \\boldsymbol{Y}.\n",
    "$$\n",
    "Dans ce cas, le vecteur des prédictions est :\n",
    "$$\n",
    "\\widehat{\\boldsymbol{Y}} = X \\widehat{\\boldsymbol{\\beta}}.\n",
    "$$\n",
    "\n",
    "La démonstration est fondée sur le fait que, si $X$ est de rang plein, \n",
    "alors la matrice $X^T X$ est inversible. \n",
    "\n",
    "Nous nous intéressons aux prédictions du modèle de régression. \n",
    "Nous avons vu comment évaluer le vecteur des prédictions $\\hat{\\boldsymbol{Y}}$ en fonction \n",
    "du vecteur de l'estimateur des paramètres $\\hat{\\boldsymbol{\\beta}}$. \n",
    "Le théorème suivant présente une expression du vecteur des prédictions $\\hat{\\boldsymbol{Y}}$ \n",
    "en fonction du vecteur des observations $\\boldsymbol{Y}$. \n",
    "\n",
    "**Théorème** _(Prédictions)_\n",
    "Le vecteur des prédictions du modèle de régression linéaires est :\n",
    "$$\n",
    "\\widehat{\\boldsymbol{Y}} = P \\boldsymbol{Y}\n",
    "$$\n",
    "où $P$ est la matrice de projection, de taille $n\\times n$ :\n",
    "$$\n",
    "P = X \\left(X^T X\\right)^{-1} X^T.\n",
    "$$\n",
    "\n",
    "Dans le but d'estimer l'erreur de prédiction, nous introduisons le vecteur \n",
    "des différences entre les prédictions et les observations. \n",
    "\n",
    "**Définition** _(Résidus)_\n",
    "Le vecteur des résidus est :\n",
    "$$\n",
    "\\boldsymbol{r} = \\boldsymbol{Y} - \\widehat{\\boldsymbol{Y}}.\n",
    "$$\n",
    "\n",
    "Par conséquent,\n",
    "$$\n",
    "\\boldsymbol{r} = (I - P) \\boldsymbol{Y}\n",
    "$$\n",
    "où $I$ est la matrice identité.\n",
    "\n",
    "Pour obtenir les résultats qui vont suivrent, nous aurons besoin \n",
    "de l'hypothèse suivante sur le vecteur des résidus.\n",
    "\n",
    "**Hypothèses** _(Espérance et covariance du résidu)_\n",
    "On fait l'hypothèse que \n",
    "$$\n",
    "\\mathbb{E}\\left[\\boldsymbol{\\epsilon}\\right] = \\boldsymbol{0}\n",
    "$$\n",
    "et\n",
    "$$\n",
    "\\operatorname{Cov}(\\boldsymbol{\\epsilon}) = \\sigma^2 I,\n",
    "$$\n",
    "où $\\sigma > 0$ est un réel.\n",
    "\n",
    "Les hypothèses précédentes spécifient l'espérance et la covariance du vecteur des résidus. \n",
    "Ces hypothèses ne sont pas nécessairement associées à une distribution gaussienne. \n",
    "Toutefois, comme nous allons le voir dans la section suivante, beaucoup plus \n",
    "d'informations peuvent être obtenues si la loi des résidus est gaussienne. \n",
    "\n",
    "Nous présentons les principales propriétés du modèle \n",
    "de régression linéaire. \n",
    "En particulier, nous présentons la loi du vecteur des paramètres et la \n",
    "loi du vecteur des résidus. \n",
    "\n",
    "Le théorème suivant présente l'espérance et la covariance de la prédiction du \n",
    "modèle de régression linéaire. \n",
    "\n",
    "**Théorème** _(Espérance et covariance du modèle de régression)_\n",
    "L'espérance de $\\boldsymbol{Y}$ est \n",
    "$$\n",
    "\\mathbb{E}[\\boldsymbol{Y}] = X \\boldsymbol{\\beta}\n",
    "$$\n",
    "et sa covariance est :\n",
    "$$\n",
    "\\operatorname{Cov}(\\boldsymbol{Y}) = \\sigma^2 I.\n",
    "$$\n",
    "\n",
    "Si, de plus, $\\boldsymbol{\\epsilon} \\sim \\mathcal{N}\\left(\\boldsymbol{0}, \\sigma^2 I\\right)$, alors :\n",
    "$$\n",
    "\\boldsymbol{Y} \\sim \\mathcal{N}\\left(X\\boldsymbol{\\beta}, \\sigma^2 I\\right).\n",
    "$$\n",
    "\n",
    "Le théorème suivant présente l'espérance et la covariance du vecteur \n",
    "des paramètres. \n",
    "\n",
    "**Théorème** _(Espérance et covariance du vecteur des paramètres)_\n",
    "L'espérance de $\\hat{\\boldsymbol{\\beta}}$ est :\n",
    "$$\n",
    "\\mathbb{E}\\left[\\widehat{\\boldsymbol{\\beta}}\\right] = \\boldsymbol{\\beta}\n",
    "$$\n",
    "et sa covariance est :\n",
    "$$\n",
    "\\operatorname{Cov}\\left(\\widehat{\\boldsymbol{\\beta}}\\right) = \\left(X^T X\\right)^{-1} \\sigma^2.\n",
    "$$\n",
    "\n",
    "Si, de plus, $\\boldsymbol{\\epsilon} \\sim \\mathcal{N}(\\boldsymbol{0}, \\sigma^2 I)$, alors :\n",
    "$$\n",
    "\\widehat{\\boldsymbol{\\beta}} \\sim \\mathcal{N}\\left(\\boldsymbol{\\beta}, \\left(X^T X\\right)^{-1} \\sigma^2\\right).\n",
    "$$\n",
    "\n",
    "## Références\n",
    "\n",
    "- Nicholas H Bingham and John M Fry. Regression : Linear models in statistics. Springer Science & Business Media, 2010."
   ]
  },
  {
   "cell_type": "markdown",
   "id": "45438e0c",
   "metadata": {},
   "source": [
    "## Create a least squares problem\n",
    "\n",
    "We consider the linear model:\n",
    "$$\n",
    "Y = \\beta_0 + \\beta_1 X_1 + \\beta_2 X_2 + \\beta_3 X_3 + \\epsilon\n",
    "$$\n",
    "where\n",
    "$$\n",
    "X_i \\sim \\mathcal{N}(0, 1)\n",
    "$$\n",
    "for $i = 1, ...,3$ are independent and \n",
    "$$\n",
    "\\epsilon \\sim \\mathcal{N}(0, 0.1).\n",
    "$$\n",
    "We use the parameters:\n",
    "$$\n",
    "\\beta_0  = 1, \\quad \\beta_1  = 2, \\quad \\beta_2 = -3, \\quad \\beta_3 = 4.\n",
    "$$"
   ]
  },
  {
   "cell_type": "code",
   "execution_count": 1,
   "id": "a1883559",
   "metadata": {},
   "outputs": [],
   "source": [
    "import openturns as ot\n",
    "import openturns.viewer as otv\n",
    "from math import sqrt\n",
    "import pylab as pl"
   ]
  },
  {
   "cell_type": "markdown",
   "id": "1977f8be",
   "metadata": {},
   "source": [
    "The following cell defines the $g$ function, based on the linear model."
   ]
  },
  {
   "cell_type": "code",
   "execution_count": 2,
   "id": "e3167bfe",
   "metadata": {},
   "outputs": [],
   "source": [
    "g_function = ot.SymbolicFunction([\"x1\", \"x2\", \"x3\"], [\"1.0 + 2.0 * x1 - 3.0 * x2 + 4.0 * x3\"])"
   ]
  },
  {
   "cell_type": "markdown",
   "id": "dbd4009f",
   "metadata": {},
   "source": [
    "We then define the distribution of the input random vector."
   ]
  },
  {
   "cell_type": "code",
   "execution_count": 3,
   "id": "92451590",
   "metadata": {},
   "outputs": [
    {
     "name": "stdout",
     "output_type": "stream",
     "text": [
      "ComposedDistribution(Normal(mu = 0, sigma = 1), Normal(mu = 0, sigma = 1), Normal(mu = 0, sigma = 1), IndependentCopula(dimension = 3))\n"
     ]
    }
   ],
   "source": [
    "dist_x1 = ot.Normal(0.0, 1.0)\n",
    "dist_x2 = ot.Normal(0.0, 1.0)\n",
    "dist_x3 = ot.Normal(0.0, 1.0)\n",
    "distribution = ot.ComposedDistribution([dist_x1, dist_x2, dist_x3])\n",
    "print(distribution)"
   ]
  },
  {
   "cell_type": "markdown",
   "id": "3ec050d4",
   "metadata": {},
   "source": [
    "We generate a sample of the input random vector and evaluate the corresponding output of the $g$ function."
   ]
  },
  {
   "cell_type": "code",
   "execution_count": 4,
   "id": "fff830ac",
   "metadata": {},
   "outputs": [
    {
     "data": {
      "text/html": [
       "<table>\n",
       "  <tr><td></td><th>y0</th></tr>\n",
       "  <tr><th>0</th><td>4.91968</td></tr>\n",
       "  <tr><th>1</th><td>-0.5322588</td></tr>\n",
       "  <tr><th>2</th><td>2.841348</td></tr>\n",
       "  <tr><th>3</th><td>3.832763</td></tr>\n",
       "  <tr><th>4</th><td>2.467041</td></tr>\n",
       "</table>"
      ],
      "text/plain": [
       "class=Sample name=Unnamed implementation=class=SampleImplementation name=Unnamed size=5 dimension=1 description=[y0] data=[[4.91968],[-0.532259],[2.84135],[3.83276],[2.46704]]"
      ]
     },
     "execution_count": 4,
     "metadata": {},
     "output_type": "execute_result"
    }
   ],
   "source": [
    "sample_size = 10\n",
    "input_sample = distribution.getSample(sample_size)\n",
    "output_sample = g_function(input_sample)\n",
    "output_sample[:5]"
   ]
  },
  {
   "cell_type": "markdown",
   "id": "509181ff",
   "metadata": {},
   "source": [
    "In order to create noisy observations of the output, we create a gaussian random variable, generate a sample and add it to the output sample. This produces the observed sample of the output, that we can use for linear regression."
   ]
  },
  {
   "cell_type": "code",
   "execution_count": 5,
   "id": "25307fe2",
   "metadata": {},
   "outputs": [
    {
     "data": {
      "text/html": [
       "<table>\n",
       "  <tr><td></td><th>y0</th></tr>\n",
       "  <tr><th>0</th><td>4.198147</td></tr>\n",
       "  <tr><th>1</th><td>-0.7734823</td></tr>\n",
       "  <tr><th>2</th><td>1.053384</td></tr>\n",
       "  <tr><th>3</th><td>4.234123</td></tr>\n",
       "  <tr><th>4</th><td>3.834866</td></tr>\n",
       "</table>"
      ],
      "text/plain": [
       "class=Sample name=Unnamed implementation=class=SampleImplementation name=Unnamed size=5 dimension=1 description=[y0] data=[[4.19815],[-0.773482],[1.05338],[4.23412],[3.83487]]"
      ]
     },
     "execution_count": 5,
     "metadata": {},
     "output_type": "execute_result"
    }
   ],
   "source": [
    "dist_epsilon = ot.Normal(0.0, 1.0)\n",
    "epsilon_sample = dist_epsilon.getSample(sample_size)\n",
    "observation_sample = output_sample + epsilon_sample\n",
    "observation_sample[:5]"
   ]
  },
  {
   "cell_type": "markdown",
   "id": "a361da29",
   "metadata": {},
   "source": [
    "## Solve the least squares problem\n",
    "\n",
    "In this section, we create and solve the linear least squares problem. We use the `LinearLeastSquares` class and validate that the distribution of the residuals is gaussian. This is, indeed, a fundamental hypothesis of the linear regression model. Although this a straightforward consequences of the particular example we consider here, this assumption is not necessarily satisfied in more general settings. "
   ]
  },
  {
   "cell_type": "code",
   "execution_count": 6,
   "id": "828bd8c5",
   "metadata": {},
   "outputs": [
    {
     "data": {
      "text/html": [
       "<p>class=LinearEvaluation name=Unnamed center=[0,0,0] constant=[1.33725] linear=[[  1.8452  ]<br>\n",
       " [ -2.61505 ]<br>\n",
       " [  4.07332 ]]</p>"
      ],
      "text/plain": [
       "class=Function name=Unnamed implementation=class=FunctionImplementation name=Unnamed description=[x0,x1,x2,y0] evaluationImplementation=class=LinearEvaluation name=Unnamed center=class=Point name=Unnamed dimension=3 values=[0,0,0] constant=class=Point name=Unnamed dimension=1 values=[1.33725] linear=class=Matrix implementation=class=MatrixImplementation name=Unnamed rows=3 columns=1 values=[1.8452,-2.61505,4.07332] gradientImplementation=class=ConstantGradient name=Unnamed constant=class=Matrix implementation=class=MatrixImplementation name=Unnamed rows=3 columns=1 values=[1.8452,-2.61505,4.07332] hessianImplementation=class=ConstantHessian name=Unnamed constant=class=SymmetricTensor implementation=class=TensorImplementation name=Unnamed rows=3 columns=3 sheets=1 values=[0,0,0,0,0,0,0,0,0]"
      ]
     },
     "execution_count": 6,
     "metadata": {},
     "output_type": "execute_result"
    }
   ],
   "source": [
    "myLeastSquares = ot.LinearLeastSquares(input_sample, observation_sample)\n",
    "myLeastSquares.run()\n",
    "responseSurface = myLeastSquares.getMetaModel()\n",
    "responseSurface"
   ]
  },
  {
   "cell_type": "markdown",
   "id": "951e5b5b",
   "metadata": {},
   "source": [
    "The `responseSurface` object is a function that we can use to predict the output using the linear regression model. We then compute the residual sample. "
   ]
  },
  {
   "cell_type": "code",
   "execution_count": 7,
   "id": "0193099a",
   "metadata": {},
   "outputs": [
    {
     "data": {
      "text/html": [
       "<table>\n",
       "  <tr><td></td><th>Residuals</th></tr>\n",
       "  <tr><th>0</th><td>-0.8071794</td></tr>\n",
       "  <tr><th>1</th><td>-0.9076376</td></tr>\n",
       "  <tr><th>2</th><td>-1.23538</td></tr>\n",
       "  <tr><th>3</th><td>0.8073781</td></tr>\n",
       "  <tr><th>4</th><td>1.163154</td></tr>\n",
       "</table>"
      ],
      "text/plain": [
       "class=Sample name=Unnamed implementation=class=SampleImplementation name=Unnamed size=5 dimension=1 description=[Residuals] data=[[-0.807179],[-0.907638],[-1.23538],[0.807378],[1.16315]]"
      ]
     },
     "execution_count": 7,
     "metadata": {},
     "output_type": "execute_result"
    }
   ],
   "source": [
    "predicted_outputs = responseSurface(input_sample)\n",
    "residuals_sample = observation_sample - predicted_outputs\n",
    "residuals_sample.setDescription([\"Residuals\"])\n",
    "residuals_sample[:5]"
   ]
  },
  {
   "cell_type": "markdown",
   "id": "47359119",
   "metadata": {},
   "source": [
    "In the next cell, we approximate the PDF of the sample and check that it is close to a gaussian distribution. To do this, we use a kernel smoothing method. "
   ]
  },
  {
   "cell_type": "code",
   "execution_count": 8,
   "id": "9e72c299",
   "metadata": {},
   "outputs": [
    {
     "data": {
      "image/png": "[encoded data removed]",
      "text/plain": [
       "<Figure size 400x300 with 1 Axes>"
      ]
     },
     "metadata": {},
     "output_type": "display_data"
    }
   ],
   "source": [
    "graph = ot.KernelSmoothing().build(residuals_sample).drawPDF()\n",
    "graph.setLegends([\"\"])\n",
    "view = otv.View(graph, figure_kw={\"figsize\": (4.0, 3.0)})"
   ]
  },
  {
   "cell_type": "markdown",
   "id": "789cb41c",
   "metadata": {},
   "source": [
    "We should perhaps compare that the distribution of the residuals is close to the gaussian distribution that is computed from the estimated standard deviation: this is done a little later in the script. "
   ]
  },
  {
   "cell_type": "markdown",
   "id": "7885fb5f",
   "metadata": {},
   "source": [
    "## Compute the distribution of the coefficients\n",
    "\n",
    "The basis corresponds to the linear model:\n",
    "$$\n",
    "Y = \\beta_0 \\phi_0(\\boldsymbol{x}) + \\beta_1 \\phi_1(\\boldsymbol{x}) + \\ldots + \\beta_p \\phi_p(\\boldsymbol{x})\n",
    "$$\n",
    "for any $\\boldsymbol{x} \\in \\mathbb{R}^p$ where \n",
    "$$\n",
    "\\phi_0(\\boldsymbol{x}) = 1\n",
    "$$\n",
    "and \n",
    "$$\n",
    "\\phi_i(\\boldsymbol{x}) = x_i\n",
    "$$\n",
    "for $i = 1, ..., p$."
   ]
  },
  {
   "cell_type": "code",
   "execution_count": 9,
   "id": "1946990f",
   "metadata": {},
   "outputs": [],
   "source": [
    "def define_linear_basis(dimension):\n",
    "    \"\"\"\n",
    "    Compute a basis suitable for linear regression.\n",
    "    \n",
    "    This basis corresponds to the linear regression model:\n",
    "    \n",
    "    Y = beta[0] + beta[1] * X_1 + ... + beta[p] * X_p\n",
    "   \n",
    "    where p is the dimension.\n",
    "    The first item of this basis corresponds to the intercept, i.e. \n",
    "    the function is constant and equal to 1.\n",
    "    The remaining items are identity function, returning the corresponding \n",
    "    input variable.\n",
    "    \n",
    "    Parameters\n",
    "    ----------\n",
    "    dimension : int\n",
    "        The number of dimensions of the input variable X.\n",
    "    \n",
    "    Returns\n",
    "    -------\n",
    "    basis : ot.Basis(1 + dimension)\n",
    "        The functional basis.\n",
    "    \"\"\"\n",
    "    list_of_inputs = [\"x%d\" % (i) for i in range(dimension)]\n",
    "    # The intercept\n",
    "    basis_list = []\n",
    "    constant_function = ot.SymbolicFunction(list_of_inputs, [\"1\"])\n",
    "    basis_list.append(constant_function)\n",
    "    # The remaining functions\n",
    "    for i in range(dimension):\n",
    "        identity_function = ot.SymbolicFunction(list_of_inputs, [\"x%d\" % (i)])\n",
    "        basis_list.append(identity_function)\n",
    "    basis = ot.Basis(basis_list)\n",
    "    return basis"
   ]
  },
  {
   "cell_type": "code",
   "execution_count": 10,
   "id": "f55b76bb",
   "metadata": {},
   "outputs": [
    {
     "name": "stdout",
     "output_type": "stream",
     "text": [
      "Basis( [[x0,x1,x2]->[1],[x0,x1,x2]->[x0],[x0,x1,x2]->[x1],[x0,x1,x2]->[x2]] )\n"
     ]
    }
   ],
   "source": [
    "dimension = distribution.getDimension()\n",
    "basis = define_linear_basis(dimension)\n",
    "print(basis)"
   ]
  },
  {
   "cell_type": "markdown",
   "id": "4eb18f33",
   "metadata": {},
   "source": [
    "The `DesignProxy` contains the algorithm to evaluate the design matrix $X$. "
   ]
  },
  {
   "cell_type": "code",
   "execution_count": 11,
   "id": "35c10c86",
   "metadata": {},
   "outputs": [
    {
     "name": "stdout",
     "output_type": "stream",
     "text": [
      "indices :  [0, 1, 2, 3]\n",
      "10x4\n",
      "[[  1          0.608202  -0.470526   0.322925  ]\n",
      " [  1         -1.26617    0.261018   0.445785  ]\n",
      " [  1         -0.438266  -2.29006   -1.03808   ]\n",
      " [  1          1.20548   -1.28289   -0.856712  ]\n",
      " [  1         -2.18139   -1.31178    0.473617  ]\n",
      " [  1          0.350042  -0.0907838 -0.125498  ]\n",
      " [  1         -0.355007   0.995793   0.351418  ]\n",
      " [  1          1.43725   -0.139453   1.78236   ]\n",
      " [  1          0.810668  -0.560206   0.0702074 ]\n",
      " [  1          0.793156   0.44549   -0.781366  ]]\n"
     ]
    }
   ],
   "source": [
    "design_proxy = ot.DesignProxy(input_sample , basis)\n",
    "indices = list(range(1 + dimension))\n",
    "print(\"indices : \", indices)\n",
    "design_matrix = design_proxy.computeDesign(indices)\n",
    "print(design_matrix)"
   ]
  },
  {
   "cell_type": "code",
   "execution_count": 12,
   "id": "fc2a33e9",
   "metadata": {},
   "outputs": [
    {
     "name": "stdout",
     "output_type": "stream",
     "text": [
      "hat(sigma)^2 = 0.9903\n"
     ]
    }
   ],
   "source": [
    "n_parameters = len(basis)\n",
    "residuals_point = residuals_sample.asPoint()\n",
    "sigma2_hat = residuals_point.normSquare() / (sample_size - n_parameters)\n",
    "print(\"hat(sigma)^2 = %.4f\" % (sigma2_hat))"
   ]
  },
  {
   "cell_type": "code",
   "execution_count": 13,
   "id": "d6696ae9",
   "metadata": {},
   "outputs": [
    {
     "data": {
      "image/png": "[encoded data removed]",
      "text/plain": [
       "<Figure size 400x300 with 1 Axes>"
      ]
     },
     "metadata": {},
     "output_type": "display_data"
    }
   ],
   "source": [
    "noise_estimated = ot.Normal(0.0, sigma2_hat)\n",
    "\n",
    "graph = ot.KernelSmoothing().build(residuals_sample).drawPDF()\n",
    "graph.setLegends([\"KDE\"])\n",
    "curve = noise_estimated.drawPDF()\n",
    "curve.setLegends([\"Gaussian\"])\n",
    "graph.add(curve)\n",
    "number_of_graphs = len(graph.getDrawables())\n",
    "graph.setColors(ot.Drawable().BuildDefaultPalette(number_of_graphs))\n",
    "graph.setLegendPosition(\"topright\")\n",
    "view = otv.View(graph, figure_kw={\"figsize\": (4.0, 3.0)})"
   ]
  },
  {
   "cell_type": "markdown",
   "id": "74f8d53b",
   "metadata": {},
   "source": [
    "Since the distribution of the residuals is close to a gaussian distribution, the least squares method is appropriate."
   ]
  },
  {
   "cell_type": "code",
   "execution_count": 14,
   "id": "2cd3a0be",
   "metadata": {},
   "outputs": [
    {
     "name": "stdout",
     "output_type": "stream",
     "text": [
      "class=QRMethod\n"
     ]
    }
   ],
   "source": [
    "lsq_method = ot.QRMethod(design_proxy , indices)\n",
    "print(lsq_method)"
   ]
  },
  {
   "cell_type": "markdown",
   "id": "f34a8df1",
   "metadata": {},
   "source": [
    "The following cell computes the solution $\\hat{\\boldsymbol{\\beta}}$ of the linear least squares problem. It uses the `solve` method of the problem."
   ]
  },
  {
   "cell_type": "code",
   "execution_count": 15,
   "id": "4472ba13",
   "metadata": {},
   "outputs": [
    {
     "name": "stdout",
     "output_type": "stream",
     "text": [
      "[1.33725,1.8452,-2.61505,4.07332]\n"
     ]
    }
   ],
   "source": [
    "observation_point = observation_sample.asPoint()\n",
    "beta_hat = lsq_method.solve(observation_point)\n",
    "print(beta_hat)"
   ]
  },
  {
   "cell_type": "markdown",
   "id": "c2b35ae7",
   "metadata": {},
   "source": [
    "In order to compute the covariance matrix of $\\hat{\\boldsymbol{\\beta}}$, we use the `getGramInverse` method. "
   ]
  },
  {
   "cell_type": "code",
   "execution_count": 16,
   "id": "58b4432d",
   "metadata": {},
   "outputs": [
    {
     "name": "stdout",
     "output_type": "stream",
     "text": [
      "[[  0.134106  -0.0171761  0.069096  -0.0422373 ]\n",
      " [ -0.0171761  0.0857609 -0.0184144  0.0112744 ]\n",
      " [  0.069096  -0.0184144  0.14205   -0.0651911 ]\n",
      " [ -0.0422373  0.0112744 -0.0651911  0.188993  ]]\n"
     ]
    }
   ],
   "source": [
    "inverse_gram = lsq_method.getGramInverse()\n",
    "covariance_matrix = ot.CovarianceMatrix(sigma2_hat * inverse_gram)\n",
    "print(covariance_matrix)"
   ]
  },
  {
   "cell_type": "markdown",
   "id": "556a20c8",
   "metadata": {},
   "source": [
    "We then use the `Normal` class to create the distribution of the random vector $\\hat{\\boldsymbol{\\beta}}$. "
   ]
  },
  {
   "cell_type": "code",
   "execution_count": 17,
   "id": "37e88cf4",
   "metadata": {},
   "outputs": [
    {
     "name": "stdout",
     "output_type": "stream",
     "text": [
      "Normal(mu = [1.33725,1.8452,-2.61505,4.07332], sigma = [0.366205,0.29285,0.376895,0.434733], R = [[  1         -0.160161   0.500621  -0.265308  ]\n",
      " [ -0.160161   1         -0.166837   0.0885574 ]\n",
      " [  0.500621  -0.166837   1         -0.397874  ]\n",
      " [ -0.265308   0.0885574 -0.397874   1         ]])\n"
     ]
    }
   ],
   "source": [
    "distribution_betahat = ot.Normal(beta_hat , covariance_matrix)\n",
    "description = [r\"$\\beta_%d$\" % (i) for i in range(n_parameters)]\n",
    "distribution_betahat.setDescription(description)\n",
    "print(distribution_betahat)"
   ]
  },
  {
   "cell_type": "markdown",
   "id": "a3e1b846",
   "metadata": {},
   "source": [
    "Visualising a multivariate gaussian random vector is not that easy. In order to simplify the task, the following code plots the various marginals of the distribution of the random vector $\\hat{\\boldsymbol{\\beta}}$.  "
   ]
  },
  {
   "cell_type": "code",
   "execution_count": 18,
   "id": "2ffbf7de",
   "metadata": {},
   "outputs": [
    {
     "data": {
      "image/png": "[encoded data removed]",
      "text/plain": [
       "<Figure size 1000x200 with 4 Axes>"
      ]
     },
     "metadata": {},
     "output_type": "display_data"
    }
   ],
   "source": [
    "beta_exact = ot.Point([1.0, 2.0, -3.0, 4.0])\n",
    "\n",
    "grid = ot.GridLayout(1, n_parameters)\n",
    "for i in range(n_parameters):\n",
    "    beta_i_distribution = distribution_betahat.getMarginal(i)\n",
    "    graph = beta_i_distribution.drawPDF()\n",
    "    graph.setLegends([\"\"])\n",
    "    cloud = ot.Cloud([[beta_exact[i]]], [[0.0]])\n",
    "    cloud.setPointStyle(\"bullet\")\n",
    "    graph.add(cloud)\n",
    "    number_of_graphs = len(graph.getDrawables())\n",
    "    graph.setColors(ot.Drawable().BuildDefaultPalette(number_of_graphs))\n",
    "    if i > 0:\n",
    "        graph.setYTitle(\"\")\n",
    "    grid.setGraph(0, i, graph)\n",
    "view = otv.View(grid, figure_kw={\"figsize\": (10.0, 2.0)})\n",
    "pl.subplots_adjust(wspace=0.5)"
   ]
  },
  {
   "cell_type": "markdown",
   "id": "3d4e540b",
   "metadata": {},
   "source": [
    "The exact value of each parameter is indicated by a point on the X axis. We can check that the gaussian distribution is correctly spread around the exact value."
   ]
  },
  {
   "cell_type": "markdown",
   "id": "9d596e20",
   "metadata": {},
   "source": [
    "## Considering another basis\n",
    "\n",
    "One of the goals of the `DesignProxy` proxy class is to be able to consider a basis of functions and subsets of this basis. In this section, we explore both topics."
   ]
  },
  {
   "cell_type": "markdown",
   "id": "6382cd2e",
   "metadata": {},
   "source": [
    "Let $P$ be an integer representing the number of basis functions. Consider for example the basis of multivariate Hermite polynomials:\n",
    "$$\n",
    "Y = \\sum_{i = 0}^P \\beta_i \\psi_i(\\boldsymbol{x})\n",
    "$$\n",
    "for any $\\boldsymbol{x} \\in \\mathbb{R}^p$ where \n",
    "the functions $\\left\\{\\psi_i\\right\\}_{i\\geq 0}$ are created by tensorisation of the probabilistic Hermite orthonormal polynomials. \n",
    "\n",
    "The first 5 polynomials are:\n",
    "$$\n",
    "\\psi_0(\\boldsymbol{x}) = 1\n",
    "$$\n",
    "\n",
    "$$\n",
    "\\psi_1(\\boldsymbol{x}) = \\widetilde{He}_1(x_1), \\quad \n",
    "\\psi_2(\\boldsymbol{x}) = \\widetilde{He}_1(x_2), \\quad \n",
    "\\psi_3(\\boldsymbol{x}) = \\widetilde{He}_1(x_3), \\quad \n",
    "\\psi_4(\\boldsymbol{x}) = \\widetilde{He}_1(x_4).\n",
    "$$\n",
    "\n",
    "\n",
    "This is straightforward, since the input random vector $\\boldsymbol{x}$ has a standard normal distribution. If this vector had a non standard gaussian distribution, then we would have to first standardize the input sample.\n",
    "\n",
    "We can create the multivariate basis using the `OrthogonalProductPolynomialFactory` class. This class creates multivariate polynomials that can be created using the `build` method."
   ]
  },
  {
   "cell_type": "code",
   "execution_count": 19,
   "id": "705af8d7",
   "metadata": {},
   "outputs": [
    {
     "name": "stdout",
     "output_type": "stream",
     "text": [
      "Basis( [1,x0,x1,x2,-0.707107 + 0.707107 * x0^2,(x0) * (x1),(x0) * (x2)] )\n"
     ]
    }
   ],
   "source": [
    "multivariateBasis = ot.OrthogonalProductPolynomialFactory(\n",
    "    [dist_x1, dist_x2, dist_x3])\n",
    "\n",
    "number_of_basis_functions = 7  # Tune this parameter to match your requirements\n",
    "\n",
    "basis_list = []\n",
    "list_of_inputs = [\"x0\", \"x1\", \"x2\"]\n",
    "for i in range(number_of_basis_functions):\n",
    "    basis_function = multivariateBasis.build(i)\n",
    "    basis_list.append(basis_function)\n",
    "basis = ot.Basis(basis_list)\n",
    "print(basis)"
   ]
  },
  {
   "cell_type": "markdown",
   "id": "e3a1fbd9",
   "metadata": {},
   "source": [
    "The `DesignProxy` contains the algorithm to evaluate the design matrix $X$. "
   ]
  },
  {
   "cell_type": "code",
   "execution_count": 20,
   "id": "93eaf84c",
   "metadata": {},
   "outputs": [
    {
     "name": "stdout",
     "output_type": "stream",
     "text": [
      "indices :  [0, 1, 2, 3, 4, 5, 6]\n"
     ]
    }
   ],
   "source": [
    "design_proxy = ot.DesignProxy(input_sample , basis)\n",
    "indices = list(range(number_of_basis_functions))\n",
    "print(\"indices : \", indices)\n",
    "design_matrix = design_proxy.computeDesign(indices)"
   ]
  },
  {
   "cell_type": "code",
   "execution_count": 21,
   "id": "e2b168ba",
   "metadata": {},
   "outputs": [
    {
     "name": "stdout",
     "output_type": "stream",
     "text": [
      "[1.1133,2.58608,-2.69806,4.71003,0.167543,0.372584,-0.896732]\n"
     ]
    }
   ],
   "source": [
    "lsq_method = ot.QRMethod(design_proxy , indices)\n",
    "beta_hat = lsq_method.solve(observation_point)\n",
    "print(beta_hat)"
   ]
  },
  {
   "cell_type": "markdown",
   "id": "653a456b",
   "metadata": {},
   "source": [
    "The `indices` input argument allows to select a subset of the functional basis. This can be used to use a model selection method (such as the Least Angle Regression Stepwise or LASSO methods), and still use the object to estimate the coefficients corresponding to the selected functions.\n",
    "\n",
    "Assume for example that we want to estimate the model corresponding to the indices $(0, 3, 5)$. This is the model:\n",
    "$$\n",
    "Y = \\beta_0 \\psi_0(\\boldsymbol{x}) + \\beta_3 \\psi_3(\\boldsymbol{x})+ \\beta_5 \\psi_5(\\boldsymbol{x})\n",
    "$$\n",
    "for any $\\boldsymbol{x} \\in \\mathbb{R}^p$. These indices corresponds to the indices of the multivariate polynomials according to the enumeration rule in the `build` method. The indices must match to the corresponding columns of the `design_proxy` that is, to the columns of the design matrix $X$.  "
   ]
  },
  {
   "cell_type": "code",
   "execution_count": 22,
   "id": "367c9457",
   "metadata": {},
   "outputs": [
    {
     "name": "stdout",
     "output_type": "stream",
     "text": [
      "[2.72471,2.34558,1.20904,-1.03686]\n"
     ]
    }
   ],
   "source": [
    "indices = [0, 3, 4, 5]\n",
    "lsq_method = ot.QRMethod(design_proxy , indices)\n",
    "beta_hat = lsq_method.solve(observation_point)\n",
    "print(beta_hat)"
   ]
  },
  {
   "cell_type": "markdown",
   "id": "c29de07e",
   "metadata": {},
   "source": [
    "There are 4 coefficients, which correspond to the number of selected indices."
   ]
  },
  {
   "cell_type": "code",
   "execution_count": null,
   "id": "b4a5ebb8",
   "metadata": {},
   "outputs": [],
   "source": []
  }
 ],
 "metadata": {
  "kernelspec": {
   "display_name": "Python 3 (ipykernel)",
   "language": "python",
   "name": "python3"
  },
  "language_info": {
   "codemirror_mode": {
    "name": "ipython",
    "version": 3
   },
   "file_extension": ".py",
   "mimetype": "text/x-python",
   "name": "python",
   "nbconvert_exporter": "python",
   "pygments_lexer": "ipython3",
   "version": "3.11.0"
  }
 },
 "nbformat": 4,
 "nbformat_minor": 5
}
