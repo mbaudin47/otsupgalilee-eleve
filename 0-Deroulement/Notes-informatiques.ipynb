{
 "cells": [
  {
   "cell_type": "markdown",
   "metadata": {},
   "source": [
    "# Notes informatiques\n",
    "\n",
    "## Démarrer jupyter notebook\n",
    "\n",
    "Pour démarrer jupyter :\n",
    "\n",
    "```\n",
    "/LOCAL/anaconda3-2017/bin/jupyter notebook\n",
    "```\n",
    "\n",
    "Puis coller l’URL dans le navigateur, par exemple :\n",
    "\n",
    "http://localhost:8888/?token=1b9126b2e45a2747674264ced1e9094b207daa148d792f02\n",
    "\n",
    "Exemple :\n",
    "\n",
    "\n",
    "    wims-tmp-2019-40@g209-2:~$ /LOCAL/anaconda3-2017/bin/jupyter notebook\n",
    "    [I 13:33:20.127 NotebookApp] Writing notebook server cookie secret to /run/user/1763821/jupyter/notebook_cookie_secret\n",
    "    [I 13:33:21.091 NotebookApp] Serving notebooks from local directory: /export/home/users/wims/TMP/wims-tmp-2019-40\n",
    "    [I 13:33:21.091 NotebookApp] 0 active kernels\n",
    "    [I 13:33:21.091 NotebookApp] The Jupyter Notebook is running at: http://localhost:8888/?token=6c93b732ebb3f85066491993f3df1f2b2a47d7a76e339b2e\n",
    "    [I 13:33:21.091 NotebookApp] Use Control-C to stop this server and shut down all kernels (twice to skip confirmation).\n",
    "    [C 13:33:21.094 NotebookApp]\n",
    "        Copy/paste this URL into your browser when you connect for the first time,\n",
    "        to login with a token:\n",
    "            http://localhost:8888/?token=6c93b732ebb3f85066491993f3df1f2b2a47d7a76e339b2e\n",
    "    [I 13:33:21.424 NotebookApp] Accepting one-time-token-authenticated connection from ::1\n",
    "\n",
    "Choisir l’interpréteur Python 2 :\n",
    "\n",
    "    Kernel > Change kernel > Python 2"
   ]
  },
  {
   "cell_type": "markdown",
   "metadata": {},
   "source": [
    "## Télécharger les fichiers\n",
    "\n",
    "Les scripts pour les séances de TP sont disponibles sur github :\n",
    "\n",
    "    git clone https://github.com/mbaudin47/otsupgalilee-eleve.git\n",
    "\n",
    "Exemple :\n",
    "\n",
    "    wims-tmp-2019-40@g209-5:~/tmp$ git clone https://github.com/mbaudin47/otsupgalilee-eleve.git\n",
    "    Clonage dans 'otsupgalilee-eleve'...\n",
    "    remote: Enumerating objects: 197, done.\n",
    "    remote: Counting objects: 100% (197/197), done.\n",
    "    remote: Compressing objects: 100% (146/146), done.\n",
    "    remote: Total 197 (delta 111), reused 134 (delta 51), pack-reused 0\n",
    "    Réception d'objets: 100% (197/197), 2.52 MiB | 0 bytes/s, fait.\n",
    "    Résolution des deltas: 100% (111/111), fait."
   ]
  },
  {
   "cell_type": "markdown",
   "metadata": {},
   "source": [
    "## Démarrer SALOME\n",
    "\n",
    "    /LOCAL/salome-edf"
   ]
  }
 ],
 "metadata": {
  "kernelspec": {
   "display_name": "Python 3 (ipykernel)",
   "language": "python",
   "name": "python3"
  },
  "language_info": {
   "codemirror_mode": {
    "name": "ipython",
    "version": 3
   },
   "file_extension": ".py",
   "mimetype": "text/x-python",
   "name": "python",
   "nbconvert_exporter": "python",
   "pygments_lexer": "ipython3",
   "version": "3.9.0"
  }
 },
 "nbformat": 4,
 "nbformat_minor": 2
}
