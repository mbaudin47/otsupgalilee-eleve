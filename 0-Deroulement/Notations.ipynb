{
 "cells": [
  {
   "cell_type": "markdown",
   "metadata": {},
   "source": [
    "# Notations\n",
    "\n",
    "## Introduction\n",
    "\n",
    "L'objectif de ce document est de formaliser un ensemble de notations cohérentes pour l'ensemble du cours.\n",
    "\n",
    "## Vecteur aléatoire en entrée, densité de probabilité du vecteur d'entrée, variable de sortie\n",
    "\n",
    "Soit $p\\in\\mathbb{N}$ le nombre de composantes du vecteur d'entrée.\n",
    "Soit $X = (X_1,..., X_p)\\in\\mathbb{R}^p$ le vecteur aléatoire d’entrée. \n",
    "\n",
    "On note $i\\in\\{1,...,p\\}$ l'indice d'une composante du vecteur d'entrée $X$. Pour tout $i=1,...,p$, on a donc $X_i\\in\\mathbb{R}$.\n",
    "\n",
    "On note $f$ la densité de probabilité de la variable $X$. \n",
    "\n",
    "Soit $g$ une fonction de $\\mathbb{R}^p$ vers $\\mathbb{R}$. On considère la variable aléatoire :\n",
    "$$\n",
    "Y = g(X).\n",
    "$$\n",
    "\n",
    "Nous allons estimer l'espérance de $Y$ :\n",
    "$$\n",
    "E(Y) = \\int_{\\mathbb{R}^p} g(x) f(x) dx.\n",
    "$$\n",
    "De plus, nous allons estimer la variance de $Y$ :\n",
    "$$\n",
    "V(Y) = E\\left[(Y-E(Y))^2\\right].\n",
    "$$"
   ]
  },
  {
   "cell_type": "markdown",
   "metadata": {},
   "source": [
    "## Echantillon Monte-Carlo simple\n",
    "\n",
    "Soit $n\\in\\mathbb{N}$ un entier représentant la taille de l'échantillon. \n",
    "\n",
    "Soit $\\left\\{x^{(j)}\\right\\}_{j=1,...,n}$ un échantillon i.i.d. du vecteur aléatoire $X$. \n",
    "Par conséquent, la réalisation $x_i^{(j)}$ est la i-ème composante de la j-ème réalisation, pour $i=1,...,p$ et $j=1,...,n$. Le plan d'expériences $A$ associé est donc :\n",
    "$$\n",
    "A = \n",
    "\\begin{pmatrix}\n",
    "x_1^{(1)} & x_2^{(1)} & \\cdots & x_p^{(1)} \\\\\n",
    "x_1^{(2)} & x_2^{(2)} & \\cdots & x_p^{(2)} \\\\\n",
    "\\vdots & \\vdots & & \\vdots \\\\\n",
    "x_1^{(n)} & x_2^{(n)} & \\cdots & x_p^{(n)}\n",
    "\\end{pmatrix}\n",
    "$$\n",
    "où chaque ligne représente une réalisation du vecteur aléatoire $X$ et chaque colonne représente une composante.\n",
    "\n",
    "Soit \n",
    "$$\n",
    "y^{(j)} = g\\left(x^{(j)}\\right)\n",
    "$$\n",
    "pour $j=1,...,n$. \n",
    "L'estimateur Monte-Carlo de la moyenne empirique est :\n",
    "$$\n",
    "\\bar{y} = \\frac{1}{n} \\sum_{j=1}^n y^{(j)}.\n",
    "$$"
   ]
  },
  {
   "cell_type": "markdown",
   "metadata": {},
   "source": [
    "## Réplications\n",
    "\n",
    "Pour observer la variabilité d'un estimateur, on considère parfois des réplications d'une simulation de Monte-Carlo. Dans ce cas, le nombre de réplication est noté $r\\in\\mathbb{N}$ et chaque réplication porte l'indice $k=1,...,r$."
   ]
  },
  {
   "cell_type": "code",
   "execution_count": 1,
   "metadata": {},
   "outputs": [],
   "source": [
    "# Fake code to foul jupyter"
   ]
  },
  {
   "cell_type": "code",
   "execution_count": null,
   "metadata": {},
   "outputs": [],
   "source": []
  }
 ],
 "metadata": {
  "kernelspec": {
   "display_name": "Python 3 (ipykernel)",
   "language": "python",
   "name": "python3"
  },
  "language_info": {
   "codemirror_mode": {
    "name": "ipython",
    "version": 3
   },
   "file_extension": ".py",
   "mimetype": "text/x-python",
   "name": "python",
   "nbconvert_exporter": "python",
   "pygments_lexer": "ipython3",
   "version": "3.9.0"
  }
 },
 "nbformat": 4,
 "nbformat_minor": 2
}
