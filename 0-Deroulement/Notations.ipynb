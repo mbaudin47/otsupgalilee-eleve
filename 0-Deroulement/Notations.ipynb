{
 "cells": [
  {
   "cell_type": "markdown",
   "metadata": {},
   "source": [
    "# Notations\n",
    "\n",
    "## Introduction\n",
    "\n",
    "L'objectif de ce document est de formaliser un ensemble de notations cohérentes pour l'ensemble du cours.\n",
    "\n",
    "## Vecteur aléatoire en entrée\n",
    "\n",
    "Soit $p \\in \\mathbb{N}$ le nombre de composantes du vecteur d'entrée.\n",
    "\n",
    "Soit $\\mathcal{X} \\subset \\mathbb{R}^p$ le support de $\\boldsymbol{X}$.\n",
    "\n",
    "Soit $\\boldsymbol{X} = (X_1,..., X_p)^T \\in \\mathcal{X}$ le vecteur aléatoire d’entrée. \n",
    "\n",
    "On note $i\\in\\{1,...,p\\}$ l'indice d'une composante du vecteur d'entrée $\\boldsymbol{X}$. Pour tout $i=1,...,p$, on a donc $X_i\\in\\mathbb{R}$.\n",
    "\n",
    "## Densité de probabilité du vecteur d'entrée\n",
    "\n",
    "On note $f$ la densité de probabilité du vecteur aléatoire $\\boldsymbol{X}$. Dans le contexte de l'inférence (c'est à dire de l'étape B), lorsqu'on considère un modèle probabiliste paramétrique, on peut chercher à estimer les paramètres du modèle s'ajustant au mieux à un échantillon donné de $\\boldsymbol{X}$.\n",
    "\n",
    "Soit $m \\in \\mathbb{N}$ le nombre de paramètres de la densité de probabilité $f$. Soit $\\Theta \\subset \\mathbb{R}^m$ le sous-ensemble des paramètres. Alors $f(\\boldsymbol{X}, \\boldsymbol{\\theta})$ est la densité de probabilité dont le vecteur de paramètres est $\\boldsymbol{\\theta} \\in \\Theta$."
   ]
  },
  {
   "cell_type": "markdown",
   "metadata": {},
   "source": [
    "## Variable aléatoire en sortie\n",
    "\n",
    "On note $i\\in\\{1,...,p\\}$ l'indice d'une composante du vecteur d'entrée $\\boldsymbol{X}$. Pour tout $i=1,...,p$, on a donc $X_i\\in\\mathbb{R}$.\n",
    "\n",
    "On note $f$ la densité de probabilité du vecteur aléatoire $\\boldsymbol{X}$. \n",
    "\n",
    "Soit $g : \\mathcal{X} \\rightarrow \\mathbb{R}$ une fonction. On considère la variable aléatoire :\n",
    "$$\n",
    "Y = g(\\boldsymbol{X}).\n",
    "$$\n",
    "\n",
    "Nous allons estimer l'espérance de $Y$ :\n",
    "$$\n",
    "\\mathbb{E}(Y) = \\int_{\\mathcal{X}} g(\\boldsymbol{X}) f(\\boldsymbol{X}) d\\boldsymbol{X}.\n",
    "$$\n",
    "De plus, nous allons estimer la variance de $Y$ :\n",
    "$$\n",
    "\\mathbb{V}(Y) = \\mathbb{E}\\left[(Y - \\mathbb{E}(Y))^2\\right].\n",
    "$$\n",
    "Pour un seuil $s \\in \\mathbb{R}$ fixé, on peut souhaiter la probabilité de dépasser \n",
    "le seuil $s$ :\n",
    "$$\n",
    "\\mathbb{P}(Y > s) \n",
    "= \\int_{\\mathcal{X}} g(\\mathbf{x}) f(\\mathbf{x}) d\\mathbf{x}\n",
    "$$\n",
    "où $\\mathbf{1}_{g(\\mathbf{x}) > s}$ est la fonction indicatrice définie par :\n",
    "$$\n",
    "\\begin{align*}\n",
    "\\mathbf{1}_{g(\\mathbf{x}) > s}(\\mathbf{x})\n",
    "= \\left\\{\n",
    "\\begin{array}{l}\n",
    "1, \\textrm{ si } g(\\mathbf{x}) > s, \\\\\n",
    "0, \\textrm{ sinon}.\n",
    "\\end{array}\n",
    "\\right.\n",
    "\\end{align*}\n",
    "$$"
   ]
  },
  {
   "cell_type": "markdown",
   "metadata": {},
   "source": [
    "## Echantillon Monte-Carlo simple\n",
    "\n",
    "Soit $n\\in\\mathbb{N}$ un entier représentant la taille de l'échantillon. \n",
    "\n",
    "Soit $\\left\\{\\boldsymbol{X}^{(j)}\\right\\}_{j=1,...,n}$ un échantillon i.i.d. du vecteur aléatoire $\\boldsymbol{X}$. \n",
    "Par conséquent, la réalisation $x_i^{(j)}$ est la i-ème composante de la j-ème réalisation, pour $i=1,...,p$ et $j=1,...,n$. Le plan d'expériences $A$ associé est donc :\n",
    "$$\n",
    "A = \n",
    "\\begin{pmatrix}\n",
    "x_1^{(1)} & x_2^{(1)} & \\cdots & x_p^{(1)} \\\\\n",
    "x_1^{(2)} & x_2^{(2)} & \\cdots & x_p^{(2)} \\\\\n",
    "\\vdots & \\vdots & & \\vdots \\\\\n",
    "x_1^{(n)} & x_2^{(n)} & \\cdots & x_p^{(n)}\n",
    "\\end{pmatrix}\n",
    "$$\n",
    "où chaque ligne représente une réalisation du vecteur aléatoire $\\boldsymbol{X}$ et chaque colonne représente une composante.\n",
    "\n",
    "Soit \n",
    "$$\n",
    "y^{(j)} = g\\left(\\boldsymbol{x}^{(j)}\\right)\n",
    "$$\n",
    "pour $j=1,...,n$. \n",
    "L'estimateur Monte-Carlo de la moyenne empirique est :\n",
    "$$\n",
    "\\bar{y} = \\frac{1}{n} \\sum_{j=1}^n y^{(j)}.\n",
    "$$"
   ]
  },
  {
   "cell_type": "markdown",
   "metadata": {},
   "source": [
    "## Modèle paramétrique\n",
    "\n",
    "Dans certains cas, on suppose que la fonction $g$ est un modèle paramétrique dont on cherche à déterminer les paramètres. Il peut s'agir d'un contexte de calage de modèle (dans l'étape B') ou d'estimation des hyper-paramètres d'un méta-modèle (dans l'étape C).\n",
    "\n",
    "Soit $q \\in \\mathbb{N}$ le nombre de paramètres de la foncion $g$. Soit $\\mathcal{B} \\subset \\mathbb{R}^q$ le sous-ensemble des paramètres. Pour tout $\\boldsymbol{\\beta} \\in \\mathcal{B}$, on considère la fonction $y = g(\\boldsymbol{X}, \\boldsymbol{\\beta})$. "
   ]
  },
  {
   "cell_type": "markdown",
   "metadata": {},
   "source": [
    "## Réplications\n",
    "\n",
    "Pour observer la variabilité d'un estimateur, on considère parfois des réplications d'une simulation de Monte-Carlo. Dans ce cas, le nombre de réplications est noté $r\\in\\mathbb{N}$ et chaque réplication porte l'indice $k=1,...,r$."
   ]
  },
  {
   "cell_type": "code",
   "execution_count": 1,
   "metadata": {},
   "outputs": [],
   "source": [
    "# Fake code to foul jupyter"
   ]
  }
 ],
 "metadata": {
  "kernelspec": {
   "display_name": "Python 3 (ipykernel)",
   "language": "python",
   "name": "python3"
  },
  "language_info": {
   "codemirror_mode": {
    "name": "ipython",
    "version": 3
   },
   "file_extension": ".py",
   "mimetype": "text/x-python",
   "name": "python",
   "nbconvert_exporter": "python",
   "pygments_lexer": "ipython3",
   "version": "3.9.7"
  }
 },
 "nbformat": 4,
 "nbformat_minor": 2
}
