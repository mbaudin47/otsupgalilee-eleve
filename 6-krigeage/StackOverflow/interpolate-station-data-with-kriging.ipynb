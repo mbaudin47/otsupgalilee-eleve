{
 "cells": [
  {
   "cell_type": "markdown",
   "metadata": {},
   "source": [
    "# How can I interpolate station data with Kriging in Python?\n",
    "\n",
    "Reference : https://stackoverflow.com/questions/45175201/how-can-i-interpolate-station-data-with-kriging-in-python\n",
    "\n",
    "Browsing the web I've found that some tools to use Kriging in Python are pyKriging and Gaussian Process Regression. However, I couldn't make any of them to work."
   ]
  },
  {
   "cell_type": "markdown",
   "metadata": {},
   "source": [
    "With OpenTURNS, the KrigingAlgorithm estimates the hyperparameters of a conditioned gaussian process. The purpose of the metamodel that you need is to have the (longitude,latitude) 2D point as input and the precipitation at a given date as output.\n",
    "\n",
    "The first step is to prepare the data. In the following script, I create the coordinates_train variable which contains the longitude/latitude pairs and the precipitation_train variable which contains the precipitations. I used the precipitations at date 2000/1/2, because the data is missing for 2000/1/1 at station 3."
   ]
  },
  {
   "cell_type": "code",
   "execution_count": 1,
   "metadata": {},
   "outputs": [],
   "source": [
    "import openturns as ot\n",
    "# Input points\n",
    "coordinates_train = ot.Sample([[15.68,62.64],[15.73,62.12],[16.10,61.14]])\n",
    "# Output points\n",
    "precipitation_train = ot.Sample([[3.4],[2.5],[4.5]]) # At 2000/1/2"
   ]
  },
  {
   "cell_type": "markdown",
   "metadata": {},
   "source": [
    "Then we can train the kriging. To do this I use a constant basis (the trend of the model) and an exponential covariance model. This should be appropriate, given that the precipitation must be quite regular with respect to the location of the station."
   ]
  },
  {
   "cell_type": "code",
   "execution_count": 2,
   "metadata": {},
   "outputs": [],
   "source": [
    "# Fit\n",
    "inputDimension = 2\n",
    "basis = ot.ConstantBasisFactory(inputDimension).build()\n",
    "covarianceModel = ot.SquaredExponential([1.]*inputDimension, [1.0])\n",
    "algo = ot.KrigingAlgorithm(coordinates_train, precipitation_train, \\\n",
    "                           covarianceModel, basis)\n",
    "algo.run()\n",
    "result = algo.getResult()\n",
    "krigingMetamodel = result.getMetaModel()"
   ]
  },
  {
   "cell_type": "markdown",
   "metadata": {},
   "source": [
    "Then we can use the metamodel to predict the precipitation at a location where it was not recorded. Since krigingMetamodel is a function, I just use the \"()\" operator."
   ]
  },
  {
   "cell_type": "code",
   "execution_count": 3,
   "metadata": {},
   "outputs": [],
   "source": [
    "# Predict\n",
    "coordinates = [15.70,62.53] # A new latitude/longitude pair\n",
    "precipitation = krigingMetamodel(coordinates)"
   ]
  },
  {
   "cell_type": "markdown",
   "metadata": {},
   "source": [
    "Then precipitation is a 1D point containing the precipitation at the given location. This is the predicted precipitation."
   ]
  },
  {
   "cell_type": "code",
   "execution_count": 4,
   "metadata": {},
   "outputs": [
    {
     "data": {
      "text/html": [
       "<p>[3.46667]</p>"
      ],
      "text/plain": [
       "class=Point name=Unnamed dimension=1 values=[3.46667]"
      ]
     },
     "execution_count": 4,
     "metadata": {},
     "output_type": "execute_result"
    }
   ],
   "source": [
    "precipitation"
   ]
  },
  {
   "cell_type": "markdown",
   "metadata": {},
   "source": [
    "You might as well get a more general kriging by having the (longitude,latitude,time) as input. In this case, all you have to do is to add a new dimension to the input training sample, containing the associated times, formatted as real values."
   ]
  }
 ],
 "metadata": {
  "kernelspec": {
   "display_name": "Python 3",
   "language": "python",
   "name": "python3"
  },
  "language_info": {
   "codemirror_mode": {
    "name": "ipython",
    "version": 3
   },
   "file_extension": ".py",
   "mimetype": "text/x-python",
   "name": "python",
   "nbconvert_exporter": "python",
   "pygments_lexer": "ipython3",
   "version": "3.7.4"
  }
 },
 "nbformat": 4,
 "nbformat_minor": 2
}
