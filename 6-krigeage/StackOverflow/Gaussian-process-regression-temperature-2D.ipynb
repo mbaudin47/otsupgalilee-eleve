{
 "cells": [
  {
   "cell_type": "markdown",
   "metadata": {},
   "source": [
    "# Gaussian process regression (Kriging) vs Radial Basis Function interpolation\n",
    "\n",
    "Reference : https://stackoverflow.com/questions/58895480/gaussian-process-regression-kriging-vs-radial-basis-function-interpolation\n",
    "\n",
    "Goal : interpolation of temperature data between sensors over a floorplan."
   ]
  },
  {
   "cell_type": "code",
   "execution_count": 1,
   "metadata": {},
   "outputs": [],
   "source": [
    "import numpy as np\n",
    "import openturns as ot\n",
    "import pylab as pl"
   ]
  },
  {
   "cell_type": "code",
   "execution_count": 2,
   "metadata": {},
   "outputs": [],
   "source": [
    "coordinates = ot.Sample(\n",
    "    [\n",
    "        [100.0, 100.0],\n",
    "        [500.0, 100.0],\n",
    "        [900.0, 100.0],\n",
    "        [100.0, 350.0],\n",
    "        [500.0, 350.0],\n",
    "        [900.0, 350.0],\n",
    "        [100.0, 600.0],\n",
    "        [500.0, 600.0],\n",
    "        [900.0, 600.0],\n",
    "    ]\n",
    ")\n",
    "observations = ot.Sample(\n",
    "    [[x] for x in [25.0, 25.0, 10.0, 20.0, 25.0, 20.0, 15.0, 25.0, 25.0]]\n",
    ")"
   ]
  },
  {
   "cell_type": "code",
   "execution_count": 3,
   "metadata": {},
   "outputs": [],
   "source": [
    "# Extract coordinates\n",
    "x = np.array(coordinates[:, 0])\n",
    "y = np.array(coordinates[:, 1])"
   ]
  },
  {
   "cell_type": "code",
   "execution_count": 4,
   "metadata": {},
   "outputs": [],
   "source": [
    "%matplotlib inline"
   ]
  },
  {
   "cell_type": "code",
   "execution_count": 5,
   "metadata": {},
   "outputs": [
    {
     "data": {
      "text/plain": [
       "<matplotlib.colorbar.Colorbar at 0x7f16ef189c10>"
      ]
     },
     "execution_count": 5,
     "metadata": {},
     "output_type": "execute_result"
    },
    {
     "data": {
      "image/png": "[encoded data removed]",
      "text/plain": [
       "<Figure size 432x288 with 2 Axes>"
      ]
     },
     "metadata": {
      "needs_background": "light"
     },
     "output_type": "display_data"
    }
   ],
   "source": [
    "# Plot the data with a scatter plot and a color map\n",
    "\n",
    "pl.scatter(x, y, c=observations, cmap=\"viridis\")\n",
    "pl.colorbar()"
   ]
  },
  {
   "cell_type": "markdown",
   "metadata": {},
   "source": [
    "Fitting a kriging metamodel from this can be done with the following script. I used a squared exponential covariance model."
   ]
  },
  {
   "cell_type": "code",
   "execution_count": 6,
   "metadata": {},
   "outputs": [],
   "source": [
    "def fitKriging(coordinates, observations, covarianceModel, basis, set_bounds=False):\n",
    "    \"\"\"\n",
    "    Fit the parameters of a kriging metamodel.\n",
    "    \"\"\"\n",
    "    algo = ot.KrigingAlgorithm(coordinates, observations, covarianceModel, basis)\n",
    "    if set_bounds:\n",
    "        scaleOptimizationBounds = ot.Interval(\n",
    "            coordinates.getMin(), coordinates.getMax()\n",
    "        )\n",
    "        algo.setOptimizationBounds(scaleOptimizationBounds)\n",
    "    algo.run()\n",
    "    krigingResult = algo.getResult()\n",
    "    krigingMetamodel = krigingResult.getMetaModel()\n",
    "    return krigingResult, krigingMetamodel"
   ]
  },
  {
   "cell_type": "code",
   "execution_count": 7,
   "metadata": {},
   "outputs": [],
   "source": [
    "inputDimension = 2\n",
    "basis = ot.ConstantBasisFactory(inputDimension).build()\n",
    "covarianceModel = ot.SquaredExponential([1.0] * inputDimension, [1.0])\n",
    "covarianceModel.setScale(coordinates.getMax())\n",
    "krigingResult, krigingMetamodel = fitKriging(\n",
    "    coordinates, observations, covarianceModel, basis, set_bounds=True\n",
    ")"
   ]
  },
  {
   "cell_type": "markdown",
   "metadata": {},
   "source": [
    "To plot the predictions from this kriging metamodel, I used the following script, based on the pcolor function."
   ]
  },
  {
   "cell_type": "code",
   "execution_count": 8,
   "metadata": {},
   "outputs": [
    {
     "data": {
      "image/png": "[encoded data removed]",
      "text/plain": [
       "<Figure size 432x288 with 2 Axes>"
      ]
     },
     "metadata": {
      "needs_background": "light"
     },
     "output_type": "display_data"
    }
   ],
   "source": [
    "def plotKrigingPredictions(krigingMetamodel):\n",
    "    \"\"\"\n",
    "    Plot the predictions of a kriging metamodel.\n",
    "    \"\"\"\n",
    "    # Create the mesh of the box [0.0, 1000.0] * [0.0, 700.0]\n",
    "    myInterval = ot.Interval([0.0, 0.0], [1000.0, 700.0])\n",
    "    # Define the number of interval in each direction of the box\n",
    "    nx = 20\n",
    "    ny = 20\n",
    "    myIndices = [nx - 1, ny - 1]\n",
    "    myMesher = ot.IntervalMesher(myIndices)\n",
    "    myMeshBox = myMesher.build(myInterval)\n",
    "\n",
    "    # Predict\n",
    "    vertices = myMeshBox.getVertices()\n",
    "    predictions = krigingMetamodel(vertices)\n",
    "\n",
    "    # Format for plot\n",
    "    X = np.array(vertices[:, 0]).reshape((ny, nx))\n",
    "    Y = np.array(vertices[:, 1]).reshape((ny, nx))\n",
    "    predictions_array = np.array(predictions).reshape((ny, nx))\n",
    "\n",
    "    # Plot\n",
    "    pl.pcolor(X, Y, predictions_array, shading=\"auto\")\n",
    "    pl.colorbar()\n",
    "    return\n",
    "\n",
    "\n",
    "plotKrigingPredictions(krigingMetamodel)"
   ]
  },
  {
   "cell_type": "markdown",
   "metadata": {},
   "source": [
    "You can see the same bands as in your predictions.\n",
    "\n",
    "Looking at the covariance model explains why:"
   ]
  },
  {
   "cell_type": "code",
   "execution_count": 9,
   "metadata": {},
   "outputs": [
    {
     "data": {
      "text/html": [
       "<p>SquaredExponential(scale=[100,344.881], amplitude=[6.75787])</p>"
      ],
      "text/plain": [
       "class=SquaredExponential scale=class=Point name=Unnamed dimension=2 values=[100,344.881] amplitude=class=Point name=Unnamed dimension=1 values=[6.75787]"
      ]
     },
     "execution_count": 9,
     "metadata": {},
     "output_type": "execute_result"
    }
   ],
   "source": [
    "covarianceModel = krigingResult.getCovarianceModel()\n",
    "covarianceModel"
   ]
  },
  {
   "cell_type": "markdown",
   "metadata": {},
   "source": [
    "The x-scale is 0.1672, which is much small than the y-scale 1.593. This is because we used an anisotropic covariance model, where the x-scale theta can be different from the y-scale theta.\n",
    "\n",
    "In order to fix this, we could use an isotropic covariance model, where the x-scale is maintained equal to the y-scale. However, it is simpler just to set the x and y scales at a given value, and to estimate the amplitude parameter sigma only.\n",
    "\n",
    "The following script set the scales to the mean of the previous estimate and estimates sigma only."
   ]
  },
  {
   "cell_type": "code",
   "execution_count": 10,
   "metadata": {},
   "outputs": [
    {
     "data": {
      "text/html": [
       "<p>SquaredExponential(scale=[222.441,222.441], amplitude=[5.72101])</p>"
      ],
      "text/plain": [
       "class=SquaredExponential scale=class=Point name=Unnamed dimension=2 values=[222.441,222.441] amplitude=class=Point name=Unnamed dimension=1 values=[5.72101]"
      ]
     },
     "execution_count": 10,
     "metadata": {},
     "output_type": "execute_result"
    }
   ],
   "source": [
    "scales = covarianceModel.getScale()\n",
    "meanScale = (scales[0] + scales[1]) / 2.0\n",
    "covarianceModel.setScale([meanScale] * 2)\n",
    "covarianceModel.setActiveParameter([2])  # Enable sigma (amplitude) only\n",
    "# Learn amplitude only\n",
    "krigingResult, krigingMetamodel = fitKriging(\n",
    "    coordinates, observations, covarianceModel, basis, set_bounds=False\n",
    ")\n",
    "covarianceModel = krigingResult.getCovarianceModel()\n",
    "covarianceModel"
   ]
  },
  {
   "cell_type": "code",
   "execution_count": 11,
   "metadata": {},
   "outputs": [
    {
     "data": {
      "image/png": "[encoded data removed]",
      "text/plain": [
       "<Figure size 432x288 with 2 Axes>"
      ]
     },
     "metadata": {
      "needs_background": "light"
     },
     "output_type": "display_data"
    }
   ],
   "source": [
    "plotKrigingPredictions(krigingMetamodel)"
   ]
  },
  {
   "cell_type": "markdown",
   "metadata": {},
   "source": [
    "Since the theta parameter is the same in both directions, the temperature is now spherical, as I guess you would expect it should be."
   ]
  }
 ],
 "metadata": {
  "kernelspec": {
   "display_name": "Python 3",
   "language": "python",
   "name": "python3"
  },
  "language_info": {
   "codemirror_mode": {
    "name": "ipython",
    "version": 3
   },
   "file_extension": ".py",
   "mimetype": "text/x-python",
   "name": "python",
   "nbconvert_exporter": "python",
   "pygments_lexer": "ipython3",
   "version": "3.8.6"
  }
 },
 "nbformat": 4,
 "nbformat_minor": 2
}
