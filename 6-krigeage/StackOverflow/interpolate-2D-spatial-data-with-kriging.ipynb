{
 "cells": [
  {
   "cell_type": "markdown",
   "metadata": {},
   "source": [
    "# How to interpolate 2D spatial data with kriging in Python?\n",
    "\n",
    "Reference : https://stackoverflow.com/questions/59330497/how-to-interpolate-2d-spatial-data-with-kriging-in-python\n",
    "\n",
    "I have a spatial 2D domain, say [0,1]x[0,1]. In this domain, there are 6 points at known locations where some observed parameter value (e.g. a temperature, a mechanical stress, a fluid density, etc...) is given. How to predict the parameter value at points where there is no observation i.e. how may I interpolate the data in Python?\n",
    "\n",
    "With OpenTURNS, the KrigingAlgorithm class can estimate the hyperparameters of the conditioned gaussian process with known inputs and outputs. In this example, the inputs are the coordinates and the outputs are the observed parameter values. Once these hyperparameters are estimated, the getMetamodel method returns a function which interpolates the data.\n",
    "\n",
    "The following script converts the Numpy arrays into OT's Samples. For the observations, the second parameter, equal to 1 sets the dimension of the Sample (in order to avoid an ambiguous conversion from a 1D array)."
   ]
  },
  {
   "cell_type": "code",
   "execution_count": 1,
   "metadata": {},
   "outputs": [],
   "source": [
    "import openturns as ot\n",
    "import numpy as np\n",
    "coordinates = np.array([[0.0,0.0],[0.5,0.0],[1.0,0.0],[0.0,1.0],[0.5,1.],[1.0,1.0]])\n",
    "observations = np.array([1.0,0.5,0.75,-1.0,0.0,1.0])"
   ]
  },
  {
   "cell_type": "markdown",
   "metadata": {},
   "source": [
    "The x and y coordinates can be extracted with:"
   ]
  },
  {
   "cell_type": "code",
   "execution_count": 2,
   "metadata": {},
   "outputs": [],
   "source": [
    "x = coordinates[:,0]\n",
    "y = coordinates[:,1]"
   ]
  },
  {
   "cell_type": "markdown",
   "metadata": {},
   "source": [
    "The following script creates a scatter plot where the color represents the value of the parameter."
   ]
  },
  {
   "cell_type": "code",
   "execution_count": 3,
   "metadata": {},
   "outputs": [],
   "source": [
    "%matplotlib inline"
   ]
  },
  {
   "cell_type": "code",
   "execution_count": 4,
   "metadata": {},
   "outputs": [
    {
     "data": {
      "image/png": "[encoded data removed]",
      "text/plain": [
       "<Figure size 432x288 with 2 Axes>"
      ]
     },
     "metadata": {
      "needs_background": "light"
     },
     "output_type": "display_data"
    }
   ],
   "source": [
    "import matplotlib.pyplot as plt\n",
    "fig = plt.figure()\n",
    "plt.scatter(x, y, c=observations, cmap='viridis')\n",
    "plt.colorbar()\n",
    "plt.show()"
   ]
  },
  {
   "cell_type": "markdown",
   "metadata": {},
   "source": [
    "The following script converts the Numpy arrays into OT's Samples. For the observations, the second parameter, equal to 1 sets the dimension of the Sample (in order to avoid an ambiguous conversion from a 1D array)."
   ]
  },
  {
   "cell_type": "code",
   "execution_count": 5,
   "metadata": {},
   "outputs": [],
   "source": [
    "input_train = ot.Sample(coordinates)\n",
    "output_train = ot.Sample(observations,1)"
   ]
  },
  {
   "cell_type": "markdown",
   "metadata": {},
   "source": [
    "Then we create a conditioned gaussian process with a constant trend and a squared exponential covariance model."
   ]
  },
  {
   "cell_type": "code",
   "execution_count": 6,
   "metadata": {},
   "outputs": [],
   "source": [
    "# Fit\n",
    "inputDimension = 2\n",
    "basis = ot.ConstantBasisFactory(inputDimension).build()\n",
    "covarianceModel = ot.SquaredExponential([1.]*inputDimension, [1.0])\n",
    "algo = ot.KrigingAlgorithm(input_train, output_train, covarianceModel, basis)\n",
    "algo.run()\n",
    "result = algo.getResult()\n",
    "krigingMetamodel = result.getMetaModel()"
   ]
  },
  {
   "cell_type": "markdown",
   "metadata": {},
   "source": [
    "Once done, the krigingMetamodel variable is a Function which takes as input a 2D Point representing the coordinates and returns a 1D Point representing the parameter value. To illustrate this, I first create the 2D domain [0,1]x[0,1] and create a 2D discretization of it with a regular grid."
   ]
  },
  {
   "cell_type": "code",
   "execution_count": 7,
   "metadata": {},
   "outputs": [],
   "source": [
    "# Create the 2D domain\n",
    "myInterval = ot.Interval([0., 0.], [1., 1.])\n",
    "# Define the number of interval in each direction of the box\n",
    "nx = 20\n",
    "ny = 10\n",
    "myIndices = [nx-1, ny-1]\n",
    "myMesher = ot.IntervalMesher(myIndices)\n",
    "myMeshBox = myMesher.build(myInterval)"
   ]
  },
  {
   "cell_type": "markdown",
   "metadata": {},
   "source": [
    "Using the kriging metamodel to predict the parameter value on this mesh can be done with the following statements. We first get the vertices of the mesh as a Sample, then evaluate the predictions with one single call to the metamodel (there is no need for a for loop here)."
   ]
  },
  {
   "cell_type": "code",
   "execution_count": 8,
   "metadata": {},
   "outputs": [],
   "source": [
    "# Predict\n",
    "vertices = myMeshBox.getVertices()\n",
    "predictions = krigingMetamodel(vertices)"
   ]
  },
  {
   "cell_type": "markdown",
   "metadata": {},
   "source": [
    "In order to see the result with Matplotlib, we first have to create the data required by the pcolor function."
   ]
  },
  {
   "cell_type": "code",
   "execution_count": 9,
   "metadata": {},
   "outputs": [],
   "source": [
    "# Format for plot\n",
    "X = np.array(vertices[:,0]).reshape((ny,nx))\n",
    "Y = np.array(vertices[:,1]).reshape((ny,nx))\n",
    "predictions_array = np.array(predictions).reshape((ny,nx))"
   ]
  },
  {
   "cell_type": "code",
   "execution_count": 10,
   "metadata": {},
   "outputs": [
    {
     "data": {
      "image/png": "[encoded data removed]",
      "text/plain": [
       "<Figure size 432x288 with 2 Axes>"
      ]
     },
     "metadata": {
      "needs_background": "light"
     },
     "output_type": "display_data"
    }
   ],
   "source": [
    "# Plot\n",
    "fig = plt.figure()\n",
    "plt.pcolor(X, Y, predictions_array)\n",
    "plt.colorbar()\n",
    "plt.show()"
   ]
  },
  {
   "cell_type": "markdown",
   "metadata": {},
   "source": [
    "We see that the predictions of the metamodel are equal to the observations at the coordinates where the parameter values are known. On other points, the metamodel is a regular function of the coordinates : this regularity is a consequence of the choice of the covariance model."
   ]
  }
 ],
 "metadata": {
  "kernelspec": {
   "display_name": "Python 3",
   "language": "python",
   "name": "python3"
  },
  "language_info": {
   "codemirror_mode": {
    "name": "ipython",
    "version": 3
   },
   "file_extension": ".py",
   "mimetype": "text/x-python",
   "name": "python",
   "nbconvert_exporter": "python",
   "pygments_lexer": "ipython3",
   "version": "3.7.4"
  }
 },
 "nbformat": 4,
 "nbformat_minor": 2
}
