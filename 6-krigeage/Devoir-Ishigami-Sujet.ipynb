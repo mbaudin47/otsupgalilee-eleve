{
 "cells": [
  {
   "cell_type": "markdown",
   "metadata": {},
   "source": [
    "# Exercice : krigeage de la fonction Ishigami\n",
    "\n",
    "On considère la fonction \n",
    "$$\n",
    "g(X_1,X_2,X_3) = \\sin(X_1)+a \\sin (X_2)^2 + b X_3^4 \\sin(X_1)\n",
    "$$\n",
    "pour tout $X_1,X_2,X_3\\in[-\\pi,\\pi]$ où $a=7$ et $b=0.1$. \n",
    "\n",
    "On suppose que les variables sont indépendantes et suivent la loi uniforme entre $-\\pi$ et $\\pi$.\n",
    "\n",
    "L'objectif de cet exercice est de créer un métamodèle de krigeage de cette fonction. Puis nous allons réaliser l'étude de sensibilité de la fonction, en utilisant le métamodèle."
   ]
  },
  {
   "cell_type": "markdown",
   "metadata": {},
   "source": [
    "*Questions*\n",
    "\n",
    "Définition du modèle\n",
    "* Définir la fonction `g` associée à la fonction.\n",
    "* Définir la distribution `distribution` au vecteur aléatoire en entrée.\n",
    "\n",
    "Apprentissage\n",
    "* Créer un échantillon `X_train` de taille 20 en entrée du modèle et évaluer les sorties correspondantes `Y_train`. \n",
    "* Dessiner l'histogramme des sorties. \n",
    "* Utiliser la classe `SquaredExponential` pour définir un modèle exponentiel carré. \n",
    "* Créer un métamodèle de krigeage avec la classe `KrigingAlgorithm`. Vous utiliserez une base de type `ConstantBasisFactory`.\n",
    "\n",
    "Validation\n",
    "* Créer un échantillon `X_test` de taille 100 en entrée du modèle et évaluer les sorties correspondantes `Y_test`. \n",
    "* Utiliser la classe `MetaModelValidation` pour valider le métamodèle. \n",
    "* Quel est la valeur du coefficient de prédictivité ? \n",
    "* La qualité est-elle suffisante pour utiliser le métamodèle ? Quels paramètres peut-on changer ?\n",
    "* Améliorez la qualité du métamodèle jusqu'à ce que la qualité soit suffisante, puis passez à la question suivante.\n",
    "\n",
    "Analyse de sensibilité\n",
    "* Utiliser la classe `SobolSimulationAlgorithm` pour estimer les indices de Sobol' du métamodèle. \n",
    "* Afficher les indices de Sobol'. \n",
    "* Analyser les indices de Sobol' : identifier les variables les plus influentes et les interactions.\n"
   ]
  }
 ],
 "metadata": {
  "kernelspec": {
   "display_name": "Python 3",
   "language": "python",
   "name": "python3"
  },
  "language_info": {
   "codemirror_mode": {
    "name": "ipython",
    "version": 3
   },
   "file_extension": ".py",
   "mimetype": "text/x-python",
   "name": "python",
   "nbconvert_exporter": "python",
   "pygments_lexer": "ipython3",
   "version": "3.8.6"
  }
 },
 "nbformat": 4,
 "nbformat_minor": 2
}
