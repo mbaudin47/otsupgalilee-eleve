{
 "cells": [
  {
   "cell_type": "markdown",
   "metadata": {},
   "source": [
    "# Faire un métamodèle de krigeage\n"
   ]
  },
  {
   "cell_type": "markdown",
   "metadata": {},
   "source": [
    "## Références\n",
    "\n",
    "http://openturns.github.io/openturns/master/theory/meta_modeling/kriging.html\n",
    "\n",
    "http://openturns.github.io/openturns/master/examples/meta_modeling/kriging.html\n",
    "\n",
    "[Formation ITECH, Introduction aux métamodèles (polynômes de chaos et krigeage) (ARN4889)\n",
    "14 septembre 2016, Copyright EDF 2015 - Géraud Blatman (EDF R&D/MMC) & Loïc Le Gratiet (EDF R&D/MRI)][1]\n",
    "\n",
    "[François Bachoc. Introduction to Gaussian-process based Kriging models for metamodeling and validation of computer codes. Seminar of the LRC MANON, INSTN Saclay, March 2014.][2]\n",
    "\n",
    "[C. E. Rasmussen & C. K. I. Williams, Gaussian Processes for Machine Learning, the MIT Press, 2006,\n",
    "ISBN 026218253X. 2006 Massachusetts Institute of Technology.][3]\n",
    "\n",
    "[François Bachoc. Parametric estimation of covariance function in Gaussian-process based Kriging models. Application to uncertainty quantification for computer experiments. Thèse de l'université Paris-Diderot, 2013.][4]\n",
    "\n",
    "[Loïc Le Gratiet. Multi-fidelity Gaussian process regression for computer experiments. Thèse de l'université Paris-Diderot, 2013.][5]\n",
    "\n",
    "[Normalization of the input sample in KrigingAlgorithm in OT1.16][6]\n",
    "\n",
    "[1]: https://forge.pleiade.edf.fr/documents/317\n",
    "[2]: https://www.math.univ-toulouse.fr/~fbachoc/LRC_Manon_2014.pdf\n",
    "[3]: www.GaussianProcess.org/gpml\n",
    "[4]: https://tel.archives-ouvertes.fr/tel-00881002/\n",
    "[5]: https://tel.archives-ouvertes.fr/tel-00866770\n",
    "[6]: https://openturns.discourse.group/t/normalization-of-the-input-sample-in-krigingalgorithm-in-ot1-16/101"
   ]
  },
  {
   "cell_type": "markdown",
   "metadata": {},
   "source": [
    "## Rappels méthodologiques\n",
    "\n",
    "### Krigeage\n",
    "\n",
    "On considère une fonction $g$ :\n",
    "\n",
    "$$\n",
    "y = g(\\boldsymbol{x})\n",
    "$$\n",
    "\n",
    "pour tout $\\boldsymbol{x} \\in \\mathcal{D}$, où $\\mathcal{D} \\subset \\mathbb{R}^p$ est le domaine de définition de la fonction $g$, et $p$ est la dimension de l'espace d'entrée. Dans ce document, on considère que la sortie du code de calcul $y\\in\\mathbb{R}$ est scalaire. \n",
    "\n",
    "Le krigeage est une technique permettant de créer un métamodèle de la fonction $g$. Il est fondé sur les processus gaussiens et c'est pourquoi on nomme parfois cette technique *régression par processus gaussien*.\n",
    "\n",
    "En d'autres termes, le krigeage consiste à modéliser $Z$ par un processus gaussien de moyenne $m$ et de covariance $k$ :\n",
    "\n",
    "$$\n",
    "Z(\\boldsymbol{x}) = PG\\left(m(\\boldsymbol{x}),k(\\boldsymbol{x}, \\boldsymbol{x}')\\right)\n",
    "$$\n",
    "\n",
    "pour tout $\\boldsymbol{x} \\in \\mathcal{D}$."
   ]
  },
  {
   "cell_type": "markdown",
   "metadata": {},
   "source": [
    "### Modèle de tendance\n",
    "\n",
    "Pour définir la moyenne du processus gaussien, on fait le choix d'une base de fonctions \n",
    "\n",
    "$$\n",
    "\\boldsymbol{f} = (f_1,...,f_{d_f})\n",
    "$$\n",
    "\n",
    "où $d_f$ est le nombre de fonctions de base. \n",
    "Si les paramètres $\\boldsymbol{\\beta}\\in\\mathbb{R}^{d_f}$ sont connus, alors la moyenne est choisie sous la forme d'un modèle linéaire généralisé :\n",
    "\n",
    "$$\n",
    "\\boldsymbol{m}(\\boldsymbol{x}) = \\boldsymbol{f}(\\boldsymbol{x})^T \\boldsymbol{\\beta}\n",
    "$$\n",
    "\n",
    "_Remarque :_ on parle de *krigeage simple* lorsque la moyenne est supposée connue, de *krigeage ordinaire* lorsque la moyenne est inconnue mais supposée constante, sinon de *krigeage universel*. \n",
    "\n",
    "### Modèle de covariance\n",
    "\n",
    "La fonction de covariance contrôle notamment la régularité du processus gaussien (continuité et différentiabilité de ses trajectoires ou en moyenne quadratique).\n",
    "\n",
    "Pour définir la covariance du processus gaussien, on fait le choix d'une fonction de corrélation $r$ de la forme :\n",
    "\n",
    "$$\n",
    "k\\left(\\boldsymbol{x}, \\boldsymbol{x}'\\right) = \\sigma^2 r\\left(\\boldsymbol{x} - \\boldsymbol{x}', \\boldsymbol{\\theta}\\right)\n",
    "$$\n",
    "\n",
    "où $\\sigma^2$ est la variance du processus gaussien et $\\boldsymbol{\\theta} \\in\\mathbb{R}^p$."
   ]
  },
  {
   "cell_type": "markdown",
   "metadata": {},
   "source": [
    "### Régression par processus gaussien : principe\n",
    "\n",
    "Dans la suite, nous considérons le krigeage associé à des observations $\\boldsymbol{y}$ non bruitées.\n",
    "\n",
    "Deux étapes peuvent être distinguées dans le krigeage :\n",
    "\n",
    "* l'estimation des paramètres $\\boldsymbol{\\beta}$, $\\sigma$ et $\\boldsymbol{\\theta}$;\n",
    "* le conditionnement du processus par les données $\\boldsymbol{y}$.\n",
    "\n",
    "#### Étape (1) : estimation des (hyper)paramètres\n",
    "\n",
    "Une approche rencontrée dans la littérature, appelée *bayesian kriging* ou *full bayesian kriging*, consiste à traiter les variables $\\boldsymbol{\\beta}$, $\\sigma$ ou $\\boldsymbol{\\theta}$ comme des paramètres incertains que l'on associe à une distribution de probabilité a priori.\n",
    "Dans OpenTURNS, ces variables sont simplement considérées comme des paramètres à estimer à partir de données censées provenir d'une même réalisation (de la même trajectoire) d'un processus gaussien. Cela est réalisé suivant le principe du maximum de vraisemblance.\n",
    "\n",
    "La résolution de ce problème d'optimisation (le MV) peut poser des difficultés. Dans ce cas, on peut soit tenter de fournir à OpenTURNS des meilleures valeurs initiales, soit configurer la résolution du problème de manière plus fine en intervenant dans les objets de plus bas niveau."
   ]
  },
  {
   "cell_type": "markdown",
   "metadata": {},
   "source": [
    "#### Étape (2) : conditionnement\n",
    "\n",
    "Nous nous limitons ci-dessous à une présentation du conditionnement (2) lorsque les paramètres $\\boldsymbol{\\beta}$, $\\sigma$ et $\\boldsymbol{\\theta}$ sont connus (krigeage simple) et que l'on souhaite simplement\n",
    "une prédiction en une unique point $\\boldsymbol{x}\\in\\mathcal{D}$.\n",
    "\n",
    "Faisons l'hypothèse que l'on connaît les valeurs de la fonction sur un plan d'expériences $\\boldsymbol{x}^{(i)}$ pour $i=1,...,n$ où $n$ est le nombre de simulations. Pour chacune de ces entrées, on suppose que l'on connaît la valeur de la sortie scalaire $y^{(i)}$\n",
    "pour $i=1,...,n$. On note $\\boldsymbol{y} = (y_1, ..., y_n)^T$ le vecteur des sorties observées. \n",
    "\n",
    "Notons $F$ la matrice de conception associée aux fonctions de base :\n",
    "$$\n",
    "F = \\left[ f_j\\left(\\boldsymbol{x}^{(i)}\\right), \\quad i=1,...,n, \\quad j=1,...,d_f \\right].\n",
    "$$\n",
    "\n",
    "Notons $R$ la matrice de correlation associée au noyau de corrélation :\n",
    "$$\n",
    "R = \\left[ r\\left(\\boldsymbol{x}^{(i)}, \\; \\boldsymbol{x}^{(j)}, \\; \\boldsymbol{\\theta}\\right),\\quad i,j=1,...,n \\right].\n",
    "$$\n",
    "\n",
    "Considérons un nouveau point $\\boldsymbol{x} \\in \\mathbb{R}^p$ correspondant à une sortie $y$ inconnue.\n",
    "Notons $\\boldsymbol{r}(\\boldsymbol{x})$ le vecteur des corrélation entre le point $\\boldsymbol{x}$ et les points du plan d'expériences :\n",
    "$$\n",
    "\\boldsymbol{r}(\\boldsymbol{x}) = \\left[r\\left(\\boldsymbol{x}, \\; \\boldsymbol{x}^{(i)}, \\; \\boldsymbol{\\theta}\\right),\\quad i=1,...,n \\right]^T\n",
    "$$\n",
    "\n",
    "On peut démontrer que le vecteur aléatoire associé aux observations $\\boldsymbol{Y}$ et la variable aléatoire $Y(\\boldsymbol{x})$ sont liés par une loi normale :\n",
    "\n",
    "$$\n",
    "\\begin{pmatrix}\n",
    "\\boldsymbol{Y} \\\\\n",
    "Y(\\boldsymbol{x})\n",
    "\\end{pmatrix}\n",
    "= \n",
    "\\mathcal{N}\n",
    "\\left(\n",
    "\\begin{pmatrix}\n",
    "F \\boldsymbol{\\beta} \\\\\n",
    "\\boldsymbol{f(x)}^T \\boldsymbol{\\beta}\n",
    "\\end{pmatrix}\n",
    ", \\; \n",
    "\\sigma^2 \n",
    "\\begin{pmatrix}\n",
    "R & \\boldsymbol{r}(\\boldsymbol{x}) \\\\\n",
    "\\boldsymbol{r}(\\boldsymbol{x})^T & 1 \\\\\n",
    "\\end{pmatrix}\n",
    "\\right).\n",
    "$$\n",
    "\n",
    "Le modèle prédictif est donné par loi de $Z(\\boldsymbol{x})$ conditionnée par les observations connues du code :\n",
    "$$\n",
    "\\tilde{Y}(\\boldsymbol{x}) = \\left[ \\boldsymbol{Y}(\\boldsymbol{x}) \\; \n",
    "| \\; \\boldsymbol{Y} = \\boldsymbol{y}, \\; \n",
    "\\boldsymbol{\\theta} = \\boldsymbol{\\theta}, \\; \n",
    "\\boldsymbol{\\sigma} = \\boldsymbol{\\sigma} \\right].\n",
    "$$\n",
    "\n",
    "On peut démontrer que $\\tilde{\\boldsymbol{Y}}(\\boldsymbol{x})$ est également une variable aléatoire gaussienne :\n",
    "$$\n",
    "\\tilde{Y}(\\boldsymbol{x}) \\sim \\mathcal{N} \\left( \\mu_{\\tilde{Y}}(\\boldsymbol{x}) ,  \\; \\sigma_{\\tilde{Y}}(\\boldsymbol{x})^2 \\right)\n",
    "$$\n",
    "où la moyenne $\\mu_{\\tilde{Y}}(\\boldsymbol{x})$ et la variance $\\sigma_{\\tilde{Y}}(\\boldsymbol{x})^2$ s'écrivent de manière explicite (voir la propriété de conditionnement des processus gaussiens dans le précédent _notebook_).\n",
    "\n",
    "Les calculs liés au conditionnement n'impliquent que la résolution de systèmes d'équations linéaires. \n",
    "Néanmoins, si $n$ est grand (par exemple $n=10000$), alors la matrice de corrélation $R$ est de taille $n\\times n$, ce qui peut poser des difficultés de performance, voire de mémoire. Pour résoudre ce problème, une alternative consiste à utiliser des techniques de compression de matrices, comme par exemple la technique des H-mat utilisée par OpenTURNS.\n",
    "\n",
    "#### Remarque\n",
    "\n",
    "Dans le cas du krigeage universel et d'une fonction de covariance à estimer, la définition de la fonction de covariance conditionnée est en fait modifiée pour tenir compte de l'incertitude sur $\\boldsymbol{\\beta}$."
   ]
  },
  {
   "cell_type": "markdown",
   "metadata": {},
   "source": [
    "## Le krigeage dans OpenTURNS\n",
    "\n",
    "### Le modèle de déviation de la poutre encastrée\n",
    "\n",
    "Dans l'exemple qui suit, on considère le modèle de déviation de la poutre encastrée. Dans ce modèle, on considère 4 variables aléatoires liées par une copule Gaussienne. \n",
    "\n",
    "<img src=\"poutre.png\" width=\"300px\">\n",
    "\n",
    "On considère 4 variables aléatoires :\n",
    " - E : le module d'Young [Pa]\n",
    " - F : la force appliquée [N]\n",
    " - L : la longueur [m]\n",
    " - I : le moment d'inertie de la poutre [m^4]\n",
    "\n",
    "La déviation verticale de la poutre sous l'effet de la force appliquée est modélisée par l'équation :\n",
    "$$\n",
    "y = \\frac{FL^3}{3EI}\n",
    "$$\n",
    "\n",
    "On considère les lois de probabilité suivantes :\n",
    "\n",
    "|Variable|  Distribution|\n",
    "| ------------- |-------------|\n",
    "|E| Beta(alpha = 0.9, beta = 2.2, a = $2.5\\times 10^7$, $b = 5\\times 10^7$) |\n",
    "|F| Lognormal($\\mu_F=3 \\times 10^4$, $\\sigma_F=9\\times 10^3$, shift=$15\\times 10^3$)|\n",
    "|L| Uniform(min=250.0, max= 260.0)|\n",
    "|I| Beta(alpha = 2.5, beta = 1.5, a = 310, b = 450)|\n",
    " \n",
    "On fait l'hypothèse que les variables aléatoires E, F, L et I sont liées par une copule Gaussienne dont la matrice de corrélation est :\n",
    "$$\n",
    "R = \n",
    "\\begin{pmatrix}\n",
    "1 & 0 & 0 & 0 \\\\\n",
    "0 & 1 & 0 & 0 \\\\\n",
    "0 & 0 & 1 & -0.2 \\\\\n",
    "0 & 0 & -0.2 & 1\n",
    "\\end{pmatrix}\n",
    "$$\n",
    "\n",
    "En d'autres termes, on considère que les variables L et I sont corrélées négativement : lorsque la longueur L augmente, le moment d'inertie I diminue. \n",
    "\n",
    "On créé un méta-modèle de krigeage fondé sur un modèle exponentiel carré. Pour estimer le métamodèle, nous allons utiliser un plan d'expériences de taille 20. "
   ]
  },
  {
   "cell_type": "markdown",
   "metadata": {},
   "source": [
    "### Définition du modèle"
   ]
  },
  {
   "cell_type": "code",
   "execution_count": 1,
   "metadata": {},
   "outputs": [],
   "source": [
    "import openturns as ot"
   ]
  },
  {
   "cell_type": "markdown",
   "metadata": {},
   "source": [
    "Etape A : définition du modèle. Nous commençons par définir une fonction symbolique qui évalue la sortie y en fonction des entrées E, F, L et I."
   ]
  },
  {
   "cell_type": "code",
   "execution_count": 2,
   "metadata": {},
   "outputs": [],
   "source": [
    "model = ot.SymbolicFunction([\"E\", \"F\", \"L\", \"I\"], [\"F * L ^ 3 / (3 * E * I)\"])"
   ]
  },
  {
   "cell_type": "markdown",
   "metadata": {},
   "source": [
    "Etape B : définition des distributions du vecteur aléatoire en entrée. Nous définissons ensuite les lois de distribution des variables aléatoires E, F, L et I."
   ]
  },
  {
   "cell_type": "code",
   "execution_count": 3,
   "metadata": {},
   "outputs": [],
   "source": [
    "# Young's modulus E: beta distribution\n",
    "E = ot.Beta(0.9, 2.2, 2.8e7, 4.8e7)\n",
    "E.setDescription(\"E\")\n",
    "# Load F: lognormal distribution\n",
    "F = ot.LogNormal()  # in N\n",
    "F.setParameter(ot.LogNormalMuSigma()([3e4, 9e3, 0.0]))\n",
    "F.setDescription(\"F\")\n",
    "# Length L: uniform distribution\n",
    "L = ot.Uniform(2.5, 2.6)  # in m\n",
    "L.setDescription(\"L\")\n",
    "# Moment of inertia I: beta distribution\n",
    "I = ot.Beta(2.5, 1.5, 310.0, 450.0)  # in m^4\n",
    "I.setDescription(\"I\")"
   ]
  },
  {
   "cell_type": "markdown",
   "metadata": {},
   "source": [
    "Puis on définit la dépendance entre les variables d'entrée en créant une copule Gaussienne avec la classe `NormalCopula`."
   ]
  },
  {
   "cell_type": "code",
   "execution_count": 4,
   "metadata": {},
   "outputs": [],
   "source": [
    "dim = 4  # number of inputs\n",
    "R = ot.CorrelationMatrix(dim)\n",
    "R[2, 3] = -0.2\n",
    "myCopula = ot.NormalCopula(ot.NormalCopula.GetCorrelationFromSpearmanCorrelation(R))\n",
    "myDistribution = ot.ComposedDistribution([E, F, L, I], myCopula)"
   ]
  },
  {
   "cell_type": "markdown",
   "metadata": {},
   "source": [
    "### Définition d'un plan d'expériences"
   ]
  },
  {
   "cell_type": "markdown",
   "metadata": {},
   "source": [
    "Nous considérons un plan d'expériences de type Monte-Carlo simple. Pour cela, on génère un échantillon des entrées grâce à la méthode `getSample`. Puis nous évaluons la sortie en appelant la fonction `model`."
   ]
  },
  {
   "cell_type": "code",
   "execution_count": 5,
   "metadata": {},
   "outputs": [],
   "source": [
    "sampleSize_train = 20\n",
    "X_train = myDistribution.getSample(sampleSize_train)\n",
    "Y_train = model(X_train)"
   ]
  },
  {
   "cell_type": "markdown",
   "metadata": {},
   "source": [
    "Observons la distribution des déviations verticales Y sur la base d'apprentissage. On observe que les déviations plus grandes sont moins fréquentes. "
   ]
  },
  {
   "cell_type": "code",
   "execution_count": 6,
   "metadata": {},
   "outputs": [
    {
     "data": {
      "image/png": "[encoded data removed]",
      "text/plain": [
       "class=Graph name=y0 PDF implementation=class=GraphImplementation name=y0 PDF title=Histogramme des déviations verticales xTitle=Déviation verticale (m) yTitle=PDF axes=ON grid=ON legendposition=topright legendFontSize=1 drawables=[class=Drawable name=Unnamed implementation=class=Curve name=Unnamed derived from class=DrawableImplementation name=Unnamed legend= data=class=Sample name=Unnamed implementation=class=SampleImplementation name=Unnamed size=20 dimension=2 data=[[4.71743e-06,0],[6.199e-06,0],[6.199e-06,0],[6.199e-06,101244],[9.16214e-06,101244],[9.16214e-06,0],[9.16214e-06,0],[9.16214e-06,118118],[1.21253e-05,118118],[1.21253e-05,0],[1.21253e-05,0],[1.21253e-05,67495.9],[1.50884e-05,67495.9],[1.50884e-05,0],[1.50884e-05,0],[1.50884e-05,50622],[1.80516e-05,50622],[1.80516e-05,0],[1.80516e-05,0],[1.95331e-05,0]] color=red fillStyle=solid lineStyle=solid pointStyle=none lineWidth=2]"
      ]
     },
     "execution_count": 6,
     "metadata": {},
     "output_type": "execute_result"
    }
   ],
   "source": [
    "histo = ot.HistogramFactory().build(Y_train).drawPDF()\n",
    "histo.setXTitle(\"Déviation verticale (m)\")\n",
    "histo.setTitle(\"Histogramme des déviations verticales\")\n",
    "histo.setLegends([\"\"])\n",
    "histo"
   ]
  },
  {
   "cell_type": "markdown",
   "metadata": {},
   "source": [
    "### Création du méta-modèle"
   ]
  },
  {
   "cell_type": "markdown",
   "metadata": {},
   "source": [
    "Pour créer le krigeage, on choisit une tendance constante avec la classe `ConstantBasisFactory`. Puis on utilise un modèle de covariance de type exponentielle carrée. Enfin, on utilise la classe `KrigingAlgorithm` pour créer le krigeage en utilisant la base d'apprentissage, le modèle de covariance et la tendance."
   ]
  },
  {
   "cell_type": "code",
   "execution_count": 7,
   "metadata": {},
   "outputs": [
    {
     "data": {
      "text/html": [
       "<p>[1.70306e+06, 8.51532e+07]<br>\n",
       "[3288.25, 164413]<br>\n",
       "[0.0081952, 0.40976]<br>\n",
       "[9.78565, 489.283]</p>"
      ],
      "text/plain": [
       "class=Interval name=Unnamed dimension=4 lower bound=class=Point name=Unnamed dimension=4 values=[1.70306e+06,3288.25,0.0081952,9.78565] upper bound=class=Point name=Unnamed dimension=4 values=[8.51532e+07,164413,0.40976,489.283] finite lower bound=[1,1,1,1] finite upper bound=[1,1,1,1]"
      ]
     },
     "execution_count": 7,
     "metadata": {},
     "output_type": "execute_result"
    }
   ],
   "source": [
    "dimension = myDistribution.getDimension()\n",
    "basis = ot.ConstantBasisFactory(dimension).build()\n",
    "covarianceModel = ot.SquaredExponential([1.0] * dimension, [1.0])\n",
    "covarianceModel.setScale(X_train.getMax())  # Trick A\n",
    "algo = ot.KrigingAlgorithm(X_train, Y_train, covarianceModel, basis)\n",
    "x_range = X_train.getMax() - X_train.getMin()  # Trick B, v2\n",
    "scale_max_factor = 5.0  # Must be > 1, tune this to match your problem\n",
    "scale_min_factor = 0.1  # Must be < 1, tune this to match your problem\n",
    "maximum_scale_bounds = scale_max_factor * x_range\n",
    "minimum_scale_bounds = scale_min_factor * x_range\n",
    "scaleOptimizationBounds = ot.Interval(minimum_scale_bounds, maximum_scale_bounds)\n",
    "algo.setOptimizationBounds(scaleOptimizationBounds)\n",
    "scaleOptimizationBounds"
   ]
  },
  {
   "cell_type": "code",
   "execution_count": 8,
   "metadata": {},
   "outputs": [],
   "source": [
    "algo.run()\n",
    "result = algo.getResult()\n",
    "krigeageMM = result.getMetaModel()"
   ]
  },
  {
   "cell_type": "markdown",
   "metadata": {},
   "source": [
    "La méthode `run` a évalué les paramètres du modèle par la méthode du maximum de vraisemblance. \n",
    "\n",
    "On peut alors afficher la tendance constante du modèle."
   ]
  },
  {
   "cell_type": "code",
   "execution_count": 9,
   "metadata": {
    "scrolled": true
   },
   "outputs": [
    {
     "data": {
      "text/plain": [
       "[class=Point name=Unnamed dimension=1 values=[2.642e-05]]"
      ]
     },
     "execution_count": 9,
     "metadata": {},
     "output_type": "execute_result"
    }
   ],
   "source": [
    "result.getTrendCoefficients()"
   ]
  },
  {
   "cell_type": "markdown",
   "metadata": {},
   "source": [
    "On peut également afficher les paramètres du modèle de covariance, estimés par la méthode du maximum de vraisemblance."
   ]
  },
  {
   "cell_type": "code",
   "execution_count": 10,
   "metadata": {},
   "outputs": [
    {
     "data": {
      "text/html": [
       "<p>SquaredExponential(scale=[4.50901e+07,51216.3,0.40976,444.533], amplitude=[1.39452e-05])</p>"
      ],
      "text/plain": [
       "class=SquaredExponential scale=class=Point name=Unnamed dimension=4 values=[4.50901e+07,51216.3,0.40976,444.533] amplitude=class=Point name=Unnamed dimension=1 values=[1.39452e-05]"
      ]
     },
     "execution_count": 10,
     "metadata": {},
     "output_type": "execute_result"
    }
   ],
   "source": [
    "result.getCovarianceModel()"
   ]
  },
  {
   "cell_type": "markdown",
   "metadata": {},
   "source": [
    "On observe que les longueurs de corrélation optimisées $\\theta_E^\\star$, $\\theta_F^\\star$ et $\\theta_I^\\star$ sont strictement à l'intérieur du domaine. En revanche, la longueur de corrélation optimale pour le paramètre $L$ est $\\theta_L^\\star = 0.40976$, c'est à dire égale à la borne maximale utilisée par l'algorithme d'optimisation. Cette longueur de corrélation optimale est supérieure à l'étendue du domaine de définition de la variable $L$, égale à $2.6 - 2.5 = 0.1$. Une grande longueur de corrélation signifie que deux points $\\boldsymbol{x}_1=(E, F, L_1, I)^T$ et $\\boldsymbol{x}_2=(E, F, L_2, I)^T$ tels que $L_1$ et $L_2$ sont très éloignés sont associées à des valeurs de $Y = g(\\boldsymbol{x})$ très proches. Ce résultat est cohérent avec le fait que la fonction $g$ est peu sensible à la variable $L$, comme on peut le voir en réalisant l'analyse de sensibilité globale du modèle (son indices de Sobol' total est proche de zéro). En d'autres termes, la fonction $g$ est presque constante lorsque $L$ change (et que les autres paramètres sont maintenus constants). "
   ]
  },
  {
   "cell_type": "markdown",
   "metadata": {},
   "source": [
    "On souhaite ensuite valider le métamodèle de krigeage. Pour cela, on génère un échantillon de validation de taille 100 et on évalue la sortie du modèle sur cet échantillon."
   ]
  },
  {
   "cell_type": "code",
   "execution_count": 11,
   "metadata": {},
   "outputs": [],
   "source": [
    "sampleSize_test = 100\n",
    "X_test = myDistribution.getSample(sampleSize_test)\n",
    "Y_test = model(X_test)"
   ]
  },
  {
   "cell_type": "markdown",
   "metadata": {},
   "source": [
    "Sur l'échantillon de validation, on évalue les sorties du méta-modèle."
   ]
  },
  {
   "cell_type": "code",
   "execution_count": 12,
   "metadata": {},
   "outputs": [],
   "source": [
    "Y_test_MM = krigeageMM(X_test)"
   ]
  },
  {
   "cell_type": "markdown",
   "metadata": {},
   "source": [
    "La classe `MetaModelValidation` facilite le travail de validation d'un métamodèle. Pour la constuire, on lui donne les entrées de la base de validation, les sorties correspondantes et le métamodèle."
   ]
  },
  {
   "cell_type": "code",
   "execution_count": 13,
   "metadata": {},
   "outputs": [],
   "source": [
    "val = ot.MetaModelValidation(X_test, Y_test, krigeageMM)"
   ]
  },
  {
   "cell_type": "markdown",
   "metadata": {},
   "source": [
    "La méthode `computePredictivityFactor` permet d'estimer le coefficient $Q_2$."
   ]
  },
  {
   "cell_type": "code",
   "execution_count": 14,
   "metadata": {
    "scrolled": true
   },
   "outputs": [
    {
     "data": {
      "text/plain": [
       "0.9939595970249748"
      ]
     },
     "execution_count": 14,
     "metadata": {},
     "output_type": "execute_result"
    }
   ],
   "source": [
    "Q2 = val.computePredictivityFactor()[0]\n",
    "Q2"
   ]
  },
  {
   "cell_type": "markdown",
   "metadata": {},
   "source": [
    "Puisque le $Q_2$ est supérieur à 0.95, on peut dire que c'est un très bon méta-modèle."
   ]
  },
  {
   "cell_type": "markdown",
   "metadata": {},
   "source": [
    "Il est intéressant de dessiner l'histogramme des résidus : on peut le faire avec la classe `HistogramFactory` appliquée à l'échantillon des résidus `r`. \n",
    "\n",
    "On observe que les résidus négatifs sont presque aussi fréquents que les résidus positifs : c'est plutôt un signe positif pour la qualité du métamodèle. Dans notre cas, la déviation verticale est plutôt petite, de l'ordre de $10^{-5}$. Cela implique qu'il n'est pas si simple de voir si, en valeur absolue, les résidus sont plutôt petits, ou non : le graphique que nous dessinerons par la suite est plus fiable de ce point de vue."
   ]
  },
  {
   "cell_type": "code",
   "execution_count": 15,
   "metadata": {},
   "outputs": [
    {
     "data": {
      "image/png": "[encoded data removed]",
      "text/plain": [
       "class=Graph name=y0 PDF implementation=class=GraphImplementation name=y0 PDF title=y0 PDF xTitle=y0 yTitle=PDF axes=ON grid=ON legendposition=topright legendFontSize=1 drawables=[class=Drawable name=Unnamed implementation=class=Curve name=Unnamed derived from class=DrawableImplementation name=Unnamed legend=y0 PDF data=class=Sample name=Unnamed implementation=class=SampleImplementation name=Unnamed size=68 dimension=2 data=[[-5.05956e-07,0],[-4.35258e-07,0],[-4.35258e-07,0],[-4.35258e-07,141447],[-2.93863e-07,141447],[-2.93863e-07,0],[-2.93863e-07,0],[-2.93863e-07,1.27302e+06],[-1.52467e-07,1.27302e+06],[-1.52467e-07,0],[-1.52467e-07,0],[-1.52467e-07,1.90954e+06],[-1.10715e-08,1.90954e+06],[-1.10715e-08,0],[-1.10715e-08,0],[-1.10715e-08,1.69737e+06],[1.30324e-07,1.69737e+06],[1.30324e-07,0],[1.30324e-07,0],[1.30324e-07,1.06085e+06],[2.7172e-07,1.06085e+06],[2.7172e-07,0],[2.7172e-07,0],[2.7172e-07,282894],[4.13115e-07,282894],[4.13115e-07,0],[4.13115e-07,0],[4.13115e-07,212171],[5.54511e-07,212171],[5.54511e-07,0],[5.54511e-07,0],[5.54511e-07,141447],[6.95906e-07,141447],[6.95906e-07,0],[6.95906e-07,0],[6.95906e-07,141447],[8.37302e-07,141447],[8.37302e-07,0],[8.37302e-07,0],[8.37302e-07,141447],[9.78698e-07,141447],[9.78698e-07,0],[9.78698e-07,0],[9.78698e-07,0],[1.12009e-06,0],[1.12009e-06,0],[1.12009e-06,0],[1.12009e-06,0],[1.26149e-06,0],[1.26149e-06,0],[1.26149e-06,0],[1.26149e-06,0],[1.40288e-06,0],[1.40288e-06,0],[1.40288e-06,0],[1.40288e-06,0],[1.54428e-06,0],[1.54428e-06,0],[1.54428e-06,0],[1.54428e-06,0],[1.68568e-06,0],[1.68568e-06,0],[1.68568e-06,0],[1.68568e-06,70723.6],[1.82707e-06,70723.6],[1.82707e-06,0],[1.82707e-06,0],[1.89777e-06,0]] color=red fillStyle=solid lineStyle=solid pointStyle=none lineWidth=2]"
      ]
     },
     "execution_count": 15,
     "metadata": {},
     "output_type": "execute_result"
    }
   ],
   "source": [
    "r = val.getResidualSample()\n",
    "ot.HistogramFactory().build(r).drawPDF()"
   ]
  },
  {
   "cell_type": "markdown",
   "metadata": {},
   "source": [
    "La méthode `drawValidation` permet de comparer les données observées et les prédictions du méta-modèle. \n",
    "\n",
    "On observe que les croix rouges sont à proximité de la première bissectrice : cela montre que le méta-modèle est plutôt de bonne qualité. Toutefois, pour les grandes déviations, les points rouges sont plus éloignées de la première bissectrice : le métamodèle est moins bon pour les grandes déviations."
   ]
  },
  {
   "cell_type": "code",
   "execution_count": 16,
   "metadata": {
    "scrolled": false
   },
   "outputs": [
    {
     "data": {
      "image/png": "[encoded data removed]",
      "text/plain": [
       "class=GridLayout name=Unnamed nbRows=1 nbColumns=1 graphCollection=[class=Graph name=Unnamed implementation=class=GraphImplementation name=Unnamed title= xTitle=model 0 yTitle=metamodel axes=ON grid=ON legendposition= legendFontSize=1 drawables=[class=Drawable name=Unnamed implementation=class=Curve name=Unnamed derived from class=DrawableImplementation name=Unnamed legend= data=class=Sample name=Unnamed implementation=class=SampleImplementation name=Unnamed size=2 dimension=2 data=[[4.94557e-06,4.94557e-06],[2.83571e-05,2.83571e-05]] color=red fillStyle=solid lineStyle=solid pointStyle=none lineWidth=1,class=Drawable name=Unnamed implementation=class=Cloud name=Unnamed derived from class=DrawableImplementation name=Unnamed legend= data=class=Sample name=Unnamed implementation=class=SampleImplementation name=Unnamed size=100 dimension=2 data=[[1.78983e-05,1.75986e-05],[1.77708e-05,1.75014e-05],[1.10305e-05,1.10658e-05],[9.31764e-06,9.44881e-06],[2.21889e-05,2.17641e-05],[1.21708e-05,1.20738e-05],[9.51877e-06,9.77889e-06],[1.69315e-05,1.68941e-05],[1.25761e-05,1.2741e-05],[1.47823e-05,1.49572e-05],[1.76576e-05,1.70254e-05],[1.05346e-05,1.07421e-05],[7.87126e-06,8.00846e-06],[1.36862e-05,1.32204e-05],[1.62481e-05,1.60858e-05],[2.11963e-05,2.02727e-05],[1.48504e-05,1.48573e-05],[1.44323e-05,1.43987e-05],[1.04548e-05,1.04544e-05],[1.39994e-05,1.40274e-05],[1.13404e-05,1.14972e-05],[1.03543e-05,1.04284e-05],[1.22283e-05,1.21324e-05],[9.7339e-06,9.66155e-06],[1.12305e-05,1.12464e-05],[8.81096e-06,8.8073e-06],[1.28075e-05,1.28787e-05],[7.55682e-06,7.54819e-06],[2.83571e-05,2.65301e-05],[1.37029e-05,1.35916e-05],[7.07332e-06,7.18564e-06],[1.47363e-05,1.48053e-05],[1.33545e-05,1.30921e-05],[7.05078e-06,7.32556e-06],[1.39672e-05,1.37498e-05],[9.44913e-06,9.44461e-06],[8.80495e-06,8.97291e-06],[1.56387e-05,1.55681e-05],[1.8175e-05,1.7459e-05],[1.25982e-05,1.27013e-05],[1.55418e-05,1.52876e-05],[1.14735e-05,1.14965e-05],[1.4079e-05,1.41836e-05],[1.15909e-05,1.15393e-05],[1.02259e-05,1.03639e-05],[1.66781e-05,1.6038e-05],[1.36198e-05,1.36937e-05],[1.11727e-05,1.11868e-05],[8.92268e-06,9.15853e-06],[8.28604e-06,8.60179e-06],[1.61259e-05,1.61852e-05],[1.34781e-05,1.35315e-05],[1.83588e-05,1.82144e-05],[7.51476e-06,7.73997e-06],[1.25584e-05,1.24226e-05],[1.37924e-05,1.39223e-05],[2.41856e-05,2.32099e-05],[1.22869e-05,1.20564e-05],[8.9332e-06,8.93537e-06],[1.39092e-05,1.40098e-05],[5.8085e-06,5.8243e-06],[1.42921e-05,1.43997e-05],[1.85721e-05,1.83273e-05],[6.47154e-06,6.37432e-06],[1.08516e-05,1.10303e-05],[1.01189e-05,9.97975e-06],[1.21272e-05,1.23947e-05],[1.39636e-05,1.39713e-05],[1.28893e-05,1.28277e-05],[9.34492e-06,9.33237e-06],[1.97852e-05,1.92477e-05],[1.72431e-05,1.74319e-05],[9.98008e-06,9.86495e-06],[1.34853e-05,1.37429e-05],[1.73554e-05,1.70804e-05],[6.69091e-06,6.59536e-06],[2.05975e-05,2.02255e-05],[1.85548e-05,1.83858e-05],[1.66274e-05,1.66037e-05],[1.13916e-05,1.16217e-05],[1.23127e-05,1.2124e-05],[1.30889e-05,1.31498e-05],[1.45509e-05,1.46206e-05],[1.08005e-05,1.08682e-05],[1.34934e-05,1.35846e-05],[1.42104e-05,1.43788e-05],[1.15928e-05,1.12277e-05],[1.10793e-05,1.10597e-05],[9.40623e-06,9.57621e-06],[9.62371e-06,9.65844e-06],[1.38066e-05,1.40198e-05],[1.78123e-05,1.70697e-05],[1.85035e-05,1.82655e-05],[1.34301e-05,1.37091e-05],[1.65977e-05,1.65216e-05],[1.39801e-05,1.37503e-05],[8.03714e-06,8.08799e-06],[1.12365e-05,1.11146e-05],[4.94557e-06,5.38083e-06],[6.84356e-06,6.69744e-06]] color=blue fillStyle=solid lineStyle=solid pointStyle=plus lineWidth=1]]"
      ]
     },
     "execution_count": 16,
     "metadata": {},
     "output_type": "execute_result"
    }
   ],
   "source": [
    "graph = val.drawValidation()\n",
    "graph.setTitle(\"n = %d, Q2=%.4f\" % (sampleSize_test, Q2))\n",
    "graph"
   ]
  },
  {
   "cell_type": "markdown",
   "metadata": {},
   "source": [
    "## Annexe : coefficient de prédictivité\n",
    "\n",
    "Le facteur de prédictivité $Q_2$ est un coefficient qui mesure la qualité d'un méta-modèle. \n",
    "* C'est un nombre entre 0 et 1.\n",
    "* Si Q2 est proche de 1, alors le métamodèle est excellent.\n",
    "* Si Q2 est proche de 0, alors le métamodèle est une mauvaise approximation de la fonction.\n",
    "\n",
    "En pratique, un $Q_2$ supérieur à 0.95 est qualifié de satisfaisant. \n",
    "\n",
    "On suppose que l'on dispose de $n$ entrées de validation $\\boldsymbol{x}_i$ ainsi que des observations $y_i$ correspondantes. On note $M$ le méta-modèle. \n",
    "Soit $\\bar{y}$ la moyenne des observations de validation :\n",
    "$$\n",
    "\\bar{y} = \\frac{1}{n} \\sum_{i=1}^{n} y_i\n",
    "$$\n",
    "Le coefficient $Q_2$ est défini par l'équation :\n",
    "$$\n",
    "Q_2 = 1 - \\frac{\\sum_{i=1}^{n} (y_i - M(\\boldsymbol{x}_i))^2}{\\sum_{i=1}^{n} (y_i - \\bar{y})^2}.\n",
    "$$"
   ]
  },
  {
   "cell_type": "markdown",
   "metadata": {},
   "source": [
    "## Exercices\n",
    "\n",
    "### Exercice 1 : sensibilité à la taille de l'échantillon d'apprentissage\n",
    "\n",
    "On s'interroge sur l'évolution de la qualité du métamodèle lorsque le nombre de points dans le plan d'expériences augmente. \n",
    "\n",
    "**Questions**\n",
    "* Modifier le plan d'expériences utilisé pour apprendre le méta-modèle : utiliser `sampleSize_train = 100`. \n",
    "* Mettre à jour le métamodèle de krigeage. \n",
    "* Comment évolue le coefficient de prédictivité ?\n",
    "* Pourquoi ?\n",
    "\n",
    "### Exercice 2 : utilisation d'une tendance\n",
    "\n",
    "Il y a trois classes qui permettent de créer des modèles de tendance.\n",
    "* `ConstantBasisFactory` : tendance constante\n",
    "* `LinearBasisFactory` : tendance linéaire\n",
    "* `QuadraticBasisFactory` : tendance quadratique\n",
    "\n",
    "**Questions**\n",
    "* Mettre à jour la tendance du modèle et utiliser une tendance linéaire. \n",
    "* Quelle est la tendance estimée par la méthode du maximum de vraisemblance ?\n",
    "* Quel est l'impact sur la qualité du méta-modèle ?\n",
    "\n",
    "### Exercice 3 : nombre d'observations et nombre de paramètres\n",
    "\n",
    "On souhaite vérifier que le nombre d'observations est suffisant pour estimer correctement les paramètres. \n",
    "\n",
    "* Calculer le nombre de paramètres estimés dans le krigeage. Pour cela, faire la somme du nombre de paramètres de la tendance et du noyau de covariance.\n",
    "* Calculer le nombre d'observations dans le plan d'expériences. \n",
    "* Calculer le ratio entre le nombre d'observations et le nombre de paramètres. \n",
    "* La taille du plan d'expériences est-elle suffisante pour estimer les paramètres ?\n",
    "\n",
    "### Exercice 4 : distribution des résidus\n",
    "\n",
    "On souhaite valider la qualité du métamodèle. Nous avons vu comment récupérer les résidus avec la classe `getResidualSample` et tracer l'histogramme de ces résidus avec la classe `HistogramFactory`. Il s'avère que l'on peut récupérer directement la distribution des résidus avec \n",
    "\n",
    "**Questions**\n",
    "* Utiliser la méthode `getResidualDistribution` pour obtenir la distribution des résidus.\n",
    "* Utiliser la méthode `drawPDF` pour dessiner la distribution des résidus.\n",
    "* Que conclure ?"
   ]
  },
  {
   "cell_type": "code",
   "execution_count": null,
   "metadata": {},
   "outputs": [],
   "source": []
  }
 ],
 "metadata": {
  "kernelspec": {
   "display_name": "Python 3 (ipykernel)",
   "language": "python",
   "name": "python3"
  },
  "language_info": {
   "codemirror_mode": {
    "name": "ipython",
    "version": 3
   },
   "file_extension": ".py",
   "mimetype": "text/x-python",
   "name": "python",
   "nbconvert_exporter": "python",
   "pygments_lexer": "ipython3",
   "version": "3.10.0"
  }
 },
 "nbformat": 4,
 "nbformat_minor": 2
}
