{
 "cells": [
  {
   "cell_type": "markdown",
   "metadata": {},
   "source": [
    "# Thème 6 - krigeage\n",
    "\n",
    "## Introduction\n",
    "\n",
    "L'objectif de cette séquence est de créer un métamodèle de type krigeage, c'est à dire un processus gaussien conditionné.\n",
    "\n",
    "## Vue d'ensemble\n",
    "\n",
    "- Rappels de cours et exercice sur les noyaux de covariance et les processus gaussiens : Processus-gaussiens.ipynb\n",
    "- Rappel de cours et exercice sur le krigeage : Krigeage.ipynb\n",
    "- Devoir à la maison : Exercice-Ishigami-Sujet.ipynb\n",
    "\n",
    "## Annexe\n",
    "\n",
    "* Un exemple de krigeage en 1D : Exemple de krigeage 1D.ipynb\n"
   ]
  }
 ],
 "metadata": {
  "kernelspec": {
   "display_name": "Python 3",
   "language": "python",
   "name": "python3"
  },
  "language_info": {
   "codemirror_mode": {
    "name": "ipython",
    "version": 3
   },
   "file_extension": ".py",
   "mimetype": "text/x-python",
   "name": "python",
   "nbconvert_exporter": "python",
   "pygments_lexer": "ipython3",
   "version": "3.7.4"
  }
 },
 "nbformat": 4,
 "nbformat_minor": 2
}
