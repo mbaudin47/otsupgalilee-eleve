{
 "cells": [
  {
   "cell_type": "markdown",
   "metadata": {},
   "source": [
    "# Thème 6 - krigeage\n",
    "\n",
    "## Introduction\n",
    "\n",
    "L'objectif de cette séquence est de créer un métamodèle de type krigeage, c'est à dire un processus gaussien conditionné.\n",
    "\n",
    "## Vue d'ensemble\n",
    "\n",
    "- Rappels de cours et exercice sur les noyaux de covariance et les processus gaussiens : Exercice-Processus-gaussiens.ipynb\n",
    "- Rappel de cours et exercice sur le krigeage : Exercice-Krigeage.ipynb\n",
    "- Devoir à la maison : Devoir-Ishigami-Sujet.ipynb\n",
    "\n",
    "## Annexe\n",
    "\n",
    "* Un exercice de krigeage séquentiel en 1D : Exercice-krigeage-1D.ipynb\n",
    "* Krigeage 1D : simuler des nouvelles trajectoires : Demo-krigeage-1D-simuler.ipynb\n",
    "* Demonstration of optimal design of experiments: Demo-Optimized-Sampling.ipynb\n"
   ]
  }
 ],
 "metadata": {
  "kernelspec": {
   "display_name": "Python 3",
   "language": "python",
   "name": "python3"
  },
  "language_info": {
   "codemirror_mode": {
    "name": "ipython",
    "version": 3
   },
   "file_extension": ".py",
   "mimetype": "text/x-python",
   "name": "python",
   "nbconvert_exporter": "python",
   "pygments_lexer": "ipython3",
   "version": "3.8.6"
  }
 },
 "nbformat": 4,
 "nbformat_minor": 2
}
