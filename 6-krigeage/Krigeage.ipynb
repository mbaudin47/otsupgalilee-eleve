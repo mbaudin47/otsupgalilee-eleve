{
 "cells": [
  {
   "cell_type": "markdown",
   "metadata": {},
   "source": [
    "# Faire un métamodèle de krigeage\n"
   ]
  },
  {
   "cell_type": "markdown",
   "metadata": {},
   "source": [
    "## Références\n",
    "\n",
    "http://openturns.github.io/openturns/master/theory/meta_modeling/kriging.html\n",
    "\n",
    "http://openturns.github.io/openturns/master/examples/meta_modeling/kriging.html\n",
    "\n",
    "[Formation ITECH, Introduction aux métamodèles (polynômes de chaos et krigeage) (ARN4889)\n",
    "14 septembre 2016, Copyright EDF 2015 - Géraud Blatman (EDF R&D/MMC) & Loïc Le Gratiet (EDF R&D/MRI)][1]\n",
    "\n",
    "[François Bachoc. Introduction to Gaussian-process based Kriging models for metamodeling and validation of computer codes. Seminar of the LRC MANON, INSTN Saclay, March 2014.][2]\n",
    "\n",
    "[C. E. Rasmussen & C. K. I. Williams, Gaussian Processes for Machine Learning, the MIT Press, 2006,\n",
    "ISBN 026218253X. 2006 Massachusetts Institute of Technology.][3]\n",
    "\n",
    "[François Bachoc. Parametric estimation of covariance function in Gaussian-process based Kriging models. Application to uncertainty quantification for computer experiments. Thèse de l'université Paris-Diderot, 2013.][4]\n",
    "\n",
    "[Loïc Le Gratiet. Multi-fidelity Gaussian process regression for computer experiments. Thèse de l'université Paris-Diderot, 2013.][5]\n",
    "\n",
    "[1]: https://forge.pleiade.edf.fr/documents/317\n",
    "[2]: https://www.math.univ-toulouse.fr/~fbachoc/LRC_Manon_2014.pdf\n",
    "[3]: www.GaussianProcess.org/gpml\n",
    "[4]: https://tel.archives-ouvertes.fr/tel-00881002/\n",
    "[5]: https://tel.archives-ouvertes.fr/tel-00866770"
   ]
  },
  {
   "cell_type": "markdown",
   "metadata": {},
   "source": [
    "## Rappels méthodologiques\n",
    "\n",
    "### Krigeage\n",
    "\n",
    "On considère une fonction $G$ :\n",
    "$$\n",
    "y = G(\\boldsymbol{x})\n",
    "$$\n",
    "pour tout $\\boldsymbol{x}\\in\\mathbb{R}^d$. Dans ce document, on considère que la sortie du code de calcul $y\\in\\mathbb{R}$ est scalaire. \n",
    "\n",
    "Le krigeage est une technique permettant de créer un métamodèle de la fonction G. Il est fondé sur les processus gaussiens et c'est pourquoi on nomme parfois cette technique *régression par processus gaussien*.\n",
    "\n",
    "En d'autres termes, le krigeage consiste à modéliser Z par un processus gaussien de moyenne $m$ et de covariance $k$ :\n",
    "$$\n",
    "Z(\\boldsymbol{x}) = PG\\left(m(\\boldsymbol{x}),k(\\boldsymbol{x}, \\boldsymbol{x}')\\right)\n",
    "$$\n"
   ]
  },
  {
   "cell_type": "markdown",
   "metadata": {},
   "source": [
    "### Modèle de tendance\n",
    "\n",
    "Pour définir la moyenne du processus gaussien, on fait le choix d'une base de fonctions \n",
    "$$\n",
    "\\boldsymbol{f} = (f_1,...,f_p)\n",
    "$$\n",
    "où $p$ est le nombre de fonctions de base. \n",
    "Si les paramètres $\\boldsymbol{\\beta}\\in\\mathbb{R}^p$ sont connus, alors la moyenne est choisie sous la forme d'un modèle linéaire généralisé :\n",
    "$$\n",
    "\\boldsymbol{m}(\\boldsymbol{x}) = \\boldsymbol{f}(\\boldsymbol{x})^T \\boldsymbol{\\beta}\n",
    "$$\n",
    "\n",
    "_Remarque :_ on parle de *krigeage simple* lorsque la moyenne est supposée connue, de *krigeage ordinaire* lorsque la moyenne est inconnue mais supposée constante, sinon de *krigeage universel*. \n",
    "\n",
    "### Modèle de covariance\n",
    "\n",
    "La fonction de covariance contrôle notamment la régularité du processus gaussien (continuité et différentiabilité de ses trajectoires ou en moyenne quadratique).\n",
    "\n",
    "Pour définir la covariance du processus gaussien, on fait le choix d'une fonction de corrélation $r$ de la forme :\n",
    "$$\n",
    "k(\\boldsymbol{x}, \\boldsymbol{x}') = \\sigma^2 r(\\boldsymbol{x}, \\boldsymbol{x}',\\boldsymbol{\\theta})\n",
    "$$\n",
    "où $\\sigma^2$ est la variance du processus gaussien et $\\boldsymbol{\\theta} \\in\\mathbb{R}^d$."
   ]
  },
  {
   "cell_type": "markdown",
   "metadata": {},
   "source": [
    "### Régression par processus gaussien : principe\n",
    "\n",
    "Dans la suite, nous considérons le krigeage associé à des observations $\\boldsymbol{y}$ non bruitées.\n",
    "\n",
    "Deux étapes peuvent être distinguées dans le krigeage :\n",
    "* (1) l'estimation des paramètres $\\boldsymbol{\\beta}$, $\\sigma$ et $\\boldsymbol{\\theta}$;\n",
    "* (2) le conditionnement du processus par les données $\\boldsymbol{y}$.\n",
    "\n",
    "#### Étape (1) : estimation des (hyper)paramètres\n",
    "\n",
    "Une approche rencontrée dans la littérature, appelée *bayesian kriging* ou *full bayesian kriging*, consiste à traiter les variables $\\boldsymbol{\\beta}$, $\\sigma$ ou $\\boldsymbol{\\theta}$ comme des paramètres incertains que l'on associe à une distribution de probabilité a priori.\n",
    "Dans OpenTURNS, ces variables sont simplement considérées comme des paramètres à estimer à partir de données censées provenir d'une même réalisation (de la même trajectoire) d'un processus gaussien. Cela est réalisé suivant le principe du maximum de vraisemblance.\n",
    "\n",
    "La résolution de ce problème d'optimisation (le MV) peut poser des difficultés. Dans ce cas, on peut soit tenter de fournir à OpenTURNS des meilleures valeurs initiales, soit configurer la résolution du problème de manière plus fine en intervenant dans les objets de plus bas niveau.\n",
    "\n",
    "#### Étape (2) : conditionnement\n",
    "\n",
    "Nous nous limitons ci-dessous à une présentation du conditionnement (2) lorsque les paramètres $\\boldsymbol{\\beta}$, $\\sigma$ et $\\boldsymbol{\\theta}$ sont connus (krigeage simple) et que l'on souhaite simplement\n",
    "une prédiction en une unique point $\\boldsymbol{x}\\in\\mathcal{D}$.\n",
    "\n",
    "Faisons l'hypothèse que l'on connaît les valeurs de la fonction sur un plan d'expériences $\\boldsymbol{x}^{(i)}$ pour $i=1,...,n$ où $n$ est le nombre de simulations. Pour chacune de ces entrées, on suppose que l'on connaît la valeur de la sortie scalaire $y^{(i)}$\n",
    "pour $i=1,...,n$. On note $\\boldsymbol{y} = (y_1,...,y_n)^T$ le vecteur des sorties observées. \n",
    "\n",
    "Notons $F$ la matrice de conception associée aux fonctions de base :\n",
    "$$\n",
    "F = \\left[ f_j\\left(\\boldsymbol{x}^{(i)}\\right),\\quad i=1,...,n, \\quad j=1,...,p \\right].\n",
    "$$\n",
    "\n",
    "Notons $R$ la matrice de correlation associée au noyau de corrélation :\n",
    "$$\n",
    "R = \\left[ r\\left(\\boldsymbol{x}^{(i)},\\boldsymbol{x}^{(j)},\\boldsymbol{\\theta}\\right),\\quad i,j=1,...,n \\right]\n",
    "$$\n",
    "\n",
    "Considérons un nouveau point $\\boldsymbol{x} \\in \\mathbb{R}^{d}$ correspondant à une sortie $y$ inconnue.\n",
    "Notons $\\boldsymbol{r}(\\boldsymbol{x})$ le vecteur des corrélation entre le point $\\boldsymbol{x}$ et les points du plan d'expériences :\n",
    "$$\n",
    "\\boldsymbol{r}(\\boldsymbol{x}) = \\left[r\\left(\\boldsymbol{x},\\boldsymbol{x}^{(i)},\\boldsymbol{\\theta}\\right),\\quad i=1,...,n \\right]^T\n",
    "$$\n",
    "\n",
    "On peut démontrer que le vecteur aléatoire associé aux observations $\\boldsymbol{Y}$ et la variable aléatoire $Y(\\boldsymbol{x})$ sont liés par une loi normale :\n",
    "\n",
    "$$\n",
    "\\begin{pmatrix}\n",
    "\\boldsymbol{Y} \\\\\n",
    "Y(\\boldsymbol{x})\n",
    "\\end{pmatrix}\n",
    "= \n",
    "\\mathcal{N}\n",
    "\\left(\n",
    "\\begin{pmatrix}\n",
    "F \\boldsymbol{\\beta} \\\\\n",
    "\\boldsymbol{f(x)}^T \\boldsymbol{\\beta}\n",
    "\\end{pmatrix}\n",
    ",\n",
    "\\sigma^2 \n",
    "\\begin{pmatrix}\n",
    "R & \\boldsymbol{r}(\\boldsymbol{x}) \\\\\n",
    "\\boldsymbol{r}(\\boldsymbol{x})^T & 1 \\\\\n",
    "\\end{pmatrix}\n",
    "\\right)\n",
    "$$\n",
    "\n",
    "Le modèle prédictif est donné par loi de $Z(\\boldsymbol{x})$ conditionnée par les observations connues du code :\n",
    "$$\n",
    "\\tilde{Y}(\\boldsymbol{x}) = \\left[ \\boldsymbol{Y}(\\boldsymbol{x}) \n",
    "| \\boldsymbol{Y} = \\boldsymbol{y}, \n",
    "\\boldsymbol{\\theta} = \\boldsymbol{\\theta}, \n",
    "\\boldsymbol{\\sigma} = \\boldsymbol{\\sigma} \\right].\n",
    "$$\n",
    "\n",
    "On peut démontrer que $\\tilde{\\boldsymbol{Y}}(\\boldsymbol{x})$ est également une variable aléatoire gaussienne :\n",
    "$$\n",
    "\\tilde{Y}(\\boldsymbol{x}) \\sim \\mathcal{N} \\left( \\mu_{\\tilde{Y}}(\\boldsymbol{x}) , \\sigma_{\\tilde{Y}}(\\boldsymbol{x})^2 \\right)\n",
    "$$\n",
    "où la moyenne $\\mu_{\\tilde{Y}}(\\boldsymbol{x})$ et la variance $\\sigma_{\\tilde{Y}}(\\boldsymbol{x})^2$ s'écrivent de manière explicite (voir la propriété de conditionnement des processus gaussiens dans le précédent *notebook*).\n",
    "\n",
    "Les calculs liés au conditionnement n'impliquent que la résolution de systèmes d'équations linéaires. \n",
    "Néanmoins, si $n$ est grand (par exemple $n=10000$), alors la matrice de corrélation $R$ est de taille $n\\times n$, ce qui peut poser des difficultés de performance, voire de mémoire. Pour résoudre ce problème, une alternative consiste à utiliser des techniques de compression de matrices, comme par exemple la technique des H-mat utilisée par OpenTURNS.\n",
    "\n",
    "#### Remarque\n",
    "\n",
    "Dans le cas du krigeage universel et d'une fonction de covariance à estimer, la définition de la fonction de covariance conditionnée est en fait modifiée pour tenir compte de l'incertitude sur $\\boldsymbol{\\beta}$."
   ]
  },
  {
   "cell_type": "markdown",
   "metadata": {},
   "source": [
    "## Le krigeage dans OpenTURNS\n",
    "\n",
    "### Le modèle de déviation de la poutre encastrée\n",
    "\n",
    "Dans l'exemple qui suit, on considère le modèle de déviation de la poutre encastrée. Dans ce modèle, on considère 4 variables aléatoires liées par une copule Gaussienne. \n",
    "\n",
    "<img src=\"poutre.png\" width=\"300px\">\n",
    "\n",
    "On considère 4 variables aléatoires :\n",
    " - E : le module d'Young [Pa]\n",
    " - F : la force appliquée [N]\n",
    " - L : la longueur [m]\n",
    " - I : le moment d'inertie de la poutre [m^4]\n",
    "\n",
    "La déviation verticale de la poutre sous l'effet de la force appliquée est modélisée par l'équation :\n",
    "$$\n",
    "y = \\frac{FL^3}{3EI}\n",
    "$$\n",
    "\n",
    "On considère les lois de probabilité suivantes :\n",
    "\n",
    "|Variable|  Distribution|\n",
    "| ------------- |-------------|\n",
    "|E| Beta(alpha = 0.9, beta = 2.2, a = $2.5\\times 10^7$, $b = 5\\times 10^7$) |\n",
    "|F| Lognormal($\\mu_F=3 \\times 10^4$, $\\sigma_F=9\\times 10^3$, shift=$15\\times 10^3$)|\n",
    "|L| Uniform(min=250.0, max= 260.0)|\n",
    "|I| Beta(alpha = 2.5, beta = 1.5, a = 310, b = 450)|\n",
    " \n",
    "On fait l'hypothèse que les variables aléatoires E, F, L et I sont liées par une copule Gaussienne dont la matrice de corrélation est :\n",
    "$$\n",
    "R = \n",
    "\\begin{pmatrix}\n",
    "1 & 0 & 0 & 0 \\\\\n",
    "0 & 1 & 0 & 0 \\\\\n",
    "0 & 0 & 1 & -0.2 \\\\\n",
    "0 & 0 & -0.2 & 1\n",
    "\\end{pmatrix}\n",
    "$$\n",
    "\n",
    "En d'autres termes, on considère que les variables L et I sont corrélées négativement : lorsque la longueur L augmente, le moment d'inertie I diminue. \n",
    "\n",
    "On créé un méta-modèle de krigeage fondé sur un modèle exponentiel carré. Pour estimer le métamodèle, nous allons utiliser un plan d'expériences de taille 20. "
   ]
  },
  {
   "cell_type": "markdown",
   "metadata": {},
   "source": [
    "### Définition du modèle"
   ]
  },
  {
   "cell_type": "code",
   "execution_count": 1,
   "metadata": {},
   "outputs": [],
   "source": [
    "import openturns as ot"
   ]
  },
  {
   "cell_type": "markdown",
   "metadata": {},
   "source": [
    "Etape A : définition du modèle. Nous commençons par définir une fonction symbolique qui évalue la sortie y en fonction des entrées E, F, L et I."
   ]
  },
  {
   "cell_type": "code",
   "execution_count": 2,
   "metadata": {},
   "outputs": [],
   "source": [
    "model = ot.SymbolicFunction([\"E\", \"F\", \"L\", \"I\"], [\"F*L^3/(3*E*I)\"])"
   ]
  },
  {
   "cell_type": "markdown",
   "metadata": {},
   "source": [
    "Etape B : définition des distributions du vecteur aléatoire en entrée. Nous définissons ensuite les lois de distribution des variables aléatoires E, F, L et I."
   ]
  },
  {
   "cell_type": "code",
   "execution_count": 3,
   "metadata": {},
   "outputs": [],
   "source": [
    "# Young's modulus E: beta distribution\n",
    "E = ot.Beta(0.9, 2.2, 2.8e7, 4.8e7)\n",
    "E.setDescription(\"E\")\n",
    "# Load F: lognormal distribution\n",
    "F = ot.LogNormal() # in N\n",
    "F.setParameter(ot.LogNormalMuSigma()([3e4, 9e3, 0.]))\n",
    "F.setDescription(\"F\")\n",
    "# Length L: uniform distribution\n",
    "L = ot.Uniform(2.5, 2.6) # in m\n",
    "L.setDescription(\"L\")\n",
    "# Moment of inertia I: beta distribution\n",
    "I = ot.Beta(2.5, 1.5, 310.0, 450.0) # in cm^4\n",
    "I.setDescription(\"I\")"
   ]
  },
  {
   "cell_type": "markdown",
   "metadata": {},
   "source": [
    "Puis on définit la dépendance entre les variables d'entrée en créant une copule Gaussienne avec la classe `NormalCopula`."
   ]
  },
  {
   "cell_type": "code",
   "execution_count": 4,
   "metadata": {},
   "outputs": [],
   "source": [
    "dim = 4 # number of inputs\n",
    "R = ot.CorrelationMatrix(dim)\n",
    "R[2, 3] = -0.2 \n",
    "myCopula = ot.NormalCopula(ot.NormalCopula.GetCorrelationFromSpearmanCorrelation(R))\n",
    "myDistribution = ot.ComposedDistribution([E, F, L, I], myCopula)"
   ]
  },
  {
   "cell_type": "markdown",
   "metadata": {},
   "source": [
    "### Définition d'un plan d'expériences"
   ]
  },
  {
   "cell_type": "markdown",
   "metadata": {},
   "source": [
    "Nous considérons un plan d'expériences de type Monte-Carlo simple. Pour cela, on génère un échantillon des entrées grâce à la méthode `getSample`. Puis nous évaluons la sortie en appelant la fonction `model`."
   ]
  },
  {
   "cell_type": "code",
   "execution_count": 5,
   "metadata": {},
   "outputs": [],
   "source": [
    "sampleSize_train = 20\n",
    "X_train = myDistribution.getSample(sampleSize_train)\n",
    "Y_train = model(X_train)"
   ]
  },
  {
   "cell_type": "markdown",
   "metadata": {},
   "source": [
    "Observons la distribution des déviations verticales Y sur la base d'apprentissage. On observe que les déviations plus grandes sont moins fréquentes. "
   ]
  },
  {
   "cell_type": "code",
   "execution_count": 6,
   "metadata": {},
   "outputs": [
    {
     "data": {
      "image/png": "[encoded data removed]",
      "text/plain": [
       "class=Graph name=sample histogram implementation=class=GraphImplementation name=sample histogram title=Histogramme des déviations verticales xTitle=Déviation verticale (m) yTitle=frequency axes=ON grid=ON legendposition=topright legendFontSize=1 drawables=[class=Drawable name=Unnamed implementation=class=Curve name=Unnamed derived from class=DrawableImplementation name=Unnamed legend= data=class=Sample name=Unnamed implementation=class=SampleImplementation name=Unnamed size=20 dimension=2 data=[[4.68474e-06,0],[6.32607e-06,0],[6.32607e-06,0],[6.32607e-06,76158],[9.60872e-06,76158],[9.60872e-06,0],[9.60872e-06,0],[9.60872e-06,121853],[1.28914e-05,121853],[1.28914e-05,0],[1.28914e-05,0],[1.28914e-05,60926.4],[1.6174e-05,60926.4],[1.6174e-05,0],[1.6174e-05,0],[1.6174e-05,45694.8],[1.94567e-05,45694.8],[1.94567e-05,0],[1.94567e-05,0],[2.1098e-05,0]] color=red fillStyle=solid lineStyle=solid pointStyle=none lineWidth=2]"
      ]
     },
     "execution_count": 6,
     "metadata": {},
     "output_type": "execute_result"
    }
   ],
   "source": [
    "histo = ot.HistogramFactory().build(Y_train).drawPDF()\n",
    "histo.setXTitle(\"Déviation verticale (m)\")\n",
    "histo.setTitle(\"Histogramme des déviations verticales\")\n",
    "histo.setLegends([\"\"])\n",
    "histo"
   ]
  },
  {
   "cell_type": "markdown",
   "metadata": {},
   "source": [
    "### Création du méta-modèle"
   ]
  },
  {
   "cell_type": "markdown",
   "metadata": {},
   "source": [
    "Pour créer le krigeage, on choisit une tendance constante avec la classe `ConstantBasisFactory`. Puis on utilise un modèle de covariance de type exponentielle carrée. Enfin, on utilise la classe `KrigingAlgorithm` pour créer le krigeage en utilisant la base d'apprentissage, le modèle de covariance et la tendance."
   ]
  },
  {
   "cell_type": "code",
   "execution_count": 7,
   "metadata": {},
   "outputs": [],
   "source": [
    "dimension = myDistribution.getDimension()\n",
    "basis = ot.ConstantBasisFactory(dimension).build()\n",
    "covarianceModel = ot.SquaredExponential([1.]*dimension, [1.0])\n",
    "algo = ot.KrigingAlgorithm(X_train, Y_train, covarianceModel, basis)\n",
    "algo.run()\n",
    "result = algo.getResult()\n",
    "krigeageMM = result.getMetaModel()"
   ]
  },
  {
   "cell_type": "markdown",
   "metadata": {},
   "source": [
    "La méthode `run` a évalué les paramètres du modèle par la méthode du maximum de vraisemblance. \n",
    "\n",
    "On peut alors afficher la tendance constante du modèle."
   ]
  },
  {
   "cell_type": "code",
   "execution_count": 9,
   "metadata": {
    "scrolled": true
   },
   "outputs": [
    {
     "data": {
      "text/plain": [
       "[class=Point name=Unnamed dimension=1 values=[1.85896e-05]]"
      ]
     },
     "execution_count": 9,
     "metadata": {},
     "output_type": "execute_result"
    }
   ],
   "source": [
    "result.getTrendCoefficients()"
   ]
  },
  {
   "cell_type": "markdown",
   "metadata": {},
   "source": [
    "On peut également afficher les paramètres du modèle de covariance, estimés par la méthode du maximum de vraisemblance."
   ]
  },
  {
   "cell_type": "code",
   "execution_count": 10,
   "metadata": {},
   "outputs": [
    {
     "data": {
      "text/html": [
       "<p>SquaredExponential(scale=[5.62697,5.32869,7.19611,6.86906], amplitude=[8.56571e-06])</p>"
      ],
      "text/plain": [
       "class=SquaredExponential scale=class=Point name=Unnamed dimension=4 values=[5.62697,5.32869,7.19611,6.86906] amplitude=class=Point name=Unnamed dimension=1 values=[8.56571e-06]"
      ]
     },
     "execution_count": 10,
     "metadata": {},
     "output_type": "execute_result"
    }
   ],
   "source": [
    "result.getCovarianceModel()"
   ]
  },
  {
   "cell_type": "markdown",
   "metadata": {},
   "source": [
    "On souhaite ensuite valider le métamodèle de krigeage. Pour cela, on génère un échantillon de validation de taille 100 et on évalue la sortie du modèle sur cet échantillon."
   ]
  },
  {
   "cell_type": "code",
   "execution_count": 11,
   "metadata": {},
   "outputs": [],
   "source": [
    "sampleSize_test = 100\n",
    "X_test = myDistribution.getSample(sampleSize_test)\n",
    "Y_test = model(X_test)"
   ]
  },
  {
   "cell_type": "markdown",
   "metadata": {},
   "source": [
    "Sur l'échantillon de validation, on évalue les sorties du méta-modèle."
   ]
  },
  {
   "cell_type": "code",
   "execution_count": 12,
   "metadata": {},
   "outputs": [],
   "source": [
    "Y_test_MM = krigeageMM(X_test)"
   ]
  },
  {
   "cell_type": "markdown",
   "metadata": {},
   "source": [
    "La classe `MetaModelValidation` facilite le travail de validation d'un métamodèle. Pour la constuire, on lui donne les entrées de la base de validation, les sorties correspondantes et le métamodèle."
   ]
  },
  {
   "cell_type": "code",
   "execution_count": 13,
   "metadata": {},
   "outputs": [],
   "source": [
    "val = ot.MetaModelValidation(X_test, Y_test, krigeageMM)"
   ]
  },
  {
   "cell_type": "markdown",
   "metadata": {},
   "source": [
    "La méthode `computePredictivityFactor` permet d'estimer le coefficient $Q_2$."
   ]
  },
  {
   "cell_type": "code",
   "execution_count": 14,
   "metadata": {
    "scrolled": true
   },
   "outputs": [
    {
     "data": {
      "text/plain": [
       "0.9760064987044333"
      ]
     },
     "execution_count": 14,
     "metadata": {},
     "output_type": "execute_result"
    }
   ],
   "source": [
    "val.computePredictivityFactor()"
   ]
  },
  {
   "cell_type": "markdown",
   "metadata": {},
   "source": [
    "Puisque le $Q_2$ est supérieur à 0.95, on peut dire que c'est un très bon méta-modèle."
   ]
  },
  {
   "cell_type": "markdown",
   "metadata": {},
   "source": [
    "Il est intéressant de dessiner l'histogramme des résidus : on peut le faire avec la classe `HistogramFactory` appliquée à l'échantillon des résidus `r`. \n",
    "\n",
    "On observe que les résidus négatifs sont presque aussi fréquents que les résidus positifs : c'est plutôt un signe positif pour la qualité du métamodèle. Dans notre cas, la déviation verticale est plutôt petite, de l'ordre de $10^{-5}$. Cela implique qu'il n'est pas si simple de voir si, en valeur absolue, les résidus sont plutôt petits, ou non : le graphique que nous dessinerons par la suite est plus fiable de ce point de vue."
   ]
  },
  {
   "cell_type": "code",
   "execution_count": 15,
   "metadata": {},
   "outputs": [
    {
     "data": {
      "image/png": "[encoded data removed]",
      "text/plain": [
       "class=Graph name=sample histogram implementation=class=GraphImplementation name=sample histogram title=sample histogram xTitle=realizations yTitle=frequency axes=ON grid=ON legendposition=topright legendFontSize=1 drawables=[class=Drawable name=Unnamed implementation=class=Curve name=Unnamed derived from class=DrawableImplementation name=Unnamed legend=Unnamed histogram data=class=Sample name=Unnamed implementation=class=SampleImplementation name=Unnamed size=68 dimension=2 data=[[-1.64835e-06,0],[-1.47731e-06,0],[-1.47731e-06,0],[-1.47731e-06,29232.6],[-1.13522e-06,29232.6],[-1.13522e-06,0],[-1.13522e-06,0],[-1.13522e-06,58465.2],[-7.93141e-07,58465.2],[-7.93141e-07,0],[-7.93141e-07,0],[-7.93141e-07,292326],[-4.51057e-07,292326],[-4.51057e-07,0],[-4.51057e-07,0],[-4.51057e-07,789280],[-1.08973e-07,789280],[-1.08973e-07,0],[-1.08973e-07,0],[-1.08973e-07,847745],[2.33111e-07,847745],[2.33111e-07,0],[2.33111e-07,0],[2.33111e-07,467721],[5.75195e-07,467721],[5.75195e-07,0],[5.75195e-07,0],[5.75195e-07,175396],[9.17279e-07,175396],[9.17279e-07,0],[9.17279e-07,0],[9.17279e-07,58465.2],[1.25936e-06,58465.2],[1.25936e-06,0],[1.25936e-06,0],[1.25936e-06,116930],[1.60145e-06,116930],[1.60145e-06,0],[1.60145e-06,0],[1.60145e-06,0],[1.94353e-06,0],[1.94353e-06,0],[1.94353e-06,0],[1.94353e-06,58465.2],[2.28562e-06,58465.2],[2.28562e-06,0],[2.28562e-06,0],[2.28562e-06,0],[2.6277e-06,0],[2.6277e-06,0],[2.6277e-06,0],[2.6277e-06,0],[2.96978e-06,0],[2.96978e-06,0],[2.96978e-06,0],[2.96978e-06,0],[3.31187e-06,0],[3.31187e-06,0],[3.31187e-06,0],[3.31187e-06,0],[3.65395e-06,0],[3.65395e-06,0],[3.65395e-06,0],[3.65395e-06,29232.6],[3.99604e-06,29232.6],[3.99604e-06,0],[3.99604e-06,0],[4.16708e-06,0]] color=red fillStyle=solid lineStyle=solid pointStyle=none lineWidth=2]"
      ]
     },
     "execution_count": 15,
     "metadata": {},
     "output_type": "execute_result"
    }
   ],
   "source": [
    "r = val.getResidualSample()\n",
    "ot.HistogramFactory().build(r).drawPDF()"
   ]
  },
  {
   "cell_type": "markdown",
   "metadata": {},
   "source": [
    "La méthode `drawValidation` permet de comparer les données observées et les prédictions du méta-modèle. \n",
    "\n",
    "On observe que les croix rouges sont à proximité de la première bissectrice : cela montre que le méta-modèle est plutôt de bonne qualité. Toutefois, pour les grandes déviations, les points rouges sont plus éloignées de la première bissectrice : le métamodèle est moins bon pour les grandes déviations."
   ]
  },
  {
   "cell_type": "code",
   "execution_count": 16,
   "metadata": {
    "scrolled": false
   },
   "outputs": [
    {
     "data": {
      "image/png": "[encoded data removed]",
      "text/plain": [
       "class=Graph name=Metamodel validation implementation=class=GraphImplementation name=Metamodel validation title=Metamodel validation xTitle=model yTitle=metamodel axes=ON grid=ON legendposition=bottomright legendFontSize=1 drawables=[class=Drawable name=Unnamed implementation=class=Curve name=Unnamed derived from class=DrawableImplementation name=Unnamed legend=Model data=class=Sample name=Unnamed implementation=class=SampleImplementation name=Unnamed size=100 dimension=2 data=[[1.98826e-05,1.98826e-05],[1.93825e-05,1.93825e-05],[1.23426e-05,1.23426e-05],[9.90432e-06,9.90432e-06],[2.4288e-05,2.4288e-05],[1.35937e-05,1.35937e-05],[1.03429e-05,1.03429e-05],[1.82748e-05,1.82748e-05],[1.38445e-05,1.38445e-05],[1.55267e-05,1.55267e-05],[1.97711e-05,1.97711e-05],[1.12818e-05,1.12818e-05],[8.01667e-06,8.01667e-06],[1.53221e-05,1.53221e-05],[1.79691e-05,1.79691e-05],[2.32509e-05,2.32509e-05],[1.63661e-05,1.63661e-05],[1.58015e-05,1.58015e-05],[1.13248e-05,1.13248e-05],[1.53071e-05,1.53071e-05],[1.22816e-05,1.22816e-05],[1.10524e-05,1.10524e-05],[1.27256e-05,1.27256e-05],[1.07431e-05,1.07431e-05],[1.20072e-05,1.20072e-05],[9.72838e-06,9.72838e-06],[1.3714e-05,1.3714e-05],[8.02323e-06,8.02323e-06],[3.11244e-05,3.11244e-05],[1.51964e-05,1.51964e-05],[7.45423e-06,7.45423e-06],[1.5859e-05,1.5859e-05],[1.47647e-05,1.47647e-05],[7.26386e-06,7.26386e-06],[1.3678e-05,1.3678e-05],[9.99135e-06,9.99135e-06],[9.64338e-06,9.64338e-06],[1.70112e-05,1.70112e-05],[2.00332e-05,2.00332e-05],[1.38582e-05,1.38582e-05],[1.69123e-05,1.69123e-05],[1.26525e-05,1.26525e-05],[1.48904e-05,1.48904e-05],[1.19502e-05,1.19502e-05],[1.13514e-05,1.13514e-05],[1.86718e-05,1.86718e-05],[1.47527e-05,1.47527e-05],[1.19098e-05,1.19098e-05],[9.9492e-06,9.9492e-06],[9.13734e-06,9.13734e-06],[1.70469e-05,1.70469e-05],[1.43371e-05,1.43371e-05],[2.01829e-05,2.01829e-05],[7.73516e-06,7.73516e-06],[1.38312e-05,1.38312e-05],[1.40398e-05,1.40398e-05],[2.63091e-05,2.63091e-05],[1.36881e-05,1.36881e-05],[9.56828e-06,9.56828e-06],[1.51459e-05,1.51459e-05],[6.1851e-06,6.1851e-06],[1.55629e-05,1.55629e-05],[2.06875e-05,2.06875e-05],[6.91076e-06,6.91076e-06],[1.19588e-05,1.19588e-05],[1.02434e-05,1.02434e-05],[1.2923e-05,1.2923e-05],[1.49633e-05,1.49633e-05],[1.43615e-05,1.43615e-05],[9.90255e-06,9.90255e-06],[2.20948e-05,2.20948e-05],[1.85199e-05,1.85199e-05],[1.01718e-05,1.01718e-05],[1.44774e-05,1.44774e-05],[1.89357e-05,1.89357e-05],[7.13196e-06,7.13196e-06],[2.2814e-05,2.2814e-05],[1.98843e-05,1.98843e-05],[1.79792e-05,1.79792e-05],[1.24399e-05,1.24399e-05],[1.3528e-05,1.3528e-05],[1.4149e-05,1.4149e-05],[1.5431e-05,1.5431e-05],[1.09835e-05,1.09835e-05],[1.44106e-05,1.44106e-05],[1.5548e-05,1.5548e-05],[1.16271e-05,1.16271e-05],[1.21409e-05,1.21409e-05],[1.00988e-05,1.00988e-05],[1.03677e-05,1.03677e-05],[1.45786e-05,1.45786e-05],[1.99379e-05,1.99379e-05],[2.04872e-05,2.04872e-05],[1.48969e-05,1.48969e-05],[1.79482e-05,1.79482e-05],[1.5464e-05,1.5464e-05],[8.83869e-06,8.83869e-06],[1.24976e-05,1.24976e-05],[4.94645e-06,4.94645e-06],[7.07021e-06,7.07021e-06]] color=blue fillStyle=solid lineStyle=solid pointStyle=none lineWidth=1,class=Drawable name=Unnamed implementation=class=Cloud name=Unnamed derived from class=DrawableImplementation name=Unnamed legend=MetaModel data=class=Sample name=Unnamed implementation=class=SampleImplementation name=Unnamed size=100 dimension=2 data=[[1.98826e-05,1.92994e-05],[1.93825e-05,1.87555e-05],[1.23426e-05,1.23171e-05],[9.90432e-06,1.02392e-05],[2.4288e-05,2.33052e-05],[1.35937e-05,1.36426e-05],[1.03429e-05,1.10487e-05],[1.82748e-05,1.81621e-05],[1.38445e-05,1.41977e-05],[1.55267e-05,1.59169e-05],[1.97711e-05,1.84355e-05],[1.12818e-05,1.18822e-05],[8.01667e-06,8.46049e-06],[1.53221e-05,1.44214e-05],[1.79691e-05,1.77323e-05],[2.32509e-05,2.12539e-05],[1.63661e-05,1.63715e-05],[1.58015e-05,1.56814e-05],[1.13248e-05,1.12507e-05],[1.53071e-05,1.53346e-05],[1.22816e-05,1.27108e-05],[1.10524e-05,1.12914e-05],[1.27256e-05,1.2533e-05],[1.07431e-05,1.06917e-05],[1.20072e-05,1.1999e-05],[9.72838e-06,9.7087e-06],[1.3714e-05,1.39237e-05],[8.02323e-06,8.06332e-06],[3.11244e-05,2.71283e-05],[1.51964e-05,1.49814e-05],[7.45423e-06,7.79805e-06],[1.5859e-05,1.60008e-05],[1.47647e-05,1.41991e-05],[7.26386e-06,8.13304e-06],[1.3678e-05,1.33856e-05],[9.99135e-06,9.96158e-06],[9.64338e-06,1.0131e-05],[1.70112e-05,1.68249e-05],[2.00332e-05,1.85327e-05],[1.38582e-05,1.40487e-05],[1.69123e-05,1.63426e-05],[1.26525e-05,1.26169e-05],[1.48904e-05,1.52519e-05],[1.19502e-05,1.20534e-05],[1.13514e-05,1.15851e-05],[1.86718e-05,1.73073e-05],[1.47527e-05,1.49155e-05],[1.19098e-05,1.18932e-05],[9.9492e-06,1.04925e-05],[9.13734e-06,9.87329e-06],[1.70469e-05,1.7169e-05],[1.43371e-05,1.44944e-05],[2.01829e-05,1.98922e-05],[7.73516e-06,8.42314e-06],[1.38312e-05,1.3496e-05],[1.40398e-05,1.43589e-05],[2.63091e-05,2.41274e-05],[1.36881e-05,1.31658e-05],[9.56828e-06,9.56211e-06],[1.51459e-05,1.53705e-05],[6.1851e-06,6.49087e-06],[1.55629e-05,1.58165e-05],[2.06875e-05,2.01956e-05],[6.91076e-06,6.68713e-06],[1.19588e-05,1.23505e-05],[1.02434e-05,9.8721e-06],[1.2923e-05,1.36503e-05],[1.49633e-05,1.49413e-05],[1.43615e-05,1.42036e-05],[9.90255e-06,9.84246e-06],[2.20948e-05,2.10198e-05],[1.85199e-05,1.89444e-05],[1.01718e-05,9.87951e-06],[1.44774e-05,1.51221e-05],[1.89357e-05,1.82876e-05],[7.13196e-06,6.9433e-06],[2.2814e-05,2.2046e-05],[1.98843e-05,1.94406e-05],[1.79792e-05,1.79172e-05],[1.24399e-05,1.30161e-05],[1.3528e-05,1.31934e-05],[1.4149e-05,1.4259e-05],[1.5431e-05,1.55697e-05],[1.09835e-05,1.10749e-05],[1.44106e-05,1.47011e-05],[1.5548e-05,1.59482e-05],[1.16271e-05,1.10303e-05],[1.21409e-05,1.20431e-05],[1.00988e-05,1.05123e-05],[1.03677e-05,1.05631e-05],[1.45786e-05,1.51168e-05],[1.99379e-05,1.84227e-05],[2.04872e-05,2.00631e-05],[1.48969e-05,1.57046e-05],[1.79482e-05,1.77368e-05],[1.5464e-05,1.5e-05],[8.83869e-06,8.85361e-06],[1.24976e-05,1.21603e-05],[4.94645e-06,6.42375e-06],[7.07021e-06,6.79126e-06]] color=red fillStyle=solid lineStyle=solid pointStyle=plus lineWidth=1]"
      ]
     },
     "execution_count": 16,
     "metadata": {},
     "output_type": "execute_result"
    }
   ],
   "source": [
    "val.drawValidation()"
   ]
  },
  {
   "cell_type": "markdown",
   "metadata": {},
   "source": [
    "## Annexe : coefficient de prédictivité\n",
    "\n",
    "Le facteur de prédictivité $Q_2$ est un coefficient qui mesure la qualité d'un méta-modèle. \n",
    "* C'est un nombre entre 0 et 1.\n",
    "* Si Q2 est proche de 1, alors le métamodèle est excellent.\n",
    "* Si Q2 est proche de 0, alors le métamodèle est une mauvaise approximation de la fonction.\n",
    "\n",
    "En pratique, un $Q_2$ supérieur à 0.95 est qualifié de satisfaisant. \n",
    "\n",
    "On suppose que l'on dispose de $n$ entrées de validation $\\boldsymbol{x}_i$ ainsi que des observations $y_i$ correspondantes. On note $M$ le méta-modèle. \n",
    "Soit $\\bar{y}$ la moyenne des observations de validation :\n",
    "$$\n",
    "\\bar{y} = \\frac{1}{n} \\sum_{i=1}^{n} y_i\n",
    "$$\n",
    "Le coefficient $Q_2$ est défini par l'équation :\n",
    "$$\n",
    "Q_2 = 1 - \\frac{\\sum_{i=1}^{n} (y_i - M(\\boldsymbol{x}_i))^2}{\\sum_{i=1}^{n} (y_i - \\bar{y})^2}.\n",
    "$$"
   ]
  },
  {
   "cell_type": "markdown",
   "metadata": {},
   "source": [
    "## Exercices\n",
    "\n",
    "### Exercice 1 : sensibilité à la taille de l'échantillon d'apprentissage\n",
    "\n",
    "On s'interroge sur l'évolution de la qualité du métamodèle lorsque le nombre de points dans le plan d'expériences augmente. \n",
    "\n",
    "**Questions**\n",
    "* Modifier le plan d'expériences utilisé pour apprendre le méta-modèle : utiliser `sampleSize_train = 100`. \n",
    "* Mettre à jour le métamodèle de krigeage. \n",
    "* Comment évolue le coefficient de prédictivité ?\n",
    "* Pourquoi ?\n",
    "\n",
    "### Exercice 2 : utilisation d'une tendance\n",
    "\n",
    "Il y a trois classes qui permettent de créer des modèles de tendance.\n",
    "* `ConstantBasisFactory` : tendance constante\n",
    "* `LinearBasisFactory` : tendance linéaire\n",
    "* `QuadraticBasisFactory` : tendance quadratique\n",
    "\n",
    "**Questions**\n",
    "* Mettre à jour la tendance du modèle et utiliser une tendance linéaire. \n",
    "* Quelle est la tendance estimée par la méthode du maximum de vraisemblance ?\n",
    "* Quel est l'impact sur la qualité du méta-modèle ?\n",
    "\n",
    "### Exercice 3 : nombre d'observations et nombre de paramètres\n",
    "\n",
    "On souhaite vérifier que le nombre d'observations est suffisant pour estimer correctement les paramètres. \n",
    "\n",
    "* Calculer le nombre de paramètres estimés dans le krigeage. Pour cela, faire la somme du nombre de paramètres de la tendance et du noyau de covariance.\n",
    "* Calculer le nombre d'observations dans le plan d'expériences. \n",
    "* Calculer le ratio entre le nombre d'observations et le nombre de paramètres. \n",
    "* La taille du plan d'expériences est-elle suffisante pour estimer les paramètres ?\n",
    "\n",
    "### Exercice 4 : distribution des résidus\n",
    "\n",
    "On souhaite valider la qualité du métamodèle. Nous avons vu comment récupérer les résidus avec la classe `getResidualSample` et tracer l'histogramme de ces résidus avec la classe `HistogramFactory`. Il s'avère que l'on peut récupérer directement la distribution des résidus avec \n",
    "\n",
    "**Questions**\n",
    "* Utiliser la méthode `getResidualDistribution` pour obtenir la distribution des résidus.\n",
    "* Utiliser la méthode `drawPDF` pour dessiner la distribution des résidus.\n",
    "* Que conclure ?"
   ]
  }
 ],
 "metadata": {
  "kernelspec": {
   "display_name": "Python 3",
   "language": "python",
   "name": "python3"
  },
  "language_info": {
   "codemirror_mode": {
    "name": "ipython",
    "version": 3
   },
   "file_extension": ".py",
   "mimetype": "text/x-python",
   "name": "python",
   "nbconvert_exporter": "python",
   "pygments_lexer": "ipython3",
   "version": "3.7.5rc1"
  }
 },
 "nbformat": 4,
 "nbformat_minor": 2
}
