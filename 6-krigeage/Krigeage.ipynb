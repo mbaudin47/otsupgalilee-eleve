{
 "cells": [
  {
   "cell_type": "markdown",
   "metadata": {},
   "source": [
    "# Faire un métamodèle de krigeage\n"
   ]
  },
  {
   "cell_type": "markdown",
   "metadata": {},
   "source": [
    "## Références\n",
    "\n",
    "http://openturns.github.io/openturns/master/theory/meta_modeling/kriging.html\n",
    "\n",
    "http://openturns.github.io/openturns/master/examples/meta_modeling/kriging.html\n",
    "\n",
    "[Formation ITECH, Introduction aux métamodèles (polynômes de chaos et krigeage) (ARN4889)\n",
    "14 septembre 2016, Copyright EDF 2015 - Géraud Blatman (EDF R&D/MMC) & Loïc Le Gratiet (EDF R&D/MRI)][1]\n",
    "\n",
    "[François Bachoc. Introduction to Gaussian-process based Kriging models for metamodeling and validation of computer codes. Seminar of the LRC MANON, INSTN Saclay, March 2014.][2]\n",
    "\n",
    "[C. E. Rasmussen & C. K. I. Williams, Gaussian Processes for Machine Learning, the MIT Press, 2006,\n",
    "ISBN 026218253X. 2006 Massachusetts Institute of Technology.][3]\n",
    "\n",
    "[François Bachoc. Parametric estimation of covariance function in Gaussian-process based Kriging models. Application to uncertainty quantification for computer experiments. Thèse de l'université Paris-Diderot, 2013.][4]\n",
    "\n",
    "[Loïc Le Gratiet. Multi-fidelity Gaussian process regression for computer experiments. Thèse de l'université Paris-Diderot, 2013.][5]\n",
    "\n",
    "[1]: https://forge.pleiade.edf.fr/documents/317\n",
    "[2]: https://www.math.univ-toulouse.fr/~fbachoc/LRC_Manon_2014.pdf\n",
    "[3]: www.GaussianProcess.org/gpml\n",
    "[4]: https://tel.archives-ouvertes.fr/tel-00881002/\n",
    "[5]: https://tel.archives-ouvertes.fr/tel-00866770"
   ]
  },
  {
   "cell_type": "markdown",
   "metadata": {},
   "source": [
    "## Rappels méthodologiques\n",
    "\n",
    "### Krigeage\n",
    "\n",
    "On considère une fonction $G$ :\n",
    "$$\n",
    "y = G(\\boldsymbol{x})\n",
    "$$\n",
    "pour tout $\\boldsymbol{x}\\in\\mathbb{R}^d$. Dans ce document, on considère que la sortie du code de calcul $y\\in\\mathbb{R}$ est scalaire. \n",
    "\n",
    "Le krigeage est une technique permettant de créer un métamodèle de la fonction G. Il est fondé sur les processus gaussiens et c'est pourquoi on nomme parfois cette technique *régression par processus gaussien*.\n",
    "\n",
    "En d'autres termes, le krigeage consiste à modéliser Z par un processus gaussien de moyenne $m$ et de covariance $k$ :\n",
    "$$\n",
    "Z(\\boldsymbol{x}) = PG\\left(m(\\boldsymbol{x}),k(\\boldsymbol{x}, \\boldsymbol{x}')\\right)\n",
    "$$\n"
   ]
  },
  {
   "cell_type": "markdown",
   "metadata": {},
   "source": [
    "### Modèle de tendance\n",
    "\n",
    "Pour définir la moyenne du processus gaussien, on fait le choix d'une base de fonctions \n",
    "$$\n",
    "\\boldsymbol{f} = (f_1,...,f_p)\n",
    "$$\n",
    "où $p$ est le nombre de fonctions de base. \n",
    "Si les paramètres $\\boldsymbol{\\beta}\\in\\mathbb{R}^p$ sont connus, alors la moyenne est choisie sous la forme d'un modèle linéaire généralisé :\n",
    "$$\n",
    "\\boldsymbol{m}(\\boldsymbol{x}) = \\boldsymbol{f}(\\boldsymbol{x})^T \\boldsymbol{\\beta}\n",
    "$$\n",
    "\n",
    "_Remarque :_ on parle de *krigeage simple* lorsque la moyenne est supposée connue, de *krigeage ordinaire* lorsque la moyenne est inconnue mais supposée constante, sinon de *krigeage universel*. \n",
    "\n",
    "### Modèle de covariance\n",
    "\n",
    "La fonction de covariance contrôle notamment la régularité du processus gaussien (continuité et différentiabilité de ses trajectoires ou en moyenne quadratique).\n",
    "\n",
    "Pour définir la covariance du processus gaussien, on fait le choix d'une fonction de corrélation $r$ de la forme :\n",
    "$$\n",
    "k(\\boldsymbol{x}, \\boldsymbol{x}') = \\sigma^2 r(\\boldsymbol{x}, \\boldsymbol{x}',\\boldsymbol{\\theta})\n",
    "$$\n",
    "où $\\sigma^2$ est la variance du processus gaussien et $\\boldsymbol{\\theta} \\in\\mathbb{R}^d$."
   ]
  },
  {
   "cell_type": "markdown",
   "metadata": {},
   "source": [
    "### Régression par processus gaussien : principe\n",
    "\n",
    "Dans la suite, nous considérons le krigeage associé à des observations $\\boldsymbol{y}$ non bruitées.\n",
    "\n",
    "Deux étapes peuvent être distinguées dans le krigeage :\n",
    "* (1) l'estimation des paramètres $\\boldsymbol{\\beta}$, $\\sigma$ et $\\boldsymbol{\\theta}$;\n",
    "* (2) le conditionnement du processus par les données $\\boldsymbol{y}$.\n",
    "\n",
    "#### Étape (1) : estimation des (hyper)paramètres\n",
    "\n",
    "Une approche rencontrée dans la littérature, appelée *bayesian kriging* ou *full bayesian kriging*, consiste à traiter les variables $\\boldsymbol{\\beta}$, $\\sigma$ ou $\\boldsymbol{\\theta}$ comme des paramètres incertains que l'on associe à une distribution de probabilité a priori.\n",
    "Dans OpenTURNS, ces variables sont simplement considérées comme des paramètres à estimer à partir de données censées provenir d'une même réalisation (de la même trajectoire) d'un processus gaussien. Cela est réalisé suivant le principe du maximum de vraisemblance.\n",
    "\n",
    "La résolution de ce problème d'optimisation (le MV) peut poser des difficultés. Dans ce cas, on peut soit tenter de fournir à OpenTURNS des meilleures valeurs initiales, soit configurer la résolution du problème de manière plus fine en intervenant dans les objets de plus bas niveau.\n",
    "\n",
    "#### Étape (2) : conditionnement\n",
    "\n",
    "Nous nous limitons ci-dessous à une présentation du conditionnement (2) lorsque les paramètres $\\boldsymbol{\\beta}$, $\\sigma$ et $\\boldsymbol{\\theta}$ sont connus (krigeage simple) et que l'on souhaite simplement\n",
    "une prédiction en une unique point $\\boldsymbol{x}\\in\\mathcal{D}$.\n",
    "\n",
    "Faisons l'hypothèse que l'on connaît les valeurs de la fonction sur un plan d'expériences $\\boldsymbol{x}^{(i)}$ pour $i=1,...,n$ où $n$ est le nombre de simulations. Pour chacune de ces entrées, on suppose que l'on connaît la valeur de la sortie scalaire $y^{(i)}$\n",
    "pour $i=1,...,n$. On note $\\boldsymbol{y} = (y_1,...,y_n)^T$ le vecteur des sorties observées. \n",
    "\n",
    "Notons $F$ la matrice de conception associée aux fonctions de base :\n",
    "$$\n",
    "F = \\left[ f_j\\left(\\boldsymbol{x}^{(i)}\\right),\\quad i=1,...,n, \\quad j=1,...,p \\right].\n",
    "$$\n",
    "\n",
    "Notons $R$ la matrice de correlation associée au noyau de corrélation :\n",
    "$$\n",
    "R = \\left[ r\\left(\\boldsymbol{x}^{(i)},\\boldsymbol{x}^{(j)},\\boldsymbol{\\theta}\\right),\\quad i,j=1,...,n \\right]\n",
    "$$\n",
    "\n",
    "Considérons un nouveau point $\\boldsymbol{x} \\in \\mathbb{R}^{d}$ correspondant à une sortie $y$ inconnue.\n",
    "Notons $\\boldsymbol{r}(\\boldsymbol{x})$ le vecteur des corrélation entre le point $\\boldsymbol{x}$ et les points du plan d'expériences :\n",
    "$$\n",
    "\\boldsymbol{r}(\\boldsymbol{x}) = \\left[r\\left(\\boldsymbol{x},\\boldsymbol{x}^{(i)},\\boldsymbol{\\theta}\\right),\\quad i=1,...,n \\right]^T\n",
    "$$\n",
    "\n",
    "On peut démontrer que le vecteur aléatoire associé aux observations $\\boldsymbol{Y}$ et la variable aléatoire $Y(\\boldsymbol{x})$ sont liés par une loi normale :\n",
    "\n",
    "$$\n",
    "\\begin{pmatrix}\n",
    "\\boldsymbol{Y} \\\\\n",
    "Y(\\boldsymbol{x})\n",
    "\\end{pmatrix}\n",
    "= \n",
    "\\mathcal{N}\n",
    "\\left(\n",
    "\\begin{pmatrix}\n",
    "F \\boldsymbol{\\beta} \\\\\n",
    "\\boldsymbol{f(x)}^T \\boldsymbol{\\beta}\n",
    "\\end{pmatrix}\n",
    ",\n",
    "\\sigma^2 \n",
    "\\begin{pmatrix}\n",
    "R & \\boldsymbol{r}(\\boldsymbol{x}) \\\\\n",
    "\\boldsymbol{r}(\\boldsymbol{x})^T & 1 \\\\\n",
    "\\end{pmatrix}\n",
    "\\right)\n",
    "$$\n",
    "\n",
    "Le modèle prédictif est donné par loi de $Z(\\boldsymbol{x})$ conditionnée par les observations connues du code :\n",
    "$$\n",
    "\\tilde{Y}(\\boldsymbol{x}) = \\left[ \\boldsymbol{Y}(\\boldsymbol{x}) \n",
    "| \\boldsymbol{Y} = \\boldsymbol{y}, \n",
    "\\boldsymbol{\\theta} = \\boldsymbol{\\theta}, \n",
    "\\boldsymbol{\\sigma} = \\boldsymbol{\\sigma} \\right].\n",
    "$$\n",
    "\n",
    "On peut démontrer que $\\tilde{\\boldsymbol{Y}}(\\boldsymbol{x})$ est également une variable aléatoire gaussienne :\n",
    "$$\n",
    "\\tilde{Y}(\\boldsymbol{x}) \\sim \\mathcal{N} \\left( \\mu_{\\tilde{Y}}(\\boldsymbol{x}) , \\sigma_{\\tilde{Y}}(\\boldsymbol{x})^2 \\right)\n",
    "$$\n",
    "où la moyenne $\\mu_{\\tilde{Y}}(\\boldsymbol{x})$ et la variance $\\sigma_{\\tilde{Y}}(\\boldsymbol{x})^2$ s'écrivent de manière explicite (voir la propriété de conditionnement des processus gaussiens dans le précédent *notebook*).\n",
    "\n",
    "Les calculs liés au conditionnement n'impliquent que la résolution de systèmes d'équations linéaires. \n",
    "Néanmoins, si $n$ est grand (par exemple $n=10000$), alors la matrice de corrélation $R$ est de taille $n\\times n$, ce qui peut poser des difficultés de performance, voire de mémoire. Pour résoudre ce problème, une alternative consiste à utiliser des techniques de compression de matrices, comme par exemple la technique des H-mat utilisée par OpenTURNS.\n",
    "\n",
    "#### Remarque\n",
    "\n",
    "Dans le cas du krigeage universel et d'une fonction de covariance à estimer, la définition de la fonction de covariance conditionnée est en fait modifiée pour tenir compte de l'incertitude sur $\\boldsymbol{\\beta}$."
   ]
  },
  {
   "cell_type": "markdown",
   "metadata": {},
   "source": [
    "## Le krigeage dans OpenTURNS\n",
    "\n",
    "### Le modèle de déviation de la poutre encastrée\n",
    "\n",
    "Dans l'exemple qui suit, on considère le modèle de déviation de la poutre encastrée. Dans ce modèle, on considère 4 variables aléatoires liées par une copule Gaussienne. \n",
    "\n",
    "<img src=\"poutre.png\" width=\"300px\">\n",
    "\n",
    "On considère 4 variables aléatoires :\n",
    " - E : le module d'Young [Pa]\n",
    " - F : la force appliquée [N]\n",
    " - L : la longueur [m]\n",
    " - I : le moment d'inertie de la poutre [m^4]\n",
    "\n",
    "La déviation verticale de la poutre sous l'effet de la force appliquée est modélisée par l'équation :\n",
    "$$\n",
    "y = \\frac{FL^3}{3EI}\n",
    "$$\n",
    "\n",
    "On considère les lois de probabilité suivantes :\n",
    "\n",
    "|Variable|  Distribution|\n",
    "| ------------- |-------------|\n",
    "|E| Beta(alpha = 0.9, beta = 2.2, a = $2.5\\times 10^7$, $b = 5\\times 10^7$) |\n",
    "|F| Lognormal($\\mu_F=3 \\times 10^4$, $\\sigma_F=9\\times 10^3$, shift=$15\\times 10^3$)|\n",
    "|L| Uniform(min=250.0, max= 260.0)|\n",
    "|I| Beta(alpha = 2.5, beta = 1.5, a = 310, b = 450)|\n",
    " \n",
    "On fait l'hypothèse que les variables aléatoires E, F, L et I sont liées par une copule Gaussienne dont la matrice de corrélation est :\n",
    "$$\n",
    "R = \n",
    "\\begin{pmatrix}\n",
    "1 & 0 & 0 & 0 \\\\\n",
    "0 & 1 & 0 & 0 \\\\\n",
    "0 & 0 & 1 & -0.2 \\\\\n",
    "0 & 0 & -0.2 & 1\n",
    "\\end{pmatrix}\n",
    "$$\n",
    "\n",
    "En d'autres termes, on considère que les variables L et I sont corrélées négativement : lorsque la longueur L augmente, le moment d'inertie I diminue. \n",
    "\n",
    "On créé un méta-modèle de krigeage fondé sur un modèle exponentiel carré. Pour estimer le métamodèle, nous allons utiliser un plan d'expériences de taille 20. "
   ]
  },
  {
   "cell_type": "markdown",
   "metadata": {},
   "source": [
    "### Définition du modèle"
   ]
  },
  {
   "cell_type": "code",
   "execution_count": 1,
   "metadata": {},
   "outputs": [],
   "source": [
    "import openturns as ot"
   ]
  },
  {
   "cell_type": "markdown",
   "metadata": {},
   "source": [
    "Etape A : définition du modèle. Nous commençons par définir une fonction symbolique qui évalue la sortie y en fonction des entrées E, F, L et I."
   ]
  },
  {
   "cell_type": "code",
   "execution_count": 2,
   "metadata": {},
   "outputs": [],
   "source": [
    "model = ot.SymbolicFunction([\"E\", \"F\", \"L\", \"I\"], [\"F*L^3/(3*E*I)\"])"
   ]
  },
  {
   "cell_type": "markdown",
   "metadata": {},
   "source": [
    "Etape B : définition des distributions du vecteur aléatoire en entrée. Nous définissons ensuite les lois de distribution des variables aléatoires E, F, L et I."
   ]
  },
  {
   "cell_type": "code",
   "execution_count": 3,
   "metadata": {},
   "outputs": [],
   "source": [
    "# Young's modulus E: beta distribution\n",
    "E = ot.Beta(0.9, 2.2, 2.8e7, 4.8e7)\n",
    "E.setDescription(\"E\")\n",
    "# Load F: lognormal distribution\n",
    "F = ot.LogNormal() # in N\n",
    "F.setParameter(ot.LogNormalMuSigma()([3e4, 9e3, 0.]))\n",
    "F.setDescription(\"F\")\n",
    "# Length L: uniform distribution\n",
    "L = ot.Uniform(2.5, 2.6) # in m\n",
    "L.setDescription(\"L\")\n",
    "# Moment of inertia I: beta distribution\n",
    "I = ot.Beta(2.5, 1.5, 310.0, 450.0) # in cm^4\n",
    "I.setDescription(\"I\")"
   ]
  },
  {
   "cell_type": "markdown",
   "metadata": {},
   "source": [
    "Puis on définit la dépendance entre les variables d'entrée en créant une copule Gaussienne avec la classe `NormalCopula`."
   ]
  },
  {
   "cell_type": "code",
   "execution_count": 4,
   "metadata": {},
   "outputs": [],
   "source": [
    "dim = 4 # number of inputs\n",
    "R = ot.CorrelationMatrix(dim)\n",
    "R[2, 3] = -0.2 \n",
    "myCopula = ot.NormalCopula(ot.NormalCopula.GetCorrelationFromSpearmanCorrelation(R))\n",
    "myDistribution = ot.ComposedDistribution([E, F, L, I], myCopula)"
   ]
  },
  {
   "cell_type": "markdown",
   "metadata": {},
   "source": [
    "### Définition d'un plan d'expériences"
   ]
  },
  {
   "cell_type": "markdown",
   "metadata": {},
   "source": [
    "Nous considérons un plan d'expériences de type Monte-Carlo simple. Pour cela, on génère un échantillon des entrées grâce à la méthode `getSample`. Puis nous évaluons la sortie en appelant la fonction `model`."
   ]
  },
  {
   "cell_type": "code",
   "execution_count": 5,
   "metadata": {},
   "outputs": [],
   "source": [
    "sampleSize_train = 20\n",
    "X_train = myDistribution.getSample(sampleSize_train)\n",
    "Y_train = model(X_train)"
   ]
  },
  {
   "cell_type": "markdown",
   "metadata": {},
   "source": [
    "Observons la distribution des déviations verticales Y sur la base d'apprentissage. On observe que les déviations plus grandes sont moins fréquentes. "
   ]
  },
  {
   "cell_type": "code",
   "execution_count": 6,
   "metadata": {},
   "outputs": [
    {
     "data": {
      "image/png": "[encoded data removed]",
      "text/plain": [
       "class=Graph name=y0 PDF implementation=class=GraphImplementation name=y0 PDF title=Histogramme des déviations verticales xTitle=Déviation verticale (m) yTitle=PDF axes=ON grid=ON legendposition=topright legendFontSize=1 drawables=[class=Drawable name=Unnamed implementation=class=Curve name=Unnamed derived from class=DrawableImplementation name=Unnamed legend= data=class=Sample name=Unnamed implementation=class=SampleImplementation name=Unnamed size=20 dimension=2 data=[[4.71743e-06,0],[6.199e-06,0],[6.199e-06,0],[6.199e-06,101244],[9.16214e-06,101244],[9.16214e-06,0],[9.16214e-06,0],[9.16214e-06,118118],[1.21253e-05,118118],[1.21253e-05,0],[1.21253e-05,0],[1.21253e-05,67495.9],[1.50884e-05,67495.9],[1.50884e-05,0],[1.50884e-05,0],[1.50884e-05,50622],[1.80516e-05,50622],[1.80516e-05,0],[1.80516e-05,0],[1.95331e-05,0]] color=red fillStyle=solid lineStyle=solid pointStyle=none lineWidth=2]"
      ]
     },
     "execution_count": 6,
     "metadata": {},
     "output_type": "execute_result"
    }
   ],
   "source": [
    "histo = ot.HistogramFactory().build(Y_train).drawPDF()\n",
    "histo.setXTitle(\"Déviation verticale (m)\")\n",
    "histo.setTitle(\"Histogramme des déviations verticales\")\n",
    "histo.setLegends([\"\"])\n",
    "histo"
   ]
  },
  {
   "cell_type": "markdown",
   "metadata": {},
   "source": [
    "### Création du méta-modèle"
   ]
  },
  {
   "cell_type": "markdown",
   "metadata": {},
   "source": [
    "Pour créer le krigeage, on choisit une tendance constante avec la classe `ConstantBasisFactory`. Puis on utilise un modèle de covariance de type exponentielle carrée. Enfin, on utilise la classe `KrigingAlgorithm` pour créer le krigeage en utilisant la base d'apprentissage, le modèle de covariance et la tendance."
   ]
  },
  {
   "cell_type": "code",
   "execution_count": 7,
   "metadata": {},
   "outputs": [],
   "source": [
    "dimension = myDistribution.getDimension()\n",
    "basis = ot.ConstantBasisFactory(dimension).build()\n",
    "covarianceModel = ot.SquaredExponential([1.]*dimension, [1.0])\n",
    "algo = ot.KrigingAlgorithm(X_train, Y_train, covarianceModel, basis)\n",
    "algo.run()\n",
    "result = algo.getResult()\n",
    "krigeageMM = result.getMetaModel()"
   ]
  },
  {
   "cell_type": "markdown",
   "metadata": {},
   "source": [
    "La méthode `run` a évalué les paramètres du modèle par la méthode du maximum de vraisemblance. \n",
    "\n",
    "On peut alors afficher la tendance constante du modèle."
   ]
  },
  {
   "cell_type": "code",
   "execution_count": 8,
   "metadata": {
    "scrolled": true
   },
   "outputs": [
    {
     "data": {
      "text/plain": [
       "[class=Point name=Unnamed dimension=1 values=[1.67768e-05]]"
      ]
     },
     "execution_count": 8,
     "metadata": {},
     "output_type": "execute_result"
    }
   ],
   "source": [
    "result.getTrendCoefficients()"
   ]
  },
  {
   "cell_type": "markdown",
   "metadata": {},
   "source": [
    "On peut également afficher les paramètres du modèle de covariance, estimés par la méthode du maximum de vraisemblance."
   ]
  },
  {
   "cell_type": "code",
   "execution_count": 9,
   "metadata": {},
   "outputs": [
    {
     "data": {
      "text/html": [
       "<p>SquaredExponential(scale=[6.45622,5.40173,7.19611,6.86906], amplitude=[7.78981e-06])</p>"
      ],
      "text/plain": [
       "class=SquaredExponential scale=class=Point name=Unnamed dimension=4 values=[6.45622,5.40173,7.19611,6.86906] amplitude=class=Point name=Unnamed dimension=1 values=[7.78981e-06]"
      ]
     },
     "execution_count": 9,
     "metadata": {},
     "output_type": "execute_result"
    }
   ],
   "source": [
    "result.getCovarianceModel()"
   ]
  },
  {
   "cell_type": "markdown",
   "metadata": {},
   "source": [
    "On souhaite ensuite valider le métamodèle de krigeage. Pour cela, on génère un échantillon de validation de taille 100 et on évalue la sortie du modèle sur cet échantillon."
   ]
  },
  {
   "cell_type": "code",
   "execution_count": 10,
   "metadata": {},
   "outputs": [],
   "source": [
    "sampleSize_test = 100\n",
    "X_test = myDistribution.getSample(sampleSize_test)\n",
    "Y_test = model(X_test)"
   ]
  },
  {
   "cell_type": "markdown",
   "metadata": {},
   "source": [
    "Sur l'échantillon de validation, on évalue les sorties du méta-modèle."
   ]
  },
  {
   "cell_type": "code",
   "execution_count": 11,
   "metadata": {},
   "outputs": [],
   "source": [
    "Y_test_MM = krigeageMM(X_test)"
   ]
  },
  {
   "cell_type": "markdown",
   "metadata": {},
   "source": [
    "La classe `MetaModelValidation` facilite le travail de validation d'un métamodèle. Pour la constuire, on lui donne les entrées de la base de validation, les sorties correspondantes et le métamodèle."
   ]
  },
  {
   "cell_type": "code",
   "execution_count": 12,
   "metadata": {},
   "outputs": [],
   "source": [
    "val = ot.MetaModelValidation(X_test, Y_test, krigeageMM)"
   ]
  },
  {
   "cell_type": "markdown",
   "metadata": {},
   "source": [
    "La méthode `computePredictivityFactor` permet d'estimer le coefficient $Q_2$."
   ]
  },
  {
   "cell_type": "code",
   "execution_count": 13,
   "metadata": {
    "scrolled": true
   },
   "outputs": [
    {
     "data": {
      "text/plain": [
       "0.9826303365759326"
      ]
     },
     "execution_count": 13,
     "metadata": {},
     "output_type": "execute_result"
    }
   ],
   "source": [
    "val.computePredictivityFactor()"
   ]
  },
  {
   "cell_type": "markdown",
   "metadata": {},
   "source": [
    "Puisque le $Q_2$ est supérieur à 0.95, on peut dire que c'est un très bon méta-modèle."
   ]
  },
  {
   "cell_type": "markdown",
   "metadata": {},
   "source": [
    "Il est intéressant de dessiner l'histogramme des résidus : on peut le faire avec la classe `HistogramFactory` appliquée à l'échantillon des résidus `r`. \n",
    "\n",
    "On observe que les résidus négatifs sont presque aussi fréquents que les résidus positifs : c'est plutôt un signe positif pour la qualité du métamodèle. Dans notre cas, la déviation verticale est plutôt petite, de l'ordre de $10^{-5}$. Cela implique qu'il n'est pas si simple de voir si, en valeur absolue, les résidus sont plutôt petits, ou non : le graphique que nous dessinerons par la suite est plus fiable de ce point de vue."
   ]
  },
  {
   "cell_type": "code",
   "execution_count": 14,
   "metadata": {},
   "outputs": [
    {
     "data": {
      "image/png": "[encoded data removed]",
      "text/plain": [
       "class=Graph name=y0 PDF implementation=class=GraphImplementation name=y0 PDF title=y0 PDF xTitle=y0 yTitle=PDF axes=ON grid=ON legendposition=topright legendFontSize=1 drawables=[class=Drawable name=Unnamed implementation=class=Curve name=Unnamed derived from class=DrawableImplementation name=Unnamed legend=y0 PDF data=class=Sample name=Unnamed implementation=class=SampleImplementation name=Unnamed size=68 dimension=2 data=[[-1.19662e-06,0],[-1.06695e-06,0],[-1.06695e-06,0],[-1.06695e-06,38559.3],[-8.07606e-07,38559.3],[-8.07606e-07,0],[-8.07606e-07,0],[-8.07606e-07,77118.6],[-5.48265e-07,77118.6],[-5.48265e-07,0],[-5.48265e-07,0],[-5.48265e-07,694067],[-2.88924e-07,694067],[-2.88924e-07,0],[-2.88924e-07,0],[-2.88924e-07,886863],[-2.95834e-08,886863],[-2.95834e-08,0],[-2.95834e-08,0],[-2.95834e-08,1.15678e+06],[2.29758e-07,1.15678e+06],[2.29758e-07,0],[2.29758e-07,0],[2.29758e-07,539830],[4.89099e-07,539830],[4.89099e-07,0],[4.89099e-07,0],[4.89099e-07,154237],[7.48439e-07,154237],[7.48439e-07,0],[7.48439e-07,0],[7.48439e-07,115678],[1.00778e-06,115678],[1.00778e-06,0],[1.00778e-06,0],[1.00778e-06,77118.6],[1.26712e-06,77118.6],[1.26712e-06,0],[1.26712e-06,0],[1.26712e-06,0],[1.52646e-06,0],[1.52646e-06,0],[1.52646e-06,0],[1.52646e-06,77118.6],[1.7858e-06,77118.6],[1.7858e-06,0],[1.7858e-06,0],[1.7858e-06,0],[2.04514e-06,0],[2.04514e-06,0],[2.04514e-06,0],[2.04514e-06,0],[2.30449e-06,0],[2.30449e-06,0],[2.30449e-06,0],[2.30449e-06,0],[2.56383e-06,0],[2.56383e-06,0],[2.56383e-06,0],[2.56383e-06,0],[2.82317e-06,0],[2.82317e-06,0],[2.82317e-06,0],[2.82317e-06,38559.3],[3.08251e-06,38559.3],[3.08251e-06,0],[3.08251e-06,0],[3.21218e-06,0]] color=red fillStyle=solid lineStyle=solid pointStyle=none lineWidth=2]"
      ]
     },
     "execution_count": 14,
     "metadata": {},
     "output_type": "execute_result"
    }
   ],
   "source": [
    "r = val.getResidualSample()\n",
    "ot.HistogramFactory().build(r).drawPDF()"
   ]
  },
  {
   "cell_type": "markdown",
   "metadata": {},
   "source": [
    "La méthode `drawValidation` permet de comparer les données observées et les prédictions du méta-modèle. \n",
    "\n",
    "On observe que les croix rouges sont à proximité de la première bissectrice : cela montre que le méta-modèle est plutôt de bonne qualité. Toutefois, pour les grandes déviations, les points rouges sont plus éloignées de la première bissectrice : le métamodèle est moins bon pour les grandes déviations."
   ]
  },
  {
   "cell_type": "code",
   "execution_count": 15,
   "metadata": {
    "scrolled": false
   },
   "outputs": [
    {
     "data": {
      "image/png": "[encoded data removed]",
      "text/plain": [
       "class=Graph name=Metamodel validation implementation=class=GraphImplementation name=Metamodel validation title=Metamodel validation xTitle=model yTitle=metamodel axes=ON grid=ON legendposition=bottomright legendFontSize=1 drawables=[class=Drawable name=Unnamed implementation=class=Curve name=Unnamed derived from class=DrawableImplementation name=Unnamed legend=Model data=class=Sample name=Unnamed implementation=class=SampleImplementation name=Unnamed size=100 dimension=2 data=[[1.78983e-05,1.78983e-05],[1.77708e-05,1.77708e-05],[1.10305e-05,1.10305e-05],[9.31764e-06,9.31764e-06],[2.21889e-05,2.21889e-05],[1.21708e-05,1.21708e-05],[9.51877e-06,9.51877e-06],[1.69315e-05,1.69315e-05],[1.25761e-05,1.25761e-05],[1.47823e-05,1.47823e-05],[1.76576e-05,1.76576e-05],[1.05346e-05,1.05346e-05],[7.87126e-06,7.87126e-06],[1.36862e-05,1.36862e-05],[1.62481e-05,1.62481e-05],[2.11963e-05,2.11963e-05],[1.48504e-05,1.48504e-05],[1.44323e-05,1.44323e-05],[1.04548e-05,1.04548e-05],[1.39994e-05,1.39994e-05],[1.13404e-05,1.13404e-05],[1.03543e-05,1.03543e-05],[1.22283e-05,1.22283e-05],[9.7339e-06,9.7339e-06],[1.12305e-05,1.12305e-05],[8.81096e-06,8.81096e-06],[1.28075e-05,1.28075e-05],[7.55682e-06,7.55682e-06],[2.83571e-05,2.83571e-05],[1.37029e-05,1.37029e-05],[7.07332e-06,7.07332e-06],[1.47363e-05,1.47363e-05],[1.33545e-05,1.33545e-05],[7.05078e-06,7.05078e-06],[1.39672e-05,1.39672e-05],[9.44913e-06,9.44913e-06],[8.80495e-06,8.80495e-06],[1.56387e-05,1.56387e-05],[1.8175e-05,1.8175e-05],[1.25982e-05,1.25982e-05],[1.55418e-05,1.55418e-05],[1.14735e-05,1.14735e-05],[1.4079e-05,1.4079e-05],[1.15909e-05,1.15909e-05],[1.02259e-05,1.02259e-05],[1.66781e-05,1.66781e-05],[1.36198e-05,1.36198e-05],[1.11727e-05,1.11727e-05],[8.92268e-06,8.92268e-06],[8.28604e-06,8.28604e-06],[1.61259e-05,1.61259e-05],[1.34781e-05,1.34781e-05],[1.83588e-05,1.83588e-05],[7.51476e-06,7.51476e-06],[1.25584e-05,1.25584e-05],[1.37924e-05,1.37924e-05],[2.41856e-05,2.41856e-05],[1.22869e-05,1.22869e-05],[8.9332e-06,8.9332e-06],[1.39092e-05,1.39092e-05],[5.8085e-06,5.8085e-06],[1.42921e-05,1.42921e-05],[1.85721e-05,1.85721e-05],[6.47154e-06,6.47154e-06],[1.08516e-05,1.08516e-05],[1.01189e-05,1.01189e-05],[1.21272e-05,1.21272e-05],[1.39636e-05,1.39636e-05],[1.28893e-05,1.28893e-05],[9.34492e-06,9.34492e-06],[1.97852e-05,1.97852e-05],[1.72431e-05,1.72431e-05],[9.98008e-06,9.98008e-06],[1.34853e-05,1.34853e-05],[1.73554e-05,1.73554e-05],[6.69091e-06,6.69091e-06],[2.05975e-05,2.05975e-05],[1.85548e-05,1.85548e-05],[1.66274e-05,1.66274e-05],[1.13916e-05,1.13916e-05],[1.23127e-05,1.23127e-05],[1.30889e-05,1.30889e-05],[1.45509e-05,1.45509e-05],[1.08005e-05,1.08005e-05],[1.34934e-05,1.34934e-05],[1.42104e-05,1.42104e-05],[1.15928e-05,1.15928e-05],[1.10793e-05,1.10793e-05],[9.40623e-06,9.40623e-06],[9.62371e-06,9.62371e-06],[1.38066e-05,1.38066e-05],[1.78123e-05,1.78123e-05],[1.85035e-05,1.85035e-05],[1.34301e-05,1.34301e-05],[1.65977e-05,1.65977e-05],[1.39801e-05,1.39801e-05],[8.03714e-06,8.03714e-06],[1.12365e-05,1.12365e-05],[4.94557e-06,4.94557e-06],[6.84356e-06,6.84356e-06]] color=blue fillStyle=solid lineStyle=solid pointStyle=none lineWidth=1,class=Drawable name=Unnamed implementation=class=Cloud name=Unnamed derived from class=DrawableImplementation name=Unnamed legend=MetaModel data=class=Sample name=Unnamed implementation=class=SampleImplementation name=Unnamed size=100 dimension=2 data=[[1.78983e-05,1.74727e-05],[1.77708e-05,1.72887e-05],[1.10305e-05,1.09737e-05],[9.31764e-06,9.56482e-06],[2.21889e-05,2.14535e-05],[1.21708e-05,1.22338e-05],[9.51877e-06,1.00618e-05],[1.69315e-05,1.68485e-05],[1.25761e-05,1.28248e-05],[1.47823e-05,1.50876e-05],[1.76576e-05,1.66813e-05],[1.05346e-05,1.09988e-05],[7.87126e-06,8.19744e-06],[1.36862e-05,1.30258e-05],[1.62481e-05,1.60643e-05],[2.11963e-05,1.96343e-05],[1.48504e-05,1.48437e-05],[1.44323e-05,1.43238e-05],[1.04548e-05,1.03686e-05],[1.39994e-05,1.39987e-05],[1.13404e-05,1.16605e-05],[1.03543e-05,1.05412e-05],[1.22283e-05,1.2111e-05],[9.7339e-06,9.73984e-06],[1.12305e-05,1.12055e-05],[8.81096e-06,8.79341e-06],[1.28075e-05,1.29721e-05],[7.55682e-06,7.60742e-06],[2.83571e-05,2.52746e-05],[1.37029e-05,1.3531e-05],[7.07332e-06,7.34591e-06],[1.47363e-05,1.48346e-05],[1.33545e-05,1.29475e-05],[7.05078e-06,7.73167e-06],[1.39672e-05,1.37326e-05],[9.44913e-06,9.42171e-06],[8.80495e-06,9.1893e-06],[1.56387e-05,1.54864e-05],[1.8175e-05,1.70068e-05],[1.25982e-05,1.27161e-05],[1.55418e-05,1.50941e-05],[1.14735e-05,1.14079e-05],[1.4079e-05,1.43952e-05],[1.15909e-05,1.17785e-05],[1.02259e-05,1.03584e-05],[1.66781e-05,1.56786e-05],[1.36198e-05,1.37305e-05],[1.11727e-05,1.1144e-05],[8.92268e-06,9.30003e-06],[8.28604e-06,8.80227e-06],[1.61259e-05,1.62564e-05],[1.34781e-05,1.36089e-05],[1.83588e-05,1.81502e-05],[7.51476e-06,8.05252e-06],[1.25584e-05,1.2297e-05],[1.37924e-05,1.41593e-05],[2.41856e-05,2.25089e-05],[1.22869e-05,1.19069e-05],[8.9332e-06,8.92162e-06],[1.39092e-05,1.40629e-05],[5.8085e-06,6.13825e-06],[1.42921e-05,1.44694e-05],[1.85721e-05,1.82231e-05],[6.47154e-06,6.31845e-06],[1.08516e-05,1.11313e-05],[1.01189e-05,9.87846e-06],[1.21272e-05,1.26639e-05],[1.39636e-05,1.39345e-05],[1.28893e-05,1.27708e-05],[9.34492e-06,9.28984e-06],[1.97852e-05,1.90185e-05],[1.72431e-05,1.75798e-05],[9.98008e-06,9.77933e-06],[1.34853e-05,1.3974e-05],[1.73554e-05,1.68537e-05],[6.69091e-06,6.57821e-06],[2.05975e-05,2.00544e-05],[1.85548e-05,1.82252e-05],[1.66274e-05,1.65801e-05],[1.13916e-05,1.18145e-05],[1.23127e-05,1.21015e-05],[1.30889e-05,1.31518e-05],[1.45509e-05,1.46691e-05],[1.08005e-05,1.08838e-05],[1.34934e-05,1.37169e-05],[1.42104e-05,1.44978e-05],[1.15928e-05,1.13369e-05],[1.10793e-05,1.09791e-05],[9.40623e-06,9.70448e-06],[9.62371e-06,9.8141e-06],[1.38066e-05,1.42445e-05],[1.78123e-05,1.66899e-05],[1.85035e-05,1.81888e-05],[1.34301e-05,1.40622e-05],[1.65977e-05,1.6432e-05],[1.39801e-05,1.36232e-05],[8.03714e-06,8.00372e-06],[1.12365e-05,1.09665e-05],[4.94557e-06,6.01252e-06],[6.84356e-06,6.68342e-06]] color=red fillStyle=solid lineStyle=solid pointStyle=plus lineWidth=1]"
      ]
     },
     "execution_count": 15,
     "metadata": {},
     "output_type": "execute_result"
    }
   ],
   "source": [
    "val.drawValidation()"
   ]
  },
  {
   "cell_type": "markdown",
   "metadata": {},
   "source": [
    "## Annexe : coefficient de prédictivité\n",
    "\n",
    "Le facteur de prédictivité $Q_2$ est un coefficient qui mesure la qualité d'un méta-modèle. \n",
    "* C'est un nombre entre 0 et 1.\n",
    "* Si Q2 est proche de 1, alors le métamodèle est excellent.\n",
    "* Si Q2 est proche de 0, alors le métamodèle est une mauvaise approximation de la fonction.\n",
    "\n",
    "En pratique, un $Q_2$ supérieur à 0.95 est qualifié de satisfaisant. \n",
    "\n",
    "On suppose que l'on dispose de $n$ entrées de validation $\\boldsymbol{x}_i$ ainsi que des observations $y_i$ correspondantes. On note $M$ le méta-modèle. \n",
    "Soit $\\bar{y}$ la moyenne des observations de validation :\n",
    "$$\n",
    "\\bar{y} = \\frac{1}{n} \\sum_{i=1}^{n} y_i\n",
    "$$\n",
    "Le coefficient $Q_2$ est défini par l'équation :\n",
    "$$\n",
    "Q_2 = 1 - \\frac{\\sum_{i=1}^{n} (y_i - M(\\boldsymbol{x}_i))^2}{\\sum_{i=1}^{n} (y_i - \\bar{y})^2}.\n",
    "$$"
   ]
  },
  {
   "cell_type": "markdown",
   "metadata": {},
   "source": [
    "## Exercices\n",
    "\n",
    "### Exercice 1 : sensibilité à la taille de l'échantillon d'apprentissage\n",
    "\n",
    "On s'interroge sur l'évolution de la qualité du métamodèle lorsque le nombre de points dans le plan d'expériences augmente. \n",
    "\n",
    "**Questions**\n",
    "* Modifier le plan d'expériences utilisé pour apprendre le méta-modèle : utiliser `sampleSize_train = 100`. \n",
    "* Mettre à jour le métamodèle de krigeage. \n",
    "* Comment évolue le coefficient de prédictivité ?\n",
    "* Pourquoi ?\n",
    "\n",
    "### Exercice 2 : utilisation d'une tendance\n",
    "\n",
    "Il y a trois classes qui permettent de créer des modèles de tendance.\n",
    "* `ConstantBasisFactory` : tendance constante\n",
    "* `LinearBasisFactory` : tendance linéaire\n",
    "* `QuadraticBasisFactory` : tendance quadratique\n",
    "\n",
    "**Questions**\n",
    "* Mettre à jour la tendance du modèle et utiliser une tendance linéaire. \n",
    "* Quelle est la tendance estimée par la méthode du maximum de vraisemblance ?\n",
    "* Quel est l'impact sur la qualité du méta-modèle ?\n",
    "\n",
    "### Exercice 3 : nombre d'observations et nombre de paramètres\n",
    "\n",
    "On souhaite vérifier que le nombre d'observations est suffisant pour estimer correctement les paramètres. \n",
    "\n",
    "* Calculer le nombre de paramètres estimés dans le krigeage. Pour cela, faire la somme du nombre de paramètres de la tendance et du noyau de covariance.\n",
    "* Calculer le nombre d'observations dans le plan d'expériences. \n",
    "* Calculer le ratio entre le nombre d'observations et le nombre de paramètres. \n",
    "* La taille du plan d'expériences est-elle suffisante pour estimer les paramètres ?\n",
    "\n",
    "### Exercice 4 : distribution des résidus\n",
    "\n",
    "On souhaite valider la qualité du métamodèle. Nous avons vu comment récupérer les résidus avec la classe `getResidualSample` et tracer l'histogramme de ces résidus avec la classe `HistogramFactory`. Il s'avère que l'on peut récupérer directement la distribution des résidus avec \n",
    "\n",
    "**Questions**\n",
    "* Utiliser la méthode `getResidualDistribution` pour obtenir la distribution des résidus.\n",
    "* Utiliser la méthode `drawPDF` pour dessiner la distribution des résidus.\n",
    "* Que conclure ?"
   ]
  }
 ],
 "metadata": {
  "kernelspec": {
   "display_name": "Python 3",
   "language": "python",
   "name": "python3"
  },
  "language_info": {
   "codemirror_mode": {
    "name": "ipython",
    "version": 3
   },
   "file_extension": ".py",
   "mimetype": "text/x-python",
   "name": "python",
   "nbconvert_exporter": "python",
   "pygments_lexer": "ipython3",
   "version": "3.7.4"
  }
 },
 "nbformat": 4,
 "nbformat_minor": 2
}
