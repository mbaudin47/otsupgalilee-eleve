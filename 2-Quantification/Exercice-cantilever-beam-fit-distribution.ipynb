{
 "cells": [
  {
   "cell_type": "markdown",
   "metadata": {},
   "source": [
    "# Quantification des incertitudes\n",
    "\n",
    "## Résumé\n",
    "\n",
    "Dans cette page, nous utilisons le cas de sollicitation d'une poutre en flexion dans le but d'identifier la loi qui s'ajuste à un échantillon unidimensionnel donné."
   ]
  },
  {
   "cell_type": "markdown",
   "metadata": {},
   "source": [
    "# Introduction"
   ]
  },
  {
   "cell_type": "markdown",
   "metadata": {},
   "source": [
    "On considère une poutre dont le module d'Young est noté $E$ (Pa).\n",
    "\n",
    "<img src=\"poutre.png\" width=\"200\">\n",
    "\n",
    "**Figure 1.** Déviation verticale $Y$ de la poutre de longueur $L$. \n",
    "\n",
    "La distribution de référence pour la variable $E$ est :\n",
    "\n",
    "$$\n",
    "Beta\\left(\\alpha = 0.9, \\, \\beta = 2.6, \\, a = 2.8\\times 10^7, \\, b = 4.8\\times 10^7\\right)\n",
    "$$\n",
    "\n",
    "On suppose que cette distribution est inconnue. On dispose d'un échantillon de 229 mesures de $E$ dans le fichier `sample_E.csv`. L'objectif de cet exercice est d'identifier la loi qui s'ajuste le mieux à cet échantillon. "
   ]
  },
  {
   "cell_type": "code",
   "execution_count": 1,
   "metadata": {},
   "outputs": [],
   "source": [
    "import openturns as ot"
   ]
  },
  {
   "cell_type": "code",
   "execution_count": 2,
   "metadata": {},
   "outputs": [
    {
     "name": "stdout",
     "output_type": "stream",
     "text": [
      "Sample size=229\n"
     ]
    }
   ],
   "source": [
    "data = ot.Sample.ImportFromCSVFile(\"sample_E.csv\")\n",
    "data.setDescription([\"Young Modulus\"])  # Optionnel\n",
    "n = data.getSize()\n",
    "print(\"Sample size=%d\" % (n))"
   ]
  },
  {
   "cell_type": "code",
   "execution_count": 3,
   "metadata": {},
   "outputs": [
    {
     "data": {
      "text/html": [
       "<table>\n",
       "  <tr><td></td><th>Young Modulus</th></tr>\n",
       "  <tr><th>0</th><td>2.995319e+07</td></tr>\n",
       "  <tr><th>1</th><td>2.868042e+07</td></tr>\n",
       "  <tr><th>2</th><td>3.064115e+07</td></tr>\n",
       "  <tr><th>3</th><td>3.205095e+07</td></tr>\n",
       "  <tr><th>4</th><td>3.778573e+07</td></tr>\n",
       "  <tr><th>5</th><td>3.797256e+07</td></tr>\n",
       "  <tr><th>6</th><td>3.706933e+07</td></tr>\n",
       "  <tr><th>7</th><td>3.017982e+07</td></tr>\n",
       "  <tr><th>8</th><td>3.72172e+07</td></tr>\n",
       "  <tr><th>9</th><td>2.926821e+07</td></tr>\n",
       "</table>"
      ],
      "text/plain": [
       "class=Sample name=Unnamed implementation=class=SampleImplementation name=Unnamed size=10 dimension=1 description=[Young Modulus] data=[[2.99532e+07],[2.86804e+07],[3.06412e+07],[3.2051e+07],[3.77857e+07],[3.79726e+07],[3.70693e+07],[3.01798e+07],[3.72172e+07],[2.92682e+07]]"
      ]
     },
     "execution_count": 3,
     "metadata": {},
     "output_type": "execute_result"
    }
   ],
   "source": [
    "data[0:10]"
   ]
  },
  {
   "cell_type": "markdown",
   "metadata": {},
   "source": [
    "## Question 1 : statistiques descriptives\n",
    "\n",
    "**Questions.**\n",
    "- Calculer les principales caractéristiques de l'échantillon : moyenne, écart-type, médiane, minimum, maximum, intervalle inter-quartiles (i.e. à 25% et 75%)."
   ]
  },
  {
   "cell_type": "markdown",
   "metadata": {},
   "source": [
    "## Question 2 : histogramme empirique\n",
    "\n",
    "**Questions.**\n",
    "- Utiliser la classe `HistogramFactory` pour dessiner l'histogramme empirique de l'échantillon."
   ]
  },
  {
   "cell_type": "markdown",
   "metadata": {},
   "source": [
    "## Question 3 : ajuster une loi beta\n",
    "\n",
    "**Questions.**\n",
    "* Utiliser la classe `BetaFactory` pour estimer les paramètres de la loi Beta s'ajustant au données. \n",
    "* Dessiner la PDF de cette loi ajustée.\n",
    "* Afficher les paramètres estimés."
   ]
  },
  {
   "cell_type": "markdown",
   "metadata": {},
   "source": [
    "## Question 4 : réaliser le test de Kolmogorov-Smirnov\n",
    "\n",
    "**Questions.**\n",
    "- Utiliser la classe `FittingTest.Lilliefors` pour réaliser le test de Lilliefors, c'est-à-dire le test Kolmogorov-Smirnov associée à une distribution dont les paramètres sont estimés en fonction de l'échantillon. \n",
    "- Calculer la p-valeur.\n",
    "- Doit-on rejeter la loi beta ou non ?"
   ]
  },
  {
   "cell_type": "markdown",
   "metadata": {},
   "source": [
    "## Question 5 : QQ-plot\n",
    "\n",
    "**Questions.**\n",
    "- Utiliser la classe `VisualTest.DrawQQplot` pour dessiner le qq-plot. \n",
    "- L'ajustement est-il satisfaisant ?"
   ]
  },
  {
   "cell_type": "markdown",
   "metadata": {},
   "source": [
    "## Question 6 : sélection de modèle par le critère BIC\n",
    "\n",
    "On souhaite déterminer quelle loi s'ajuste le mieux au sens du critère BIC (c'est-à-dire menant à la plus petite valeur du critère BIC). \n",
    "\n",
    "**Questions.**\n",
    "- Comparer les lois suivantes du point de vue du critère : uniforme, gaussienne, beta, log-normale. Quelle est la loi qui est la meilleure du point de vue du critère BIC ?\n",
    "- La méthode `FittingTest.BestModelBIC` permet de renvoyer la distribution réalisant le meilleur critère BIC dans une liste de distributions candidates. Pour créer cette liste, on peut utiliser la méthode `GetContinuousUniVariateFactories`. Quelle distribution ressort de cette méthode ? Est-elle satisfaisante du point de vue du QQ-Plot ?\n",
    "\n",
    "Notice that the `ot.FittingTest.BIC` has a different behaviour if the input argument is a `Factory` or a `Distribution`. \n",
    "- If a `Factory` is provided, then the number of estimated parameters is set to the number of parameters of the distribution. \n",
    "- If a `Distribution` is provided, then the number of estimated parameters must be set by the user. Otherwise, the default is to set the number of estimated parameters to the number of parameters of the distribution. \n",
    "\n",
    "Reference\n",
    "- https://github.com/openturns/openturns/issues/2198"
   ]
  },
  {
   "cell_type": "markdown",
   "metadata": {},
   "source": [
    "## Question 7 : histogramme\n",
    "\n",
    "**Questions.**\n",
    "- Utiliser la classe `HistogramFactory` pour créer la distribution de type histogramme qui s'ajuste aux données. \n",
    "- Utiliser le QQ-plot pour valider graphiquement cette distribution. \n",
    "- Quelle est la limite de cette technique ?\n",
    "- L'histogramme est-il une distribution satisfaisante de ce cas particulier ? Dans quel type d'études cette méthode pourrait convenir ?"
   ]
  },
  {
   "cell_type": "markdown",
   "metadata": {},
   "source": [
    "## Question 8 : méthode de lissage à noyau\n",
    "\n",
    "**Questions.**\n",
    "\n",
    "- Utiliser la classe `KernelSmoothing` pour utiliser une méthode à noyau pour estimer la distribution. \n",
    "- Utiliser le QQ-Plot pour valider le résultat graphiquement.\n",
    "- Utiliser la méthode `setBoundaryCorrection()` pour activer la correction au bord. Qu'observez-vous ?"
   ]
  },
  {
   "cell_type": "markdown",
   "metadata": {},
   "source": [
    "## Question 9 : synthèse\n",
    "\n",
    "On souhaite comparer les trois distributions suivantes :\n",
    "- la distribution Beta,\n",
    "- la distribution issue de l'estimation par lissage à noyau,\n",
    "- l'histogramme empirique.\n",
    "\n",
    "**Questions.**\n",
    "\n",
    "Comparer ces distributions du point de vue de la PDF : \n",
    "- quelles différences observez-vous ?\n",
    "- quelle semble être la loi la plus appropriée ?"
   ]
  }
 ],
 "metadata": {
  "css": [
   ""
  ],
  "kernelspec": {
   "display_name": "Python 3 (ipykernel)",
   "language": "python",
   "name": "python3"
  },
  "language_info": {
   "codemirror_mode": {
    "name": "ipython",
    "version": 3
   },
   "file_extension": ".py",
   "mimetype": "text/x-python",
   "name": "python",
   "nbconvert_exporter": "python",
   "pygments_lexer": "ipython3",
   "version": "3.13.1"
  }
 },
 "nbformat": 4,
 "nbformat_minor": 1
}
