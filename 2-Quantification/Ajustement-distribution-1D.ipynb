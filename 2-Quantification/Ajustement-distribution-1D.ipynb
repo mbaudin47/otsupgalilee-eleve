{
 "cells": [
  {
   "cell_type": "markdown",
   "metadata": {
    "slideshow": {
     "slide_type": "slide"
    }
   },
   "source": [
    "# Ajustement d'une loi de distribution unidimensionnelle\n",
    "\n",
    "## Résumé\n",
    "\n",
    "Dans ce notebook, nous présentons comment estimer les paramètres d'une loi à partir d'un échantillon.\n",
    "\n",
    "En particulier, nous explorons les thèmes suivants :\n",
    "- les classes `Factory`; exemple des classes `NormalFactory` et `WeibullMinFactory`,\n",
    "- test graphique; la classe `DrawQQplot`,\n",
    "- tests statistiques; les classes `Kolmogorov` et `BIC`,\n",
    "- les méthodes non paramétriques\n",
    " - l'histogramme et la classe `HistogramFactory`\n",
    " - les méthodes à noyau et la classe `KernelSmoothing`"
   ]
  },
  {
   "cell_type": "markdown",
   "metadata": {
    "slideshow": {
     "slide_type": "slide"
    }
   },
   "source": [
    "## Création de l'échantillon"
   ]
  },
  {
   "cell_type": "code",
   "execution_count": 1,
   "metadata": {
    "slideshow": {
     "slide_type": "-"
    }
   },
   "outputs": [],
   "source": [
    "import openturns as ot\n",
    "import numpy as np"
   ]
  },
  {
   "cell_type": "markdown",
   "metadata": {
    "slideshow": {
     "slide_type": "-"
    }
   },
   "source": [
    "Nous commençons par créer un échantillon, en utilisant une variable gaussienne centrée-réduite. Nous générons un échantillon de taille $n=100$."
   ]
  },
  {
   "cell_type": "code",
   "execution_count": 2,
   "metadata": {
    "slideshow": {
     "slide_type": "fragment"
    }
   },
   "outputs": [],
   "source": [
    "n = 100\n",
    "data = ot.Normal().getSample(n)"
   ]
  },
  {
   "cell_type": "markdown",
   "metadata": {
    "slideshow": {
     "slide_type": "-"
    }
   },
   "source": [
    "On observe que, à cause de la taille finie de l'échantillon, la moyenne empirique et l'écart-type ne sont pas exactement égaux à l'espérance et l'écart-type de la variable aléatoire."
   ]
  },
  {
   "cell_type": "code",
   "execution_count": 3,
   "metadata": {
    "slideshow": {
     "slide_type": "fragment"
    }
   },
   "outputs": [
    {
     "name": "stdout",
     "output_type": "stream",
     "text": [
      "[0.0647826]\n",
      "[[ 0.991286 ]]\n"
     ]
    }
   ],
   "source": [
    "print(data.computeMean())\n",
    "print(data.computeStandardDeviation())"
   ]
  },
  {
   "cell_type": "markdown",
   "metadata": {
    "slideshow": {
     "slide_type": "slide"
    }
   },
   "source": [
    "## Estimation paramétrique"
   ]
  },
  {
   "cell_type": "markdown",
   "metadata": {
    "slideshow": {
     "slide_type": "-"
    }
   },
   "source": [
    "On considère une variable aléatoire associée au vecteur de paramètres $\\theta\\in\\mathbb{R}^p$, où $p$ est le nombre de paramètres. Les méthodes d'estimation paramétriques ont pour objectif d'estimer la valeur du vecteur $\\theta$ qui s'ajuste le mieux à un échantillon donné. \n",
    "\n",
    "Dans OpenTURNS, deux méthodes sont utilisées pour estimer les paramètres d'une loi en fonction d'un échantillon.\n",
    "- la classe `MethodOfMomentsFactory` utilise la méthode des moments qui consiste à rechercher la valeur de $\\theta$ qui minimise l'écart entre les moments de la distribution et les moments centrés de l'échantillon,\n",
    "- la classe `MaximumLikelihoodFactory` utilise la méthode du maximum de vraisemblance qui consiste à rechercher la valeur de $\\theta$ qui maximise la vraisemblance."
   ]
  },
  {
   "cell_type": "markdown",
   "metadata": {
    "slideshow": {
     "slide_type": "slide"
    }
   },
   "source": [
    "En fonction des distributions, la librairie peut utiliser une combinaison de ces deux méthodes, c'est à dire que certains paramètres peuvent être calculés par la méthode des moments et d'autres peuvent être calculés par la méthode du maximum de vraisemblance. Une autre situation qui peut également arriver est que, dans le but d'aider à la convergence de la méthode du maximum de vraisemblance, on utilise la méthode des moments pour initialiser le calcul.\n",
    "\n",
    "En pratique, la technique la plus courante consiste à utiliser la `Factory` associée à la distribution dont on souhaite estimer les paramètres. Par exemple, pour la distribution `Normal`, la classe correspondante est la classe `NormalFactory`. Cette classe utilise la méthode des moments ; la théorie montre que, pour la distribution gaussienne la méthode des moments et la méthode du maximum de vraisemblance sont équivalentes. "
   ]
  },
  {
   "cell_type": "code",
   "execution_count": 4,
   "metadata": {
    "slideshow": {
     "slide_type": "slide"
    }
   },
   "outputs": [
    {
     "data": {
      "text/html": [
       "<p>Normal(mu = 0.0647826, sigma = 0.991286)</p>"
      ],
      "text/plain": [
       "class=Normal name=Normal dimension=1 mean=class=Point name=Unnamed dimension=1 values=[0.0647826] sigma=class=Point name=Unnamed dimension=1 values=[0.991286] correlationMatrix=class=CorrelationMatrix dimension=1 implementation=class=MatrixImplementation name=Unnamed rows=1 columns=1 values=[1]"
      ]
     },
     "execution_count": 4,
     "metadata": {},
     "output_type": "execute_result"
    }
   ],
   "source": [
    "X = ot.NormalFactory().build(data)\n",
    "X"
   ]
  },
  {
   "cell_type": "markdown",
   "metadata": {},
   "source": [
    "Dans l'exemple suivant, on créée la variable `Y` par ajustement avec la distribution de Weibull."
   ]
  },
  {
   "cell_type": "code",
   "execution_count": 5,
   "metadata": {},
   "outputs": [
    {
     "data": {
      "text/html": [
       "<p>WeibullMin(beta = 2.90838, alpha = 2.81993, gamma = -2.49918)</p>"
      ],
      "text/plain": [
       "class=WeibullMin name=WeibullMin dimension=1 beta=2.90838 alpha=2.81993 gamma=-2.49918"
      ]
     },
     "execution_count": 5,
     "metadata": {},
     "output_type": "execute_result"
    }
   ],
   "source": [
    "Y = ot.WeibullMinFactory().build(data)\n",
    "Y"
   ]
  },
  {
   "cell_type": "markdown",
   "metadata": {
    "slideshow": {
     "slide_type": "slide"
    }
   },
   "source": [
    "## Validation graphique de l'ajustement"
   ]
  },
  {
   "cell_type": "markdown",
   "metadata": {
    "slideshow": {
     "slide_type": "-"
    }
   },
   "source": [
    "Une méthode fréquemment utilisée pour valider les paramètres de la distribution consiste à créer le QQ-Plot. Il s'agit d'un graphique dans lequel \n",
    "- l'axe des abscisses présente les quantiles empiriques de l'échantillon,\n",
    "- l'axe des ordonnées présente les quantiles de la distribution.\n",
    "\n",
    "Si les points sont proches de la première bissectrice, alors on considère que l'ajustement est correct. Il arrive fréquemment que l'ajustement est acceptable dans le centre de la distribution (i.e. au milieu du graphique), mais de qualité moindre dans les queues de la distribution. En fonction des objectifs de l'étude, cela peut être acceptable ou non."
   ]
  },
  {
   "cell_type": "code",
   "execution_count": 6,
   "metadata": {
    "scrolled": true,
    "slideshow": {
     "slide_type": "slide"
    }
   },
   "outputs": [
    {
     "data": {
      "image/png": "[encoded data removed]",
      "text/plain": [
       "class=Graph name=Sample versus model QQ-plot implementation=class=GraphImplementation name=Sample versus model QQ-plot title=Sample versus model QQ-plot xTitle=X0 yTitle=Normal(mu = 0.0647826, sigma = 0.991286) axes=ON grid=ON legendposition=topleft legendFontSize=1 drawables=[class=Drawable name=Test line implementation=class=Curve name=Test line derived from class=DrawableImplementation name=Test line legend=Test line data=class=Sample name=Unnamed implementation=class=SampleImplementation name=Unnamed size=2 dimension=2 data=[[-2.29006,-2.29006],[2.24623,2.24623]] color=red fillStyle=solid lineStyle=dashed pointStyle=none lineWidth=1,class=Drawable name=Data implementation=class=Cloud name=Data derived from class=DrawableImplementation name=Data legend=Data data=class=Sample name=Unnamed implementation=class=SampleImplementation name=Unnamed size=100 dimension=2 data=[[-2.29006,-2.4886],[-2.18139,-2.0864],[-1.96869,-1.8781],[-1.78796,-1.73134],[-1.66086,-1.61584],[-1.53073,-1.51948],[-1.36853,-1.43613],[-1.31178,-1.3622],[-1.28289,-1.29546],[-1.26617,-1.23438],[-1.03896,-1.17786],[-1.03808,-1.12512],[-0.958722,-1.07554],[-0.957072,-1.02867],[-0.938771,-0.984119],[-0.901581,-0.941593],[-0.89182,-0.900843],[-0.856712,-0.861663],[-0.855886,-0.823879],[-0.781366,-0.787344],[-0.777033,-0.751932],[-0.752817,-0.717532],[-0.743622,-0.68405],[-0.734708,-0.651401],[-0.721533,-0.619511],[-0.671291,-0.588314],[-0.657603,-0.557751],[-0.633066,-0.527769],[-0.560206,-0.498319],[-0.510764,-0.469358],[-0.506925,-0.440846],[-0.485112,-0.412747],[-0.483642,-0.385026],[-0.470526,-0.357652],[-0.438266,-0.330597],[-0.382992,-0.303833],[-0.355007,-0.277336],[-0.353552,-0.25108],[-0.241223,-0.225045],[-0.238253,-0.199207],[-0.181004,-0.173548],[-0.160625,-0.148048],[-0.139453,-0.122688],[-0.125498,-0.0974498],[-0.111461,-0.0723164],[-0.0907838,-0.0472709],[-0.0899071,-0.0222968],[-0.0436123,0.00262223],[0.0521593,0.027502],[0.0702074,0.0523583],[0.103474,0.0772068],[0.184356,0.102063],[0.257926,0.126943],[0.261018,0.151862],[0.29995,0.176836],[0.322925,0.201882],[0.334794,0.227015],[0.338751,0.252253],[0.350042,0.277613],[0.351418,0.303114],[0.377922,0.328773],[0.40136,0.35461],[0.407717,0.380645],[0.44549,0.406901],[0.445785,0.433398],[0.473617,0.460162],[0.538071,0.487217],[0.539345,0.514591],[0.544047,0.542312],[0.608202,0.570411],[0.637167,0.598923],[0.655027,0.627884],[0.677958,0.657334],[0.716353,0.687316],[0.741548,0.717879],[0.759602,0.749076],[0.790446,0.780966],[0.793156,0.813615],[0.810668,0.847097],[0.814561,0.881497],[0.905602,0.916909],[0.994482,0.953444],[0.995793,0.991228],[1.00434,1.03041],[1.01556,1.07116],[1.07062,1.11368],[1.20548,1.15823],[1.21381,1.20511],[1.27128,1.25468],[1.3263,1.30742],[1.36783,1.36394],[1.43725,1.42503],[1.67297,1.49177],[1.70938,1.56569],[1.73821,1.64905],[1.78236,1.74541],[1.85579,1.8609],[1.96876,2.00767],[2.11968,2.21596],[2.24623,2.61817]] color=blue fillStyle=solid lineStyle=solid pointStyle=bullet lineWidth=1]"
      ]
     },
     "execution_count": 6,
     "metadata": {},
     "output_type": "execute_result"
    }
   ],
   "source": [
    "ot.VisualTest.DrawQQplot(data, X)"
   ]
  },
  {
   "cell_type": "markdown",
   "metadata": {
    "slideshow": {
     "slide_type": "slide"
    }
   },
   "source": [
    "Dans la boucle `for` suivante, nous comparons l'ajustement avec les distributions uniformes et beta."
   ]
  },
  {
   "cell_type": "code",
   "execution_count": 7,
   "metadata": {
    "scrolled": true
   },
   "outputs": [
    {
     "data": {
      "image/png": "[encoded data removed]",
      "text/plain": [
       "<Figure size 864x288 with 2 Axes>"
      ]
     },
     "metadata": {
      "needs_background": "light"
     },
     "output_type": "display_data"
    }
   ],
   "source": [
    "import openturns.viewer\n",
    "import pylab as pl\n",
    "fig = pl.figure(figsize=(12, 4))\n",
    "distributionList = [ot.UniformFactory(),ot.BetaFactory()]\n",
    "for i in range(len(distributionList)):\n",
    "    F = distributionList[i]\n",
    "    T = F.build(data)\n",
    "    graph = ot.VisualTest.DrawQQplot(data, T)\n",
    "    graph.setYTitle(T.getName())\n",
    "    ax_pdf = fig.add_subplot(1, len(distributionList), i + 1)\n",
    "    _ = ot.viewer.View(graph, figure=fig, axes=[ax_pdf])"
   ]
  },
  {
   "cell_type": "markdown",
   "metadata": {},
   "source": [
    "L'ajustement pour la loi uniforme est inacceptable, mais la loi beta pourrait convenir."
   ]
  },
  {
   "cell_type": "markdown",
   "metadata": {
    "slideshow": {
     "slide_type": "slide"
    }
   },
   "source": [
    "## Tests statistiques\n"
   ]
  },
  {
   "cell_type": "markdown",
   "metadata": {
    "slideshow": {
     "slide_type": "-"
    }
   },
   "source": [
    "Les méthodes de tests statistiques permettent de quantifier l'écart entre l'échantillon et la loi estimée. Plusieurs méthodes sont disponibles dans la librairie, mais les deux méthodes les plus fréquemment utilisées sont :\n",
    "- le test de Kolmogorov-Smirnov (KS), qui quantifie l'écart maximal entre la fonction de répartition empirique et la fonction de répartition théorique,\n",
    "- le critère BIC, qui permet de pénaliser les distributions associées à un plus grand nombre de paramètres."
   ]
  },
  {
   "cell_type": "markdown",
   "metadata": {
    "slideshow": {
     "slide_type": "slide"
    }
   },
   "source": [
    "## Test de Kolmogorov-Smirnov\n",
    "\n",
    "Soit $n$ la taille de l'échantillon. Soit $\\{x_i\\}_{i=1,...,n}$ un échantillon i.i.d. de la variable aléatoire réelle $X$. Soit $F$ la fonction de répartition que l'on souhaite tester. Le test de Kolmogorov-Smirnov est fondé sur la statistique suivante :\n",
    "$$\n",
    "\\hat{D}_n = \\max_{i=1,...,n} \\left|F(x_i) - \\frac{i-1}{n}, \\frac{i}{n} - F(x_i)\\right|.\n",
    "$$\n",
    "Cette statistique mesure l'écart entre la fonction de répartition théorique et la fonction de répartition empirique. \n",
    "\n",
    "Faisons l'hypothèse que l'échantillon est issu de la fonction de répartition $F$. Soit $D$ la variable aléatoire associée à la statistique de KS. Soit $p\\in[0,1]$ la probabilité d'observer un tel écart :\n",
    "$$\n",
    "P\\left(D \\geq \\hat{D}_n\\right) = p.\n",
    "$$\n",
    "La probabilité $p$ est la *p-valeur* du test. Si $p$ est trop proche de zéro (par exemple si $p<0.05$), alors on considère que l'échantillon n'est pas issu de $F$ et on rejette la loi. Sinon, on ne peut pas rejeter l'hypothèse. "
   ]
  },
  {
   "cell_type": "markdown",
   "metadata": {
    "slideshow": {
     "slide_type": "slide"
    }
   },
   "source": [
    "Deux situations doivent être opposées. \n",
    "- Si l'on connait les paramètres de la loi à tester, alors la distribution de la statistique de KS est connue tant pour $n$ grand (distribution asymptotique) que pour $n$ fini. \n",
    "- Si les paramètres de la loi sont estimés sur l'échantillon alors la distribution de la statistique de KS est inconnue en général. Dans ce cas, on procède par échantillonnage. \n",
    "\n",
    "Si les paramètres de la loi sont estimés sur l'échantillon, alors l'adéquation est meilleure avec les données. Cela qui diminue la valeur de la statistique de test, d'autant plus  que la distribution possède plus de paramètres à ajuster. En d'autres termes, les faibles valeurs de la statistique de test sont plus fréquentes. "
   ]
  },
  {
   "cell_type": "markdown",
   "metadata": {
    "slideshow": {
     "slide_type": "slide"
    }
   },
   "source": [
    "## Cas 1 : les paramètres de la loi sont connus\n",
    "\n",
    "Selon la situation dans laquelle on se situe, ce n'est pas le même constructeur de la classe `FittingTest.Kolmogorov` qui doit être utilisé.\n",
    "\n",
    "Premièrement, plaçons nous dans la situation où les paramètres sont connus. Dans cette situation, le second argument de la classe `Kolmogorov` est la distribution testée, c'est à dire un objet de type `Distribution`.\n",
    "\n",
    "Le script suivant teste l'hypothèse \n",
    "\n",
    "H0 = \"l'échantillon est issu de la distribution gaussienne de paramètres $\\mu=0$ et $\\sigma=1$\""
   ]
  },
  {
   "cell_type": "code",
   "execution_count": 8,
   "metadata": {
    "slideshow": {
     "slide_type": "slide"
    }
   },
   "outputs": [
    {
     "data": {
      "text/html": [
       "<p>class=TestResult name=Unnamed type=Kolmogorov Normal binaryQualityMeasure=true p-value threshold=0.05 p-value=0.490259 statistic=0.0817682 description=[Normal(mu = 0, sigma = 1) vs sample Normal]</p>"
      ],
      "text/plain": [
       "class=TestResult name=Unnamed type=Kolmogorov Normal binaryQualityMeasure=true p-value threshold=0.05 p-value=0.490259 statistic=0.0817682 description=[Normal(mu = 0, sigma = 1) vs sample Normal]"
      ]
     },
     "execution_count": 8,
     "metadata": {},
     "output_type": "execute_result"
    }
   ],
   "source": [
    "T = ot.Normal()\n",
    "ksresult = ot.FittingTest.Kolmogorov(data, T)\n",
    "ksresult"
   ]
  },
  {
   "cell_type": "code",
   "execution_count": 9,
   "metadata": {},
   "outputs": [
    {
     "data": {
      "text/plain": [
       "0.49025908234293103"
      ]
     },
     "execution_count": 9,
     "metadata": {},
     "output_type": "execute_result"
    }
   ],
   "source": [
    "ksresult.getPValue()"
   ]
  },
  {
   "cell_type": "code",
   "execution_count": 10,
   "metadata": {
    "scrolled": true
   },
   "outputs": [
    {
     "data": {
      "text/plain": [
       "0.05"
      ]
     },
     "execution_count": 10,
     "metadata": {},
     "output_type": "execute_result"
    }
   ],
   "source": [
    "ksresult.getThreshold()"
   ]
  },
  {
   "cell_type": "markdown",
   "metadata": {},
   "source": [
    "La méthode `getBinaryQualityMeasure` renvoit vrai si on ne peut pas rejeter l'hypothèse H0. Les esprits les plus téméraires affirmeraient qu'on \"accepte l'hypothèse\", mais les statisticiens sont de tempérament prudent."
   ]
  },
  {
   "cell_type": "code",
   "execution_count": 11,
   "metadata": {
    "scrolled": true
   },
   "outputs": [
    {
     "data": {
      "text/plain": [
       "True"
      ]
     },
     "execution_count": 11,
     "metadata": {},
     "output_type": "execute_result"
    }
   ],
   "source": [
    "ksresult.getBinaryQualityMeasure()"
   ]
  },
  {
   "cell_type": "markdown",
   "metadata": {
    "slideshow": {
     "slide_type": "slide"
    }
   },
   "source": [
    "## Cas 2 : les paramètres de la loi sont estimés\n",
    "\n",
    "Deuxièmement, on se place dans la situation où les paramètres sont estimés sur l'échantillon. Dans cette situation, on doit utiliser le second argument de la classe `Kolmogorov` est la méthode d'estimation de la distribution à tester, c'est à dire un objet de type `Factory`.\n",
    "\n",
    "Pour estimer la distribution de la statistique de test, nous commençons par configurer la taille de l'échantillon utilisé par l'algorithme."
   ]
  },
  {
   "cell_type": "code",
   "execution_count": 12,
   "metadata": {},
   "outputs": [],
   "source": [
    "ot.ResourceMap.SetAsUnsignedInteger(\"FittingTest-KolmogorovSamplingSize\",1000)"
   ]
  },
  {
   "cell_type": "code",
   "execution_count": 13,
   "metadata": {
    "slideshow": {
     "slide_type": "slide"
    }
   },
   "outputs": [
    {
     "data": {
      "text/html": [
       "<p>class=TestResult name=Unnamed type=Kolmogorov Normal binaryQualityMeasure=true p-value threshold=0.05 p-value=0.558 statistic=0.0572416 description=[Normal(mu = 0.0647826, sigma = 0.991286) vs sample Normal]</p>"
      ],
      "text/plain": [
       "class=TestResult name=Unnamed type=Kolmogorov Normal binaryQualityMeasure=true p-value threshold=0.05 p-value=0.558 statistic=0.0572416 description=[Normal(mu = 0.0647826, sigma = 0.991286) vs sample Normal]"
      ]
     },
     "execution_count": 13,
     "metadata": {},
     "output_type": "execute_result"
    }
   ],
   "source": [
    "fact = ot.NormalFactory()\n",
    "dist, test_result = ot.FittingTest.Kolmogorov(data, fact)\n",
    "test_result"
   ]
  },
  {
   "cell_type": "code",
   "execution_count": 14,
   "metadata": {},
   "outputs": [
    {
     "data": {
      "text/plain": [
       "0.558"
      ]
     },
     "execution_count": 14,
     "metadata": {},
     "output_type": "execute_result"
    }
   ],
   "source": [
    "test_result.getPValue()"
   ]
  },
  {
   "cell_type": "markdown",
   "metadata": {},
   "source": [
    "La p-valeur est proche de 0.55, ce qui implique que l'hypothèse ne peut pas être rejetée."
   ]
  },
  {
   "cell_type": "code",
   "execution_count": 15,
   "metadata": {},
   "outputs": [
    {
     "data": {
      "text/plain": [
       "True"
      ]
     },
     "execution_count": 15,
     "metadata": {},
     "output_type": "execute_result"
    }
   ],
   "source": [
    "test_result.getBinaryQualityMeasure()"
   ]
  },
  {
   "cell_type": "markdown",
   "metadata": {
    "slideshow": {
     "slide_type": "slide"
    }
   },
   "source": [
    "## Cas 3 : les paramètres de la loi sont estimés, mais l'utilisateur commet une erreur\n",
    "\n",
    "Troisièmement, on se place dans la situation où les paramètres sont estimés sur l'échantillon mais l'utilisateur fait comme si les paramètres étaient connus. Dans cette situation, la p-valeur calculée par la librairie sera fausse et plus grande que la p-valeur correcte : on risque d'accepter à tort. C'est une erreur de la part de l'utilisateur."
   ]
  },
  {
   "cell_type": "code",
   "execution_count": 16,
   "metadata": {},
   "outputs": [
    {
     "data": {
      "text/html": [
       "<p>class=TestResult name=Unnamed type=Kolmogorov Normal binaryQualityMeasure=true p-value threshold=0.05 p-value=0.879738 statistic=0.0572416 description=[Normal(mu = 0.0647826, sigma = 0.991286) vs sample Normal]</p>"
      ],
      "text/plain": [
       "class=TestResult name=Unnamed type=Kolmogorov Normal binaryQualityMeasure=true p-value threshold=0.05 p-value=0.879738 statistic=0.0572416 description=[Normal(mu = 0.0647826, sigma = 0.991286) vs sample Normal]"
      ]
     },
     "execution_count": 16,
     "metadata": {},
     "output_type": "execute_result"
    }
   ],
   "source": [
    "dist = ot.NormalFactory().build(data)\n",
    "test_result = ot.FittingTest.Kolmogorov(data, dist)\n",
    "test_result"
   ]
  },
  {
   "cell_type": "code",
   "execution_count": 17,
   "metadata": {},
   "outputs": [
    {
     "data": {
      "text/plain": [
       "0.8797383423677565"
      ]
     },
     "execution_count": 17,
     "metadata": {},
     "output_type": "execute_result"
    }
   ],
   "source": [
    "test_result.getPValue()"
   ]
  },
  {
   "cell_type": "markdown",
   "metadata": {},
   "source": [
    "On observe que la p-valeur, fausse, vaut 0.88 alors que la p-valeur correcte est 0.8."
   ]
  },
  {
   "cell_type": "code",
   "execution_count": 18,
   "metadata": {},
   "outputs": [
    {
     "data": {
      "text/plain": [
       "True"
      ]
     },
     "execution_count": 18,
     "metadata": {},
     "output_type": "execute_result"
    }
   ],
   "source": [
    "test_result.getBinaryQualityMeasure()"
   ]
  },
  {
   "cell_type": "markdown",
   "metadata": {
    "slideshow": {
     "slide_type": "slide"
    }
   },
   "source": [
    "## Critère BIC\n",
    "\n",
    "Le critère Bayesian Information Criterion est un critère qui permet de sélectionner la distribution parmi une collection de $K$ distributions à tester. \n",
    "\n",
    "Pour $i=1,...,K$, soit $L_i$ la valeur du maximum de vraisemblance du i-ème modèle et soit $p_i$ le nombre de paramètres du i-ème modèle. Par exemple, si l'on considère la loi gaussienne, alors $p_i=2$, puisque cette loi est déterminée par les deux paramètres $\\mu$ et $\\sigma$. Le critère BIC implémenté dans la librairie est \n",
    "$$\n",
    "BIC_i = -2 \\frac{\\log(L_i)}{n} + \\frac{p_i \\log(n)}{n} \n",
    "$$\n",
    "où $n$ est la taille de l'échantillon. \n",
    "\n",
    "Le critère consiste à préférer la distribution associée à la plus petite valeur du critère BIC. \n",
    "\n",
    "D'une part, lorsque la distribution dépend d'un grand nombre de paramètres (i.e. lorsque $p_i$ est grand, alors l'ajustement est meilleur ce qui implique que la log-vraisemblance est plus grande et donc $-\\log(L_i)$ est plus petit. D'autre part, puisque le critère dépend du nombre de paramètres $p_i$, ce critère défavorise les distributions ayant un nombre de paramètres élevé. D'une manière globale, le critère réalise une pondération entre la qualité de l'ajustement et le nombre de paramètres. "
   ]
  },
  {
   "cell_type": "markdown",
   "metadata": {
    "slideshow": {
     "slide_type": "slide"
    }
   },
   "source": [
    "Dans la session suivante, on évalue le critère BIC pour la distribution gaussienne. "
   ]
  },
  {
   "cell_type": "code",
   "execution_count": 19,
   "metadata": {},
   "outputs": [
    {
     "data": {
      "text/plain": [
       "2.8148953639402152"
      ]
     },
     "execution_count": 19,
     "metadata": {},
     "output_type": "execute_result"
    }
   ],
   "source": [
    "ot.FittingTest.BIC(data, ot.Normal())"
   ]
  },
  {
   "cell_type": "markdown",
   "metadata": {
    "slideshow": {
     "slide_type": "-"
    }
   },
   "source": [
    "Dans l'absolu, ce critère n'est pas utile ; il n'est utile que par comparaison avec les autres distributions. "
   ]
  },
  {
   "cell_type": "markdown",
   "metadata": {
    "slideshow": {
     "slide_type": "slide"
    }
   },
   "source": [
    "Dans la boucle `for` suivante, on teste les lois gaussienne, uniforme, beta et log-normale et on évalue le critère BIC."
   ]
  },
  {
   "cell_type": "code",
   "execution_count": 20,
   "metadata": {
    "scrolled": true,
    "slideshow": {
     "slide_type": "-"
    }
   },
   "outputs": [
    {
     "name": "stdout",
     "output_type": "stream",
     "text": [
      "Name, BIC\n",
      "Normal: 2.8104\n",
      "Uniform: 3.0631\n",
      "Beta: 2.8490\n",
      "LogNormal: 2.8103\n"
     ]
    }
   ],
   "source": [
    "print(\"Name, BIC\")\n",
    "for F in [ot.NormalFactory(),ot.UniformFactory(),ot.BetaFactory(),ot.LogNormalFactory()]:\n",
    "    T = F.build(data)\n",
    "    name = T.getName()\n",
    "    bic = ot.FittingTest.BIC(data, T)\n",
    "    print(\"%s: %.4f\" % (name, bic))"
   ]
  },
  {
   "cell_type": "markdown",
   "metadata": {},
   "source": [
    "On observe que la plus petite valeur de BIC est atteinte pour les lois gaussienne et log-normale. La valeur pour la loi beta est significativement plus grande et la loi uniform est disqualifiée."
   ]
  },
  {
   "cell_type": "markdown",
   "metadata": {
    "slideshow": {
     "slide_type": "slide"
    }
   },
   "source": [
    "## Estimation non paramétrique : l'histogramme"
   ]
  },
  {
   "cell_type": "markdown",
   "metadata": {
    "slideshow": {
     "slide_type": "-"
    }
   },
   "source": [
    "Soit $\\{x_i\\}_{i=1,...,n}$ un échantillon unidimensionnel de taille $n$. La méthode la plus simple pour créer un histogramme consiste à créer des classes dont la largeur $h$ est fixée et constante. On note $a$ et $b$ les valeurs minimales et maximales dans l'échantillon :\n",
    "\n",
    "$$\n",
    "a = \\min_{i=1,...,n} x_i, \\qquad b = \\max_{i=1,...,n} x_i.\n",
    "$$\n",
    "\n",
    "Pour $i=1,...,m$, on note $t_i\\in\\mathbb{R}$ les bords des classes où $m$ est le nombre de classes et on fait l'hypothèse que le bords sont triés par ordre strictement croissants :\n",
    "\n",
    "$$\n",
    "t_1 < t_2 < \\ldots < t_m.\n",
    "$$\n",
    "\n",
    "Dans le cas particulier où les classes sont de largeur constante, on a :\n",
    "\n",
    "$$\n",
    "h = t_i - t_{i-1} \n",
    "$$\n",
    "\n",
    "pour $i=2,...,m$. "
   ]
  },
  {
   "cell_type": "markdown",
   "metadata": {
    "slideshow": {
     "slide_type": "slide"
    }
   },
   "source": [
    "Les classes sont les intervalles $[t_{i-1},t_i[\\subset\\mathbb{R}$ pour $i=2,...,m$. \n",
    "\n",
    "Soit $n_i$ le nombre de valeurs de l'échantillon dans la classe $[t_{i-1},t_i]$ :\n",
    "\n",
    "$$\n",
    "n_i = \\#\\left\\{x_j\\in [t_{i-1},t_i[, \\, j=1,...,n\\right\\}\n",
    "$$\n",
    "\n",
    "pour $i=1,...,m-1$. \n",
    "\n",
    "Soit \n",
    "\n",
    "$$\n",
    "y_i = \\frac{n_i}{w_i},\n",
    "$$\n",
    "\n",
    "où $w_i$ est un poids permettant d'assurer la normalisation de l'histogramme : \n",
    "\n",
    "$$\n",
    "\\sum_{i=1}^{m-1} y_i (t_{i+1} - t_{i}) = 1.\n",
    "$$"
   ]
  },
  {
   "cell_type": "markdown",
   "metadata": {
    "slideshow": {
     "slide_type": "slide"
    }
   },
   "source": [
    "Par exemple, avec une largeur de classe constante égale à $h$, on a \n",
    "\n",
    "$$\n",
    "w_i = \\frac{n}{h}.\n",
    "$$\n",
    "\n",
    "L'histogramme est la densité de probabilité définie par l'équation :\n",
    "\n",
    "$$\n",
    "f_X(x) = \\sum_{i=1}^{m-1} y_i\\;\\mathbb{1}_{[t_i,t_{i+1}]}(x)\n",
    "$$\n",
    "\n",
    "pour tout $x\\in[a,b]$. \n",
    "\n",
    "La valeur par défaut de la largeur de classe $h$ est la règle de Silverman qui minimise le critère AMISE :\n",
    "\n",
    "$$\n",
    "h = \\left(\\frac{24 \\sqrt{\\pi}}{n}\\right)^{1/3}  \\sigma_n\n",
    "$$\n",
    "\n",
    "où $\\sigma_n$ est l'écart-type empirique non biaisé de l'échantillon."
   ]
  },
  {
   "cell_type": "code",
   "execution_count": 21,
   "metadata": {
    "slideshow": {
     "slide_type": "slide"
    }
   },
   "outputs": [
    {
     "data": {
      "text/html": [
       "<p>Histogram(origin = -2.29006, {w0 = 0.648042, h0 = 0.0771555}, {w1 = 0.648042, h1 = 0.108018}, {w2 = 0.648042, h2 = 0.401209}, {w3 = 0.648042, h3 = 0.262329}, {w4 = 0.648042, h4 = 0.401209}, {w5 = 0.648042, h5 = 0.169742}, {w6 = 0.648042, h6 = 0.123449})</p>"
      ],
      "text/plain": [
       "class=Histogram name=Histogram dimension=1 first=-2.29006 width=class=Point name=Unnamed dimension=7 values=[0.648042,0.648042,0.648042,0.648042,0.648042,0.648042,0.648042] height=class=Point name=Unnamed dimension=7 values=[0.0771555,0.108018,0.401209,0.262329,0.401209,0.169742,0.123449]"
      ]
     },
     "execution_count": 21,
     "metadata": {},
     "output_type": "execute_result"
    }
   ],
   "source": [
    "histo = ot.HistogramFactory().build(data)\n",
    "histo"
   ]
  },
  {
   "cell_type": "code",
   "execution_count": 22,
   "metadata": {},
   "outputs": [
    {
     "data": {
      "image/png": "[encoded data removed]",
      "text/plain": [
       "class=Graph name=X0 PDF implementation=class=GraphImplementation name=X0 PDF title=X0 PDF xTitle=X0 yTitle=PDF axes=ON grid=ON legendposition=topright legendFontSize=1 drawables=[class=Drawable name=Unnamed implementation=class=Curve name=Unnamed derived from class=DrawableImplementation name=Unnamed legend=X0 PDF data=class=Sample name=Unnamed implementation=class=SampleImplementation name=Unnamed size=32 dimension=2 data=[[-2.61408,0],[-2.29006,0],[-2.29006,0],[-2.29006,0.0771555],[-1.64202,0.0771555],[-1.64202,0],[-1.64202,0],[-1.64202,0.108018],[-0.993979,0.108018],[-0.993979,0],[-0.993979,0],[-0.993979,0.401209],[-0.345937,0.401209],[-0.345937,0],[-0.345937,0],[-0.345937,0.262329],[0.302104,0.262329],[0.302104,0],[0.302104,0],[0.302104,0.401209],[0.950146,0.401209],[0.950146,0],[0.950146,0],[0.950146,0.169742],[1.59819,0.169742],[1.59819,0],[1.59819,0],[1.59819,0.123449],[2.24623,0.123449],[2.24623,0],[2.24623,0],[2.57025,0]] color=red fillStyle=solid lineStyle=solid pointStyle=none lineWidth=2]"
      ]
     },
     "execution_count": 22,
     "metadata": {},
     "output_type": "execute_result"
    }
   ],
   "source": [
    "histo.drawPDF()"
   ]
  },
  {
   "cell_type": "markdown",
   "metadata": {
    "slideshow": {
     "slide_type": "slide"
    }
   },
   "source": [
    "## Méthodes à noyau\n",
    "\n",
    "Soit $k$ une loi de distribution univariée. Par définition, cela implique :\n",
    "\n",
    "$$\n",
    "\\int_{-\\infty}^{+\\infty} k(x) dx = 1.\n",
    "$$\n",
    "\n",
    "L'estimateur à noyau est la densité de probabilité définie par :\n",
    "\n",
    "$$\n",
    "f_{KS}(x) = \\frac{1}{n\\,h} \\sum_{i=1}^n k \\left( \\frac{x-x_i}{h} \\right)\n",
    "$$\n",
    "\n",
    "où $h$ est la largeur de bande et $n$ est la taille de l'échantillon."
   ]
  },
  {
   "cell_type": "markdown",
   "metadata": {
    "slideshow": {
     "slide_type": "slide"
    }
   },
   "source": [
    "En pratique, les deux noyaux les plus utilisés sont :\n",
    "- le noyau gaussien, i.e. \n",
    "\n",
    "$$\n",
    "k(x) = \\varphi(x) = \\frac{1}{\\sqrt{2\\pi}} \\exp\\left(-\\frac{x^2}{2}\\right)\n",
    "$$\n",
    "\n",
    "pour tout $x\\in\\mathbb{R}$.\n",
    "\n",
    "- le noyau d'Epanechnikov :\n",
    "$$\n",
    "k(x) = \\frac{3}{4} (1-x^2)\n",
    "$$\n",
    "\n",
    "pour tout $x\\in[-1,1]$ et $k(x) = 0$ sinon.\n",
    "\n",
    "Le noyau d'Epanechnikov est optimal au sens de l'erreur moyenne quadratique. "
   ]
  },
  {
   "cell_type": "code",
   "execution_count": 23,
   "metadata": {
    "slideshow": {
     "slide_type": "slide"
    }
   },
   "outputs": [
    {
     "data": {
      "text/html": [
       "<p>KernelSmoothing</p>"
      ],
      "text/plain": [
       "<openturns.dist_bundle2.KernelSmoothing; proxy of <Swig Object of type 'OT::KernelSmoothing *' at 0x7f9e469d7f60> >"
      ]
     },
     "execution_count": 23,
     "metadata": {},
     "output_type": "execute_result"
    }
   ],
   "source": [
    "ksfactory = ot.KernelSmoothing()\n",
    "ksfactory"
   ]
  },
  {
   "cell_type": "code",
   "execution_count": 24,
   "metadata": {},
   "outputs": [],
   "source": [
    "KS = ksfactory.build(data)"
   ]
  },
  {
   "cell_type": "code",
   "execution_count": 25,
   "metadata": {
    "scrolled": true
   },
   "outputs": [
    {
     "data": {
      "image/png": "[encoded data removed]",
      "text/plain": [
       "class=Graph name=pdf as a function of X0 implementation=class=GraphImplementation name=pdf as a function of X0 title= xTitle=X0 yTitle=PDF axes=ON grid=ON legendposition=topright legendFontSize=1 drawables=[class=Drawable name=Unnamed implementation=class=Curve name=Unnamed derived from class=DrawableImplementation name=Unnamed legend=X0 PDF data=class=Sample name=Unnamed implementation=class=SampleImplementation name=Unnamed size=129 dimension=2 data=[[-3.96128,2.55042e-06],[-3.89829,4.86751e-06],[-3.83529,9.07293e-06],[-3.7723,1.65181e-05],[-3.70931,2.93747e-05],[-3.64631,5.10294e-05],[-3.58332,8.66038e-05],[-3.52032,0.000143604],[-3.45733,0.000232677],[-3.39433,0.00036843],[-3.33134,0.000570208],[-3.26834,0.000862699],[-3.20535,0.00127619],[-3.14236,0.00184628],[-3.07936,0.00261284],[-3.01637,0.00361819],[-2.95337,0.00490433],[-2.89038,0.00650953],[-2.82738,0.00846448],[-2.76439,0.0107886],[-2.7014,0.0134869],[-2.6384,0.0165484],[-2.57541,0.0199462],[-2.51241,0.0236398],[-2.44942,0.0275797],[-2.38642,0.0317135],[-2.32343,0.0359938],[-2.26044,0.0403858],[-2.19744,0.0448748],[-2.13445,0.0494715],[-2.07145,0.0542162],[-2.00846,0.0591793],[-1.94546,0.0644605],[-1.88247,0.0701841],[-1.81947,0.0764937],[-1.75648,0.0835436],[-1.69349,0.0914895],[-1.63049,0.100477],[-1.5675,0.110627],[-1.5045,0.122027],[-1.44151,0.134709],[-1.37851,0.148643],[-1.31552,0.163722],[-1.25253,0.179759],[-1.18953,0.196486],[-1.12654,0.213562],[-1.06354,0.230591],[-1.00055,0.247148],[-0.937554,0.262808],[-0.87456,0.277182],[-0.811566,0.289947],[-0.748571,0.300875],[-0.685577,0.30985],[-0.622582,0.316882],[-0.559588,0.322096],[-0.496594,0.325724],[-0.433599,0.328082],[-0.370605,0.329534],[-0.307611,0.330464],[-0.244616,0.331239],[-0.181622,0.332172],[-0.118628,0.3335],[-0.0556335,0.335353],[0.00736088,0.337749],[0.0703552,0.340581],[0.13335,0.343635],[0.196344,0.346601],[0.259338,0.349104],[0.322333,0.350741],[0.385327,0.351116],[0.448321,0.349881],[0.511316,0.346765],[0.57431,0.341601],[0.637304,0.334335],[0.700299,0.325032],[0.763293,0.313865],[0.826287,0.301097],[0.889282,0.28706],[0.952276,0.272126],[1.01527,0.256681],[1.07826,0.241099],[1.14126,0.225723],[1.20425,0.210844],[1.26725,0.196688],[1.33024,0.183413],[1.39324,0.1711],[1.45623,0.159758],[1.51922,0.149334],[1.58222,0.139722],[1.64521,0.130778],[1.70821,0.122342],[1.7712,0.11425],[1.8342,0.106357],[1.89719,0.0985447],[1.96019,0.0907375],[2.02318,0.082903],[2.08617,0.0750532],[2.14917,0.0672389],[2.21216,0.0595411],[2.27516,0.05206],[2.33815,0.0449034],[2.40115,0.0381749],[2.46414,0.031965],[2.52713,0.0263433],[2.59013,0.0213545],[2.65312,0.0170169],[2.71612,0.0133229],[2.77911,0.010243],[2.84211,0.00772944],[2.9051,0.00572223],[2.96809,0.00415423],[3.03109,0.00295631],[3.09408,0.00206148],[3.15708,0.00140808],[3.22007,0.000941785],[3.28307,0.000616632],[3.34606,0.000395121],[3.40906,0.000247718],[3.47205,0.000151917],[3.53504,9.11154e-05],[3.59804,5.34355e-05],[3.66103,3.06371e-05],[3.72403,1.71704e-05],[3.78702,9.40523e-06],[3.85002,5.03453e-06],[3.91301,2.63332e-06],[3.976,1.34573e-06],[4.039,6.71865e-07],[4.10199,3.27675e-07]] color=red fillStyle=solid lineStyle=solid pointStyle=none lineWidth=2]"
      ]
     },
     "execution_count": 25,
     "metadata": {},
     "output_type": "execute_result"
    }
   ],
   "source": [
    "KS.drawPDF()"
   ]
  },
  {
   "cell_type": "markdown",
   "metadata": {
    "slideshow": {
     "slide_type": "slide"
    }
   },
   "source": [
    "Dans la boucle `for` suivante, on compare le noyau gaussien et le noyau d'Epanechnikov en termes de test de Kolmogorov-Smirnov et de critère BIC."
   ]
  },
  {
   "cell_type": "code",
   "execution_count": 26,
   "metadata": {
    "slideshow": {
     "slide_type": "-"
    }
   },
   "outputs": [
    {
     "data": {
      "image/png": "[encoded data removed]",
      "text/plain": [
       "<Figure size 864x216 with 2 Axes>"
      ]
     },
     "metadata": {
      "needs_background": "light"
     },
     "output_type": "display_data"
    }
   ],
   "source": [
    "kernels = [ot.Normal(), ot.Epanechnikov()]\n",
    "fig = pl.figure(figsize = (12,3))\n",
    "for i in range(len(kernels)):\n",
    "    kernel = kernels[i]\n",
    "    name = kernel.getName()\n",
    "    distribution = ot.KernelSmoothing(kernel).build(data)\n",
    "    pval = ot.FittingTest.Kolmogorov(data, distribution).getPValue()\n",
    "    bic = ot.FittingTest.BIC(data, distribution)\n",
    "    graph = distribution.drawPDF()\n",
    "    ax_pdf = fig.add_subplot(1, len(kernels), i + 1)\n",
    "    ax_pdf.set_title(\"%s, p-value=%.4f, BIC = %.3f\" % (name, pval, bic))\n",
    "    _ = ot.viewer.View(graph, figure=fig, axes=[ax_pdf])"
   ]
  },
  {
   "cell_type": "markdown",
   "metadata": {
    "slideshow": {
     "slide_type": "slide"
    }
   },
   "source": [
    "## Références\n",
    "\n",
    "- http://openturns.github.io/openturns/master/theory/data_analysis/maximum_likelihood.html\n",
    "- http://openturns.github.io/openturns/master/theory/data_analysis/kolmogorov_test.html\n",
    "- http://openturns.github.io/openturns/master/theory/data_analysis/bic.html\n",
    "- https://en.wikipedia.org/wiki/Kernel_%28statistics%29"
   ]
  },
  {
   "cell_type": "markdown",
   "metadata": {
    "slideshow": {
     "slide_type": "slide"
    }
   },
   "source": [
    "## Annexe\n",
    "\n",
    "Dans ce paragraphe, on explore le calcul de la largeur de classe dans un histogramme par la règle de Silverman.\n",
    "\n",
    "La version robuste de la règle de Silverman utilise les quantiles de l'échantillon. "
   ]
  },
  {
   "cell_type": "code",
   "execution_count": 27,
   "metadata": {},
   "outputs": [
    {
     "data": {
      "text/plain": [
       "0.8067172117500124"
      ]
     },
     "execution_count": 27,
     "metadata": {},
     "output_type": "execute_result"
    }
   ],
   "source": [
    "s = data.computeQuantilePerComponent(0.75)[0] - data.computeQuantilePerComponent(0.25)[0]\n",
    "h = (24 * np.sqrt(np.pi)/n)**(1./3.) * s / (2.0 * ot.DistFunc_qNormal(0.75))\n",
    "h"
   ]
  },
  {
   "cell_type": "code",
   "execution_count": 28,
   "metadata": {},
   "outputs": [
    {
     "data": {
      "text/plain": [
       "0.8067172117500124"
      ]
     },
     "execution_count": 28,
     "metadata": {},
     "output_type": "execute_result"
    }
   ],
   "source": [
    "f = ot.HistogramFactory()\n",
    "f.computeSilvermanBandwidth(data,True)"
   ]
  },
  {
   "cell_type": "markdown",
   "metadata": {
    "slideshow": {
     "slide_type": "slide"
    }
   },
   "source": [
    "La règle de Silverman utilise l'écart-type empirique non biaisé."
   ]
  },
  {
   "cell_type": "code",
   "execution_count": 29,
   "metadata": {},
   "outputs": [
    {
     "data": {
      "text/plain": [
       "0.7455229983115491"
      ]
     },
     "execution_count": 29,
     "metadata": {},
     "output_type": "execute_result"
    }
   ],
   "source": [
    "sigma = data.computeStandardDeviationPerComponent()[0]\n",
    "h = (24 * np.sqrt(np.pi)/n)**(1./3.) * sigma\n",
    "h"
   ]
  },
  {
   "cell_type": "code",
   "execution_count": 30,
   "metadata": {
    "scrolled": false
   },
   "outputs": [
    {
     "data": {
      "text/plain": [
       "0.7455229983115491"
      ]
     },
     "execution_count": 30,
     "metadata": {},
     "output_type": "execute_result"
    }
   ],
   "source": [
    "f = ot.HistogramFactory()\n",
    "f.computeSilvermanBandwidth(data,False)"
   ]
  },
  {
   "cell_type": "code",
   "execution_count": 31,
   "metadata": {},
   "outputs": [
    {
     "data": {
      "text/html": [
       "<p>[first : -2.29006, width_0 : 0.648042, height_0 : 0.0771555, width_1 : 0.648042, height_1 : 0.108018, width_2 : 0.648042, height_2 : 0.401209, width_3 : 0.648042, height_3 : 0.262329, width_4 : 0.648042, height_4 : 0.401209, width_5 : 0.648042, height_5 : 0.169742, width_6 : 0.648042, height_6 : 0.123449]</p>"
      ],
      "text/plain": [
       "class=PointWithDescription name=X0 dimension=15 description=[first,width_0,height_0,width_1,height_1,width_2,height_2,width_3,height_3,width_4,height_4,width_5,height_5,width_6,height_6] values=[-2.29006,0.648042,0.0771555,0.648042,0.108018,0.648042,0.401209,0.648042,0.262329,0.648042,0.401209,0.648042,0.169742,0.648042,0.123449]"
      ]
     },
     "execution_count": 31,
     "metadata": {},
     "output_type": "execute_result"
    }
   ],
   "source": [
    "p = histo.getParametersCollection()[0]\n",
    "p"
   ]
  },
  {
   "cell_type": "markdown",
   "metadata": {},
   "source": [
    "TODO : pourquoi la largeur ne correspond-elle pas à aucune des deux variantes de la règle de Silverman ?"
   ]
  }
 ],
 "metadata": {
  "anaconda-cloud": {},
  "celltoolbar": "Slideshow",
  "kernelspec": {
   "display_name": "Python 3",
   "language": "python",
   "name": "python3"
  },
  "language_info": {
   "codemirror_mode": {
    "name": "ipython",
    "version": 3
   },
   "file_extension": ".py",
   "mimetype": "text/x-python",
   "name": "python",
   "nbconvert_exporter": "python",
   "pygments_lexer": "ipython3",
   "version": "3.7.4"
  }
 },
 "nbformat": 4,
 "nbformat_minor": 1
}
