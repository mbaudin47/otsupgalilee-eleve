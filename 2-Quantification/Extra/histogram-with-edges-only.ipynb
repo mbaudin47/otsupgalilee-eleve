{
 "cells": [
  {
   "cell_type": "markdown",
   "id": "e7ab63c2",
   "metadata": {},
   "source": [
    "# Histogram with edges only\n",
    "\n",
    "The histogram is a non parametric method to estimate the probability density function of a random variable given a sample. When the sample is large, the histogram produced by OpenTURNS is filled with unnecessary colors. Moreover, we cannot easily represent several histograms on the same plot. Finally, when we export the figure into a file, the vector image (e.g. SVG or PDF) can be relatively large and difficult to annotate or modify manually because of the large number of graphical objects within the figure. \n",
    "\n",
    "In this example, we implement a `SuperHistogram` class which represents only the edges of the histogram. This represents the PDF of the histogram as a function which is constant on each class. Hence, there is much less used colors when the sample size is large. Furthermore, we can plot several histograms on the same plot. This allows, for example, to plot confidence intervals of the PDF estimator on the same plot as the histogram itself. "
   ]
  },
  {
   "cell_type": "code",
   "execution_count": 1,
   "id": "2bcc6372",
   "metadata": {},
   "outputs": [],
   "source": [
    "import openturns as ot\n",
    "import openturns.viewer as otv\n",
    "import numpy as np"
   ]
  },
  {
   "cell_type": "markdown",
   "id": "d12222ac",
   "metadata": {},
   "source": [
    "We generate a very large sample from the gaussian distribution. Then we build the histogram estimator from the sample. Finally, we plot the PDF of the histogram. "
   ]
  },
  {
   "cell_type": "code",
   "execution_count": 2,
   "id": "1c448389",
   "metadata": {},
   "outputs": [
    {
     "data": {
      "image/png": "[encoded data removed]",
      "text/plain": [
       "<Figure size 432x288 with 1 Axes>"
      ]
     },
     "metadata": {
      "needs_background": "light"
     },
     "output_type": "display_data"
    }
   ],
   "source": [
    "size = 1000000\n",
    "distribution = ot.Normal()\n",
    "sample = distribution.getSample(size)\n",
    "\n",
    "histogram = ot.HistogramFactory().buildAsHistogram(sample)\n",
    "graph = histogram.drawPDF()\n",
    "view = otv.View(graph)"
   ]
  },
  {
   "cell_type": "code",
   "execution_count": 4,
   "id": "06d338f1",
   "metadata": {},
   "outputs": [],
   "source": [
    "class SuperHistogram:\n",
    "    def __init__(self, histogram, verbose=False):\n",
    "        \"\"\"\n",
    "        An histogram with enhanced drawPDF method.\n",
    "\n",
    "        Parameters\n",
    "        ----------\n",
    "        histogram : ot.Histogram\n",
    "            The base histogram.\n",
    "        verbose : bool, optional\n",
    "            If True, print intermediate messages. The default is False.\n",
    "\n",
    "        Returns\n",
    "        -------\n",
    "        None.\n",
    "\n",
    "        \"\"\"\n",
    "        self.histogram = histogram\n",
    "        self.verbose = verbose\n",
    "\n",
    "    def drawPDF(self):\n",
    "        \"\"\"\n",
    "        Plot the PDF of the histogram using edges only.\n",
    "\n",
    "        Returns\n",
    "        -------\n",
    "        graph : ot.Graph\n",
    "            The plot.\n",
    "\n",
    "        \"\"\"\n",
    "        width = self.histogram.getWidth()\n",
    "        height = self.histogram.getHeight()\n",
    "        first = self.histogram.getFirst()\n",
    "        number_of_classes = len(width)\n",
    "        if self.verbose:\n",
    "            print(\"number_of_classes = \", number_of_classes)\n",
    "        histogram_edges = ot.Sample(4 + 2 * number_of_classes, 2)\n",
    "        # First edge: horizontal\n",
    "        half_first_width = width[0] / 2.0\n",
    "        histogram_edges[0] = [first - half_first_width, 0.0]\n",
    "        if self.verbose:\n",
    "            print(\"Add :\", histogram_edges[0])\n",
    "        histogram_edges[1] = [first, 0.0]\n",
    "        if self.verbose:\n",
    "            print(\"Add :\", histogram_edges[1])\n",
    "        i = 2\n",
    "        x = first\n",
    "        for index in range(number_of_classes):\n",
    "            if self.verbose:\n",
    "                print(\"Class #\", index)\n",
    "            histogram_edges[i] = [x, height[index]]\n",
    "            if self.verbose:\n",
    "                print(\"Add :\", histogram_edges[i])\n",
    "            histogram_edges[i + 1] = [x + width[index], height[index]]\n",
    "            if self.verbose:\n",
    "                print(\"Add :\", histogram_edges[i + 1])\n",
    "            x += width[index]\n",
    "            i += 2\n",
    "        # Last edge: horizontal\n",
    "        half_last_width = width[-1] / 2.0\n",
    "        histogram_edges[i] = [x, 0.0]\n",
    "        if self.verbose:\n",
    "            print(\"Add :\", histogram_edges[i])\n",
    "        i += 1\n",
    "        histogram_edges[i] = [x + half_last_width, 0.0]\n",
    "        if self.verbose:\n",
    "            print(\"Add :\", histogram_edges[i])\n",
    "        description = self.histogram.getDescription()\n",
    "        graph = ot.Graph(\"\", description[0], \"PDF\", True)\n",
    "        curve = ot.Curve(histogram_edges)\n",
    "        graph.add(curve)\n",
    "        return graph"
   ]
  },
  {
   "cell_type": "code",
   "execution_count": 5,
   "id": "058fadca",
   "metadata": {
    "scrolled": true
   },
   "outputs": [
    {
     "data": {
      "image/png": "[encoded data removed]",
      "text/plain": [
       "<Figure size 432x288 with 1 Axes>"
      ]
     },
     "metadata": {
      "needs_background": "light"
     },
     "output_type": "display_data"
    }
   ],
   "source": [
    "su_histogram = SuperHistogram(histogram)\n",
    "graph = su_histogram.drawPDF()\n",
    "view = otv.View(graph)"
   ]
  },
  {
   "cell_type": "markdown",
   "id": "2d93a6d7",
   "metadata": {},
   "source": [
    "We see that only edges are represented in this plot. In order to better compare the two options, we plot the two histograms on the same graph. "
   ]
  },
  {
   "cell_type": "code",
   "execution_count": 6,
   "id": "a7bbef96",
   "metadata": {},
   "outputs": [
    {
     "data": {
      "image/png": "[encoded data removed]",
      "text/plain": [
       "<Figure size 576x216 with 2 Axes>"
      ]
     },
     "metadata": {
      "needs_background": "light"
     },
     "output_type": "display_data"
    }
   ],
   "source": [
    "grid = ot.GridLayout(1, 2)\n",
    "graph = su_histogram.drawPDF()\n",
    "grid.setGraph(0, 0, graph)\n",
    "histogram = ot.HistogramFactory().buildAsHistogram(sample)\n",
    "graph = histogram.drawPDF()\n",
    "grid.setGraph(0, 1, graph)\n",
    "view = otv.View(grid, figure_kw={\"figsize\": (8.0, 3.0)})"
   ]
  },
  {
   "cell_type": "markdown",
   "id": "b0ce58a6",
   "metadata": {},
   "source": [
    "We would like to see how the method performs when the class width changes. To do this, we compare three histograms with different class width and plot them on the same graph. "
   ]
  },
  {
   "cell_type": "code",
   "execution_count": 7,
   "id": "1cb36d65",
   "metadata": {},
   "outputs": [
    {
     "data": {
      "image/png": "[encoded data removed]",
      "text/plain": [
       "<Figure size 864x216 with 3 Axes>"
      ]
     },
     "metadata": {
      "needs_background": "light"
     },
     "output_type": "display_data"
    }
   ],
   "source": [
    "size = 10000\n",
    "distribution = ot.Normal()\n",
    "sample = distribution.getSample(size)\n",
    "\n",
    "factory = ot.HistogramFactory()\n",
    "classwidth = factory.computeBandwidth(sample)\n",
    "classwidth_list = [2.0 * classwidth, classwidth, classwidth / 2.0]\n",
    "number_of_class_widths = len(classwidth_list)\n",
    "grid = ot.GridLayout(1, number_of_class_widths)\n",
    "for index in range(number_of_class_widths):\n",
    "    classwidth = classwidth_list[index]\n",
    "    histogram = factory.buildAsHistogram(sample, classwidth)\n",
    "    graph = histogram.drawPDF()\n",
    "    graph.setLegends([\"\"])\n",
    "    graph.setTitle(\"h = %.2f\" % (classwidth))\n",
    "    grid.setGraph(0, index, graph)\n",
    "view = otv.View(grid, figure_kw={\"figsize\": (12.0, 3.0)})"
   ]
  },
  {
   "cell_type": "markdown",
   "id": "5404f753",
   "metadata": {},
   "source": [
    "We see why the histogram seems to be filled with colors. In fact, the vertical edges of the histogram get so close to one another that they create a visually filled area.\n",
    "\n",
    "Let us see what happens when we plot only the edges."
   ]
  },
  {
   "cell_type": "code",
   "execution_count": 8,
   "id": "b367d4fa",
   "metadata": {},
   "outputs": [
    {
     "data": {
      "image/png": "[encoded data removed]",
      "text/plain": [
       "<Figure size 864x216 with 3 Axes>"
      ]
     },
     "metadata": {
      "needs_background": "light"
     },
     "output_type": "display_data"
    }
   ],
   "source": [
    "factory = ot.HistogramFactory()\n",
    "classwidth = factory.computeBandwidth(sample)\n",
    "classwidth_list = [2.0 * classwidth, classwidth, classwidth / 2.0]\n",
    "number_of_class_widths = len(classwidth_list)\n",
    "grid = ot.GridLayout(1, number_of_class_widths)\n",
    "for index in range(number_of_class_widths):\n",
    "    classwidth = classwidth_list[index]\n",
    "    histogram = factory.buildAsHistogram(sample, classwidth)\n",
    "    su_histogram = SuperHistogram(histogram)\n",
    "    graph = su_histogram.drawPDF()\n",
    "    graph.setLegends([\"\"])\n",
    "    graph.setTitle(\"h = %.2f\" % (classwidth))\n",
    "    grid.setGraph(0, index, graph)\n",
    "view = otv.View(grid, figure_kw={\"figsize\": (12.0, 3.0)})"
   ]
  },
  {
   "cell_type": "markdown",
   "id": "f4921055",
   "metadata": {},
   "source": [
    "We see that the graph is much clearer and let us focus on the important topic, which is the estimation of the density by the histogram. "
   ]
  },
  {
   "cell_type": "markdown",
   "id": "68a39064",
   "metadata": {},
   "source": [
    "## Conclusion\n",
    "\n",
    "This option could be implemented as an option of the current `drawPDF()` method of the `Histogram` class. The extra boolean argument `plotEdges` would allow to control the way the histogram is drawn:\n",
    "- `plotEdges = True` is the current behaviour,\n",
    "- `plotEdges = False` does not plot the edges.\n",
    "\n",
    "We have to select what is the default behaviour of the `drawPDF()` when no `plotEdges` argument is explicitly provided. This option could be set to `False` by default, so that the current behaviour is unchanged. Another implementation could compute the `plotEdges` option depending on the sample size:\n",
    "- if the number of classes is, say, smaller than 20, then `plotEdges = True` ;\n",
    "- otherwise, then `plotEdges = False`.\n",
    "\n",
    "\n",
    "The previous behaviour would allow to automatically switch to a visually consistent graph when the sample size increases. "
   ]
  }
 ],
 "metadata": {
  "kernelspec": {
   "display_name": "Python 3 (ipykernel)",
   "language": "python",
   "name": "python3"
  },
  "language_info": {
   "codemirror_mode": {
    "name": "ipython",
    "version": 3
   },
   "file_extension": ".py",
   "mimetype": "text/x-python",
   "name": "python",
   "nbconvert_exporter": "python",
   "pygments_lexer": "ipython3",
   "version": "3.10.0"
  }
 },
 "nbformat": 4,
 "nbformat_minor": 5
}
