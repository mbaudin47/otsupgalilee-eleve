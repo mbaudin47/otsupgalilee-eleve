{
 "cells": [
  {
   "cell_type": "markdown",
   "metadata": {},
   "source": [
    "# Compare BIC scores of a list of distributions\n",
    "\n",
    "The Bayesian Information Criterion (BIC) ranks a list of models according to a weighted maximum likelihood criteria which takes into account for the sample size and the number of parameters of each distribution. A lower BIC score is better. \n",
    "\n",
    "Reference:\n",
    "https://stackoverflow.com/questions/65972875/how-to-rank-a-list-of-distributions-with-bic-in-openturns"
   ]
  },
  {
   "cell_type": "code",
   "execution_count": 1,
   "metadata": {},
   "outputs": [],
   "source": [
    "import openturns as ot\n",
    "import tqdm\n",
    "import pandas as pd"
   ]
  },
  {
   "cell_type": "code",
   "execution_count": 2,
   "metadata": {},
   "outputs": [],
   "source": [
    "sample = ot.Normal().getSample(100)"
   ]
  },
  {
   "cell_type": "markdown",
   "metadata": {},
   "source": [
    "The `GetContinuousUniVariateFactories` static method returns a list of all available factories for continuous distributions. We could use this list without further processing, but the histogram would come first in the ranking, because it is specially designed for this purpose. Hence, we do not include it in our computation of the BIC score. "
   ]
  },
  {
   "cell_type": "code",
   "execution_count": 12,
   "metadata": {},
   "outputs": [
    {
     "name": "stdout",
     "output_type": "stream",
     "text": [
      "ArcsineFactory\n",
      "BetaFactory\n",
      "BurrFactory\n",
      "ChiFactory\n",
      "ChiSquareFactory\n",
      "DirichletFactory\n",
      "ExponentialFactory\n",
      "FisherSnedecorFactory\n",
      "FrechetFactory\n",
      "GammaFactory\n",
      "GeneralizedParetoFactory\n",
      "GumbelFactory\n",
      "InverseNormalFactory\n",
      "LaplaceFactory\n",
      "LogisticFactory\n",
      "LogNormalFactory\n",
      "LogUniformFactory\n",
      "MeixnerDistributionFactory\n",
      "NormalFactory\n",
      "ParetoFactory\n",
      "RayleighFactory\n",
      "RiceFactory\n",
      "StudentFactory\n",
      "TrapezoidalFactory\n",
      "TriangularFactory\n",
      "TruncatedNormalFactory\n",
      "UniformFactory\n",
      "WeibullMaxFactory\n",
      "WeibullMinFactory\n",
      "Number of selected factories: 29\n"
     ]
    }
   ],
   "source": [
    "factories = ot.DistributionFactory.GetContinuousUniVariateFactories()\n",
    "marginalFactories = []\n",
    "for factory in factories:\n",
    "    if str(factory) != \"HistogramFactory\":\n",
    "        print(factory)\n",
    "        marginalFactories.append(factory)\n",
    "number_of_factories = len(marginalFactories)\n",
    "print(\"Number of selected factories:\", number_of_factories)"
   ]
  },
  {
   "cell_type": "markdown",
   "metadata": {},
   "source": [
    "In the following script, we perform a for loop over all factories in the list that we previously created. We will later sort the BIC scores by increasing order. This is why we store the BIC score and the marginal index in the `score_array` sample. The computation can be quite long for some distributions. Hence we use the `tqdm` module to print a progress bar. Finally, some distribution do not build on this specific sample. In order to avoid to break the for loop, we wrap the call to the `BIC` method into a `try/except`. If the distribution fitting fails, we set the BIC score to the maximum finite value of a floating point number (this is `MaxScalar`), which is approximately equal to $10^{308}$. "
   ]
  },
  {
   "cell_type": "code",
   "execution_count": 5,
   "metadata": {},
   "outputs": [
    {
     "name": "stderr",
     "output_type": "stream",
     "text": [
      "100%|██████████| 29/29 [00:00<00:00, 913.33it/s]"
     ]
    },
    {
     "name": "stdout",
     "output_type": "stream",
     "text": [
      "Cannot build  BurrFactory\n",
      "Cannot build  DirichletFactory\n",
      "Cannot build  FisherSnedecorFactory\n",
      "Cannot build  GeneralizedParetoFactory\n",
      "Cannot build  InverseNormalFactory\n",
      "Cannot build  LogUniformFactory\n",
      "Cannot build  MeixnerDistributionFactory\n",
      "Cannot build  RiceFactory\n"
     ]
    },
    {
     "name": "stderr",
     "output_type": "stream",
     "text": [
      "\n"
     ]
    }
   ],
   "source": [
    "score_array = ot.Sample(number_of_factories, 2)\n",
    "for i in tqdm.tqdm(range(number_of_factories)):\n",
    "    try:\n",
    "        factory = marginalFactories[i]\n",
    "        fitted_dist, bic_score = ot.FittingTest.BIC(sample, factory)\n",
    "        score_array[i] = [i, bic_score]\n",
    "    except TypeError:\n",
    "        print(\"Cannot build \", factory)\n",
    "        score_array[i] = [i, ot.SpecFunc.MaxScalar]"
   ]
  },
  {
   "cell_type": "markdown",
   "metadata": {},
   "source": [
    "The key step is to sort the array containing the BIC scores."
   ]
  },
  {
   "cell_type": "code",
   "execution_count": 10,
   "metadata": {},
   "outputs": [],
   "source": [
    "sorted_BIC_scores = score_array.sortAccordingToAComponent(1)"
   ]
  },
  {
   "cell_type": "markdown",
   "metadata": {},
   "source": [
    "There might be more than 30 distributions which can be built onto the sample. Here, we limit the list to the top 10 distributions which have the lowest BIC scores. We will use Pandas in order to print the BIC scores nicely. To do this, we create the `BIC_data` list, which contains the name of the factory and the corresponding BIC score. This is where the index of the distribution in the first column of `sorted_BIC_scores` is used. However, the `Sample` stores `float`s: we have to convert them into an integer before using it as an index. "
   ]
  },
  {
   "cell_type": "code",
   "execution_count": 7,
   "metadata": {},
   "outputs": [],
   "source": [
    "BIC_data = []\n",
    "rank = list(range(min(number_of_factories, 10)))\n",
    "for i in rank:\n",
    "    distribution_index = int(sorted_BIC_scores[i, 0])\n",
    "    factory = marginalFactories[distribution_index]\n",
    "    BIC_score = sorted_BIC_scores[i, 1]\n",
    "    BIC_data.append([factory, BIC_score])"
   ]
  },
  {
   "cell_type": "markdown",
   "metadata": {},
   "source": [
    "Now comes the easiest part, where we finally use Pandas' `DataFrame`. "
   ]
  },
  {
   "cell_type": "code",
   "execution_count": 8,
   "metadata": {},
   "outputs": [
    {
     "data": {
      "text/html": [
       "<div>\n",
       "<style scoped>\n",
       "    .dataframe tbody tr th:only-of-type {\n",
       "        vertical-align: middle;\n",
       "    }\n",
       "\n",
       "    .dataframe tbody tr th {\n",
       "        vertical-align: top;\n",
       "    }\n",
       "\n",
       "    .dataframe thead th {\n",
       "        text-align: right;\n",
       "    }\n",
       "</style>\n",
       "<table border=\"1\" class=\"dataframe\">\n",
       "  <thead>\n",
       "    <tr style=\"text-align: right;\">\n",
       "      <th></th>\n",
       "      <th>BIC</th>\n",
       "      <th>Factory</th>\n",
       "    </tr>\n",
       "  </thead>\n",
       "  <tbody>\n",
       "    <tr>\n",
       "      <th>0</th>\n",
       "      <td>NormalFactory</td>\n",
       "      <td>2.902476</td>\n",
       "    </tr>\n",
       "    <tr>\n",
       "      <th>1</th>\n",
       "      <td>WeibullMaxFactory</td>\n",
       "      <td>2.933988</td>\n",
       "    </tr>\n",
       "    <tr>\n",
       "      <th>2</th>\n",
       "      <td>WeibullMinFactory</td>\n",
       "      <td>2.938930</td>\n",
       "    </tr>\n",
       "    <tr>\n",
       "      <th>3</th>\n",
       "      <td>TruncatedNormalFactory</td>\n",
       "      <td>2.939140</td>\n",
       "    </tr>\n",
       "    <tr>\n",
       "      <th>4</th>\n",
       "      <td>LogisticFactory</td>\n",
       "      <td>2.945102</td>\n",
       "    </tr>\n",
       "    <tr>\n",
       "      <th>5</th>\n",
       "      <td>LogNormalFactory</td>\n",
       "      <td>2.948479</td>\n",
       "    </tr>\n",
       "    <tr>\n",
       "      <th>6</th>\n",
       "      <td>StudentFactory</td>\n",
       "      <td>2.948733</td>\n",
       "    </tr>\n",
       "    <tr>\n",
       "      <th>7</th>\n",
       "      <td>TriangularFactory</td>\n",
       "      <td>2.968305</td>\n",
       "    </tr>\n",
       "    <tr>\n",
       "      <th>8</th>\n",
       "      <td>BetaFactory</td>\n",
       "      <td>3.033244</td>\n",
       "    </tr>\n",
       "    <tr>\n",
       "      <th>9</th>\n",
       "      <td>RayleighFactory</td>\n",
       "      <td>3.051117</td>\n",
       "    </tr>\n",
       "  </tbody>\n",
       "</table>\n",
       "</div>"
      ],
      "text/plain": [
       "                      BIC   Factory\n",
       "0           NormalFactory  2.902476\n",
       "1       WeibullMaxFactory  2.933988\n",
       "2       WeibullMinFactory  2.938930\n",
       "3  TruncatedNormalFactory  2.939140\n",
       "4         LogisticFactory  2.945102\n",
       "5        LogNormalFactory  2.948479\n",
       "6          StudentFactory  2.948733\n",
       "7       TriangularFactory  2.968305\n",
       "8             BetaFactory  3.033244\n",
       "9         RayleighFactory  3.051117"
      ]
     },
     "execution_count": 8,
     "metadata": {},
     "output_type": "execute_result"
    }
   ],
   "source": [
    "columns = [\"BIC\", \"Factory\"]\n",
    "df = pd.DataFrame(BIC_data, index=rank, columns=columns,)\n",
    "df"
   ]
  },
  {
   "cell_type": "code",
   "execution_count": null,
   "metadata": {},
   "outputs": [],
   "source": []
  }
 ],
 "metadata": {
  "kernelspec": {
   "display_name": "Python 3",
   "language": "python",
   "name": "python3"
  },
  "language_info": {
   "codemirror_mode": {
    "name": "ipython",
    "version": 3
   },
   "file_extension": ".py",
   "mimetype": "text/x-python",
   "name": "python",
   "nbconvert_exporter": "python",
   "pygments_lexer": "ipython3",
   "version": "3.8.6"
  }
 },
 "nbformat": 4,
 "nbformat_minor": 4
}
