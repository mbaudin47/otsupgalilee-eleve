{
 "cells": [
  {
   "cell_type": "markdown",
   "metadata": {},
   "source": [
    "# Compare BIC scores of a list of distributions\n",
    "\n",
    "The Bayesian Information Criterion (BIC) ranks a list of models according to a weighted maximum likelihood criteria which takes into account for the sample size and the number of parameters of each distribution. A lower BIC score is better. \n",
    "\n",
    "Reference:\n",
    "https://stackoverflow.com/questions/65972875/how-to-rank-a-list-of-distributions-with-bic-in-openturns"
   ]
  },
  {
   "cell_type": "code",
   "execution_count": 1,
   "metadata": {},
   "outputs": [],
   "source": [
    "import openturns as ot\n",
    "import tqdm"
   ]
  },
  {
   "cell_type": "code",
   "execution_count": 2,
   "metadata": {},
   "outputs": [],
   "source": [
    "sample = ot.Normal().getSample(100)"
   ]
  },
  {
   "cell_type": "markdown",
   "metadata": {},
   "source": [
    "The `GetContinuousUniVariateFactories` static method returns a list of all available factories for continuous distributions. We could use this list without further processing, but the histogram would come first in the ranking, because it is specially designed for this purpose. Hence, we do not include it in our computation of the BIC score. "
   ]
  },
  {
   "cell_type": "code",
   "execution_count": 3,
   "metadata": {},
   "outputs": [
    {
     "name": "stdout",
     "output_type": "stream",
     "text": [
      "ArcsineFactory\n",
      "BetaFactory\n",
      "BurrFactory\n",
      "ChiFactory\n",
      "ChiSquareFactory\n",
      "DirichletFactory\n",
      "ExponentialFactory\n",
      "FisherSnedecorFactory\n",
      "FrechetFactory\n",
      "GammaFactory\n",
      "GeneralizedParetoFactory\n",
      "GumbelFactory\n",
      "InverseNormalFactory\n",
      "LaplaceFactory\n",
      "LogisticFactory\n",
      "LogNormalFactory\n",
      "LogUniformFactory\n",
      "MeixnerDistributionFactory\n",
      "NormalFactory\n",
      "ParetoFactory\n",
      "RayleighFactory\n",
      "RiceFactory\n",
      "StudentFactory\n",
      "TrapezoidalFactory\n",
      "TriangularFactory\n",
      "TruncatedNormalFactory\n",
      "UniformFactory\n",
      "VonMisesFactory\n",
      "WeibullMaxFactory\n",
      "WeibullMinFactory\n",
      "Number of selected factories: 30\n"
     ]
    }
   ],
   "source": [
    "factories = ot.DistributionFactory.GetContinuousUniVariateFactories()\n",
    "marginalFactories = []\n",
    "for factory in factories:\n",
    "    if str(factory) != \"HistogramFactory\":\n",
    "        print(factory)\n",
    "        marginalFactories.append(factory)\n",
    "number_of_factories = len(marginalFactories)\n",
    "print(\"Number of selected factories:\", number_of_factories)"
   ]
  },
  {
   "cell_type": "markdown",
   "metadata": {},
   "source": [
    "In the following script, we perform a for loop over all factories in the list that we previously created. We will later sort the BIC scores by increasing order. This is why we store the BIC score and the marginal index in the `score_array` sample. The computation can be quite long for some distributions. Hence we use the `tqdm` module to print a progress bar. Finally, some distribution do not build on this specific sample. In order to avoid to break the for loop, we wrap the call to the `BIC` method into a `try/except`. If the distribution fitting fails, we set the BIC score to the maximum finite value of a floating point number (this is `MaxScalar`), which is approximately equal to $10^{308}$. "
   ]
  },
  {
   "cell_type": "code",
   "execution_count": 4,
   "metadata": {},
   "outputs": [
    {
     "name": "stderr",
     "output_type": "stream",
     "text": [
      "100%|██████████| 30/30 [00:00<00:00, 782.76it/s]"
     ]
    },
    {
     "name": "stdout",
     "output_type": "stream",
     "text": [
      "Cannot build  BurrFactory\n",
      "Cannot build  DirichletFactory\n",
      "Cannot build  FisherSnedecorFactory\n",
      "Cannot build  GeneralizedParetoFactory\n",
      "Cannot build  InverseNormalFactory\n",
      "Cannot build  LogUniformFactory\n",
      "Cannot build  MeixnerDistributionFactory\n",
      "Cannot build  RiceFactory\n"
     ]
    },
    {
     "name": "stderr",
     "output_type": "stream",
     "text": [
      "\n"
     ]
    }
   ],
   "source": [
    "score_array = ot.Sample(number_of_factories, 2)\n",
    "for i in tqdm.tqdm(range(number_of_factories)):\n",
    "    try:\n",
    "        factory = marginalFactories[i]\n",
    "        fitted_dist, bic_score = ot.FittingTest.BIC(sample, factory)\n",
    "        score_array[i] = [i, bic_score]\n",
    "    except TypeError:\n",
    "        print(\"Cannot build \", factory)\n",
    "        score_array[i] = [i, ot.SpecFunc.MaxScalar]"
   ]
  },
  {
   "cell_type": "markdown",
   "metadata": {},
   "source": [
    "The key step is to sort the array containing the BIC scores."
   ]
  },
  {
   "cell_type": "code",
   "execution_count": 5,
   "metadata": {},
   "outputs": [],
   "source": [
    "sorted_BIC_scores = score_array.sortAccordingToAComponent(1)"
   ]
  },
  {
   "cell_type": "markdown",
   "metadata": {},
   "source": [
    "There might be more than 30 distributions which can be built onto the sample. Here, we limit the list to the top 10 distributions which have the lowest BIC scores. We will use Pandas in order to print the BIC scores nicely. To do this, we create the `BIC_data` list, which contains the name of the factory and the corresponding BIC score. This is where the index of the distribution in the first column of `sorted_BIC_scores` is used. However, the `Sample` stores `float`s: we have to convert them into an integer before using it as an index. "
   ]
  },
  {
   "cell_type": "code",
   "execution_count": 6,
   "metadata": {},
   "outputs": [
    {
     "name": "stdout",
     "output_type": "stream",
     "text": [
      "NormalFactory, BIC = 2.902\n",
      "WeibullMaxFactory, BIC = 2.934\n",
      "WeibullMinFactory, BIC = 2.939\n",
      "TruncatedNormalFactory, BIC = 2.939\n",
      "LogisticFactory, BIC = 2.945\n",
      "LogNormalFactory, BIC = 2.948\n",
      "StudentFactory, BIC = 2.949\n",
      "VonMisesFactory, BIC = 2.953\n",
      "TriangularFactory, BIC = 2.968\n",
      "BetaFactory, BIC = 3.033\n"
     ]
    }
   ],
   "source": [
    "BIC_data = []\n",
    "rank = list(range(min(number_of_factories, 10)))\n",
    "for i in rank:\n",
    "    distribution_index = int(sorted_BIC_scores[i, 0])\n",
    "    factory = marginalFactories[distribution_index]\n",
    "    BIC_score = sorted_BIC_scores[i, 1]\n",
    "    BIC_data.append([factory, BIC_score])\n",
    "    print(\"%s, BIC = %.3f\" % (factory, BIC_score))"
   ]
  },
  {
   "cell_type": "code",
   "execution_count": null,
   "metadata": {},
   "outputs": [],
   "source": []
  }
 ],
 "metadata": {
  "kernelspec": {
   "display_name": "Python 3",
   "language": "python",
   "name": "python3"
  },
  "language_info": {
   "codemirror_mode": {
    "name": "ipython",
    "version": 3
   },
   "file_extension": ".py",
   "mimetype": "text/x-python",
   "name": "python",
   "nbconvert_exporter": "python",
   "pygments_lexer": "ipython3",
   "version": "3.8.10"
  }
 },
 "nbformat": 4,
 "nbformat_minor": 4
}
