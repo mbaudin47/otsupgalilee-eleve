{
 "cells": [
  {
   "cell_type": "code",
   "execution_count": 1,
   "metadata": {},
   "outputs": [],
   "source": [
    "%matplotlib inline"
   ]
  },
  {
   "cell_type": "markdown",
   "metadata": {},
   "source": [
    "\n",
    "# The Kolmogorov-Smirnov p-value\n"
   ]
  },
  {
   "cell_type": "markdown",
   "metadata": {},
   "source": [
    "In this example, we illustrate the calculation of the Kolmogorov-Smirnov p-value. \n",
    "\n",
    "* We generate a sample from a gaussian distribution. \n",
    "* We create a Uniform distribution with known parameters.\n",
    "* The Kolmogorov-Smirnov statistics is computed and plot on the empirical cumulated distribution function.\n",
    "* We plot the p-value as the area under the part of the curve exceeding the observed statistics.\n",
    "\n"
   ]
  },
  {
   "cell_type": "code",
   "execution_count": 2,
   "metadata": {},
   "outputs": [],
   "source": [
    "import openturns as ot\n",
    "import openturns.viewer as viewer\n",
    "from matplotlib import pylab as plt\n",
    "\n",
    "ot.Log.Show(ot.Log.NONE)"
   ]
  },
  {
   "cell_type": "markdown",
   "metadata": {},
   "source": [
    "We generate a sample from a standard gaussian distribution.\n",
    "\n"
   ]
  },
  {
   "cell_type": "code",
   "execution_count": 3,
   "metadata": {},
   "outputs": [],
   "source": [
    "dist = ot.Normal()\n",
    "samplesize = 10\n",
    "sample = dist.getSample(samplesize)"
   ]
  },
  {
   "cell_type": "code",
   "execution_count": 4,
   "metadata": {},
   "outputs": [],
   "source": [
    "testdistribution = ot.Normal()\n",
    "result = ot.FittingTest.Kolmogorov(sample, testdistribution, 0.01)"
   ]
  },
  {
   "cell_type": "code",
   "execution_count": 5,
   "metadata": {},
   "outputs": [
    {
     "data": {
      "text/plain": [
       "0.5520956737074482"
      ]
     },
     "execution_count": 5,
     "metadata": {},
     "output_type": "execute_result"
    }
   ],
   "source": [
    "pvalue = result.getPValue()\n",
    "pvalue"
   ]
  },
  {
   "cell_type": "code",
   "execution_count": 6,
   "metadata": {},
   "outputs": [
    {
     "data": {
      "text/plain": [
       "0.23684644362352725"
      ]
     },
     "execution_count": 6,
     "metadata": {},
     "output_type": "execute_result"
    }
   ],
   "source": [
    "KSstat = result.getStatistic()\n",
    "KSstat"
   ]
  },
  {
   "cell_type": "markdown",
   "metadata": {},
   "source": [
    "Compute exact Kolmogorov PDF.\n",
    "\n"
   ]
  },
  {
   "cell_type": "markdown",
   "metadata": {},
   "source": [
    "Create a function which returns the CDF given the KS distance. \n",
    "\n"
   ]
  },
  {
   "cell_type": "code",
   "execution_count": 7,
   "metadata": {},
   "outputs": [],
   "source": [
    "def pKolmogorovPy(x):\n",
    "    y = ot.DistFunc_pKolmogorov(samplesize, x[0])\n",
    "    return [y]"
   ]
  },
  {
   "cell_type": "code",
   "execution_count": 8,
   "metadata": {},
   "outputs": [],
   "source": [
    "pKolmogorov = ot.PythonFunction(1, 1, pKolmogorovPy)"
   ]
  },
  {
   "cell_type": "markdown",
   "metadata": {},
   "source": [
    "Create a function which returns the KS PDF given the KS distance: use the `gradient` method.\n",
    "\n"
   ]
  },
  {
   "cell_type": "code",
   "execution_count": 9,
   "metadata": {},
   "outputs": [],
   "source": [
    "def kolmogorovPDF(x):\n",
    "    return pKolmogorov.gradient(x)[0, 0]"
   ]
  },
  {
   "cell_type": "code",
   "execution_count": 10,
   "metadata": {},
   "outputs": [],
   "source": [
    "def dKolmogorov(x, samplesize):\n",
    "    \"\"\"\n",
    "    Compute Kolmogorov PDF for given x.\n",
    "    x : a Sample, the points where the PDF must be evaluated\n",
    "    samplesize : the size of the sample\n",
    "    Reference\n",
    "    Numerical Derivatives in Scilab, Michael Baudin, May 2009\n",
    "    \"\"\"\n",
    "    n = x.getSize()\n",
    "    y = ot.Sample(n, 1)\n",
    "    for i in range(n):\n",
    "        y[i, 0] = kolmogorovPDF(x[i])\n",
    "    return y"
   ]
  },
  {
   "cell_type": "code",
   "execution_count": 11,
   "metadata": {},
   "outputs": [],
   "source": [
    "def linearSample(xmin, xmax, npoints):\n",
    "    \"\"\"Returns a sample created from a regular grid \n",
    "    from xmin to xmax with npoints points.\"\"\"\n",
    "    step = (xmax - xmin) / (npoints - 1)\n",
    "    rg = ot.RegularGrid(xmin, step, npoints)\n",
    "    vertices = rg.getVertices()\n",
    "    return vertices"
   ]
  },
  {
   "cell_type": "code",
   "execution_count": 12,
   "metadata": {},
   "outputs": [],
   "source": [
    "n = 1000  # Number of points in the plot\n",
    "s = linearSample(0.001, 0.999, n)\n",
    "y = dKolmogorov(s, samplesize)"
   ]
  },
  {
   "cell_type": "code",
   "execution_count": 13,
   "metadata": {},
   "outputs": [],
   "source": [
    "def drawInTheBounds(vLow, vUp, n_test):\n",
    "    \"\"\"\n",
    "    Draw the area within the bounds.\n",
    "    \"\"\"\n",
    "    palette = ot.Drawable.BuildDefaultPalette(2)\n",
    "    myPaletteColor = palette[1]\n",
    "    polyData = [[vLow[i], vLow[i + 1], vUp[i + 1], vUp[i]] for i in range(n_test - 1)]\n",
    "    polygonList = [\n",
    "        ot.Polygon(polyData[i], myPaletteColor, myPaletteColor)\n",
    "        for i in range(n_test - 1)\n",
    "    ]\n",
    "    boundsPoly = ot.PolygonArray(polygonList)\n",
    "    return boundsPoly"
   ]
  },
  {
   "cell_type": "markdown",
   "metadata": {},
   "source": [
    "Create a regular grid starting from the observed KS statistics.\n",
    "\n"
   ]
  },
  {
   "cell_type": "code",
   "execution_count": 14,
   "metadata": {},
   "outputs": [],
   "source": [
    "nplot = 100\n",
    "x = linearSample(KSstat, 0.6, nplot)"
   ]
  },
  {
   "cell_type": "markdown",
   "metadata": {},
   "source": [
    "Compute the bounds to fill: the lower vertical bound is zero and the upper vertical bound is the KS PDF.\n",
    "\n"
   ]
  },
  {
   "cell_type": "code",
   "execution_count": 15,
   "metadata": {},
   "outputs": [],
   "source": [
    "vLow = [[x[i, 0], 0.0] for i in range(nplot)]\n",
    "vUp = [[x[i, 0], pKolmogorov.gradient(x[i])[0, 0]] for i in range(nplot)]"
   ]
  },
  {
   "cell_type": "code",
   "execution_count": 16,
   "metadata": {},
   "outputs": [
    {
     "data": {
      "image/png": "[encoded data removed]",
      "text/plain": [
       "<Figure size 432x288 with 1 Axes>"
      ]
     },
     "metadata": {
      "needs_background": "light"
     },
     "output_type": "display_data"
    }
   ],
   "source": [
    "boundsPoly = drawInTheBounds(vLow, vUp, nplot)\n",
    "boundsPoly.setLegend(\"pvalue = %.4f\" % (pvalue))\n",
    "curve = ot.Curve(s, y)\n",
    "curve.setLegend(\"Exact distribution\")\n",
    "curveStat = ot.Curve([KSstat, KSstat], [0.0, kolmogorovPDF([KSstat])])\n",
    "curveStat.setColor(\"red\")\n",
    "curveStat.setLegend(\"KS-statistics = %.4f\" % (KSstat))\n",
    "graph = ot.Graph(\n",
    "    \"Kolmogorov-Smirnov distribution (known parameters)\",\n",
    "    \"KS-Statistics\",\n",
    "    \"PDF\",\n",
    "    True,\n",
    "    \"topright\",\n",
    ")\n",
    "graph.setLegends([\"Empirical distribution\"])\n",
    "graph.add(curve)\n",
    "graph.add(curveStat)\n",
    "graph.add(boundsPoly)\n",
    "graph.setTitle(\"Kolmogorov-Smirnov distribution (known parameters)\")\n",
    "view = viewer.View(graph)\n",
    "plt.show()\n",
    "figure = view.getFigure()\n",
    "figure.savefig(\"KS_p_value.png\", bbox_inches=\"tight\")"
   ]
  },
  {
   "cell_type": "markdown",
   "metadata": {},
   "source": [
    "We observe that the p-value is the area of the curve which corresponds to the KS distances greater than the observed KS statistics.\n",
    "\n"
   ]
  }
 ],
 "metadata": {
  "kernelspec": {
   "display_name": "Python 3",
   "language": "python",
   "name": "python3"
  },
  "language_info": {
   "codemirror_mode": {
    "name": "ipython",
    "version": 3
   },
   "file_extension": ".py",
   "mimetype": "text/x-python",
   "name": "python",
   "nbconvert_exporter": "python",
   "pygments_lexer": "ipython3",
   "version": "3.8.6"
  }
 },
 "nbformat": 4,
 "nbformat_minor": 1
}
