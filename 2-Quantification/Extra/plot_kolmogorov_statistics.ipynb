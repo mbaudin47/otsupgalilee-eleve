{
 "cells": [
  {
   "cell_type": "code",
   "execution_count": 1,
   "metadata": {},
   "outputs": [],
   "source": [
    "%matplotlib inline"
   ]
  },
  {
   "cell_type": "markdown",
   "metadata": {},
   "source": [
    "\n",
    "# The Kolmogorov-Smirnov statistics\n"
   ]
  },
  {
   "cell_type": "markdown",
   "metadata": {},
   "source": [
    "In this example, we illustrate how the Kolmogorov-Smirnov statistics is computed. \n",
    "\n",
    "* We generate a sample from a gaussian distribution. \n",
    "* We create a Uniform distribution which parameters are estimated from the sample.\n",
    "* The Kolmogorov-Smirnov statistics is computed and plot on the empirical cumulated distribution function.\n",
    "\n"
   ]
  },
  {
   "cell_type": "code",
   "execution_count": 2,
   "metadata": {},
   "outputs": [],
   "source": [
    "import openturns as ot\n",
    "import openturns.viewer as viewer\n",
    "from matplotlib import pylab as plt\n",
    "\n",
    "ot.Log.Show(ot.Log.NONE)"
   ]
  },
  {
   "cell_type": "markdown",
   "metadata": {},
   "source": [
    "The computeKSStatisticsIndex function computes the Kolmogorov-Smirnov distance between the sample and the distribution. Furthermore, it returns the index which achieves the maximum distance in the sorted sample. The following function is for teaching purposes only: use `FittingTest` for real applications.\n",
    "\n"
   ]
  },
  {
   "cell_type": "code",
   "execution_count": 3,
   "metadata": {},
   "outputs": [],
   "source": [
    "def computeKSStatisticsIndex(sample, distribution):\n",
    "    sample = ot.Sample(sample.sort())\n",
    "    print(\"Sorted\")\n",
    "    print(sample)\n",
    "    n = sample.getSize()\n",
    "    D = 0.0\n",
    "    index = -1\n",
    "    D_previous = 0.0\n",
    "    for i in range(n):\n",
    "        F = distribution.computeCDF(sample[i])\n",
    "        S1 = abs(F - float(i) / n)\n",
    "        S2 = abs(float(i + 1) / n - F)\n",
    "        print(\n",
    "            \"i=%d, x[i]=%.4f, F(x[i])=%.4f, S1=%.4f, S2=%.4f\"\n",
    "            % (i, sample[i, 0], F, S1, S2)\n",
    "        )\n",
    "        D = max(S1, S2, D)\n",
    "        if D > D_previous:\n",
    "            print(\"D max!\")\n",
    "            index = i\n",
    "            D_previous = D\n",
    "    observation = sample[index]\n",
    "    return D, index, observation"
   ]
  },
  {
   "cell_type": "markdown",
   "metadata": {},
   "source": [
    "The drawKSDistance function plots the empirical distribution function of the sample and the Kolmogorov-Smirnov distance at point x. The empirical CDF is a staircase function and is discontinuous at each observation. The computeEmpiricalCDF() method computes the probability P(X <= x), but this only takes into account for half the extreme values of the CDF. The other half is P(X < x) which is approximated by P(X <= x - delta) where delta is close to zero."
   ]
  },
  {
   "cell_type": "code",
   "execution_count": 4,
   "metadata": {},
   "outputs": [],
   "source": [
    "def drawKSDistance(\n",
    "    sample, distribution, observation, D, distFactory, delta_x=ot.Point([1.0e-6])\n",
    "):\n",
    "    graph = ot.Graph(\"KS Distance = %.4f\" % (D), \"X\", \"CDF\", True, \"topleft\")\n",
    "    # Vertical line at point x\n",
    "    ECDF_index = sample.computeEmpiricalCDF(observation)\n",
    "    ECDF_index_shifted = sample.computeEmpiricalCDF(observation - delta_x)\n",
    "    CDF_index = distribution.computeCDF(observation)\n",
    "    curve = ot.Curve(\n",
    "        [observation[0], observation[0], observation[0]],\n",
    "        [ECDF_index, ECDF_index_shifted, CDF_index],\n",
    "    )\n",
    "    curve.setColor(\"green\")\n",
    "    curve.setLegend(\"KS Statistics\")\n",
    "    curve.setLineWidth(4.0 * curve.getLineWidth())\n",
    "    graph.add(curve)\n",
    "    # Empirical CDF\n",
    "    empiricalCDF = ot.UserDefined(sample).drawCDF()\n",
    "    empiricalCDF.setColors([\"blue\"])\n",
    "    empiricalCDF.setLegends([\"Empirical DF\"])\n",
    "    graph.add(empiricalCDF)\n",
    "    #\n",
    "    distname = distFactory.getClassName()\n",
    "    distribution = distFactory.build(sample)\n",
    "    cdf = distribution.drawCDF()\n",
    "    cdf.setLegends([distname])\n",
    "    graph.add(cdf)\n",
    "    return graph"
   ]
  },
  {
   "cell_type": "markdown",
   "metadata": {},
   "source": [
    "We generate a sample from a standard gaussian distribution.\n",
    "\n"
   ]
  },
  {
   "cell_type": "code",
   "execution_count": 5,
   "metadata": {},
   "outputs": [],
   "source": [
    "N = ot.Normal()\n",
    "n = 10\n",
    "sample = N.getSample(n)"
   ]
  },
  {
   "cell_type": "markdown",
   "metadata": {},
   "source": [
    "Compute the index which achieves the maximum Kolmogorov-Smirnov distance.\n",
    "\n"
   ]
  },
  {
   "cell_type": "markdown",
   "metadata": {},
   "source": [
    "We then create a Uniform distribution which parameters are estimated from the sample. This way, the K.S. distance is large enough to being graphically significant.\n",
    "\n"
   ]
  },
  {
   "cell_type": "code",
   "execution_count": 6,
   "metadata": {},
   "outputs": [
    {
     "data": {
      "text/html": [
       "<p>Uniform(a = -2.48294, b = 1.7388)</p>"
      ],
      "text/plain": [
       "class=Uniform name=Uniform dimension=1 a=-2.48294 b=1.7388"
      ]
     },
     "execution_count": 6,
     "metadata": {},
     "output_type": "execute_result"
    }
   ],
   "source": [
    "distFactory = ot.UniformFactory()\n",
    "distribution = distFactory.build(sample)\n",
    "distribution"
   ]
  },
  {
   "cell_type": "markdown",
   "metadata": {},
   "source": [
    "Compute the index which achieves the maximum Kolmogorov-Smirnov distance.\n",
    "\n"
   ]
  },
  {
   "cell_type": "code",
   "execution_count": 7,
   "metadata": {},
   "outputs": [
    {
     "name": "stdout",
     "output_type": "stream",
     "text": [
      "Sorted\n",
      "0 : [ -2.18139  ]\n",
      "1 : [ -1.26617  ]\n",
      "2 : [ -0.438266 ]\n",
      "3 : [ -0.355007 ]\n",
      "4 : [  0.350042 ]\n",
      "5 : [  0.608202 ]\n",
      "6 : [  0.793156 ]\n",
      "7 : [  0.810668 ]\n",
      "8 : [  1.20548  ]\n",
      "9 : [  1.43725  ]\n",
      "i=0, x[i]=-2.1814, F(x[i])=0.0714, S1=0.0714, S2=0.0286\n",
      "D max!\n",
      "i=1, x[i]=-1.2662, F(x[i])=0.2882, S1=0.1882, S2=0.0882\n",
      "D max!\n",
      "i=2, x[i]=-0.4383, F(x[i])=0.4843, S1=0.2843, S2=0.1843\n",
      "D max!\n",
      "i=3, x[i]=-0.3550, F(x[i])=0.5040, S1=0.2040, S2=0.1040\n",
      "i=4, x[i]=0.3500, F(x[i])=0.6710, S1=0.2710, S2=0.1710\n",
      "i=5, x[i]=0.6082, F(x[i])=0.7322, S1=0.2322, S2=0.1322\n",
      "i=6, x[i]=0.7932, F(x[i])=0.7760, S1=0.1760, S2=0.0760\n",
      "i=7, x[i]=0.8107, F(x[i])=0.7802, S1=0.0802, S2=0.0198\n",
      "i=8, x[i]=1.2055, F(x[i])=0.8737, S1=0.0737, S2=0.0263\n",
      "i=9, x[i]=1.4372, F(x[i])=0.9286, S1=0.0286, S2=0.0714\n",
      "D= 0.28431981766196146 , Index= 2 , Obs.= [-0.438266]\n"
     ]
    }
   ],
   "source": [
    "D, index, observation = computeKSStatisticsIndex(sample, distribution)\n",
    "print(\"D=\", D, \", Index=\", index, \", Obs.=\", observation)"
   ]
  },
  {
   "cell_type": "markdown",
   "metadata": {},
   "source": [
    "Get the value which maximizes the distance.\n",
    "\n"
   ]
  },
  {
   "cell_type": "code",
   "execution_count": 8,
   "metadata": {},
   "outputs": [
    {
     "data": {
      "text/plain": [
       "-0.43826561996041397"
      ]
     },
     "execution_count": 8,
     "metadata": {},
     "output_type": "execute_result"
    }
   ],
   "source": [
    "x = sample[index, 0]\n",
    "x"
   ]
  },
  {
   "cell_type": "code",
   "execution_count": 9,
   "metadata": {},
   "outputs": [
    {
     "data": {
      "image/png": "[encoded data removed]",
      "text/plain": [
       "<Figure size 432x288 with 1 Axes>"
      ]
     },
     "metadata": {
      "needs_background": "light"
     },
     "output_type": "display_data"
    }
   ],
   "source": [
    "graph = drawKSDistance(sample, distribution, observation, D, distFactory)\n",
    "view = viewer.View(graph)\n",
    "plt.show()\n",
    "figure = view.getFigure()\n",
    "figure.savefig(\"KS_statistics.png\", bbox_inches=\"tight\")"
   ]
  },
  {
   "cell_type": "markdown",
   "metadata": {},
   "source": [
    "We see that the K.S. statistics is achieved where the distance between the empirical distribution function of the sample and the candidate distribution is largest.\n",
    "\n"
   ]
  },
  {
   "cell_type": "code",
   "execution_count": null,
   "metadata": {},
   "outputs": [],
   "source": []
  }
 ],
 "metadata": {
  "kernelspec": {
   "display_name": "Python 3",
   "language": "python",
   "name": "python3"
  },
  "language_info": {
   "codemirror_mode": {
    "name": "ipython",
    "version": 3
   },
   "file_extension": ".py",
   "mimetype": "text/x-python",
   "name": "python",
   "nbconvert_exporter": "python",
   "pygments_lexer": "ipython3",
   "version": "3.8.6"
  }
 },
 "nbformat": 4,
 "nbformat_minor": 1
}
