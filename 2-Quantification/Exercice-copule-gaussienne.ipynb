{
 "cells": [
  {
   "cell_type": "markdown",
   "metadata": {},
   "source": [
    "# Exercice : générer un échantillon de copule gaussienne et de marginale exponentielle\n",
    "\n",
    "## Introduction\n",
    "\n",
    "Les copules sont utiles pour générer des variables aléatoires multivariées dépendantes au delà des cas particuliers tels que la loi gaussienne. L'objectif de cet exercice est, justement, d'illuster pourquoi et comment il est facile de générer un vecteur aléatoire de copule gaussienne. \n",
    "\n",
    "Supposons que l'on souhaite générer le vecteur aléatoire $(X_1, ..., X_p)^T$ de marginales exponentielles standard (i.e. de moyenne $\\lambda=1$) et de copule gaussienne. Pour cela, on considère le vecteur aléatoire $Y = (Y_1, ..., Y_p)^T$ de loi gaussienne $\\mathcal{N}(0,\\Sigma)$. Puis on évalue le vecteur $(U_1, ..., U_p)^T$ par les équations :\n",
    "$$\n",
    "U_i  = \\Phi\\left(\\frac{Y_i}{Var(Y_i)^{1/2}}\\right), \\qquad \\textrm{(1)}\n",
    "$$\n",
    "pour $i=1,...,p$, où $\\Phi$ est la fonction de répartition de la loi gaussienne centrée-réduite (i.e. de moyenne nulle et d'écart-type unité) :\n",
    "$$\n",
    "\\Phi(z) = \\frac{1}{\\sqrt{2\\pi}} \\int_{-\\infty}^x e^{- \\frac{1}{2} t^2} dt,\n",
    "$$\n",
    "pour tout $z\\in\\mathbb{R}$.\n",
    "Alors les marginales du vecteur $(U_1, ..., U_p)^T$ sont de loi uniforme $\\mathcal{U}(0, 1)$. \n",
    "Enfin, nous considérons la variable :\n",
    "$$\n",
    "X_i = -\\log(1 - U_i), \\qquad \\textrm{(2)}\n",
    "$$\n",
    "pour $i=1,...,p$. \n",
    "\n",
    "L'objectif de cet exercice est de comparer l'approche proposée dans le texte précédent, de valider qu'elle possède les propriétés requises et de comparer avec une approche fondée directement sur la copule gaussienne.\n",
    "\n",
    "**Questions**\n",
    "\n",
    "**Partie 1 : avec un algorithme**\n",
    "- Créer la liste `mu` contenant 2 zéros.\n",
    "- Créer la matrice de covariance `Sigma` contenant les valeurs `[2.,1.,1.,4.]`.\n",
    "- Utiliser la classe `Normal` pour créer la variable `n` contenant une variable gaussienne bi-dimensionnelle associée à la moyenne `mu` et la matrice de covariance `Sigma`.\n",
    "- Créer la variable `y` contenant un échantillon de taille 500 de la variable `n`.\n",
    "- Utiliser la classe `Pairs` pour tracer la projection du nuage de points.\n",
    "- Utiliser l'équation (1) pour créer la variable `u` à partir de la variable `y`. Pour cela, utiliser la fonction `DistFunc.pNormal` qui évalue la fonction $\\Phi$. Dessiner le nuage de points contenu dans la variable `u`.\n",
    "- Utiliser l'équation (2) pour créer la variable `x` à partir de la variable `u`. Dessiner le nuage de points contenu dans la variable `x`.\n",
    "- Dessiner l'histogramme empirique avec la classe `HistogramFactory` pour vérifier que les marginales de `x` sont de loi exponentielle. Pour cela, utiliser la méthode `Exponential().drawPDF()`.\n",
    "- Utiliser la méthode `x.rank()` pour dessiner le nuage de points dans l'espace des rangs. Dans la suite de cet exercice, nous allons comparer ce nuage de points avec les iso-valeurs de la copule gaussienne.\n",
    "\n",
    "**Partie 2 : avec NormalCopula**\n",
    "- Utiliser la méthode `n.getCorrelation()` pour récupérer la matrice de corrélation de `n` et créer la variable `c` contenant la copule gaussienne avec la classe `NormalCopula`.\n",
    "- Utiliser la méthode `drawPDF` pour dessiner les iso-valeurs de la copule gaussienne : comment cela se compare-t-il avec le nuage de points précédent ?\n",
    "- Utiliser la classe `ComposedDistribution` pour créer la loi bidimensionnelle `cod` de marginales exponentielles et de copule `c`.\n",
    "- Créer la variable `samplex` contenant un échantillon de la variable `cod` de taille 500. Dessiner le nuage de points et comparer avec le nuage précédent : qu'observez-vous ?\n",
    "- Utiliser la classe `VisualTest_DrawKendallPlot` pour vérifier l'adéquation de la loi de l'échantillon `x` et de la copule `c` : la dépendance est-elle celle à laquelle on s'attend ?\n",
    "\n",
    "## Référence\n",
    "\n",
    "Søren Asmussen, Peter W. Glynn\n",
    "\n",
    "Stochastic Simulation: Algorithms and Analysis\n",
    "\n",
    "2007 Springer\n",
    "\n",
    "Section 3c Copulas, page 38"
   ]
  }
 ],
 "metadata": {
  "kernelspec": {
   "display_name": "Python 3",
   "language": "python",
   "name": "python3"
  },
  "language_info": {
   "codemirror_mode": {
    "name": "ipython",
    "version": 3
   },
   "file_extension": ".py",
   "mimetype": "text/x-python",
   "name": "python",
   "nbconvert_exporter": "python",
   "pygments_lexer": "ipython3",
   "version": "3.7.5rc1"
  }
 },
 "nbformat": 4,
 "nbformat_minor": 2
}
