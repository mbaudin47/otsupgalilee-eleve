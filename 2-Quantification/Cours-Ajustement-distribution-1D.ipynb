{
 "cells": [
  {
   "cell_type": "markdown",
   "metadata": {
    "slideshow": {
     "slide_type": "slide"
    }
   },
   "source": [
    "# Ajustement d'une loi de distribution unidimensionnelle\n",
    "\n",
    "## Résumé\n",
    "\n",
    "Dans ce notebook, nous présentons comment estimer les paramètres d'une loi à partir d'un échantillon.\n",
    "\n",
    "En particulier, nous explorons les thèmes suivants :\n",
    "\n",
    "- les classes `Factory`; exemple des classes `NormalFactory` et `WeibullMinFactory`,\n",
    "- test graphique; la classe `DrawQQplot`,\n",
    "- tests statistiques; les classes `Kolmogorov` et `BIC`,\n",
    "- les méthodes non paramétriques\n",
    " - l'histogramme et la classe `HistogramFactory`\n",
    " - les méthodes à noyau et la classe `KernelSmoothing`\n",
    " \n",
    "[Pour voir ce Jupyter Notebook, nous conseillons NBViewer.](https://nbviewer.org/github/mbaudin47/otsupgalilee-eleve/blob/master/2-Quantification/Cours-Ajustement-distribution-1D.ipynb)"
   ]
  },
  {
   "cell_type": "markdown",
   "metadata": {
    "slideshow": {
     "slide_type": "slide"
    }
   },
   "source": [
    "## Création de l'échantillon"
   ]
  },
  {
   "cell_type": "code",
   "execution_count": 1,
   "metadata": {
    "slideshow": {
     "slide_type": "-"
    }
   },
   "outputs": [],
   "source": [
    "import openturns as ot\n",
    "import openturns.viewer as otv\n",
    "import numpy as np"
   ]
  },
  {
   "cell_type": "markdown",
   "metadata": {
    "slideshow": {
     "slide_type": "-"
    }
   },
   "source": [
    "Nous commençons par créer un échantillon, en utilisant une variable gaussienne centrée-réduite. Nous générons un échantillon de taille $n=100$."
   ]
  },
  {
   "cell_type": "code",
   "execution_count": 2,
   "metadata": {
    "slideshow": {
     "slide_type": "fragment"
    }
   },
   "outputs": [],
   "source": [
    "n = 100\n",
    "data = ot.Normal().getSample(n)"
   ]
  },
  {
   "cell_type": "markdown",
   "metadata": {
    "slideshow": {
     "slide_type": "-"
    }
   },
   "source": [
    "On observe que, à cause de la taille finie de l'échantillon, la moyenne empirique et l'écart-type ne sont pas exactement égaux à l'espérance et l'écart-type de la variable aléatoire."
   ]
  },
  {
   "cell_type": "code",
   "execution_count": 3,
   "metadata": {
    "slideshow": {
     "slide_type": "fragment"
    }
   },
   "outputs": [
    {
     "name": "stdout",
     "output_type": "stream",
     "text": [
      "[0.0647826]\n",
      "[0.991286]\n"
     ]
    }
   ],
   "source": [
    "print(data.computeMean())\n",
    "print(data.computeStandardDeviation())"
   ]
  },
  {
   "cell_type": "markdown",
   "metadata": {
    "slideshow": {
     "slide_type": "slide"
    }
   },
   "source": [
    "## Estimation paramétrique"
   ]
  },
  {
   "cell_type": "markdown",
   "metadata": {
    "slideshow": {
     "slide_type": "-"
    }
   },
   "source": [
    "On considère une variable aléatoire associée au vecteur de paramètres $\\boldsymbol{\\theta}\\in\\mathbb{R}^p$, où $p$ est le nombre de paramètres. Les méthodes d'estimation paramétriques ont pour objectif d'estimer la valeur du vecteur $\\boldsymbol{\\theta}$ qui s'ajuste le mieux à un échantillon donné. \n",
    "\n",
    "Dans OpenTURNS, deux méthodes sont utilisées pour estimer les paramètres d'une loi en fonction d'un échantillon.\n",
    "- la classe `MethodOfMomentsFactory` utilise la méthode des moments qui consiste à rechercher la valeur de $\\theta$ qui minimise l'écart entre les moments de la distribution et les moments centrés de l'échantillon,\n",
    "- la classe `MaximumLikelihoodFactory` utilise la méthode du maximum de vraisemblance qui consiste à rechercher la valeur de $\\theta$ qui maximise la vraisemblance."
   ]
  },
  {
   "cell_type": "markdown",
   "metadata": {
    "slideshow": {
     "slide_type": "slide"
    }
   },
   "source": [
    "En fonction des distributions, la librairie peut utiliser une combinaison de ces deux méthodes, c'est à dire que certains paramètres peuvent être calculés par la méthode des moments et d'autres peuvent être calculés par la méthode du maximum de vraisemblance. Une autre situation qui peut également arriver est que, dans le but d'aider à la convergence de la méthode du maximum de vraisemblance, on utilise la méthode des moments pour initialiser le calcul.\n",
    "\n",
    "En pratique, la technique la plus courante consiste à utiliser la `Factory` associée à la distribution dont on souhaite estimer les paramètres. Par exemple, pour la distribution `Normal`, la classe correspondante est la classe `NormalFactory`. Cette classe utilise la méthode des moments ; la théorie montre que, pour la distribution gaussienne la méthode des moments et la méthode du maximum de vraisemblance sont équivalentes. "
   ]
  },
  {
   "cell_type": "code",
   "execution_count": 4,
   "metadata": {
    "slideshow": {
     "slide_type": "slide"
    }
   },
   "outputs": [
    {
     "data": {
      "text/html": [
       "<p>Normal(mu = 0.0647826, sigma = 0.991286)</p>"
      ],
      "text/plain": [
       "class=Normal name=Normal dimension=1 mean=class=Point name=Unnamed dimension=1 values=[0.0647826] sigma=class=Point name=Unnamed dimension=1 values=[0.991286] correlationMatrix=class=CorrelationMatrix dimension=1 implementation=class=MatrixImplementation name=Unnamed rows=1 columns=1 values=[1]"
      ]
     },
     "execution_count": 4,
     "metadata": {},
     "output_type": "execute_result"
    }
   ],
   "source": [
    "factory = ot.NormalFactory()\n",
    "X = factory.build(data)\n",
    "X"
   ]
  },
  {
   "cell_type": "markdown",
   "metadata": {},
   "source": [
    "Dans l'exemple suivant, on créée la variable `Y` par ajustement avec la distribution de Weibull."
   ]
  },
  {
   "cell_type": "code",
   "execution_count": 5,
   "metadata": {},
   "outputs": [
    {
     "data": {
      "text/html": [
       "<p>WeibullMin(beta = 3.54791, alpha = 3.62101, gamma = -3.13189)</p>"
      ],
      "text/plain": [
       "class=WeibullMin name=WeibullMin dimension=1 beta=3.54791 alpha=3.62101 gamma=-3.13189"
      ]
     },
     "execution_count": 5,
     "metadata": {},
     "output_type": "execute_result"
    }
   ],
   "source": [
    "factory = ot.WeibullMinFactory()\n",
    "Y = factory.build(data)\n",
    "Y"
   ]
  },
  {
   "cell_type": "markdown",
   "metadata": {
    "slideshow": {
     "slide_type": "slide"
    }
   },
   "source": [
    "## Validation graphique de l'ajustement"
   ]
  },
  {
   "cell_type": "markdown",
   "metadata": {
    "slideshow": {
     "slide_type": "-"
    }
   },
   "source": [
    "Une méthode fréquemment utilisée pour valider les paramètres de la distribution consiste à créer le QQ-Plot. Il s'agit d'un graphique dans lequel \n",
    "- l'axe des abscisses présente les quantiles empiriques de l'échantillon,\n",
    "- l'axe des ordonnées présente les quantiles de la distribution.\n",
    "\n",
    "Si les points sont proches de la première bissectrice, alors on considère que l'ajustement est correct. Il arrive fréquemment que l'ajustement est acceptable dans le centre de la distribution (i.e. au milieu du graphique), mais de qualité moindre dans les queues de la distribution. En fonction des objectifs de l'étude, cela peut être acceptable ou non."
   ]
  },
  {
   "cell_type": "code",
   "execution_count": 6,
   "metadata": {
    "scrolled": true,
    "slideshow": {
     "slide_type": "slide"
    }
   },
   "outputs": [
    {
     "data": {
      "image/png": "[encoded data removed]",
      "text/plain": [
       "<Figure size 288x216 with 1 Axes>"
      ]
     },
     "metadata": {
      "needs_background": "light"
     },
     "output_type": "display_data"
    }
   ],
   "source": [
    "graph = ot.VisualTest.DrawQQplot(data, X)\n",
    "view = otv.View(graph, figure_kw={\"figsize\": (4.0, 3.0)})"
   ]
  },
  {
   "cell_type": "markdown",
   "metadata": {
    "slideshow": {
     "slide_type": "slide"
    }
   },
   "source": [
    "Dans la boucle `for` suivante, nous comparons l'ajustement avec les distributions uniformes et beta."
   ]
  },
  {
   "cell_type": "code",
   "execution_count": 7,
   "metadata": {
    "scrolled": true
   },
   "outputs": [
    {
     "data": {
      "image/png": "[encoded data removed]",
      "text/plain": [
       "<Figure size 864x288 with 2 Axes>"
      ]
     },
     "metadata": {
      "needs_background": "light"
     },
     "output_type": "display_data"
    }
   ],
   "source": [
    "import openturns.viewer\n",
    "import pylab as pl\n",
    "\n",
    "fig = pl.figure(figsize=(12, 4))\n",
    "distributionList = [ot.UniformFactory(), ot.BetaFactory()]\n",
    "for i in range(len(distributionList)):\n",
    "    F = distributionList[i]\n",
    "    T = F.build(data)\n",
    "    graph = ot.VisualTest.DrawQQplot(data, T)\n",
    "    graph.setYTitle(T.getName())\n",
    "    ax_pdf = fig.add_subplot(1, len(distributionList), i + 1)\n",
    "    _ = ot.viewer.View(graph, figure=fig, axes=[ax_pdf])"
   ]
  },
  {
   "cell_type": "markdown",
   "metadata": {},
   "source": [
    "L'ajustement pour la loi uniforme est inacceptable, mais la loi beta pourrait convenir."
   ]
  },
  {
   "cell_type": "markdown",
   "metadata": {
    "slideshow": {
     "slide_type": "slide"
    }
   },
   "source": [
    "## Tests statistiques\n"
   ]
  },
  {
   "cell_type": "markdown",
   "metadata": {
    "slideshow": {
     "slide_type": "-"
    }
   },
   "source": [
    "Les méthodes de tests statistiques permettent de quantifier l'écart entre l'échantillon et la loi estimée. Plusieurs méthodes sont disponibles dans la librairie, mais les deux méthodes les plus fréquemment utilisées sont :\n",
    "- le test de Kolmogorov-Smirnov (KS), qui quantifie l'écart maximal entre la fonction de répartition empirique et la fonction de répartition théorique,\n",
    "- le critère BIC, qui permet de pénaliser les distributions associées à un plus grand nombre de paramètres."
   ]
  },
  {
   "cell_type": "markdown",
   "metadata": {
    "slideshow": {
     "slide_type": "slide"
    }
   },
   "source": [
    "## Test de Kolmogorov-Smirnov\n",
    "\n",
    "Soit $n$ la taille de l'échantillon. Soit $\\{x_i\\}_{i=1,...,n}$ un échantillon i.i.d. de la variable aléatoire réelle $X$. Soit $F$ la fonction de répartition que l'on souhaite tester. Le test de Kolmogorov-Smirnov est fondé sur la statistique suivante :\n",
    "$$\n",
    "d = \\max_{i=1,...,n} \\left(\\left|F(x_i) - \\frac{i-1}{n}\\right|, \\left|\\frac{i}{n} - F(x_i)\\right|\\right).\n",
    "$$\n",
    "Cette statistique mesure l'écart entre la fonction de répartition théorique et la fonction de répartition empirique. \n",
    "\n",
    "![KS Statistics](KS_statistics.png)"
   ]
  },
  {
   "cell_type": "markdown",
   "metadata": {
    "slideshow": {
     "slide_type": "slide"
    }
   },
   "source": [
    "Faisons l'hypothèse que l'échantillon est issu de la fonction de répartition $F$. Soit $D$ la variable aléatoire associée à la statistique de KS. Soit $p\\in[0,1]$ la probabilité d'observer un tel écart :\n",
    "$$\n",
    "\\mathbb{P}\\left(D \\geq d\\right) = p.\n",
    "$$\n",
    "\n",
    "![KS Statistics](KS_p_value.png)\n",
    "\n",
    "La probabilité $p$ est la *p-valeur* du test. Si $p$ est trop proche de zéro (par exemple si $p<0.05$), alors on considère que l'échantillon n'est pas issu de $F$ et on rejette la loi. Sinon, on ne peut pas rejeter l'hypothèse. "
   ]
  },
  {
   "cell_type": "markdown",
   "metadata": {
    "slideshow": {
     "slide_type": "slide"
    }
   },
   "source": [
    "Deux situations doivent être opposées. \n",
    "- Si l'on connait les paramètres de la loi à tester, alors la distribution de la statistique de KS est connue tant pour $n$ grand (distribution asymptotique) que pour $n$ fini. \n",
    "- Si les paramètres de la loi sont estimés sur l'échantillon alors la distribution de la statistique de KS est inconnue en général. Dans ce cas, on procède par échantillonnage. \n",
    "\n",
    "Si les paramètres de la loi sont estimés sur l'échantillon, alors l'adéquation est meilleure avec les données. Cela qui diminue la valeur de la statistique de test, d'autant plus  que la distribution possède plus de paramètres à ajuster. En d'autres termes, les faibles valeurs de la statistique de test sont plus fréquentes. "
   ]
  },
  {
   "cell_type": "markdown",
   "metadata": {
    "slideshow": {
     "slide_type": "slide"
    }
   },
   "source": [
    "## Cas 1 : les paramètres de la loi sont connus\n",
    "\n",
    "Selon la situation dans laquelle on se situe, ce n'est pas le même constructeur de la classe `FittingTest.Kolmogorov` qui doit être utilisé.\n",
    "\n",
    "Premièrement, plaçons nous dans la situation où les paramètres sont connus. Dans cette situation, le second argument de la classe `Kolmogorov` est la distribution testée, c'est à dire un objet de type `Distribution`.\n",
    "\n",
    "Le script suivant teste l'hypothèse \n",
    "\n",
    "H0 = \"l'échantillon est issu de la distribution gaussienne de paramètres $\\mu=0$ et $\\sigma=1$\""
   ]
  },
  {
   "cell_type": "code",
   "execution_count": 8,
   "metadata": {
    "slideshow": {
     "slide_type": "slide"
    }
   },
   "outputs": [
    {
     "data": {
      "text/html": [
       "<p>class=TestResult name=Unnamed type=Kolmogorov Normal binaryQualityMeasure=true p-value threshold=0.05 p-value=0.490259 statistic=0.0817682 description=[Normal(mu = 0, sigma = 1) vs sample Normal]</p>"
      ],
      "text/plain": [
       "class=TestResult name=Unnamed type=Kolmogorov Normal binaryQualityMeasure=true p-value threshold=0.05 p-value=0.490259 statistic=0.0817682 description=[Normal(mu = 0, sigma = 1) vs sample Normal]"
      ]
     },
     "execution_count": 8,
     "metadata": {},
     "output_type": "execute_result"
    }
   ],
   "source": [
    "T = ot.Normal()\n",
    "ksresult = ot.FittingTest.Kolmogorov(data, T)\n",
    "ksresult"
   ]
  },
  {
   "cell_type": "code",
   "execution_count": 9,
   "metadata": {},
   "outputs": [
    {
     "data": {
      "text/plain": [
       "0.49025908234293103"
      ]
     },
     "execution_count": 9,
     "metadata": {},
     "output_type": "execute_result"
    }
   ],
   "source": [
    "ksresult.getPValue()"
   ]
  },
  {
   "cell_type": "code",
   "execution_count": 10,
   "metadata": {
    "scrolled": true
   },
   "outputs": [
    {
     "data": {
      "text/plain": [
       "0.05"
      ]
     },
     "execution_count": 10,
     "metadata": {},
     "output_type": "execute_result"
    }
   ],
   "source": [
    "ksresult.getThreshold()"
   ]
  },
  {
   "cell_type": "markdown",
   "metadata": {},
   "source": [
    "La méthode `getBinaryQualityMeasure` renvoit vrai si on ne peut pas rejeter l'hypothèse H0. Les esprits les plus téméraires affirmeraient qu'on \"accepte l'hypothèse\", mais les statisticiens sont de tempérament prudent."
   ]
  },
  {
   "cell_type": "code",
   "execution_count": 11,
   "metadata": {
    "scrolled": true
   },
   "outputs": [
    {
     "data": {
      "text/plain": [
       "True"
      ]
     },
     "execution_count": 11,
     "metadata": {},
     "output_type": "execute_result"
    }
   ],
   "source": [
    "ksresult.getBinaryQualityMeasure()"
   ]
  },
  {
   "cell_type": "markdown",
   "metadata": {
    "slideshow": {
     "slide_type": "slide"
    }
   },
   "source": [
    "## Cas 2 : les paramètres de la loi sont estimés\n",
    "\n",
    "Deuxièmement, on se place dans la situation où les paramètres sont estimés sur l'échantillon. Dans cette situation, on doit utiliser la classe `Lilliefors` où le second argument est la méthode d'estimation des paramètres de la distribution à tester, c'est à dire un objet de type `Factory`.\n",
    "\n",
    "Pour estimer la distribution de la statistique de test, nous commençons par configurer la taille de l'échantillon utilisé par l'algorithme."
   ]
  },
  {
   "cell_type": "code",
   "execution_count": 12,
   "metadata": {
    "slideshow": {
     "slide_type": "slide"
    }
   },
   "outputs": [
    {
     "data": {
      "text/html": [
       "<p>class=TestResult name=Unnamed type=Lilliefors Normal binaryQualityMeasure=true p-value threshold=0.05 p-value=0.577222 statistic=0.0572416 description=[Normal(mu = 0.0647826, sigma = 0.991286) vs sample Normal]</p>"
      ],
      "text/plain": [
       "class=TestResult name=Unnamed type=Lilliefors Normal binaryQualityMeasure=true p-value threshold=0.05 p-value=0.577222 statistic=0.0572416 description=[Normal(mu = 0.0647826, sigma = 0.991286) vs sample Normal]"
      ]
     },
     "execution_count": 12,
     "metadata": {},
     "output_type": "execute_result"
    }
   ],
   "source": [
    "fact = ot.NormalFactory()\n",
    "dist, test_result = ot.FittingTest.Lilliefors(data, fact)\n",
    "test_result"
   ]
  },
  {
   "cell_type": "code",
   "execution_count": 13,
   "metadata": {},
   "outputs": [
    {
     "data": {
      "text/plain": [
       "0.5772224498156493"
      ]
     },
     "execution_count": 13,
     "metadata": {},
     "output_type": "execute_result"
    }
   ],
   "source": [
    "test_result.getPValue()"
   ]
  },
  {
   "cell_type": "markdown",
   "metadata": {},
   "source": [
    "La p-valeur est proche de 0.5772, ce qui implique que l'hypothèse est acceptée."
   ]
  },
  {
   "cell_type": "code",
   "execution_count": 14,
   "metadata": {},
   "outputs": [
    {
     "data": {
      "text/plain": [
       "True"
      ]
     },
     "execution_count": 14,
     "metadata": {},
     "output_type": "execute_result"
    }
   ],
   "source": [
    "test_result.getBinaryQualityMeasure()"
   ]
  },
  {
   "cell_type": "markdown",
   "metadata": {
    "slideshow": {
     "slide_type": "slide"
    }
   },
   "source": [
    "## Cas 3 : les paramètres de la loi sont estimés, mais l'utilisateur commet une erreur\n",
    "\n",
    "Troisièmement, on se place dans la situation où les paramètres sont estimés sur l'échantillon mais l'utilisateur fait comme si les paramètres étaient connus. Dans cette situation, la p-valeur calculée par la librairie sera fausse et plus grande que la p-valeur correcte : on risque d'accepter à tort. C'est une erreur de la part de l'utilisateur."
   ]
  },
  {
   "cell_type": "code",
   "execution_count": 15,
   "metadata": {},
   "outputs": [
    {
     "data": {
      "text/html": [
       "<p>class=TestResult name=Unnamed type=Kolmogorov Normal binaryQualityMeasure=true p-value threshold=0.05 p-value=0.879738 statistic=0.0572416 description=[Normal(mu = 0.0647826, sigma = 0.991286) vs sample Normal]</p>"
      ],
      "text/plain": [
       "class=TestResult name=Unnamed type=Kolmogorov Normal binaryQualityMeasure=true p-value threshold=0.05 p-value=0.879738 statistic=0.0572416 description=[Normal(mu = 0.0647826, sigma = 0.991286) vs sample Normal]"
      ]
     },
     "execution_count": 15,
     "metadata": {},
     "output_type": "execute_result"
    }
   ],
   "source": [
    "dist = ot.NormalFactory().build(data)\n",
    "test_result = ot.FittingTest.Kolmogorov(data, dist)\n",
    "test_result"
   ]
  },
  {
   "cell_type": "code",
   "execution_count": 16,
   "metadata": {},
   "outputs": [
    {
     "data": {
      "text/plain": [
       "0.8797383423677565"
      ]
     },
     "execution_count": 16,
     "metadata": {},
     "output_type": "execute_result"
    }
   ],
   "source": [
    "test_result.getPValue()"
   ]
  },
  {
   "cell_type": "markdown",
   "metadata": {},
   "source": [
    "On observe que la p-valeur, fausse, vaut 0.88 alors que la p-valeur correcte est 0.5772."
   ]
  },
  {
   "cell_type": "code",
   "execution_count": 17,
   "metadata": {},
   "outputs": [
    {
     "data": {
      "text/plain": [
       "True"
      ]
     },
     "execution_count": 17,
     "metadata": {},
     "output_type": "execute_result"
    }
   ],
   "source": [
    "test_result.getBinaryQualityMeasure()"
   ]
  },
  {
   "cell_type": "markdown",
   "metadata": {
    "slideshow": {
     "slide_type": "slide"
    }
   },
   "source": [
    "## Critère BIC\n",
    "\n",
    "Le critère Bayesian Information Criterion est un critère qui permet de sélectionner la distribution parmi une collection de $K$ distributions à tester. \n",
    "\n",
    "Pour $i=1,...,K$, soit $L_i$ la valeur du maximum de vraisemblance du i-ème modèle et soit $p_i$ le nombre de paramètres du i-ème modèle. Par exemple, si l'on considère la loi gaussienne, alors $p_i=2$, puisque cette loi est déterminée par les deux paramètres $\\mu$ et $\\sigma$. Le critère BIC implémenté dans la librairie est \n",
    "$$\n",
    "BIC_i = -2 \\frac{\\log(L_i)}{n} + \\frac{p_i \\log(n)}{n} \n",
    "$$\n",
    "où $n$ est la taille de l'échantillon. \n",
    "\n",
    "Le critère consiste à préférer la distribution associée à la plus petite valeur du critère BIC. \n",
    "\n",
    "D'une part, lorsque la distribution dépend d'un grand nombre de paramètres (i.e. lorsque $p_i$ est grand, alors l'ajustement est meilleur ce qui implique que la log-vraisemblance est plus grande et donc $-\\log(L_i)$ est plus petit. D'autre part, puisque le critère dépend du nombre de paramètres $p_i$, ce critère défavorise les distributions ayant un nombre de paramètres élevé. D'une manière globale, le critère réalise une pondération entre la qualité de l'ajustement et le nombre de paramètres. "
   ]
  },
  {
   "cell_type": "markdown",
   "metadata": {
    "slideshow": {
     "slide_type": "slide"
    }
   },
   "source": [
    "Dans la session suivante, on évalue le critère BIC pour la distribution gaussienne. "
   ]
  },
  {
   "cell_type": "code",
   "execution_count": 18,
   "metadata": {},
   "outputs": [
    {
     "data": {
      "text/plain": [
       "2.8148953639402152"
      ]
     },
     "execution_count": 18,
     "metadata": {},
     "output_type": "execute_result"
    }
   ],
   "source": [
    "ot.FittingTest.BIC(data, ot.Normal())"
   ]
  },
  {
   "cell_type": "markdown",
   "metadata": {
    "slideshow": {
     "slide_type": "-"
    }
   },
   "source": [
    "Dans l'absolu, ce critère n'est pas utile ; il n'est utile que par comparaison avec les autres distributions. "
   ]
  },
  {
   "cell_type": "markdown",
   "metadata": {
    "slideshow": {
     "slide_type": "slide"
    }
   },
   "source": [
    "Dans la boucle `for` suivante, on teste les lois gaussienne, uniforme, beta et log-normale et on évalue le critère BIC."
   ]
  },
  {
   "cell_type": "code",
   "execution_count": 19,
   "metadata": {
    "scrolled": true,
    "slideshow": {
     "slide_type": "-"
    }
   },
   "outputs": [
    {
     "name": "stdout",
     "output_type": "stream",
     "text": [
      "Name, BIC\n",
      "Normal: 2.8104\n",
      "Uniform: 3.0631\n",
      "Beta: 2.8490\n",
      "LogNormal: 2.8103\n"
     ]
    }
   ],
   "source": [
    "print(\"Name, BIC\")\n",
    "for F in [\n",
    "    ot.NormalFactory(),\n",
    "    ot.UniformFactory(),\n",
    "    ot.BetaFactory(),\n",
    "    ot.LogNormalFactory(),\n",
    "]:\n",
    "    T = F.build(data)\n",
    "    name = T.getName()\n",
    "    bic = ot.FittingTest.BIC(data, T)\n",
    "    print(\"%s: %.4f\" % (name, bic))"
   ]
  },
  {
   "cell_type": "markdown",
   "metadata": {},
   "source": [
    "On observe que la plus petite valeur de BIC est atteinte pour les lois gaussienne et log-normale. La valeur pour la loi beta est significativement plus grande et la loi uniforme est disqualifiée."
   ]
  },
  {
   "cell_type": "markdown",
   "metadata": {
    "slideshow": {
     "slide_type": "slide"
    }
   },
   "source": [
    "## Estimation non paramétrique : l'histogramme"
   ]
  },
  {
   "cell_type": "markdown",
   "metadata": {
    "slideshow": {
     "slide_type": "-"
    }
   },
   "source": [
    "Soit $\\{x_i\\}_{i=1,...,n}$ un échantillon unidimensionnel de taille $n$. La méthode la plus simple pour créer un histogramme consiste à créer des classes dont la largeur $h$ est fixée et constante. On note $a$ et $b$ les valeurs minimales et maximales dans l'échantillon :\n",
    "\n",
    "$$\n",
    "a = \\min_{i=1,...,n} x_i, \\qquad b = \\max_{i=1,...,n} x_i.\n",
    "$$\n",
    "\n",
    "Pour $i=1,...,m$, on note $t_i\\in\\mathbb{R}$ les bords des classes où $m$ est le nombre de classes et on fait l'hypothèse que le bords sont triés par ordre strictement croissants :\n",
    "\n",
    "$$\n",
    "t_1 < t_2 < \\ldots < t_m.\n",
    "$$\n",
    "\n",
    "Dans le cas particulier où les classes sont de largeur constante, on a :\n",
    "\n",
    "$$\n",
    "h = t_i - t_{i-1} \n",
    "$$\n",
    "\n",
    "pour $i=2,...,m$. "
   ]
  },
  {
   "cell_type": "markdown",
   "metadata": {
    "slideshow": {
     "slide_type": "slide"
    }
   },
   "source": [
    "Les classes sont les intervalles $[t_{i-1},t_i[\\subset\\mathbb{R}$ pour $i=2,...,m$. \n",
    "\n",
    "Soit $n_i$ le nombre de valeurs de l'échantillon dans la classe $[t_{i-1},t_i]$ :\n",
    "\n",
    "$$\n",
    "n_i = \\#\\left\\{x_j\\in [t_{i-1},t_i[, \\, j=1,...,n\\right\\}\n",
    "$$\n",
    "\n",
    "pour $i=1,...,m-1$. \n",
    "\n",
    "Soit \n",
    "\n",
    "$$\n",
    "y_i = \\frac{n_i}{w_i},\n",
    "$$\n",
    "\n",
    "où $w_i$ est un poids permettant d'assurer la normalisation de l'histogramme : \n",
    "\n",
    "$$\n",
    "\\sum_{i=1}^{m-1} y_i (t_{i+1} - t_{i}) = 1.\n",
    "$$"
   ]
  },
  {
   "cell_type": "markdown",
   "metadata": {
    "slideshow": {
     "slide_type": "slide"
    }
   },
   "source": [
    "Par exemple, avec une largeur de classe constante égale à $h$, on a \n",
    "\n",
    "$$\n",
    "w_i = \\frac{n}{h}.\n",
    "$$\n",
    "\n",
    "L'histogramme est la densité de probabilité définie par l'équation :\n",
    "\n",
    "$$\n",
    "f_X(x) = \\sum_{i=1}^{m-1} y_i\\;\\mathbb{1}_{[t_i,t_{i+1}]}(x)\n",
    "$$\n",
    "\n",
    "pour tout $x\\in[a,b]$. \n",
    "\n",
    "La valeur par défaut de la largeur de classe $h$ est la règle de Silverman qui minimise le critère AMISE :\n",
    "\n",
    "$$\n",
    "h = \\left(\\frac{24 \\sqrt{\\pi}}{n}\\right)^{1/3}  \\sigma_n\n",
    "$$\n",
    "\n",
    "où $\\sigma_n$ est l'écart-type empirique non biaisé de l'échantillon."
   ]
  },
  {
   "cell_type": "code",
   "execution_count": 20,
   "metadata": {
    "slideshow": {
     "slide_type": "slide"
    }
   },
   "outputs": [
    {
     "data": {
      "text/html": [
       "<p>Histogram(origin = -2.29006, {w0 = 0.648042, h0 = 0.0771555}, {w1 = 0.648042, h1 = 0.108018}, {w2 = 0.648042, h2 = 0.401209}, {w3 = 0.648042, h3 = 0.262329}, {w4 = 0.648042, h4 = 0.401209}, {w5 = 0.648042, h5 = 0.169742}, {w6 = 0.648042, h6 = 0.123449})</p>"
      ],
      "text/plain": [
       "class=Histogram name=Histogram dimension=1 first=-2.29006 width=class=Point name=Unnamed dimension=7 values=[0.648042,0.648042,0.648042,0.648042,0.648042,0.648042,0.648042] height=class=Point name=Unnamed dimension=7 values=[0.0771555,0.108018,0.401209,0.262329,0.401209,0.169742,0.123449]"
      ]
     },
     "execution_count": 20,
     "metadata": {},
     "output_type": "execute_result"
    }
   ],
   "source": [
    "histo = ot.HistogramFactory().build(data)\n",
    "histo"
   ]
  },
  {
   "cell_type": "code",
   "execution_count": 21,
   "metadata": {},
   "outputs": [
    {
     "data": {
      "image/png": "[encoded data removed]",
      "text/plain": [
       "<Figure size 288x216 with 1 Axes>"
      ]
     },
     "metadata": {
      "needs_background": "light"
     },
     "output_type": "display_data"
    }
   ],
   "source": [
    "graph = histo.drawPDF()\n",
    "view = otv.View(graph, figure_kw={\"figsize\": (4.0, 3.0)})"
   ]
  },
  {
   "cell_type": "markdown",
   "metadata": {
    "slideshow": {
     "slide_type": "slide"
    }
   },
   "source": [
    "## Méthodes à noyau\n",
    "\n",
    "Soit $k$ une loi de distribution univariée. Par définition, cela implique :\n",
    "\n",
    "$$\n",
    "\\int_{-\\infty}^{+\\infty} k(x) dx = 1.\n",
    "$$\n",
    "\n",
    "L'estimateur à noyau est la densité de probabilité définie par :\n",
    "\n",
    "$$\n",
    "f_{KS}(x) = \\frac{1}{n\\,h} \\sum_{i=1}^n k \\left( \\frac{x-x_i}{h} \\right)\n",
    "$$\n",
    "\n",
    "où $h$ est la largeur de bande et $n$ est la taille de l'échantillon."
   ]
  },
  {
   "cell_type": "markdown",
   "metadata": {
    "slideshow": {
     "slide_type": "slide"
    }
   },
   "source": [
    "En pratique, les deux noyaux les plus utilisés sont :\n",
    "- le noyau gaussien, i.e. \n",
    "\n",
    "$$\n",
    "k(x) = \\varphi(x) = \\frac{1}{\\sqrt{2\\pi}} \\exp\\left(-\\frac{x^2}{2}\\right)\n",
    "$$\n",
    "\n",
    "pour tout $x\\in\\mathbb{R}$.\n",
    "\n",
    "- le noyau d'Epanechnikov :\n",
    "$$\n",
    "k(x) = \\frac{3}{4} \\left(1 - x^2\\right)\n",
    "$$\n",
    "\n",
    "pour tout $x\\in[-1,1]$ et $k(x) = 0$ sinon.\n",
    "\n",
    "Le noyau d'Epanechnikov est optimal au sens de l'erreur moyenne quadratique. "
   ]
  },
  {
   "cell_type": "code",
   "execution_count": 22,
   "metadata": {
    "slideshow": {
     "slide_type": "slide"
    }
   },
   "outputs": [
    {
     "data": {
      "text/html": [
       "<p>KernelSmoothing</p>"
      ],
      "text/plain": [
       "<openturns.dist_bundle2.KernelSmoothing; proxy of <Swig Object of type 'OT::KernelSmoothing *' at 0x7f51125e1ae0> >"
      ]
     },
     "execution_count": 22,
     "metadata": {},
     "output_type": "execute_result"
    }
   ],
   "source": [
    "ksfactory = ot.KernelSmoothing()\n",
    "ksfactory"
   ]
  },
  {
   "cell_type": "code",
   "execution_count": 23,
   "metadata": {},
   "outputs": [],
   "source": [
    "KS = ksfactory.build(data)"
   ]
  },
  {
   "cell_type": "code",
   "execution_count": 24,
   "metadata": {
    "scrolled": true
   },
   "outputs": [
    {
     "data": {
      "image/png": "[encoded data removed]",
      "text/plain": [
       "<Figure size 288x216 with 1 Axes>"
      ]
     },
     "metadata": {
      "needs_background": "light"
     },
     "output_type": "display_data"
    }
   ],
   "source": [
    "graph = KS.drawPDF()\n",
    "view = otv.View(graph, figure_kw={\"figsize\": (4.0, 3.0)})"
   ]
  },
  {
   "cell_type": "markdown",
   "metadata": {
    "slideshow": {
     "slide_type": "slide"
    }
   },
   "source": [
    "Dans la boucle `for` suivante, on compare le noyau gaussien et le noyau d'Epanechnikov en termes de test de Kolmogorov-Smirnov et de critère BIC."
   ]
  },
  {
   "cell_type": "code",
   "execution_count": 25,
   "metadata": {
    "slideshow": {
     "slide_type": "-"
    }
   },
   "outputs": [
    {
     "data": {
      "image/png": "[encoded data removed]",
      "text/plain": [
       "<Figure size 864x216 with 2 Axes>"
      ]
     },
     "metadata": {
      "needs_background": "light"
     },
     "output_type": "display_data"
    }
   ],
   "source": [
    "kernels = [ot.Normal(), ot.Epanechnikov()]\n",
    "fig = pl.figure(figsize=(12, 3))\n",
    "for i in range(len(kernels)):\n",
    "    kernel = kernels[i]\n",
    "    name = kernel.getName()\n",
    "    distribution = ot.KernelSmoothing(kernel).build(data)\n",
    "    pval = ot.FittingTest.Kolmogorov(data, distribution).getPValue()\n",
    "    bic = ot.FittingTest.BIC(data, distribution)\n",
    "    graph = distribution.drawPDF()\n",
    "    ax_pdf = fig.add_subplot(1, len(kernels), i + 1)\n",
    "    ax_pdf.set_title(\"%s, p-value=%.4f, BIC = %.3f\" % (name, pval, bic))\n",
    "    _ = ot.viewer.View(graph, figure=fig, axes=[ax_pdf])"
   ]
  },
  {
   "cell_type": "markdown",
   "metadata": {
    "slideshow": {
     "slide_type": "slide"
    }
   },
   "source": [
    "## Références\n",
    "\n",
    "- http://openturns.github.io/openturns/master/theory/data_analysis/maximum_likelihood.html\n",
    "- http://openturns.github.io/openturns/master/theory/data_analysis/kolmogorov_test.html\n",
    "- http://openturns.github.io/openturns/master/theory/data_analysis/bic.html\n",
    "- https://en.wikipedia.org/wiki/Kernel_%28statistics%29"
   ]
  },
  {
   "cell_type": "markdown",
   "metadata": {
    "slideshow": {
     "slide_type": "slide"
    }
   },
   "source": [
    "## Annexe\n",
    "\n",
    "Dans ce paragraphe, on explore le calcul de la largeur de classe dans un histogramme par la règle de Silverman.\n",
    "\n",
    "La version robuste de la règle de Silverman utilise les quantiles de l'échantillon. "
   ]
  },
  {
   "cell_type": "code",
   "execution_count": 26,
   "metadata": {},
   "outputs": [
    {
     "data": {
      "text/plain": [
       "0.8067172117500124"
      ]
     },
     "execution_count": 26,
     "metadata": {},
     "output_type": "execute_result"
    }
   ],
   "source": [
    "s = (\n",
    "    data.computeQuantilePerComponent(0.75)[0]\n",
    "    - data.computeQuantilePerComponent(0.25)[0]\n",
    ")\n",
    "h = (24 * np.sqrt(np.pi) / n) ** (1.0 / 3.0) * s / (2.0 * ot.DistFunc_qNormal(0.75))\n",
    "h"
   ]
  },
  {
   "cell_type": "code",
   "execution_count": 27,
   "metadata": {},
   "outputs": [
    {
     "data": {
      "text/plain": [
       "0.8067172117500124"
      ]
     },
     "execution_count": 27,
     "metadata": {},
     "output_type": "execute_result"
    }
   ],
   "source": [
    "f = ot.HistogramFactory()\n",
    "f.computeBandwidth(data, True)"
   ]
  },
  {
   "cell_type": "markdown",
   "metadata": {
    "slideshow": {
     "slide_type": "slide"
    }
   },
   "source": [
    "La règle de Silverman utilise l'écart-type empirique non biaisé."
   ]
  },
  {
   "cell_type": "code",
   "execution_count": 28,
   "metadata": {},
   "outputs": [
    {
     "data": {
      "text/plain": [
       "0.7455229983115491"
      ]
     },
     "execution_count": 28,
     "metadata": {},
     "output_type": "execute_result"
    }
   ],
   "source": [
    "sigma = data.computeStandardDeviation()[0]\n",
    "h = (24 * np.sqrt(np.pi) / n) ** (1.0 / 3.0) * sigma\n",
    "h"
   ]
  },
  {
   "cell_type": "code",
   "execution_count": 29,
   "metadata": {
    "scrolled": false
   },
   "outputs": [
    {
     "data": {
      "text/plain": [
       "0.7455229983115491"
      ]
     },
     "execution_count": 29,
     "metadata": {},
     "output_type": "execute_result"
    }
   ],
   "source": [
    "f = ot.HistogramFactory()\n",
    "f.computeBandwidth(data, False)"
   ]
  },
  {
   "cell_type": "code",
   "execution_count": 30,
   "metadata": {},
   "outputs": [
    {
     "data": {
      "text/html": [
       "<p>[first : -2.29006, width_0 : 0.648042, height_0 : 0.0771555, width_1 : 0.648042, height_1 : 0.108018, width_2 : 0.648042, height_2 : 0.401209, width_3 : 0.648042, height_3 : 0.262329, width_4 : 0.648042, height_4 : 0.401209, width_5 : 0.648042, height_5 : 0.169742, width_6 : 0.648042, height_6 : 0.123449]</p>"
      ],
      "text/plain": [
       "class=PointWithDescription name=X0 dimension=15 description=[first,width_0,height_0,width_1,height_1,width_2,height_2,width_3,height_3,width_4,height_4,width_5,height_5,width_6,height_6] values=[-2.29006,0.648042,0.0771555,0.648042,0.108018,0.648042,0.401209,0.648042,0.262329,0.648042,0.401209,0.648042,0.169742,0.648042,0.123449]"
      ]
     },
     "execution_count": 30,
     "metadata": {},
     "output_type": "execute_result"
    }
   ],
   "source": [
    "p = histo.getParametersCollection()[0]\n",
    "p"
   ]
  }
 ],
 "metadata": {
  "anaconda-cloud": {},
  "celltoolbar": "Diaporama",
  "kernelspec": {
   "display_name": "Python 3 (ipykernel)",
   "language": "python",
   "name": "python3"
  },
  "language_info": {
   "codemirror_mode": {
    "name": "ipython",
    "version": 3
   },
   "file_extension": ".py",
   "mimetype": "text/x-python",
   "name": "python",
   "nbconvert_exporter": "python",
   "pygments_lexer": "ipython3",
   "version": "3.9.0"
  }
 },
 "nbformat": 4,
 "nbformat_minor": 1
}
