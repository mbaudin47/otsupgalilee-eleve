{
 "cells": [
  {
   "cell_type": "markdown",
   "metadata": {},
   "source": [
    "# Thème 2 - quantification des incertitudes\n",
    "\n",
    "## Introduction\n",
    "\n",
    "L'objectif de cette séquence est de déterminer la loi univariée qui s'ajuste le mieux à un échantillon. Dans la méthodologie générique de traitement des incertitudes, c'est l'étape B.\n",
    "\n",
    "## Vue d'ensemble\n",
    "\n",
    "- Exercice - Approfondissement sur les distributions 1D : Approfondissement-distributions-1D.ipynb\n",
    "- Rappels de cours - Ajustement d'une loi 1D sur un échantillon : Ajustement-distribution-1D.ipynb\n",
    "- Exercice - ajustement d'une loi 1D sur un échantillon de modules d'Young : cantilever-beam-fit-distribution.ipynb"
   ]
  }
 ],
 "metadata": {
  "kernelspec": {
   "display_name": "Python 3",
   "language": "python",
   "name": "python3"
  },
  "language_info": {
   "codemirror_mode": {
    "name": "ipython",
    "version": 3
   },
   "file_extension": ".py",
   "mimetype": "text/x-python",
   "name": "python",
   "nbconvert_exporter": "python",
   "pygments_lexer": "ipython3",
   "version": "3.7.4"
  }
 },
 "nbformat": 4,
 "nbformat_minor": 2
}
