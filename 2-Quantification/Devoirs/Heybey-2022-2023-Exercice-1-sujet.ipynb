{
 "cells": [
  {
   "cell_type": "markdown",
   "metadata": {},
   "source": [
    "# Calcul de dés avec OpenTURNS - Sujet\n",
    "\n",
    "Dans ce devoir, on s'intéresse à un exercice proposé à l'occasion de l'examen rédigé par Emmanuel Hebey pour l'épreuve de Probabilités à l'Université de Cergy pour l'année scolaire 2022-2023. Le sujet est le suivant.\n",
    "\n",
    "![](hebey-2022-2023-exercice-1.png)\n",
    "\n",
    "**Figure 1.** Exercice 1 de l'examen d'Emmanuel Hebey pour l'examen de Probabilités à l'Université de Cergy pour l'année scolaire 2022-2023.\n",
    "\n",
    "Le but de l'exercice est de répondre aux questions 1 et 2 du devoir grâce aux fonctionnalités d'OpenTURNS.\n",
    "\n",
    "## Questions\n",
    "\n",
    "**Question 1.** Le but de cette question est de modéliser les deux dés impliqués dans l'exercice.\n",
    "\n",
    "_Calcul théorique._ La réponse à cette question est un calcul mathématique théorique.\n",
    "- Calculer la valeur exacte (théorique) $p$ et $q$.\n",
    "\n",
    "_Script Python avec OpenTURNS._ La réponse aux questions qui suivent est un script Python.\n",
    "- Définir la variable `dice_1` de type `UserDefined` avec les paramètres du premier dé.\n",
    "- De même, définir la variable `dice_2` de type `UserDefined` avec les paramètres du second dé.\n",
    "- Pour les deux dés, utiliser la méthode `drawPDF()` pour dessiner la fonction de masse.\n",
    "\n",
    "**Question 2.** Le but de cette question est d'estimer la probabilité impliquée dans l'exercice 2.\n",
    "\n",
    "_Calcul théorique._ La réponse à cette question est un calcul mathématique théorique.\n",
    "- Soit $X_1$ la variable aléatoire associée au premier dé et $X_2$ la variable aléatoire associée au second. Calculer la valeur exacte (théorique) de $P(X_1 + X_2 = 6)$.\n",
    "\n",
    "_Script Python avec OpenTURNS._ La réponse aux questions qui suivent est un script Python.\n",
    "- Définir la variable `distribution` de type `JointDistribution` qui implémente la loi jointe du vecteur aléatoire de dimension 2 associé aux deux dés.\n",
    "- Utiliser la classe `SymbolicFunction` pour définir une fonction implémentant la somme des deux dés.\n",
    "- Utiliser la classe `CompositeRandomVector` pour définir le vecteur aléatoire dont la réalisation est la somme des deux dés.\n",
    "- Utiliser la classe `ProbabilitySimulationAlgorithm` pour estimer la probabilité $P(X_1 + X_2 = 6)$. Pour cela, utiliser un coefficient de variation maximal égal à 0.001 et une taille de bloc égale à 1000. Utiliser l'algorithme pour obtenir une estimation de la probabilité et un intervalle de confiance à 95% de la probabilité.\n",
    "- Utiliser la méthode `drawProbabilityConvergence()` pour dessiner la convergence de l'estimateur vers la probabilité. Utiliser la méthode `setLogScale(ot.GraphImplementation.LOGX)` pour afficher l'axe des abscisses - correspondant au nombre d'itérations externes de l'algorithme - en échelle logarithmique. Sur le même graphique, afficher la valeur exacte de la probabilité. Qu'observez-vous ?"
   ]
  }
 ],
 "metadata": {
  "kernelspec": {
   "display_name": "ot124",
   "language": "python",
   "name": "python3"
  },
  "language_info": {
   "codemirror_mode": {
    "name": "ipython",
    "version": 3
   },
   "file_extension": ".py",
   "mimetype": "text/x-python",
   "name": "python",
   "nbconvert_exporter": "python",
   "pygments_lexer": "ipython3",
   "version": "3.13.0"
  },
  "orig_nbformat": 4
 },
 "nbformat": 4,
 "nbformat_minor": 2
}
