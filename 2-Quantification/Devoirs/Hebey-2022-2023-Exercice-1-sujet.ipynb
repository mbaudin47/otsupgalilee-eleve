{
 "cells": [
  {
   "cell_type": "markdown",
   "metadata": {},
   "source": [
    "# Calcul de dés avec OpenTURNS - Sujet\n",
    "\n",
    "Dans ce devoir, on s'intéresse à un exercice proposé à l'occasion de l'examen rédigé par Emmanuel Hebey pour l'épreuve de Probabilités à l'Université de Cergy pour l'année scolaire 2022-2023. Le sujet est le suivant.\n",
    "\n",
    "![](hebey-2022-2023-exercice-1.png)\n",
    "\n",
    "**Figure 1.** Exercice 1 de l'examen d'Emmanuel Hebey pour l'examen de Probabilités à l'Université de Cergy pour l'année scolaire 2022-2023.\n",
    "\n",
    "Le but de l'exercice est de répondre aux questions du devoir grâce aux fonctionnalités d'estimation de probabilité d'OpenTURNS.\n",
    "\n",
    "## Questions\n",
    "\n",
    "### Question 1\n",
    "\n",
    "Le but de cette question est de modéliser les deux dés impliqués dans l'exercice.\n",
    "\n",
    "_Calcul théorique._ La réponse à cette question est un calcul mathématique théorique.\n",
    "- Calculer la valeur exacte (théorique) de $p$ et $q$.\n",
    "\n",
    "_Script Python avec OpenTURNS._ La réponse aux questions qui suivent est un script Python.\n",
    "- Définir la variable `dice_1` de type `UserDefined` avec les paramètres du premier dé.\n",
    "- De même, définir la variable `dice_2` de type `UserDefined` avec les paramètres du second dé.\n",
    "- Pour les deux dés, utiliser la méthode `drawPDF()` pour dessiner la fonction de masse.\n"
   ]
  },
  {
   "cell_type": "markdown",
   "metadata": {},
   "source": [
    "### Question 2\n",
    "\n",
    "Le but de cette question est d'estimer la probabilité impliquée dans l'exercice 2, c'est-à-dire $\\mathbb{P}(X_1 + X_2 = 6)$.\n",
    "\n",
    "_Calcul théorique._ La réponse à cette question est un calcul mathématique théorique.\n",
    "- Soit $X_1$ la variable aléatoire associée au premier dé et $X_2$ la variable aléatoire associée au second. Calculer la valeur exacte (théorique) de $\\mathbb{P}(X_1 + X_2 = 6)$.\n",
    "\n",
    "_Script Python avec OpenTURNS._ La réponse aux questions qui suivent est un script Python.\n",
    "- Définir la variable `distribution` de type `JointDistribution` qui implémente la loi jointe du vecteur aléatoire de dimension 2 associé aux deux dés.\n",
    "- Utiliser la classe `SymbolicFunction` pour définir une fonction implémentant la somme des deux dés.\n",
    "- Utiliser la classe `CompositeRandomVector` pour définir le vecteur aléatoire dont la réalisation est la somme des deux dés.\n",
    "- Utiliser la classe `ThresholdEvent` pour définir l'évènement associé au fait que la somme des deux dés est égale à 6.\n",
    "- Utiliser la classe `ProbabilitySimulationAlgorithm` pour estimer la probabilité $\\mathbb{P}(X_1 + X_2 = 6)$. Pour cela, utiliser un coefficient de variation maximal égal à 0.001 et une taille de bloc égale à 1000. Utiliser l'algorithme pour obtenir une estimation de la probabilité et un intervalle de confiance à 95% de la probabilité.\n",
    "- Utiliser la méthode `drawProbabilityConvergence()` pour dessiner la convergence de l'estimateur vers la probabilité. Utiliser la méthode `setLogScale(ot.GraphImplementation.LOGX)` pour afficher l'axe des abscisses - correspondant au nombre d'itérations externes de l'algorithme - en échelle logarithmique. Sur le même graphique, afficher la valeur exacte de la probabilité. Qu'observez-vous ?\n"
   ]
  },
  {
   "cell_type": "markdown",
   "metadata": {},
   "source": [
    "### Question 3\n",
    "\n",
    "La question consiste à évaluer la probabilité conditionnelle suivante :\n",
    "\n",
    "$$\n",
    "\\mathbb{P}(X_1 = 3 \\; | \\; X_1 + X_2 = 6) = \\frac{\\mathbb{P}(X_1 = 3, \\; X_1 + X_2 = 6)}{\\mathbb{P}(X_1 + X_2 = 6)}.\n",
    "$$\n",
    "\n",
    "\n",
    "_Calcul théorique._ La réponse à cette question est un calcul mathématique théorique.\n",
    "- Calculer la valeur exacte (théorique) de $\\mathbb{P}(X_1 + X_2 = 6, \\; X_1 = 3)$.\n",
    "- En déduire la valeur exacte (théorique) de $\\mathbb{P}(X_1 = 3 \\; | \\; X_1 + X_2 = 6)$.\n",
    "\n",
    "_Script Python avec OpenTURNS._ La réponse aux questions qui suivent est un script Python.\n",
    "- Utiliser la classe `SymbolicFunction` pour définir une fonction implémentant la valeur du premier dé.\n",
    "- Utiliser la classe `CompositeRandomVector` pour définir le vecteur aléatoire dont la réalisation est la valeur du premier dé.\n",
    "- Utiliser la classe `ThresholdEvent` pour définir l'évènement associé au fait que le premier dé est égal à 3.\n",
    "- Utiliser la classe `IntersectionEvent` pour définir l'évènement associé à l'intersection des évènements définis aux questions 2 et 3.\n",
    "- Utiliser la classe `ProbabilitySimulationAlgorithm` pour estimer la probabilité $\\mathbb{P}(X_1 + X_2 = 6, \\; X_1 = 3)$.\n",
    "- Utiliser la méthode `computePDF()` pour calculer la probabilité $\\mathbb{P}(X_1 = 3)$. En déduire la valeur estimée de $\\mathbb{P}(X_1 + X_2 = 6 \\; | \\; X_1 = 3)$."
   ]
  },
  {
   "cell_type": "markdown",
   "metadata": {},
   "source": [
    "### Question 4\n",
    "\n",
    "Nous proposons d'évaluer la probabilité conditionnelle suivante :\n",
    "\n",
    "$$\n",
    "\\mathbb{P}(X_1 + X_2 = 6 \\; | \\; X_1 = 3) = \\frac{\\mathbb{P}(X_1 + X_2 = 6, \\; X_1 = 3)}{\\mathbb{P}(X_1 = 3)}.\n",
    "$$\n",
    "\n",
    "_Calcul théorique._ La réponse à cette question est un calcul mathématique théorique.\n",
    "- Evaluer la valeur exacte (théorique) de $\\mathbb{P}(X_1 + X_2 = 6 \\; | \\; X_1 = 3)$.\n",
    "\n",
    "_Script Python avec OpenTURNS._ La réponse aux questions qui suivent est un script Python.\n",
    "- Calculer la valeur estimée de $\\mathbb{P}(X_1 + X_2 = 6 \\; | \\; X_1 = 3)$."
   ]
  }
 ],
 "metadata": {
  "kernelspec": {
   "display_name": "ot124",
   "language": "python",
   "name": "python3"
  },
  "language_info": {
   "codemirror_mode": {
    "name": "ipython",
    "version": 3
   },
   "file_extension": ".py",
   "mimetype": "text/x-python",
   "name": "python",
   "nbconvert_exporter": "python",
   "pygments_lexer": "ipython3",
   "version": "3.13.0"
  },
  "orig_nbformat": 4
 },
 "nbformat": 4,
 "nbformat_minor": 2
}
