{
 "cells": [
  {
   "cell_type": "markdown",
   "metadata": {},
   "source": [
    "# Estimer une probabilité de dépassement de seuil par les méthodes FORM-SORM - Application au cas de la poutre en flexion\n"
   ]
  },
  {
   "cell_type": "markdown",
   "metadata": {},
   "source": [
    "## Déviation  verticale d'une poutre encastrée\n",
    "\n",
    "We consider a cantilever beam defined by its Young’s modulus $E$, its length $L$ and its section modulus $I$. One end is built in a wall and we apply a concentrated bending load $F$ at the other end of the beam, resulting in a vertical deviation $Y$.\n",
    "\n",
    "<img src=\"poutre.png\" width=\"200\">\n",
    "\n",
    "__Inputs__:  $\\left\\{ E, F, L, I \\right\\}$\n",
    "* $E$ : Young modulus (Pa)\n",
    "* $F$ : Loading (N),\n",
    "* $L$ : Length of beam (cm),\n",
    "* $I$ : Moment of inertia (cm^4).\n",
    "\n",
    "|Variable|  Distribution|\n",
    "| ------------- |-------------|\n",
    "|E| Beta(alpha = 0.9, beta = 2.2, a = $2.5\\times 10^7$, $b = 5\\times 10^7$) |\n",
    "|F| Lognormal($\\mu_F=3 \\times 10^4$, $\\sigma_F=9\\times 10^3$, shift=$15\\times 10^3$)|\n",
    "|L| Uniform(min=250.0, max= 260.0)|\n",
    "|I| Beta(alpha = 2.5, beta = 1.5, a = 310, b = 450)|\n",
    "\n",
    "In the previous table $\\mu_F=E(F)$ and $\\sigma_F=\\sqrt{V(F)}$ are the mean and the standard deviation of $F$.\n",
    "\n",
    "The input variables are supposed to be independent.\n",
    "\n",
    "__Output__:\n",
    "\n",
    "The vertical displacement at free end of the cantilever beam is:\n",
    "$$\n",
    "Y  = \\dfrac{F\\, L^3}{3 \\, E \\, I}\n",
    "$$\n",
    "It is considered that failure occurs when the beam deviation is greater than 30 cm:\n",
    "$$\n",
    "Y \\geq 30 \\textrm{ (cm)}\n",
    "$$\n",
    "With a Monte-Carlo sample size equal to 7 120 000, we get:\n",
    "$$\n",
    "P(Y\\geq 30) = 0.005590.\n",
    "$$\n",
    "The 95% confidence interval is \n",
    "$$\n",
    "P([0.005536,0.005645]\\ni P_f)=0.95.\n",
    "$$\n",
    "\n",
    "## References\n",
    "\n",
    "* http://openturns.github.io/openturns/master/auto_reliability_sensitivity/reliability/plot_FORM_explained.html\n",
    "* http://openturns.github.io/openturns/master/auto_reliability_sensitivity/reliability/plot_multi_form.html\n",
    "* https://en.wikipedia.org/wiki/Curvature#Graph_of_a_function\n",
    "* \"Structural reliability\", Maurice Lemaire, Wiley (2009). \n",
    "* M. Hohenbichler, S. Goldwitzer, W. Kruse and R. Rackwitz. New light on first- and second-order reliability methods. Structural Safety, 4: 267–284, 1987.\n",
    "* M. Hohenbichler. Numerical Evaluation of the Error Term in Breitung’s Formula. Technical Report 69, Technical University of Munich, 1984.\n",
    "* K. Breitung. Asymptotic approximations for multinormal integrals. Journal of the Engineering Mechanical Division, ASCE, 110(3): 357–366, March 1984."
   ]
  },
  {
   "cell_type": "markdown",
   "metadata": {},
   "source": [
    "# Model definition"
   ]
  },
  {
   "cell_type": "code",
   "execution_count": 1,
   "metadata": {},
   "outputs": [],
   "source": [
    "import openturns as ot\n",
    "import numpy as np\n",
    "import otbenchmark as otb"
   ]
  },
  {
   "cell_type": "code",
   "execution_count": 2,
   "metadata": {},
   "outputs": [],
   "source": [
    "dist_E = ot.Beta(0.9, 2.2, 2.8e7, 4.8e7)\n",
    "dist_E.setDescription([\"E\"])\n",
    "F_para = ot.LogNormalMuSigma(3.0e4, 9.0e3, 15.0e3)  # in N\n",
    "dist_F = ot.ParametrizedDistribution(F_para)\n",
    "dist_F.setDescription([\"F\"])\n",
    "dist_L = ot.Uniform(250.0, 260.0)  # in cm\n",
    "dist_L.setDescription([\"L\"])\n",
    "dist_I = ot.Beta(2.5, 1.5, 310.0, 450.0)  # in cm^4\n",
    "dist_I.setDescription([\"I\"])\n",
    "\n",
    "X = ot.ComposedDistribution([dist_E, dist_F, dist_L, dist_I])"
   ]
  },
  {
   "cell_type": "code",
   "execution_count": 3,
   "metadata": {},
   "outputs": [],
   "source": [
    "g = ot.SymbolicFunction([\"E\", \"F\", \"L\", \"I\"], [\"F* L^3 /  (3 * E * I)\"])\n",
    "g.setOutputDescription([\"Y (cm)\"])"
   ]
  },
  {
   "cell_type": "markdown",
   "metadata": {},
   "source": [
    "Pour pouvoir exploiter au mieux les simulations, nous équipons la fonction d'un méchanisme d'historique."
   ]
  },
  {
   "cell_type": "code",
   "execution_count": 4,
   "metadata": {},
   "outputs": [],
   "source": [
    "g = ot.MemoizeFunction(g)"
   ]
  },
  {
   "cell_type": "markdown",
   "metadata": {},
   "source": [
    "Enfin, nous définissons le vecteur aléatoire de sortie."
   ]
  },
  {
   "cell_type": "code",
   "execution_count": 5,
   "metadata": {},
   "outputs": [],
   "source": [
    "XRV = ot.RandomVector(X)\n",
    "Y = ot.CompositeRandomVector(g, XRV)\n",
    "Y.setDescription([\"Y (cm)\"])"
   ]
  },
  {
   "cell_type": "markdown",
   "metadata": {},
   "source": [
    "## Utilisation de la méthode FORM"
   ]
  },
  {
   "cell_type": "markdown",
   "metadata": {},
   "source": [
    "Nous créons un `ThresholdEvent` associé à l'évènement : $E = \\{Y > 30\\}$. La probabilité recherché est $p_f = \\mathbb{P}(E)$. "
   ]
  },
  {
   "cell_type": "code",
   "execution_count": 6,
   "metadata": {},
   "outputs": [],
   "source": [
    "event = ot.ThresholdEvent(Y, ot.Greater(), 30.0)"
   ]
  },
  {
   "cell_type": "markdown",
   "metadata": {},
   "source": [
    "Pour résoudre le problème d'optimisation, on utilise la méthode d'Abdo-Rackwitz, qui est spécialisée pour la méthode FORM."
   ]
  },
  {
   "cell_type": "code",
   "execution_count": 7,
   "metadata": {},
   "outputs": [],
   "source": [
    "solver = ot.AbdoRackwitz()"
   ]
  },
  {
   "cell_type": "markdown",
   "metadata": {},
   "source": [
    "L'algorithme d'optimisation nécessite un point de départ dans l'espace physique. Pour cela, on utilise le centre du domaine physique c'est à dire la moyenne du vecteur aléatoire en entrée du modèle. "
   ]
  },
  {
   "cell_type": "code",
   "execution_count": 8,
   "metadata": {},
   "outputs": [
    {
     "data": {
      "text/html": [
       "<p>[3.38065e+07,30000,255,397.5]</p>"
      ],
      "text/plain": [
       "class=Point name=Unnamed dimension=4 values=[3.38065e+07,30000,255,397.5]"
      ]
     },
     "execution_count": 8,
     "metadata": {},
     "output_type": "execute_result"
    }
   ],
   "source": [
    "physicalStartingPoint = X.getMean()\n",
    "physicalStartingPoint"
   ]
  },
  {
   "cell_type": "markdown",
   "metadata": {},
   "source": [
    "On peut alors utiliser la classe `FORM` et exécuter l'algorithme avec la méthode `run`. "
   ]
  },
  {
   "cell_type": "code",
   "execution_count": 9,
   "metadata": {},
   "outputs": [],
   "source": [
    "algo = ot.FORM(solver, event, physicalStartingPoint)\n",
    "algo.run()\n",
    "result = algo.getResult()"
   ]
  },
  {
   "cell_type": "markdown",
   "metadata": {},
   "source": [
    "La méthode `getEventProbability` retourne la probabilité recherchée. "
   ]
  },
  {
   "cell_type": "code",
   "execution_count": 10,
   "metadata": {},
   "outputs": [
    {
     "name": "stdout",
     "output_type": "stream",
     "text": [
      "Probability of failure (FORM) Pf =  0.0065821387151758235\n"
     ]
    }
   ],
   "source": [
    "pf_FORM = result.getEventProbability()\n",
    "print(\"Probability of failure (FORM) Pf = \", pf_FORM)"
   ]
  },
  {
   "cell_type": "markdown",
   "metadata": {},
   "source": [
    "On observe que la méthode FORM produit la solution $\\hat{p}_f = 0.006582$, ce qui est relativement proche de la solution de référence: l'ordre de grandeur est correct, mais la solution n'est pas très précise. "
   ]
  },
  {
   "cell_type": "code",
   "execution_count": 11,
   "metadata": {},
   "outputs": [
    {
     "data": {
      "text/plain": [
       "13"
      ]
     },
     "execution_count": 11,
     "metadata": {},
     "output_type": "execute_result"
    }
   ],
   "source": [
    "g.getEvaluationCallsNumber()"
   ]
  },
  {
   "cell_type": "markdown",
   "metadata": {},
   "source": [
    "On observe que seulement 13 évaluations ont été nécessaires. Comparé à la méthode de Monte-Carlo, c'est une performance remarquable: lorsqu'elle fonctionne correctement, la méthode FORM est très économique. "
   ]
  },
  {
   "cell_type": "markdown",
   "metadata": {},
   "source": [
    "La méthode `getStandardSpaceDesignPoint` retourne le point de conception dans l'espace standard."
   ]
  },
  {
   "cell_type": "code",
   "execution_count": 12,
   "metadata": {},
   "outputs": [
    {
     "data": {
      "text/html": [
       "<p>[-0.604806,2.32791,0.251194,-0.54668]</p>"
      ],
      "text/plain": [
       "class=Point name=Standard Space Design Point dimension=4 values=[-0.604806,2.32791,0.251194,-0.54668]"
      ]
     },
     "execution_count": 12,
     "metadata": {},
     "output_type": "execute_result"
    }
   ],
   "source": [
    "designPointStandardSpace = result.getStandardSpaceDesignPoint()\n",
    "designPointStandardSpace"
   ]
  },
  {
   "cell_type": "markdown",
   "metadata": {},
   "source": [
    "On observe que la variable F (la seconde composante) possède une valeur standard $U_F$ relativement éloignée du centre du domaine, relativement aux autres."
   ]
  },
  {
   "cell_type": "markdown",
   "metadata": {},
   "source": [
    "La méthode `getIsStandardPointOriginInFailureSpace` retourne `True` si l'origine est défaillante dans l'espace standard. Ici, l'origine n'est pas défaillante dans l'espace standard. "
   ]
  },
  {
   "cell_type": "code",
   "execution_count": 13,
   "metadata": {},
   "outputs": [
    {
     "data": {
      "text/plain": [
       "False"
      ]
     },
     "execution_count": 13,
     "metadata": {},
     "output_type": "execute_result"
    }
   ],
   "source": [
    "result.getIsStandardPointOriginInFailureSpace()"
   ]
  },
  {
   "cell_type": "markdown",
   "metadata": {},
   "source": [
    "## Utilisation de la méthode SORM\n",
    "\n",
    "Pour utiliser la méthode SORM, on utilise la classe du même nom :"
   ]
  },
  {
   "cell_type": "code",
   "execution_count": 14,
   "metadata": {},
   "outputs": [],
   "source": [
    "algo = ot.SORM(solver, event, physicalStartingPoint)\n",
    "algo.run()\n",
    "result = algo.getResult()"
   ]
  },
  {
   "cell_type": "code",
   "execution_count": 15,
   "metadata": {},
   "outputs": [
    {
     "name": "stdout",
     "output_type": "stream",
     "text": [
      "Probability of failure (SORM Breintung) Pf =  0.0054164457133272954\n",
      "Probability of failure (SORM Hohenbichler) Pf =  0.005306863742455168\n",
      "Probability of failure (SORM Tvedt) Pf =  0.005273810867877747\n"
     ]
    }
   ],
   "source": [
    "pf_Breitung = result.getEventProbabilityBreitung()\n",
    "pf_Hohenbichler = result.getEventProbabilityHohenbichler()\n",
    "pf_Tvedt = result.getEventProbabilityTvedt()\n",
    "\n",
    "print(\"Probability of failure (SORM Breintung) Pf = \", pf_Breitung)\n",
    "print(\"Probability of failure (SORM Hohenbichler) Pf = \", pf_Hohenbichler)\n",
    "print(\"Probability of failure (SORM Tvedt) Pf = \", pf_Tvedt)"
   ]
  },
  {
   "cell_type": "markdown",
   "metadata": {},
   "source": [
    "## Dessiner la fonction d'état limite"
   ]
  },
  {
   "cell_type": "code",
   "execution_count": 16,
   "metadata": {},
   "outputs": [
    {
     "name": "stderr",
     "output_type": "stream",
     "text": [
      "/home/devel/Documents/venvOTSupGalilee/lib/python3.8/site-packages/openturns/viewer.py:432: UserWarning: No contour levels were found within the data range.\n",
      "  contourset = self._ax[0].contour(X, Y, Z, **contour_kw)\n"
     ]
    },
    {
     "data": {
      "image/png": "[encoded data removed]",
      "text/plain": [
       "<Figure size 864x864 with 6 Axes>"
      ]
     },
     "metadata": {
      "needs_background": "light"
     },
     "output_type": "display_data"
    }
   ],
   "source": [
    "event = ot.ThresholdEvent(Y, ot.Greater(), 20.0)  # Lower threshold to make it fail more often.\n",
    "alpha = 1.0 - 0.001\n",
    "bounds, marginalProb = X.computeMinimumVolumeIntervalWithMarginalProbability(\n",
    "    alpha\n",
    ")\n",
    "drawEvent = otb.DrawEvent(event)\n",
    "_ = drawEvent.draw(bounds, nX = 100)"
   ]
  },
  {
   "cell_type": "markdown",
   "metadata": {},
   "source": [
    "Plot the event in the standard space."
   ]
  },
  {
   "cell_type": "code",
   "execution_count": 17,
   "metadata": {},
   "outputs": [
    {
     "data": {
      "image/png": "[encoded data removed]",
      "text/plain": [
       "<Figure size 864x864 with 6 Axes>"
      ]
     },
     "metadata": {
      "needs_background": "light"
     },
     "output_type": "display_data"
    }
   ],
   "source": [
    "alpha = 1.0 - 0.001\n",
    "dimension = X.getDimension()\n",
    "standardDistribution = ot.Normal(dimension)\n",
    "bounds, marginalProb = standardDistribution.computeMinimumVolumeIntervalWithMarginalProbability(\n",
    "    alpha\n",
    ")\n",
    "standardEvent = ot.StandardEvent(event)\n",
    "drawEvent = otb.DrawEvent(standardEvent)\n",
    "_ = drawEvent.draw(bounds)"
   ]
  },
  {
   "cell_type": "markdown",
   "metadata": {},
   "source": [
    "## Exercice 1 : faire varier le seuil\n",
    "\n",
    "On souhaite observer comment la probabilité évolue lorsque le seuil change. \n",
    "\n",
    "*Questions*\n",
    "\n",
    "* Changer la valeur du seuil et estimer la probabilité $p_f = \\mathbb{P}(E)$ de l'évènement $E = \\{Y > s\\}$ pour $s=10, 15, ..., 100$ par pas de 5. \n",
    "* Pour chaque valeur du seuil, afficher la probabilité de défaillance et le nombre d'appels à la fonction $g$. Qu'observez-vous ?\n",
    "* Combien d'appels au code seraient nécessaire pour estimer la probabilité $p_f$ pour le seuil $s=100$ par une méthode de Monte-Carlo simple avec un coefficient de variation égal à 0.1?\n",
    "* Dessiner la probabilité estimée en fonction du seuil. Utiliser une échelle logarithmique pour l'axe des ordonnées. Quelle est l'allure générale de la courbe ?"
   ]
  },
  {
   "cell_type": "markdown",
   "metadata": {},
   "source": [
    "## Exercice 2 : vérifier le calcul FORM\n",
    "\n",
    "$\\newcommand{\\vect}[1]{{\\mathbf{\\boldsymbol{{#1}}}}}$\n",
    "\n",
    "Soit $g_s$ la fonction d'état limite :\n",
    "\n",
    "$$\n",
    "g_s(\\vect{x}) = s - g(\\vect{x})\n",
    "$$\n",
    "\n",
    "pour tout $\\vect{x}\\in\\mathbb{R}^p$. \n",
    "\n",
    "Soit $h$ la fonction issue de la composition de la transformation isoprobabiliste $T$ et de la fonction $g_s$ :\n",
    "\n",
    "$$\n",
    "h(\\vect{u}) = g_s\\left[T^{-1}(\\vect{u})\\right]\n",
    "$$\n",
    "\n",
    "pour tout $\\vect{u}\\in\\mathbb{R}^p$. \n",
    "\n",
    "On a vu en cours que, si la fonction $h$ est linéaire dans l'espace standard, alors :\n",
    "\n",
    "$$\n",
    "p_f = \n",
    "\\begin{cases}\n",
    "\\Phi(-\\beta) & \\textrm{ si l'origine de l'espace standard est fiable}, \\\\\n",
    "\\Phi(\\beta) & \\textrm{sinon.}\n",
    "\\end{cases}\n",
    "$$\n",
    "\n",
    "où $\\Phi$ est la fonction de répartition de la loi Gaussienne standard. \n",
    "\n",
    "Voir également sur ce sujet (Lemaire, 2009), p.170, Proposition 1.\n",
    "\n",
    "*Questions*\n",
    "\n",
    "* Utiliser le seuil $s=30$ et la méthode FORM pour obtenir le résultat. \n",
    "* Utiliser la méthode `getIsStandardPointOriginInFailureSpace` pour déterminer si l'origine de l'espace standard est défaillante ou non. \n",
    "* Calculer l'estimation FORM de la probabilité."
   ]
  },
  {
   "cell_type": "markdown",
   "metadata": {},
   "source": [
    "## Exercice 3 : vérifier l'équation SORM"
   ]
  },
  {
   "cell_type": "markdown",
   "metadata": {},
   "source": [
    "L'approximation asymptotique de Breitung (voir (Breitung, 1984) et (Lemaire, 2009), p.190, eq.7.20) est :\n",
    "\n",
    "$$\n",
    "\\hat{p}_f = \\frac{\\Phi(-\\beta)}{\\prod_{i=1}^p \\sqrt{1 + \\beta \\kappa_i}}\n",
    "$$\n",
    "\n",
    "où $\\kappa_i$ est la ième courbure.\n",
    "\n",
    "L'approximation précédente ne peut être appliquée que si $1 + \\beta \\kappa_i > 0$ pour $i=1,\\ldots, p$. Elle n'est valide que pour des valeurs de $\\beta$ grandes c'est à dire si $\\beta\\rightarrow +\\infty$.\n",
    "\n",
    "Une amélioration de l'approximation de Breitung est celle de Hohenbichler (voir (Hohenbichler, 1984) et (Lemaire, 2009), p.194):\n",
    "\n",
    "$$\n",
    "\\hat{p}_f = \\frac{\\Phi(-\\beta)}{\\prod_{i=1}^p \\sqrt{1 + \\frac{\\phi(\\beta)}{\\Phi(-\\beta)} \\kappa_i}}.\n",
    "$$\n",
    "\n",
    "\n",
    "L'objectif de cet exercice est d'utiliser les approximations SORM de Breitung et Hohenbichler pour vérifier le calcul OpenTURNS. \n",
    "\n",
    "*Questions*\n",
    "\n",
    "* Utiliser la classe `SORM` puis la méthode `getResult` pour obtenir le résultat. \n",
    "* Utiliser la méthode `getHasoferReliabilityIndex` pour déterminer l'indice de fiabilité $\\beta$.\n",
    "* Utiliser la méthode `getSortedCurvatures` pour obtenir les courbures $\\kappa_1, \\ldots, \\kappa_4$. \n",
    "* Evaluer l'approximation de Breitung et comparer avec la sortie de la méthode `getEventProbabilityBreitung`.\n",
    "* Evaluer l'approximation de Hohenbichler et comparer avec la sortie de la méthode `getEventProbabilityHohenBichler`."
   ]
  }
 ],
 "metadata": {
  "kernelspec": {
   "display_name": "Python 3",
   "language": "python",
   "name": "python3"
  },
  "language_info": {
   "codemirror_mode": {
    "name": "ipython",
    "version": 3
   },
   "file_extension": ".py",
   "mimetype": "text/x-python",
   "name": "python",
   "nbconvert_exporter": "python",
   "pygments_lexer": "ipython3",
   "version": "3.8.6"
  }
 },
 "nbformat": 4,
 "nbformat_minor": 2
}
