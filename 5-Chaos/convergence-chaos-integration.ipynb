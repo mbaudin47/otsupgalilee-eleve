{
 "cells": [
  {
   "cell_type": "markdown",
   "id": "70cffa53",
   "metadata": {},
   "source": [
    "# Create a polynomial chaos metamodel by integration on the cantilever beam\n",
    "\n",
    "\n",
    "In this example, we create a polynomial chaos metamodel by integration on the\n",
    "cantilever beam example.\n",
    "We choose to evaluate the coefficients of the chaos decomposition by\n",
    "integration using various kinds of design of experiment:\n",
    "- Gauss product\n",
    "- Monte-Carlo sampling\n",
    "- Latin hypercube sampling\n",
    "- Quasi Monte Carlo with a Sobol' sequence\n",
    "\n",
    "We will compare the results obtained on each design."
   ]
  },
  {
   "cell_type": "code",
   "execution_count": 1,
   "id": "cd5ea565",
   "metadata": {},
   "outputs": [],
   "source": [
    "from openturns.usecases import cantilever_beam\n",
    "import openturns as ot\n",
    "import openturns.viewer as otv\n",
    "import numpy as np\n",
    "\n",
    "ot.Log.Show(ot.Log.NONE)"
   ]
  },
  {
   "cell_type": "code",
   "execution_count": 2,
   "id": "f4361982",
   "metadata": {},
   "outputs": [
    {
     "data": {
      "text/html": [
       "<ul>\n",
       "  <li>dimension: 4</li>\n",
       "  <li>copula: IndependentCopula</li>\n",
       "</ul>\n",
       "\n",
       "<table>\n",
       "  <tr>\n",
       "    <th>Index</th>\n",
       "    <th>Variable</th>\n",
       "    <th>Distribution</th>\n",
       "  </tr>\n",
       "  <tr>\n",
       "    <td>0</td>\n",
       "    <td>E</td>\n",
       "    <td>Beta(alpha = 0.9, beta = 3.5, a = 6.5e+10, b = 7.5e+10)</td>\n",
       "  </tr>\n",
       "  <tr>\n",
       "    <td>1</td>\n",
       "    <td>F</td>\n",
       "    <td>LogNormal(muLog = 5.69881, sigmaLog = 0.0997513, gamma = 0)</td>\n",
       "  </tr>\n",
       "  <tr>\n",
       "    <td>2</td>\n",
       "    <td>L</td>\n",
       "    <td>Uniform(a = 2.5, b = 2.6)</td>\n",
       "  </tr>\n",
       "  <tr>\n",
       "    <td>3</td>\n",
       "    <td>I</td>\n",
       "    <td>Beta(alpha = 2.5, beta = 4, a = 1.3e-07, b = 1.7e-07)</td>\n",
       "  </tr>\n",
       "</table>\n"
      ],
      "text/markdown": [
       "ComposedDistribution\n",
       "- name=ComposedDistribution\n",
       "- dimension=4\n",
       "- description=[E,F,L,I]\n",
       "- copula=IndependentCopula(dimension = 4)\n",
       "\n",
       "| Index | Variable | Distribution                                                |\n",
       "|-------|----------|-------------------------------------------------------------|\n",
       "|     0 |        E | Beta(alpha = 0.9, beta = 3.5, a = 6.5e+10, b = 7.5e+10)     |\n",
       "|     1 |        F | LogNormal(muLog = 5.69881, sigmaLog = 0.0997513, gamma = 0) |\n",
       "|     2 |        L | Uniform(a = 2.5, b = 2.6)                                   |\n",
       "|     3 |        I | Beta(alpha = 2.5, beta = 4, a = 1.3e-07, b = 1.7e-07)       |\n"
      ],
      "text/plain": [
       "class=ComposedDistribution name=ComposedDistribution dimension=4 copula=class=IndependentCopula name=IndependentCopula dimension=4 marginal[0]=class=Beta name=Young modulus dimension=1 alpha=0.9 beta=3.5 a=6.5e+10 b=7.5e+10 marginal[1]=class=LogNormal name=Load dimension=1 muLog=5.69881 sigmaLog=0.0997513 gamma=0 marginal[2]=class=Uniform name=Length dimension=1 a=2.5 b=2.6 marginal[3]=class=Beta name=Inertia dimension=1 alpha=2.5 beta=4 a=1.3e-07 b=1.7e-07"
      ]
     },
     "execution_count": 2,
     "metadata": {},
     "output_type": "execute_result"
    }
   ],
   "source": [
    "# %%\n",
    "# We first load the model from the usecases module :\n",
    "cb = cantilever_beam.CantileverBeam()\n",
    "\n",
    "# %%\n",
    "# In this example we consider all marginals independent. They are defined in the `CantileverBeam` data class as well as an independent distribution:\n",
    "dist_E = cb.E\n",
    "dist_F = cb.F\n",
    "dist_L = cb.L\n",
    "dist_I = cb.II\n",
    "distribution = cb.independentDistribution\n",
    "distribution"
   ]
  },
  {
   "cell_type": "code",
   "execution_count": 3,
   "id": "63eba70c",
   "metadata": {},
   "outputs": [
    {
     "name": "stdout",
     "output_type": "stream",
     "text": [
      "P =  126\n"
     ]
    },
    {
     "data": {
      "text/html": [
       "<p>ComposedDistribution(Beta(alpha = 0.9, beta = 3.5, a = -1, b = 1), LogNormal(muLog = 5.69881, sigmaLog = 0.0997513, gamma = 0), Uniform(a = -1, b = 1), Beta(alpha = 2.5, beta = 4, a = -1, b = 1), IndependentCopula(dimension = 4))</p>"
      ],
      "text/plain": [
       "class=ComposedDistribution name=ComposedDistribution dimension=4 copula=class=IndependentCopula name=IndependentCopula dimension=4 marginal[0]=class=Beta name=Beta dimension=1 alpha=0.9 beta=3.5 a=-1 b=1 marginal[1]=class=LogNormal name=LogNormal dimension=1 muLog=5.69881 sigmaLog=0.0997513 gamma=0 marginal[2]=class=Uniform name=Uniform dimension=1 a=-1 b=1 marginal[3]=class=Beta name=Beta dimension=1 alpha=2.5 beta=4 a=-1 b=1"
      ]
     },
     "execution_count": 3,
     "metadata": {},
     "output_type": "execute_result"
    }
   ],
   "source": [
    "\n",
    "# %%\n",
    "# We load the model\n",
    "dim_input = cb.dim  # dimension of the input\n",
    "dim_output = 1  # dimension of the output\n",
    "g = cb.model\n",
    "\n",
    "# %%\n",
    "# Create a polynomial chaos decomposition\n",
    "# ---------------------------------------\n",
    "\n",
    "# %%\n",
    "# We create the multivariate polynomial basis by tensorization of the\n",
    "# univariate polynomials and the default linear enumerate rule.\n",
    "multivariateBasis = ot.OrthogonalProductPolynomialFactory(\n",
    "    [dist_E, dist_F, dist_L, dist_I]\n",
    ")\n",
    "\n",
    "# %%\n",
    "# We see that the number of polynomials is equal to 126.\n",
    "# This will lead to the computation of 126 coefficients.\n",
    "totalDegree = 5\n",
    "enum_func = multivariateBasis.getEnumerateFunction()\n",
    "P = enum_func.getBasisSizeFromTotalDegree(totalDegree)\n",
    "print(\"P = \", P)\n",
    "\n",
    "# %%\n",
    "# We select the `FixedStrategy` truncation rule, which corresponds to using\n",
    "# the first `P` polynomials of the polynomial basis.\n",
    "# In this case, we select `P` using the `getStrataCumulatedCardinal` method,\n",
    "# so that all polynomials with total degree lower or equal to 5 are used.\n",
    "adaptiveStrategy = ot.FixedStrategy(multivariateBasis, P)\n",
    "\n",
    "#\n",
    "# We begin by getting the standard measure associated with the multivariate polynomial basis. We see that the range of the `Beta` distribution has been standardized into the [-1,1] interval. This is the same for the `Uniform` distribution and the second `Beta` distribution.\n",
    "measure = multivariateBasis.getMeasure()\n",
    "measure"
   ]
  },
  {
   "cell_type": "code",
   "execution_count": 4,
   "id": "1728e460",
   "metadata": {},
   "outputs": [],
   "source": [
    "def computeQsquaredFromExperiment(experiment, distribution, n_valid):\n",
    "    projectionStrategy = ot.IntegrationStrategy(experiment)\n",
    "    inputSample, weights = experiment.generateWithWeights()\n",
    "    outputSample = g(inputSample)\n",
    "    algo = ot.FunctionalChaosAlgorithm(\n",
    "        inputSample, weights, outputSample, distribution, adaptiveStrategy, projectionStrategy\n",
    "    )\n",
    "    algo.run()\n",
    "    result = algo.getResult()\n",
    "    metamodel = result.getMetaModel()\n",
    "    X_test = distribution.getSample(n_valid)\n",
    "    Y_test = g(X_test)\n",
    "    val = ot.MetaModelValidation(X_test, Y_test, metamodel)\n",
    "    Q2 = val.computePredictivityFactor()[0]\n",
    "    Q2 = max(Q2, 0.0)\n",
    "    return Q2"
   ]
  },
  {
   "cell_type": "code",
   "execution_count": 5,
   "id": "e128013b",
   "metadata": {},
   "outputs": [
    {
     "data": {
      "text/plain": [
       "0.7969052829518016"
      ]
     },
     "execution_count": 5,
     "metadata": {},
     "output_type": "execute_result"
    }
   ],
   "source": [
    "experiment = ot.MonteCarloExperiment(distribution, 40000)\n",
    "n_valid = 40000\n",
    "computeQsquaredFromExperiment(experiment, distribution, n_valid)\n"
   ]
  },
  {
   "cell_type": "code",
   "execution_count": 6,
   "id": "e047e3cd",
   "metadata": {},
   "outputs": [],
   "source": [
    "def computeQ2ArrayFromExperiment(\n",
    "    experiment,\n",
    "    distribution,\n",
    "    number_of_repetitions,\n",
    "    minimum_sample_size_exponent,\n",
    "    maximum_sample_size_exponent,\n",
    "    number_of_sample_sizes,\n",
    "    n_valid,\n",
    "):\n",
    "    sample_size_array = np.logspace(\n",
    "        minimum_sample_size_exponent,\n",
    "        maximum_sample_size_exponent,\n",
    "        number_of_sample_sizes,\n",
    "    )\n",
    "    sample_size_array = [int(sample_size) for sample_size in sample_size_array]\n",
    "    number_of_sample_sizes = len(sample_size_array)\n",
    "    total_experiments = number_of_sample_sizes * number_of_repetitions\n",
    "    q2_sample = ot.Sample(total_experiments, 2)\n",
    "    index = 0\n",
    "    for i in range(number_of_sample_sizes):\n",
    "        sample_size = sample_size_array[i]\n",
    "        experiment.setSize(sample_size)\n",
    "        for j in range(number_of_repetitions):\n",
    "            q2_sample[index, 0] = sample_size\n",
    "            q2Score = computeQsquaredFromExperiment(experiment, distribution, n_valid)\n",
    "            q2_sample[index, 1] = q2Score\n",
    "            index += 1\n",
    "    return q2_sample"
   ]
  },
  {
   "cell_type": "code",
   "execution_count": 7,
   "id": "c5f3fd3c",
   "metadata": {},
   "outputs": [],
   "source": [
    "n_valid = 1000\n",
    "\n",
    "# Monte-Carlo\n",
    "minimum_sample_size_exponent = 2\n",
    "maximum_sample_size_exponent = 5\n",
    "number_of_sample_sizes = 10\n",
    "number_of_repetitions = 5\n",
    "experiment = ot.MonteCarloExperiment()\n",
    "experiment.setDistribution(distribution)\n",
    "q2_sample_MC = computeQ2ArrayFromExperiment(\n",
    "    experiment,\n",
    "    distribution,\n",
    "    number_of_repetitions,\n",
    "    minimum_sample_size_exponent,\n",
    "    maximum_sample_size_exponent,\n",
    "    number_of_sample_sizes,\n",
    "    n_valid,\n",
    ")\n"
   ]
  },
  {
   "cell_type": "code",
   "execution_count": 8,
   "id": "2dfb9b52",
   "metadata": {},
   "outputs": [
    {
     "data": {
      "text/plain": [
       "0.0"
      ]
     },
     "execution_count": 8,
     "metadata": {},
     "output_type": "execute_result"
    }
   ],
   "source": [
    "experiment = ot.LHSExperiment(distribution, 215)\n",
    "n_valid = 40000\n",
    "computeQsquaredFromExperiment(experiment, distribution, n_valid)\n"
   ]
  },
  {
   "cell_type": "code",
   "execution_count": 9,
   "id": "aa5aa8ba",
   "metadata": {},
   "outputs": [],
   "source": [
    "# LHS\n",
    "minimum_sample_size_exponent = 2\n",
    "maximum_sample_size_exponent = 5\n",
    "number_of_sample_sizes = 10\n",
    "number_of_repetitions = 5\n",
    "experiment = ot.LHSExperiment()\n",
    "experiment.setAlwaysShuffle(True)  # See https://github.com/openturns/openturns/issues/2431\n",
    "experiment.setDistribution(distribution)\n",
    "q2_sample_LHS = computeQ2ArrayFromExperiment(\n",
    "    experiment,\n",
    "    distribution,\n",
    "    number_of_repetitions,\n",
    "    minimum_sample_size_exponent,\n",
    "    maximum_sample_size_exponent,\n",
    "    number_of_sample_sizes,\n",
    "    n_valid,\n",
    ")\n"
   ]
  },
  {
   "cell_type": "code",
   "execution_count": 10,
   "id": "dd45a35c",
   "metadata": {},
   "outputs": [],
   "source": [
    "# Sobol'\n",
    "minimum_sample_size_exponent = 2\n",
    "maximum_sample_size_exponent = 4\n",
    "number_of_sample_sizes = 10\n",
    "number_of_repetitions = 5\n",
    "sequence = ot.SobolSequence()\n",
    "experiment = ot.LowDiscrepancyExperiment(sequence, distribution, 10)\n",
    "q2_sample_Sobol = computeQ2ArrayFromExperiment(\n",
    "    experiment,\n",
    "    distribution,\n",
    "    number_of_repetitions,\n",
    "    minimum_sample_size_exponent,\n",
    "    maximum_sample_size_exponent,\n",
    "    number_of_sample_sizes,\n",
    "    n_valid,\n",
    ")\n"
   ]
  },
  {
   "cell_type": "code",
   "execution_count": 11,
   "id": "17cd5442",
   "metadata": {},
   "outputs": [],
   "source": [
    "# GaussProductExperiment\n",
    "minimum_number_of_marginal_nodes = 2\n",
    "maximum_number_of_marginal_nodes = 5\n",
    "total_experiments = (\n",
    "    maximum_number_of_marginal_nodes - minimum_number_of_marginal_nodes + 1\n",
    ")\n",
    "q2_sample_Gauss = ot.Sample(total_experiments, 2)\n",
    "index = 0\n",
    "for number_of_marginal_nodes in range(\n",
    "    minimum_number_of_marginal_nodes, 1 + maximum_number_of_marginal_nodes\n",
    "):\n",
    "    marginalSizes = [number_of_marginal_nodes] * dim_input\n",
    "    experiment = ot.GaussProductExperiment(distribution, marginalSizes)\n",
    "    sample_size = experiment.getSize()\n",
    "    q2_sample_Gauss[index, 0] = sample_size\n",
    "    q2_sample_Gauss[index, 1] = computeQsquaredFromExperiment(experiment, distribution, n_valid)\n",
    "    index += 1"
   ]
  },
  {
   "cell_type": "code",
   "execution_count": 13,
   "id": "1dbea1c1",
   "metadata": {},
   "outputs": [
    {
     "data": {
      "image/png": "[encoded data removed]",
      "text/plain": [
       "<Figure size 640x480 with 1 Axes>"
      ]
     },
     "metadata": {},
     "output_type": "display_data"
    }
   ],
   "source": [
    "graph = ot.Graph(\"Convergence of Q2\", \"Sample size\", \"Q2\", True)\n",
    "# Gauss\n",
    "cloud = ot.Cloud(q2_sample_Gauss)\n",
    "cloud.setLegend(\"Gauss\")\n",
    "cloud.setPointStyle(\"plus\")\n",
    "graph.add(cloud)\n",
    "# LHS\n",
    "cloud = ot.Cloud(q2_sample_MC)\n",
    "cloud.setLegend(\"Monte-Carlo\")\n",
    "cloud.setPointStyle(\"bullet\")\n",
    "graph.add(cloud)\n",
    "# LHS\n",
    "cloud = ot.Cloud(q2_sample_LHS)\n",
    "cloud.setLegend(\"LHS\")\n",
    "cloud.setPointStyle(\"square\")\n",
    "graph.add(cloud)\n",
    "# Sobol'\n",
    "cloud = ot.Cloud(q2_sample_Sobol)\n",
    "cloud.setLegend(\"Sobol\")\n",
    "cloud.setPointStyle(\"circle\")\n",
    "graph.add(cloud)\n",
    "graph.setLogScale(ot.GraphImplementation.LOGX)\n",
    "graph.setLegendPosition(\"topleft\")\n",
    "graph.setColors(ot.Drawable().BuildDefaultPalette(4))\n",
    "view = otv.View(graph, legend_kw={\"bbox_to_anchor\": (1.0, 1.0), \"loc\": \"upper left\"})\n",
    "view.getFigure().savefig(\"convergence-chaos-integration.pdf\", bbox_inches=\"tight\")"
   ]
  },
  {
   "cell_type": "code",
   "execution_count": null,
   "id": "ead35bc2",
   "metadata": {},
   "outputs": [],
   "source": []
  }
 ],
 "metadata": {
  "kernelspec": {
   "display_name": "Python 3 (ipykernel)",
   "language": "python",
   "name": "python3"
  },
  "language_info": {
   "codemirror_mode": {
    "name": "ipython",
    "version": 3
   },
   "file_extension": ".py",
   "mimetype": "text/x-python",
   "name": "python",
   "nbconvert_exporter": "python",
   "pygments_lexer": "ipython3",
   "version": "3.11.0"
  }
 },
 "nbformat": 4,
 "nbformat_minor": 5
}
