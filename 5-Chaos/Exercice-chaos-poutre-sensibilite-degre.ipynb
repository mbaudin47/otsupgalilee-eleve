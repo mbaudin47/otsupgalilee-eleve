{
 "cells": [
  {
   "cell_type": "markdown",
   "metadata": {},
   "source": [
    "# Polynômes de chaos pour la poutre encastrée ; Sensibilité au degré du polynôme\n",
    "\n",
    "On considère le cas de la déviation verticale de la poutre encastrée.\n",
    "\n",
    "Dans ce notebook, on expérimente la sensibilité au degré du polynôme du chaos. On observe comment cela impacte le $Q^2$.\n",
    "\n",
    "On considère ici un polynôme de chaos creux par moindres carrés avec une règle d'énumération linéaire. Dans un premier temps, on utilise la famille de polynômes orthogonaux pour chaque variable aléatoire, y compris la variable F, de loi log-normale.\n",
    "\n",
    "On observe que, avec un polynôme de degré total égal à 5, il faut au moins 50 expériences dans l'apprentissage pour estimer le Q2 avec suffisamment de robustesse. Avec un degré égal à 5, si on utilise moins d'expériences, alors il arrive, en fonction de l'échantillon, que le Q2 soit très mauvais (inférieur à 0.5). Avec un plan de taille 25, il est plus prudent d'utiliser un polynôme de degré 2 au plus. Avec un plan de taille 9, même un polynôme de degré 1 peut ne pas produire un Q2 satisfaisant.\n",
    "\n",
    "La variable log-normale peut poser des difficultés car les polynômes orthogonaux associés ne sont pas denses dans L2. Pour voir si cela a une influence dans ce cas particulier, on utilise des polynômes d'Hermite pour la variable F. Ce choix tend plutôt à dégrader la performance en termes de Q2. Avec un plan d'expériences d'apprentissage de taille 50, la performance se dégrade lorsque le degré du polynôme dépasse 3, ce qui est moins sensible avec la famille des polynômes orthogonalisés pour la loi log-normale.\n",
    "\n",
    "Ainsi, on observe que, malgré l'algorithme de sélection de modèle LARS utilisé par défaut dans la classe `LeastSquaresMetaModelSelectionFactory`, il est prudent de tester des polynômes de degré croissants pour observer la sensibilité de ce paramètre."
   ]
  },
  {
   "cell_type": "code",
   "execution_count": 1,
   "metadata": {},
   "outputs": [],
   "source": [
    "import openturns as ot\n",
    "import numpy as np\n",
    "import openturns.viewer\n",
    "import pylab as plt"
   ]
  },
  {
   "cell_type": "markdown",
   "metadata": {},
   "source": [
    "La valeur suivante permet d'avoir une simulation rapide."
   ]
  },
  {
   "cell_type": "code",
   "execution_count": 2,
   "metadata": {},
   "outputs": [],
   "source": [
    "maxDegree = 2"
   ]
  },
  {
   "cell_type": "markdown",
   "metadata": {},
   "source": [
    "Pour faire des vrais tests, utiliser plutôt la valeur suivante."
   ]
  },
  {
   "cell_type": "code",
   "execution_count": 26,
   "metadata": {},
   "outputs": [],
   "source": [
    "# maxDegree = 7"
   ]
  },
  {
   "cell_type": "code",
   "execution_count": 4,
   "metadata": {},
   "outputs": [],
   "source": [
    "dist_E = ot.Beta(0.9, 2.2, 2.8e7, 4.8e7)\n",
    "dist_E.setDescription([\"E\"])\n",
    "F_para = ot.LogNormalMuSigma(3.0e4, 9.0e3, 15.0e3)  # in N\n",
    "dist_F = ot.ParametrizedDistribution(F_para)\n",
    "dist_F.setDescription([\"F\"])\n",
    "dist_L = ot.Uniform(250.0, 260.0)  # in cm\n",
    "dist_L.setDescription([\"L\"])\n",
    "dist_I = ot.Beta(2.5, 1.5, 310.0, 450.0)  # in cm^4\n",
    "dist_I.setDescription([\"I\"])\n",
    "\n",
    "myDistribution = ot.ComposedDistribution([dist_E, dist_F, dist_L, dist_I])\n",
    "\n",
    "dim_input = 4  # dimension of the input\n",
    "dim_output = 1  # dimension of the output\n",
    "\n",
    "\n",
    "def function_beam(X):\n",
    "    E, F, L, I = X\n",
    "    Y = F * L ** 3 / (3 * E * I)\n",
    "    return [Y]\n",
    "\n",
    "\n",
    "g = ot.PythonFunction(dim_input, dim_output, function_beam)\n",
    "g.setInputDescription(myDistribution.getDescription())"
   ]
  },
  {
   "cell_type": "markdown",
   "metadata": {},
   "source": [
    "La fonction suivante calcule un chaos creux par moindres carrés avec une règle d'énumération linéaire associée à un degré total. "
   ]
  },
  {
   "cell_type": "code",
   "execution_count": 5,
   "metadata": {},
   "outputs": [],
   "source": [
    "def ComputeSparseLeastSquaresChaos(\n",
    "    inputTrain, outputTrain, multivariateBasis, totalDegree, myDistribution\n",
    "):\n",
    "    \"\"\"\n",
    "    Crée un polynôme du chaos creux par moindres carrés. \n",
    "    \n",
    "    Paramètres :\n",
    "        inputTrain : un Sample, le plan d'expériences des entrées\n",
    "        outputTrain : un Sample, le plan d'expériences des sorties\n",
    "        multivariateBasis : une Basis, la base multivariée du chaos\n",
    "        totalDegree : un entier, le degré total maximal du chaos\n",
    "        myDistribution : une Distribution, la loi du vecteur aléatoire en entrée\n",
    "    \n",
    "    Description :    \n",
    "        * Utilise la règle d'énumération contenue dans multivariateBasis. \n",
    "        * Utilise LeastSquaresStrategy pour calculer les \n",
    "        coefficients par moindres carrés. \n",
    "        * Utilise LeastSquaresMetaModelSelectionFactory pour \n",
    "        obtenir la méthode de sélection de modèle LARS. \n",
    "        * Utilise FixedStrategy pour conserver tous les coefficients \n",
    "        que la méthode LARS a préalablement sélectionné. \n",
    "    \"\"\"\n",
    "    selectionAlgorithm = ot.LeastSquaresMetaModelSelectionFactory()\n",
    "    projectionStrategy = ot.LeastSquaresStrategy(\n",
    "        inputTrain, outputTrain, selectionAlgorithm\n",
    "    )\n",
    "    enumfunc = multivariateBasis.getEnumerateFunction()\n",
    "    P = enumfunc.getStrataCumulatedCardinal(totalDegree)\n",
    "    adaptiveStrategy = ot.FixedStrategy(multivariateBasis, P)\n",
    "    chaosalgo = ot.FunctionalChaosAlgorithm(\n",
    "        inputTrain, outputTrain, myDistribution, adaptiveStrategy, projectionStrategy\n",
    "    )\n",
    "    chaosalgo.run()\n",
    "    result = chaosalgo.getResult()\n",
    "    return result"
   ]
  },
  {
   "cell_type": "markdown",
   "metadata": {},
   "source": [
    "La fonction suivante calcule et affiche le Q2 et produit le diagramme de validation."
   ]
  },
  {
   "cell_type": "code",
   "execution_count": 6,
   "metadata": {},
   "outputs": [],
   "source": [
    "def printQ2Chaos(multivariateBasis, chaosResult, inputTest, outputTest, totalDegree):\n",
    "    sparsityRate = computeSparsityRate(multivariateBasis, totalDegree, chaosResult)\n",
    "    metamodel = chaosResult.getMetaModel()  # get the metamodel\n",
    "    val = ot.MetaModelValidation(inputTest, outputTest, metamodel)\n",
    "    Q2 = val.computePredictivityFactor()[0]\n",
    "    Q2 = max(Q2, 0.0)\n",
    "    grid = val.drawValidation()\n",
    "    graph = grid.getGraph(0, 0)\n",
    "    legend1 = \"D=%d, Q2=%.2f%%\" % (totalDegree, 100 * Q2)\n",
    "    graph.setLegends([\"\", legend1])\n",
    "    grid.setGraph(0, 0, graph)\n",
    "    print(\n",
    "        \"Degree=%d, Q2=%.2f%%, Sparsity=%.2f%%\"\n",
    "        % (totalDegree, 100 * Q2, 100 * sparsityRate)\n",
    "    )\n",
    "    return graph"
   ]
  },
  {
   "cell_type": "markdown",
   "metadata": {},
   "source": [
    "La fonction suivante calcule le degré de creux d'un polynôme du chaos en faisant l'hypothèse d'une règle d'énumération linéaire et d'une stratégie de troncature fixe associée un degré maximal donné. Le degré de creux est le ratio entre le nombre de coefficients retenus par la méthode de sélection de modèle et le nombre de coefficients total dans la base polynomiale pleine."
   ]
  },
  {
   "cell_type": "code",
   "execution_count": 7,
   "metadata": {},
   "outputs": [],
   "source": [
    "def computeSparsityRate(multivariateBasis, totalDegree, chaosResult):\n",
    "    \"\"\"Compute the sparsity rate, assuming a FixedStrategy.\"\"\"\n",
    "    # Get P, the maximum possible number of coefficients\n",
    "    enumfunc = multivariateBasis.getEnumerateFunction()\n",
    "    P = enumfunc.getStrataCumulatedCardinal(totalDegree)\n",
    "    # Get number of coefficients in the selection\n",
    "    indices = chaosResult.getIndices()\n",
    "    nbcoeffs = indices.getSize()\n",
    "    # Compute rate\n",
    "    sparsityRate = nbcoeffs / P\n",
    "    return sparsityRate"
   ]
  },
  {
   "cell_type": "code",
   "execution_count": 8,
   "metadata": {},
   "outputs": [],
   "source": [
    "def computeQ2Chaos(chaosResult, inputTest, outputTest):\n",
    "    \"\"\"Compute the Q2 of a chaos\"\"\"\n",
    "    metamodel = chaosResult.getMetaModel()\n",
    "    val = ot.MetaModelValidation(inputTest, outputTest, metamodel)\n",
    "    Q2 = val.computePredictivityFactor()[0]\n",
    "    Q2 = max(Q2, 0.0)\n",
    "    return Q2"
   ]
  },
  {
   "cell_type": "code",
   "execution_count": 9,
   "metadata": {},
   "outputs": [],
   "source": [
    "multivariateBasis = ot.OrthogonalProductPolynomialFactory(\n",
    "    [dist_E, dist_F, dist_L, dist_I]\n",
    ")\n",
    "N = 20  # size of the train design\n",
    "n_valid = 10000  # size of the test design"
   ]
  },
  {
   "cell_type": "markdown",
   "metadata": {},
   "source": [
    "La graîne est configurée pour afficher une figure intéressante. "
   ]
  },
  {
   "cell_type": "code",
   "execution_count": 10,
   "metadata": {},
   "outputs": [
    {
     "name": "stdout",
     "output_type": "stream",
     "text": [
      "Degree=1, Q2=96.37%, Sparsity=80.00%\n",
      "Degree=2, Q2=96.05%, Sparsity=53.33%\n",
      "Degree=3, Q2=92.37%, Sparsity=28.57%\n",
      "Degree=4, Q2=76.04%, Sparsity=8.57%\n",
      "Degree=5, Q2=47.79%, Sparsity=3.17%\n",
      "Degree=6, Q2=47.79%, Sparsity=1.90%\n"
     ]
    },
    {
     "data": {
      "image/png": "[encoded data removed]",
      "text/plain": [
       "<Figure size 360x288 with 6 Axes>"
      ]
     },
     "metadata": {
      "needs_background": "light"
     },
     "output_type": "display_data"
    }
   ],
   "source": [
    "ot.RandomGenerator.SetSeed(43)  # 127 est pas mal non plus\n",
    "inputTrain = myDistribution.getSample(N)\n",
    "outputTrain = g(inputTrain)\n",
    "inputTest = myDistribution.getSample(n_valid)\n",
    "outputTest = g(inputTest)\n",
    "fig = plt.figure(figsize=(5.0, 4.0))\n",
    "for totalDegree in range(1, maxDegree):\n",
    "    chaosResult = ComputeSparseLeastSquaresChaos(\n",
    "        inputTrain, outputTrain, multivariateBasis, totalDegree, myDistribution\n",
    "    )\n",
    "    graph = printQ2Chaos(\n",
    "        multivariateBasis, chaosResult, inputTest, outputTest, totalDegree\n",
    "    )\n",
    "    ax = fig.add_subplot(1, maxDegree - 1, totalDegree)\n",
    "    _ = ot.viewer.View(graph, figure=fig, axes=[ax])"
   ]
  },
  {
   "cell_type": "markdown",
   "metadata": {},
   "source": [
    "On observe que, lorsque le degré du polynôme augmente, alors le Q2 diminue. On observe aussi que le degré de creux diminue, ce qui montre que l'algorithme de sélection de modèle réalise correctement son travail de choix des coefficients les plus appropriés. Pourtant, cette sélection ne semble pas suffisante pour limiter l'influence du grand nombre de coefficients.\n",
    "\n",
    "Bien sûr, cet exemple est particulièrement bien choisi pour montrer une dégradation régulière. Comme nous allons le voir, cette dégradation de la performance est en réalité facile à reproduire. "
   ]
  },
  {
   "cell_type": "markdown",
   "metadata": {},
   "source": [
    "La boucle suivante recherche la valeur de la graîne permettant de montrer quelque chose d'intéressant."
   ]
  },
  {
   "cell_type": "code",
   "execution_count": 11,
   "metadata": {},
   "outputs": [
    {
     "name": "stdout",
     "output_type": "stream",
     "text": [
      "Attempt #0\n",
      "Attempt #1\n",
      "Attempt #2\n",
      "Attempt #3\n",
      "Attempt #4\n",
      "Attempt #5\n",
      "Attempt #6\n",
      "Attempt #7\n",
      "Attempt #8\n",
      "Attempt #9\n"
     ]
    }
   ],
   "source": [
    "attemptMax = 10  # Ecrire 1000 pour faire une vraie simulation.\n",
    "for attempt in range(attemptMax):\n",
    "    print(\"Attempt #%d\" % (attempt))\n",
    "    ot.RandomGenerator.SetSeed(attempt)\n",
    "    inputTrain = myDistribution.getSample(N)\n",
    "    outputTrain = g(inputTrain)\n",
    "    inputTest = myDistribution.getSample(n_valid)\n",
    "    outputTest = g(inputTest)\n",
    "    Q2array = ot.Sample(maxDegree - 1, 1)\n",
    "    for totalDegree in range(1, maxDegree):\n",
    "        chaosResult = ComputeSparseLeastSquaresChaos(\n",
    "            inputTrain, outputTrain, multivariateBasis, totalDegree, myDistribution\n",
    "        )\n",
    "        Q2array[totalDegree - 1, 0] = computeQ2Chaos(chaosResult, inputTest, outputTest)\n",
    "    if (Q2array[-1, 0] > 0.1) and (Q2array[-1, 0] < 0.5):\n",
    "        break"
   ]
  },
  {
   "cell_type": "code",
   "execution_count": 12,
   "metadata": {},
   "outputs": [
    {
     "data": {
      "image/png": "[encoded data removed]",
      "text/plain": [
       "class=Graph name=Unnamed implementation=class=GraphImplementation name=Unnamed title= xTitle=Degree yTitle=Q2 (%%) axes=ON grid=ON legendposition=topright legendFontSize=1 drawables=[class=Drawable name=Unnamed implementation=class=Cloud name=Unnamed derived from class=DrawableImplementation name=Unnamed legend= data=class=Sample name=Unnamed implementation=class=SampleImplementation name=Unnamed size=6 dimension=2 data=[[1,0.956815],[2,0],[3,0],[4,0],[5,0],[6,0]] color=blue fillStyle=solid lineStyle=solid pointStyle=plus lineWidth=1]"
      ]
     },
     "execution_count": 12,
     "metadata": {},
     "output_type": "execute_result"
    }
   ],
   "source": [
    "graph = ot.Graph(\"\", \"Degree\", \"Q2 (%%)\", True, \"topright\")\n",
    "cloud = ot.Cloud(ot.Sample([[x] for x in range(1, maxDegree)]), Q2array)\n",
    "graph.add(cloud)\n",
    "graph"
   ]
  },
  {
   "cell_type": "markdown",
   "metadata": {},
   "source": [
    "Répétons l'expérience pour observer la variabilité du Q2."
   ]
  },
  {
   "cell_type": "code",
   "execution_count": 13,
   "metadata": {},
   "outputs": [],
   "source": [
    "def computeSampleQ2(N, n_valid, numberAttempts, maxDegree):\n",
    "    \"\"\"For a given sample size N, \n",
    "    for degree from 1 to maxDegree, \n",
    "    repeat the following experiment numberAttempts times:\n",
    "    create a sparse least squares chaos and compute the Q2 using n_valid\n",
    "    \"\"\"\n",
    "    Q2sample = ot.Sample(numberAttempts, maxDegree)\n",
    "    for totalDegree in range(1, maxDegree + 1):\n",
    "        print(\"Degree = %d\" % (totalDegree))\n",
    "        for i in range(numberAttempts):\n",
    "            inputTrain = myDistribution.getSample(N)\n",
    "            outputTrain = g(inputTrain)\n",
    "            inputTest = myDistribution.getSample(n_valid)\n",
    "            outputTest = g(inputTest)\n",
    "            chaosResult = ComputeSparseLeastSquaresChaos(\n",
    "                inputTrain, outputTrain, multivariateBasis, totalDegree, myDistribution\n",
    "            )\n",
    "            Q2sample[i, totalDegree - 1] = computeQ2Chaos(\n",
    "                chaosResult, inputTest, outputTest\n",
    "            )\n",
    "    return Q2sample"
   ]
  },
  {
   "cell_type": "code",
   "execution_count": 14,
   "metadata": {},
   "outputs": [],
   "source": [
    "def plotQ2Boxplots(Q2sample, N):\n",
    "    data = np.array(Q2sample)\n",
    "    fig = plt.figure()\n",
    "    plt.boxplot(data)\n",
    "    plt.title(\"N=%d\" % (N))\n",
    "    plt.xlabel(\"Degree\")\n",
    "    plt.ylabel(\"Q2 (%)\")\n",
    "    return fig"
   ]
  },
  {
   "cell_type": "code",
   "execution_count": 15,
   "metadata": {},
   "outputs": [
    {
     "name": "stdout",
     "output_type": "stream",
     "text": [
      "Degree = 1\n",
      "Degree = 2\n",
      "Degree = 3\n",
      "Degree = 4\n",
      "Degree = 5\n",
      "Degree = 6\n",
      "Degree = 7\n"
     ]
    },
    {
     "data": {
      "image/png": "[encoded data removed]",
      "text/plain": [
       "<Figure size 432x288 with 1 Axes>"
      ]
     },
     "metadata": {
      "needs_background": "light"
     },
     "output_type": "display_data"
    }
   ],
   "source": [
    "N = 10  # size of the train design\n",
    "n_valid = 10000  # size of the test design\n",
    "numberAttempts = 50\n",
    "Q2sample = computeSampleQ2(N, n_valid, numberAttempts, maxDegree)\n",
    "_ = plotQ2Boxplots(Q2sample, N)"
   ]
  },
  {
   "cell_type": "markdown",
   "metadata": {},
   "source": [
    "On observe que, lorsque la taille du plan d'expériences d'apprentissage est d'une taille aussi faible que 10, il est prudent d'utiliser un degré maximal égal à seulement 1."
   ]
  },
  {
   "cell_type": "code",
   "execution_count": 16,
   "metadata": {},
   "outputs": [
    {
     "name": "stdout",
     "output_type": "stream",
     "text": [
      "Degree = 1\n",
      "Degree = 2\n",
      "Degree = 3\n",
      "Degree = 4\n",
      "Degree = 5\n",
      "Degree = 6\n",
      "Degree = 7\n"
     ]
    },
    {
     "data": {
      "image/png": "[encoded data removed]",
      "text/plain": [
       "<Figure size 432x288 with 1 Axes>"
      ]
     },
     "metadata": {
      "needs_background": "light"
     },
     "output_type": "display_data"
    }
   ],
   "source": [
    "N = 20  # size of the train design\n",
    "n_valid = 10000  # size of the test design\n",
    "numberAttempts = 50\n",
    "Q2sample = computeSampleQ2(N, n_valid, numberAttempts, maxDegree)\n",
    "_ = plotQ2Boxplots(Q2sample, N)"
   ]
  },
  {
   "cell_type": "code",
   "execution_count": 17,
   "metadata": {},
   "outputs": [
    {
     "name": "stdout",
     "output_type": "stream",
     "text": [
      "Degree = 1\n",
      "Degree = 2\n",
      "Degree = 3\n",
      "Degree = 4\n",
      "Degree = 5\n",
      "Degree = 6\n",
      "Degree = 7\n"
     ]
    },
    {
     "data": {
      "image/png": "[encoded data removed]",
      "text/plain": [
       "<Figure size 432x288 with 1 Axes>"
      ]
     },
     "metadata": {
      "needs_background": "light"
     },
     "output_type": "display_data"
    }
   ],
   "source": [
    "N = 30  # size of the train design\n",
    "n_valid = 10000  # size of the test design\n",
    "numberAttempts = 50\n",
    "Q2sample = computeSampleQ2(N, n_valid, numberAttempts, maxDegree)\n",
    "_ = plotQ2Boxplots(Q2sample, N)"
   ]
  },
  {
   "cell_type": "markdown",
   "metadata": {},
   "source": [
    "Avec un plan d'expériences d'apprentissage de taille égale à 30, on peut généralement utiliser un polynôme de degré 3, mais un polynôme de degré 2 donne souvent de meilleurs résutlats."
   ]
  },
  {
   "cell_type": "code",
   "execution_count": 18,
   "metadata": {},
   "outputs": [
    {
     "name": "stdout",
     "output_type": "stream",
     "text": [
      "Degree = 1\n",
      "Degree = 2\n",
      "Degree = 3\n",
      "Degree = 4\n",
      "Degree = 5\n",
      "Degree = 6\n",
      "Degree = 7\n"
     ]
    },
    {
     "data": {
      "image/png": "[encoded data removed]",
      "text/plain": [
       "<Figure size 432x288 with 1 Axes>"
      ]
     },
     "metadata": {
      "needs_background": "light"
     },
     "output_type": "display_data"
    }
   ],
   "source": [
    "N = 40  # size of the train design\n",
    "n_valid = 10000  # size of the test design\n",
    "numberAttempts = 50\n",
    "Q2sample = computeSampleQ2(N, n_valid, numberAttempts, maxDegree)\n",
    "_ = plotQ2Boxplots(Q2sample, N)"
   ]
  },
  {
   "cell_type": "code",
   "execution_count": 19,
   "metadata": {},
   "outputs": [
    {
     "name": "stdout",
     "output_type": "stream",
     "text": [
      "Degree = 1\n",
      "Degree = 2\n",
      "Degree = 3\n",
      "Degree = 4\n",
      "Degree = 5\n",
      "Degree = 6\n",
      "Degree = 7\n"
     ]
    },
    {
     "data": {
      "image/png": "[encoded data removed]",
      "text/plain": [
       "<Figure size 432x288 with 1 Axes>"
      ]
     },
     "metadata": {
      "needs_background": "light"
     },
     "output_type": "display_data"
    }
   ],
   "source": [
    "N = 50  # size of the train design\n",
    "n_valid = 10000  # size of the test design\n",
    "numberAttempts = 50\n",
    "Q2sample = computeSampleQ2(N, n_valid, numberAttempts, maxDegree)\n",
    "_ = plotQ2Boxplots(Q2sample, N)"
   ]
  },
  {
   "cell_type": "markdown",
   "metadata": {},
   "source": [
    "Lorsque la taille du plan d'expériences d'apprentissage augmente, le calcul du Q2 devient moins sensible au degré du polynôme."
   ]
  },
  {
   "cell_type": "code",
   "execution_count": 20,
   "metadata": {
    "scrolled": true
   },
   "outputs": [
    {
     "name": "stdout",
     "output_type": "stream",
     "text": [
      "Degree = 1\n",
      "Degree = 2\n",
      "Degree = 3\n",
      "Degree = 4\n",
      "Degree = 5\n",
      "Degree = 6\n",
      "Degree = 7\n"
     ]
    },
    {
     "data": {
      "image/png": "[encoded data removed]",
      "text/plain": [
       "<Figure size 432x288 with 1 Axes>"
      ]
     },
     "metadata": {
      "needs_background": "light"
     },
     "output_type": "display_data"
    }
   ],
   "source": [
    "N = 100  # size of the train design\n",
    "n_valid = 10000  # size of the test design\n",
    "numberAttempts = 50\n",
    "Q2sample = computeSampleQ2(N, n_valid, numberAttempts, maxDegree)\n",
    "_ = plotQ2Boxplots(Q2sample, N)"
   ]
  },
  {
   "cell_type": "markdown",
   "metadata": {},
   "source": [
    "## Avec des polynômes de Hermite pour la LN"
   ]
  },
  {
   "cell_type": "markdown",
   "metadata": {},
   "source": [
    "On se demande si la famille de polynômes orthogonaux associé à la loi log-normale peut jouer un rôle. On utilise plutôt des polynômes d'Hermite à la place."
   ]
  },
  {
   "cell_type": "code",
   "execution_count": 21,
   "metadata": {},
   "outputs": [],
   "source": [
    "[dist_E, dist_F, dist_L, dist_I]\n",
    "polyColl = []\n",
    "polyColl.append(ot.StandardDistributionPolynomialFactory(dist_E))\n",
    "polyColl.append(ot.HermiteFactory())\n",
    "polyColl.append(ot.StandardDistributionPolynomialFactory(dist_L))\n",
    "polyColl.append(ot.StandardDistributionPolynomialFactory(dist_I))\n",
    "multivariateBasis = ot.OrthogonalProductPolynomialFactory(polyColl)"
   ]
  },
  {
   "cell_type": "code",
   "execution_count": 22,
   "metadata": {},
   "outputs": [
    {
     "name": "stdout",
     "output_type": "stream",
     "text": [
      "Degree = 1\n",
      "Degree = 2\n",
      "Degree = 3\n",
      "Degree = 4\n",
      "Degree = 5\n",
      "Degree = 6\n",
      "Degree = 7\n"
     ]
    },
    {
     "data": {
      "image/png": "[encoded data removed]",
      "text/plain": [
       "<Figure size 432x288 with 1 Axes>"
      ]
     },
     "metadata": {
      "needs_background": "light"
     },
     "output_type": "display_data"
    }
   ],
   "source": [
    "N = 10  # size of the train design\n",
    "n_valid = 10000  # size of the test design\n",
    "numberAttempts = 50\n",
    "Q2sample = computeSampleQ2(N, n_valid, numberAttempts, maxDegree)\n",
    "_ = plotQ2Boxplots(Q2sample, N)"
   ]
  },
  {
   "cell_type": "code",
   "execution_count": 23,
   "metadata": {},
   "outputs": [
    {
     "name": "stdout",
     "output_type": "stream",
     "text": [
      "Degree = 1\n",
      "Degree = 2\n",
      "Degree = 3\n",
      "Degree = 4\n",
      "Degree = 5\n",
      "Degree = 6\n",
      "Degree = 7\n"
     ]
    },
    {
     "data": {
      "image/png": "[encoded data removed]",
      "text/plain": [
       "<Figure size 432x288 with 1 Axes>"
      ]
     },
     "metadata": {
      "needs_background": "light"
     },
     "output_type": "display_data"
    }
   ],
   "source": [
    "N = 20  # size of the train design\n",
    "n_valid = 10000  # size of the test design\n",
    "numberAttempts = 50\n",
    "Q2sample = computeSampleQ2(N, n_valid, numberAttempts, maxDegree)\n",
    "_ = plotQ2Boxplots(Q2sample, N)"
   ]
  },
  {
   "cell_type": "code",
   "execution_count": 24,
   "metadata": {},
   "outputs": [
    {
     "name": "stdout",
     "output_type": "stream",
     "text": [
      "Degree = 1\n",
      "Degree = 2\n",
      "Degree = 3\n",
      "Degree = 4\n",
      "Degree = 5\n",
      "Degree = 6\n",
      "Degree = 7\n"
     ]
    },
    {
     "data": {
      "image/png": "[encoded data removed]",
      "text/plain": [
       "<Figure size 432x288 with 1 Axes>"
      ]
     },
     "metadata": {
      "needs_background": "light"
     },
     "output_type": "display_data"
    }
   ],
   "source": [
    "N = 30  # size of the train design\n",
    "n_valid = 10000  # size of the test design\n",
    "numberAttempts = 50\n",
    "Q2sample = computeSampleQ2(N, n_valid, numberAttempts, maxDegree)\n",
    "_ = plotQ2Boxplots(Q2sample, N)"
   ]
  },
  {
   "cell_type": "code",
   "execution_count": 25,
   "metadata": {},
   "outputs": [
    {
     "name": "stdout",
     "output_type": "stream",
     "text": [
      "Degree = 1\n",
      "Degree = 2\n",
      "Degree = 3\n",
      "Degree = 4\n",
      "Degree = 5\n",
      "Degree = 6\n",
      "Degree = 7\n"
     ]
    },
    {
     "data": {
      "image/png": "[encoded data removed]",
      "text/plain": [
       "<Figure size 432x288 with 1 Axes>"
      ]
     },
     "metadata": {
      "needs_background": "light"
     },
     "output_type": "display_data"
    }
   ],
   "source": [
    "N = 50  # size of the train design\n",
    "n_valid = 10000  # size of the test design\n",
    "numberAttempts = 50\n",
    "Q2sample = computeSampleQ2(N, n_valid, numberAttempts, maxDegree)\n",
    "_ = plotQ2Boxplots(Q2sample, N)"
   ]
  },
  {
   "cell_type": "code",
   "execution_count": null,
   "metadata": {},
   "outputs": [],
   "source": []
  }
 ],
 "metadata": {
  "kernelspec": {
   "display_name": "Python 3",
   "language": "python",
   "name": "python3"
  },
  "language_info": {
   "codemirror_mode": {
    "name": "ipython",
    "version": 3
   },
   "file_extension": ".py",
   "mimetype": "text/x-python",
   "name": "python",
   "nbconvert_exporter": "python",
   "pygments_lexer": "ipython3",
   "version": "3.8.6"
  }
 },
 "nbformat": 4,
 "nbformat_minor": 2
}
