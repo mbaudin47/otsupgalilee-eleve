{
 "cells": [
  {
   "cell_type": "markdown",
   "metadata": {},
   "source": [
    "# Exercice : quadrature de Gauss\n",
    "\n",
    "Michaël Baudin. Décembre 2023."
   ]
  },
  {
   "cell_type": "markdown",
   "metadata": {},
   "source": [
    "## Description\n",
    "\n",
    "On considère la fonction :\n",
    "$$\n",
    "g(x)=1+\\cos\\left( \\frac{15}{2} (x+1)\\right)+\\frac{9}{4} (x+1),\n",
    "$$\n",
    "pour $x\\in [-1,1]$. \n",
    "L'intégrale exacte est :\n",
    "$$\n",
    "\\int_{-1}^{1} g(x) dx = 6.586705045354282249.\n",
    "$$"
   ]
  },
  {
   "cell_type": "markdown",
   "metadata": {},
   "source": [
    "On considère la règle de quadrature de Gauss :\n",
    "$$\n",
    "\\int_{-1}^{1} h(x) f(x) dx \\approx \\sum_{i = 0}^n w_i h(x_i)\n",
    "$$\n",
    "où $\\{x_i\\}_{i=0,...,n}$ sont les noeuds, $\\{w_i\\}_{i=0,...,n}$ sont les poids, $h$ est l'intégrande et $f$ est la densité de probabilité associée à la règle de quadrature. \n",
    "\n",
    "Puisque la densité de probabilité $f$ n'apparaît pas nécessairement dans l'intégrande $g$, nous considérons l'intégrande modifié :\n",
    "$$\n",
    "h(x) = \\frac{g(x)}{f(x)}\n",
    "$$\n",
    "pour tout $x\\in[-1,1]$. \n",
    "Ainsi :\n",
    "$$\n",
    "\\int_{-1}^{1} h(x) f(x) dx = \\int_{-1}^{1} \\frac{g(x)}{f(x)} f(x) dx = \\int_{-1}^{1} g(x) dx\n",
    "$$\n",
    "qui est l'intégrale recherchée. \n",
    "La règle de quadrature est alors :\n",
    "$$\n",
    "\\int_{-1}^{1} g(x) dx \\approx \\sum_{i = 0}^n w_i h(x_i) = \\sum_{i = 0}^n w_i \\frac{g(x_i)}{f(x_i)}.\n",
    "$$"
   ]
  },
  {
   "cell_type": "markdown",
   "metadata": {},
   "source": [
    "L'objectif de cet exercice est de créer la règle de quadrature de Gauss-Legendre et de l'appliquer à cet exemple. \n",
    "\n",
    "Dans le but de vérifier le nombre de chiffres significatifs dans le résultat, on utilisera la fonction `computeDigits` suivante, qui évalue le nombre de chiffres corrects dans la variable `approximate` par rapport à la valeur exacte de l'intégrale. "
   ]
  },
  {
   "cell_type": "code",
   "execution_count": 1,
   "metadata": {},
   "outputs": [],
   "source": [
    "import numpy as np\n",
    "\n",
    "def computeDigits(approximate):\n",
    "    \"\"\"\n",
    "    Return the number of correct base 10 digits in the approximate integral.\n",
    "\n",
    "    Parameters\n",
    "    ----------\n",
    "    approximate : float\n",
    "        The approximate value of the integral.\n",
    "\n",
    "    Returns\n",
    "    -------\n",
    "    d : float\n",
    "        The log-relative error in base 10.\n",
    "\n",
    "    \"\"\"\n",
    "    data = np.finfo(float)\n",
    "    exact = 6.586705045354282248777299\n",
    "    re = abs(approximate - exact) / abs(exact)\n",
    "    if re == 0.0:\n",
    "        d = data.precision\n",
    "    else:\n",
    "        d = -np.log10(re)\n",
    "    return d"
   ]
  },
  {
   "cell_type": "markdown",
   "metadata": {},
   "source": [
    "## Remarque\n",
    "\n",
    "Il y a plusieurs méthoes pour évaluer une intégrale et transformer l'intégrande. Nous en présentons ci-dessous deux :\n",
    "- le tirage d'importance,\n",
    "- le changement de variables.\n",
    "\n",
    "1. La méthode présentée précédemment est la méthode du tirage d'importance (ou « _importance sampling_» en anglais). Elle consiste à modifier l'intégrande, ce qui mène à un échantillonnage différent de l'échantillonnage initial. D'une manière générale, pour une fonction $g : \\mathcal{X} \\rightarrow \\mathbb{R}$ et une densité de probabilité $f : \\mathcal{X} \\rightarrow \\mathbb{R}^+$, on a :\n",
    "$$\n",
    "\\int_{\\mathcal{X}} g(x) f(x) dx = \n",
    "\\int_{\\mathcal{X}} \\left(\\frac{g(x)f(x)}{h(x)}\\right) h(x) dx\n",
    "$$\n",
    "où $h : \\mathcal{X} \\rightarrow \\mathbb{R}^+$ est la densité instrumentale. L'intégrande modifié est désormais $\\left(\\frac{g(x)f(x)}{h(x)}\\right)$. \n",
    "\n",
    "2. La méthode fondée sur un changement de variables considère :\n",
    "$$\n",
    "\\int_{\\mathcal{X}} g(x) f(x) dx = \n",
    "\\int_{\\mathcal{Z}} (g \\circ T^{-1})(z) (f \\circ T^{-1}) (z) \\left|\\operatorname{det}\\left(\\left(T^{-1}\\right)'(z)\\right)\\right| dz\n",
    "$$\n",
    "où $T$ est une transformation iso-probabiliste, $z = T(x)$ est la variable standardisée, $x = T^{-1}(z)$ est la variable physique, $\\mathcal{Z} = T^{-1}(\\mathcal{X})$ est l'inverse de la transformation de l'ensemble $\\mathcal{X}$ et $\\left(T^{-1}\\right)'$ est la matrice Jacobienne de l'inverse du changement de variables. L'ensemble $\\mathcal{Z}$ est le support de la variable aléatoire standard $z$. Si on note $f_Z(z) = (f \\circ T^{-1}) (z) = f(T^{-1}(z))$ pour tout $z \\in \\mathcal{Z}$, on observe que $f_Z$ est la densité de probabilité de la variable standardisée $Z$. L'intégrande modifié est désormais $(g \\circ T^{-1})(z) \\left|\\operatorname{det}\\left(\\left(T^{-1}\\right)'(z)\\right)\\right|$.\n",
    "\n",
    "La méthode utilisée dans le présent devoir est la méthode du tirage d'importance."
   ]
  },
  {
   "cell_type": "markdown",
   "metadata": {},
   "source": [
    "**Réferences**\n",
    "\n",
    "- Dahlquist, G., & Björck, Å. (2008). _\"Numerical methods in scientific computing, Volume I\"_. Society for Industrial and Applied Mathematics.\n",
    "\n",
    "- Sullivan, T. J. (2015). Introduction to uncertainty quantification. Springer.\n",
    "\n",
    "- [Intégration via WolframAlpha.](https://www.wolframalpha.com/input?i=integrate+1+%2B+cos%2815+*+%28x+%2B+1%29+%2F+2%29+%2B+9+*+%28x+%2B+1%29+%2F+4+from+-1+to+1)"
   ]
  },
  {
   "cell_type": "markdown",
   "metadata": {},
   "source": [
    "## Questions\n",
    "\n",
    "Partie 1 : définition de la fonction\n",
    "\n",
    "* Utiliser la classe `SymbolicFunction` pour définir la fonction `g` associée à l'intégrande.\n",
    "* Fixer la variable `npoints = 50` contenant le nombre de points associés à la règle de quadrature.\n",
    "* Utiliser la méthode `draw` de `g` pour dessiner la fonction sur l'intervalle [-1,1] avec `npoints` points.\n",
    "\n",
    "Partie 2 : avec les polynômes de Legendre\n",
    "\n",
    "* Créer la variable `lefa` contenant une instance de la classe `LegendreFactory`. \n",
    "* Utiliser la méthode `getMeasure` pour créer la variable `measure` contenant la densité de probabilité associée à cette famille de polynômes orthogonaux. Afficher cette mesure.\n",
    "* Utiliser la méthode `getNodesAndWeights` pour générer la liste des noeuds `nodes` et des poids `weights` de la règle de quadrature avec `npoints` points.\n",
    "* Créer un graphique représentant les noeuds en abscisses et les poids en ordonnées. Qu'observez-vous ? Quelle est la répartition des noeuds de quadrature ? Quel est le lien avec la précision d'estimation de l'erreur ?\n",
    "* Utiliser une boucle `for` pour estimer l'intégrale par la règle de quadrature. \n",
    "* Utiliser la fonction `computeDigits` pour estimer le nombre de chiffres significatifs dans le résultat. Quelle précision obtenez-vous ?\n",
    "\n",
    "Partie 3 : avec les polynômes de Chebyshev\n",
    "\n",
    "* Réitérer le processus avec la classe `ChebychevFactory`.\n",
    "\n",
    "Partie 4 : avec les polynômes de Jacobi\n",
    "\n",
    "* Réitérer le processus avec la classe `JacobiFactory`.\n",
    "\n",
    "Synthèse : comparer les résultats. Quelle méthode donne les meilleurs résultats ? Pourquoi ?"
   ]
  },
  {
   "cell_type": "markdown",
   "metadata": {},
   "source": []
  }
 ],
 "metadata": {
  "kernelspec": {
   "display_name": "Python 3 (ipykernel)",
   "language": "python",
   "name": "python3"
  },
  "language_info": {
   "codemirror_mode": {
    "name": "ipython",
    "version": 3
   },
   "file_extension": ".py",
   "mimetype": "text/x-python",
   "name": "python",
   "nbconvert_exporter": "python",
   "pygments_lexer": "ipython3",
   "version": "3.11.0"
  }
 },
 "nbformat": 4,
 "nbformat_minor": 2
}
