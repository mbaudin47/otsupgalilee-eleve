{
 "cells": [
  {
   "cell_type": "markdown",
   "metadata": {},
   "source": [
    "# Polynômes de chaos : application au cas de la poutre encastrée\n"
   ]
  },
  {
   "cell_type": "markdown",
   "metadata": {},
   "source": [
    "## Résumé\n",
    "\n",
    "Dans ce notebook, nous présentons la décomposition en chaos polynomial du cas de la poutre encastrée. Nous montrons comment obtenir les indices de Sobol' à partir d'un chaos polynomial."
   ]
  },
  {
   "cell_type": "markdown",
   "metadata": {},
   "source": [
    "# Model definition"
   ]
  },
  {
   "cell_type": "code",
   "execution_count": 1,
   "metadata": {},
   "outputs": [],
   "source": [
    "import openturns as ot\n",
    "import numpy as np\n",
    "import tqdm as tqdm\n",
    "import openturns.viewer as otv"
   ]
  },
  {
   "cell_type": "code",
   "execution_count": 2,
   "metadata": {},
   "outputs": [],
   "source": [
    "fast_simulation = True\n",
    "if fast_simulation:\n",
    "    test_sample_size = 100\n",
    "    maximum_polynomial_degree = 10\n",
    "else:\n",
    "    test_sample_size = 1000\n",
    "    maximum_polynomial_degree = 20"
   ]
  },
  {
   "cell_type": "code",
   "execution_count": 3,
   "metadata": {},
   "outputs": [
    {
     "data": {
      "text/plain": [
       "'1.17'"
      ]
     },
     "execution_count": 3,
     "metadata": {},
     "output_type": "execute_result"
    }
   ],
   "source": [
    "ot.__version__"
   ]
  },
  {
   "cell_type": "code",
   "execution_count": 4,
   "metadata": {},
   "outputs": [],
   "source": [
    "dist_E = ot.Beta(0.9, 2.2, 2.8e7, 4.8e7)\n",
    "dist_E.setDescription([\"E\"])\n",
    "F_para = ot.LogNormalMuSigma(3.0e4, 9.0e3, 15.0e3)  # in N\n",
    "dist_F = ot.ParametrizedDistribution(F_para)\n",
    "dist_F.setDescription([\"F\"])\n",
    "dist_L = ot.Uniform(250.0, 260.0)  # in cm\n",
    "dist_L.setDescription([\"L\"])\n",
    "dist_I = ot.Beta(2.5, 1.5, 310.0, 450.0)\n",
    "dist_I.setDescription([\"I\"])\n",
    "\n",
    "myDistribution = ot.ComposedDistribution([dist_E, dist_F, dist_L, dist_I])\n",
    "\n",
    "dim_input = 4  # dimension of the input\n",
    "dim_output = 1  # dimension of the output\n",
    "\n",
    "\n",
    "def function_beam(X):\n",
    "    E, F, L, I = X\n",
    "    Y = F * (L ** 3) / (3 * E * I)\n",
    "    return [Y]\n",
    "\n",
    "\n",
    "g = ot.PythonFunction(dim_input, dim_output, function_beam)\n",
    "g.setInputDescription(myDistribution.getDescription())"
   ]
  },
  {
   "cell_type": "markdown",
   "metadata": {},
   "source": [
    "## Create a polynomial chaos decomposition"
   ]
  },
  {
   "cell_type": "code",
   "execution_count": 5,
   "metadata": {},
   "outputs": [],
   "source": [
    "def ComputeSparseLeastSquaresChaos(\n",
    "    inputTrain, outputTrain, multivariateBasis, totalDegree, myDistribution, verbose=False\n",
    "):\n",
    "    \"\"\"\n",
    "    Create a sparse polynomial chaos with least squares.\n",
    "\n",
    "    * Uses the enumeration rule from multivariateBasis. \n",
    "    * Uses LeastSquaresStrategy to compute the coefficients from \n",
    "    linear least squares.\n",
    "    * Uses LeastSquaresMetaModelSelectionFactory to select the polynomials \n",
    "    in the basis using least angle regression stepwise (LARS)\n",
    "    * Utilise LeastSquaresStrategy pour calculer les \n",
    "    coefficients par moindres carrés. \n",
    "    * Uses FixedStrategy to keep all coefficients that LARS has selected, \n",
    "    up to the given maximum total degree.\n",
    "\n",
    "    Parameters\n",
    "    ----------\n",
    "    inputTrain : ot.Sample(n)\n",
    "        The input training design of experiments with n points\n",
    "    outputTrain : ot.Sample(n)\n",
    "        The input training design of experiments with n points\n",
    "    multivariateBasis : ot.Basis\n",
    "        The multivariate orthogonal polynomial basis\n",
    "    totalDegree : int\n",
    "        The maximum total polynomial degree\n",
    "    myDistribution : ot.Distribution\n",
    "        The distribution of the input random vector\n",
    "    \n",
    "    Returns\n",
    "    -------\n",
    "    result : ot.FunctionalChaosResult\n",
    "        The polynomial chaos result\n",
    "    \"\"\"\n",
    "    selectionAlgorithm = ot.LeastSquaresMetaModelSelectionFactory()\n",
    "    projectionStrategy = ot.LeastSquaresStrategy(\n",
    "        inputTrain, outputTrain, selectionAlgorithm\n",
    "    )\n",
    "    enumerateFunction = multivariateBasis.getEnumerateFunction()\n",
    "    strataIndex = enumerateFunction.getMaximumDegreeStrataIndex(totalDegree)\n",
    "    maximumBasisSize = enumerateFunction.getStrataCumulatedCardinal(strataIndex)\n",
    "    if verbose:\n",
    "        print(\"maximumBasisSize = \", maximumBasisSize)\n",
    "    adaptiveStrategy = ot.FixedStrategy(multivariateBasis, maximumBasisSize)\n",
    "    chaosalgo = ot.FunctionalChaosAlgorithm(\n",
    "        inputTrain, outputTrain, myDistribution, adaptiveStrategy, projectionStrategy\n",
    "    )\n",
    "    chaosalgo.run()\n",
    "    result = chaosalgo.getResult()\n",
    "    return result"
   ]
  },
  {
   "cell_type": "markdown",
   "metadata": {},
   "source": [
    "On crée la base polynomiale multivariée par tensorisation de polynômes univariés avec la règle d'énumération linéaire par défaut."
   ]
  },
  {
   "cell_type": "code",
   "execution_count": 6,
   "metadata": {},
   "outputs": [],
   "source": [
    "multivariateBasis = ot.OrthogonalProductPolynomialFactory(\n",
    "    [dist_E, dist_F, dist_L, dist_I]\n",
    ")"
   ]
  },
  {
   "cell_type": "markdown",
   "metadata": {},
   "source": [
    "Generate an training sample of size N with MC simulation (or retrieve the design from experimental data)."
   ]
  },
  {
   "cell_type": "code",
   "execution_count": 7,
   "metadata": {},
   "outputs": [
    {
     "name": "stdout",
     "output_type": "stream",
     "text": [
      "maximumBasisSize =  126\n"
     ]
    }
   ],
   "source": [
    "training_sample_size = 50  # Size of the training design of experiments\n",
    "\n",
    "inputTrain = myDistribution.getSample(training_sample_size)\n",
    "outputTrain = g(inputTrain)\n",
    "\n",
    "totalDegree = 5  # Polynomial degree\n",
    "result = ComputeSparseLeastSquaresChaos(\n",
    "    inputTrain, outputTrain, multivariateBasis, totalDegree, myDistribution, True\n",
    ")"
   ]
  },
  {
   "cell_type": "markdown",
   "metadata": {},
   "source": [
    "La méthode `getMetaModel` retourne une fonction permettant d'évaluer le métamodèle."
   ]
  },
  {
   "cell_type": "code",
   "execution_count": 8,
   "metadata": {
    "scrolled": false
   },
   "outputs": [
    {
     "data": {
      "text/plain": [
       "openturns.func.Function"
      ]
     },
     "execution_count": 8,
     "metadata": {},
     "output_type": "execute_result"
    }
   ],
   "source": [
    "metamodel = result.getMetaModel()  # get the metamodel\n",
    "type(metamodel)"
   ]
  },
  {
   "cell_type": "markdown",
   "metadata": {},
   "source": [
    "## Validate the metamodel"
   ]
  },
  {
   "cell_type": "markdown",
   "metadata": {},
   "source": [
    "Generate a validation sample (which is independent of the training sample)."
   ]
  },
  {
   "cell_type": "code",
   "execution_count": 9,
   "metadata": {},
   "outputs": [],
   "source": [
    "test_sample_size = 1000  # Size of the validation design of experiments\n",
    "inputTest = myDistribution.getSample(test_sample_size)\n",
    "outputTest = g(inputTest)"
   ]
  },
  {
   "cell_type": "markdown",
   "metadata": {},
   "source": [
    "La classe `MetaModelValidation` permet de valider le métamodèle sur une base de validation."
   ]
  },
  {
   "cell_type": "code",
   "execution_count": 10,
   "metadata": {},
   "outputs": [],
   "source": [
    "val = ot.MetaModelValidation(inputTest, outputTest, metamodel)"
   ]
  },
  {
   "cell_type": "markdown",
   "metadata": {},
   "source": [
    "Compute the $Q^2$ predictivity coefficient"
   ]
  },
  {
   "cell_type": "code",
   "execution_count": 11,
   "metadata": {},
   "outputs": [
    {
     "data": {
      "text/plain": [
       "0.9935498537159473"
      ]
     },
     "execution_count": 11,
     "metadata": {},
     "output_type": "execute_result"
    }
   ],
   "source": [
    "Q2 = val.computePredictivityFactor()[0]\n",
    "Q2"
   ]
  },
  {
   "cell_type": "markdown",
   "metadata": {},
   "source": [
    "Plot the observed versus the predicted outputs."
   ]
  },
  {
   "cell_type": "code",
   "execution_count": 12,
   "metadata": {
    "scrolled": true
   },
   "outputs": [
    {
     "name": "stderr",
     "output_type": "stream",
     "text": [
      "/home/devel/miniconda3/envs/otsupgalilee/lib/python3.8/site-packages/numpy/core/getlimits.py:499: UserWarning: The value of the smallest subnormal for <class 'numpy.float64'> type is zero.\n",
      "  setattr(self, word, getattr(machar, word).flat[0])\n",
      "/home/devel/miniconda3/envs/otsupgalilee/lib/python3.8/site-packages/numpy/core/getlimits.py:89: UserWarning: The value of the smallest subnormal for <class 'numpy.float64'> type is zero.\n",
      "  return self._float_to_str(self.smallest_subnormal)\n"
     ]
    },
    {
     "data": {
      "image/png": "[encoded data removed]",
      "text/plain": [
       "<Figure size 288x216 with 1 Axes>"
      ]
     },
     "metadata": {
      "needs_background": "light"
     },
     "output_type": "display_data"
    }
   ],
   "source": [
    "graph = val.drawValidation()\n",
    "graph.setTitle(\"Q2=%.2f%%\" % (Q2 * 100))\n",
    "view = otv.View(graph, figure_kw={\"figsize\": (4.0, 3.0)},)"
   ]
  },
  {
   "cell_type": "markdown",
   "metadata": {},
   "source": [
    "## Sensitivity analysis"
   ]
  },
  {
   "cell_type": "markdown",
   "metadata": {},
   "source": [
    "Retrieve Sobol' sensitivity measures associated to the polynomial chaos decomposition of the model."
   ]
  },
  {
   "cell_type": "code",
   "execution_count": 13,
   "metadata": {
    "scrolled": true
   },
   "outputs": [
    {
     "name": "stdout",
     "output_type": "stream",
     "text": [
      " input dimension: 4\n",
      " output dimension: 1\n",
      " basis size: 25\n",
      " mean: [12.5763]\n",
      " std-dev: [4.18011]\n",
      "------------------------------------------------------------\n",
      "Index   | Multi-indice                  | Part of variance  \n",
      "------------------------------------------------------------\n",
      "      2 | [0,1,0,0]                     | 0.776796\n",
      "      1 | [1,0,0,0]                     | 0.134289\n",
      "      4 | [0,0,0,1]                     | 0.0583109\n",
      "      6 | [1,1,0,0]                     | 0.0100374\n",
      "------------------------------------------------------------\n",
      "\n",
      "\n",
      "------------------------------------------------------------\n",
      "Component | Sobol index            | Sobol total index      \n",
      "------------------------------------------------------------\n",
      "        0 | 0.136147               | 0.147643              \n",
      "        1 | 0.777299               | 0.795029              \n",
      "        2 | 0.00882986             | 0.00981764            \n",
      "        3 | 0.0585995              | 0.0667767             \n",
      "------------------------------------------------------------\n",
      "\n",
      "\n"
     ]
    }
   ],
   "source": [
    "chaosSI = ot.FunctionalChaosSobolIndices(result)\n",
    "print(chaosSI.summary())"
   ]
  },
  {
   "cell_type": "code",
   "execution_count": 14,
   "metadata": {
    "scrolled": true
   },
   "outputs": [
    {
     "data": {
      "image/png": "[encoded data removed]",
      "text/plain": [
       "<Figure size 288x216 with 1 Axes>"
      ]
     },
     "metadata": {
      "needs_background": "light"
     },
     "output_type": "display_data"
    }
   ],
   "source": [
    "first_order = [chaosSI.getSobolIndex(i) for i in range(dim_input)]\n",
    "total_order = [chaosSI.getSobolTotalIndex(i) for i in range(dim_input)]\n",
    "input_names = g.getInputDescription()\n",
    "graph = ot.SobolIndicesAlgorithm.DrawSobolIndices(input_names, first_order, total_order)\n",
    "view = otv.View(graph, figure_kw={\"figsize\": (4.0, 3.0)},)"
   ]
  },
  {
   "cell_type": "markdown",
   "metadata": {},
   "source": [
    "## Solution de l'exercice 1 : réduction de la taille du plan d'expériences d'apprentissage\n"
   ]
  },
  {
   "cell_type": "markdown",
   "metadata": {},
   "source": [
    "Puisque nous réduisons la taille du plan d'expérience, il s'avère que le calcul d'un chaos de qualité est plus difficile. Pour rendre l'estimation des coefficients moins sensible au plan d'expériences, nous suggérons de réduire le degré du polynôme. Un degré maximum égal à 1 fonctionne souvent correctement."
   ]
  },
  {
   "cell_type": "code",
   "execution_count": 15,
   "metadata": {},
   "outputs": [
    {
     "data": {
      "image/png": "[encoded data removed]",
      "text/plain": [
       "<Figure size 288x216 with 1 Axes>"
      ]
     },
     "metadata": {
      "needs_background": "light"
     },
     "output_type": "display_data"
    }
   ],
   "source": [
    "training_sample_size = 25  # size of the experimental design\n",
    "inputTrain = myDistribution.getSample(training_sample_size)\n",
    "outputTrain = g(inputTrain)\n",
    "#\n",
    "result = ComputeSparseLeastSquaresChaos(\n",
    "    inputTrain, outputTrain, multivariateBasis, totalDegree, myDistribution\n",
    ")\n",
    "metamodel = result.getMetaModel()  # get the metamodel\n",
    "#\n",
    "inputTest = myDistribution.getSample(test_sample_size)\n",
    "outputTest = g(inputTest)\n",
    "#\n",
    "val = ot.MetaModelValidation(inputTest, outputTest, metamodel)\n",
    "Q2 = val.computePredictivityFactor()[0]\n",
    "graph = val.drawValidation()\n",
    "graph.setTitle(\"Training sample size = %d, Degree = %d, Q2=%.2f%%\" % (training_sample_size, totalDegree, 100 * Q2))\n",
    "view = otv.View(graph, figure_kw={\"figsize\": (4.0, 3.0)},)"
   ]
  },
  {
   "cell_type": "markdown",
   "metadata": {},
   "source": [
    "On observe que le coefficient $Q^2$ est moins élevé qu'avec le plan d'expériences précédent. "
   ]
  },
  {
   "cell_type": "code",
   "execution_count": 16,
   "metadata": {},
   "outputs": [],
   "source": [
    "def compute_degree_sensitivity(\n",
    "    myDistribution,\n",
    "    g,\n",
    "    training_sample_size,\n",
    "    test_sample_size,\n",
    "    multivariateBasis,\n",
    "    degree_array,\n",
    "    verbose=False,\n",
    "):\n",
    "    \"\"\"\n",
    "    Compute a table reflecting the sensitivity to the polynomial degree.\n",
    "    \n",
    "    The content is:\n",
    "    * first column : polynomial degree\n",
    "    * second column : predictivity coefficient Q2\n",
    "    * third column : number of coefficients\n",
    "    \n",
    "    Parameters\n",
    "    ----------\n",
    "    myDistribution : ot.Distribution\n",
    "        The input distribution.\n",
    "    g : ot.Function\n",
    "        The model.\n",
    "    training_sample_size : int\n",
    "        The size of the training sample.\n",
    "    test_sample_size : int\n",
    "        The size of the test sample.\n",
    "    multivariateBasis : ot.Basis\n",
    "        The multivariate orthogonal polynomial basis\n",
    "    degree_array : list of int\n",
    "        The list of maximum total polynomial degrees\n",
    "    verbose : bool\n",
    "        If True, print messages.\n",
    "    \n",
    "    Returns\n",
    "    -------\n",
    "    data : numpy array((len(degree_array), 3))\n",
    "        The results of the experiment.\n",
    "    \"\"\"\n",
    "    data = np.zeros((len(degree_array), 3))\n",
    "    index = 0\n",
    "    for totalDegree in degree_array:\n",
    "        # 1. Fit\n",
    "        inputTrain = myDistribution.getSample(training_sample_size)\n",
    "        outputTrain = g(inputTrain)\n",
    "        result = ComputeSparseLeastSquaresChaos(\n",
    "            inputTrain, outputTrain, multivariateBasis, totalDegree, myDistribution\n",
    "        )\n",
    "        metamodel = result.getMetaModel()  # get the metamodel\n",
    "        # 2. Test\n",
    "        inputTest = myDistribution.getSample(test_sample_size)\n",
    "        outputTest = g(inputTest)\n",
    "        val = ot.MetaModelValidation(inputTest, outputTest, metamodel)\n",
    "        Q2 = val.computePredictivityFactor()[0]\n",
    "        coefficients = result.getCoefficients()\n",
    "        numberOfParameters = coefficients.getSize()\n",
    "        if verbose:\n",
    "            print(\n",
    "                \"Sample size=%d, degree=%d, Q2=%.4f %%\"\n",
    "                % (training_sample_size, totalDegree, Q2)\n",
    "            )\n",
    "        data[index, :] = (totalDegree, Q2, numberOfParameters)\n",
    "        index += 1\n",
    "    return data"
   ]
  },
  {
   "cell_type": "code",
   "execution_count": 17,
   "metadata": {},
   "outputs": [],
   "source": [
    "def print_data(data):\n",
    "    number_of_rows = data.shape[1]\n",
    "    for j in range(number_of_rows):\n",
    "        print(\n",
    "            \"    Degree = %d, Q2 = %.4f, nb. of coeff. = %d\"\n",
    "            % (data[j, 0], data[j, 1], data[j, 2])\n",
    "        )\n",
    "    return None"
   ]
  },
  {
   "cell_type": "code",
   "execution_count": null,
   "metadata": {},
   "outputs": [
    {
     "name": "stdout",
     "output_type": "stream",
     "text": [
      "Sample size= 25\n"
     ]
    }
   ],
   "source": [
    "training_sample_size_array = [25, 50, 100]\n",
    "degree_array = list(range(1, 6))\n",
    "for training_sample_size in training_sample_size_array:\n",
    "    print(\"Sample size=\", training_sample_size)\n",
    "    data = compute_degree_sensitivity(\n",
    "        myDistribution,\n",
    "        g,\n",
    "        training_sample_size,\n",
    "        test_sample_size,\n",
    "        multivariateBasis,\n",
    "        degree_array,\n",
    "        verbose=False,\n",
    "    )\n",
    "    print_data(data)"
   ]
  },
  {
   "cell_type": "markdown",
   "metadata": {},
   "source": [
    "On observe que le coefficient de prédictivité est sensible à la taille du plan d'expériences. Pour un plan d'expériences de taille 25, le coefficient de prédictivité peut être négatif, ce qui révèle un très mauvais métamodèle. Pour un plan d'expériences de taille 50, le coefficient de prédictivité est la plupart du temps très bon. Toutefois, augmenter le degré du polynôme au delà du degré 2 n'améliore pas beaucoup la qualité. Pour un plan d'expériences de taille 100, le coefficient de prédictivité est toujours très bon. "
   ]
  },
  {
   "cell_type": "code",
   "execution_count": null,
   "metadata": {},
   "outputs": [],
   "source": [
    "training_sample_size = 100\n",
    "print(\"Sample size=\", training_sample_size)\n",
    "degree_array = range(1, maximum_polynomial_degree, 2)\n",
    "data = compute_degree_sensitivity(\n",
    "        myDistribution,\n",
    "        g,\n",
    "        training_sample_size,\n",
    "        test_sample_size,\n",
    "        multivariateBasis,\n",
    "        degree_array,\n",
    "        verbose=False,\n",
    "    )\n",
    "print_data(data)"
   ]
  },
  {
   "cell_type": "markdown",
   "metadata": {},
   "source": [
    "On observe que pour un plan d'expériences de taille 100, augmenter le degré du polynôme au delà de 3 n'est pas très utile. En effet, le degré 3 permet d'obtenir un Q2 égal à 0.99 avec seulement 16 coefficients. Lorsqu'on augmente le degré total, la méthode de sélection de modèle n'identifie que très peu de coefficients supplémentaires et ces coefficients n'améliorent pas beaucoup la qualité.  "
   ]
  },
  {
   "cell_type": "markdown",
   "metadata": {},
   "source": [
    "Pour améliorer la qualité du métamodèle, plusieurs options sont possibles.\n",
    "1. La taille du plan d'expériences pourrait être augmentée. C'est une option qui nécessite d'évaluer la fonction $g$ sur un plus grand nombre de points d'entrée, ce qui peut être coûteux.\n",
    "1. Le degré du polynôme pourrait être modifié. En effet, un polynôme de degré moins élevé est associé à un moins grand nombre de coefficients, qui sont plus faciles à estimer. Au contraire, il peut s'avérer que le modèle est très nonlinéaire, ce qui peut nécessiter un degré polynomial élevé.\n",
    "1. On peut changer de plan d'expériences et utiliser, par exemple, une séquence à faible discrépance ou un plan LHS. C'est une option qui nécessite d'évaluer la fonction $g$ sur des nouveaux points d'entrée, ce qui peut être coûteux.\n",
    "1. On pourrait changer la base polynomiale orthogonale univariée. Par exemple, il se peut que la base orthogonale associée à la loi log-normale pose une difficulté dans ce cas particulier (car la distribution log-normale n'est pas déterminée de manière unique par ses moments). On pourrait remplacer la famille de polynômes associée à la variable $F$ par la famille des polynômes de Laguerre, qui est également associée à des variables positives comme la loi log-normale.\n",
    "1. On pourrait changer la règle d'énumération par une règle qui favorise les coefficients associés aux degrés élevés, sans augmenter excessivement le nombre de coefficients, comme la règle hyperbolique par exemple."
   ]
  },
  {
   "cell_type": "markdown",
   "metadata": {},
   "source": [
    "## Solution de l'exercice 2 : pourquoi éviter le calcul du R2\n",
    "\n",
    "Get the relative error of the metamodel on the training sample, compute $R^2$."
   ]
  },
  {
   "cell_type": "code",
   "execution_count": null,
   "metadata": {},
   "outputs": [],
   "source": [
    "result.getRelativeErrors()[0]"
   ]
  },
  {
   "cell_type": "markdown",
   "metadata": {},
   "source": [
    "$R^2$ indicator:"
   ]
  },
  {
   "cell_type": "code",
   "execution_count": null,
   "metadata": {
    "scrolled": false
   },
   "outputs": [],
   "source": [
    "R2 = 1 - result.getRelativeErrors()[0]\n",
    "print(r\"R2 = %.4f\" % R2)"
   ]
  },
  {
   "cell_type": "markdown",
   "metadata": {},
   "source": [
    "On observe que le coefficient $R^2$ est très proche de 1. Cela laisse penser que le métamodèle est d'excellente qualité, ce qui peut être vrai ou faux en fonction des situations. Dans tous les cas, ce n'est pas nécessairement une bonne métrique pour qualifier le métamodèle : on préfère en général utiliser un plan d'expérience de validation et calculer le coefficient $Q^2$. "
   ]
  },
  {
   "cell_type": "markdown",
   "metadata": {},
   "source": [
    "## Solution de l'exercice 3"
   ]
  },
  {
   "cell_type": "code",
   "execution_count": null,
   "metadata": {},
   "outputs": [],
   "source": [
    "def plotCoefficientValueVSDegree(polynomialChaosResult):\n",
    "    \"\"\"\n",
    "    Create a plot of total degree vs absolute value of coefficients.\n",
    "    \n",
    "    Parameters\n",
    "    ----------\n",
    "    polynomialChaosResult : ot.FunctionalChaosResult\n",
    "        The polynomial chaos result\n",
    "    \n",
    "    Returns\n",
    "    -------\n",
    "    graph : ot.Graph\n",
    "        A plot.\n",
    "    \"\"\"\n",
    "    basis = polynomialChaosResult.getOrthogonalBasis()\n",
    "    enumerate_function = basis.getEnumerateFunction()\n",
    "    # Get coefficients\n",
    "    coefficients = polynomialChaosResult.getCoefficients()\n",
    "    abscoeff = [abs(coefficients[i][0]) for i in range(len(coefficients))]\n",
    "    # Get total degree\n",
    "    indices = result.getIndices()\n",
    "    nbcoeffs = indices.getSize()\n",
    "    total_p = []\n",
    "    for k in range(nbcoeffs):\n",
    "        multiindex = enumerate_function(indices[k])\n",
    "        totaldegree = sum(multiindex)\n",
    "        total_p.append(totaldegree)\n",
    "    #\n",
    "    graph = ot.Graph(\n",
    "        \"Polynomial chaos result\",\n",
    "        \"Total polynomial degree\",\n",
    "        \"Coefficient absolute value\",\n",
    "        True,\n",
    "    )\n",
    "    cloud = ot.Cloud(total_p, abscoeff)\n",
    "    graph.add(cloud)\n",
    "    return graph"
   ]
  },
  {
   "cell_type": "markdown",
   "metadata": {},
   "source": [
    "Plot the coefficients absolute values as a function of total polynomial degree: high degree polynomials contribute less than low-degree terms to the response's variability"
   ]
  },
  {
   "cell_type": "code",
   "execution_count": null,
   "metadata": {},
   "outputs": [],
   "source": [
    "graph = plotCoefficientValueVSDegree(result)\n",
    "view = otv.View(graph, figure_kw={\"figsize\": (4.0, 3.0)},)"
   ]
  },
  {
   "cell_type": "markdown",
   "metadata": {},
   "source": [
    "## Solution de l'exercice 4 : énumération hyperbolique et plan d'expériences de taille 100\n"
   ]
  },
  {
   "cell_type": "code",
   "execution_count": null,
   "metadata": {},
   "outputs": [],
   "source": [
    "dim_input = 4\n",
    "polyColl = ot.PolynomialFamilyCollection(dim_input)\n",
    "polyColl[0] = ot.StandardDistributionPolynomialFactory(dist_E)\n",
    "polyColl[1] = ot.StandardDistributionPolynomialFactory(dist_F)\n",
    "polyColl[2] = ot.StandardDistributionPolynomialFactory(dist_L)\n",
    "polyColl[3] = ot.StandardDistributionPolynomialFactory(dist_I)\n",
    "#\n",
    "q = 0.6  # the q-quasi-norm parameter\n",
    "enumerateFunction = ot.HyperbolicAnisotropicEnumerateFunction(dim_input, q)\n",
    "multivariateBasis = ot.OrthogonalProductPolynomialFactory(polyColl, enumerateFunction)\n",
    "#\n",
    "N = 100  # size of the experimental design\n",
    "inputTrain = myDistribution.getSample(N)\n",
    "outputTrain = g(inputTrain)\n",
    "#\n",
    "approximationAlgorithm = ot.LeastSquaresMetaModelSelectionFactory()\n",
    "projectionStrategy = ot.LeastSquaresStrategy(\n",
    "    inputTrain, outputTrain, approximationAlgorithm\n",
    ")\n",
    "totalDegree = 5\n",
    "strataIndex = enumerateFunction.getMaximumDegreeStrataIndex(totalDegree)\n",
    "maximumBasisSize = enumerateFunction.getStrataCumulatedCardinal(strataIndex)\n",
    "adaptiveStrategy = ot.FixedStrategy(multivariateBasis, maximumBasisSize)\n",
    "chaosalgo = ot.FunctionalChaosAlgorithm(\n",
    "    inputTrain, outputTrain, myDistribution, adaptiveStrategy, projectionStrategy\n",
    ")\n",
    "chaosalgo.run()\n",
    "#\n",
    "result = chaosalgo.getResult()\n",
    "metamodel = result.getMetaModel()  # get the metamodel\n",
    "#\n",
    "inputTest = myDistribution.getSample(test_sample_size)\n",
    "outputTest = g(inputTest)\n",
    "#\n",
    "val = ot.MetaModelValidation(inputTest, outputTest, metamodel)\n",
    "Q2 = val.computePredictivityFactor()[0]\n",
    "graph = val.drawValidation()\n",
    "graph.setTitle(\"Q2=%.2f%%\" % (100 * Q2))\n",
    "view = otv.View(graph, figure_kw={\"figsize\": (4.0, 3.0)},)"
   ]
  },
  {
   "cell_type": "markdown",
   "metadata": {},
   "source": [
    "The metamodel is slightly more accurate than using a linear enumeration (but it sometimes produces a negative $Q^2$)."
   ]
  },
  {
   "cell_type": "markdown",
   "metadata": {},
   "source": [
    "## Solution de l'exercice 5 : nombre d'observations et nombre de paramètres"
   ]
  },
  {
   "cell_type": "code",
   "execution_count": null,
   "metadata": {},
   "outputs": [],
   "source": [
    "coefficients = result.getCoefficients()\n",
    "numberOfParameters = coefficients.getSize()\n",
    "print(\"numberOfParameters = \", numberOfParameters)\n",
    "\n",
    "trainingSampleSize = inputTrain.getSize()\n",
    "print(\"trainingSampleSize = \", trainingSampleSize)\n",
    "\n",
    "learningRatio = trainingSampleSize / numberOfParameters\n",
    "print(\"learningRatio = %.3f\" % (learningRatio))"
   ]
  },
  {
   "cell_type": "markdown",
   "metadata": {},
   "source": [
    "Si le nombre d'observations est très supérieur au nombre de paramètres, alors l'apprentissage est de qualité. Avec environ 2 observations par paramètres, le nombre d'observations est suffisant, mais il pourrait être plus grand pour assurer une meilleure qualité. "
   ]
  },
  {
   "cell_type": "markdown",
   "metadata": {},
   "source": [
    "## Solution de l'exercice 6 : analyse des résultats de la sélection de modèle"
   ]
  },
  {
   "cell_type": "code",
   "execution_count": null,
   "metadata": {},
   "outputs": [],
   "source": [
    "def printCoefficientsTable(polynomialChaosResult):\n",
    "    \"\"\"\n",
    "    Print the coefficients of the polynomial chaos.\n",
    "    \n",
    "    Parameters\n",
    "    ----------\n",
    "    enumerate_function : ot.EnumerateFunction\n",
    "        The enumerate function.\n",
    "    polynomialChaosResult : ot.PolynomialChaosResult\n",
    "        The polynomial chaos result.\n",
    "    \"\"\"\n",
    "    basis = polynomialChaosResult.getOrthogonalBasis()\n",
    "    enumerate_function = basis.getEnumerateFunction()\n",
    "    indices = polynomialChaosResult.getIndices()\n",
    "    nbcoeffs = indices.getSize()\n",
    "    print(\"# Indice, Multi-indice, Degree : Value\")\n",
    "    for k in range(nbcoeffs):\n",
    "        multiindex = enumerate_function(indices[k])\n",
    "        degree = sum(multiindex)\n",
    "        c = coefficients[k][0]\n",
    "        print(\"#%d, %s (%s) : %s\" % (k, multiindex, degree, c))\n",
    "    return"
   ]
  },
  {
   "cell_type": "markdown",
   "metadata": {},
   "source": [
    "Display active polynomials "
   ]
  },
  {
   "cell_type": "code",
   "execution_count": null,
   "metadata": {},
   "outputs": [],
   "source": [
    "indices = result.getIndices()\n",
    "indices"
   ]
  },
  {
   "cell_type": "markdown",
   "metadata": {},
   "source": [
    "Display active polynomials coefficients"
   ]
  },
  {
   "cell_type": "code",
   "execution_count": null,
   "metadata": {},
   "outputs": [],
   "source": [
    "nbcoeffs = indices.getSize()\n",
    "nbcoeffs"
   ]
  },
  {
   "cell_type": "code",
   "execution_count": null,
   "metadata": {},
   "outputs": [],
   "source": [
    "coefficients = result.getCoefficients()\n",
    "coefficients"
   ]
  },
  {
   "cell_type": "markdown",
   "metadata": {},
   "source": [
    "Print the \"sparsity\" ratio as the complementary number of selected coefficients divided by total number of candidate polynomials in the basis."
   ]
  },
  {
   "cell_type": "code",
   "execution_count": null,
   "metadata": {},
   "outputs": [],
   "source": [
    "sparsityRatio = 1.0 - nbcoeffs / maximumBasisSize\n",
    "print(\"%.2f %%\" % (sparsityRatio * 100.0))"
   ]
  },
  {
   "cell_type": "markdown",
   "metadata": {},
   "source": [
    "Le coefficient de creux est égal à 52%, ce qui est plutôt le signe d'un chaos polynomial de qualité. Comme ce ratio n'est ni trop petit ni trop grand, on peut légitimement conserver la valeur de `P` que l'on a choisie."
   ]
  },
  {
   "cell_type": "markdown",
   "metadata": {},
   "source": [
    "Print polynomials degrees and coefficients for active terms."
   ]
  },
  {
   "cell_type": "code",
   "execution_count": null,
   "metadata": {},
   "outputs": [],
   "source": [
    "printCoefficientsTable(result)"
   ]
  },
  {
   "cell_type": "markdown",
   "metadata": {},
   "source": [
    "## Solution de l'exercice 7 : moyenne et écart-type du chaos"
   ]
  },
  {
   "cell_type": "code",
   "execution_count": null,
   "metadata": {},
   "outputs": [],
   "source": [
    "def get_PC_mean_sd(functionalChaosResult):\n",
    "    \"\"\"\n",
    "    Return mean and standard deviation of a polynomial chaos.\n",
    "\n",
    "    This code was adapted from \n",
    "    https://github.com/openturns/openturns/blob/b5797d7e4a71c71faf86df51f26ad0d8d551ad08/lib/src/Uncertainty/Algorithm/MetaModel/FunctionalChaos/FunctionalChaosSobolIndices.cxx#L68\n",
    "    \n",
    "    See https://github.com/openturns/openturns/issues/1927\n",
    "    \n",
    "    Parameters\n",
    "    ----------\n",
    "    functionalChaosResult : ot.FunctionalChaosResult()\n",
    "        The polynomial chaos.\n",
    "\n",
    "    Returns\n",
    "    -------\n",
    "    mean : ot.Point(outputDimension)\n",
    "        The expectation of Y = p(X), where p is the polynomial.\n",
    "    stdDev : ot.Point(outputDimension)\n",
    "        The standard deviation of Y = pc(X), where pc is the polynomial chaos,\n",
    "        as the square root of the variance.\n",
    "    \"\"\"\n",
    "    outputDimension = functionalChaosResult.getMetaModel().getOutputDimension()\n",
    "    indices = functionalChaosResult.getIndices()\n",
    "    coefficients = functionalChaosResult.getCoefficients()\n",
    "    basisSize = indices.getSize()\n",
    "    variance = ot.Point(outputDimension)\n",
    "    mean = ot.Point(outputDimension)\n",
    "    for i in range(outputDimension):\n",
    "        for k in range(basisSize):\n",
    "            # Take into account only non-zero indices as the\n",
    "            # null index is the mean of the vector\n",
    "            if indices[k] > 0:\n",
    "                variance[i] += coefficients[k, i] ** 2\n",
    "            else:\n",
    "                mean[i] = coefficients[k, i]\n",
    "    # standard deviation\n",
    "    stdDev = ot.Point(outputDimension)\n",
    "    for i in range(outputDimension):\n",
    "        stdDev[i] = np.sqrt(variance[i])\n",
    "    return mean, stdDev"
   ]
  },
  {
   "cell_type": "code",
   "execution_count": null,
   "metadata": {},
   "outputs": [],
   "source": [
    "training_sample_size = 50  # Size of the training design of experiments\n",
    "\n",
    "inputTrain = myDistribution.getSample(training_sample_size)\n",
    "outputTrain = g(inputTrain)\n",
    "totalDegree = 5  # Polynomial degree\n",
    "result = ComputeSparseLeastSquaresChaos(\n",
    "    inputTrain, outputTrain, multivariateBasis, totalDegree, myDistribution\n",
    ")\n",
    "\n",
    "mean, stdDev = get_PC_mean_sd(result)\n",
    "print(\"+ From P.C.E.:\")\n",
    "print(\"    Mean(PC) = %.4f\" % (mean[0]))\n",
    "print(\"    S.D.(PC) = %.4f\" % (stdDev[0]))\n",
    "\n",
    "chaosRV = ot.FunctionalChaosRandomVector(result)\n",
    "mean = chaosRV.getMean()[0]\n",
    "variance = chaosRV.getCovariance()[0, 0]\n",
    "stdDev = np.sqrt(variance)\n",
    "print(\"+ From the output sample of the P.C.E.:\")\n",
    "print(\"    Mean(PC) = %.4f\" % (mean))\n",
    "print(\"    S.D.(PC) = %.4f\" % (stdDev))"
   ]
  },
  {
   "cell_type": "markdown",
   "metadata": {},
   "source": [
    "## Solution de l'exercice 8 : base de Hermite"
   ]
  },
  {
   "cell_type": "code",
   "execution_count": null,
   "metadata": {},
   "outputs": [],
   "source": [
    "dimension = myDistribution.getDimension()\n",
    "hermiteFactory = ot.HermiteFactory()\n",
    "multivariateBasis = ot.OrthogonalProductPolynomialFactory(\n",
    "    [hermiteFactory] * dimension, enumerateFunction\n",
    ")\n",
    "training_sample_size = 100  # Size of the training design of experiments\n",
    "\n",
    "inputTrain = myDistribution.getSample(training_sample_size)\n",
    "outputTrain = g(inputTrain)\n",
    "\n",
    "totalDegree = 5  # Polynomial degree\n",
    "result = ComputeSparseLeastSquaresChaos(\n",
    "    inputTrain, outputTrain, multivariateBasis, totalDegree, myDistribution\n",
    ")\n",
    "metamodel = result.getMetaModel()\n",
    "\n",
    "inputTest = myDistribution.getSample(test_sample_size)\n",
    "outputTest = g(inputTest)\n",
    "#\n",
    "val = ot.MetaModelValidation(inputTest, outputTest, metamodel)\n",
    "Q2 = val.computePredictivityFactor()[0]\n",
    "graph = val.drawValidation()\n",
    "graph.setTitle(\"Q2=%.2f%%\" % (100 * Q2))\n",
    "view = otv.View(graph, figure_kw={\"figsize\": (4.0, 3.0)},)"
   ]
  },
  {
   "cell_type": "markdown",
   "metadata": {},
   "source": [
    "On observe que la base des polynômes d'Hermite fonctionne très bien dans ce cas particulier. \n",
    "\n",
    "- L'avantage de cette méthode est que la base des polynômes d'Hermite est déterminée de manière exacte par la récurrence à trois termes, dont les coefficients sont explicites. En conséquence, la base fonctionnelle créée par tensorisation des polynômes d'Hermite est numériquement proche de l'orthogonalité, même lorsque le degré polynômial est élevé, ce qui est un avantage. Puisque nous utilisons dans le cas de la poutre encastrée un degré polynomial inférieur à 5, cet avantage n'est pas très significatif. \n",
    "- Lorsqu'on utilise le schéma de Haskey pour la variable $F$, celle-ci revient à orthogonaliser la distribution log-normale. Or on sait que cette distribution n'est pas déterminée uniquement par ses moments. En conséquence, la base polynomiale générée par le procédé d'orthogonalisation de Stieljes modifié n'est pas une base complète de l'espace des fonctions $L^2$. Cela implique que, lorsqu'on augmente le degré polynomial, on est pas certain de converger vers la vraie fonction (même avec un échantillon de taille hypothétiquement infinie). L'avantage de la base de Hermite est qu'elle forme une base complète, ce qui est un avantage. \n",
    "- L'utilisation de la base de Hermite nécessite une transformation iso-probabiliste qui n'est pas nécessairement triviale en fonction des lois marginales du vecteur d'entrée du modèle physique. Dans le cas de la poutre encastrée, nous avons des lois marginales qui ne sont pas gaussiennes, ce qui entraîne une transformation non triviale pour obtenir la distribution standard gaussienne. Cette transformation peut apporter une non linéarité au modèle transformé, ce qui peut nécessiter un degré polynomial plus élevé. Ainsi, à degré polynomial égal, l'approximation par polynôme de chaos de Wiener peut être de moins bonne qualité que celui généré par le schéma de Askey, ce qui est un inconvénient."
   ]
  },
  {
   "cell_type": "markdown",
   "metadata": {},
   "source": [
    "## Exercice 9 : approximation de la distribution de la sortie\n"
   ]
  },
  {
   "cell_type": "code",
   "execution_count": null,
   "metadata": {},
   "outputs": [],
   "source": [
    "# 1. Create PCE\n",
    "multivariateBasis = ot.OrthogonalProductPolynomialFactory(\n",
    "    [dist_E, dist_F, dist_L, dist_I]\n",
    ")\n",
    "training_sample_size = 100  # Size of the training design of experiments\n",
    "inputTrain = myDistribution.getSample(training_sample_size)\n",
    "outputTrain = g(inputTrain)\n",
    "\n",
    "totalDegree = 5  # Polynomial degree\n",
    "result = ComputeSparseLeastSquaresChaos(\n",
    "    inputTrain, outputTrain, multivariateBasis, totalDegree, myDistribution\n",
    ")\n",
    "metamodel = result.getMetaModel()\n",
    "inputTest = myDistribution.getSample(test_sample_size)\n",
    "outputTest = g(inputTest)\n",
    "# 2. Create output sample from PCE and plot the approximate PDF\n",
    "chaosRV = ot.FunctionalChaosRandomVector(result)\n",
    "sample_PCE = chaosRV.getSample(1000)\n",
    "distribution_PCE = ot.KernelSmoothing().build(sample_PCE).drawPDF()\n",
    "# 3. Compare with approximate PDF from the model\n",
    "distribution_model_small = ot.KernelSmoothing().build(outputTrain).drawPDF()\n",
    "distribution_PCE.add(distribution_model_small)\n",
    "# 4. Compare with approximate PDF from the model, with a large sample\n",
    "input_test_large = myDistribution.getSample(1000)\n",
    "output_test_large = g(input_test_large)\n",
    "distribution_model_large = ot.KernelSmoothing().build(output_test_large).drawPDF()\n",
    "distribution_PCE.add(distribution_model_large)\n",
    "# Customize\n",
    "distribution_PCE.setLegends([\"PCE\", \"Model, small\", \"Model, large\"])\n",
    "distribution_PCE.setColors(ot.Drawable_BuildDefaultPalette(3))\n",
    "view = otv.View(\n",
    "    distribution_PCE,\n",
    "    figure_kw={\"figsize\": (4.0, 3.0)},\n",
    "    legend_kw={\"bbox_to_anchor\": (1.0, 1.0), \"loc\": \"upper left\"},\n",
    ")"
   ]
  },
  {
   "cell_type": "code",
   "execution_count": null,
   "metadata": {},
   "outputs": [],
   "source": []
  }
 ],
 "metadata": {
  "kernelspec": {
   "display_name": "Python 3",
   "language": "python",
   "name": "python3"
  },
  "language_info": {
   "codemirror_mode": {
    "name": "ipython",
    "version": 3
   },
   "file_extension": ".py",
   "mimetype": "text/x-python",
   "name": "python",
   "nbconvert_exporter": "python",
   "pygments_lexer": "ipython3",
   "version": "3.8.10"
  }
 },
 "nbformat": 4,
 "nbformat_minor": 1
}
