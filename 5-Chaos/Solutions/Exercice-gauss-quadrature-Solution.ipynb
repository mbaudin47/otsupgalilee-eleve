{
 "cells": [
  {
   "cell_type": "markdown",
   "metadata": {},
   "source": [
    "# Exercice : quadrature de Gauss\n"
   ]
  },
  {
   "cell_type": "markdown",
   "metadata": {},
   "source": [
    "## Description\n",
    "\n",
    "On considère la fonction \n",
    "\\begin{eqnarray}\n",
    "g(x)=1+\\cos\\left( \\frac{15}{2} (x+1)\\right)+\\frac{9}{4} (x+1),\n",
    "\\end{eqnarray}\n",
    "pour $x\\in [-1,1]$. \n",
    "L'intégrale exacte est :\n",
    "$$\n",
    "\\int_{-1}^{1} g(x) dx = 6.586705045354282249.\n",
    "$$"
   ]
  },
  {
   "cell_type": "markdown",
   "metadata": {},
   "source": [
    "On considère la règle de quadrature de Gauss :\n",
    "$$\n",
    "\\int_{-1}^{1} h(x) f(x) dx \\approx \\sum_{i}^n w_i h(x_i)\n",
    "$$\n",
    "où $\\{x_i\\}_{i=1,...,n}$ sont les noeuds et $\\{w_i\\}_{i=1,...,n}$ sont les poids, $h$ est l'intégrande et $f$ est la densité de probabilité associée à la règle de quadrature. \n",
    "\n",
    "Puisque la densité de probabilité $f$ n'apparaît pas nécessairement dans l'intégrande $g$, nous considérons l'intégrande :\n",
    "$$\n",
    "h(x) = \\frac{g(x)}{f(x)}\n",
    "$$\n",
    "pour tout $x\\in[-1,1]$. \n",
    "Ainsi, \n",
    "$$\n",
    "\\int_{-1}^{1} h(x) f(x) dx = \\int_{-1}^{1} \\frac{g(x)}{f(x)} f(x) dx = \\int_{-1}^{1} g(x) dx\n",
    "$$\n",
    "qui est l'intégrale recherchée. \n",
    "La règle de quadrature est alors :\n",
    "$$\n",
    "\\int_{-1}^{1} g(x) dx \\approx \\sum_{i}^n w_i h(x_i) = \\sum_{i}^n w_i \\frac{g(x_i)}{f(x_i)}.\n",
    "$$"
   ]
  },
  {
   "cell_type": "markdown",
   "metadata": {},
   "source": [
    "L'objectif de cet exercice est de créer la règle de quadrature de Gauss-Legendre et de l'appliquer à cet exemple. \n",
    "\n",
    "Dans le but de vérifier le nombre de chiffres significatifs dans le résultat, on utilisera la fonction `computeDigits` suivante, qui évalue le nombre de chiffres corrects dans la variable `approximate` par rapport à la valeur exacte de l'intégrale. "
   ]
  },
  {
   "cell_type": "code",
   "execution_count": 1,
   "metadata": {},
   "outputs": [],
   "source": [
    "def computeDigits(approximate):\n",
    "    \"\"\"'Returns the number of decimal digits in the approximate integral.\"\"\"\n",
    "    data = np.finfo(float)\n",
    "    exact = 6.586705045354282249\n",
    "    re = abs(approximate - exact) / abs(exact)\n",
    "    if re == 0.0:\n",
    "        d = data.precision\n",
    "    else:\n",
    "        d = -np.log10(re)\n",
    "    return d"
   ]
  },
  {
   "cell_type": "markdown",
   "metadata": {},
   "source": [
    "## Questions\n",
    "\n",
    "Partie 1 : définition de la fonction\n",
    "* Utiliser la classe `SymbolicFunction` pour définir la fonction `g` associée à l'intégrande.\n",
    "* Fixer la variable `npoints = 50` contenant le nombre de points associés à la règle de quadrature.\n",
    "* Utiliser la méthode `draw` de `g` pour dessiner la fonction sur l'intervalle [-1,1] avec `npoints` points.\n",
    "\n",
    "Partie 2 : avec les polynômes de Legendre\n",
    "* Créer la variable `lefa` contenant une instance de la classe `LegendreFactory`. \n",
    "* Utiliser la méthode `getMeasure` pour créer la variable `measure` contenant la densité de probabilité associée à cette famille de polynômes orthogonaux. Afficher cette mesure.\n",
    "* Utiliser la méthode `getNodesAndWeights` pour générer la liste des noeuds `nodes` et des poids `weights` de la règle de quadrature avec `npoints` points.\n",
    "* Créer un graphique représentant les noeuds en abscisses et les poids en ordonnées. Qu'observez-vous ? Quelle est la répartition des noeuds de quadrature ? Quel est le lien avec la précision d'estimation de l'erreur ?\n",
    "* Utiliser une boucle `for` pour estimer l'intégrale par la règle de quadrature. \n",
    "* Utiliser la fonction `computeDigits` pour estimer le nombre de chiffres significatifs dans le résultat. Quelle précision obtenez-vous ?\n",
    "\n",
    "Partie 3 : avec les polynômes de Chebyshev\n",
    "* Réitérer le processus ave la classe `ChebychevFactory`.\n",
    "\n",
    "Partie 4 : avec les polynômes de Jacobi\n",
    "* Réitérer le processus ave la classe `JacobiFactory`.\n",
    "\n",
    "Synthèse : comparer les résultats. Quelle méthode donne les meilleurs résultats ? Pourquoi ?"
   ]
  },
  {
   "cell_type": "markdown",
   "metadata": {},
   "source": [
    "## Description"
   ]
  },
  {
   "cell_type": "code",
   "execution_count": 2,
   "metadata": {},
   "outputs": [],
   "source": [
    "import openturns as ot\n",
    "import numpy as np"
   ]
  },
  {
   "cell_type": "markdown",
   "metadata": {},
   "source": [
    "## Définition de la fonction"
   ]
  },
  {
   "cell_type": "code",
   "execution_count": 3,
   "metadata": {},
   "outputs": [],
   "source": [
    "g = ot.SymbolicFunction(\"x\", \"1+cos(15*(x+1)/2)+9*(x+1)/4 \")"
   ]
  },
  {
   "cell_type": "code",
   "execution_count": 4,
   "metadata": {},
   "outputs": [],
   "source": [
    "npoints = 50"
   ]
  },
  {
   "cell_type": "code",
   "execution_count": 5,
   "metadata": {},
   "outputs": [
    {
     "data": {
      "image/png": "[encoded data removed]",
      "text/plain": [
       "class=Graph name=y0 as a function of x implementation=class=GraphImplementation name=y0 as a function of x title=y0 as a function of x xTitle=x yTitle=y0 axes=ON grid=ON legendposition= legendFontSize=1 drawables=[class=Drawable name=Unnamed implementation=class=Curve name=Unnamed derived from class=DrawableImplementation name=Unnamed legend= data=class=Sample name=Unnamed implementation=class=SampleImplementation name=Unnamed size=50 dimension=2 data=[[-1,2],[-0.959184,2.04535],[-0.918367,2.00203],[-0.877551,1.88263],[-0.836735,1.70677],[-0.795918,1.49936],[-0.755102,1.28821],[-0.714286,1.10149],[-0.673469,0.965114],[-0.632653,0.900293],[-0.591837,0.921595],[-0.55102,1.03558],[-0.510204,1.24018],[-0.469388,1.52493],[-0.428571,1.87187],[-0.387755,2.25729],[-0.346939,2.65389],[-0.306122,3.03334],[-0.265306,3.36889],[-0.22449,3.63788],[-0.183673,3.82384],[-0.142857,3.91802],[-0.102041,3.9202],[-0.0612245,3.83871],[-0.0204082,3.68968],[0.0204082,3.49549],[0.0612245,3.28275],[0.102041,3.07977],[0.142857,2.91397],[0.183673,2.80929],[0.22449,2.78403],[0.265306,2.84905],[0.306122,3.00686],[0.346939,3.25132],[0.387755,3.56824],[0.428571,3.93669],[0.469388,4.33095],[0.510204,4.72291],[0.55102,5.08465],[0.591837,5.39107],[0.632653,5.62224],[0.673469,5.76519],[0.714286,5.81517],[0.755102,5.77606],[0.795918,5.66006],[0.836735,5.48648],[0.877551,5.28],[0.918367,5.06835],[0.959184,4.87977],[1,4.74031]] color=blue fillStyle=solid lineStyle=solid pointStyle=none lineWidth=1]"
      ]
     },
     "execution_count": 5,
     "metadata": {},
     "output_type": "execute_result"
    }
   ],
   "source": [
    "g.draw(-1, 1, npoints)"
   ]
  },
  {
   "cell_type": "markdown",
   "metadata": {},
   "source": [
    "## Avec les polynômes de Legendre"
   ]
  },
  {
   "cell_type": "code",
   "execution_count": 6,
   "metadata": {},
   "outputs": [],
   "source": [
    "lefa = ot.LegendreFactory()"
   ]
  },
  {
   "cell_type": "code",
   "execution_count": 7,
   "metadata": {},
   "outputs": [
    {
     "data": {
      "text/html": [
       "<p>Uniform(a = -1, b = 1)</p>"
      ],
      "text/plain": [
       "class=Uniform name=Uniform dimension=1 a=-1 b=1"
      ]
     },
     "execution_count": 7,
     "metadata": {},
     "output_type": "execute_result"
    }
   ],
   "source": [
    "measure = lefa.getMeasure()\n",
    "measure"
   ]
  },
  {
   "cell_type": "code",
   "execution_count": 8,
   "metadata": {},
   "outputs": [],
   "source": [
    "nodes, weights = lefa.getNodesAndWeights(npoints)"
   ]
  },
  {
   "cell_type": "code",
   "execution_count": 9,
   "metadata": {},
   "outputs": [
    {
     "data": {
      "text/plain": [
       "50"
      ]
     },
     "execution_count": 9,
     "metadata": {},
     "output_type": "execute_result"
    }
   ],
   "source": [
    "len(nodes)"
   ]
  },
  {
   "cell_type": "code",
   "execution_count": 10,
   "metadata": {},
   "outputs": [
    {
     "data": {
      "text/html": [
       "<p>[-0.998866,-0.994032,-0.985354,-0.972864,-0.956611,-0.936657,-0.913079,-0.885968,-0.85543,-0.821582,-0.784556,-0.744494,-0.701552,-0.655896,-0.607703,-0.557158,-0.504458,-0.449806,-0.393414,-0.3355,-0.276288,-0.216007,-0.154891,-0.0931747,-0.0310983,0.0310983,0.0931747,0.154891,0.216007,0.276288,0.3355,0.393414,0.449806,0.504458,0.557158,0.607703,0.655896,0.701552,0.744494,0.784556,0.821582,0.85543,0.885968,0.913079,0.936657,0.956611,0.972864,0.985354,0.994032,0.998866]#50</p>"
      ],
      "text/plain": [
       "class=Point name=Unnamed dimension=50 values=[-0.998866,-0.994032,-0.985354,-0.972864,-0.956611,-0.936657,-0.913079,-0.885968,-0.85543,-0.821582,-0.784556,-0.744494,-0.701552,-0.655896,-0.607703,-0.557158,-0.504458,-0.449806,-0.393414,-0.3355,-0.276288,-0.216007,-0.154891,-0.0931747,-0.0310983,0.0310983,0.0931747,0.154891,0.216007,0.276288,0.3355,0.393414,0.449806,0.504458,0.557158,0.607703,0.655896,0.701552,0.744494,0.784556,0.821582,0.85543,0.885968,0.913079,0.936657,0.956611,0.972864,0.985354,0.994032,0.998866]"
      ]
     },
     "execution_count": 10,
     "metadata": {},
     "output_type": "execute_result"
    }
   ],
   "source": [
    "nodes"
   ]
  },
  {
   "cell_type": "code",
   "execution_count": 11,
   "metadata": {
    "scrolled": true
   },
   "outputs": [
    {
     "data": {
      "text/html": [
       "<p>[0.00145431,0.0033799,0.00529527,0.00719041,0.00905778,0.0108901,0.0126803,0.0144215,0.0161069,0.0177299,0.0192844,0.0207642,0.0221638,0.0234775,0.0247005,0.0258279,0.0268553,0.0277789,0.028595,0.0293004,0.0298925,0.030369,0.0307279,0.030968,0.0310883,0.0310883,0.030968,0.0307279,0.030369,0.0298925,0.0293004,0.028595,0.0277789,0.0268553,0.0258279,0.0247005,0.0234775,0.0221638,0.0207642,0.0192844,0.0177299,0.0161069,0.0144215,0.0126803,0.0108901,0.00905778,0.00719041,0.00529527,0.0033799,0.00145431]#50</p>"
      ],
      "text/plain": [
       "class=Point name=Unnamed dimension=50 values=[0.00145431,0.0033799,0.00529527,0.00719041,0.00905778,0.0108901,0.0126803,0.0144215,0.0161069,0.0177299,0.0192844,0.0207642,0.0221638,0.0234775,0.0247005,0.0258279,0.0268553,0.0277789,0.028595,0.0293004,0.0298925,0.030369,0.0307279,0.030968,0.0310883,0.0310883,0.030968,0.0307279,0.030369,0.0298925,0.0293004,0.028595,0.0277789,0.0268553,0.0258279,0.0247005,0.0234775,0.0221638,0.0207642,0.0192844,0.0177299,0.0161069,0.0144215,0.0126803,0.0108901,0.00905778,0.00719041,0.00529527,0.0033799,0.00145431]"
      ]
     },
     "execution_count": 11,
     "metadata": {},
     "output_type": "execute_result"
    }
   ],
   "source": [
    "weights"
   ]
  },
  {
   "cell_type": "code",
   "execution_count": 12,
   "metadata": {},
   "outputs": [
    {
     "data": {
      "image/png": "[encoded data removed]",
      "text/plain": [
       "class=Graph name=n=50 implementation=class=GraphImplementation name=n=50 title=Gauss-Legendre. n=50 xTitle=Nodes yTitle=Weights axes=ON grid=ON legendposition=topright legendFontSize=1 drawables=[class=Drawable name=Unnamed implementation=class=Cloud name=Unnamed derived from class=DrawableImplementation name=Unnamed legend=$\\alpha_i$ data=class=Sample name=Unnamed implementation=class=SampleImplementation name=Unnamed size=50 dimension=2 data=[[-0.998866,0.00145431],[-0.994032,0.0033799],[-0.985354,0.00529527],[-0.972864,0.00719041],[-0.956611,0.00905778],[-0.936657,0.0108901],[-0.913079,0.0126803],[-0.885968,0.0144215],[-0.85543,0.0161069],[-0.821582,0.0177299],[-0.784556,0.0192844],[-0.744494,0.0207642],[-0.701552,0.0221638],[-0.655896,0.0234775],[-0.607703,0.0247005],[-0.557158,0.0258279],[-0.504458,0.0268553],[-0.449806,0.0277789],[-0.393414,0.028595],[-0.3355,0.0293004],[-0.276288,0.0298925],[-0.216007,0.030369],[-0.154891,0.0307279],[-0.0931747,0.030968],[-0.0310983,0.0310883],[0.0310983,0.0310883],[0.0931747,0.030968],[0.154891,0.0307279],[0.216007,0.030369],[0.276288,0.0298925],[0.3355,0.0293004],[0.393414,0.028595],[0.449806,0.0277789],[0.504458,0.0268553],[0.557158,0.0258279],[0.607703,0.0247005],[0.655896,0.0234775],[0.701552,0.0221638],[0.744494,0.0207642],[0.784556,0.0192844],[0.821582,0.0177299],[0.85543,0.0161069],[0.885968,0.0144215],[0.913079,0.0126803],[0.936657,0.0108901],[0.956611,0.00905778],[0.972864,0.00719041],[0.985354,0.00529527],[0.994032,0.0033799],[0.998866,0.00145431]] color=#1f77b4 fillStyle=solid lineStyle=solid pointStyle=plus lineWidth=1,class=Drawable name=Unnamed implementation=class=Cloud name=Unnamed derived from class=DrawableImplementation name=Unnamed legend=$x_i$ data=class=Sample name=Unnamed implementation=class=SampleImplementation name=Unnamed size=50 dimension=2 data=[[-0.998866,0],[-0.994032,0],[-0.985354,0],[-0.972864,0],[-0.956611,0],[-0.936657,0],[-0.913079,0],[-0.885968,0],[-0.85543,0],[-0.821582,0],[-0.784556,0],[-0.744494,0],[-0.701552,0],[-0.655896,0],[-0.607703,0],[-0.557158,0],[-0.504458,0],[-0.449806,0],[-0.393414,0],[-0.3355,0],[-0.276288,0],[-0.216007,0],[-0.154891,0],[-0.0931747,0],[-0.0310983,0],[0.0310983,0],[0.0931747,0],[0.154891,0],[0.216007,0],[0.276288,0],[0.3355,0],[0.393414,0],[0.449806,0],[0.504458,0],[0.557158,0],[0.607703,0],[0.655896,0],[0.701552,0],[0.744494,0],[0.784556,0],[0.821582,0],[0.85543,0],[0.885968,0],[0.913079,0],[0.936657,0],[0.956611,0],[0.972864,0],[0.985354,0],[0.994032,0],[0.998866,0]] color=#ff7f0e fillStyle=solid lineStyle=solid pointStyle=plus lineWidth=1]"
      ]
     },
     "execution_count": 12,
     "metadata": {},
     "output_type": "execute_result"
    }
   ],
   "source": [
    "def plotNodesAndWeights(nodes, weights):\n",
    "    \"\"\"\n",
    "    Plot nodes and weights of a quadrature formula.\n",
    "    \n",
    "    Parameters\n",
    "    ----------\n",
    "    nodes : ot.Point(n)\n",
    "        The nodes.\n",
    "    weights : ot.Point(n)\n",
    "        The weights.\n",
    "    \n",
    "    Returns\n",
    "    -------\n",
    "    graph : ot.Graph\n",
    "        The weights and the nodes on the Y-axis depending on the \n",
    "        corresponding abscissa on the X-axis. \n",
    "    \"\"\"\n",
    "    npoints = nodes.getDimension()\n",
    "    if weights.getDimension() != npoints:\n",
    "        raise ValueError(\"The number of nodes and weights must be equal.\")\n",
    "    title = \"n=%d\" % (npoints)\n",
    "    graph = ot.Graph(title, \"Nodes\", \"Weights\", True)\n",
    "    cloud = ot.Cloud(nodes, weights)\n",
    "    cloud.setLegend(r\"$\\alpha_i$\")\n",
    "    graph.add(cloud)\n",
    "    zeros = ot.Sample(len(nodes), 1)\n",
    "    data = ot.Sample([[x] for x in nodes])\n",
    "    cloudZeros = ot.Cloud(data, zeros)\n",
    "    cloudZeros.setLegend(r\"$x_i$\")\n",
    "    graph.add(cloudZeros)\n",
    "    graph.setColors(ot.Drawable().BuildDefaultPalette(2))\n",
    "    graph.setLegendPosition(\"topright\")\n",
    "    return graph\n",
    "\n",
    "\n",
    "graph = plotNodesAndWeights(nodes, weights)\n",
    "graph.setTitle(\"Gauss-Legendre. n=%d\" % (npoints))\n",
    "graph"
   ]
  },
  {
   "cell_type": "markdown",
   "metadata": {},
   "source": [
    "On observe que la densité de points est plus importante sur les bords du domaine. Cela favorise une limitation de l'amplitude du polynôme nodal $\\omega_n$. "
   ]
  },
  {
   "cell_type": "markdown",
   "metadata": {},
   "source": [
    "Comme la densité de probabilité uniforme est constante sur l'intervalle [-1,1], on peut calculer la valeur une fois pour toute, avant la boucle `for`."
   ]
  },
  {
   "cell_type": "code",
   "execution_count": 13,
   "metadata": {},
   "outputs": [
    {
     "data": {
      "text/plain": [
       "0.5"
      ]
     },
     "execution_count": 13,
     "metadata": {},
     "output_type": "execute_result"
    }
   ],
   "source": [
    "f = measure.computePDF(0.0)\n",
    "f"
   ]
  },
  {
   "cell_type": "code",
   "execution_count": 14,
   "metadata": {},
   "outputs": [
    {
     "data": {
      "text/plain": [
       "6.586705045354282"
      ]
     },
     "execution_count": 14,
     "metadata": {},
     "output_type": "execute_result"
    }
   ],
   "source": [
    "I = 0.0\n",
    "for i in range(npoints):\n",
    "    I += weights[i] * g([nodes[i]])[0] / f\n",
    "I"
   ]
  },
  {
   "cell_type": "code",
   "execution_count": 15,
   "metadata": {
    "scrolled": true
   },
   "outputs": [
    {
     "data": {
      "text/plain": [
       "15"
      ]
     },
     "execution_count": 15,
     "metadata": {},
     "output_type": "execute_result"
    }
   ],
   "source": [
    "computeDigits(I)"
   ]
  },
  {
   "cell_type": "markdown",
   "metadata": {},
   "source": [
    "On observe que la précision est maximale avec la règle de Gauss-Legendre."
   ]
  },
  {
   "cell_type": "markdown",
   "metadata": {},
   "source": [
    "## Avec les polynômes de Chebyshev"
   ]
  },
  {
   "cell_type": "code",
   "execution_count": 16,
   "metadata": {},
   "outputs": [],
   "source": [
    "chefa = ot.ChebychevFactory()"
   ]
  },
  {
   "cell_type": "code",
   "execution_count": 17,
   "metadata": {},
   "outputs": [
    {
     "data": {
      "text/html": [
       "<p>Arcsine(a = -1, b = 1)</p>"
      ],
      "text/plain": [
       "class=Arcsine name=Arcsine dimension=1 a=-1 b=1"
      ]
     },
     "execution_count": 17,
     "metadata": {},
     "output_type": "execute_result"
    }
   ],
   "source": [
    "measure = chefa.getMeasure()\n",
    "measure"
   ]
  },
  {
   "cell_type": "code",
   "execution_count": 18,
   "metadata": {},
   "outputs": [],
   "source": [
    "nodes, weights = chefa.getNodesAndWeights(npoints)"
   ]
  },
  {
   "cell_type": "code",
   "execution_count": 19,
   "metadata": {},
   "outputs": [
    {
     "data": {
      "image/png": "[encoded data removed]",
      "text/plain": [
       "class=Graph name=n=50 implementation=class=GraphImplementation name=n=50 title=Gauss-Chebyshev. n=50 xTitle=Nodes yTitle=Weights axes=ON grid=ON legendposition=topright legendFontSize=1 drawables=[class=Drawable name=Unnamed implementation=class=Cloud name=Unnamed derived from class=DrawableImplementation name=Unnamed legend=$\\alpha_i$ data=class=Sample name=Unnamed implementation=class=SampleImplementation name=Unnamed size=50 dimension=2 data=[[0.999507,0.02],[0.995562,0.02],[0.987688,0.02],[0.975917,0.02],[0.960294,0.02],[0.940881,0.02],[0.917755,0.02],[0.891007,0.02],[0.860742,0.02],[0.827081,0.02],[0.790155,0.02],[0.750111,0.02],[0.707107,0.02],[0.661312,0.02],[0.612907,0.02],[0.562083,0.02],[0.509041,0.02],[0.45399,0.02],[0.397148,0.02],[0.338738,0.02],[0.278991,0.02],[0.218143,0.02],[0.156434,0.02],[0.0941083,0.02],[0.0314108,0.02],[-0.0314108,0.02],[-0.0941083,0.02],[-0.156434,0.02],[-0.218143,0.02],[-0.278991,0.02],[-0.338738,0.02],[-0.397148,0.02],[-0.45399,0.02],[-0.509041,0.02],[-0.562083,0.02],[-0.612907,0.02],[-0.661312,0.02],[-0.707107,0.02],[-0.750111,0.02],[-0.790155,0.02],[-0.827081,0.02],[-0.860742,0.02],[-0.891007,0.02],[-0.917755,0.02],[-0.940881,0.02],[-0.960294,0.02],[-0.975917,0.02],[-0.987688,0.02],[-0.995562,0.02],[-0.999507,0.02]] color=#1f77b4 fillStyle=solid lineStyle=solid pointStyle=plus lineWidth=1,class=Drawable name=Unnamed implementation=class=Cloud name=Unnamed derived from class=DrawableImplementation name=Unnamed legend=$x_i$ data=class=Sample name=Unnamed implementation=class=SampleImplementation name=Unnamed size=50 dimension=2 data=[[0.999507,0],[0.995562,0],[0.987688,0],[0.975917,0],[0.960294,0],[0.940881,0],[0.917755,0],[0.891007,0],[0.860742,0],[0.827081,0],[0.790155,0],[0.750111,0],[0.707107,0],[0.661312,0],[0.612907,0],[0.562083,0],[0.509041,0],[0.45399,0],[0.397148,0],[0.338738,0],[0.278991,0],[0.218143,0],[0.156434,0],[0.0941083,0],[0.0314108,0],[-0.0314108,0],[-0.0941083,0],[-0.156434,0],[-0.218143,0],[-0.278991,0],[-0.338738,0],[-0.397148,0],[-0.45399,0],[-0.509041,0],[-0.562083,0],[-0.612907,0],[-0.661312,0],[-0.707107,0],[-0.750111,0],[-0.790155,0],[-0.827081,0],[-0.860742,0],[-0.891007,0],[-0.917755,0],[-0.940881,0],[-0.960294,0],[-0.975917,0],[-0.987688,0],[-0.995562,0],[-0.999507,0]] color=#ff7f0e fillStyle=solid lineStyle=solid pointStyle=plus lineWidth=1]"
      ]
     },
     "execution_count": 19,
     "metadata": {},
     "output_type": "execute_result"
    }
   ],
   "source": [
    "graph = plotNodesAndWeights(nodes, weights)\n",
    "graph.setTitle(\"Gauss-Chebyshev. n=%d\" % (npoints))\n",
    "graph"
   ]
  },
  {
   "cell_type": "code",
   "execution_count": 20,
   "metadata": {},
   "outputs": [
    {
     "data": {
      "text/plain": [
       "6.587813632262346"
      ]
     },
     "execution_count": 20,
     "metadata": {},
     "output_type": "execute_result"
    }
   ],
   "source": [
    "I = 0.0\n",
    "for i in range(npoints):\n",
    "    f = measure.computePDF(nodes[i])\n",
    "    I += weights[i] * g([nodes[i]])[0] / f\n",
    "I"
   ]
  },
  {
   "cell_type": "code",
   "execution_count": 21,
   "metadata": {
    "scrolled": true
   },
   "outputs": [
    {
     "data": {
      "text/plain": [
       "3.773898470583524"
      ]
     },
     "execution_count": 21,
     "metadata": {},
     "output_type": "execute_result"
    }
   ],
   "source": [
    "computeDigits(I)"
   ]
  },
  {
   "cell_type": "markdown",
   "metadata": {},
   "source": [
    "## Avec les polynômes de Jacobi"
   ]
  },
  {
   "cell_type": "code",
   "execution_count": 22,
   "metadata": {},
   "outputs": [],
   "source": [
    "jafa = ot.JacobiFactory()"
   ]
  },
  {
   "cell_type": "code",
   "execution_count": 23,
   "metadata": {},
   "outputs": [
    {
     "data": {
      "text/html": [
       "<p>Beta(alpha = 2, beta = 2, a = -1, b = 1)</p>"
      ],
      "text/plain": [
       "class=Beta name=Beta dimension=1 alpha=2 beta=2 a=-1 b=1"
      ]
     },
     "execution_count": 23,
     "metadata": {},
     "output_type": "execute_result"
    }
   ],
   "source": [
    "measure = jafa.getMeasure()\n",
    "measure"
   ]
  },
  {
   "cell_type": "code",
   "execution_count": 24,
   "metadata": {},
   "outputs": [],
   "source": [
    "nodes, weights = jafa.getNodesAndWeights(npoints)"
   ]
  },
  {
   "cell_type": "code",
   "execution_count": 25,
   "metadata": {},
   "outputs": [
    {
     "data": {
      "image/png": "[encoded data removed]",
      "text/plain": [
       "class=Graph name=n=50 implementation=class=GraphImplementation name=n=50 title=Gauss-Jacobi. n=50 xTitle=Nodes yTitle=Weights axes=ON grid=ON legendposition=topright legendFontSize=1 drawables=[class=Drawable name=Unnamed implementation=class=Cloud name=Unnamed derived from class=DrawableImplementation name=Unnamed legend=$\\alpha_i$ data=class=Sample name=Unnamed implementation=class=SampleImplementation name=Unnamed size=50 dimension=2 data=[[-0.997233,1.92502e-05],[-0.990735,0.000115468],[-0.98055,0.000347171],[-0.966717,0.00076786],[-0.949288,0.00142398],[-0.928327,0.00235315],[-0.903913,0.00358266],[-0.876136,0.00512837],[-0.8451,0.00699397],[-0.810921,0.00917061],[-0.773724,0.0116371],[-0.733649,0.0143602],[-0.690845,0.0172958],[-0.645471,0.0203902],[-0.597696,0.0235815],[-0.547697,0.0268018],[-0.495661,0.0299791],[-0.441781,0.0330397],[-0.386258,0.0359105],[-0.329297,0.0385213],[-0.271112,0.0408072],[-0.211918,0.0427106],[-0.151936,0.0441827],[-0.091388,0.0451858],[-0.0305005,0.045694],[0.0305005,0.045694],[0.091388,0.0451858],[0.151936,0.0441827],[0.211918,0.0427106],[0.271112,0.0408072],[0.329297,0.0385213],[0.386258,0.0359105],[0.441781,0.0330397],[0.495661,0.0299791],[0.547697,0.0268018],[0.597696,0.0235815],[0.645471,0.0203902],[0.690845,0.0172958],[0.733649,0.0143602],[0.773724,0.0116371],[0.810921,0.00917061],[0.8451,0.00699397],[0.876136,0.00512837],[0.903913,0.00358266],[0.928327,0.00235315],[0.949288,0.00142398],[0.966717,0.00076786],[0.98055,0.000347171],[0.990735,0.000115468],[0.997233,1.92502e-05]] color=#1f77b4 fillStyle=solid lineStyle=solid pointStyle=plus lineWidth=1,class=Drawable name=Unnamed implementation=class=Cloud name=Unnamed derived from class=DrawableImplementation name=Unnamed legend=$x_i$ data=class=Sample name=Unnamed implementation=class=SampleImplementation name=Unnamed size=50 dimension=2 data=[[-0.997233,0],[-0.990735,0],[-0.98055,0],[-0.966717,0],[-0.949288,0],[-0.928327,0],[-0.903913,0],[-0.876136,0],[-0.8451,0],[-0.810921,0],[-0.773724,0],[-0.733649,0],[-0.690845,0],[-0.645471,0],[-0.597696,0],[-0.547697,0],[-0.495661,0],[-0.441781,0],[-0.386258,0],[-0.329297,0],[-0.271112,0],[-0.211918,0],[-0.151936,0],[-0.091388,0],[-0.0305005,0],[0.0305005,0],[0.091388,0],[0.151936,0],[0.211918,0],[0.271112,0],[0.329297,0],[0.386258,0],[0.441781,0],[0.495661,0],[0.547697,0],[0.597696,0],[0.645471,0],[0.690845,0],[0.733649,0],[0.773724,0],[0.810921,0],[0.8451,0],[0.876136,0],[0.903913,0],[0.928327,0],[0.949288,0],[0.966717,0],[0.98055,0],[0.990735,0],[0.997233,0]] color=#ff7f0e fillStyle=solid lineStyle=solid pointStyle=plus lineWidth=1]"
      ]
     },
     "execution_count": 25,
     "metadata": {},
     "output_type": "execute_result"
    }
   ],
   "source": [
    "graph = plotNodesAndWeights(nodes, weights)\n",
    "graph.setTitle(\"Gauss-Jacobi. n=%d\" % (npoints))\n",
    "graph"
   ]
  },
  {
   "cell_type": "code",
   "execution_count": 26,
   "metadata": {},
   "outputs": [
    {
     "data": {
      "text/plain": [
       "6.581621853735014"
      ]
     },
     "execution_count": 26,
     "metadata": {},
     "output_type": "execute_result"
    }
   ],
   "source": [
    "I = 0.0\n",
    "for i in range(npoints):\n",
    "    f = measure.computePDF(nodes[i])\n",
    "    I += weights[i] * g([nodes[i]])[0] / f\n",
    "I"
   ]
  },
  {
   "cell_type": "code",
   "execution_count": 27,
   "metadata": {
    "scrolled": true
   },
   "outputs": [
    {
     "data": {
      "text/plain": [
       "3.1125317345825545"
      ]
     },
     "execution_count": 27,
     "metadata": {},
     "output_type": "execute_result"
    }
   ],
   "source": [
    "computeDigits(I)"
   ]
  },
  {
   "cell_type": "markdown",
   "metadata": {},
   "source": [
    "## Conclusion\n",
    "\n",
    "On observe que les règles de quadrature de Gauss ont des performances différentes en fonction de la base polynomiale utilisée pour la générer.\n",
    "\n",
    "| Règle | Integrale | Chiffres décimaux corrects |\n",
    "|---|---|---|\n",
    "| Exact | 6.586705045354282 | - |\n",
    "| Gauss-Legendre | 6.586705045354282 | 15 |\n",
    "| Gauss-Chebyshev | 6.587813632262346 | 3.7 |\n",
    "| Gauss-Jacobi | 6.581621853735013 | 3.1 |\n",
    "\n",
    "De toute évidence, c'est la règle de Gauss-Legendre qui est la plus précise dans ce cas particulier. Bien sûr, l'intégrande considérée se prête mieux à une intégration avec une distribution uniforme. En effet, la division par la densité de probabilité artificiellement introduites pour rentrer dans le cadre de la quadrature de Gauss ne favorisent pas la convergence."
   ]
  }
 ],
 "metadata": {
  "kernelspec": {
   "display_name": "Python 3 (ipykernel)",
   "language": "python",
   "name": "python3"
  },
  "language_info": {
   "codemirror_mode": {
    "name": "ipython",
    "version": 3
   },
   "file_extension": ".py",
   "mimetype": "text/x-python",
   "name": "python",
   "nbconvert_exporter": "python",
   "pygments_lexer": "ipython3",
   "version": "3.9.0"
  }
 },
 "nbformat": 4,
 "nbformat_minor": 2
}
