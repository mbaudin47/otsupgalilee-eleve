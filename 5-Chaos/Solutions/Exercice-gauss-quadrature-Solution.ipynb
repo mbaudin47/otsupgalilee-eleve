{
 "cells": [
  {
   "cell_type": "markdown",
   "metadata": {},
   "source": [
    "# Exercice : quadrature de Gauss - Solution\n"
   ]
  },
  {
   "cell_type": "code",
   "execution_count": 1,
   "metadata": {},
   "outputs": [],
   "source": [
    "import openturns as ot\n",
    "import openturns.viewer as otv\n",
    "import numpy as np"
   ]
  },
  {
   "cell_type": "code",
   "execution_count": 2,
   "metadata": {},
   "outputs": [],
   "source": [
    "def computeDigits(approximate):\n",
    "    \"\"\"\n",
    "    Return the number of correct base 10 digits in the approximate integral.\n",
    "\n",
    "    Parameters\n",
    "    ----------\n",
    "    approximate : float\n",
    "        The approximate value of the integral.\n",
    "\n",
    "    Returns\n",
    "    -------\n",
    "    d : float\n",
    "        The log-relative error in base 10.\n",
    "\n",
    "    \"\"\"\n",
    "    data = np.finfo(float)\n",
    "    exact = 6.586705045354282248777299\n",
    "    re = abs(approximate - exact) / abs(exact)\n",
    "    if re == 0.0:\n",
    "        d = data.precision\n",
    "    else:\n",
    "        d = -np.log10(re)\n",
    "    return d\n"
   ]
  },
  {
   "cell_type": "markdown",
   "metadata": {},
   "source": [
    "## Solution"
   ]
  },
  {
   "cell_type": "markdown",
   "metadata": {},
   "source": [
    "## Définition de la fonction"
   ]
  },
  {
   "cell_type": "code",
   "execution_count": 3,
   "metadata": {},
   "outputs": [
    {
     "data": {
      "image/png": "[encoded data removed]",
      "text/plain": [
       "<Figure size 288x216 with 1 Axes>"
      ]
     },
     "metadata": {
      "needs_background": "light"
     },
     "output_type": "display_data"
    }
   ],
   "source": [
    "g = ot.SymbolicFunction(\"x\", \"1 + cos(15 * (x + 1) / 2) + 9 * (x + 1) / 4\")\n",
    "\n",
    "npoints = 50\n",
    "\n",
    "graph = g.draw(-1.0, 1.0, npoints)\n",
    "graph.setTitle(\"Intégrande $g$\")\n",
    "view = otv.View(graph, figure_kw={\"figsize\": (4.0, 3.0)})"
   ]
  },
  {
   "cell_type": "markdown",
   "metadata": {},
   "source": [
    "## Avec les polynômes de Legendre"
   ]
  },
  {
   "cell_type": "code",
   "execution_count": 4,
   "metadata": {},
   "outputs": [
    {
     "data": {
      "text/html": [
       "<p>Uniform(a = -1, b = 1)</p>"
      ],
      "text/plain": [
       "class=Uniform name=Uniform dimension=1 a=-1 b=1"
      ]
     },
     "execution_count": 4,
     "metadata": {},
     "output_type": "execute_result"
    }
   ],
   "source": [
    "lefa = ot.LegendreFactory()\n",
    "\n",
    "measure = lefa.getMeasure()\n",
    "measure"
   ]
  },
  {
   "cell_type": "code",
   "execution_count": 5,
   "metadata": {},
   "outputs": [
    {
     "data": {
      "text/plain": [
       "50"
      ]
     },
     "execution_count": 5,
     "metadata": {},
     "output_type": "execute_result"
    }
   ],
   "source": [
    "nodes, weights = lefa.getNodesAndWeights(npoints)\n",
    "\n",
    "len(nodes)"
   ]
  },
  {
   "cell_type": "code",
   "execution_count": 6,
   "metadata": {},
   "outputs": [
    {
     "data": {
      "text/html": [
       "<p>[-0.998866,-0.994032,-0.985354,-0.972864,-0.956611,-0.936657,-0.913079,-0.885968,-0.85543,-0.821582]#10</p>"
      ],
      "text/plain": [
       "class=Point name=Unnamed dimension=10 values=[-0.998866,-0.994032,-0.985354,-0.972864,-0.956611,-0.936657,-0.913079,-0.885968,-0.85543,-0.821582]"
      ]
     },
     "execution_count": 6,
     "metadata": {},
     "output_type": "execute_result"
    }
   ],
   "source": [
    "nodes[:10]"
   ]
  },
  {
   "cell_type": "code",
   "execution_count": 7,
   "metadata": {
    "scrolled": true
   },
   "outputs": [
    {
     "data": {
      "text/html": [
       "<p>[0.00145431,0.0033799,0.00529527,0.00719041,0.00905778,0.0108901,0.0126803,0.0144215,0.0161069,0.0177299]#10</p>"
      ],
      "text/plain": [
       "class=Point name=Unnamed dimension=10 values=[0.00145431,0.0033799,0.00529527,0.00719041,0.00905778,0.0108901,0.0126803,0.0144215,0.0161069,0.0177299]"
      ]
     },
     "execution_count": 7,
     "metadata": {},
     "output_type": "execute_result"
    }
   ],
   "source": [
    "weights[:10]"
   ]
  },
  {
   "cell_type": "code",
   "execution_count": 8,
   "metadata": {},
   "outputs": [
    {
     "data": {
      "image/png": "[encoded data removed]",
      "text/plain": [
       "<Figure size 288x216 with 1 Axes>"
      ]
     },
     "metadata": {
      "needs_background": "light"
     },
     "output_type": "display_data"
    }
   ],
   "source": [
    "def plotNodesAndWeights(nodes, weights):\n",
    "    \"\"\"\n",
    "    Plot nodes and weights of a quadrature formula.\n",
    "    \n",
    "    Parameters\n",
    "    ----------\n",
    "    nodes : ot.Point(n)\n",
    "        The nodes.\n",
    "    weights : ot.Point(n)\n",
    "        The weights.\n",
    "    \n",
    "    Returns\n",
    "    -------\n",
    "    graph : ot.Graph\n",
    "        The weights and the nodes on the Y-axis depending on the \n",
    "        corresponding abscissa on the X-axis. \n",
    "    \"\"\"\n",
    "    npoints = nodes.getDimension()\n",
    "    if weights.getDimension() != npoints:\n",
    "        raise ValueError(\"The number of nodes and weights must be equal.\")\n",
    "    title = \"n=%d\" % (npoints)\n",
    "    graph = ot.Graph(title, \"Nodes\", \"Weights\", True)\n",
    "    cloud = ot.Cloud(nodes, weights)\n",
    "    cloud.setLegend(r\"$\\alpha_i$\")\n",
    "    graph.add(cloud)\n",
    "    zeros = ot.Sample(len(nodes), 1)\n",
    "    nodes_sample = ot.Sample.BuildFromPoint(nodes)\n",
    "    cloudZeros = ot.Cloud(nodes_sample, zeros)\n",
    "    cloudZeros.setLegend(r\"$x_i$\")\n",
    "    graph.add(cloudZeros)\n",
    "    graph.setColors(ot.Drawable().BuildDefaultPalette(2))\n",
    "    graph.setLegendPosition(\"topright\")\n",
    "    return graph\n",
    "\n",
    "\n",
    "graph = plotNodesAndWeights(nodes, weights)\n",
    "graph.setTitle(\"Gauss-Legendre with n=%d\" % (npoints))\n",
    "view = otv.View(graph, figure_kw={\"figsize\": (4.0, 3.0)})"
   ]
  },
  {
   "cell_type": "markdown",
   "metadata": {},
   "source": [
    "On fait les observations suivantes :\n",
    "- La valeur des poids suit un cercle : la valeur des poids est supérieure au centre du domaine. \n",
    "- La densité de points est plus importante sur les bords du domaine. \n",
    "\n",
    "L'augmentation de densité des noeuds sur les bords du domaine favorise une limitation de l'amplitude du polynôme nodal :\n",
    "$$\n",
    "\\omega_{n + 1}(x) = \\prod_{i = 0}^n (x - x_i)\n",
    "$$\n",
    "pour tout $x \\in [-1, 1]$.\n",
    "En effet, la valeur du polynôme nodale est supérieure sur les bords du domaine, car la valeur de $x$ est plus grande lorsqu'on est proche de $\\pm 1$ et plus petite lorsqu'on est proche de zéro. \n",
    "\n",
    "- D'une part, l'erreur d'interpolation dépend du nombre de noeuds $n + 1$, de la $(n + 1)$-ème dérivée de la fonction et de la valeur du polynôme nodal au point $x$ ((Dahlquist, Björck, 2008), théorème 4.2.3, \"The remainder term for interpolation\", page 361). C'est pourquoi l'amplitude du polynôme nodal devrait être la plus petite possible. Si elle est uniforme sur l'intervalle $[-1, 1]$, alors il est plus facile d'assurer une erreur aussi constante que possible. Si au contraire, l'amplitude du polynôme nodal est faible à certains endroits et élevée dans d'autres zone de l'intervalle, alors l'erreur d'interpolation peut être grande. \n",
    "\n",
    "- D'autre part, l'erreur de quadrature dépend du nombre de noeuds $n + 1$, de la $(2n + 2)$-ème dérivée de la fonction et de la norme $L^2$ du polynôme nodal ((Sullivan, 2015), page 172, théorème 9.12). Par conséquent, on devrait limiter la norme $L^2$ du polynôme nodal: une amplitude plus petite facilite cet objectif.\n",
    "\n",
    "\n",
    "**Réferences**\n",
    "- Dahlquist, G., & Björck, Å. (2008). _\"Numerical methods in scientific computing, Volume I\"_. Society for Industrial and Applied Mathematics.\n",
    "\n",
    "- Sullivan, T. J. (2015). Introduction to uncertainty quantification. Springer.\n"
   ]
  },
  {
   "cell_type": "code",
   "execution_count": 9,
   "metadata": {},
   "outputs": [],
   "source": [
    "class NodePolynomial(ot.OpenTURNSPythonFunction):\n",
    "    def __init__(self, nodes):\n",
    "        super(NodePolynomial, self).__init__(1, 1)\n",
    "        self.nodes = nodes\n",
    "\n",
    "    def _exec(self, x):\n",
    "        value = 1.0\n",
    "        number_of_nodes = self.nodes.getDimension()\n",
    "        for i in range(number_of_nodes):\n",
    "            value *= x[0] - self.nodes[i]\n",
    "        return [value]"
   ]
  },
  {
   "cell_type": "code",
   "execution_count": 10,
   "metadata": {},
   "outputs": [
    {
     "data": {
      "image/png": "[encoded data removed]",
      "text/plain": [
       "<Figure size 288x216 with 1 Axes>"
      ]
     },
     "metadata": {
      "needs_background": "light"
     },
     "output_type": "display_data"
    }
   ],
   "source": [
    "node_polynomial = ot.Function(NodePolynomial(nodes))\n",
    "epsilon = 1.0e-2\n",
    "graph = node_polynomial.draw(-1.0 + epsilon, 1.0 - epsilon, 200)\n",
    "graph.setTitle(\"Node polynomial with Legendre polynomial\")\n",
    "view = otv.View(graph, figure_kw={\"figsize\": (4.0, 3.0)})"
   ]
  },
  {
   "cell_type": "markdown",
   "metadata": {},
   "source": [
    "On observe que l'amplitude du polynôme nodal est presque la même sur tout l'intervalle, avec une faible augmentation aux bords. "
   ]
  },
  {
   "cell_type": "markdown",
   "metadata": {},
   "source": [
    "Comme la densité de probabilité uniforme est constante sur l'intervalle [-1,1], on peut calculer la valeur une fois pour toute, avant la boucle `for`."
   ]
  },
  {
   "cell_type": "code",
   "execution_count": 11,
   "metadata": {},
   "outputs": [
    {
     "data": {
      "text/plain": [
       "0.5"
      ]
     },
     "execution_count": 11,
     "metadata": {},
     "output_type": "execute_result"
    }
   ],
   "source": [
    "f = measure.computePDF(0.0)\n",
    "f"
   ]
  },
  {
   "cell_type": "markdown",
   "metadata": {},
   "source": [
    "On peut réaliser une boucle `for`, dans laquelle on cumule le produit du poid et de la valeur de la fonction."
   ]
  },
  {
   "cell_type": "code",
   "execution_count": 12,
   "metadata": {},
   "outputs": [
    {
     "data": {
      "text/plain": [
       "6.586705045354282"
      ]
     },
     "execution_count": 12,
     "metadata": {},
     "output_type": "execute_result"
    }
   ],
   "source": [
    "I = 0.0\n",
    "for i in range(npoints):\n",
    "    I += weights[i] * g([nodes[i]])[0] / f\n",
    "I"
   ]
  },
  {
   "cell_type": "markdown",
   "metadata": {},
   "source": [
    "Il est plus efficace de vectoriser la somme en l'écrivant sous la forme d'un produit scalaire. Pour cela, on crée la variable `g_values_point` qui est un `Point`. Puisqu'une fonction prend en entrée et en sortie un `Sample`, des conversions sont nécessaires."
   ]
  },
  {
   "cell_type": "code",
   "execution_count": 13,
   "metadata": {},
   "outputs": [],
   "source": [
    "def gauss_quadrature(npoints, g_function, orthogonal_factory):\n",
    "    \"\"\"\n",
    "    Perform Gauss quadrature on [-1, 1]\n",
    "    \n",
    "    Parameters\n",
    "    ----------\n",
    "    npoints : int\n",
    "        The number of nodes\n",
    "    g_function : ot.Function\n",
    "        The integrand. This has a one dimensional input and output.\n",
    "    orthogonal_factory : ot.OrthogonalBasis\n",
    "        The orthogonal basis used for quadrature.\n",
    "    \n",
    "    Returns\n",
    "    -------\n",
    "    I : float\n",
    "        The approximate integral.\n",
    "    \"\"\"\n",
    "    measure = orthogonal_factory.getMeasure()\n",
    "    def weighted_g_function_Py(x):\n",
    "        f_PDF = measure.computePDF(x)\n",
    "        y = g_function(x)[0] / f_PDF\n",
    "        return [y]\n",
    "    weighted_g_function = ot.PythonFunction(1, 1, weighted_g_function_Py)\n",
    "    nodes, weights = orthogonal_factory.getNodesAndWeights(npoints)\n",
    "    nodes_sample = ot.Sample.BuildFromPoint(nodes)\n",
    "    g_values = weighted_g_function(nodes_sample)\n",
    "    g_values_point = g_values.asPoint()\n",
    "    I = weights.dot(g_values_point)\n",
    "    return I"
   ]
  },
  {
   "cell_type": "code",
   "execution_count": 14,
   "metadata": {
    "scrolled": true
   },
   "outputs": [
    {
     "name": "stdout",
     "output_type": "stream",
     "text": [
      "I =  6.5867050453542815\n",
      "Digits =  15.87016799923764\n"
     ]
    }
   ],
   "source": [
    "I = gauss_quadrature(npoints, g, lefa)\n",
    "print(\"I = \", I)\n",
    "print(\"Digits = \", computeDigits(I))"
   ]
  },
  {
   "cell_type": "markdown",
   "metadata": {},
   "source": [
    "On observe que la précision est maximale avec la règle de Gauss-Legendre."
   ]
  },
  {
   "cell_type": "markdown",
   "metadata": {},
   "source": [
    "## Avec les polynômes de Chebyshev"
   ]
  },
  {
   "cell_type": "code",
   "execution_count": 15,
   "metadata": {},
   "outputs": [
    {
     "data": {
      "text/html": [
       "<p>Arcsine(a = -1, b = 1)</p>"
      ],
      "text/plain": [
       "class=Arcsine name=Arcsine dimension=1 a=-1 b=1"
      ]
     },
     "execution_count": 15,
     "metadata": {},
     "output_type": "execute_result"
    }
   ],
   "source": [
    "chefa = ot.ChebychevFactory()\n",
    "\n",
    "measure = chefa.getMeasure()\n",
    "measure"
   ]
  },
  {
   "cell_type": "code",
   "execution_count": 16,
   "metadata": {},
   "outputs": [
    {
     "data": {
      "image/png": "[encoded data removed]",
      "text/plain": [
       "<Figure size 288x216 with 1 Axes>"
      ]
     },
     "metadata": {
      "needs_background": "light"
     },
     "output_type": "display_data"
    }
   ],
   "source": [
    "nodes, weights = chefa.getNodesAndWeights(npoints)\n",
    "\n",
    "graph = plotNodesAndWeights(nodes, weights)\n",
    "graph.setTitle(\"Gauss-Chebyshev with n=%d\" % (npoints))\n",
    "view = otv.View(graph, figure_kw={\"figsize\": (4.0, 3.0)})"
   ]
  },
  {
   "cell_type": "markdown",
   "metadata": {},
   "source": [
    "On observe que la densité des noeuds est supérieure aux bords du domaine. Les poids sont constants sur le domaine. "
   ]
  },
  {
   "cell_type": "code",
   "execution_count": 17,
   "metadata": {},
   "outputs": [
    {
     "name": "stdout",
     "output_type": "stream",
     "text": [
      "I =  6.587813632262344\n",
      "Digits =  3.77389847058422\n"
     ]
    }
   ],
   "source": [
    "I = gauss_quadrature(npoints, g, chefa)\n",
    "print(\"I = \", I)\n",
    "print(\"Digits = \", computeDigits(I))"
   ]
  },
  {
   "cell_type": "markdown",
   "metadata": {},
   "source": [
    "On observe que la précision est moins élevée qu'avec l'intégration par les polynômes de Legendre.\n",
    "\n",
    "Pour comprendre pourquoi, on commence par dessiner la mesure utilisée pour l'intégration. "
   ]
  },
  {
   "cell_type": "code",
   "execution_count": 18,
   "metadata": {},
   "outputs": [
    {
     "data": {
      "image/png": "[encoded data removed]",
      "text/plain": [
       "<Figure size 288x216 with 1 Axes>"
      ]
     },
     "metadata": {
      "needs_background": "light"
     },
     "output_type": "display_data"
    }
   ],
   "source": [
    "graph = measure.drawPDF(-1.0, 1.0, 100)\n",
    "graph.setTitle(\"Distribution ArcSinus\")\n",
    "view = otv.View(graph, figure_kw={\"figsize\": (4.0, 3.0)})"
   ]
  },
  {
   "cell_type": "markdown",
   "metadata": {},
   "source": [
    "On observe que la densité de probabilité ArcSinus est singulière aux bords du domaine. \n",
    "On dessine ensuite la fonction pondérée que nous intégrons. "
   ]
  },
  {
   "cell_type": "code",
   "execution_count": 19,
   "metadata": {},
   "outputs": [
    {
     "data": {
      "image/png": "[encoded data removed]",
      "text/plain": [
       "<Figure size 288x216 with 1 Axes>"
      ]
     },
     "metadata": {
      "needs_background": "light"
     },
     "output_type": "display_data"
    }
   ],
   "source": [
    "def weighted_g_function_Py(x):\n",
    "    f_PDF = measure.computePDF(x)\n",
    "    y = g(x)[0] / f_PDF\n",
    "    return [y]\n",
    "weighted_g_function = ot.PythonFunction(1, 1, weighted_g_function_Py)\n",
    "epsilon = 1.e-7\n",
    "graph = weighted_g_function.draw(-1.0 + epsilon, 1.0 - epsilon, 100)\n",
    "graph.setTitle(\"Intégrande $h$ avec polynôme de Chebychev\")\n",
    "view = otv.View(graph, figure_kw={\"figsize\": (4.0, 3.0)})"
   ]
  },
  {
   "cell_type": "markdown",
   "metadata": {},
   "source": [
    "On obsere qu'il s'agit d'une fonction relativement régulière. Toutefois, il ne s'agit plus d'une fonction polynomiale, puisque nous avons divisé par la densité de probabilité ArcSinus."
   ]
  },
  {
   "cell_type": "code",
   "execution_count": 20,
   "metadata": {},
   "outputs": [
    {
     "data": {
      "image/png": "[encoded data removed]",
      "text/plain": [
       "<Figure size 288x216 with 1 Axes>"
      ]
     },
     "metadata": {
      "needs_background": "light"
     },
     "output_type": "display_data"
    }
   ],
   "source": [
    "node_polynomial = ot.Function(NodePolynomial(nodes))\n",
    "epsilon = 1.0e-2\n",
    "graph = node_polynomial.draw(-1.0 + epsilon, 1.0 - epsilon, 200)\n",
    "graph.setTitle(\"Node polynomial. Polynôme de Chebyshev.\")\n",
    "view = otv.View(graph, figure_kw={\"figsize\": (4.0, 3.0)})"
   ]
  },
  {
   "cell_type": "markdown",
   "metadata": {},
   "source": [
    "On observe que l'amplitude du polynôme nodal est strictement constante sur l'intervalle $[-1,1]$. C'est une propriété caractéristique de ce polynôme, qui diminue son erreur d'interpolation. "
   ]
  },
  {
   "cell_type": "markdown",
   "metadata": {},
   "source": [
    "## Avec les polynômes de Jacobi"
   ]
  },
  {
   "cell_type": "code",
   "execution_count": 21,
   "metadata": {},
   "outputs": [
    {
     "data": {
      "text/html": [
       "<p>Beta(alpha = 2, beta = 2, a = -1, b = 1)</p>"
      ],
      "text/plain": [
       "class=Beta name=Beta dimension=1 alpha=2 beta=2 a=-1 b=1"
      ]
     },
     "execution_count": 21,
     "metadata": {},
     "output_type": "execute_result"
    }
   ],
   "source": [
    "jafa = ot.JacobiFactory()\n",
    "\n",
    "measure = jafa.getMeasure()\n",
    "measure"
   ]
  },
  {
   "cell_type": "code",
   "execution_count": 22,
   "metadata": {},
   "outputs": [
    {
     "data": {
      "image/png": "[encoded data removed]",
      "text/plain": [
       "<Figure size 288x216 with 1 Axes>"
      ]
     },
     "metadata": {
      "needs_background": "light"
     },
     "output_type": "display_data"
    }
   ],
   "source": [
    "nodes, weights = jafa.getNodesAndWeights(npoints)\n",
    "\n",
    "graph = plotNodesAndWeights(nodes, weights)\n",
    "graph.setTitle(\"Gauss-Jacobi. n=%d\" % (npoints))\n",
    "view = otv.View(graph, figure_kw={\"figsize\": (4.0, 3.0)})"
   ]
  },
  {
   "cell_type": "markdown",
   "metadata": {},
   "source": [
    "On observe que la densité des noeuds est supérieure aux bords du domaine. Les poids ne sont pas constants sur le domaine : la valeur des poids est supérieure au centre du domaine. "
   ]
  },
  {
   "cell_type": "code",
   "execution_count": 23,
   "metadata": {},
   "outputs": [
    {
     "name": "stdout",
     "output_type": "stream",
     "text": [
      "I =  6.581621853735014\n",
      "Digits =  3.1125317345825545\n"
     ]
    }
   ],
   "source": [
    "I = gauss_quadrature(npoints, g, jafa)\n",
    "print(\"I = \", I)\n",
    "print(\"Digits = \", computeDigits(I))"
   ]
  },
  {
   "cell_type": "markdown",
   "metadata": {},
   "source": [
    "On observe que la précision est moins élevée qu'avec l'intégration par les polynômes de Legendre.\n",
    "\n",
    "Pour comprendre pourquoi, on commence par dessiner la mesure utilisée pour l'intégration. "
   ]
  },
  {
   "cell_type": "code",
   "execution_count": 24,
   "metadata": {},
   "outputs": [
    {
     "data": {
      "image/png": "[encoded data removed]",
      "text/plain": [
       "<Figure size 288x216 with 1 Axes>"
      ]
     },
     "metadata": {
      "needs_background": "light"
     },
     "output_type": "display_data"
    }
   ],
   "source": [
    "graph = measure.drawPDF(-1.0, 1.0, 100)\n",
    "graph.setTitle(\"Distribution Beta.\")\n",
    "view = otv.View(graph, figure_kw={\"figsize\": (4.0, 3.0)})"
   ]
  },
  {
   "cell_type": "markdown",
   "metadata": {},
   "source": [
    "On observe que la densité de probabilité Beta est nulle aux bords du domaine. \n",
    "On dessine ensuite la fonction pondérée que nous intégrons. "
   ]
  },
  {
   "cell_type": "code",
   "execution_count": 25,
   "metadata": {},
   "outputs": [
    {
     "data": {
      "image/png": "[encoded data removed]",
      "text/plain": [
       "<Figure size 288x216 with 1 Axes>"
      ]
     },
     "metadata": {
      "needs_background": "light"
     },
     "output_type": "display_data"
    }
   ],
   "source": [
    "def weighted_g_function_Py(x):\n",
    "    f_PDF = measure.computePDF(x)\n",
    "    y = g(x)[0] / f_PDF\n",
    "    return [y]\n",
    "weighted_g_function = ot.PythonFunction(1, 1, weighted_g_function_Py)\n",
    "epsilon = 1.e-1\n",
    "graph = weighted_g_function.draw(-1.0 + epsilon, 1.0 - epsilon, 100)\n",
    "graph.setTitle(\"Intégrande $h$ avec polynôme de Jacobi\")\n",
    "view = otv.View(graph, figure_kw={\"figsize\": (4.0, 3.0)})"
   ]
  },
  {
   "cell_type": "markdown",
   "metadata": {},
   "source": [
    "On observe qu'il s'agit d'une fonction relativement régulière au centre du domaine, mais singulière aux bords. Toutefois, il ne s'agit plus d'une fonction polynomiale, puisque nous avons divisé par la densité de probabilité ArcSinus."
   ]
  },
  {
   "cell_type": "markdown",
   "metadata": {},
   "source": [
    "## Conclusion\n",
    "\n",
    "On observe que les règles de quadrature de Gauss ont des performances différentes en fonction de la base polynomiale utilisée pour la générer.\n",
    "\n",
    "| Règle | Integrale | Chiffres décimaux corrects |\n",
    "|---|---|---|\n",
    "| Exact | 6.586705045354282 | - |\n",
    "| Gauss-Legendre | 6.586705045354282 | 15 |\n",
    "| Gauss-Chebyshev | 6.587813632262346 | 3.7 |\n",
    "| Gauss-Jacobi | 6.581621853735013 | 3.1 |\n",
    "\n",
    "De toute évidence, c'est la règle de Gauss-Legendre qui est la plus précise dans ce cas particulier. Bien sûr, l'intégrande considérée se prête mieux à une intégration avec une distribution uniforme. En effet, la division par la densité de probabilité artificiellement introduite pour rentrer dans le cadre de la quadrature de Gauss ne favorise pas la convergence.\n",
    "\n",
    "Pour analyser plus en profondeur la vitesse de convergence des trois méthodes, nous pourrions observer l'évolution de l'erreur absolue en fonction du nombre de points. Pour compléter l'analyse, on pourrait observer la décroissance de la fonction $h$ dans sa décomposition au sein de chaque famille de polynômes orthogonaux. Enfin, pour comprendre la vitesse de convergence, on pourrait analyser le rayon de l'ellipse du plan complexe dans laquelle la fonction $h$ est analytique, à la manière de (Gautschi, 2012) page 82.\n",
    "\n",
    "Gautschi, W. (2012). Numerical analysis 2nd edition. Birkhaüser. Springer Science. "
   ]
  },
  {
   "cell_type": "markdown",
   "metadata": {},
   "source": [
    "## Polynôme nodal dans le cas équidistant\n",
    "\n",
    "Pour observer l'influence de la distribution des noeuds sur la valeur du polynôme nodal, on considère une grille régulière. "
   ]
  },
  {
   "cell_type": "code",
   "execution_count": 26,
   "metadata": {},
   "outputs": [
    {
     "data": {
      "text/html": [
       "<p>[-1,-0.959184,-0.918367,-0.877551,-0.836735,-0.795918,-0.755102,-0.714286,-0.673469,-0.632653,-0.591837,-0.55102,-0.510204,-0.469388,-0.428571,-0.387755,-0.346939,-0.306122,-0.265306,-0.22449,-0.183673,-0.142857,-0.102041,-0.0612245,-0.0204082,0.0204082,0.0612245,0.102041,0.142857,0.183673,0.22449,0.265306,0.306122,0.346939,0.387755,0.428571,0.469388,0.510204,0.55102,0.591837,0.632653,0.673469,0.714286,0.755102,0.795918,0.836735,0.877551,0.918367,0.959184,1]#50</p>"
      ],
      "text/plain": [
       "class=Point name=Unnamed dimension=50 values=[-1,-0.959184,-0.918367,-0.877551,-0.836735,-0.795918,-0.755102,-0.714286,-0.673469,-0.632653,-0.591837,-0.55102,-0.510204,-0.469388,-0.428571,-0.387755,-0.346939,-0.306122,-0.265306,-0.22449,-0.183673,-0.142857,-0.102041,-0.0612245,-0.0204082,0.0204082,0.0612245,0.102041,0.142857,0.183673,0.22449,0.265306,0.306122,0.346939,0.387755,0.428571,0.469388,0.510204,0.55102,0.591837,0.632653,0.673469,0.714286,0.755102,0.795918,0.836735,0.877551,0.918367,0.959184,1]"
      ]
     },
     "execution_count": 26,
     "metadata": {},
     "output_type": "execute_result"
    }
   ],
   "source": [
    "number_of_nodes = 50\n",
    "nodes_array = np.linspace(-1.0, 1.0, number_of_nodes)\n",
    "nodes = ot.Point(nodes_array)\n",
    "nodes"
   ]
  },
  {
   "cell_type": "code",
   "execution_count": 27,
   "metadata": {},
   "outputs": [
    {
     "data": {
      "image/png": "[encoded data removed]",
      "text/plain": [
       "<Figure size 288x216 with 1 Axes>"
      ]
     },
     "metadata": {
      "needs_background": "light"
     },
     "output_type": "display_data"
    }
   ],
   "source": [
    "node_polynomial = ot.Function(NodePolynomial(nodes))\n",
    "epsilon = 1.0e-2\n",
    "graph = node_polynomial.draw(-1.0 + epsilon, 1.0 - epsilon, 200)\n",
    "graph.setTitle(\"Node polynomial, with regular grid\")\n",
    "y_max = 1.e-11\n",
    "graph.setBoundingBox(ot.Interval([-1.0, -y_max], [1.0, y_max]))\n",
    "view = otv.View(graph, figure_kw={\"figsize\": (4.0, 3.0)})"
   ]
  },
  {
   "cell_type": "markdown",
   "metadata": {},
   "source": [
    "On observe que l'amplitude du polynôme nodal augmente considérablement sur les bords de l'intervalle $[-1, 1]$."
   ]
  }
 ],
 "metadata": {
  "kernelspec": {
   "display_name": "Python 3 (ipykernel)",
   "language": "python",
   "name": "python3"
  },
  "language_info": {
   "codemirror_mode": {
    "name": "ipython",
    "version": 3
   },
   "file_extension": ".py",
   "mimetype": "text/x-python",
   "name": "python",
   "nbconvert_exporter": "python",
   "pygments_lexer": "ipython3",
   "version": "3.10.0"
  }
 },
 "nbformat": 4,
 "nbformat_minor": 2
}
