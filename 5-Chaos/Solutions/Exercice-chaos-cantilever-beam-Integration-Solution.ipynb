{
 "cells": [
  {
   "cell_type": "markdown",
   "metadata": {},
   "source": [
    "# Polynômes de chaos : application au cas de la poutre encastrée avec chaos par intégration - Solution"
   ]
  },
  {
   "cell_type": "code",
   "execution_count": 1,
   "metadata": {},
   "outputs": [],
   "source": [
    "import openturns as ot\n",
    "import openturns.viewer as otv"
   ]
  },
  {
   "cell_type": "code",
   "execution_count": 2,
   "metadata": {},
   "outputs": [],
   "source": [
    "dist_E = ot.Beta(0.9, 2.2, 2.8e7, 4.8e7)\n",
    "dist_E.setDescription([\"E\"])\n",
    "F_para = ot.LogNormalMuSigma(3.0e4, 9.0e3, 15.0e3)  # in N\n",
    "dist_F = ot.ParametrizedDistribution(F_para)\n",
    "dist_F.setDescription([\"F\"])\n",
    "dist_L = ot.Uniform(250.0, 260.0)  # in cm\n",
    "dist_L.setDescription([\"L\"])\n",
    "dist_I = ot.Beta(2.5, 1.5, 310.0, 450.0)  # in cm^4\n",
    "dist_I.setDescription([\"I\"])\n",
    "\n",
    "myDistribution = ot.ComposedDistribution([dist_E, dist_F, dist_L, dist_I])\n",
    "\n",
    "dim_input = 4  # dimension of the input\n",
    "dim_output = 1  # dimension of the output\n",
    "\n",
    "\n",
    "def function_beam(X):\n",
    "    E, F, L, I = X\n",
    "    Y = F * (L ** 3) / (3 * E * I)\n",
    "    return [Y]\n",
    "\n",
    "\n",
    "g = ot.PythonFunction(dim_input, dim_output, function_beam)\n",
    "g.setInputDescription(myDistribution.getDescription())"
   ]
  },
  {
   "cell_type": "markdown",
   "metadata": {},
   "source": [
    "## Créer le polynôme"
   ]
  },
  {
   "cell_type": "markdown",
   "metadata": {},
   "source": [
    "On crée la base polynomiale multivariée par tensorisation de polynômes univariés avec la règle d'énumération linéaire par défaut."
   ]
  },
  {
   "cell_type": "code",
   "execution_count": 3,
   "metadata": {},
   "outputs": [],
   "source": [
    "multivariateBasis = ot.OrthogonalProductPolynomialFactory(\n",
    "    [dist_E, dist_F, dist_L, dist_I]\n",
    ")"
   ]
  },
  {
   "cell_type": "code",
   "execution_count": 4,
   "metadata": {},
   "outputs": [
    {
     "data": {
      "text/html": [
       "<p>class=FixedStrategy derived from class=AdaptiveStrategyImplementation maximumDimension=126</p>"
      ],
      "text/plain": [
       "class=FixedStrategy derived from class=AdaptiveStrategyImplementation maximumDimension=126"
      ]
     },
     "execution_count": 4,
     "metadata": {},
     "output_type": "execute_result"
    }
   ],
   "source": [
    "totalDegree = 5\n",
    "enumerateFunction = multivariateBasis.getEnumerateFunction()\n",
    "strataIndex = enumerateFunction.getMaximumDegreeStrataIndex(totalDegree)\n",
    "maximumBasisSize = enumerateFunction.getStrataCumulatedCardinal(strataIndex)\n",
    "adaptiveStrategy = ot.FixedStrategy(multivariateBasis, maximumBasisSize)\n",
    "adaptiveStrategy"
   ]
  },
  {
   "cell_type": "code",
   "execution_count": 5,
   "metadata": {},
   "outputs": [
    {
     "data": {
      "text/html": [
       "<p>ComposedDistribution(Beta(alpha = 0.9, beta = 2.2, a = -1, b = 1), LogNormal(muLog = 9.46206, sigmaLog = 0.554513, gamma = 0), Uniform(a = -1, b = 1), Beta(alpha = 2.5, beta = 1.5, a = -1, b = 1), IndependentCopula(dimension = 4))</p>"
      ],
      "text/plain": [
       "class=ComposedDistribution name=ComposedDistribution dimension=4 copula=class=IndependentCopula name=IndependentCopula dimension=4 marginal[0]=class=Beta name=Beta dimension=1 alpha=0.9 beta=2.2 a=-1 b=1 marginal[1]=class=LogNormal name=LogNormal dimension=1 muLog=9.46206 sigmaLog=0.554513 gamma=0 marginal[2]=class=Uniform name=Uniform dimension=1 a=-1 b=1 marginal[3]=class=Beta name=Beta dimension=1 alpha=2.5 beta=1.5 a=-1 b=1"
      ]
     },
     "execution_count": 5,
     "metadata": {},
     "output_type": "execute_result"
    }
   ],
   "source": [
    "distributionStandard = multivariateBasis.getMeasure()\n",
    "distributionStandard"
   ]
  },
  {
   "cell_type": "code",
   "execution_count": 6,
   "metadata": {},
   "outputs": [
    {
     "data": {
      "text/plain": [
       "256"
      ]
     },
     "execution_count": 6,
     "metadata": {},
     "output_type": "execute_result"
    }
   ],
   "source": [
    "marginalSize = [4] * dim_input\n",
    "experiment = ot.GaussProductExperiment(distributionStandard, marginalSize)\n",
    "\n",
    "experiment.generate().getSize()"
   ]
  },
  {
   "cell_type": "code",
   "execution_count": 7,
   "metadata": {},
   "outputs": [],
   "source": [
    "projectionStrategy = ot.IntegrationStrategy(experiment)\n",
    "\n",
    "chaosalgo = ot.FunctionalChaosAlgorithm(\n",
    "    g, myDistribution, adaptiveStrategy, projectionStrategy\n",
    ")\n",
    "chaosalgo.run()\n",
    "\n",
    "result = chaosalgo.getResult()\n",
    "\n",
    "metamodel = result.getMetaModel()"
   ]
  },
  {
   "cell_type": "markdown",
   "metadata": {},
   "source": [
    "## Validate the metamodel"
   ]
  },
  {
   "cell_type": "code",
   "execution_count": 8,
   "metadata": {},
   "outputs": [],
   "source": [
    "n_valid = 1000\n",
    "inputTest = myDistribution.getSample(n_valid)\n",
    "outputTest = g(inputTest)"
   ]
  },
  {
   "cell_type": "markdown",
   "metadata": {},
   "source": [
    "La classe `MetaModelValidation` permet de valider le métamodèle sur une base de validation."
   ]
  },
  {
   "cell_type": "code",
   "execution_count": 9,
   "metadata": {},
   "outputs": [],
   "source": [
    "val = ot.MetaModelValidation(inputTest, outputTest, metamodel)"
   ]
  },
  {
   "cell_type": "markdown",
   "metadata": {},
   "source": [
    "Compute the $Q^2$ predictivity coefficient"
   ]
  },
  {
   "cell_type": "code",
   "execution_count": 10,
   "metadata": {},
   "outputs": [
    {
     "data": {
      "text/plain": [
       "0.9999575691056145"
      ]
     },
     "execution_count": 10,
     "metadata": {},
     "output_type": "execute_result"
    }
   ],
   "source": [
    "Q2 = val.computePredictivityFactor()[0]\n",
    "Q2"
   ]
  },
  {
   "cell_type": "markdown",
   "metadata": {},
   "source": [
    "Plot the observed versus the predicted outputs."
   ]
  },
  {
   "cell_type": "code",
   "execution_count": 11,
   "metadata": {
    "scrolled": true
   },
   "outputs": [
    {
     "name": "stderr",
     "output_type": "stream",
     "text": [
      "/home/devel/miniconda3/envs/otsupgalilee/lib/python3.8/site-packages/numpy/core/getlimits.py:499: UserWarning: The value of the smallest subnormal for <class 'numpy.float64'> type is zero.\n",
      "  setattr(self, word, getattr(machar, word).flat[0])\n",
      "/home/devel/miniconda3/envs/otsupgalilee/lib/python3.8/site-packages/numpy/core/getlimits.py:89: UserWarning: The value of the smallest subnormal for <class 'numpy.float64'> type is zero.\n",
      "  return self._float_to_str(self.smallest_subnormal)\n"
     ]
    },
    {
     "data": {
      "image/png": "[encoded data removed]",
      "text/plain": [
       "<Figure size 288x216 with 1 Axes>"
      ]
     },
     "metadata": {
      "needs_background": "light"
     },
     "output_type": "display_data"
    }
   ],
   "source": [
    "graph = val.drawValidation()\n",
    "graph.setTitle(\"Q2=%.2f%%\" % (Q2 * 100))\n",
    "view = otv.View(graph, figure_kw={\"figsize\": (4.0, 3.0)})"
   ]
  },
  {
   "cell_type": "markdown",
   "metadata": {},
   "source": [
    "On observe que les coefficients sont relativement bien estimés puisque le Q2 est excellent (parfait ?), malgré un nombre de points relativement réduit dans le plan d'expériences (256 points)."
   ]
  },
  {
   "cell_type": "markdown",
   "metadata": {},
   "source": [
    "## Solution de l'exercice 1 : changer de méthode de quadrature\n"
   ]
  },
  {
   "cell_type": "code",
   "execution_count": 20,
   "metadata": {},
   "outputs": [],
   "source": [
    "def ComputeFullIntegrationChaos(\n",
    "    g_function, multivariateBasis, totalDegree, myDistribution, experiment\n",
    "):\n",
    "    \"\"\"\n",
    "    Create a full polynomial chaos with integration based on Gaussian quadrature.\n",
    "\n",
    "    * Uses the enumeration rule from multivariateBasis.\n",
    "    * Uses IntegrationStrategy to compute the coefficients using\n",
    "    integration.\n",
    "    * Uses FixedStrategy to keep all coefficients.\n",
    "\n",
    "    When the number of input variables\n",
    "    or the required marginal degree is large, the design of experiments is\n",
    "    very large.\n",
    "\n",
    "    Parameters\n",
    "    ----------\n",
    "    g_function : ot.Function\n",
    "        The function to create the metamodel from.\n",
    "    multivariateBasis : ot.Basis\n",
    "        The multivariate orthogonal polynomial basis\n",
    "    totalDegree : int\n",
    "        The total polynomial degree.\n",
    "        The total degree is the sum of the marginal degrees.\n",
    "    myDistribution : ot.Distribution\n",
    "        The distribution of the input random vector\n",
    "    experiment : ot.WeightedExperiment\n",
    "        The design of experiment for quadrature\n",
    "\n",
    "    Returns\n",
    "    -------\n",
    "    result : ot.FunctionalChaosResult\n",
    "        The polynomial chaos result\n",
    "    \"\"\"\n",
    "    enumerateFunction = multivariateBasis.getEnumerateFunction()\n",
    "    strataIndex = enumerateFunction.getMaximumDegreeStrataIndex(totalDegree)\n",
    "    maximumBasisSize = enumerateFunction.getStrataCumulatedCardinal(strataIndex)\n",
    "    adaptiveStrategy = ot.FixedStrategy(multivariateBasis, maximumBasisSize)\n",
    "    projectionStrategy = ot.IntegrationStrategy(experiment)\n",
    "    chaosalgo = ot.FunctionalChaosAlgorithm(\n",
    "        g_function, myDistribution, adaptiveStrategy, projectionStrategy\n",
    "    )\n",
    "    return chaosalgo"
   ]
  },
  {
   "cell_type": "code",
   "execution_count": 21,
   "metadata": {},
   "outputs": [],
   "source": [
    "def computeChaosAndValidate(\n",
    "    totalDegree,\n",
    "    g_function,\n",
    "    multivariateBasis,\n",
    "    myDistribution,\n",
    "    experiment,\n",
    "    sampleSizeValidation,\n",
    "):\n",
    "    chaosalgo = ComputeFullIntegrationChaos(\n",
    "        g_function, multivariateBasis, totalDegree, myDistribution, experiment\n",
    "    )\n",
    "    chaosalgo.run()\n",
    "    result = chaosalgo.getResult()\n",
    "    metamodel = result.getMetaModel()\n",
    "\n",
    "    inputTest = myDistribution.getSample(sampleSizeValidation)\n",
    "    outputTest = g(inputTest)\n",
    "\n",
    "    val = ot.MetaModelValidation(inputTest, outputTest, metamodel)\n",
    "    Q2 = val.computePredictivityFactor()[0]\n",
    "    print(\"Q2=%.2f%%\" % (Q2 * 100))\n",
    "    return"
   ]
  },
  {
   "cell_type": "code",
   "execution_count": 23,
   "metadata": {},
   "outputs": [
    {
     "name": "stdout",
     "output_type": "stream",
     "text": [
      "Q2=100.00%\n"
     ]
    }
   ],
   "source": [
    "totalDegree = 5\n",
    "marginalSize = [4] * dim_input\n",
    "experiment = ot.GaussProductExperiment(distributionStandard, marginalSize)\n",
    "sampleSizeValidation = 1000\n",
    "computeChaosAndValidate(\n",
    "    totalDegree, g, multivariateBasis, myDistribution, experiment, sampleSizeValidation\n",
    ")"
   ]
  },
  {
   "cell_type": "code",
   "execution_count": 31,
   "metadata": {},
   "outputs": [
    {
     "name": "stdout",
     "output_type": "stream",
     "text": [
      "Q2=96.70%\n"
     ]
    }
   ],
   "source": [
    "totalDegree = 2\n",
    "size = 10000\n",
    "experiment = ot.MonteCarloExperiment(distributionStandard, size)\n",
    "sampleSizeValidation = 1000\n",
    "computeChaosAndValidate(\n",
    "    totalDegree, g, multivariateBasis, myDistribution, experiment, sampleSizeValidation\n",
    ")"
   ]
  },
  {
   "cell_type": "code",
   "execution_count": 38,
   "metadata": {},
   "outputs": [
    {
     "name": "stdout",
     "output_type": "stream",
     "text": [
      "Q2=99.02%\n"
     ]
    }
   ],
   "source": [
    "totalDegree = 3\n",
    "size = 10000\n",
    "sequence = ot.SobolSequence()\n",
    "experiment = ot.LowDiscrepancyExperiment(sequence, distributionStandard, size)\n",
    "sampleSizeValidation = 1000\n",
    "computeChaosAndValidate(\n",
    "    totalDegree, g, multivariateBasis, myDistribution, experiment, sampleSizeValidation\n",
    ")"
   ]
  },
  {
   "cell_type": "markdown",
   "metadata": {},
   "source": [
    "## Solution de l'exercice 2"
   ]
  },
  {
   "cell_type": "code",
   "execution_count": 17,
   "metadata": {},
   "outputs": [
    {
     "data": {
      "image/png": "[encoded data removed]",
      "text/plain": [
       "<Figure size 360x360 with 6 Axes>"
      ]
     },
     "metadata": {
      "needs_background": "light"
     },
     "output_type": "display_data"
    }
   ],
   "source": [
    "size = 50\n",
    "experiment = ot.MonteCarloExperiment(distributionStandard, size)\n",
    "sample = experiment.generate()\n",
    "graph = ot.VisualTest.DrawPairs(sample)\n",
    "view = otv.View(graph, figure_kw={\"figsize\": (5.0, 5.0)})"
   ]
  },
  {
   "cell_type": "code",
   "execution_count": 18,
   "metadata": {},
   "outputs": [
    {
     "data": {
      "image/png": "[encoded data removed]",
      "text/plain": [
       "<Figure size 360x360 with 6 Axes>"
      ]
     },
     "metadata": {
      "needs_background": "light"
     },
     "output_type": "display_data"
    }
   ],
   "source": [
    "marginalSize = [6] * dim_input\n",
    "experiment = ot.GaussProductExperiment(distributionStandard, marginalSize)\n",
    "sample = experiment.generate()\n",
    "graph = ot.VisualTest.DrawPairs(sample)\n",
    "view = otv.View(graph, figure_kw={\"figsize\": (5.0, 5.0)})"
   ]
  },
  {
   "cell_type": "code",
   "execution_count": 19,
   "metadata": {},
   "outputs": [
    {
     "data": {
      "image/png": "[encoded data removed]",
      "text/plain": [
       "<Figure size 360x360 with 6 Axes>"
      ]
     },
     "metadata": {
      "needs_background": "light"
     },
     "output_type": "display_data"
    }
   ],
   "source": [
    "size = 56\n",
    "sequence = ot.SobolSequence()\n",
    "experiment = ot.LowDiscrepancyExperiment(sequence, distributionStandard, size, True)\n",
    "sample = experiment.generate()\n",
    "graph = ot.VisualTest.DrawPairs(sample)\n",
    "view = otv.View(graph, figure_kw={\"figsize\": (5.0, 5.0)})"
   ]
  },
  {
   "cell_type": "code",
   "execution_count": null,
   "metadata": {},
   "outputs": [],
   "source": []
  }
 ],
 "metadata": {
  "kernelspec": {
   "display_name": "Python 3",
   "language": "python",
   "name": "python3"
  },
  "language_info": {
   "codemirror_mode": {
    "name": "ipython",
    "version": 3
   },
   "file_extension": ".py",
   "mimetype": "text/x-python",
   "name": "python",
   "nbconvert_exporter": "python",
   "pygments_lexer": "ipython3",
   "version": "3.8.10"
  }
 },
 "nbformat": 4,
 "nbformat_minor": 1
}
