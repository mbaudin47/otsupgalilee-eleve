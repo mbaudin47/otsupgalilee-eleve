{
 "cells": [
  {
   "cell_type": "markdown",
   "metadata": {},
   "source": [
    "# Polynômes multivariés : application au cas de la déviation verticale de la poutre encastrée"
   ]
  },
  {
   "cell_type": "markdown",
   "metadata": {},
   "source": [
    "## Références\n",
    "\n",
    "* http://openturns.github.io/openturns/master/theory/meta_modeling/chaos_basis.html\n",
    "* http://openturns.github.io/openturns/master/theory/meta_modeling/orthorgonal_polynomials.html\n",
    "* http://openturns.github.io/openturns/master/user_manual/_generated/openturns.LinearEnumerateFunction.html\n",
    "* http://openturns.github.io/openturns/master/user_manual/_generated/openturns.HyperbolicAnisotropicEnumerateFunction.html"
   ]
  },
  {
   "cell_type": "markdown",
   "metadata": {},
   "source": [
    "## Définir des polyômes multivariés\n",
    "\n",
    "Dans cette partie, nous allons voir comment définir des polynômes multivariés à partir d'un vecteur aléatoire dont les marginales sont indépendantes. \n",
    "Pour commencer, nous devons définir les lois de distributions des variables aléatoires. "
   ]
  },
  {
   "cell_type": "code",
   "execution_count": 1,
   "metadata": {},
   "outputs": [],
   "source": [
    "import openturns as ot\n",
    "import openturns.viewer as otv\n",
    "import pylab as pl\n",
    "from matplotlib.ticker import MaxNLocator\n",
    "from SuperEnumerateFunction import SuperEnumerateFunction"
   ]
  },
  {
   "cell_type": "code",
   "execution_count": 2,
   "metadata": {},
   "outputs": [],
   "source": [
    "dist_E = ot.Beta(0.9, 2.2, 2.8e7, 4.8e7)\n",
    "F_para = ot.LogNormalMuSigma(3.0e4, 9.0e3, 15.0e3)  # in N\n",
    "dist_F = ot.ParametrizedDistribution(F_para)\n",
    "dist_L = ot.Uniform(250.0, 260.0)  # in cm\n",
    "dist_I = ot.Beta(2.5, 1.5, 310.0, 450.0)"
   ]
  },
  {
   "cell_type": "markdown",
   "metadata": {},
   "source": [
    "La classe `OrthogonalProductPolynomialFactory` permet de définir une famille de polynômes multivariés."
   ]
  },
  {
   "cell_type": "code",
   "execution_count": 3,
   "metadata": {},
   "outputs": [],
   "source": [
    "multivariateBasis = ot.OrthogonalProductPolynomialFactory(\n",
    "    [dist_E, dist_F, dist_L, dist_I]\n",
    ")"
   ]
  },
  {
   "cell_type": "markdown",
   "metadata": {},
   "source": [
    "La méthode `getEnumerateFunction` permet d'obtenir la règle d'énumération des polynômes multivariés. Par défaut, c'est la règle linéaire qui est utilisée."
   ]
  },
  {
   "cell_type": "code",
   "execution_count": 4,
   "metadata": {
    "scrolled": true
   },
   "outputs": [
    {
     "data": {
      "text/html": [
       "<p>class=LinearEnumerateFunction dimension=4</p>"
      ],
      "text/plain": [
       "class=LinearEnumerateFunction dimension=4"
      ]
     },
     "execution_count": 4,
     "metadata": {},
     "output_type": "execute_result"
    }
   ],
   "source": [
    "enumfunc = multivariateBasis.getEnumerateFunction()\n",
    "enumfunc"
   ]
  },
  {
   "cell_type": "markdown",
   "metadata": {},
   "source": [
    "La méthode `getStrataCumulatedCardinal` permet d'obtenir le nombre de multi-indices de degré total inférieur ou égal au degré donné."
   ]
  },
  {
   "cell_type": "code",
   "execution_count": 5,
   "metadata": {},
   "outputs": [
    {
     "data": {
      "text/plain": [
       "35"
      ]
     },
     "execution_count": 5,
     "metadata": {},
     "output_type": "execute_result"
    }
   ],
   "source": [
    "totalDegree = 3\n",
    "P = enumfunc.getStrataCumulatedCardinal(totalDegree)\n",
    "P"
   ]
  },
  {
   "cell_type": "markdown",
   "metadata": {},
   "source": [
    "Dans la boucle suivante, on fait une boucle sur tous les polynômes de degré total inférieur ou égal à 3. Pour chaque polynôme, on évalue la règle d'énumération pour obtenir le multi-indice associé. "
   ]
  },
  {
   "cell_type": "code",
   "execution_count": 6,
   "metadata": {
    "scrolled": true
   },
   "outputs": [
    {
     "name": "stdout",
     "output_type": "stream",
     "text": [
      "#  Degree  Multiindex\n",
      "#0 0       [0,0,0,0]\n",
      "#1 1       [1,0,0,0]\n",
      "#2 1       [0,1,0,0]\n",
      "#3 1       [0,0,1,0]\n",
      "#4 1       [0,0,0,1]\n",
      "#5 2       [2,0,0,0]\n",
      "#6 2       [1,1,0,0]\n",
      "#7 2       [1,0,1,0]\n",
      "#8 2       [1,0,0,1]\n",
      "#9 2       [0,2,0,0]\n",
      "#10 2       [0,1,1,0]\n",
      "#11 2       [0,1,0,1]\n",
      "#12 2       [0,0,2,0]\n",
      "#13 2       [0,0,1,1]\n",
      "#14 2       [0,0,0,2]\n",
      "#15 3       [3,0,0,0]\n",
      "#16 3       [2,1,0,0]\n",
      "#17 3       [2,0,1,0]\n",
      "#18 3       [2,0,0,1]\n",
      "#19 3       [1,2,0,0]\n",
      "#20 3       [1,1,1,0]\n",
      "#21 3       [1,1,0,1]\n",
      "#22 3       [1,0,2,0]\n",
      "#23 3       [1,0,1,1]\n",
      "#24 3       [1,0,0,2]\n",
      "#25 3       [0,3,0,0]\n",
      "#26 3       [0,2,1,0]\n",
      "#27 3       [0,2,0,1]\n",
      "#28 3       [0,1,2,0]\n",
      "#29 3       [0,1,1,1]\n",
      "#30 3       [0,1,0,2]\n",
      "#31 3       [0,0,3,0]\n",
      "#32 3       [0,0,2,1]\n",
      "#33 3       [0,0,1,2]\n",
      "#34 3       [0,0,0,3]\n"
     ]
    }
   ],
   "source": [
    "print(\"#  Degree  Multiindex\")\n",
    "for i in range(P):\n",
    "    multiindex = enumfunc(i)\n",
    "    degree = sum(multiindex)\n",
    "    print(\"#%d %s %15s\" % (i, degree, multiindex))"
   ]
  },
  {
   "cell_type": "markdown",
   "metadata": {},
   "source": [
    "## Exercices"
   ]
  },
  {
   "cell_type": "markdown",
   "metadata": {},
   "source": [
    "## Solution de l'exercice 1 : règle d'énumération linéaire"
   ]
  },
  {
   "cell_type": "code",
   "execution_count": 7,
   "metadata": {},
   "outputs": [
    {
     "data": {
      "text/html": [
       "<p>[1,0,2,1]</p>"
      ],
      "text/plain": [
       "[1,0,2,1]"
      ]
     },
     "execution_count": 7,
     "metadata": {},
     "output_type": "execute_result"
    }
   ],
   "source": [
    "enumfunc = multivariateBasis.getEnumerateFunction()\n",
    "multiindex = enumfunc(52)\n",
    "multiindex"
   ]
  },
  {
   "cell_type": "markdown",
   "metadata": {},
   "source": [
    "On note :\n",
    "* $\\xi_E$ la variable aléatoire standard associée à la variable physique $E$ par la transformation $\\xi_E = T_E(E)$,\n",
    "* $\\xi_F$ la variable aléatoire standard associée à la variable physique $F$ par la transformation $\\xi_F = T_F(F)$,\n",
    "* $\\xi_L$ la variable aléatoire standard associée à la variable physique $L$ par la transformation $\\xi_L = T_L(L)$,\n",
    "* $\\xi_I$ la variable aléatoire standard associée à la variable physique $I$ par la transformation $\\xi_I = T_I(I)$.\n",
    "\n",
    "Le multi-indice précédent est associé \n",
    "* au polynôme de Jacobi $J_1$ degré 1 en $\\xi_E$,\n",
    "* au polynôme orthogonal associé à la loi log-normale de degré 0 en $\\xi_F$,\n",
    "* au polynôme de Legendre $L_2$ de degré 2 en $\\xi_L$,\n",
    "* au polynôme de Jacobi $J_1$ de degré 1 en $\\xi_I$.\n",
    "\n",
    "Le polynôme multivarié $\\psi_\\alpha$ est donc :\n",
    "$$\n",
    "\\psi_\\alpha(\\xi) = J_1(\\xi_E) \\times \\pi^F_0 (\\xi_F) \\times L_2 (\\xi_L) \\times J_1(\\xi_I)\n",
    "$$\n",
    "pour tout $\\xi\\in\\mathcal{X} \\subseteq \\mathbf{R}^4$."
   ]
  },
  {
   "cell_type": "code",
   "execution_count": 8,
   "metadata": {},
   "outputs": [
    {
     "data": {
      "text/plain": [
       "4"
      ]
     },
     "execution_count": 8,
     "metadata": {},
     "output_type": "execute_result"
    }
   ],
   "source": [
    "totaldegree = sum(multiindex)\n",
    "totaldegree"
   ]
  },
  {
   "cell_type": "code",
   "execution_count": 9,
   "metadata": {},
   "outputs": [
    {
     "data": {
      "text/html": [
       "<p>(0.935347 + 2.23044 * x0) * (-1.11803 + 3.3541 * x2^2) * (-0.57735 + 2.3094 * x3)</p>"
      ],
      "text/plain": [
       "class=Function name=Unnamed implementation=class=FunctionImplementation name=Unnamed description=[x0,x1,x2,x3,y0] evaluationImplementation=class=ProductPolynomialEvaluation, polynomials=[class=UniVariatePolynomial coefficients=class=Point name=Unnamed dimension=2 values=[0.935347,2.23044],class=UniVariatePolynomial coefficients=class=Point name=Unnamed dimension=1 values=[1],class=UniVariatePolynomial coefficients=class=Point name=Unnamed dimension=3 values=[-1.11803,0,3.3541],class=UniVariatePolynomial coefficients=class=Point name=Unnamed dimension=2 values=[-0.57735,2.3094]] gradientImplementation=class=ProductPolynomialGradient hessianImplementation=class=ProductPolynomialHessian"
      ]
     },
     "execution_count": 9,
     "metadata": {},
     "output_type": "execute_result"
    }
   ],
   "source": [
    "P = multivariateBasis.build(52)\n",
    "P"
   ]
  },
  {
   "cell_type": "markdown",
   "metadata": {},
   "source": [
    "On voit que le polynôme ne dépend pas de $\\xi_F$, ce qui correspond en effet à l'exposant égal à zéro dans le multi-indice."
   ]
  },
  {
   "cell_type": "markdown",
   "metadata": {},
   "source": [
    "## Solution de l'exercice 2 : règle d'énumération hyperbolique"
   ]
  },
  {
   "cell_type": "code",
   "execution_count": 10,
   "metadata": {},
   "outputs": [
    {
     "data": {
      "text/html": [
       "<p>[1,1,1,1]</p>"
      ],
      "text/plain": [
       "class=Point name=Unnamed dimension=4 values=[1,1,1,1]"
      ]
     },
     "execution_count": 10,
     "metadata": {},
     "output_type": "execute_result"
    }
   ],
   "source": [
    "enumfunc = ot.HyperbolicAnisotropicEnumerateFunction(4, 0.5)\n",
    "\n",
    "w = enumfunc.getWeight()\n",
    "w"
   ]
  },
  {
   "cell_type": "code",
   "execution_count": 11,
   "metadata": {
    "scrolled": true
   },
   "outputs": [
    {
     "name": "stdout",
     "output_type": "stream",
     "text": [
      "0 [0,0,0,0]\n",
      "1 [1,0,0,0]\n",
      "2 [0,1,0,0]\n",
      "3 [0,0,1,0]\n",
      "4 [0,0,0,1]\n",
      "5 [2,0,0,0]\n",
      "6 [0,2,0,0]\n",
      "7 [0,0,2,0]\n",
      "8 [0,0,0,2]\n",
      "9 [3,0,0,0]\n"
     ]
    }
   ],
   "source": [
    "for i in range(10):\n",
    "    print(i, enumfunc(i))"
   ]
  },
  {
   "cell_type": "markdown",
   "metadata": {},
   "source": [
    "## Solution de l'exercice 3 : utilisation d'une règle d'énumération"
   ]
  },
  {
   "cell_type": "code",
   "execution_count": 12,
   "metadata": {},
   "outputs": [
    {
     "data": {
      "text/plain": [
       "[class=OrthogonalUniVariatePolynomialFamily implementation=class=StandardDistributionPolynomialFactory hasSpecificFamily=true specificFamily=class=OrthogonalUniVariatePolynomialFamily implementation=class=JacobiFactory alpha=1.2 beta=-0.1 measure=class=Beta name=Beta dimension=1 alpha=0.9 beta=2.2 a=-1 b=1,class=OrthogonalUniVariatePolynomialFamily implementation=class=StandardDistributionPolynomialFactory hasSpecificFamily=false orthonormalization algorithm=class=OrthonormalizationAlgorithm implementation=class=AdaptiveStieltjesAlgorithm measure=class=LogNormal name=LogNormal dimension=1 muLog=9.46206 sigmaLog=0.554513 gamma=0 monicRecurrenceCoefficients=[class=Point name=Unnamed dimension=3 values=[1,-15000,0],class=Point name=Unnamed dimension=3 values=[1,-33144,-8.1e+07]] monicSquaredNorms=class=Point name=Unnamed dimension=2 values=[1,8.1e+07] isElliptical=false,class=OrthogonalUniVariatePolynomialFamily implementation=class=StandardDistributionPolynomialFactory hasSpecificFamily=true specificFamily=class=OrthogonalUniVariatePolynomialFamily implementation=class=LegendreFactory measure=class=Uniform name=Uniform dimension=1 a=-1 b=1,class=OrthogonalUniVariatePolynomialFamily implementation=class=StandardDistributionPolynomialFactory hasSpecificFamily=true specificFamily=class=OrthogonalUniVariatePolynomialFamily implementation=class=JacobiFactory alpha=0.5 beta=1.5 measure=class=Beta name=Beta dimension=1 alpha=2.5 beta=1.5 a=-1 b=1]"
      ]
     },
     "execution_count": 12,
     "metadata": {},
     "output_type": "execute_result"
    }
   ],
   "source": [
    "marginals = [dist_E, dist_F, dist_L, dist_I]\n",
    "stdPolyColl = [ot.StandardDistributionPolynomialFactory(m) for m in marginals]\n",
    "polyColl = ot.PolynomialFamilyCollection(stdPolyColl)\n",
    "polyColl"
   ]
  },
  {
   "cell_type": "code",
   "execution_count": 13,
   "metadata": {},
   "outputs": [
    {
     "data": {
      "text/html": [
       "<p>class=OrthogonalProductPolynomialFactory univariate polynomial collection=[class=OrthogonalUniVariatePolynomialFamily implementation=class=StandardDistributionPolynomialFactory hasSpecificFamily=true specificFamily=class=OrthogonalUniVariatePolynomialFamily implementation=class=JacobiFactory alpha=1.2 beta=-0.1 measure=class=Beta name=Beta dimension=1 alpha=0.9 beta=2.2 a=-1 b=1,class=OrthogonalUniVariatePolynomialFamily implementation=class=StandardDistributionPolynomialFactory hasSpecificFamily=false orthonormalization algorithm=class=OrthonormalizationAlgorithm implementation=class=AdaptiveStieltjesAlgorithm measure=class=LogNormal name=LogNormal dimension=1 muLog=9.46206 sigmaLog=0.554513 gamma=0 monicRecurrenceCoefficients=[class=Point name=Unnamed dimension=3 values=[1,-15000,0],class=Point name=Unnamed dimension=3 values=[1,-33144,-8.1e+07]] monicSquaredNorms=class=Point name=Unnamed dimension=2 values=[1,8.1e+07] isElliptical=false,class=OrthogonalUniVariatePolynomialFamily implementation=class=StandardDistributionPolynomialFactory hasSpecificFamily=true specificFamily=class=OrthogonalUniVariatePolynomialFamily implementation=class=LegendreFactory measure=class=Uniform name=Uniform dimension=1 a=-1 b=1,class=OrthogonalUniVariatePolynomialFamily implementation=class=StandardDistributionPolynomialFactory hasSpecificFamily=true specificFamily=class=OrthogonalUniVariatePolynomialFamily implementation=class=JacobiFactory alpha=0.5 beta=1.5 measure=class=Beta name=Beta dimension=1 alpha=2.5 beta=1.5 a=-1 b=1] measure=class=ComposedDistribution name=ComposedDistribution dimension=4 copula=class=IndependentCopula name=IndependentCopula dimension=4 marginal[0]=class=Beta name=Beta dimension=1 alpha=0.9 beta=2.2 a=-1 b=1 marginal[1]=class=LogNormal name=LogNormal dimension=1 muLog=9.46206 sigmaLog=0.554513 gamma=0 marginal[2]=class=Uniform name=Uniform dimension=1 a=-1 b=1 marginal[3]=class=Beta name=Beta dimension=1 alpha=2.5 beta=1.5 a=-1 b=1</p>"
      ],
      "text/plain": [
       "class=OrthogonalProductPolynomialFactory univariate polynomial collection=[class=OrthogonalUniVariatePolynomialFamily implementation=class=StandardDistributionPolynomialFactory hasSpecificFamily=true specificFamily=class=OrthogonalUniVariatePolynomialFamily implementation=class=JacobiFactory alpha=1.2 beta=-0.1 measure=class=Beta name=Beta dimension=1 alpha=0.9 beta=2.2 a=-1 b=1,class=OrthogonalUniVariatePolynomialFamily implementation=class=StandardDistributionPolynomialFactory hasSpecificFamily=false orthonormalization algorithm=class=OrthonormalizationAlgorithm implementation=class=AdaptiveStieltjesAlgorithm measure=class=LogNormal name=LogNormal dimension=1 muLog=9.46206 sigmaLog=0.554513 gamma=0 monicRecurrenceCoefficients=[class=Point name=Unnamed dimension=3 values=[1,-15000,0],class=Point name=Unnamed dimension=3 values=[1,-33144,-8.1e+07]] monicSquaredNorms=class=Point name=Unnamed dimension=2 values=[1,8.1e+07] isElliptical=false,class=OrthogonalUniVariatePolynomialFamily implementation=class=StandardDistributionPolynomialFactory hasSpecificFamily=true specificFamily=class=OrthogonalUniVariatePolynomialFamily implementation=class=LegendreFactory measure=class=Uniform name=Uniform dimension=1 a=-1 b=1,class=OrthogonalUniVariatePolynomialFamily implementation=class=StandardDistributionPolynomialFactory hasSpecificFamily=true specificFamily=class=OrthogonalUniVariatePolynomialFamily implementation=class=JacobiFactory alpha=0.5 beta=1.5 measure=class=Beta name=Beta dimension=1 alpha=2.5 beta=1.5 a=-1 b=1] measure=class=ComposedDistribution name=ComposedDistribution dimension=4 copula=class=IndependentCopula name=IndependentCopula dimension=4 marginal[0]=class=Beta name=Beta dimension=1 alpha=0.9 beta=2.2 a=-1 b=1 marginal[1]=class=LogNormal name=LogNormal dimension=1 muLog=9.46206 sigmaLog=0.554513 gamma=0 marginal[2]=class=Uniform name=Uniform dimension=1 a=-1 b=1 marginal[3]=class=Beta name=Beta dimension=1 alpha=2.5 beta=1.5 a=-1 b=1"
      ]
     },
     "execution_count": 13,
     "metadata": {},
     "output_type": "execute_result"
    }
   ],
   "source": [
    "multivariateBasis = ot.OrthogonalProductPolynomialFactory(polyColl, enumfunc)\n",
    "multivariateBasis"
   ]
  },
  {
   "cell_type": "code",
   "execution_count": 14,
   "metadata": {
    "scrolled": true
   },
   "outputs": [
    {
     "name": "stdout",
     "output_type": "stream",
     "text": [
      " 0 : [    -0.732453 11293.1         -0.57735     -0.274292 ]\n",
      " 1 : [     0.222649 11293.1         -0.57735     -0.274292 ]\n",
      " 2 : [    -0.732453 36850.9         -0.57735     -0.274292 ]\n",
      " 3 : [     0.222649 36850.9         -0.57735     -0.274292 ]\n",
      " 4 : [    -0.732453 11293.1          0.57735     -0.274292 ]\n",
      " 5 : [     0.222649 11293.1          0.57735     -0.274292 ]\n",
      " 6 : [    -0.732453 36850.9          0.57735     -0.274292 ]\n",
      " 7 : [     0.222649 36850.9          0.57735     -0.274292 ]\n",
      " 8 : [    -0.732453 11293.1         -0.57735      0.607625 ]\n",
      " 9 : [     0.222649 11293.1         -0.57735      0.607625 ]\n",
      "10 : [    -0.732453 36850.9         -0.57735      0.607625 ]\n",
      "11 : [     0.222649 36850.9         -0.57735      0.607625 ]\n",
      "12 : [    -0.732453 11293.1          0.57735      0.607625 ]\n",
      "13 : [     0.222649 11293.1          0.57735      0.607625 ]\n",
      "14 : [    -0.732453 36850.9          0.57735      0.607625 ]\n",
      "15 : [     0.222649 36850.9          0.57735      0.607625 ]\n",
      "[0.116521,0.0568259,0.0197674,0.00964032,0.116521,0.0568259,0.0197674,0.00964032,0.170824,0.0833089,0.0289797,0.0141331,0.170824,0.0833089,0.0289797,0.0141331]#16\n"
     ]
    }
   ],
   "source": [
    "nodes, weights = multivariateBasis.getNodesAndWeights([2, 2, 2, 2])\n",
    "print(nodes)\n",
    "print(weights)"
   ]
  },
  {
   "cell_type": "markdown",
   "metadata": {},
   "source": [
    "## Solution de l'exercice 4 : nombre de polynômes avec la règle d'énumération linéaire\n"
   ]
  },
  {
   "cell_type": "markdown",
   "metadata": {},
   "source": [
    "Définit la base de polynômes avec la règle d'énumération linéaire par défaut."
   ]
  },
  {
   "cell_type": "code",
   "execution_count": 15,
   "metadata": {},
   "outputs": [],
   "source": [
    "multivariateBasis = ot.OrthogonalProductPolynomialFactory(\n",
    "    [dist_E, dist_F, dist_L, dist_I]\n",
    ")\n",
    "enumfunc = multivariateBasis.getEnumerateFunction()"
   ]
  },
  {
   "cell_type": "markdown",
   "metadata": {},
   "source": [
    "Plot the number of polynomials as a function of highest polynomial degree (using the linear enumeration)."
   ]
  },
  {
   "cell_type": "code",
   "execution_count": 16,
   "metadata": {},
   "outputs": [],
   "source": [
    "enumfunc = multivariateBasis.getEnumerateFunction()\n",
    "degreeList = range(1, 15)\n",
    "P_list = []\n",
    "for i in degreeList:\n",
    "    nbcoeffs = enumfunc.getStrataCumulatedCardinal(i)\n",
    "    P_list.append(nbcoeffs)"
   ]
  },
  {
   "cell_type": "code",
   "execution_count": 17,
   "metadata": {},
   "outputs": [
    {
     "name": "stderr",
     "output_type": "stream",
     "text": [
      "/home/devel/miniconda3/envs/otsupgalilee/lib/python3.8/site-packages/numpy/core/getlimits.py:499: UserWarning: The value of the smallest subnormal for <class 'numpy.float64'> type is zero.\n",
      "  setattr(self, word, getattr(machar, word).flat[0])\n",
      "/home/devel/miniconda3/envs/otsupgalilee/lib/python3.8/site-packages/numpy/core/getlimits.py:89: UserWarning: The value of the smallest subnormal for <class 'numpy.float64'> type is zero.\n",
      "  return self._float_to_str(self.smallest_subnormal)\n"
     ]
    },
    {
     "data": {
      "image/png": "[encoded data removed]",
      "text/plain": [
       "<Figure size 288x216 with 1 Axes>"
      ]
     },
     "metadata": {
      "needs_background": "light"
     },
     "output_type": "display_data"
    }
   ],
   "source": [
    "graph = ot.Graph(\n",
    "    \"Linear enumerate function\", \"Total degree\", \"Number of coefficients\", True\n",
    ")\n",
    "cloud = ot.Cloud(degreeList, P_list)\n",
    "graph.add(cloud)\n",
    "view = otv.View(graph, figure_kw={\"figsize\": (4.0, 3.0)})\n",
    "pl.gca().xaxis.set_major_locator(MaxNLocator(integer=True))"
   ]
  },
  {
   "cell_type": "markdown",
   "metadata": {},
   "source": [
    "## Exercice 5 : utilisation d'une règle d'énumération hyperbolique\n"
   ]
  },
  {
   "cell_type": "code",
   "execution_count": 18,
   "metadata": {},
   "outputs": [],
   "source": [
    "def printMultiIndices(enumerateFunction, maximumDegree):\n",
    "    P = enumerateFunction.getStrataCumulatedCardinal(maximumDegree)\n",
    "    print(\"Number of coefficients with degree lower than %s is %s\" % (maximumDegree, P))\n",
    "\n",
    "    print(\"Total degree\" + \"     \" + \"Multi-index\")\n",
    "    for i in range(P):\n",
    "        index = enumerateFunction(i)\n",
    "        degree = sum(index)\n",
    "        print(\"#%d %4d %18s\" % (i, degree, index))\n",
    "    return"
   ]
  },
  {
   "cell_type": "markdown",
   "metadata": {},
   "source": [
    "Use the `printMultiIndices` to print the multi-indices with maximum degree less than 5.\n",
    "* For a given enumerate function, the `getStrataCumulatedCardinal(maximumDegree)` method returns the number of coefficients with maximum degree lower than `maximumDegree`. Set the `maximumDegree` to 5 and consider the following list of quasi-norm parameters :\n",
    "```python\n",
    "q_list = [0.1, 0.3, 0.6, 0.9, 1.0]\n",
    "```\n",
    "For each value of this quasi-norm parameter, print the number of coefficients associated with the hyperbolic enumerate function. What do you observe ?\n",
    "* Set the quasi-norm parameter `q=0.6`. Consider the maximum degree equal from 1 to 10. For each maximum degree value, compare the number of coefficients associated with the linear and hyperbolic enumeration functions. What do you observe ?"
   ]
  },
  {
   "cell_type": "markdown",
   "metadata": {},
   "source": [
    "## Solution de l'exercice 5 : utilisation d'une règle d'énumération hyperbolique"
   ]
  },
  {
   "cell_type": "code",
   "execution_count": 19,
   "metadata": {},
   "outputs": [
    {
     "name": "stdout",
     "output_type": "stream",
     "text": [
      "Number of coefficients with degree lower than 5 is 23\n",
      "Total degree     Multi-index\n",
      "#0    0          [0,0,0,0]\n",
      "#1    1          [1,0,0,0]\n",
      "#2    1          [0,1,0,0]\n",
      "#3    1          [0,0,1,0]\n",
      "#4    1          [0,0,0,1]\n",
      "#5    2          [2,0,0,0]\n",
      "#6    2          [0,2,0,0]\n",
      "#7    2          [0,0,2,0]\n",
      "#8    2          [0,0,0,2]\n",
      "#9    3          [3,0,0,0]\n",
      "#10    3          [0,3,0,0]\n",
      "#11    3          [0,0,3,0]\n",
      "#12    3          [0,0,0,3]\n",
      "#13    2          [1,1,0,0]\n",
      "#14    2          [1,0,1,0]\n",
      "#15    2          [1,0,0,1]\n",
      "#16    2          [0,1,1,0]\n",
      "#17    2          [0,1,0,1]\n",
      "#18    2          [0,0,1,1]\n",
      "#19    4          [4,0,0,0]\n",
      "#20    4          [0,4,0,0]\n",
      "#21    4          [0,0,4,0]\n",
      "#22    4          [0,0,0,4]\n"
     ]
    }
   ],
   "source": [
    "dim_input = 4\n",
    "polyColl = ot.PolynomialFamilyCollection(dim_input)\n",
    "polyColl[0] = ot.StandardDistributionPolynomialFactory(dist_E)\n",
    "polyColl[1] = ot.StandardDistributionPolynomialFactory(dist_F)\n",
    "polyColl[2] = ot.StandardDistributionPolynomialFactory(dist_L)\n",
    "polyColl[3] = ot.StandardDistributionPolynomialFactory(dist_I)\n",
    "#\n",
    "q = 0.6  # the q-quasi-norm parameter used to create a HyperbolicAnisotropicEnumerateFunction object.\n",
    "enumerateFunction = ot.HyperbolicAnisotropicEnumerateFunction(dim_input, q)\n",
    "\n",
    "multivariateBasis = ot.OrthogonalProductPolynomialFactory(polyColl, enumerateFunction)\n",
    "\n",
    "printMultiIndices(enumerateFunction, 5)"
   ]
  },
  {
   "cell_type": "code",
   "execution_count": 20,
   "metadata": {},
   "outputs": [
    {
     "data": {
      "image/png": "[encoded data removed]",
      "text/plain": [
       "<Figure size 288x216 with 1 Axes>"
      ]
     },
     "metadata": {
      "needs_background": "light"
     },
     "output_type": "display_data"
    }
   ],
   "source": [
    "maximumDegree = 5\n",
    "q_list = [0.1, 0.3, 0.6, 0.9, 1.0]\n",
    "P_list = []\n",
    "for j in q_list:\n",
    "    enumerateFunction_aux = ot.HyperbolicAnisotropicEnumerateFunction(dim_input, j)\n",
    "    numberOfCoefficients = enumerateFunction_aux.getStrataCumulatedCardinal(\n",
    "        maximumDegree\n",
    "    )\n",
    "    P_list.append(numberOfCoefficients)\n",
    "\n",
    "graph = ot.Graph(\n",
    "    \"Maximum degree = %s, Hyperbolic\" % (maximumDegree),\n",
    "    \"q\",\n",
    "    \"Number of coefficients\",\n",
    "    True,\n",
    ")\n",
    "cloud = ot.Cloud(q_list, P_list)\n",
    "graph.add(cloud)\n",
    "view = otv.View(graph, figure_kw={\"figsize\": (4.0, 3.0)})"
   ]
  },
  {
   "cell_type": "markdown",
   "metadata": {},
   "source": [
    "On observe que, lorsque `q` augmente, alors le nombre de coefficients augmente considérablement."
   ]
  },
  {
   "cell_type": "code",
   "execution_count": 21,
   "metadata": {},
   "outputs": [
    {
     "data": {
      "image/png": "[encoded data removed]",
      "text/plain": [
       "<Figure size 288x216 with 1 Axes>"
      ]
     },
     "metadata": {
      "needs_background": "light"
     },
     "output_type": "display_data"
    }
   ],
   "source": [
    "p_list = range(1, 11)\n",
    "P_listHyper = []\n",
    "P_listLinear = []\n",
    "\n",
    "enumLinear = ot.LinearEnumerateFunction(dim_input)\n",
    "enumHyper = ot.HyperbolicAnisotropicEnumerateFunction(dim_input, q)\n",
    "for i in p_list:\n",
    "    numberOfCoefficients = enumLinear.getStrataCumulatedCardinal(i)\n",
    "    P_listLinear.append(numberOfCoefficients)\n",
    "    numberOfCoefficients = enumHyper.getStrataCumulatedCardinal(i)\n",
    "    P_listHyper.append(numberOfCoefficients)\n",
    "\n",
    "graph = ot.Graph(\"Enumerate function\", \"q\", \"Number of coefficients\", True, \"topleft\")\n",
    "cloudLinear = ot.Cloud(p_list, P_listLinear)\n",
    "cloudLinear.setLegend(\"Linear\")\n",
    "cloudLinear.setColor(\"red\")\n",
    "graph.add(cloudLinear)\n",
    "cloudHyper = ot.Cloud(p_list, P_listHyper)\n",
    "cloudHyper.setLegend(\"Hyperbolic, q = %.1f\" % q)\n",
    "graph.add(cloudHyper)\n",
    "view = otv.View(graph, figure_kw={\"figsize\": (4.0, 3.0)})"
   ]
  },
  {
   "cell_type": "markdown",
   "metadata": {},
   "source": [
    "On observe que, avec `q=0.6`, la règle d'énumération hyperbolique produit un nombre de coefficients très petit par rapport à la règle d'énumération linéaire."
   ]
  },
  {
   "cell_type": "markdown",
   "metadata": {},
   "source": [
    "## Solution de l'exercice 6 : graphique des indices linéaires, hyperboliques et norme infinie"
   ]
  },
  {
   "cell_type": "code",
   "execution_count": 22,
   "metadata": {},
   "outputs": [
    {
     "data": {
      "image/png": "[encoded data removed]",
      "text/plain": [
       "<Figure size 288x288 with 1 Axes>"
      ]
     },
     "metadata": {
      "needs_background": "light"
     },
     "output_type": "display_data"
    }
   ],
   "source": [
    "enumfunc = ot.LinearEnumerateFunction(2)\n",
    "numberOfIndices = 10\n",
    "super_enum = SuperEnumerateFunction(enumfunc)\n",
    "view = super_enum.draw_by_order(numberOfIndices)\n",
    "maximum_index = 3.5\n",
    "pl.xlim(right=maximum_index)\n",
    "pl.ylim(top=maximum_index)\n",
    "_ = pl.title(\"Linear enumeration rule\")"
   ]
  },
  {
   "cell_type": "code",
   "execution_count": 23,
   "metadata": {},
   "outputs": [
    {
     "data": {
      "image/png": "[encoded data removed]",
      "text/plain": [
       "<Figure size 288x288 with 1 Axes>"
      ]
     },
     "metadata": {
      "needs_background": "light"
     },
     "output_type": "display_data"
    }
   ],
   "source": [
    "view = super_enum.draw_by_layer(5)"
   ]
  },
  {
   "cell_type": "markdown",
   "metadata": {},
   "source": [
    "On observe que les multiindices apparaissent selon un chemin diagonal. Sur une diagonale, le degré des polynômes est constant. \n",
    "* Les points d'indice 1, 2 sont de degré constant égal à 1. \n",
    "* Les points d'indice 3, 4, 5 sont de degré constant égal à 2. \n",
    "* Les points d'indice 6, 7, 8, 9 sont de degré constant égal à 3. \n",
    "\n",
    "Une telle diagonale est nommée \"strate\" dans la librairie. \n",
    "\n",
    "Cet ordre d'énumération permet d'énumérer les polynômes par strates de degrés croissants."
   ]
  },
  {
   "cell_type": "code",
   "execution_count": 24,
   "metadata": {
    "scrolled": true
   },
   "outputs": [
    {
     "data": {
      "image/png": "[encoded data removed]",
      "text/plain": [
       "<Figure size 360x360 with 1 Axes>"
      ]
     },
     "metadata": {
      "needs_background": "light"
     },
     "output_type": "display_data"
    }
   ],
   "source": [
    "q = 0.4\n",
    "enumfunc = ot.HyperbolicAnisotropicEnumerateFunction(2, q)\n",
    "numberOfIndices = 50\n",
    "super_enum = SuperEnumerateFunction(enumfunc)\n",
    "view = super_enum.draw_by_order(numberOfIndices, figure_kw={\"figsize\": (5.0, 5.0)})\n",
    "maximum_index = 18.0\n",
    "pl.xlim(right=maximum_index)\n",
    "pl.ylim(top=maximum_index)\n",
    "_ = pl.title(\"Hyperbolic enumerate - q=%s\" % (q))"
   ]
  },
  {
   "cell_type": "code",
   "execution_count": 25,
   "metadata": {},
   "outputs": [
    {
     "data": {
      "image/png": "[encoded data removed]",
      "text/plain": [
       "<Figure size 288x288 with 1 Axes>"
      ]
     },
     "metadata": {
      "needs_background": "light"
     },
     "output_type": "display_data"
    }
   ],
   "source": [
    "view = super_enum.draw_by_layer(10)"
   ]
  },
  {
   "cell_type": "markdown",
   "metadata": {},
   "source": [
    "On observe que les multi-indices associés à des degrés élevés sont énumérés plus tôt dans la séquence. On observe que les degrés associés à des interactions entre X0 et X1 de degré élevé n'apparaissent pas parmi les premiers termes de la séquence. Par exemple, le multi-indice d'indice 8 est (4,0) (correspondant à un polynôme de degré 4), mais que le multi-indice (2,2) n'apparaît plus parmi les premiers termes. "
   ]
  },
  {
   "cell_type": "code",
   "execution_count": 26,
   "metadata": {
    "scrolled": true
   },
   "outputs": [
    {
     "data": {
      "image/png": "[encoded data removed]",
      "text/plain": [
       "<Figure size 288x288 with 1 Axes>"
      ]
     },
     "metadata": {
      "needs_background": "light"
     },
     "output_type": "display_data"
    }
   ],
   "source": [
    "q = 1.0\n",
    "enumfunc = ot.HyperbolicAnisotropicEnumerateFunction(2, q)\n",
    "numberOfIndices = 10\n",
    "super_enum = SuperEnumerateFunction(enumfunc)\n",
    "view = super_enum.draw_by_order(numberOfIndices)\n",
    "maximum_index = 4.0\n",
    "pl.xlim(right=maximum_index)\n",
    "pl.ylim(top=maximum_index)\n",
    "_ = pl.title(\"Hyperbolic enumerate - q=%s\" % (q))"
   ]
  },
  {
   "cell_type": "code",
   "execution_count": 27,
   "metadata": {},
   "outputs": [
    {
     "data": {
      "image/png": "[encoded data removed]",
      "text/plain": [
       "<Figure size 288x288 with 1 Axes>"
      ]
     },
     "metadata": {
      "needs_background": "light"
     },
     "output_type": "display_data"
    }
   ],
   "source": [
    "view = super_enum.draw_by_layer(5)"
   ]
  },
  {
   "cell_type": "markdown",
   "metadata": {},
   "source": [
    "On observe que la règle d'énumération hyperbolique avec q=1 est équivalente à la règle linéaire."
   ]
  },
  {
   "cell_type": "code",
   "execution_count": 28,
   "metadata": {
    "scrolled": true
   },
   "outputs": [
    {
     "data": {
      "image/png": "[encoded data removed]",
      "text/plain": [
       "<Figure size 288x288 with 1 Axes>"
      ]
     },
     "metadata": {
      "needs_background": "light"
     },
     "output_type": "display_data"
    }
   ],
   "source": [
    "enumfunc = ot.NormInfEnumerateFunction(2)\n",
    "numberOfIndices = 10\n",
    "super_enum = SuperEnumerateFunction(enumfunc)\n",
    "view = super_enum.draw_by_order(numberOfIndices)\n",
    "maximum_index = 4.0\n",
    "pl.xlim(right=maximum_index)\n",
    "pl.ylim(top=maximum_index)\n",
    "_ = pl.title(\"Infinite norm enumerate\")"
   ]
  },
  {
   "cell_type": "markdown",
   "metadata": {},
   "source": [
    "On observe que la règle en norme infinie permet d'assurer que les interactions de degré élevé apparaissent plus rapidement dans l'énumération."
   ]
  },
  {
   "cell_type": "code",
   "execution_count": 29,
   "metadata": {},
   "outputs": [
    {
     "data": {
      "image/png": "[encoded data removed]",
      "text/plain": [
       "<Figure size 432x432 with 1 Axes>"
      ]
     },
     "metadata": {
      "needs_background": "light"
     },
     "output_type": "display_data"
    }
   ],
   "source": [
    "weights = [3.0, 1.0]\n",
    "q = 0.5\n",
    "enumfunc = ot.HyperbolicAnisotropicEnumerateFunction(weights, q)\n",
    "numberOfIndices = 50\n",
    "super_enum = SuperEnumerateFunction(enumfunc)\n",
    "view = super_enum.draw_by_order(numberOfIndices, figure_kw={\"figsize\": (6.0, 6.0)})\n",
    "maximum_index = 25.0\n",
    "pl.xlim(right=maximum_index)\n",
    "pl.ylim(top=maximum_index)\n",
    "_ = pl.title(\"Anisotropic hyperbolic, w = %s, q=%s\" % (weights, q))"
   ]
  },
  {
   "cell_type": "code",
   "execution_count": 30,
   "metadata": {},
   "outputs": [
    {
     "data": {
      "image/png": "[encoded data removed]",
      "text/plain": [
       "<Figure size 288x288 with 1 Axes>"
      ]
     },
     "metadata": {
      "needs_background": "light"
     },
     "output_type": "display_data"
    }
   ],
   "source": [
    "view = super_enum.draw_by_layer(20)"
   ]
  },
  {
   "cell_type": "markdown",
   "metadata": {},
   "source": [
    "On observe que la première marginale associée au poids $w_1 = 3$ possède un degré marginal moins élevé. Au contraire, la seconde marginale associée au poids $w_2 = 1$ possède un degré marginal plus élevé. Cela montre que si on souhaite favoriser la marginale d'indice $i = 1, ..., p$ où $p$ est la dimension du vecteur aléatoire d'entrée, alors on devrait utiliser un poids $w_i$ relativement plus faible. "
   ]
  },
  {
   "cell_type": "code",
   "execution_count": null,
   "metadata": {},
   "outputs": [],
   "source": []
  }
 ],
 "metadata": {
  "kernelspec": {
   "display_name": "Python 3 (ipykernel)",
   "language": "python",
   "name": "python3"
  },
  "language_info": {
   "codemirror_mode": {
    "name": "ipython",
    "version": 3
   },
   "file_extension": ".py",
   "mimetype": "text/x-python",
   "name": "python",
   "nbconvert_exporter": "python",
   "pygments_lexer": "ipython3",
   "version": "3.10.0"
  }
 },
 "nbformat": 4,
 "nbformat_minor": 1
}
