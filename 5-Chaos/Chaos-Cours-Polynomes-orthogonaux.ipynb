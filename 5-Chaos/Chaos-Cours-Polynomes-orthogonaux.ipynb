{
 "cells": [
  {
   "cell_type": "markdown",
   "metadata": {
    "slideshow": {
     "slide_type": "slide"
    }
   },
   "source": [
    "# Polynômes orthogonaux univariés\n",
    "\n",
    "## Résumé\n",
    "\n",
    "Dans cette page, nous présentons les polynômes orthogonaux univariés."
   ]
  },
  {
   "cell_type": "markdown",
   "metadata": {
    "slideshow": {
     "slide_type": "slide"
    }
   },
   "source": [
    "## Références\n",
    "\n",
    "OpenTURNS :\n",
    "* http://openturns.github.io/openturns/master/theory/meta_modeling/orthogonal_polynomials.html\n",
    "* http://openturns.github.io/openturns/master/user_manual/_generated/openturns.HermiteFactory.html\n",
    "* http://openturns.github.io/openturns/master/user_manual/_generated/openturns.AdaptiveStieltjesAlgorithm.html\n",
    "\n",
    "Livres :\n",
    "* Orthogonal Polynomials: Computation and Approximation, 2004, Walter Gautschi, Oxford Science Publications, Numerical Mathematics and Scientific Computation\n",
    "* Chihara, Theodore Seio (1978). An Introduction to Orthogonal Polynomials. Dover Publications"
   ]
  },
  {
   "cell_type": "markdown",
   "metadata": {
    "slideshow": {
     "slide_type": "slide"
    }
   },
   "source": [
    "## Introduction\n",
    "\n",
    "**Definition: Weight function**\n",
    "\n",
    "Let $I$ be an interval in $\\mathbb{R}$. \n",
    "A weight function $w$ is a nonnegative continuous integrable \n",
    "function of $x\\in I$. \n",
    "\n",
    "**Example**\n",
    "\n",
    "The weight function for Hermite polynomials is\n",
    "$$\n",
    "w(x)=\\exp\\left(-\\frac{x^2}{2}\\right),\n",
    "$$\n",
    "for $x\\in\\mathbb{R}$. "
   ]
  },
  {
   "cell_type": "markdown",
   "metadata": {
    "slideshow": {
     "slide_type": "slide"
    }
   },
   "source": [
    "**Definition: Weighted $L^2$ space**\n",
    "\n",
    "Let $L^2_w(I)$ be the set of \n",
    "functions $g$ which are square integrable with respect to the weight \n",
    "function $w$, i.e. such that the integral \n",
    "$$\n",
    "\\|g\\|^2 = \\int_I g(x)^2 w(x) dx\n",
    "$$\n",
    "is finite. \n",
    "In this case, the norm of $g$ is $\\|g\\|$.\n",
    "\n",
    "**Définition**\n",
    "\n",
    "On considère le produit scalaire :\n",
    "$$\n",
    "(g_1,g_2) = \\int_I g_1(x) g_2(x) w(x) dx,\n",
    "$$\n",
    "pour toutes fonctions $g_1,g_2$ de carré intégrable. "
   ]
  },
  {
   "cell_type": "markdown",
   "metadata": {
    "slideshow": {
     "slide_type": "slide"
    }
   },
   "source": [
    "## Polynôme univariés orthogonaux\n",
    "\n",
    "Soit $X\\in\\mathbb{R}$ une variable aléatoire univariée. \n",
    "\n",
    "**Definition: Distribution from a weight**\n",
    "\n",
    "The function:\n",
    "$$\n",
    "f(x) = \\frac{w(x)}{\\int_I w(x) dx},\n",
    "$$\n",
    "for any $x\\in I$, is a distribution function.\n",
    "\n",
    "**Example: Distribution function for Hermite polynomials**\n",
    "\n",
    "The distribution function for Hermite polynomials is\n",
    "$$\n",
    "f(x)=\\frac{1}{\\sqrt{2 \\pi}} \\exp\\left(-\\frac{x^2}{2}\\right),\n",
    "$$\n",
    "for $x\\in\\mathbb{R}$. \n",
    "\n"
   ]
  },
  {
   "cell_type": "markdown",
   "metadata": {
    "slideshow": {
     "slide_type": "slide"
    }
   },
   "source": [
    "**Definition: Polynomials**\n",
    "\n",
    "We denote by $\\mathbb{P}$ the set of real polynomials and $\\mathbb{P}_n$ the set of real polynomials with degree lower or equal to $n$.\n",
    "If the leading term of $\\pi\\in \\mathbb{P}_n$ is equal to 1, then we say that the polynomial \n",
    "$\\pi$ is $monic$. \n",
    "\n",
    "Soit $\\left\\{\\pi_j\\right\\}_{j\\geq 0}$ une famille de polynômes réels univariés.\n",
    "\n",
    "**Définition**\n",
    "\n",
    "On dit que les polynômes $\\pi_j$ sont *orthogonaux* si le produit scalaire entre deux polynômes de degrés différents est égal à 0. En d'autres termes, on dit que les polynômes univariés $\\left\\{\\pi_j\\right\\}_{j\\geq 0}$ sont orthogonaux si :\n",
    "$$\n",
    "(\\pi_j,\\pi_k) = 0$$\n",
    "pour $j,k\\geq 0$ tels que $j\\neq k$. "
   ]
  },
  {
   "cell_type": "markdown",
   "metadata": {
    "slideshow": {
     "slide_type": "slide"
    }
   },
   "source": [
    "## Quadrature and the Lagrange polynomial\n",
    "\n",
    "In this section, we show that Lagrange interpolation \n",
    "with $n+1$ nodes leads to quadrature rules of maximum exactness degree \n",
    "equal to $n$.\n",
    "\n",
    "Assume that we want to compute :\n",
    "$$\n",
    "A(g)=\\int_I g(x)f(x)dx.\n",
    "$$\n",
    "\n",
    "**Definition: Quadrature rule**\n",
    "\n",
    "Let $x_1,x_2,...,x_{n+1}$ be $n+1$ real numbers in the interval \n",
    "$I$ called the *quadrature nodes*. \n",
    "Let $\\alpha_1,\\alpha_2,...,\\alpha_{n+1}$ be $n+1$ nonnegative \n",
    "real numbers called the *weights*. \n",
    "A quadrature rule is a formula :\n",
    "$$\n",
    "A_n(g)=\\sum_{i=1}^{n+1} \\alpha_i g(x_i),\n",
    "$$\n",
    "to approximate $A(g)$.\n",
    "\n"
   ]
  },
  {
   "cell_type": "markdown",
   "metadata": {
    "slideshow": {
     "slide_type": "slide"
    }
   },
   "source": [
    "**Definition: Lagrange interpolation polynomial**\n",
    "\n",
    "Let $\\ell_i$ be the polynomial :\n",
    "$$\n",
    "\\ell_i(x) = \\prod_{\\substack{j=1\\\\j\\neq i}}^{n+1} \\frac{x-x_j}{x_i-x_j},\n",
    "$$\n",
    "for any $x\\in I$.\n",
    "The Lagrange interpolating polynomial is \n",
    "$$\n",
    "\\pi_n(x) = \\sum_{i=1}^{n+1} g(x_i) \\ell_i(x),\n",
    "$$\n",
    "for any $x\\in I$.\n",
    "\n"
   ]
  },
  {
   "cell_type": "markdown",
   "metadata": {
    "slideshow": {
     "slide_type": "slide"
    }
   },
   "source": [
    "**Definition: Degree of exactness**\n",
    "\n",
    "The degree of exactness of a quadrature rule is $d$ if \n",
    "$d$ is the largest degree for which we have \n",
    "$$\n",
    "A(p)=A_n(p),\n",
    "$$\n",
    "for any polynomial $p\\in\\mathbb{P}_d$.\n",
    "\n",
    "**Theorem: Degree of exactness of Lagrange interpolation**\n",
    "\n",
    "If \n",
    "$$\n",
    "\\alpha_i = \\int_I \\ell_i(x)w(x) dx\n",
    "$$\n",
    "for $i=1,2,...,n+1$, therefore the degree of exactness of the \n",
    "associated quadrature rule is at least $n$. \n",
    "\n",
    "In this case, we say that the quadrature rule is interpolatory. "
   ]
  },
  {
   "cell_type": "markdown",
   "metadata": {
    "slideshow": {
     "slide_type": "slide"
    }
   },
   "source": [
    "## Gaussian quadrature and orthogonal polynomials\n",
    "\n",
    "**Definition: Node polynomial**\n",
    "\n",
    "The node polynomial is \n",
    "$$\n",
    "\\omega_{n+1}(x) = \\prod_{i=1}^{n+1} (x-x_i),\n",
    "$$\n",
    "for any $x\\in I$. \n",
    "\n",
    "**Theorem: Conditions for maximum degree of exactness**\n",
    "\n",
    "Let $m>0$ be and integer. \n",
    "The quadrature rule has degree of exactness \n",
    "$n+m$ if and only if \n",
    "* the formula is interpolatory, \n",
    "* for any $p_{m-1} \\in \\mathbb{P}_{m-1}$, we have \n",
    "$$\n",
    "\\int_I \\omega_{n+1}(x) p_{m-1}(x) w(x) dx = 0.\n",
    "$$\n"
   ]
  },
  {
   "cell_type": "markdown",
   "metadata": {
    "slideshow": {
     "slide_type": "slide"
    }
   },
   "source": [
    "**Theorem: Maximum degree of exactness**\n",
    "\n",
    "The maximum degree of exactness of a quadrature rule is $2n+1$.\n",
    "\n",
    "**Theorem: Gaussian quadrature**\n",
    "\n",
    "If the integration nodes $x_1$, ..., $x_{n+1}$ are the \n",
    "roots of the degree $n+1$ orthogonal polynomial associated with $w$, \n",
    "then the quadrature rule achieves the maximum degree of exactness. \n",
    "In this case, it is called a Gaussian quadrature. "
   ]
  },
  {
   "cell_type": "markdown",
   "metadata": {
    "slideshow": {
     "slide_type": "slide"
    }
   },
   "source": [
    "## Three term recurrence\n",
    "\n",
    "**Proposition**\n",
    "\n",
    "Assume $\\{\\pi_k\\}_{k=-1,0,1,...,n}$ is a family of monic orthogonal \n",
    "polynomials, with \n",
    "$$\n",
    "\\pi_{-1}=0, \\qquad \\pi_0=1.\n",
    "$$\n",
    "Therefore, \n",
    "$$\n",
    "\\pi_{k+1}(x)=(x-\\alpha_k)\\pi_k(x) - \\beta_k\\pi_{k-1}(x),\n",
    "\\label{eq-threeterm1}\n",
    "$$\n",
    "for $k=0,1,...,n$ and any $x\\in I$, where \n",
    "$$\n",
    "\\alpha_k = \\frac{(x\\pi_k,\\pi_k)}{(\\pi_k,\\pi_k)}\n",
    "\\label{eq-threeterm2}\n",
    "$$\n",
    "for $k=0,1,...,n$ and \n",
    "$$\n",
    "\\beta_k = \\frac{(\\pi_k,\\pi_k)}{(\\pi_{k-1},\\pi_{k-1})}\n",
    "\\label{eq-threeterm3}\n",
    "$$\n",
    "for $k=1,2,...,n$.\n",
    "\n"
   ]
  },
  {
   "cell_type": "markdown",
   "metadata": {
    "slideshow": {
     "slide_type": "slide"
    }
   },
   "source": [
    "In the previous proposition, let us make clear that the \n",
    "scalar product $(x\\pi_k,\\pi_k)$ in $\\alpha_k$ involves the \n",
    "polynomial $x\\pi_k(x)$, for any $x\\in I$.\n",
    "\n",
    "Notice that the proposition does not state the value of \n",
    "$\\beta_0$, which can be chosen freely. \n",
    "Indeed, consider the equation for $k=0$. \n",
    "\n",
    "We have \n",
    "\n",
    "\\begin{eqnarray*}\n",
    "\\pi_1(x)\n",
    "&=&(x-\\alpha_0)\\pi_0(x) - \\beta_0\\pi_{-1}(x) \\\\\n",
    "&=&(x-\\alpha_0)\\pi_0(x),\n",
    "\\end{eqnarray*}\n",
    "since $\\pi_{-1}=0$. \n",
    "As in (Gautschi), we choose :\n",
    "$$\n",
    "\\beta_0=(\\pi_0,\\pi_0) = \\int_{\\mathbb{R}} f(x)dx = 1.\n",
    "$$\n",
    "\n"
   ]
  },
  {
   "cell_type": "markdown",
   "metadata": {
    "slideshow": {
     "slide_type": "slide"
    }
   },
   "source": [
    "**Three term recurrence of orthonormal polynomials**\n",
    "\n",
    "Assume $\\{p_k\\}_{k=-1,0,1,...,n}$ is a family of orthonormal \n",
    "polynomials, with \n",
    "$$\n",
    "p_{-1}=0, \\qquad p_0=\\frac{1}{\\sqrt{\\beta_0}}.\n",
    "$$\n",
    "Therefore, \n",
    "$$\n",
    "p_{k+1}(x)=\\frac{x-\\alpha_k}{\\sqrt{\\beta_{k+1}}} p_k(x) - \\frac{\\sqrt{\\beta_k}}{\\sqrt{\\beta_{k+1}}} p_{k-1}(x),\n",
    "$$\n",
    "for $k=0,1,...,n$ and any $x\\in \\mathbb{R}$.\n",
    "\n",
    "On peut exprimer cette récurrence sous une forme plus commode pour le calcul. En effet, on a :\n",
    "$$\n",
    "p_{k+1}(x)=(a_k x + b_k)p_k(x) +c_k p_{k-1}(x),\n",
    "$$\n",
    "for $k=0,1,...,n$ and any $x\\in \\mathbb{R}$ avec :\n",
    "$$\n",
    "a_k = \\frac{1}{\\sqrt{\\beta_{k+1}}}, \\qquad\n",
    "b_k = - \\frac{\\alpha_k}{\\sqrt{\\beta_{k+1}}}, \\qquad\n",
    "c_k = - \\frac{\\sqrt{\\beta_k}}{\\sqrt{\\beta_{k+1}}}.\n",
    "$$"
   ]
  },
  {
   "cell_type": "markdown",
   "metadata": {
    "slideshow": {
     "slide_type": "slide"
    }
   },
   "source": [
    "## Polynômes orthogonaux et loi de distribution\n",
    "\n",
    "Chaque loi de distribution $f$ définit un produit scalaire spécifique. Cela implique que chaque distribution correspond à une famille de polynômes orthogonaux particulière.\n",
    "\n",
    "La table suivante présente les polynômes orthogonaux les plus courants pour les lois de distribution continues :\n",
    "\n",
    "| Distribution | Polynômes |\n",
    "|--|--|\n",
    "| Uniforme | Legendre |\n",
    "| Gaussienne | Hermite |\n",
    "| Gamma | Laguerre |\n",
    "\n",
    "Si la distribution n'est associée à aucune famille connue de polynômes orthogonaux, on peut créer la base polynômiale orthogonale en utilisant une variante stable de l'algorithme d'orthogonalisation de Gram-Schmidt (appelée algorithme de Stieljes modifié)."
   ]
  },
  {
   "cell_type": "markdown",
   "metadata": {
    "slideshow": {
     "slide_type": "slide"
    }
   },
   "source": [
    "## Polynômes d'Hermite\n",
    "\n",
    "In this section, we present Hermite polynomials and their properties. \n",
    "\n",
    "Hermite polynomials are associated with the Gaussian weight:\n",
    "$$\n",
    "w(x)=\\exp\\left(-\\frac{x^2}{2}\\right),\n",
    "$$\n",
    "for $x\\in\\mathbb{R}$.\n",
    "The integral of this weight is:\n",
    "$$\n",
    "\\int_\\mathbb{R} w(x) dx =\\sqrt{2\\pi}.\n",
    "$$\n",
    "The distribution function for Hermite polynomials is the standard \n",
    "Normal distribution:\n",
    "$$\n",
    "f(x)=\\frac{1}{\\sqrt{2 \\pi}} \\exp\\left(-\\frac{x^2}{2}\\right),\n",
    "$$\n",
    "for $x\\in\\mathbb{R}$. \n",
    "\n",
    "Here, we consider the *probabilist* polynomials $He_n$, \n",
    "as opposed to the *physicist* polynomials $H_n$.\n",
    "\n"
   ]
  },
  {
   "cell_type": "markdown",
   "metadata": {
    "slideshow": {
     "slide_type": "slide"
    }
   },
   "source": [
    "The first Hermite polynomials are\n",
    "$$\n",
    "He_0(x)=1, \\qquad\n",
    "He_1(x)=x.\n",
    "$$\n",
    "The remaining Hermite polynomials satisfy the recurrence:\n",
    "$$\n",
    "He_{n+1}(x) = xHe_n(x) - nHe_{n-1}(x),\n",
    "$$\n",
    "for $n=1,2,...$.\n",
    "\n",
    "The first Hermite polynomials are:\n",
    "* $He_0(x)=1$\n",
    "* $He_1(x)=x$\n",
    "* $He_2(x)=x^2-1$\n",
    "* $He_3(x)=x^3-3x$\n",
    "* $He_4(x)=x^4-6x^2+3$\n",
    "* $He_5(x)=x^5-10x^3+15x$\n",
    "\n"
   ]
  },
  {
   "cell_type": "markdown",
   "metadata": {
    "slideshow": {
     "slide_type": "slide"
    }
   },
   "source": [
    "The following figure plots the monic Hermite polynomials $He_n$, for $n=0,1,2,3,4$.\n",
    "\n",
    "![Polynômes de Hermite moniques d'ordres 0 à 4](MonicHermitePolynomials.png \"Polynômes de Hermite moniques d'ordres 0 à 4\")\n"
   ]
  },
  {
   "cell_type": "markdown",
   "metadata": {
    "slideshow": {
     "slide_type": "slide"
    }
   },
   "source": [
    "The Hermite polynomials are orthogonal with respect to the weight $w(x)$. \n",
    "Moreover, \n",
    "$$\n",
    "\\|He_n\\|^2 = \\sqrt{2\\pi} n!.\n",
    "$$\n",
    "\n",
    "Let us introduce the Hermite polynomials $\\widetilde{He}_n$ orthonormal with respect to the standardized gaussian probability density function:\n",
    "$$\n",
    "\\int_\\mathbb{R} \\widetilde{He}_j(x) \\widetilde{He}_k(x) f(x) dx = \\delta_{jk},\n",
    "$$\n",
    "where $\\delta_{jk}=1$ if $j= k$ and $\\delta_{jk}=0$ otherwise. \n",
    "\n",
    "The monic Hermite polynomials $He_n$ and the orthonormal $\\widetilde{He}_n$ are related by the equation:\n",
    "$$\n",
    "He_n = \\sqrt{n!} \\widetilde{He}_n\n",
    "$$\n",
    "for $n\\geq 0$.\n",
    "\n"
   ]
  },
  {
   "cell_type": "markdown",
   "metadata": {
    "slideshow": {
     "slide_type": "slide"
    }
   },
   "source": [
    "The following figure plots the orthonormal Hermite polynomials $\\widetilde{He}_n$, for $n=0,1,2,3,4$.\n",
    "\n",
    "![Polynômes de Hermite orthonormaux d'ordres 0 à 4](OrthonormalHermitePolynomials.png \"Polynômes de Hermite orthonormaux d'ordres 0 à 4\")\n"
   ]
  },
  {
   "cell_type": "markdown",
   "metadata": {
    "slideshow": {
     "slide_type": "slide"
    }
   },
   "source": [
    "## La variable standardisée\n",
    "\n",
    "Pour créer la base polynomiale, la pratique la plus utilisée consiste à utiliser une transformation iso-probabiliste $T$ permettant de transformer la variable aléatoire physique $X$ en une variable aléatoire standardisée $\\xi$ :\n",
    "$$\n",
    "\\xi = T(X),\n",
    "$$\n",
    "pour $X\\in\\mathbb{R}$.\n",
    "\n",
    "D'une manière générale, supposons que la variable $X$ est associée à une certaine distribution et que la famille de polynômes orthogonaux est associée à une distribution qui n'est pas nécessairement identique. \n",
    "Soit $F_X$ la fonction de répartition de la loi de distribution associée à la variable $X$ et soit $F_\\xi$ la fonction de répartition associée à la famille de polynômes orthogonaux. Dans ce cas, la transformation est :\n",
    "$$\n",
    "\\xi = F_\\xi^{-1}\\left(F_X(X)\\right),\n",
    "$$\n",
    "pour tout $X\\in\\mathbb{R}$. \n",
    "L'équation précédente revient à considérer la variable uniforme $F_X(X)$, puis à appliquer la fonction quantile $F_\\xi^{-1}$ pour obtenir la variable standardisée. \n",
    "\n",
    "Bien sûr, dans le cas où les deux distributions $F_X$ et $F_\\xi$ sont de la même famille, la seule différence entre $X$ et $\\xi$ repose uniquement sur un changement de variable qui est la plupart du temps linéaire : dans les deux exemples suivants, nous considérons les cas uniformes et gaussiens.\n",
    "\n"
   ]
  },
  {
   "cell_type": "markdown",
   "metadata": {
    "slideshow": {
     "slide_type": "slide"
    }
   },
   "source": [
    "**Exemple : variable uniforme**\n",
    "\n",
    "Si $X$ est une variable uniforme, alors la variable $\\xi$ correspondante est la variable uniforme entre -1 et 1.\n",
    "\n",
    "Considérons la variable $X \\sim \\mathcal{U}([0,10])$. La transformation isoprobabiliste est \n",
    "$$\n",
    "\\xi = \\frac{X}{5} - 1\n",
    "$$\n",
    "Cela mène à la variable standardisée $\\xi \\sim \\mathcal{U}([-1,1])$ et correspond aux polynômes de *Legendre* :\n",
    "$$\n",
    "\\pi_0(\\xi) = 1 ,  \\quad \n",
    "\\pi_1(\\xi) = \\sqrt{3} \\xi , \\quad  \n",
    "\\pi_2(\\xi) = \\frac{\\sqrt{5}}{2}(3\\xi^2-1) ,  \\dots \n",
    "$$\n",
    "pour tout $\\xi\\in\\mathbb{R}$.\n",
    "\n"
   ]
  },
  {
   "cell_type": "markdown",
   "metadata": {
    "slideshow": {
     "slide_type": "slide"
    }
   },
   "source": [
    "**Exemple : variable gaussienne**\n",
    "\n",
    "Si $X$ est une variable gaussienne, alors la variable $\\xi$ correspondante est la variable gaussienne centrée-réduite de moyenne 0 et d'écart-type 1.\n",
    "\n",
    "Considérons la variable $X \\sim \\mathcal{N}(5, 1)$. La transformation isoprobabiliste est \n",
    "$$\n",
    "\\xi = X-5.\n",
    "$$\n",
    "Cela mène à la variable standardisée $\\xi \\sim \\mathcal{N}(0,1)$ et aux polynômes d'Hermite :\n",
    "$$\n",
    "\\pi_0(\\xi) = 1 ,  \\quad \n",
    "\\pi_{1}(\\xi) = \\xi  , \\quad  \n",
    "\\pi_2(\\xi) = \\frac{\\sqrt{2}}{2}  \\left( \\xi^2 - 1 \\right)  ,  \\dots\n",
    "$$\n",
    "pour tout $\\xi\\in\\mathbb{R}$.\n",
    "\n",
    "Soit $\\left\\{\\psi_j(X), X\\in\\mathbb{R}^p\\right\\}_{j\\geq 0}$ une famille de polynômes orthogonaux multivariés sur les variables physiques $X\\in\\mathbb{R}^p$. On note $\\left\\{\\psi_j(\\xi), \\xi\\in\\mathbb{R}^p\\right\\}_{j\\geq 0}$ la famille de polynômes orthogonaux multivariés sur les variables standardisées $\\xi\\in\\mathbb{R}^p$."
   ]
  }
 ],
 "metadata": {
  "celltoolbar": "Slideshow",
  "kernelspec": {
   "display_name": "Python 3",
   "language": "python",
   "name": "python3"
  },
  "language_info": {
   "codemirror_mode": {
    "name": "ipython",
    "version": 3
   },
   "file_extension": ".py",
   "mimetype": "text/x-python",
   "name": "python",
   "nbconvert_exporter": "python",
   "pygments_lexer": "ipython3",
   "version": "3.8.3"
  }
 },
 "nbformat": 4,
 "nbformat_minor": 1
}
