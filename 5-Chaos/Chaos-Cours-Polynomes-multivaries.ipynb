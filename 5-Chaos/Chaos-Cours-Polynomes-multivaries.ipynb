{
 "cells": [
  {
   "cell_type": "markdown",
   "metadata": {
    "slideshow": {
     "slide_type": "slide"
    }
   },
   "source": [
    "# Polynômes orthogonaux multivariés\n",
    "\n",
    "## Résumé\n",
    "\n",
    "Dans cette page, nous présentons la création d'une base de polynômes multivariée construite par tensorisation de polynômes orthogonaux univariés et analysons différentes règles d'énumérations des multi-indices associés. Enfin, nous présentons comment obtenir les variables standardisées $\\xi$ associées aux variables physiques $X$. "
   ]
  },
  {
   "cell_type": "markdown",
   "metadata": {
    "slideshow": {
     "slide_type": "slide"
    }
   },
   "source": [
    "## Références\n",
    "\n",
    "OpenTURNS :\n",
    "* http://openturns.github.io/openturns/master/theory/meta_modeling/chaos_basis.html\n",
    "* http://openturns.github.io/openturns/master/theory/meta_modeling/orthorgonal_polynomials.html\n",
    "* http://openturns.github.io/openturns/master/user_manual/_generated/openturns.LinearEnumerateFunction.html\n",
    "* http://openturns.github.io/openturns/master/user_manual/_generated/openturns.HyperbolicAnisotropicEnumerateFunction.html\n",
    "\n",
    "Ouvrages et articles :\n",
    "* O.P Le Maître, O.M.Knio, Spectral methods for uncertainty quantification, Springer, 2010\n",
    "* Wuan Luo. Wiener Chaos Expansion and Numerical Solutions of Stochastic Stochastic Partial Differential Equations. PhD thesis, California Institute of Technology, May 2006.\n",
    "* R. H. Cameron and W. T. Martin. The orthogonal development of nonlinear functionals in series of Fourier-Hermite functionals. Annals of Mathematics, 48(2):385-392, April 1947.\n",
    "\n",
    "Pour les plus aventuriers, vous pouvez prendre de risque de consulter mon propre texte qui contient la démonstration de plusieurs résultats présentés ici.\n",
    "* Introduction to polynomials chaos with NISP. Michael Baudin. Version 0.5. March 2015"
   ]
  },
  {
   "cell_type": "markdown",
   "metadata": {
    "slideshow": {
     "slide_type": "slide"
    }
   },
   "source": [
    "## Vecteur aléatoire d'entrée\n",
    "\n",
    "On considère une variable aléatoire $X\\in\\mathbb{R}^p$ où $p$ est la dimension de l'entrée.\n",
    "\n",
    "Supposons que les marginales de $X$ sont indépendantes. Soit $T_i$ la transformation permettant de transformer la variable aléatoire physique $X$ en une variable aléatoire standardisée $\\xi$ :\n",
    "$$\n",
    "\\xi_i = T_i(X_i),\n",
    "$$\n",
    "pour $i=1,\\dots,p$.\n",
    "\n",
    "Sous ces hypothèses, notons $f_{\\xi_i}$ la loi marginale de la variable aléatoire $\\xi_i$, pour $i=1,...,p$. Puisque les variables sont indépentantes, la densité de probabilité du vecteur aléatoire $\\xi$ est le produit des lois marginales, c'est à dire :\n",
    "$$\n",
    "f_\\xi(\\xi) = \\prod_{i=1}^p f_{\\xi_i}(\\xi_i)\n",
    "$$\n",
    "pour tout $\\xi\\in\\mathbb{R}^p$. \n"
   ]
  },
  {
   "cell_type": "markdown",
   "metadata": {
    "slideshow": {
     "slide_type": "slide"
    }
   },
   "source": [
    "## Polynôme univariés orthogonaux\n",
    "\n",
    "Pour chaque variable aléatoire marginale $\\xi_i$, nous choisissons une famille de polynômes orthogonaux par rapport à la mesure $f_{\\xi_i}$. Pour $i=1,...,p$, notons \n",
    "$$\n",
    "\\left\\{ \\pi^{(i)}_j, j\\geq 0\\right\\}\n",
    "$$ \n",
    "la famile de polynômes orthogonaux associés à la variable $\\xi_i$ où $\\pi^{(i)}_j$ est le polynôme de degré $j$ associée à la variable $X_i$. \n",
    "\n",
    "On considère le produit scalaire :\n",
    "$$\n",
    "\\left( \\pi^{(i)}_j,\\pi^{(i)}_k \\right) = \\int_{\\mathbb{R}} \\pi^{(i)}_{j}(\\xi) \\pi^{(i)}_{k}(\\xi) f_{\\xi_i}(\\xi_i) d\\xi_i,\n",
    "$$\n",
    "pour $j,k\\geq 0$. \n",
    "\n",
    "On dit que les polynômes $\\pi^{(i)}_j$ sont *orthonormés* si le produit scalaire entre deux polynômes est égal à 1 si les polynômes sont égaux et à 0 sinon :\n",
    "$$\n",
    "\\left( \\pi^{(i)}_j,\\pi^{(i)}_k \\right) = \\delta_{j,k},\n",
    "$$\n",
    "pour $j,k\\geq 0$. \n"
   ]
  },
  {
   "cell_type": "markdown",
   "metadata": {
    "slideshow": {
     "slide_type": "slide"
    }
   },
   "source": [
    "## Polynômes multivariés par tensorisation\n",
    "\n",
    "On peut créer la base polynômiale multivariée par *tensorisation* des polynômes univariés. Ce procédé consiste à multiplier des polynômes univariés de différentes variables pour créer un polynôme multivarié. Pour cela, nous allons définir les multi-indices associés aux degrés des polynômes univariés. Soit ${\\bf \\alpha}$ le multi-indice défini par \n",
    "$$\n",
    "\\alpha = (\\alpha_1,...,\\alpha_p),\n",
    "$$\n",
    "où $\\alpha_1,...,\\alpha_p \\in\\mathbf{N}$. Dans ce multi-indice, la composante $\\alpha_i$ représente le degré du polynôme associé à la variable $X_i$, pour $i=1,...,p$. Alors, le polynôme multivarié $\\psi_{\\alpha}$ est défini comme le produit :\n",
    "$$\n",
    "\\psi_{\\alpha}(\\xi) = \\pi^{(1)}_{\\alpha_1}(\\xi_1) \\times \\cdots \\times \\pi^{(p)}_{\\alpha_p}(\\xi_p)\n",
    "$$\n",
    "pour tout $\\xi\\in\\mathbb{R}^p$. Le degré *total* du polynôme multivarié $\\psi_{\\alpha}$, noté $|\\alpha|$, est la somme des degrés des polynômes multivariés qui le composent :\n",
    "$$\n",
    "|\\alpha| = \\alpha_1 + ... + \\alpha_p.\n",
    "$$\n",
    "\n",
    "L'ensemble des multi-indices en dimension $p$ est noté :\n",
    "$$\n",
    "\\mathcal{J}=\\left\\{\\alpha=(\\alpha_1,...,\\alpha_p), \\alpha_i\\in\\{0,1,2,...\\}\\right\\}.\n",
    "$$"
   ]
  },
  {
   "cell_type": "markdown",
   "metadata": {
    "slideshow": {
     "slide_type": "slide"
    }
   },
   "source": [
    "## Règle d'énumération\n",
    "\n",
    "La manière la plus simple de créer des polynômes multivariés consiste donc à choisir une manière de générer les multi-indices $\\alpha$ : faire la liste des polynômes multivariés revient donc à faire la liste des multi-indices $\\alpha$. Il existe plusieurs manières d'énumérer les multi-indices associés à un degré total donné. La règle la plus intuitive consiste à énumérer les polynômes dans l'ordre suivant :\n",
    "* les polynômes multivariés de degré total égal à zéro,\n",
    "* les polynômes multivariés de degré total égal à 1,\n",
    "* les polynômes multivariés de degré total égal à 2,\n",
    "* etc...\n",
    "\n",
    "Cette règle s'appelle dans OpenTURNS la règle d'énumération *linéaire*. \n",
    "Pour une valeur donnée de $|\\alpha|$, l'algorithme consiste à parcourir toutes les valeurs possibles des degrés $\\alpha_i$ dont la somme vaut $|\\alpha|$. \n",
    "\n"
   ]
  },
  {
   "cell_type": "markdown",
   "metadata": {
    "slideshow": {
     "slide_type": "slide"
    }
   },
   "source": [
    "Par exemple, la table suivante présente les 15 premiers polynômes de degré inférieur à 2 en dimension 4.\n",
    "\n",
    "| Indice | Degré | Multi-indice  |\n",
    "|---|---|---|\n",
    "| 0  | 0      | (0,0,0,0)   |\n",
    "| 1  | 1      | (1,0,0,0)   |\n",
    "| 2  | 1      | (0,1,0,0)   |\n",
    "| 3  | 1      | (0,0,1,0)   |\n",
    "| 4  | 1      | (0,0,0,1)   |\n",
    "| 5  | 2      | (2,0,0,0)   |\n",
    "| 6  | 2      | (1,1,0,0)   |\n",
    "| 7  | 2      | (1,0,1,0)   |\n",
    "| 8  | 2      | (1,0,0,1)   |\n",
    "| 9  | 2      | (0,2,0,0)   |\n",
    "| 10 | 2      | (0,1,1,0)   |\n",
    "| 11 | 2      | (0,1,0,1)   |\n",
    "| 12 | 2      | (0,0,2,0)   |\n",
    "| 13 | 2      | (0,0,1,1)   |\n",
    "| 14 | 2      | (0,0,0,2)   |\n",
    "\n",
    "Un algorithme d'énumération linéaire des multi-indices est donné dans (LeMaître, Knio, 2010), annexe C.2.1, page 516.\n"
   ]
  },
  {
   "cell_type": "markdown",
   "metadata": {
    "slideshow": {
     "slide_type": "slide"
    }
   },
   "source": [
    "En utilisant les multi-indices, on note $\\left\\{\\psi_\\alpha\\right\\}_{\\alpha\\in\\mathcal{J}}$ une famille de polynômes orthogonaux multivariés. Une règle d'énumération étant donnée, on peut ordonner les polynômes multivariés associés. Cela permet de substituer les multi-indices $\\alpha\\in\\mathcal{J}$ par des entiers $j\\geq 0$, l'ordre d'apparition des polynômes étant fixé par la règle d'énumération. Dans la suite, nous notons $\\left\\{\\psi_j\\right\\}_{j\\geq 0}$ une famille de polynômes orthogonaux multivariés."
   ]
  },
  {
   "cell_type": "markdown",
   "metadata": {
    "slideshow": {
     "slide_type": "slide"
    }
   },
   "source": [
    "## Nombre de polynômes multivariés\n",
    "\n",
    "**Proposition: Nombre de polynômes multivariés**\n",
    "\n",
    "Le nombre de polynômes multivariés de degré $d$ associés à $p$ variables est (voir (Le Maître, Knio, 2010) page 33):\n",
    "$$\n",
    "P = {p+d\\choose d}.\n",
    "$$\n",
    "\n",
    "La table suivante présente $P$ pour différentes valeurs de $p$ et $d$.\n",
    "\n",
    "| p\\ d | 0 | 1 | 2 | 3 | 4 | 5 | 6 |\n",
    "|---|---|---|---|---|---|---|---|\n",
    "| 1|1|2|3|4|5|6|7    |\n",
    "| 2|1|3|6|10|15|21|28    |\n",
    "| 3|1|4|10|20|35|56|84   |\n",
    "| 4|1|5|15|35|70|126|210    |\n",
    "| 5|1|6|21|56|126|252|462    |\n",
    "| 6|1|7|28|84|210|462|924   |\n"
   ]
  },
  {
   "cell_type": "markdown",
   "metadata": {
    "slideshow": {
     "slide_type": "slide"
    }
   },
   "source": [
    "## Polynômes orthonomaux multivariés\n",
    "\n",
    "Soit $\\left\\{\\psi_j\\right\\}_{j\\geq 0}$ une famille de polynômes orthogonaux multivariés. On définit le produit scalaire entre deux polynômes : \n",
    "$$\n",
    "\\left( \\psi_{j}(\\xi),\\psi_{k}(\\xi) \\right) = \\mathbb{E} \\left(\\psi_{j}(\\xi) \\psi_{k}(\\xi)\\right)\n",
    "$$\n",
    "pour $j,k\\geq 0$. Par définition de l'espérance, on a :\n",
    "$$\n",
    "\\left( \\psi_{j}(\\xi),\\psi_{k}(\\xi) \\right) = \\int_{\\mathbb{R}^p} \\psi_{j}(\\xi) \\psi_{k}(\\xi) f_\\xi(\\xi) d\\xi.\n",
    "$$\n",
    "On utilise la norme :\n",
    "$$\n",
    "\\|\\psi_{j}\\|^2 = \\left( \\psi_{j}(\\xi),\\psi_{j}(\\xi) \\right)\n",
    "$$\n",
    "pour tout $j\\neq 0$.\n",
    "\n",
    "On note $\\delta_{j,k}$ le symbole de Kronecker :\n",
    "$$\n",
    "\\delta_{j,k} = \n",
    "\\begin{cases} \n",
    "1 & \\mbox{si } j=k,  \\\\ \n",
    "0 & \\mbox{si } j \\ne k \n",
    "\\end{cases},\n",
    "$$\n",
    "pour tout $j,k\\geq 0$.\n",
    "\n",
    "Si les polynômes univariés sont orthonomaux et si les variables sont indépendantes, on peut démontrer que les polynômes $\\psi_j$ sont orthogonaux, c'est à dire que le produit scalaire est égal à zéro pour deux polynômes différents ou égal à un sinon :\n",
    "$$\n",
    "\\left( \\psi_j(\\xi),\\psi_k(\\xi) \\right) = \\delta_{j,k},\n",
    "$$\n",
    "pour $j,k\\geq 1$.\n"
   ]
  }
 ],
 "metadata": {
  "celltoolbar": "Slideshow",
  "kernelspec": {
   "display_name": "Python 3",
   "language": "python",
   "name": "python3"
  },
  "language_info": {
   "codemirror_mode": {
    "name": "ipython",
    "version": 3
   },
   "file_extension": ".py",
   "mimetype": "text/x-python",
   "name": "python",
   "nbconvert_exporter": "python",
   "pygments_lexer": "ipython3",
   "version": "3.7.4"
  }
 },
 "nbformat": 4,
 "nbformat_minor": 1
}
