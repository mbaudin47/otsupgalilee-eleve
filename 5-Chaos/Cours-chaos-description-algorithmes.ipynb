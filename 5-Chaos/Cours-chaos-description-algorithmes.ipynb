{
 "cells": [
  {
   "cell_type": "markdown",
   "metadata": {},
   "source": [
    "# Chaos polynomial : description des algorithmes\n",
    "\n",
    "Dans cette page, nous décrivons les algorithmes principaux du chaos polynomial dans OpenTURNS.\n"
   ]
  },
  {
   "cell_type": "markdown",
   "metadata": {},
   "source": [
    "## La classe FunctionalChaosAlgorithm\n",
    "\n",
    "La méthode `run` de la classe `FunctionalChaosAlgorithm` réalise les étapes suivantes.\n",
    "* Création de la fonction composée $Y = g(T^{-1}(\\xi))$ à partir de la fonction $g$ et de la transformation iso-probabiliste $T$. Cela fait appel à la classe `ComposedFunction`. \n",
    "* Pour chaque composante du vecteur de sortie $Y$, l'algorithme calcule la décomposition de la composante. Le résultat principal de cette étape est la liste des indices des coefficients et la valeur des coefficients.\n",
    "\n",
    "Pour une composante donnée du vecteur de sortie, l'algorithme est le suivant.\n",
    "* Calcul de la base polynomiale initiale avec la méthode `computeInitialBasis` de la classe `AdaptiveStrategy`.\n",
    "* Tant que\n",
    "  * Calcul des coefficients associés à la stratégie de projection par appel à la méthode `computeCoefficients` de la classe `ProjectionStrategy`.\n",
    "  * Si les résidus sont inférieurs au seuil, l'algorithme s'arrête.\n",
    "  * Met à jour la base polynomiale avec la méthode `updateBasis` de la classe `AdaptiveStrategy`.\n",
    "  * Si l'objet `adaptiveStrategy` n'a pas vu sa base polynomial ni augmentée, ni réduite, alors l'algorithme s'arrête."
   ]
  },
  {
   "cell_type": "markdown",
   "metadata": {},
   "source": [
    "## Variantes d'AdaptiveStrategy\n",
    "\n",
    "Les implémentations d'AdaptiveStrategy ont pour objectif de générer des métamodèles de chaos polynomial creux, dans lesquels le nombre de coefficients est limité. L'intérêt de ces algorithmes est de pouvoir limiter l'effet du surapprentissage lorsque le nombre de coefficients augmente. Ils sont une alternative technique statistiquement moins fondée que la méthode de sélection de modèle LARS, qui est décrite dans la suite.\n",
    "\n",
    "Trois implémentations d'`AdaptiveStragy` sont disponibles.\n",
    "* Dans la classe `FixedStrategy`, l'utilisateur fixe un indice maximal de coefficient. \n",
    "  * Le calcul de la base initial par `computeInitialBasis` génère toute la base fonctionnelle jusqu'à un indice maximal donné par l'utilisateur à la création de l'objet. \n",
    "  * La méthode `updateBasis` n'a pas d'effet.\n",
    "* Dans la classe `SequentialStrategy`, l'utilisateur fixe une taille maximale pour le nombre de coefficients dans la base polynomiale. \n",
    "  * Le calcul de la base initial par `computeInitialBasis` génère le premier élément de la base, d'indice 0. \n",
    "  * La méthode `updateBasis` fonctionne de la manière suivante.\n",
    "    * Si la base contient déjà un nombre maximal de coefficients donné par l'utilisateur lors de la création de l'objet, la méthode ne fait rien.\n",
    "    * Sinon, elle ajoute le coefficient dans la base. \n",
    "* Dans la classe `CleaningStrategy`, l'utilisateur fixe \n",
    "  * un nombre maximum de coefficients dans la base,\n",
    "  * le nombre de termes retenus,\n",
    "  * un seuil de significativité.\n",
    "  * Le calcul de la base initial par `computeInitialBasis` génère tous les éléments jusqu'au minimum du nombre de coefficients maximum et du nombre de termes retenus.\n",
    "  * La méthode `updateBasis` fonctionne sur la base d'un tri des coefficients par ordre décroissant en valeur absolue. L'algorithme peut ajouter ou retirer des éléments dans la base.\n",
    "  \n"
   ]
  },
  {
   "cell_type": "markdown",
   "metadata": {},
   "source": [
    "## Calcul des coefficients par ProjectionStrategy\n",
    "\n",
    "La classe `ProjectionStrategy` possède deux implémentations pour estimer les coefficients.\n",
    "* La classe `LeastSquaresStrategy` implémente les moindres carrés.\n",
    "* La classe `IntegrationStrategy` implémente la méthode d'estimation par intégration.\n"
   ]
  }
 ],
 "metadata": {
  "kernelspec": {
   "display_name": "Python 3",
   "language": "python",
   "name": "python3"
  },
  "language_info": {
   "codemirror_mode": {
    "name": "ipython",
    "version": 3
   },
   "file_extension": ".py",
   "mimetype": "text/x-python",
   "name": "python",
   "nbconvert_exporter": "python",
   "pygments_lexer": "ipython3",
   "version": "3.7.0"
  }
 },
 "nbformat": 4,
 "nbformat_minor": 2
}
