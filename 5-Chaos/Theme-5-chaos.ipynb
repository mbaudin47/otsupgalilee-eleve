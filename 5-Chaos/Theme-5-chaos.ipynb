{
 "cells": [
  {
   "cell_type": "markdown",
   "metadata": {},
   "source": [
    "# Thème 5 - chaos polynomial\n",
    "\n",
    "## Introduction\n",
    "\n",
    "L'objectif de cette séquence est de créer un métamodèle de type chaos polynomial, c'est à dire de substituer une fonction peu coûteuse (le métamodèle) à la place de la fonction $g$ initiale (le modèle).\n",
    "\n",
    "## Vue d'ensemble\n",
    "\n",
    "- Polynômes orthogonaux : \n",
    "  - Rappels de cours : Chaos-Cours-Polynomes-orthogonaux.ipynb\n",
    "  - Exercice : Exercice-polynomes-orthogonaux-cantilever-beam.ipynb\n",
    "- Polynômes orthogonaux multivariés : \n",
    "  - Rappels de cours : Chaos-Cours-Polynomes-multivaries.ipynb\n",
    "  - Exercice : Exercice-polynomes-multivaries-cantilever-beam.ipynb\n",
    "- Polynômes du chaos : \n",
    "  - Rappels de cours : Chaos-Cours-chaos-polynomial-decomposition.ipynb\n",
    "  - Exercice : Exercice-Chaos-cantilever-beam.ipynb\n",
    "\n",
    "- Devoir à la maison : création d'une quadrature de Gauss : Exercice-gauss-quadrature.ipynb\n",
    "\n",
    "## Annexe\n",
    "\n",
    "* Les distributions non déterminées par leurs moments ; l'exemple de la loi log-normale : Chaos-Cours-Polynomes-orthogonaux-moments.ipynb\n",
    "* La transformation iso-probabiliste du chaos : Exercice-chaos-Distribution-transformation.ipynb\n",
    "* Sensibilité du Q2 au degré du polynôme : Chaos-poutre-sensibilite-degre.ipynb"
   ]
  },
  {
   "cell_type": "code",
   "execution_count": null,
   "metadata": {},
   "outputs": [],
   "source": []
  }
 ],
 "metadata": {
  "kernelspec": {
   "display_name": "Python 3",
   "language": "python",
   "name": "python3"
  },
  "language_info": {
   "codemirror_mode": {
    "name": "ipython",
    "version": 3
   },
   "file_extension": ".py",
   "mimetype": "text/x-python",
   "name": "python",
   "nbconvert_exporter": "python",
   "pygments_lexer": "ipython3",
   "version": "3.7.4"
  }
 },
 "nbformat": 4,
 "nbformat_minor": 2
}
