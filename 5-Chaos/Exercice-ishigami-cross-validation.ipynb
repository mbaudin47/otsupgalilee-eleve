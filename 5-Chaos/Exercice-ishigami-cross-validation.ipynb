{
 "cells": [
  {
   "cell_type": "markdown",
   "id": "6609568e",
   "metadata": {},
   "source": [
    "# Cross-validation of the Ishigami model\n",
    "\n",
    "In this example, we show how to perform the cross-validation of the Ishigami model using polynomial chaos expansion. More precisely, we use the methods suggested in [Müller & Guido, 2016], chapter 5, page 257. We make the assumption that a dataset is given and we create a metamodel using this data. Once done, we want to assess the quality of the metamodel using the data we have. \n",
    "\n",
    "We compare several methods:\n",
    "- split the data into two subsets, one for training and one for testing,\n",
    "- use k-fold validation.\n",
    "\n",
    "The split of the data is performed by the `compute_Q2_score_by_splitting` function below. It uses 75% of the data to estimate the coefficients of the metamodel (this is the training step) and use 25% of the data to estimate the $Q^2$ score (this is the validation step). To do this, we use the `split` method of the `Sample`. \n",
    "\n",
    "The K-Fold validation is performed by the `compute_Q2_score_by_kfold` function below. It uses the K-Fold method with $k = 5$. The code uses the `KFoldSplitter` class, which computes the appropriate indices. \n",
    "\n",
    "This cross-validation method is used here to see which polynomial degree leads to an accurate metamodel of the Ishigami test function.\n",
    "\n",
    "## References\n",
    "- Müller, A. C., & Guido, S. (2016). Introduction to machine learning with Python: a guide for data scientists. \" O'Reilly Media, Inc.\"."
   ]
  },
  {
   "cell_type": "code",
   "execution_count": 1,
   "id": "df0ad1d9",
   "metadata": {},
   "outputs": [],
   "source": [
    "import openturns as ot\n",
    "import openturns.viewer as otv\n",
    "import pylab as pl\n",
    "\n",
    "from openturns.usecases import ishigami_function as ishigami_function"
   ]
  },
  {
   "cell_type": "code",
   "execution_count": 2,
   "id": "b1ee7966",
   "metadata": {},
   "outputs": [],
   "source": [
    "execute_fast = True  # Set to False for real simulations"
   ]
  },
  {
   "cell_type": "code",
   "execution_count": 3,
   "id": "1aead4a7-812f-4565-84a0-74c007615c71",
   "metadata": {},
   "outputs": [],
   "source": [
    "def compute_sparse_least_squares_chaos(\n",
    "    inputTrain, outputTrain, multivariateBasis, totalDegree, myDistribution\n",
    "):\n",
    "    \"\"\"\n",
    "    Create a sparse polynomial chaos based on least squares.\n",
    "\n",
    "    * Uses the enumerate rule in multivariateBasis.\n",
    "    * Uses the LeastSquaresStrategy to compute the coefficients based on\n",
    "      least squares.\n",
    "    * Uses LeastSquaresMetaModelSelectionFactory to use the LARS selection method.\n",
    "    * Uses FixedStrategy in order to keep all the coefficients that the\n",
    "      LARS method selected.\n",
    "\n",
    "    Parameters\n",
    "    ----------\n",
    "    inputTrain : ot.Sample\n",
    "        The input design of experiments.\n",
    "    outputTrain : ot.Sample\n",
    "        The output design of experiments.\n",
    "    multivariateBasis : ot.Basis\n",
    "        The multivariate chaos basis.\n",
    "    totalDegree : int\n",
    "        The total degree of the chaos polynomial.\n",
    "    myDistribution : ot.Distribution.\n",
    "        The distribution of the input variable.\n",
    "    Returns\n",
    "    -------\n",
    "    result : ot.PolynomialChaosResult\n",
    "        The estimated polynomial chaos.\n",
    "    \"\"\"\n",
    "    selectionAlgorithm = ot.LeastSquaresMetaModelSelectionFactory()\n",
    "    projectionStrategy = ot.LeastSquaresStrategy(\n",
    "        inputTrain, outputTrain, selectionAlgorithm\n",
    "    )\n",
    "    enumfunc = multivariateBasis.getEnumerateFunction()\n",
    "    basisSize = enumfunc.getBasisSizeFromTotalDegree(totalDegree)\n",
    "    adaptiveStrategy = ot.FixedStrategy(multivariateBasis, basisSize)\n",
    "    chaosalgo = ot.FunctionalChaosAlgorithm(\n",
    "        inputTrain, outputTrain, myDistribution, adaptiveStrategy, projectionStrategy\n",
    "    )\n",
    "    chaosalgo.run()\n",
    "    result = chaosalgo.getResult()\n",
    "    return result"
   ]
  },
  {
   "cell_type": "code",
   "execution_count": 4,
   "id": "c50292ec-22a4-4544-9e55-3ecdc243783d",
   "metadata": {},
   "outputs": [],
   "source": [
    "def compute_Q2_score_by_splitting(\n",
    "    X_dataset,\n",
    "    Y_dataset,\n",
    "    multivariateBasis,\n",
    "    totalDegree,\n",
    "    myDistribution,\n",
    "    split_fraction=0.75,\n",
    "):\n",
    "    \"\"\"\n",
    "    Compute Q2 score by splitting into train/test sets.\n",
    "    Parameters\n",
    "    ----------\n",
    "    X_dataset : ot.Sample(size, input_dimension)\n",
    "        The X dataset.\n",
    "    Y_dataset : ot.Sample(size, output_dimension)\n",
    "        The Y dataset.\n",
    "    Returns\n",
    "    -------\n",
    "    Q2_score : float\n",
    "        The Q2 score.\n",
    "    \"\"\"\n",
    "\n",
    "    training_sample_size = X_dataset.getSize()\n",
    "    X_train = ot.Sample(X_dataset)\n",
    "    Y_train = ot.Sample(Y_dataset)\n",
    "    split_index = int(split_fraction * training_sample_size)\n",
    "    X_test = X_train.split(split_index)\n",
    "    Y_test = Y_train.split(split_index)\n",
    "    result = compute_sparse_least_squares_chaos(\n",
    "        X_train, Y_train, multivariateBasis, totalDegree, myDistribution\n",
    "    )\n",
    "    metamodel = result.getMetaModel()\n",
    "    val = ot.MetaModelValidation(Y_test, metamodel(X_test))\n",
    "    Q2_score = val.computeR2Score()[0]\n",
    "    return Q2_score"
   ]
  },
  {
   "cell_type": "code",
   "execution_count": 5,
   "id": "a2e39284-17e4-44d0-a4ae-a1858c042f04",
   "metadata": {},
   "outputs": [],
   "source": [
    "def compute_Q2_score_by_kfold(\n",
    "    X_dataset,\n",
    "    Y_dataset,\n",
    "    multivariateBasis,\n",
    "    totalDegree,\n",
    "    myDistribution,\n",
    "    number_of_folds=5,\n",
    "):\n",
    "    \"\"\"\n",
    "    Compute score by KFold.\n",
    "    Parameters\n",
    "    ----------\n",
    "    X_dataset : ot.Sample(size, input_dimension)\n",
    "        The X dataset.\n",
    "    Y_dataset : ot.Sample(size, output_dimension)\n",
    "        The Y dataset.\n",
    "    Returns\n",
    "    -------\n",
    "    Q2_score : float\n",
    "        The Q2 score.\n",
    "    \"\"\"\n",
    "    #\n",
    "    training_sample_size = X_dataset.getSize()\n",
    "    splitter = ot.KFoldSplitter(training_sample_size, number_of_folds)\n",
    "    Q2_score_list = ot.Sample(0, 1)\n",
    "    for indices1, indices2 in splitter:\n",
    "        X_train, X_test = X_dataset[indices1], X_dataset[indices2]\n",
    "        Y_train, Y_test = Y_dataset[indices1], Y_dataset[indices2]\n",
    "        result = compute_sparse_least_squares_chaos(\n",
    "            X_train, Y_train, multivariateBasis, totalDegree, myDistribution\n",
    "        )\n",
    "        metamodel = result.getMetaModel()\n",
    "        val = ot.MetaModelValidation(Y_test, metamodel(X_test))\n",
    "        Q2_local = val.computeR2Score()[0]\n",
    "        Q2_score_list.add([Q2_local])\n",
    "    Q2_score = Q2_score_list.computeMean()[0]\n",
    "    return Q2_score"
   ]
  },
  {
   "cell_type": "markdown",
   "id": "51edfbac",
   "metadata": {},
   "source": [
    "We start by generating the input and output sample. We use a sample size equal to 1000. "
   ]
  },
  {
   "cell_type": "code",
   "execution_count": 6,
   "id": "b2c95f57",
   "metadata": {},
   "outputs": [
    {
     "name": "stdout",
     "output_type": "stream",
     "text": [
      "Input sample:\n",
      "    [ $X_0$     $X_1$     $X_2$     ]\n",
      "0 : [  0.816038  2.67553   0.501506 ]\n",
      "1 : [  2.40524  -2.19212  -0.705186 ]\n",
      "2 : [ -2.29163   1.30032  -1.41281  ]\n",
      "3 : [ -2.93737  -0.733649  2.30831  ]\n",
      "4 : [ -0.960969 -0.43361  -2.39129  ]\n",
      "Output sample:\n",
      "    [ $Y$      ]\n",
      "0 : [  2.14659 ]\n",
      "1 : [  5.31621 ]\n",
      "2 : [  5.44969 ]\n",
      "3 : [  2.35982 ]\n",
      "4 : [ -2.26455 ]\n"
     ]
    }
   ],
   "source": [
    "im = ishigami_function.IshigamiModel()\n",
    "\n",
    "im.inputDistribution.setDescription([\"$X_0$\", \"$X_1$\", \"$X_2$\"])\n",
    "im.model.setOutputDescription([\"$Y$\"])\n",
    "\n",
    "sample_size = 1000\n",
    "X_dataset = im.inputDistribution.getSample(sample_size)\n",
    "print(\"Input sample:\")\n",
    "print(X_dataset[:5])\n",
    "Y_dataset = im.model(X_dataset)\n",
    "Y_dataset.setDescription([\"$Y$\"])\n",
    "print(\"Output sample:\")\n",
    "print(Y_dataset[:5])"
   ]
  },
  {
   "cell_type": "markdown",
   "id": "230f5f91",
   "metadata": {},
   "source": [
    "## Create a metamodel"
   ]
  },
  {
   "cell_type": "markdown",
   "id": "8fafd095",
   "metadata": {},
   "source": [
    "We compute a polynomial chaos decomposition with a total degree equal to 5. In order to reduce the number of coefficients, we create a sparse chaos using regression and the LARS. "
   ]
  },
  {
   "cell_type": "code",
   "execution_count": 7,
   "id": "606434a5",
   "metadata": {},
   "outputs": [],
   "source": [
    "dimension = im.inputDistribution.getDimension()\n",
    "multivariateBasis = ot.OrthogonalProductPolynomialFactory(\n",
    "    [im.inputDistribution.getMarginal(i) for i in range(dimension)]\n",
    ")\n",
    "\n",
    "totalDegree = 5  # Polynomial degree\n",
    "result = compute_sparse_least_squares_chaos(\n",
    "    X_dataset, Y_dataset, multivariateBasis, totalDegree, im.inputDistribution\n",
    ")\n",
    "metamodel = result.getMetaModel()"
   ]
  },
  {
   "cell_type": "markdown",
   "id": "174a86e1",
   "metadata": {},
   "source": [
    "## Validation"
   ]
  },
  {
   "cell_type": "markdown",
   "id": "48d59344",
   "metadata": {},
   "source": [
    "In order to validate our polynomial chaos, we generate an extra pair of input / output samples and use the `MetaModelValidation` class. "
   ]
  },
  {
   "cell_type": "code",
   "execution_count": 8,
   "id": "01e65404",
   "metadata": {},
   "outputs": [
    {
     "data": {
      "image/png": "[encoded data removed]",
      "text/plain": [
       "<Figure size 400x300 with 1 Axes>"
      ]
     },
     "metadata": {},
     "output_type": "display_data"
    }
   ],
   "source": [
    "test_sample_size = 200  # Size of the validation design of experiments\n",
    "inputTest = im.inputDistribution.getSample(test_sample_size)\n",
    "outputTest = im.model(inputTest)\n",
    "validation = ot.MetaModelValidation(outputTest, metamodel(inputTest))\n",
    "Q2 = validation.computeR2Score()[0]\n",
    "graph = validation.drawValidation()\n",
    "graph.setTitle(\"Q2=%.2f, n=%d\" % (Q2, test_sample_size))\n",
    "view = otv.View(graph, figure_kw={\"figsize\": (4.0, 3.0)})"
   ]
  },
  {
   "cell_type": "markdown",
   "id": "babb57dc",
   "metadata": {},
   "source": [
    "The plot shows that the score is relatively high and might be satisfactory for some purposes. There are however several issues with the previous procedure.\n",
    "\n",
    "- It may happen that the data in the validation sample with size 200 is more difficult to fit than the data in the training dataset. In this case, the $Q^2$ score may be pessimistic. \n",
    "- It may happen that the data in the 1000 validation sample with size 200 is less difficult to fit than the data in the validation dataset. In this case, the $Q^2$ score may be optimistic. \n",
    "- We may not be able to generate an extra dataset for validation. In this case, a part of the original dataset should be used for validation.\n",
    "- The polynomial degree may not be appropriate for this data. \n",
    "- The dataset may be ordered in some way, so that the split is somewhat arbitrary. One solution to circumvent this is to randomly shuffle the data.\n",
    "\n",
    "The K-Fold validation aims at solving some of these issues, so that all the available data is used in order to estimate the $Q^2$ score. "
   ]
  },
  {
   "cell_type": "markdown",
   "id": "a48637a3",
   "metadata": {},
   "source": [
    "## Cross-validation\n",
    "\n",
    "In the following script, we compute the $Q^2$ score associated with each polynomial degree from 1 to 10. "
   ]
  },
  {
   "cell_type": "code",
   "execution_count": 9,
   "id": "b1b0d475",
   "metadata": {},
   "outputs": [
    {
     "name": "stdout",
     "output_type": "stream",
     "text": [
      "Degree = 1, Score = 0.2099\n",
      "Degree = 2, Score = 0.2400\n",
      "Degree = 3, Score = 0.4943\n"
     ]
    }
   ],
   "source": [
    "if execute_fast:\n",
    "    degree_max = 4\n",
    "else:\n",
    "    degree_max = 10\n",
    "degree_list = list(range(1, degree_max))\n",
    "number_of_degrees = len(degree_list)\n",
    "score_sample = ot.Sample(len(degree_list), 1)\n",
    "for i in range(number_of_degrees):\n",
    "    totalDegree = degree_list[i]\n",
    "    score_sample[i, 0] = compute_Q2_score_by_splitting(\n",
    "        X_dataset, Y_dataset, multivariateBasis, totalDegree, im.inputDistribution\n",
    "    )\n",
    "    print(\"Degree = %d, Score = %.4f\" % (totalDegree, score_sample[i, 0]))"
   ]
  },
  {
   "cell_type": "code",
   "execution_count": 10,
   "id": "93437671",
   "metadata": {},
   "outputs": [
    {
     "data": {
      "image/png": "[encoded data removed]",
      "text/plain": [
       "<Figure size 400x300 with 1 Axes>"
      ]
     },
     "metadata": {},
     "output_type": "display_data"
    }
   ],
   "source": [
    "graph = ot.Graph(\"Split\", \"Degree\", \"$Q^2$\", True)\n",
    "cloud = ot.Cloud(ot.Sample.BuildFromPoint(degree_list), score_sample)\n",
    "graph.add(cloud)\n",
    "view = otv.View(graph, figure_kw={\"figsize\": (4.0, 3.0)})"
   ]
  },
  {
   "cell_type": "markdown",
   "id": "7a28febf",
   "metadata": {},
   "source": [
    "We see that the polynomial degree may be increased up to degree 7, after which the $Q^2$ score does not increase much. \n",
    "\n",
    "One limitation of the previous method is that the estimate of the $Q^2$ may be sensitive to the particular split of the dataset. The following script uses 5-Fold cross validation to estimate the $Q^2$ score."
   ]
  },
  {
   "cell_type": "code",
   "execution_count": 11,
   "id": "39203dd4",
   "metadata": {},
   "outputs": [
    {
     "name": "stdout",
     "output_type": "stream",
     "text": [
      "Degree = 1, Score = 0.1836\n",
      "Degree = 2, Score = 0.2017\n",
      "Degree = 3, Score = 0.4549\n"
     ]
    }
   ],
   "source": [
    "score_sample = ot.Sample(len(degree_list), 1)\n",
    "for i in range(number_of_degrees):\n",
    "    totalDegree = degree_list[i]\n",
    "    score_sample[i, 0] = compute_Q2_score_by_kfold(\n",
    "        X_dataset, Y_dataset, multivariateBasis, totalDegree, im.inputDistribution\n",
    "    )\n",
    "    print(\"Degree = %d, Score = %.4f\" % (totalDegree, score_sample[i, 0]))"
   ]
  },
  {
   "cell_type": "code",
   "execution_count": 12,
   "id": "cc90c30b",
   "metadata": {},
   "outputs": [
    {
     "data": {
      "image/png": "[encoded data removed]",
      "text/plain": [
       "<Figure size 400x300 with 1 Axes>"
      ]
     },
     "metadata": {},
     "output_type": "display_data"
    }
   ],
   "source": [
    "graph = ot.Graph(\"KFold\", \"Degree\", \"$Q^2$\", True)\n",
    "cloud = ot.Cloud(ot.Sample.BuildFromPoint(degree_list), score_sample)\n",
    "graph.add(cloud)\n",
    "view = otv.View(graph, figure_kw={\"figsize\": (4.0, 3.0)})"
   ]
  },
  {
   "cell_type": "markdown",
   "id": "d73174cb",
   "metadata": {},
   "source": [
    "The conclusion is similar to the previous method."
   ]
  },
  {
   "cell_type": "markdown",
   "id": "0891b8ed",
   "metadata": {},
   "source": [
    "When we select the best polynomial degree which maximizes the $Q^2$ score, the danger is that the validation set is used both for computing the $Q^2$ and to maximize it: hence, the $Q^2$ score may be optimistic. In [Müller & Guido, 2016], chapter 5, page 269, the authors advocate the split of the dataset into three subsets:\n",
    "\n",
    "- the training set,\n",
    "- the validation set,\n",
    "- the test set.\n",
    "\n",
    "When selecting the best parameters, the validation set is used. When estimating the $Q^2$ score with the best parameters, the test set is used. "
   ]
  }
 ],
 "metadata": {
  "kernelspec": {
   "display_name": "Python 3 (ipykernel)",
   "language": "python",
   "name": "python3"
  },
  "language_info": {
   "codemirror_mode": {
    "name": "ipython",
    "version": 3
   },
   "file_extension": ".py",
   "mimetype": "text/x-python",
   "name": "python",
   "nbconvert_exporter": "python",
   "pygments_lexer": "ipython3",
   "version": "3.13.0"
  }
 },
 "nbformat": 4,
 "nbformat_minor": 5
}
