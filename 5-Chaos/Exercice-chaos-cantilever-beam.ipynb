{
 "cells": [
  {
   "cell_type": "markdown",
   "metadata": {},
   "source": [
    "# Polynômes de chaos : application au cas de la poutre encastrée\n"
   ]
  },
  {
   "cell_type": "markdown",
   "metadata": {},
   "source": [
    "## Résumé\n",
    "\n",
    "Dans ce notebook, nous présentons la décomposition en chaos polynomial du cas de la poutre encastrée. Nous montrons comment obtenir les indices de Sobol' à partir d'un chaos polynomial."
   ]
  },
  {
   "cell_type": "markdown",
   "metadata": {},
   "source": [
    "# Problem statement\n",
    "\n",
    "We consider a cantilever beam defined by its Young’s modulus $E$, its length $L$ and its section modulus $I$. One end is built in a wall and we apply a concentrated bending load $F$ at the other end of the beam, resulting in a vertical deviation $Y$.\n",
    "\n",
    "<img src=\"poutre.png\" width=\"200\">\n",
    "\n",
    "__Inputs__:  $\\left\\{ E, F, L, I \\right\\}$\n",
    "* $E$ : Young modulus (Pa)\n",
    "* $L$ : Length of beam (cm),\n",
    "* $I$ : Moment of inertia (cm^4),\n",
    "* $F$ : Loading (N)\n",
    "\n",
    "|Variable|  Distribution|\n",
    "| ------------- |-------------|\n",
    "|E| Beta(alpha = 0.9, beta = 2.2, a = $2.5\\times 10^7$, $b = 5\\times 10^7$) |\n",
    "|F| Lognormal($\\mu_F=3 \\times 10^4$, $\\sigma_F=9\\times 10^3$, shift=$15\\times 10^3$)|\n",
    "|L| Uniform(min=250.0, max= 260.0)|\n",
    "|I| Beta(alpha = 2.5, beta = 1.5, a = 310, b = 450)|\n",
    "\n",
    "The input variables are supposed to be independent.\n",
    "\n",
    "__Output__:\n",
    "\n",
    "The vertical displacement at free end of the cantilever beam is:\n",
    "$$\n",
    "Y  = \\dfrac{F\\, L^3}{3 \\, E \\, I}\n",
    "$$"
   ]
  },
  {
   "cell_type": "markdown",
   "metadata": {},
   "source": [
    "## Un guide pour le chaos polynomial creux dans OpenTURNS\n",
    "\n",
    "Voici les étapes principales et les objets pour créer un polynôme de chaos creux.\n",
    "* Créer un plan d'expériences (de type `Sample`) et évaluer les sorties de la fonction $g$\n",
    "* Créer la base polynomiale multivariée avec la classe `OrthogonalProductPolynomialFactory`. \n",
    "  * La règle par défaut `StandardDistributionPolynomialFactory` sélectionne automatiquement la famille de polynômes en fonction de la distribution ou bien l'orthogonalise si elle n'existe pas. Si nécessaire, personnaliser la famille polynomiale univariée pour chaque marginale (par exemple, pour la variable log-normale). \n",
    "  * Si nécessaire, personnaliser la règle d'énumération avec `HyperbolicAnisotropicEnumerateFunction`.\n",
    "* Choisir une méthode de sélection de modèle avec `LeastSquaresMetaModelSelectionFactory`. \n",
    "  * Par défaut, l'algorithme de sélection de modèle permettant de créer la hiérarchie de modèles du plus creux au moins creux est la méthode \"Least Angle Regression Stepwise\" (LARS). \n",
    "  * Par défaut, l'algorithme de choix du meilleur modèle dans la hiérarchie de modèles est la méthode `CorrectedLeaveOneOut`. Si nécessaire, choisir `KFold`. \n",
    "* Choisir une règle de calcul des coefficients du polynôme du chaos avec la classe `LeastSquaresStrategy`. Une alternative serait de calculer les coefficients par intégration avec `IntegrationStrategy`.\n",
    "* Choisir une méthode de troncature pour déterminer combien de coefficients seront retenus dans l'exploration des modèles. La méthode de base est d'utiliser un nombre fixe avec `FixedStrategy`. L'alternative est la classe `SequentialStrategy` dont l'objectif est de conserver au plus un nombre donné de coefficients. \n",
    "* Mélangez les ingrédients; votre `FunctionalChaosAlgorithm` est prêt !"
   ]
  },
  {
   "cell_type": "markdown",
   "metadata": {},
   "source": [
    "## Pourquoi utiliser une méthode de sélection de modèle\n",
    "\n",
    "Lorsqu'on utilise le chaos polynomial \"classique\" ou plein, on peut tenter d'améliorer la qualité du métamodèle en augmentant le degré du polynôme. La difficulté de cette approche est que le nombre de coefficients à estimer augmente très rapidement en fonction de la dimension d'entrée $p$ du vecteur aléatoire $\\mathbf{X}$ et du degré $d$ du polynôme. Ce conduit à estimer un grand nombre de coefficients. Si la taille du plan d'expérience est fixée, chaque coefficient est donc de plus en plus mal estimé lorsque le degré augmente. En parallèle, la résolution nécessite de plus en plus de temps CPU lorsqu'on utilise la méthode d'estimation par régression, car le système d'équations à résoudre est de plus en plus grand. Enfin, cela conduit au sur-apprentissage: le méta-modèle possède une grande erreur de prédiction lorsqu'on le teste sur un plan d'expérience de validation différent du plan d'expériences utilisé pour l'apprentissage."
   ]
  },
  {
   "cell_type": "markdown",
   "metadata": {},
   "source": [
    "## References\n",
    "\n",
    "* http://openturns.github.io/openturns/master/auto_meta_modeling/polynomial_chaos_metamodel/plot_chaos_beam_sensitivity_degree.html"
   ]
  },
  {
   "cell_type": "markdown",
   "metadata": {},
   "source": [
    "# Model definition"
   ]
  },
  {
   "cell_type": "code",
   "execution_count": 1,
   "metadata": {},
   "outputs": [],
   "source": [
    "import openturns as ot\n",
    "import openturns.viewer as otv\n",
    "import numpy as np"
   ]
  },
  {
   "cell_type": "code",
   "execution_count": 2,
   "metadata": {},
   "outputs": [],
   "source": [
    "dist_E = ot.Beta(0.9, 2.2, 2.8e7, 4.8e7)\n",
    "dist_E.setDescription([\"E\"])\n",
    "F_para = ot.LogNormalMuSigma(3.0e4, 9.0e3, 15.0e3)  # in N\n",
    "dist_F = ot.ParametrizedDistribution(F_para)\n",
    "dist_F.setDescription([\"F\"])\n",
    "dist_L = ot.Uniform(250.0, 260.0)  # in cm\n",
    "dist_L.setDescription([\"L\"])\n",
    "dist_I = ot.Beta(2.5, 1.5, 310.0, 450.0)  # in cm^4\n",
    "dist_I.setDescription([\"I\"])\n",
    "\n",
    "myDistribution = ot.ComposedDistribution([dist_E, dist_F, dist_L, dist_I])"
   ]
  },
  {
   "cell_type": "code",
   "execution_count": 3,
   "metadata": {},
   "outputs": [],
   "source": [
    "dim_input = 4  # dimension of the input\n",
    "dim_output = 1  # dimension of the output\n",
    "\n",
    "\n",
    "def function_beam(X):\n",
    "    E, F, L, I = X\n",
    "    Y = F * (L ** 3) / (3 * E * I)\n",
    "    return [Y]\n",
    "\n",
    "\n",
    "g = ot.PythonFunction(dim_input, dim_output, function_beam)\n",
    "g.setInputDescription(myDistribution.getDescription())"
   ]
  },
  {
   "cell_type": "markdown",
   "metadata": {},
   "source": [
    "## Create a polynomial chaos decomposition"
   ]
  },
  {
   "cell_type": "markdown",
   "metadata": {},
   "source": [
    "Pour simplifier l'utilisation du polynôme du chaos, nous avons créé la fonction suivante qui permet de créer un polynôme du chaos creux par moindres carrés linéaires avec un nombre réduit de paramètres. "
   ]
  },
  {
   "cell_type": "code",
   "execution_count": 4,
   "metadata": {},
   "outputs": [],
   "source": [
    "def ComputeSparseLeastSquaresChaos(\n",
    "    inputTrain, outputTrain, multivariateBasis, totalDegree, myDistribution\n",
    "):\n",
    "    \"\"\"\n",
    "    Create a sparse polynomial chaos with least squares.\n",
    "\n",
    "    * Uses the enumeration rule from multivariateBasis. \n",
    "    * Uses LeastSquaresStrategy to compute the coefficients from \n",
    "    linear least squares.\n",
    "    * Uses LeastSquaresMetaModelSelectionFactory to select the polynomials \n",
    "    in the basis using least angle regression stepwise (LARS)\n",
    "    * Utilise LeastSquaresStrategy pour calculer les \n",
    "    coefficients par moindres carrés. \n",
    "    * Uses FixedStrategy to keep all coefficients that LARS has selected, \n",
    "    up to the given maximum total degree.\n",
    "\n",
    "    Parameters\n",
    "    ----------\n",
    "    inputTrain : ot.Sample(n)\n",
    "        The input training design of experiments with n points\n",
    "    outputTrain : ot.Sample(n)\n",
    "        The input training design of experiments with n points\n",
    "    multivariateBasis : ot.Basis\n",
    "        The multivariate orthogonal polynomial basis\n",
    "    totalDegree : int\n",
    "        The maximum total polynomial degree\n",
    "    myDistribution : ot.Distribution\n",
    "        The distribution of the input random vector\n",
    "    \n",
    "    Returns\n",
    "    -------\n",
    "    result : ot.FunctionalChaosResult\n",
    "        The polynomial chaos result\n",
    "    \"\"\"\n",
    "    selectionAlgorithm = ot.LeastSquaresMetaModelSelectionFactory()\n",
    "    projectionStrategy = ot.LeastSquaresStrategy(\n",
    "        inputTrain, outputTrain, selectionAlgorithm\n",
    "    )\n",
    "    enumfunc = multivariateBasis.getEnumerateFunction()\n",
    "    P = enumfunc.getStrataCumulatedCardinal(totalDegree)\n",
    "    adaptiveStrategy = ot.FixedStrategy(multivariateBasis, P)\n",
    "    chaosalgo = ot.FunctionalChaosAlgorithm(\n",
    "        inputTrain, outputTrain, myDistribution, adaptiveStrategy, projectionStrategy\n",
    "    )\n",
    "    chaosalgo.run()\n",
    "    result = chaosalgo.getResult()\n",
    "    return result"
   ]
  },
  {
   "cell_type": "markdown",
   "metadata": {},
   "source": [
    "On crée la base polynomiale multivariée par tensorisation de polynômes univariés avec la règle d'énumération linéaire par défaut."
   ]
  },
  {
   "cell_type": "code",
   "execution_count": 5,
   "metadata": {},
   "outputs": [],
   "source": [
    "multivariateBasis = ot.OrthogonalProductPolynomialFactory(\n",
    "    [dist_E, dist_F, dist_L, dist_I]\n",
    ")"
   ]
  },
  {
   "cell_type": "markdown",
   "metadata": {},
   "source": [
    "Generate an training sample of size N with MC simulation (or retrieve the design from experimental data)."
   ]
  },
  {
   "cell_type": "code",
   "execution_count": 6,
   "metadata": {},
   "outputs": [],
   "source": [
    "training_sample_size = 50  # Size of the training design of experiments\n",
    "\n",
    "inputTrain = myDistribution.getSample(training_sample_size)\n",
    "outputTrain = g(inputTrain)"
   ]
  },
  {
   "cell_type": "code",
   "execution_count": 7,
   "metadata": {},
   "outputs": [],
   "source": [
    "totalDegree = 5  # Polynomial degree\n",
    "result = ComputeSparseLeastSquaresChaos(\n",
    "    inputTrain, outputTrain, multivariateBasis, totalDegree, myDistribution\n",
    ")"
   ]
  },
  {
   "cell_type": "markdown",
   "metadata": {},
   "source": [
    "La méthode `getMetaModel` retourne une fonction permettant d'évaluer le métamodèle."
   ]
  },
  {
   "cell_type": "code",
   "execution_count": 8,
   "metadata": {},
   "outputs": [
    {
     "data": {
      "text/plain": [
       "openturns.func.Function"
      ]
     },
     "execution_count": 8,
     "metadata": {},
     "output_type": "execute_result"
    }
   ],
   "source": [
    "metamodel = result.getMetaModel()\n",
    "type(metamodel)"
   ]
  },
  {
   "cell_type": "code",
   "execution_count": 9,
   "metadata": {},
   "outputs": [],
   "source": [
    "def get_PC_mean_sd(functionalChaosResult):\n",
    "    \"\"\"\n",
    "    Return mean and standard deviation of a polynomial chaos.\n",
    "\n",
    "    This code was adapted from \n",
    "    https://github.com/openturns/openturns/blob/b5797d7e4a71c71faf86df51f26ad0d8d551ad08/lib/src/Uncertainty/Algorithm/MetaModel/FunctionalChaos/FunctionalChaosSobolIndices.cxx#L68\n",
    "    \n",
    "    See https://github.com/openturns/openturns/issues/1927\n",
    "    \n",
    "    Parameters\n",
    "    ----------\n",
    "    functionalChaosResult : ot.FunctionalChaosResult()\n",
    "        The polynomial chaos.\n",
    "\n",
    "    Returns\n",
    "    -------\n",
    "    mean : ot.Point(outputDimension)\n",
    "        The expectation of Y = p(X), where p is the polynomial.\n",
    "    stdDev : ot.Point(outputDimension)\n",
    "        The standard deviation of Y = pc(X), where pc is the polynomial chaos,\n",
    "        as the square root of the variance.\n",
    "    \"\"\"\n",
    "    outputDimension = functionalChaosResult.getMetaModel().getOutputDimension()\n",
    "    indices = functionalChaosResult.getIndices()\n",
    "    coefficients = functionalChaosResult.getCoefficients()\n",
    "    basisSize = indices.getSize()\n",
    "    variance = ot.Point(outputDimension)\n",
    "    mean = ot.Point(outputDimension)\n",
    "    for i in range(outputDimension):\n",
    "        for k in range(basisSize):\n",
    "            # Take into account only non-zero indices as the\n",
    "            # null index is the mean of the vector\n",
    "            if indices[k] > 0:\n",
    "                variance[i] += coefficients[k, i] ** 2\n",
    "            else:\n",
    "                mean[i] = coefficients[k, i]\n",
    "    # standard deviation\n",
    "    stdDev = ot.Point(outputDimension)\n",
    "    for i in range(outputDimension):\n",
    "        stdDev[i] = np.sqrt(variance[i])\n",
    "    return mean, stdDev"
   ]
  },
  {
   "cell_type": "markdown",
   "metadata": {},
   "source": [
    "We can then get the exact mean and standard deviation of the polynomial chaos. "
   ]
  },
  {
   "cell_type": "code",
   "execution_count": 10,
   "metadata": {},
   "outputs": [
    {
     "name": "stdout",
     "output_type": "stream",
     "text": [
      "Mean(PC) = 12.5763\n",
      "S.D.(PC) = 4.1801\n"
     ]
    }
   ],
   "source": [
    "mean, stdDev = get_PC_mean_sd(result)\n",
    "print(\"Mean(PC) = %.4f\" % (mean[0]))\n",
    "print(\"S.D.(PC) = %.4f\" % (stdDev[0]))"
   ]
  },
  {
   "cell_type": "markdown",
   "metadata": {},
   "source": [
    "## Validate the metamodel"
   ]
  },
  {
   "cell_type": "markdown",
   "metadata": {},
   "source": [
    "Generate a validation sample (which is independent of the training sample)."
   ]
  },
  {
   "cell_type": "code",
   "execution_count": 11,
   "metadata": {},
   "outputs": [],
   "source": [
    "test_sample_size = 1000  # Size of the validation design of experiments\n",
    "inputTest = myDistribution.getSample(test_sample_size)\n",
    "outputTest = g(inputTest)"
   ]
  },
  {
   "cell_type": "markdown",
   "metadata": {},
   "source": [
    "La classe `MetaModelValidation` permet de valider le métamodèle sur une base de validation."
   ]
  },
  {
   "cell_type": "code",
   "execution_count": 12,
   "metadata": {},
   "outputs": [],
   "source": [
    "val = ot.MetaModelValidation(inputTest, outputTest, metamodel)"
   ]
  },
  {
   "cell_type": "markdown",
   "metadata": {},
   "source": [
    "Compute the $Q^2$ predictivity coefficient"
   ]
  },
  {
   "cell_type": "code",
   "execution_count": 13,
   "metadata": {},
   "outputs": [
    {
     "data": {
      "text/plain": [
       "0.9935498537159474"
      ]
     },
     "execution_count": 13,
     "metadata": {},
     "output_type": "execute_result"
    }
   ],
   "source": [
    "Q2 = val.computePredictivityFactor()[0]\n",
    "Q2"
   ]
  },
  {
   "cell_type": "markdown",
   "metadata": {},
   "source": [
    "Le métamodèle est ici d'excellente qualité, puisque le $Q^2$ est supérieur à 99%. Cela signifie que moins de 1% de la variance de la sortie est perdue en substituant le métamodèle au modèle. "
   ]
  },
  {
   "cell_type": "markdown",
   "metadata": {},
   "source": [
    "Plot the observed versus the predicted outputs."
   ]
  },
  {
   "cell_type": "code",
   "execution_count": 14,
   "metadata": {
    "scrolled": true
   },
   "outputs": [
    {
     "data": {
      "image/png": "[encoded data removed]",
      "text/plain": [
       "<Figure size 288x288 with 1 Axes>"
      ]
     },
     "metadata": {
      "needs_background": "light"
     },
     "output_type": "display_data"
    }
   ],
   "source": [
    "graph = val.drawValidation() \n",
    "graph.setTitle(r\"$n = %d$, $Q^2 = %.4f$\" % (test_sample_size, Q2))\n",
    "view = otv.View(graph, figure_kw={\"figsize\": (4.0, 4.0)})"
   ]
  },
  {
   "cell_type": "markdown",
   "metadata": {},
   "source": [
    "La validation est satisfaisante: la plupart des points sont proches de la première bissectrice. Seuls quelques points associés à des grandes déviations sont un peu plus éloignés. "
   ]
  },
  {
   "cell_type": "markdown",
   "metadata": {},
   "source": [
    "## Sensitivity analysis"
   ]
  },
  {
   "cell_type": "markdown",
   "metadata": {},
   "source": [
    "Retrieve Sobol' sensitivity measures associated to the polynomial chaos decomposition of the model."
   ]
  },
  {
   "cell_type": "code",
   "execution_count": 15,
   "metadata": {
    "scrolled": true
   },
   "outputs": [
    {
     "name": "stdout",
     "output_type": "stream",
     "text": [
      " input dimension: 4\n",
      " output dimension: 1\n",
      " basis size: 25\n",
      " mean: [12.5763]\n",
      " std-dev: [4.18011]\n",
      "------------------------------------------------------------\n",
      "Index   | Multi-indice                  | Part of variance  \n",
      "------------------------------------------------------------\n",
      "      2 | [0,1,0,0]                     | 0.776796\n",
      "      1 | [1,0,0,0]                     | 0.134289\n",
      "      4 | [0,0,0,1]                     | 0.0583109\n",
      "      6 | [1,1,0,0]                     | 0.0100374\n",
      "------------------------------------------------------------\n",
      "\n",
      "\n",
      "------------------------------------------------------------\n",
      "Component | Sobol index            | Sobol total index      \n",
      "------------------------------------------------------------\n",
      "        0 | 0.136147               | 0.147643              \n",
      "        1 | 0.777299               | 0.795029              \n",
      "        2 | 0.00882986             | 0.00981764            \n",
      "        3 | 0.0585995              | 0.0667767             \n",
      "------------------------------------------------------------\n",
      "\n",
      "\n"
     ]
    }
   ],
   "source": [
    "chaosSI = ot.FunctionalChaosSobolIndices(result)\n",
    "print(chaosSI.summary())"
   ]
  },
  {
   "cell_type": "code",
   "execution_count": 16,
   "metadata": {},
   "outputs": [
    {
     "data": {
      "image/png": "[encoded data removed]",
      "text/plain": [
       "<Figure size 360x288 with 1 Axes>"
      ]
     },
     "metadata": {
      "needs_background": "light"
     },
     "output_type": "display_data"
    }
   ],
   "source": [
    "first_order = [chaosSI.getSobolIndex(i) for i in range(dim_input)]\n",
    "total_order = [chaosSI.getSobolTotalIndex(i) for i in range(dim_input)]\n",
    "input_names = g.getInputDescription()\n",
    "graph = ot.SobolIndicesAlgorithm.DrawSobolIndices(input_names, first_order, total_order)\n",
    "view = otv.View(graph, figure_kw={\"figsize\": (5.0, 4.0)})"
   ]
  },
  {
   "cell_type": "markdown",
   "metadata": {},
   "source": [
    "## Exercice 1 : faire varier la taille du plan d'expériences d'apprentissage\n",
    "\n",
    "Dans cette exercice, on souhaite étudier la sensibilité du coefficient de prédictivité $Q^2$ à deux paramètres essentiels de la méthode:\n",
    "* la taille du plan d'expériences,\n",
    "* le degré du polynôme.\n",
    "\n",
    "*Questions*\n",
    "\n",
    "* Utiliser un plan d'expériences de taille `N = 25`. \n",
    "* Exécuter à nouveau l'analyse. \n",
    "* Calculer le coefficient de prédictivité $Q^2$ (noter la valeur numérique).\n",
    "* Afficher le graphique de validation du métamodèle. \n",
    "* Que peut-on conclure ?\n",
    "* Exécuter à nouveau l'analyse pour voir l'influence de l'échantillon d'apprentissage sur les résultats. \n",
    "* Utiliser un plan d'expériences de taille `N = 100`. Exécuter à nouveau l'analyse : observer quel est l'impact sur \n",
    "les résultats numériques. \n",
    "* Etudier la sensibilité du coefficient de prédictivité en fonction de la taille du plan d'expériences et du degré du polynôme. Pour chaque combinaison testée, relever la valeur du coefficient de prédictivité $Q^2$. Pour cela, compléter le tableau suivant:\n",
    "\n",
    "| Taille du plan | Degré du polynôme | $Q^2 |\n",
    "|--|--|--|\n",
    "| 50 | 1 | TODO |\n",
    "| 50 | 2 | TODO |\n",
    "| 50 | 5 | 0.99 |\n",
    "| 25 | 5 | TODO |\n",
    "| 100 | 5 | 0.99 |\n"
   ]
  },
  {
   "cell_type": "markdown",
   "metadata": {},
   "source": [
    "* Pouvez-vous identifier 5 méthodes pour améliorer la qualité du métamodèle ?"
   ]
  },
  {
   "cell_type": "markdown",
   "metadata": {},
   "source": [
    "## Exercice 2 : pourquoi éviter le calcul du R2\n",
    "\n",
    "L'objectif de cet exercice est de clarifier le rôle d'un plan d'expériences d'apprentissage en comparaison d'un plan d'expériences de validation. A travers le calcul des coefficients $R^2$ et $Q^2$, nous analysons le problème du surapprentissage d'un métamodèle.\n",
    "\n",
    "Soit $\\left\\{x^{(j)}_a\\right\\}_{j=1,...,n}$ un échantillon i.i.d. du vecteur aléatoire $X$ que nous allons utiliser pour la phase d'apprentissage du métamodèle. \n",
    "\n",
    "On note $g$ le modèle et $\\tilde{g}$ le métamodèle. \n",
    "\n",
    "Soient \n",
    "\n",
    "$$\n",
    "y^{(j)}_a = g\\left(x^{(j)}_a\\right), \\qquad \\tilde{y}^{(j)}_a = \\tilde{g}\\left(x^{(j)}_a\\right)\n",
    "$$\n",
    "\n",
    "pour $j=1,...,n$ les sorties du modèle et du métamodèle sur la base d'apprentissage. \n",
    "\n",
    "Le coefficient $R^2$ est \n",
    "\n",
    "$$\n",
    "R^2(g(x_a),\\tilde{g}(x_a)) = 1 - \\frac{ \\sum_{j=1}^N \\left( y^{(j)}_a - \\tilde{y}^{(j)}_a \\right)^2  }{ \\sum_{j=1}^N \\left( y^{(j)}_a - \\bar{y}_a \\right)^2 }\n",
    "$$\n",
    "\n",
    "où $\\bar{y}_a = \\frac{1} {N} \\sum_{i=1}^N y^{(j)}_a$. \n",
    "Observons que le métamodèle n'est impliqué que dans le numérateur de la fraction. \n",
    "\n",
    "Supposons qu'un second plan d'expériences de validation du métamodèle est généré : $\\left\\{x^{(j)}_v\\right\\}_{j=1,...,n}$. L'objectif de ce second plan d'expériences est de tester le métamodèle sur des points d'entrées que le métamodèle n'a pas considéré pour estimer ses coefficients.\n",
    "\n",
    "Soient $g(x_v)$ et $\\tilde{g}(x_v)$ les sorties du modèle et du métamodèle sur le plan d'expériences de validation. \n",
    "Dans ce contexte, le coefficient $Q^2$ est égal au coefficient $R^2$ appliqué au plan d'expériences de validation :\n",
    "\n",
    "$$\n",
    "Q^2 = R^2(g(x_v),\\tilde{g}(x_v)).\n",
    "$$\n",
    "\n",
    "Dans le contexte de tout métamodèle, et en particulier du chaos polynomial, il est plus prudent d'utiliser le coefficient $Q^2$ pour vérifier la qualité du métamodèle. En effet, lorsque le nombre de coefficients dans le chaos polynomial est suffisamment grand relativement à la taille du plan d'expériences, le coefficient $R^2$ peut laisser penser à un modèle de bonne qualité (i.e. proche de 1), mais le coefficient $Q^2$ peut révéler un modèle de mauvaise qualité (i.e. proche de 0). Cette situation est caractéristique d'un surapprentrissage.\n",
    "\n",
    "*Questions* :\n",
    "\n",
    "- Utiliser la méthode `getRelativeErrors` de l'objet `result` (de type `FunctionalChaosResult`). \n",
    "Cette fonction retourne la valeur de \n",
    "$$\n",
    "\\frac{ \\sum_{j=1}^N \\left( y^{(j)}_a - \\tilde{y}^{(j)}_a \\right)^2  }{ \\sum_{j=1}^N \\left( y^{(j)}_a - \\bar{y}_a \\right)^2 }\n",
    "$$\n",
    "- Calculer le coefficient $R^2$.\n",
    "- Qu'observez-vous ?"
   ]
  },
  {
   "cell_type": "markdown",
   "metadata": {},
   "source": [
    "## Exercice 3 : décroissance des coefficients\n",
    "\n",
    "La fonction suivante produit un graphique présentant l'évolution de la valeur absolue des coefficients du chaos polynomial en fonction du degré de chaque terme polynomial dans la décomposition."
   ]
  },
  {
   "cell_type": "code",
   "execution_count": 17,
   "metadata": {},
   "outputs": [],
   "source": [
    "def plotCoefficientValueVSDegree(polynomialChaosResult):\n",
    "    \"\"\"\n",
    "    Create a plot of total degree vs absolute value of coefficients.\n",
    "    \n",
    "    Parameters\n",
    "    ----------\n",
    "    polynomialChaosResult : ot.FunctionalChaosResult\n",
    "        The polynomial chaos result\n",
    "    \n",
    "    Returns\n",
    "    -------\n",
    "    graph : ot.Graph\n",
    "        A plot.\n",
    "    \"\"\"\n",
    "    basis = polynomialChaosResult.getOrthogonalBasis()\n",
    "    enumerate_function = basis.getEnumerateFunction()\n",
    "    # Get coefficients\n",
    "    coefficients = polynomialChaosResult.getCoefficients()\n",
    "    abscoeff = [abs(coefficients[i][0]) for i in range(len(coefficients))]\n",
    "    # Get total degree\n",
    "    indices = result.getIndices()\n",
    "    nbcoeffs = indices.getSize()\n",
    "    total_p = []\n",
    "    for k in range(nbcoeffs):\n",
    "        multiindex = enumfunc(indices[k])\n",
    "        totaldegree = sum(multiindex)\n",
    "        total_p.append(totaldegree)\n",
    "    #\n",
    "    graph = ot.Graph(\n",
    "        \"Polynomial chaos result\",\n",
    "        \"Total polynomial degree\",\n",
    "        \"Coefficient absolute value\",\n",
    "        True,\n",
    "    )\n",
    "    cloud = ot.Cloud(total_p, abscoeff)\n",
    "    graph.add(cloud)\n",
    "    return graph"
   ]
  },
  {
   "cell_type": "markdown",
   "metadata": {},
   "source": [
    "*Questions* :\n",
    "\n",
    "* Utiliser la fonction `plotCoefficientValueVSDegree` sur le résultat du chaos polynomial : qu'observez-vous ?"
   ]
  },
  {
   "cell_type": "markdown",
   "metadata": {},
   "source": [
    "## Exercice 4 : énumération hyperbolique et plan d'expériences de taille 25\n",
    "\n",
    "* Use an hyperbolic enumeration with a training sample size equal to __N = 25__. \n",
    "* Compute the $Q^2$ coefficient. \n",
    "* Plot the metamodel validation graphics.\n",
    "* Is the quality of the chaos acceptable ?"
   ]
  },
  {
   "cell_type": "markdown",
   "metadata": {},
   "source": [
    "## Exercice 5 :  : nombre d'observations et nombre de paramètres\n",
    "\n",
    "On souhaite vérifier que le nombre d'observations est suffisant pour estimer correctement les paramètres. \n",
    "\n",
    "* Calculer le nombre de paramètres estimés dans le chaos polynomial. Pour cela, utiliser la méthode `getCoefficients` de l'objet `result` pour obtenir les coefficients du chaos polynomial. \n",
    "* Calculer le nombre d'observations dans le plan d'expériences. \n",
    "* Calculer le ratio entre le nombre d'observations et le nombre de paramètres. \n",
    "* La taille du plan d'expériences est-elle suffisante pour estimer les paramètres ?"
   ]
  },
  {
   "cell_type": "markdown",
   "metadata": {},
   "source": [
    "## Exercice 6 : analyse des résultats de la sélection de modèle\n",
    "\n",
    "L'objectif de cet exercice est d'analyser les résultats de la sélection de modèle dans le but de réaliser un diagnostique de la qualité du métamodèle obtenu.\n",
    "\n",
    "Considérons le ratio :\n",
    "```\n",
    "nbcoeffs / P\n",
    "```\n",
    "où `P` est le nombre maximal de coefficients associé à la règle d'énumération. Ce ratio entre 0 et 1 représente la proportions de termes retenus dans la méthode de sélection de modèle. \n",
    "* Si ce ratio est proche de zéro (par exemple inférieur à 0.01), alors c'est que le modèle est très creux car un faible nombre de coefficients suffit pour bien représenter la fonction. Dans ce cas, on aurait peut-être pu obtenir une qualité équivalente en utilisant un calcul moins coûteux en diminuant la valeur de `P`.\n",
    "* Si ce ratio est proche de un (par exemple supérieur à 0.99), alors c'est que le modèle est très plein car presque tous les coefficients ont étés nécessaires pour bien représenter la fonction. Dans ce cas, on devrait peut-être améliorer la qualité en utilisant en augmentant la valeur de `P` (cela sera plus coûteux en termes de temps de calcul, sans nécessairement nécessiter de nouvelles évaluations de la fonction $g$).\n",
    "\n",
    "L'objectif de cet exercice est d'explorer les différentes méthodes de l'objet `result`, une instance de la classe `FunctionalChaosResult`.\n",
    "\n",
    "*Questions* :\n",
    "\n",
    "* Utiliser la méthode `getIndices` pour créer la variable `indices` contenant la liste des indices des coefficients sélectionnés par la méthode. Afficher ces indices.\n",
    "* Utiliser la méthode `getSize` de la variable `indices` pour obtenir le nombre de coefficients sélectionnés par la méthode.\n",
    "* Utiliser la méthode `getCoefficients` pour obtenir la liste des valeurs des coefficients sélectionnés par la méthode. Afficher ces coefficients.\n",
    "* Calculer le ratio `nbcoeffs / P`. Quelle est la valeur obtenue ? Que peut-on conclure relativement à la qualité du métamodèle ?\n",
    "* La fonction `printCoefficientsTable` suivante utilise la règle d'énumération et le résultat d'un chaos polynomial pour afficher une table présentant les multi-indices, le degré du polynôme associé et la valeur du coefficient. "
   ]
  },
  {
   "cell_type": "code",
   "execution_count": 18,
   "metadata": {},
   "outputs": [],
   "source": [
    "def printCoefficientsTable(polynomialChaosResult):\n",
    "    \"\"\"\n",
    "    Print the coefficients of the polynomial chaos.\n",
    "    \n",
    "    Parameters\n",
    "    ----------\n",
    "    enumerate_function : ot.EnumerateFunction\n",
    "        The enumerate function.\n",
    "    polynomialChaosResult : ot.PolynomialChaosResult\n",
    "        The polynomial chaos result.\n",
    "    \"\"\"\n",
    "    basis = polynomialChaosResult.getOrthogonalBasis()\n",
    "    enumerate_function = basis.getEnumerateFunction()\n",
    "    indices = polynomialChaosResult.getIndices()\n",
    "    nbcoeffs = indices.getSize()\n",
    "    print(\"# Indice, Multi-indice, Degree : Value\")\n",
    "    for k in range(nbcoeffs):\n",
    "        multiindex = enumerate_function(indices[k])\n",
    "        degree = sum(multiindex)\n",
    "        c = coefficients[k][0]\n",
    "        print(\"#%d, %s (%s) : %s\" % (k, multiindex, degree, c))\n",
    "    return"
   ]
  },
  {
   "cell_type": "markdown",
   "metadata": {},
   "source": [
    "Utiliser la fonction `printCoefficientsTable` avec les résultats du calcul. Qu'observez-vous ?"
   ]
  },
  {
   "cell_type": "markdown",
   "metadata": {},
   "source": [
    "## Annexe : créer un polynôme du chaos pas à pas\n",
    "\n",
    "On présente ci-dessous une méthode créer un polynôme du chaos étape par étape. "
   ]
  },
  {
   "cell_type": "markdown",
   "metadata": {},
   "source": [
    "On doit d'abord choisir la méthode de sélection de modèle. C'est la méthode qui permet de sélectionner les polynômes dans la base polynomiale crée par la règle d'énumération. "
   ]
  },
  {
   "cell_type": "code",
   "execution_count": 19,
   "metadata": {},
   "outputs": [],
   "source": [
    "selectionAlgorithm = ot.LeastSquaresMetaModelSelectionFactory()"
   ]
  },
  {
   "cell_type": "markdown",
   "metadata": {},
   "source": [
    "Par défaut, c'est l'algorithme de sélection de modèle LARS qui est utilisé."
   ]
  },
  {
   "cell_type": "code",
   "execution_count": 20,
   "metadata": {
    "scrolled": true
   },
   "outputs": [
    {
     "data": {
      "text/html": [
       "<p>class=LARS</p>"
      ],
      "text/plain": [
       "class=LARS"
      ]
     },
     "execution_count": 20,
     "metadata": {},
     "output_type": "execute_result"
    }
   ],
   "source": [
    "selectionAlgorithm.getBasisSequenceFactory()"
   ]
  },
  {
   "cell_type": "markdown",
   "metadata": {},
   "source": [
    "Par défaut, c'est le critère de leave-one-out (corrigé) qui est utilisé par la méthode de sélection de modèle."
   ]
  },
  {
   "cell_type": "code",
   "execution_count": 21,
   "metadata": {},
   "outputs": [
    {
     "data": {
      "text/html": [
       "<p>class=CorrectedLeaveOneOut</p>"
      ],
      "text/plain": [
       "class=CorrectedLeaveOneOut"
      ]
     },
     "execution_count": 21,
     "metadata": {},
     "output_type": "execute_result"
    }
   ],
   "source": [
    "selectionAlgorithm.getFittingAlgorithm()"
   ]
  },
  {
   "cell_type": "markdown",
   "metadata": {},
   "source": [
    "Définit la règle de calcul des coefficients ; nous choisissons la méthode par résolution d'un problème de moindres carrés linéaires."
   ]
  },
  {
   "cell_type": "code",
   "execution_count": 22,
   "metadata": {},
   "outputs": [],
   "source": [
    "projectionStrategy = ot.LeastSquaresStrategy(\n",
    "    inputTrain, outputTrain, selectionAlgorithm\n",
    ")"
   ]
  },
  {
   "cell_type": "markdown",
   "metadata": {},
   "source": [
    "Nous devons choisir une règle de troncature : ici, nous avons choisit la `FixedStrategy`, ce qui revient à conserver les `P` premiers polynômes de la base de polynômes. Dans notre cas particulier, nous avons déterminé `P` en utilisant la méthode  `getStrataCumulatedCardinal`, de telle sorte que c'est l'ensemble des polynômes multivariés de degré total inférieur ou égal à 5 qui est conservé. Cela implique que la somme des degrés marginaux est inférieure ou égale à 5. "
   ]
  },
  {
   "cell_type": "code",
   "execution_count": 23,
   "metadata": {},
   "outputs": [
    {
     "data": {
      "text/html": [
       "<p>class=FixedStrategy derived from class=AdaptiveStrategyImplementation maximumDimension=126</p>"
      ],
      "text/plain": [
       "class=FixedStrategy derived from class=AdaptiveStrategyImplementation maximumDimension=126"
      ]
     },
     "execution_count": 23,
     "metadata": {},
     "output_type": "execute_result"
    }
   ],
   "source": [
    "totalDegree = 5\n",
    "enumerate_function = multivariateBasis.getEnumerateFunction()\n",
    "P = enumerate_function.getStrataCumulatedCardinal(totalDegree)\n",
    "adaptiveStrategy = ot.FixedStrategy(multivariateBasis, P)\n",
    "adaptiveStrategy"
   ]
  },
  {
   "cell_type": "markdown",
   "metadata": {},
   "source": [
    "On observe que le nombre de polynômes correspondant à notre règle de troncature est égal à 126.\n",
    "\n",
    "On peut maintenant créer le chaos fonctionnel en appelant la méthode `run`. "
   ]
  },
  {
   "cell_type": "code",
   "execution_count": 24,
   "metadata": {},
   "outputs": [],
   "source": [
    "chaosalgo = ot.FunctionalChaosAlgorithm(\n",
    "    inputTrain, outputTrain, myDistribution, adaptiveStrategy, projectionStrategy\n",
    ")\n",
    "chaosalgo.run()"
   ]
  },
  {
   "cell_type": "markdown",
   "metadata": {},
   "source": [
    "Get the result:"
   ]
  },
  {
   "cell_type": "code",
   "execution_count": 25,
   "metadata": {},
   "outputs": [
    {
     "data": {
      "text/plain": [
       "openturns.metamodel.FunctionalChaosResult"
      ]
     },
     "execution_count": 25,
     "metadata": {},
     "output_type": "execute_result"
    }
   ],
   "source": [
    "result = chaosalgo.getResult()  # get the result\n",
    "type(result)"
   ]
  },
  {
   "cell_type": "code",
   "execution_count": null,
   "metadata": {},
   "outputs": [],
   "source": []
  }
 ],
 "metadata": {
  "kernelspec": {
   "display_name": "Python 3 (ipykernel)",
   "language": "python",
   "name": "python3"
  },
  "language_info": {
   "codemirror_mode": {
    "name": "ipython",
    "version": 3
   },
   "file_extension": ".py",
   "mimetype": "text/x-python",
   "name": "python",
   "nbconvert_exporter": "python",
   "pygments_lexer": "ipython3",
   "version": "3.9.7"
  }
 },
 "nbformat": 4,
 "nbformat_minor": 1
}
