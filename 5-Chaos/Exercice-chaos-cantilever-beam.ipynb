{
 "cells": [
  {
   "cell_type": "markdown",
   "metadata": {},
   "source": [
    "# Polynômes de chaos : application au cas de la poutre encastrée\n"
   ]
  },
  {
   "cell_type": "markdown",
   "metadata": {},
   "source": [
    "## Résumé\n",
    "\n",
    "Dans ce notebook, nous présentons la décomposition en chaos polynomial du cas de la poutre encastrée. Nous montrons comment obtenir les indices de Sobol' à partir d'un chaos polynomial."
   ]
  },
  {
   "cell_type": "markdown",
   "metadata": {},
   "source": [
    "# Problem statement\n",
    "\n",
    "We consider a cantilever beam defined by its Young’s modulus $E$, its length $L$ and its section modulus $I$. One end is built in a wall and we apply a concentrated bending load $F$ at the other end of the beam, resulting in a vertical deviation $Y$.\n",
    "\n",
    "<img src=\"poutre.png\" width=\"200\">\n",
    "\n",
    "__Inputs__:  $\\left\\{ E, F, L, I \\right\\}$\n",
    "* $E$ : Young modulus (Pa)\n",
    "* $L$ : Length of beam (cm),\n",
    "* $I$ : Moment of inertia (cm^4),\n",
    "* $F$ : Loading (N)\n",
    "\n",
    "|Variable|  Distribution|\n",
    "| ------------- |-------------|\n",
    "|E| Beta(alpha = 0.9, beta = 2.2, a = $2.5\\times 10^7$, $b = 5\\times 10^7$) |\n",
    "|F| Lognormal($\\mu_F=3 \\times 10^4$, $\\sigma_F=9\\times 10^3$, shift=$15\\times 10^3$)|\n",
    "|L| Uniform(min=250.0, max= 260.0)|\n",
    "|I| Beta(alpha = 2.5, beta = 1.5, a = 310, b = 450)|\n",
    "\n",
    "The input variables are supposed to be independent.\n",
    "\n",
    "__Output__:\n",
    "\n",
    "The vertical displacement at free end of the cantilever beam is:\n",
    "$$\n",
    "Y  = \\dfrac{F\\, L^3}{3 \\, E \\, I}\n",
    "$$"
   ]
  },
  {
   "cell_type": "markdown",
   "metadata": {},
   "source": [
    "## Un guide pour le chaos polynomial creux dans OpenTURNS\n",
    "\n",
    "Voici les étapes principales et les objets pour créer un polynôme de chaos creux.\n",
    "* Créer un plan d'expériences (de type `Sample`) et évaluer les sorties de la fonction $g$\n",
    "* Créer la base polynomiale multivariée avec la classe `OrthogonalProductPolynomialFactory`. \n",
    "  * La règle par défaut `StandardDistributionPolynomialFactory` sélectionne automatiquement la famille de polynômes en fonction de la distribution ou bien l'orthogonalise si elle n'existe pas. Si nécessaire, personnaliser la famille polynomiale univariée pour chaque marginale (par exemple, pour la variable log-normale). \n",
    "  * Si nécessaire, personnaliser la règle d'énumération avec `HyperbolicAnisotropicEnumerateFunction`.\n",
    "* Choisir une méthode de sélection de modèle avec `LeastSquaresMetaModelSelectionFactory`. \n",
    "  * Par défaut, l'algorithme de sélection de modèle permettant de créer la hiérarchie de modèles du plus creux au moins creux est la méthode Least angle regression (LARS). \n",
    "  * Par défaut, l'algorithme de choix du meilleur modèle dans la hiérarchie de modèles est la méthode `CorrectedLeaveOneOut`. Si nécessaire, choisir `KFold`. \n",
    "* Choisir une règle de calcul des coefficients du polynôme du chaos avec la classe `LeastSquaresStrategy`. Une alternative serait de calculer les coefficients par intégration avec `IntegrationStrategy`.\n",
    "* Choisir une méthode de troncature pour déterminer combien de coefficients seront retenus dans l'exploration des modèles. La méthode de base est d'utiliser un nombre fixe avec `FixedStrategy`. L'alternative est la classe `SequentialStrategy` dont l'objectif est de conserver au plus un nombre donné de coefficients. \n",
    "* Mélangez les ingrédients; votre `FunctionalChaosAlgorithm` est prêt !"
   ]
  },
  {
   "cell_type": "markdown",
   "metadata": {},
   "source": [
    "# Model definition"
   ]
  },
  {
   "cell_type": "code",
   "execution_count": 1,
   "metadata": {},
   "outputs": [],
   "source": [
    "import openturns as ot"
   ]
  },
  {
   "cell_type": "code",
   "execution_count": 2,
   "metadata": {},
   "outputs": [],
   "source": [
    "dist_E = ot.Beta(0.9, 2.2, 2.8e7, 4.8e7)\n",
    "dist_E.setDescription([\"E\"])\n",
    "F_para = ot.LogNormalMuSigma(3.0e4, 9.0e3, 15.0e3)  # in N\n",
    "dist_F = ot.ParametrizedDistribution(F_para)\n",
    "dist_F.setDescription([\"F\"])\n",
    "dist_L = ot.Uniform(250.0, 260.0)  # in cm\n",
    "dist_L.setDescription([\"L\"])\n",
    "dist_I = ot.Beta(2.5, 1.5, 310.0, 450.0)  # in cm^4\n",
    "dist_I.setDescription([\"I\"])\n",
    "\n",
    "myDistribution = ot.ComposedDistribution([dist_E, dist_F, dist_L, dist_I])"
   ]
  },
  {
   "cell_type": "code",
   "execution_count": 3,
   "metadata": {},
   "outputs": [],
   "source": [
    "dim_input = 4  # dimension of the input\n",
    "dim_output = 1  # dimension of the output\n",
    "\n",
    "\n",
    "def function_beam(X):\n",
    "    E, F, L, I = X\n",
    "    Y = F * (L ** 3) / (3 * E * I)\n",
    "    return [Y]\n",
    "\n",
    "\n",
    "g = ot.PythonFunction(dim_input, dim_output, function_beam)\n",
    "g.setInputDescription(myDistribution.getDescription())"
   ]
  },
  {
   "cell_type": "markdown",
   "metadata": {},
   "source": [
    "## Create a polynomial chaos decomposition"
   ]
  },
  {
   "cell_type": "markdown",
   "metadata": {},
   "source": [
    "On crée la base polynomiale multivariée par tensorisation de polynômes univariés avec la règle d'énumération linéaire par défaut."
   ]
  },
  {
   "cell_type": "code",
   "execution_count": 4,
   "metadata": {},
   "outputs": [],
   "source": [
    "multivariateBasis = ot.OrthogonalProductPolynomialFactory(\n",
    "    [dist_E, dist_F, dist_L, dist_I]\n",
    ")"
   ]
  },
  {
   "cell_type": "markdown",
   "metadata": {},
   "source": [
    "Generate an training sample of size N with MC simulation (or retrieve the design from experimental data)."
   ]
  },
  {
   "cell_type": "code",
   "execution_count": 5,
   "metadata": {},
   "outputs": [],
   "source": [
    "N = 50  # size of the experimental design\n",
    "\n",
    "inputTrain = myDistribution.getSample(N)\n",
    "outputTrain = g(inputTrain)"
   ]
  },
  {
   "cell_type": "markdown",
   "metadata": {},
   "source": [
    "Choisit la méthode de sélection de modèle."
   ]
  },
  {
   "cell_type": "code",
   "execution_count": 6,
   "metadata": {},
   "outputs": [],
   "source": [
    "selectionAlgorithm = ot.LeastSquaresMetaModelSelectionFactory()"
   ]
  },
  {
   "cell_type": "markdown",
   "metadata": {},
   "source": [
    "Par défaut, c'est l'algorithme de sélection de modèle LARS qui est utilisé."
   ]
  },
  {
   "cell_type": "code",
   "execution_count": 7,
   "metadata": {
    "scrolled": true
   },
   "outputs": [
    {
     "data": {
      "text/html": [
       "<p>class=LARS</p>"
      ],
      "text/plain": [
       "class=LARS"
      ]
     },
     "execution_count": 7,
     "metadata": {},
     "output_type": "execute_result"
    }
   ],
   "source": [
    "selectionAlgorithm.getBasisSequenceFactory()"
   ]
  },
  {
   "cell_type": "markdown",
   "metadata": {},
   "source": [
    "Par défaut, c'est le critère de leave-one-out (corrigé) qui est utilisé par la méthode de sélection de modèle."
   ]
  },
  {
   "cell_type": "code",
   "execution_count": 8,
   "metadata": {},
   "outputs": [
    {
     "data": {
      "text/html": [
       "<p>class=CorrectedLeaveOneOut</p>"
      ],
      "text/plain": [
       "class=CorrectedLeaveOneOut"
      ]
     },
     "execution_count": 8,
     "metadata": {},
     "output_type": "execute_result"
    }
   ],
   "source": [
    "selectionAlgorithm.getFittingAlgorithm()"
   ]
  },
  {
   "cell_type": "markdown",
   "metadata": {},
   "source": [
    "Définit la règle de calcul des coefficients ; nous choisissons la méthode par résolution d'un problème de moindres carrés linéaires."
   ]
  },
  {
   "cell_type": "code",
   "execution_count": 9,
   "metadata": {},
   "outputs": [],
   "source": [
    "projectionStrategy = ot.LeastSquaresStrategy(\n",
    "    inputTrain, outputTrain, selectionAlgorithm\n",
    ")"
   ]
  },
  {
   "cell_type": "markdown",
   "metadata": {},
   "source": [
    "Nous devons une règle de troncature : ici, nous avons choisit la `FixedStrategy`, ce qui revient à conserver les `P` premiers polynômes de la base de polynômes. Dans notre cas particulier, nous avons déterminé `P` en utilisant la méthode  `getStrataCumulatedCardinal`, de telle sorte que c'est l'ensemble des polynômes multivariés de degré total inférieur ou égal à 5 qui est conservé. "
   ]
  },
  {
   "cell_type": "code",
   "execution_count": 10,
   "metadata": {},
   "outputs": [
    {
     "data": {
      "text/html": [
       "<p>class=FixedStrategy derived from class=AdaptiveStrategyImplementation maximumDimension=126</p>"
      ],
      "text/plain": [
       "class=FixedStrategy derived from class=AdaptiveStrategyImplementation maximumDimension=126"
      ]
     },
     "execution_count": 10,
     "metadata": {},
     "output_type": "execute_result"
    }
   ],
   "source": [
    "totalDegree = 5\n",
    "enumfunc = multivariateBasis.getEnumerateFunction()\n",
    "P = enumfunc.getStrataCumulatedCardinal(totalDegree)\n",
    "adaptiveStrategy = ot.FixedStrategy(multivariateBasis, P)\n",
    "adaptiveStrategy"
   ]
  },
  {
   "cell_type": "markdown",
   "metadata": {},
   "source": [
    "On observe que le nombre de polynômes correspondant à notre règle de troncature est égal à 126.\n",
    "\n",
    "On peut maintenant créer le chaos fonctionnel. "
   ]
  },
  {
   "cell_type": "code",
   "execution_count": 11,
   "metadata": {},
   "outputs": [],
   "source": [
    "chaosalgo = ot.FunctionalChaosAlgorithm(\n",
    "    inputTrain, outputTrain, myDistribution, adaptiveStrategy, projectionStrategy\n",
    ")\n",
    "chaosalgo.run()"
   ]
  },
  {
   "cell_type": "markdown",
   "metadata": {},
   "source": [
    "Get the result\n"
   ]
  },
  {
   "cell_type": "code",
   "execution_count": 12,
   "metadata": {},
   "outputs": [
    {
     "data": {
      "text/plain": [
       "openturns.metamodel.FunctionalChaosResult"
      ]
     },
     "execution_count": 12,
     "metadata": {},
     "output_type": "execute_result"
    }
   ],
   "source": [
    "result = chaosalgo.getResult()  # get the result\n",
    "type(result)"
   ]
  },
  {
   "cell_type": "markdown",
   "metadata": {},
   "source": [
    "La méthode `getMetaModel` retourne une fonction permettant d'évaluer le métamodèle."
   ]
  },
  {
   "cell_type": "code",
   "execution_count": 13,
   "metadata": {},
   "outputs": [
    {
     "data": {
      "text/plain": [
       "openturns.func.Function"
      ]
     },
     "execution_count": 13,
     "metadata": {},
     "output_type": "execute_result"
    }
   ],
   "source": [
    "metamodel = result.getMetaModel()  # get the metamodel\n",
    "type(metamodel)"
   ]
  },
  {
   "cell_type": "markdown",
   "metadata": {},
   "source": [
    "## Validate the metamodel"
   ]
  },
  {
   "cell_type": "markdown",
   "metadata": {},
   "source": [
    "Generate a validation sample (which is independent of the training sample)."
   ]
  },
  {
   "cell_type": "code",
   "execution_count": 14,
   "metadata": {},
   "outputs": [],
   "source": [
    "n_valid = 1000\n",
    "inputTest = myDistribution.getSample(n_valid)\n",
    "outputTest = g(inputTest)"
   ]
  },
  {
   "cell_type": "markdown",
   "metadata": {},
   "source": [
    "La classe `MetaModelValidation` permet de valider le métamodèle sur une base de validation."
   ]
  },
  {
   "cell_type": "code",
   "execution_count": 15,
   "metadata": {},
   "outputs": [],
   "source": [
    "val = ot.MetaModelValidation(inputTest, outputTest, metamodel)"
   ]
  },
  {
   "cell_type": "markdown",
   "metadata": {},
   "source": [
    "Compute the $Q^2$ predictivity coefficient"
   ]
  },
  {
   "cell_type": "code",
   "execution_count": 16,
   "metadata": {},
   "outputs": [
    {
     "data": {
      "text/plain": [
       "0.9935498537159522"
      ]
     },
     "execution_count": 16,
     "metadata": {},
     "output_type": "execute_result"
    }
   ],
   "source": [
    "Q2 = val.computePredictivityFactor()[0]\n",
    "Q2"
   ]
  },
  {
   "cell_type": "markdown",
   "metadata": {},
   "source": [
    "Plot the observed versus the predicted outputs."
   ]
  },
  {
   "cell_type": "code",
   "execution_count": 17,
   "metadata": {
    "scrolled": true
   },
   "outputs": [
    {
     "data": {
      "image/png": "[encoded data removed]",
      "text/plain": [
       "class=GridLayout name=Unnamed nbRows=1 nbColumns=1 graphCollection=[class=Graph name=Unnamed implementation=class=GraphImplementation name=Unnamed title= xTitle=model 0 yTitle=metamodel axes=ON grid=ON legendposition= legendFontSize=1 drawables=[class=Drawable name=Unnamed implementation=class=Curve name=Unnamed derived from class=DrawableImplementation name=Unnamed legend= data=class=Sample name=Unnamed implementation=class=SampleImplementation name=Unnamed size=2 dimension=2 data=[[5.80241,5.80241],[46.8316,46.8316]] color=red fillStyle=solid lineStyle=solid pointStyle=none lineWidth=1,class=Drawable name=Unnamed implementation=class=Cloud name=Unnamed derived from class=DrawableImplementation name=Unnamed legend= data=class=Sample name=Unnamed implementation=class=SampleImplementation name=Unnamed size=1000 dimension=2 data=[[15.3425,15.1201],[10.2181,9.9913],[7.94944,7.90394],...,[10.4699,10.439],[23.3103,23.19],[7.60483,7.57882]] color=blue fillStyle=solid lineStyle=solid pointStyle=plus lineWidth=1]]"
      ]
     },
     "execution_count": 17,
     "metadata": {},
     "output_type": "execute_result"
    }
   ],
   "source": [
    "val.drawValidation()"
   ]
  },
  {
   "cell_type": "markdown",
   "metadata": {},
   "source": [
    "## Sensitivity analysis"
   ]
  },
  {
   "cell_type": "markdown",
   "metadata": {},
   "source": [
    "Retrieve Sobol' sensitivity measures associated to the polynomial chaos decomposition of the model."
   ]
  },
  {
   "cell_type": "code",
   "execution_count": 18,
   "metadata": {
    "scrolled": true
   },
   "outputs": [
    {
     "name": "stdout",
     "output_type": "stream",
     "text": [
      " input dimension: 4\n",
      " output dimension: 1\n",
      " basis size: 25\n",
      " mean: [12.5763]\n",
      " std-dev: [4.18011]\n",
      "------------------------------------------------------------\n",
      "Index   | Multi-indice                  | Part of variance  \n",
      "------------------------------------------------------------\n",
      "      2 | [0,1,0,0]                     | 0.776796\n",
      "      1 | [1,0,0,0]                     | 0.134289\n",
      "      4 | [0,0,0,1]                     | 0.0583109\n",
      "      6 | [1,1,0,0]                     | 0.0100374\n",
      "------------------------------------------------------------\n",
      "\n",
      "\n",
      "------------------------------------------------------------\n",
      "Component | Sobol index            | Sobol total index      \n",
      "------------------------------------------------------------\n",
      "        0 | 0.136147               | 0.147643              \n",
      "        1 | 0.777299               | 0.795029              \n",
      "        2 | 0.00882986             | 0.00981764            \n",
      "        3 | 0.0585995              | 0.0667767             \n",
      "------------------------------------------------------------\n",
      "\n",
      "\n"
     ]
    }
   ],
   "source": [
    "chaosSI = ot.FunctionalChaosSobolIndices(result)\n",
    "print(chaosSI.summary())"
   ]
  },
  {
   "cell_type": "code",
   "execution_count": 19,
   "metadata": {},
   "outputs": [
    {
     "data": {
      "image/png": "[encoded data removed]",
      "text/plain": [
       "class=Graph name=Sobol' indices implementation=class=GraphImplementation name=Sobol' indices title=Sobol' indices xTitle=inputs yTitle=index value axes=ON grid=ON legendposition=topright legendFontSize=1 drawables=[class=Drawable name=First order implementation=class=Cloud name=First order derived from class=DrawableImplementation name=First order legend=First order data=class=Sample name=Unnamed implementation=class=SampleImplementation name=Unnamed size=4 dimension=2 data=[[1,0.136147],[2,0.777299],[3,0.00882986],[4,0.0585995]] color=red fillStyle=solid lineStyle=solid pointStyle=circle lineWidth=1,class=Drawable name=Total order implementation=class=Cloud name=Total order derived from class=DrawableImplementation name=Total order legend=Total order data=class=Sample name=Unnamed implementation=class=SampleImplementation name=Unnamed size=4 dimension=2 data=[[1.1,0.147643],[2.1,0.795029],[3.1,0.00981764],[4.1,0.0667767]] color=blue fillStyle=solid lineStyle=solid pointStyle=square lineWidth=1,class=Drawable name=Unnamed implementation=class=Text name=Unnamed derived from class=DrawableImplementation name=Unnamed legend= data=class=Sample name=Unnamed implementation=class=SampleImplementation name=Unnamed size=4 dimension=2 data=[[1.2,0.141895],[2.2,0.786164],[3.2,0.00932375],[4.2,0.0626881]] color=black fillStyle=solid lineStyle=solid pointStyle=plus lineWidth=1]"
      ]
     },
     "execution_count": 19,
     "metadata": {},
     "output_type": "execute_result"
    }
   ],
   "source": [
    "first_order = [chaosSI.getSobolIndex(i) for i in range(dim_input)]\n",
    "total_order = [chaosSI.getSobolTotalIndex(i) for i in range(dim_input)]\n",
    "input_names = g.getInputDescription()\n",
    "ot.SobolIndicesAlgorithm.DrawSobolIndices(input_names, first_order, total_order)"
   ]
  },
  {
   "cell_type": "markdown",
   "metadata": {},
   "source": [
    "## Exercice 1 : réduction de la taille du plan d'expériences d'apprentissage\n",
    "\n",
    "* Utiliser un plan d'expériences de taille `N = 25`. \n",
    "* Exécuter à nouveau l'analyse. \n",
    "* Calculer le coefficient de prédictivité $Q^2$ (astuce : réduire le degré du polynôme)\n",
    "* Afficher le graphique de validation du métamodèle. \n",
    "* Que peut-on conclure ?\n",
    "* Exécuter à nouveau l'analyse pour voir l'influence de l'échantillon d'apprentissage sur les résultats. \n",
    "* Utiliser un plan d'expériences de taille `N = 100`. Exécuter à nouveau l'analyse : observer quel est l'impact sur les résultats numériques. \n",
    "* Pouvez-vous identifier 5 méthodes pour améliorer la qualité du métamodèle ?"
   ]
  },
  {
   "cell_type": "markdown",
   "metadata": {},
   "source": [
    "## Exercice 2 : pourquoi éviter le calcul du R2\n",
    "\n",
    "L'objectif de cet exercice est de clarifier le rôle d'un plan d'expériences d'apprentissage en comparaison d'un plan d'expériences de validation. A travers le calcul des coefficients $R^2$ et $Q^2$, nous analysons le problème du surapprentissage d'un métamodèle.\n",
    "\n",
    "Soit $\\left\\{x^{(j)}_a\\right\\}_{j=1,...,n}$ un échantillon i.i.d. du vecteur aléatoire $X$ que nous allons utiliser pour la phase d'apprentissage du métamodèle. \n",
    "\n",
    "On note $g$ le modèle et $\\tilde{g}$ le métamodèle. \n",
    "\n",
    "Soient \n",
    "\n",
    "$$\n",
    "y^{(j)}_a = g\\left(x^{(j)}_a\\right), \\qquad \\tilde{y}^{(j)}_a = \\tilde{g}\\left(x^{(j)}_a\\right)\n",
    "$$\n",
    "\n",
    "pour $j=1,...,n$ les sorties du modèle et du métamodèle sur la base d'apprentissage. \n",
    "\n",
    "Le coefficient $R^2$ est \n",
    "\n",
    "$$\n",
    "R^2(g(x_a),\\tilde{g}(x_a)) = 1 - \\frac{ \\sum_{j=1}^N \\left( y^{(j)}_a - \\tilde{y}^{(j)}_a \\right)^2  }{ \\sum_{j=1}^N \\left( y^{(j)}_a - \\bar{y}_a \\right)^2 }\n",
    "$$\n",
    "\n",
    "où $\\bar{y}_a = \\frac{1} {N} \\sum_{i=1}^N y^{(j)}_a$. \n",
    "Observons que le métamodèle n'est impliqué que dans le numérateur de la fraction. \n",
    "\n",
    "Supposons qu'un second plan d'expériences de validation du métamodèle est généré : $\\left\\{x^{(j)}_v\\right\\}_{j=1,...,n}$. L'objectif de ce second plan d'expériences est de tester le métamodèle sur des points d'entrées que le métamodèle n'a pas considéré pour estimer ses coefficients.\n",
    "\n",
    "Soient $g(x_v)$ et $\\tilde{g}(x_v)$ les sorties du modèle et du métamodèle sur le plan d'expériences de validation. \n",
    "Dans ce contexte, le coefficient $Q^2$ est égal au coefficient $R^2$ appliqué au plan d'expériences de validation :\n",
    "\n",
    "$$\n",
    "Q^2 = R^2(g(x_v),\\tilde{g}(x_v)).\n",
    "$$\n",
    "\n",
    "Dans le contexte de tout métamodèle, et en particulier du chaos polynomial, il est plus prudent d'utiliser le coefficient $Q^2$ pour vérifier la qualité du métamodèle. En effet, lorsque le nombre de coefficients dans le chaos polynomial est suffisamment grand relativement à la taille du plan d'expériences, le coefficient $R^2$ peut laisser penser à un modèle de bonne qualité (i.e. proche de 1), mais le coefficient $Q^2$ peut révéler un modèle de mauvaise qualité (i.e. proche de 0). Cette situation est caractéristique d'un surapprentrissage.\n",
    "\n",
    "*Questions* :\n",
    "\n",
    "- Utiliser la méthode `getRelativeErrors` de l'objet `result` (de type `FunctionalChaosResult`). \n",
    "Cette fonction retourne la valeur de \n",
    "$$\n",
    "\\frac{ \\sum_{j=1}^N \\left( y^{(j)}_a - \\tilde{y}^{(j)}_a \\right)^2  }{ \\sum_{j=1}^N \\left( y^{(j)}_a - \\bar{y}_a \\right)^2 }\n",
    "$$\n",
    "- Calculer le coefficient $R^2$.\n",
    "- Qu'observez-vous ?"
   ]
  },
  {
   "cell_type": "markdown",
   "metadata": {},
   "source": [
    "## Exercice 3 : décroissance des coefficients\n",
    "\n",
    "La fonction suivante produit un graphique présentant l'évolution de la valeur absolue des coefficients du chaos polynomial en fonction du degré de chaque terme polynomial dans la décomposition."
   ]
  },
  {
   "cell_type": "code",
   "execution_count": 20,
   "metadata": {},
   "outputs": [],
   "source": [
    "def plotCoefficientValueVSDegree(polynomialChaosResult):\n",
    "    # Get coefficients\n",
    "    coefficients = polynomialChaosResult.getCoefficients()\n",
    "    abscoeff = [abs(coefficients[i][0]) for i in range(len(coefficients))]\n",
    "    # Get total degree\n",
    "    indices = result.getIndices()\n",
    "    nbcoeffs = indices.getSize()\n",
    "    total_p = []\n",
    "    for k in range(nbcoeffs):\n",
    "        multiindex = enumfunc(indices[k])\n",
    "        totaldegree = sum(multiindex)\n",
    "        total_p.append(totaldegree)\n",
    "    #\n",
    "    graph = ot.Graph(\n",
    "        \"Polynomial chaos result\",\n",
    "        \"Total polynomial degree\",\n",
    "        \"Coefficient absolute value\",\n",
    "        True,\n",
    "    )\n",
    "    cloud = ot.Cloud(total_p, abscoeff)\n",
    "    graph.add(cloud)\n",
    "    return graph"
   ]
  },
  {
   "cell_type": "markdown",
   "metadata": {},
   "source": [
    "*Questions* :\n",
    "\n",
    "* Utiliser la fonction `plotCoefficientValueVSDegree` sur le résultat du chaos polynomial : qu'observez-vous ?"
   ]
  },
  {
   "cell_type": "markdown",
   "metadata": {},
   "source": [
    "## Exercice 4 : énumération hyperbolique et plan d'expériences de taille 25\n",
    "\n",
    "* Use an hyperbolic enumeration with a training sample size equal to __N = 25__. \n",
    "* Compute the $Q^2$ coefficient. \n",
    "* Plot the metamodel validation graphics.\n",
    "* Is the quality of the chaos acceptable ?"
   ]
  },
  {
   "cell_type": "markdown",
   "metadata": {},
   "source": [
    "## Exercice 5 :  : nombre d'observations et nombre de paramètres\n",
    "\n",
    "On souhaite vérifier que le nombre d'observations est suffisant pour estimer correctement les paramètres. \n",
    "\n",
    "* Calculer le nombre de paramètres estimés dans le chaos polynomial. Pour cela, utiliser la méthode `getCoefficients` de l'objet `result` pour obtenir les coefficients du chaos polynomial. \n",
    "* Calculer le nombre d'observations dans le plan d'expériences. \n",
    "* Calculer le ratio entre le nombre d'observations et le nombre de paramètres. \n",
    "* La taille du plan d'expériences est-elle suffisante pour estimer les paramètres ?"
   ]
  },
  {
   "cell_type": "markdown",
   "metadata": {},
   "source": [
    "## Exercice 6 : analyse des résultats de la sélection de modèle\n",
    "\n",
    "L'objectif de cet exercice est d'analyser les résultats de la sélection de modèle dans le but de réaliser un diagnostique de la qualité du métamodèle obtenu.\n",
    "\n",
    "Considérons le ratio :\n",
    "```\n",
    "nbcoeffs / P\n",
    "```\n",
    "où `P` est le nombre maximal de coefficients associé à la règle d'énumération. Ce ratio entre 0 et 1 représente la proportions de termes retenus dans la méthode de sélection de modèle. \n",
    "* Si ce ratio est proche de zéro (par exemple inférieur à 0.01), alors c'est que le modèle est très creux car un faible nombre de coefficients suffit pour bien représenter la fonction. Dans ce cas, on aurait peut-être pu obtenir une qualité équivalente en utilisant un calcul moins coûteux en diminuant la valeur de `P`.\n",
    "* Si ce ratio est proche de un (par exemple supérieur à 0.99), alors c'est que le modèle est très plein car presque tous les coefficients ont étés nécessaires pour bien représenter la fonction. Dans ce cas, on devrait peut-être améliorer la qualité en utilisant en augmentant la valeur de `P` (cela sera plus coûteux en termes de temps de calcul, sans nécessairement nécessiter de nouvelles évaluations de la fonction $g$).\n",
    "\n",
    "L'objectif de cet exercice est d'explorer les différentes méthodes de l'objet `result`, une instance de la classe `FunctionalChaosResult`.\n",
    "\n",
    "*Questions* :\n",
    "\n",
    "* Utiliser la méthode `getIndices` pour créer la variable `indices` contenant la liste des indices des coefficients sélectionnés par la méthode. Afficher ces indices.\n",
    "* Utiliser la méthode `getSize` de la variable `indices` pour obtenir le nombre de coefficients sélectionnés par la méthode.\n",
    "* Utiliser la méthode `getCoefficients` pour obtenir la liste des valeurs des coefficients sélectionnés par la méthode. Afficher ces coefficients.\n",
    "* Calculer le ratio `nbcoeffs / P`. Quelle est la valeur obtenue ? Que peut-on conclure relativement à la qualité du métamodèle ?\n",
    "* La fonction `printCoefficientsTable` suivante utilise la règle d'énumération et le résultat d'un chaos polynomial pour afficher une table présentant les multi-indices, le degré du polynôme associé et la valeur du coefficient. "
   ]
  },
  {
   "cell_type": "code",
   "execution_count": 21,
   "metadata": {},
   "outputs": [],
   "source": [
    "def printCoefficientsTable(enumerateFunction, polynomialChaosResult):\n",
    "    \"\"\"\n",
    "    Print the coefficients of the polynomial chaos.\n",
    "    \n",
    "    Parameters\n",
    "    ----------\n",
    "    enumerateFunction : ot.EnumerateFunction\n",
    "    polynomialChaosResult : ot.PolynomialChaosResult\n",
    "    \"\"\"\n",
    "    indices = polynomialChaosResult.getIndices()\n",
    "    nbcoeffs = indices.getSize()\n",
    "    print(\"# Indice, Multi-indice, Degree : Value\")\n",
    "    for k in range(nbcoeffs):\n",
    "        multiindex = enumerateFunction(indices[k])\n",
    "        degree = sum(multiindex)\n",
    "        c = coefficients[k][0]\n",
    "        print(\"#%d, %s (%s) : %s\" % (k, multiindex, degree, c))\n",
    "    return"
   ]
  },
  {
   "cell_type": "markdown",
   "metadata": {},
   "source": [
    "Utiliser la fonction `printCoefficientsTable` avec les résultats du calcul. Qu'observez-vous ?"
   ]
  }
 ],
 "metadata": {
  "kernelspec": {
   "display_name": "Python 3",
   "language": "python",
   "name": "python3"
  },
  "language_info": {
   "codemirror_mode": {
    "name": "ipython",
    "version": 3
   },
   "file_extension": ".py",
   "mimetype": "text/x-python",
   "name": "python",
   "nbconvert_exporter": "python",
   "pygments_lexer": "ipython3",
   "version": "3.8.6"
  }
 },
 "nbformat": 4,
 "nbformat_minor": 1
}
