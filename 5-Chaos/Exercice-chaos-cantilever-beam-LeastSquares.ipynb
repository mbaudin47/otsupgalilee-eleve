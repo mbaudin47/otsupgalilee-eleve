{
 "cells": [
  {
   "cell_type": "markdown",
   "metadata": {},
   "source": [
    "# Polynômes de chaos : application au cas de la poutre encastrée avec chaos par moindres carrés"
   ]
  },
  {
   "cell_type": "markdown",
   "metadata": {},
   "source": [
    "## Résumé\n",
    "\n",
    "Dans ce notebook, nous présentons la décomposition en chaos polynomial du cas de la poutre encastrée. Nous montrons comment calculer les coefficients par moindres carrés.\n",
    "\n",
    "TODO : \n",
    "- Estimation par moindres carrés _\"all-subsets\"_.\n",
    "- Estimation par moindres carrés régularisés _\"ridge\"_.\n",
    "- Estimation par moindres carrés LARS.\n",
    "- méthode _\"stepwise_\"."
   ]
  },
  {
   "cell_type": "markdown",
   "metadata": {},
   "source": [
    "## References\n",
    "\n",
    "- On the Markdown format : https://github.com/openturns/openturns/pull/2415\n",
    "- On the use of the linear model for a polynomial chaos expansion : https://github.com/openturns/openturns/pull/2373"
   ]
  },
  {
   "cell_type": "markdown",
   "metadata": {},
   "source": [
    "## Introduction\n",
    "\n",
    "Considèrons un modèle physique $g : \\mathbb{R}^p \\rightarrow \\mathbb{R}$ :\n",
    "$$\n",
    "Y = g(\\boldsymbol{X})\n",
    "$$\n",
    "où $\\boldsymbol{X} \\in \\mathcal{X} \\subseteq \\mathbb{R}^p$ est un vecteur aléatoire et $Y\\in \\mathbb{R}$ est une variable aléatoire. \n",
    "On considère la transformation $\\boldsymbol{Z} = T(\\boldsymbol{X})$, où $\\boldsymbol{X} \\in \\mathbb{R}^p$ est le vecteur aléatoire en entrée du modèle physique, $T$ est la transformation iso-probabiliste et $\\boldsymbol{Z} \\in \\mathcal{Z} \\subseteq \\mathbb{R}^p$ est la variable standardisée. \n",
    "On introduit la fonction $h$ définie par :\n",
    "$$\n",
    "h(\\boldsymbol{Z}) = g\\left(T^{-1}(\\boldsymbol{Z})\\right) = (g \\circ T^{-1}) (\\boldsymbol{Z})\n",
    "$$\n",
    "pour tout $\\boldsymbol{Z}\\in \\mathcal{Z}$. \n",
    "\n",
    "La décomposition en polynômes du chaos est :\n",
    "$$\n",
    "\\widetilde{h}(\\boldsymbol{Z}) = \\sum_{k = 0}^P a_k \\Psi_k(\\boldsymbol{Z})\n",
    "$$\n",
    "pour tout $\\boldsymbol{Z}\\in \\mathcal{Z}$, où $P \\in \\mathbb{N}$ est le nombre de coefficients dans la décomposition, $a_k \\in \\mathbb{R}$ est le coefficient, $\\psi_k$ est le polynôme multivarié et $\\boldsymbol{Z}$ est la variable standardisée. \n"
   ]
  },
  {
   "cell_type": "markdown",
   "metadata": {},
   "source": [
    "### Calcul des coefficients par moindres carrés\n",
    "\n",
    "Soit $n \\in \\mathbb{N}$ un entier représentant la taille de l'échantillon. Soit $\\left\\{\\boldsymbol{x}^{(j)}\\right\\}_{j = 1, ..., n}$ un échantillon i.i.d. du vecteur aléatoire $\\boldsymbol{X}$. Soit $\\left\\{y^{(j)} = g\\left(\\boldsymbol{x}^{(j)}\\right)\\right\\}$ l'échantillon correspondant les valeurs du modèle physique. Soit $\\boldsymbol{y} \\in \\mathbb{R}^n$ le vecteur des observations en sortie du modèle physique :\n",
    "$$\n",
    "\\boldsymbol{y} = \\left(y^{(1)}, ..., y^{(n)}\\right) \\in \\mathbb{R}^n.\n",
    "$$\n",
    "Soit $\\left\\{\\boldsymbol{z}^{(j)}\\right\\}$ l'échantillon des entrées observées standardisées :\n",
    "$$\n",
    "\\boldsymbol{z}^{(j)} = T\\left(\\boldsymbol{x}^{(j)}\\right)\n",
    "$$\n",
    "pour $j = 1, ..., n$\n",
    "On considère la matrice de conception $D \\in \\mathbb{R}^{n(P + 1)}$ définie par :\n",
    "$$\n",
    "d_{jk} = \\psi_k\\left(\\boldsymbol{z}^{(j)}\\right)\n",
    "$$\n",
    "pour $j = 1, ..., n$ et $k = 1, ..., P + 1$.\n",
    "Le vecteur des coefficients du chaos polynomial est :\n",
    "$$\n",
    "\\boldsymbol{a} = (a_0, a_1, ..., a_P)\\in \\mathbb{R}^{P + 1}.\n",
    "$$\n",
    "Les prédictions du modèle sont :\n",
    "$$\n",
    "\\widehat{\\boldsymbol{y}} = D \\boldsymbol{a}\n",
    "$$\n",
    "La méthode des moindres carrés consiste à rechercher la solution du problème :\n",
    "$$\n",
    "\\widehat{\\boldsymbol{a}} = \\operatorname{argmin}_{\\boldsymbol{a} \\in \\mathbb{R}^{P + 1}} \\left\\|\\boldsymbol{y} - D \\boldsymbol{a}\\right\\|_2\n",
    "$$"
   ]
  },
  {
   "cell_type": "code",
   "execution_count": 1,
   "metadata": {},
   "outputs": [],
   "source": [
    "from openturns.usecases import ishigami_function\n",
    "import openturns as ot\n",
    "import openturns.viewer as otv\n",
    "from IPython.display import Markdown"
   ]
  },
  {
   "cell_type": "code",
   "execution_count": 2,
   "metadata": {},
   "outputs": [],
   "source": [
    "ot.Log.Show(ot.Log.NONE)\n",
    "ot.RandomGenerator.SetSeed(0)"
   ]
  },
  {
   "cell_type": "code",
   "execution_count": 3,
   "metadata": {},
   "outputs": [],
   "source": [
    "im = ishigami_function.IshigamiModel()\n",
    "sampleSize = 1000\n",
    "inputTrainSample = im.distributionX.getSample(sampleSize)\n",
    "outputTrainSample = im.model(inputTrainSample)"
   ]
  },
  {
   "cell_type": "code",
   "execution_count": 4,
   "metadata": {},
   "outputs": [
    {
     "name": "stdout",
     "output_type": "stream",
     "text": [
      "Basis size =  120\n"
     ]
    }
   ],
   "source": [
    "multivariateBasis = ot.OrthogonalProductPolynomialFactory([im.X1, im.X2, im.X3])\n",
    "totalDegree = 7\n",
    "enumerateFunction = multivariateBasis.getEnumerateFunction()\n",
    "basisSize = enumerateFunction.getBasisSizeFromTotalDegree(totalDegree)\n",
    "print(\"Basis size = \", basisSize)"
   ]
  },
  {
   "cell_type": "code",
   "execution_count": 5,
   "metadata": {},
   "outputs": [],
   "source": [
    "standardizedDistribution = multivariateBasis.getMeasure()\n",
    "transformation = ot.DistributionTransformation(\n",
    "    im.distributionX, standardizedDistribution\n",
    ")\n",
    "standardInputTrainSample = transformation(inputTrainSample)\n",
    "# Create the basis\n",
    "basis = ot.Basis()\n",
    "for i in range(basisSize):\n",
    "    basisFunction = multivariateBasis.build(i)\n",
    "    basis.add(basisFunction)"
   ]
  },
  {
   "cell_type": "code",
   "execution_count": 6,
   "metadata": {},
   "outputs": [],
   "source": [
    "lma = ot.LinearModelAlgorithm(standardInputTrainSample, outputTrainSample, basis)\n",
    "lma.run()\n",
    "lmResult = lma.getResult()\n",
    "metamodel = lmResult.getMetaModel()"
   ]
  },
  {
   "cell_type": "code",
   "execution_count": 7,
   "metadata": {},
   "outputs": [
    {
     "data": {
      "image/png": "[encoded data removed]",
      "text/plain": [
       "<Figure size 640x480 with 1 Axes>"
      ]
     },
     "metadata": {},
     "output_type": "display_data"
    }
   ],
   "source": [
    "inputTestSample = im.distributionX.getSample(sampleSize)\n",
    "outputTestSample = im.model(inputTestSample)\n",
    "standardInputTestSample = transformation(inputTestSample)\n",
    "val = ot.MetaModelValidation(standardInputTestSample, outputTestSample, metamodel)\n",
    "graph = val.drawValidation()\n",
    "view = otv.View(graph)"
   ]
  },
  {
   "cell_type": "markdown",
   "metadata": {},
   "source": []
  },
  {
   "cell_type": "code",
   "execution_count": 8,
   "metadata": {},
   "outputs": [
    {
     "data": {
      "text/html": [
       "<p>[3.51062,1.6168,0.0176172,-0.00302787,0.00207795,-0.00632285,0.000808137,-0.575118,0.0352787,0.0188915,-1.31464,0.0236058,-0.00358541,0.0121091,0.00412781,1.3579,-0.00391916,-0.000868648,-0.00134937,-0.00835446,-0.00513374,-0.000841675,0.017505,0.015543,0.0335448,0.0118313,-0.0107797,0.000916182,0.0166504,0.0227201,-1.9539,-0.000853578,0.0091154,0.0578784,0.00787351,0.162597,0.00377429,-0.011365,0.00641715,-0.0226232,-1.12106,-0.0049494,-0.0187318,-0.0128965,0.00594532,0.00176876,0.00241501,-0.0268536,0.00396697,0.406677,0.00882582,0.00283511,0.0139238,-0.0242617,-0.0235001,-0.00958338,0.00121437,-0.0126106,-0.00243564,-0.0222661,-0.0102368,-0.00959902,0.000389988,-0.000656011,0.0156613,0.0272002,0.0161706,0.0233023,0.000657748,0.027242,-0.006891,-0.00411827,-0.0211048,-0.0332507,0.0245842,0.00995604,-0.0124777,1.36435,0.00107642,-0.0132066,0.0110383,0.0352921,0.0427742,0.00775113,-0.0229653,-0.000389804,0.0147768,-0.0140306,-0.0256842,0.148513,-0.0121466,-0.00414044,0.0120034,0.00255439,0.014017,-0.0212681,-0.00450715,-0.0198321,-0.360981,0.0241106,-0.005351,-0.0168958,-0.0207719,0.0072049,0.01631,0.0201474,0.00220597,-0.0300504,0.00653448,0.0217985,0.0140277,0.0159272,0.00306564,0.00940128,0.00141036,-0.00959792,-0.0221092,-0.0234556,0.00145066,0.00744798]#120</p>"
      ],
      "text/plain": [
       "class=Point name=Unnamed dimension=120 values=[3.51062,1.6168,0.0176172,-0.00302787,0.00207795,-0.00632285,0.000808137,-0.575118,0.0352787,0.0188915,-1.31464,0.0236058,-0.00358541,0.0121091,0.00412781,1.3579,-0.00391916,-0.000868648,-0.00134937,-0.00835446,-0.00513374,-0.000841675,0.017505,0.015543,0.0335448,0.0118313,-0.0107797,0.000916182,0.0166504,0.0227201,-1.9539,-0.000853578,0.0091154,0.0578784,0.00787351,0.162597,0.00377429,-0.011365,0.00641715,-0.0226232,-1.12106,-0.0049494,-0.0187318,-0.0128965,0.00594532,0.00176876,0.00241501,-0.0268536,0.00396697,0.406677,0.00882582,0.00283511,0.0139238,-0.0242617,-0.0235001,-0.00958338,0.00121437,-0.0126106,-0.00243564,-0.0222661,-0.0102368,-0.00959902,0.000389988,-0.000656011,0.0156613,0.0272002,0.0161706,0.0233023,0.000657748,0.027242,-0.006891,-0.00411827,-0.0211048,-0.0332507,0.0245842,0.00995604,-0.0124777,1.36435,0.00107642,-0.0132066,0.0110383,0.0352921,0.0427742,0.00775113,-0.0229653,-0.000389804,0.0147768,-0.0140306,-0.0256842,0.148513,-0.0121466,-0.00414044,0.0120034,0.00255439,0.014017,-0.0212681,-0.00450715,-0.0198321,-0.360981,0.0241106,-0.005351,-0.0168958,-0.0207719,0.0072049,0.01631,0.0201474,0.00220597,-0.0300504,0.00653448,0.0217985,0.0140277,0.0159272,0.00306564,0.00940128,0.00141036,-0.00959792,-0.0221092,-0.0234556,0.00145066,0.00744798]"
      ]
     },
     "execution_count": 8,
     "metadata": {},
     "output_type": "execute_result"
    }
   ],
   "source": [
    "coefficients = lmResult.getCoefficients()\n",
    "coefficients"
   ]
  },
  {
   "cell_type": "code",
   "execution_count": 9,
   "metadata": {},
   "outputs": [
    {
     "data": {
      "text/markdown": [
       "| Index | Multi-Index | Coefficients |\n",
       "|-------|-------------|--------------|\n",
       "| 0 | [0,0,0] | 3.5106211450935403 |\n",
       "| 1 | [1,0,0] | 1.6168007313493509 |\n",
       "| 2 | [0,1,0] | 0.017617243079540542 |\n",
       "| 3 | [0,0,1] | -0.0030278720935408795 |\n",
       "| 4 | [2,0,0] | 0.002077945093332609 |\n",
       "| 5 | [1,1,0] | -0.006322845124978622 |\n",
       "| 6 | [1,0,1] | 0.0008081369296134358 |\n",
       "| 7 | [0,2,0] | -0.5751181082046226 |\n",
       "| 8 | [0,1,1] | 0.0352786571754576 |\n",
       "| 9 | [0,0,2] | 0.018891533485543857 |\n",
       "| 10 | [3,0,0] | -1.3146428011717164 |\n",
       "| 11 | [2,1,0] | 0.023605779008638646 |\n",
       "| 12 | [2,0,1] | -0.003585406694994322 |\n",
       "| 13 | [1,2,0] | 0.012109118031163059 |\n",
       "| 14 | [1,1,1] | 0.004127809407640326 |\n",
       "| 15 | [1,0,2] | 1.3578985535887707 |\n",
       "| 16 | [0,3,0] | -0.003919159870020082 |\n",
       "| 17 | [0,2,1] | -0.000868648135731426 |\n",
       "| 18 | [0,1,2] | -0.001349370861434941 |\n",
       "| 19 | [0,0,3] | -0.008354464497386145 |\n",
       "| 20 | [4,0,0] | -0.005133743649632557 |\n",
       "| 21 | [3,1,0] | -0.0008416748249649807 |\n",
       "| 22 | [3,0,1] | 0.017504964125372256 |\n",
       "| 23 | [2,2,0] | 0.015543048661859299 |\n",
       "| 24 | [2,1,1] | 0.033544804788881014 |\n",
       "| 25 | [2,0,2] | 0.011831273008530234 |\n",
       "| 26 | [1,3,0] | -0.010779700088820812 |\n",
       "| 27 | [1,2,1] | 0.000916182259933712 |\n",
       "| 28 | [1,1,2] | 0.0166503992328711 |\n",
       "| 29 | [1,0,3] | 0.022720137492830028 |\n",
       "| 30 | [0,4,0] | -1.9538954104056616 |\n",
       "| 31 | [0,3,1] | -0.0008535778849974036 |\n",
       "| 32 | [0,2,2] | 0.00911540133509753 |\n",
       "| 33 | [0,1,3] | 0.05787840872883503 |\n",
       "| 34 | [0,0,4] | 0.00787350821528781 |\n",
       "| 35 | [5,0,0] | 0.16259737060384785 |\n",
       "| 36 | [4,1,0] | 0.003774286156765628 |\n",
       "| 37 | [4,0,1] | -0.01136501925945129 |\n",
       "| 38 | [3,2,0] | 0.006417151308260152 |\n",
       "| 39 | [3,1,1] | -0.022623194224342166 |\n",
       "| 40 | [3,0,2] | -1.1210610776391663 |\n",
       "| 41 | [2,3,0] | -0.0049493960954906735 |\n",
       "| 42 | [2,2,1] | -0.018731780389332237 |\n",
       "| 43 | [2,1,2] | -0.01289653557943689 |\n",
       "| 44 | [2,0,3] | 0.005945322004594878 |\n",
       "| 45 | [1,4,0] | 0.0017687575007148632 |\n",
       "| 46 | [1,3,1] | 0.002415006921615983 |\n",
       "| 47 | [1,2,2] | -0.026853649959435698 |\n",
       "| 48 | [1,1,3] | 0.003966970042790773 |\n",
       "| 49 | [1,0,4] | 0.40667671002575645 |\n",
       "| 50 | [0,5,0] | 0.008825816770774127 |\n",
       "| 51 | [0,4,1] | 0.0028351117769658484 |\n",
       "| 52 | [0,3,2] | 0.013923789302070598 |\n",
       "| 53 | [0,2,3] | -0.024261736964022753 |\n",
       "| 54 | [0,1,4] | -0.023500073062538034 |\n",
       "| 55 | [0,0,5] | -0.009583381706473678 |\n",
       "| 56 | [6,0,0] | 0.0012143747326358234 |\n",
       "| 57 | [5,1,0] | -0.012610598047626535 |\n",
       "| 58 | [5,0,1] | -0.002435638885246039 |\n",
       "| 59 | [4,2,0] | -0.022266063382105978 |\n",
       "| 60 | [4,1,1] | -0.010236830064272855 |\n",
       "| 61 | [4,0,2] | -0.009599024437456095 |\n",
       "| 62 | [3,3,0] | 0.0003899876514892937 |\n",
       "| 63 | [3,2,1] | -0.0006560112621792196 |\n",
       "| 64 | [3,1,2] | 0.015661259059017572 |\n",
       "| 65 | [3,0,3] | 0.027200219124469828 |\n",
       "| 66 | [2,4,0] | 0.01617059112961784 |\n",
       "| 67 | [2,3,1] | 0.02330228805252547 |\n",
       "| 68 | [2,2,2] | 0.0006577480026449926 |\n",
       "| 69 | [2,1,3] | 0.027241955359039307 |\n",
       "| 70 | [2,0,4] | -0.006890998292592408 |\n",
       "| 71 | [1,5,0] | -0.0041182663788805725 |\n",
       "| 72 | [1,4,1] | -0.02110478833180375 |\n",
       "| 73 | [1,3,2] | -0.033250696475518926 |\n",
       "| 74 | [1,2,3] | 0.02458417978615533 |\n",
       "| 75 | [1,1,4] | 0.009956039223203681 |\n",
       "| 76 | [1,0,5] | -0.012477690747396002 |\n",
       "| 77 | [0,6,0] | 1.3643511543869253 |\n",
       "| 78 | [0,5,1] | 0.0010764155653408339 |\n",
       "| 79 | [0,4,2] | -0.013206564670654225 |\n",
       "| 80 | [0,3,3] | 0.011038250140106239 |\n",
       "| 81 | [0,2,4] | 0.035292132669769515 |\n",
       "| 82 | [0,1,5] | 0.04277420119093813 |\n",
       "| 83 | [0,0,6] | 0.0077511312761337926 |\n",
       "| 84 | [7,0,0] | -0.022965347164057293 |\n",
       "| 85 | [6,1,0] | -0.00038980448050365206 |\n",
       "| 86 | [6,0,1] | 0.014776794400195147 |\n",
       "| 87 | [5,2,0] | -0.014030595133373609 |\n",
       "| 88 | [5,1,1] | -0.025684235498344362 |\n",
       "| 89 | [5,0,2] | 0.1485125589290398 |\n",
       "| 90 | [4,3,0] | -0.012146551897747368 |\n",
       "| 91 | [4,2,1] | -0.0041404397921889985 |\n",
       "| 92 | [4,1,2] | 0.012003376457101771 |\n",
       "| 93 | [4,0,3] | 0.002554388595052051 |\n",
       "| 94 | [3,4,0] | 0.014016951878116376 |\n",
       "| 95 | [3,3,1] | -0.02126807518713237 |\n",
       "| 96 | [3,2,2] | -0.004507146448153727 |\n",
       "| 97 | [3,1,3] | -0.01983213789147672 |\n",
       "| 98 | [3,0,4] | -0.3609811645887883 |\n",
       "| 99 | [2,5,0] | 0.024110586456566708 |\n",
       "| 100 | [2,4,1] | -0.0053509975078519356 |\n",
       "| 101 | [2,3,2] | -0.016895766971233968 |\n",
       "| 102 | [2,2,3] | -0.020771882700934222 |\n",
       "| 103 | [2,1,4] | 0.007204903509997129 |\n",
       "| 104 | [2,0,5] | 0.016309978965235356 |\n",
       "| 105 | [1,6,0] | 0.020147391577222055 |\n",
       "| 106 | [1,5,1] | 0.002205968427651819 |\n",
       "| 107 | [1,4,2] | -0.030050443874645703 |\n",
       "| 108 | [1,3,3] | 0.0065344771051132 |\n",
       "| 109 | [1,2,4] | 0.02179854002209009 |\n",
       "| 110 | [1,1,5] | 0.01402766364303868 |\n",
       "| 111 | [1,0,6] | 0.015927239320096313 |\n",
       "| 112 | [0,7,0] | 0.003065640153953793 |\n",
       "| 113 | [0,6,1] | 0.009401284454480196 |\n",
       "| 114 | [0,5,2] | 0.0014103605107534305 |\n",
       "| 115 | [0,4,3] | -0.009597918052438375 |\n",
       "| 116 | [0,3,4] | -0.022109199910544542 |\n",
       "| 117 | [0,2,5] | -0.023455623261017407 |\n",
       "| 118 | [0,1,6] | 0.0014506636813227606 |\n",
       "| 119 | [0,0,7] | 0.007447980205134712 |\n",
       "\n"
      ],
      "text/plain": [
       "<IPython.core.display.Markdown object>"
      ]
     },
     "execution_count": 9,
     "metadata": {},
     "output_type": "execute_result"
    }
   ],
   "source": [
    "markdown = \"\"\n",
    "# Table\n",
    "markdown += \"| Index | Multi-Index | Coefficients |\\n\"\n",
    "markdown += \"|-------|-------------|--------------|\\n\"\n",
    "for k in range(basisSize):\n",
    "    multiIndex = enumerateFunction(k)\n",
    "    markdown += f\"| {k} | {multiIndex} | {coefficients[k]} |\\n\"\n",
    "markdown += \"\\n\"\n",
    "Markdown(markdown)"
   ]
  },
  {
   "cell_type": "code",
   "execution_count": 10,
   "metadata": {},
   "outputs": [
    {
     "data": {
      "image/png": "[encoded data removed]",
      "text/plain": [
       "class=Graph name=PCE Coefficients implementation=class=GraphImplementation name=PCE Coefficients title=PCE Coefficients xTitle=Total degree yTitle=Absolute coefficient axes=ON grid=ON legendposition= legendFontSize=1 drawables=[class=Drawable name=Unnamed implementation=class=Cloud name=Unnamed derived from class=DrawableImplementation name=Unnamed legend= data=class=Sample name=Unnamed implementation=class=SampleImplementation name=Unnamed size=120 dimension=2 data=[[0,3.51062],[1,1.6168],[1,0.0176172],[1,0.00302787],[2,0.00207795],[2,0.00632285],[2,0.000808137],[2,0.575118],[2,0.0352787],[2,0.0188915],[3,1.31464],[3,0.0236058],[3,0.00358541],[3,0.0121091],[3,0.00412781],[3,1.3579],[3,0.00391916],[3,0.000868648],[3,0.00134937],[3,0.00835446],[4,0.00513374],[4,0.000841675],[4,0.017505],[4,0.015543],[4,0.0335448],[4,0.0118313],[4,0.0107797],[4,0.000916182],[4,0.0166504],[4,0.0227201],[4,1.9539],[4,0.000853578],[4,0.0091154],[4,0.0578784],[4,0.00787351],[5,0.162597],[5,0.00377429],[5,0.011365],[5,0.00641715],[5,0.0226232],[5,1.12106],[5,0.0049494],[5,0.0187318],[5,0.0128965],[5,0.00594532],[5,0.00176876],[5,0.00241501],[5,0.0268536],[5,0.00396697],[5,0.406677],[5,0.00882582],[5,0.00283511],[5,0.0139238],[5,0.0242617],[5,0.0235001],[5,0.00958338],[6,0.00121437],[6,0.0126106],[6,0.00243564],[6,0.0222661],[6,0.0102368],[6,0.00959902],[6,0.000389988],[6,0.000656011],[6,0.0156613],[6,0.0272002],[6,0.0161706],[6,0.0233023],[6,0.000657748],[6,0.027242],[6,0.006891],[6,0.00411827],[6,0.0211048],[6,0.0332507],[6,0.0245842],[6,0.00995604],[6,0.0124777],[6,1.36435],[6,0.00107642],[6,0.0132066],[6,0.0110383],[6,0.0352921],[6,0.0427742],[6,0.00775113],[7,0.0229653],[7,0.000389804],[7,0.0147768],[7,0.0140306],[7,0.0256842],[7,0.148513],[7,0.0121466],[7,0.00414044],[7,0.0120034],[7,0.00255439],[7,0.014017],[7,0.0212681],[7,0.00450715],[7,0.0198321],[7,0.360981],[7,0.0241106],[7,0.005351],[7,0.0168958],[7,0.0207719],[7,0.0072049],[7,0.01631],[7,0.0201474],[7,0.00220597],[7,0.0300504],[7,0.00653448],[7,0.0217985],[7,0.0140277],[7,0.0159272],[7,0.00306564],[7,0.00940128],[7,0.00141036],[7,0.00959792],[7,0.0221092],[7,0.0234556],[7,0.00145066],[7,0.00744798]] color=blue fillStyle=solid lineStyle=solid pointStyle=bullet lineWidth=1]"
      ]
     },
     "execution_count": 10,
     "metadata": {},
     "output_type": "execute_result"
    }
   ],
   "source": [
    "data = ot.Sample(0, 2)\n",
    "for k in range(basisSize):\n",
    "    multiIndex = enumerateFunction(k)\n",
    "    totalDegree = sum(multiIndex)\n",
    "    data.add([totalDegree, abs(coefficients[k])])\n",
    "graph = ot.Graph(\"PCE Coefficients\", \"Total degree\", \"Absolute coefficient\", True)\n",
    "cloud = ot.Cloud(data)\n",
    "cloud.setPointStyle(\"bullet\")\n",
    "graph.add(cloud)\n",
    "graph.setLogScale(ot.GraphImplementation.LOGY)\n",
    "graph.setIntegerXTick(True)\n",
    "graph"
   ]
  },
  {
   "cell_type": "markdown",
   "metadata": {},
   "source": [
    "## Exercice 1 : Application à la poutre encastrée\n",
    "\n",
    "_Questions_\n",
    "- Changer le modèle et considérer le modèle de poutre encastrée.\n",
    "- Pour un degré total donné, utiliser la méthode de validation simple et estimer le score $Q^2$. Représenter le $Q^2$ en fonction du degré : qu'observez-vous ?"
   ]
  },
  {
   "cell_type": "markdown",
   "metadata": {},
   "source": []
  }
 ],
 "metadata": {
  "kernelspec": {
   "display_name": "otsupgalilee2023",
   "language": "python",
   "name": "python3"
  },
  "language_info": {
   "codemirror_mode": {
    "name": "ipython",
    "version": 3
   },
   "file_extension": ".py",
   "mimetype": "text/x-python",
   "name": "python",
   "nbconvert_exporter": "python",
   "pygments_lexer": "ipython3",
   "version": "3.11.0"
  },
  "orig_nbformat": 4
 },
 "nbformat": 4,
 "nbformat_minor": 2
}
