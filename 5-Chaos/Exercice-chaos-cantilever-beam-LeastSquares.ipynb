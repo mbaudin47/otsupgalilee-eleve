{
 "cells": [
  {
   "cell_type": "markdown",
   "metadata": {},
   "source": [
    "# Polynômes de chaos : application au cas de la poutre encastrée avec chaos par moindres carrés"
   ]
  },
  {
   "cell_type": "markdown",
   "metadata": {},
   "source": [
    "## Résumé\n",
    "\n",
    "Dans ce notebook, nous présentons la décomposition en chaos polynomial du cas de la poutre encastrée. Nous montrons comment calculer les coefficients par moindres carrés. Le but de cet exemple est d'utiliser des fonctionnalités de plus bas niveau que celles disponibles dans la classe `FunctionalChaosAlgorithm`. Cet exemple est le complément de `Exercice-chaos-cantilever-beam-Integration.ipynb`, où nous calculons les coefficients par intégration.\n",
    "\n",
    "TODO : \n",
    "- Estimation par moindres carrés _\"all-subsets\"_.\n",
    "- Estimation par moindres carrés régularisés _\"ridge\"_.\n",
    "- Estimation par moindres carrés LARS.\n",
    "- méthode _\"stepwise_\"."
   ]
  },
  {
   "cell_type": "markdown",
   "metadata": {},
   "source": [
    "## References\n",
    "\n",
    "- On the Markdown format : https://github.com/openturns/openturns/pull/2415\n",
    "- On the use of the linear model for a polynomial chaos expansion : https://github.com/openturns/openturns/pull/2373"
   ]
  },
  {
   "cell_type": "markdown",
   "metadata": {},
   "source": [
    "## Introduction\n",
    "\n",
    "Considèrons un modèle physique $g : \\mathbb{R}^p \\rightarrow \\mathbb{R}$ :\n",
    "$$\n",
    "Y = g(\\boldsymbol{X})\n",
    "$$\n",
    "où $\\boldsymbol{X} \\in \\mathcal{X} \\subseteq \\mathbb{R}^p$ est un vecteur aléatoire et $Y\\in \\mathbb{R}$ est une variable aléatoire. \n",
    "On considère la transformation $\\boldsymbol{Z} = T(\\boldsymbol{X})$, où $\\boldsymbol{X} \\in \\mathbb{R}^p$ est le vecteur aléatoire en entrée du modèle physique, $T$ est la transformation iso-probabiliste et $\\boldsymbol{Z} \\in \\mathcal{Z} \\subseteq \\mathbb{R}^p$ est la variable standardisée. \n",
    "On introduit la fonction $h$ définie par :\n",
    "$$\n",
    "h(\\boldsymbol{Z}) = g\\left(T^{-1}(\\boldsymbol{Z})\\right) = (g \\circ T^{-1}) (\\boldsymbol{Z})\n",
    "$$\n",
    "pour tout $\\boldsymbol{Z}\\in \\mathcal{Z}$. \n",
    "\n",
    "La décomposition en polynômes du chaos est :\n",
    "$$\n",
    "\\widetilde{h}(\\boldsymbol{Z}) = \\sum_{k = 0}^P a_k \\Psi_k(\\boldsymbol{Z})\n",
    "$$\n",
    "pour tout $\\boldsymbol{Z}\\in \\mathcal{Z}$, où $P \\in \\mathbb{N}$ est le nombre de coefficients dans la décomposition, $a_k \\in \\mathbb{R}$ est le coefficient, $\\psi_k$ est le polynôme multivarié et $\\boldsymbol{Z}$ est la variable standardisée. \n"
   ]
  },
  {
   "cell_type": "markdown",
   "metadata": {},
   "source": [
    "### Calcul des coefficients par moindres carrés\n",
    "\n",
    "Soit $n \\in \\mathbb{N}$ un entier représentant la taille de l'échantillon. Soit $\\left\\{\\boldsymbol{x}^{(j)}\\right\\}_{j = 1, ..., n}$ un échantillon i.i.d. du vecteur aléatoire $\\boldsymbol{X}$. Soit $\\left\\{y^{(j)} = g\\left(\\boldsymbol{x}^{(j)}\\right)\\right\\}$ l'échantillon correspondant les valeurs du modèle physique. Soit $\\boldsymbol{y} \\in \\mathbb{R}^n$ le vecteur des observations en sortie du modèle physique :\n",
    "$$\n",
    "\\boldsymbol{y} = \\left(y^{(1)}, ..., y^{(n)}\\right) \\in \\mathbb{R}^n.\n",
    "$$\n",
    "Soit $\\left\\{\\boldsymbol{z}^{(j)}\\right\\}$ l'échantillon des entrées observées standardisées :\n",
    "$$\n",
    "\\boldsymbol{z}^{(j)} = T\\left(\\boldsymbol{x}^{(j)}\\right)\n",
    "$$\n",
    "pour $j = 1, ..., n$\n",
    "On considère la matrice de conception $D \\in \\mathbb{R}^{n(P + 1)}$ définie par :\n",
    "$$\n",
    "d_{jk} = \\psi_k\\left(\\boldsymbol{z}^{(j)}\\right)\n",
    "$$\n",
    "pour $j = 1, ..., n$ et $k = 1, ..., P + 1$.\n",
    "Le vecteur des coefficients du chaos polynomial est :\n",
    "$$\n",
    "\\boldsymbol{a} = (a_0, a_1, ..., a_P)\\in \\mathbb{R}^{P + 1}.\n",
    "$$\n",
    "Les prédictions du modèle sont :\n",
    "$$\n",
    "\\widehat{\\boldsymbol{y}} = D \\boldsymbol{a}\n",
    "$$\n",
    "La méthode des moindres carrés consiste à rechercher la solution du problème :\n",
    "$$\n",
    "\\widehat{\\boldsymbol{a}} = \\operatorname{argmin}_{\\boldsymbol{a} \\in \\mathbb{R}^{P + 1}} \\left\\|\\boldsymbol{y} - D \\boldsymbol{a}\\right\\|_2\n",
    "$$"
   ]
  },
  {
   "cell_type": "code",
   "execution_count": 1,
   "metadata": {},
   "outputs": [],
   "source": [
    "from openturns.usecases import ishigami_function\n",
    "import openturns as ot\n",
    "import openturns.viewer as otv\n",
    "from IPython.display import Markdown"
   ]
  },
  {
   "cell_type": "code",
   "execution_count": 2,
   "metadata": {},
   "outputs": [],
   "source": [
    "ot.Log.Show(ot.Log.NONE)\n",
    "ot.RandomGenerator.SetSeed(0)"
   ]
  },
  {
   "cell_type": "markdown",
   "metadata": {},
   "source": [
    "Dans la cellule suivante, nous créons le modèle physique associé à la fonction d'Ishigami et nous générons un échantillon d'apprentissage."
   ]
  },
  {
   "cell_type": "code",
   "execution_count": 3,
   "metadata": {},
   "outputs": [],
   "source": [
    "im = ishigami_function.IshigamiModel()\n",
    "sampleSize = 1000\n",
    "inputTrainSample = im.inputDistribution.getSample(sampleSize)\n",
    "outputTrainSample = im.model(inputTrainSample)"
   ]
  },
  {
   "cell_type": "markdown",
   "metadata": {},
   "source": [
    "Dans la cellule suivante, nous créons la base de polynômes orthogonaux associés à la loi de distribution jointe du vecteur aléatoire en entrée du modèle physique."
   ]
  },
  {
   "cell_type": "code",
   "execution_count": 4,
   "metadata": {},
   "outputs": [
    {
     "name": "stdout",
     "output_type": "stream",
     "text": [
      "Basis size =  35\n"
     ]
    }
   ],
   "source": [
    "multivariateBasis = ot.OrthogonalProductPolynomialFactory([im.X1, im.X2, im.X3])\n",
    "totalDegree = 4\n",
    "enumerateFunction = multivariateBasis.getEnumerateFunction()\n",
    "basisSize = enumerateFunction.getBasisSizeFromTotalDegree(totalDegree)\n",
    "print(\"Basis size = \", basisSize)"
   ]
  },
  {
   "cell_type": "markdown",
   "metadata": {},
   "source": [
    "Dans la cellule suivante, nous créons la base de fonctions."
   ]
  },
  {
   "cell_type": "code",
   "execution_count": 5,
   "metadata": {},
   "outputs": [],
   "source": [
    "standardizedDistribution = multivariateBasis.getMeasure()\n",
    "transformation = ot.DistributionTransformation(\n",
    "    im.inputDistribution, standardizedDistribution\n",
    ")\n",
    "standardInputTrainSample = transformation(inputTrainSample)\n",
    "# Create the basis\n",
    "basis = ot.Basis()\n",
    "for i in range(basisSize):\n",
    "    basisFunction = multivariateBasis.build(i)\n",
    "    basis.add(basisFunction)"
   ]
  },
  {
   "cell_type": "markdown",
   "metadata": {},
   "source": [
    "Pour évaluer les coefficients, nous utilisons la classe `LinearModelAlgorithm`. Il est important de considérer non pas l'échantillon de la variable physique d'entrée, mais l'échantillon de la variable d'entrée standardisée."
   ]
  },
  {
   "cell_type": "code",
   "execution_count": 6,
   "metadata": {},
   "outputs": [],
   "source": [
    "lma = ot.LinearModelAlgorithm(standardInputTrainSample, outputTrainSample, basis)\n",
    "lma.run()\n",
    "lmResult = lma.getResult()\n",
    "metamodel = lmResult.getMetaModel()"
   ]
  },
  {
   "cell_type": "markdown",
   "metadata": {},
   "source": [
    "Dans la cellule suivante, nous validons le métamodèle de chaos polynomial."
   ]
  },
  {
   "cell_type": "code",
   "execution_count": 7,
   "metadata": {},
   "outputs": [
    {
     "data": {
      "image/png": "[encoded data removed]",
      "text/plain": [
       "<Figure size 640x480 with 1 Axes>"
      ]
     },
     "metadata": {},
     "output_type": "display_data"
    }
   ],
   "source": [
    "inputTestSample = im.inputDistribution.getSample(sampleSize)\n",
    "outputTestSample = im.model(inputTestSample)\n",
    "standardInputTestSample = transformation(inputTestSample)\n",
    "val = ot.MetaModelValidation(outputTestSample, metamodel(standardInputTestSample))\n",
    "graph = val.drawValidation()\n",
    "view = otv.View(graph)"
   ]
  },
  {
   "cell_type": "markdown",
   "metadata": {},
   "source": [
    "Nous pouvons ensuite récupérer les coefficients de la décomposition."
   ]
  },
  {
   "cell_type": "code",
   "execution_count": 8,
   "metadata": {},
   "outputs": [
    {
     "data": {
      "text/html": [
       "class=Point name=Unnamed dimension=35 values=[3.43797,1.58824,-0.0746952,-0.117765,0.0547603,0.090274,-0.024324,-0.522636,0.0557932,-0.0667344,-1.22986,0.0361724,-0.034229,0.0235648,0.0256867,1.43314,-0.00632906,-0.0185813,-0.105488,-0.180489,0.0824164,-0.0425435,-0.0782013,-0.10975,-0.0787552,0.130931,0.0578816,-0.0203553,0.0541069,0.0824176,-1.95768,0.0230745,0.158188,-0.0428948,-0.0992381]"
      ],
      "text/plain": [
       "class=Point name=Unnamed dimension=35 values=[3.43797,1.58824,-0.0746952,-0.117765,0.0547603,0.090274,-0.024324,-0.522636,0.0557932,-0.0667344,-1.22986,0.0361724,-0.034229,0.0235648,0.0256867,1.43314,-0.00632906,-0.0185813,-0.105488,-0.180489,0.0824164,-0.0425435,-0.0782013,-0.10975,-0.0787552,0.130931,0.0578816,-0.0203553,0.0541069,0.0824176,-1.95768,0.0230745,0.158188,-0.0428948,-0.0992381]"
      ]
     },
     "execution_count": 8,
     "metadata": {},
     "output_type": "execute_result"
    }
   ],
   "source": [
    "coefficients = lmResult.getCoefficients()\n",
    "coefficients"
   ]
  },
  {
   "cell_type": "markdown",
   "metadata": {},
   "source": [
    "Pour afficher les coefficients, nous utilisons le format Markdown."
   ]
  },
  {
   "cell_type": "code",
   "execution_count": 9,
   "metadata": {},
   "outputs": [
    {
     "data": {
      "text/markdown": [
       "| Index | Multi-Index | Coefficients |\n",
       "|-------|-------------|--------------|\n",
       "| 0 | [0,0,0] | 3.43796681627128 |\n",
       "| 1 | [1,0,0] | 1.5882399793397821 |\n",
       "| 2 | [0,1,0] | -0.07469522716214406 |\n",
       "| 3 | [0,0,1] | -0.11776474404676704 |\n",
       "| 4 | [2,0,0] | 0.05476028669798246 |\n",
       "| 5 | [1,1,0] | 0.09027402803739555 |\n",
       "| 6 | [1,0,1] | -0.02432398526741507 |\n",
       "| 7 | [0,2,0] | -0.5226359666773007 |\n",
       "| 8 | [0,1,1] | 0.05579322537178073 |\n",
       "| 9 | [0,0,2] | -0.06673438809418034 |\n",
       "| 10 | [3,0,0] | -1.2298590018949092 |\n",
       "| 11 | [2,1,0] | 0.03617242095414061 |\n",
       "| 12 | [2,0,1] | -0.034229023966330124 |\n",
       "| 13 | [1,2,0] | 0.023564812922086384 |\n",
       "| 14 | [1,1,1] | 0.025686700077268393 |\n",
       "| 15 | [1,0,2] | 1.4331438344388858 |\n",
       "| 16 | [0,3,0] | -0.006329056513434716 |\n",
       "| 17 | [0,2,1] | -0.018581322870626023 |\n",
       "| 18 | [0,1,2] | -0.10548841405719697 |\n",
       "| 19 | [0,0,3] | -0.18048885996937233 |\n",
       "| 20 | [4,0,0] | 0.08241643308157896 |\n",
       "| 21 | [3,1,0] | -0.0425435333398001 |\n",
       "| 22 | [3,0,1] | -0.07820133092426507 |\n",
       "| 23 | [2,2,0] | -0.10974994435750011 |\n",
       "| 24 | [2,1,1] | -0.07875521149282198 |\n",
       "| 25 | [2,0,2] | 0.13093086445335095 |\n",
       "| 26 | [1,3,0] | 0.05788158149964997 |\n",
       "| 27 | [1,2,1] | -0.02035534288816068 |\n",
       "| 28 | [1,1,2] | 0.054106874715624476 |\n",
       "| 29 | [1,0,3] | 0.08241755810305265 |\n",
       "| 30 | [0,4,0] | -1.9576760903906651 |\n",
       "| 31 | [0,3,1] | 0.023074523246829706 |\n",
       "| 32 | [0,2,2] | 0.15818770782838482 |\n",
       "| 33 | [0,1,3] | -0.04289481102032883 |\n",
       "| 34 | [0,0,4] | -0.09923812915049127 |\n",
       "\n"
      ],
      "text/plain": [
       "<IPython.core.display.Markdown object>"
      ]
     },
     "execution_count": 9,
     "metadata": {},
     "output_type": "execute_result"
    }
   ],
   "source": [
    "markdown = \"\"\n",
    "# Table\n",
    "markdown += \"| Index | Multi-Index | Coefficients |\\n\"\n",
    "markdown += \"|-------|-------------|--------------|\\n\"\n",
    "for k in range(basisSize):\n",
    "    multiIndex = enumerateFunction(k)\n",
    "    markdown += f\"| {k} | {multiIndex} | {coefficients[k]} |\\n\"\n",
    "markdown += \"\\n\"\n",
    "Markdown(markdown)"
   ]
  },
  {
   "cell_type": "markdown",
   "metadata": {},
   "source": [
    "Dans la cellule suivante, nous affichons la valeur absolue de chaque coefficient en fonction du degré total du multi-indice correspondant."
   ]
  },
  {
   "cell_type": "code",
   "execution_count": 10,
   "metadata": {},
   "outputs": [
    {
     "data": {
      "image/png": "[encoded data removed]",
      "text/plain": [
       "class=Graph name=PCE Coefficients implementation=class=GraphImplementation name=PCE Coefficients title=PCE Coefficients xTitle=Total degree yTitle=Absolute coefficient axes=ON grid=ON legendposition= legendFontSize=10 drawables=[class=Drawable name=Unnamed implementation=class=Cloud name=Unnamed derived from class=DrawableImplementation name=Unnamed legend= data=class=Sample name=Unnamed implementation=class=SampleImplementation name=Unnamed size=35 dimension=2 data=[[0,3.43797],[1,1.58824],[1,0.0746952],[1,0.117765],[2,0.0547603],[2,0.090274],[2,0.024324],[2,0.522636],[2,0.0557932],[2,0.0667344],[3,1.22986],[3,0.0361724],[3,0.034229],[3,0.0235648],[3,0.0256867],[3,1.43314],[3,0.00632906],[3,0.0185813],[3,0.105488],[3,0.180489],[4,0.0824164],[4,0.0425435],[4,0.0782013],[4,0.10975],[4,0.0787552],[4,0.130931],[4,0.0578816],[4,0.0203553],[4,0.0541069],[4,0.0824176],[4,1.95768],[4,0.0230745],[4,0.158188],[4,0.0428948],[4,0.0992381]] color=#1f77b4 isColorExplicitlySet=false fillStyle=solid lineStyle=solid pointStyle=bullet lineWidth=1]"
      ]
     },
     "execution_count": 10,
     "metadata": {},
     "output_type": "execute_result"
    }
   ],
   "source": [
    "data = ot.Sample(0, 2)\n",
    "for k in range(basisSize):\n",
    "    multiIndex = enumerateFunction(k)\n",
    "    totalDegree = sum(multiIndex)\n",
    "    data.add([totalDegree, abs(coefficients[k])])\n",
    "graph = ot.Graph(\"PCE Coefficients\", \"Total degree\", \"Absolute coefficient\", True)\n",
    "cloud = ot.Cloud(data)\n",
    "cloud.setPointStyle(\"bullet\")\n",
    "graph.add(cloud)\n",
    "graph.setLogScale(ot.GraphImplementation.LOGY)\n",
    "graph.setIntegerXTick(True)\n",
    "graph"
   ]
  },
  {
   "cell_type": "markdown",
   "metadata": {},
   "source": [
    "## Exercice 1 : Application à la poutre encastrée\n",
    "\n",
    "_Questions_\n",
    "- Changer le modèle et considérer le modèle de poutre encastrée.\n",
    "- Pour un degré total donné, utiliser la méthode de validation simple et estimer le score $Q^2$. Représenter le $Q^2$ en fonction du degré : qu'observez-vous ?"
   ]
  }
 ],
 "metadata": {
  "kernelspec": {
   "display_name": "Python 3 (ipykernel)",
   "language": "python",
   "name": "python3"
  },
  "language_info": {
   "codemirror_mode": {
    "name": "ipython",
    "version": 3
   },
   "file_extension": ".py",
   "mimetype": "text/x-python",
   "name": "python",
   "nbconvert_exporter": "python",
   "pygments_lexer": "ipython3",
   "version": "3.13.0"
  }
 },
 "nbformat": 4,
 "nbformat_minor": 4
}
