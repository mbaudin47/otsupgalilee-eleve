{
 "cells": [
  {
   "cell_type": "markdown",
   "metadata": {},
   "source": [
    "# Polynômes de chaos : application au cas de la poutre encastrée avec chaos par intégration"
   ]
  },
  {
   "cell_type": "markdown",
   "metadata": {},
   "source": [
    "## Résumé\n",
    "\n",
    "Dans ce notebook, nous présentons la décomposition en chaos polynomial du cas de la poutre encastrée. Nous montrons comment calculer les coefficients par intégration.\n",
    "\n",
    "## Introduction\n",
    "\n",
    "Considèrons un modèle physique $g : \\mathbb{R}^p \\rightarrow \\mathbb{R}$ :\n",
    "$$\n",
    "Y = g(\\boldsymbol{X})\n",
    "$$\n",
    "où $\\boldsymbol{X} \\in \\mathcal{X} \\subset \\mathbb{R}^p$ est un vecteur aléatoire et $Y\\in \\mathbb{R}$ est une variable aléatoire. \n",
    "On considère la transformation $\\boldsymbol{\\xi} = T(\\boldsymbol{X})$, où $\\boldsymbol{X} \\in \\mathbb{R}^p$ est le vecteur aléatoire en entrée du modèle physique, $T$ est la transformation iso-probabiliste et $\\boldsymbol{\\xi} \\in \\overline{\\mathcal{X}} \\subset \\mathbb{R}^p$ est la variable standardisée. \n",
    "On introduit la fonction $h$ définie par :\n",
    "$$\n",
    "h(\\boldsymbol{\\xi}) = g\\left(T^{-1}(\\boldsymbol{\\xi})\\right) = g \\circ T^{-1} (\\boldsymbol{\\xi})\n",
    "$$\n",
    "pour tout $\\boldsymbol{\\xi}\\in \\overline{\\mathcal{X}}$. \n",
    "\n",
    "La décomposition en polynômes du chaos est :\n",
    "$$\n",
    "\\tilde{h}(\\boldsymbol{\\xi}) = \\sum_{k = 0}^P a_k \\Psi_k(\\boldsymbol{\\xi})\n",
    "$$\n",
    "pour tout $\\boldsymbol{\\xi}\\in \\overline{\\mathcal{X}}$, où $P \\in \\mathbb{N}$ est le nombre de coefficients dans la décomposition, $a_k \\in \\mathbb{R}$ est le coefficient, $\\psi_k$ est le polynôme multivarié et $\\boldsymbol{\\xi}$ est la variable standardisée. \n",
    "\n",
    "Les coefficients de la décomposition minimisent la norme euclidienne du vecteur des résidus ou, de manière équivalent, satisfont l'équation :\n",
    "$$\n",
    "a_k = \\frac{\\langle h, \\Psi_k \\rangle}{\\|\\Psi_k\\|^2}\n",
    "$$\n",
    "pour $k = 0, ..., P$, où le produit scalaire est \n",
    "$$\n",
    "\\langle h, \\Psi_k \\rangle \n",
    "= \\int_{\\overline{\\mathcal{X}}} h(\\boldsymbol{\\xi}) \\Psi_k(\\boldsymbol{\\xi}) f_{\\Xi}(\\boldsymbol{\\xi}) d\\boldsymbol{\\xi}\n",
    "$$\n",
    "où $f_{\\boldsymbol{\\Xi}}$ est la loi du vecteur aléatoire $\\boldsymbol{\\Xi}$ dans l'espace standard. \n",
    "Ce produit scalaire forme un espace de Hilbert sur les fonctions de carré intégrable $\\mathbb{L}^2(\\overline{\\mathcal{X}})$. La norme qui en découle est :\n",
    "$$\n",
    "\\|\\Psi_k\\|^2 \n",
    "= \\langle \\Psi_k, \\Psi_k \\rangle \n",
    "= \\int_{\\overline{\\mathcal{X}}} \\Psi_k(\\boldsymbol{\\xi})^2 f_{\\Xi}(\\boldsymbol{\\xi})\n",
    "$$\n",
    "pour $k = 0, ..., P$. De plus, les fonctions de base $\\{\\Psi_k\\}_{k = 0, ..., P}$ sont orthonormales, alors \n",
    "$$\n",
    "\\|\\Psi_k\\| = 1\n",
    "$$\n",
    "ce qui implique \n",
    "$$\n",
    "a_k = \\langle h, \\Psi_k \\rangle\n",
    "$$\n",
    "pour $k = 0, ..., P$. \n",
    "\n",
    "La méthode de calcul des coefficients par intégration consiste à évaluer les intégrales associées au produit scalaire et permettant de déterminer les coefficients $\\{a_k\\}_{k = 0, ..., P}$. Cela représente par conséquent $P + 1$ intégrales en dimension $p$. On peut calculer une approximation de ces intégrales par des méthodes d'intégration numérique comme, par exemple, la méthode de Monte-Carlo, un plan d'expériences de type Latin Hypercube Sampling (LHS), une séquence à faible discrépance (comme par exemple la séquence de Sobol'), la quadrature de Gauss tensorisée ou encore la quadrature de Smolyak. \n",
    "\n",
    "Dans l'exemple ci-dessous, nous utilisons la quadrature de Gauss tensorisée. "
   ]
  },
  {
   "cell_type": "code",
   "execution_count": 1,
   "metadata": {},
   "outputs": [],
   "source": [
    "import openturns as ot\n",
    "import openturns.viewer as otv"
   ]
  },
  {
   "cell_type": "code",
   "execution_count": 2,
   "metadata": {},
   "outputs": [],
   "source": [
    "dist_E = ot.Beta(0.9, 2.2, 2.8e7, 4.8e7)\n",
    "dist_E.setDescription([\"E\"])\n",
    "F_para = ot.LogNormalMuSigma(3.0e4, 9.0e3, 15.0e3)  # in N\n",
    "dist_F = ot.ParametrizedDistribution(F_para)\n",
    "dist_F.setDescription([\"F\"])\n",
    "dist_L = ot.Uniform(250.0, 260.0)  # in cm\n",
    "dist_L.setDescription([\"L\"])\n",
    "dist_I = ot.Beta(2.5, 1.5, 310.0, 450.0)  # in cm^4\n",
    "dist_I.setDescription([\"I\"])\n",
    "\n",
    "myDistribution = ot.ComposedDistribution([dist_E, dist_F, dist_L, dist_I])\n",
    "\n",
    "dim_input = 4  # dimension of the input\n",
    "dim_output = 1  # dimension of the output\n",
    "\n",
    "\n",
    "def function_beam(X):\n",
    "    E, F, L, I = X\n",
    "    Y = F * (L ** 3) / (3 * E * I)\n",
    "    return [Y]\n",
    "\n",
    "\n",
    "g = ot.PythonFunction(dim_input, dim_output, function_beam)\n",
    "g.setInputDescription(myDistribution.getDescription())"
   ]
  },
  {
   "cell_type": "markdown",
   "metadata": {},
   "source": [
    "## Créer le polynôme"
   ]
  },
  {
   "cell_type": "markdown",
   "metadata": {},
   "source": [
    "On crée la base polynomiale multivariée par tensorisation de polynômes univariés avec la règle d'énumération linéaire par défaut."
   ]
  },
  {
   "cell_type": "code",
   "execution_count": 3,
   "metadata": {},
   "outputs": [],
   "source": [
    "multivariateBasis = ot.OrthogonalProductPolynomialFactory(\n",
    "    [dist_E, dist_F, dist_L, dist_I]\n",
    ")"
   ]
  },
  {
   "cell_type": "markdown",
   "metadata": {},
   "source": [
    "Nous devons une règle de troncature : ici, nous avons choisit la `FixedStrategy`, ce qui revient à conserver les `P` premiers polynômes de la base de polynômes. Dans notre cas particulier, nous avons déterminé `P` en utilisant la méthode  `getStrataCumulatedCardinal`, de telle sorte que c'est l'ensemble des polynômes multivariés de degré total inférieur ou égal à 5 qui est conservé. "
   ]
  },
  {
   "cell_type": "code",
   "execution_count": 4,
   "metadata": {},
   "outputs": [
    {
     "data": {
      "text/html": [
       "<p>class=FixedStrategy derived from class=AdaptiveStrategyImplementation maximumDimension=126</p>"
      ],
      "text/plain": [
       "class=FixedStrategy derived from class=AdaptiveStrategyImplementation maximumDimension=126"
      ]
     },
     "execution_count": 4,
     "metadata": {},
     "output_type": "execute_result"
    }
   ],
   "source": [
    "totalDegree = 5\n",
    "enumerateFunction = multivariateBasis.getEnumerateFunction()\n",
    "strataIndex = enumerateFunction.getMaximumDegreeStrataIndex(totalDegree)\n",
    "maximumBasisSize = enumerateFunction.getStrataCumulatedCardinal(strataIndex)\n",
    "adaptiveStrategy = ot.FixedStrategy(multivariateBasis, maximumBasisSize)\n",
    "adaptiveStrategy"
   ]
  },
  {
   "cell_type": "markdown",
   "metadata": {},
   "source": [
    "On observe que le nombre de polynômes correspondant à notre règle de troncature est égal à 126."
   ]
  },
  {
   "cell_type": "markdown",
   "metadata": {},
   "source": [
    "Nous définissons maintenant la règle de calcul des coefficients ; nous choisissons la méthode par intégration. Les coefficients sont estimés dans l'espace standard, associé au variables $\\boldsymbol{\\xi} = T(\\boldsymbol{X})$, où $\\boldsymbol{X} \\in \\mathbb{R}^p$ est le vecteur aléatoire en entrée du modèle physique, $T$ est la transformation iso-probabiliste t $\\boldsymbol{\\xi}$ est la variable standardisée. Cette transformation iso-probabiliste permet, parmi d'autres avantages, d'utiliser la famille des polynômes orthogonaux classiques. C'est pourquoi la méthode d'intégration doit générer des noeuds dans l'espace standard des $\\boldsymbol{\\xi}$. \n",
    "\n",
    "On commence par obtenir la mesure standard associée à la base polynomiale multivariée. On observe que l'intervalle de définition de la loi `Beta` est standardisée entre -1 et 1. Il en est de même pour la loi `Uniform` et la seconde loi `Beta`."
   ]
  },
  {
   "cell_type": "code",
   "execution_count": 5,
   "metadata": {},
   "outputs": [
    {
     "data": {
      "text/html": [
       "<p>ComposedDistribution(Beta(alpha = 0.9, beta = 2.2, a = -1, b = 1), LogNormal(muLog = 9.46206, sigmaLog = 0.554513, gamma = 0), Uniform(a = -1, b = 1), Beta(alpha = 2.5, beta = 1.5, a = -1, b = 1), IndependentCopula(dimension = 4))</p>"
      ],
      "text/plain": [
       "class=ComposedDistribution name=ComposedDistribution dimension=4 copula=class=IndependentCopula name=IndependentCopula dimension=4 marginal[0]=class=Beta name=Beta dimension=1 alpha=0.9 beta=2.2 a=-1 b=1 marginal[1]=class=LogNormal name=LogNormal dimension=1 muLog=9.46206 sigmaLog=0.554513 gamma=0 marginal[2]=class=Uniform name=Uniform dimension=1 a=-1 b=1 marginal[3]=class=Beta name=Beta dimension=1 alpha=2.5 beta=1.5 a=-1 b=1"
      ]
     },
     "execution_count": 5,
     "metadata": {},
     "output_type": "execute_result"
    }
   ],
   "source": [
    "distributionStandard = multivariateBasis.getMeasure()\n",
    "distributionStandard"
   ]
  },
  {
   "cell_type": "code",
   "execution_count": 6,
   "metadata": {},
   "outputs": [],
   "source": [
    "marginalSize = [4] * dim_input\n",
    "experiment = ot.GaussProductExperiment(distributionStandard, marginalSize)"
   ]
  },
  {
   "cell_type": "markdown",
   "metadata": {},
   "source": [
    "On peut observer la taille du plan d'expériences associé."
   ]
  },
  {
   "cell_type": "code",
   "execution_count": 7,
   "metadata": {},
   "outputs": [
    {
     "data": {
      "text/plain": [
       "256"
      ]
     },
     "execution_count": 7,
     "metadata": {},
     "output_type": "execute_result"
    }
   ],
   "source": [
    "experiment.generate().getSize()"
   ]
  },
  {
   "cell_type": "markdown",
   "metadata": {},
   "source": [
    "On observe que la règle de quadrature est associée à un plan d'expériences de taille 256."
   ]
  },
  {
   "cell_type": "code",
   "execution_count": 8,
   "metadata": {},
   "outputs": [],
   "source": [
    "projectionStrategy = ot.IntegrationStrategy(experiment)"
   ]
  },
  {
   "cell_type": "markdown",
   "metadata": {},
   "source": [
    "On peut maintenant créer le chaos fonctionnel. "
   ]
  },
  {
   "cell_type": "code",
   "execution_count": 9,
   "metadata": {},
   "outputs": [],
   "source": [
    "chaosalgo = ot.FunctionalChaosAlgorithm(\n",
    "    g, myDistribution, adaptiveStrategy, projectionStrategy\n",
    ")\n",
    "chaosalgo.run()"
   ]
  },
  {
   "cell_type": "markdown",
   "metadata": {},
   "source": [
    "Get the result\n"
   ]
  },
  {
   "cell_type": "code",
   "execution_count": 10,
   "metadata": {},
   "outputs": [],
   "source": [
    "result = chaosalgo.getResult()"
   ]
  },
  {
   "cell_type": "markdown",
   "metadata": {},
   "source": [
    "La méthode `getMetaModel` retourne une fonction permettant d'évaluer le métamodèle."
   ]
  },
  {
   "cell_type": "code",
   "execution_count": 11,
   "metadata": {
    "scrolled": false
   },
   "outputs": [],
   "source": [
    "metamodel = result.getMetaModel()"
   ]
  },
  {
   "cell_type": "markdown",
   "metadata": {},
   "source": [
    "## Validate the metamodel"
   ]
  },
  {
   "cell_type": "markdown",
   "metadata": {},
   "source": [
    "Generate a validation sample (which is independent of the training sample)."
   ]
  },
  {
   "cell_type": "code",
   "execution_count": 12,
   "metadata": {},
   "outputs": [],
   "source": [
    "n_valid = 1000\n",
    "inputTest = myDistribution.getSample(n_valid)\n",
    "outputTest = g(inputTest)"
   ]
  },
  {
   "cell_type": "markdown",
   "metadata": {},
   "source": [
    "La classe `MetaModelValidation` permet de valider le métamodèle sur une base de validation."
   ]
  },
  {
   "cell_type": "code",
   "execution_count": 13,
   "metadata": {},
   "outputs": [],
   "source": [
    "val = ot.MetaModelValidation(inputTest, outputTest, metamodel)"
   ]
  },
  {
   "cell_type": "markdown",
   "metadata": {},
   "source": [
    "Compute the $Q^2$ predictivity coefficient"
   ]
  },
  {
   "cell_type": "code",
   "execution_count": 14,
   "metadata": {},
   "outputs": [
    {
     "data": {
      "text/plain": [
       "0.9999575691056145"
      ]
     },
     "execution_count": 14,
     "metadata": {},
     "output_type": "execute_result"
    }
   ],
   "source": [
    "Q2 = val.computePredictivityFactor()[0]\n",
    "Q2"
   ]
  },
  {
   "cell_type": "markdown",
   "metadata": {},
   "source": [
    "Plot the observed versus the predicted outputs."
   ]
  },
  {
   "cell_type": "code",
   "execution_count": 15,
   "metadata": {
    "scrolled": true
   },
   "outputs": [
    {
     "name": "stderr",
     "output_type": "stream",
     "text": [
      "/home/devel/miniconda3/envs/otsupgalilee/lib/python3.8/site-packages/numpy/core/getlimits.py:499: UserWarning: The value of the smallest subnormal for <class 'numpy.float64'> type is zero.\n",
      "  setattr(self, word, getattr(machar, word).flat[0])\n",
      "/home/devel/miniconda3/envs/otsupgalilee/lib/python3.8/site-packages/numpy/core/getlimits.py:89: UserWarning: The value of the smallest subnormal for <class 'numpy.float64'> type is zero.\n",
      "  return self._float_to_str(self.smallest_subnormal)\n"
     ]
    },
    {
     "data": {
      "image/png": "[encoded data removed]",
      "text/plain": [
       "<Figure size 288x216 with 1 Axes>"
      ]
     },
     "metadata": {
      "needs_background": "light"
     },
     "output_type": "display_data"
    }
   ],
   "source": [
    "graph = val.drawValidation()\n",
    "graph.setTitle(\"Q2=%.2f%%\" % (Q2 * 100))\n",
    "view = otv.View(graph, figure_kw={\"figsize\": (4.0, 3.0)})"
   ]
  },
  {
   "cell_type": "markdown",
   "metadata": {},
   "source": [
    "On observe que les coefficients sont relativement bien estimés puisque le Q2 est excellent (parfait ?), malgré un nombre de points relativement réduit dans le plan d'expériences (256 points)."
   ]
  },
  {
   "cell_type": "markdown",
   "metadata": {},
   "source": [
    "## Exercice 1 : changer de méthode de quadrature\n",
    "\n",
    "Dans cet exercice, on souhaite expérimenter d'autres méthodes de quadrature. Dans OpenTURNS, la classe `WeightedExperiment` est la classe mère pour tous les plans d'expériences appropriés pour approcher une intégrale multi-dimensionnelle. Ces méthodes de quadrature sont :\n",
    "$$\n",
    "\\int_{\\overline{\\mathcal{X}}} \\overline{h}(\\boldsymbol{\\xi}) f_{\\boldsymbol{\\Xi}} (\\boldsymbol{\\xi}) d\\boldsymbol{\\xi}\n",
    "\\approx \\sum_{j = 1}^n w^{(j)} \\overline{h}(\\boldsymbol{\\xi}^{(j)})\n",
    "$$\n",
    "où $\\overline{h}$ est l'intégrande et $f_{\\boldsymbol{\\Xi}}$ est la densité de probabilité du vecteur aléatoire $\\boldsymbol{\\Xi}$. \n",
    "\n",
    "Pour utiliser ces classes, on peut évaluer la méthode  `generateWithWeights`, qui a la séquence d'appel suivante :\n",
    "```\n",
    "nodes, weights = experiment.generateWithWeights()\n",
    "```\n",
    "où `nodes` est un `Sample` représentant les noeuds de la quadrature et `weights` est un `Point` représentant les poids de la quadrature. Pour utiliser la méthode de quadrature, on évalue l'intégrande et on réalise le produit scalaire avec le vecteur des poids :\n",
    "```\n",
    "g_values = g_function(nodes).asPoint()\n",
    "approximate_integral = g_values.dot(weights)\n",
    "```\n",
    "Puisque ces plans d'expériences sont associés à une densité de probabilité, leur constructeur nécessite une `Distribution` en entrée de la classe. \n",
    "\n",
    "En conséquence, toutes ses classes dérivées sont éligibles pour estimer les coefficients du chaos polynomial, comme par exemple la classe `MonteCarloExperiment`. \n",
    "\n",
    "_Questions_\n",
    "\n",
    "- Utiliser la classe `MonteCarloExperiment` pour estimer les coefficients du chaos polynomial par Monte-Carlo simple. Pour cela, utiliser un échantillon d'apprentissage de taille $n = 1000$. Calculer le score de prédictivité $Q^2$ avec un échantillon de test. Quels sont les avantages et inconvénients de cette méthode ? \n",
    "- Répéter l'expérience précédente avec la classe `LHSExperiment`. A quel point les résultats sont-ils modifiés ?\n",
    "- Utiliser la classe `LowDiscrepancyExperiment` pour estimer les coefficients du chaos polynomial par une séquence à faible discrépance. Pour cela, utiliser la séquence de Sobol' avec la classe `SobolSequence`. Quelle taille d'échantillon $n$ permet d'obtenir un résultat comparable au résultat de la classe `MonteCarloExperiment` en termes de score Q2 ?"
   ]
  },
  {
   "cell_type": "markdown",
   "metadata": {},
   "source": [
    "## Exercice 2 : position des noeuds d'une méthode de quadrature\n",
    "\n",
    "Le but de cet exercice est d'observer les noeuds d'une méthode de quadrature.\n",
    "\n",
    "_Questions_\n",
    "\n",
    "- Utiliser la méthode `DrawPairs` pour dessiner les projections bidimensionnelles d'un plan de type `MonteCarloExperiment` associé à la distribution `distributionStandard` avec 50 points. Qu'observez-vous ?\n",
    "- Faire la même expérience avec un plan de type `LHSExperiment` et `LowDiscrepancyExperiment`. \n",
    "- Enfin, observez les points d'un plan de type `GaussProductExperiment`. Qu'observez-vous ?"
   ]
  }
 ],
 "metadata": {
  "kernelspec": {
   "display_name": "Python 3",
   "language": "python",
   "name": "python3"
  },
  "language_info": {
   "codemirror_mode": {
    "name": "ipython",
    "version": 3
   },
   "file_extension": ".py",
   "mimetype": "text/x-python",
   "name": "python",
   "nbconvert_exporter": "python",
   "pygments_lexer": "ipython3",
   "version": "3.8.10"
  }
 },
 "nbformat": 4,
 "nbformat_minor": 1
}
