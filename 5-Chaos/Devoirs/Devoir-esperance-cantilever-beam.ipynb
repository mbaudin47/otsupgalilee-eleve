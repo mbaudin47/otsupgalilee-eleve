{
 "cells": [
  {
   "cell_type": "markdown",
   "metadata": {},
   "source": [
    "# Calcul de l'espérance du modèle de poutre encastrée"
   ]
  },
  {
   "cell_type": "markdown",
   "metadata": {},
   "source": [
    "## Résumé\n",
    "\n",
    "Le but de cet exercice est de calculer l'espérance du modèle de poutre encastrée avec le maximum de précision possible.\n",
    "\n",
    "## Déviation  verticale d'une poutre encastrée\n",
    "\n",
    "We consider a cantilever beam defined by its Young’s modulus $E$, its length $L$ and its section modulus $I$. One end is built in a wall and we apply a concentrated bending load $F$ at the other end of the beam, resulting in a vertical deviation $Y$.\n",
    "\n",
    "<img src=\"poutre.png\" width=\"200\">\n",
    "\n",
    "**Figure 1.** Vertical deviation $Y$ of the cantilever beam of length $L$.\n",
    "\n",
    "**Inputs:**\n",
    "\n",
    "* $E$ : Young modulus (Pa)\n",
    "* $F$ : Loading (N),\n",
    "* $L$ : Length of beam (cm),\n",
    "* $I$ : Moment of inertia (cm^4).\n",
    "\n",
    "|Variable|  Distribution|\n",
    "| ------------- |-------------|\n",
    "|E| Beta(alpha = 0.9, beta = 2.2, a = $2.8\\times 10^7$, $b = 4.8\\times 10^7$) |\n",
    "|F| Lognormal($\\mu_F=3 \\times 10^4$, $\\sigma_F=9\\times 10^3$, shift=$15\\times 10^3$)|\n",
    "|L| Uniform(min=250, max= 260)|\n",
    "|I| Beta(alpha = 2.5, beta = 1.5, a = 310, b = 450)|\n",
    "\n",
    "**Table 1.** Marginal distributions of the variables E, F, L and I.\n",
    "\n",
    "In the previous table $\\mu_F = \\mathbb{E}\\left[F\\right]$ and $\\sigma_F = \\sqrt{\\operatorname{Var}(F)}$ are the mean and the standard deviation of $F$. The input variables are supposed to be independent.\n",
    "\n",
    "**Output**\n",
    "\n",
    "The vertical displacement at free end of the cantilever beam is:\n",
    "$$\n",
    "Y  = \\dfrac{F\\, L^3}{3 \\, E \\, I}\n",
    "$$\n",
    "\n",
    "**Quantity of interest**\n",
    "\n",
    "We want to estimate the expected value of the output: \n",
    "\n",
    "$$\n",
    "\\mu_Y = \\mathbb{E}\\left[Y\\right].\n",
    "$$\n"
   ]
  },
  {
   "cell_type": "markdown",
   "metadata": {},
   "source": [
    "## Questions\n",
    "\n",
    "1. Quelle est la précision maximale que l'on peut attendre d'un tel calcul lorsqu'on utilise Python avec des nombres à virgule flottante ? \n",
    "2. Quelle précision peut on espérer atteindre avec la méthode Monte-Carlo simple ?\n",
    "3. Choisir et utiliser une méthode disponible dans OpenTURNS pour estimer l'espérance avec un maximum de chiffres significatifs, compte tenu des limites de votre machine. Quelle est la valeur de l'espérance obtenue ? De combien de chiffres significatifs pensez-vous disposer ?\n",
    "4. Quelles autres méthodes pourrions-nous utiliser dans OpenTURNS ? Hors OpenTURNS ? Quelles sont les avantages et les inconvénients de ces méthodes ?"
   ]
  }
 ],
 "metadata": {
  "kernelspec": {
   "display_name": "Python 3 (ipykernel)",
   "language": "python",
   "name": "python3"
  },
  "language_info": {
   "codemirror_mode": {
    "name": "ipython",
    "version": 3
   },
   "file_extension": ".py",
   "mimetype": "text/x-python",
   "name": "python",
   "nbconvert_exporter": "python",
   "pygments_lexer": "ipython3",
   "version": "3.13.0"
  }
 },
 "nbformat": 4,
 "nbformat_minor": 4
}
