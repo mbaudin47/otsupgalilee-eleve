{
 "cells": [
  {
   "cell_type": "markdown",
   "id": "1e8d36a5",
   "metadata": {},
   "source": [
    "# Tensorized Gauss quadrature\n",
    "\n",
    "This examples shows how to perform tensorized Gauss quadrature using `GaussProductExperiment` class. To do this, we consider Ishigami test function. \n",
    "\n",
    "## Ishigami test function\n",
    "\n",
    "The test function is:\n",
    "$$\n",
    "Y=g(X_1,X_2,X_3)=\\sin(X_1) + a \\sin^2(X_2) + b X_3^4 \\sin(X_1)\n",
    "$$\n",
    "where $X_1,X_2,X_3$ are three independent random variables uniform in $[-\\pi,\\pi]$.\n",
    "The parameters $a = 7$ and $b = 0.1$.\n",
    "\n",
    "Its expected value is :\n",
    "$$\n",
    "\\mathbb{E}(Y) = \\frac{a}{2} = 3.5\n",
    "$$\n",
    "\n",
    "## Tensorized gaussian rule\n",
    "\n",
    "Let $g : \\mathcal{X} \\rightarrow \\mathbb{R}$ be a function where $\\mathcal{X} \\subset \\mathbb{R}^p$ is the domain of the function. Let $f$ be a density probability function which support is $\\mathcal{X}$. We consider the integral :\n",
    "$$\n",
    "\\int_{\\mathcal{X}} g(\\boldsymbol{x}) f(\\boldsymbol{x}) d\\boldsymbol{x}.\n",
    "$$\n",
    "\n",
    "A tensorized Gaussian rule uses componentwise Gaussian rules to create an integration formula. It uses the weighted rule :\n",
    "$$\n",
    "\\int_{\\mathcal{X}} g(\\boldsymbol{x}) f(\\boldsymbol{x}) d\\boldsymbol{x}\n",
    "\\approx \\sum_{j = 1}^n w_j g\\left(\\boldsymbol{x}^{(j)}\\right)\n",
    "$$\n",
    "where $\\{w_j\\}_{j = 1, ...,n}$ are nonnegative weights and $\\left\\{\\boldsymbol{x}^{(j)}\\right\\}_{j = 1, ...,n}$ are the Gauss nodes. \n",
    "\n",
    "Reference\n",
    "---------------\n",
    "- Ishigami, T. and Homma, T. (1990). An importance quantification technique in uncertainty analysis for computer models. In 1990 Proceedings. First International Symposium on Uncertainty Modeling and Analysis, pages 398–403. IEEE."
   ]
  },
  {
   "cell_type": "code",
   "execution_count": 1,
   "id": "8b72fa03",
   "metadata": {},
   "outputs": [],
   "source": [
    "import openturns as ot\n",
    "import openturns.viewer as otv\n",
    "from openturns.usecases import ishigami_function as ishigami_function"
   ]
  },
  {
   "cell_type": "code",
   "execution_count": 2,
   "id": "d19bc07f",
   "metadata": {},
   "outputs": [
    {
     "name": "stdout",
     "output_type": "stream",
     "text": [
      "ParametricEvaluation([X1,X2,X3,a,b]->[sin(X1) + a * sin(X2)^2 + b * X3^4 * sin(X1)], parameters positions=[3,4], parameters=[a : 7, b : 0.1], input positions=[0,1,2])\n"
     ]
    }
   ],
   "source": [
    "im = ishigami_function.IshigamiModel()\n",
    "print(im.model)"
   ]
  },
  {
   "cell_type": "markdown",
   "id": "e33c0b8c",
   "metadata": {},
   "source": [
    "Create a tensorized Gauss rule with marginal degrees equal to 10 in each dimension. "
   ]
  },
  {
   "cell_type": "code",
   "execution_count": 3,
   "id": "364f022d",
   "metadata": {},
   "outputs": [
    {
     "name": "stdout",
     "output_type": "stream",
     "text": [
      "Input dimension :  3\n",
      "Sample size =  1000\n"
     ]
    }
   ],
   "source": [
    "input_dimension = im.distributionX.getDimension()\n",
    "print(\"Input dimension : \", input_dimension)\n",
    "number_of_nodes_in_each_direction = 10\n",
    "marginalDegrees = [number_of_nodes_in_each_direction] * input_dimension\n",
    "experiment = ot.GaussProductExperiment(im.distributionX, marginalDegrees)\n",
    "sample, weights = experiment.generateWithWeights()\n",
    "sample_size = sample.getSize()\n",
    "print(\"Sample size = \", sample_size)"
   ]
  },
  {
   "cell_type": "markdown",
   "id": "6dc361f4",
   "metadata": {},
   "source": [
    "Plot the points in the sample to see the Gaussian structure."
   ]
  },
  {
   "cell_type": "code",
   "execution_count": 4,
   "id": "7ee14072",
   "metadata": {},
   "outputs": [
    {
     "data": {
      "image/png": "[encoded data removed]",
      "text/plain": [
       "<Figure size 576x576 with 3 Axes>"
      ]
     },
     "metadata": {
      "needs_background": "light"
     },
     "output_type": "display_data"
    }
   ],
   "source": [
    "graph = ot.VisualTest.DrawPairs(sample)\n",
    "view = otv.View(graph, figure_kw={\"figsize\": (8.0, 8.0)})"
   ]
  },
  {
   "cell_type": "markdown",
   "id": "d7658efc",
   "metadata": {},
   "source": [
    "Notice that the tensorized Gauss-Legendre rule has 10 nodes in each direction. This is a consequence of the input distribution of the Ishigami model, which has distribution $\\mathcal{U}(-\\pi, \\pi)$."
   ]
  },
  {
   "cell_type": "markdown",
   "id": "4602b8ad",
   "metadata": {},
   "source": [
    "We perform the integration by combining the weights and the points in the sample."
   ]
  },
  {
   "cell_type": "code",
   "execution_count": 5,
   "id": "ed3d6578",
   "metadata": {},
   "outputs": [
    {
     "name": "stdout",
     "output_type": "stream",
     "text": [
      "Integral = 3.5000\n"
     ]
    }
   ],
   "source": [
    "integrand_value = im.model(sample)\n",
    "integral_value = 0.0\n",
    "for i in range(sample_size):\n",
    "    integral_value += weights[i] * integrand_value[i, 0]\n",
    "print(\"Integral = %.4f\" % (integral_value))"
   ]
  },
  {
   "cell_type": "code",
   "execution_count": 6,
   "id": "51804c3c",
   "metadata": {},
   "outputs": [
    {
     "name": "stdout",
     "output_type": "stream",
     "text": [
      "Expectation(Y) = 3.5000\n"
     ]
    }
   ],
   "source": [
    "print(\"Expectation(Y) = %.4f\" % (im.expectation))"
   ]
  },
  {
   "cell_type": "markdown",
   "id": "f5c1020f",
   "metadata": {},
   "source": [
    "This shows that the Gaussian quadrature of the Ishigami test function performs correctly."
   ]
  },
  {
   "cell_type": "code",
   "execution_count": null,
   "id": "640cb3e6",
   "metadata": {},
   "outputs": [],
   "source": []
  }
 ],
 "metadata": {
  "kernelspec": {
   "display_name": "Python 3 (ipykernel)",
   "language": "python",
   "name": "python3"
  },
  "language_info": {
   "codemirror_mode": {
    "name": "ipython",
    "version": 3
   },
   "file_extension": ".py",
   "mimetype": "text/x-python",
   "name": "python",
   "nbconvert_exporter": "python",
   "pygments_lexer": "ipython3",
   "version": "3.9.0"
  }
 },
 "nbformat": 4,
 "nbformat_minor": 5
}
