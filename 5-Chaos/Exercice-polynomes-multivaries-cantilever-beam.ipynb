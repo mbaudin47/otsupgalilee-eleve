{
 "cells": [
  {
   "cell_type": "markdown",
   "metadata": {},
   "source": [
    "# Polynômes multivariés : application au cas de la déviation verticale de la poutre encastrée"
   ]
  },
  {
   "cell_type": "markdown",
   "metadata": {},
   "source": [
    "## Références\n",
    "\n",
    "* http://openturns.github.io/openturns/master/theory/meta_modeling/chaos_basis.html\n",
    "* http://openturns.github.io/openturns/master/theory/meta_modeling/orthorgonal_polynomials.html\n",
    "* http://openturns.github.io/openturns/master/user_manual/_generated/openturns.LinearEnumerateFunction.html\n",
    "* http://openturns.github.io/openturns/master/user_manual/_generated/openturns.HyperbolicAnisotropicEnumerateFunction.html"
   ]
  },
  {
   "cell_type": "markdown",
   "metadata": {},
   "source": [
    "# Problem statement\n",
    "\n",
    "We consider a cantilever beam defined by its Young’s modulus $E$, its length $L$ and its section modulus $I$. One end is built in a wall and we apply a concentrated bending load $F$ at the other end of the beam, resulting in a vertical deviation $Y$.\n",
    "\n",
    "<img src=\"poutre.png\" width=\"200\">\n",
    "\n",
    "__Inputs__:  $\\left\\{ E, F, L, I \\right\\}$\n",
    "* $E$ : Young modulus (Pa)\n",
    "* $L$ : Length of beam (cm),\n",
    "* $I$ : Moment of inertia (cm^4),\n",
    "* $F$ : Loading (N)\n",
    "\n",
    "|Variable|  Distribution|\n",
    "| ------------- |-------------|\n",
    "|E|  Beta(r = 0.9, t = 3.5, a = $2.5\\times 10^7$, $b = 5\\times 10^7$) |\n",
    "|F| Lognormal($\\mu=3 \\times 10^4$, $\\sigma=9\\times 10^3$)|\n",
    "|L|Uniform(min=250.0, max= 260.0)|\n",
    "|I| Beta(r = 2.5, t = 4.0, a = 310, b = 450)|\n",
    "\n",
    "The input variables are supposed to be independent."
   ]
  },
  {
   "cell_type": "markdown",
   "metadata": {},
   "source": [
    "## Définir des polyômes multivariés\n",
    "\n",
    "Dans cette partie, nous allons voir comment définir des polynômes multivariés à partir d'un vecteur aléatoire dont les marginales sont indépendantes. \n",
    "Pour commencer, nous devons définir les lois de distributions des variables aléatoires. "
   ]
  },
  {
   "cell_type": "code",
   "execution_count": 1,
   "metadata": {},
   "outputs": [],
   "source": [
    "import openturns as ot"
   ]
  },
  {
   "cell_type": "code",
   "execution_count": 2,
   "metadata": {},
   "outputs": [],
   "source": [
    "dist_E = ot.Beta(0.9, 2.2, 2.8e7, 4.8e7)\n",
    "F_para = ot.LogNormalMuSigma(3.0e4, 9.0e3, 15.0e3) # in N\n",
    "dist_F = ot.ParametrizedDistribution(F_para)\n",
    "dist_L = ot.Uniform(250., 260.) # in cm\n",
    "dist_I = ot.Beta(2.5, 1.5, 310.0, 450.0) # in cm^4"
   ]
  },
  {
   "cell_type": "markdown",
   "metadata": {},
   "source": [
    "La classe `OrthogonalProductPolynomialFactory` permet de définir une collection de polynômes univariés."
   ]
  },
  {
   "cell_type": "code",
   "execution_count": 3,
   "metadata": {},
   "outputs": [],
   "source": [
    "multivariateBasis = ot.OrthogonalProductPolynomialFactory([dist_E, dist_F, dist_L, dist_I])"
   ]
  },
  {
   "cell_type": "markdown",
   "metadata": {},
   "source": [
    "La méthode `getEnumerateFunction` permet d'obtenir la règle d'énumération des polynômes multivariés. Par défaut, c'est la règle linéaire qui est utilisée."
   ]
  },
  {
   "cell_type": "code",
   "execution_count": 4,
   "metadata": {
    "scrolled": true
   },
   "outputs": [
    {
     "data": {
      "text/html": [
       "<p>class=LinearEnumerateFunction dimension=4</p>"
      ],
      "text/plain": [
       "class=LinearEnumerateFunction dimension=4"
      ]
     },
     "execution_count": 4,
     "metadata": {},
     "output_type": "execute_result"
    }
   ],
   "source": [
    "enumfunc = multivariateBasis.getEnumerateFunction()\n",
    "enumfunc"
   ]
  },
  {
   "cell_type": "markdown",
   "metadata": {},
   "source": [
    "La méthode `getStrataCumulatedCardinal` permet d'obtenir le nombre de multi-indices de degré total inférieur ou égal au degré donné."
   ]
  },
  {
   "cell_type": "code",
   "execution_count": 5,
   "metadata": {},
   "outputs": [
    {
     "data": {
      "text/plain": [
       "35"
      ]
     },
     "execution_count": 5,
     "metadata": {},
     "output_type": "execute_result"
    }
   ],
   "source": [
    "totalDegree = 3\n",
    "P = enumfunc.getStrataCumulatedCardinal(totalDegree)\n",
    "P"
   ]
  },
  {
   "cell_type": "markdown",
   "metadata": {},
   "source": [
    "Dans la boucle suivante, on fait une boucle sur tous les polynômes de degré total inférieur ou égal à 3. Pour chaque polynôme, on évalue la règle d'énumération pour obtenir le multi-indice associé. "
   ]
  },
  {
   "cell_type": "code",
   "execution_count": 6,
   "metadata": {
    "scrolled": true
   },
   "outputs": [
    {
     "name": "stdout",
     "output_type": "stream",
     "text": [
      "#  Degree  Multiindex\n",
      "#0 0       [0,0,0,0]\n",
      "#1 1       [1,0,0,0]\n",
      "#2 1       [0,1,0,0]\n",
      "#3 1       [0,0,1,0]\n",
      "#4 1       [0,0,0,1]\n",
      "#5 2       [2,0,0,0]\n",
      "#6 2       [1,1,0,0]\n",
      "#7 2       [1,0,1,0]\n",
      "#8 2       [1,0,0,1]\n",
      "#9 2       [0,2,0,0]\n",
      "#10 2       [0,1,1,0]\n",
      "#11 2       [0,1,0,1]\n",
      "#12 2       [0,0,2,0]\n",
      "#13 2       [0,0,1,1]\n",
      "#14 2       [0,0,0,2]\n",
      "#15 3       [3,0,0,0]\n",
      "#16 3       [2,1,0,0]\n",
      "#17 3       [2,0,1,0]\n",
      "#18 3       [2,0,0,1]\n",
      "#19 3       [1,2,0,0]\n",
      "#20 3       [1,1,1,0]\n",
      "#21 3       [1,1,0,1]\n",
      "#22 3       [1,0,2,0]\n",
      "#23 3       [1,0,1,1]\n",
      "#24 3       [1,0,0,2]\n",
      "#25 3       [0,3,0,0]\n",
      "#26 3       [0,2,1,0]\n",
      "#27 3       [0,2,0,1]\n",
      "#28 3       [0,1,2,0]\n",
      "#29 3       [0,1,1,1]\n",
      "#30 3       [0,1,0,2]\n",
      "#31 3       [0,0,3,0]\n",
      "#32 3       [0,0,2,1]\n",
      "#33 3       [0,0,1,2]\n",
      "#34 3       [0,0,0,3]\n"
     ]
    }
   ],
   "source": [
    "print('#  Degree  Multiindex')\n",
    "for i in range(P):\n",
    "    multiindex = enumfunc(i)\n",
    "    degree = sum(multiindex)\n",
    "    print(\"#%d %s %15s\" % (i,degree,multiindex))"
   ]
  },
  {
   "cell_type": "markdown",
   "metadata": {},
   "source": [
    "## Exercices"
   ]
  },
  {
   "cell_type": "markdown",
   "metadata": {},
   "source": [
    "## Exercice 1 : règle d'énumération linéaire\n",
    "\n",
    "On considère l'exemple de la poutre $(E,F,L,I)$. On note $\\pi^E_j$, $\\pi^F_j$, $\\pi^L_j$ et $\\pi^I_j$ la famille de polynôme univariés associés. Pour la base multivariée `multivariateBasis` définie précédemment, on considère la règle d'énumération par défaut. On se concentre ici sur le 52-ème multi-indice.\n",
    "\n",
    "* Utiliser la fonction `enumfunc` pour obtenir et afficher le multi-indice d'indice 52.\n",
    "* Décrire *en français* le lien entre ce multi-indice et les polynômes univariés associés : pour chaque composante de $\\alpha$, décrire le degré du polynôme univarié et la variable E, F, L ou I associée. Ecrire le polynôme multivarié $\\psi_\\alpha$ associé en fonction des polynômes univariés $\\pi^E_j$, $\\pi^F_j$, $\\pi^L_j$ et $\\pi^I_j$.\n",
    "* Quel est le degré total de ce polynôme multivarié ?\n",
    "* Utiliser la méthode `build` de l'objet `multivariateBasis` pour calculer et afficher le polynôme $\\psi_\\alpha$ correspondant."
   ]
  },
  {
   "cell_type": "markdown",
   "metadata": {},
   "source": [
    "## Exercice 2 : règle d'énumération hyperbolique\n",
    "\n",
    "La règle d'énumération linéaire est associée à un ordre d'énumération des multi-indices tel que chaque les interactions d'ordre élevée entre les variables apparaissent souvent. Or, dans beaucoup de modèles physiques, les interactions entre variables sont moins importantes. \n",
    "\n",
    "La règle d'énumération hyperbolique permet de générer un ordre tel que les interactions sont moins fréquentes dans le modèle. Pour un paramètre $q\\in]0,1]$ donné et des poids $w\\in\\mathbf{R}^n$ donnés, la norme $\\|\\cdot\\|_{w,q}$ d'un multi-indice $\\alpha$ est définie par :\n",
    "$$\n",
    "\\|\\cdot\\|_{w,q} = \\left( \\sum_{i=1}^n w_i \\alpha_i^q \\right)^{\\frac{1}{q}}.\n",
    "$$\n",
    "\n",
    "* Utiliser la classe `HyperbolicAnisotropicEnumerateFunction` pour définir une règle hyperbolique de paramètre $q=0.5$ en dimension 4 avec les poids $w$ par défaut. \n",
    "* Afficher les 10 premiers multi-indices associés à cette règle.\n",
    "* Utiliser la méthode `getWeight` pour récupérer le vecteur des poids."
   ]
  },
  {
   "cell_type": "markdown",
   "metadata": {},
   "source": [
    "## Exercice 3 : utilisation d'une règle d'énumération\n",
    "\n",
    "Le second argument de la classe `OrthogonalProductPolynomialFactory` permet de spécifier une règle d'énumération choisie par l'utilisateur. Dans ce cas, le premier argument doit être une liste de polynômes orthogonaux univariés, ou, plus précisément, une instance de la classe `PolynomialFamilyCollection`. \n",
    "\n",
    "* Utiliser le script suivant pour définir une collection de polynômes orthogonaux univariés.\n",
    "```\n",
    "marginals = [dist_E, dist_F, dist_L, dist_I]\n",
    "stdPolyColl = [ot.StandardDistributionPolynomialFactory(m) for m in marginals]\n",
    "polyColl = ot.PolynomialFamilyCollection(stdPolyColl)\n",
    "```\n",
    "* Utiliser l'instruction suivante pour définir la base orthogonale tensoriée associée à la règle d'énumération de votre choix.\n",
    "```\n",
    "multivariateBasis = ot.OrthogonalProductPolynomialFactory(polyColl, enumfunc)\n",
    "```\n",
    "* Utiliser la méthode `getNodesAndWeights` pour récupérer les noeuds et les poids de la quadrature de Gauss tensorisée associée à ce polynôme orthogonal multivarié."
   ]
  },
  {
   "cell_type": "markdown",
   "metadata": {},
   "source": [
    "## Exercice 4 : nombre de polynômes avec la règle d'énumération linéaire\n",
    "\n",
    "Avec la règle d'énumération linéaire par défaut, on souhaite créer un graphique qui représente le nombre de polynômes $P$ en fonction du degré total `p`. \n",
    "* Créer une boucle `for` sur le degré total `p` entre 1 et 15. \n",
    "* Pour chaque valeur de `p`, utiliser la méthode `getStrataCumulatedCardinal` de la fonction d'énumération pour obtenir le nombre de polynômes de degré inférieur ou égal à `p`.\n",
    "* Créer un graphique représentant le nombre de coefficients en fonction du degré total."
   ]
  },
  {
   "cell_type": "markdown",
   "metadata": {},
   "source": [
    "## Exercice 5 : utilisation d'une règle d'énumération hyperbolique\n",
    "\n",
    "The hyperbolic enumeration scheme reduces the number of candidate polynomials for a given maximum degree.\n",
    "\n",
    "* Use the `HyperbolicAnisotropicEnumerateFunction`  with the following parameters:\n",
    "  - hyperbolic parameter $q=0.6$\n",
    "  - highest polynomial degree $p=5$\n",
    "\n",
    "In order to find the solution, you may use the following template, where you must replace the `TODO` sections with valid Python code.\n",
    "\n",
    "```\n",
    "dim_input = 4\n",
    "polyColl = ot.PolynomialFamilyCollection(dim_input)\n",
    "polyColl[0] = ot.StandardDistributionPolynomialFactory(TODO)\n",
    "polyColl[1] = ot.StandardDistributionPolynomialFactory(TODO) \n",
    "polyColl[2] = ot.StandardDistributionPolynomialFactory(TODO)\n",
    "polyColl[3] = ot.StandardDistributionPolynomialFactory(TODO)\n",
    "q = 0.6\n",
    "enumerateFunction = ot.HyperbolicAnisotropicEnumerateFunction(dim_input, q)\n",
    "multivariateBasis = ot.OrthogonalProductPolynomialFactory(polyColl, enumerateFunction)\n",
    "```\n",
    "\n",
    "* Compare the number of candidate polynomials using hyperbolic enumeration scheme and linear enumeration. \n",
    "* Display the degree of polynomials. \n",
    "* Which polynomials are discarded by the hyperbolic scheme ?\n",
    "* The following `printMultiIndices` function uses the given enumerate function and prints the multi-indices with degree less than a given maximum."
   ]
  },
  {
   "cell_type": "code",
   "execution_count": 19,
   "metadata": {},
   "outputs": [],
   "source": [
    "def printMultiIndices(enumerateFunction,maximumDegree):\n",
    "    P = enumerateFunction.getStrataCumulatedCardinal(maximumDegree)\n",
    "    print('Number of coefficients with degree lower than %s is %s'%(maximumDegree,P) )\n",
    "\n",
    "    print('Total degree' + '     ' + 'Multi-index')\n",
    "    for i in range(P):\n",
    "        index = enumerateFunction(i)\n",
    "        degree = sum(index)\n",
    "        print(\"#%d %4d %18s\" % (i,degree,index))\n",
    "    return"
   ]
  },
  {
   "cell_type": "markdown",
   "metadata": {},
   "source": [
    "Use the `printMultiIndices` to print the multi-indices with maximum degree less than 5.\n",
    "* For a given enumerate function, the `getStrataCumulatedCardinal(maximumDegree)` method returns the number of coefficients with maximum degree lower than `maximumDegree`. Set the `maximumDegree` to 5 and consider the following list of quasi-norm parameters :\n",
    "```\n",
    "q_list = [0.1, 0.3, 0.6, 0.9, 1.0]\n",
    "```\n",
    "For each value of this quasi-norm parameter, print the number of coefficients associated with the hyperbolic enumerate function. What do you observe ?\n",
    "* Set the quasi-norm parameter `q=0.6`. Consider the maximum degree equal from 1 to 10. For each maximum degree value, compare the number of coefficients associated with the linear and hyperbolic enumeration functions. What do you observe ?"
   ]
  },
  {
   "cell_type": "markdown",
   "metadata": {},
   "source": [
    "## Exercice 6 : graphique des indices linéaires, hyperboliques et norme infinie\n",
    "\n",
    "L'objectif de cet exercice est de représenter les multi-indices associés à différentes règles d'énumération. \n",
    "\n",
    "La fonction `plotMultiindices` suivante dessine les multi-indices en dimension 2 associés à une règle d'énumération. Elle représente les multi-indices de 0 à l'indice `numberOfIndices` donné en argument, en annotant chaque multi-indice par son indice d'énumération."
   ]
  },
  {
   "cell_type": "code",
   "execution_count": 25,
   "metadata": {},
   "outputs": [],
   "source": [
    "def plotMultiindices(enumerateFunction,numberOfIndices,title):\n",
    "    '''\n",
    "    Plots 2-dimensionnal multiindices from an 2D enumerate function up to the \n",
    "    indice numberOfIndices. \n",
    "    Makes a graphics with given title.\n",
    "    '''\n",
    "    sample = ot.Sample(numberOfIndices,2)\n",
    "    labellist = []\n",
    "    for i in range(numberOfIndices):\n",
    "        multiindice = enumfunc(i)\n",
    "        sample[i] = multiindice\n",
    "        labellist.append(str(i))\n",
    "    graph = ot.Graph(title,\"Indice 1\",\"Indice 2\",True,\"topright\")\n",
    "    cloud = ot.Cloud(sample)\n",
    "    graph.add(cloud)\n",
    "    text = ot.Text(sample,labellist)\n",
    "    text.setColor(\"red\")\n",
    "    graph.add(text)\n",
    "    return graph"
   ]
  },
  {
   "cell_type": "markdown",
   "metadata": {},
   "source": [
    "* Créer une `LinearEnumerateFunction` en dimension 2 et utiliser la fonction `plotMultiindices` pour représenter les 10 premiers multi-indices. Qu'observez-vous ?\n",
    "* Créer une `HyperbolicAnisotropicEnumerateFunction` en dimension 2 avec le paramètre de quasi-norme `q=0.6` et utiliser la fonction `plotMultiindices` pour représenter les 10 premiers multi-indices. Qu'observez-vous ?\n",
    "* Créer une `HyperbolicAnisotropicEnumerateFunction` en dimension 2 avec le paramètre de quasi-norme `q=1` et utiliser la fonction `plotMultiindices` pour représenter les 10 premiers multi-indices. Qu'observez-vous ?\n",
    "* Créer une `NormInfEnumerateFunction` en dimension 2 et utiliser la fonction `plotMultiindices` pour représenter les 10 premiers multi-indices. Qu'observez-vous ?"
   ]
  }
 ],
 "metadata": {
  "kernelspec": {
   "display_name": "Python 3",
   "language": "python",
   "name": "python3"
  },
  "language_info": {
   "codemirror_mode": {
    "name": "ipython",
    "version": 3
   },
   "file_extension": ".py",
   "mimetype": "text/x-python",
   "name": "python",
   "nbconvert_exporter": "python",
   "pygments_lexer": "ipython3",
   "version": "3.7.4"
  }
 },
 "nbformat": 4,
 "nbformat_minor": 1
}
