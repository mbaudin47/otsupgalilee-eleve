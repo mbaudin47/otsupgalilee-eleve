{
 "cells": [
  {
   "cell_type": "markdown",
   "metadata": {},
   "source": [
    "# Thème 8 - Calage\n",
    "\n",
    "## Introduction\n",
    "\n",
    "L'objectif de cette séquence est de caler un modèle par des méthodes déterministes puis bayésiennes.\n",
    "\n",
    "## Vue d'ensemble\n",
    "\n",
    "- Rappels de cours et exercice sur le calage déterministe : \n",
    "  - Cours-calage-deterministe.ipynb\n",
    "  - Exercice-calage-deterministe.ipynb\n",
    "- Rappels de cours et exercice sur le calage bayésien : \n",
    "  - Cours-calage-bayesien.ipynb\n",
    "  - Exercice-calage-bayesien.ipynb\n",
    "\n",
    "- Devoir à la maison :\n",
    "  - Devoir-calage-bayesien.ipynb"
   ]
  }
 ],
 "metadata": {
  "kernelspec": {
   "display_name": "Python 3",
   "language": "python",
   "name": "python3"
  },
  "language_info": {
   "codemirror_mode": {
    "name": "ipython",
    "version": 3
   },
   "file_extension": ".py",
   "mimetype": "text/x-python",
   "name": "python",
   "nbconvert_exporter": "python",
   "pygments_lexer": "ipython3",
   "version": "3.7.4"
  }
 },
 "nbformat": 4,
 "nbformat_minor": 2
}
