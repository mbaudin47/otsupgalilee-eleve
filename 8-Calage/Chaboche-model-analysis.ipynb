{
 "cells": [
  {
   "cell_type": "markdown",
   "metadata": {},
   "source": [
    "# The Chaboche mecanical model\n",
    "\n",
    "## Deterministic model\n",
    "\n",
    "The Chaboche mecanical law predicts the stress depending on the strain:\n",
    "$$\n",
    "\\sigma = G(\\epsilon,R,C,\\gamma) = R + \\frac{C}{\\gamma} (1-\\exp(-\\gamma\\epsilon))\n",
    "$$\n",
    "\n",
    "where:\n",
    "\n",
    "- $\\epsilon$ is the strain,\n",
    "- $\\sigma$ is the stress (Pa),\n",
    "- $R$, $C$, $\\gamma$ are the parameters.\n",
    "\n",
    "\n",
    "## References\n",
    "\n",
    "- J. Lemaitre and J. L. Chaboche (2002) \"Mechanics of solid materials\" Cambridge University Press."
   ]
  },
  {
   "cell_type": "markdown",
   "metadata": {},
   "source": [
    "## Taylor expansion of the stress\n",
    "\n",
    "The analysis is based on the hypothesis that the strain $\\epsilon$ is close to zero:\n",
    "$$\n",
    "\\epsilon \\approx 0.\n",
    "$$\n",
    "\n",
    "The Taylor expansion of the exponential function is:\n",
    "$$\n",
    "\\exp(x) = 1 + x + \\frac{x^2}{2} + O(x^3), \\quad x\\rightarrow 0.\n",
    "$$\n",
    "Hence, \n",
    "$$\n",
    "\\exp(-\\gamma \\epsilon) = 1 - \\gamma \\epsilon + \\frac{\\gamma^2}{2} \\epsilon^2 + O(\\epsilon^3), \\quad \\epsilon\\rightarrow 0,\n",
    "$$\n",
    "which implies:\n",
    "$$\n",
    "1 - \\exp(-\\gamma \\epsilon) =  \\gamma \\epsilon - \\frac{\\gamma^2}{2} \\epsilon^2 + O(\\epsilon^3), \\quad \\epsilon\\rightarrow 0.\n",
    "$$\n",
    "Therefore,\n",
    "$$\n",
    "\\frac{1}{\\gamma}\\left(1 - \\exp(-\\gamma \\epsilon)\\right) =  \\epsilon - \\frac{\\gamma}{2} \\epsilon^2 + O(\\epsilon^3), \\quad \\epsilon\\rightarrow 0.\n",
    "$$\n",
    "This leads to the Taylor expansion of the stress:\n",
    "$$\n",
    "\\sigma = R + C\\epsilon - \\frac{C\\gamma}{2} \\epsilon^2 + O(\\epsilon^3), \n",
    "\\quad \\epsilon\\rightarrow 0.\n",
    "$$\n",
    "This shows that:\n",
    "* the coefficient $R$ is a constant stress,\n",
    "* the coefficient $C$ is the linear part depending on the strain,\n",
    "* the coefficient $\\gamma$ is the quadratic part, as a multiplication factor of $C$.\n",
    "\n",
    "The quadratic term involves the product $C\\gamma$. In other words, there are interactions with the parameters $C$ and $\\gamma$ and the stress $\\sigma$ does not depend linearily on the $\\gamma$ parameter. "
   ]
  },
  {
   "cell_type": "markdown",
   "metadata": {},
   "source": [
    "## Partial derivatives\n",
    "\n",
    "The partial derivatives of the stress $\\sigma$ with respect to its inputs are:\n",
    "\n",
    "$$\n",
    "\\frac{\\partial \\sigma}{\\partial \\epsilon} = C \\exp(-\\gamma\\epsilon),\n",
    "$$\n",
    "$$\n",
    "\\frac{\\partial \\sigma}{\\partial R} = 1,\n",
    "$$\n",
    "$$\n",
    "\\frac{\\partial \\sigma}{\\partial C} = \n",
    "\\frac{1}{\\gamma} \\left(1-\\exp(-\\gamma\\epsilon)\\right),\n",
    "$$\n",
    "$$\n",
    "\\frac{\\partial \\sigma}{\\partial \\gamma} = \n",
    "- \\frac{C}{\\gamma^2} \\left(1-\\exp(-\\gamma\\epsilon)\\right) \n",
    "+ \\frac{C\\epsilon}{\\gamma} \\exp(-\\gamma\\epsilon). \n",
    "$$"
   ]
  },
  {
   "cell_type": "markdown",
   "metadata": {},
   "source": [
    "## Check the derivatives"
   ]
  },
  {
   "cell_type": "code",
   "execution_count": 1,
   "metadata": {},
   "outputs": [],
   "source": [
    "import openturns as ot\n",
    "import numpy as np"
   ]
  },
  {
   "cell_type": "markdown",
   "metadata": {},
   "source": [
    "Define the model."
   ]
  },
  {
   "cell_type": "code",
   "execution_count": 2,
   "metadata": {},
   "outputs": [],
   "source": [
    "def modelChaboche(X):\n",
    "    strain,r,c,gamma = X\n",
    "    stress = r + c * (1 - np.exp(-gamma * strain)) / gamma\n",
    "    return [stress]"
   ]
  },
  {
   "cell_type": "markdown",
   "metadata": {},
   "source": [
    "Create the Python function."
   ]
  },
  {
   "cell_type": "code",
   "execution_count": 3,
   "metadata": {},
   "outputs": [],
   "source": [
    "g = ot.PythonFunction(4, 1, modelChaboche)"
   ]
  },
  {
   "cell_type": "code",
   "execution_count": 4,
   "metadata": {},
   "outputs": [],
   "source": [
    "strain = 0.07\n",
    "r = 750e6\n",
    "c = 2750e6\n",
    "gamma = 10.0"
   ]
  },
  {
   "cell_type": "code",
   "execution_count": 5,
   "metadata": {},
   "outputs": [
    {
     "data": {
      "text/html": [
       "<p>[[  1.36561e+09 ]<br>\n",
       " [  1.00136     ]<br>\n",
       " [  0.0476837   ]<br>\n",
       " [ -4.28464e+06 ]]</p>"
      ],
      "text/plain": [
       "class=Matrix implementation=class=MatrixImplementation name=Unnamed rows=4 columns=1 values=[1.36561e+09,1.00136,0.0476837,-4.28464e+06]"
      ]
     },
     "execution_count": 5,
     "metadata": {},
     "output_type": "execute_result"
    }
   ],
   "source": [
    "X = ot.Point([strain,r,c,gamma])\n",
    "g.gradient(X)"
   ]
  },
  {
   "cell_type": "code",
   "execution_count": 6,
   "metadata": {},
   "outputs": [],
   "source": [
    "def modelChabocheGradient(X):\n",
    "    strain,r,c,gamma = X\n",
    "    J = ot.Matrix(4,1)\n",
    "    J[0,0] = c * np.exp(-gamma * strain) # epsilon\n",
    "    J[1,0] = 1.0 # r\n",
    "    J[2,0] = (1.0 - np.exp(-gamma * strain)) / gamma # c\n",
    "    J[3,0] = -c * (1.0 - np.exp(-gamma * strain)) / gamma**2 + \\\n",
    "        c * strain * np.exp(-gamma * strain) / gamma # gamma\n",
    "    return J"
   ]
  },
  {
   "cell_type": "code",
   "execution_count": 7,
   "metadata": {},
   "outputs": [
    {
     "data": {
      "text/html": [
       "<p>[[  1.36561e+09 ]<br>\n",
       " [  1           ]<br>\n",
       " [  0.0503415   ]<br>\n",
       " [ -4.28464e+06 ]]</p>"
      ],
      "text/plain": [
       "class=Matrix implementation=class=MatrixImplementation name=Unnamed rows=4 columns=1 values=[1.36561e+09,1,0.0503415,-4.28464e+06]"
      ]
     },
     "execution_count": 7,
     "metadata": {},
     "output_type": "execute_result"
    }
   ],
   "source": [
    "modelChabocheGradient(X)"
   ]
  },
  {
   "cell_type": "code",
   "execution_count": 8,
   "metadata": {},
   "outputs": [],
   "source": [
    "g = ot.SymbolicFunction([\"strain\",\"r\",\"c\",\"gamm\"],[\"r+c*(1-exp(-gamm*strain))/gamm\"])"
   ]
  },
  {
   "cell_type": "code",
   "execution_count": 9,
   "metadata": {},
   "outputs": [
    {
     "data": {
      "text/html": [
       "<p>[[  1.36561e+09 ]<br>\n",
       " [  1           ]<br>\n",
       " [  0.0503415   ]<br>\n",
       " [ -4.28464e+06 ]]</p>"
      ],
      "text/plain": [
       "class=Matrix implementation=class=MatrixImplementation name=Unnamed rows=4 columns=1 values=[1.36561e+09,1,0.0503415,-4.28464e+06]"
      ]
     },
     "execution_count": 9,
     "metadata": {},
     "output_type": "execute_result"
    }
   ],
   "source": [
    "X = ot.Point([strain,r,c,gamma])\n",
    "g.gradient(X)"
   ]
  },
  {
   "cell_type": "code",
   "execution_count": 10,
   "metadata": {},
   "outputs": [],
   "source": [
    "g = ot.SymbolicFunction([\"strain\",\"r\",\"c\",\"gamm\"],[\"r+c*strain-0.5*c*gamm*strain^2\"]) "
   ]
  },
  {
   "cell_type": "code",
   "execution_count": 11,
   "metadata": {},
   "outputs": [
    {
     "data": {
      "text/html": [
       "<p>[[  8.25e+08   ]<br>\n",
       " [  1          ]<br>\n",
       " [  0.0455     ]<br>\n",
       " [ -6.7375e+06 ]]</p>"
      ],
      "text/plain": [
       "class=Matrix implementation=class=MatrixImplementation name=Unnamed rows=4 columns=1 values=[8.25e+08,1,0.0455,-6.7375e+06]"
      ]
     },
     "execution_count": 11,
     "metadata": {},
     "output_type": "execute_result"
    }
   ],
   "source": [
    "X = ot.Point([strain,r,c,gamma])\n",
    "g.gradient(X)"
   ]
  },
  {
   "cell_type": "markdown",
   "metadata": {},
   "source": [
    "## Accuracy issue\n",
    "\n",
    "We know that there might be an accuracy issue when evaluating $\\exp(x)-1$ for $x$ close to zero. This, however, only happens when $x$ is very close to zero. "
   ]
  },
  {
   "cell_type": "code",
   "execution_count": 12,
   "metadata": {},
   "outputs": [],
   "source": [
    "strain = 0.07\n",
    "gamma = 10.0"
   ]
  },
  {
   "cell_type": "code",
   "execution_count": 13,
   "metadata": {},
   "outputs": [
    {
     "data": {
      "text/plain": [
       "-0.5034146962085906"
      ]
     },
     "execution_count": 13,
     "metadata": {},
     "output_type": "execute_result"
    }
   ],
   "source": [
    "np.exp(-gamma*strain)-1.0"
   ]
  },
  {
   "cell_type": "code",
   "execution_count": 14,
   "metadata": {},
   "outputs": [
    {
     "data": {
      "text/plain": [
       "-0.5034146962085905"
      ]
     },
     "execution_count": 14,
     "metadata": {},
     "output_type": "execute_result"
    }
   ],
   "source": [
    "np.expm1(-gamma*strain)"
   ]
  },
  {
   "cell_type": "markdown",
   "metadata": {},
   "source": [
    "It seems that there is no significant accuracy issue here. "
   ]
  },
  {
   "cell_type": "markdown",
   "metadata": {},
   "source": [
    "## Implementation Python or Symbolic?"
   ]
  },
  {
   "cell_type": "code",
   "execution_count": 15,
   "metadata": {},
   "outputs": [],
   "source": [
    "def modelChaboche(X):\n",
    "    strain,r,c,gamma = X\n",
    "    stress = r + c * (1 - np.exp(-gamma * strain)) / gamma\n",
    "    return [stress]"
   ]
  },
  {
   "cell_type": "code",
   "execution_count": 16,
   "metadata": {},
   "outputs": [],
   "source": [
    "gPython = ot.PythonFunction(4, 1, modelChaboche) "
   ]
  },
  {
   "cell_type": "code",
   "execution_count": 17,
   "metadata": {},
   "outputs": [],
   "source": [
    "strain = 0.07\n",
    "r = 750e6\n",
    "c = 2750e6\n",
    "gamma = 10.0\n",
    "X = ot.Point([strain,r,c,gamma])"
   ]
  },
  {
   "cell_type": "code",
   "execution_count": 18,
   "metadata": {},
   "outputs": [
    {
     "data": {
      "text/html": [
       "<p>[8.88439e+08]</p>"
      ],
      "text/plain": [
       "class=Point name=Unnamed dimension=1 values=[8.88439e+08]"
      ]
     },
     "execution_count": 18,
     "metadata": {},
     "output_type": "execute_result"
    }
   ],
   "source": [
    "gPython(X)"
   ]
  },
  {
   "cell_type": "code",
   "execution_count": 19,
   "metadata": {},
   "outputs": [],
   "source": [
    "gSymbolic = ot.SymbolicFunction([\"strain\",\"r\",\"c\",\"gamm\"],[\"r+c*(1-exp(-gamm*strain))/gamm\"])"
   ]
  },
  {
   "cell_type": "code",
   "execution_count": 20,
   "metadata": {},
   "outputs": [
    {
     "data": {
      "text/html": [
       "<p>[8.88439e+08]</p>"
      ],
      "text/plain": [
       "class=Point name=Unnamed dimension=1 values=[8.88439e+08]"
      ]
     },
     "execution_count": 20,
     "metadata": {},
     "output_type": "execute_result"
    }
   ],
   "source": [
    "gSymbolic(X)"
   ]
  },
  {
   "cell_type": "markdown",
   "metadata": {},
   "source": [
    "## Dependence on strain"
   ]
  },
  {
   "cell_type": "code",
   "execution_count": 21,
   "metadata": {},
   "outputs": [],
   "source": [
    "strain = 0.07\n",
    "r = 750e6\n",
    "c = 2750e6\n",
    "gamma = 8. # Exact : 10\n",
    "theta = ot.Point([r,c,gamma])"
   ]
  },
  {
   "cell_type": "code",
   "execution_count": 22,
   "metadata": {},
   "outputs": [],
   "source": [
    "calibratedIndices = [1,2,3]\n",
    "mycf = ot.ParametricFunction(g, calibratedIndices, theta)"
   ]
  },
  {
   "cell_type": "code",
   "execution_count": 23,
   "metadata": {},
   "outputs": [
    {
     "data": {
      "image/png": "[encoded data removed]",
      "text/plain": [
       "class=Graph name=y0 as a function of strain implementation=class=GraphImplementation name=y0 as a function of strain title=y0 as a function of strain xTitle=strain yTitle=y0 axes=ON grid=ON legendposition=topleft legendFontSize=1 drawables=[class=Drawable name=Unnamed implementation=class=Curve name=Unnamed derived from class=DrawableImplementation name=Unnamed legend=Gamma=10.00 data=class=Sample name=Unnamed implementation=class=SampleImplementation name=Unnamed size=129 dimension=2 data=[[0,7.5e+08],[0.000546875,7.515e+08],[0.00109375,7.52991e+08],[0.00164063,7.54475e+08],[0.0021875,7.5595e+08],[0.00273438,7.57417e+08],[0.00328125,7.58875e+08],[0.00382813,7.60326e+08],[0.004375,7.61768e+08],[0.00492188,7.63202e+08],[0.00546875,7.64628e+08],[0.00601563,7.66045e+08],[0.0065625,7.67455e+08],[0.00710938,7.68856e+08],[0.00765625,7.70249e+08],[0.00820313,7.71633e+08],[0.00875,7.7301e+08],[0.00929688,7.74378e+08],[0.00984375,7.75738e+08],[0.0103906,7.7709e+08],[0.0109375,7.78433e+08],[0.0114844,7.79769e+08],[0.0120313,7.81096e+08],[0.0125781,7.82414e+08],[0.013125,7.83725e+08],[0.0136719,7.85028e+08],[0.0142188,7.86322e+08],[0.0147656,7.87608e+08],[0.0153125,7.88885e+08],[0.0158594,7.90155e+08],[0.0164063,7.91416e+08],[0.0169531,7.92669e+08],[0.0175,7.93914e+08],[0.0180469,7.95151e+08],[0.0185938,7.96379e+08],[0.0191406,7.97599e+08],[0.0196875,7.98811e+08],[0.0202344,8.00015e+08],[0.0207813,8.0121e+08],[0.0213281,8.02398e+08],[0.021875,8.03577e+08],[0.0224219,8.04747e+08],[0.0229688,8.0591e+08],[0.0235156,8.07064e+08],[0.0240625,8.08211e+08],[0.0246094,8.09348e+08],[0.0251563,8.10478e+08],[0.0257031,8.116e+08],[0.02625,8.12713e+08],[0.0267969,8.13818e+08],[0.0273438,8.14915e+08],[0.0278906,8.16003e+08],[0.0284375,8.17084e+08],[0.0289844,8.18156e+08],[0.0295313,8.1922e+08],[0.0300781,8.20275e+08],[0.030625,8.21323e+08],[0.0311719,8.22362e+08],[0.0317188,8.23393e+08],[0.0322656,8.24416e+08],[0.0328125,8.2543e+08],[0.0333594,8.26437e+08],[0.0339063,8.27435e+08],[0.0344531,8.28425e+08],[0.035,8.29406e+08],[0.0355469,8.3038e+08],[0.0360938,8.31345e+08],[0.0366406,8.32302e+08],[0.0371875,8.33251e+08],[0.0377344,8.34191e+08],[0.0382813,8.35123e+08],[0.0388281,8.36048e+08],[0.039375,8.36963e+08],[0.0399219,8.37871e+08],[0.0404688,8.3877e+08],[0.0410156,8.39662e+08],[0.0415625,8.40545e+08],[0.0421094,8.41419e+08],[0.0426563,8.42286e+08],[0.0432031,8.43144e+08],[0.04375,8.43994e+08],[0.0442969,8.44836e+08],[0.0448438,8.4567e+08],[0.0453906,8.46495e+08],[0.0459375,8.47312e+08],[0.0464844,8.48121e+08],[0.0470313,8.48922e+08],[0.0475781,8.49714e+08],[0.048125,8.50499e+08],[0.0486719,8.51275e+08],[0.0492188,8.52042e+08],[0.0497656,8.52802e+08],[0.0503125,8.53553e+08],[0.0508594,8.54296e+08],[0.0514063,8.55031e+08],[0.0519531,8.55758e+08],[0.0525,8.56477e+08],[0.0530469,8.57187e+08],[0.0535938,8.57889e+08],[0.0541406,8.58583e+08],[0.0546875,8.59268e+08],[0.0552344,8.59946e+08],[0.0557813,8.60615e+08],[0.0563281,8.61276e+08],[0.056875,8.61928e+08],[0.0574219,8.62573e+08],[0.0579688,8.63209e+08],[0.0585156,8.63837e+08],[0.0590625,8.64457e+08],[0.0596094,8.65068e+08],[0.0601563,8.65672e+08],[0.0607031,8.66267e+08],[0.06125,8.66854e+08],[0.0617969,8.67432e+08],[0.0623438,8.68003e+08],[0.0628906,8.68565e+08],[0.0634375,8.69119e+08],[0.0639844,8.69665e+08],[0.0645313,8.70202e+08],[0.0650781,8.70731e+08],[0.065625,8.71252e+08],[0.0661719,8.71765e+08],[0.0667188,8.7227e+08],[0.0672656,8.72766e+08],[0.0678125,8.73255e+08],[0.0683594,8.73734e+08],[0.0689063,8.74206e+08],[0.0694531,8.7467e+08],[0.07,8.75125e+08]] color=blue fillStyle=solid lineStyle=solid pointStyle=none lineWidth=1,class=Drawable name=Unnamed implementation=class=Curve name=Unnamed derived from class=DrawableImplementation name=Unnamed legend=Gamma=0.00 data=class=Sample name=Unnamed implementation=class=SampleImplementation name=Unnamed size=129 dimension=2 data=[[0,7.5e+08],[0.000546875,7.51504e+08],[0.00109375,7.53008e+08],[0.00164063,7.54512e+08],[0.0021875,7.56016e+08],[0.00273438,7.5752e+08],[0.00328125,7.59023e+08],[0.00382813,7.60527e+08],[0.004375,7.62031e+08],[0.00492188,7.63535e+08],[0.00546875,7.65039e+08],[0.00601563,7.66543e+08],[0.0065625,7.68047e+08],[0.00710938,7.69551e+08],[0.00765625,7.71055e+08],[0.00820313,7.72559e+08],[0.00875,7.74062e+08],[0.00929688,7.75566e+08],[0.00984375,7.7707e+08],[0.0103906,7.78574e+08],[0.0109375,7.80078e+08],[0.0114844,7.81582e+08],[0.0120313,7.83086e+08],[0.0125781,7.8459e+08],[0.013125,7.86094e+08],[0.0136719,7.87598e+08],[0.0142188,7.89102e+08],[0.0147656,7.90605e+08],[0.0153125,7.92109e+08],[0.0158594,7.93613e+08],[0.0164063,7.95117e+08],[0.0169531,7.96621e+08],[0.0175,7.98125e+08],[0.0180469,7.99629e+08],[0.0185938,8.01133e+08],[0.0191406,8.02637e+08],[0.0196875,8.04141e+08],[0.0202344,8.05645e+08],[0.0207813,8.07148e+08],[0.0213281,8.08652e+08],[0.021875,8.10156e+08],[0.0224219,8.1166e+08],[0.0229688,8.13164e+08],[0.0235156,8.14668e+08],[0.0240625,8.16172e+08],[0.0246094,8.17676e+08],[0.0251563,8.1918e+08],[0.0257031,8.20684e+08],[0.02625,8.22188e+08],[0.0267969,8.23691e+08],[0.0273438,8.25195e+08],[0.0278906,8.26699e+08],[0.0284375,8.28203e+08],[0.0289844,8.29707e+08],[0.0295313,8.31211e+08],[0.0300781,8.32715e+08],[0.030625,8.34219e+08],[0.0311719,8.35723e+08],[0.0317188,8.37227e+08],[0.0322656,8.3873e+08],[0.0328125,8.40234e+08],[0.0333594,8.41738e+08],[0.0339063,8.43242e+08],[0.0344531,8.44746e+08],[0.035,8.4625e+08],[0.0355469,8.47754e+08],[0.0360938,8.49258e+08],[0.0366406,8.50762e+08],[0.0371875,8.52266e+08],[0.0377344,8.5377e+08],[0.0382813,8.55273e+08],[0.0388281,8.56777e+08],[0.039375,8.58281e+08],[0.0399219,8.59785e+08],[0.0404688,8.61289e+08],[0.0410156,8.62793e+08],[0.0415625,8.64297e+08],[0.0421094,8.65801e+08],[0.0426563,8.67305e+08],[0.0432031,8.68809e+08],[0.04375,8.70312e+08],[0.0442969,8.71816e+08],[0.0448438,8.7332e+08],[0.0453906,8.74824e+08],[0.0459375,8.76328e+08],[0.0464844,8.77832e+08],[0.0470313,8.79336e+08],[0.0475781,8.8084e+08],[0.048125,8.82344e+08],[0.0486719,8.83848e+08],[0.0492188,8.85352e+08],[0.0497656,8.86855e+08],[0.0503125,8.88359e+08],[0.0508594,8.89863e+08],[0.0514063,8.91367e+08],[0.0519531,8.92871e+08],[0.0525,8.94375e+08],[0.0530469,8.95879e+08],[0.0535938,8.97383e+08],[0.0541406,8.98887e+08],[0.0546875,9.00391e+08],[0.0552344,9.01895e+08],[0.0557813,9.03398e+08],[0.0563281,9.04902e+08],[0.056875,9.06406e+08],[0.0574219,9.0791e+08],[0.0579688,9.09414e+08],[0.0585156,9.10918e+08],[0.0590625,9.12422e+08],[0.0596094,9.13926e+08],[0.0601563,9.1543e+08],[0.0607031,9.16934e+08],[0.06125,9.18438e+08],[0.0617969,9.19941e+08],[0.0623438,9.21445e+08],[0.0628906,9.22949e+08],[0.0634375,9.24453e+08],[0.0639844,9.25957e+08],[0.0645313,9.27461e+08],[0.0650781,9.28965e+08],[0.065625,9.30469e+08],[0.0661719,9.31973e+08],[0.0667188,9.33477e+08],[0.0672656,9.3498e+08],[0.0678125,9.36484e+08],[0.0683594,9.37988e+08],[0.0689063,9.39492e+08],[0.0694531,9.40996e+08],[0.07,9.425e+08]] color=red fillStyle=solid lineStyle=solid pointStyle=none lineWidth=1,class=Drawable name=Unnamed implementation=class=Curve name=Unnamed derived from class=DrawableImplementation name=Unnamed legend=Gamma=-10.00 data=class=Sample name=Unnamed implementation=class=SampleImplementation name=Unnamed size=129 dimension=2 data=[[0,7.5e+08],[0.000546875,7.51508e+08],[0.00109375,7.53024e+08],[0.00164063,7.54549e+08],[0.0021875,7.56081e+08],[0.00273438,7.57622e+08],[0.00328125,7.59171e+08],[0.00382813,7.60729e+08],[0.004375,7.62294e+08],[0.00492188,7.63868e+08],[0.00546875,7.6545e+08],[0.00601563,7.67041e+08],[0.0065625,7.68639e+08],[0.00710938,7.70246e+08],[0.00765625,7.71861e+08],[0.00820313,7.73484e+08],[0.00875,7.75115e+08],[0.00929688,7.76755e+08],[0.00984375,7.78403e+08],[0.0103906,7.80059e+08],[0.0109375,7.81723e+08],[0.0114844,7.83396e+08],[0.0120313,7.85076e+08],[0.0125781,7.86765e+08],[0.013125,7.88462e+08],[0.0136719,7.90168e+08],[0.0142188,7.91881e+08],[0.0147656,7.93603e+08],[0.0153125,7.95333e+08],[0.0158594,7.97072e+08],[0.0164063,7.98818e+08],[0.0169531,8.00573e+08],[0.0175,8.02336e+08],[0.0180469,8.04107e+08],[0.0185938,8.05887e+08],[0.0191406,8.07674e+08],[0.0196875,8.0947e+08],[0.0202344,8.11274e+08],[0.0207813,8.13087e+08],[0.0213281,8.14907e+08],[0.021875,8.16736e+08],[0.0224219,8.18573e+08],[0.0229688,8.20418e+08],[0.0235156,8.22272e+08],[0.0240625,8.24133e+08],[0.0246094,8.26003e+08],[0.0251563,8.27881e+08],[0.0257031,8.29768e+08],[0.02625,8.31662e+08],[0.0267969,8.33565e+08],[0.0273438,8.35476e+08],[0.0278906,8.37395e+08],[0.0284375,8.39323e+08],[0.0289844,8.41258e+08],[0.0295313,8.43202e+08],[0.0300781,8.45154e+08],[0.030625,8.47115e+08],[0.0311719,8.49083e+08],[0.0317188,8.5106e+08],[0.0322656,8.53045e+08],[0.0328125,8.55038e+08],[0.0333594,8.5704e+08],[0.0339063,8.5905e+08],[0.0344531,8.61068e+08],[0.035,8.63094e+08],[0.0355469,8.65128e+08],[0.0360938,8.67171e+08],[0.0366406,8.69222e+08],[0.0371875,8.71281e+08],[0.0377344,8.73348e+08],[0.0382813,8.75423e+08],[0.0388281,8.77507e+08],[0.039375,8.79599e+08],[0.0399219,8.81699e+08],[0.0404688,8.83808e+08],[0.0410156,8.85924e+08],[0.0415625,8.88049e+08],[0.0421094,8.90182e+08],[0.0426563,8.92324e+08],[0.0432031,8.94473e+08],[0.04375,8.96631e+08],[0.0442969,8.98797e+08],[0.0448438,9.00971e+08],[0.0453906,9.03153e+08],[0.0459375,9.05344e+08],[0.0464844,9.07543e+08],[0.0470313,9.0975e+08],[0.0475781,9.11965e+08],[0.048125,9.14189e+08],[0.0486719,9.16421e+08],[0.0492188,9.18661e+08],[0.0497656,9.20909e+08],[0.0503125,9.23165e+08],[0.0508594,9.2543e+08],[0.0514063,9.27703e+08],[0.0519531,9.29984e+08],[0.0525,9.32273e+08],[0.0530469,9.34571e+08],[0.0535938,9.36877e+08],[0.0541406,9.39191e+08],[0.0546875,9.41513e+08],[0.0552344,9.43844e+08],[0.0557813,9.46182e+08],[0.0563281,9.48529e+08],[0.056875,9.50884e+08],[0.0574219,9.53248e+08],[0.0579688,9.55619e+08],[0.0585156,9.57999e+08],[0.0590625,9.60387e+08],[0.0596094,9.62783e+08],[0.0601563,9.65188e+08],[0.0607031,9.67601e+08],[0.06125,9.70021e+08],[0.0617969,9.72451e+08],[0.0623438,9.74888e+08],[0.0628906,9.77334e+08],[0.0634375,9.79787e+08],[0.0639844,9.8225e+08],[0.0645313,9.8472e+08],[0.0650781,9.87198e+08],[0.065625,9.89685e+08],[0.0661719,9.9218e+08],[0.0667188,9.94683e+08],[0.0672656,9.97195e+08],[0.0678125,9.99714e+08],[0.0683594,1.00224e+09],[0.0689063,1.00478e+09],[0.0694531,1.00732e+09],[0.07,1.00988e+09]] color=green fillStyle=solid lineStyle=solid pointStyle=none lineWidth=1]"
      ]
     },
     "execution_count": 23,
     "metadata": {},
     "output_type": "execute_result"
    }
   ],
   "source": [
    "# Gamma = 10.\n",
    "theta1 = ot.Point([r,c,10.])\n",
    "mycf.setParameter(theta1)\n",
    "graph = mycf.draw(0,strain)\n",
    "graph.setLegends([\"Gamma=%.2f\" % theta1[2]])\n",
    "# Gamma = 0.\n",
    "theta2 = ot.Point([r,c,0.])\n",
    "mycf.setParameter(theta2)\n",
    "graph2 = mycf.draw(0,strain)\n",
    "graph2.setColors([\"red\"])\n",
    "graph2.setLegends([\"Gamma=%.2f\" % theta2[2]])\n",
    "graph.add(graph2)\n",
    "# Gamma = -10.\n",
    "theta3 = ot.Point([r,c,-10.])\n",
    "mycf.setParameter(theta3)\n",
    "graph3 = mycf.draw(0,strain)\n",
    "graph3.setColors([\"green\"])\n",
    "graph3.setLegends([\"Gamma=%.2f\" % theta3[2]])\n",
    "graph.add(graph3)\n",
    "#\n",
    "graph.setLegendPosition('topleft')\n",
    "graph"
   ]
  },
  {
   "cell_type": "code",
   "execution_count": null,
   "metadata": {},
   "outputs": [],
   "source": []
  }
 ],
 "metadata": {
  "kernelspec": {
   "display_name": "Python 3",
   "language": "python",
   "name": "python3"
  },
  "language_info": {
   "codemirror_mode": {
    "name": "ipython",
    "version": 3
   },
   "file_extension": ".py",
   "mimetype": "text/x-python",
   "name": "python",
   "nbconvert_exporter": "python",
   "pygments_lexer": "ipython3",
   "version": "3.7.4"
  }
 },
 "nbformat": 4,
 "nbformat_minor": 2
}
